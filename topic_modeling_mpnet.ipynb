{
 "cells": [
  {
   "cell_type": "code",
   "execution_count": 46,
   "metadata": {},
   "outputs": [],
   "source": [
    "import pandas as pd\n",
    "import matplotlib.pyplot as plt\n",
    "import json\n",
    "import time\n",
    "import re\n",
    "from bertopic import BERTopic\n",
    "from wordcloud import WordCloud"
   ]
  },
  {
   "cell_type": "code",
   "execution_count": 47,
   "metadata": {},
   "outputs": [
    {
     "name": "stdout",
     "output_type": "stream",
     "text": [
      "Importing data and building DataFrame:\n",
      "Data load time 0.018008947372436523\n",
      "{'id': 'EJ1292238', 'title': 'What Makes a Good-Quality Language MOOC? An Empirical Study of Criteria to Evaluate the Quality of Online Language Courses from Learners&apos; Perspectives', 'author': 'Luo, Rong, Ye, Zixuan', 'description': \"This paper focuses on quality assurance in language massive open online courses (LMOOCs). It is a qualitative study that adopts the grounded theory method and analyses evaluative comments on the quality of LMOOCs from learners' perspectives. With the data collected from 1,000 evaluations from English as a second language (ESL) learners on China's biggest MOOC platform &quot;iCourse&quot;, this study examines what has influenced learners' perceptions of LMOOCs and identifies the specific quality criteria of five types of them, including ESL courses for speaking, reading, writing, cultural studies, and integrated skills. The results of the study will lay a foundation for the establishment of a quality criteria framework for LMOOCs and provide insights into design principles for effective online language courses tailored to the diverse needs of a massive number of language learners.\", 'subject': 'Foreign Countries, Second Language Learning, English (Second Language), Online Courses, Educational Quality, Quality Assurance, Student Attitudes, Criteria, Curriculum Design', 'source': 'ReCALL', 'publicationdateyear': 2021, 'identifiersgeo': 'China'}\n"
     ]
    }
   ],
   "source": [
    "print(\"Importing data and building DataFrame:\")\n",
    "start_time = time.time()\n",
    "with open('data/combinedData.json', 'r') as f:\n",
    "    data = json.load(f)\n",
    "end_time = time.time()\n",
    "load_time = end_time - start_time\n",
    "print(\"Data load time\", load_time)\n",
    "print(data[0])"
   ]
  },
  {
   "cell_type": "code",
   "execution_count": 48,
   "metadata": {},
   "outputs": [
    {
     "name": "stdout",
     "output_type": "stream",
     "text": [
      "Data loaded, converting to DataFrame\n",
      "Data successfully converted to DataFrame. Conversion time: 0.003999471664428711\n"
     ]
    }
   ],
   "source": [
    "print(\"Data loaded, converting to DataFrame\")\n",
    "start_time = time.time()\n",
    "df = pd.DataFrame(data)\n",
    "end_time = time.time()\n",
    "convert_time = end_time - start_time\n",
    "print(\"Data successfully converted to DataFrame. Conversion time:\", convert_time)"
   ]
  },
  {
   "cell_type": "code",
   "execution_count": 49,
   "metadata": {},
   "outputs": [
    {
     "name": "stderr",
     "output_type": "stream",
     "text": [
      "Batches: 100%|██████████| 63/63 [11:31<00:00, 10.98s/it]\n",
      "2023-05-12 10:52:25,359 - BERTopic - Transformed documents to Embeddings\n",
      "2023-05-12 10:52:31,055 - BERTopic - Reduced dimensionality\n",
      "2023-05-12 10:52:31,129 - BERTopic - Clustered reduced embeddings\n",
      "11it [00:01, 10.95it/s]\n"
     ]
    },
    {
     "data": {
      "text/html": [
       "<div>\n",
       "<style scoped>\n",
       "    .dataframe tbody tr th:only-of-type {\n",
       "        vertical-align: middle;\n",
       "    }\n",
       "\n",
       "    .dataframe tbody tr th {\n",
       "        vertical-align: top;\n",
       "    }\n",
       "\n",
       "    .dataframe thead th {\n",
       "        text-align: right;\n",
       "    }\n",
       "</style>\n",
       "<table border=\"1\" class=\"dataframe\">\n",
       "  <thead>\n",
       "    <tr style=\"text-align: right;\">\n",
       "      <th></th>\n",
       "      <th>Topic</th>\n",
       "      <th>Count</th>\n",
       "      <th>Name</th>\n",
       "    </tr>\n",
       "  </thead>\n",
       "  <tbody>\n",
       "    <tr>\n",
       "      <th>0</th>\n",
       "      <td>-1</td>\n",
       "      <td>514</td>\n",
       "      <td>-1_the_and_of_in</td>\n",
       "    </tr>\n",
       "    <tr>\n",
       "      <th>1</th>\n",
       "      <td>0</td>\n",
       "      <td>183</td>\n",
       "      <td>0_writing_corpus_feedback_the</td>\n",
       "    </tr>\n",
       "    <tr>\n",
       "      <th>2</th>\n",
       "      <td>1</td>\n",
       "      <td>106</td>\n",
       "      <td>1_information_is_systems_and</td>\n",
       "    </tr>\n",
       "    <tr>\n",
       "      <th>3</th>\n",
       "      <td>2</td>\n",
       "      <td>68</td>\n",
       "      <td>2_analytics_data_business_big</td>\n",
       "    </tr>\n",
       "    <tr>\n",
       "      <th>4</th>\n",
       "      <td>3</td>\n",
       "      <td>64</td>\n",
       "      <td>3_intercultural_telecollaboration_telecollabor...</td>\n",
       "    </tr>\n",
       "    <tr>\n",
       "      <th>5</th>\n",
       "      <td>4</td>\n",
       "      <td>62</td>\n",
       "      <td>4_task_scmc_l2_in</td>\n",
       "    </tr>\n",
       "    <tr>\n",
       "      <th>6</th>\n",
       "      <td>5</td>\n",
       "      <td>54</td>\n",
       "      <td>5_the_of_health_in</td>\n",
       "    </tr>\n",
       "    <tr>\n",
       "      <th>7</th>\n",
       "      <td>6</td>\n",
       "      <td>50</td>\n",
       "      <td>6_security_cybersecurity_information_to</td>\n",
       "    </tr>\n",
       "    <tr>\n",
       "      <th>8</th>\n",
       "      <td>7</td>\n",
       "      <td>44</td>\n",
       "      <td>7_mobile_mall_learning_language</td>\n",
       "    </tr>\n",
       "    <tr>\n",
       "      <th>9</th>\n",
       "      <td>8</td>\n",
       "      <td>44</td>\n",
       "      <td>8_teachers_tpack_call_technology</td>\n",
       "    </tr>\n",
       "    <tr>\n",
       "      <th>10</th>\n",
       "      <td>9</td>\n",
       "      <td>40</td>\n",
       "      <td>9_pronunciation_asr_speech_production</td>\n",
       "    </tr>\n",
       "    <tr>\n",
       "      <th>11</th>\n",
       "      <td>10</td>\n",
       "      <td>39</td>\n",
       "      <td>10_database_case_data_sql</td>\n",
       "    </tr>\n",
       "    <tr>\n",
       "      <th>12</th>\n",
       "      <td>11</td>\n",
       "      <td>37</td>\n",
       "      <td>11_game_games_gaming_language</td>\n",
       "    </tr>\n",
       "    <tr>\n",
       "      <th>13</th>\n",
       "      <td>12</td>\n",
       "      <td>36</td>\n",
       "      <td>12_vr_virtual_the_learning</td>\n",
       "    </tr>\n",
       "    <tr>\n",
       "      <th>14</th>\n",
       "      <td>13</td>\n",
       "      <td>36</td>\n",
       "      <td>13_programming_students_introductory_to</td>\n",
       "    </tr>\n",
       "    <tr>\n",
       "      <th>15</th>\n",
       "      <td>14</td>\n",
       "      <td>29</td>\n",
       "      <td>14_reading_comprehension_strategy_strategies</td>\n",
       "    </tr>\n",
       "    <tr>\n",
       "      <th>16</th>\n",
       "      <td>15</td>\n",
       "      <td>27</td>\n",
       "      <td>15_language_online_and_in</td>\n",
       "    </tr>\n",
       "    <tr>\n",
       "      <th>17</th>\n",
       "      <td>16</td>\n",
       "      <td>26</td>\n",
       "      <td>16_call_language_learning_quot</td>\n",
       "    </tr>\n",
       "    <tr>\n",
       "      <th>18</th>\n",
       "      <td>17</td>\n",
       "      <td>26</td>\n",
       "      <td>17_pandemic_covid_online_19</td>\n",
       "    </tr>\n",
       "    <tr>\n",
       "      <th>19</th>\n",
       "      <td>18</td>\n",
       "      <td>26</td>\n",
       "      <td>18_teams_project_projects_team</td>\n",
       "    </tr>\n",
       "    <tr>\n",
       "      <th>20</th>\n",
       "      <td>19</td>\n",
       "      <td>23</td>\n",
       "      <td>19_gamification_game_games_kahoot</td>\n",
       "    </tr>\n",
       "    <tr>\n",
       "      <th>21</th>\n",
       "      <td>20</td>\n",
       "      <td>22</td>\n",
       "      <td>20_storytelling_digital_narrative_stories</td>\n",
       "    </tr>\n",
       "    <tr>\n",
       "      <th>22</th>\n",
       "      <td>21</td>\n",
       "      <td>22</td>\n",
       "      <td>21_social_media_facebook_of</td>\n",
       "    </tr>\n",
       "    <tr>\n",
       "      <th>23</th>\n",
       "      <td>22</td>\n",
       "      <td>21</td>\n",
       "      <td>22_glosses_vocabulary_gloss_glossing</td>\n",
       "    </tr>\n",
       "    <tr>\n",
       "      <th>24</th>\n",
       "      <td>23</td>\n",
       "      <td>21</td>\n",
       "      <td>23_open_km_purpose_is</td>\n",
       "    </tr>\n",
       "    <tr>\n",
       "      <th>25</th>\n",
       "      <td>24</td>\n",
       "      <td>20</td>\n",
       "      <td>24_agile_scrum_project_development</td>\n",
       "    </tr>\n",
       "    <tr>\n",
       "      <th>26</th>\n",
       "      <td>25</td>\n",
       "      <td>19</td>\n",
       "      <td>25_captions_comprehension_captioning_listening</td>\n",
       "    </tr>\n",
       "    <tr>\n",
       "      <th>27</th>\n",
       "      <td>26</td>\n",
       "      <td>19</td>\n",
       "      <td>26_robot_rall_chatbots_chatbot</td>\n",
       "    </tr>\n",
       "    <tr>\n",
       "      <th>28</th>\n",
       "      <td>27</td>\n",
       "      <td>18</td>\n",
       "      <td>27_lmoocs_moocs_massive_online</td>\n",
       "    </tr>\n",
       "    <tr>\n",
       "      <th>29</th>\n",
       "      <td>28</td>\n",
       "      <td>17</td>\n",
       "      <td>28_case_management_it_system</td>\n",
       "    </tr>\n",
       "    <tr>\n",
       "      <th>30</th>\n",
       "      <td>29</td>\n",
       "      <td>17</td>\n",
       "      <td>29_teachers_technology_use_intention</td>\n",
       "    </tr>\n",
       "    <tr>\n",
       "      <th>31</th>\n",
       "      <td>30</td>\n",
       "      <td>17</td>\n",
       "      <td>30_flipped_classroom_in_were</td>\n",
       "    </tr>\n",
       "    <tr>\n",
       "      <th>32</th>\n",
       "      <td>31</td>\n",
       "      <td>17</td>\n",
       "      <td>31_smart_phones_smartphones_devices</td>\n",
       "    </tr>\n",
       "    <tr>\n",
       "      <th>33</th>\n",
       "      <td>32</td>\n",
       "      <td>16</td>\n",
       "      <td>32_cloud_computing_decision_cc</td>\n",
       "    </tr>\n",
       "    <tr>\n",
       "      <th>34</th>\n",
       "      <td>33</td>\n",
       "      <td>16</td>\n",
       "      <td>33_disabilities_systems_hci_with</td>\n",
       "    </tr>\n",
       "    <tr>\n",
       "      <th>35</th>\n",
       "      <td>34</td>\n",
       "      <td>15</td>\n",
       "      <td>34_perceived_textbook_acceptance_technology</td>\n",
       "    </tr>\n",
       "    <tr>\n",
       "      <th>36</th>\n",
       "      <td>35</td>\n",
       "      <td>15</td>\n",
       "      <td>35_vr_virtual_reality_environments</td>\n",
       "    </tr>\n",
       "    <tr>\n",
       "      <th>37</th>\n",
       "      <td>36</td>\n",
       "      <td>15</td>\n",
       "      <td>36_multimodal_interactions_semiotic_online</td>\n",
       "    </tr>\n",
       "    <tr>\n",
       "      <th>38</th>\n",
       "      <td>37</td>\n",
       "      <td>14</td>\n",
       "      <td>37_app_development_mobile_inventor</td>\n",
       "    </tr>\n",
       "    <tr>\n",
       "      <th>39</th>\n",
       "      <td>38</td>\n",
       "      <td>14</td>\n",
       "      <td>38_global_income_quot_globalisation</td>\n",
       "    </tr>\n",
       "    <tr>\n",
       "      <th>40</th>\n",
       "      <td>39</td>\n",
       "      <td>14</td>\n",
       "      <td>39_vocabulary_acquisition_dlls_intervention</td>\n",
       "    </tr>\n",
       "    <tr>\n",
       "      <th>41</th>\n",
       "      <td>40</td>\n",
       "      <td>13</td>\n",
       "      <td>40_listening_test_comprehension_item</td>\n",
       "    </tr>\n",
       "    <tr>\n",
       "      <th>42</th>\n",
       "      <td>41</td>\n",
       "      <td>13</td>\n",
       "      <td>41_strategy_service_business_client</td>\n",
       "    </tr>\n",
       "    <tr>\n",
       "      <th>43</th>\n",
       "      <td>42</td>\n",
       "      <td>13</td>\n",
       "      <td>42_data_sentiment_ai_intelligent</td>\n",
       "    </tr>\n",
       "    <tr>\n",
       "      <th>44</th>\n",
       "      <td>43</td>\n",
       "      <td>13</td>\n",
       "      <td>43_social_participation_sites_online</td>\n",
       "    </tr>\n",
       "    <tr>\n",
       "      <th>45</th>\n",
       "      <td>44</td>\n",
       "      <td>12</td>\n",
       "      <td>44_discussions_online_discussion_student</td>\n",
       "    </tr>\n",
       "    <tr>\n",
       "      <th>46</th>\n",
       "      <td>45</td>\n",
       "      <td>12</td>\n",
       "      <td>45_flipped_classroom_class_lecture</td>\n",
       "    </tr>\n",
       "    <tr>\n",
       "      <th>47</th>\n",
       "      <td>46</td>\n",
       "      <td>12</td>\n",
       "      <td>46_integrity_plagiarism_academic_dishonesty</td>\n",
       "    </tr>\n",
       "    <tr>\n",
       "      <th>48</th>\n",
       "      <td>47</td>\n",
       "      <td>12</td>\n",
       "      <td>47_online_qm_courses_content</td>\n",
       "    </tr>\n",
       "    <tr>\n",
       "      <th>49</th>\n",
       "      <td>48</td>\n",
       "      <td>12</td>\n",
       "      <td>48_privacy_ethics_case_ethical</td>\n",
       "    </tr>\n",
       "    <tr>\n",
       "      <th>50</th>\n",
       "      <td>49</td>\n",
       "      <td>11</td>\n",
       "      <td>49_pragmatics_pragmatic_l1_speakers</td>\n",
       "    </tr>\n",
       "  </tbody>\n",
       "</table>\n",
       "</div>"
      ],
      "text/plain": [
       "    Topic  Count                                               Name\n",
       "0      -1    514                                   -1_the_and_of_in\n",
       "1       0    183                      0_writing_corpus_feedback_the\n",
       "2       1    106                       1_information_is_systems_and\n",
       "3       2     68                      2_analytics_data_business_big\n",
       "4       3     64  3_intercultural_telecollaboration_telecollabor...\n",
       "5       4     62                                  4_task_scmc_l2_in\n",
       "6       5     54                                 5_the_of_health_in\n",
       "7       6     50            6_security_cybersecurity_information_to\n",
       "8       7     44                    7_mobile_mall_learning_language\n",
       "9       8     44                   8_teachers_tpack_call_technology\n",
       "10      9     40              9_pronunciation_asr_speech_production\n",
       "11     10     39                          10_database_case_data_sql\n",
       "12     11     37                      11_game_games_gaming_language\n",
       "13     12     36                         12_vr_virtual_the_learning\n",
       "14     13     36            13_programming_students_introductory_to\n",
       "15     14     29       14_reading_comprehension_strategy_strategies\n",
       "16     15     27                          15_language_online_and_in\n",
       "17     16     26                     16_call_language_learning_quot\n",
       "18     17     26                        17_pandemic_covid_online_19\n",
       "19     18     26                     18_teams_project_projects_team\n",
       "20     19     23                  19_gamification_game_games_kahoot\n",
       "21     20     22          20_storytelling_digital_narrative_stories\n",
       "22     21     22                        21_social_media_facebook_of\n",
       "23     22     21               22_glosses_vocabulary_gloss_glossing\n",
       "24     23     21                              23_open_km_purpose_is\n",
       "25     24     20                 24_agile_scrum_project_development\n",
       "26     25     19     25_captions_comprehension_captioning_listening\n",
       "27     26     19                     26_robot_rall_chatbots_chatbot\n",
       "28     27     18                     27_lmoocs_moocs_massive_online\n",
       "29     28     17                       28_case_management_it_system\n",
       "30     29     17               29_teachers_technology_use_intention\n",
       "31     30     17                       30_flipped_classroom_in_were\n",
       "32     31     17                31_smart_phones_smartphones_devices\n",
       "33     32     16                     32_cloud_computing_decision_cc\n",
       "34     33     16                   33_disabilities_systems_hci_with\n",
       "35     34     15        34_perceived_textbook_acceptance_technology\n",
       "36     35     15                 35_vr_virtual_reality_environments\n",
       "37     36     15         36_multimodal_interactions_semiotic_online\n",
       "38     37     14                 37_app_development_mobile_inventor\n",
       "39     38     14                38_global_income_quot_globalisation\n",
       "40     39     14        39_vocabulary_acquisition_dlls_intervention\n",
       "41     40     13               40_listening_test_comprehension_item\n",
       "42     41     13                41_strategy_service_business_client\n",
       "43     42     13                   42_data_sentiment_ai_intelligent\n",
       "44     43     13               43_social_participation_sites_online\n",
       "45     44     12           44_discussions_online_discussion_student\n",
       "46     45     12                 45_flipped_classroom_class_lecture\n",
       "47     46     12        46_integrity_plagiarism_academic_dishonesty\n",
       "48     47     12                       47_online_qm_courses_content\n",
       "49     48     12                     48_privacy_ethics_case_ethical\n",
       "50     49     11                49_pragmatics_pragmatic_l1_speakers"
      ]
     },
     "execution_count": 49,
     "metadata": {},
     "output_type": "execute_result"
    }
   ],
   "source": [
    "model = BERTopic(verbose=True, embedding_model=\"all-mpnet-base-v2\")\n",
    "#embeddingmodel embedding_model=\"all-MiniLM-L6-v2\" or embedding_mode=\"all-mpnet-base-v2\"\n",
    "docs = df.description.to_list()\n",
    "pub_dates = df.publicationdateyear.to_list()\n",
    "topics, probabilities = model.fit_transform(docs)\n",
    "topics_over_time = model.topics_over_time(docs, pub_dates)\n",
    "model.get_topic_info()"
   ]
  },
  {
   "cell_type": "code",
   "execution_count": 50,
   "metadata": {},
   "outputs": [],
   "source": [
    "def create_wordcloud(model, topic):\n",
    "     text = {word: value for word, value in model.get_topic(topic)}\n",
    "     wc = WordCloud(background_color=\"white\", max_words=1000)\n",
    "     wc.generate_from_frequencies(text)\n",
    "     plt.imshow(wc, interpolation=\"bilinear\")\n",
    "     plt.axis(\"off\")\n",
    "     plt.show()"
   ]
  },
  {
   "cell_type": "code",
   "execution_count": 63,
   "metadata": {},
   "outputs": [
    {
     "data": {
      "image/png": "[encoded data removed]",
      "text/plain": [
       "<Figure size 640x480 with 1 Axes>"
      ]
     },
     "metadata": {},
     "output_type": "display_data"
    }
   ],
   "source": [
    "create_wordcloud(model, topic=17)"
   ]
  },
  {
   "cell_type": "code",
   "execution_count": 52,
   "metadata": {},
   "outputs": [
    {
     "data": {
      "application/vnd.plotly.v1+json": {
       "config": {
        "plotlyServerURL": "https://plot.ly"
       },
       "data": [
        {
         "customdata": [
          [
           0,
           "writing | corpus | feedback | the | of",
           183
          ],
          [
           1,
           "information | is | systems | and | of",
           106
          ],
          [
           2,
           "analytics | data | business | big | to",
           68
          ],
          [
           3,
           "intercultural | telecollaboration | telecollaborative | and | of",
           64
          ],
          [
           4,
           "task | scmc | l2 | in | language",
           62
          ],
          [
           5,
           "the | of | health | in | and",
           54
          ],
          [
           6,
           "security | cybersecurity | information | to | and",
           50
          ],
          [
           7,
           "mobile | mall | learning | language | the",
           44
          ],
          [
           8,
           "teachers | tpack | call | technology | language",
           44
          ],
          [
           9,
           "pronunciation | asr | speech | production | training",
           40
          ],
          [
           10,
           "database | case | data | sql | query",
           39
          ],
          [
           11,
           "game | games | gaming | language | digital",
           37
          ],
          [
           12,
           "vr | virtual | the | learning | 3d",
           36
          ],
          [
           13,
           "programming | students | introductory | to | the",
           36
          ],
          [
           14,
           "reading | comprehension | strategy | strategies | the",
           29
          ],
          [
           15,
           "language | online | and | in | identity",
           27
          ],
          [
           16,
           "call | language | learning | quot | of",
           26
          ],
          [
           17,
           "pandemic | covid | online | 19 | emergency",
           26
          ],
          [
           18,
           "teams | project | projects | team | students",
           26
          ],
          [
           19,
           "gamification | game | games | kahoot | learning",
           23
          ],
          [
           20,
           "storytelling | digital | narrative | stories | fan",
           22
          ],
          [
           21,
           "social | media | facebook | of | use",
           22
          ],
          [
           22,
           "glosses | vocabulary | gloss | glossing | l1",
           21
          ],
          [
           23,
           "open | km | purpose | is | of",
           21
          ],
          [
           24,
           "agile | scrum | project | development | to",
           20
          ],
          [
           25,
           "captions | comprehension | captioning | listening | caption",
           19
          ],
          [
           26,
           "robot | rall | chatbots | chatbot | learners",
           19
          ],
          [
           27,
           "lmoocs | moocs | massive | online | open",
           18
          ],
          [
           28,
           "case | management | it | system | the",
           17
          ],
          [
           29,
           "teachers | technology | use | intention | iwb",
           17
          ],
          [
           30,
           "flipped | classroom | in | were | the",
           17
          ],
          [
           31,
           "smart | phones | smartphones | devices | mobile",
           17
          ],
          [
           32,
           "cloud | computing | decision | cc | aws",
           16
          ],
          [
           33,
           "disabilities | systems | hci | with | web",
           16
          ],
          [
           34,
           "perceived | textbook | acceptance | technology | intention",
           15
          ],
          [
           35,
           "vr | virtual | reality | environments | augmented",
           15
          ],
          [
           36,
           "multimodal | interactions | semiotic | online | videoconferencing",
           15
          ],
          [
           37,
           "app | development | mobile | inventor | programming",
           14
          ],
          [
           38,
           "global | income | quot | globalisation | political",
           14
          ],
          [
           39,
           "vocabulary | acquisition | dlls | intervention | l2",
           14
          ],
          [
           40,
           "listening | test | comprehension | item | metacognitive",
           13
          ],
          [
           41,
           "strategy | service | business | client | challenge",
           13
          ],
          [
           42,
           "data | sentiment | ai | intelligent | algorithms",
           13
          ],
          [
           43,
           "social | participation | sites | online | facebook",
           13
          ],
          [
           44,
           "discussions | online | discussion | student | students",
           12
          ],
          [
           45,
           "flipped | classroom | class | lecture | the",
           12
          ],
          [
           46,
           "integrity | plagiarism | academic | dishonesty | faculty",
           12
          ],
          [
           47,
           "online | qm | courses | content | learning",
           12
          ],
          [
           48,
           "privacy | ethics | case | ethical | issues",
           12
          ],
          [
           49,
           "pragmatics | pragmatic | l1 | speakers | modifiers",
           11
          ]
         ],
         "hovertemplate": "<b>Topic %{customdata[0]}</b><br>%{customdata[1]}<br>Size: %{customdata[2]}",
         "legendgroup": "",
         "marker": {
          "color": "#B0BEC5",
          "line": {
           "color": "DarkSlateGrey",
           "width": 2
          },
          "size": [
           183,
           106,
           68,
           64,
           62,
           54,
           50,
           44,
           44,
           40,
           39,
           37,
           36,
           36,
           29,
           27,
           26,
           26,
           26,
           23,
           22,
           22,
           21,
           21,
           20,
           19,
           19,
           18,
           17,
           17,
           17,
           17,
           16,
           16,
           15,
           15,
           15,
           14,
           14,
           14,
           13,
           13,
           13,
           13,
           12,
           12,
           12,
           12,
           12,
           11
          ],
          "sizemode": "area",
          "sizeref": 0.114375,
          "symbol": "circle"
         },
         "mode": "markers",
         "name": "",
         "orientation": "v",
         "showlegend": false,
         "type": "scatter",
         "x": [
          -1.8248342275619507,
          14.519330978393555,
          13.993683815002441,
          4.637219429016113,
          -1.473198413848877,
          14.599130630493164,
          14.501396179199219,
          1.7520593404769897,
          3.885561227798462,
          -0.7519508600234985,
          14.086076736450195,
          1.9743313789367676,
          2.042311668395996,
          8.244844436645508,
          0.14072087407112122,
          4.77598762512207,
          3.9214630126953125,
          8.442903518676758,
          8.802388191223145,
          2.2803008556365967,
          1.7247605323791504,
          3.08035945892334,
          17.53769302368164,
          2.389233350753784,
          9.521339416503906,
          17.537681579589844,
          -0.8572093844413757,
          2.384244918823242,
          14.661866188049316,
          12.898350715637207,
          0.26519787311553955,
          4.125430107116699,
          14.073567390441895,
          9.668527603149414,
          12.897924423217773,
          8.664657592773438,
          2.1515018939971924,
          8.828215599060059,
          2.522141218185425,
          0.10574284940958023,
          -1.158488392829895,
          8.64059829711914,
          8.06104564666748,
          3.08040189743042,
          8.947526931762695,
          0.39224836230278015,
          9.438581466674805,
          9.575068473815918,
          14.320084571838379,
          -1.5523446798324585
         ],
         "xaxis": "x",
         "y": [
          9.240306854248047,
          -1.9872424602508545,
          -2.55741548538208,
          11.090652465820312,
          9.075384140014648,
          -1.9227104187011719,
          -1.4534554481506348,
          9.908219337463379,
          10.825993537902832,
          9.309813499450684,
          -2.469796895980835,
          10.447383880615234,
          11.035429954528809,
          -4.185794830322266,
          9.472627639770508,
          11.175857543945312,
          10.90202808380127,
          -3.758938789367676,
          -3.8889009952545166,
          10.114400863647461,
          10.145365715026855,
          -2.461287498474121,
          8.36208724975586,
          9.568102836608887,
          -4.6775383949279785,
          8.362091064453125,
          9.429795265197754,
          10.18660831451416,
          -1.1887677907943726,
          10.009263038635254,
          9.228264808654785,
          11.004947662353516,
          -2.4800028800964355,
          -4.904651641845703,
          10.009378433227539,
          -3.47872257232666,
          11.178199768066406,
          -3.862964630126953,
          9.523916244506836,
          9.512065887451172,
          9.244548797607422,
          -4.108325958251953,
          -4.340841293334961,
          -2.4612925052642822,
          -4.007448673248291,
          9.058817863464355,
          -4.76745080947876,
          -4.822243690490723,
          -1.3608014583587646,
          8.954692840576172
         ],
         "yaxis": "y"
        }
       ],
       "layout": {
        "annotations": [
         {
          "showarrow": false,
          "text": "D1",
          "x": -2.0985593616962435,
          "y": 3.6072901725769047,
          "yshift": 10
         },
         {
          "showarrow": false,
          "text": "D2",
          "x": 9.034893807768823,
          "xshift": 10,
          "y": 12.854929733276368
         }
        ],
        "height": 650,
        "hoverlabel": {
         "bgcolor": "white",
         "font": {
          "family": "Rockwell",
          "size": 16
         }
        },
        "legend": {
         "itemsizing": "constant",
         "tracegroupgap": 0
        },
        "margin": {
         "t": 60
        },
        "shapes": [
         {
          "line": {
           "color": "#CFD8DC",
           "width": 2
          },
          "type": "line",
          "x0": 9.034893807768823,
          "x1": 9.034893807768823,
          "y0": -5.640349388122559,
          "y1": 12.854929733276368
         },
         {
          "line": {
           "color": "#9E9E9E",
           "width": 2
          },
          "type": "line",
          "x0": -2.0985593616962435,
          "x1": 20.168346977233888,
          "y0": 3.6072901725769047,
          "y1": 3.6072901725769047
         }
        ],
        "sliders": [
         {
          "active": 0,
          "pad": {
           "t": 50
          },
          "steps": [
           {
            "args": [
             {
              "marker.color": [
               [
                "red",
                "#B0BEC5",
                "#B0BEC5",
                "#B0BEC5",
                "#B0BEC5",
                "#B0BEC5",
                "#B0BEC5",
                "#B0BEC5",
                "#B0BEC5",
                "#B0BEC5",
                "#B0BEC5",
                "#B0BEC5",
                "#B0BEC5",
                "#B0BEC5",
                "#B0BEC5",
                "#B0BEC5",
                "#B0BEC5",
                "#B0BEC5",
                "#B0BEC5",
                "#B0BEC5",
                "#B0BEC5",
                "#B0BEC5",
                "#B0BEC5",
                "#B0BEC5",
                "#B0BEC5",
                "#B0BEC5",
                "#B0BEC5",
                "#B0BEC5",
                "#B0BEC5",
                "#B0BEC5",
                "#B0BEC5",
                "#B0BEC5",
                "#B0BEC5",
                "#B0BEC5",
                "#B0BEC5",
                "#B0BEC5",
                "#B0BEC5",
                "#B0BEC5",
                "#B0BEC5",
                "#B0BEC5",
                "#B0BEC5",
                "#B0BEC5",
                "#B0BEC5",
                "#B0BEC5",
                "#B0BEC5",
                "#B0BEC5",
                "#B0BEC5",
                "#B0BEC5",
                "#B0BEC5",
                "#B0BEC5"
               ]
              ]
             }
            ],
            "label": "Topic 0",
            "method": "update"
           },
           {
            "args": [
             {
              "marker.color": [
               [
                "#B0BEC5",
                "red",
                "#B0BEC5",
                "#B0BEC5",
                "#B0BEC5",
                "#B0BEC5",
                "#B0BEC5",
                "#B0BEC5",
                "#B0BEC5",
                "#B0BEC5",
                "#B0BEC5",
                "#B0BEC5",
                "#B0BEC5",
                "#B0BEC5",
                "#B0BEC5",
                "#B0BEC5",
                "#B0BEC5",
                "#B0BEC5",
                "#B0BEC5",
                "#B0BEC5",
                "#B0BEC5",
                "#B0BEC5",
                "#B0BEC5",
                "#B0BEC5",
                "#B0BEC5",
                "#B0BEC5",
                "#B0BEC5",
                "#B0BEC5",
                "#B0BEC5",
                "#B0BEC5",
                "#B0BEC5",
                "#B0BEC5",
                "#B0BEC5",
                "#B0BEC5",
                "#B0BEC5",
                "#B0BEC5",
                "#B0BEC5",
                "#B0BEC5",
                "#B0BEC5",
                "#B0BEC5",
                "#B0BEC5",
                "#B0BEC5",
                "#B0BEC5",
                "#B0BEC5",
                "#B0BEC5",
                "#B0BEC5",
                "#B0BEC5",
                "#B0BEC5",
                "#B0BEC5",
                "#B0BEC5"
               ]
              ]
             }
            ],
            "label": "Topic 1",
            "method": "update"
           },
           {
            "args": [
             {
              "marker.color": [
               [
                "#B0BEC5",
                "#B0BEC5",
                "red",
                "#B0BEC5",
                "#B0BEC5",
                "#B0BEC5",
                "#B0BEC5",
                "#B0BEC5",
                "#B0BEC5",
                "#B0BEC5",
                "#B0BEC5",
                "#B0BEC5",
                "#B0BEC5",
                "#B0BEC5",
                "#B0BEC5",
                "#B0BEC5",
                "#B0BEC5",
                "#B0BEC5",
                "#B0BEC5",
                "#B0BEC5",
                "#B0BEC5",
                "#B0BEC5",
                "#B0BEC5",
                "#B0BEC5",
                "#B0BEC5",
                "#B0BEC5",
                "#B0BEC5",
                "#B0BEC5",
                "#B0BEC5",
                "#B0BEC5",
                "#B0BEC5",
                "#B0BEC5",
                "#B0BEC5",
                "#B0BEC5",
                "#B0BEC5",
                "#B0BEC5",
                "#B0BEC5",
                "#B0BEC5",
                "#B0BEC5",
                "#B0BEC5",
                "#B0BEC5",
                "#B0BEC5",
                "#B0BEC5",
                "#B0BEC5",
                "#B0BEC5",
                "#B0BEC5",
                "#B0BEC5",
                "#B0BEC5",
                "#B0BEC5",
                "#B0BEC5"
               ]
              ]
             }
            ],
            "label": "Topic 2",
            "method": "update"
           },
           {
            "args": [
             {
              "marker.color": [
               [
                "#B0BEC5",
                "#B0BEC5",
                "#B0BEC5",
                "red",
                "#B0BEC5",
                "#B0BEC5",
                "#B0BEC5",
                "#B0BEC5",
                "#B0BEC5",
                "#B0BEC5",
                "#B0BEC5",
                "#B0BEC5",
                "#B0BEC5",
                "#B0BEC5",
                "#B0BEC5",
                "#B0BEC5",
                "#B0BEC5",
                "#B0BEC5",
                "#B0BEC5",
                "#B0BEC5",
                "#B0BEC5",
                "#B0BEC5",
                "#B0BEC5",
                "#B0BEC5",
                "#B0BEC5",
                "#B0BEC5",
                "#B0BEC5",
                "#B0BEC5",
                "#B0BEC5",
                "#B0BEC5",
                "#B0BEC5",
                "#B0BEC5",
                "#B0BEC5",
                "#B0BEC5",
                "#B0BEC5",
                "#B0BEC5",
                "#B0BEC5",
                "#B0BEC5",
                "#B0BEC5",
                "#B0BEC5",
                "#B0BEC5",
                "#B0BEC5",
                "#B0BEC5",
                "#B0BEC5",
                "#B0BEC5",
                "#B0BEC5",
                "#B0BEC5",
                "#B0BEC5",
                "#B0BEC5",
                "#B0BEC5"
               ]
              ]
             }
            ],
            "label": "Topic 3",
            "method": "update"
           },
           {
            "args": [
             {
              "marker.color": [
               [
                "#B0BEC5",
                "#B0BEC5",
                "#B0BEC5",
                "#B0BEC5",
                "red",
                "#B0BEC5",
                "#B0BEC5",
                "#B0BEC5",
                "#B0BEC5",
                "#B0BEC5",
                "#B0BEC5",
                "#B0BEC5",
                "#B0BEC5",
                "#B0BEC5",
                "#B0BEC5",
                "#B0BEC5",
                "#B0BEC5",
                "#B0BEC5",
                "#B0BEC5",
                "#B0BEC5",
                "#B0BEC5",
                "#B0BEC5",
                "#B0BEC5",
                "#B0BEC5",
                "#B0BEC5",
                "#B0BEC5",
                "#B0BEC5",
                "#B0BEC5",
                "#B0BEC5",
                "#B0BEC5",
                "#B0BEC5",
                "#B0BEC5",
                "#B0BEC5",
                "#B0BEC5",
                "#B0BEC5",
                "#B0BEC5",
                "#B0BEC5",
                "#B0BEC5",
                "#B0BEC5",
                "#B0BEC5",
                "#B0BEC5",
                "#B0BEC5",
                "#B0BEC5",
                "#B0BEC5",
                "#B0BEC5",
                "#B0BEC5",
                "#B0BEC5",
                "#B0BEC5",
                "#B0BEC5",
                "#B0BEC5"
               ]
              ]
             }
            ],
            "label": "Topic 4",
            "method": "update"
           },
           {
            "args": [
             {
              "marker.color": [
               [
                "#B0BEC5",
                "#B0BEC5",
                "#B0BEC5",
                "#B0BEC5",
                "#B0BEC5",
                "red",
                "#B0BEC5",
                "#B0BEC5",
                "#B0BEC5",
                "#B0BEC5",
                "#B0BEC5",
                "#B0BEC5",
                "#B0BEC5",
                "#B0BEC5",
                "#B0BEC5",
                "#B0BEC5",
                "#B0BEC5",
                "#B0BEC5",
                "#B0BEC5",
                "#B0BEC5",
                "#B0BEC5",
                "#B0BEC5",
                "#B0BEC5",
                "#B0BEC5",
                "#B0BEC5",
                "#B0BEC5",
                "#B0BEC5",
                "#B0BEC5",
                "#B0BEC5",
                "#B0BEC5",
                "#B0BEC5",
                "#B0BEC5",
                "#B0BEC5",
                "#B0BEC5",
                "#B0BEC5",
                "#B0BEC5",
                "#B0BEC5",
                "#B0BEC5",
                "#B0BEC5",
                "#B0BEC5",
                "#B0BEC5",
                "#B0BEC5",
                "#B0BEC5",
                "#B0BEC5",
                "#B0BEC5",
                "#B0BEC5",
                "#B0BEC5",
                "#B0BEC5",
                "#B0BEC5",
                "#B0BEC5"
               ]
              ]
             }
            ],
            "label": "Topic 5",
            "method": "update"
           },
           {
            "args": [
             {
              "marker.color": [
               [
                "#B0BEC5",
                "#B0BEC5",
                "#B0BEC5",
                "#B0BEC5",
                "#B0BEC5",
                "#B0BEC5",
                "red",
                "#B0BEC5",
                "#B0BEC5",
                "#B0BEC5",
                "#B0BEC5",
                "#B0BEC5",
                "#B0BEC5",
                "#B0BEC5",
                "#B0BEC5",
                "#B0BEC5",
                "#B0BEC5",
                "#B0BEC5",
                "#B0BEC5",
                "#B0BEC5",
                "#B0BEC5",
                "#B0BEC5",
                "#B0BEC5",
                "#B0BEC5",
                "#B0BEC5",
                "#B0BEC5",
                "#B0BEC5",
                "#B0BEC5",
                "#B0BEC5",
                "#B0BEC5",
                "#B0BEC5",
                "#B0BEC5",
                "#B0BEC5",
                "#B0BEC5",
                "#B0BEC5",
                "#B0BEC5",
                "#B0BEC5",
                "#B0BEC5",
                "#B0BEC5",
                "#B0BEC5",
                "#B0BEC5",
                "#B0BEC5",
                "#B0BEC5",
                "#B0BEC5",
                "#B0BEC5",
                "#B0BEC5",
                "#B0BEC5",
                "#B0BEC5",
                "#B0BEC5",
                "#B0BEC5"
               ]
              ]
             }
            ],
            "label": "Topic 6",
            "method": "update"
           },
           {
            "args": [
             {
              "marker.color": [
               [
                "#B0BEC5",
                "#B0BEC5",
                "#B0BEC5",
                "#B0BEC5",
                "#B0BEC5",
                "#B0BEC5",
                "#B0BEC5",
                "red",
                "#B0BEC5",
                "#B0BEC5",
                "#B0BEC5",
                "#B0BEC5",
                "#B0BEC5",
                "#B0BEC5",
                "#B0BEC5",
                "#B0BEC5",
                "#B0BEC5",
                "#B0BEC5",
                "#B0BEC5",
                "#B0BEC5",
                "#B0BEC5",
                "#B0BEC5",
                "#B0BEC5",
                "#B0BEC5",
                "#B0BEC5",
                "#B0BEC5",
                "#B0BEC5",
                "#B0BEC5",
                "#B0BEC5",
                "#B0BEC5",
                "#B0BEC5",
                "#B0BEC5",
                "#B0BEC5",
                "#B0BEC5",
                "#B0BEC5",
                "#B0BEC5",
                "#B0BEC5",
                "#B0BEC5",
                "#B0BEC5",
                "#B0BEC5",
                "#B0BEC5",
                "#B0BEC5",
                "#B0BEC5",
                "#B0BEC5",
                "#B0BEC5",
                "#B0BEC5",
                "#B0BEC5",
                "#B0BEC5",
                "#B0BEC5",
                "#B0BEC5"
               ]
              ]
             }
            ],
            "label": "Topic 7",
            "method": "update"
           },
           {
            "args": [
             {
              "marker.color": [
               [
                "#B0BEC5",
                "#B0BEC5",
                "#B0BEC5",
                "#B0BEC5",
                "#B0BEC5",
                "#B0BEC5",
                "#B0BEC5",
                "#B0BEC5",
                "red",
                "#B0BEC5",
                "#B0BEC5",
                "#B0BEC5",
                "#B0BEC5",
                "#B0BEC5",
                "#B0BEC5",
                "#B0BEC5",
                "#B0BEC5",
                "#B0BEC5",
                "#B0BEC5",
                "#B0BEC5",
                "#B0BEC5",
                "#B0BEC5",
                "#B0BEC5",
                "#B0BEC5",
                "#B0BEC5",
                "#B0BEC5",
                "#B0BEC5",
                "#B0BEC5",
                "#B0BEC5",
                "#B0BEC5",
                "#B0BEC5",
                "#B0BEC5",
                "#B0BEC5",
                "#B0BEC5",
                "#B0BEC5",
                "#B0BEC5",
                "#B0BEC5",
                "#B0BEC5",
                "#B0BEC5",
                "#B0BEC5",
                "#B0BEC5",
                "#B0BEC5",
                "#B0BEC5",
                "#B0BEC5",
                "#B0BEC5",
                "#B0BEC5",
                "#B0BEC5",
                "#B0BEC5",
                "#B0BEC5",
                "#B0BEC5"
               ]
              ]
             }
            ],
            "label": "Topic 8",
            "method": "update"
           },
           {
            "args": [
             {
              "marker.color": [
               [
                "#B0BEC5",
                "#B0BEC5",
                "#B0BEC5",
                "#B0BEC5",
                "#B0BEC5",
                "#B0BEC5",
                "#B0BEC5",
                "#B0BEC5",
                "#B0BEC5",
                "red",
                "#B0BEC5",
                "#B0BEC5",
                "#B0BEC5",
                "#B0BEC5",
                "#B0BEC5",
                "#B0BEC5",
                "#B0BEC5",
                "#B0BEC5",
                "#B0BEC5",
                "#B0BEC5",
                "#B0BEC5",
                "#B0BEC5",
                "#B0BEC5",
                "#B0BEC5",
                "#B0BEC5",
                "#B0BEC5",
                "#B0BEC5",
                "#B0BEC5",
                "#B0BEC5",
                "#B0BEC5",
                "#B0BEC5",
                "#B0BEC5",
                "#B0BEC5",
                "#B0BEC5",
                "#B0BEC5",
                "#B0BEC5",
                "#B0BEC5",
                "#B0BEC5",
                "#B0BEC5",
                "#B0BEC5",
                "#B0BEC5",
                "#B0BEC5",
                "#B0BEC5",
                "#B0BEC5",
                "#B0BEC5",
                "#B0BEC5",
                "#B0BEC5",
                "#B0BEC5",
                "#B0BEC5",
                "#B0BEC5"
               ]
              ]
             }
            ],
            "label": "Topic 9",
            "method": "update"
           },
           {
            "args": [
             {
              "marker.color": [
               [
                "#B0BEC5",
                "#B0BEC5",
                "#B0BEC5",
                "#B0BEC5",
                "#B0BEC5",
                "#B0BEC5",
                "#B0BEC5",
                "#B0BEC5",
                "#B0BEC5",
                "#B0BEC5",
                "red",
                "#B0BEC5",
                "#B0BEC5",
                "#B0BEC5",
                "#B0BEC5",
                "#B0BEC5",
                "#B0BEC5",
                "#B0BEC5",
                "#B0BEC5",
                "#B0BEC5",
                "#B0BEC5",
                "#B0BEC5",
                "#B0BEC5",
                "#B0BEC5",
                "#B0BEC5",
                "#B0BEC5",
                "#B0BEC5",
                "#B0BEC5",
                "#B0BEC5",
                "#B0BEC5",
                "#B0BEC5",
                "#B0BEC5",
                "#B0BEC5",
                "#B0BEC5",
                "#B0BEC5",
                "#B0BEC5",
                "#B0BEC5",
                "#B0BEC5",
                "#B0BEC5",
                "#B0BEC5",
                "#B0BEC5",
                "#B0BEC5",
                "#B0BEC5",
                "#B0BEC5",
                "#B0BEC5",
                "#B0BEC5",
                "#B0BEC5",
                "#B0BEC5",
                "#B0BEC5",
                "#B0BEC5"
               ]
              ]
             }
            ],
            "label": "Topic 10",
            "method": "update"
           },
           {
            "args": [
             {
              "marker.color": [
               [
                "#B0BEC5",
                "#B0BEC5",
                "#B0BEC5",
                "#B0BEC5",
                "#B0BEC5",
                "#B0BEC5",
                "#B0BEC5",
                "#B0BEC5",
                "#B0BEC5",
                "#B0BEC5",
                "#B0BEC5",
                "red",
                "#B0BEC5",
                "#B0BEC5",
                "#B0BEC5",
                "#B0BEC5",
                "#B0BEC5",
                "#B0BEC5",
                "#B0BEC5",
                "#B0BEC5",
                "#B0BEC5",
                "#B0BEC5",
                "#B0BEC5",
                "#B0BEC5",
                "#B0BEC5",
                "#B0BEC5",
                "#B0BEC5",
                "#B0BEC5",
                "#B0BEC5",
                "#B0BEC5",
                "#B0BEC5",
                "#B0BEC5",
                "#B0BEC5",
                "#B0BEC5",
                "#B0BEC5",
                "#B0BEC5",
                "#B0BEC5",
                "#B0BEC5",
                "#B0BEC5",
                "#B0BEC5",
                "#B0BEC5",
                "#B0BEC5",
                "#B0BEC5",
                "#B0BEC5",
                "#B0BEC5",
                "#B0BEC5",
                "#B0BEC5",
                "#B0BEC5",
                "#B0BEC5",
                "#B0BEC5"
               ]
              ]
             }
            ],
            "label": "Topic 11",
            "method": "update"
           },
           {
            "args": [
             {
              "marker.color": [
               [
                "#B0BEC5",
                "#B0BEC5",
                "#B0BEC5",
                "#B0BEC5",
                "#B0BEC5",
                "#B0BEC5",
                "#B0BEC5",
                "#B0BEC5",
                "#B0BEC5",
                "#B0BEC5",
                "#B0BEC5",
                "#B0BEC5",
                "red",
                "#B0BEC5",
                "#B0BEC5",
                "#B0BEC5",
                "#B0BEC5",
                "#B0BEC5",
                "#B0BEC5",
                "#B0BEC5",
                "#B0BEC5",
                "#B0BEC5",
                "#B0BEC5",
                "#B0BEC5",
                "#B0BEC5",
                "#B0BEC5",
                "#B0BEC5",
                "#B0BEC5",
                "#B0BEC5",
                "#B0BEC5",
                "#B0BEC5",
                "#B0BEC5",
                "#B0BEC5",
                "#B0BEC5",
                "#B0BEC5",
                "#B0BEC5",
                "#B0BEC5",
                "#B0BEC5",
                "#B0BEC5",
                "#B0BEC5",
                "#B0BEC5",
                "#B0BEC5",
                "#B0BEC5",
                "#B0BEC5",
                "#B0BEC5",
                "#B0BEC5",
                "#B0BEC5",
                "#B0BEC5",
                "#B0BEC5",
                "#B0BEC5"
               ]
              ]
             }
            ],
            "label": "Topic 12",
            "method": "update"
           },
           {
            "args": [
             {
              "marker.color": [
               [
                "#B0BEC5",
                "#B0BEC5",
                "#B0BEC5",
                "#B0BEC5",
                "#B0BEC5",
                "#B0BEC5",
                "#B0BEC5",
                "#B0BEC5",
                "#B0BEC5",
                "#B0BEC5",
                "#B0BEC5",
                "#B0BEC5",
                "#B0BEC5",
                "red",
                "#B0BEC5",
                "#B0BEC5",
                "#B0BEC5",
                "#B0BEC5",
                "#B0BEC5",
                "#B0BEC5",
                "#B0BEC5",
                "#B0BEC5",
                "#B0BEC5",
                "#B0BEC5",
                "#B0BEC5",
                "#B0BEC5",
                "#B0BEC5",
                "#B0BEC5",
                "#B0BEC5",
                "#B0BEC5",
                "#B0BEC5",
                "#B0BEC5",
                "#B0BEC5",
                "#B0BEC5",
                "#B0BEC5",
                "#B0BEC5",
                "#B0BEC5",
                "#B0BEC5",
                "#B0BEC5",
                "#B0BEC5",
                "#B0BEC5",
                "#B0BEC5",
                "#B0BEC5",
                "#B0BEC5",
                "#B0BEC5",
                "#B0BEC5",
                "#B0BEC5",
                "#B0BEC5",
                "#B0BEC5",
                "#B0BEC5"
               ]
              ]
             }
            ],
            "label": "Topic 13",
            "method": "update"
           },
           {
            "args": [
             {
              "marker.color": [
               [
                "#B0BEC5",
                "#B0BEC5",
                "#B0BEC5",
                "#B0BEC5",
                "#B0BEC5",
                "#B0BEC5",
                "#B0BEC5",
                "#B0BEC5",
                "#B0BEC5",
                "#B0BEC5",
                "#B0BEC5",
                "#B0BEC5",
                "#B0BEC5",
                "#B0BEC5",
                "red",
                "#B0BEC5",
                "#B0BEC5",
                "#B0BEC5",
                "#B0BEC5",
                "#B0BEC5",
                "#B0BEC5",
                "#B0BEC5",
                "#B0BEC5",
                "#B0BEC5",
                "#B0BEC5",
                "#B0BEC5",
                "#B0BEC5",
                "#B0BEC5",
                "#B0BEC5",
                "#B0BEC5",
                "#B0BEC5",
                "#B0BEC5",
                "#B0BEC5",
                "#B0BEC5",
                "#B0BEC5",
                "#B0BEC5",
                "#B0BEC5",
                "#B0BEC5",
                "#B0BEC5",
                "#B0BEC5",
                "#B0BEC5",
                "#B0BEC5",
                "#B0BEC5",
                "#B0BEC5",
                "#B0BEC5",
                "#B0BEC5",
                "#B0BEC5",
                "#B0BEC5",
                "#B0BEC5",
                "#B0BEC5"
               ]
              ]
             }
            ],
            "label": "Topic 14",
            "method": "update"
           },
           {
            "args": [
             {
              "marker.color": [
               [
                "#B0BEC5",
                "#B0BEC5",
                "#B0BEC5",
                "#B0BEC5",
                "#B0BEC5",
                "#B0BEC5",
                "#B0BEC5",
                "#B0BEC5",
                "#B0BEC5",
                "#B0BEC5",
                "#B0BEC5",
                "#B0BEC5",
                "#B0BEC5",
                "#B0BEC5",
                "#B0BEC5",
                "red",
                "#B0BEC5",
                "#B0BEC5",
                "#B0BEC5",
                "#B0BEC5",
                "#B0BEC5",
                "#B0BEC5",
                "#B0BEC5",
                "#B0BEC5",
                "#B0BEC5",
                "#B0BEC5",
                "#B0BEC5",
                "#B0BEC5",
                "#B0BEC5",
                "#B0BEC5",
                "#B0BEC5",
                "#B0BEC5",
                "#B0BEC5",
                "#B0BEC5",
                "#B0BEC5",
                "#B0BEC5",
                "#B0BEC5",
                "#B0BEC5",
                "#B0BEC5",
                "#B0BEC5",
                "#B0BEC5",
                "#B0BEC5",
                "#B0BEC5",
                "#B0BEC5",
                "#B0BEC5",
                "#B0BEC5",
                "#B0BEC5",
                "#B0BEC5",
                "#B0BEC5",
                "#B0BEC5"
               ]
              ]
             }
            ],
            "label": "Topic 15",
            "method": "update"
           },
           {
            "args": [
             {
              "marker.color": [
               [
                "#B0BEC5",
                "#B0BEC5",
                "#B0BEC5",
                "#B0BEC5",
                "#B0BEC5",
                "#B0BEC5",
                "#B0BEC5",
                "#B0BEC5",
                "#B0BEC5",
                "#B0BEC5",
                "#B0BEC5",
                "#B0BEC5",
                "#B0BEC5",
                "#B0BEC5",
                "#B0BEC5",
                "#B0BEC5",
                "red",
                "#B0BEC5",
                "#B0BEC5",
                "#B0BEC5",
                "#B0BEC5",
                "#B0BEC5",
                "#B0BEC5",
                "#B0BEC5",
                "#B0BEC5",
                "#B0BEC5",
                "#B0BEC5",
                "#B0BEC5",
                "#B0BEC5",
                "#B0BEC5",
                "#B0BEC5",
                "#B0BEC5",
                "#B0BEC5",
                "#B0BEC5",
                "#B0BEC5",
                "#B0BEC5",
                "#B0BEC5",
                "#B0BEC5",
                "#B0BEC5",
                "#B0BEC5",
                "#B0BEC5",
                "#B0BEC5",
                "#B0BEC5",
                "#B0BEC5",
                "#B0BEC5",
                "#B0BEC5",
                "#B0BEC5",
                "#B0BEC5",
                "#B0BEC5",
                "#B0BEC5"
               ]
              ]
             }
            ],
            "label": "Topic 16",
            "method": "update"
           },
           {
            "args": [
             {
              "marker.color": [
               [
                "#B0BEC5",
                "#B0BEC5",
                "#B0BEC5",
                "#B0BEC5",
                "#B0BEC5",
                "#B0BEC5",
                "#B0BEC5",
                "#B0BEC5",
                "#B0BEC5",
                "#B0BEC5",
                "#B0BEC5",
                "#B0BEC5",
                "#B0BEC5",
                "#B0BEC5",
                "#B0BEC5",
                "#B0BEC5",
                "#B0BEC5",
                "red",
                "#B0BEC5",
                "#B0BEC5",
                "#B0BEC5",
                "#B0BEC5",
                "#B0BEC5",
                "#B0BEC5",
                "#B0BEC5",
                "#B0BEC5",
                "#B0BEC5",
                "#B0BEC5",
                "#B0BEC5",
                "#B0BEC5",
                "#B0BEC5",
                "#B0BEC5",
                "#B0BEC5",
                "#B0BEC5",
                "#B0BEC5",
                "#B0BEC5",
                "#B0BEC5",
                "#B0BEC5",
                "#B0BEC5",
                "#B0BEC5",
                "#B0BEC5",
                "#B0BEC5",
                "#B0BEC5",
                "#B0BEC5",
                "#B0BEC5",
                "#B0BEC5",
                "#B0BEC5",
                "#B0BEC5",
                "#B0BEC5",
                "#B0BEC5"
               ]
              ]
             }
            ],
            "label": "Topic 17",
            "method": "update"
           },
           {
            "args": [
             {
              "marker.color": [
               [
                "#B0BEC5",
                "#B0BEC5",
                "#B0BEC5",
                "#B0BEC5",
                "#B0BEC5",
                "#B0BEC5",
                "#B0BEC5",
                "#B0BEC5",
                "#B0BEC5",
                "#B0BEC5",
                "#B0BEC5",
                "#B0BEC5",
                "#B0BEC5",
                "#B0BEC5",
                "#B0BEC5",
                "#B0BEC5",
                "#B0BEC5",
                "#B0BEC5",
                "red",
                "#B0BEC5",
                "#B0BEC5",
                "#B0BEC5",
                "#B0BEC5",
                "#B0BEC5",
                "#B0BEC5",
                "#B0BEC5",
                "#B0BEC5",
                "#B0BEC5",
                "#B0BEC5",
                "#B0BEC5",
                "#B0BEC5",
                "#B0BEC5",
                "#B0BEC5",
                "#B0BEC5",
                "#B0BEC5",
                "#B0BEC5",
                "#B0BEC5",
                "#B0BEC5",
                "#B0BEC5",
                "#B0BEC5",
                "#B0BEC5",
                "#B0BEC5",
                "#B0BEC5",
                "#B0BEC5",
                "#B0BEC5",
                "#B0BEC5",
                "#B0BEC5",
                "#B0BEC5",
                "#B0BEC5",
                "#B0BEC5"
               ]
              ]
             }
            ],
            "label": "Topic 18",
            "method": "update"
           },
           {
            "args": [
             {
              "marker.color": [
               [
                "#B0BEC5",
                "#B0BEC5",
                "#B0BEC5",
                "#B0BEC5",
                "#B0BEC5",
                "#B0BEC5",
                "#B0BEC5",
                "#B0BEC5",
                "#B0BEC5",
                "#B0BEC5",
                "#B0BEC5",
                "#B0BEC5",
                "#B0BEC5",
                "#B0BEC5",
                "#B0BEC5",
                "#B0BEC5",
                "#B0BEC5",
                "#B0BEC5",
                "#B0BEC5",
                "red",
                "#B0BEC5",
                "#B0BEC5",
                "#B0BEC5",
                "#B0BEC5",
                "#B0BEC5",
                "#B0BEC5",
                "#B0BEC5",
                "#B0BEC5",
                "#B0BEC5",
                "#B0BEC5",
                "#B0BEC5",
                "#B0BEC5",
                "#B0BEC5",
                "#B0BEC5",
                "#B0BEC5",
                "#B0BEC5",
                "#B0BEC5",
                "#B0BEC5",
                "#B0BEC5",
                "#B0BEC5",
                "#B0BEC5",
                "#B0BEC5",
                "#B0BEC5",
                "#B0BEC5",
                "#B0BEC5",
                "#B0BEC5",
                "#B0BEC5",
                "#B0BEC5",
                "#B0BEC5",
                "#B0BEC5"
               ]
              ]
             }
            ],
            "label": "Topic 19",
            "method": "update"
           },
           {
            "args": [
             {
              "marker.color": [
               [
                "#B0BEC5",
                "#B0BEC5",
                "#B0BEC5",
                "#B0BEC5",
                "#B0BEC5",
                "#B0BEC5",
                "#B0BEC5",
                "#B0BEC5",
                "#B0BEC5",
                "#B0BEC5",
                "#B0BEC5",
                "#B0BEC5",
                "#B0BEC5",
                "#B0BEC5",
                "#B0BEC5",
                "#B0BEC5",
                "#B0BEC5",
                "#B0BEC5",
                "#B0BEC5",
                "#B0BEC5",
                "red",
                "#B0BEC5",
                "#B0BEC5",
                "#B0BEC5",
                "#B0BEC5",
                "#B0BEC5",
                "#B0BEC5",
                "#B0BEC5",
                "#B0BEC5",
                "#B0BEC5",
                "#B0BEC5",
                "#B0BEC5",
                "#B0BEC5",
                "#B0BEC5",
                "#B0BEC5",
                "#B0BEC5",
                "#B0BEC5",
                "#B0BEC5",
                "#B0BEC5",
                "#B0BEC5",
                "#B0BEC5",
                "#B0BEC5",
                "#B0BEC5",
                "#B0BEC5",
                "#B0BEC5",
                "#B0BEC5",
                "#B0BEC5",
                "#B0BEC5",
                "#B0BEC5",
                "#B0BEC5"
               ]
              ]
             }
            ],
            "label": "Topic 20",
            "method": "update"
           },
           {
            "args": [
             {
              "marker.color": [
               [
                "#B0BEC5",
                "#B0BEC5",
                "#B0BEC5",
                "#B0BEC5",
                "#B0BEC5",
                "#B0BEC5",
                "#B0BEC5",
                "#B0BEC5",
                "#B0BEC5",
                "#B0BEC5",
                "#B0BEC5",
                "#B0BEC5",
                "#B0BEC5",
                "#B0BEC5",
                "#B0BEC5",
                "#B0BEC5",
                "#B0BEC5",
                "#B0BEC5",
                "#B0BEC5",
                "#B0BEC5",
                "#B0BEC5",
                "red",
                "#B0BEC5",
                "#B0BEC5",
                "#B0BEC5",
                "#B0BEC5",
                "#B0BEC5",
                "#B0BEC5",
                "#B0BEC5",
                "#B0BEC5",
                "#B0BEC5",
                "#B0BEC5",
                "#B0BEC5",
                "#B0BEC5",
                "#B0BEC5",
                "#B0BEC5",
                "#B0BEC5",
                "#B0BEC5",
                "#B0BEC5",
                "#B0BEC5",
                "#B0BEC5",
                "#B0BEC5",
                "#B0BEC5",
                "#B0BEC5",
                "#B0BEC5",
                "#B0BEC5",
                "#B0BEC5",
                "#B0BEC5",
                "#B0BEC5",
                "#B0BEC5"
               ]
              ]
             }
            ],
            "label": "Topic 21",
            "method": "update"
           },
           {
            "args": [
             {
              "marker.color": [
               [
                "#B0BEC5",
                "#B0BEC5",
                "#B0BEC5",
                "#B0BEC5",
                "#B0BEC5",
                "#B0BEC5",
                "#B0BEC5",
                "#B0BEC5",
                "#B0BEC5",
                "#B0BEC5",
                "#B0BEC5",
                "#B0BEC5",
                "#B0BEC5",
                "#B0BEC5",
                "#B0BEC5",
                "#B0BEC5",
                "#B0BEC5",
                "#B0BEC5",
                "#B0BEC5",
                "#B0BEC5",
                "#B0BEC5",
                "#B0BEC5",
                "red",
                "#B0BEC5",
                "#B0BEC5",
                "#B0BEC5",
                "#B0BEC5",
                "#B0BEC5",
                "#B0BEC5",
                "#B0BEC5",
                "#B0BEC5",
                "#B0BEC5",
                "#B0BEC5",
                "#B0BEC5",
                "#B0BEC5",
                "#B0BEC5",
                "#B0BEC5",
                "#B0BEC5",
                "#B0BEC5",
                "#B0BEC5",
                "#B0BEC5",
                "#B0BEC5",
                "#B0BEC5",
                "#B0BEC5",
                "#B0BEC5",
                "#B0BEC5",
                "#B0BEC5",
                "#B0BEC5",
                "#B0BEC5",
                "#B0BEC5"
               ]
              ]
             }
            ],
            "label": "Topic 22",
            "method": "update"
           },
           {
            "args": [
             {
              "marker.color": [
               [
                "#B0BEC5",
                "#B0BEC5",
                "#B0BEC5",
                "#B0BEC5",
                "#B0BEC5",
                "#B0BEC5",
                "#B0BEC5",
                "#B0BEC5",
                "#B0BEC5",
                "#B0BEC5",
                "#B0BEC5",
                "#B0BEC5",
                "#B0BEC5",
                "#B0BEC5",
                "#B0BEC5",
                "#B0BEC5",
                "#B0BEC5",
                "#B0BEC5",
                "#B0BEC5",
                "#B0BEC5",
                "#B0BEC5",
                "#B0BEC5",
                "#B0BEC5",
                "red",
                "#B0BEC5",
                "#B0BEC5",
                "#B0BEC5",
                "#B0BEC5",
                "#B0BEC5",
                "#B0BEC5",
                "#B0BEC5",
                "#B0BEC5",
                "#B0BEC5",
                "#B0BEC5",
                "#B0BEC5",
                "#B0BEC5",
                "#B0BEC5",
                "#B0BEC5",
                "#B0BEC5",
                "#B0BEC5",
                "#B0BEC5",
                "#B0BEC5",
                "#B0BEC5",
                "#B0BEC5",
                "#B0BEC5",
                "#B0BEC5",
                "#B0BEC5",
                "#B0BEC5",
                "#B0BEC5",
                "#B0BEC5"
               ]
              ]
             }
            ],
            "label": "Topic 23",
            "method": "update"
           },
           {
            "args": [
             {
              "marker.color": [
               [
                "#B0BEC5",
                "#B0BEC5",
                "#B0BEC5",
                "#B0BEC5",
                "#B0BEC5",
                "#B0BEC5",
                "#B0BEC5",
                "#B0BEC5",
                "#B0BEC5",
                "#B0BEC5",
                "#B0BEC5",
                "#B0BEC5",
                "#B0BEC5",
                "#B0BEC5",
                "#B0BEC5",
                "#B0BEC5",
                "#B0BEC5",
                "#B0BEC5",
                "#B0BEC5",
                "#B0BEC5",
                "#B0BEC5",
                "#B0BEC5",
                "#B0BEC5",
                "#B0BEC5",
                "red",
                "#B0BEC5",
                "#B0BEC5",
                "#B0BEC5",
                "#B0BEC5",
                "#B0BEC5",
                "#B0BEC5",
                "#B0BEC5",
                "#B0BEC5",
                "#B0BEC5",
                "#B0BEC5",
                "#B0BEC5",
                "#B0BEC5",
                "#B0BEC5",
                "#B0BEC5",
                "#B0BEC5",
                "#B0BEC5",
                "#B0BEC5",
                "#B0BEC5",
                "#B0BEC5",
                "#B0BEC5",
                "#B0BEC5",
                "#B0BEC5",
                "#B0BEC5",
                "#B0BEC5",
                "#B0BEC5"
               ]
              ]
             }
            ],
            "label": "Topic 24",
            "method": "update"
           },
           {
            "args": [
             {
              "marker.color": [
               [
                "#B0BEC5",
                "#B0BEC5",
                "#B0BEC5",
                "#B0BEC5",
                "#B0BEC5",
                "#B0BEC5",
                "#B0BEC5",
                "#B0BEC5",
                "#B0BEC5",
                "#B0BEC5",
                "#B0BEC5",
                "#B0BEC5",
                "#B0BEC5",
                "#B0BEC5",
                "#B0BEC5",
                "#B0BEC5",
                "#B0BEC5",
                "#B0BEC5",
                "#B0BEC5",
                "#B0BEC5",
                "#B0BEC5",
                "#B0BEC5",
                "#B0BEC5",
                "#B0BEC5",
                "#B0BEC5",
                "red",
                "#B0BEC5",
                "#B0BEC5",
                "#B0BEC5",
                "#B0BEC5",
                "#B0BEC5",
                "#B0BEC5",
                "#B0BEC5",
                "#B0BEC5",
                "#B0BEC5",
                "#B0BEC5",
                "#B0BEC5",
                "#B0BEC5",
                "#B0BEC5",
                "#B0BEC5",
                "#B0BEC5",
                "#B0BEC5",
                "#B0BEC5",
                "#B0BEC5",
                "#B0BEC5",
                "#B0BEC5",
                "#B0BEC5",
                "#B0BEC5",
                "#B0BEC5",
                "#B0BEC5"
               ]
              ]
             }
            ],
            "label": "Topic 25",
            "method": "update"
           },
           {
            "args": [
             {
              "marker.color": [
               [
                "#B0BEC5",
                "#B0BEC5",
                "#B0BEC5",
                "#B0BEC5",
                "#B0BEC5",
                "#B0BEC5",
                "#B0BEC5",
                "#B0BEC5",
                "#B0BEC5",
                "#B0BEC5",
                "#B0BEC5",
                "#B0BEC5",
                "#B0BEC5",
                "#B0BEC5",
                "#B0BEC5",
                "#B0BEC5",
                "#B0BEC5",
                "#B0BEC5",
                "#B0BEC5",
                "#B0BEC5",
                "#B0BEC5",
                "#B0BEC5",
                "#B0BEC5",
                "#B0BEC5",
                "#B0BEC5",
                "#B0BEC5",
                "red",
                "#B0BEC5",
                "#B0BEC5",
                "#B0BEC5",
                "#B0BEC5",
                "#B0BEC5",
                "#B0BEC5",
                "#B0BEC5",
                "#B0BEC5",
                "#B0BEC5",
                "#B0BEC5",
                "#B0BEC5",
                "#B0BEC5",
                "#B0BEC5",
                "#B0BEC5",
                "#B0BEC5",
                "#B0BEC5",
                "#B0BEC5",
                "#B0BEC5",
                "#B0BEC5",
                "#B0BEC5",
                "#B0BEC5",
                "#B0BEC5",
                "#B0BEC5"
               ]
              ]
             }
            ],
            "label": "Topic 26",
            "method": "update"
           },
           {
            "args": [
             {
              "marker.color": [
               [
                "#B0BEC5",
                "#B0BEC5",
                "#B0BEC5",
                "#B0BEC5",
                "#B0BEC5",
                "#B0BEC5",
                "#B0BEC5",
                "#B0BEC5",
                "#B0BEC5",
                "#B0BEC5",
                "#B0BEC5",
                "#B0BEC5",
                "#B0BEC5",
                "#B0BEC5",
                "#B0BEC5",
                "#B0BEC5",
                "#B0BEC5",
                "#B0BEC5",
                "#B0BEC5",
                "#B0BEC5",
                "#B0BEC5",
                "#B0BEC5",
                "#B0BEC5",
                "#B0BEC5",
                "#B0BEC5",
                "#B0BEC5",
                "#B0BEC5",
                "red",
                "#B0BEC5",
                "#B0BEC5",
                "#B0BEC5",
                "#B0BEC5",
                "#B0BEC5",
                "#B0BEC5",
                "#B0BEC5",
                "#B0BEC5",
                "#B0BEC5",
                "#B0BEC5",
                "#B0BEC5",
                "#B0BEC5",
                "#B0BEC5",
                "#B0BEC5",
                "#B0BEC5",
                "#B0BEC5",
                "#B0BEC5",
                "#B0BEC5",
                "#B0BEC5",
                "#B0BEC5",
                "#B0BEC5",
                "#B0BEC5"
               ]
              ]
             }
            ],
            "label": "Topic 27",
            "method": "update"
           },
           {
            "args": [
             {
              "marker.color": [
               [
                "#B0BEC5",
                "#B0BEC5",
                "#B0BEC5",
                "#B0BEC5",
                "#B0BEC5",
                "#B0BEC5",
                "#B0BEC5",
                "#B0BEC5",
                "#B0BEC5",
                "#B0BEC5",
                "#B0BEC5",
                "#B0BEC5",
                "#B0BEC5",
                "#B0BEC5",
                "#B0BEC5",
                "#B0BEC5",
                "#B0BEC5",
                "#B0BEC5",
                "#B0BEC5",
                "#B0BEC5",
                "#B0BEC5",
                "#B0BEC5",
                "#B0BEC5",
                "#B0BEC5",
                "#B0BEC5",
                "#B0BEC5",
                "#B0BEC5",
                "#B0BEC5",
                "red",
                "#B0BEC5",
                "#B0BEC5",
                "#B0BEC5",
                "#B0BEC5",
                "#B0BEC5",
                "#B0BEC5",
                "#B0BEC5",
                "#B0BEC5",
                "#B0BEC5",
                "#B0BEC5",
                "#B0BEC5",
                "#B0BEC5",
                "#B0BEC5",
                "#B0BEC5",
                "#B0BEC5",
                "#B0BEC5",
                "#B0BEC5",
                "#B0BEC5",
                "#B0BEC5",
                "#B0BEC5",
                "#B0BEC5"
               ]
              ]
             }
            ],
            "label": "Topic 28",
            "method": "update"
           },
           {
            "args": [
             {
              "marker.color": [
               [
                "#B0BEC5",
                "#B0BEC5",
                "#B0BEC5",
                "#B0BEC5",
                "#B0BEC5",
                "#B0BEC5",
                "#B0BEC5",
                "#B0BEC5",
                "#B0BEC5",
                "#B0BEC5",
                "#B0BEC5",
                "#B0BEC5",
                "#B0BEC5",
                "#B0BEC5",
                "#B0BEC5",
                "#B0BEC5",
                "#B0BEC5",
                "#B0BEC5",
                "#B0BEC5",
                "#B0BEC5",
                "#B0BEC5",
                "#B0BEC5",
                "#B0BEC5",
                "#B0BEC5",
                "#B0BEC5",
                "#B0BEC5",
                "#B0BEC5",
                "#B0BEC5",
                "#B0BEC5",
                "red",
                "#B0BEC5",
                "#B0BEC5",
                "#B0BEC5",
                "#B0BEC5",
                "#B0BEC5",
                "#B0BEC5",
                "#B0BEC5",
                "#B0BEC5",
                "#B0BEC5",
                "#B0BEC5",
                "#B0BEC5",
                "#B0BEC5",
                "#B0BEC5",
                "#B0BEC5",
                "#B0BEC5",
                "#B0BEC5",
                "#B0BEC5",
                "#B0BEC5",
                "#B0BEC5",
                "#B0BEC5"
               ]
              ]
             }
            ],
            "label": "Topic 29",
            "method": "update"
           },
           {
            "args": [
             {
              "marker.color": [
               [
                "#B0BEC5",
                "#B0BEC5",
                "#B0BEC5",
                "#B0BEC5",
                "#B0BEC5",
                "#B0BEC5",
                "#B0BEC5",
                "#B0BEC5",
                "#B0BEC5",
                "#B0BEC5",
                "#B0BEC5",
                "#B0BEC5",
                "#B0BEC5",
                "#B0BEC5",
                "#B0BEC5",
                "#B0BEC5",
                "#B0BEC5",
                "#B0BEC5",
                "#B0BEC5",
                "#B0BEC5",
                "#B0BEC5",
                "#B0BEC5",
                "#B0BEC5",
                "#B0BEC5",
                "#B0BEC5",
                "#B0BEC5",
                "#B0BEC5",
                "#B0BEC5",
                "#B0BEC5",
                "#B0BEC5",
                "red",
                "#B0BEC5",
                "#B0BEC5",
                "#B0BEC5",
                "#B0BEC5",
                "#B0BEC5",
                "#B0BEC5",
                "#B0BEC5",
                "#B0BEC5",
                "#B0BEC5",
                "#B0BEC5",
                "#B0BEC5",
                "#B0BEC5",
                "#B0BEC5",
                "#B0BEC5",
                "#B0BEC5",
                "#B0BEC5",
                "#B0BEC5",
                "#B0BEC5",
                "#B0BEC5"
               ]
              ]
             }
            ],
            "label": "Topic 30",
            "method": "update"
           },
           {
            "args": [
             {
              "marker.color": [
               [
                "#B0BEC5",
                "#B0BEC5",
                "#B0BEC5",
                "#B0BEC5",
                "#B0BEC5",
                "#B0BEC5",
                "#B0BEC5",
                "#B0BEC5",
                "#B0BEC5",
                "#B0BEC5",
                "#B0BEC5",
                "#B0BEC5",
                "#B0BEC5",
                "#B0BEC5",
                "#B0BEC5",
                "#B0BEC5",
                "#B0BEC5",
                "#B0BEC5",
                "#B0BEC5",
                "#B0BEC5",
                "#B0BEC5",
                "#B0BEC5",
                "#B0BEC5",
                "#B0BEC5",
                "#B0BEC5",
                "#B0BEC5",
                "#B0BEC5",
                "#B0BEC5",
                "#B0BEC5",
                "#B0BEC5",
                "#B0BEC5",
                "red",
                "#B0BEC5",
                "#B0BEC5",
                "#B0BEC5",
                "#B0BEC5",
                "#B0BEC5",
                "#B0BEC5",
                "#B0BEC5",
                "#B0BEC5",
                "#B0BEC5",
                "#B0BEC5",
                "#B0BEC5",
                "#B0BEC5",
                "#B0BEC5",
                "#B0BEC5",
                "#B0BEC5",
                "#B0BEC5",
                "#B0BEC5",
                "#B0BEC5"
               ]
              ]
             }
            ],
            "label": "Topic 31",
            "method": "update"
           },
           {
            "args": [
             {
              "marker.color": [
               [
                "#B0BEC5",
                "#B0BEC5",
                "#B0BEC5",
                "#B0BEC5",
                "#B0BEC5",
                "#B0BEC5",
                "#B0BEC5",
                "#B0BEC5",
                "#B0BEC5",
                "#B0BEC5",
                "#B0BEC5",
                "#B0BEC5",
                "#B0BEC5",
                "#B0BEC5",
                "#B0BEC5",
                "#B0BEC5",
                "#B0BEC5",
                "#B0BEC5",
                "#B0BEC5",
                "#B0BEC5",
                "#B0BEC5",
                "#B0BEC5",
                "#B0BEC5",
                "#B0BEC5",
                "#B0BEC5",
                "#B0BEC5",
                "#B0BEC5",
                "#B0BEC5",
                "#B0BEC5",
                "#B0BEC5",
                "#B0BEC5",
                "#B0BEC5",
                "red",
                "#B0BEC5",
                "#B0BEC5",
                "#B0BEC5",
                "#B0BEC5",
                "#B0BEC5",
                "#B0BEC5",
                "#B0BEC5",
                "#B0BEC5",
                "#B0BEC5",
                "#B0BEC5",
                "#B0BEC5",
                "#B0BEC5",
                "#B0BEC5",
                "#B0BEC5",
                "#B0BEC5",
                "#B0BEC5",
                "#B0BEC5"
               ]
              ]
             }
            ],
            "label": "Topic 32",
            "method": "update"
           },
           {
            "args": [
             {
              "marker.color": [
               [
                "#B0BEC5",
                "#B0BEC5",
                "#B0BEC5",
                "#B0BEC5",
                "#B0BEC5",
                "#B0BEC5",
                "#B0BEC5",
                "#B0BEC5",
                "#B0BEC5",
                "#B0BEC5",
                "#B0BEC5",
                "#B0BEC5",
                "#B0BEC5",
                "#B0BEC5",
                "#B0BEC5",
                "#B0BEC5",
                "#B0BEC5",
                "#B0BEC5",
                "#B0BEC5",
                "#B0BEC5",
                "#B0BEC5",
                "#B0BEC5",
                "#B0BEC5",
                "#B0BEC5",
                "#B0BEC5",
                "#B0BEC5",
                "#B0BEC5",
                "#B0BEC5",
                "#B0BEC5",
                "#B0BEC5",
                "#B0BEC5",
                "#B0BEC5",
                "#B0BEC5",
                "red",
                "#B0BEC5",
                "#B0BEC5",
                "#B0BEC5",
                "#B0BEC5",
                "#B0BEC5",
                "#B0BEC5",
                "#B0BEC5",
                "#B0BEC5",
                "#B0BEC5",
                "#B0BEC5",
                "#B0BEC5",
                "#B0BEC5",
                "#B0BEC5",
                "#B0BEC5",
                "#B0BEC5",
                "#B0BEC5"
               ]
              ]
             }
            ],
            "label": "Topic 33",
            "method": "update"
           },
           {
            "args": [
             {
              "marker.color": [
               [
                "#B0BEC5",
                "#B0BEC5",
                "#B0BEC5",
                "#B0BEC5",
                "#B0BEC5",
                "#B0BEC5",
                "#B0BEC5",
                "#B0BEC5",
                "#B0BEC5",
                "#B0BEC5",
                "#B0BEC5",
                "#B0BEC5",
                "#B0BEC5",
                "#B0BEC5",
                "#B0BEC5",
                "#B0BEC5",
                "#B0BEC5",
                "#B0BEC5",
                "#B0BEC5",
                "#B0BEC5",
                "#B0BEC5",
                "#B0BEC5",
                "#B0BEC5",
                "#B0BEC5",
                "#B0BEC5",
                "#B0BEC5",
                "#B0BEC5",
                "#B0BEC5",
                "#B0BEC5",
                "#B0BEC5",
                "#B0BEC5",
                "#B0BEC5",
                "#B0BEC5",
                "#B0BEC5",
                "red",
                "#B0BEC5",
                "#B0BEC5",
                "#B0BEC5",
                "#B0BEC5",
                "#B0BEC5",
                "#B0BEC5",
                "#B0BEC5",
                "#B0BEC5",
                "#B0BEC5",
                "#B0BEC5",
                "#B0BEC5",
                "#B0BEC5",
                "#B0BEC5",
                "#B0BEC5",
                "#B0BEC5"
               ]
              ]
             }
            ],
            "label": "Topic 34",
            "method": "update"
           },
           {
            "args": [
             {
              "marker.color": [
               [
                "#B0BEC5",
                "#B0BEC5",
                "#B0BEC5",
                "#B0BEC5",
                "#B0BEC5",
                "#B0BEC5",
                "#B0BEC5",
                "#B0BEC5",
                "#B0BEC5",
                "#B0BEC5",
                "#B0BEC5",
                "#B0BEC5",
                "#B0BEC5",
                "#B0BEC5",
                "#B0BEC5",
                "#B0BEC5",
                "#B0BEC5",
                "#B0BEC5",
                "#B0BEC5",
                "#B0BEC5",
                "#B0BEC5",
                "#B0BEC5",
                "#B0BEC5",
                "#B0BEC5",
                "#B0BEC5",
                "#B0BEC5",
                "#B0BEC5",
                "#B0BEC5",
                "#B0BEC5",
                "#B0BEC5",
                "#B0BEC5",
                "#B0BEC5",
                "#B0BEC5",
                "#B0BEC5",
                "#B0BEC5",
                "red",
                "#B0BEC5",
                "#B0BEC5",
                "#B0BEC5",
                "#B0BEC5",
                "#B0BEC5",
                "#B0BEC5",
                "#B0BEC5",
                "#B0BEC5",
                "#B0BEC5",
                "#B0BEC5",
                "#B0BEC5",
                "#B0BEC5",
                "#B0BEC5",
                "#B0BEC5"
               ]
              ]
             }
            ],
            "label": "Topic 35",
            "method": "update"
           },
           {
            "args": [
             {
              "marker.color": [
               [
                "#B0BEC5",
                "#B0BEC5",
                "#B0BEC5",
                "#B0BEC5",
                "#B0BEC5",
                "#B0BEC5",
                "#B0BEC5",
                "#B0BEC5",
                "#B0BEC5",
                "#B0BEC5",
                "#B0BEC5",
                "#B0BEC5",
                "#B0BEC5",
                "#B0BEC5",
                "#B0BEC5",
                "#B0BEC5",
                "#B0BEC5",
                "#B0BEC5",
                "#B0BEC5",
                "#B0BEC5",
                "#B0BEC5",
                "#B0BEC5",
                "#B0BEC5",
                "#B0BEC5",
                "#B0BEC5",
                "#B0BEC5",
                "#B0BEC5",
                "#B0BEC5",
                "#B0BEC5",
                "#B0BEC5",
                "#B0BEC5",
                "#B0BEC5",
                "#B0BEC5",
                "#B0BEC5",
                "#B0BEC5",
                "#B0BEC5",
                "red",
                "#B0BEC5",
                "#B0BEC5",
                "#B0BEC5",
                "#B0BEC5",
                "#B0BEC5",
                "#B0BEC5",
                "#B0BEC5",
                "#B0BEC5",
                "#B0BEC5",
                "#B0BEC5",
                "#B0BEC5",
                "#B0BEC5",
                "#B0BEC5"
               ]
              ]
             }
            ],
            "label": "Topic 36",
            "method": "update"
           },
           {
            "args": [
             {
              "marker.color": [
               [
                "#B0BEC5",
                "#B0BEC5",
                "#B0BEC5",
                "#B0BEC5",
                "#B0BEC5",
                "#B0BEC5",
                "#B0BEC5",
                "#B0BEC5",
                "#B0BEC5",
                "#B0BEC5",
                "#B0BEC5",
                "#B0BEC5",
                "#B0BEC5",
                "#B0BEC5",
                "#B0BEC5",
                "#B0BEC5",
                "#B0BEC5",
                "#B0BEC5",
                "#B0BEC5",
                "#B0BEC5",
                "#B0BEC5",
                "#B0BEC5",
                "#B0BEC5",
                "#B0BEC5",
                "#B0BEC5",
                "#B0BEC5",
                "#B0BEC5",
                "#B0BEC5",
                "#B0BEC5",
                "#B0BEC5",
                "#B0BEC5",
                "#B0BEC5",
                "#B0BEC5",
                "#B0BEC5",
                "#B0BEC5",
                "#B0BEC5",
                "#B0BEC5",
                "red",
                "#B0BEC5",
                "#B0BEC5",
                "#B0BEC5",
                "#B0BEC5",
                "#B0BEC5",
                "#B0BEC5",
                "#B0BEC5",
                "#B0BEC5",
                "#B0BEC5",
                "#B0BEC5",
                "#B0BEC5",
                "#B0BEC5"
               ]
              ]
             }
            ],
            "label": "Topic 37",
            "method": "update"
           },
           {
            "args": [
             {
              "marker.color": [
               [
                "#B0BEC5",
                "#B0BEC5",
                "#B0BEC5",
                "#B0BEC5",
                "#B0BEC5",
                "#B0BEC5",
                "#B0BEC5",
                "#B0BEC5",
                "#B0BEC5",
                "#B0BEC5",
                "#B0BEC5",
                "#B0BEC5",
                "#B0BEC5",
                "#B0BEC5",
                "#B0BEC5",
                "#B0BEC5",
                "#B0BEC5",
                "#B0BEC5",
                "#B0BEC5",
                "#B0BEC5",
                "#B0BEC5",
                "#B0BEC5",
                "#B0BEC5",
                "#B0BEC5",
                "#B0BEC5",
                "#B0BEC5",
                "#B0BEC5",
                "#B0BEC5",
                "#B0BEC5",
                "#B0BEC5",
                "#B0BEC5",
                "#B0BEC5",
                "#B0BEC5",
                "#B0BEC5",
                "#B0BEC5",
                "#B0BEC5",
                "#B0BEC5",
                "#B0BEC5",
                "red",
                "#B0BEC5",
                "#B0BEC5",
                "#B0BEC5",
                "#B0BEC5",
                "#B0BEC5",
                "#B0BEC5",
                "#B0BEC5",
                "#B0BEC5",
                "#B0BEC5",
                "#B0BEC5",
                "#B0BEC5"
               ]
              ]
             }
            ],
            "label": "Topic 38",
            "method": "update"
           },
           {
            "args": [
             {
              "marker.color": [
               [
                "#B0BEC5",
                "#B0BEC5",
                "#B0BEC5",
                "#B0BEC5",
                "#B0BEC5",
                "#B0BEC5",
                "#B0BEC5",
                "#B0BEC5",
                "#B0BEC5",
                "#B0BEC5",
                "#B0BEC5",
                "#B0BEC5",
                "#B0BEC5",
                "#B0BEC5",
                "#B0BEC5",
                "#B0BEC5",
                "#B0BEC5",
                "#B0BEC5",
                "#B0BEC5",
                "#B0BEC5",
                "#B0BEC5",
                "#B0BEC5",
                "#B0BEC5",
                "#B0BEC5",
                "#B0BEC5",
                "#B0BEC5",
                "#B0BEC5",
                "#B0BEC5",
                "#B0BEC5",
                "#B0BEC5",
                "#B0BEC5",
                "#B0BEC5",
                "#B0BEC5",
                "#B0BEC5",
                "#B0BEC5",
                "#B0BEC5",
                "#B0BEC5",
                "#B0BEC5",
                "#B0BEC5",
                "red",
                "#B0BEC5",
                "#B0BEC5",
                "#B0BEC5",
                "#B0BEC5",
                "#B0BEC5",
                "#B0BEC5",
                "#B0BEC5",
                "#B0BEC5",
                "#B0BEC5",
                "#B0BEC5"
               ]
              ]
             }
            ],
            "label": "Topic 39",
            "method": "update"
           },
           {
            "args": [
             {
              "marker.color": [
               [
                "#B0BEC5",
                "#B0BEC5",
                "#B0BEC5",
                "#B0BEC5",
                "#B0BEC5",
                "#B0BEC5",
                "#B0BEC5",
                "#B0BEC5",
                "#B0BEC5",
                "#B0BEC5",
                "#B0BEC5",
                "#B0BEC5",
                "#B0BEC5",
                "#B0BEC5",
                "#B0BEC5",
                "#B0BEC5",
                "#B0BEC5",
                "#B0BEC5",
                "#B0BEC5",
                "#B0BEC5",
                "#B0BEC5",
                "#B0BEC5",
                "#B0BEC5",
                "#B0BEC5",
                "#B0BEC5",
                "#B0BEC5",
                "#B0BEC5",
                "#B0BEC5",
                "#B0BEC5",
                "#B0BEC5",
                "#B0BEC5",
                "#B0BEC5",
                "#B0BEC5",
                "#B0BEC5",
                "#B0BEC5",
                "#B0BEC5",
                "#B0BEC5",
                "#B0BEC5",
                "#B0BEC5",
                "#B0BEC5",
                "red",
                "#B0BEC5",
                "#B0BEC5",
                "#B0BEC5",
                "#B0BEC5",
                "#B0BEC5",
                "#B0BEC5",
                "#B0BEC5",
                "#B0BEC5",
                "#B0BEC5"
               ]
              ]
             }
            ],
            "label": "Topic 40",
            "method": "update"
           },
           {
            "args": [
             {
              "marker.color": [
               [
                "#B0BEC5",
                "#B0BEC5",
                "#B0BEC5",
                "#B0BEC5",
                "#B0BEC5",
                "#B0BEC5",
                "#B0BEC5",
                "#B0BEC5",
                "#B0BEC5",
                "#B0BEC5",
                "#B0BEC5",
                "#B0BEC5",
                "#B0BEC5",
                "#B0BEC5",
                "#B0BEC5",
                "#B0BEC5",
                "#B0BEC5",
                "#B0BEC5",
                "#B0BEC5",
                "#B0BEC5",
                "#B0BEC5",
                "#B0BEC5",
                "#B0BEC5",
                "#B0BEC5",
                "#B0BEC5",
                "#B0BEC5",
                "#B0BEC5",
                "#B0BEC5",
                "#B0BEC5",
                "#B0BEC5",
                "#B0BEC5",
                "#B0BEC5",
                "#B0BEC5",
                "#B0BEC5",
                "#B0BEC5",
                "#B0BEC5",
                "#B0BEC5",
                "#B0BEC5",
                "#B0BEC5",
                "#B0BEC5",
                "#B0BEC5",
                "red",
                "#B0BEC5",
                "#B0BEC5",
                "#B0BEC5",
                "#B0BEC5",
                "#B0BEC5",
                "#B0BEC5",
                "#B0BEC5",
                "#B0BEC5"
               ]
              ]
             }
            ],
            "label": "Topic 41",
            "method": "update"
           },
           {
            "args": [
             {
              "marker.color": [
               [
                "#B0BEC5",
                "#B0BEC5",
                "#B0BEC5",
                "#B0BEC5",
                "#B0BEC5",
                "#B0BEC5",
                "#B0BEC5",
                "#B0BEC5",
                "#B0BEC5",
                "#B0BEC5",
                "#B0BEC5",
                "#B0BEC5",
                "#B0BEC5",
                "#B0BEC5",
                "#B0BEC5",
                "#B0BEC5",
                "#B0BEC5",
                "#B0BEC5",
                "#B0BEC5",
                "#B0BEC5",
                "#B0BEC5",
                "#B0BEC5",
                "#B0BEC5",
                "#B0BEC5",
                "#B0BEC5",
                "#B0BEC5",
                "#B0BEC5",
                "#B0BEC5",
                "#B0BEC5",
                "#B0BEC5",
                "#B0BEC5",
                "#B0BEC5",
                "#B0BEC5",
                "#B0BEC5",
                "#B0BEC5",
                "#B0BEC5",
                "#B0BEC5",
                "#B0BEC5",
                "#B0BEC5",
                "#B0BEC5",
                "#B0BEC5",
                "#B0BEC5",
                "red",
                "#B0BEC5",
                "#B0BEC5",
                "#B0BEC5",
                "#B0BEC5",
                "#B0BEC5",
                "#B0BEC5",
                "#B0BEC5"
               ]
              ]
             }
            ],
            "label": "Topic 42",
            "method": "update"
           },
           {
            "args": [
             {
              "marker.color": [
               [
                "#B0BEC5",
                "#B0BEC5",
                "#B0BEC5",
                "#B0BEC5",
                "#B0BEC5",
                "#B0BEC5",
                "#B0BEC5",
                "#B0BEC5",
                "#B0BEC5",
                "#B0BEC5",
                "#B0BEC5",
                "#B0BEC5",
                "#B0BEC5",
                "#B0BEC5",
                "#B0BEC5",
                "#B0BEC5",
                "#B0BEC5",
                "#B0BEC5",
                "#B0BEC5",
                "#B0BEC5",
                "#B0BEC5",
                "#B0BEC5",
                "#B0BEC5",
                "#B0BEC5",
                "#B0BEC5",
                "#B0BEC5",
                "#B0BEC5",
                "#B0BEC5",
                "#B0BEC5",
                "#B0BEC5",
                "#B0BEC5",
                "#B0BEC5",
                "#B0BEC5",
                "#B0BEC5",
                "#B0BEC5",
                "#B0BEC5",
                "#B0BEC5",
                "#B0BEC5",
                "#B0BEC5",
                "#B0BEC5",
                "#B0BEC5",
                "#B0BEC5",
                "#B0BEC5",
                "red",
                "#B0BEC5",
                "#B0BEC5",
                "#B0BEC5",
                "#B0BEC5",
                "#B0BEC5",
                "#B0BEC5"
               ]
              ]
             }
            ],
            "label": "Topic 43",
            "method": "update"
           },
           {
            "args": [
             {
              "marker.color": [
               [
                "#B0BEC5",
                "#B0BEC5",
                "#B0BEC5",
                "#B0BEC5",
                "#B0BEC5",
                "#B0BEC5",
                "#B0BEC5",
                "#B0BEC5",
                "#B0BEC5",
                "#B0BEC5",
                "#B0BEC5",
                "#B0BEC5",
                "#B0BEC5",
                "#B0BEC5",
                "#B0BEC5",
                "#B0BEC5",
                "#B0BEC5",
                "#B0BEC5",
                "#B0BEC5",
                "#B0BEC5",
                "#B0BEC5",
                "#B0BEC5",
                "#B0BEC5",
                "#B0BEC5",
                "#B0BEC5",
                "#B0BEC5",
                "#B0BEC5",
                "#B0BEC5",
                "#B0BEC5",
                "#B0BEC5",
                "#B0BEC5",
                "#B0BEC5",
                "#B0BEC5",
                "#B0BEC5",
                "#B0BEC5",
                "#B0BEC5",
                "#B0BEC5",
                "#B0BEC5",
                "#B0BEC5",
                "#B0BEC5",
                "#B0BEC5",
                "#B0BEC5",
                "#B0BEC5",
                "#B0BEC5",
                "red",
                "#B0BEC5",
                "#B0BEC5",
                "#B0BEC5",
                "#B0BEC5",
                "#B0BEC5"
               ]
              ]
             }
            ],
            "label": "Topic 44",
            "method": "update"
           },
           {
            "args": [
             {
              "marker.color": [
               [
                "#B0BEC5",
                "#B0BEC5",
                "#B0BEC5",
                "#B0BEC5",
                "#B0BEC5",
                "#B0BEC5",
                "#B0BEC5",
                "#B0BEC5",
                "#B0BEC5",
                "#B0BEC5",
                "#B0BEC5",
                "#B0BEC5",
                "#B0BEC5",
                "#B0BEC5",
                "#B0BEC5",
                "#B0BEC5",
                "#B0BEC5",
                "#B0BEC5",
                "#B0BEC5",
                "#B0BEC5",
                "#B0BEC5",
                "#B0BEC5",
                "#B0BEC5",
                "#B0BEC5",
                "#B0BEC5",
                "#B0BEC5",
                "#B0BEC5",
                "#B0BEC5",
                "#B0BEC5",
                "#B0BEC5",
                "#B0BEC5",
                "#B0BEC5",
                "#B0BEC5",
                "#B0BEC5",
                "#B0BEC5",
                "#B0BEC5",
                "#B0BEC5",
                "#B0BEC5",
                "#B0BEC5",
                "#B0BEC5",
                "#B0BEC5",
                "#B0BEC5",
                "#B0BEC5",
                "#B0BEC5",
                "#B0BEC5",
                "red",
                "#B0BEC5",
                "#B0BEC5",
                "#B0BEC5",
                "#B0BEC5"
               ]
              ]
             }
            ],
            "label": "Topic 45",
            "method": "update"
           },
           {
            "args": [
             {
              "marker.color": [
               [
                "#B0BEC5",
                "#B0BEC5",
                "#B0BEC5",
                "#B0BEC5",
                "#B0BEC5",
                "#B0BEC5",
                "#B0BEC5",
                "#B0BEC5",
                "#B0BEC5",
                "#B0BEC5",
                "#B0BEC5",
                "#B0BEC5",
                "#B0BEC5",
                "#B0BEC5",
                "#B0BEC5",
                "#B0BEC5",
                "#B0BEC5",
                "#B0BEC5",
                "#B0BEC5",
                "#B0BEC5",
                "#B0BEC5",
                "#B0BEC5",
                "#B0BEC5",
                "#B0BEC5",
                "#B0BEC5",
                "#B0BEC5",
                "#B0BEC5",
                "#B0BEC5",
                "#B0BEC5",
                "#B0BEC5",
                "#B0BEC5",
                "#B0BEC5",
                "#B0BEC5",
                "#B0BEC5",
                "#B0BEC5",
                "#B0BEC5",
                "#B0BEC5",
                "#B0BEC5",
                "#B0BEC5",
                "#B0BEC5",
                "#B0BEC5",
                "#B0BEC5",
                "#B0BEC5",
                "#B0BEC5",
                "#B0BEC5",
                "#B0BEC5",
                "red",
                "#B0BEC5",
                "#B0BEC5",
                "#B0BEC5"
               ]
              ]
             }
            ],
            "label": "Topic 46",
            "method": "update"
           },
           {
            "args": [
             {
              "marker.color": [
               [
                "#B0BEC5",
                "#B0BEC5",
                "#B0BEC5",
                "#B0BEC5",
                "#B0BEC5",
                "#B0BEC5",
                "#B0BEC5",
                "#B0BEC5",
                "#B0BEC5",
                "#B0BEC5",
                "#B0BEC5",
                "#B0BEC5",
                "#B0BEC5",
                "#B0BEC5",
                "#B0BEC5",
                "#B0BEC5",
                "#B0BEC5",
                "#B0BEC5",
                "#B0BEC5",
                "#B0BEC5",
                "#B0BEC5",
                "#B0BEC5",
                "#B0BEC5",
                "#B0BEC5",
                "#B0BEC5",
                "#B0BEC5",
                "#B0BEC5",
                "#B0BEC5",
                "#B0BEC5",
                "#B0BEC5",
                "#B0BEC5",
                "#B0BEC5",
                "#B0BEC5",
                "#B0BEC5",
                "#B0BEC5",
                "#B0BEC5",
                "#B0BEC5",
                "#B0BEC5",
                "#B0BEC5",
                "#B0BEC5",
                "#B0BEC5",
                "#B0BEC5",
                "#B0BEC5",
                "#B0BEC5",
                "#B0BEC5",
                "#B0BEC5",
                "#B0BEC5",
                "red",
                "#B0BEC5",
                "#B0BEC5"
               ]
              ]
             }
            ],
            "label": "Topic 47",
            "method": "update"
           },
           {
            "args": [
             {
              "marker.color": [
               [
                "#B0BEC5",
                "#B0BEC5",
                "#B0BEC5",
                "#B0BEC5",
                "#B0BEC5",
                "#B0BEC5",
                "#B0BEC5",
                "#B0BEC5",
                "#B0BEC5",
                "#B0BEC5",
                "#B0BEC5",
                "#B0BEC5",
                "#B0BEC5",
                "#B0BEC5",
                "#B0BEC5",
                "#B0BEC5",
                "#B0BEC5",
                "#B0BEC5",
                "#B0BEC5",
                "#B0BEC5",
                "#B0BEC5",
                "#B0BEC5",
                "#B0BEC5",
                "#B0BEC5",
                "#B0BEC5",
                "#B0BEC5",
                "#B0BEC5",
                "#B0BEC5",
                "#B0BEC5",
                "#B0BEC5",
                "#B0BEC5",
                "#B0BEC5",
                "#B0BEC5",
                "#B0BEC5",
                "#B0BEC5",
                "#B0BEC5",
                "#B0BEC5",
                "#B0BEC5",
                "#B0BEC5",
                "#B0BEC5",
                "#B0BEC5",
                "#B0BEC5",
                "#B0BEC5",
                "#B0BEC5",
                "#B0BEC5",
                "#B0BEC5",
                "#B0BEC5",
                "#B0BEC5",
                "red",
                "#B0BEC5"
               ]
              ]
             }
            ],
            "label": "Topic 48",
            "method": "update"
           },
           {
            "args": [
             {
              "marker.color": [
               [
                "#B0BEC5",
                "#B0BEC5",
                "#B0BEC5",
                "#B0BEC5",
                "#B0BEC5",
                "#B0BEC5",
                "#B0BEC5",
                "#B0BEC5",
                "#B0BEC5",
                "#B0BEC5",
                "#B0BEC5",
                "#B0BEC5",
                "#B0BEC5",
                "#B0BEC5",
                "#B0BEC5",
                "#B0BEC5",
                "#B0BEC5",
                "#B0BEC5",
                "#B0BEC5",
                "#B0BEC5",
                "#B0BEC5",
                "#B0BEC5",
                "#B0BEC5",
                "#B0BEC5",
                "#B0BEC5",
                "#B0BEC5",
                "#B0BEC5",
                "#B0BEC5",
                "#B0BEC5",
                "#B0BEC5",
                "#B0BEC5",
                "#B0BEC5",
                "#B0BEC5",
                "#B0BEC5",
                "#B0BEC5",
                "#B0BEC5",
                "#B0BEC5",
                "#B0BEC5",
                "#B0BEC5",
                "#B0BEC5",
                "#B0BEC5",
                "#B0BEC5",
                "#B0BEC5",
                "#B0BEC5",
                "#B0BEC5",
                "#B0BEC5",
                "#B0BEC5",
                "#B0BEC5",
                "#B0BEC5",
                "red"
               ]
              ]
             }
            ],
            "label": "Topic 49",
            "method": "update"
           }
          ]
         }
        ],
        "template": {
         "data": {
          "bar": [
           {
            "error_x": {
             "color": "rgb(36,36,36)"
            },
            "error_y": {
             "color": "rgb(36,36,36)"
            },
            "marker": {
             "line": {
              "color": "white",
              "width": 0.5
             },
             "pattern": {
              "fillmode": "overlay",
              "size": 10,
              "solidity": 0.2
             }
            },
            "type": "bar"
           }
          ],
          "barpolar": [
           {
            "marker": {
             "line": {
              "color": "white",
              "width": 0.5
             },
             "pattern": {
              "fillmode": "overlay",
              "size": 10,
              "solidity": 0.2
             }
            },
            "type": "barpolar"
           }
          ],
          "carpet": [
           {
            "aaxis": {
             "endlinecolor": "rgb(36,36,36)",
             "gridcolor": "white",
             "linecolor": "white",
             "minorgridcolor": "white",
             "startlinecolor": "rgb(36,36,36)"
            },
            "baxis": {
             "endlinecolor": "rgb(36,36,36)",
             "gridcolor": "white",
             "linecolor": "white",
             "minorgridcolor": "white",
             "startlinecolor": "rgb(36,36,36)"
            },
            "type": "carpet"
           }
          ],
          "choropleth": [
           {
            "colorbar": {
             "outlinewidth": 1,
             "tickcolor": "rgb(36,36,36)",
             "ticks": "outside"
            },
            "type": "choropleth"
           }
          ],
          "contour": [
           {
            "colorbar": {
             "outlinewidth": 1,
             "tickcolor": "rgb(36,36,36)",
             "ticks": "outside"
            },
            "colorscale": [
             [
              0,
              "#440154"
             ],
             [
              0.1111111111111111,
              "#482878"
             ],
             [
              0.2222222222222222,
              "#3e4989"
             ],
             [
              0.3333333333333333,
              "#31688e"
             ],
             [
              0.4444444444444444,
              "#26828e"
             ],
             [
              0.5555555555555556,
              "#1f9e89"
             ],
             [
              0.6666666666666666,
              "#35b779"
             ],
             [
              0.7777777777777778,
              "#6ece58"
             ],
             [
              0.8888888888888888,
              "#b5de2b"
             ],
             [
              1,
              "#fde725"
             ]
            ],
            "type": "contour"
           }
          ],
          "contourcarpet": [
           {
            "colorbar": {
             "outlinewidth": 1,
             "tickcolor": "rgb(36,36,36)",
             "ticks": "outside"
            },
            "type": "contourcarpet"
           }
          ],
          "heatmap": [
           {
            "colorbar": {
             "outlinewidth": 1,
             "tickcolor": "rgb(36,36,36)",
             "ticks": "outside"
            },
            "colorscale": [
             [
              0,
              "#440154"
             ],
             [
              0.1111111111111111,
              "#482878"
             ],
             [
              0.2222222222222222,
              "#3e4989"
             ],
             [
              0.3333333333333333,
              "#31688e"
             ],
             [
              0.4444444444444444,
              "#26828e"
             ],
             [
              0.5555555555555556,
              "#1f9e89"
             ],
             [
              0.6666666666666666,
              "#35b779"
             ],
             [
              0.7777777777777778,
              "#6ece58"
             ],
             [
              0.8888888888888888,
              "#b5de2b"
             ],
             [
              1,
              "#fde725"
             ]
            ],
            "type": "heatmap"
           }
          ],
          "heatmapgl": [
           {
            "colorbar": {
             "outlinewidth": 1,
             "tickcolor": "rgb(36,36,36)",
             "ticks": "outside"
            },
            "colorscale": [
             [
              0,
              "#440154"
             ],
             [
              0.1111111111111111,
              "#482878"
             ],
             [
              0.2222222222222222,
              "#3e4989"
             ],
             [
              0.3333333333333333,
              "#31688e"
             ],
             [
              0.4444444444444444,
              "#26828e"
             ],
             [
              0.5555555555555556,
              "#1f9e89"
             ],
             [
              0.6666666666666666,
              "#35b779"
             ],
             [
              0.7777777777777778,
              "#6ece58"
             ],
             [
              0.8888888888888888,
              "#b5de2b"
             ],
             [
              1,
              "#fde725"
             ]
            ],
            "type": "heatmapgl"
           }
          ],
          "histogram": [
           {
            "marker": {
             "line": {
              "color": "white",
              "width": 0.6
             }
            },
            "type": "histogram"
           }
          ],
          "histogram2d": [
           {
            "colorbar": {
             "outlinewidth": 1,
             "tickcolor": "rgb(36,36,36)",
             "ticks": "outside"
            },
            "colorscale": [
             [
              0,
              "#440154"
             ],
             [
              0.1111111111111111,
              "#482878"
             ],
             [
              0.2222222222222222,
              "#3e4989"
             ],
             [
              0.3333333333333333,
              "#31688e"
             ],
             [
              0.4444444444444444,
              "#26828e"
             ],
             [
              0.5555555555555556,
              "#1f9e89"
             ],
             [
              0.6666666666666666,
              "#35b779"
             ],
             [
              0.7777777777777778,
              "#6ece58"
             ],
             [
              0.8888888888888888,
              "#b5de2b"
             ],
             [
              1,
              "#fde725"
             ]
            ],
            "type": "histogram2d"
           }
          ],
          "histogram2dcontour": [
           {
            "colorbar": {
             "outlinewidth": 1,
             "tickcolor": "rgb(36,36,36)",
             "ticks": "outside"
            },
            "colorscale": [
             [
              0,
              "#440154"
             ],
             [
              0.1111111111111111,
              "#482878"
             ],
             [
              0.2222222222222222,
              "#3e4989"
             ],
             [
              0.3333333333333333,
              "#31688e"
             ],
             [
              0.4444444444444444,
              "#26828e"
             ],
             [
              0.5555555555555556,
              "#1f9e89"
             ],
             [
              0.6666666666666666,
              "#35b779"
             ],
             [
              0.7777777777777778,
              "#6ece58"
             ],
             [
              0.8888888888888888,
              "#b5de2b"
             ],
             [
              1,
              "#fde725"
             ]
            ],
            "type": "histogram2dcontour"
           }
          ],
          "mesh3d": [
           {
            "colorbar": {
             "outlinewidth": 1,
             "tickcolor": "rgb(36,36,36)",
             "ticks": "outside"
            },
            "type": "mesh3d"
           }
          ],
          "parcoords": [
           {
            "line": {
             "colorbar": {
              "outlinewidth": 1,
              "tickcolor": "rgb(36,36,36)",
              "ticks": "outside"
             }
            },
            "type": "parcoords"
           }
          ],
          "pie": [
           {
            "automargin": true,
            "type": "pie"
           }
          ],
          "scatter": [
           {
            "fillpattern": {
             "fillmode": "overlay",
             "size": 10,
             "solidity": 0.2
            },
            "type": "scatter"
           }
          ],
          "scatter3d": [
           {
            "line": {
             "colorbar": {
              "outlinewidth": 1,
              "tickcolor": "rgb(36,36,36)",
              "ticks": "outside"
             }
            },
            "marker": {
             "colorbar": {
              "outlinewidth": 1,
              "tickcolor": "rgb(36,36,36)",
              "ticks": "outside"
             }
            },
            "type": "scatter3d"
           }
          ],
          "scattercarpet": [
           {
            "marker": {
             "colorbar": {
              "outlinewidth": 1,
              "tickcolor": "rgb(36,36,36)",
              "ticks": "outside"
             }
            },
            "type": "scattercarpet"
           }
          ],
          "scattergeo": [
           {
            "marker": {
             "colorbar": {
              "outlinewidth": 1,
              "tickcolor": "rgb(36,36,36)",
              "ticks": "outside"
             }
            },
            "type": "scattergeo"
           }
          ],
          "scattergl": [
           {
            "marker": {
             "colorbar": {
              "outlinewidth": 1,
              "tickcolor": "rgb(36,36,36)",
              "ticks": "outside"
             }
            },
            "type": "scattergl"
           }
          ],
          "scattermapbox": [
           {
            "marker": {
             "colorbar": {
              "outlinewidth": 1,
              "tickcolor": "rgb(36,36,36)",
              "ticks": "outside"
             }
            },
            "type": "scattermapbox"
           }
          ],
          "scatterpolar": [
           {
            "marker": {
             "colorbar": {
              "outlinewidth": 1,
              "tickcolor": "rgb(36,36,36)",
              "ticks": "outside"
             }
            },
            "type": "scatterpolar"
           }
          ],
          "scatterpolargl": [
           {
            "marker": {
             "colorbar": {
              "outlinewidth": 1,
              "tickcolor": "rgb(36,36,36)",
              "ticks": "outside"
             }
            },
            "type": "scatterpolargl"
           }
          ],
          "scatterternary": [
           {
            "marker": {
             "colorbar": {
              "outlinewidth": 1,
              "tickcolor": "rgb(36,36,36)",
              "ticks": "outside"
             }
            },
            "type": "scatterternary"
           }
          ],
          "surface": [
           {
            "colorbar": {
             "outlinewidth": 1,
             "tickcolor": "rgb(36,36,36)",
             "ticks": "outside"
            },
            "colorscale": [
             [
              0,
              "#440154"
             ],
             [
              0.1111111111111111,
              "#482878"
             ],
             [
              0.2222222222222222,
              "#3e4989"
             ],
             [
              0.3333333333333333,
              "#31688e"
             ],
             [
              0.4444444444444444,
              "#26828e"
             ],
             [
              0.5555555555555556,
              "#1f9e89"
             ],
             [
              0.6666666666666666,
              "#35b779"
             ],
             [
              0.7777777777777778,
              "#6ece58"
             ],
             [
              0.8888888888888888,
              "#b5de2b"
             ],
             [
              1,
              "#fde725"
             ]
            ],
            "type": "surface"
           }
          ],
          "table": [
           {
            "cells": {
             "fill": {
              "color": "rgb(237,237,237)"
             },
             "line": {
              "color": "white"
             }
            },
            "header": {
             "fill": {
              "color": "rgb(217,217,217)"
             },
             "line": {
              "color": "white"
             }
            },
            "type": "table"
           }
          ]
         },
         "layout": {
          "annotationdefaults": {
           "arrowhead": 0,
           "arrowwidth": 1
          },
          "autotypenumbers": "strict",
          "coloraxis": {
           "colorbar": {
            "outlinewidth": 1,
            "tickcolor": "rgb(36,36,36)",
            "ticks": "outside"
           }
          },
          "colorscale": {
           "diverging": [
            [
             0,
             "rgb(103,0,31)"
            ],
            [
             0.1,
             "rgb(178,24,43)"
            ],
            [
             0.2,
             "rgb(214,96,77)"
            ],
            [
             0.3,
             "rgb(244,165,130)"
            ],
            [
             0.4,
             "rgb(253,219,199)"
            ],
            [
             0.5,
             "rgb(247,247,247)"
            ],
            [
             0.6,
             "rgb(209,229,240)"
            ],
            [
             0.7,
             "rgb(146,197,222)"
            ],
            [
             0.8,
             "rgb(67,147,195)"
            ],
            [
             0.9,
             "rgb(33,102,172)"
            ],
            [
             1,
             "rgb(5,48,97)"
            ]
           ],
           "sequential": [
            [
             0,
             "#440154"
            ],
            [
             0.1111111111111111,
             "#482878"
            ],
            [
             0.2222222222222222,
             "#3e4989"
            ],
            [
             0.3333333333333333,
             "#31688e"
            ],
            [
             0.4444444444444444,
             "#26828e"
            ],
            [
             0.5555555555555556,
             "#1f9e89"
            ],
            [
             0.6666666666666666,
             "#35b779"
            ],
            [
             0.7777777777777778,
             "#6ece58"
            ],
            [
             0.8888888888888888,
             "#b5de2b"
            ],
            [
             1,
             "#fde725"
            ]
           ],
           "sequentialminus": [
            [
             0,
             "#440154"
            ],
            [
             0.1111111111111111,
             "#482878"
            ],
            [
             0.2222222222222222,
             "#3e4989"
            ],
            [
             0.3333333333333333,
             "#31688e"
            ],
            [
             0.4444444444444444,
             "#26828e"
            ],
            [
             0.5555555555555556,
             "#1f9e89"
            ],
            [
             0.6666666666666666,
             "#35b779"
            ],
            [
             0.7777777777777778,
             "#6ece58"
            ],
            [
             0.8888888888888888,
             "#b5de2b"
            ],
            [
             1,
             "#fde725"
            ]
           ]
          },
          "colorway": [
           "#1F77B4",
           "#FF7F0E",
           "#2CA02C",
           "#D62728",
           "#9467BD",
           "#8C564B",
           "#E377C2",
           "#7F7F7F",
           "#BCBD22",
           "#17BECF"
          ],
          "font": {
           "color": "rgb(36,36,36)"
          },
          "geo": {
           "bgcolor": "white",
           "lakecolor": "white",
           "landcolor": "white",
           "showlakes": true,
           "showland": true,
           "subunitcolor": "white"
          },
          "hoverlabel": {
           "align": "left"
          },
          "hovermode": "closest",
          "mapbox": {
           "style": "light"
          },
          "paper_bgcolor": "white",
          "plot_bgcolor": "white",
          "polar": {
           "angularaxis": {
            "gridcolor": "rgb(232,232,232)",
            "linecolor": "rgb(36,36,36)",
            "showgrid": false,
            "showline": true,
            "ticks": "outside"
           },
           "bgcolor": "white",
           "radialaxis": {
            "gridcolor": "rgb(232,232,232)",
            "linecolor": "rgb(36,36,36)",
            "showgrid": false,
            "showline": true,
            "ticks": "outside"
           }
          },
          "scene": {
           "xaxis": {
            "backgroundcolor": "white",
            "gridcolor": "rgb(232,232,232)",
            "gridwidth": 2,
            "linecolor": "rgb(36,36,36)",
            "showbackground": true,
            "showgrid": false,
            "showline": true,
            "ticks": "outside",
            "zeroline": false,
            "zerolinecolor": "rgb(36,36,36)"
           },
           "yaxis": {
            "backgroundcolor": "white",
            "gridcolor": "rgb(232,232,232)",
            "gridwidth": 2,
            "linecolor": "rgb(36,36,36)",
            "showbackground": true,
            "showgrid": false,
            "showline": true,
            "ticks": "outside",
            "zeroline": false,
            "zerolinecolor": "rgb(36,36,36)"
           },
           "zaxis": {
            "backgroundcolor": "white",
            "gridcolor": "rgb(232,232,232)",
            "gridwidth": 2,
            "linecolor": "rgb(36,36,36)",
            "showbackground": true,
            "showgrid": false,
            "showline": true,
            "ticks": "outside",
            "zeroline": false,
            "zerolinecolor": "rgb(36,36,36)"
           }
          },
          "shapedefaults": {
           "fillcolor": "black",
           "line": {
            "width": 0
           },
           "opacity": 0.3
          },
          "ternary": {
           "aaxis": {
            "gridcolor": "rgb(232,232,232)",
            "linecolor": "rgb(36,36,36)",
            "showgrid": false,
            "showline": true,
            "ticks": "outside"
           },
           "baxis": {
            "gridcolor": "rgb(232,232,232)",
            "linecolor": "rgb(36,36,36)",
            "showgrid": false,
            "showline": true,
            "ticks": "outside"
           },
           "bgcolor": "white",
           "caxis": {
            "gridcolor": "rgb(232,232,232)",
            "linecolor": "rgb(36,36,36)",
            "showgrid": false,
            "showline": true,
            "ticks": "outside"
           }
          },
          "title": {
           "x": 0.05
          },
          "xaxis": {
           "automargin": true,
           "gridcolor": "rgb(232,232,232)",
           "linecolor": "rgb(36,36,36)",
           "showgrid": false,
           "showline": true,
           "ticks": "outside",
           "title": {
            "standoff": 15
           },
           "zeroline": false,
           "zerolinecolor": "rgb(36,36,36)"
          },
          "yaxis": {
           "automargin": true,
           "gridcolor": "rgb(232,232,232)",
           "linecolor": "rgb(36,36,36)",
           "showgrid": false,
           "showline": true,
           "ticks": "outside",
           "title": {
            "standoff": 15
           },
           "zeroline": false,
           "zerolinecolor": "rgb(36,36,36)"
          }
         }
        },
        "title": {
         "font": {
          "color": "Black",
          "size": 22
         },
         "text": "<b>Intertopic Distance Map</b>",
         "x": 0.5,
         "xanchor": "center",
         "y": 0.95,
         "yanchor": "top"
        },
        "width": 650,
        "xaxis": {
         "anchor": "y",
         "domain": [
          0,
          1
         ],
         "range": [
          -2.0985593616962435,
          20.168346977233888
         ],
         "title": {
          "text": ""
         },
         "visible": false
        },
        "yaxis": {
         "anchor": "x",
         "domain": [
          0,
          1
         ],
         "range": [
          -5.640349388122559,
          12.854929733276368
         ],
         "title": {
          "text": ""
         },
         "visible": false
        }
       }
      }
     },
     "metadata": {},
     "output_type": "display_data"
    }
   ],
   "source": [
    "model.visualize_topics()"
   ]
  },
  {
   "cell_type": "code",
   "execution_count": 65,
   "metadata": {},
   "outputs": [
    {
     "data": {
      "application/vnd.plotly.v1+json": {
       "config": {
        "plotlyServerURL": "https://plot.ly"
       },
       "data": [
        {
         "marker": {
          "color": "#D55E00"
         },
         "orientation": "h",
         "type": "bar",
         "x": [
          0.015431914214174286,
          0.017133446197806507,
          0.018198756106383468,
          0.019103143119238726,
          0.034792922948875975
         ],
         "xaxis": "x",
         "y": [
          "of  ",
          "the  ",
          "feedback  ",
          "corpus  ",
          "writing  "
         ],
         "yaxis": "y"
        },
        {
         "marker": {
          "color": "#0072B2"
         },
         "orientation": "h",
         "type": "bar",
         "x": [
          0.016502413859857065,
          0.017062126656057344,
          0.021180614411473456,
          0.021473898833261798,
          0.02612871549320071
         ],
         "xaxis": "x2",
         "y": [
          "of  ",
          "and  ",
          "systems  ",
          "is  ",
          "information  "
         ],
         "yaxis": "y2"
        },
        {
         "marker": {
          "color": "#CC79A7"
         },
         "orientation": "h",
         "type": "bar",
         "x": [
          0.018494084385786327,
          0.02811673518154819,
          0.03927097250008177,
          0.05294574170787623,
          0.06384479998960475
         ],
         "xaxis": "x3",
         "y": [
          "to  ",
          "big  ",
          "business  ",
          "data  ",
          "analytics  "
         ],
         "yaxis": "y3"
        },
        {
         "marker": {
          "color": "#E69F00"
         },
         "orientation": "h",
         "type": "bar",
         "x": [
          0.016083394593855736,
          0.016520638281478508,
          0.01703211352191002,
          0.02675581063642869,
          0.03423946639659301
         ],
         "xaxis": "x4",
         "y": [
          "of  ",
          "and  ",
          "telecollaborative  ",
          "telecollaboration  ",
          "intercultural  "
         ],
         "yaxis": "y4"
        },
        {
         "marker": {
          "color": "#56B4E9"
         },
         "orientation": "h",
         "type": "bar",
         "x": [
          0.01645972465144265,
          0.0175090538312598,
          0.017547309478142162,
          0.01822633544938649,
          0.019583104867295885
         ],
         "xaxis": "x5",
         "y": [
          "language  ",
          "in  ",
          "l2  ",
          "scmc  ",
          "task  "
         ],
         "yaxis": "y5"
        },
        {
         "marker": {
          "color": "#009E73"
         },
         "orientation": "h",
         "type": "bar",
         "x": [
          0.015106907359862878,
          0.015474028176940047,
          0.02067781646398464,
          0.021566327889755058,
          0.024689451067627776
         ],
         "xaxis": "x6",
         "y": [
          "and  ",
          "in  ",
          "health  ",
          "of  ",
          "the  "
         ],
         "yaxis": "y6"
        },
        {
         "marker": {
          "color": "#F0E442"
         },
         "orientation": "h",
         "type": "bar",
         "x": [
          0.016012069457531194,
          0.01707643632004271,
          0.021376181472214678,
          0.050235560532758884,
          0.058745097419039376
         ],
         "xaxis": "x7",
         "y": [
          "and  ",
          "to  ",
          "information  ",
          "cybersecurity  ",
          "security  "
         ],
         "yaxis": "y7"
        },
        {
         "marker": {
          "color": "#D55E00"
         },
         "orientation": "h",
         "type": "bar",
         "x": [
          0.01593459913711172,
          0.022111597451009154,
          0.029378539230130736,
          0.03427029085942966,
          0.04932019570533414
         ],
         "xaxis": "x8",
         "y": [
          "the  ",
          "language  ",
          "learning  ",
          "mall  ",
          "mobile  "
         ],
         "yaxis": "y8"
        },
        {
         "marker": {
          "color": "#0072B2"
         },
         "orientation": "h",
         "type": "bar",
         "x": [
          0.02477436175687119,
          0.02645806601713572,
          0.03125890018758005,
          0.032950967902699003,
          0.04048305738012696
         ],
         "xaxis": "x9",
         "y": [
          "language  ",
          "technology  ",
          "call  ",
          "tpack  ",
          "teachers  "
         ],
         "yaxis": "y9"
        },
        {
         "marker": {
          "color": "#CC79A7"
         },
         "orientation": "h",
         "type": "bar",
         "x": [
          0.018619109967783206,
          0.019676295938330573,
          0.022980349526541856,
          0.026846327352308,
          0.052345863804744014
         ],
         "xaxis": "x10",
         "y": [
          "training  ",
          "production  ",
          "speech  ",
          "asr  ",
          "pronunciation  "
         ],
         "yaxis": "y10"
        },
        {
         "marker": {
          "color": "#E69F00"
         },
         "orientation": "h",
         "type": "bar",
         "x": [
          0.024193878067571693,
          0.025124411839401378,
          0.02571956675805649,
          0.03830655217281708,
          0.07521093816795363
         ],
         "xaxis": "x11",
         "y": [
          "query  ",
          "sql  ",
          "data  ",
          "case  ",
          "database  "
         ],
         "yaxis": "y11"
        },
        {
         "marker": {
          "color": "#56B4E9"
         },
         "orientation": "h",
         "type": "bar",
         "x": [
          0.019806343308164196,
          0.022015282014177004,
          0.030191483792569914,
          0.030867434816380903,
          0.0460471478632384
         ],
         "xaxis": "x12",
         "y": [
          "digital  ",
          "language  ",
          "gaming  ",
          "games  ",
          "game  "
         ],
         "yaxis": "y12"
        },
        {
         "marker": {
          "color": "#009E73"
         },
         "orientation": "h",
         "type": "bar",
         "x": [
          0.016237276223902156,
          0.01854524078703245,
          0.019729365920564783,
          0.028093641592074958,
          0.03415962833538884
         ],
         "xaxis": "x13",
         "y": [
          "3d  ",
          "learning  ",
          "the  ",
          "virtual  ",
          "vr  "
         ],
         "yaxis": "y13"
        },
        {
         "marker": {
          "color": "#F0E442"
         },
         "orientation": "h",
         "type": "bar",
         "x": [
          0.01623491639869893,
          0.017214095719136815,
          0.01928946201214056,
          0.019341073304922296,
          0.04917545338550598
         ],
         "xaxis": "x14",
         "y": [
          "the  ",
          "to  ",
          "introductory  ",
          "students  ",
          "programming  "
         ],
         "yaxis": "y14"
        },
        {
         "marker": {
          "color": "#D55E00"
         },
         "orientation": "h",
         "type": "bar",
         "x": [
          0.018180264386382667,
          0.01849314758932483,
          0.020332737505509912,
          0.02081608643227689,
          0.08614154098076168
         ],
         "xaxis": "x15",
         "y": [
          "the  ",
          "strategies  ",
          "strategy  ",
          "comprehension  ",
          "reading  "
         ],
         "yaxis": "y15"
        },
        {
         "marker": {
          "color": "#0072B2"
         },
         "orientation": "h",
         "type": "bar",
         "x": [
          0.017498311042803458,
          0.017918925208172173,
          0.01937403834561305,
          0.022636772342930576,
          0.02557138062382812
         ],
         "xaxis": "x16",
         "y": [
          "identity  ",
          "in  ",
          "and  ",
          "online  ",
          "language  "
         ],
         "yaxis": "y16"
        },
        {
         "marker": {
          "color": "#CC79A7"
         },
         "orientation": "h",
         "type": "bar",
         "x": [
          0.01873347756991532,
          0.019064114722354832,
          0.020525777038100976,
          0.021582622822676187,
          0.05100970397973256
         ],
         "xaxis": "x17",
         "y": [
          "of  ",
          "quot  ",
          "learning  ",
          "language  ",
          "call  "
         ],
         "yaxis": "y17"
        },
        {
         "marker": {
          "color": "#E69F00"
         },
         "orientation": "h",
         "type": "bar",
         "x": [
          0.0260142057540242,
          0.028059762006030702,
          0.03081631460972582,
          0.031393322602897816,
          0.04751809231576112
         ],
         "xaxis": "x18",
         "y": [
          "emergency  ",
          "19  ",
          "online  ",
          "covid  ",
          "pandemic  "
         ],
         "yaxis": "y18"
        },
        {
         "marker": {
          "color": "#56B4E9"
         },
         "orientation": "h",
         "type": "bar",
         "x": [
          0.02046108299421693,
          0.023692958799261747,
          0.02395875842607603,
          0.024286617307233905,
          0.025485740148704496
         ],
         "xaxis": "x19",
         "y": [
          "students  ",
          "team  ",
          "projects  ",
          "project  ",
          "teams  "
         ],
         "yaxis": "y19"
        },
        {
         "marker": {
          "color": "#009E73"
         },
         "orientation": "h",
         "type": "bar",
         "x": [
          0.0215196608534645,
          0.024613394711416863,
          0.041766299002514384,
          0.04957778833060726,
          0.06808401963860439
         ],
         "xaxis": "x20",
         "y": [
          "learning  ",
          "kahoot  ",
          "games  ",
          "game  ",
          "gamification  "
         ],
         "yaxis": "y20"
        },
        {
         "marker": {
          "color": "#F0E442"
         },
         "orientation": "h",
         "type": "bar",
         "x": [
          0.024039383322176377,
          0.025661518452812122,
          0.02603956310771476,
          0.03186988102250412,
          0.0440975655946384
         ],
         "xaxis": "x21",
         "y": [
          "fan  ",
          "stories  ",
          "narrative  ",
          "digital  ",
          "storytelling  "
         ],
         "yaxis": "y21"
        },
        {
         "marker": {
          "color": "#D55E00"
         },
         "orientation": "h",
         "type": "bar",
         "x": [
          0.01886264731811235,
          0.018905534501790045,
          0.022960719438304095,
          0.04388110049681749,
          0.056625964905929055
         ],
         "xaxis": "x22",
         "y": [
          "use  ",
          "of  ",
          "facebook  ",
          "media  ",
          "social  "
         ],
         "yaxis": "y22"
        },
        {
         "marker": {
          "color": "#0072B2"
         },
         "orientation": "h",
         "type": "bar",
         "x": [
          0.022726435282273038,
          0.025263307944818802,
          0.030463498277090665,
          0.033930558202113284,
          0.03784595778339177
         ],
         "xaxis": "x23",
         "y": [
          "l1  ",
          "glossing  ",
          "gloss  ",
          "vocabulary  ",
          "glosses  "
         ],
         "yaxis": "y23"
        },
        {
         "marker": {
          "color": "#CC79A7"
         },
         "orientation": "h",
         "type": "bar",
         "x": [
          0.019946620289166824,
          0.020045894240796374,
          0.020322124374445263,
          0.021895675047045513,
          0.02231300655564782
         ],
         "xaxis": "x24",
         "y": [
          "of  ",
          "is  ",
          "purpose  ",
          "km  ",
          "open  "
         ],
         "yaxis": "y24"
        },
        {
         "marker": {
          "color": "#E69F00"
         },
         "orientation": "h",
         "type": "bar",
         "x": [
          0.02188531583233358,
          0.023078323073380883,
          0.024694503290898905,
          0.07113330340205397,
          0.11403986773236831
         ],
         "xaxis": "x25",
         "y": [
          "to  ",
          "development  ",
          "project  ",
          "scrum  ",
          "agile  "
         ],
         "yaxis": "y25"
        },
        {
         "marker": {
          "color": "#56B4E9"
         },
         "orientation": "h",
         "type": "bar",
         "x": [
          0.04047563265608514,
          0.04272384238925201,
          0.0449581950739102,
          0.06255976450706258,
          0.08177337290309808
         ],
         "xaxis": "x26",
         "y": [
          "caption  ",
          "listening  ",
          "captioning  ",
          "comprehension  ",
          "captions  "
         ],
         "yaxis": "y26"
        },
        {
         "marker": {
          "color": "#009E73"
         },
         "orientation": "h",
         "type": "bar",
         "x": [
          0.020466374072944396,
          0.023622100792133078,
          0.02414098185047451,
          0.02699668661958066,
          0.05563552824728389
         ],
         "xaxis": "x27",
         "y": [
          "learners  ",
          "chatbot  ",
          "chatbots  ",
          "rall  ",
          "robot  "
         ],
         "yaxis": "y27"
        },
        {
         "marker": {
          "color": "#F0E442"
         },
         "orientation": "h",
         "type": "bar",
         "x": [
          0.02592470497347617,
          0.027113122198947556,
          0.027992513037500468,
          0.0325096218538907,
          0.03362941890888033
         ],
         "xaxis": "x28",
         "y": [
          "open  ",
          "online  ",
          "massive  ",
          "moocs  ",
          "lmoocs  "
         ],
         "yaxis": "y28"
        },
        {
         "marker": {
          "color": "#D55E00"
         },
         "orientation": "h",
         "type": "bar",
         "x": [
          0.0209048441915495,
          0.021918744997726936,
          0.022346245470465625,
          0.026557123000887275,
          0.0305826726694583
         ],
         "xaxis": "x29",
         "y": [
          "the  ",
          "system  ",
          "it  ",
          "management  ",
          "case  "
         ],
         "yaxis": "y29"
        },
        {
         "marker": {
          "color": "#0072B2"
         },
         "orientation": "h",
         "type": "bar",
         "x": [
          0.03243155072961729,
          0.03607667907018599,
          0.038660829938561736,
          0.03949296825213586,
          0.05069502941059734
         ],
         "xaxis": "x30",
         "y": [
          "iwb  ",
          "intention  ",
          "use  ",
          "technology  ",
          "teachers  "
         ],
         "yaxis": "y30"
        },
        {
         "marker": {
          "color": "#CC79A7"
         },
         "orientation": "h",
         "type": "bar",
         "x": [
          0.02006836913761466,
          0.020235919876751215,
          0.020713300923307983,
          0.025747457073424698,
          0.09098310683931167
         ],
         "xaxis": "x31",
         "y": [
          "the  ",
          "were  ",
          "in  ",
          "classroom  ",
          "flipped  "
         ],
         "yaxis": "y31"
        },
        {
         "marker": {
          "color": "#E69F00"
         },
         "orientation": "h",
         "type": "bar",
         "x": [
          0.028452578378212065,
          0.028742535577372094,
          0.02960463192256606,
          0.029986344604354113,
          0.030394579445037446
         ],
         "xaxis": "x32",
         "y": [
          "mobile  ",
          "devices  ",
          "smartphones  ",
          "phones  ",
          "smart  "
         ],
         "yaxis": "y32"
        },
        {
         "marker": {
          "color": "#56B4E9"
         },
         "orientation": "h",
         "type": "bar",
         "x": [
          0.023691520190883972,
          0.023691520190883972,
          0.027778506051005705,
          0.05403843830061898,
          0.09951887588839539
         ],
         "xaxis": "x33",
         "y": [
          "aws  ",
          "cc  ",
          "decision  ",
          "computing  ",
          "cloud  "
         ],
         "yaxis": "y33"
        },
        {
         "marker": {
          "color": "#009E73"
         },
         "orientation": "h",
         "type": "bar",
         "x": [
          0.024038335753300197,
          0.02427757341727689,
          0.024912131306749807,
          0.0320332918837233,
          0.06338883495092124
         ],
         "xaxis": "x34",
         "y": [
          "web  ",
          "with  ",
          "hci  ",
          "systems  ",
          "disabilities  "
         ],
         "yaxis": "y34"
        },
        {
         "marker": {
          "color": "#F0E442"
         },
         "orientation": "h",
         "type": "bar",
         "x": [
          0.02117933677250144,
          0.021912333203963418,
          0.022076178571904005,
          0.023211071301227803,
          0.03447718963346265
         ],
         "xaxis": "x35",
         "y": [
          "intention  ",
          "technology  ",
          "acceptance  ",
          "textbook  ",
          "perceived  "
         ],
         "yaxis": "y35"
        },
        {
         "marker": {
          "color": "#D55E00"
         },
         "orientation": "h",
         "type": "bar",
         "x": [
          0.02720636763715041,
          0.03275415173697345,
          0.055184018570852984,
          0.05821994492925792,
          0.061519650657899494
         ],
         "xaxis": "x36",
         "y": [
          "augmented  ",
          "environments  ",
          "reality  ",
          "virtual  ",
          "vr  "
         ],
         "yaxis": "y36"
        },
        {
         "marker": {
          "color": "#0072B2"
         },
         "orientation": "h",
         "type": "bar",
         "x": [
          0.02395749744258868,
          0.023970305827143913,
          0.025309941948882766,
          0.025328848988750957,
          0.050805699938834735
         ],
         "xaxis": "x37",
         "y": [
          "videoconferencing  ",
          "online  ",
          "semiotic  ",
          "interactions  ",
          "multimodal  "
         ],
         "yaxis": "y37"
        },
        {
         "marker": {
          "color": "#CC79A7"
         },
         "orientation": "h",
         "type": "bar",
         "x": [
          0.0292215983763452,
          0.02948273137833069,
          0.030056281920249922,
          0.03727966174770364,
          0.04394022605004846
         ],
         "xaxis": "x38",
         "y": [
          "programming  ",
          "inventor  ",
          "mobile  ",
          "development  ",
          "app  "
         ],
         "yaxis": "y38"
        },
        {
         "marker": {
          "color": "#E69F00"
         },
         "orientation": "h",
         "type": "bar",
         "x": [
          0.02717997191645007,
          0.027891267093973576,
          0.02904341787507382,
          0.03197643754876478,
          0.07184550812202418
         ],
         "xaxis": "x39",
         "y": [
          "political  ",
          "globalisation  ",
          "quot  ",
          "income  ",
          "global  "
         ],
         "yaxis": "y39"
        },
        {
         "marker": {
          "color": "#56B4E9"
         },
         "orientation": "h",
         "type": "bar",
         "x": [
          0.018202591505808177,
          0.021277841153905845,
          0.02246050387110472,
          0.025032025151390917,
          0.08129425305956536
         ],
         "xaxis": "x40",
         "y": [
          "l2  ",
          "intervention  ",
          "dlls  ",
          "acquisition  ",
          "vocabulary  "
         ],
         "yaxis": "y40"
        },
        {
         "marker": {
          "color": "#009E73"
         },
         "orientation": "h",
         "type": "bar",
         "x": [
          0.027703951937158005,
          0.032586944755038705,
          0.03261040694007797,
          0.03471523239240331,
          0.13765110312222043
         ],
         "xaxis": "x41",
         "y": [
          "metacognitive  ",
          "item  ",
          "comprehension  ",
          "test  ",
          "listening  "
         ],
         "yaxis": "y41"
        },
        {
         "marker": {
          "color": "#F0E442"
         },
         "orientation": "h",
         "type": "bar",
         "x": [
          0.025037960140367934,
          0.026197484964886504,
          0.027142470157487667,
          0.027217050120736355,
          0.03208413693029769
         ],
         "xaxis": "x42",
         "y": [
          "challenge  ",
          "client  ",
          "business  ",
          "service  ",
          "strategy  "
         ],
         "yaxis": "y42"
        },
        {
         "marker": {
          "color": "#D55E00"
         },
         "orientation": "h",
         "type": "bar",
         "x": [
          0.01943014405468267,
          0.020160740149313842,
          0.025572419781217902,
          0.02922562260710617,
          0.039435265888443954
         ],
         "xaxis": "x43",
         "y": [
          "algorithms  ",
          "intelligent  ",
          "ai  ",
          "sentiment  ",
          "data  "
         ],
         "yaxis": "y43"
        },
        {
         "marker": {
          "color": "#0072B2"
         },
         "orientation": "h",
         "type": "bar",
         "x": [
          0.018787589382555044,
          0.01990411547329361,
          0.02180848209703806,
          0.02376801714292819,
          0.03130129122287083
         ],
         "xaxis": "x44",
         "y": [
          "facebook  ",
          "online  ",
          "sites  ",
          "participation  ",
          "social  "
         ],
         "yaxis": "y44"
        },
        {
         "marker": {
          "color": "#CC79A7"
         },
         "orientation": "h",
         "type": "bar",
         "x": [
          0.023758310697882437,
          0.02847187292299706,
          0.033143383815332224,
          0.04291512085165696,
          0.06061797521260636
         ],
         "xaxis": "x45",
         "y": [
          "students  ",
          "student  ",
          "discussion  ",
          "online  ",
          "discussions  "
         ],
         "yaxis": "y45"
        },
        {
         "marker": {
          "color": "#E69F00"
         },
         "orientation": "h",
         "type": "bar",
         "x": [
          0.022693049592685095,
          0.023189103601718785,
          0.03438710388675366,
          0.0535338263655011,
          0.10188943395640489
         ],
         "xaxis": "x46",
         "y": [
          "the  ",
          "lecture  ",
          "class  ",
          "classroom  ",
          "flipped  "
         ],
         "yaxis": "y46"
        },
        {
         "marker": {
          "color": "#56B4E9"
         },
         "orientation": "h",
         "type": "bar",
         "x": [
          0.021809468967030794,
          0.030412975320038838,
          0.05897831084138531,
          0.06050471559262599,
          0.06406049938898599
         ],
         "xaxis": "x47",
         "y": [
          "faculty  ",
          "dishonesty  ",
          "academic  ",
          "plagiarism  ",
          "integrity  "
         ],
         "yaxis": "y47"
        },
        {
         "marker": {
          "color": "#009E73"
         },
         "orientation": "h",
         "type": "bar",
         "x": [
          0.021540944424337356,
          0.024220984611387854,
          0.02570567687101481,
          0.04187116997916011,
          0.06924893553391796
         ],
         "xaxis": "x48",
         "y": [
          "learning  ",
          "content  ",
          "courses  ",
          "qm  ",
          "online  "
         ],
         "yaxis": "y48"
        },
        {
         "marker": {
          "color": "#F0E442"
         },
         "orientation": "h",
         "type": "bar",
         "x": [
          0.02652408628210529,
          0.02940002274185054,
          0.03069567468325268,
          0.03336454434489538,
          0.08130047456944427
         ],
         "xaxis": "x49",
         "y": [
          "issues  ",
          "ethical  ",
          "case  ",
          "ethics  ",
          "privacy  "
         ],
         "yaxis": "y49"
        },
        {
         "marker": {
          "color": "#D55E00"
         },
         "orientation": "h",
         "type": "bar",
         "x": [
          0.02062606155811719,
          0.02086680739517252,
          0.02185918383803757,
          0.04370292320486598,
          0.06287604301112709
         ],
         "xaxis": "x50",
         "y": [
          "modifiers  ",
          "speakers  ",
          "l1  ",
          "pragmatic  ",
          "pragmatics  "
         ],
         "yaxis": "y50"
        }
       ],
       "layout": {
        "annotations": [
         {
          "font": {
           "size": 16
          },
          "showarrow": false,
          "text": "Topic 0",
          "x": 0.0875,
          "xanchor": "center",
          "xref": "paper",
          "y": 0.9999999999999999,
          "yanchor": "bottom",
          "yref": "paper"
         },
         {
          "font": {
           "size": 16
          },
          "showarrow": false,
          "text": "Topic 1",
          "x": 0.36250000000000004,
          "xanchor": "center",
          "xref": "paper",
          "y": 0.9999999999999999,
          "yanchor": "bottom",
          "yref": "paper"
         },
         {
          "font": {
           "size": 16
          },
          "showarrow": false,
          "text": "Topic 2",
          "x": 0.6375000000000001,
          "xanchor": "center",
          "xref": "paper",
          "y": 0.9999999999999999,
          "yanchor": "bottom",
          "yref": "paper"
         },
         {
          "font": {
           "size": 16
          },
          "showarrow": false,
          "text": "Topic 3",
          "x": 0.9125,
          "xanchor": "center",
          "xref": "paper",
          "y": 0.9999999999999999,
          "yanchor": "bottom",
          "yref": "paper"
         },
         {
          "font": {
           "size": 16
          },
          "showarrow": false,
          "text": "Topic 4",
          "x": 0.0875,
          "xanchor": "center",
          "xref": "paper",
          "y": 0.9207100591715975,
          "yanchor": "bottom",
          "yref": "paper"
         },
         {
          "font": {
           "size": 16
          },
          "showarrow": false,
          "text": "Topic 5",
          "x": 0.36250000000000004,
          "xanchor": "center",
          "xref": "paper",
          "y": 0.9207100591715975,
          "yanchor": "bottom",
          "yref": "paper"
         },
         {
          "font": {
           "size": 16
          },
          "showarrow": false,
          "text": "Topic 6",
          "x": 0.6375000000000001,
          "xanchor": "center",
          "xref": "paper",
          "y": 0.9207100591715975,
          "yanchor": "bottom",
          "yref": "paper"
         },
         {
          "font": {
           "size": 16
          },
          "showarrow": false,
          "text": "Topic 7",
          "x": 0.9125,
          "xanchor": "center",
          "xref": "paper",
          "y": 0.9207100591715975,
          "yanchor": "bottom",
          "yref": "paper"
         },
         {
          "font": {
           "size": 16
          },
          "showarrow": false,
          "text": "Topic 8",
          "x": 0.0875,
          "xanchor": "center",
          "xref": "paper",
          "y": 0.8414201183431951,
          "yanchor": "bottom",
          "yref": "paper"
         },
         {
          "font": {
           "size": 16
          },
          "showarrow": false,
          "text": "Topic 9",
          "x": 0.36250000000000004,
          "xanchor": "center",
          "xref": "paper",
          "y": 0.8414201183431951,
          "yanchor": "bottom",
          "yref": "paper"
         },
         {
          "font": {
           "size": 16
          },
          "showarrow": false,
          "text": "Topic 10",
          "x": 0.6375000000000001,
          "xanchor": "center",
          "xref": "paper",
          "y": 0.8414201183431951,
          "yanchor": "bottom",
          "yref": "paper"
         },
         {
          "font": {
           "size": 16
          },
          "showarrow": false,
          "text": "Topic 11",
          "x": 0.9125,
          "xanchor": "center",
          "xref": "paper",
          "y": 0.8414201183431951,
          "yanchor": "bottom",
          "yref": "paper"
         },
         {
          "font": {
           "size": 16
          },
          "showarrow": false,
          "text": "Topic 12",
          "x": 0.0875,
          "xanchor": "center",
          "xref": "paper",
          "y": 0.7621301775147928,
          "yanchor": "bottom",
          "yref": "paper"
         },
         {
          "font": {
           "size": 16
          },
          "showarrow": false,
          "text": "Topic 13",
          "x": 0.36250000000000004,
          "xanchor": "center",
          "xref": "paper",
          "y": 0.7621301775147928,
          "yanchor": "bottom",
          "yref": "paper"
         },
         {
          "font": {
           "size": 16
          },
          "showarrow": false,
          "text": "Topic 14",
          "x": 0.6375000000000001,
          "xanchor": "center",
          "xref": "paper",
          "y": 0.7621301775147928,
          "yanchor": "bottom",
          "yref": "paper"
         },
         {
          "font": {
           "size": 16
          },
          "showarrow": false,
          "text": "Topic 15",
          "x": 0.9125,
          "xanchor": "center",
          "xref": "paper",
          "y": 0.7621301775147928,
          "yanchor": "bottom",
          "yref": "paper"
         },
         {
          "font": {
           "size": 16
          },
          "showarrow": false,
          "text": "Topic 16",
          "x": 0.0875,
          "xanchor": "center",
          "xref": "paper",
          "y": 0.6828402366863904,
          "yanchor": "bottom",
          "yref": "paper"
         },
         {
          "font": {
           "size": 16
          },
          "showarrow": false,
          "text": "Topic 17",
          "x": 0.36250000000000004,
          "xanchor": "center",
          "xref": "paper",
          "y": 0.6828402366863904,
          "yanchor": "bottom",
          "yref": "paper"
         },
         {
          "font": {
           "size": 16
          },
          "showarrow": false,
          "text": "Topic 18",
          "x": 0.6375000000000001,
          "xanchor": "center",
          "xref": "paper",
          "y": 0.6828402366863904,
          "yanchor": "bottom",
          "yref": "paper"
         },
         {
          "font": {
           "size": 16
          },
          "showarrow": false,
          "text": "Topic 19",
          "x": 0.9125,
          "xanchor": "center",
          "xref": "paper",
          "y": 0.6828402366863904,
          "yanchor": "bottom",
          "yref": "paper"
         },
         {
          "font": {
           "size": 16
          },
          "showarrow": false,
          "text": "Topic 20",
          "x": 0.0875,
          "xanchor": "center",
          "xref": "paper",
          "y": 0.6035502958579881,
          "yanchor": "bottom",
          "yref": "paper"
         },
         {
          "font": {
           "size": 16
          },
          "showarrow": false,
          "text": "Topic 21",
          "x": 0.36250000000000004,
          "xanchor": "center",
          "xref": "paper",
          "y": 0.6035502958579881,
          "yanchor": "bottom",
          "yref": "paper"
         },
         {
          "font": {
           "size": 16
          },
          "showarrow": false,
          "text": "Topic 22",
          "x": 0.6375000000000001,
          "xanchor": "center",
          "xref": "paper",
          "y": 0.6035502958579881,
          "yanchor": "bottom",
          "yref": "paper"
         },
         {
          "font": {
           "size": 16
          },
          "showarrow": false,
          "text": "Topic 23",
          "x": 0.9125,
          "xanchor": "center",
          "xref": "paper",
          "y": 0.6035502958579881,
          "yanchor": "bottom",
          "yref": "paper"
         },
         {
          "font": {
           "size": 16
          },
          "showarrow": false,
          "text": "Topic 24",
          "x": 0.0875,
          "xanchor": "center",
          "xref": "paper",
          "y": 0.5242603550295858,
          "yanchor": "bottom",
          "yref": "paper"
         },
         {
          "font": {
           "size": 16
          },
          "showarrow": false,
          "text": "Topic 25",
          "x": 0.36250000000000004,
          "xanchor": "center",
          "xref": "paper",
          "y": 0.5242603550295858,
          "yanchor": "bottom",
          "yref": "paper"
         },
         {
          "font": {
           "size": 16
          },
          "showarrow": false,
          "text": "Topic 26",
          "x": 0.6375000000000001,
          "xanchor": "center",
          "xref": "paper",
          "y": 0.5242603550295858,
          "yanchor": "bottom",
          "yref": "paper"
         },
         {
          "font": {
           "size": 16
          },
          "showarrow": false,
          "text": "Topic 27",
          "x": 0.9125,
          "xanchor": "center",
          "xref": "paper",
          "y": 0.5242603550295858,
          "yanchor": "bottom",
          "yref": "paper"
         },
         {
          "font": {
           "size": 16
          },
          "showarrow": false,
          "text": "Topic 28",
          "x": 0.0875,
          "xanchor": "center",
          "xref": "paper",
          "y": 0.4449704142011834,
          "yanchor": "bottom",
          "yref": "paper"
         },
         {
          "font": {
           "size": 16
          },
          "showarrow": false,
          "text": "Topic 29",
          "x": 0.36250000000000004,
          "xanchor": "center",
          "xref": "paper",
          "y": 0.4449704142011834,
          "yanchor": "bottom",
          "yref": "paper"
         },
         {
          "font": {
           "size": 16
          },
          "showarrow": false,
          "text": "Topic 30",
          "x": 0.6375000000000001,
          "xanchor": "center",
          "xref": "paper",
          "y": 0.4449704142011834,
          "yanchor": "bottom",
          "yref": "paper"
         },
         {
          "font": {
           "size": 16
          },
          "showarrow": false,
          "text": "Topic 31",
          "x": 0.9125,
          "xanchor": "center",
          "xref": "paper",
          "y": 0.4449704142011834,
          "yanchor": "bottom",
          "yref": "paper"
         },
         {
          "font": {
           "size": 16
          },
          "showarrow": false,
          "text": "Topic 32",
          "x": 0.0875,
          "xanchor": "center",
          "xref": "paper",
          "y": 0.36568047337278103,
          "yanchor": "bottom",
          "yref": "paper"
         },
         {
          "font": {
           "size": 16
          },
          "showarrow": false,
          "text": "Topic 33",
          "x": 0.36250000000000004,
          "xanchor": "center",
          "xref": "paper",
          "y": 0.36568047337278103,
          "yanchor": "bottom",
          "yref": "paper"
         },
         {
          "font": {
           "size": 16
          },
          "showarrow": false,
          "text": "Topic 34",
          "x": 0.6375000000000001,
          "xanchor": "center",
          "xref": "paper",
          "y": 0.36568047337278103,
          "yanchor": "bottom",
          "yref": "paper"
         },
         {
          "font": {
           "size": 16
          },
          "showarrow": false,
          "text": "Topic 35",
          "x": 0.9125,
          "xanchor": "center",
          "xref": "paper",
          "y": 0.36568047337278103,
          "yanchor": "bottom",
          "yref": "paper"
         },
         {
          "font": {
           "size": 16
          },
          "showarrow": false,
          "text": "Topic 36",
          "x": 0.0875,
          "xanchor": "center",
          "xref": "paper",
          "y": 0.2863905325443787,
          "yanchor": "bottom",
          "yref": "paper"
         },
         {
          "font": {
           "size": 16
          },
          "showarrow": false,
          "text": "Topic 37",
          "x": 0.36250000000000004,
          "xanchor": "center",
          "xref": "paper",
          "y": 0.2863905325443787,
          "yanchor": "bottom",
          "yref": "paper"
         },
         {
          "font": {
           "size": 16
          },
          "showarrow": false,
          "text": "Topic 38",
          "x": 0.6375000000000001,
          "xanchor": "center",
          "xref": "paper",
          "y": 0.2863905325443787,
          "yanchor": "bottom",
          "yref": "paper"
         },
         {
          "font": {
           "size": 16
          },
          "showarrow": false,
          "text": "Topic 39",
          "x": 0.9125,
          "xanchor": "center",
          "xref": "paper",
          "y": 0.2863905325443787,
          "yanchor": "bottom",
          "yref": "paper"
         },
         {
          "font": {
           "size": 16
          },
          "showarrow": false,
          "text": "Topic 40",
          "x": 0.0875,
          "xanchor": "center",
          "xref": "paper",
          "y": 0.20710059171597633,
          "yanchor": "bottom",
          "yref": "paper"
         },
         {
          "font": {
           "size": 16
          },
          "showarrow": false,
          "text": "Topic 41",
          "x": 0.36250000000000004,
          "xanchor": "center",
          "xref": "paper",
          "y": 0.20710059171597633,
          "yanchor": "bottom",
          "yref": "paper"
         },
         {
          "font": {
           "size": 16
          },
          "showarrow": false,
          "text": "Topic 42",
          "x": 0.6375000000000001,
          "xanchor": "center",
          "xref": "paper",
          "y": 0.20710059171597633,
          "yanchor": "bottom",
          "yref": "paper"
         },
         {
          "font": {
           "size": 16
          },
          "showarrow": false,
          "text": "Topic 43",
          "x": 0.9125,
          "xanchor": "center",
          "xref": "paper",
          "y": 0.20710059171597633,
          "yanchor": "bottom",
          "yref": "paper"
         },
         {
          "font": {
           "size": 16
          },
          "showarrow": false,
          "text": "Topic 44",
          "x": 0.0875,
          "xanchor": "center",
          "xref": "paper",
          "y": 0.12781065088757396,
          "yanchor": "bottom",
          "yref": "paper"
         },
         {
          "font": {
           "size": 16
          },
          "showarrow": false,
          "text": "Topic 45",
          "x": 0.36250000000000004,
          "xanchor": "center",
          "xref": "paper",
          "y": 0.12781065088757396,
          "yanchor": "bottom",
          "yref": "paper"
         },
         {
          "font": {
           "size": 16
          },
          "showarrow": false,
          "text": "Topic 46",
          "x": 0.6375000000000001,
          "xanchor": "center",
          "xref": "paper",
          "y": 0.12781065088757396,
          "yanchor": "bottom",
          "yref": "paper"
         },
         {
          "font": {
           "size": 16
          },
          "showarrow": false,
          "text": "Topic 47",
          "x": 0.9125,
          "xanchor": "center",
          "xref": "paper",
          "y": 0.12781065088757396,
          "yanchor": "bottom",
          "yref": "paper"
         },
         {
          "font": {
           "size": 16
          },
          "showarrow": false,
          "text": "Topic 48",
          "x": 0.0875,
          "xanchor": "center",
          "xref": "paper",
          "y": 0.04852071005917159,
          "yanchor": "bottom",
          "yref": "paper"
         },
         {
          "font": {
           "size": 16
          },
          "showarrow": false,
          "text": "Topic 49",
          "x": 0.36250000000000004,
          "xanchor": "center",
          "xref": "paper",
          "y": 0.04852071005917159,
          "yanchor": "bottom",
          "yref": "paper"
         }
        ],
        "height": 3250,
        "hoverlabel": {
         "bgcolor": "white",
         "font": {
          "family": "Rockwell",
          "size": 16
         }
        },
        "showlegend": false,
        "template": {
         "data": {
          "bar": [
           {
            "error_x": {
             "color": "#2a3f5f"
            },
            "error_y": {
             "color": "#2a3f5f"
            },
            "marker": {
             "line": {
              "color": "white",
              "width": 0.5
             },
             "pattern": {
              "fillmode": "overlay",
              "size": 10,
              "solidity": 0.2
             }
            },
            "type": "bar"
           }
          ],
          "barpolar": [
           {
            "marker": {
             "line": {
              "color": "white",
              "width": 0.5
             },
             "pattern": {
              "fillmode": "overlay",
              "size": 10,
              "solidity": 0.2
             }
            },
            "type": "barpolar"
           }
          ],
          "carpet": [
           {
            "aaxis": {
             "endlinecolor": "#2a3f5f",
             "gridcolor": "#C8D4E3",
             "linecolor": "#C8D4E3",
             "minorgridcolor": "#C8D4E3",
             "startlinecolor": "#2a3f5f"
            },
            "baxis": {
             "endlinecolor": "#2a3f5f",
             "gridcolor": "#C8D4E3",
             "linecolor": "#C8D4E3",
             "minorgridcolor": "#C8D4E3",
             "startlinecolor": "#2a3f5f"
            },
            "type": "carpet"
           }
          ],
          "choropleth": [
           {
            "colorbar": {
             "outlinewidth": 0,
             "ticks": ""
            },
            "type": "choropleth"
           }
          ],
          "contour": [
           {
            "colorbar": {
             "outlinewidth": 0,
             "ticks": ""
            },
            "colorscale": [
             [
              0,
              "#0d0887"
             ],
             [
              0.1111111111111111,
              "#46039f"
             ],
             [
              0.2222222222222222,
              "#7201a8"
             ],
             [
              0.3333333333333333,
              "#9c179e"
             ],
             [
              0.4444444444444444,
              "#bd3786"
             ],
             [
              0.5555555555555556,
              "#d8576b"
             ],
             [
              0.6666666666666666,
              "#ed7953"
             ],
             [
              0.7777777777777778,
              "#fb9f3a"
             ],
             [
              0.8888888888888888,
              "#fdca26"
             ],
             [
              1,
              "#f0f921"
             ]
            ],
            "type": "contour"
           }
          ],
          "contourcarpet": [
           {
            "colorbar": {
             "outlinewidth": 0,
             "ticks": ""
            },
            "type": "contourcarpet"
           }
          ],
          "heatmap": [
           {
            "colorbar": {
             "outlinewidth": 0,
             "ticks": ""
            },
            "colorscale": [
             [
              0,
              "#0d0887"
             ],
             [
              0.1111111111111111,
              "#46039f"
             ],
             [
              0.2222222222222222,
              "#7201a8"
             ],
             [
              0.3333333333333333,
              "#9c179e"
             ],
             [
              0.4444444444444444,
              "#bd3786"
             ],
             [
              0.5555555555555556,
              "#d8576b"
             ],
             [
              0.6666666666666666,
              "#ed7953"
             ],
             [
              0.7777777777777778,
              "#fb9f3a"
             ],
             [
              0.8888888888888888,
              "#fdca26"
             ],
             [
              1,
              "#f0f921"
             ]
            ],
            "type": "heatmap"
           }
          ],
          "heatmapgl": [
           {
            "colorbar": {
             "outlinewidth": 0,
             "ticks": ""
            },
            "colorscale": [
             [
              0,
              "#0d0887"
             ],
             [
              0.1111111111111111,
              "#46039f"
             ],
             [
              0.2222222222222222,
              "#7201a8"
             ],
             [
              0.3333333333333333,
              "#9c179e"
             ],
             [
              0.4444444444444444,
              "#bd3786"
             ],
             [
              0.5555555555555556,
              "#d8576b"
             ],
             [
              0.6666666666666666,
              "#ed7953"
             ],
             [
              0.7777777777777778,
              "#fb9f3a"
             ],
             [
              0.8888888888888888,
              "#fdca26"
             ],
             [
              1,
              "#f0f921"
             ]
            ],
            "type": "heatmapgl"
           }
          ],
          "histogram": [
           {
            "marker": {
             "pattern": {
              "fillmode": "overlay",
              "size": 10,
              "solidity": 0.2
             }
            },
            "type": "histogram"
           }
          ],
          "histogram2d": [
           {
            "colorbar": {
             "outlinewidth": 0,
             "ticks": ""
            },
            "colorscale": [
             [
              0,
              "#0d0887"
             ],
             [
              0.1111111111111111,
              "#46039f"
             ],
             [
              0.2222222222222222,
              "#7201a8"
             ],
             [
              0.3333333333333333,
              "#9c179e"
             ],
             [
              0.4444444444444444,
              "#bd3786"
             ],
             [
              0.5555555555555556,
              "#d8576b"
             ],
             [
              0.6666666666666666,
              "#ed7953"
             ],
             [
              0.7777777777777778,
              "#fb9f3a"
             ],
             [
              0.8888888888888888,
              "#fdca26"
             ],
             [
              1,
              "#f0f921"
             ]
            ],
            "type": "histogram2d"
           }
          ],
          "histogram2dcontour": [
           {
            "colorbar": {
             "outlinewidth": 0,
             "ticks": ""
            },
            "colorscale": [
             [
              0,
              "#0d0887"
             ],
             [
              0.1111111111111111,
              "#46039f"
             ],
             [
              0.2222222222222222,
              "#7201a8"
             ],
             [
              0.3333333333333333,
              "#9c179e"
             ],
             [
              0.4444444444444444,
              "#bd3786"
             ],
             [
              0.5555555555555556,
              "#d8576b"
             ],
             [
              0.6666666666666666,
              "#ed7953"
             ],
             [
              0.7777777777777778,
              "#fb9f3a"
             ],
             [
              0.8888888888888888,
              "#fdca26"
             ],
             [
              1,
              "#f0f921"
             ]
            ],
            "type": "histogram2dcontour"
           }
          ],
          "mesh3d": [
           {
            "colorbar": {
             "outlinewidth": 0,
             "ticks": ""
            },
            "type": "mesh3d"
           }
          ],
          "parcoords": [
           {
            "line": {
             "colorbar": {
              "outlinewidth": 0,
              "ticks": ""
             }
            },
            "type": "parcoords"
           }
          ],
          "pie": [
           {
            "automargin": true,
            "type": "pie"
           }
          ],
          "scatter": [
           {
            "fillpattern": {
             "fillmode": "overlay",
             "size": 10,
             "solidity": 0.2
            },
            "type": "scatter"
           }
          ],
          "scatter3d": [
           {
            "line": {
             "colorbar": {
              "outlinewidth": 0,
              "ticks": ""
             }
            },
            "marker": {
             "colorbar": {
              "outlinewidth": 0,
              "ticks": ""
             }
            },
            "type": "scatter3d"
           }
          ],
          "scattercarpet": [
           {
            "marker": {
             "colorbar": {
              "outlinewidth": 0,
              "ticks": ""
             }
            },
            "type": "scattercarpet"
           }
          ],
          "scattergeo": [
           {
            "marker": {
             "colorbar": {
              "outlinewidth": 0,
              "ticks": ""
             }
            },
            "type": "scattergeo"
           }
          ],
          "scattergl": [
           {
            "marker": {
             "colorbar": {
              "outlinewidth": 0,
              "ticks": ""
             }
            },
            "type": "scattergl"
           }
          ],
          "scattermapbox": [
           {
            "marker": {
             "colorbar": {
              "outlinewidth": 0,
              "ticks": ""
             }
            },
            "type": "scattermapbox"
           }
          ],
          "scatterpolar": [
           {
            "marker": {
             "colorbar": {
              "outlinewidth": 0,
              "ticks": ""
             }
            },
            "type": "scatterpolar"
           }
          ],
          "scatterpolargl": [
           {
            "marker": {
             "colorbar": {
              "outlinewidth": 0,
              "ticks": ""
             }
            },
            "type": "scatterpolargl"
           }
          ],
          "scatterternary": [
           {
            "marker": {
             "colorbar": {
              "outlinewidth": 0,
              "ticks": ""
             }
            },
            "type": "scatterternary"
           }
          ],
          "surface": [
           {
            "colorbar": {
             "outlinewidth": 0,
             "ticks": ""
            },
            "colorscale": [
             [
              0,
              "#0d0887"
             ],
             [
              0.1111111111111111,
              "#46039f"
             ],
             [
              0.2222222222222222,
              "#7201a8"
             ],
             [
              0.3333333333333333,
              "#9c179e"
             ],
             [
              0.4444444444444444,
              "#bd3786"
             ],
             [
              0.5555555555555556,
              "#d8576b"
             ],
             [
              0.6666666666666666,
              "#ed7953"
             ],
             [
              0.7777777777777778,
              "#fb9f3a"
             ],
             [
              0.8888888888888888,
              "#fdca26"
             ],
             [
              1,
              "#f0f921"
             ]
            ],
            "type": "surface"
           }
          ],
          "table": [
           {
            "cells": {
             "fill": {
              "color": "#EBF0F8"
             },
             "line": {
              "color": "white"
             }
            },
            "header": {
             "fill": {
              "color": "#C8D4E3"
             },
             "line": {
              "color": "white"
             }
            },
            "type": "table"
           }
          ]
         },
         "layout": {
          "annotationdefaults": {
           "arrowcolor": "#2a3f5f",
           "arrowhead": 0,
           "arrowwidth": 1
          },
          "autotypenumbers": "strict",
          "coloraxis": {
           "colorbar": {
            "outlinewidth": 0,
            "ticks": ""
           }
          },
          "colorscale": {
           "diverging": [
            [
             0,
             "#8e0152"
            ],
            [
             0.1,
             "#c51b7d"
            ],
            [
             0.2,
             "#de77ae"
            ],
            [
             0.3,
             "#f1b6da"
            ],
            [
             0.4,
             "#fde0ef"
            ],
            [
             0.5,
             "#f7f7f7"
            ],
            [
             0.6,
             "#e6f5d0"
            ],
            [
             0.7,
             "#b8e186"
            ],
            [
             0.8,
             "#7fbc41"
            ],
            [
             0.9,
             "#4d9221"
            ],
            [
             1,
             "#276419"
            ]
           ],
           "sequential": [
            [
             0,
             "#0d0887"
            ],
            [
             0.1111111111111111,
             "#46039f"
            ],
            [
             0.2222222222222222,
             "#7201a8"
            ],
            [
             0.3333333333333333,
             "#9c179e"
            ],
            [
             0.4444444444444444,
             "#bd3786"
            ],
            [
             0.5555555555555556,
             "#d8576b"
            ],
            [
             0.6666666666666666,
             "#ed7953"
            ],
            [
             0.7777777777777778,
             "#fb9f3a"
            ],
            [
             0.8888888888888888,
             "#fdca26"
            ],
            [
             1,
             "#f0f921"
            ]
           ],
           "sequentialminus": [
            [
             0,
             "#0d0887"
            ],
            [
             0.1111111111111111,
             "#46039f"
            ],
            [
             0.2222222222222222,
             "#7201a8"
            ],
            [
             0.3333333333333333,
             "#9c179e"
            ],
            [
             0.4444444444444444,
             "#bd3786"
            ],
            [
             0.5555555555555556,
             "#d8576b"
            ],
            [
             0.6666666666666666,
             "#ed7953"
            ],
            [
             0.7777777777777778,
             "#fb9f3a"
            ],
            [
             0.8888888888888888,
             "#fdca26"
            ],
            [
             1,
             "#f0f921"
            ]
           ]
          },
          "colorway": [
           "#636efa",
           "#EF553B",
           "#00cc96",
           "#ab63fa",
           "#FFA15A",
           "#19d3f3",
           "#FF6692",
           "#B6E880",
           "#FF97FF",
           "#FECB52"
          ],
          "font": {
           "color": "#2a3f5f"
          },
          "geo": {
           "bgcolor": "white",
           "lakecolor": "white",
           "landcolor": "white",
           "showlakes": true,
           "showland": true,
           "subunitcolor": "#C8D4E3"
          },
          "hoverlabel": {
           "align": "left"
          },
          "hovermode": "closest",
          "mapbox": {
           "style": "light"
          },
          "paper_bgcolor": "white",
          "plot_bgcolor": "white",
          "polar": {
           "angularaxis": {
            "gridcolor": "#EBF0F8",
            "linecolor": "#EBF0F8",
            "ticks": ""
           },
           "bgcolor": "white",
           "radialaxis": {
            "gridcolor": "#EBF0F8",
            "linecolor": "#EBF0F8",
            "ticks": ""
           }
          },
          "scene": {
           "xaxis": {
            "backgroundcolor": "white",
            "gridcolor": "#DFE8F3",
            "gridwidth": 2,
            "linecolor": "#EBF0F8",
            "showbackground": true,
            "ticks": "",
            "zerolinecolor": "#EBF0F8"
           },
           "yaxis": {
            "backgroundcolor": "white",
            "gridcolor": "#DFE8F3",
            "gridwidth": 2,
            "linecolor": "#EBF0F8",
            "showbackground": true,
            "ticks": "",
            "zerolinecolor": "#EBF0F8"
           },
           "zaxis": {
            "backgroundcolor": "white",
            "gridcolor": "#DFE8F3",
            "gridwidth": 2,
            "linecolor": "#EBF0F8",
            "showbackground": true,
            "ticks": "",
            "zerolinecolor": "#EBF0F8"
           }
          },
          "shapedefaults": {
           "line": {
            "color": "#2a3f5f"
           }
          },
          "ternary": {
           "aaxis": {
            "gridcolor": "#DFE8F3",
            "linecolor": "#A2B1C6",
            "ticks": ""
           },
           "baxis": {
            "gridcolor": "#DFE8F3",
            "linecolor": "#A2B1C6",
            "ticks": ""
           },
           "bgcolor": "white",
           "caxis": {
            "gridcolor": "#DFE8F3",
            "linecolor": "#A2B1C6",
            "ticks": ""
           }
          },
          "title": {
           "x": 0.05
          },
          "xaxis": {
           "automargin": true,
           "gridcolor": "#EBF0F8",
           "linecolor": "#EBF0F8",
           "ticks": "",
           "title": {
            "standoff": 15
           },
           "zerolinecolor": "#EBF0F8",
           "zerolinewidth": 2
          },
          "yaxis": {
           "automargin": true,
           "gridcolor": "#EBF0F8",
           "linecolor": "#EBF0F8",
           "ticks": "",
           "title": {
            "standoff": 15
           },
           "zerolinecolor": "#EBF0F8",
           "zerolinewidth": 2
          }
         }
        },
        "title": {
         "font": {
          "color": "Black",
          "size": 22
         },
         "text": "Topic Word Scores",
         "x": 0.5,
         "xanchor": "center",
         "yanchor": "top"
        },
        "width": 1200,
        "xaxis": {
         "anchor": "y",
         "domain": [
          0,
          0.175
         ],
         "showgrid": true
        },
        "xaxis10": {
         "anchor": "y10",
         "domain": [
          0.275,
          0.45
         ],
         "showgrid": true
        },
        "xaxis11": {
         "anchor": "y11",
         "domain": [
          0.55,
          0.7250000000000001
         ],
         "showgrid": true
        },
        "xaxis12": {
         "anchor": "y12",
         "domain": [
          0.825,
          1
         ],
         "showgrid": true
        },
        "xaxis13": {
         "anchor": "y13",
         "domain": [
          0,
          0.175
         ],
         "showgrid": true
        },
        "xaxis14": {
         "anchor": "y14",
         "domain": [
          0.275,
          0.45
         ],
         "showgrid": true
        },
        "xaxis15": {
         "anchor": "y15",
         "domain": [
          0.55,
          0.7250000000000001
         ],
         "showgrid": true
        },
        "xaxis16": {
         "anchor": "y16",
         "domain": [
          0.825,
          1
         ],
         "showgrid": true
        },
        "xaxis17": {
         "anchor": "y17",
         "domain": [
          0,
          0.175
         ],
         "showgrid": true
        },
        "xaxis18": {
         "anchor": "y18",
         "domain": [
          0.275,
          0.45
         ],
         "showgrid": true
        },
        "xaxis19": {
         "anchor": "y19",
         "domain": [
          0.55,
          0.7250000000000001
         ],
         "showgrid": true
        },
        "xaxis2": {
         "anchor": "y2",
         "domain": [
          0.275,
          0.45
         ],
         "showgrid": true
        },
        "xaxis20": {
         "anchor": "y20",
         "domain": [
          0.825,
          1
         ],
         "showgrid": true
        },
        "xaxis21": {
         "anchor": "y21",
         "domain": [
          0,
          0.175
         ],
         "showgrid": true
        },
        "xaxis22": {
         "anchor": "y22",
         "domain": [
          0.275,
          0.45
         ],
         "showgrid": true
        },
        "xaxis23": {
         "anchor": "y23",
         "domain": [
          0.55,
          0.7250000000000001
         ],
         "showgrid": true
        },
        "xaxis24": {
         "anchor": "y24",
         "domain": [
          0.825,
          1
         ],
         "showgrid": true
        },
        "xaxis25": {
         "anchor": "y25",
         "domain": [
          0,
          0.175
         ],
         "showgrid": true
        },
        "xaxis26": {
         "anchor": "y26",
         "domain": [
          0.275,
          0.45
         ],
         "showgrid": true
        },
        "xaxis27": {
         "anchor": "y27",
         "domain": [
          0.55,
          0.7250000000000001
         ],
         "showgrid": true
        },
        "xaxis28": {
         "anchor": "y28",
         "domain": [
          0.825,
          1
         ],
         "showgrid": true
        },
        "xaxis29": {
         "anchor": "y29",
         "domain": [
          0,
          0.175
         ],
         "showgrid": true
        },
        "xaxis3": {
         "anchor": "y3",
         "domain": [
          0.55,
          0.7250000000000001
         ],
         "showgrid": true
        },
        "xaxis30": {
         "anchor": "y30",
         "domain": [
          0.275,
          0.45
         ],
         "showgrid": true
        },
        "xaxis31": {
         "anchor": "y31",
         "domain": [
          0.55,
          0.7250000000000001
         ],
         "showgrid": true
        },
        "xaxis32": {
         "anchor": "y32",
         "domain": [
          0.825,
          1
         ],
         "showgrid": true
        },
        "xaxis33": {
         "anchor": "y33",
         "domain": [
          0,
          0.175
         ],
         "showgrid": true
        },
        "xaxis34": {
         "anchor": "y34",
         "domain": [
          0.275,
          0.45
         ],
         "showgrid": true
        },
        "xaxis35": {
         "anchor": "y35",
         "domain": [
          0.55,
          0.7250000000000001
         ],
         "showgrid": true
        },
        "xaxis36": {
         "anchor": "y36",
         "domain": [
          0.825,
          1
         ],
         "showgrid": true
        },
        "xaxis37": {
         "anchor": "y37",
         "domain": [
          0,
          0.175
         ],
         "showgrid": true
        },
        "xaxis38": {
         "anchor": "y38",
         "domain": [
          0.275,
          0.45
         ],
         "showgrid": true
        },
        "xaxis39": {
         "anchor": "y39",
         "domain": [
          0.55,
          0.7250000000000001
         ],
         "showgrid": true
        },
        "xaxis4": {
         "anchor": "y4",
         "domain": [
          0.825,
          1
         ],
         "showgrid": true
        },
        "xaxis40": {
         "anchor": "y40",
         "domain": [
          0.825,
          1
         ],
         "showgrid": true
        },
        "xaxis41": {
         "anchor": "y41",
         "domain": [
          0,
          0.175
         ],
         "showgrid": true
        },
        "xaxis42": {
         "anchor": "y42",
         "domain": [
          0.275,
          0.45
         ],
         "showgrid": true
        },
        "xaxis43": {
         "anchor": "y43",
         "domain": [
          0.55,
          0.7250000000000001
         ],
         "showgrid": true
        },
        "xaxis44": {
         "anchor": "y44",
         "domain": [
          0.825,
          1
         ],
         "showgrid": true
        },
        "xaxis45": {
         "anchor": "y45",
         "domain": [
          0,
          0.175
         ],
         "showgrid": true
        },
        "xaxis46": {
         "anchor": "y46",
         "domain": [
          0.275,
          0.45
         ],
         "showgrid": true
        },
        "xaxis47": {
         "anchor": "y47",
         "domain": [
          0.55,
          0.7250000000000001
         ],
         "showgrid": true
        },
        "xaxis48": {
         "anchor": "y48",
         "domain": [
          0.825,
          1
         ],
         "showgrid": true
        },
        "xaxis49": {
         "anchor": "y49",
         "domain": [
          0,
          0.175
         ],
         "showgrid": true
        },
        "xaxis5": {
         "anchor": "y5",
         "domain": [
          0,
          0.175
         ],
         "showgrid": true
        },
        "xaxis50": {
         "anchor": "y50",
         "domain": [
          0.275,
          0.45
         ],
         "showgrid": true
        },
        "xaxis51": {
         "anchor": "y51",
         "domain": [
          0.55,
          0.7250000000000001
         ],
         "showgrid": true
        },
        "xaxis52": {
         "anchor": "y52",
         "domain": [
          0.825,
          1
         ],
         "showgrid": true
        },
        "xaxis6": {
         "anchor": "y6",
         "domain": [
          0.275,
          0.45
         ],
         "showgrid": true
        },
        "xaxis7": {
         "anchor": "y7",
         "domain": [
          0.55,
          0.7250000000000001
         ],
         "showgrid": true
        },
        "xaxis8": {
         "anchor": "y8",
         "domain": [
          0.825,
          1
         ],
         "showgrid": true
        },
        "xaxis9": {
         "anchor": "y9",
         "domain": [
          0,
          0.175
         ],
         "showgrid": true
        },
        "yaxis": {
         "anchor": "x",
         "domain": [
          0.9514792899408283,
          0.9999999999999999
         ],
         "showgrid": true
        },
        "yaxis10": {
         "anchor": "x10",
         "domain": [
          0.7928994082840235,
          0.8414201183431951
         ],
         "showgrid": true
        },
        "yaxis11": {
         "anchor": "x11",
         "domain": [
          0.7928994082840235,
          0.8414201183431951
         ],
         "showgrid": true
        },
        "yaxis12": {
         "anchor": "x12",
         "domain": [
          0.7928994082840235,
          0.8414201183431951
         ],
         "showgrid": true
        },
        "yaxis13": {
         "anchor": "x13",
         "domain": [
          0.7136094674556213,
          0.7621301775147928
         ],
         "showgrid": true
        },
        "yaxis14": {
         "anchor": "x14",
         "domain": [
          0.7136094674556213,
          0.7621301775147928
         ],
         "showgrid": true
        },
        "yaxis15": {
         "anchor": "x15",
         "domain": [
          0.7136094674556213,
          0.7621301775147928
         ],
         "showgrid": true
        },
        "yaxis16": {
         "anchor": "x16",
         "domain": [
          0.7136094674556213,
          0.7621301775147928
         ],
         "showgrid": true
        },
        "yaxis17": {
         "anchor": "x17",
         "domain": [
          0.6343195266272188,
          0.6828402366863904
         ],
         "showgrid": true
        },
        "yaxis18": {
         "anchor": "x18",
         "domain": [
          0.6343195266272188,
          0.6828402366863904
         ],
         "showgrid": true
        },
        "yaxis19": {
         "anchor": "x19",
         "domain": [
          0.6343195266272188,
          0.6828402366863904
         ],
         "showgrid": true
        },
        "yaxis2": {
         "anchor": "x2",
         "domain": [
          0.9514792899408283,
          0.9999999999999999
         ],
         "showgrid": true
        },
        "yaxis20": {
         "anchor": "x20",
         "domain": [
          0.6343195266272188,
          0.6828402366863904
         ],
         "showgrid": true
        },
        "yaxis21": {
         "anchor": "x21",
         "domain": [
          0.5550295857988166,
          0.6035502958579881
         ],
         "showgrid": true
        },
        "yaxis22": {
         "anchor": "x22",
         "domain": [
          0.5550295857988166,
          0.6035502958579881
         ],
         "showgrid": true
        },
        "yaxis23": {
         "anchor": "x23",
         "domain": [
          0.5550295857988166,
          0.6035502958579881
         ],
         "showgrid": true
        },
        "yaxis24": {
         "anchor": "x24",
         "domain": [
          0.5550295857988166,
          0.6035502958579881
         ],
         "showgrid": true
        },
        "yaxis25": {
         "anchor": "x25",
         "domain": [
          0.47573964497041416,
          0.5242603550295858
         ],
         "showgrid": true
        },
        "yaxis26": {
         "anchor": "x26",
         "domain": [
          0.47573964497041416,
          0.5242603550295858
         ],
         "showgrid": true
        },
        "yaxis27": {
         "anchor": "x27",
         "domain": [
          0.47573964497041416,
          0.5242603550295858
         ],
         "showgrid": true
        },
        "yaxis28": {
         "anchor": "x28",
         "domain": [
          0.47573964497041416,
          0.5242603550295858
         ],
         "showgrid": true
        },
        "yaxis29": {
         "anchor": "x29",
         "domain": [
          0.3964497041420118,
          0.4449704142011834
         ],
         "showgrid": true
        },
        "yaxis3": {
         "anchor": "x3",
         "domain": [
          0.9514792899408283,
          0.9999999999999999
         ],
         "showgrid": true
        },
        "yaxis30": {
         "anchor": "x30",
         "domain": [
          0.3964497041420118,
          0.4449704142011834
         ],
         "showgrid": true
        },
        "yaxis31": {
         "anchor": "x31",
         "domain": [
          0.3964497041420118,
          0.4449704142011834
         ],
         "showgrid": true
        },
        "yaxis32": {
         "anchor": "x32",
         "domain": [
          0.3964497041420118,
          0.4449704142011834
         ],
         "showgrid": true
        },
        "yaxis33": {
         "anchor": "x33",
         "domain": [
          0.31715976331360946,
          0.36568047337278103
         ],
         "showgrid": true
        },
        "yaxis34": {
         "anchor": "x34",
         "domain": [
          0.31715976331360946,
          0.36568047337278103
         ],
         "showgrid": true
        },
        "yaxis35": {
         "anchor": "x35",
         "domain": [
          0.31715976331360946,
          0.36568047337278103
         ],
         "showgrid": true
        },
        "yaxis36": {
         "anchor": "x36",
         "domain": [
          0.31715976331360946,
          0.36568047337278103
         ],
         "showgrid": true
        },
        "yaxis37": {
         "anchor": "x37",
         "domain": [
          0.2378698224852071,
          0.2863905325443787
         ],
         "showgrid": true
        },
        "yaxis38": {
         "anchor": "x38",
         "domain": [
          0.2378698224852071,
          0.2863905325443787
         ],
         "showgrid": true
        },
        "yaxis39": {
         "anchor": "x39",
         "domain": [
          0.2378698224852071,
          0.2863905325443787
         ],
         "showgrid": true
        },
        "yaxis4": {
         "anchor": "x4",
         "domain": [
          0.9514792899408283,
          0.9999999999999999
         ],
         "showgrid": true
        },
        "yaxis40": {
         "anchor": "x40",
         "domain": [
          0.2378698224852071,
          0.2863905325443787
         ],
         "showgrid": true
        },
        "yaxis41": {
         "anchor": "x41",
         "domain": [
          0.15857988165680473,
          0.20710059171597633
         ],
         "showgrid": true
        },
        "yaxis42": {
         "anchor": "x42",
         "domain": [
          0.15857988165680473,
          0.20710059171597633
         ],
         "showgrid": true
        },
        "yaxis43": {
         "anchor": "x43",
         "domain": [
          0.15857988165680473,
          0.20710059171597633
         ],
         "showgrid": true
        },
        "yaxis44": {
         "anchor": "x44",
         "domain": [
          0.15857988165680473,
          0.20710059171597633
         ],
         "showgrid": true
        },
        "yaxis45": {
         "anchor": "x45",
         "domain": [
          0.07928994082840236,
          0.12781065088757396
         ],
         "showgrid": true
        },
        "yaxis46": {
         "anchor": "x46",
         "domain": [
          0.07928994082840236,
          0.12781065088757396
         ],
         "showgrid": true
        },
        "yaxis47": {
         "anchor": "x47",
         "domain": [
          0.07928994082840236,
          0.12781065088757396
         ],
         "showgrid": true
        },
        "yaxis48": {
         "anchor": "x48",
         "domain": [
          0.07928994082840236,
          0.12781065088757396
         ],
         "showgrid": true
        },
        "yaxis49": {
         "anchor": "x49",
         "domain": [
          0,
          0.04852071005917159
         ],
         "showgrid": true
        },
        "yaxis5": {
         "anchor": "x5",
         "domain": [
          0.872189349112426,
          0.9207100591715975
         ],
         "showgrid": true
        },
        "yaxis50": {
         "anchor": "x50",
         "domain": [
          0,
          0.04852071005917159
         ],
         "showgrid": true
        },
        "yaxis51": {
         "anchor": "x51",
         "domain": [
          0,
          0.04852071005917159
         ],
         "showgrid": true
        },
        "yaxis52": {
         "anchor": "x52",
         "domain": [
          0,
          0.04852071005917159
         ],
         "showgrid": true
        },
        "yaxis6": {
         "anchor": "x6",
         "domain": [
          0.872189349112426,
          0.9207100591715975
         ],
         "showgrid": true
        },
        "yaxis7": {
         "anchor": "x7",
         "domain": [
          0.872189349112426,
          0.9207100591715975
         ],
         "showgrid": true
        },
        "yaxis8": {
         "anchor": "x8",
         "domain": [
          0.872189349112426,
          0.9207100591715975
         ],
         "showgrid": true
        },
        "yaxis9": {
         "anchor": "x9",
         "domain": [
          0.7928994082840235,
          0.8414201183431951
         ],
         "showgrid": true
        }
       }
      }
     },
     "metadata": {},
     "output_type": "display_data"
    }
   ],
   "source": [
    "topics_to_include = list(range(0, 50))\n",
    "model.visualize_barchart(topics= topics_to_include, width=300)"
   ]
  },
  {
   "cell_type": "code",
   "execution_count": 66,
   "metadata": {},
   "outputs": [
    {
     "data": {
      "application/vnd.plotly.v1+json": {
       "config": {
        "plotlyServerURL": "https://plot.ly"
       },
       "data": [
        {
         "hoverinfo": "text",
         "marker": {
          "color": "rgb(0,116,217)"
         },
         "mode": "lines",
         "type": "scatter",
         "x": [
          0,
          1.0346737009915352,
          1.0346737009915352,
          0
         ],
         "xaxis": "x",
         "y": [
          -25,
          -25,
          -35,
          -35
         ],
         "yaxis": "y"
        },
        {
         "hoverinfo": "text",
         "marker": {
          "color": "rgb(0,116,217)"
         },
         "mode": "lines",
         "type": "scatter",
         "x": [
          0,
          1.0638488557474428,
          1.0638488557474428,
          1.0346737009915352
         ],
         "xaxis": "x",
         "y": [
          -15,
          -15,
          -30,
          -30
         ],
         "yaxis": "y"
        },
        {
         "hoverinfo": "text",
         "marker": {
          "color": "rgb(0,116,217)"
         },
         "mode": "lines",
         "type": "scatter",
         "x": [
          1.0638488557474428,
          1.1159730626933362,
          1.1159730626933362,
          0
         ],
         "xaxis": "x",
         "y": [
          -22.5,
          -22.5,
          -45,
          -45
         ],
         "yaxis": "y"
        },
        {
         "hoverinfo": "text",
         "marker": {
          "color": "rgb(0,116,217)"
         },
         "mode": "lines",
         "type": "scatter",
         "x": [
          0,
          1.1772333086663378,
          1.1772333086663378,
          1.1159730626933362
         ],
         "xaxis": "x",
         "y": [
          -5,
          -5,
          -33.75,
          -33.75
         ],
         "yaxis": "y"
        },
        {
         "hoverinfo": "text",
         "marker": {
          "color": "rgb(0,116,217)"
         },
         "mode": "lines",
         "type": "scatter",
         "x": [
          0,
          1.0112769256792273,
          1.0112769256792273,
          0
         ],
         "xaxis": "x",
         "y": [
          -55,
          -55,
          -65,
          -65
         ],
         "yaxis": "y"
        },
        {
         "hoverinfo": "text",
         "marker": {
          "color": "rgb(0,116,217)"
         },
         "mode": "lines",
         "type": "scatter",
         "x": [
          1.0112769256792273,
          1.1427270124113413,
          1.1427270124113413,
          0
         ],
         "xaxis": "x",
         "y": [
          -60,
          -60,
          -75,
          -75
         ],
         "yaxis": "y"
        },
        {
         "hoverinfo": "text",
         "marker": {
          "color": "rgb(0,116,217)"
         },
         "mode": "lines",
         "type": "scatter",
         "x": [
          1.1772333086663378,
          1.2755423714960668,
          1.2755423714960668,
          1.1427270124113413
         ],
         "xaxis": "x",
         "y": [
          -19.375,
          -19.375,
          -67.5,
          -67.5
         ],
         "yaxis": "y"
        },
        {
         "hoverinfo": "text",
         "marker": {
          "color": "rgb(61,153,112)"
         },
         "mode": "lines",
         "type": "scatter",
         "x": [
          0,
          0.7898324677074084,
          0.7898324677074084,
          0
         ],
         "xaxis": "x",
         "y": [
          -95,
          -95,
          -105,
          -105
         ],
         "yaxis": "y"
        },
        {
         "hoverinfo": "text",
         "marker": {
          "color": "rgb(61,153,112)"
         },
         "mode": "lines",
         "type": "scatter",
         "x": [
          0.7898324677074084,
          0.8453933456502184,
          0.8453933456502184,
          0
         ],
         "xaxis": "x",
         "y": [
          -100,
          -100,
          -115,
          -115
         ],
         "yaxis": "y"
        },
        {
         "hoverinfo": "text",
         "marker": {
          "color": "rgb(61,153,112)"
         },
         "mode": "lines",
         "type": "scatter",
         "x": [
          0,
          0.8831481835770179,
          0.8831481835770179,
          0.8453933456502184
         ],
         "xaxis": "x",
         "y": [
          -85,
          -85,
          -107.5,
          -107.5
         ],
         "yaxis": "y"
        },
        {
         "hoverinfo": "text",
         "marker": {
          "color": "rgb(255,65,54)"
         },
         "mode": "lines",
         "type": "scatter",
         "x": [
          0,
          0.9193822899740481,
          0.9193822899740481,
          0
         ],
         "xaxis": "x",
         "y": [
          -125,
          -125,
          -135,
          -135
         ],
         "yaxis": "y"
        },
        {
         "hoverinfo": "text",
         "marker": {
          "color": "rgb(0,116,217)"
         },
         "mode": "lines",
         "type": "scatter",
         "x": [
          0,
          1.0223828097062442,
          1.0223828097062442,
          0
         ],
         "xaxis": "x",
         "y": [
          -145,
          -145,
          -155,
          -155
         ],
         "yaxis": "y"
        },
        {
         "hoverinfo": "text",
         "marker": {
          "color": "rgb(0,116,217)"
         },
         "mode": "lines",
         "type": "scatter",
         "x": [
          0.9193822899740481,
          1.0380825899500674,
          1.0380825899500674,
          1.0223828097062442
         ],
         "xaxis": "x",
         "y": [
          -130,
          -130,
          -150,
          -150
         ],
         "yaxis": "y"
        },
        {
         "hoverinfo": "text",
         "marker": {
          "color": "rgb(0,116,217)"
         },
         "mode": "lines",
         "type": "scatter",
         "x": [
          0.8831481835770179,
          1.167749901237363,
          1.167749901237363,
          1.0380825899500674
         ],
         "xaxis": "x",
         "y": [
          -96.25,
          -96.25,
          -140,
          -140
         ],
         "yaxis": "y"
        },
        {
         "hoverinfo": "text",
         "marker": {
          "color": "rgb(35,205,205)"
         },
         "mode": "lines",
         "type": "scatter",
         "x": [
          0,
          0.8173620648720871,
          0.8173620648720871,
          0
         ],
         "xaxis": "x",
         "y": [
          -175,
          -175,
          -185,
          -185
         ],
         "yaxis": "y"
        },
        {
         "hoverinfo": "text",
         "marker": {
          "color": "rgb(35,205,205)"
         },
         "mode": "lines",
         "type": "scatter",
         "x": [
          0,
          0.8837329141899327,
          0.8837329141899327,
          0.8173620648720871
         ],
         "xaxis": "x",
         "y": [
          -165,
          -165,
          -180,
          -180
         ],
         "yaxis": "y"
        },
        {
         "hoverinfo": "text",
         "marker": {
          "color": "rgb(35,205,205)"
         },
         "mode": "lines",
         "type": "scatter",
         "x": [
          0.8837329141899327,
          0.9148078552153883,
          0.9148078552153883,
          0
         ],
         "xaxis": "x",
         "y": [
          -172.5,
          -172.5,
          -195,
          -195
         ],
         "yaxis": "y"
        },
        {
         "hoverinfo": "text",
         "marker": {
          "color": "rgb(0,116,217)"
         },
         "mode": "lines",
         "type": "scatter",
         "x": [
          1.167749901237363,
          1.4578394317930194,
          1.4578394317930194,
          0.9148078552153883
         ],
         "xaxis": "x",
         "y": [
          -118.125,
          -118.125,
          -183.75,
          -183.75
         ],
         "yaxis": "y"
        },
        {
         "hoverinfo": "text",
         "marker": {
          "color": "rgb(133,20,75)"
         },
         "mode": "lines",
         "type": "scatter",
         "x": [
          0,
          0.7584549129980679,
          0.7584549129980679,
          0
         ],
         "xaxis": "x",
         "y": [
          -205,
          -205,
          -215,
          -215
         ],
         "yaxis": "y"
        },
        {
         "hoverinfo": "text",
         "marker": {
          "color": "rgb(133,20,75)"
         },
         "mode": "lines",
         "type": "scatter",
         "x": [
          0,
          0.764657685960738,
          0.764657685960738,
          0
         ],
         "xaxis": "x",
         "y": [
          -225,
          -225,
          -235,
          -235
         ],
         "yaxis": "y"
        },
        {
         "hoverinfo": "text",
         "marker": {
          "color": "rgb(133,20,75)"
         },
         "mode": "lines",
         "type": "scatter",
         "x": [
          0.7584549129980679,
          0.8587989586297331,
          0.8587989586297331,
          0.764657685960738
         ],
         "xaxis": "x",
         "y": [
          -210,
          -210,
          -230,
          -230
         ],
         "yaxis": "y"
        },
        {
         "hoverinfo": "text",
         "marker": {
          "color": "rgb(0,116,217)"
         },
         "mode": "lines",
         "type": "scatter",
         "x": [
          1.4578394317930194,
          1.5111228767569633,
          1.5111228767569633,
          0.8587989586297331
         ],
         "xaxis": "x",
         "y": [
          -150.9375,
          -150.9375,
          -220,
          -220
         ],
         "yaxis": "y"
        },
        {
         "hoverinfo": "text",
         "marker": {
          "color": "rgb(0,116,217)"
         },
         "mode": "lines",
         "type": "scatter",
         "x": [
          1.2755423714960668,
          2.051705210244366,
          2.051705210244366,
          1.5111228767569633
         ],
         "xaxis": "x",
         "y": [
          -43.4375,
          -43.4375,
          -185.46875,
          -185.46875
         ],
         "yaxis": "y"
        },
        {
         "hoverinfo": "text",
         "marker": {
          "color": "rgb(255,220,0)"
         },
         "mode": "lines",
         "type": "scatter",
         "x": [
          0,
          0.6158290226408877,
          0.6158290226408877,
          0
         ],
         "xaxis": "x",
         "y": [
          -245,
          -245,
          -255,
          -255
         ],
         "yaxis": "y"
        },
        {
         "hoverinfo": "text",
         "marker": {
          "color": "rgb(40,35,35)"
         },
         "mode": "lines",
         "type": "scatter",
         "x": [
          0,
          0.8054296110486333,
          0.8054296110486333,
          0
         ],
         "xaxis": "x",
         "y": [
          -265,
          -265,
          -275,
          -275
         ],
         "yaxis": "y"
        },
        {
         "hoverinfo": "text",
         "marker": {
          "color": "rgb(61,153,112)"
         },
         "mode": "lines",
         "type": "scatter",
         "x": [
          0,
          0.8378984169282606,
          0.8378984169282606,
          0
         ],
         "xaxis": "x",
         "y": [
          -295,
          -295,
          -305,
          -305
         ],
         "yaxis": "y"
        },
        {
         "hoverinfo": "text",
         "marker": {
          "color": "rgb(61,153,112)"
         },
         "mode": "lines",
         "type": "scatter",
         "x": [
          0,
          0.965519146107376,
          0.965519146107376,
          0.8378984169282606
         ],
         "xaxis": "x",
         "y": [
          -285,
          -285,
          -300,
          -300
         ],
         "yaxis": "y"
        },
        {
         "hoverinfo": "text",
         "marker": {
          "color": "rgb(0,116,217)"
         },
         "mode": "lines",
         "type": "scatter",
         "x": [
          0.965519146107376,
          1.0385337013931955,
          1.0385337013931955,
          0
         ],
         "xaxis": "x",
         "y": [
          -292.5,
          -292.5,
          -315,
          -315
         ],
         "yaxis": "y"
        },
        {
         "hoverinfo": "text",
         "marker": {
          "color": "rgb(0,116,217)"
         },
         "mode": "lines",
         "type": "scatter",
         "x": [
          0.8054296110486333,
          1.1528693423702139,
          1.1528693423702139,
          1.0385337013931955
         ],
         "xaxis": "x",
         "y": [
          -270,
          -270,
          -303.75,
          -303.75
         ],
         "yaxis": "y"
        },
        {
         "hoverinfo": "text",
         "marker": {
          "color": "rgb(255,65,54)"
         },
         "mode": "lines",
         "type": "scatter",
         "x": [
          0,
          0.6954753106164142,
          0.6954753106164142,
          0
         ],
         "xaxis": "x",
         "y": [
          -325,
          -325,
          -335,
          -335
         ],
         "yaxis": "y"
        },
        {
         "hoverinfo": "text",
         "marker": {
          "color": "rgb(0,116,217)"
         },
         "mode": "lines",
         "type": "scatter",
         "x": [
          1.1528693423702139,
          1.21029596572733,
          1.21029596572733,
          0.6954753106164142
         ],
         "xaxis": "x",
         "y": [
          -286.875,
          -286.875,
          -330,
          -330
         ],
         "yaxis": "y"
        },
        {
         "hoverinfo": "text",
         "marker": {
          "color": "rgb(35,205,205)"
         },
         "mode": "lines",
         "type": "scatter",
         "x": [
          0,
          0.7408062122712059,
          0.7408062122712059,
          0
         ],
         "xaxis": "x",
         "y": [
          -345,
          -345,
          -355,
          -355
         ],
         "yaxis": "y"
        },
        {
         "hoverinfo": "text",
         "marker": {
          "color": "rgb(0,116,217)"
         },
         "mode": "lines",
         "type": "scatter",
         "x": [
          1.21029596572733,
          1.4741632402025469,
          1.4741632402025469,
          0.7408062122712059
         ],
         "xaxis": "x",
         "y": [
          -308.4375,
          -308.4375,
          -350,
          -350
         ],
         "yaxis": "y"
        },
        {
         "hoverinfo": "text",
         "marker": {
          "color": "rgb(0,116,217)"
         },
         "mode": "lines",
         "type": "scatter",
         "x": [
          0.6158290226408877,
          1.5930152537978042,
          1.5930152537978042,
          1.4741632402025469
         ],
         "xaxis": "x",
         "y": [
          -250,
          -250,
          -329.21875,
          -329.21875
         ],
         "yaxis": "y"
        },
        {
         "hoverinfo": "text",
         "marker": {
          "color": "rgb(61,153,112)"
         },
         "mode": "lines",
         "type": "scatter",
         "x": [
          0,
          0.657903100659429,
          0.657903100659429,
          0
         ],
         "xaxis": "x",
         "y": [
          -365,
          -365,
          -375,
          -375
         ],
         "yaxis": "y"
        },
        {
         "hoverinfo": "text",
         "marker": {
          "color": "rgb(61,153,112)"
         },
         "mode": "lines",
         "type": "scatter",
         "x": [
          0,
          0.6452977194795279,
          0.6452977194795279,
          0
         ],
         "xaxis": "x",
         "y": [
          -385,
          -385,
          -395,
          -395
         ],
         "yaxis": "y"
        },
        {
         "hoverinfo": "text",
         "marker": {
          "color": "rgb(61,153,112)"
         },
         "mode": "lines",
         "type": "scatter",
         "x": [
          0.657903100659429,
          0.8364946083091395,
          0.8364946083091395,
          0.6452977194795279
         ],
         "xaxis": "x",
         "y": [
          -370,
          -370,
          -390,
          -390
         ],
         "yaxis": "y"
        },
        {
         "hoverinfo": "text",
         "marker": {
          "color": "rgb(61,153,112)"
         },
         "mode": "lines",
         "type": "scatter",
         "x": [
          0,
          0.610190156405078,
          0.610190156405078,
          0
         ],
         "xaxis": "x",
         "y": [
          -405,
          -405,
          -415,
          -415
         ],
         "yaxis": "y"
        },
        {
         "hoverinfo": "text",
         "marker": {
          "color": "rgb(61,153,112)"
         },
         "mode": "lines",
         "type": "scatter",
         "x": [
          0,
          0.7490092680252399,
          0.7490092680252399,
          0
         ],
         "xaxis": "x",
         "y": [
          -425,
          -425,
          -435,
          -435
         ],
         "yaxis": "y"
        },
        {
         "hoverinfo": "text",
         "marker": {
          "color": "rgb(61,153,112)"
         },
         "mode": "lines",
         "type": "scatter",
         "x": [
          0.610190156405078,
          0.7940342972139285,
          0.7940342972139285,
          0.7490092680252399
         ],
         "xaxis": "x",
         "y": [
          -410,
          -410,
          -430,
          -430
         ],
         "yaxis": "y"
        },
        {
         "hoverinfo": "text",
         "marker": {
          "color": "rgb(61,153,112)"
         },
         "mode": "lines",
         "type": "scatter",
         "x": [
          0.8364946083091395,
          0.9824856733337379,
          0.9824856733337379,
          0.7940342972139285
         ],
         "xaxis": "x",
         "y": [
          -380,
          -380,
          -420,
          -420
         ],
         "yaxis": "y"
        },
        {
         "hoverinfo": "text",
         "marker": {
          "color": "rgb(0,116,217)"
         },
         "mode": "lines",
         "type": "scatter",
         "x": [
          1.5930152537978042,
          1.8905324842192515,
          1.8905324842192515,
          0.9824856733337379
         ],
         "xaxis": "x",
         "y": [
          -289.609375,
          -289.609375,
          -400,
          -400
         ],
         "yaxis": "y"
        },
        {
         "hoverinfo": "text",
         "marker": {
          "color": "rgb(255,65,54)"
         },
         "mode": "lines",
         "type": "scatter",
         "x": [
          0,
          0.7168586008317072,
          0.7168586008317072,
          0
         ],
         "xaxis": "x",
         "y": [
          -455,
          -455,
          -465,
          -465
         ],
         "yaxis": "y"
        },
        {
         "hoverinfo": "text",
         "marker": {
          "color": "rgb(255,65,54)"
         },
         "mode": "lines",
         "type": "scatter",
         "x": [
          0.7168586008317072,
          0.9035734457070537,
          0.9035734457070537,
          0
         ],
         "xaxis": "x",
         "y": [
          -460,
          -460,
          -475,
          -475
         ],
         "yaxis": "y"
        },
        {
         "hoverinfo": "text",
         "marker": {
          "color": "rgb(0,116,217)"
         },
         "mode": "lines",
         "type": "scatter",
         "x": [
          0,
          1.2155441453031512,
          1.2155441453031512,
          0.9035734457070537
         ],
         "xaxis": "x",
         "y": [
          -445,
          -445,
          -467.5,
          -467.5
         ],
         "yaxis": "y"
        },
        {
         "hoverinfo": "text",
         "marker": {
          "color": "rgb(35,205,205)"
         },
         "mode": "lines",
         "type": "scatter",
         "x": [
          0,
          0.8554557131306363,
          0.8554557131306363,
          0
         ],
         "xaxis": "x",
         "y": [
          -485,
          -485,
          -495,
          -495
         ],
         "yaxis": "y"
        },
        {
         "hoverinfo": "text",
         "marker": {
          "color": "rgb(0,116,217)"
         },
         "mode": "lines",
         "type": "scatter",
         "x": [
          1.2155441453031512,
          1.4874126454832104,
          1.4874126454832104,
          0.8554557131306363
         ],
         "xaxis": "x",
         "y": [
          -456.25,
          -456.25,
          -490,
          -490
         ],
         "yaxis": "y"
        },
        {
         "hoverinfo": "text",
         "marker": {
          "color": "rgb(0,116,217)"
         },
         "mode": "lines",
         "type": "scatter",
         "x": [
          1.8905324842192515,
          2.4889101481677485,
          2.4889101481677485,
          1.4874126454832104
         ],
         "xaxis": "x",
         "y": [
          -344.8046875,
          -344.8046875,
          -473.125,
          -473.125
         ],
         "yaxis": "y"
        },
        {
         "hoverinfo": "text",
         "marker": {
          "color": "rgb(0,116,217)"
         },
         "mode": "lines",
         "type": "scatter",
         "x": [
          2.051705210244366,
          2.9732584752987963,
          2.9732584752987963,
          2.4889101481677485
         ],
         "xaxis": "x",
         "y": [
          -114.453125,
          -114.453125,
          -408.96484375,
          -408.96484375
         ],
         "yaxis": "y"
        }
       ],
       "layout": {
        "autosize": false,
        "height": 950,
        "hoverlabel": {
         "bgcolor": "white",
         "font": {
          "family": "Rockwell",
          "size": 16
         }
        },
        "hovermode": "closest",
        "plot_bgcolor": "#ECEFF1",
        "showlegend": false,
        "template": {
         "data": {
          "bar": [
           {
            "error_x": {
             "color": "#2a3f5f"
            },
            "error_y": {
             "color": "#2a3f5f"
            },
            "marker": {
             "line": {
              "color": "white",
              "width": 0.5
             },
             "pattern": {
              "fillmode": "overlay",
              "size": 10,
              "solidity": 0.2
             }
            },
            "type": "bar"
           }
          ],
          "barpolar": [
           {
            "marker": {
             "line": {
              "color": "white",
              "width": 0.5
             },
             "pattern": {
              "fillmode": "overlay",
              "size": 10,
              "solidity": 0.2
             }
            },
            "type": "barpolar"
           }
          ],
          "carpet": [
           {
            "aaxis": {
             "endlinecolor": "#2a3f5f",
             "gridcolor": "#C8D4E3",
             "linecolor": "#C8D4E3",
             "minorgridcolor": "#C8D4E3",
             "startlinecolor": "#2a3f5f"
            },
            "baxis": {
             "endlinecolor": "#2a3f5f",
             "gridcolor": "#C8D4E3",
             "linecolor": "#C8D4E3",
             "minorgridcolor": "#C8D4E3",
             "startlinecolor": "#2a3f5f"
            },
            "type": "carpet"
           }
          ],
          "choropleth": [
           {
            "colorbar": {
             "outlinewidth": 0,
             "ticks": ""
            },
            "type": "choropleth"
           }
          ],
          "contour": [
           {
            "colorbar": {
             "outlinewidth": 0,
             "ticks": ""
            },
            "colorscale": [
             [
              0,
              "#0d0887"
             ],
             [
              0.1111111111111111,
              "#46039f"
             ],
             [
              0.2222222222222222,
              "#7201a8"
             ],
             [
              0.3333333333333333,
              "#9c179e"
             ],
             [
              0.4444444444444444,
              "#bd3786"
             ],
             [
              0.5555555555555556,
              "#d8576b"
             ],
             [
              0.6666666666666666,
              "#ed7953"
             ],
             [
              0.7777777777777778,
              "#fb9f3a"
             ],
             [
              0.8888888888888888,
              "#fdca26"
             ],
             [
              1,
              "#f0f921"
             ]
            ],
            "type": "contour"
           }
          ],
          "contourcarpet": [
           {
            "colorbar": {
             "outlinewidth": 0,
             "ticks": ""
            },
            "type": "contourcarpet"
           }
          ],
          "heatmap": [
           {
            "colorbar": {
             "outlinewidth": 0,
             "ticks": ""
            },
            "colorscale": [
             [
              0,
              "#0d0887"
             ],
             [
              0.1111111111111111,
              "#46039f"
             ],
             [
              0.2222222222222222,
              "#7201a8"
             ],
             [
              0.3333333333333333,
              "#9c179e"
             ],
             [
              0.4444444444444444,
              "#bd3786"
             ],
             [
              0.5555555555555556,
              "#d8576b"
             ],
             [
              0.6666666666666666,
              "#ed7953"
             ],
             [
              0.7777777777777778,
              "#fb9f3a"
             ],
             [
              0.8888888888888888,
              "#fdca26"
             ],
             [
              1,
              "#f0f921"
             ]
            ],
            "type": "heatmap"
           }
          ],
          "heatmapgl": [
           {
            "colorbar": {
             "outlinewidth": 0,
             "ticks": ""
            },
            "colorscale": [
             [
              0,
              "#0d0887"
             ],
             [
              0.1111111111111111,
              "#46039f"
             ],
             [
              0.2222222222222222,
              "#7201a8"
             ],
             [
              0.3333333333333333,
              "#9c179e"
             ],
             [
              0.4444444444444444,
              "#bd3786"
             ],
             [
              0.5555555555555556,
              "#d8576b"
             ],
             [
              0.6666666666666666,
              "#ed7953"
             ],
             [
              0.7777777777777778,
              "#fb9f3a"
             ],
             [
              0.8888888888888888,
              "#fdca26"
             ],
             [
              1,
              "#f0f921"
             ]
            ],
            "type": "heatmapgl"
           }
          ],
          "histogram": [
           {
            "marker": {
             "pattern": {
              "fillmode": "overlay",
              "size": 10,
              "solidity": 0.2
             }
            },
            "type": "histogram"
           }
          ],
          "histogram2d": [
           {
            "colorbar": {
             "outlinewidth": 0,
             "ticks": ""
            },
            "colorscale": [
             [
              0,
              "#0d0887"
             ],
             [
              0.1111111111111111,
              "#46039f"
             ],
             [
              0.2222222222222222,
              "#7201a8"
             ],
             [
              0.3333333333333333,
              "#9c179e"
             ],
             [
              0.4444444444444444,
              "#bd3786"
             ],
             [
              0.5555555555555556,
              "#d8576b"
             ],
             [
              0.6666666666666666,
              "#ed7953"
             ],
             [
              0.7777777777777778,
              "#fb9f3a"
             ],
             [
              0.8888888888888888,
              "#fdca26"
             ],
             [
              1,
              "#f0f921"
             ]
            ],
            "type": "histogram2d"
           }
          ],
          "histogram2dcontour": [
           {
            "colorbar": {
             "outlinewidth": 0,
             "ticks": ""
            },
            "colorscale": [
             [
              0,
              "#0d0887"
             ],
             [
              0.1111111111111111,
              "#46039f"
             ],
             [
              0.2222222222222222,
              "#7201a8"
             ],
             [
              0.3333333333333333,
              "#9c179e"
             ],
             [
              0.4444444444444444,
              "#bd3786"
             ],
             [
              0.5555555555555556,
              "#d8576b"
             ],
             [
              0.6666666666666666,
              "#ed7953"
             ],
             [
              0.7777777777777778,
              "#fb9f3a"
             ],
             [
              0.8888888888888888,
              "#fdca26"
             ],
             [
              1,
              "#f0f921"
             ]
            ],
            "type": "histogram2dcontour"
           }
          ],
          "mesh3d": [
           {
            "colorbar": {
             "outlinewidth": 0,
             "ticks": ""
            },
            "type": "mesh3d"
           }
          ],
          "parcoords": [
           {
            "line": {
             "colorbar": {
              "outlinewidth": 0,
              "ticks": ""
             }
            },
            "type": "parcoords"
           }
          ],
          "pie": [
           {
            "automargin": true,
            "type": "pie"
           }
          ],
          "scatter": [
           {
            "fillpattern": {
             "fillmode": "overlay",
             "size": 10,
             "solidity": 0.2
            },
            "type": "scatter"
           }
          ],
          "scatter3d": [
           {
            "line": {
             "colorbar": {
              "outlinewidth": 0,
              "ticks": ""
             }
            },
            "marker": {
             "colorbar": {
              "outlinewidth": 0,
              "ticks": ""
             }
            },
            "type": "scatter3d"
           }
          ],
          "scattercarpet": [
           {
            "marker": {
             "colorbar": {
              "outlinewidth": 0,
              "ticks": ""
             }
            },
            "type": "scattercarpet"
           }
          ],
          "scattergeo": [
           {
            "marker": {
             "colorbar": {
              "outlinewidth": 0,
              "ticks": ""
             }
            },
            "type": "scattergeo"
           }
          ],
          "scattergl": [
           {
            "marker": {
             "colorbar": {
              "outlinewidth": 0,
              "ticks": ""
             }
            },
            "type": "scattergl"
           }
          ],
          "scattermapbox": [
           {
            "marker": {
             "colorbar": {
              "outlinewidth": 0,
              "ticks": ""
             }
            },
            "type": "scattermapbox"
           }
          ],
          "scatterpolar": [
           {
            "marker": {
             "colorbar": {
              "outlinewidth": 0,
              "ticks": ""
             }
            },
            "type": "scatterpolar"
           }
          ],
          "scatterpolargl": [
           {
            "marker": {
             "colorbar": {
              "outlinewidth": 0,
              "ticks": ""
             }
            },
            "type": "scatterpolargl"
           }
          ],
          "scatterternary": [
           {
            "marker": {
             "colorbar": {
              "outlinewidth": 0,
              "ticks": ""
             }
            },
            "type": "scatterternary"
           }
          ],
          "surface": [
           {
            "colorbar": {
             "outlinewidth": 0,
             "ticks": ""
            },
            "colorscale": [
             [
              0,
              "#0d0887"
             ],
             [
              0.1111111111111111,
              "#46039f"
             ],
             [
              0.2222222222222222,
              "#7201a8"
             ],
             [
              0.3333333333333333,
              "#9c179e"
             ],
             [
              0.4444444444444444,
              "#bd3786"
             ],
             [
              0.5555555555555556,
              "#d8576b"
             ],
             [
              0.6666666666666666,
              "#ed7953"
             ],
             [
              0.7777777777777778,
              "#fb9f3a"
             ],
             [
              0.8888888888888888,
              "#fdca26"
             ],
             [
              1,
              "#f0f921"
             ]
            ],
            "type": "surface"
           }
          ],
          "table": [
           {
            "cells": {
             "fill": {
              "color": "#EBF0F8"
             },
             "line": {
              "color": "white"
             }
            },
            "header": {
             "fill": {
              "color": "#C8D4E3"
             },
             "line": {
              "color": "white"
             }
            },
            "type": "table"
           }
          ]
         },
         "layout": {
          "annotationdefaults": {
           "arrowcolor": "#2a3f5f",
           "arrowhead": 0,
           "arrowwidth": 1
          },
          "autotypenumbers": "strict",
          "coloraxis": {
           "colorbar": {
            "outlinewidth": 0,
            "ticks": ""
           }
          },
          "colorscale": {
           "diverging": [
            [
             0,
             "#8e0152"
            ],
            [
             0.1,
             "#c51b7d"
            ],
            [
             0.2,
             "#de77ae"
            ],
            [
             0.3,
             "#f1b6da"
            ],
            [
             0.4,
             "#fde0ef"
            ],
            [
             0.5,
             "#f7f7f7"
            ],
            [
             0.6,
             "#e6f5d0"
            ],
            [
             0.7,
             "#b8e186"
            ],
            [
             0.8,
             "#7fbc41"
            ],
            [
             0.9,
             "#4d9221"
            ],
            [
             1,
             "#276419"
            ]
           ],
           "sequential": [
            [
             0,
             "#0d0887"
            ],
            [
             0.1111111111111111,
             "#46039f"
            ],
            [
             0.2222222222222222,
             "#7201a8"
            ],
            [
             0.3333333333333333,
             "#9c179e"
            ],
            [
             0.4444444444444444,
             "#bd3786"
            ],
            [
             0.5555555555555556,
             "#d8576b"
            ],
            [
             0.6666666666666666,
             "#ed7953"
            ],
            [
             0.7777777777777778,
             "#fb9f3a"
            ],
            [
             0.8888888888888888,
             "#fdca26"
            ],
            [
             1,
             "#f0f921"
            ]
           ],
           "sequentialminus": [
            [
             0,
             "#0d0887"
            ],
            [
             0.1111111111111111,
             "#46039f"
            ],
            [
             0.2222222222222222,
             "#7201a8"
            ],
            [
             0.3333333333333333,
             "#9c179e"
            ],
            [
             0.4444444444444444,
             "#bd3786"
            ],
            [
             0.5555555555555556,
             "#d8576b"
            ],
            [
             0.6666666666666666,
             "#ed7953"
            ],
            [
             0.7777777777777778,
             "#fb9f3a"
            ],
            [
             0.8888888888888888,
             "#fdca26"
            ],
            [
             1,
             "#f0f921"
            ]
           ]
          },
          "colorway": [
           "#636efa",
           "#EF553B",
           "#00cc96",
           "#ab63fa",
           "#FFA15A",
           "#19d3f3",
           "#FF6692",
           "#B6E880",
           "#FF97FF",
           "#FECB52"
          ],
          "font": {
           "color": "#2a3f5f"
          },
          "geo": {
           "bgcolor": "white",
           "lakecolor": "white",
           "landcolor": "white",
           "showlakes": true,
           "showland": true,
           "subunitcolor": "#C8D4E3"
          },
          "hoverlabel": {
           "align": "left"
          },
          "hovermode": "closest",
          "mapbox": {
           "style": "light"
          },
          "paper_bgcolor": "white",
          "plot_bgcolor": "white",
          "polar": {
           "angularaxis": {
            "gridcolor": "#EBF0F8",
            "linecolor": "#EBF0F8",
            "ticks": ""
           },
           "bgcolor": "white",
           "radialaxis": {
            "gridcolor": "#EBF0F8",
            "linecolor": "#EBF0F8",
            "ticks": ""
           }
          },
          "scene": {
           "xaxis": {
            "backgroundcolor": "white",
            "gridcolor": "#DFE8F3",
            "gridwidth": 2,
            "linecolor": "#EBF0F8",
            "showbackground": true,
            "ticks": "",
            "zerolinecolor": "#EBF0F8"
           },
           "yaxis": {
            "backgroundcolor": "white",
            "gridcolor": "#DFE8F3",
            "gridwidth": 2,
            "linecolor": "#EBF0F8",
            "showbackground": true,
            "ticks": "",
            "zerolinecolor": "#EBF0F8"
           },
           "zaxis": {
            "backgroundcolor": "white",
            "gridcolor": "#DFE8F3",
            "gridwidth": 2,
            "linecolor": "#EBF0F8",
            "showbackground": true,
            "ticks": "",
            "zerolinecolor": "#EBF0F8"
           }
          },
          "shapedefaults": {
           "line": {
            "color": "#2a3f5f"
           }
          },
          "ternary": {
           "aaxis": {
            "gridcolor": "#DFE8F3",
            "linecolor": "#A2B1C6",
            "ticks": ""
           },
           "baxis": {
            "gridcolor": "#DFE8F3",
            "linecolor": "#A2B1C6",
            "ticks": ""
           },
           "bgcolor": "white",
           "caxis": {
            "gridcolor": "#DFE8F3",
            "linecolor": "#A2B1C6",
            "ticks": ""
           }
          },
          "title": {
           "x": 0.05
          },
          "xaxis": {
           "automargin": true,
           "gridcolor": "#EBF0F8",
           "linecolor": "#EBF0F8",
           "ticks": "",
           "title": {
            "standoff": 15
           },
           "zerolinecolor": "#EBF0F8",
           "zerolinewidth": 2
          },
          "yaxis": {
           "automargin": true,
           "gridcolor": "#EBF0F8",
           "linecolor": "#EBF0F8",
           "ticks": "",
           "title": {
            "standoff": 15
           },
           "zerolinecolor": "#EBF0F8",
           "zerolinewidth": 2
          }
         }
        },
        "title": {
         "font": {
          "color": "Black",
          "size": 22
         },
         "text": "<b>Hierarchical Clustering</b>",
         "x": 0.5,
         "xanchor": "center",
         "yanchor": "top"
        },
        "width": 1000,
        "xaxis": {
         "mirror": "allticks",
         "rangemode": "tozero",
         "showgrid": false,
         "showline": true,
         "showticklabels": true,
         "ticks": "outside",
         "type": "linear",
         "zeroline": false
        },
        "yaxis": {
         "mirror": "allticks",
         "range": [
          -500,
          0
         ],
         "rangemode": "tozero",
         "showgrid": false,
         "showline": true,
         "showticklabels": true,
         "tickmode": "array",
         "ticks": "outside",
         "ticktext": [
          "38_global_income_quot",
          "48_privacy_ethics_case",
          "28_case_management_it",
          "32_cloud_computing_decision",
          "46_integrity_plagiarism_aca...",
          "24_agile_scrum_project",
          "37_app_development_mobile",
          "35_vr_virtual_reality",
          "10_database_case_data",
          "6_security_cybersecurity_in...",
          "2_analytics_data_business",
          "41_strategy_service_business",
          "33_disabilities_systems_hci",
          "23_open_km_purpose",
          "31_smart_phones_smartphones",
          "42_data_sentiment_ai",
          "44_discussions_online_discu...",
          "47_online_qm_courses",
          "17_pandemic_covid_online",
          "27_lmoocs_moocs_massive",
          "13_programming_students_int...",
          "18_teams_project_projects",
          "1_information_is_systems",
          "5_the_of_health",
          "45_flipped_classroom_class",
          "30_flipped_classroom_in",
          "19_gamification_game_games",
          "11_game_games_gaming",
          "20_storytelling_digital_nar...",
          "26_robot_rall_chatbots",
          "9_pronunciation_asr_speech",
          "36_multimodal_interactions_...",
          "43_social_participation_sites",
          "21_social_media_facebook",
          "34_perceived_textbook_accep...",
          "29_teachers_technology_use",
          "8_teachers_tpack_call",
          "16_call_language_learning",
          "15_language_online_and",
          "3_intercultural_telecollabo...",
          "0_writing_corpus_feedback",
          "4_task_scmc_l2",
          "12_vr_virtual_the",
          "7_mobile_mall_learning",
          "49_pragmatics_pragmatic_l1",
          "39_vocabulary_acquisition_d...",
          "22_glosses_vocabulary_gloss",
          "14_reading_comprehension_st...",
          "25_captions_comprehension_c...",
          "40_listening_test_comprehen..."
         ],
         "tickvals": [
          -5,
          -15,
          -25,
          -35,
          -45,
          -55,
          -65,
          -75,
          -85,
          -95,
          -105,
          -115,
          -125,
          -135,
          -145,
          -155,
          -165,
          -175,
          -185,
          -195,
          -205,
          -215,
          -225,
          -235,
          -245,
          -255,
          -265,
          -275,
          -285,
          -295,
          -305,
          -315,
          -325,
          -335,
          -345,
          -355,
          -365,
          -375,
          -385,
          -395,
          -405,
          -415,
          -425,
          -435,
          -445,
          -455,
          -465,
          -475,
          -485,
          -495
         ],
         "type": "linear",
         "zeroline": false
        }
       }
      }
     },
     "metadata": {},
     "output_type": "display_data"
    }
   ],
   "source": [
    "model.visualize_hierarchy()"
   ]
  },
  {
   "cell_type": "code",
   "execution_count": 55,
   "metadata": {},
   "outputs": [
    {
     "name": "stderr",
     "output_type": "stream",
     "text": [
      "100%|██████████| 49/49 [00:00<00:00, 272.14it/s]\n"
     ]
    },
    {
     "data": {
      "application/vnd.plotly.v1+json": {
       "config": {
        "plotlyServerURL": "https://plot.ly"
       },
       "data": [
        {
         "hoverinfo": "text",
         "marker": {
          "color": "rgb(0,116,217)"
         },
         "mode": "lines",
         "text": [
          "listening_test_comprehension_item_metacognitive",
          "",
          "",
          "captions_comprehension_captioning_listening_caption"
         ],
         "type": "scatter",
         "x": [
          0,
          1.0346737009915352,
          1.0346737009915352,
          0
         ],
         "xaxis": "x",
         "y": [
          -25,
          -25,
          -35,
          -35
         ],
         "yaxis": "y"
        },
        {
         "hoverinfo": "text",
         "marker": {
          "color": "rgb(0,116,217)"
         },
         "mode": "lines",
         "text": [
          "glosses_vocabulary_gloss_glossing_l1",
          "",
          "",
          "vocabulary_acquisition_dlls_intervention_l2"
         ],
         "type": "scatter",
         "x": [
          0,
          1.0638488557474428,
          1.0638488557474428,
          1.0346737009915352
         ],
         "xaxis": "x",
         "y": [
          -15,
          -15,
          -30,
          -30
         ],
         "yaxis": "y"
        },
        {
         "hoverinfo": "text",
         "marker": {
          "color": "rgb(0,116,217)"
         },
         "mode": "lines",
         "text": [
          "reading_comprehension_strategy_strategies_the",
          "",
          "",
          "vocabulary_glosses_gloss_the_l2"
         ],
         "type": "scatter",
         "x": [
          1.0638488557474428,
          1.1159730626933362,
          1.1159730626933362,
          0
         ],
         "xaxis": "x",
         "y": [
          -22.5,
          -22.5,
          -45,
          -45
         ],
         "yaxis": "y"
        },
        {
         "hoverinfo": "text",
         "marker": {
          "color": "rgb(0,116,217)"
         },
         "mode": "lines",
         "text": [
          "task_scmc_l2_in_language",
          "",
          "",
          "writing_corpus_feedback_the_of"
         ],
         "type": "scatter",
         "x": [
          0,
          1.1772333086663378,
          1.1772333086663378,
          1.1159730626933362
         ],
         "xaxis": "x",
         "y": [
          -5,
          -5,
          -33.75,
          -33.75
         ],
         "yaxis": "y"
        },
        {
         "hoverinfo": "text",
         "marker": {
          "color": "rgb(0,116,217)"
         },
         "mode": "lines",
         "text": [
          "writing_the_in_of_and",
          "",
          "",
          "pronunciation_asr_speech_production_training"
         ],
         "type": "scatter",
         "x": [
          0,
          1.0112769256792273,
          1.0112769256792273,
          0
         ],
         "xaxis": "x",
         "y": [
          -55,
          -55,
          -65,
          -65
         ],
         "yaxis": "y"
        },
        {
         "hoverinfo": "text",
         "marker": {
          "color": "rgb(0,116,217)"
         },
         "mode": "lines",
         "text": [
          "robot_rall_chatbots_chatbot_learners",
          "",
          "",
          "writing_the_of_in_and"
         ],
         "type": "scatter",
         "x": [
          1.0112769256792273,
          1.1427270124113413,
          1.1427270124113413,
          0
         ],
         "xaxis": "x",
         "y": [
          -60,
          -60,
          -75,
          -75
         ],
         "yaxis": "y"
        },
        {
         "hoverinfo": "text",
         "marker": {
          "color": "rgb(0,116,217)"
         },
         "mode": "lines",
         "text": [
          "writing_the_of_in_and",
          "",
          "",
          "pragmatics_pragmatic_l1_speakers_modifiers"
         ],
         "type": "scatter",
         "x": [
          1.1772333086663378,
          1.2755423714960668,
          1.2755423714960668,
          1.1427270124113413
         ],
         "xaxis": "x",
         "y": [
          -19.375,
          -19.375,
          -67.5,
          -67.5
         ],
         "yaxis": "y"
        },
        {
         "hoverinfo": "text",
         "marker": {
          "color": "rgb(61,153,112)"
         },
         "mode": "lines",
         "text": [
          "reading_vocabulary_the_comprehension_of",
          "",
          "",
          "writing_the_of_in_and"
         ],
         "type": "scatter",
         "x": [
          0,
          0.7898324677074084,
          0.7898324677074084,
          0
         ],
         "xaxis": "x",
         "y": [
          -95,
          -95,
          -105,
          -105
         ],
         "yaxis": "y"
        },
        {
         "hoverinfo": "text",
         "marker": {
          "color": "rgb(61,153,112)"
         },
         "mode": "lines",
         "text": [
          "listening_captions_comprehension_captioning_learners",
          "",
          "",
          "writing_the_of_in_and"
         ],
         "type": "scatter",
         "x": [
          0.7898324677074084,
          0.8453933456502184,
          0.8453933456502184,
          0
         ],
         "xaxis": "x",
         "y": [
          -100,
          -100,
          -115,
          -115
         ],
         "yaxis": "y"
        },
        {
         "hoverinfo": "text",
         "marker": {
          "color": "rgb(61,153,112)"
         },
         "mode": "lines",
         "text": [
          "online_qm_courses_content_learning",
          "",
          "",
          "pandemic_covid_online_19_emergency"
         ],
         "type": "scatter",
         "x": [
          0,
          0.8831481835770179,
          0.8831481835770179,
          0.8453933456502184
         ],
         "xaxis": "x",
         "y": [
          -85,
          -85,
          -107.5,
          -107.5
         ],
         "yaxis": "y"
        },
        {
         "hoverinfo": "text",
         "marker": {
          "color": "rgb(255,65,54)"
         },
         "mode": "lines",
         "text": [
          "lmoocs_moocs_massive_online_open",
          "",
          "",
          "online_pandemic_covid_19_emergency"
         ],
         "type": "scatter",
         "x": [
          0,
          0.9193822899740481,
          0.9193822899740481,
          0
         ],
         "xaxis": "x",
         "y": [
          -125,
          -125,
          -135,
          -135
         ],
         "yaxis": "y"
        },
        {
         "hoverinfo": "text",
         "marker": {
          "color": "rgb(0,116,217)"
         },
         "mode": "lines",
         "text": [
          "online_pandemic_to_learning_courses",
          "",
          "",
          "discussions_online_discussion_student_students"
         ],
         "type": "scatter",
         "x": [
          0,
          1.0223828097062442,
          1.0223828097062442,
          0
         ],
         "xaxis": "x",
         "y": [
          -145,
          -145,
          -155,
          -155
         ],
         "yaxis": "y"
        },
        {
         "hoverinfo": "text",
         "marker": {
          "color": "rgb(0,116,217)"
         },
         "mode": "lines",
         "text": [
          "integrity_plagiarism_academic_dishonesty_faculty",
          "",
          "",
          "online_pandemic_learning_to_courses"
         ],
         "type": "scatter",
         "x": [
          0.9193822899740481,
          1.0380825899500674,
          1.0380825899500674,
          1.0223828097062442
         ],
         "xaxis": "x",
         "y": [
          -130,
          -130,
          -150,
          -150
         ],
         "yaxis": "y"
        },
        {
         "hoverinfo": "text",
         "marker": {
          "color": "rgb(0,116,217)"
         },
         "mode": "lines",
         "text": [
          "programming_students_introductory_to_the",
          "",
          "",
          "the_of_health_in_and"
         ],
         "type": "scatter",
         "x": [
          0.8831481835770179,
          1.167749901237363,
          1.167749901237363,
          1.0380825899500674
         ],
         "xaxis": "x",
         "y": [
          -96.25,
          -96.25,
          -140,
          -140
         ],
         "yaxis": "y"
        },
        {
         "hoverinfo": "text",
         "marker": {
          "color": "rgb(35,205,205)"
         },
         "mode": "lines",
         "text": [
          "app_development_mobile_inventor_programming",
          "",
          "",
          "the_of_programming_and_in"
         ],
         "type": "scatter",
         "x": [
          0,
          0.8173620648720871,
          0.8173620648720871,
          0
         ],
         "xaxis": "x",
         "y": [
          -175,
          -175,
          -185,
          -185
         ],
         "yaxis": "y"
        },
        {
         "hoverinfo": "text",
         "marker": {
          "color": "rgb(35,205,205)"
         },
         "mode": "lines",
         "text": [
          "mobile_mall_learning_language_the",
          "",
          "",
          "smart_phones_smartphones_devices_mobile"
         ],
         "type": "scatter",
         "x": [
          0,
          0.8837329141899327,
          0.8837329141899327,
          0.8173620648720871
         ],
         "xaxis": "x",
         "y": [
          -165,
          -165,
          -180,
          -180
         ],
         "yaxis": "y"
        },
        {
         "hoverinfo": "text",
         "marker": {
          "color": "rgb(35,205,205)"
         },
         "mode": "lines",
         "text": [
          "the_programming_of_and_in",
          "",
          "",
          "mobile_mall_learning_devices_language"
         ],
         "type": "scatter",
         "x": [
          0.8837329141899327,
          0.9148078552153883,
          0.9148078552153883,
          0
         ],
         "xaxis": "x",
         "y": [
          -172.5,
          -172.5,
          -195,
          -195
         ],
         "yaxis": "y"
        },
        {
         "hoverinfo": "text",
         "marker": {
          "color": "rgb(0,116,217)"
         },
         "mode": "lines",
         "text": [
          "data_sentiment_ai_intelligent_algorithms",
          "",
          "",
          "mobile_the_of_and_in"
         ],
         "type": "scatter",
         "x": [
          1.167749901237363,
          1.4578394317930194,
          1.4578394317930194,
          0.9148078552153883
         ],
         "xaxis": "x",
         "y": [
          -118.125,
          -118.125,
          -183.75,
          -183.75
         ],
         "yaxis": "y"
        },
        {
         "hoverinfo": "text",
         "marker": {
          "color": "rgb(133,20,75)"
         },
         "mode": "lines",
         "text": [
          "game_games_gaming_language_digital",
          "",
          "",
          "gamification_game_games_kahoot_learning"
         ],
         "type": "scatter",
         "x": [
          0,
          0.7584549129980679,
          0.7584549129980679,
          0
         ],
         "xaxis": "x",
         "y": [
          -205,
          -205,
          -215,
          -215
         ],
         "yaxis": "y"
        },
        {
         "hoverinfo": "text",
         "marker": {
          "color": "rgb(133,20,75)"
         },
         "mode": "lines",
         "text": [
          "the_mobile_of_and_in",
          "",
          "",
          "game_games_gaming_gamification_learning"
         ],
         "type": "scatter",
         "x": [
          0,
          0.764657685960738,
          0.764657685960738,
          0
         ],
         "xaxis": "x",
         "y": [
          -225,
          -225,
          -235,
          -235
         ],
         "yaxis": "y"
        },
        {
         "hoverinfo": "text",
         "marker": {
          "color": "rgb(133,20,75)"
         },
         "mode": "lines",
         "text": [
          "teachers_technology_use_intention_iwb",
          "",
          "",
          "perceived_textbook_acceptance_technology_intention"
         ],
         "type": "scatter",
         "x": [
          0.7584549129980679,
          0.8587989586297331,
          0.8587989586297331,
          0.764657685960738
         ],
         "xaxis": "x",
         "y": [
          -210,
          -210,
          -230,
          -230
         ],
         "yaxis": "y"
        },
        {
         "hoverinfo": "text",
         "marker": {
          "color": "rgb(0,116,217)"
         },
         "mode": "lines",
         "text": [
          "open_km_purpose_is_of",
          "",
          "",
          "global_income_quot_globalisation_political"
         ],
         "type": "scatter",
         "x": [
          1.4578394317930194,
          1.5111228767569633,
          1.5111228767569633,
          0.8587989586297331
         ],
         "xaxis": "x",
         "y": [
          -150.9375,
          -150.9375,
          -220,
          -220
         ],
         "yaxis": "y"
        },
        {
         "hoverinfo": "text",
         "marker": {
          "color": "rgb(0,116,217)"
         },
         "mode": "lines",
         "text": [
          "technology_perceived_use_intention_teachers",
          "",
          "",
          "global_purpose_of_the_is"
         ],
         "type": "scatter",
         "x": [
          1.2755423714960668,
          2.051705210244366,
          2.051705210244366,
          1.5111228767569633
         ],
         "xaxis": "x",
         "y": [
          -43.4375,
          -43.4375,
          -185.46875,
          -185.46875
         ],
         "yaxis": "y"
        },
        {
         "hoverinfo": "text",
         "marker": {
          "color": "rgb(255,220,0)"
         },
         "mode": "lines",
         "text": [
          "the_of_and_learning_in",
          "",
          "",
          "of_the_global_purpose_and"
         ],
         "type": "scatter",
         "x": [
          0,
          0.6158290226408877,
          0.6158290226408877,
          0
         ],
         "xaxis": "x",
         "y": [
          -245,
          -245,
          -255,
          -255
         ],
         "yaxis": "y"
        },
        {
         "hoverinfo": "text",
         "marker": {
          "color": "rgb(40,35,35)"
         },
         "mode": "lines",
         "text": [
          "social_media_facebook_of_use",
          "",
          "",
          "social_participation_sites_online_facebook"
         ],
         "type": "scatter",
         "x": [
          0,
          0.8054296110486333,
          0.8054296110486333,
          0
         ],
         "xaxis": "x",
         "y": [
          -265,
          -265,
          -275,
          -275
         ],
         "yaxis": "y"
        },
        {
         "hoverinfo": "text",
         "marker": {
          "color": "rgb(61,153,112)"
         },
         "mode": "lines",
         "text": [
          "call_language_learning_quot_of",
          "",
          "",
          "teachers_tpack_call_technology_language"
         ],
         "type": "scatter",
         "x": [
          0,
          0.8378984169282606,
          0.8378984169282606,
          0
         ],
         "xaxis": "x",
         "y": [
          -295,
          -295,
          -305,
          -305
         ],
         "yaxis": "y"
        },
        {
         "hoverinfo": "text",
         "marker": {
          "color": "rgb(61,153,112)"
         },
         "mode": "lines",
         "text": [
          "intercultural_telecollaboration_telecollaborative_and_of",
          "",
          "",
          "language_online_and_in_identity"
         ],
         "type": "scatter",
         "x": [
          0,
          0.965519146107376,
          0.965519146107376,
          0.8378984169282606
         ],
         "xaxis": "x",
         "y": [
          -285,
          -285,
          -300,
          -300
         ],
         "yaxis": "y"
        },
        {
         "hoverinfo": "text",
         "marker": {
          "color": "rgb(0,116,217)"
         },
         "mode": "lines",
         "text": [
          "call_teachers_language_technology_tpack",
          "",
          "",
          "intercultural_telecollaboration_language_and_in"
         ],
         "type": "scatter",
         "x": [
          0.965519146107376,
          1.0385337013931955,
          1.0385337013931955,
          0
         ],
         "xaxis": "x",
         "y": [
          -292.5,
          -292.5,
          -315,
          -315
         ],
         "yaxis": "y"
        },
        {
         "hoverinfo": "text",
         "marker": {
          "color": "rgb(0,116,217)"
         },
         "mode": "lines",
         "text": [
          "language_call_and_of_teachers",
          "",
          "",
          "storytelling_digital_narrative_stories_fan"
         ],
         "type": "scatter",
         "x": [
          0.8054296110486333,
          1.1528693423702139,
          1.1528693423702139,
          1.0385337013931955
         ],
         "xaxis": "x",
         "y": [
          -270,
          -270,
          -303.75,
          -303.75
         ],
         "yaxis": "y"
        },
        {
         "hoverinfo": "text",
         "marker": {
          "color": "rgb(255,65,54)"
         },
         "mode": "lines",
         "text": [
          "multimodal_interactions_semiotic_online_videoconferencing",
          "",
          "",
          "language_and_of_the_in"
         ],
         "type": "scatter",
         "x": [
          0,
          0.6954753106164142,
          0.6954753106164142,
          0
         ],
         "xaxis": "x",
         "y": [
          -325,
          -325,
          -335,
          -335
         ],
         "yaxis": "y"
        },
        {
         "hoverinfo": "text",
         "marker": {
          "color": "rgb(0,116,217)"
         },
         "mode": "lines",
         "text": [
          "social_media_facebook_of_sites",
          "",
          "",
          "language_and_of_the_in"
         ],
         "type": "scatter",
         "x": [
          1.1528693423702139,
          1.21029596572733,
          1.21029596572733,
          0.6954753106164142
         ],
         "xaxis": "x",
         "y": [
          -286.875,
          -286.875,
          -330,
          -330
         ],
         "yaxis": "y"
        },
        {
         "hoverinfo": "text",
         "marker": {
          "color": "rgb(35,205,205)"
         },
         "mode": "lines",
         "text": [
          "vr_virtual_the_learning_3d",
          "",
          "",
          "vr_virtual_reality_environments_augmented"
         ],
         "type": "scatter",
         "x": [
          0,
          0.7408062122712059,
          0.7408062122712059,
          0
         ],
         "xaxis": "x",
         "y": [
          -345,
          -345,
          -355,
          -355
         ],
         "yaxis": "y"
        },
        {
         "hoverinfo": "text",
         "marker": {
          "color": "rgb(0,116,217)"
         },
         "mode": "lines",
         "text": [
          "of_language_and_the_in",
          "",
          "",
          "vr_virtual_reality_learning_the"
         ],
         "type": "scatter",
         "x": [
          1.21029596572733,
          1.4741632402025469,
          1.4741632402025469,
          0.7408062122712059
         ],
         "xaxis": "x",
         "y": [
          -308.4375,
          -308.4375,
          -350,
          -350
         ],
         "yaxis": "y"
        },
        {
         "hoverinfo": "text",
         "marker": {
          "color": "rgb(0,116,217)"
         },
         "mode": "lines",
         "text": [
          "the_of_and_to_in",
          "",
          "",
          "of_and_the_language_in"
         ],
         "type": "scatter",
         "x": [
          0.6158290226408877,
          1.5930152537978042,
          1.5930152537978042,
          1.4741632402025469
         ],
         "xaxis": "x",
         "y": [
          -250,
          -250,
          -329.21875,
          -329.21875
         ],
         "yaxis": "y"
        },
        {
         "hoverinfo": "text",
         "marker": {
          "color": "rgb(61,153,112)"
         },
         "mode": "lines",
         "text": [
          "online_to_pandemic_and_courses",
          "",
          "",
          "the_of_and_in_to"
         ],
         "type": "scatter",
         "x": [
          0,
          0.657903100659429,
          0.657903100659429,
          0
         ],
         "xaxis": "x",
         "y": [
          -365,
          -365,
          -375,
          -375
         ],
         "yaxis": "y"
        },
        {
         "hoverinfo": "text",
         "marker": {
          "color": "rgb(61,153,112)"
         },
         "mode": "lines",
         "text": [
          "flipped_classroom_in_were_the",
          "",
          "",
          "flipped_classroom_class_lecture_the"
         ],
         "type": "scatter",
         "x": [
          0,
          0.6452977194795279,
          0.6452977194795279,
          0
         ],
         "xaxis": "x",
         "y": [
          -385,
          -385,
          -395,
          -395
         ],
         "yaxis": "y"
        },
        {
         "hoverinfo": "text",
         "marker": {
          "color": "rgb(61,153,112)"
         },
         "mode": "lines",
         "text": [
          "the_of_and_in_to",
          "",
          "",
          "flipped_classroom_class_the_in"
         ],
         "type": "scatter",
         "x": [
          0.657903100659429,
          0.8364946083091395,
          0.8364946083091395,
          0.6452977194795279
         ],
         "xaxis": "x",
         "y": [
          -370,
          -370,
          -390,
          -390
         ],
         "yaxis": "y"
        },
        {
         "hoverinfo": "text",
         "marker": {
          "color": "rgb(61,153,112)"
         },
         "mode": "lines",
         "text": [
          "security_cybersecurity_information_to_and",
          "",
          "",
          "information_is_systems_and_of"
         ],
         "type": "scatter",
         "x": [
          0,
          0.610190156405078,
          0.610190156405078,
          0
         ],
         "xaxis": "x",
         "y": [
          -405,
          -405,
          -415,
          -415
         ],
         "yaxis": "y"
        },
        {
         "hoverinfo": "text",
         "marker": {
          "color": "rgb(61,153,112)"
         },
         "mode": "lines",
         "text": [
          "information_security_is_systems_cybersecurity",
          "",
          "",
          "analytics_data_business_big_to"
         ],
         "type": "scatter",
         "x": [
          0,
          0.7490092680252399,
          0.7490092680252399,
          0
         ],
         "xaxis": "x",
         "y": [
          -425,
          -425,
          -435,
          -435
         ],
         "yaxis": "y"
        },
        {
         "hoverinfo": "text",
         "marker": {
          "color": "rgb(61,153,112)"
         },
         "mode": "lines",
         "text": [
          "teams_project_projects_team_students",
          "",
          "",
          "strategy_service_business_client_challenge"
         ],
         "type": "scatter",
         "x": [
          0.610190156405078,
          0.7940342972139285,
          0.7940342972139285,
          0.7490092680252399
         ],
         "xaxis": "x",
         "y": [
          -410,
          -410,
          -430,
          -430
         ],
         "yaxis": "y"
        },
        {
         "hoverinfo": "text",
         "marker": {
          "color": "rgb(61,153,112)"
         },
         "mode": "lines",
         "text": [
          "information_analytics_is_data_to",
          "",
          "",
          "projects_teams_students_project_to"
         ],
         "type": "scatter",
         "x": [
          0.8364946083091395,
          0.9824856733337379,
          0.9824856733337379,
          0.7940342972139285
         ],
         "xaxis": "x",
         "y": [
          -380,
          -380,
          -420,
          -420
         ],
         "yaxis": "y"
        },
        {
         "hoverinfo": "text",
         "marker": {
          "color": "rgb(0,116,217)"
         },
         "mode": "lines",
         "text": [
          "database_case_data_sql_query",
          "",
          "",
          "information_is_to_business_analytics"
         ],
         "type": "scatter",
         "x": [
          1.5930152537978042,
          1.8905324842192515,
          1.8905324842192515,
          0.9824856733337379
         ],
         "xaxis": "x",
         "y": [
          -289.609375,
          -289.609375,
          -400,
          -400
         ],
         "yaxis": "y"
        },
        {
         "hoverinfo": "text",
         "marker": {
          "color": "rgb(255,65,54)"
         },
         "mode": "lines",
         "text": [
          "information_is_data_to_business",
          "",
          "",
          "disabilities_systems_hci_with_web"
         ],
         "type": "scatter",
         "x": [
          0,
          0.7168586008317072,
          0.7168586008317072,
          0
         ],
         "xaxis": "x",
         "y": [
          -455,
          -455,
          -465,
          -465
         ],
         "yaxis": "y"
        },
        {
         "hoverinfo": "text",
         "marker": {
          "color": "rgb(255,65,54)"
         },
         "mode": "lines",
         "text": [
          "information_is_to_data_and",
          "",
          "",
          "cloud_computing_decision_cc_aws"
         ],
         "type": "scatter",
         "x": [
          0.7168586008317072,
          0.9035734457070537,
          0.9035734457070537,
          0
         ],
         "xaxis": "x",
         "y": [
          -460,
          -460,
          -475,
          -475
         ],
         "yaxis": "y"
        },
        {
         "hoverinfo": "text",
         "marker": {
          "color": "rgb(0,116,217)"
         },
         "mode": "lines",
         "text": [
          "agile_scrum_project_development_to",
          "",
          "",
          "information_is_to_and_the"
         ],
         "type": "scatter",
         "x": [
          0,
          1.2155441453031512,
          1.2155441453031512,
          0.9035734457070537
         ],
         "xaxis": "x",
         "y": [
          -445,
          -445,
          -467.5,
          -467.5
         ],
         "yaxis": "y"
        },
        {
         "hoverinfo": "text",
         "marker": {
          "color": "rgb(35,205,205)"
         },
         "mode": "lines",
         "text": [
          "case_management_it_system_the",
          "",
          "",
          "privacy_ethics_case_ethical_issues"
         ],
         "type": "scatter",
         "x": [
          0,
          0.8554557131306363,
          0.8554557131306363,
          0
         ],
         "xaxis": "x",
         "y": [
          -485,
          -485,
          -495,
          -495
         ],
         "yaxis": "y"
        },
        {
         "hoverinfo": "text",
         "marker": {
          "color": "rgb(0,116,217)"
         },
         "mode": "lines",
         "text": [
          "to_information_is_and_the",
          "",
          "",
          "case_privacy_management_the_it"
         ],
         "type": "scatter",
         "x": [
          1.2155441453031512,
          1.4874126454832104,
          1.4874126454832104,
          0.8554557131306363
         ],
         "xaxis": "x",
         "y": [
          -456.25,
          -456.25,
          -490,
          -490
         ],
         "yaxis": "y"
        },
        {
         "hoverinfo": "text",
         "marker": {
          "color": "rgb(0,116,217)"
         },
         "mode": "lines",
         "text": [
          "the_of_and_in_to",
          "",
          "",
          "to_is_information_the_and"
         ],
         "type": "scatter",
         "x": [
          1.8905324842192515,
          2.4889101481677485,
          2.4889101481677485,
          1.4874126454832104
         ],
         "xaxis": "x",
         "y": [
          -344.8046875,
          -344.8046875,
          -473.125,
          -473.125
         ],
         "yaxis": "y"
        },
        {
         "hoverinfo": "text",
         "marker": {
          "color": "rgb(0,116,217)"
         },
         "mode": "lines",
         "text": [
          "the_writing_of_and_in",
          "",
          "",
          "the_and_of_to_in"
         ],
         "type": "scatter",
         "x": [
          2.051705210244366,
          2.9732584752987963,
          2.9732584752987963,
          2.4889101481677485
         ],
         "xaxis": "x",
         "y": [
          -114.453125,
          -114.453125,
          -408.96484375,
          -408.96484375
         ],
         "yaxis": "y"
        },
        {
         "hoverinfo": "text",
         "hovertext": [
          "reading_comprehension_strategy_strategies_the",
          "robot_rall_chatbots_chatbot_learners",
          "writing_the_of_in_and",
          "listening_captions_comprehension_captioning_learners",
          "integrity_plagiarism_academic_dishonesty_faculty",
          "programming_students_introductory_to_the",
          "the_programming_of_and_in",
          "data_sentiment_ai_intelligent_algorithms",
          "teachers_technology_use_intention_iwb",
          "open_km_purpose_is_of",
          "technology_perceived_use_intention_teachers",
          "call_teachers_language_technology_tpack",
          "language_call_and_of_teachers",
          "social_media_facebook_of_sites",
          "of_language_and_the_in",
          "the_of_and_to_in",
          "the_of_and_in_to",
          "teams_project_projects_team_students",
          "information_analytics_is_data_to",
          "database_case_data_sql_query",
          "information_is_to_data_and",
          "to_information_is_and_the",
          "the_of_and_in_to",
          "the_writing_of_and_in"
         ],
         "marker": {
          "color": "black"
         },
         "mode": "markers",
         "showlegend": false,
         "type": "scatter",
         "x": [
          1.0638488557474428,
          1.0112769256792273,
          1.1772333086663378,
          0.7898324677074084,
          0.9193822899740481,
          0.8831481835770179,
          0.8837329141899327,
          1.167749901237363,
          0.7584549129980679,
          1.4578394317930194,
          1.2755423714960668,
          0.965519146107376,
          0.8054296110486333,
          1.1528693423702139,
          1.21029596572733,
          0.6158290226408877,
          0.657903100659429,
          0.610190156405078,
          0.8364946083091395,
          1.5930152537978042,
          0.7168586008317072,
          1.2155441453031512,
          1.8905324842192515,
          2.051705210244366
         ],
         "y": [
          -22.5,
          -60,
          -19.375,
          -100,
          -130,
          -96.25,
          -172.5,
          -118.125,
          -210,
          -150.9375,
          -43.4375,
          -292.5,
          -270,
          -286.875,
          -308.4375,
          -250,
          -370,
          -410,
          -380,
          -289.609375,
          -460,
          -456.25,
          -344.8046875,
          -114.453125
         ]
        },
        {
         "hoverinfo": "text",
         "hovertext": [
          "vocabulary_acquisition_dlls_intervention_l2",
          "writing_corpus_feedback_the_of",
          "pragmatics_pragmatic_l1_speakers_modifiers",
          "pandemic_covid_online_19_emergency",
          "online_pandemic_learning_to_courses",
          "the_of_health_in_and",
          "smart_phones_smartphones_devices_mobile",
          "mobile_the_of_and_in",
          "perceived_textbook_acceptance_technology_intention",
          "global_income_quot_globalisation_political",
          "global_purpose_of_the_is",
          "language_online_and_in_identity",
          "storytelling_digital_narrative_stories_fan",
          "language_and_of_the_in",
          "vr_virtual_reality_learning_the",
          "of_and_the_language_in",
          "flipped_classroom_class_the_in",
          "strategy_service_business_client_challenge",
          "projects_teams_students_project_to",
          "information_is_to_business_analytics",
          "information_is_to_and_the",
          "case_privacy_management_the_it",
          "to_is_information_the_and",
          "the_and_of_to_in"
         ],
         "marker": {
          "color": "black"
         },
         "mode": "markers",
         "showlegend": false,
         "type": "scatter",
         "x": [
          1.0346737009915352,
          1.1159730626933362,
          1.1427270124113413,
          0.8453933456502184,
          1.0223828097062442,
          1.0380825899500674,
          0.8173620648720871,
          0.9148078552153883,
          0.764657685960738,
          0.8587989586297331,
          1.5111228767569633,
          0.8378984169282606,
          1.0385337013931955,
          0.6954753106164142,
          0.7408062122712059,
          1.4741632402025469,
          0.6452977194795279,
          0.7490092680252399,
          0.7940342972139285,
          0.9824856733337379,
          0.9035734457070537,
          0.8554557131306363,
          1.4874126454832104,
          2.4889101481677485
         ],
         "y": [
          -30,
          -33.75,
          -67.5,
          -107.5,
          -150,
          -140,
          -180,
          -183.75,
          -230,
          -220,
          -185.46875,
          -300,
          -303.75,
          -330,
          -350,
          -329.21875,
          -390,
          -430,
          -420,
          -400,
          -467.5,
          -490,
          -473.125,
          -408.96484375
         ]
        }
       ],
       "layout": {
        "autosize": false,
        "height": 950,
        "hoverlabel": {
         "bgcolor": "white",
         "font": {
          "family": "Rockwell",
          "size": 16
         }
        },
        "hovermode": "closest",
        "plot_bgcolor": "#ECEFF1",
        "showlegend": false,
        "template": {
         "data": {
          "bar": [
           {
            "error_x": {
             "color": "#2a3f5f"
            },
            "error_y": {
             "color": "#2a3f5f"
            },
            "marker": {
             "line": {
              "color": "white",
              "width": 0.5
             },
             "pattern": {
              "fillmode": "overlay",
              "size": 10,
              "solidity": 0.2
             }
            },
            "type": "bar"
           }
          ],
          "barpolar": [
           {
            "marker": {
             "line": {
              "color": "white",
              "width": 0.5
             },
             "pattern": {
              "fillmode": "overlay",
              "size": 10,
              "solidity": 0.2
             }
            },
            "type": "barpolar"
           }
          ],
          "carpet": [
           {
            "aaxis": {
             "endlinecolor": "#2a3f5f",
             "gridcolor": "#C8D4E3",
             "linecolor": "#C8D4E3",
             "minorgridcolor": "#C8D4E3",
             "startlinecolor": "#2a3f5f"
            },
            "baxis": {
             "endlinecolor": "#2a3f5f",
             "gridcolor": "#C8D4E3",
             "linecolor": "#C8D4E3",
             "minorgridcolor": "#C8D4E3",
             "startlinecolor": "#2a3f5f"
            },
            "type": "carpet"
           }
          ],
          "choropleth": [
           {
            "colorbar": {
             "outlinewidth": 0,
             "ticks": ""
            },
            "type": "choropleth"
           }
          ],
          "contour": [
           {
            "colorbar": {
             "outlinewidth": 0,
             "ticks": ""
            },
            "colorscale": [
             [
              0,
              "#0d0887"
             ],
             [
              0.1111111111111111,
              "#46039f"
             ],
             [
              0.2222222222222222,
              "#7201a8"
             ],
             [
              0.3333333333333333,
              "#9c179e"
             ],
             [
              0.4444444444444444,
              "#bd3786"
             ],
             [
              0.5555555555555556,
              "#d8576b"
             ],
             [
              0.6666666666666666,
              "#ed7953"
             ],
             [
              0.7777777777777778,
              "#fb9f3a"
             ],
             [
              0.8888888888888888,
              "#fdca26"
             ],
             [
              1,
              "#f0f921"
             ]
            ],
            "type": "contour"
           }
          ],
          "contourcarpet": [
           {
            "colorbar": {
             "outlinewidth": 0,
             "ticks": ""
            },
            "type": "contourcarpet"
           }
          ],
          "heatmap": [
           {
            "colorbar": {
             "outlinewidth": 0,
             "ticks": ""
            },
            "colorscale": [
             [
              0,
              "#0d0887"
             ],
             [
              0.1111111111111111,
              "#46039f"
             ],
             [
              0.2222222222222222,
              "#7201a8"
             ],
             [
              0.3333333333333333,
              "#9c179e"
             ],
             [
              0.4444444444444444,
              "#bd3786"
             ],
             [
              0.5555555555555556,
              "#d8576b"
             ],
             [
              0.6666666666666666,
              "#ed7953"
             ],
             [
              0.7777777777777778,
              "#fb9f3a"
             ],
             [
              0.8888888888888888,
              "#fdca26"
             ],
             [
              1,
              "#f0f921"
             ]
            ],
            "type": "heatmap"
           }
          ],
          "heatmapgl": [
           {
            "colorbar": {
             "outlinewidth": 0,
             "ticks": ""
            },
            "colorscale": [
             [
              0,
              "#0d0887"
             ],
             [
              0.1111111111111111,
              "#46039f"
             ],
             [
              0.2222222222222222,
              "#7201a8"
             ],
             [
              0.3333333333333333,
              "#9c179e"
             ],
             [
              0.4444444444444444,
              "#bd3786"
             ],
             [
              0.5555555555555556,
              "#d8576b"
             ],
             [
              0.6666666666666666,
              "#ed7953"
             ],
             [
              0.7777777777777778,
              "#fb9f3a"
             ],
             [
              0.8888888888888888,
              "#fdca26"
             ],
             [
              1,
              "#f0f921"
             ]
            ],
            "type": "heatmapgl"
           }
          ],
          "histogram": [
           {
            "marker": {
             "pattern": {
              "fillmode": "overlay",
              "size": 10,
              "solidity": 0.2
             }
            },
            "type": "histogram"
           }
          ],
          "histogram2d": [
           {
            "colorbar": {
             "outlinewidth": 0,
             "ticks": ""
            },
            "colorscale": [
             [
              0,
              "#0d0887"
             ],
             [
              0.1111111111111111,
              "#46039f"
             ],
             [
              0.2222222222222222,
              "#7201a8"
             ],
             [
              0.3333333333333333,
              "#9c179e"
             ],
             [
              0.4444444444444444,
              "#bd3786"
             ],
             [
              0.5555555555555556,
              "#d8576b"
             ],
             [
              0.6666666666666666,
              "#ed7953"
             ],
             [
              0.7777777777777778,
              "#fb9f3a"
             ],
             [
              0.8888888888888888,
              "#fdca26"
             ],
             [
              1,
              "#f0f921"
             ]
            ],
            "type": "histogram2d"
           }
          ],
          "histogram2dcontour": [
           {
            "colorbar": {
             "outlinewidth": 0,
             "ticks": ""
            },
            "colorscale": [
             [
              0,
              "#0d0887"
             ],
             [
              0.1111111111111111,
              "#46039f"
             ],
             [
              0.2222222222222222,
              "#7201a8"
             ],
             [
              0.3333333333333333,
              "#9c179e"
             ],
             [
              0.4444444444444444,
              "#bd3786"
             ],
             [
              0.5555555555555556,
              "#d8576b"
             ],
             [
              0.6666666666666666,
              "#ed7953"
             ],
             [
              0.7777777777777778,
              "#fb9f3a"
             ],
             [
              0.8888888888888888,
              "#fdca26"
             ],
             [
              1,
              "#f0f921"
             ]
            ],
            "type": "histogram2dcontour"
           }
          ],
          "mesh3d": [
           {
            "colorbar": {
             "outlinewidth": 0,
             "ticks": ""
            },
            "type": "mesh3d"
           }
          ],
          "parcoords": [
           {
            "line": {
             "colorbar": {
              "outlinewidth": 0,
              "ticks": ""
             }
            },
            "type": "parcoords"
           }
          ],
          "pie": [
           {
            "automargin": true,
            "type": "pie"
           }
          ],
          "scatter": [
           {
            "fillpattern": {
             "fillmode": "overlay",
             "size": 10,
             "solidity": 0.2
            },
            "type": "scatter"
           }
          ],
          "scatter3d": [
           {
            "line": {
             "colorbar": {
              "outlinewidth": 0,
              "ticks": ""
             }
            },
            "marker": {
             "colorbar": {
              "outlinewidth": 0,
              "ticks": ""
             }
            },
            "type": "scatter3d"
           }
          ],
          "scattercarpet": [
           {
            "marker": {
             "colorbar": {
              "outlinewidth": 0,
              "ticks": ""
             }
            },
            "type": "scattercarpet"
           }
          ],
          "scattergeo": [
           {
            "marker": {
             "colorbar": {
              "outlinewidth": 0,
              "ticks": ""
             }
            },
            "type": "scattergeo"
           }
          ],
          "scattergl": [
           {
            "marker": {
             "colorbar": {
              "outlinewidth": 0,
              "ticks": ""
             }
            },
            "type": "scattergl"
           }
          ],
          "scattermapbox": [
           {
            "marker": {
             "colorbar": {
              "outlinewidth": 0,
              "ticks": ""
             }
            },
            "type": "scattermapbox"
           }
          ],
          "scatterpolar": [
           {
            "marker": {
             "colorbar": {
              "outlinewidth": 0,
              "ticks": ""
             }
            },
            "type": "scatterpolar"
           }
          ],
          "scatterpolargl": [
           {
            "marker": {
             "colorbar": {
              "outlinewidth": 0,
              "ticks": ""
             }
            },
            "type": "scatterpolargl"
           }
          ],
          "scatterternary": [
           {
            "marker": {
             "colorbar": {
              "outlinewidth": 0,
              "ticks": ""
             }
            },
            "type": "scatterternary"
           }
          ],
          "surface": [
           {
            "colorbar": {
             "outlinewidth": 0,
             "ticks": ""
            },
            "colorscale": [
             [
              0,
              "#0d0887"
             ],
             [
              0.1111111111111111,
              "#46039f"
             ],
             [
              0.2222222222222222,
              "#7201a8"
             ],
             [
              0.3333333333333333,
              "#9c179e"
             ],
             [
              0.4444444444444444,
              "#bd3786"
             ],
             [
              0.5555555555555556,
              "#d8576b"
             ],
             [
              0.6666666666666666,
              "#ed7953"
             ],
             [
              0.7777777777777778,
              "#fb9f3a"
             ],
             [
              0.8888888888888888,
              "#fdca26"
             ],
             [
              1,
              "#f0f921"
             ]
            ],
            "type": "surface"
           }
          ],
          "table": [
           {
            "cells": {
             "fill": {
              "color": "#EBF0F8"
             },
             "line": {
              "color": "white"
             }
            },
            "header": {
             "fill": {
              "color": "#C8D4E3"
             },
             "line": {
              "color": "white"
             }
            },
            "type": "table"
           }
          ]
         },
         "layout": {
          "annotationdefaults": {
           "arrowcolor": "#2a3f5f",
           "arrowhead": 0,
           "arrowwidth": 1
          },
          "autotypenumbers": "strict",
          "coloraxis": {
           "colorbar": {
            "outlinewidth": 0,
            "ticks": ""
           }
          },
          "colorscale": {
           "diverging": [
            [
             0,
             "#8e0152"
            ],
            [
             0.1,
             "#c51b7d"
            ],
            [
             0.2,
             "#de77ae"
            ],
            [
             0.3,
             "#f1b6da"
            ],
            [
             0.4,
             "#fde0ef"
            ],
            [
             0.5,
             "#f7f7f7"
            ],
            [
             0.6,
             "#e6f5d0"
            ],
            [
             0.7,
             "#b8e186"
            ],
            [
             0.8,
             "#7fbc41"
            ],
            [
             0.9,
             "#4d9221"
            ],
            [
             1,
             "#276419"
            ]
           ],
           "sequential": [
            [
             0,
             "#0d0887"
            ],
            [
             0.1111111111111111,
             "#46039f"
            ],
            [
             0.2222222222222222,
             "#7201a8"
            ],
            [
             0.3333333333333333,
             "#9c179e"
            ],
            [
             0.4444444444444444,
             "#bd3786"
            ],
            [
             0.5555555555555556,
             "#d8576b"
            ],
            [
             0.6666666666666666,
             "#ed7953"
            ],
            [
             0.7777777777777778,
             "#fb9f3a"
            ],
            [
             0.8888888888888888,
             "#fdca26"
            ],
            [
             1,
             "#f0f921"
            ]
           ],
           "sequentialminus": [
            [
             0,
             "#0d0887"
            ],
            [
             0.1111111111111111,
             "#46039f"
            ],
            [
             0.2222222222222222,
             "#7201a8"
            ],
            [
             0.3333333333333333,
             "#9c179e"
            ],
            [
             0.4444444444444444,
             "#bd3786"
            ],
            [
             0.5555555555555556,
             "#d8576b"
            ],
            [
             0.6666666666666666,
             "#ed7953"
            ],
            [
             0.7777777777777778,
             "#fb9f3a"
            ],
            [
             0.8888888888888888,
             "#fdca26"
            ],
            [
             1,
             "#f0f921"
            ]
           ]
          },
          "colorway": [
           "#636efa",
           "#EF553B",
           "#00cc96",
           "#ab63fa",
           "#FFA15A",
           "#19d3f3",
           "#FF6692",
           "#B6E880",
           "#FF97FF",
           "#FECB52"
          ],
          "font": {
           "color": "#2a3f5f"
          },
          "geo": {
           "bgcolor": "white",
           "lakecolor": "white",
           "landcolor": "white",
           "showlakes": true,
           "showland": true,
           "subunitcolor": "#C8D4E3"
          },
          "hoverlabel": {
           "align": "left"
          },
          "hovermode": "closest",
          "mapbox": {
           "style": "light"
          },
          "paper_bgcolor": "white",
          "plot_bgcolor": "white",
          "polar": {
           "angularaxis": {
            "gridcolor": "#EBF0F8",
            "linecolor": "#EBF0F8",
            "ticks": ""
           },
           "bgcolor": "white",
           "radialaxis": {
            "gridcolor": "#EBF0F8",
            "linecolor": "#EBF0F8",
            "ticks": ""
           }
          },
          "scene": {
           "xaxis": {
            "backgroundcolor": "white",
            "gridcolor": "#DFE8F3",
            "gridwidth": 2,
            "linecolor": "#EBF0F8",
            "showbackground": true,
            "ticks": "",
            "zerolinecolor": "#EBF0F8"
           },
           "yaxis": {
            "backgroundcolor": "white",
            "gridcolor": "#DFE8F3",
            "gridwidth": 2,
            "linecolor": "#EBF0F8",
            "showbackground": true,
            "ticks": "",
            "zerolinecolor": "#EBF0F8"
           },
           "zaxis": {
            "backgroundcolor": "white",
            "gridcolor": "#DFE8F3",
            "gridwidth": 2,
            "linecolor": "#EBF0F8",
            "showbackground": true,
            "ticks": "",
            "zerolinecolor": "#EBF0F8"
           }
          },
          "shapedefaults": {
           "line": {
            "color": "#2a3f5f"
           }
          },
          "ternary": {
           "aaxis": {
            "gridcolor": "#DFE8F3",
            "linecolor": "#A2B1C6",
            "ticks": ""
           },
           "baxis": {
            "gridcolor": "#DFE8F3",
            "linecolor": "#A2B1C6",
            "ticks": ""
           },
           "bgcolor": "white",
           "caxis": {
            "gridcolor": "#DFE8F3",
            "linecolor": "#A2B1C6",
            "ticks": ""
           }
          },
          "title": {
           "x": 0.05
          },
          "xaxis": {
           "automargin": true,
           "gridcolor": "#EBF0F8",
           "linecolor": "#EBF0F8",
           "ticks": "",
           "title": {
            "standoff": 15
           },
           "zerolinecolor": "#EBF0F8",
           "zerolinewidth": 2
          },
          "yaxis": {
           "automargin": true,
           "gridcolor": "#EBF0F8",
           "linecolor": "#EBF0F8",
           "ticks": "",
           "title": {
            "standoff": 15
           },
           "zerolinecolor": "#EBF0F8",
           "zerolinewidth": 2
          }
         }
        },
        "title": {
         "font": {
          "color": "Black",
          "size": 22
         },
         "text": "<b>Hierarchical Clustering</b>",
         "x": 0.5,
         "xanchor": "center",
         "yanchor": "top"
        },
        "width": 1000,
        "xaxis": {
         "mirror": "allticks",
         "rangemode": "tozero",
         "showgrid": false,
         "showline": true,
         "showticklabels": true,
         "ticks": "outside",
         "type": "linear",
         "zeroline": false
        },
        "yaxis": {
         "mirror": "allticks",
         "range": [
          -500,
          0
         ],
         "rangemode": "tozero",
         "showgrid": false,
         "showline": true,
         "showticklabels": true,
         "tickmode": "array",
         "ticks": "outside",
         "ticktext": [
          "38_global_income_quot",
          "48_privacy_ethics_case",
          "28_case_management_it",
          "32_cloud_computing_decision",
          "46_integrity_plagiarism_aca...",
          "24_agile_scrum_project",
          "37_app_development_mobile",
          "35_vr_virtual_reality",
          "10_database_case_data",
          "6_security_cybersecurity_in...",
          "2_analytics_data_business",
          "41_strategy_service_business",
          "33_disabilities_systems_hci",
          "23_open_km_purpose",
          "31_smart_phones_smartphones",
          "42_data_sentiment_ai",
          "44_discussions_online_discu...",
          "47_online_qm_courses",
          "17_pandemic_covid_online",
          "27_lmoocs_moocs_massive",
          "13_programming_students_int...",
          "18_teams_project_projects",
          "1_information_is_systems",
          "5_the_of_health",
          "45_flipped_classroom_class",
          "30_flipped_classroom_in",
          "19_gamification_game_games",
          "11_game_games_gaming",
          "20_storytelling_digital_nar...",
          "26_robot_rall_chatbots",
          "9_pronunciation_asr_speech",
          "36_multimodal_interactions_...",
          "43_social_participation_sites",
          "21_social_media_facebook",
          "34_perceived_textbook_accep...",
          "29_teachers_technology_use",
          "8_teachers_tpack_call",
          "16_call_language_learning",
          "15_language_online_and",
          "3_intercultural_telecollabo...",
          "0_writing_corpus_feedback",
          "4_task_scmc_l2",
          "12_vr_virtual_the",
          "7_mobile_mall_learning",
          "49_pragmatics_pragmatic_l1",
          "39_vocabulary_acquisition_d...",
          "22_glosses_vocabulary_gloss",
          "14_reading_comprehension_st...",
          "25_captions_comprehension_c...",
          "40_listening_test_comprehen..."
         ],
         "tickvals": [
          -5,
          -15,
          -25,
          -35,
          -45,
          -55,
          -65,
          -75,
          -85,
          -95,
          -105,
          -115,
          -125,
          -135,
          -145,
          -155,
          -165,
          -175,
          -185,
          -195,
          -205,
          -215,
          -225,
          -235,
          -245,
          -255,
          -265,
          -275,
          -285,
          -295,
          -305,
          -315,
          -325,
          -335,
          -345,
          -355,
          -365,
          -375,
          -385,
          -395,
          -405,
          -415,
          -425,
          -435,
          -445,
          -455,
          -465,
          -475,
          -485,
          -495
         ],
         "type": "linear",
         "zeroline": false
        }
       }
      }
     },
     "metadata": {},
     "output_type": "display_data"
    }
   ],
   "source": [
    "hierarchical_topics = model.hierarchical_topics(docs)\n",
    "model.visualize_hierarchy(hierarchical_topics=hierarchical_topics)"
   ]
  },
  {
   "cell_type": "code",
   "execution_count": 56,
   "metadata": {},
   "outputs": [
    {
     "data": {
      "application/vnd.plotly.v1+json": {
       "config": {
        "plotlyServerURL": "https://plot.ly"
       },
       "data": [
        {
         "coloraxis": "coloraxis",
         "hovertemplate": "x: %{x}<br>y: %{y}<br>Similarity Score: %{z}<extra></extra>",
         "name": "0",
         "type": "heatmap",
         "x": [
          "0_writing_corpus_feedback",
          "1_information_is_systems",
          "2_analytics_data_business",
          "3_intercultural_telecollabo...",
          "4_task_scmc_l2",
          "5_the_of_health",
          "6_security_cybersecurity_in...",
          "7_mobile_mall_learning",
          "8_teachers_tpack_call",
          "9_pronunciation_asr_speech",
          "10_database_case_data",
          "11_game_games_gaming",
          "12_vr_virtual_the",
          "13_programming_students_int...",
          "14_reading_comprehension_st...",
          "15_language_online_and",
          "16_call_language_learning",
          "17_pandemic_covid_online",
          "18_teams_project_projects",
          "19_gamification_game_games",
          "20_storytelling_digital_nar...",
          "21_social_media_facebook",
          "22_glosses_vocabulary_gloss",
          "23_open_km_purpose",
          "24_agile_scrum_project",
          "25_captions_comprehension_c...",
          "26_robot_rall_chatbots",
          "27_lmoocs_moocs_massive",
          "28_case_management_it",
          "29_teachers_technology_use",
          "30_flipped_classroom_in",
          "31_smart_phones_smartphones",
          "32_cloud_computing_decision",
          "33_disabilities_systems_hci",
          "34_perceived_textbook_accep...",
          "35_vr_virtual_reality",
          "36_multimodal_interactions_...",
          "37_app_development_mobile",
          "38_global_income_quot",
          "39_vocabulary_acquisition_d...",
          "40_listening_test_comprehen...",
          "41_strategy_service_business",
          "42_data_sentiment_ai",
          "43_social_participation_sites",
          "44_discussions_online_discu...",
          "45_flipped_classroom_class",
          "46_integrity_plagiarism_aca...",
          "47_online_qm_courses",
          "48_privacy_ethics_case",
          "49_pragmatics_pragmatic_l1"
         ],
         "xaxis": "x",
         "y": [
          "0_writing_corpus_feedback",
          "1_information_is_systems",
          "2_analytics_data_business",
          "3_intercultural_telecollabo...",
          "4_task_scmc_l2",
          "5_the_of_health",
          "6_security_cybersecurity_in...",
          "7_mobile_mall_learning",
          "8_teachers_tpack_call",
          "9_pronunciation_asr_speech",
          "10_database_case_data",
          "11_game_games_gaming",
          "12_vr_virtual_the",
          "13_programming_students_int...",
          "14_reading_comprehension_st...",
          "15_language_online_and",
          "16_call_language_learning",
          "17_pandemic_covid_online",
          "18_teams_project_projects",
          "19_gamification_game_games",
          "20_storytelling_digital_nar...",
          "21_social_media_facebook",
          "22_glosses_vocabulary_gloss",
          "23_open_km_purpose",
          "24_agile_scrum_project",
          "25_captions_comprehension_c...",
          "26_robot_rall_chatbots",
          "27_lmoocs_moocs_massive",
          "28_case_management_it",
          "29_teachers_technology_use",
          "30_flipped_classroom_in",
          "31_smart_phones_smartphones",
          "32_cloud_computing_decision",
          "33_disabilities_systems_hci",
          "34_perceived_textbook_accep...",
          "35_vr_virtual_reality",
          "36_multimodal_interactions_...",
          "37_app_development_mobile",
          "38_global_income_quot",
          "39_vocabulary_acquisition_d...",
          "40_listening_test_comprehen...",
          "41_strategy_service_business",
          "42_data_sentiment_ai",
          "43_social_participation_sites",
          "44_discussions_online_discu...",
          "45_flipped_classroom_class",
          "46_integrity_plagiarism_aca...",
          "47_online_qm_courses",
          "48_privacy_ethics_case",
          "49_pragmatics_pragmatic_l1"
         ],
         "yaxis": "y",
         "z": [
          [
           1.0000000000000002,
           0.7985013782630402,
           0.6812924698105324,
           0.7773395040107529,
           0.829429361885037,
           0.8270290258137063,
           0.6694454214063014,
           0.7741722096888443,
           0.7437389191158977,
           0.764240321473552,
           0.6193468007193071,
           0.6702411388173718,
           0.7497395209790211,
           0.7902818532840903,
           0.7609336626426431,
           0.8404689658757187,
           0.7943466520980852,
           0.6901664810087431,
           0.6966965985280805,
           0.6612311560303263,
           0.717755428833876,
           0.7296676998031598,
           0.6866965658680007,
           0.7318981177952663,
           0.5577672976000554,
           0.6316106225735836,
           0.6160969974352265,
           0.6657818877991272,
           0.6807306420044665,
           0.7536294133886399,
           0.7385666704435884,
           0.5121789035968538,
           0.6051484253151098,
           0.7170849222322432,
           0.7860748437041668,
           0.5891856631317732,
           0.5839865121033111,
           0.5909515247752158,
           0.5872790620273801,
           0.7019181041461435,
           0.6582189862005335,
           0.6541099411268173,
           0.6847059520302763,
           0.7202824469417335,
           0.7143186940745833,
           0.6703897273931981,
           0.6854112685588623,
           0.6772263528034405,
           0.5707430487669137,
           0.6459794531449675
          ],
          [
           0.7985013782630402,
           0.9999999999999999,
           0.7796343298320854,
           0.7933319279322725,
           0.8025313638780688,
           0.867877068952746,
           0.7963175873401335,
           0.7626370746728979,
           0.6955417692660423,
           0.6886857993440049,
           0.6968219871553962,
           0.6593372955303359,
           0.7608889306134489,
           0.7143570920106277,
           0.6634198882010641,
           0.8476140452751546,
           0.7688004118150724,
           0.6758903609663658,
           0.725899753212603,
           0.6958300757412889,
           0.7121464733759317,
           0.723921958677687,
           0.6026246209147117,
           0.7910186622529158,
           0.5880771669790225,
           0.5641280253119402,
           0.6009037116436126,
           0.6652297554433672,
           0.7496264257262832,
           0.7216362376997778,
           0.6665505802881097,
           0.5409976572638493,
           0.6765483832885447,
           0.7770602252027666,
           0.7540737416302503,
           0.6434247992949004,
           0.5801969990985942,
           0.5949166068975815,
           0.6243361488560969,
           0.6440170336742675,
           0.5849508227525736,
           0.7129510313173143,
           0.72464192475265,
           0.7354360017363281,
           0.6293990774912854,
           0.5703607258984934,
           0.640360624210335,
           0.6887073374815462,
           0.6274275169459708,
           0.5901253520301156
          ],
          [
           0.6812924698105324,
           0.7796343298320854,
           0.9999999999999996,
           0.6828376478738392,
           0.7014758577753759,
           0.714796430718271,
           0.6969624483613208,
           0.6882719562942575,
           0.6379266748919659,
           0.6225459969169862,
           0.7852070387991467,
           0.6072365000442256,
           0.6485193077717388,
           0.6403748169178222,
           0.6003846134027807,
           0.7254389242023017,
           0.7002358298644082,
           0.6190206518626166,
           0.6761800093247924,
           0.6564241836779551,
           0.6701924680375494,
           0.7063737170930536,
           0.5534359356416542,
           0.694636048063865,
           0.5710053097910887,
           0.5287159809226716,
           0.5446180001654913,
           0.6020343727329989,
           0.7017495742236035,
           0.6737837463863722,
           0.5928949864916884,
           0.5350509295002961,
           0.6432897613028993,
           0.7027757497893965,
           0.6712997750274324,
           0.5868184580885257,
           0.5216344543359923,
           0.6147803555818621,
           0.6096683731228965,
           0.5993060907790384,
           0.5641324568332156,
           0.7405811656433868,
           0.7670607298538816,
           0.7059795670688693,
           0.6182930117415382,
           0.5546223583839675,
           0.6102945073082264,
           0.6278838072293315,
           0.6196486553920412,
           0.515891441531427
          ],
          [
           0.7773395040107529,
           0.7933319279322725,
           0.6828376478738392,
           1.0000000000000002,
           0.8027659375816474,
           0.7974503691089798,
           0.7078395165452008,
           0.7827283599832511,
           0.77766585742554,
           0.7160980496844116,
           0.5958488009173152,
           0.6772920186689907,
           0.7814664960607989,
           0.7059631576442603,
           0.6272175966816034,
           0.8505611097930086,
           0.8008733868282375,
           0.655069254096415,
           0.7083227130792449,
           0.6526621937905974,
           0.6774212698411657,
           0.734238446468001,
           0.6415206972279793,
           0.7279913776931686,
           0.5442892471994523,
           0.5599183279577474,
           0.6780928114402526,
           0.6313037079788081,
           0.7225319514268878,
           0.7321942751125544,
           0.6577121185452345,
           0.5793425439786796,
           0.6313378228223074,
           0.7103974032370791,
           0.7555547571029566,
           0.6572653247158106,
           0.7033414000194161,
           0.6157121444643788,
           0.6908732068098029,
           0.6894804981085132,
           0.5780497011047482,
           0.6924330334326874,
           0.676686304283783,
           0.7435555906730806,
           0.6495223922159612,
           0.6089192668441575,
           0.6708118348595765,
           0.6506986035113196,
           0.6046226679537573,
           0.6309792785633802
          ],
          [
           0.829429361885037,
           0.8025313638780688,
           0.7014758577753759,
           0.8027659375816474,
           1,
           0.7901571954961812,
           0.7001922285781154,
           0.789227922175914,
           0.7487236129465883,
           0.7324209530639465,
           0.6227077158372115,
           0.7326864352835578,
           0.79085789443821,
           0.738176071142437,
           0.6661156892583534,
           0.8608569403044131,
           0.7958195047174824,
           0.6971020699476835,
           0.7517230248573947,
           0.7323962314578849,
           0.711937830962531,
           0.705729474975386,
           0.682894749317416,
           0.779738133629788,
           0.6110875209570552,
           0.6512429408888138,
           0.717636135960413,
           0.7238677189587142,
           0.7111126082137942,
           0.7151916767422626,
           0.7172111629341631,
           0.5404434456266732,
           0.6499603471765959,
           0.7153775742191246,
           0.7564021450513518,
           0.6327883562877487,
           0.6585488074487328,
           0.6137151188211915,
           0.6257613049705484,
           0.7408306635260344,
           0.6646467416001995,
           0.7617331106027195,
           0.7070130228007164,
           0.7433123941895585,
           0.7309375145007322,
           0.6641672996158985,
           0.6613520849925605,
           0.7326692941989268,
           0.6130583610094654,
           0.6733571595560133
          ],
          [
           0.8270290258137063,
           0.867877068952746,
           0.714796430718271,
           0.7974503691089798,
           0.7901571954961812,
           0.9999999999999999,
           0.7561307004236436,
           0.7667981590260529,
           0.7348081599763693,
           0.7329713124788558,
           0.6088278808189436,
           0.6790267002367242,
           0.7831475420211188,
           0.7006713556363806,
           0.7020634388465473,
           0.8734782041398457,
           0.7932118848319168,
           0.7473993383919176,
           0.6971831270219888,
           0.6889136615367237,
           0.6970817060352849,
           0.7521281505586596,
           0.5846662970988771,
           0.7918332349398223,
           0.5309474625665606,
           0.5394368367474828,
           0.5368727374978728,
           0.6767642834849342,
           0.7571331509629972,
           0.721784673850025,
           0.6963041020335894,
           0.5011238009061357,
           0.5874854042829056,
           0.7047750978745967,
           0.7892658535173185,
           0.623096579626311,
           0.5404820840523719,
           0.5471234334387187,
           0.6710941729220036,
           0.676094315360431,
           0.5844475650032127,
           0.6969000416468082,
           0.6489631419007766,
           0.7604542932704244,
           0.639848117736055,
           0.6459361545179003,
           0.6853684203237195,
           0.6618329614353804,
           0.6362272513236604,
           0.5882618609992968
          ],
          [
           0.6694454214063014,
           0.7963175873401335,
           0.6969624483613208,
           0.7078395165452008,
           0.7001922285781154,
           0.7561307004236436,
           1.000000000000001,
           0.6623156997748278,
           0.656504940738402,
           0.6122137253182274,
           0.6584959156133294,
           0.6238667240777936,
           0.6375499721505581,
           0.6564650497965727,
           0.5984038916651712,
           0.7419031834868081,
           0.6643102541582355,
           0.6377538466416824,
           0.6389224042782621,
           0.6457935832648214,
           0.639325676742275,
           0.6937011175624458,
           0.5264249813132191,
           0.7219462117131642,
           0.527341356015756,
           0.49195794796332615,
           0.5377560499303756,
           0.5757664835306446,
           0.7455886513560883,
           0.6830763703439576,
           0.5808071953226622,
           0.5474301797772176,
           0.6800678946648351,
           0.7063203350964367,
           0.6632116953762501,
           0.5495250896118455,
           0.5238792448259797,
           0.5586226768740826,
           0.628619144674552,
           0.5607705718098188,
           0.5320720695450989,
           0.7040716949565969,
           0.6186045417530465,
           0.6821447308927008,
           0.595015362488339,
           0.5477835875279831,
           0.641443710550631,
           0.6083200485641725,
           0.7132073831976558,
           0.5160951833137006
          ],
          [
           0.7741722096888443,
           0.7626370746728979,
           0.6882719562942575,
           0.7827283599832511,
           0.789227922175914,
           0.7667981590260529,
           0.6623156997748278,
           1,
           0.740051816747128,
           0.7039157212619221,
           0.6291996020521287,
           0.7485046149578178,
           0.8039290171875461,
           0.731906987134721,
           0.6767190115380275,
           0.8157204567765849,
           0.7949341172843465,
           0.7161560390641288,
           0.6597732163937976,
           0.6787576864478069,
           0.702692661746627,
           0.7284492708479203,
           0.656135397192848,
           0.7453828551683997,
           0.5961997262460479,
           0.6006208022959755,
           0.6823401347108978,
           0.7140673966037028,
           0.696785892264528,
           0.7093410253903952,
           0.6876905093911333,
           0.7564630494409692,
           0.66969969211217,
           0.7388850400934004,
           0.7494117124314293,
           0.6993585686558811,
           0.684830250824746,
           0.7749636969916702,
           0.6437429470299748,
           0.6825671985926022,
           0.6380122831064903,
           0.7042594170166936,
           0.6763710121915196,
           0.7488818810809718,
           0.668870808742901,
           0.6219338072516538,
           0.5753429778713339,
           0.7577500048063337,
           0.5892843782574091,
           0.6235930501144111
          ],
          [
           0.7437389191158977,
           0.6955417692660423,
           0.6379266748919659,
           0.77766585742554,
           0.7487236129465883,
           0.7348081599763693,
           0.656504940738402,
           0.740051816747128,
           1.0000000000000007,
           0.7134307906743864,
           0.5984109897927868,
           0.7031519533351236,
           0.7100536408602557,
           0.7726840396751121,
           0.6521345945114776,
           0.7292269491343993,
           0.833602398787197,
           0.6402097730177762,
           0.6794337060790697,
           0.6716935102873957,
           0.6787011500592386,
           0.7514174197373538,
           0.6471380633426531,
           0.6920631289423785,
           0.5787609657507694,
           0.5895014262746634,
           0.7182522386181674,
           0.6169173323582338,
           0.7166871678499751,
           0.842022291396449,
           0.657837367586615,
           0.6342775554290074,
           0.6401724138727993,
           0.7397883414178349,
           0.792522286085831,
           0.6092357018210903,
           0.6183283645983173,
           0.6549373799194174,
           0.6147000255332545,
           0.7056983165441911,
           0.5844467832762845,
           0.6948103550215726,
           0.7199706581498179,
           0.6891561843547294,
           0.6444132763585166,
           0.6903751816828892,
           0.6583198251908343,
           0.6469810111424874,
           0.5820862836361262,
           0.6607754303766159
          ],
          [
           0.764240321473552,
           0.6886857993440049,
           0.6225459969169862,
           0.7160980496844116,
           0.7324209530639465,
           0.7329713124788558,
           0.6122137253182274,
           0.7039157212619221,
           0.7134307906743864,
           1.0000000000000002,
           0.5584193264373651,
           0.656045212302711,
           0.6907346113274222,
           0.6404349196224974,
           0.6562952728315854,
           0.7394677596372645,
           0.7642195566039905,
           0.6324106071496945,
           0.5989736402722499,
           0.5993496159216989,
           0.6398078310428325,
           0.625172364194855,
           0.6660512422874605,
           0.6759349107876809,
           0.5478656743861106,
           0.6156829999095262,
           0.6128196083004441,
           0.5913608646682861,
           0.6568168949587381,
           0.6852008698061535,
           0.6312612463363302,
           0.4853661642602293,
           0.5925934648158058,
           0.6622690570856484,
           0.7379058407919067,
           0.5484389665593938,
           0.5813528778822524,
           0.555033121537413,
           0.5893875032217776,
           0.7191977091420508,
           0.7029023651583702,
           0.6652979700858128,
           0.6453941718538888,
           0.6518023640740511,
           0.5848183618975735,
           0.6090858392862553,
           0.5893344388039304,
           0.6394702775089025,
           0.5510095442419388,
           0.6767735091227299
          ],
          [
           0.6193468007193071,
           0.6968219871553962,
           0.7852070387991467,
           0.5958488009173152,
           0.6227077158372115,
           0.6088278808189436,
           0.6584959156133294,
           0.6291996020521287,
           0.5984109897927868,
           0.5584193264373651,
           1.0000000000000002,
           0.5959440875214203,
           0.6005691156227368,
           0.6310539336181271,
           0.5556879378181889,
           0.6332849472810627,
           0.634013563936195,
           0.5406286704226131,
           0.6237074925920686,
           0.578626280048898,
           0.5880289249474141,
           0.6325941064657827,
           0.5673133145770339,
           0.6374891461786133,
           0.5222235803213334,
           0.5108681837877411,
           0.5333595338294447,
           0.5242303861439245,
           0.7080687026331931,
           0.6315536246246792,
           0.5447331132598163,
           0.5280166258440557,
           0.6326906341706051,
           0.7180406672742102,
           0.624737435816528,
           0.568022268801881,
           0.49827160017824923,
           0.6198886705067096,
           0.5428680354138969,
           0.5786222889249248,
           0.5098256802535072,
           0.6561266669504501,
           0.7058315782730099,
           0.6342901250045292,
           0.5735581923163633,
           0.5136467081682525,
           0.5375700991879079,
           0.6146559792144942,
           0.5985760705577963,
           0.5189925900687716
          ],
          [
           0.6702411388173718,
           0.6593372955303359,
           0.6072365000442256,
           0.6772920186689907,
           0.7326864352835578,
           0.6790267002367242,
           0.6238667240777936,
           0.7485046149578178,
           0.7031519533351236,
           0.656045212302711,
           0.5959440875214203,
           0.9999999999999996,
           0.772046466286469,
           0.6920136912532986,
           0.687234508813939,
           0.7126336954901502,
           0.6921557525914317,
           0.6527104258505947,
           0.6106988960571222,
           0.8555706865844461,
           0.7246074319759706,
           0.64244249796157,
           0.6720101880157291,
           0.6295401915826837,
           0.5462464147675892,
           0.5963010721375314,
           0.619235677916657,
           0.630361605664508,
           0.6142366253207237,
           0.6852769523216654,
           0.6629286624580198,
           0.555688898714398,
           0.6121521142486488,
           0.6625821344463927,
           0.6904108697997514,
           0.6783540717296817,
           0.6593318779204121,
           0.6525418074803839,
           0.5911538060093338,
           0.7030396636641556,
           0.6382275398230214,
           0.7045194311898736,
           0.6299688424074634,
           0.6961831848454466,
           0.6705456324147653,
           0.6242800442908149,
           0.5308186965403722,
           0.7034976505937273,
           0.5575532431521193,
           0.5941219709523462
          ],
          [
           0.7497395209790211,
           0.7608889306134489,
           0.6485193077717388,
           0.7814664960607989,
           0.79085789443821,
           0.7831475420211188,
           0.6375499721505581,
           0.8039290171875461,
           0.7100536408602557,
           0.6907346113274222,
           0.6005691156227368,
           0.772046466286469,
           1,
           0.6922064685988721,
           0.6236316581724569,
           0.7899297638115499,
           0.7651918068314076,
           0.6756163096252555,
           0.6344163852542517,
           0.6976246036602568,
           0.7152327442315208,
           0.648841655314182,
           0.65678248080523,
           0.7140191846848549,
           0.5448884547295099,
           0.5936689125664905,
           0.6797929787951471,
           0.6709019675700856,
           0.6392803372147686,
           0.6771280785024977,
           0.6894877043481166,
           0.5670642338905352,
           0.6473040946502693,
           0.6802418513899566,
           0.73456123699611,
           0.8824175861988026,
           0.733488883906162,
           0.6303141053249418,
           0.5993140146074477,
           0.668043107884419,
           0.6084366535157223,
           0.6868153210669754,
           0.6717387451579877,
           0.7300847514293005,
           0.6465091136163523,
           0.6177368078713391,
           0.5500630260155067,
           0.719239187850053,
           0.5554517043373173,
           0.598660337882722
          ],
          [
           0.7902818532840903,
           0.7143570920106277,
           0.6403748169178222,
           0.7059631576442603,
           0.738176071142437,
           0.7006713556363806,
           0.6564650497965727,
           0.731906987134721,
           0.7726840396751121,
           0.6404349196224974,
           0.6310539336181271,
           0.6920136912532986,
           0.6922064685988721,
           0.9999999999999998,
           0.692741675331835,
           0.6979320747830172,
           0.7248109937395115,
           0.6644378424876657,
           0.6817499599302637,
           0.668375565814978,
           0.6206125475995755,
           0.6636851094534522,
           0.634598286614171,
           0.6430956152290528,
           0.6401350004827945,
           0.5780596373684671,
           0.6551140034777903,
           0.6737353592381938,
           0.6448501117919972,
           0.7410377341022013,
           0.7092244946274507,
           0.5408204569406321,
           0.638721074096406,
           0.7133108618717927,
           0.6712234235784529,
           0.5897235824544854,
           0.5567938001796822,
           0.7014554998358533,
           0.5368424441334223,
           0.6493496662534877,
           0.5880158890814489,
           0.6559941610975626,
           0.6996616917426841,
           0.6275242077621574,
           0.6911516145915991,
           0.7079923621522761,
           0.6415741492525526,
           0.6889712808247255,
           0.4996863926729751,
           0.6184958836390971
          ],
          [
           0.7609336626426431,
           0.6634198882010641,
           0.6003846134027807,
           0.6272175966816034,
           0.6661156892583534,
           0.7020634388465473,
           0.5984038916651712,
           0.6767190115380275,
           0.6521345945114776,
           0.6562952728315854,
           0.5556879378181889,
           0.687234508813939,
           0.6236316581724569,
           0.692741675331835,
           0.9999999999999998,
           0.6584859875089282,
           0.6963085020318853,
           0.5958040699242206,
           0.5787168849170156,
           0.6338405127096565,
           0.6778514151571233,
           0.665722122912124,
           0.6945067728846788,
           0.6377398144506943,
           0.49823757845694855,
           0.6157602570897208,
           0.496235693051309,
           0.5792447913896295,
           0.5909936761271601,
           0.6900364262939562,
           0.644113562742734,
           0.49663340340716333,
           0.5129185416328653,
           0.6674161435288649,
           0.7438922107896017,
           0.533884462301618,
           0.48772855116157515,
           0.5312249758307566,
           0.5413415567662403,
           0.6547038725654382,
           0.7288254691725518,
           0.6578419010443334,
           0.6242369098654791,
           0.6378379343346462,
           0.648164337347185,
           0.6046836403984804,
           0.6147650452117096,
           0.6135253336505915,
           0.5765584040571883,
           0.6079424271899538
          ],
          [
           0.8404689658757187,
           0.8476140452751546,
           0.7254389242023017,
           0.8505611097930086,
           0.8608569403044131,
           0.8734782041398457,
           0.7419031834868081,
           0.8157204567765849,
           0.7292269491343993,
           0.7394677596372645,
           0.6332849472810627,
           0.7126336954901502,
           0.7899297638115499,
           0.6979320747830172,
           0.6584859875089282,
           1.0000000000000004,
           0.8031010116167602,
           0.7449731894821306,
           0.7210105849259448,
           0.6959341199966286,
           0.7120537589765432,
           0.7986491891519182,
           0.6481112848860298,
           0.7742911272372843,
           0.526788484822841,
           0.576017431316013,
           0.6230027303065443,
           0.7271567423073424,
           0.7366721184641729,
           0.6980651571077335,
           0.7084076368767445,
           0.5272856277609043,
           0.6430584562149606,
           0.7057054058574306,
           0.7736113930640944,
           0.6354470402954177,
           0.6399078589240554,
           0.5964499114706592,
           0.7064908764107347,
           0.6950709553670936,
           0.5849028336357412,
           0.7176725578737855,
           0.6625819703187612,
           0.8568775268298283,
           0.7239599205482738,
           0.6454041811295159,
           0.6588310253968785,
           0.745691730918042,
           0.6456420562608381,
           0.6077073708653311
          ],
          [
           0.7943466520980852,
           0.7688004118150724,
           0.7002358298644082,
           0.8008733868282375,
           0.7958195047174824,
           0.7932118848319168,
           0.6643102541582355,
           0.7949341172843465,
           0.833602398787197,
           0.7642195566039905,
           0.634013563936195,
           0.6921557525914317,
           0.7651918068314076,
           0.7248109937395115,
           0.6963085020318853,
           0.8031010116167602,
           1,
           0.6908303439024569,
           0.6668191548468643,
           0.6830723665470879,
           0.6854798231436103,
           0.7218374652545374,
           0.6557364782165501,
           0.7396482101731672,
           0.5627378486164094,
           0.6279464427187804,
           0.6697963008882677,
           0.6326676012060588,
           0.7278189840219232,
           0.7348784165150576,
           0.6906442324967696,
           0.5811510475967063,
           0.6202177849185252,
           0.6973685369088144,
           0.7986468808312889,
           0.6113817371504544,
           0.6151344973881361,
           0.620451889951951,
           0.6285982846025657,
           0.7077347003369641,
           0.6489885496456904,
           0.7177758813419994,
           0.7012442401843432,
           0.7163019864356436,
           0.6335538844719237,
           0.6477729915214551,
           0.6364597634229743,
           0.69831728707727,
           0.5784456395464943,
           0.6420371015295336
          ],
          [
           0.6901664810087431,
           0.6758903609663658,
           0.6190206518626166,
           0.655069254096415,
           0.6971020699476835,
           0.7473993383919176,
           0.6377538466416824,
           0.7161560390641288,
           0.6402097730177762,
           0.6324106071496945,
           0.5406286704226131,
           0.6527104258505947,
           0.6756163096252555,
           0.6644378424876657,
           0.5958040699242206,
           0.7449731894821306,
           0.6908303439024569,
           1.0000000000000004,
           0.6076485618017893,
           0.6391616020357513,
           0.5981914076683701,
           0.6418018775907677,
           0.5578804239875432,
           0.6715646348659883,
           0.5092379097581533,
           0.5382156358239466,
           0.5204911083813397,
           0.6889640989182795,
           0.6567991653877163,
           0.6278146242167427,
           0.6375556279772714,
           0.5173447646461939,
           0.5971201758272503,
           0.6094543114655814,
           0.631363401217557,
           0.5804487798811928,
           0.50572966276092,
           0.5765985128305036,
           0.5843260176570343,
           0.62410350787226,
           0.5765067206081884,
           0.6227429047776248,
           0.6087324826779145,
           0.6741618770720833,
           0.6440437467671253,
           0.5957706014246205,
           0.5318890297179333,
           0.6792256701267446,
           0.5180536555849422,
           0.5119361890340243
          ],
          [
           0.6966965985280805,
           0.725899753212603,
           0.6761800093247924,
           0.7083227130792449,
           0.7517230248573947,
           0.6971831270219888,
           0.6389224042782621,
           0.6597732163937976,
           0.6794337060790697,
           0.5989736402722499,
           0.6237074925920686,
           0.6106988960571222,
           0.6344163852542517,
           0.6817499599302637,
           0.5787168849170156,
           0.7210105849259448,
           0.6668191548468643,
           0.6076485618017893,
           1.0000000000000004,
           0.6780775861990189,
           0.6354512338376344,
           0.6958708406628626,
           0.505917159826471,
           0.6724368304820205,
           0.7084746861727298,
           0.4943675780742554,
           0.5474793960042832,
           0.5796349881477351,
           0.7318136012465761,
           0.6912478302153804,
           0.6219582392410787,
           0.5269824726334746,
           0.6084088232519126,
           0.6953665570462733,
           0.6576844029947765,
           0.5544096630125928,
           0.49612498518550596,
           0.5980221485632334,
           0.6050602111945325,
           0.570884096468847,
           0.5331176331993627,
           0.710838693323075,
           0.618247806440403,
           0.6741588043249047,
           0.6328857148840211,
           0.6069546511710997,
           0.6408059336189849,
           0.6136363884812609,
           0.5458213406857629,
           0.49175445664371925
          ],
          [
           0.6612311560303263,
           0.6958300757412889,
           0.6564241836779551,
           0.6526621937905974,
           0.7323962314578849,
           0.6889136615367237,
           0.6457935832648214,
           0.6787576864478069,
           0.6716935102873957,
           0.5993496159216989,
           0.578626280048898,
           0.8555706865844461,
           0.6976246036602568,
           0.668375565814978,
           0.6338405127096565,
           0.6959341199966286,
           0.6830723665470879,
           0.6391616020357513,
           0.6780775861990189,
           1.0000000000000007,
           0.7055907602043784,
           0.6524564249882685,
           0.553244875005098,
           0.634416563047586,
           0.5751035775669275,
           0.5607753961278149,
           0.6049644665747893,
           0.6340335814793465,
           0.6478936888831126,
           0.685983195119499,
           0.6147757743018687,
           0.5155744280005627,
           0.5920754539498333,
           0.6770973453330629,
           0.6672633445374112,
           0.6413085186525438,
           0.5870259647563463,
           0.6252751725026879,
           0.5891304888975174,
           0.6009224989876732,
           0.6047092481027014,
           0.7234288353852174,
           0.6383078965543733,
           0.6964436248916235,
           0.6583940698538249,
           0.5878141549308504,
           0.5863090130924089,
           0.6792221976136861,
           0.5649724671369863,
           0.5360691049091917
          ],
          [
           0.717755428833876,
           0.7121464733759317,
           0.6701924680375494,
           0.6774212698411657,
           0.711937830962531,
           0.6970817060352849,
           0.639325676742275,
           0.702692661746627,
           0.6787011500592386,
           0.6398078310428325,
           0.5880289249474141,
           0.7246074319759706,
           0.7152327442315208,
           0.6206125475995755,
           0.6778514151571233,
           0.7120537589765432,
           0.6854798231436103,
           0.5981914076683701,
           0.6354512338376344,
           0.7055907602043784,
           1.0000000000000002,
           0.6809368299871643,
           0.5858896846439879,
           0.6188859284550561,
           0.5642014757222308,
           0.5720649930105257,
           0.5630590986284337,
           0.5750991441079165,
           0.6217843963810528,
           0.6665550778019287,
           0.6173066373642824,
           0.5431173580777217,
           0.5825515457826692,
           0.6591872856251089,
           0.7053868770910172,
           0.6421451389266268,
           0.6083805639168386,
           0.601194422792539,
           0.5534945938599655,
           0.5596273716918646,
           0.6255477755558565,
           0.695336691899914,
           0.6445972775662905,
           0.7015425044272283,
           0.6427814813278963,
           0.5819386964382911,
           0.6367622488329937,
           0.6425356239897931,
           0.6515723723452289,
           0.5993981768968148
          ],
          [
           0.7296676998031598,
           0.723921958677687,
           0.7063737170930536,
           0.734238446468001,
           0.705729474975386,
           0.7521281505586596,
           0.6937011175624458,
           0.7284492708479203,
           0.7514174197373538,
           0.625172364194855,
           0.6325941064657827,
           0.64244249796157,
           0.648841655314182,
           0.6636851094534522,
           0.665722122912124,
           0.7986491891519182,
           0.7218374652545374,
           0.6418018775907677,
           0.6958708406628626,
           0.6524564249882685,
           0.6809368299871643,
           0.9999999999999993,
           0.5788681778753753,
           0.7098511499869969,
           0.5308807734380351,
           0.5402640576157907,
           0.5650302206034719,
           0.6214977136777622,
           0.7102451844994869,
           0.75256128840104,
           0.5886367930986184,
           0.6057324151357705,
           0.591161253581187,
           0.7360964381441288,
           0.7696573989125671,
           0.5845984038475833,
           0.5958920094416786,
           0.634175510813549,
           0.6771392560391462,
           0.605394131946452,
           0.5418803334167472,
           0.6865339979279805,
           0.6622334340666453,
           0.8867705439530573,
           0.6895375772162278,
           0.6146955140544442,
           0.655492210526364,
           0.641397767104651,
           0.6884777329955032,
           0.5626007275634983
          ],
          [
           0.6866965658680007,
           0.6026246209147117,
           0.5534359356416542,
           0.6415206972279793,
           0.682894749317416,
           0.5846662970988771,
           0.5264249813132191,
           0.656135397192848,
           0.6471380633426531,
           0.6660512422874605,
           0.5673133145770339,
           0.6720101880157291,
           0.65678248080523,
           0.634598286614171,
           0.6945067728846788,
           0.6481112848860298,
           0.6557364782165501,
           0.5578804239875432,
           0.505917159826471,
           0.553244875005098,
           0.5858896846439879,
           0.5788681778753753,
           0.9999999999999998,
           0.6056301428000379,
           0.44756470405626014,
           0.6714820041618034,
           0.5930198155901639,
           0.5718497066455633,
           0.5500894694937135,
           0.6406395843991824,
           0.5798809671272578,
           0.45771865277083806,
           0.5546406180794045,
           0.6308263500308745,
           0.6660858455821709,
           0.5869510675593023,
           0.617421890292792,
           0.5507483443795969,
           0.5760464426692345,
           0.8135913851815962,
           0.6350011695778446,
           0.5730432259137416,
           0.6072834464520166,
           0.58460770531508,
           0.600633099528558,
           0.5460052869143663,
           0.5384519790869784,
           0.6054961466834834,
           0.48633437036471067,
           0.6621299520094452
          ],
          [
           0.7318981177952663,
           0.7910186622529158,
           0.694636048063865,
           0.7279913776931686,
           0.779738133629788,
           0.7918332349398223,
           0.7219462117131642,
           0.7453828551683997,
           0.6920631289423785,
           0.6759349107876809,
           0.6374891461786133,
           0.6295401915826837,
           0.7140191846848549,
           0.6430956152290528,
           0.6377398144506943,
           0.7742911272372843,
           0.7396482101731672,
           0.6715646348659883,
           0.6724368304820205,
           0.634416563047586,
           0.6188859284550561,
           0.7098511499869969,
           0.6056301428000379,
           1.0000000000000004,
           0.5188970540595625,
           0.5551159160297479,
           0.5828595914045643,
           0.6775318484171048,
           0.7267002906050971,
           0.7120971068714157,
           0.6321101909277603,
           0.5366144320990045,
           0.6854127963695472,
           0.709470633961289,
           0.7643355635332474,
           0.6035790970064105,
           0.5907684258507723,
           0.6082013749756501,
           0.65871009091924,
           0.6417178596959111,
           0.5920118665479983,
           0.7307113861364053,
           0.649910582870964,
           0.7273117171331802,
           0.61467774317418,
           0.6020000593097417,
           0.6002415483278019,
           0.6898821586384796,
           0.6074705260768348,
           0.5740252646027406
          ],
          [
           0.5577672976000554,
           0.5880771669790225,
           0.5710053097910887,
           0.5442892471994523,
           0.6110875209570552,
           0.5309474625665606,
           0.527341356015756,
           0.5961997262460479,
           0.5787609657507694,
           0.5478656743861106,
           0.5222235803213334,
           0.5462464147675892,
           0.5448884547295099,
           0.6401350004827945,
           0.49823757845694855,
           0.526788484822841,
           0.5627378486164094,
           0.5092379097581533,
           0.7084746861727298,
           0.5751035775669275,
           0.5642014757222308,
           0.5308807734380351,
           0.44756470405626014,
           0.5188970540595625,
           1.0000000000000002,
           0.40675085027246033,
           0.49081277462276307,
           0.5021816887299876,
           0.5892988977534239,
           0.5834948452238297,
           0.5360011398563015,
           0.5042190783358316,
           0.5341319555514236,
           0.5928300147107106,
           0.5385129045599856,
           0.5156342619132245,
           0.4577810005196192,
           0.6058343542947261,
           0.46040950274895703,
           0.5193563210459132,
           0.49398902425724145,
           0.617735195892555,
           0.5404101352183808,
           0.5182810436402355,
           0.5519583223658523,
           0.530851687374222,
           0.4939757837508547,
           0.5466452525097854,
           0.40382627192402787,
           0.49171403510217443
          ],
          [
           0.6316106225735836,
           0.5641280253119402,
           0.5287159809226716,
           0.5599183279577474,
           0.6512429408888138,
           0.5394368367474828,
           0.49195794796332615,
           0.6006208022959755,
           0.5895014262746634,
           0.6156829999095262,
           0.5108681837877411,
           0.5963010721375314,
           0.5936689125664905,
           0.5780596373684671,
           0.6157602570897208,
           0.576017431316013,
           0.6279464427187804,
           0.5382156358239466,
           0.4943675780742554,
           0.5607753961278149,
           0.5720649930105257,
           0.5402640576157907,
           0.6714820041618034,
           0.5551159160297479,
           0.40675085027246033,
           0.9999999999999999,
           0.5894909257991348,
           0.5502765575535987,
           0.5040168372456465,
           0.6174627622087333,
           0.5895648623701188,
           0.44466392624912765,
           0.5089828740433345,
           0.5754499407382616,
           0.630532096500645,
           0.5500500241205817,
           0.6195152850936692,
           0.5255758027662061,
           0.44600113187543877,
           0.6161104555065575,
           0.7096056799507328,
           0.565607055671564,
           0.6168189057087613,
           0.5686708796231791,
           0.6134255863056097,
           0.5569343334952561,
           0.5060847888638995,
           0.6573445321125188,
           0.4983483776162366,
           0.6036811241876389
          ],
          [
           0.6160969974352265,
           0.6009037116436126,
           0.5446180001654913,
           0.6780928114402526,
           0.717636135960413,
           0.5368727374978728,
           0.5377560499303756,
           0.6823401347108978,
           0.7182522386181674,
           0.6128196083004441,
           0.5333595338294447,
           0.619235677916657,
           0.6797929787951471,
           0.6551140034777903,
           0.496235693051309,
           0.6230027303065443,
           0.6697963008882677,
           0.5204911083813397,
           0.5474793960042832,
           0.6049644665747893,
           0.5630590986284337,
           0.5650302206034719,
           0.5930198155901639,
           0.5828595914045643,
           0.49081277462276307,
           0.5894909257991348,
           0.9999999999999996,
           0.5559410730643535,
           0.5611038319451318,
           0.634765163026356,
           0.5594778111054467,
           0.5499908920730311,
           0.634278531095326,
           0.6755294159099228,
           0.600407926769336,
           0.6363838175357297,
           0.6765658755287302,
           0.6214895259734448,
           0.48588783378077827,
           0.6091927374634687,
           0.5731371803416899,
           0.6071409087841546,
           0.7283666207161679,
           0.5965305565422718,
           0.5800697379361922,
           0.5414279299210327,
           0.5010949579783118,
           0.6075214202334382,
           0.5103117953193934,
           0.6042662629334343
          ],
          [
           0.6657818877991272,
           0.6652297554433672,
           0.6020343727329989,
           0.6313037079788081,
           0.7238677189587142,
           0.6767642834849342,
           0.5757664835306446,
           0.7140673966037028,
           0.6169173323582338,
           0.5913608646682861,
           0.5242303861439245,
           0.630361605664508,
           0.6709019675700856,
           0.6737353592381938,
           0.5792447913896295,
           0.7271567423073424,
           0.6326676012060588,
           0.6889640989182795,
           0.5796349881477351,
           0.6340335814793465,
           0.5750991441079165,
           0.6214977136777622,
           0.5718497066455633,
           0.6775318484171048,
           0.5021816887299876,
           0.5502765575535987,
           0.5559410730643535,
           1.0000000000000002,
           0.595077650485713,
           0.5798544499950434,
           0.6402342203931282,
           0.4951031011230491,
           0.5936991817058582,
           0.603638799706853,
           0.6165628497294884,
           0.6036402881994632,
           0.5804186953424634,
           0.5667032548309371,
           0.5349274992173069,
           0.6241343108718056,
           0.5504606594834069,
           0.6581651410212183,
           0.5928269522558054,
           0.6919114400544517,
           0.7027627401540553,
           0.6459561746055605,
           0.5369999460030459,
           0.7767402898166438,
           0.4997700916541845,
           0.5439946255555497
          ],
          [
           0.6807306420044665,
           0.7496264257262832,
           0.7017495742236035,
           0.7225319514268878,
           0.7111126082137942,
           0.7571331509629972,
           0.7455886513560883,
           0.696785892264528,
           0.7166871678499751,
           0.6568168949587381,
           0.7080687026331931,
           0.6142366253207237,
           0.6392803372147686,
           0.6448501117919972,
           0.5909936761271601,
           0.7366721184641729,
           0.7278189840219232,
           0.6567991653877163,
           0.7318136012465761,
           0.6478936888831126,
           0.6217843963810528,
           0.7102451844994869,
           0.5500894694937135,
           0.7267002906050971,
           0.5892988977534239,
           0.5040168372456465,
           0.5611038319451318,
           0.595077650485713,
           0.9999999999999998,
           0.6963479544830745,
           0.6270893880822013,
           0.5359637493686891,
           0.6793708367986927,
           0.7113956592487819,
           0.7146049639479193,
           0.5537805321692797,
           0.5050648606954937,
           0.6090334491141786,
           0.6697448204881022,
           0.6121367184981452,
           0.582809808776678,
           0.7574395401271441,
           0.6131418393034098,
           0.684219588852823,
           0.5955749824469494,
           0.6208787040719513,
           0.630922948903246,
           0.6383972435217531,
           0.6660962570369844,
           0.5435300992055039
          ],
          [
           0.7536294133886399,
           0.7216362376997778,
           0.6737837463863722,
           0.7321942751125544,
           0.7151916767422626,
           0.721784673850025,
           0.6830763703439576,
           0.7093410253903952,
           0.842022291396449,
           0.6852008698061535,
           0.6315536246246792,
           0.6852769523216654,
           0.6771280785024977,
           0.7410377341022013,
           0.6900364262939562,
           0.6980651571077335,
           0.7348784165150576,
           0.6278146242167427,
           0.6912478302153804,
           0.685983195119499,
           0.6665550778019287,
           0.75256128840104,
           0.6406395843991824,
           0.7120971068714157,
           0.5834948452238297,
           0.6174627622087333,
           0.634765163026356,
           0.5798544499950434,
           0.6963479544830745,
           0.9999999999999993,
           0.6488154971667254,
           0.6493765999103176,
           0.6527411544756005,
           0.8043789004344566,
           0.8771264932745279,
           0.6565292362961487,
           0.6306355635301107,
           0.6665767786405631,
           0.5876889074744663,
           0.6960202023992231,
           0.6434726075722992,
           0.7045252219309283,
           0.7369580283031145,
           0.6983420463927074,
           0.6949583149570435,
           0.6788652194251866,
           0.7044328576690637,
           0.6744285573502263,
           0.6286644248846637,
           0.660742450502678
          ],
          [
           0.7385666704435884,
           0.6665505802881097,
           0.5928949864916884,
           0.6577121185452345,
           0.7172111629341631,
           0.6963041020335894,
           0.5808071953226622,
           0.6876905093911333,
           0.657837367586615,
           0.6312612463363302,
           0.5447331132598163,
           0.6629286624580198,
           0.6894877043481166,
           0.7092244946274507,
           0.644113562742734,
           0.7084076368767445,
           0.6906442324967696,
           0.6375556279772714,
           0.6219582392410787,
           0.6147757743018687,
           0.6173066373642824,
           0.5886367930986184,
           0.5798809671272578,
           0.6321101909277603,
           0.5360011398563015,
           0.5895648623701188,
           0.5594778111054467,
           0.6402342203931282,
           0.6270893880822013,
           0.6488154971667254,
           1.0000000000000002,
           0.459375003188189,
           0.5529369145759577,
           0.6119260753345384,
           0.6635238310317245,
           0.5864504943886335,
           0.5166139850957018,
           0.5369978279621831,
           0.5137650423006943,
           0.6224417306826538,
           0.6248429117492513,
           0.6474178506195374,
           0.6319199382535462,
           0.6117898594533819,
           0.6524833186784867,
           0.9194903528855467,
           0.5802980639419545,
           0.6394966777678193,
           0.5132374716077193,
           0.586157345771856
          ],
          [
           0.5121789035968538,
           0.5409976572638493,
           0.5350509295002961,
           0.5793425439786796,
           0.5404434456266732,
           0.5011238009061357,
           0.5474301797772176,
           0.7564630494409692,
           0.6342775554290074,
           0.4853661642602293,
           0.5280166258440557,
           0.555688898714398,
           0.5670642338905352,
           0.5408204569406321,
           0.49663340340716333,
           0.5272856277609043,
           0.5811510475967063,
           0.5173447646461939,
           0.5269824726334746,
           0.5155744280005627,
           0.5431173580777217,
           0.6057324151357705,
           0.45771865277083806,
           0.5366144320990045,
           0.5042190783358316,
           0.44466392624912765,
           0.5499908920730311,
           0.4951031011230491,
           0.5359637493686891,
           0.6493765999103176,
           0.459375003188189,
           1.0000000000000002,
           0.5829113675447369,
           0.6476607689136981,
           0.5824105814101366,
           0.568581350910834,
           0.5880909487894018,
           0.7470594917874666,
           0.4838189318734923,
           0.47293133949479005,
           0.4932832435637624,
           0.5663381306247223,
           0.5216324952310178,
           0.5585313324837393,
           0.5186773536529259,
           0.44850562122410415,
           0.45671419957330767,
           0.5558456987480749,
           0.5093800517707417,
           0.4625756945221754
          ],
          [
           0.6051484253151098,
           0.6765483832885447,
           0.6432897613028993,
           0.6313378228223074,
           0.6499603471765959,
           0.5874854042829056,
           0.6800678946648351,
           0.66969969211217,
           0.6401724138727993,
           0.5925934648158058,
           0.6326906341706051,
           0.6121521142486488,
           0.6473040946502693,
           0.638721074096406,
           0.5129185416328653,
           0.6430584562149606,
           0.6202177849185252,
           0.5971201758272503,
           0.6084088232519126,
           0.5920754539498333,
           0.5825515457826692,
           0.591161253581187,
           0.5546406180794045,
           0.6854127963695472,
           0.5341319555514236,
           0.5089828740433345,
           0.634278531095326,
           0.5936991817058582,
           0.6793708367986927,
           0.6527411544756005,
           0.5529369145759577,
           0.5829113675447369,
           0.9999999999999997,
           0.6951316914425626,
           0.632134925193699,
           0.621810021722242,
           0.5620200321771696,
           0.6605293889581783,
           0.5600185769441159,
           0.5372260120581769,
           0.5728932194604202,
           0.6807683767220349,
           0.6720690553450268,
           0.6117954299759398,
           0.578767284724224,
           0.5186490984808937,
           0.49470582016751363,
           0.6688755503820268,
           0.5672958950660661,
           0.4903406117999999
          ],
          [
           0.7170849222322432,
           0.7770602252027666,
           0.7027757497893965,
           0.7103974032370791,
           0.7153775742191246,
           0.7047750978745967,
           0.7063203350964367,
           0.7388850400934004,
           0.7397883414178349,
           0.6622690570856484,
           0.7180406672742102,
           0.6625821344463927,
           0.6802418513899566,
           0.7133108618717927,
           0.6674161435288649,
           0.7057054058574306,
           0.6973685369088144,
           0.6094543114655814,
           0.6953665570462733,
           0.6770973453330629,
           0.6591872856251089,
           0.7360964381441288,
           0.6308263500308745,
           0.709470633961289,
           0.5928300147107106,
           0.5754499407382616,
           0.6755294159099228,
           0.603638799706853,
           0.7113956592487819,
           0.8043789004344566,
           0.6119260753345384,
           0.6476607689136981,
           0.6951316914425626,
           0.9999999999999997,
           0.7428704310586883,
           0.6644268233013686,
           0.6478051337821937,
           0.6883433564319723,
           0.5890609146147185,
           0.6404235019274412,
           0.6143533135162501,
           0.7041044173358513,
           0.7356359138349519,
           0.7200668597296503,
           0.6798035784460353,
           0.5908801137480947,
           0.6523664757261909,
           0.6968487511037518,
           0.6796893353117596,
           0.6341652430757352
          ],
          [
           0.7860748437041668,
           0.7540737416302503,
           0.6712997750274324,
           0.7555547571029566,
           0.7564021450513518,
           0.7892658535173185,
           0.6632116953762501,
           0.7494117124314293,
           0.792522286085831,
           0.7379058407919067,
           0.624737435816528,
           0.6904108697997514,
           0.73456123699611,
           0.6712234235784529,
           0.7438922107896017,
           0.7736113930640944,
           0.7986468808312889,
           0.631363401217557,
           0.6576844029947765,
           0.6672633445374112,
           0.7053868770910172,
           0.7696573989125671,
           0.6660858455821709,
           0.7643355635332474,
           0.5385129045599856,
           0.630532096500645,
           0.600407926769336,
           0.6165628497294884,
           0.7146049639479193,
           0.8771264932745279,
           0.6635238310317245,
           0.5824105814101366,
           0.632134925193699,
           0.7428704310586883,
           0.9999999999999999,
           0.6564900794819772,
           0.6429086586503487,
           0.6136107114843725,
           0.6167739976408196,
           0.7425668122049963,
           0.6582197001794917,
           0.7052132208629907,
           0.6858028522508297,
           0.7635515288271117,
           0.6763865036589984,
           0.6709702722288917,
           0.6884254350699308,
           0.6956366009478842,
           0.6460155966579039,
           0.6797683294998341
          ],
          [
           0.5891856631317732,
           0.6434247992949004,
           0.5868184580885257,
           0.6572653247158106,
           0.6327883562877487,
           0.623096579626311,
           0.5495250896118455,
           0.6993585686558811,
           0.6092357018210903,
           0.5484389665593938,
           0.568022268801881,
           0.6783540717296817,
           0.8824175861988026,
           0.5897235824544854,
           0.533884462301618,
           0.6354470402954177,
           0.6113817371504544,
           0.5804487798811928,
           0.5544096630125928,
           0.6413085186525438,
           0.6421451389266268,
           0.5845984038475833,
           0.5869510675593023,
           0.6035790970064105,
           0.5156342619132245,
           0.5500500241205817,
           0.6363838175357297,
           0.6036402881994632,
           0.5537805321692797,
           0.6565292362961487,
           0.5864504943886335,
           0.568581350910834,
           0.621810021722242,
           0.6644268233013686,
           0.6564900794819772,
           1,
           0.7228057487994398,
           0.6378878374001022,
           0.5190999144300061,
           0.5760962467666209,
           0.5722487884861337,
           0.6409947616285907,
           0.652943210058833,
           0.6695457000612716,
           0.6197942981819251,
           0.5566883746114074,
           0.4950752794652578,
           0.6754374045313815,
           0.5286511166982425,
           0.5544499052979054
          ],
          [
           0.5839865121033111,
           0.5801969990985942,
           0.5216344543359923,
           0.7033414000194161,
           0.6585488074487328,
           0.5404820840523719,
           0.5238792448259797,
           0.684830250824746,
           0.6183283645983173,
           0.5813528778822524,
           0.49827160017824923,
           0.6593318779204121,
           0.733488883906162,
           0.5567938001796822,
           0.48772855116157515,
           0.6399078589240554,
           0.6151344973881361,
           0.50572966276092,
           0.49612498518550596,
           0.5870259647563463,
           0.6083805639168386,
           0.5958920094416786,
           0.617421890292792,
           0.5907684258507723,
           0.4577810005196192,
           0.6195152850936692,
           0.6765658755287302,
           0.5804186953424634,
           0.5050648606954937,
           0.6306355635301107,
           0.5166139850957018,
           0.5880909487894018,
           0.5620200321771696,
           0.6478051337821937,
           0.6429086586503487,
           0.7228057487994398,
           0.9999999999999999,
           0.5836637664441134,
           0.49180727690012627,
           0.5802955881839371,
           0.5662642784052087,
           0.5895297018752661,
           0.5842519452399744,
           0.699116814529014,
           0.6471734043249987,
           0.5208704229117036,
           0.4459005277264139,
           0.6870558502560072,
           0.5245300487855906,
           0.5842489711945196
          ],
          [
           0.5909515247752158,
           0.5949166068975815,
           0.6147803555818621,
           0.6157121444643788,
           0.6137151188211915,
           0.5471234334387187,
           0.5586226768740826,
           0.7749636969916702,
           0.6549373799194174,
           0.555033121537413,
           0.6198886705067096,
           0.6525418074803839,
           0.6303141053249418,
           0.7014554998358533,
           0.5312249758307566,
           0.5964499114706592,
           0.620451889951951,
           0.5765985128305036,
           0.5980221485632334,
           0.6252751725026879,
           0.601194422792539,
           0.634175510813549,
           0.5507483443795969,
           0.6082013749756501,
           0.6058343542947261,
           0.5255758027662061,
           0.6214895259734448,
           0.5667032548309371,
           0.6090334491141786,
           0.6665767786405631,
           0.5369978279621831,
           0.7470594917874666,
           0.6605293889581783,
           0.6883433564319723,
           0.6136107114843725,
           0.6378878374001022,
           0.5836637664441134,
           0.9999999999999997,
           0.5408845364368545,
           0.5622985827515767,
           0.5526009673327317,
           0.6328255080870888,
           0.6037154462464162,
           0.6282988621235682,
           0.5825770746976525,
           0.518761473709715,
           0.5113676676429963,
           0.652543212561467,
           0.5178983798451438,
           0.5233161030100125
          ],
          [
           0.5872790620273801,
           0.6243361488560969,
           0.6096683731228965,
           0.6908732068098029,
           0.6257613049705484,
           0.6710941729220036,
           0.628619144674552,
           0.6437429470299748,
           0.6147000255332545,
           0.5893875032217776,
           0.5428680354138969,
           0.5911538060093338,
           0.5993140146074477,
           0.5368424441334223,
           0.5413415567662403,
           0.7064908764107347,
           0.6285982846025657,
           0.5843260176570343,
           0.6050602111945325,
           0.5891304888975174,
           0.5534945938599655,
           0.6771392560391462,
           0.5760464426692345,
           0.65871009091924,
           0.46040950274895703,
           0.44600113187543877,
           0.48588783378077827,
           0.5349274992173069,
           0.6697448204881022,
           0.5876889074744663,
           0.5137650423006943,
           0.4838189318734923,
           0.5600185769441159,
           0.5890609146147185,
           0.6167739976408196,
           0.5190999144300061,
           0.49180727690012627,
           0.5408845364368545,
           1,
           0.5739784879123662,
           0.4767441152731476,
           0.6317332075687703,
           0.5291197272974704,
           0.6728063917836248,
           0.5389339931594586,
           0.5010026271929041,
           0.5634647286185166,
           0.5385927564178556,
           0.6141091340271219,
           0.5178355261127039
          ],
          [
           0.7019181041461435,
           0.6440170336742675,
           0.5993060907790384,
           0.6894804981085132,
           0.7408306635260344,
           0.676094315360431,
           0.5607705718098188,
           0.6825671985926022,
           0.7056983165441911,
           0.7191977091420508,
           0.5786222889249248,
           0.7030396636641556,
           0.668043107884419,
           0.6493496662534877,
           0.6547038725654382,
           0.6950709553670936,
           0.7077347003369641,
           0.62410350787226,
           0.570884096468847,
           0.6009224989876732,
           0.5596273716918646,
           0.605394131946452,
           0.8135913851815962,
           0.6417178596959111,
           0.5193563210459132,
           0.6161104555065575,
           0.6091927374634687,
           0.6241343108718056,
           0.6121367184981452,
           0.6960202023992231,
           0.6224417306826538,
           0.47293133949479005,
           0.5372260120581769,
           0.6404235019274412,
           0.7425668122049963,
           0.5760962467666209,
           0.5802955881839371,
           0.5622985827515767,
           0.5739784879123662,
           1,
           0.6167751438650675,
           0.6248964964556339,
           0.6305290098547978,
           0.6320089595339659,
           0.630609719132926,
           0.6160472406757073,
           0.5999890308349798,
           0.6211894563612906,
           0.49229206415132426,
           0.6773288589242168
          ],
          [
           0.6582189862005335,
           0.5849508227525736,
           0.5641324568332156,
           0.5780497011047482,
           0.6646467416001995,
           0.5844475650032127,
           0.5320720695450989,
           0.6380122831064903,
           0.5844467832762845,
           0.7029023651583702,
           0.5098256802535072,
           0.6382275398230214,
           0.6084366535157223,
           0.5880158890814489,
           0.7288254691725518,
           0.5849028336357412,
           0.6489885496456904,
           0.5765067206081884,
           0.5331176331993627,
           0.6047092481027014,
           0.6255477755558565,
           0.5418803334167472,
           0.6350011695778446,
           0.5920118665479983,
           0.49398902425724145,
           0.7096056799507328,
           0.5731371803416899,
           0.5504606594834069,
           0.582809808776678,
           0.6434726075722992,
           0.6248429117492513,
           0.4932832435637624,
           0.5728932194604202,
           0.6143533135162501,
           0.6582197001794917,
           0.5722487884861337,
           0.5662642784052087,
           0.5526009673327317,
           0.4767441152731476,
           0.6167751438650675,
           1.0000000000000002,
           0.6242485882637363,
           0.6311829636724541,
           0.5949626007426543,
           0.6598890974407455,
           0.5908384201462183,
           0.5218791190253758,
           0.6567624273531484,
           0.5637445335111729,
           0.6109126462752466
          ],
          [
           0.6541099411268173,
           0.7129510313173143,
           0.7405811656433868,
           0.6924330334326874,
           0.7617331106027195,
           0.6969000416468082,
           0.7040716949565969,
           0.7042594170166936,
           0.6948103550215726,
           0.6652979700858128,
           0.6561266669504501,
           0.7045194311898736,
           0.6868153210669754,
           0.6559941610975626,
           0.6578419010443334,
           0.7176725578737855,
           0.7177758813419994,
           0.6227429047776248,
           0.710838693323075,
           0.7234288353852174,
           0.695336691899914,
           0.6865339979279805,
           0.5730432259137416,
           0.7307113861364053,
           0.617735195892555,
           0.565607055671564,
           0.6071409087841546,
           0.6581651410212183,
           0.7574395401271441,
           0.7045252219309283,
           0.6474178506195374,
           0.5663381306247223,
           0.6807683767220349,
           0.7041044173358513,
           0.7052132208629907,
           0.6409947616285907,
           0.5895297018752661,
           0.6328255080870888,
           0.6317332075687703,
           0.6248964964556339,
           0.6242485882637363,
           0.9999999999999999,
           0.682303750601972,
           0.7097053945544709,
           0.6662340865115205,
           0.6664113279208399,
           0.66401508038883,
           0.741366303551746,
           0.6608945680044745,
           0.5997811745044808
          ],
          [
           0.6847059520302763,
           0.72464192475265,
           0.7670607298538816,
           0.676686304283783,
           0.7070130228007164,
           0.6489631419007766,
           0.6186045417530465,
           0.6763710121915196,
           0.7199706581498179,
           0.6453941718538888,
           0.7058315782730099,
           0.6299688424074634,
           0.6717387451579877,
           0.6996616917426841,
           0.6242369098654791,
           0.6625819703187612,
           0.7012442401843432,
           0.6087324826779145,
           0.618247806440403,
           0.6383078965543733,
           0.6445972775662905,
           0.6622334340666453,
           0.6072834464520166,
           0.649910582870964,
           0.5404101352183808,
           0.6168189057087613,
           0.7283666207161679,
           0.5928269522558054,
           0.6131418393034098,
           0.7369580283031145,
           0.6319199382535462,
           0.5216324952310178,
           0.6720690553450268,
           0.7356359138349519,
           0.6858028522508297,
           0.652943210058833,
           0.5842519452399744,
           0.6037154462464162,
           0.5291197272974704,
           0.6305290098547978,
           0.6311829636724541,
           0.682303750601972,
           0.9999999999999996,
           0.6689893159009784,
           0.6347659757476953,
           0.5955705704046548,
           0.6270371232857795,
           0.6682774703683997,
           0.5935975853530042,
           0.6257674539606554
          ],
          [
           0.7202824469417335,
           0.7354360017363281,
           0.7059795670688693,
           0.7435555906730806,
           0.7433123941895585,
           0.7604542932704244,
           0.6821447308927008,
           0.7488818810809718,
           0.6891561843547294,
           0.6518023640740511,
           0.6342901250045292,
           0.6961831848454466,
           0.7300847514293005,
           0.6275242077621574,
           0.6378379343346462,
           0.8568775268298283,
           0.7163019864356436,
           0.6741618770720833,
           0.6741588043249047,
           0.6964436248916235,
           0.7015425044272283,
           0.8867705439530573,
           0.58460770531508,
           0.7273117171331802,
           0.5182810436402355,
           0.5686708796231791,
           0.5965305565422718,
           0.6919114400544517,
           0.684219588852823,
           0.6983420463927074,
           0.6117898594533819,
           0.5585313324837393,
           0.6117954299759398,
           0.7200668597296503,
           0.7635515288271117,
           0.6695457000612716,
           0.699116814529014,
           0.6282988621235682,
           0.6728063917836248,
           0.6320089595339659,
           0.5949626007426543,
           0.7097053945544709,
           0.6689893159009784,
           0.9999999999999992,
           0.7749012895626277,
           0.6225234866988723,
           0.5989842184190224,
           0.7445800354546032,
           0.6769807917228483,
           0.5786186075402873
          ],
          [
           0.7143186940745833,
           0.6293990774912854,
           0.6182930117415382,
           0.6495223922159612,
           0.7309375145007322,
           0.639848117736055,
           0.595015362488339,
           0.668870808742901,
           0.6444132763585166,
           0.5848183618975735,
           0.5735581923163633,
           0.6705456324147653,
           0.6465091136163523,
           0.6911516145915991,
           0.648164337347185,
           0.7239599205482738,
           0.6335538844719237,
           0.6440437467671253,
           0.6328857148840211,
           0.6583940698538249,
           0.6427814813278963,
           0.6895375772162278,
           0.600633099528558,
           0.61467774317418,
           0.5519583223658523,
           0.6134255863056097,
           0.5800697379361922,
           0.7027627401540553,
           0.5955749824469494,
           0.6949583149570435,
           0.6524833186784867,
           0.5186773536529259,
           0.578767284724224,
           0.6798035784460353,
           0.6763865036589984,
           0.6197942981819251,
           0.6471734043249987,
           0.5825770746976525,
           0.5389339931594586,
           0.630609719132926,
           0.6598890974407455,
           0.6662340865115205,
           0.6347659757476953,
           0.7749012895626277,
           1.0000000000000002,
           0.6919982546061539,
           0.6399264931151174,
           0.7603068421073705,
           0.6218406789859876,
           0.6102449982586322
          ],
          [
           0.6703897273931981,
           0.5703607258984934,
           0.5546223583839675,
           0.6089192668441575,
           0.6641672996158985,
           0.6459361545179003,
           0.5477835875279831,
           0.6219338072516538,
           0.6903751816828892,
           0.6090858392862553,
           0.5136467081682525,
           0.6242800442908149,
           0.6177368078713391,
           0.7079923621522761,
           0.6046836403984804,
           0.6454041811295159,
           0.6477729915214551,
           0.5957706014246205,
           0.6069546511710997,
           0.5878141549308504,
           0.5819386964382911,
           0.6146955140544442,
           0.5460052869143663,
           0.6020000593097417,
           0.530851687374222,
           0.5569343334952561,
           0.5414279299210327,
           0.6459561746055605,
           0.6208787040719513,
           0.6788652194251866,
           0.9194903528855467,
           0.44850562122410415,
           0.5186490984808937,
           0.5908801137480947,
           0.6709702722288917,
           0.5566883746114074,
           0.5208704229117036,
           0.518761473709715,
           0.5010026271929041,
           0.6160472406757073,
           0.5908384201462183,
           0.6664113279208399,
           0.5955705704046548,
           0.6225234866988723,
           0.6919982546061539,
           0.9999999999999998,
           0.6279465251408787,
           0.6303785423830955,
           0.5329713637060715,
           0.598615681570319
          ],
          [
           0.6854112685588623,
           0.640360624210335,
           0.6102945073082264,
           0.6708118348595765,
           0.6613520849925605,
           0.6853684203237195,
           0.641443710550631,
           0.5753429778713339,
           0.6583198251908343,
           0.5893344388039304,
           0.5375700991879079,
           0.5308186965403722,
           0.5500630260155067,
           0.6415741492525526,
           0.6147650452117096,
           0.6588310253968785,
           0.6364597634229743,
           0.5318890297179333,
           0.6408059336189849,
           0.5863090130924089,
           0.6367622488329937,
           0.655492210526364,
           0.5384519790869784,
           0.6002415483278019,
           0.4939757837508547,
           0.5060847888638995,
           0.5010949579783118,
           0.5369999460030459,
           0.630922948903246,
           0.7044328576690637,
           0.5802980639419545,
           0.45671419957330767,
           0.49470582016751363,
           0.6523664757261909,
           0.6884254350699308,
           0.4950752794652578,
           0.4459005277264139,
           0.5113676676429963,
           0.5634647286185166,
           0.5999890308349798,
           0.5218791190253758,
           0.66401508038883,
           0.6270371232857795,
           0.5989842184190224,
           0.6399264931151174,
           0.6279465251408787,
           1.0000000000000004,
           0.559110460451029,
           0.6915835071768863,
           0.6156010216100603
          ],
          [
           0.6772263528034405,
           0.6887073374815462,
           0.6278838072293315,
           0.6506986035113196,
           0.7326692941989268,
           0.6618329614353804,
           0.6083200485641725,
           0.7577500048063337,
           0.6469810111424874,
           0.6394702775089025,
           0.6146559792144942,
           0.7034976505937273,
           0.719239187850053,
           0.6889712808247255,
           0.6135253336505915,
           0.745691730918042,
           0.69831728707727,
           0.6792256701267446,
           0.6136363884812609,
           0.6792221976136861,
           0.6425356239897931,
           0.641397767104651,
           0.6054961466834834,
           0.6898821586384796,
           0.5466452525097854,
           0.6573445321125188,
           0.6075214202334382,
           0.7767402898166438,
           0.6383972435217531,
           0.6744285573502263,
           0.6394966777678193,
           0.5558456987480749,
           0.6688755503820268,
           0.6968487511037518,
           0.6956366009478842,
           0.6754374045313815,
           0.6870558502560072,
           0.652543212561467,
           0.5385927564178556,
           0.6211894563612906,
           0.6567624273531484,
           0.741366303551746,
           0.6682774703683997,
           0.7445800354546032,
           0.7603068421073705,
           0.6303785423830955,
           0.559110460451029,
           0.9999999999999989,
           0.5887434228030174,
           0.6036268800061626
          ],
          [
           0.5707430487669137,
           0.6274275169459708,
           0.6196486553920412,
           0.6046226679537573,
           0.6130583610094654,
           0.6362272513236604,
           0.7132073831976558,
           0.5892843782574091,
           0.5820862836361262,
           0.5510095442419388,
           0.5985760705577963,
           0.5575532431521193,
           0.5554517043373173,
           0.4996863926729751,
           0.5765584040571883,
           0.6456420562608381,
           0.5784456395464943,
           0.5180536555849422,
           0.5458213406857629,
           0.5649724671369863,
           0.6515723723452289,
           0.6884777329955032,
           0.48633437036471067,
           0.6074705260768348,
           0.40382627192402787,
           0.4983483776162366,
           0.5103117953193934,
           0.4997700916541845,
           0.6660962570369844,
           0.6286644248846637,
           0.5132374716077193,
           0.5093800517707417,
           0.5672958950660661,
           0.6796893353117596,
           0.6460155966579039,
           0.5286511166982425,
           0.5245300487855906,
           0.5178983798451438,
           0.6141091340271219,
           0.49229206415132426,
           0.5637445335111729,
           0.6608945680044745,
           0.5935975853530042,
           0.6769807917228483,
           0.6218406789859876,
           0.5329713637060715,
           0.6915835071768863,
           0.5887434228030174,
           0.9999999999999999,
           0.5535171145815768
          ],
          [
           0.6459794531449675,
           0.5901253520301156,
           0.515891441531427,
           0.6309792785633802,
           0.6733571595560133,
           0.5882618609992968,
           0.5160951833137006,
           0.6235930501144111,
           0.6607754303766159,
           0.6767735091227299,
           0.5189925900687716,
           0.5941219709523462,
           0.598660337882722,
           0.6184958836390971,
           0.6079424271899538,
           0.6077073708653311,
           0.6420371015295336,
           0.5119361890340243,
           0.49175445664371925,
           0.5360691049091917,
           0.5993981768968148,
           0.5626007275634983,
           0.6621299520094452,
           0.5740252646027406,
           0.49171403510217443,
           0.6036811241876389,
           0.6042662629334343,
           0.5439946255555497,
           0.5435300992055039,
           0.660742450502678,
           0.586157345771856,
           0.4625756945221754,
           0.4903406117999999,
           0.6341652430757352,
           0.6797683294998341,
           0.5544499052979054,
           0.5842489711945196,
           0.5233161030100125,
           0.5178355261127039,
           0.6773288589242168,
           0.6109126462752466,
           0.5997811745044808,
           0.6257674539606554,
           0.5786186075402873,
           0.6102449982586322,
           0.598615681570319,
           0.6156010216100603,
           0.6036268800061626,
           0.5535171145815768,
           1.0000000000000002
          ]
         ]
        }
       ],
       "layout": {
        "coloraxis": {
         "colorbar": {
          "title": {
           "text": "Similarity Score"
          }
         },
         "colorscale": [
          [
           0,
           "rgb(247,252,240)"
          ],
          [
           0.125,
           "rgb(224,243,219)"
          ],
          [
           0.25,
           "rgb(204,235,197)"
          ],
          [
           0.375,
           "rgb(168,221,181)"
          ],
          [
           0.5,
           "rgb(123,204,196)"
          ],
          [
           0.625,
           "rgb(78,179,211)"
          ],
          [
           0.75,
           "rgb(43,140,190)"
          ],
          [
           0.875,
           "rgb(8,104,172)"
          ],
          [
           1,
           "rgb(8,64,129)"
          ]
         ]
        },
        "height": 800,
        "hoverlabel": {
         "bgcolor": "white",
         "font": {
          "family": "Rockwell",
          "size": 16
         }
        },
        "legend": {
         "title": {
          "text": "Trend"
         }
        },
        "margin": {
         "t": 60
        },
        "showlegend": true,
        "template": {
         "data": {
          "bar": [
           {
            "error_x": {
             "color": "#2a3f5f"
            },
            "error_y": {
             "color": "#2a3f5f"
            },
            "marker": {
             "line": {
              "color": "#E5ECF6",
              "width": 0.5
             },
             "pattern": {
              "fillmode": "overlay",
              "size": 10,
              "solidity": 0.2
             }
            },
            "type": "bar"
           }
          ],
          "barpolar": [
           {
            "marker": {
             "line": {
              "color": "#E5ECF6",
              "width": 0.5
             },
             "pattern": {
              "fillmode": "overlay",
              "size": 10,
              "solidity": 0.2
             }
            },
            "type": "barpolar"
           }
          ],
          "carpet": [
           {
            "aaxis": {
             "endlinecolor": "#2a3f5f",
             "gridcolor": "white",
             "linecolor": "white",
             "minorgridcolor": "white",
             "startlinecolor": "#2a3f5f"
            },
            "baxis": {
             "endlinecolor": "#2a3f5f",
             "gridcolor": "white",
             "linecolor": "white",
             "minorgridcolor": "white",
             "startlinecolor": "#2a3f5f"
            },
            "type": "carpet"
           }
          ],
          "choropleth": [
           {
            "colorbar": {
             "outlinewidth": 0,
             "ticks": ""
            },
            "type": "choropleth"
           }
          ],
          "contour": [
           {
            "colorbar": {
             "outlinewidth": 0,
             "ticks": ""
            },
            "colorscale": [
             [
              0,
              "#0d0887"
             ],
             [
              0.1111111111111111,
              "#46039f"
             ],
             [
              0.2222222222222222,
              "#7201a8"
             ],
             [
              0.3333333333333333,
              "#9c179e"
             ],
             [
              0.4444444444444444,
              "#bd3786"
             ],
             [
              0.5555555555555556,
              "#d8576b"
             ],
             [
              0.6666666666666666,
              "#ed7953"
             ],
             [
              0.7777777777777778,
              "#fb9f3a"
             ],
             [
              0.8888888888888888,
              "#fdca26"
             ],
             [
              1,
              "#f0f921"
             ]
            ],
            "type": "contour"
           }
          ],
          "contourcarpet": [
           {
            "colorbar": {
             "outlinewidth": 0,
             "ticks": ""
            },
            "type": "contourcarpet"
           }
          ],
          "heatmap": [
           {
            "colorbar": {
             "outlinewidth": 0,
             "ticks": ""
            },
            "colorscale": [
             [
              0,
              "#0d0887"
             ],
             [
              0.1111111111111111,
              "#46039f"
             ],
             [
              0.2222222222222222,
              "#7201a8"
             ],
             [
              0.3333333333333333,
              "#9c179e"
             ],
             [
              0.4444444444444444,
              "#bd3786"
             ],
             [
              0.5555555555555556,
              "#d8576b"
             ],
             [
              0.6666666666666666,
              "#ed7953"
             ],
             [
              0.7777777777777778,
              "#fb9f3a"
             ],
             [
              0.8888888888888888,
              "#fdca26"
             ],
             [
              1,
              "#f0f921"
             ]
            ],
            "type": "heatmap"
           }
          ],
          "heatmapgl": [
           {
            "colorbar": {
             "outlinewidth": 0,
             "ticks": ""
            },
            "colorscale": [
             [
              0,
              "#0d0887"
             ],
             [
              0.1111111111111111,
              "#46039f"
             ],
             [
              0.2222222222222222,
              "#7201a8"
             ],
             [
              0.3333333333333333,
              "#9c179e"
             ],
             [
              0.4444444444444444,
              "#bd3786"
             ],
             [
              0.5555555555555556,
              "#d8576b"
             ],
             [
              0.6666666666666666,
              "#ed7953"
             ],
             [
              0.7777777777777778,
              "#fb9f3a"
             ],
             [
              0.8888888888888888,
              "#fdca26"
             ],
             [
              1,
              "#f0f921"
             ]
            ],
            "type": "heatmapgl"
           }
          ],
          "histogram": [
           {
            "marker": {
             "pattern": {
              "fillmode": "overlay",
              "size": 10,
              "solidity": 0.2
             }
            },
            "type": "histogram"
           }
          ],
          "histogram2d": [
           {
            "colorbar": {
             "outlinewidth": 0,
             "ticks": ""
            },
            "colorscale": [
             [
              0,
              "#0d0887"
             ],
             [
              0.1111111111111111,
              "#46039f"
             ],
             [
              0.2222222222222222,
              "#7201a8"
             ],
             [
              0.3333333333333333,
              "#9c179e"
             ],
             [
              0.4444444444444444,
              "#bd3786"
             ],
             [
              0.5555555555555556,
              "#d8576b"
             ],
             [
              0.6666666666666666,
              "#ed7953"
             ],
             [
              0.7777777777777778,
              "#fb9f3a"
             ],
             [
              0.8888888888888888,
              "#fdca26"
             ],
             [
              1,
              "#f0f921"
             ]
            ],
            "type": "histogram2d"
           }
          ],
          "histogram2dcontour": [
           {
            "colorbar": {
             "outlinewidth": 0,
             "ticks": ""
            },
            "colorscale": [
             [
              0,
              "#0d0887"
             ],
             [
              0.1111111111111111,
              "#46039f"
             ],
             [
              0.2222222222222222,
              "#7201a8"
             ],
             [
              0.3333333333333333,
              "#9c179e"
             ],
             [
              0.4444444444444444,
              "#bd3786"
             ],
             [
              0.5555555555555556,
              "#d8576b"
             ],
             [
              0.6666666666666666,
              "#ed7953"
             ],
             [
              0.7777777777777778,
              "#fb9f3a"
             ],
             [
              0.8888888888888888,
              "#fdca26"
             ],
             [
              1,
              "#f0f921"
             ]
            ],
            "type": "histogram2dcontour"
           }
          ],
          "mesh3d": [
           {
            "colorbar": {
             "outlinewidth": 0,
             "ticks": ""
            },
            "type": "mesh3d"
           }
          ],
          "parcoords": [
           {
            "line": {
             "colorbar": {
              "outlinewidth": 0,
              "ticks": ""
             }
            },
            "type": "parcoords"
           }
          ],
          "pie": [
           {
            "automargin": true,
            "type": "pie"
           }
          ],
          "scatter": [
           {
            "fillpattern": {
             "fillmode": "overlay",
             "size": 10,
             "solidity": 0.2
            },
            "type": "scatter"
           }
          ],
          "scatter3d": [
           {
            "line": {
             "colorbar": {
              "outlinewidth": 0,
              "ticks": ""
             }
            },
            "marker": {
             "colorbar": {
              "outlinewidth": 0,
              "ticks": ""
             }
            },
            "type": "scatter3d"
           }
          ],
          "scattercarpet": [
           {
            "marker": {
             "colorbar": {
              "outlinewidth": 0,
              "ticks": ""
             }
            },
            "type": "scattercarpet"
           }
          ],
          "scattergeo": [
           {
            "marker": {
             "colorbar": {
              "outlinewidth": 0,
              "ticks": ""
             }
            },
            "type": "scattergeo"
           }
          ],
          "scattergl": [
           {
            "marker": {
             "colorbar": {
              "outlinewidth": 0,
              "ticks": ""
             }
            },
            "type": "scattergl"
           }
          ],
          "scattermapbox": [
           {
            "marker": {
             "colorbar": {
              "outlinewidth": 0,
              "ticks": ""
             }
            },
            "type": "scattermapbox"
           }
          ],
          "scatterpolar": [
           {
            "marker": {
             "colorbar": {
              "outlinewidth": 0,
              "ticks": ""
             }
            },
            "type": "scatterpolar"
           }
          ],
          "scatterpolargl": [
           {
            "marker": {
             "colorbar": {
              "outlinewidth": 0,
              "ticks": ""
             }
            },
            "type": "scatterpolargl"
           }
          ],
          "scatterternary": [
           {
            "marker": {
             "colorbar": {
              "outlinewidth": 0,
              "ticks": ""
             }
            },
            "type": "scatterternary"
           }
          ],
          "surface": [
           {
            "colorbar": {
             "outlinewidth": 0,
             "ticks": ""
            },
            "colorscale": [
             [
              0,
              "#0d0887"
             ],
             [
              0.1111111111111111,
              "#46039f"
             ],
             [
              0.2222222222222222,
              "#7201a8"
             ],
             [
              0.3333333333333333,
              "#9c179e"
             ],
             [
              0.4444444444444444,
              "#bd3786"
             ],
             [
              0.5555555555555556,
              "#d8576b"
             ],
             [
              0.6666666666666666,
              "#ed7953"
             ],
             [
              0.7777777777777778,
              "#fb9f3a"
             ],
             [
              0.8888888888888888,
              "#fdca26"
             ],
             [
              1,
              "#f0f921"
             ]
            ],
            "type": "surface"
           }
          ],
          "table": [
           {
            "cells": {
             "fill": {
              "color": "#EBF0F8"
             },
             "line": {
              "color": "white"
             }
            },
            "header": {
             "fill": {
              "color": "#C8D4E3"
             },
             "line": {
              "color": "white"
             }
            },
            "type": "table"
           }
          ]
         },
         "layout": {
          "annotationdefaults": {
           "arrowcolor": "#2a3f5f",
           "arrowhead": 0,
           "arrowwidth": 1
          },
          "autotypenumbers": "strict",
          "coloraxis": {
           "colorbar": {
            "outlinewidth": 0,
            "ticks": ""
           }
          },
          "colorscale": {
           "diverging": [
            [
             0,
             "#8e0152"
            ],
            [
             0.1,
             "#c51b7d"
            ],
            [
             0.2,
             "#de77ae"
            ],
            [
             0.3,
             "#f1b6da"
            ],
            [
             0.4,
             "#fde0ef"
            ],
            [
             0.5,
             "#f7f7f7"
            ],
            [
             0.6,
             "#e6f5d0"
            ],
            [
             0.7,
             "#b8e186"
            ],
            [
             0.8,
             "#7fbc41"
            ],
            [
             0.9,
             "#4d9221"
            ],
            [
             1,
             "#276419"
            ]
           ],
           "sequential": [
            [
             0,
             "#0d0887"
            ],
            [
             0.1111111111111111,
             "#46039f"
            ],
            [
             0.2222222222222222,
             "#7201a8"
            ],
            [
             0.3333333333333333,
             "#9c179e"
            ],
            [
             0.4444444444444444,
             "#bd3786"
            ],
            [
             0.5555555555555556,
             "#d8576b"
            ],
            [
             0.6666666666666666,
             "#ed7953"
            ],
            [
             0.7777777777777778,
             "#fb9f3a"
            ],
            [
             0.8888888888888888,
             "#fdca26"
            ],
            [
             1,
             "#f0f921"
            ]
           ],
           "sequentialminus": [
            [
             0,
             "#0d0887"
            ],
            [
             0.1111111111111111,
             "#46039f"
            ],
            [
             0.2222222222222222,
             "#7201a8"
            ],
            [
             0.3333333333333333,
             "#9c179e"
            ],
            [
             0.4444444444444444,
             "#bd3786"
            ],
            [
             0.5555555555555556,
             "#d8576b"
            ],
            [
             0.6666666666666666,
             "#ed7953"
            ],
            [
             0.7777777777777778,
             "#fb9f3a"
            ],
            [
             0.8888888888888888,
             "#fdca26"
            ],
            [
             1,
             "#f0f921"
            ]
           ]
          },
          "colorway": [
           "#636efa",
           "#EF553B",
           "#00cc96",
           "#ab63fa",
           "#FFA15A",
           "#19d3f3",
           "#FF6692",
           "#B6E880",
           "#FF97FF",
           "#FECB52"
          ],
          "font": {
           "color": "#2a3f5f"
          },
          "geo": {
           "bgcolor": "white",
           "lakecolor": "white",
           "landcolor": "#E5ECF6",
           "showlakes": true,
           "showland": true,
           "subunitcolor": "white"
          },
          "hoverlabel": {
           "align": "left"
          },
          "hovermode": "closest",
          "mapbox": {
           "style": "light"
          },
          "paper_bgcolor": "white",
          "plot_bgcolor": "#E5ECF6",
          "polar": {
           "angularaxis": {
            "gridcolor": "white",
            "linecolor": "white",
            "ticks": ""
           },
           "bgcolor": "#E5ECF6",
           "radialaxis": {
            "gridcolor": "white",
            "linecolor": "white",
            "ticks": ""
           }
          },
          "scene": {
           "xaxis": {
            "backgroundcolor": "#E5ECF6",
            "gridcolor": "white",
            "gridwidth": 2,
            "linecolor": "white",
            "showbackground": true,
            "ticks": "",
            "zerolinecolor": "white"
           },
           "yaxis": {
            "backgroundcolor": "#E5ECF6",
            "gridcolor": "white",
            "gridwidth": 2,
            "linecolor": "white",
            "showbackground": true,
            "ticks": "",
            "zerolinecolor": "white"
           },
           "zaxis": {
            "backgroundcolor": "#E5ECF6",
            "gridcolor": "white",
            "gridwidth": 2,
            "linecolor": "white",
            "showbackground": true,
            "ticks": "",
            "zerolinecolor": "white"
           }
          },
          "shapedefaults": {
           "line": {
            "color": "#2a3f5f"
           }
          },
          "ternary": {
           "aaxis": {
            "gridcolor": "white",
            "linecolor": "white",
            "ticks": ""
           },
           "baxis": {
            "gridcolor": "white",
            "linecolor": "white",
            "ticks": ""
           },
           "bgcolor": "#E5ECF6",
           "caxis": {
            "gridcolor": "white",
            "linecolor": "white",
            "ticks": ""
           }
          },
          "title": {
           "x": 0.05
          },
          "xaxis": {
           "automargin": true,
           "gridcolor": "white",
           "linecolor": "white",
           "ticks": "",
           "title": {
            "standoff": 15
           },
           "zerolinecolor": "white",
           "zerolinewidth": 2
          },
          "yaxis": {
           "automargin": true,
           "gridcolor": "white",
           "linecolor": "white",
           "ticks": "",
           "title": {
            "standoff": 15
           },
           "zerolinecolor": "white",
           "zerolinewidth": 2
          }
         }
        },
        "title": {
         "font": {
          "color": "Black",
          "size": 22
         },
         "text": "<b>Similarity Matrix</b>",
         "x": 0.55,
         "xanchor": "center",
         "y": 0.95,
         "yanchor": "top"
        },
        "width": 800,
        "xaxis": {
         "anchor": "y",
         "constrain": "domain",
         "domain": [
          0,
          1
         ],
         "scaleanchor": "y"
        },
        "yaxis": {
         "anchor": "x",
         "autorange": "reversed",
         "constrain": "domain",
         "domain": [
          0,
          1
         ]
        }
       }
      }
     },
     "metadata": {},
     "output_type": "display_data"
    }
   ],
   "source": [
    "model.visualize_heatmap()"
   ]
  },
  {
   "cell_type": "code",
   "execution_count": 57,
   "metadata": {},
   "outputs": [
    {
     "data": {
      "application/vnd.plotly.v1+json": {
       "config": {
        "plotlyServerURL": "https://plot.ly"
       },
       "data": [
        {
         "hoverinfo": "text",
         "hovertext": [
          "<b>Topic 0</b><br>Words: writing, wiki, feedback, students, the",
          "<b>Topic 0</b><br>Words: writing, corpus, the, in, of",
          "<b>Topic 0</b><br>Words: writing, the, corpus, feedback, of",
          "<b>Topic 0</b><br>Words: writing, feedback, corpus, the, of",
          "<b>Topic 0</b><br>Words: writing, corpus, the, of, in",
          "<b>Topic 0</b><br>Words: writing, feedback, the, and, in",
          "<b>Topic 0</b><br>Words: writing, feedback, the, corpus, and",
          "<b>Topic 0</b><br>Words: writing, feedback, the, of, and",
          "<b>Topic 0</b><br>Words: writing, corpus, the, in, feedback",
          "<b>Topic 0</b><br>Words: writing, feedback, corpus, the, mt",
          "<b>Topic 0</b><br>Words: corpus, cl, teachers, corpora, training"
         ],
         "marker": {
          "color": "#E69F00"
         },
         "mode": "lines",
         "name": "0_writing_corpus_feedback_the",
         "type": "scatter",
         "x": [
          2013,
          2014,
          2015,
          2016,
          2017,
          2018,
          2019,
          2020,
          2021,
          2022,
          2023
         ],
         "y": [
          12,
          21,
          15,
          30,
          27,
          16,
          16,
          15,
          19,
          10,
          2
         ]
        },
        {
         "hoverinfo": "text",
         "hovertext": [
          "<b>Topic 1</b><br>Words: information, program, systems, is, skills",
          "<b>Topic 1</b><br>Words: information, systems, is, programs, of",
          "<b>Topic 1</b><br>Words: is, information, systems, cis, of",
          "<b>Topic 1</b><br>Words: information, systems, major, is, and",
          "<b>Topic 1</b><br>Words: major, information, majors, is, programs",
          "<b>Topic 1</b><br>Words: information, job, systems, employers, is",
          "<b>Topic 1</b><br>Words: information, systems, is, and, the",
          "<b>Topic 1</b><br>Words: reporting, computing, information, systems, extensible",
          "<b>Topic 1</b><br>Words: bis, internship, career, information, and",
          "<b>Topic 1</b><br>Words: skills, information, to, and, is"
         ],
         "marker": {
          "color": "#56B4E9"
         },
         "mode": "lines",
         "name": "1_information_is_systems_and",
         "type": "scatter",
         "x": [
          2013,
          2014,
          2015,
          2016,
          2017,
          2018,
          2019,
          2020,
          2021,
          2022
         ],
         "y": [
          13,
          15,
          10,
          8,
          10,
          12,
          16,
          4,
          7,
          11
         ]
        },
        {
         "hoverinfo": "text",
         "hovertext": [
          "<b>Topic 2</b><br>Words: services, data, business, library, analytics",
          "<b>Topic 2</b><br>Words: data, big, analytics, unstructured, business",
          "<b>Topic 2</b><br>Words: analytics, data, business, big, curriculum",
          "<b>Topic 2</b><br>Words: data, analytics, big, business, visualization",
          "<b>Topic 2</b><br>Words: analytics, business, data, big, firms",
          "<b>Topic 2</b><br>Words: data, analytics, business, big, is",
          "<b>Topic 2</b><br>Words: analytics, data, business, visualization, big",
          "<b>Topic 2</b><br>Words: analytics, data, business, to, is",
          "<b>Topic 2</b><br>Words: analytics, data, business, big, course",
          "<b>Topic 2</b><br>Words: analytics, data, business, dm, to"
         ],
         "marker": {
          "color": "#009E73"
         },
         "mode": "lines",
         "name": "2_analytics_data_business_big",
         "type": "scatter",
         "x": [
          2013,
          2014,
          2015,
          2016,
          2017,
          2018,
          2019,
          2020,
          2021,
          2022
         ],
         "y": [
          2,
          3,
          8,
          8,
          4,
          7,
          9,
          11,
          7,
          9
         ]
        },
        {
         "hoverinfo": "text",
         "hovertext": [
          "<b>Topic 3</b><br>Words: intercultural, im, telecollaboration, dpsfm, voh",
          "<b>Topic 3</b><br>Words: intercultural, born, communication, and, cultural",
          "<b>Topic 3</b><br>Words: intercultural, telecollaboration, project, the, of",
          "<b>Topic 3</b><br>Words: telecollaboration, intercultural, project, telecollaborative, cultura",
          "<b>Topic 3</b><br>Words: intercultural, telecollaboration, communication, phatic, cultural",
          "<b>Topic 3</b><br>Words: intercultural, telecollaboration, telecollaborative, icc, of",
          "<b>Topic 3</b><br>Words: intercultural, telecollaboration, exchange, icc, in",
          "<b>Topic 3</b><br>Words: telecollaboration, intercultural, teacher, telecollaborative, and",
          "<b>Topic 3</b><br>Words: intercultural, cultural, telecollaboration, wechat, chinese",
          "<b>Topic 3</b><br>Words: ve, exchange, ves, intercultural, tpack",
          "<b>Topic 3</b><br>Words: cdl, ve, conceptualised, quot, hauck"
         ],
         "marker": {
          "color": "#F0E442"
         },
         "mode": "lines",
         "name": "3_intercultural_telecollaboration_teleco...",
         "type": "scatter",
         "x": [
          2013,
          2014,
          2015,
          2016,
          2017,
          2018,
          2019,
          2020,
          2021,
          2022,
          2023
         ],
         "y": [
          6,
          5,
          7,
          7,
          7,
          8,
          8,
          7,
          4,
          4,
          1
         ]
        },
        {
         "hoverinfo": "text",
         "hovertext": [
          "<b>Topic 4</b><br>Words: l2, scmc, language, research, tasks",
          "<b>Topic 4</b><br>Words: scmc, cmc, in, communication, face",
          "<b>Topic 4</b><br>Words: cmc, meta, f2f, effect, studies",
          "<b>Topic 4</b><br>Words: scmc, task, repetition, computer, in",
          "<b>Topic 4</b><br>Words: task, scmc, interaction, vt, in",
          "<b>Topic 4</b><br>Words: task, meta, interactional, l2, in",
          "<b>Topic 4</b><br>Words: vc, procedural, fluency, tasks, presentational",
          "<b>Topic 4</b><br>Words: nnests, nests, scmc, closing, l2",
          "<b>Topic 4</b><br>Words: spanish, interaction, etandem, communication, language",
          "<b>Topic 4</b><br>Words: recasts, emotions, audio, learners, chats",
          "<b>Topic 4</b><br>Words: css, environments, vc, vw, tasks"
         ],
         "marker": {
          "color": "#D55E00"
         },
         "mode": "lines",
         "name": "4_task_scmc_l2_in",
         "type": "scatter",
         "x": [
          2013,
          2014,
          2015,
          2016,
          2017,
          2018,
          2019,
          2020,
          2021,
          2022,
          2023
         ],
         "y": [
          6,
          8,
          7,
          8,
          11,
          8,
          3,
          3,
          4,
          3,
          1
         ]
        },
        {
         "hoverinfo": "text",
         "hovertext": [
          "<b>Topic 5</b><br>Words: the, of, health, physical, in",
          "<b>Topic 5</b><br>Words: the, health, of, is, school",
          "<b>Topic 5</b><br>Words: education, the, of, assessment, is",
          "<b>Topic 5</b><br>Words: parents, children, owing, like, stress"
         ],
         "marker": {
          "color": "#0072B2"
         },
         "mode": "lines",
         "name": "5_the_of_health_in",
         "type": "scatter",
         "x": [
          2015,
          2016,
          2017,
          2022
         ],
         "y": [
          25,
          22,
          6,
          1
         ]
        },
        {
         "hoverinfo": "text",
         "hovertext": [
          "<b>Topic 6</b><br>Words: security, cybersecurity, information, is, and",
          "<b>Topic 6</b><br>Words: security, case, cybersecurity, architecture, information",
          "<b>Topic 6</b><br>Words: cybersecurity, security, topics, threats, information",
          "<b>Topic 6</b><br>Words: security, infosec, cybersecurity, laboratory, camp",
          "<b>Topic 6</b><br>Words: security, cybersecurity, policies, ia, certifications",
          "<b>Topic 6</b><br>Words: cybersecurity, security, exercises, evl, high",
          "<b>Topic 6</b><br>Words: security, cybersecurity, cissp, quot, breaches",
          "<b>Topic 6</b><br>Words: cybersecurity, security, jobs, information, listed",
          "<b>Topic 6</b><br>Words: cybersecurity, security, abet, accreditation, cobit",
          "<b>Topic 6</b><br>Words: cyber, insurance, risk, cybersecurity, cybercrime"
         ],
         "marker": {
          "color": "#CC79A7"
         },
         "mode": "lines",
         "name": "6_security_cybersecurity_information_to",
         "type": "scatter",
         "x": [
          2013,
          2014,
          2015,
          2016,
          2017,
          2018,
          2019,
          2020,
          2021,
          2022
         ],
         "y": [
          11,
          4,
          5,
          4,
          4,
          6,
          2,
          7,
          6,
          1
         ]
        },
        {
         "hoverinfo": "text",
         "hovertext": [
          "<b>Topic 7</b><br>Words: mobile, learning, mall, language, the",
          "<b>Topic 7</b><br>Words: mall, mobile, application, curricular, language",
          "<b>Topic 7</b><br>Words: mall, studies, mobile, learning, over",
          "<b>Topic 7</b><br>Words: mobile, note, learning, taking, devices",
          "<b>Topic 7</b><br>Words: mobile, learning, language, apple, devices",
          "<b>Topic 7</b><br>Words: mobile, learning, mall, apps, language",
          "<b>Topic 7</b><br>Words: mobile, learning, duolingo, evlapp, mall",
          "<b>Topic 7</b><br>Words: l2, mobile, mall, app, learning",
          "<b>Topic 7</b><br>Words: mobile, tblt, mall, learning, regulation",
          "<b>Topic 7</b><br>Words: mobile, learning, experimental, language, mall"
         ],
         "marker": {
          "color": "#E69F00"
         },
         "mode": "lines",
         "name": "7_mobile_mall_learning_language",
         "type": "scatter",
         "x": [
          2013,
          2014,
          2015,
          2016,
          2017,
          2018,
          2019,
          2020,
          2021,
          2022
         ],
         "y": [
          9,
          4,
          2,
          3,
          5,
          6,
          5,
          2,
          4,
          4
         ]
        },
        {
         "hoverinfo": "text",
         "hovertext": [
          "<b>Topic 8</b><br>Words: internet, teachers, call, eap, language",
          "<b>Topic 8</b><br>Words: teachers, call, efl, iranian, service",
          "<b>Topic 8</b><br>Words: teachers, call, tpack, teacher, technology",
          "<b>Topic 8</b><br>Words: tpack, teachers, efl, call, technology",
          "<b>Topic 8</b><br>Words: call, teachers, tpack, language, fl",
          "<b>Topic 8</b><br>Words: technological, language, tpack, teachers, experiences",
          "<b>Topic 8</b><br>Words: technology, teachers, language, call, english",
          "<b>Topic 8</b><br>Words: teachers, technology, young, language, pd",
          "<b>Topic 8</b><br>Words: tesol, ttst, standards, healey, et",
          "<b>Topic 8</b><br>Words: tpack, teachers, junior, call, digital"
         ],
         "marker": {
          "color": "#56B4E9"
         },
         "mode": "lines",
         "name": "8_teachers_tpack_call_technology",
         "type": "scatter",
         "x": [
          2013,
          2014,
          2015,
          2016,
          2017,
          2018,
          2019,
          2020,
          2021,
          2022
         ],
         "y": [
          5,
          2,
          6,
          6,
          6,
          5,
          4,
          4,
          1,
          5
         ]
        },
        {
         "hoverinfo": "text",
         "hovertext": [
          "<b>Topic 9</b><br>Words: icf, mispronunciations, pronunciation, listening, taiwanese",
          "<b>Topic 9</b><br>Words: pronunciation, tongue, production, acoustic, speech",
          "<b>Topic 9</b><br>Words: pronunciation, asr, recognition, speech, word",
          "<b>Topic 9</b><br>Words: pronunciation, training, instruction, asr, word",
          "<b>Topic 9</b><br>Words: wrs, pronunciation, proficiency, tts, word",
          "<b>Topic 9</b><br>Words: psl, pakistan, deaf, perception, pronunciation",
          "<b>Topic 9</b><br>Words: pronunciation, capt, asr, dictation, training",
          "<b>Topic 9</b><br>Words: pronunciation, training, asr, production, instruction",
          "<b>Topic 9</b><br>Words: transcription, allophonic, midterm, ci, learners",
          "<b>Topic 9</b><br>Words: asr, pronunciation, speech, speaking, flsa",
          "<b>Topic 9</b><br>Words: asr, listeners, srt, speech, pronunciation"
         ],
         "marker": {
          "color": "#009E73"
         },
         "mode": "lines",
         "name": "9_pronunciation_asr_speech_production",
         "type": "scatter",
         "x": [
          2013,
          2014,
          2015,
          2016,
          2017,
          2018,
          2019,
          2020,
          2021,
          2022,
          2023
         ],
         "y": [
          2,
          4,
          6,
          7,
          4,
          2,
          3,
          5,
          1,
          4,
          2
         ]
        }
       ],
       "layout": {
        "height": 450,
        "hoverlabel": {
         "bgcolor": "white",
         "font": {
          "family": "Rockwell",
          "size": 16
         }
        },
        "legend": {
         "title": {
          "text": "<b>Global Topic Representation"
         }
        },
        "template": {
         "data": {
          "bar": [
           {
            "error_x": {
             "color": "rgb(36,36,36)"
            },
            "error_y": {
             "color": "rgb(36,36,36)"
            },
            "marker": {
             "line": {
              "color": "white",
              "width": 0.5
             },
             "pattern": {
              "fillmode": "overlay",
              "size": 10,
              "solidity": 0.2
             }
            },
            "type": "bar"
           }
          ],
          "barpolar": [
           {
            "marker": {
             "line": {
              "color": "white",
              "width": 0.5
             },
             "pattern": {
              "fillmode": "overlay",
              "size": 10,
              "solidity": 0.2
             }
            },
            "type": "barpolar"
           }
          ],
          "carpet": [
           {
            "aaxis": {
             "endlinecolor": "rgb(36,36,36)",
             "gridcolor": "white",
             "linecolor": "white",
             "minorgridcolor": "white",
             "startlinecolor": "rgb(36,36,36)"
            },
            "baxis": {
             "endlinecolor": "rgb(36,36,36)",
             "gridcolor": "white",
             "linecolor": "white",
             "minorgridcolor": "white",
             "startlinecolor": "rgb(36,36,36)"
            },
            "type": "carpet"
           }
          ],
          "choropleth": [
           {
            "colorbar": {
             "outlinewidth": 1,
             "tickcolor": "rgb(36,36,36)",
             "ticks": "outside"
            },
            "type": "choropleth"
           }
          ],
          "contour": [
           {
            "colorbar": {
             "outlinewidth": 1,
             "tickcolor": "rgb(36,36,36)",
             "ticks": "outside"
            },
            "colorscale": [
             [
              0,
              "#440154"
             ],
             [
              0.1111111111111111,
              "#482878"
             ],
             [
              0.2222222222222222,
              "#3e4989"
             ],
             [
              0.3333333333333333,
              "#31688e"
             ],
             [
              0.4444444444444444,
              "#26828e"
             ],
             [
              0.5555555555555556,
              "#1f9e89"
             ],
             [
              0.6666666666666666,
              "#35b779"
             ],
             [
              0.7777777777777778,
              "#6ece58"
             ],
             [
              0.8888888888888888,
              "#b5de2b"
             ],
             [
              1,
              "#fde725"
             ]
            ],
            "type": "contour"
           }
          ],
          "contourcarpet": [
           {
            "colorbar": {
             "outlinewidth": 1,
             "tickcolor": "rgb(36,36,36)",
             "ticks": "outside"
            },
            "type": "contourcarpet"
           }
          ],
          "heatmap": [
           {
            "colorbar": {
             "outlinewidth": 1,
             "tickcolor": "rgb(36,36,36)",
             "ticks": "outside"
            },
            "colorscale": [
             [
              0,
              "#440154"
             ],
             [
              0.1111111111111111,
              "#482878"
             ],
             [
              0.2222222222222222,
              "#3e4989"
             ],
             [
              0.3333333333333333,
              "#31688e"
             ],
             [
              0.4444444444444444,
              "#26828e"
             ],
             [
              0.5555555555555556,
              "#1f9e89"
             ],
             [
              0.6666666666666666,
              "#35b779"
             ],
             [
              0.7777777777777778,
              "#6ece58"
             ],
             [
              0.8888888888888888,
              "#b5de2b"
             ],
             [
              1,
              "#fde725"
             ]
            ],
            "type": "heatmap"
           }
          ],
          "heatmapgl": [
           {
            "colorbar": {
             "outlinewidth": 1,
             "tickcolor": "rgb(36,36,36)",
             "ticks": "outside"
            },
            "colorscale": [
             [
              0,
              "#440154"
             ],
             [
              0.1111111111111111,
              "#482878"
             ],
             [
              0.2222222222222222,
              "#3e4989"
             ],
             [
              0.3333333333333333,
              "#31688e"
             ],
             [
              0.4444444444444444,
              "#26828e"
             ],
             [
              0.5555555555555556,
              "#1f9e89"
             ],
             [
              0.6666666666666666,
              "#35b779"
             ],
             [
              0.7777777777777778,
              "#6ece58"
             ],
             [
              0.8888888888888888,
              "#b5de2b"
             ],
             [
              1,
              "#fde725"
             ]
            ],
            "type": "heatmapgl"
           }
          ],
          "histogram": [
           {
            "marker": {
             "line": {
              "color": "white",
              "width": 0.6
             }
            },
            "type": "histogram"
           }
          ],
          "histogram2d": [
           {
            "colorbar": {
             "outlinewidth": 1,
             "tickcolor": "rgb(36,36,36)",
             "ticks": "outside"
            },
            "colorscale": [
             [
              0,
              "#440154"
             ],
             [
              0.1111111111111111,
              "#482878"
             ],
             [
              0.2222222222222222,
              "#3e4989"
             ],
             [
              0.3333333333333333,
              "#31688e"
             ],
             [
              0.4444444444444444,
              "#26828e"
             ],
             [
              0.5555555555555556,
              "#1f9e89"
             ],
             [
              0.6666666666666666,
              "#35b779"
             ],
             [
              0.7777777777777778,
              "#6ece58"
             ],
             [
              0.8888888888888888,
              "#b5de2b"
             ],
             [
              1,
              "#fde725"
             ]
            ],
            "type": "histogram2d"
           }
          ],
          "histogram2dcontour": [
           {
            "colorbar": {
             "outlinewidth": 1,
             "tickcolor": "rgb(36,36,36)",
             "ticks": "outside"
            },
            "colorscale": [
             [
              0,
              "#440154"
             ],
             [
              0.1111111111111111,
              "#482878"
             ],
             [
              0.2222222222222222,
              "#3e4989"
             ],
             [
              0.3333333333333333,
              "#31688e"
             ],
             [
              0.4444444444444444,
              "#26828e"
             ],
             [
              0.5555555555555556,
              "#1f9e89"
             ],
             [
              0.6666666666666666,
              "#35b779"
             ],
             [
              0.7777777777777778,
              "#6ece58"
             ],
             [
              0.8888888888888888,
              "#b5de2b"
             ],
             [
              1,
              "#fde725"
             ]
            ],
            "type": "histogram2dcontour"
           }
          ],
          "mesh3d": [
           {
            "colorbar": {
             "outlinewidth": 1,
             "tickcolor": "rgb(36,36,36)",
             "ticks": "outside"
            },
            "type": "mesh3d"
           }
          ],
          "parcoords": [
           {
            "line": {
             "colorbar": {
              "outlinewidth": 1,
              "tickcolor": "rgb(36,36,36)",
              "ticks": "outside"
             }
            },
            "type": "parcoords"
           }
          ],
          "pie": [
           {
            "automargin": true,
            "type": "pie"
           }
          ],
          "scatter": [
           {
            "fillpattern": {
             "fillmode": "overlay",
             "size": 10,
             "solidity": 0.2
            },
            "type": "scatter"
           }
          ],
          "scatter3d": [
           {
            "line": {
             "colorbar": {
              "outlinewidth": 1,
              "tickcolor": "rgb(36,36,36)",
              "ticks": "outside"
             }
            },
            "marker": {
             "colorbar": {
              "outlinewidth": 1,
              "tickcolor": "rgb(36,36,36)",
              "ticks": "outside"
             }
            },
            "type": "scatter3d"
           }
          ],
          "scattercarpet": [
           {
            "marker": {
             "colorbar": {
              "outlinewidth": 1,
              "tickcolor": "rgb(36,36,36)",
              "ticks": "outside"
             }
            },
            "type": "scattercarpet"
           }
          ],
          "scattergeo": [
           {
            "marker": {
             "colorbar": {
              "outlinewidth": 1,
              "tickcolor": "rgb(36,36,36)",
              "ticks": "outside"
             }
            },
            "type": "scattergeo"
           }
          ],
          "scattergl": [
           {
            "marker": {
             "colorbar": {
              "outlinewidth": 1,
              "tickcolor": "rgb(36,36,36)",
              "ticks": "outside"
             }
            },
            "type": "scattergl"
           }
          ],
          "scattermapbox": [
           {
            "marker": {
             "colorbar": {
              "outlinewidth": 1,
              "tickcolor": "rgb(36,36,36)",
              "ticks": "outside"
             }
            },
            "type": "scattermapbox"
           }
          ],
          "scatterpolar": [
           {
            "marker": {
             "colorbar": {
              "outlinewidth": 1,
              "tickcolor": "rgb(36,36,36)",
              "ticks": "outside"
             }
            },
            "type": "scatterpolar"
           }
          ],
          "scatterpolargl": [
           {
            "marker": {
             "colorbar": {
              "outlinewidth": 1,
              "tickcolor": "rgb(36,36,36)",
              "ticks": "outside"
             }
            },
            "type": "scatterpolargl"
           }
          ],
          "scatterternary": [
           {
            "marker": {
             "colorbar": {
              "outlinewidth": 1,
              "tickcolor": "rgb(36,36,36)",
              "ticks": "outside"
             }
            },
            "type": "scatterternary"
           }
          ],
          "surface": [
           {
            "colorbar": {
             "outlinewidth": 1,
             "tickcolor": "rgb(36,36,36)",
             "ticks": "outside"
            },
            "colorscale": [
             [
              0,
              "#440154"
             ],
             [
              0.1111111111111111,
              "#482878"
             ],
             [
              0.2222222222222222,
              "#3e4989"
             ],
             [
              0.3333333333333333,
              "#31688e"
             ],
             [
              0.4444444444444444,
              "#26828e"
             ],
             [
              0.5555555555555556,
              "#1f9e89"
             ],
             [
              0.6666666666666666,
              "#35b779"
             ],
             [
              0.7777777777777778,
              "#6ece58"
             ],
             [
              0.8888888888888888,
              "#b5de2b"
             ],
             [
              1,
              "#fde725"
             ]
            ],
            "type": "surface"
           }
          ],
          "table": [
           {
            "cells": {
             "fill": {
              "color": "rgb(237,237,237)"
             },
             "line": {
              "color": "white"
             }
            },
            "header": {
             "fill": {
              "color": "rgb(217,217,217)"
             },
             "line": {
              "color": "white"
             }
            },
            "type": "table"
           }
          ]
         },
         "layout": {
          "annotationdefaults": {
           "arrowhead": 0,
           "arrowwidth": 1
          },
          "autotypenumbers": "strict",
          "coloraxis": {
           "colorbar": {
            "outlinewidth": 1,
            "tickcolor": "rgb(36,36,36)",
            "ticks": "outside"
           }
          },
          "colorscale": {
           "diverging": [
            [
             0,
             "rgb(103,0,31)"
            ],
            [
             0.1,
             "rgb(178,24,43)"
            ],
            [
             0.2,
             "rgb(214,96,77)"
            ],
            [
             0.3,
             "rgb(244,165,130)"
            ],
            [
             0.4,
             "rgb(253,219,199)"
            ],
            [
             0.5,
             "rgb(247,247,247)"
            ],
            [
             0.6,
             "rgb(209,229,240)"
            ],
            [
             0.7,
             "rgb(146,197,222)"
            ],
            [
             0.8,
             "rgb(67,147,195)"
            ],
            [
             0.9,
             "rgb(33,102,172)"
            ],
            [
             1,
             "rgb(5,48,97)"
            ]
           ],
           "sequential": [
            [
             0,
             "#440154"
            ],
            [
             0.1111111111111111,
             "#482878"
            ],
            [
             0.2222222222222222,
             "#3e4989"
            ],
            [
             0.3333333333333333,
             "#31688e"
            ],
            [
             0.4444444444444444,
             "#26828e"
            ],
            [
             0.5555555555555556,
             "#1f9e89"
            ],
            [
             0.6666666666666666,
             "#35b779"
            ],
            [
             0.7777777777777778,
             "#6ece58"
            ],
            [
             0.8888888888888888,
             "#b5de2b"
            ],
            [
             1,
             "#fde725"
            ]
           ],
           "sequentialminus": [
            [
             0,
             "#440154"
            ],
            [
             0.1111111111111111,
             "#482878"
            ],
            [
             0.2222222222222222,
             "#3e4989"
            ],
            [
             0.3333333333333333,
             "#31688e"
            ],
            [
             0.4444444444444444,
             "#26828e"
            ],
            [
             0.5555555555555556,
             "#1f9e89"
            ],
            [
             0.6666666666666666,
             "#35b779"
            ],
            [
             0.7777777777777778,
             "#6ece58"
            ],
            [
             0.8888888888888888,
             "#b5de2b"
            ],
            [
             1,
             "#fde725"
            ]
           ]
          },
          "colorway": [
           "#1F77B4",
           "#FF7F0E",
           "#2CA02C",
           "#D62728",
           "#9467BD",
           "#8C564B",
           "#E377C2",
           "#7F7F7F",
           "#BCBD22",
           "#17BECF"
          ],
          "font": {
           "color": "rgb(36,36,36)"
          },
          "geo": {
           "bgcolor": "white",
           "lakecolor": "white",
           "landcolor": "white",
           "showlakes": true,
           "showland": true,
           "subunitcolor": "white"
          },
          "hoverlabel": {
           "align": "left"
          },
          "hovermode": "closest",
          "mapbox": {
           "style": "light"
          },
          "paper_bgcolor": "white",
          "plot_bgcolor": "white",
          "polar": {
           "angularaxis": {
            "gridcolor": "rgb(232,232,232)",
            "linecolor": "rgb(36,36,36)",
            "showgrid": false,
            "showline": true,
            "ticks": "outside"
           },
           "bgcolor": "white",
           "radialaxis": {
            "gridcolor": "rgb(232,232,232)",
            "linecolor": "rgb(36,36,36)",
            "showgrid": false,
            "showline": true,
            "ticks": "outside"
           }
          },
          "scene": {
           "xaxis": {
            "backgroundcolor": "white",
            "gridcolor": "rgb(232,232,232)",
            "gridwidth": 2,
            "linecolor": "rgb(36,36,36)",
            "showbackground": true,
            "showgrid": false,
            "showline": true,
            "ticks": "outside",
            "zeroline": false,
            "zerolinecolor": "rgb(36,36,36)"
           },
           "yaxis": {
            "backgroundcolor": "white",
            "gridcolor": "rgb(232,232,232)",
            "gridwidth": 2,
            "linecolor": "rgb(36,36,36)",
            "showbackground": true,
            "showgrid": false,
            "showline": true,
            "ticks": "outside",
            "zeroline": false,
            "zerolinecolor": "rgb(36,36,36)"
           },
           "zaxis": {
            "backgroundcolor": "white",
            "gridcolor": "rgb(232,232,232)",
            "gridwidth": 2,
            "linecolor": "rgb(36,36,36)",
            "showbackground": true,
            "showgrid": false,
            "showline": true,
            "ticks": "outside",
            "zeroline": false,
            "zerolinecolor": "rgb(36,36,36)"
           }
          },
          "shapedefaults": {
           "fillcolor": "black",
           "line": {
            "width": 0
           },
           "opacity": 0.3
          },
          "ternary": {
           "aaxis": {
            "gridcolor": "rgb(232,232,232)",
            "linecolor": "rgb(36,36,36)",
            "showgrid": false,
            "showline": true,
            "ticks": "outside"
           },
           "baxis": {
            "gridcolor": "rgb(232,232,232)",
            "linecolor": "rgb(36,36,36)",
            "showgrid": false,
            "showline": true,
            "ticks": "outside"
           },
           "bgcolor": "white",
           "caxis": {
            "gridcolor": "rgb(232,232,232)",
            "linecolor": "rgb(36,36,36)",
            "showgrid": false,
            "showline": true,
            "ticks": "outside"
           }
          },
          "title": {
           "x": 0.05
          },
          "xaxis": {
           "automargin": true,
           "gridcolor": "rgb(232,232,232)",
           "linecolor": "rgb(36,36,36)",
           "showgrid": false,
           "showline": true,
           "ticks": "outside",
           "title": {
            "standoff": 15
           },
           "zeroline": false,
           "zerolinecolor": "rgb(36,36,36)"
          },
          "yaxis": {
           "automargin": true,
           "gridcolor": "rgb(232,232,232)",
           "linecolor": "rgb(36,36,36)",
           "showgrid": false,
           "showline": true,
           "ticks": "outside",
           "title": {
            "standoff": 15
           },
           "zeroline": false,
           "zerolinecolor": "rgb(36,36,36)"
          }
         }
        },
        "title": {
         "font": {
          "color": "Black",
          "size": 22
         },
         "text": "<b>Topics over Time</b>",
         "x": 0.4,
         "xanchor": "center",
         "y": 0.95,
         "yanchor": "top"
        },
        "width": 1250,
        "xaxis": {
         "showgrid": true
        },
        "yaxis": {
         "showgrid": true,
         "title": {
          "text": "Frequency"
         }
        }
       }
      }
     },
     "metadata": {},
     "output_type": "display_data"
    }
   ],
   "source": [
    "model.visualize_topics_over_time(topics_over_time, topics=[0, 1, 2, 3, 4, 5, 6, 7, 8, 9])\n",
    "#can innclude topics changing topics_over_time TO topics_over_time, topics=[x, y, z, etc.]"
   ]
  },
  {
   "cell_type": "code",
   "execution_count": 58,
   "metadata": {},
   "outputs": [
    {
     "data": {
      "application/vnd.plotly.v1+json": {
       "config": {
        "plotlyServerURL": "https://plot.ly"
       },
       "data": [
        {
         "hoverinfo": "text",
         "hovertext": [
          "<b>Topic 10</b><br>Words: database, query, case, architecture, relational",
          "<b>Topic 10</b><br>Words: database, logic, case, design, voting",
          "<b>Topic 10</b><br>Words: database, case, data, design, business",
          "<b>Topic 10</b><br>Words: database, café, data, sql, case",
          "<b>Topic 10</b><br>Words: database, case, carol, business, sa",
          "<b>Topic 10</b><br>Words: database, case, data, f1, world",
          "<b>Topic 10</b><br>Words: sql, query, database, case, organization",
          "<b>Topic 10</b><br>Words: database, case, data, legacy, system",
          "<b>Topic 10</b><br>Words: case, diagrams, database, systems, interdependent",
          "<b>Topic 10</b><br>Words: database, case, sql, data, mark"
         ],
         "marker": {
          "color": "#E69F00"
         },
         "mode": "lines",
         "name": "10_database_case_data_sql",
         "type": "scatter",
         "x": [
          2013,
          2014,
          2015,
          2016,
          2017,
          2018,
          2019,
          2020,
          2021,
          2022
         ],
         "y": [
          6,
          3,
          9,
          2,
          3,
          4,
          3,
          3,
          2,
          4
         ]
        },
        {
         "hoverinfo": "text",
         "hovertext": [
          "<b>Topic 11</b><br>Words: game, gaming, culture, playing, games",
          "<b>Topic 11</b><br>Words: game, gaming, games, digital, playing",
          "<b>Topic 11</b><br>Words: game, games, pupils, digital, gameplay",
          "<b>Topic 11</b><br>Words: game, games, wow, activities, players",
          "<b>Topic 11</b><br>Words: game, gaming, games, language, playing",
          "<b>Topic 11</b><br>Words: game, spaceteam, gaming, fluency, esl",
          "<b>Topic 11</b><br>Words: game, vocabulary, games, l2, mevla",
          "<b>Topic 11</b><br>Words: gaming, game, quot, games, dgbll",
          "<b>Topic 11</b><br>Words: flow, game, dgbvl, positively, vocabulary",
          "<b>Topic 11</b><br>Words: game, dgbll, mechanics, games, digital"
         ],
         "marker": {
          "color": "#56B4E9"
         },
         "mode": "lines",
         "name": "11_game_games_gaming_language",
         "type": "scatter",
         "x": [
          2013,
          2014,
          2015,
          2016,
          2017,
          2018,
          2019,
          2020,
          2021,
          2022
         ],
         "y": [
          1,
          5,
          4,
          4,
          6,
          2,
          6,
          4,
          3,
          2
         ]
        },
        {
         "hoverinfo": "text",
         "hovertext": [
          "<b>Topic 12</b><br>Words: synthetic, communication, worlds, nonverbal, acts",
          "<b>Topic 12</b><br>Words: mandarin, overseas, sl, chinese, oral",
          "<b>Topic 12</b><br>Words: virtual, 3d, teacher, the, environment",
          "<b>Topic 12</b><br>Words: virtual, language, gap, learning, worlds",
          "<b>Topic 12</b><br>Words: anonymity, vw, fla, cr, group",
          "<b>Topic 12</b><br>Words: virtual, 3d, worlds, participants, method",
          "<b>Topic 12</b><br>Words: chinese, immersive, identical, sl, writing",
          "<b>Topic 12</b><br>Words: vr, virtual, ar, were, the",
          "<b>Topic 12</b><br>Words: vr, reality, virtual, task, the",
          "<b>Topic 12</b><br>Words: vr, anxiety, virtual, learning, the"
         ],
         "marker": {
          "color": "#009E73"
         },
         "mode": "lines",
         "name": "12_vr_virtual_the_learning",
         "type": "scatter",
         "x": [
          2013,
          2014,
          2015,
          2016,
          2017,
          2018,
          2019,
          2020,
          2021,
          2022
         ],
         "y": [
          1,
          1,
          7,
          3,
          1,
          4,
          2,
          6,
          6,
          5
         ]
        },
        {
         "hoverinfo": "text",
         "hovertext": [
          "<b>Topic 13</b><br>Words: programming, elegant, introductory, instruction, students",
          "<b>Topic 13</b><br>Words: narration, screencasts, spacecraft, personalized, programming",
          "<b>Topic 13</b><br>Words: programming, agent, screencasts, assessments, created",
          "<b>Topic 13</b><br>Words: tutorial, programming, misconceptions, software, errors",
          "<b>Topic 13</b><br>Words: srl, programming, modified, framework, videos",
          "<b>Topic 13</b><br>Words: tutorials, code, hour, programming, content",
          "<b>Topic 13</b><br>Words: programming, srl, assignment, students, learning",
          "<b>Topic 13</b><br>Words: programming, teaching, we, introductory, students",
          "<b>Topic 13</b><br>Words: programming, shallow, computer, efficacy, self",
          "<b>Topic 13</b><br>Words: programming, aaad, teaching, agent, small"
         ],
         "marker": {
          "color": "#F0E442"
         },
         "mode": "lines",
         "name": "13_programming_students_introductory_to",
         "type": "scatter",
         "x": [
          2013,
          2014,
          2015,
          2016,
          2017,
          2018,
          2019,
          2020,
          2021,
          2022
         ],
         "y": [
          4,
          4,
          2,
          3,
          3,
          1,
          5,
          6,
          4,
          4
         ]
        },
        {
         "hoverinfo": "text",
         "hovertext": [
          "<b>Topic 14</b><br>Words: reading, strategies, strategy, factor, efl",
          "<b>Topic 14</b><br>Words: reading, vocabulary, strategy, comprehension, readers",
          "<b>Topic 14</b><br>Words: reading, proficient, book, comprehension, annotations",
          "<b>Topic 14</b><br>Words: reading, books, multisensory, extensive, readers",
          "<b>Topic 14</b><br>Words: reading, annotations, rt, progress, reciprocal",
          "<b>Topic 14</b><br>Words: ts, wiss, ns, strategy, group",
          "<b>Topic 14</b><br>Words: reading, comprehension, development, mall, were",
          "<b>Topic 14</b><br>Words: reading, programs, computer, risk, basic",
          "<b>Topic 14</b><br>Words: reading, read, children, mobile, efl"
         ],
         "marker": {
          "color": "#D55E00"
         },
         "mode": "lines",
         "name": "14_reading_comprehension_strategy_strate...",
         "type": "scatter",
         "x": [
          2013,
          2014,
          2015,
          2016,
          2017,
          2019,
          2020,
          2021,
          2022
         ],
         "y": [
          4,
          4,
          5,
          7,
          1,
          2,
          3,
          1,
          2
         ]
        },
        {
         "hoverinfo": "text",
         "hovertext": [
          "<b>Topic 15</b><br>Words: writers, participatory, multilingual, collaborative, identities",
          "<b>Topic 15</b><br>Words: microblogging, vignettes, constructions, tweets, twitter",
          "<b>Topic 15</b><br>Words: language, online, netnography, in, communities",
          "<b>Topic 15</b><br>Words: online, esol, identity, phase, discourse",
          "<b>Topic 15</b><br>Words: amp, reading, literary, affordances, poetry",
          "<b>Topic 15</b><br>Words: positioning, acmc, language, community, online",
          "<b>Topic 15</b><br>Words: language, social, learners, media, ideologies",
          "<b>Topic 15</b><br>Words: online, language, identities, relational, social",
          "<b>Topic 15</b><br>Words: identity, digital, literacies, language, broadly"
         ],
         "marker": {
          "color": "#0072B2"
         },
         "mode": "lines",
         "name": "15_language_online_and_in",
         "type": "scatter",
         "x": [
          2013,
          2014,
          2015,
          2016,
          2017,
          2018,
          2019,
          2020,
          2021
         ],
         "y": [
          2,
          1,
          7,
          3,
          2,
          3,
          3,
          4,
          2
         ]
        },
        {
         "hoverinfo": "text",
         "hovertext": [
          "<b>Topic 16</b><br>Words: call, of, learners, design, learning",
          "<b>Topic 16</b><br>Words: internal, external, call, typology, environmental",
          "<b>Topic 16</b><br>Words: runyakitara, ru_call, evaluation, language, system",
          "<b>Topic 16</b><br>Words: call, vol, num, language, quot",
          "<b>Topic 16</b><br>Words: quot, call, learning, design, synergies",
          "<b>Topic 16</b><br>Words: call, learning, mctl, lctl, lctls",
          "<b>Topic 16</b><br>Words: call, afrikaans, transdisciplinary, transdisciplinarity, programme",
          "<b>Topic 16</b><br>Words: call, quot, products, language, research",
          "<b>Topic 16</b><br>Words: call, ssl, design, language, learning",
          "<b>Topic 16</b><br>Words: normalisation, call, bax, corpora, ddl"
         ],
         "marker": {
          "color": "#CC79A7"
         },
         "mode": "lines",
         "name": "16_call_language_learning_quot",
         "type": "scatter",
         "x": [
          2013,
          2014,
          2015,
          2016,
          2017,
          2018,
          2019,
          2020,
          2021,
          2022
         ],
         "y": [
          7,
          1,
          1,
          5,
          1,
          2,
          2,
          2,
          4,
          1
         ]
        },
        {
         "hoverinfo": "text",
         "hovertext": [
          "<b>Topic 17</b><br>Words: sizes, efficacy, effect, self, interval",
          "<b>Topic 17</b><br>Words: emergency, disaster, online, schools, school",
          "<b>Topic 17</b><br>Words: distance, enroll, education, college, postsecondary",
          "<b>Topic 17</b><br>Words: pandemic, covid, 19, indies, west",
          "<b>Topic 17</b><br>Words: pandemic, covid, 19, online, education",
          "<b>Topic 17</b><br>Words: pandemic, covid, online, 19, faculty"
         ],
         "marker": {
          "color": "#E69F00"
         },
         "mode": "lines",
         "name": "17_pandemic_covid_online_19",
         "type": "scatter",
         "x": [
          2013,
          2016,
          2017,
          2020,
          2021,
          2022
         ],
         "y": [
          1,
          2,
          1,
          3,
          10,
          9
         ]
        },
        {
         "hoverinfo": "text",
         "hovertext": [
          "<b>Topic 18</b><br>Words: teams, team, projects, project, teamwork",
          "<b>Topic 18</b><br>Words: interdisciplinary, collaborative, team, real, case",
          "<b>Topic 18</b><br>Words: projects, experiential, manage, teams, cases",
          "<b>Topic 18</b><br>Words: projects, project, to, students, creativity",
          "<b>Topic 18</b><br>Words: eq, project, management, soft, skills",
          "<b>Topic 18</b><br>Words: assignments, teams, business, group, within",
          "<b>Topic 18</b><br>Words: team, cohesiveness, app, messaging, sense",
          "<b>Topic 18</b><br>Words: pm, problems, discussion, project, group",
          "<b>Topic 18</b><br>Words: pbl, teamwork, interdisciplinary, assignment, assignments"
         ],
         "marker": {
          "color": "#56B4E9"
         },
         "mode": "lines",
         "name": "18_teams_project_projects_team",
         "type": "scatter",
         "x": [
          2013,
          2014,
          2015,
          2016,
          2017,
          2018,
          2019,
          2020,
          2021
         ],
         "y": [
          6,
          2,
          3,
          6,
          1,
          1,
          1,
          3,
          3
         ]
        },
        {
         "hoverinfo": "text",
         "hovertext": [
          "<b>Topic 19</b><br>Words: game, prompts, gamification, dsg, games",
          "<b>Topic 19</b><br>Words: game, gamification, games, personalized, learning",
          "<b>Topic 19</b><br>Words: gamification, game, badging, games, motivation",
          "<b>Topic 19</b><br>Words: gamification, gamified, gamers, game, games",
          "<b>Topic 19</b><br>Words: games, gamification, game, serious, coins",
          "<b>Topic 19</b><br>Words: elements, gamification, game, motivational, occurring",
          "<b>Topic 19</b><br>Words: games, game, competition, serious, gamification",
          "<b>Topic 19</b><br>Words: gamification, road, game, education, theme",
          "<b>Topic 19</b><br>Words: gamification, lesl, gamified, learning, outcomes",
          "<b>Topic 19</b><br>Words: kahoot, gamification, gamifying, curiosity, epistemic"
         ],
         "marker": {
          "color": "#009E73"
         },
         "mode": "lines",
         "name": "19_gamification_game_games_kahoot",
         "type": "scatter",
         "x": [
          2013,
          2014,
          2015,
          2016,
          2017,
          2018,
          2019,
          2020,
          2021,
          2022
         ],
         "y": [
          3,
          2,
          3,
          1,
          3,
          1,
          3,
          2,
          3,
          2
         ]
        }
       ],
       "layout": {
        "height": 450,
        "hoverlabel": {
         "bgcolor": "white",
         "font": {
          "family": "Rockwell",
          "size": 16
         }
        },
        "legend": {
         "title": {
          "text": "<b>Global Topic Representation"
         }
        },
        "template": {
         "data": {
          "bar": [
           {
            "error_x": {
             "color": "rgb(36,36,36)"
            },
            "error_y": {
             "color": "rgb(36,36,36)"
            },
            "marker": {
             "line": {
              "color": "white",
              "width": 0.5
             },
             "pattern": {
              "fillmode": "overlay",
              "size": 10,
              "solidity": 0.2
             }
            },
            "type": "bar"
           }
          ],
          "barpolar": [
           {
            "marker": {
             "line": {
              "color": "white",
              "width": 0.5
             },
             "pattern": {
              "fillmode": "overlay",
              "size": 10,
              "solidity": 0.2
             }
            },
            "type": "barpolar"
           }
          ],
          "carpet": [
           {
            "aaxis": {
             "endlinecolor": "rgb(36,36,36)",
             "gridcolor": "white",
             "linecolor": "white",
             "minorgridcolor": "white",
             "startlinecolor": "rgb(36,36,36)"
            },
            "baxis": {
             "endlinecolor": "rgb(36,36,36)",
             "gridcolor": "white",
             "linecolor": "white",
             "minorgridcolor": "white",
             "startlinecolor": "rgb(36,36,36)"
            },
            "type": "carpet"
           }
          ],
          "choropleth": [
           {
            "colorbar": {
             "outlinewidth": 1,
             "tickcolor": "rgb(36,36,36)",
             "ticks": "outside"
            },
            "type": "choropleth"
           }
          ],
          "contour": [
           {
            "colorbar": {
             "outlinewidth": 1,
             "tickcolor": "rgb(36,36,36)",
             "ticks": "outside"
            },
            "colorscale": [
             [
              0,
              "#440154"
             ],
             [
              0.1111111111111111,
              "#482878"
             ],
             [
              0.2222222222222222,
              "#3e4989"
             ],
             [
              0.3333333333333333,
              "#31688e"
             ],
             [
              0.4444444444444444,
              "#26828e"
             ],
             [
              0.5555555555555556,
              "#1f9e89"
             ],
             [
              0.6666666666666666,
              "#35b779"
             ],
             [
              0.7777777777777778,
              "#6ece58"
             ],
             [
              0.8888888888888888,
              "#b5de2b"
             ],
             [
              1,
              "#fde725"
             ]
            ],
            "type": "contour"
           }
          ],
          "contourcarpet": [
           {
            "colorbar": {
             "outlinewidth": 1,
             "tickcolor": "rgb(36,36,36)",
             "ticks": "outside"
            },
            "type": "contourcarpet"
           }
          ],
          "heatmap": [
           {
            "colorbar": {
             "outlinewidth": 1,
             "tickcolor": "rgb(36,36,36)",
             "ticks": "outside"
            },
            "colorscale": [
             [
              0,
              "#440154"
             ],
             [
              0.1111111111111111,
              "#482878"
             ],
             [
              0.2222222222222222,
              "#3e4989"
             ],
             [
              0.3333333333333333,
              "#31688e"
             ],
             [
              0.4444444444444444,
              "#26828e"
             ],
             [
              0.5555555555555556,
              "#1f9e89"
             ],
             [
              0.6666666666666666,
              "#35b779"
             ],
             [
              0.7777777777777778,
              "#6ece58"
             ],
             [
              0.8888888888888888,
              "#b5de2b"
             ],
             [
              1,
              "#fde725"
             ]
            ],
            "type": "heatmap"
           }
          ],
          "heatmapgl": [
           {
            "colorbar": {
             "outlinewidth": 1,
             "tickcolor": "rgb(36,36,36)",
             "ticks": "outside"
            },
            "colorscale": [
             [
              0,
              "#440154"
             ],
             [
              0.1111111111111111,
              "#482878"
             ],
             [
              0.2222222222222222,
              "#3e4989"
             ],
             [
              0.3333333333333333,
              "#31688e"
             ],
             [
              0.4444444444444444,
              "#26828e"
             ],
             [
              0.5555555555555556,
              "#1f9e89"
             ],
             [
              0.6666666666666666,
              "#35b779"
             ],
             [
              0.7777777777777778,
              "#6ece58"
             ],
             [
              0.8888888888888888,
              "#b5de2b"
             ],
             [
              1,
              "#fde725"
             ]
            ],
            "type": "heatmapgl"
           }
          ],
          "histogram": [
           {
            "marker": {
             "line": {
              "color": "white",
              "width": 0.6
             }
            },
            "type": "histogram"
           }
          ],
          "histogram2d": [
           {
            "colorbar": {
             "outlinewidth": 1,
             "tickcolor": "rgb(36,36,36)",
             "ticks": "outside"
            },
            "colorscale": [
             [
              0,
              "#440154"
             ],
             [
              0.1111111111111111,
              "#482878"
             ],
             [
              0.2222222222222222,
              "#3e4989"
             ],
             [
              0.3333333333333333,
              "#31688e"
             ],
             [
              0.4444444444444444,
              "#26828e"
             ],
             [
              0.5555555555555556,
              "#1f9e89"
             ],
             [
              0.6666666666666666,
              "#35b779"
             ],
             [
              0.7777777777777778,
              "#6ece58"
             ],
             [
              0.8888888888888888,
              "#b5de2b"
             ],
             [
              1,
              "#fde725"
             ]
            ],
            "type": "histogram2d"
           }
          ],
          "histogram2dcontour": [
           {
            "colorbar": {
             "outlinewidth": 1,
             "tickcolor": "rgb(36,36,36)",
             "ticks": "outside"
            },
            "colorscale": [
             [
              0,
              "#440154"
             ],
             [
              0.1111111111111111,
              "#482878"
             ],
             [
              0.2222222222222222,
              "#3e4989"
             ],
             [
              0.3333333333333333,
              "#31688e"
             ],
             [
              0.4444444444444444,
              "#26828e"
             ],
             [
              0.5555555555555556,
              "#1f9e89"
             ],
             [
              0.6666666666666666,
              "#35b779"
             ],
             [
              0.7777777777777778,
              "#6ece58"
             ],
             [
              0.8888888888888888,
              "#b5de2b"
             ],
             [
              1,
              "#fde725"
             ]
            ],
            "type": "histogram2dcontour"
           }
          ],
          "mesh3d": [
           {
            "colorbar": {
             "outlinewidth": 1,
             "tickcolor": "rgb(36,36,36)",
             "ticks": "outside"
            },
            "type": "mesh3d"
           }
          ],
          "parcoords": [
           {
            "line": {
             "colorbar": {
              "outlinewidth": 1,
              "tickcolor": "rgb(36,36,36)",
              "ticks": "outside"
             }
            },
            "type": "parcoords"
           }
          ],
          "pie": [
           {
            "automargin": true,
            "type": "pie"
           }
          ],
          "scatter": [
           {
            "fillpattern": {
             "fillmode": "overlay",
             "size": 10,
             "solidity": 0.2
            },
            "type": "scatter"
           }
          ],
          "scatter3d": [
           {
            "line": {
             "colorbar": {
              "outlinewidth": 1,
              "tickcolor": "rgb(36,36,36)",
              "ticks": "outside"
             }
            },
            "marker": {
             "colorbar": {
              "outlinewidth": 1,
              "tickcolor": "rgb(36,36,36)",
              "ticks": "outside"
             }
            },
            "type": "scatter3d"
           }
          ],
          "scattercarpet": [
           {
            "marker": {
             "colorbar": {
              "outlinewidth": 1,
              "tickcolor": "rgb(36,36,36)",
              "ticks": "outside"
             }
            },
            "type": "scattercarpet"
           }
          ],
          "scattergeo": [
           {
            "marker": {
             "colorbar": {
              "outlinewidth": 1,
              "tickcolor": "rgb(36,36,36)",
              "ticks": "outside"
             }
            },
            "type": "scattergeo"
           }
          ],
          "scattergl": [
           {
            "marker": {
             "colorbar": {
              "outlinewidth": 1,
              "tickcolor": "rgb(36,36,36)",
              "ticks": "outside"
             }
            },
            "type": "scattergl"
           }
          ],
          "scattermapbox": [
           {
            "marker": {
             "colorbar": {
              "outlinewidth": 1,
              "tickcolor": "rgb(36,36,36)",
              "ticks": "outside"
             }
            },
            "type": "scattermapbox"
           }
          ],
          "scatterpolar": [
           {
            "marker": {
             "colorbar": {
              "outlinewidth": 1,
              "tickcolor": "rgb(36,36,36)",
              "ticks": "outside"
             }
            },
            "type": "scatterpolar"
           }
          ],
          "scatterpolargl": [
           {
            "marker": {
             "colorbar": {
              "outlinewidth": 1,
              "tickcolor": "rgb(36,36,36)",
              "ticks": "outside"
             }
            },
            "type": "scatterpolargl"
           }
          ],
          "scatterternary": [
           {
            "marker": {
             "colorbar": {
              "outlinewidth": 1,
              "tickcolor": "rgb(36,36,36)",
              "ticks": "outside"
             }
            },
            "type": "scatterternary"
           }
          ],
          "surface": [
           {
            "colorbar": {
             "outlinewidth": 1,
             "tickcolor": "rgb(36,36,36)",
             "ticks": "outside"
            },
            "colorscale": [
             [
              0,
              "#440154"
             ],
             [
              0.1111111111111111,
              "#482878"
             ],
             [
              0.2222222222222222,
              "#3e4989"
             ],
             [
              0.3333333333333333,
              "#31688e"
             ],
             [
              0.4444444444444444,
              "#26828e"
             ],
             [
              0.5555555555555556,
              "#1f9e89"
             ],
             [
              0.6666666666666666,
              "#35b779"
             ],
             [
              0.7777777777777778,
              "#6ece58"
             ],
             [
              0.8888888888888888,
              "#b5de2b"
             ],
             [
              1,
              "#fde725"
             ]
            ],
            "type": "surface"
           }
          ],
          "table": [
           {
            "cells": {
             "fill": {
              "color": "rgb(237,237,237)"
             },
             "line": {
              "color": "white"
             }
            },
            "header": {
             "fill": {
              "color": "rgb(217,217,217)"
             },
             "line": {
              "color": "white"
             }
            },
            "type": "table"
           }
          ]
         },
         "layout": {
          "annotationdefaults": {
           "arrowhead": 0,
           "arrowwidth": 1
          },
          "autotypenumbers": "strict",
          "coloraxis": {
           "colorbar": {
            "outlinewidth": 1,
            "tickcolor": "rgb(36,36,36)",
            "ticks": "outside"
           }
          },
          "colorscale": {
           "diverging": [
            [
             0,
             "rgb(103,0,31)"
            ],
            [
             0.1,
             "rgb(178,24,43)"
            ],
            [
             0.2,
             "rgb(214,96,77)"
            ],
            [
             0.3,
             "rgb(244,165,130)"
            ],
            [
             0.4,
             "rgb(253,219,199)"
            ],
            [
             0.5,
             "rgb(247,247,247)"
            ],
            [
             0.6,
             "rgb(209,229,240)"
            ],
            [
             0.7,
             "rgb(146,197,222)"
            ],
            [
             0.8,
             "rgb(67,147,195)"
            ],
            [
             0.9,
             "rgb(33,102,172)"
            ],
            [
             1,
             "rgb(5,48,97)"
            ]
           ],
           "sequential": [
            [
             0,
             "#440154"
            ],
            [
             0.1111111111111111,
             "#482878"
            ],
            [
             0.2222222222222222,
             "#3e4989"
            ],
            [
             0.3333333333333333,
             "#31688e"
            ],
            [
             0.4444444444444444,
             "#26828e"
            ],
            [
             0.5555555555555556,
             "#1f9e89"
            ],
            [
             0.6666666666666666,
             "#35b779"
            ],
            [
             0.7777777777777778,
             "#6ece58"
            ],
            [
             0.8888888888888888,
             "#b5de2b"
            ],
            [
             1,
             "#fde725"
            ]
           ],
           "sequentialminus": [
            [
             0,
             "#440154"
            ],
            [
             0.1111111111111111,
             "#482878"
            ],
            [
             0.2222222222222222,
             "#3e4989"
            ],
            [
             0.3333333333333333,
             "#31688e"
            ],
            [
             0.4444444444444444,
             "#26828e"
            ],
            [
             0.5555555555555556,
             "#1f9e89"
            ],
            [
             0.6666666666666666,
             "#35b779"
            ],
            [
             0.7777777777777778,
             "#6ece58"
            ],
            [
             0.8888888888888888,
             "#b5de2b"
            ],
            [
             1,
             "#fde725"
            ]
           ]
          },
          "colorway": [
           "#1F77B4",
           "#FF7F0E",
           "#2CA02C",
           "#D62728",
           "#9467BD",
           "#8C564B",
           "#E377C2",
           "#7F7F7F",
           "#BCBD22",
           "#17BECF"
          ],
          "font": {
           "color": "rgb(36,36,36)"
          },
          "geo": {
           "bgcolor": "white",
           "lakecolor": "white",
           "landcolor": "white",
           "showlakes": true,
           "showland": true,
           "subunitcolor": "white"
          },
          "hoverlabel": {
           "align": "left"
          },
          "hovermode": "closest",
          "mapbox": {
           "style": "light"
          },
          "paper_bgcolor": "white",
          "plot_bgcolor": "white",
          "polar": {
           "angularaxis": {
            "gridcolor": "rgb(232,232,232)",
            "linecolor": "rgb(36,36,36)",
            "showgrid": false,
            "showline": true,
            "ticks": "outside"
           },
           "bgcolor": "white",
           "radialaxis": {
            "gridcolor": "rgb(232,232,232)",
            "linecolor": "rgb(36,36,36)",
            "showgrid": false,
            "showline": true,
            "ticks": "outside"
           }
          },
          "scene": {
           "xaxis": {
            "backgroundcolor": "white",
            "gridcolor": "rgb(232,232,232)",
            "gridwidth": 2,
            "linecolor": "rgb(36,36,36)",
            "showbackground": true,
            "showgrid": false,
            "showline": true,
            "ticks": "outside",
            "zeroline": false,
            "zerolinecolor": "rgb(36,36,36)"
           },
           "yaxis": {
            "backgroundcolor": "white",
            "gridcolor": "rgb(232,232,232)",
            "gridwidth": 2,
            "linecolor": "rgb(36,36,36)",
            "showbackground": true,
            "showgrid": false,
            "showline": true,
            "ticks": "outside",
            "zeroline": false,
            "zerolinecolor": "rgb(36,36,36)"
           },
           "zaxis": {
            "backgroundcolor": "white",
            "gridcolor": "rgb(232,232,232)",
            "gridwidth": 2,
            "linecolor": "rgb(36,36,36)",
            "showbackground": true,
            "showgrid": false,
            "showline": true,
            "ticks": "outside",
            "zeroline": false,
            "zerolinecolor": "rgb(36,36,36)"
           }
          },
          "shapedefaults": {
           "fillcolor": "black",
           "line": {
            "width": 0
           },
           "opacity": 0.3
          },
          "ternary": {
           "aaxis": {
            "gridcolor": "rgb(232,232,232)",
            "linecolor": "rgb(36,36,36)",
            "showgrid": false,
            "showline": true,
            "ticks": "outside"
           },
           "baxis": {
            "gridcolor": "rgb(232,232,232)",
            "linecolor": "rgb(36,36,36)",
            "showgrid": false,
            "showline": true,
            "ticks": "outside"
           },
           "bgcolor": "white",
           "caxis": {
            "gridcolor": "rgb(232,232,232)",
            "linecolor": "rgb(36,36,36)",
            "showgrid": false,
            "showline": true,
            "ticks": "outside"
           }
          },
          "title": {
           "x": 0.05
          },
          "xaxis": {
           "automargin": true,
           "gridcolor": "rgb(232,232,232)",
           "linecolor": "rgb(36,36,36)",
           "showgrid": false,
           "showline": true,
           "ticks": "outside",
           "title": {
            "standoff": 15
           },
           "zeroline": false,
           "zerolinecolor": "rgb(36,36,36)"
          },
          "yaxis": {
           "automargin": true,
           "gridcolor": "rgb(232,232,232)",
           "linecolor": "rgb(36,36,36)",
           "showgrid": false,
           "showline": true,
           "ticks": "outside",
           "title": {
            "standoff": 15
           },
           "zeroline": false,
           "zerolinecolor": "rgb(36,36,36)"
          }
         }
        },
        "title": {
         "font": {
          "color": "Black",
          "size": 22
         },
         "text": "<b>Topics over Time</b>",
         "x": 0.4,
         "xanchor": "center",
         "y": 0.95,
         "yanchor": "top"
        },
        "width": 1250,
        "xaxis": {
         "showgrid": true
        },
        "yaxis": {
         "showgrid": true,
         "title": {
          "text": "Frequency"
         }
        }
       }
      }
     },
     "metadata": {},
     "output_type": "display_data"
    }
   ],
   "source": [
    "model.visualize_topics_over_time(topics_over_time, topics=[10, 11, 12, 13, 14, 15, 16, 17, 18, 19])\n"
   ]
  },
  {
   "cell_type": "code",
   "execution_count": 67,
   "metadata": {},
   "outputs": [
    {
     "data": {
      "application/vnd.plotly.v1+json": {
       "config": {
        "plotlyServerURL": "https://plot.ly"
       },
       "data": [
        {
         "hoverinfo": "text",
         "hovertext": [
          "<b>Topic 17</b><br>Words: sizes, efficacy, effect, self, interval",
          "<b>Topic 17</b><br>Words: emergency, disaster, online, schools, school",
          "<b>Topic 17</b><br>Words: distance, enroll, education, college, postsecondary",
          "<b>Topic 17</b><br>Words: pandemic, covid, 19, indies, west",
          "<b>Topic 17</b><br>Words: pandemic, covid, 19, online, education",
          "<b>Topic 17</b><br>Words: pandemic, covid, online, 19, faculty"
         ],
         "marker": {
          "color": "#E69F00"
         },
         "mode": "lines",
         "name": "17_pandemic_covid_online_19",
         "type": "scatter",
         "x": [
          2013,
          2016,
          2017,
          2020,
          2021,
          2022
         ],
         "y": [
          1,
          2,
          1,
          3,
          10,
          9
         ]
        }
       ],
       "layout": {
        "height": 450,
        "hoverlabel": {
         "bgcolor": "white",
         "font": {
          "family": "Rockwell",
          "size": 16
         }
        },
        "legend": {
         "title": {
          "text": "<b>Global Topic Representation"
         }
        },
        "template": {
         "data": {
          "bar": [
           {
            "error_x": {
             "color": "rgb(36,36,36)"
            },
            "error_y": {
             "color": "rgb(36,36,36)"
            },
            "marker": {
             "line": {
              "color": "white",
              "width": 0.5
             },
             "pattern": {
              "fillmode": "overlay",
              "size": 10,
              "solidity": 0.2
             }
            },
            "type": "bar"
           }
          ],
          "barpolar": [
           {
            "marker": {
             "line": {
              "color": "white",
              "width": 0.5
             },
             "pattern": {
              "fillmode": "overlay",
              "size": 10,
              "solidity": 0.2
             }
            },
            "type": "barpolar"
           }
          ],
          "carpet": [
           {
            "aaxis": {
             "endlinecolor": "rgb(36,36,36)",
             "gridcolor": "white",
             "linecolor": "white",
             "minorgridcolor": "white",
             "startlinecolor": "rgb(36,36,36)"
            },
            "baxis": {
             "endlinecolor": "rgb(36,36,36)",
             "gridcolor": "white",
             "linecolor": "white",
             "minorgridcolor": "white",
             "startlinecolor": "rgb(36,36,36)"
            },
            "type": "carpet"
           }
          ],
          "choropleth": [
           {
            "colorbar": {
             "outlinewidth": 1,
             "tickcolor": "rgb(36,36,36)",
             "ticks": "outside"
            },
            "type": "choropleth"
           }
          ],
          "contour": [
           {
            "colorbar": {
             "outlinewidth": 1,
             "tickcolor": "rgb(36,36,36)",
             "ticks": "outside"
            },
            "colorscale": [
             [
              0,
              "#440154"
             ],
             [
              0.1111111111111111,
              "#482878"
             ],
             [
              0.2222222222222222,
              "#3e4989"
             ],
             [
              0.3333333333333333,
              "#31688e"
             ],
             [
              0.4444444444444444,
              "#26828e"
             ],
             [
              0.5555555555555556,
              "#1f9e89"
             ],
             [
              0.6666666666666666,
              "#35b779"
             ],
             [
              0.7777777777777778,
              "#6ece58"
             ],
             [
              0.8888888888888888,
              "#b5de2b"
             ],
             [
              1,
              "#fde725"
             ]
            ],
            "type": "contour"
           }
          ],
          "contourcarpet": [
           {
            "colorbar": {
             "outlinewidth": 1,
             "tickcolor": "rgb(36,36,36)",
             "ticks": "outside"
            },
            "type": "contourcarpet"
           }
          ],
          "heatmap": [
           {
            "colorbar": {
             "outlinewidth": 1,
             "tickcolor": "rgb(36,36,36)",
             "ticks": "outside"
            },
            "colorscale": [
             [
              0,
              "#440154"
             ],
             [
              0.1111111111111111,
              "#482878"
             ],
             [
              0.2222222222222222,
              "#3e4989"
             ],
             [
              0.3333333333333333,
              "#31688e"
             ],
             [
              0.4444444444444444,
              "#26828e"
             ],
             [
              0.5555555555555556,
              "#1f9e89"
             ],
             [
              0.6666666666666666,
              "#35b779"
             ],
             [
              0.7777777777777778,
              "#6ece58"
             ],
             [
              0.8888888888888888,
              "#b5de2b"
             ],
             [
              1,
              "#fde725"
             ]
            ],
            "type": "heatmap"
           }
          ],
          "heatmapgl": [
           {
            "colorbar": {
             "outlinewidth": 1,
             "tickcolor": "rgb(36,36,36)",
             "ticks": "outside"
            },
            "colorscale": [
             [
              0,
              "#440154"
             ],
             [
              0.1111111111111111,
              "#482878"
             ],
             [
              0.2222222222222222,
              "#3e4989"
             ],
             [
              0.3333333333333333,
              "#31688e"
             ],
             [
              0.4444444444444444,
              "#26828e"
             ],
             [
              0.5555555555555556,
              "#1f9e89"
             ],
             [
              0.6666666666666666,
              "#35b779"
             ],
             [
              0.7777777777777778,
              "#6ece58"
             ],
             [
              0.8888888888888888,
              "#b5de2b"
             ],
             [
              1,
              "#fde725"
             ]
            ],
            "type": "heatmapgl"
           }
          ],
          "histogram": [
           {
            "marker": {
             "line": {
              "color": "white",
              "width": 0.6
             }
            },
            "type": "histogram"
           }
          ],
          "histogram2d": [
           {
            "colorbar": {
             "outlinewidth": 1,
             "tickcolor": "rgb(36,36,36)",
             "ticks": "outside"
            },
            "colorscale": [
             [
              0,
              "#440154"
             ],
             [
              0.1111111111111111,
              "#482878"
             ],
             [
              0.2222222222222222,
              "#3e4989"
             ],
             [
              0.3333333333333333,
              "#31688e"
             ],
             [
              0.4444444444444444,
              "#26828e"
             ],
             [
              0.5555555555555556,
              "#1f9e89"
             ],
             [
              0.6666666666666666,
              "#35b779"
             ],
             [
              0.7777777777777778,
              "#6ece58"
             ],
             [
              0.8888888888888888,
              "#b5de2b"
             ],
             [
              1,
              "#fde725"
             ]
            ],
            "type": "histogram2d"
           }
          ],
          "histogram2dcontour": [
           {
            "colorbar": {
             "outlinewidth": 1,
             "tickcolor": "rgb(36,36,36)",
             "ticks": "outside"
            },
            "colorscale": [
             [
              0,
              "#440154"
             ],
             [
              0.1111111111111111,
              "#482878"
             ],
             [
              0.2222222222222222,
              "#3e4989"
             ],
             [
              0.3333333333333333,
              "#31688e"
             ],
             [
              0.4444444444444444,
              "#26828e"
             ],
             [
              0.5555555555555556,
              "#1f9e89"
             ],
             [
              0.6666666666666666,
              "#35b779"
             ],
             [
              0.7777777777777778,
              "#6ece58"
             ],
             [
              0.8888888888888888,
              "#b5de2b"
             ],
             [
              1,
              "#fde725"
             ]
            ],
            "type": "histogram2dcontour"
           }
          ],
          "mesh3d": [
           {
            "colorbar": {
             "outlinewidth": 1,
             "tickcolor": "rgb(36,36,36)",
             "ticks": "outside"
            },
            "type": "mesh3d"
           }
          ],
          "parcoords": [
           {
            "line": {
             "colorbar": {
              "outlinewidth": 1,
              "tickcolor": "rgb(36,36,36)",
              "ticks": "outside"
             }
            },
            "type": "parcoords"
           }
          ],
          "pie": [
           {
            "automargin": true,
            "type": "pie"
           }
          ],
          "scatter": [
           {
            "fillpattern": {
             "fillmode": "overlay",
             "size": 10,
             "solidity": 0.2
            },
            "type": "scatter"
           }
          ],
          "scatter3d": [
           {
            "line": {
             "colorbar": {
              "outlinewidth": 1,
              "tickcolor": "rgb(36,36,36)",
              "ticks": "outside"
             }
            },
            "marker": {
             "colorbar": {
              "outlinewidth": 1,
              "tickcolor": "rgb(36,36,36)",
              "ticks": "outside"
             }
            },
            "type": "scatter3d"
           }
          ],
          "scattercarpet": [
           {
            "marker": {
             "colorbar": {
              "outlinewidth": 1,
              "tickcolor": "rgb(36,36,36)",
              "ticks": "outside"
             }
            },
            "type": "scattercarpet"
           }
          ],
          "scattergeo": [
           {
            "marker": {
             "colorbar": {
              "outlinewidth": 1,
              "tickcolor": "rgb(36,36,36)",
              "ticks": "outside"
             }
            },
            "type": "scattergeo"
           }
          ],
          "scattergl": [
           {
            "marker": {
             "colorbar": {
              "outlinewidth": 1,
              "tickcolor": "rgb(36,36,36)",
              "ticks": "outside"
             }
            },
            "type": "scattergl"
           }
          ],
          "scattermapbox": [
           {
            "marker": {
             "colorbar": {
              "outlinewidth": 1,
              "tickcolor": "rgb(36,36,36)",
              "ticks": "outside"
             }
            },
            "type": "scattermapbox"
           }
          ],
          "scatterpolar": [
           {
            "marker": {
             "colorbar": {
              "outlinewidth": 1,
              "tickcolor": "rgb(36,36,36)",
              "ticks": "outside"
             }
            },
            "type": "scatterpolar"
           }
          ],
          "scatterpolargl": [
           {
            "marker": {
             "colorbar": {
              "outlinewidth": 1,
              "tickcolor": "rgb(36,36,36)",
              "ticks": "outside"
             }
            },
            "type": "scatterpolargl"
           }
          ],
          "scatterternary": [
           {
            "marker": {
             "colorbar": {
              "outlinewidth": 1,
              "tickcolor": "rgb(36,36,36)",
              "ticks": "outside"
             }
            },
            "type": "scatterternary"
           }
          ],
          "surface": [
           {
            "colorbar": {
             "outlinewidth": 1,
             "tickcolor": "rgb(36,36,36)",
             "ticks": "outside"
            },
            "colorscale": [
             [
              0,
              "#440154"
             ],
             [
              0.1111111111111111,
              "#482878"
             ],
             [
              0.2222222222222222,
              "#3e4989"
             ],
             [
              0.3333333333333333,
              "#31688e"
             ],
             [
              0.4444444444444444,
              "#26828e"
             ],
             [
              0.5555555555555556,
              "#1f9e89"
             ],
             [
              0.6666666666666666,
              "#35b779"
             ],
             [
              0.7777777777777778,
              "#6ece58"
             ],
             [
              0.8888888888888888,
              "#b5de2b"
             ],
             [
              1,
              "#fde725"
             ]
            ],
            "type": "surface"
           }
          ],
          "table": [
           {
            "cells": {
             "fill": {
              "color": "rgb(237,237,237)"
             },
             "line": {
              "color": "white"
             }
            },
            "header": {
             "fill": {
              "color": "rgb(217,217,217)"
             },
             "line": {
              "color": "white"
             }
            },
            "type": "table"
           }
          ]
         },
         "layout": {
          "annotationdefaults": {
           "arrowhead": 0,
           "arrowwidth": 1
          },
          "autotypenumbers": "strict",
          "coloraxis": {
           "colorbar": {
            "outlinewidth": 1,
            "tickcolor": "rgb(36,36,36)",
            "ticks": "outside"
           }
          },
          "colorscale": {
           "diverging": [
            [
             0,
             "rgb(103,0,31)"
            ],
            [
             0.1,
             "rgb(178,24,43)"
            ],
            [
             0.2,
             "rgb(214,96,77)"
            ],
            [
             0.3,
             "rgb(244,165,130)"
            ],
            [
             0.4,
             "rgb(253,219,199)"
            ],
            [
             0.5,
             "rgb(247,247,247)"
            ],
            [
             0.6,
             "rgb(209,229,240)"
            ],
            [
             0.7,
             "rgb(146,197,222)"
            ],
            [
             0.8,
             "rgb(67,147,195)"
            ],
            [
             0.9,
             "rgb(33,102,172)"
            ],
            [
             1,
             "rgb(5,48,97)"
            ]
           ],
           "sequential": [
            [
             0,
             "#440154"
            ],
            [
             0.1111111111111111,
             "#482878"
            ],
            [
             0.2222222222222222,
             "#3e4989"
            ],
            [
             0.3333333333333333,
             "#31688e"
            ],
            [
             0.4444444444444444,
             "#26828e"
            ],
            [
             0.5555555555555556,
             "#1f9e89"
            ],
            [
             0.6666666666666666,
             "#35b779"
            ],
            [
             0.7777777777777778,
             "#6ece58"
            ],
            [
             0.8888888888888888,
             "#b5de2b"
            ],
            [
             1,
             "#fde725"
            ]
           ],
           "sequentialminus": [
            [
             0,
             "#440154"
            ],
            [
             0.1111111111111111,
             "#482878"
            ],
            [
             0.2222222222222222,
             "#3e4989"
            ],
            [
             0.3333333333333333,
             "#31688e"
            ],
            [
             0.4444444444444444,
             "#26828e"
            ],
            [
             0.5555555555555556,
             "#1f9e89"
            ],
            [
             0.6666666666666666,
             "#35b779"
            ],
            [
             0.7777777777777778,
             "#6ece58"
            ],
            [
             0.8888888888888888,
             "#b5de2b"
            ],
            [
             1,
             "#fde725"
            ]
           ]
          },
          "colorway": [
           "#1F77B4",
           "#FF7F0E",
           "#2CA02C",
           "#D62728",
           "#9467BD",
           "#8C564B",
           "#E377C2",
           "#7F7F7F",
           "#BCBD22",
           "#17BECF"
          ],
          "font": {
           "color": "rgb(36,36,36)"
          },
          "geo": {
           "bgcolor": "white",
           "lakecolor": "white",
           "landcolor": "white",
           "showlakes": true,
           "showland": true,
           "subunitcolor": "white"
          },
          "hoverlabel": {
           "align": "left"
          },
          "hovermode": "closest",
          "mapbox": {
           "style": "light"
          },
          "paper_bgcolor": "white",
          "plot_bgcolor": "white",
          "polar": {
           "angularaxis": {
            "gridcolor": "rgb(232,232,232)",
            "linecolor": "rgb(36,36,36)",
            "showgrid": false,
            "showline": true,
            "ticks": "outside"
           },
           "bgcolor": "white",
           "radialaxis": {
            "gridcolor": "rgb(232,232,232)",
            "linecolor": "rgb(36,36,36)",
            "showgrid": false,
            "showline": true,
            "ticks": "outside"
           }
          },
          "scene": {
           "xaxis": {
            "backgroundcolor": "white",
            "gridcolor": "rgb(232,232,232)",
            "gridwidth": 2,
            "linecolor": "rgb(36,36,36)",
            "showbackground": true,
            "showgrid": false,
            "showline": true,
            "ticks": "outside",
            "zeroline": false,
            "zerolinecolor": "rgb(36,36,36)"
           },
           "yaxis": {
            "backgroundcolor": "white",
            "gridcolor": "rgb(232,232,232)",
            "gridwidth": 2,
            "linecolor": "rgb(36,36,36)",
            "showbackground": true,
            "showgrid": false,
            "showline": true,
            "ticks": "outside",
            "zeroline": false,
            "zerolinecolor": "rgb(36,36,36)"
           },
           "zaxis": {
            "backgroundcolor": "white",
            "gridcolor": "rgb(232,232,232)",
            "gridwidth": 2,
            "linecolor": "rgb(36,36,36)",
            "showbackground": true,
            "showgrid": false,
            "showline": true,
            "ticks": "outside",
            "zeroline": false,
            "zerolinecolor": "rgb(36,36,36)"
           }
          },
          "shapedefaults": {
           "fillcolor": "black",
           "line": {
            "width": 0
           },
           "opacity": 0.3
          },
          "ternary": {
           "aaxis": {
            "gridcolor": "rgb(232,232,232)",
            "linecolor": "rgb(36,36,36)",
            "showgrid": false,
            "showline": true,
            "ticks": "outside"
           },
           "baxis": {
            "gridcolor": "rgb(232,232,232)",
            "linecolor": "rgb(36,36,36)",
            "showgrid": false,
            "showline": true,
            "ticks": "outside"
           },
           "bgcolor": "white",
           "caxis": {
            "gridcolor": "rgb(232,232,232)",
            "linecolor": "rgb(36,36,36)",
            "showgrid": false,
            "showline": true,
            "ticks": "outside"
           }
          },
          "title": {
           "x": 0.05
          },
          "xaxis": {
           "automargin": true,
           "gridcolor": "rgb(232,232,232)",
           "linecolor": "rgb(36,36,36)",
           "showgrid": false,
           "showline": true,
           "ticks": "outside",
           "title": {
            "standoff": 15
           },
           "zeroline": false,
           "zerolinecolor": "rgb(36,36,36)"
          },
          "yaxis": {
           "automargin": true,
           "gridcolor": "rgb(232,232,232)",
           "linecolor": "rgb(36,36,36)",
           "showgrid": false,
           "showline": true,
           "ticks": "outside",
           "title": {
            "standoff": 15
           },
           "zeroline": false,
           "zerolinecolor": "rgb(36,36,36)"
          }
         }
        },
        "title": {
         "font": {
          "color": "Black",
          "size": 22
         },
         "text": "<b>Topics over Time</b>",
         "x": 0.4,
         "xanchor": "center",
         "y": 0.95,
         "yanchor": "top"
        },
        "width": 1250,
        "xaxis": {
         "showgrid": true
        },
        "yaxis": {
         "showgrid": true,
         "title": {
          "text": "Frequency"
         }
        }
       }
      }
     },
     "metadata": {},
     "output_type": "display_data"
    }
   ],
   "source": [
    "model.visualize_topics_over_time(topics_over_time, topics=[17])\n",
    "#COVID-19 Topic"
   ]
  },
  {
   "cell_type": "code",
   "execution_count": 69,
   "metadata": {},
   "outputs": [
    {
     "data": {
      "application/vnd.plotly.v1+json": {
       "config": {
        "plotlyServerURL": "https://plot.ly"
       },
       "data": [
        {
         "hoverinfo": "text",
         "hovertext": [
          "<b>Topic 20</b><br>Words: storytelling, digital, shift, meaningful, adhere",
          "<b>Topic 20</b><br>Words: storytelling, speaking, stories, digital, dss",
          "<b>Topic 20</b><br>Words: fan, practices, media, popular, online",
          "<b>Topic 20</b><br>Words: storytelling, narrative, digital, fanfiction, fan",
          "<b>Topic 20</b><br>Words: narrative, exams, storytelling, learning, exam",
          "<b>Topic 20</b><br>Words: storytelling, digital, 4s, stories, story",
          "<b>Topic 20</b><br>Words: stories, storytelling, digital, dst, vignettes"
         ],
         "marker": {
          "color": "#E69F00"
         },
         "mode": "lines",
         "name": "20_storytelling_digital_narrative_storie...",
         "type": "scatter",
         "x": [
          2013,
          2016,
          2017,
          2019,
          2020,
          2021,
          2022
         ],
         "y": [
          1,
          3,
          1,
          7,
          1,
          6,
          3
         ]
        },
        {
         "hoverinfo": "text",
         "hovertext": [
          "<b>Topic 21</b><br>Words: social, sites, networking, case, technology",
          "<b>Topic 21</b><br>Words: social, media, news, network, use",
          "<b>Topic 21</b><br>Words: media, social, views, business, major",
          "<b>Topic 21</b><br>Words: sense, facebook, media, social, connectedness",
          "<b>Topic 21</b><br>Words: facebook, social, media, veterans, connectedness",
          "<b>Topic 21</b><br>Words: social, media, platform, confidential, as",
          "<b>Topic 21</b><br>Words: pinterest, evidence, base, pins, internalizing",
          "<b>Topic 21</b><br>Words: media, social, risks, maturity, privacy",
          "<b>Topic 21</b><br>Words: instagram, social, adolescents, media, quot",
          "<b>Topic 21</b><br>Words: social, media, twitter, formal, literacy"
         ],
         "marker": {
          "color": "#56B4E9"
         },
         "mode": "lines",
         "name": "21_social_media_facebook_of",
         "type": "scatter",
         "x": [
          2013,
          2014,
          2015,
          2016,
          2017,
          2018,
          2019,
          2020,
          2021,
          2022
         ],
         "y": [
          2,
          5,
          1,
          2,
          4,
          2,
          1,
          1,
          2,
          2
         ]
        },
        {
         "hoverinfo": "text",
         "hovertext": [
          "<b>Topic 22</b><br>Words: l1, glossing, glosses, more, memory",
          "<b>Topic 22</b><br>Words: gloss, vocabulary, glosses, l1, glossing",
          "<b>Topic 22</b><br>Words: vocabulary, instrument, constructing, clips, technical",
          "<b>Topic 22</b><br>Words: gloss, glosses, mode, vocabulary, comprehension",
          "<b>Topic 22</b><br>Words: condition, vocabulary, glosses, lines, lexical",
          "<b>Topic 22</b><br>Words: glosses, passage, clicker, meanings, condition",
          "<b>Topic 22</b><br>Words: glossing, glossary, vocabulary, lines, concordance",
          "<b>Topic 22</b><br>Words: logographic, loci, memorization, augmented, method",
          "<b>Topic 22</b><br>Words: glosses, window, pop, aids, participants"
         ],
         "marker": {
          "color": "#009E73"
         },
         "mode": "lines",
         "name": "22_glosses_vocabulary_gloss_glossing",
         "type": "scatter",
         "x": [
          2013,
          2014,
          2015,
          2016,
          2017,
          2018,
          2019,
          2020,
          2021
         ],
         "y": [
          2,
          5,
          1,
          3,
          2,
          3,
          2,
          1,
          2
         ]
        },
        {
         "hoverinfo": "text",
         "hovertext": [
          "<b>Topic 23</b><br>Words: km, cdm, purpose, of, ects",
          "<b>Topic 23</b><br>Words: oer, journal, journals, scoreboard, purpose",
          "<b>Topic 23</b><br>Words: oa, publication, journals, faculty, scholars",
          "<b>Topic 23</b><br>Words: open, science, will, scientific, higher"
         ],
         "marker": {
          "color": "#F0E442"
         },
         "mode": "lines",
         "name": "23_open_km_purpose_is",
         "type": "scatter",
         "x": [
          2013,
          2014,
          2016,
          2023
         ],
         "y": [
          16,
          3,
          1,
          1
         ]
        },
        {
         "hoverinfo": "text",
         "hovertext": [
          "<b>Topic 24</b><br>Words: scrum, agile, exercise, means, inspect",
          "<b>Topic 24</b><br>Words: agile, learning, fail, project, scrum",
          "<b>Topic 24</b><br>Words: agile, scrum, uncertainty, development, lecture",
          "<b>Topic 24</b><br>Words: scrum, agile, projects, devops, software",
          "<b>Topic 24</b><br>Words: agile, scrum, project, teams, to",
          "<b>Topic 24</b><br>Words: agile, course, process, scrum, evaluations",
          "<b>Topic 24</b><br>Words: scrum, agile, project, experience, to"
         ],
         "marker": {
          "color": "#D55E00"
         },
         "mode": "lines",
         "name": "24_agile_scrum_project_development",
         "type": "scatter",
         "x": [
          2016,
          2017,
          2018,
          2019,
          2020,
          2021,
          2022
         ],
         "y": [
          1,
          1,
          8,
          2,
          5,
          2,
          1
         ]
        },
        {
         "hoverinfo": "text",
         "hovertext": [
          "<b>Topic 25</b><br>Words: captions, reliance, caption, comprehension, captioning",
          "<b>Topic 25</b><br>Words: captions, captioning, comprehension, keyword, listening",
          "<b>Topic 25</b><br>Words: caption, captions, words, filtering, excluded",
          "<b>Topic 25</b><br>Words: comprehension, captions, captioning, episodes, listening",
          "<b>Topic 25</b><br>Words: videos, learners, listening, captions, captioning",
          "<b>Topic 25</b><br>Words: captions, comprehension, videos, captioned, caption",
          "<b>Topic 25</b><br>Words: caption, captions, listening, full, video",
          "<b>Topic 25</b><br>Words: captions, comprehension, vlogs, vlog, pictorial",
          "<b>Topic 25</b><br>Words: valrs, captions, vlm, listening, video",
          "<b>Topic 25</b><br>Words: captions, comprehension, viewing, nonverbal, full"
         ],
         "marker": {
          "color": "#0072B2"
         },
         "mode": "lines",
         "name": "25_captions_comprehension_captioning_lis...",
         "type": "scatter",
         "x": [
          2013,
          2014,
          2015,
          2017,
          2018,
          2019,
          2020,
          2021,
          2022,
          2023
         ],
         "y": [
          1,
          5,
          1,
          2,
          1,
          3,
          2,
          1,
          2,
          1
         ]
        },
        {
         "hoverinfo": "text",
         "hovertext": [
          "<b>Topic 26</b><br>Words: robot, joint, disorder, humanoid, autism",
          "<b>Topic 26</b><br>Words: telepresence, robots, authentic, fl, communicative",
          "<b>Topic 26</b><br>Words: dialogue, we, robot, interviewers, quot",
          "<b>Topic 26</b><br>Words: rall, echo, robot, chatbots, l2",
          "<b>Topic 26</b><br>Words: robot, authoring, telepresence, system, assistant",
          "<b>Topic 26</b><br>Words: robot, chatbot, chatbots, ellie, learners"
         ],
         "marker": {
          "color": "#CC79A7"
         },
         "mode": "lines",
         "name": "26_robot_rall_chatbots_chatbot",
         "type": "scatter",
         "x": [
          2017,
          2018,
          2019,
          2020,
          2021,
          2022
         ],
         "y": [
          1,
          1,
          2,
          4,
          3,
          8
         ]
        },
        {
         "hoverinfo": "text",
         "hovertext": [
          "<b>Topic 27</b><br>Words: conceive, open, moocs, theoretically, conceptual",
          "<b>Topic 27</b><br>Words: mooc, moocs, massive, courses, online",
          "<b>Topic 27</b><br>Words: moocs, online, la, courses, course",
          "<b>Topic 27</b><br>Words: danmaku, sending, video, massive, load",
          "<b>Topic 27</b><br>Words: behavior, semester, intervention, answers, platforms",
          "<b>Topic 27</b><br>Words: lmoocs, massive, open, moocs, courses",
          "<b>Topic 27</b><br>Words: lmoocs, attention, lmooc, collective, la"
         ],
         "marker": {
          "color": "#E69F00"
         },
         "mode": "lines",
         "name": "27_lmoocs_moocs_massive_online",
         "type": "scatter",
         "x": [
          2013,
          2014,
          2018,
          2019,
          2020,
          2021,
          2022
         ],
         "y": [
          2,
          1,
          5,
          1,
          1,
          6,
          2
         ]
        },
        {
         "hoverinfo": "text",
         "hovertext": [
          "<b>Topic 28</b><br>Words: hospital, company, case, medical, healthcare",
          "<b>Topic 28</b><br>Words: ed, hch, lim, kim, pic",
          "<b>Topic 28</b><br>Words: cpda, medical, management, emr, case",
          "<b>Topic 28</b><br>Words: management, claims, it, compliance, rtc",
          "<b>Topic 28</b><br>Words: comprehensivecare, case, adoption, system, administrator",
          "<b>Topic 28</b><br>Words: fiserv, crm, clients, customer, deal",
          "<b>Topic 28</b><br>Words: ecommerce, sales, customer, globeport, internet",
          "<b>Topic 28</b><br>Words: hira, integration, conversant, conflicting, cultures"
         ],
         "marker": {
          "color": "#56B4E9"
         },
         "mode": "lines",
         "name": "28_case_management_it_system",
         "type": "scatter",
         "x": [
          2013,
          2014,
          2015,
          2016,
          2017,
          2019,
          2021,
          2022
         ],
         "y": [
          4,
          1,
          2,
          3,
          4,
          1,
          1,
          1
         ]
        },
        {
         "hoverinfo": "text",
         "hovertext": [
          "<b>Topic 29</b><br>Words: intention, teachers, expectancy, iwb, use",
          "<b>Topic 29</b><br>Words: ict, cfl, teachers, preservice, computer",
          "<b>Topic 29</b><br>Words: iwb, teachers, use, technology, behavior",
          "<b>Topic 29</b><br>Words: iwb, teachers, technology, pu, use",
          "<b>Topic 29</b><br>Words: beliefs, transmissive, teachers, tam, use",
          "<b>Topic 29</b><br>Words: computer, perceived, awe, intention, efficacy",
          "<b>Topic 29</b><br>Words: ict, teachers, continuance, intention, technology",
          "<b>Topic 29</b><br>Words: technology, preservice, use, intention, chinese",
          "<b>Topic 29</b><br>Words: technologies, 12, districts, school, personnel"
         ],
         "marker": {
          "color": "#009E73"
         },
         "mode": "lines",
         "name": "29_teachers_technology_use_intention",
         "type": "scatter",
         "x": [
          2013,
          2014,
          2015,
          2016,
          2017,
          2019,
          2021,
          2022,
          2023
         ],
         "y": [
          3,
          2,
          2,
          3,
          1,
          1,
          3,
          1,
          1
         ]
        }
       ],
       "layout": {
        "height": 450,
        "hoverlabel": {
         "bgcolor": "white",
         "font": {
          "family": "Rockwell",
          "size": 16
         }
        },
        "legend": {
         "title": {
          "text": "<b>Global Topic Representation"
         }
        },
        "template": {
         "data": {
          "bar": [
           {
            "error_x": {
             "color": "rgb(36,36,36)"
            },
            "error_y": {
             "color": "rgb(36,36,36)"
            },
            "marker": {
             "line": {
              "color": "white",
              "width": 0.5
             },
             "pattern": {
              "fillmode": "overlay",
              "size": 10,
              "solidity": 0.2
             }
            },
            "type": "bar"
           }
          ],
          "barpolar": [
           {
            "marker": {
             "line": {
              "color": "white",
              "width": 0.5
             },
             "pattern": {
              "fillmode": "overlay",
              "size": 10,
              "solidity": 0.2
             }
            },
            "type": "barpolar"
           }
          ],
          "carpet": [
           {
            "aaxis": {
             "endlinecolor": "rgb(36,36,36)",
             "gridcolor": "white",
             "linecolor": "white",
             "minorgridcolor": "white",
             "startlinecolor": "rgb(36,36,36)"
            },
            "baxis": {
             "endlinecolor": "rgb(36,36,36)",
             "gridcolor": "white",
             "linecolor": "white",
             "minorgridcolor": "white",
             "startlinecolor": "rgb(36,36,36)"
            },
            "type": "carpet"
           }
          ],
          "choropleth": [
           {
            "colorbar": {
             "outlinewidth": 1,
             "tickcolor": "rgb(36,36,36)",
             "ticks": "outside"
            },
            "type": "choropleth"
           }
          ],
          "contour": [
           {
            "colorbar": {
             "outlinewidth": 1,
             "tickcolor": "rgb(36,36,36)",
             "ticks": "outside"
            },
            "colorscale": [
             [
              0,
              "#440154"
             ],
             [
              0.1111111111111111,
              "#482878"
             ],
             [
              0.2222222222222222,
              "#3e4989"
             ],
             [
              0.3333333333333333,
              "#31688e"
             ],
             [
              0.4444444444444444,
              "#26828e"
             ],
             [
              0.5555555555555556,
              "#1f9e89"
             ],
             [
              0.6666666666666666,
              "#35b779"
             ],
             [
              0.7777777777777778,
              "#6ece58"
             ],
             [
              0.8888888888888888,
              "#b5de2b"
             ],
             [
              1,
              "#fde725"
             ]
            ],
            "type": "contour"
           }
          ],
          "contourcarpet": [
           {
            "colorbar": {
             "outlinewidth": 1,
             "tickcolor": "rgb(36,36,36)",
             "ticks": "outside"
            },
            "type": "contourcarpet"
           }
          ],
          "heatmap": [
           {
            "colorbar": {
             "outlinewidth": 1,
             "tickcolor": "rgb(36,36,36)",
             "ticks": "outside"
            },
            "colorscale": [
             [
              0,
              "#440154"
             ],
             [
              0.1111111111111111,
              "#482878"
             ],
             [
              0.2222222222222222,
              "#3e4989"
             ],
             [
              0.3333333333333333,
              "#31688e"
             ],
             [
              0.4444444444444444,
              "#26828e"
             ],
             [
              0.5555555555555556,
              "#1f9e89"
             ],
             [
              0.6666666666666666,
              "#35b779"
             ],
             [
              0.7777777777777778,
              "#6ece58"
             ],
             [
              0.8888888888888888,
              "#b5de2b"
             ],
             [
              1,
              "#fde725"
             ]
            ],
            "type": "heatmap"
           }
          ],
          "heatmapgl": [
           {
            "colorbar": {
             "outlinewidth": 1,
             "tickcolor": "rgb(36,36,36)",
             "ticks": "outside"
            },
            "colorscale": [
             [
              0,
              "#440154"
             ],
             [
              0.1111111111111111,
              "#482878"
             ],
             [
              0.2222222222222222,
              "#3e4989"
             ],
             [
              0.3333333333333333,
              "#31688e"
             ],
             [
              0.4444444444444444,
              "#26828e"
             ],
             [
              0.5555555555555556,
              "#1f9e89"
             ],
             [
              0.6666666666666666,
              "#35b779"
             ],
             [
              0.7777777777777778,
              "#6ece58"
             ],
             [
              0.8888888888888888,
              "#b5de2b"
             ],
             [
              1,
              "#fde725"
             ]
            ],
            "type": "heatmapgl"
           }
          ],
          "histogram": [
           {
            "marker": {
             "line": {
              "color": "white",
              "width": 0.6
             }
            },
            "type": "histogram"
           }
          ],
          "histogram2d": [
           {
            "colorbar": {
             "outlinewidth": 1,
             "tickcolor": "rgb(36,36,36)",
             "ticks": "outside"
            },
            "colorscale": [
             [
              0,
              "#440154"
             ],
             [
              0.1111111111111111,
              "#482878"
             ],
             [
              0.2222222222222222,
              "#3e4989"
             ],
             [
              0.3333333333333333,
              "#31688e"
             ],
             [
              0.4444444444444444,
              "#26828e"
             ],
             [
              0.5555555555555556,
              "#1f9e89"
             ],
             [
              0.6666666666666666,
              "#35b779"
             ],
             [
              0.7777777777777778,
              "#6ece58"
             ],
             [
              0.8888888888888888,
              "#b5de2b"
             ],
             [
              1,
              "#fde725"
             ]
            ],
            "type": "histogram2d"
           }
          ],
          "histogram2dcontour": [
           {
            "colorbar": {
             "outlinewidth": 1,
             "tickcolor": "rgb(36,36,36)",
             "ticks": "outside"
            },
            "colorscale": [
             [
              0,
              "#440154"
             ],
             [
              0.1111111111111111,
              "#482878"
             ],
             [
              0.2222222222222222,
              "#3e4989"
             ],
             [
              0.3333333333333333,
              "#31688e"
             ],
             [
              0.4444444444444444,
              "#26828e"
             ],
             [
              0.5555555555555556,
              "#1f9e89"
             ],
             [
              0.6666666666666666,
              "#35b779"
             ],
             [
              0.7777777777777778,
              "#6ece58"
             ],
             [
              0.8888888888888888,
              "#b5de2b"
             ],
             [
              1,
              "#fde725"
             ]
            ],
            "type": "histogram2dcontour"
           }
          ],
          "mesh3d": [
           {
            "colorbar": {
             "outlinewidth": 1,
             "tickcolor": "rgb(36,36,36)",
             "ticks": "outside"
            },
            "type": "mesh3d"
           }
          ],
          "parcoords": [
           {
            "line": {
             "colorbar": {
              "outlinewidth": 1,
              "tickcolor": "rgb(36,36,36)",
              "ticks": "outside"
             }
            },
            "type": "parcoords"
           }
          ],
          "pie": [
           {
            "automargin": true,
            "type": "pie"
           }
          ],
          "scatter": [
           {
            "fillpattern": {
             "fillmode": "overlay",
             "size": 10,
             "solidity": 0.2
            },
            "type": "scatter"
           }
          ],
          "scatter3d": [
           {
            "line": {
             "colorbar": {
              "outlinewidth": 1,
              "tickcolor": "rgb(36,36,36)",
              "ticks": "outside"
             }
            },
            "marker": {
             "colorbar": {
              "outlinewidth": 1,
              "tickcolor": "rgb(36,36,36)",
              "ticks": "outside"
             }
            },
            "type": "scatter3d"
           }
          ],
          "scattercarpet": [
           {
            "marker": {
             "colorbar": {
              "outlinewidth": 1,
              "tickcolor": "rgb(36,36,36)",
              "ticks": "outside"
             }
            },
            "type": "scattercarpet"
           }
          ],
          "scattergeo": [
           {
            "marker": {
             "colorbar": {
              "outlinewidth": 1,
              "tickcolor": "rgb(36,36,36)",
              "ticks": "outside"
             }
            },
            "type": "scattergeo"
           }
          ],
          "scattergl": [
           {
            "marker": {
             "colorbar": {
              "outlinewidth": 1,
              "tickcolor": "rgb(36,36,36)",
              "ticks": "outside"
             }
            },
            "type": "scattergl"
           }
          ],
          "scattermapbox": [
           {
            "marker": {
             "colorbar": {
              "outlinewidth": 1,
              "tickcolor": "rgb(36,36,36)",
              "ticks": "outside"
             }
            },
            "type": "scattermapbox"
           }
          ],
          "scatterpolar": [
           {
            "marker": {
             "colorbar": {
              "outlinewidth": 1,
              "tickcolor": "rgb(36,36,36)",
              "ticks": "outside"
             }
            },
            "type": "scatterpolar"
           }
          ],
          "scatterpolargl": [
           {
            "marker": {
             "colorbar": {
              "outlinewidth": 1,
              "tickcolor": "rgb(36,36,36)",
              "ticks": "outside"
             }
            },
            "type": "scatterpolargl"
           }
          ],
          "scatterternary": [
           {
            "marker": {
             "colorbar": {
              "outlinewidth": 1,
              "tickcolor": "rgb(36,36,36)",
              "ticks": "outside"
             }
            },
            "type": "scatterternary"
           }
          ],
          "surface": [
           {
            "colorbar": {
             "outlinewidth": 1,
             "tickcolor": "rgb(36,36,36)",
             "ticks": "outside"
            },
            "colorscale": [
             [
              0,
              "#440154"
             ],
             [
              0.1111111111111111,
              "#482878"
             ],
             [
              0.2222222222222222,
              "#3e4989"
             ],
             [
              0.3333333333333333,
              "#31688e"
             ],
             [
              0.4444444444444444,
              "#26828e"
             ],
             [
              0.5555555555555556,
              "#1f9e89"
             ],
             [
              0.6666666666666666,
              "#35b779"
             ],
             [
              0.7777777777777778,
              "#6ece58"
             ],
             [
              0.8888888888888888,
              "#b5de2b"
             ],
             [
              1,
              "#fde725"
             ]
            ],
            "type": "surface"
           }
          ],
          "table": [
           {
            "cells": {
             "fill": {
              "color": "rgb(237,237,237)"
             },
             "line": {
              "color": "white"
             }
            },
            "header": {
             "fill": {
              "color": "rgb(217,217,217)"
             },
             "line": {
              "color": "white"
             }
            },
            "type": "table"
           }
          ]
         },
         "layout": {
          "annotationdefaults": {
           "arrowhead": 0,
           "arrowwidth": 1
          },
          "autotypenumbers": "strict",
          "coloraxis": {
           "colorbar": {
            "outlinewidth": 1,
            "tickcolor": "rgb(36,36,36)",
            "ticks": "outside"
           }
          },
          "colorscale": {
           "diverging": [
            [
             0,
             "rgb(103,0,31)"
            ],
            [
             0.1,
             "rgb(178,24,43)"
            ],
            [
             0.2,
             "rgb(214,96,77)"
            ],
            [
             0.3,
             "rgb(244,165,130)"
            ],
            [
             0.4,
             "rgb(253,219,199)"
            ],
            [
             0.5,
             "rgb(247,247,247)"
            ],
            [
             0.6,
             "rgb(209,229,240)"
            ],
            [
             0.7,
             "rgb(146,197,222)"
            ],
            [
             0.8,
             "rgb(67,147,195)"
            ],
            [
             0.9,
             "rgb(33,102,172)"
            ],
            [
             1,
             "rgb(5,48,97)"
            ]
           ],
           "sequential": [
            [
             0,
             "#440154"
            ],
            [
             0.1111111111111111,
             "#482878"
            ],
            [
             0.2222222222222222,
             "#3e4989"
            ],
            [
             0.3333333333333333,
             "#31688e"
            ],
            [
             0.4444444444444444,
             "#26828e"
            ],
            [
             0.5555555555555556,
             "#1f9e89"
            ],
            [
             0.6666666666666666,
             "#35b779"
            ],
            [
             0.7777777777777778,
             "#6ece58"
            ],
            [
             0.8888888888888888,
             "#b5de2b"
            ],
            [
             1,
             "#fde725"
            ]
           ],
           "sequentialminus": [
            [
             0,
             "#440154"
            ],
            [
             0.1111111111111111,
             "#482878"
            ],
            [
             0.2222222222222222,
             "#3e4989"
            ],
            [
             0.3333333333333333,
             "#31688e"
            ],
            [
             0.4444444444444444,
             "#26828e"
            ],
            [
             0.5555555555555556,
             "#1f9e89"
            ],
            [
             0.6666666666666666,
             "#35b779"
            ],
            [
             0.7777777777777778,
             "#6ece58"
            ],
            [
             0.8888888888888888,
             "#b5de2b"
            ],
            [
             1,
             "#fde725"
            ]
           ]
          },
          "colorway": [
           "#1F77B4",
           "#FF7F0E",
           "#2CA02C",
           "#D62728",
           "#9467BD",
           "#8C564B",
           "#E377C2",
           "#7F7F7F",
           "#BCBD22",
           "#17BECF"
          ],
          "font": {
           "color": "rgb(36,36,36)"
          },
          "geo": {
           "bgcolor": "white",
           "lakecolor": "white",
           "landcolor": "white",
           "showlakes": true,
           "showland": true,
           "subunitcolor": "white"
          },
          "hoverlabel": {
           "align": "left"
          },
          "hovermode": "closest",
          "mapbox": {
           "style": "light"
          },
          "paper_bgcolor": "white",
          "plot_bgcolor": "white",
          "polar": {
           "angularaxis": {
            "gridcolor": "rgb(232,232,232)",
            "linecolor": "rgb(36,36,36)",
            "showgrid": false,
            "showline": true,
            "ticks": "outside"
           },
           "bgcolor": "white",
           "radialaxis": {
            "gridcolor": "rgb(232,232,232)",
            "linecolor": "rgb(36,36,36)",
            "showgrid": false,
            "showline": true,
            "ticks": "outside"
           }
          },
          "scene": {
           "xaxis": {
            "backgroundcolor": "white",
            "gridcolor": "rgb(232,232,232)",
            "gridwidth": 2,
            "linecolor": "rgb(36,36,36)",
            "showbackground": true,
            "showgrid": false,
            "showline": true,
            "ticks": "outside",
            "zeroline": false,
            "zerolinecolor": "rgb(36,36,36)"
           },
           "yaxis": {
            "backgroundcolor": "white",
            "gridcolor": "rgb(232,232,232)",
            "gridwidth": 2,
            "linecolor": "rgb(36,36,36)",
            "showbackground": true,
            "showgrid": false,
            "showline": true,
            "ticks": "outside",
            "zeroline": false,
            "zerolinecolor": "rgb(36,36,36)"
           },
           "zaxis": {
            "backgroundcolor": "white",
            "gridcolor": "rgb(232,232,232)",
            "gridwidth": 2,
            "linecolor": "rgb(36,36,36)",
            "showbackground": true,
            "showgrid": false,
            "showline": true,
            "ticks": "outside",
            "zeroline": false,
            "zerolinecolor": "rgb(36,36,36)"
           }
          },
          "shapedefaults": {
           "fillcolor": "black",
           "line": {
            "width": 0
           },
           "opacity": 0.3
          },
          "ternary": {
           "aaxis": {
            "gridcolor": "rgb(232,232,232)",
            "linecolor": "rgb(36,36,36)",
            "showgrid": false,
            "showline": true,
            "ticks": "outside"
           },
           "baxis": {
            "gridcolor": "rgb(232,232,232)",
            "linecolor": "rgb(36,36,36)",
            "showgrid": false,
            "showline": true,
            "ticks": "outside"
           },
           "bgcolor": "white",
           "caxis": {
            "gridcolor": "rgb(232,232,232)",
            "linecolor": "rgb(36,36,36)",
            "showgrid": false,
            "showline": true,
            "ticks": "outside"
           }
          },
          "title": {
           "x": 0.05
          },
          "xaxis": {
           "automargin": true,
           "gridcolor": "rgb(232,232,232)",
           "linecolor": "rgb(36,36,36)",
           "showgrid": false,
           "showline": true,
           "ticks": "outside",
           "title": {
            "standoff": 15
           },
           "zeroline": false,
           "zerolinecolor": "rgb(36,36,36)"
          },
          "yaxis": {
           "automargin": true,
           "gridcolor": "rgb(232,232,232)",
           "linecolor": "rgb(36,36,36)",
           "showgrid": false,
           "showline": true,
           "ticks": "outside",
           "title": {
            "standoff": 15
           },
           "zeroline": false,
           "zerolinecolor": "rgb(36,36,36)"
          }
         }
        },
        "title": {
         "font": {
          "color": "Black",
          "size": 22
         },
         "text": "<b>Topics over Time</b>",
         "x": 0.4,
         "xanchor": "center",
         "y": 0.95,
         "yanchor": "top"
        },
        "width": 1250,
        "xaxis": {
         "showgrid": true
        },
        "yaxis": {
         "showgrid": true,
         "title": {
          "text": "Frequency"
         }
        }
       }
      }
     },
     "metadata": {},
     "output_type": "display_data"
    }
   ],
   "source": [
    "model.visualize_topics_over_time(topics_over_time, topics=[20, 21, 22, 23, 24, 25, 26, 27, 28, 29])\n"
   ]
  },
  {
   "cell_type": "code",
   "execution_count": 70,
   "metadata": {},
   "outputs": [
    {
     "data": {
      "application/vnd.plotly.v1+json": {
       "config": {
        "plotlyServerURL": "https://plot.ly"
       },
       "data": [
        {
         "hoverinfo": "text",
         "hovertext": [
          "<b>Topic 30</b><br>Words: flip, structured, lessons, flipped, semi",
          "<b>Topic 30</b><br>Words: flipped, srs, idioms, english, instruction",
          "<b>Topic 30</b><br>Words: flipped, class, in, learning, instruction",
          "<b>Topic 30</b><br>Words: flipped, telegram, parametric, class, were",
          "<b>Topic 30</b><br>Words: flipped, classroom, writing, in, metacognitive",
          "<b>Topic 30</b><br>Words: flipped, learner, reversal, fi, classroom",
          "<b>Topic 30</b><br>Words: flipped, writing, were, classroom, studies"
         ],
         "marker": {
          "color": "#E69F00"
         },
         "mode": "lines",
         "name": "30_flipped_classroom_in_were",
         "type": "scatter",
         "x": [
          2015,
          2017,
          2018,
          2019,
          2020,
          2021,
          2022
         ],
         "y": [
          1,
          2,
          3,
          1,
          4,
          3,
          3
         ]
        },
        {
         "hoverinfo": "text",
         "hovertext": [
          "<b>Topic 31</b><br>Words: smart, phones, smartphones, brand, smartphone",
          "<b>Topic 31</b><br>Words: socrative, explosive, smartphone, deployed, tool",
          "<b>Topic 31</b><br>Words: smartphone, device, pc, phones, users",
          "<b>Topic 31</b><br>Words: digital, devices, magazines, device, mobile",
          "<b>Topic 31</b><br>Words: beacons, physical, campus, web, prospective",
          "<b>Topic 31</b><br>Words: smartphones, mobile, devices, students, indonesia",
          "<b>Topic 31</b><br>Words: tablet, autism, phone, cell, devices",
          "<b>Topic 31</b><br>Words: mobile, phones, beliefs, teachers, professional"
         ],
         "marker": {
          "color": "#56B4E9"
         },
         "mode": "lines",
         "name": "31_smart_phones_smartphones_devices",
         "type": "scatter",
         "x": [
          2013,
          2016,
          2017,
          2018,
          2019,
          2020,
          2021,
          2022
         ],
         "y": [
          4,
          1,
          2,
          4,
          1,
          2,
          2,
          1
         ]
        },
        {
         "hoverinfo": "text",
         "hovertext": [
          "<b>Topic 32</b><br>Words: cloud, computing, software, track, can",
          "<b>Topic 32</b><br>Words: decision, cloud, cc, institute, educational",
          "<b>Topic 32</b><br>Words: cloud, computing, can, systems, services",
          "<b>Topic 32</b><br>Words: cloud, computing, services, universities, house",
          "<b>Topic 32</b><br>Words: cloud, computing, raspberry, pi, mathematica",
          "<b>Topic 32</b><br>Words: cloud, computing, command, computer, raspberry",
          "<b>Topic 32</b><br>Words: cloud, forensic, computing, acquisitions, digital",
          "<b>Topic 32</b><br>Words: aws, cloud, labs, intended, to",
          "<b>Topic 32</b><br>Words: cloud, computing, aws, services, as"
         ],
         "marker": {
          "color": "#009E73"
         },
         "mode": "lines",
         "name": "32_cloud_computing_decision_cc",
         "type": "scatter",
         "x": [
          2013,
          2014,
          2016,
          2017,
          2018,
          2019,
          2020,
          2021,
          2022
         ],
         "y": [
          2,
          1,
          2,
          2,
          3,
          3,
          1,
          1,
          1
         ]
        },
        {
         "hoverinfo": "text",
         "hovertext": [
          "<b>Topic 33</b><br>Words: disabilities, personalisation, ontodaps, systems, disabled",
          "<b>Topic 33</b><br>Words: hci, usability, disabilities, field, system",
          "<b>Topic 33</b><br>Words: disabilities, individuals, hci, film, disability",
          "<b>Topic 33</b><br>Words: exams, staff, adoption, optimistic, general",
          "<b>Topic 33</b><br>Words: disabilities, systems, stem, information, enough",
          "<b>Topic 33</b><br>Words: disabilities, people, portfolios, with, authors",
          "<b>Topic 33</b><br>Words: web, fit, ui, design, disabilities",
          "<b>Topic 33</b><br>Words: disabilities, neuro, brain, neurophysiological, systems"
         ],
         "marker": {
          "color": "#F0E442"
         },
         "mode": "lines",
         "name": "33_disabilities_systems_hci_with",
         "type": "scatter",
         "x": [
          2013,
          2014,
          2015,
          2016,
          2018,
          2019,
          2020,
          2022
         ],
         "y": [
          3,
          3,
          2,
          1,
          2,
          1,
          2,
          2
         ]
        },
        {
         "hoverinfo": "text",
         "hovertext": [
          "<b>Topic 34</b><br>Words: perceived, intention, library, diffusion, textbook",
          "<b>Topic 34</b><br>Words: acceptance, moodle, kuwait, learning, readiness",
          "<b>Topic 34</b><br>Words: d2l, faculty, ghana, migration, adoption",
          "<b>Topic 34</b><br>Words: fit, mim, technology, findings, perceived",
          "<b>Topic 34</b><br>Words: textbook, fit, perceived, digital, interactive"
         ],
         "marker": {
          "color": "#D55E00"
         },
         "mode": "lines",
         "name": "34_perceived_textbook_acceptance_technol...",
         "type": "scatter",
         "x": [
          2013,
          2016,
          2017,
          2018,
          2021
         ],
         "y": [
          8,
          2,
          2,
          2,
          1
         ]
        },
        {
         "hoverinfo": "text",
         "hovertext": [
          "<b>Topic 35</b><br>Words: virtual, constructivist, concepts, learning, outcomes",
          "<b>Topic 35</b><br>Words: virtual, environments, reality, module, behaviors",
          "<b>Topic 35</b><br>Words: virtual, environments, reality, vr, experiences",
          "<b>Topic 35</b><br>Words: reality, virtual, vr, augmented, talktech",
          "<b>Topic 35</b><br>Words: vr, virtual, immersive, reality, hmd",
          "<b>Topic 35</b><br>Words: reality, vr, ar, virtual, augmented",
          "<b>Topic 35</b><br>Words: reality, identities, mixed, vr, capital",
          "<b>Topic 35</b><br>Words: vr, classroom, immersive, reality, virtual"
         ],
         "marker": {
          "color": "#0072B2"
         },
         "mode": "lines",
         "name": "35_vr_virtual_reality_environments",
         "type": "scatter",
         "x": [
          2014,
          2015,
          2017,
          2018,
          2019,
          2020,
          2021,
          2022
         ],
         "y": [
          1,
          2,
          2,
          3,
          3,
          2,
          1,
          1
         ]
        },
        {
         "hoverinfo": "text",
         "hovertext": [
          "<b>Topic 36</b><br>Words: multimodal, webcam, dvc, gaze, contact",
          "<b>Topic 36</b><br>Words: multimodal, presence, interactions, social, online",
          "<b>Topic 36</b><br>Words: multimodal, webcams, webcam, trainee, semiotic",
          "<b>Topic 36</b><br>Words: multimodal, eyetracking, online, interactions, communication",
          "<b>Topic 36</b><br>Words: videoconferencing, audioconferencing, condition, referential, lexical",
          "<b>Topic 36</b><br>Words: semiotic, multimodal, screen, presence, interactions",
          "<b>Topic 36</b><br>Words: eye, approach, tutoring, tracking, multimodal"
         ],
         "marker": {
          "color": "#CC79A7"
         },
         "mode": "lines",
         "name": "36_multimodal_interactions_semiotic_onli...",
         "type": "scatter",
         "x": [
          2013,
          2015,
          2016,
          2017,
          2019,
          2020,
          2022
         ],
         "y": [
          2,
          2,
          4,
          3,
          1,
          2,
          1
         ]
        },
        {
         "hoverinfo": "text",
         "hovertext": [
          "<b>Topic 37</b><br>Words: capstone, mobile, component, development, app",
          "<b>Topic 37</b><br>Words: inventor, app, programming, designing, cs",
          "<b>Topic 37</b><br>Words: inventor, app, programmers, month, programming",
          "<b>Topic 37</b><br>Words: peg, app, mobile, programming, development",
          "<b>Topic 37</b><br>Words: android, development, mobile, capstone, application",
          "<b>Topic 37</b><br>Words: apps, engineering, courses, smartphone, teach",
          "<b>Topic 37</b><br>Words: development, app, courses, conception, technology"
         ],
         "marker": {
          "color": "#E69F00"
         },
         "mode": "lines",
         "name": "37_app_development_mobile_inventor",
         "type": "scatter",
         "x": [
          2013,
          2014,
          2015,
          2016,
          2017,
          2018,
          2021
         ],
         "y": [
          3,
          1,
          1,
          4,
          1,
          1,
          3
         ]
        },
        {
         "hoverinfo": "text",
         "hovertext": [
          "<b>Topic 38</b><br>Words: global, globalisation, political, globalization, quot",
          "<b>Topic 38</b><br>Words: global, income, quot, countries, purpose"
         ],
         "marker": {
          "color": "#56B4E9"
         },
         "mode": "lines",
         "name": "38_global_income_quot_globalisation",
         "type": "scatter",
         "x": [
          2013,
          2014
         ],
         "y": [
          7,
          7
         ]
        },
        {
         "hoverinfo": "text",
         "hovertext": [
          "<b>Topic 39</b><br>Words: vocabulary, si, ocw, acquisition, lectures",
          "<b>Topic 39</b><br>Words: vocabulary, toeic, gains, srs, test",
          "<b>Topic 39</b><br>Words: intervention, ells, vocabulary, academic, cummins",
          "<b>Topic 39</b><br>Words: vocabulary, tmvd, knowledge, blog, methodological",
          "<b>Topic 39</b><br>Words: vocabulary, dlls, intervention, dual, ells",
          "<b>Topic 39</b><br>Words: vocabulary, acquisition, test, system, learners",
          "<b>Topic 39</b><br>Words: dlls, dual, vocabulary, ed614293, language",
          "<b>Topic 39</b><br>Words: vocabulary, quizlet, receptive, productive, acquisition"
         ],
         "marker": {
          "color": "#009E73"
         },
         "mode": "lines",
         "name": "39_vocabulary_acquisition_dlls_intervent...",
         "type": "scatter",
         "x": [
          2013,
          2016,
          2017,
          2018,
          2019,
          2020,
          2021,
          2022
         ],
         "y": [
          2,
          3,
          1,
          2,
          2,
          1,
          1,
          2
         ]
        }
       ],
       "layout": {
        "height": 450,
        "hoverlabel": {
         "bgcolor": "white",
         "font": {
          "family": "Rockwell",
          "size": 16
         }
        },
        "legend": {
         "title": {
          "text": "<b>Global Topic Representation"
         }
        },
        "template": {
         "data": {
          "bar": [
           {
            "error_x": {
             "color": "rgb(36,36,36)"
            },
            "error_y": {
             "color": "rgb(36,36,36)"
            },
            "marker": {
             "line": {
              "color": "white",
              "width": 0.5
             },
             "pattern": {
              "fillmode": "overlay",
              "size": 10,
              "solidity": 0.2
             }
            },
            "type": "bar"
           }
          ],
          "barpolar": [
           {
            "marker": {
             "line": {
              "color": "white",
              "width": 0.5
             },
             "pattern": {
              "fillmode": "overlay",
              "size": 10,
              "solidity": 0.2
             }
            },
            "type": "barpolar"
           }
          ],
          "carpet": [
           {
            "aaxis": {
             "endlinecolor": "rgb(36,36,36)",
             "gridcolor": "white",
             "linecolor": "white",
             "minorgridcolor": "white",
             "startlinecolor": "rgb(36,36,36)"
            },
            "baxis": {
             "endlinecolor": "rgb(36,36,36)",
             "gridcolor": "white",
             "linecolor": "white",
             "minorgridcolor": "white",
             "startlinecolor": "rgb(36,36,36)"
            },
            "type": "carpet"
           }
          ],
          "choropleth": [
           {
            "colorbar": {
             "outlinewidth": 1,
             "tickcolor": "rgb(36,36,36)",
             "ticks": "outside"
            },
            "type": "choropleth"
           }
          ],
          "contour": [
           {
            "colorbar": {
             "outlinewidth": 1,
             "tickcolor": "rgb(36,36,36)",
             "ticks": "outside"
            },
            "colorscale": [
             [
              0,
              "#440154"
             ],
             [
              0.1111111111111111,
              "#482878"
             ],
             [
              0.2222222222222222,
              "#3e4989"
             ],
             [
              0.3333333333333333,
              "#31688e"
             ],
             [
              0.4444444444444444,
              "#26828e"
             ],
             [
              0.5555555555555556,
              "#1f9e89"
             ],
             [
              0.6666666666666666,
              "#35b779"
             ],
             [
              0.7777777777777778,
              "#6ece58"
             ],
             [
              0.8888888888888888,
              "#b5de2b"
             ],
             [
              1,
              "#fde725"
             ]
            ],
            "type": "contour"
           }
          ],
          "contourcarpet": [
           {
            "colorbar": {
             "outlinewidth": 1,
             "tickcolor": "rgb(36,36,36)",
             "ticks": "outside"
            },
            "type": "contourcarpet"
           }
          ],
          "heatmap": [
           {
            "colorbar": {
             "outlinewidth": 1,
             "tickcolor": "rgb(36,36,36)",
             "ticks": "outside"
            },
            "colorscale": [
             [
              0,
              "#440154"
             ],
             [
              0.1111111111111111,
              "#482878"
             ],
             [
              0.2222222222222222,
              "#3e4989"
             ],
             [
              0.3333333333333333,
              "#31688e"
             ],
             [
              0.4444444444444444,
              "#26828e"
             ],
             [
              0.5555555555555556,
              "#1f9e89"
             ],
             [
              0.6666666666666666,
              "#35b779"
             ],
             [
              0.7777777777777778,
              "#6ece58"
             ],
             [
              0.8888888888888888,
              "#b5de2b"
             ],
             [
              1,
              "#fde725"
             ]
            ],
            "type": "heatmap"
           }
          ],
          "heatmapgl": [
           {
            "colorbar": {
             "outlinewidth": 1,
             "tickcolor": "rgb(36,36,36)",
             "ticks": "outside"
            },
            "colorscale": [
             [
              0,
              "#440154"
             ],
             [
              0.1111111111111111,
              "#482878"
             ],
             [
              0.2222222222222222,
              "#3e4989"
             ],
             [
              0.3333333333333333,
              "#31688e"
             ],
             [
              0.4444444444444444,
              "#26828e"
             ],
             [
              0.5555555555555556,
              "#1f9e89"
             ],
             [
              0.6666666666666666,
              "#35b779"
             ],
             [
              0.7777777777777778,
              "#6ece58"
             ],
             [
              0.8888888888888888,
              "#b5de2b"
             ],
             [
              1,
              "#fde725"
             ]
            ],
            "type": "heatmapgl"
           }
          ],
          "histogram": [
           {
            "marker": {
             "line": {
              "color": "white",
              "width": 0.6
             }
            },
            "type": "histogram"
           }
          ],
          "histogram2d": [
           {
            "colorbar": {
             "outlinewidth": 1,
             "tickcolor": "rgb(36,36,36)",
             "ticks": "outside"
            },
            "colorscale": [
             [
              0,
              "#440154"
             ],
             [
              0.1111111111111111,
              "#482878"
             ],
             [
              0.2222222222222222,
              "#3e4989"
             ],
             [
              0.3333333333333333,
              "#31688e"
             ],
             [
              0.4444444444444444,
              "#26828e"
             ],
             [
              0.5555555555555556,
              "#1f9e89"
             ],
             [
              0.6666666666666666,
              "#35b779"
             ],
             [
              0.7777777777777778,
              "#6ece58"
             ],
             [
              0.8888888888888888,
              "#b5de2b"
             ],
             [
              1,
              "#fde725"
             ]
            ],
            "type": "histogram2d"
           }
          ],
          "histogram2dcontour": [
           {
            "colorbar": {
             "outlinewidth": 1,
             "tickcolor": "rgb(36,36,36)",
             "ticks": "outside"
            },
            "colorscale": [
             [
              0,
              "#440154"
             ],
             [
              0.1111111111111111,
              "#482878"
             ],
             [
              0.2222222222222222,
              "#3e4989"
             ],
             [
              0.3333333333333333,
              "#31688e"
             ],
             [
              0.4444444444444444,
              "#26828e"
             ],
             [
              0.5555555555555556,
              "#1f9e89"
             ],
             [
              0.6666666666666666,
              "#35b779"
             ],
             [
              0.7777777777777778,
              "#6ece58"
             ],
             [
              0.8888888888888888,
              "#b5de2b"
             ],
             [
              1,
              "#fde725"
             ]
            ],
            "type": "histogram2dcontour"
           }
          ],
          "mesh3d": [
           {
            "colorbar": {
             "outlinewidth": 1,
             "tickcolor": "rgb(36,36,36)",
             "ticks": "outside"
            },
            "type": "mesh3d"
           }
          ],
          "parcoords": [
           {
            "line": {
             "colorbar": {
              "outlinewidth": 1,
              "tickcolor": "rgb(36,36,36)",
              "ticks": "outside"
             }
            },
            "type": "parcoords"
           }
          ],
          "pie": [
           {
            "automargin": true,
            "type": "pie"
           }
          ],
          "scatter": [
           {
            "fillpattern": {
             "fillmode": "overlay",
             "size": 10,
             "solidity": 0.2
            },
            "type": "scatter"
           }
          ],
          "scatter3d": [
           {
            "line": {
             "colorbar": {
              "outlinewidth": 1,
              "tickcolor": "rgb(36,36,36)",
              "ticks": "outside"
             }
            },
            "marker": {
             "colorbar": {
              "outlinewidth": 1,
              "tickcolor": "rgb(36,36,36)",
              "ticks": "outside"
             }
            },
            "type": "scatter3d"
           }
          ],
          "scattercarpet": [
           {
            "marker": {
             "colorbar": {
              "outlinewidth": 1,
              "tickcolor": "rgb(36,36,36)",
              "ticks": "outside"
             }
            },
            "type": "scattercarpet"
           }
          ],
          "scattergeo": [
           {
            "marker": {
             "colorbar": {
              "outlinewidth": 1,
              "tickcolor": "rgb(36,36,36)",
              "ticks": "outside"
             }
            },
            "type": "scattergeo"
           }
          ],
          "scattergl": [
           {
            "marker": {
             "colorbar": {
              "outlinewidth": 1,
              "tickcolor": "rgb(36,36,36)",
              "ticks": "outside"
             }
            },
            "type": "scattergl"
           }
          ],
          "scattermapbox": [
           {
            "marker": {
             "colorbar": {
              "outlinewidth": 1,
              "tickcolor": "rgb(36,36,36)",
              "ticks": "outside"
             }
            },
            "type": "scattermapbox"
           }
          ],
          "scatterpolar": [
           {
            "marker": {
             "colorbar": {
              "outlinewidth": 1,
              "tickcolor": "rgb(36,36,36)",
              "ticks": "outside"
             }
            },
            "type": "scatterpolar"
           }
          ],
          "scatterpolargl": [
           {
            "marker": {
             "colorbar": {
              "outlinewidth": 1,
              "tickcolor": "rgb(36,36,36)",
              "ticks": "outside"
             }
            },
            "type": "scatterpolargl"
           }
          ],
          "scatterternary": [
           {
            "marker": {
             "colorbar": {
              "outlinewidth": 1,
              "tickcolor": "rgb(36,36,36)",
              "ticks": "outside"
             }
            },
            "type": "scatterternary"
           }
          ],
          "surface": [
           {
            "colorbar": {
             "outlinewidth": 1,
             "tickcolor": "rgb(36,36,36)",
             "ticks": "outside"
            },
            "colorscale": [
             [
              0,
              "#440154"
             ],
             [
              0.1111111111111111,
              "#482878"
             ],
             [
              0.2222222222222222,
              "#3e4989"
             ],
             [
              0.3333333333333333,
              "#31688e"
             ],
             [
              0.4444444444444444,
              "#26828e"
             ],
             [
              0.5555555555555556,
              "#1f9e89"
             ],
             [
              0.6666666666666666,
              "#35b779"
             ],
             [
              0.7777777777777778,
              "#6ece58"
             ],
             [
              0.8888888888888888,
              "#b5de2b"
             ],
             [
              1,
              "#fde725"
             ]
            ],
            "type": "surface"
           }
          ],
          "table": [
           {
            "cells": {
             "fill": {
              "color": "rgb(237,237,237)"
             },
             "line": {
              "color": "white"
             }
            },
            "header": {
             "fill": {
              "color": "rgb(217,217,217)"
             },
             "line": {
              "color": "white"
             }
            },
            "type": "table"
           }
          ]
         },
         "layout": {
          "annotationdefaults": {
           "arrowhead": 0,
           "arrowwidth": 1
          },
          "autotypenumbers": "strict",
          "coloraxis": {
           "colorbar": {
            "outlinewidth": 1,
            "tickcolor": "rgb(36,36,36)",
            "ticks": "outside"
           }
          },
          "colorscale": {
           "diverging": [
            [
             0,
             "rgb(103,0,31)"
            ],
            [
             0.1,
             "rgb(178,24,43)"
            ],
            [
             0.2,
             "rgb(214,96,77)"
            ],
            [
             0.3,
             "rgb(244,165,130)"
            ],
            [
             0.4,
             "rgb(253,219,199)"
            ],
            [
             0.5,
             "rgb(247,247,247)"
            ],
            [
             0.6,
             "rgb(209,229,240)"
            ],
            [
             0.7,
             "rgb(146,197,222)"
            ],
            [
             0.8,
             "rgb(67,147,195)"
            ],
            [
             0.9,
             "rgb(33,102,172)"
            ],
            [
             1,
             "rgb(5,48,97)"
            ]
           ],
           "sequential": [
            [
             0,
             "#440154"
            ],
            [
             0.1111111111111111,
             "#482878"
            ],
            [
             0.2222222222222222,
             "#3e4989"
            ],
            [
             0.3333333333333333,
             "#31688e"
            ],
            [
             0.4444444444444444,
             "#26828e"
            ],
            [
             0.5555555555555556,
             "#1f9e89"
            ],
            [
             0.6666666666666666,
             "#35b779"
            ],
            [
             0.7777777777777778,
             "#6ece58"
            ],
            [
             0.8888888888888888,
             "#b5de2b"
            ],
            [
             1,
             "#fde725"
            ]
           ],
           "sequentialminus": [
            [
             0,
             "#440154"
            ],
            [
             0.1111111111111111,
             "#482878"
            ],
            [
             0.2222222222222222,
             "#3e4989"
            ],
            [
             0.3333333333333333,
             "#31688e"
            ],
            [
             0.4444444444444444,
             "#26828e"
            ],
            [
             0.5555555555555556,
             "#1f9e89"
            ],
            [
             0.6666666666666666,
             "#35b779"
            ],
            [
             0.7777777777777778,
             "#6ece58"
            ],
            [
             0.8888888888888888,
             "#b5de2b"
            ],
            [
             1,
             "#fde725"
            ]
           ]
          },
          "colorway": [
           "#1F77B4",
           "#FF7F0E",
           "#2CA02C",
           "#D62728",
           "#9467BD",
           "#8C564B",
           "#E377C2",
           "#7F7F7F",
           "#BCBD22",
           "#17BECF"
          ],
          "font": {
           "color": "rgb(36,36,36)"
          },
          "geo": {
           "bgcolor": "white",
           "lakecolor": "white",
           "landcolor": "white",
           "showlakes": true,
           "showland": true,
           "subunitcolor": "white"
          },
          "hoverlabel": {
           "align": "left"
          },
          "hovermode": "closest",
          "mapbox": {
           "style": "light"
          },
          "paper_bgcolor": "white",
          "plot_bgcolor": "white",
          "polar": {
           "angularaxis": {
            "gridcolor": "rgb(232,232,232)",
            "linecolor": "rgb(36,36,36)",
            "showgrid": false,
            "showline": true,
            "ticks": "outside"
           },
           "bgcolor": "white",
           "radialaxis": {
            "gridcolor": "rgb(232,232,232)",
            "linecolor": "rgb(36,36,36)",
            "showgrid": false,
            "showline": true,
            "ticks": "outside"
           }
          },
          "scene": {
           "xaxis": {
            "backgroundcolor": "white",
            "gridcolor": "rgb(232,232,232)",
            "gridwidth": 2,
            "linecolor": "rgb(36,36,36)",
            "showbackground": true,
            "showgrid": false,
            "showline": true,
            "ticks": "outside",
            "zeroline": false,
            "zerolinecolor": "rgb(36,36,36)"
           },
           "yaxis": {
            "backgroundcolor": "white",
            "gridcolor": "rgb(232,232,232)",
            "gridwidth": 2,
            "linecolor": "rgb(36,36,36)",
            "showbackground": true,
            "showgrid": false,
            "showline": true,
            "ticks": "outside",
            "zeroline": false,
            "zerolinecolor": "rgb(36,36,36)"
           },
           "zaxis": {
            "backgroundcolor": "white",
            "gridcolor": "rgb(232,232,232)",
            "gridwidth": 2,
            "linecolor": "rgb(36,36,36)",
            "showbackground": true,
            "showgrid": false,
            "showline": true,
            "ticks": "outside",
            "zeroline": false,
            "zerolinecolor": "rgb(36,36,36)"
           }
          },
          "shapedefaults": {
           "fillcolor": "black",
           "line": {
            "width": 0
           },
           "opacity": 0.3
          },
          "ternary": {
           "aaxis": {
            "gridcolor": "rgb(232,232,232)",
            "linecolor": "rgb(36,36,36)",
            "showgrid": false,
            "showline": true,
            "ticks": "outside"
           },
           "baxis": {
            "gridcolor": "rgb(232,232,232)",
            "linecolor": "rgb(36,36,36)",
            "showgrid": false,
            "showline": true,
            "ticks": "outside"
           },
           "bgcolor": "white",
           "caxis": {
            "gridcolor": "rgb(232,232,232)",
            "linecolor": "rgb(36,36,36)",
            "showgrid": false,
            "showline": true,
            "ticks": "outside"
           }
          },
          "title": {
           "x": 0.05
          },
          "xaxis": {
           "automargin": true,
           "gridcolor": "rgb(232,232,232)",
           "linecolor": "rgb(36,36,36)",
           "showgrid": false,
           "showline": true,
           "ticks": "outside",
           "title": {
            "standoff": 15
           },
           "zeroline": false,
           "zerolinecolor": "rgb(36,36,36)"
          },
          "yaxis": {
           "automargin": true,
           "gridcolor": "rgb(232,232,232)",
           "linecolor": "rgb(36,36,36)",
           "showgrid": false,
           "showline": true,
           "ticks": "outside",
           "title": {
            "standoff": 15
           },
           "zeroline": false,
           "zerolinecolor": "rgb(36,36,36)"
          }
         }
        },
        "title": {
         "font": {
          "color": "Black",
          "size": 22
         },
         "text": "<b>Topics over Time</b>",
         "x": 0.4,
         "xanchor": "center",
         "y": 0.95,
         "yanchor": "top"
        },
        "width": 1250,
        "xaxis": {
         "showgrid": true
        },
        "yaxis": {
         "showgrid": true,
         "title": {
          "text": "Frequency"
         }
        }
       }
      }
     },
     "metadata": {},
     "output_type": "display_data"
    }
   ],
   "source": [
    "model.visualize_topics_over_time(topics_over_time, topics=[30, 31, 32, 33, 34, 35, 36, 37, 38, 39])\n"
   ]
  },
  {
   "cell_type": "code",
   "execution_count": 72,
   "metadata": {},
   "outputs": [
    {
     "data": {
      "application/vnd.plotly.v1+json": {
       "config": {
        "plotlyServerURL": "https://plot.ly"
       },
       "data": [
        {
         "hoverinfo": "text",
         "hovertext": [
          "<b>Topic 40</b><br>Words: listening, fl, anxiety, causal, performance",
          "<b>Topic 40</b><br>Words: listening, noticing, comprehension, imll, manipulated",
          "<b>Topic 40</b><br>Words: preview, listening, test, item, choice",
          "<b>Topic 40</b><br>Words: listening, item, pte, academic, audiovisual",
          "<b>Topic 40</b><br>Words: listening, metacognitive, dialogic, multimedia, awareness",
          "<b>Topic 40</b><br>Words: listening, hearing, options, item, metacognitive",
          "<b>Topic 40</b><br>Words: listening, vlogs, talks, options, patterns",
          "<b>Topic 40</b><br>Words: listening, eg, test, comprehension, cg"
         ],
         "marker": {
          "color": "#E69F00"
         },
         "mode": "lines",
         "name": "40_listening_test_comprehension_item",
         "type": "scatter",
         "x": [
          2013,
          2014,
          2016,
          2017,
          2018,
          2020,
          2021,
          2022
         ],
         "y": [
          1,
          1,
          1,
          2,
          1,
          2,
          2,
          3
         ]
        },
        {
         "hoverinfo": "text",
         "hovertext": [
          "<b>Topic 41</b><br>Words: consortium, enterprise, internship, global, program",
          "<b>Topic 41</b><br>Words: challenge, marketing, ppc, campaign, search",
          "<b>Topic 41</b><br>Words: business, kaplan, small, norton, course",
          "<b>Topic 41</b><br>Words: client, competition, database, professional, through",
          "<b>Topic 41</b><br>Words: redesign, petgro, service, are, client",
          "<b>Topic 41</b><br>Words: service, international, modified, framework, programs",
          "<b>Topic 41</b><br>Words: run, business, projects, real, student",
          "<b>Topic 41</b><br>Words: strategy, digital, service, course, is"
         ],
         "marker": {
          "color": "#56B4E9"
         },
         "mode": "lines",
         "name": "41_strategy_service_business_client",
         "type": "scatter",
         "x": [
          2013,
          2014,
          2015,
          2016,
          2017,
          2018,
          2020,
          2022
         ],
         "y": [
          1,
          2,
          2,
          1,
          2,
          1,
          2,
          2
         ]
        },
        {
         "hoverinfo": "text",
         "hovertext": [
          "<b>Topic 42</b><br>Words: graded, rubric, grade, generously, acceptably",
          "<b>Topic 42</b><br>Words: systems, adaptive, intelligent, defined, domains",
          "<b>Topic 42</b><br>Words: data, processed, logged, dashboards, instructors",
          "<b>Topic 42</b><br>Words: data, artificial, middle, will, intelligence",
          "<b>Topic 42</b><br>Words: prediction, chi, frbcs, negatives, positives",
          "<b>Topic 42</b><br>Words: al, et, class, data, student",
          "<b>Topic 42</b><br>Words: sentiment, ai, algorithms, neutral, visits",
          "<b>Topic 42</b><br>Words: intelligent, ml, machine, assessment, educational"
         ],
         "marker": {
          "color": "#009E73"
         },
         "mode": "lines",
         "name": "42_data_sentiment_ai_intelligent",
         "type": "scatter",
         "x": [
          2015,
          2017,
          2018,
          2019,
          2020,
          2021,
          2022,
          2023
         ],
         "y": [
          1,
          1,
          2,
          2,
          1,
          2,
          3,
          1
         ]
        },
        {
         "hoverinfo": "text",
         "hovertext": [
          "<b>Topic 43</b><br>Words: participation, activities, learner, moodle, interaction",
          "<b>Topic 43</b><br>Words: fb, social, forum, networking, moodle",
          "<b>Topic 43</b><br>Words: snsll, sites, facilitate, as, site",
          "<b>Topic 43</b><br>Words: llsnss, sites, llsns, 174, millions",
          "<b>Topic 43</b><br>Words: sp, sna, participation, analysis, online",
          "<b>Topic 43</b><br>Words: instagram, presence, social, posts, visual",
          "<b>Topic 43</b><br>Words: facebook, vcops, social, interaction, teachers",
          "<b>Topic 43</b><br>Words: engagement, social, participants, participation, online"
         ],
         "marker": {
          "color": "#F0E442"
         },
         "mode": "lines",
         "name": "43_social_participation_sites_online",
         "type": "scatter",
         "x": [
          2013,
          2014,
          2015,
          2016,
          2018,
          2019,
          2020,
          2022
         ],
         "y": [
          1,
          4,
          1,
          1,
          1,
          1,
          2,
          2
         ]
        },
        {
         "hoverinfo": "text",
         "hovertext": [
          "<b>Topic 44</b><br>Words: colleagues, peer, badges, extending, course",
          "<b>Topic 44</b><br>Words: discussions, online, we, facilitation, aods",
          "<b>Topic 44</b><br>Words: discussions, online, assessment, interactions, holistic",
          "<b>Topic 44</b><br>Words: discussion, student, discussions, online, informational",
          "<b>Topic 44</b><br>Words: perusall, peer, interactions, annotation, online",
          "<b>Topic 44</b><br>Words: hashtags, presentations, between, online, courses",
          "<b>Topic 44</b><br>Words: slack, channels, messages, conversations, students"
         ],
         "marker": {
          "color": "#D55E00"
         },
         "mode": "lines",
         "name": "44_discussions_online_discussion_student",
         "type": "scatter",
         "x": [
          2013,
          2014,
          2017,
          2019,
          2020,
          2022,
          2023
         ],
         "y": [
          1,
          2,
          2,
          3,
          1,
          2,
          1
         ]
        },
        {
         "hoverinfo": "text",
         "hovertext": [
          "<b>Topic 45</b><br>Words: flipped, classroom, class, personal, lecture",
          "<b>Topic 45</b><br>Words: flipped, class, lecture, classroom, quiz",
          "<b>Topic 45</b><br>Words: flipped, classroom, presence, student, approach",
          "<b>Topic 45</b><br>Words: flipped, classroom, class, lectures, centered",
          "<b>Topic 45</b><br>Words: flipped, classroom, instructor, course, ic",
          "<b>Topic 45</b><br>Words: flipped, approach, space, engagement, emotional",
          "<b>Topic 45</b><br>Words: flipped, inquiry, presence, was, community"
         ],
         "marker": {
          "color": "#0072B2"
         },
         "mode": "lines",
         "name": "45_flipped_classroom_class_lecture",
         "type": "scatter",
         "x": [
          2013,
          2014,
          2015,
          2016,
          2017,
          2018,
          2021
         ],
         "y": [
          1,
          2,
          1,
          2,
          4,
          1,
          1
         ]
        },
        {
         "hoverinfo": "text",
         "hovertext": [
          "<b>Topic 46</b><br>Words: integrity, plagiarism, academic, assignments, work",
          "<b>Topic 46</b><br>Words: dishonesty, plagiarism, academic, explicitly, cheating",
          "<b>Topic 46</b><br>Words: integrity, plagiarism, academic, dishonesty, faculty",
          "<b>Topic 46</b><br>Words: entitlement, academic, gpa, beliefs, populations"
         ],
         "marker": {
          "color": "#CC79A7"
         },
         "mode": "lines",
         "name": "46_integrity_plagiarism_academic_dishone...",
         "type": "scatter",
         "x": [
          2013,
          2015,
          2016,
          2020
         ],
         "y": [
          2,
          2,
          7,
          1
         ]
        },
        {
         "hoverinfo": "text",
         "hovertext": [
          "<b>Topic 47</b><br>Words: online, rlo, qep, learning, courses",
          "<b>Topic 47</b><br>Words: qm, online, quality, standards, oqmc",
          "<b>Topic 47</b><br>Words: qm, redesigned, course, standards, online",
          "<b>Topic 47</b><br>Words: 12, online, learning, services, support",
          "<b>Topic 47</b><br>Words: content, online, issues, asynchronous, development",
          "<b>Topic 47</b><br>Words: online, profit, every, institutions, has",
          "<b>Topic 47</b><br>Words: online, reviews, staggering, impartial, questioned",
          "<b>Topic 47</b><br>Words: instructional, online, modes, shift, characteristics"
         ],
         "marker": {
          "color": "#E69F00"
         },
         "mode": "lines",
         "name": "47_online_qm_courses_content",
         "type": "scatter",
         "x": [
          2013,
          2014,
          2015,
          2016,
          2017,
          2018,
          2019,
          2022
         ],
         "y": [
          2,
          2,
          1,
          2,
          2,
          1,
          1,
          1
         ]
        },
        {
         "hoverinfo": "text",
         "hovertext": [
          "<b>Topic 48</b><br>Words: case, surrounding, privacy, capture, smartphones",
          "<b>Topic 48</b><br>Words: intercept, intercepted, sniffing, ethics, someone",
          "<b>Topic 48</b><br>Words: mary, privacy, carl, she, issues",
          "<b>Topic 48</b><br>Words: privacy, cyberethics, analytica, platform, cambridge",
          "<b>Topic 48</b><br>Words: privacy, ethics, speculative, discussion, fiction",
          "<b>Topic 48</b><br>Words: privacy, formal, education, officers, 99",
          "<b>Topic 48</b><br>Words: privacy, educational, review, process, stakeholders"
         ],
         "marker": {
          "color": "#56B4E9"
         },
         "mode": "lines",
         "name": "48_privacy_ethics_case_ethical",
         "type": "scatter",
         "x": [
          2013,
          2014,
          2017,
          2019,
          2020,
          2021,
          2022
         ],
         "y": [
          1,
          1,
          3,
          2,
          3,
          1,
          1
         ]
        },
        {
         "hoverinfo": "text",
         "hovertext": [
          "<b>Topic 49</b><br>Words: pragmatic, kasper, pragmatics, 2001, amp",
          "<b>Topic 49</b><br>Words: openings, closings, chinese, pragmatics, pragmatic",
          "<b>Topic 49</b><br>Words: formulas, pragmatics, routine, pragmatic, raising",
          "<b>Topic 49</b><br>Words: pragmatics, l1, speakers, speech, requesting",
          "<b>Topic 49</b><br>Words: pragmatic, ilp, pragmatics, simulations, have",
          "<b>Topic 49</b><br>Words: pragmatics, modifiers, nonverbal, politeness, syntactic",
          "<b>Topic 49</b><br>Words: pragmatics, pragmatic, enough, l2, have"
         ],
         "marker": {
          "color": "#009E73"
         },
         "mode": "lines",
         "name": "49_pragmatics_pragmatic_l1_speakers",
         "type": "scatter",
         "x": [
          2013,
          2014,
          2016,
          2017,
          2018,
          2020,
          2021
         ],
         "y": [
          1,
          1,
          2,
          1,
          2,
          3,
          1
         ]
        }
       ],
       "layout": {
        "height": 450,
        "hoverlabel": {
         "bgcolor": "white",
         "font": {
          "family": "Rockwell",
          "size": 16
         }
        },
        "legend": {
         "title": {
          "text": "<b>Global Topic Representation"
         }
        },
        "template": {
         "data": {
          "bar": [
           {
            "error_x": {
             "color": "rgb(36,36,36)"
            },
            "error_y": {
             "color": "rgb(36,36,36)"
            },
            "marker": {
             "line": {
              "color": "white",
              "width": 0.5
             },
             "pattern": {
              "fillmode": "overlay",
              "size": 10,
              "solidity": 0.2
             }
            },
            "type": "bar"
           }
          ],
          "barpolar": [
           {
            "marker": {
             "line": {
              "color": "white",
              "width": 0.5
             },
             "pattern": {
              "fillmode": "overlay",
              "size": 10,
              "solidity": 0.2
             }
            },
            "type": "barpolar"
           }
          ],
          "carpet": [
           {
            "aaxis": {
             "endlinecolor": "rgb(36,36,36)",
             "gridcolor": "white",
             "linecolor": "white",
             "minorgridcolor": "white",
             "startlinecolor": "rgb(36,36,36)"
            },
            "baxis": {
             "endlinecolor": "rgb(36,36,36)",
             "gridcolor": "white",
             "linecolor": "white",
             "minorgridcolor": "white",
             "startlinecolor": "rgb(36,36,36)"
            },
            "type": "carpet"
           }
          ],
          "choropleth": [
           {
            "colorbar": {
             "outlinewidth": 1,
             "tickcolor": "rgb(36,36,36)",
             "ticks": "outside"
            },
            "type": "choropleth"
           }
          ],
          "contour": [
           {
            "colorbar": {
             "outlinewidth": 1,
             "tickcolor": "rgb(36,36,36)",
             "ticks": "outside"
            },
            "colorscale": [
             [
              0,
              "#440154"
             ],
             [
              0.1111111111111111,
              "#482878"
             ],
             [
              0.2222222222222222,
              "#3e4989"
             ],
             [
              0.3333333333333333,
              "#31688e"
             ],
             [
              0.4444444444444444,
              "#26828e"
             ],
             [
              0.5555555555555556,
              "#1f9e89"
             ],
             [
              0.6666666666666666,
              "#35b779"
             ],
             [
              0.7777777777777778,
              "#6ece58"
             ],
             [
              0.8888888888888888,
              "#b5de2b"
             ],
             [
              1,
              "#fde725"
             ]
            ],
            "type": "contour"
           }
          ],
          "contourcarpet": [
           {
            "colorbar": {
             "outlinewidth": 1,
             "tickcolor": "rgb(36,36,36)",
             "ticks": "outside"
            },
            "type": "contourcarpet"
           }
          ],
          "heatmap": [
           {
            "colorbar": {
             "outlinewidth": 1,
             "tickcolor": "rgb(36,36,36)",
             "ticks": "outside"
            },
            "colorscale": [
             [
              0,
              "#440154"
             ],
             [
              0.1111111111111111,
              "#482878"
             ],
             [
              0.2222222222222222,
              "#3e4989"
             ],
             [
              0.3333333333333333,
              "#31688e"
             ],
             [
              0.4444444444444444,
              "#26828e"
             ],
             [
              0.5555555555555556,
              "#1f9e89"
             ],
             [
              0.6666666666666666,
              "#35b779"
             ],
             [
              0.7777777777777778,
              "#6ece58"
             ],
             [
              0.8888888888888888,
              "#b5de2b"
             ],
             [
              1,
              "#fde725"
             ]
            ],
            "type": "heatmap"
           }
          ],
          "heatmapgl": [
           {
            "colorbar": {
             "outlinewidth": 1,
             "tickcolor": "rgb(36,36,36)",
             "ticks": "outside"
            },
            "colorscale": [
             [
              0,
              "#440154"
             ],
             [
              0.1111111111111111,
              "#482878"
             ],
             [
              0.2222222222222222,
              "#3e4989"
             ],
             [
              0.3333333333333333,
              "#31688e"
             ],
             [
              0.4444444444444444,
              "#26828e"
             ],
             [
              0.5555555555555556,
              "#1f9e89"
             ],
             [
              0.6666666666666666,
              "#35b779"
             ],
             [
              0.7777777777777778,
              "#6ece58"
             ],
             [
              0.8888888888888888,
              "#b5de2b"
             ],
             [
              1,
              "#fde725"
             ]
            ],
            "type": "heatmapgl"
           }
          ],
          "histogram": [
           {
            "marker": {
             "line": {
              "color": "white",
              "width": 0.6
             }
            },
            "type": "histogram"
           }
          ],
          "histogram2d": [
           {
            "colorbar": {
             "outlinewidth": 1,
             "tickcolor": "rgb(36,36,36)",
             "ticks": "outside"
            },
            "colorscale": [
             [
              0,
              "#440154"
             ],
             [
              0.1111111111111111,
              "#482878"
             ],
             [
              0.2222222222222222,
              "#3e4989"
             ],
             [
              0.3333333333333333,
              "#31688e"
             ],
             [
              0.4444444444444444,
              "#26828e"
             ],
             [
              0.5555555555555556,
              "#1f9e89"
             ],
             [
              0.6666666666666666,
              "#35b779"
             ],
             [
              0.7777777777777778,
              "#6ece58"
             ],
             [
              0.8888888888888888,
              "#b5de2b"
             ],
             [
              1,
              "#fde725"
             ]
            ],
            "type": "histogram2d"
           }
          ],
          "histogram2dcontour": [
           {
            "colorbar": {
             "outlinewidth": 1,
             "tickcolor": "rgb(36,36,36)",
             "ticks": "outside"
            },
            "colorscale": [
             [
              0,
              "#440154"
             ],
             [
              0.1111111111111111,
              "#482878"
             ],
             [
              0.2222222222222222,
              "#3e4989"
             ],
             [
              0.3333333333333333,
              "#31688e"
             ],
             [
              0.4444444444444444,
              "#26828e"
             ],
             [
              0.5555555555555556,
              "#1f9e89"
             ],
             [
              0.6666666666666666,
              "#35b779"
             ],
             [
              0.7777777777777778,
              "#6ece58"
             ],
             [
              0.8888888888888888,
              "#b5de2b"
             ],
             [
              1,
              "#fde725"
             ]
            ],
            "type": "histogram2dcontour"
           }
          ],
          "mesh3d": [
           {
            "colorbar": {
             "outlinewidth": 1,
             "tickcolor": "rgb(36,36,36)",
             "ticks": "outside"
            },
            "type": "mesh3d"
           }
          ],
          "parcoords": [
           {
            "line": {
             "colorbar": {
              "outlinewidth": 1,
              "tickcolor": "rgb(36,36,36)",
              "ticks": "outside"
             }
            },
            "type": "parcoords"
           }
          ],
          "pie": [
           {
            "automargin": true,
            "type": "pie"
           }
          ],
          "scatter": [
           {
            "fillpattern": {
             "fillmode": "overlay",
             "size": 10,
             "solidity": 0.2
            },
            "type": "scatter"
           }
          ],
          "scatter3d": [
           {
            "line": {
             "colorbar": {
              "outlinewidth": 1,
              "tickcolor": "rgb(36,36,36)",
              "ticks": "outside"
             }
            },
            "marker": {
             "colorbar": {
              "outlinewidth": 1,
              "tickcolor": "rgb(36,36,36)",
              "ticks": "outside"
             }
            },
            "type": "scatter3d"
           }
          ],
          "scattercarpet": [
           {
            "marker": {
             "colorbar": {
              "outlinewidth": 1,
              "tickcolor": "rgb(36,36,36)",
              "ticks": "outside"
             }
            },
            "type": "scattercarpet"
           }
          ],
          "scattergeo": [
           {
            "marker": {
             "colorbar": {
              "outlinewidth": 1,
              "tickcolor": "rgb(36,36,36)",
              "ticks": "outside"
             }
            },
            "type": "scattergeo"
           }
          ],
          "scattergl": [
           {
            "marker": {
             "colorbar": {
              "outlinewidth": 1,
              "tickcolor": "rgb(36,36,36)",
              "ticks": "outside"
             }
            },
            "type": "scattergl"
           }
          ],
          "scattermapbox": [
           {
            "marker": {
             "colorbar": {
              "outlinewidth": 1,
              "tickcolor": "rgb(36,36,36)",
              "ticks": "outside"
             }
            },
            "type": "scattermapbox"
           }
          ],
          "scatterpolar": [
           {
            "marker": {
             "colorbar": {
              "outlinewidth": 1,
              "tickcolor": "rgb(36,36,36)",
              "ticks": "outside"
             }
            },
            "type": "scatterpolar"
           }
          ],
          "scatterpolargl": [
           {
            "marker": {
             "colorbar": {
              "outlinewidth": 1,
              "tickcolor": "rgb(36,36,36)",
              "ticks": "outside"
             }
            },
            "type": "scatterpolargl"
           }
          ],
          "scatterternary": [
           {
            "marker": {
             "colorbar": {
              "outlinewidth": 1,
              "tickcolor": "rgb(36,36,36)",
              "ticks": "outside"
             }
            },
            "type": "scatterternary"
           }
          ],
          "surface": [
           {
            "colorbar": {
             "outlinewidth": 1,
             "tickcolor": "rgb(36,36,36)",
             "ticks": "outside"
            },
            "colorscale": [
             [
              0,
              "#440154"
             ],
             [
              0.1111111111111111,
              "#482878"
             ],
             [
              0.2222222222222222,
              "#3e4989"
             ],
             [
              0.3333333333333333,
              "#31688e"
             ],
             [
              0.4444444444444444,
              "#26828e"
             ],
             [
              0.5555555555555556,
              "#1f9e89"
             ],
             [
              0.6666666666666666,
              "#35b779"
             ],
             [
              0.7777777777777778,
              "#6ece58"
             ],
             [
              0.8888888888888888,
              "#b5de2b"
             ],
             [
              1,
              "#fde725"
             ]
            ],
            "type": "surface"
           }
          ],
          "table": [
           {
            "cells": {
             "fill": {
              "color": "rgb(237,237,237)"
             },
             "line": {
              "color": "white"
             }
            },
            "header": {
             "fill": {
              "color": "rgb(217,217,217)"
             },
             "line": {
              "color": "white"
             }
            },
            "type": "table"
           }
          ]
         },
         "layout": {
          "annotationdefaults": {
           "arrowhead": 0,
           "arrowwidth": 1
          },
          "autotypenumbers": "strict",
          "coloraxis": {
           "colorbar": {
            "outlinewidth": 1,
            "tickcolor": "rgb(36,36,36)",
            "ticks": "outside"
           }
          },
          "colorscale": {
           "diverging": [
            [
             0,
             "rgb(103,0,31)"
            ],
            [
             0.1,
             "rgb(178,24,43)"
            ],
            [
             0.2,
             "rgb(214,96,77)"
            ],
            [
             0.3,
             "rgb(244,165,130)"
            ],
            [
             0.4,
             "rgb(253,219,199)"
            ],
            [
             0.5,
             "rgb(247,247,247)"
            ],
            [
             0.6,
             "rgb(209,229,240)"
            ],
            [
             0.7,
             "rgb(146,197,222)"
            ],
            [
             0.8,
             "rgb(67,147,195)"
            ],
            [
             0.9,
             "rgb(33,102,172)"
            ],
            [
             1,
             "rgb(5,48,97)"
            ]
           ],
           "sequential": [
            [
             0,
             "#440154"
            ],
            [
             0.1111111111111111,
             "#482878"
            ],
            [
             0.2222222222222222,
             "#3e4989"
            ],
            [
             0.3333333333333333,
             "#31688e"
            ],
            [
             0.4444444444444444,
             "#26828e"
            ],
            [
             0.5555555555555556,
             "#1f9e89"
            ],
            [
             0.6666666666666666,
             "#35b779"
            ],
            [
             0.7777777777777778,
             "#6ece58"
            ],
            [
             0.8888888888888888,
             "#b5de2b"
            ],
            [
             1,
             "#fde725"
            ]
           ],
           "sequentialminus": [
            [
             0,
             "#440154"
            ],
            [
             0.1111111111111111,
             "#482878"
            ],
            [
             0.2222222222222222,
             "#3e4989"
            ],
            [
             0.3333333333333333,
             "#31688e"
            ],
            [
             0.4444444444444444,
             "#26828e"
            ],
            [
             0.5555555555555556,
             "#1f9e89"
            ],
            [
             0.6666666666666666,
             "#35b779"
            ],
            [
             0.7777777777777778,
             "#6ece58"
            ],
            [
             0.8888888888888888,
             "#b5de2b"
            ],
            [
             1,
             "#fde725"
            ]
           ]
          },
          "colorway": [
           "#1F77B4",
           "#FF7F0E",
           "#2CA02C",
           "#D62728",
           "#9467BD",
           "#8C564B",
           "#E377C2",
           "#7F7F7F",
           "#BCBD22",
           "#17BECF"
          ],
          "font": {
           "color": "rgb(36,36,36)"
          },
          "geo": {
           "bgcolor": "white",
           "lakecolor": "white",
           "landcolor": "white",
           "showlakes": true,
           "showland": true,
           "subunitcolor": "white"
          },
          "hoverlabel": {
           "align": "left"
          },
          "hovermode": "closest",
          "mapbox": {
           "style": "light"
          },
          "paper_bgcolor": "white",
          "plot_bgcolor": "white",
          "polar": {
           "angularaxis": {
            "gridcolor": "rgb(232,232,232)",
            "linecolor": "rgb(36,36,36)",
            "showgrid": false,
            "showline": true,
            "ticks": "outside"
           },
           "bgcolor": "white",
           "radialaxis": {
            "gridcolor": "rgb(232,232,232)",
            "linecolor": "rgb(36,36,36)",
            "showgrid": false,
            "showline": true,
            "ticks": "outside"
           }
          },
          "scene": {
           "xaxis": {
            "backgroundcolor": "white",
            "gridcolor": "rgb(232,232,232)",
            "gridwidth": 2,
            "linecolor": "rgb(36,36,36)",
            "showbackground": true,
            "showgrid": false,
            "showline": true,
            "ticks": "outside",
            "zeroline": false,
            "zerolinecolor": "rgb(36,36,36)"
           },
           "yaxis": {
            "backgroundcolor": "white",
            "gridcolor": "rgb(232,232,232)",
            "gridwidth": 2,
            "linecolor": "rgb(36,36,36)",
            "showbackground": true,
            "showgrid": false,
            "showline": true,
            "ticks": "outside",
            "zeroline": false,
            "zerolinecolor": "rgb(36,36,36)"
           },
           "zaxis": {
            "backgroundcolor": "white",
            "gridcolor": "rgb(232,232,232)",
            "gridwidth": 2,
            "linecolor": "rgb(36,36,36)",
            "showbackground": true,
            "showgrid": false,
            "showline": true,
            "ticks": "outside",
            "zeroline": false,
            "zerolinecolor": "rgb(36,36,36)"
           }
          },
          "shapedefaults": {
           "fillcolor": "black",
           "line": {
            "width": 0
           },
           "opacity": 0.3
          },
          "ternary": {
           "aaxis": {
            "gridcolor": "rgb(232,232,232)",
            "linecolor": "rgb(36,36,36)",
            "showgrid": false,
            "showline": true,
            "ticks": "outside"
           },
           "baxis": {
            "gridcolor": "rgb(232,232,232)",
            "linecolor": "rgb(36,36,36)",
            "showgrid": false,
            "showline": true,
            "ticks": "outside"
           },
           "bgcolor": "white",
           "caxis": {
            "gridcolor": "rgb(232,232,232)",
            "linecolor": "rgb(36,36,36)",
            "showgrid": false,
            "showline": true,
            "ticks": "outside"
           }
          },
          "title": {
           "x": 0.05
          },
          "xaxis": {
           "automargin": true,
           "gridcolor": "rgb(232,232,232)",
           "linecolor": "rgb(36,36,36)",
           "showgrid": false,
           "showline": true,
           "ticks": "outside",
           "title": {
            "standoff": 15
           },
           "zeroline": false,
           "zerolinecolor": "rgb(36,36,36)"
          },
          "yaxis": {
           "automargin": true,
           "gridcolor": "rgb(232,232,232)",
           "linecolor": "rgb(36,36,36)",
           "showgrid": false,
           "showline": true,
           "ticks": "outside",
           "title": {
            "standoff": 15
           },
           "zeroline": false,
           "zerolinecolor": "rgb(36,36,36)"
          }
         }
        },
        "title": {
         "font": {
          "color": "Black",
          "size": 22
         },
         "text": "<b>Topics over Time</b>",
         "x": 0.4,
         "xanchor": "center",
         "y": 0.95,
         "yanchor": "top"
        },
        "width": 1250,
        "xaxis": {
         "showgrid": true
        },
        "yaxis": {
         "showgrid": true,
         "title": {
          "text": "Frequency"
         }
        }
       }
      }
     },
     "metadata": {},
     "output_type": "display_data"
    }
   ],
   "source": [
    "model.visualize_topics_over_time(topics_over_time, topics=[40, 41, 42, 43, 44, 45, 46, 47, 48, 49])\n"
   ]
  },
  {
   "cell_type": "code",
   "execution_count": 73,
   "metadata": {},
   "outputs": [
    {
     "data": {
      "application/vnd.plotly.v1+json": {
       "config": {
        "plotlyServerURL": "https://plot.ly"
       },
       "data": [
        {
         "hoverinfo": "text",
         "hovertext": [
          "<b>Topic 0</b><br>Words: writing, wiki, feedback, students, the",
          "<b>Topic 0</b><br>Words: writing, corpus, the, in, of",
          "<b>Topic 0</b><br>Words: writing, the, corpus, feedback, of",
          "<b>Topic 0</b><br>Words: writing, feedback, corpus, the, of",
          "<b>Topic 0</b><br>Words: writing, corpus, the, of, in",
          "<b>Topic 0</b><br>Words: writing, feedback, the, and, in",
          "<b>Topic 0</b><br>Words: writing, feedback, the, corpus, and",
          "<b>Topic 0</b><br>Words: writing, feedback, the, of, and",
          "<b>Topic 0</b><br>Words: writing, corpus, the, in, feedback",
          "<b>Topic 0</b><br>Words: writing, feedback, corpus, the, mt",
          "<b>Topic 0</b><br>Words: corpus, cl, teachers, corpora, training"
         ],
         "marker": {
          "color": "#E69F00"
         },
         "mode": "lines",
         "name": "0_writing_corpus_feedback_the",
         "type": "scatter",
         "x": [
          2013,
          2014,
          2015,
          2016,
          2017,
          2018,
          2019,
          2020,
          2021,
          2022,
          2023
         ],
         "y": [
          12,
          21,
          15,
          30,
          27,
          16,
          16,
          15,
          19,
          10,
          2
         ]
        },
        {
         "hoverinfo": "text",
         "hovertext": [
          "<b>Topic 1</b><br>Words: information, program, systems, is, skills",
          "<b>Topic 1</b><br>Words: information, systems, is, programs, of",
          "<b>Topic 1</b><br>Words: is, information, systems, cis, of",
          "<b>Topic 1</b><br>Words: information, systems, major, is, and",
          "<b>Topic 1</b><br>Words: major, information, majors, is, programs",
          "<b>Topic 1</b><br>Words: information, job, systems, employers, is",
          "<b>Topic 1</b><br>Words: information, systems, is, and, the",
          "<b>Topic 1</b><br>Words: reporting, computing, information, systems, extensible",
          "<b>Topic 1</b><br>Words: bis, internship, career, information, and",
          "<b>Topic 1</b><br>Words: skills, information, to, and, is"
         ],
         "marker": {
          "color": "#56B4E9"
         },
         "mode": "lines",
         "name": "1_information_is_systems_and",
         "type": "scatter",
         "x": [
          2013,
          2014,
          2015,
          2016,
          2017,
          2018,
          2019,
          2020,
          2021,
          2022
         ],
         "y": [
          13,
          15,
          10,
          8,
          10,
          12,
          16,
          4,
          7,
          11
         ]
        },
        {
         "hoverinfo": "text",
         "hovertext": [
          "<b>Topic 2</b><br>Words: services, data, business, library, analytics",
          "<b>Topic 2</b><br>Words: data, big, analytics, unstructured, business",
          "<b>Topic 2</b><br>Words: analytics, data, business, big, curriculum",
          "<b>Topic 2</b><br>Words: data, analytics, big, business, visualization",
          "<b>Topic 2</b><br>Words: analytics, business, data, big, firms",
          "<b>Topic 2</b><br>Words: data, analytics, business, big, is",
          "<b>Topic 2</b><br>Words: analytics, data, business, visualization, big",
          "<b>Topic 2</b><br>Words: analytics, data, business, to, is",
          "<b>Topic 2</b><br>Words: analytics, data, business, big, course",
          "<b>Topic 2</b><br>Words: analytics, data, business, dm, to"
         ],
         "marker": {
          "color": "#009E73"
         },
         "mode": "lines",
         "name": "2_analytics_data_business_big",
         "type": "scatter",
         "x": [
          2013,
          2014,
          2015,
          2016,
          2017,
          2018,
          2019,
          2020,
          2021,
          2022
         ],
         "y": [
          2,
          3,
          8,
          8,
          4,
          7,
          9,
          11,
          7,
          9
         ]
        },
        {
         "hoverinfo": "text",
         "hovertext": [
          "<b>Topic 3</b><br>Words: intercultural, im, telecollaboration, dpsfm, voh",
          "<b>Topic 3</b><br>Words: intercultural, born, communication, and, cultural",
          "<b>Topic 3</b><br>Words: intercultural, telecollaboration, project, the, of",
          "<b>Topic 3</b><br>Words: telecollaboration, intercultural, project, telecollaborative, cultura",
          "<b>Topic 3</b><br>Words: intercultural, telecollaboration, communication, phatic, cultural",
          "<b>Topic 3</b><br>Words: intercultural, telecollaboration, telecollaborative, icc, of",
          "<b>Topic 3</b><br>Words: intercultural, telecollaboration, exchange, icc, in",
          "<b>Topic 3</b><br>Words: telecollaboration, intercultural, teacher, telecollaborative, and",
          "<b>Topic 3</b><br>Words: intercultural, cultural, telecollaboration, wechat, chinese",
          "<b>Topic 3</b><br>Words: ve, exchange, ves, intercultural, tpack",
          "<b>Topic 3</b><br>Words: cdl, ve, conceptualised, quot, hauck"
         ],
         "marker": {
          "color": "#F0E442"
         },
         "mode": "lines",
         "name": "3_intercultural_telecollaboration_teleco...",
         "type": "scatter",
         "x": [
          2013,
          2014,
          2015,
          2016,
          2017,
          2018,
          2019,
          2020,
          2021,
          2022,
          2023
         ],
         "y": [
          6,
          5,
          7,
          7,
          7,
          8,
          8,
          7,
          4,
          4,
          1
         ]
        },
        {
         "hoverinfo": "text",
         "hovertext": [
          "<b>Topic 4</b><br>Words: l2, scmc, language, research, tasks",
          "<b>Topic 4</b><br>Words: scmc, cmc, in, communication, face",
          "<b>Topic 4</b><br>Words: cmc, meta, f2f, effect, studies",
          "<b>Topic 4</b><br>Words: scmc, task, repetition, computer, in",
          "<b>Topic 4</b><br>Words: task, scmc, interaction, vt, in",
          "<b>Topic 4</b><br>Words: task, meta, interactional, l2, in",
          "<b>Topic 4</b><br>Words: vc, procedural, fluency, tasks, presentational",
          "<b>Topic 4</b><br>Words: nnests, nests, scmc, closing, l2",
          "<b>Topic 4</b><br>Words: spanish, interaction, etandem, communication, language",
          "<b>Topic 4</b><br>Words: recasts, emotions, audio, learners, chats",
          "<b>Topic 4</b><br>Words: css, environments, vc, vw, tasks"
         ],
         "marker": {
          "color": "#D55E00"
         },
         "mode": "lines",
         "name": "4_task_scmc_l2_in",
         "type": "scatter",
         "x": [
          2013,
          2014,
          2015,
          2016,
          2017,
          2018,
          2019,
          2020,
          2021,
          2022,
          2023
         ],
         "y": [
          6,
          8,
          7,
          8,
          11,
          8,
          3,
          3,
          4,
          3,
          1
         ]
        },
        {
         "hoverinfo": "text",
         "hovertext": [
          "<b>Topic 5</b><br>Words: the, of, health, physical, in",
          "<b>Topic 5</b><br>Words: the, health, of, is, school",
          "<b>Topic 5</b><br>Words: education, the, of, assessment, is",
          "<b>Topic 5</b><br>Words: parents, children, owing, like, stress"
         ],
         "marker": {
          "color": "#0072B2"
         },
         "mode": "lines",
         "name": "5_the_of_health_in",
         "type": "scatter",
         "x": [
          2015,
          2016,
          2017,
          2022
         ],
         "y": [
          25,
          22,
          6,
          1
         ]
        },
        {
         "hoverinfo": "text",
         "hovertext": [
          "<b>Topic 6</b><br>Words: security, cybersecurity, information, is, and",
          "<b>Topic 6</b><br>Words: security, case, cybersecurity, architecture, information",
          "<b>Topic 6</b><br>Words: cybersecurity, security, topics, threats, information",
          "<b>Topic 6</b><br>Words: security, infosec, cybersecurity, laboratory, camp",
          "<b>Topic 6</b><br>Words: security, cybersecurity, policies, ia, certifications",
          "<b>Topic 6</b><br>Words: cybersecurity, security, exercises, evl, high",
          "<b>Topic 6</b><br>Words: security, cybersecurity, cissp, quot, breaches",
          "<b>Topic 6</b><br>Words: cybersecurity, security, jobs, information, listed",
          "<b>Topic 6</b><br>Words: cybersecurity, security, abet, accreditation, cobit",
          "<b>Topic 6</b><br>Words: cyber, insurance, risk, cybersecurity, cybercrime"
         ],
         "marker": {
          "color": "#CC79A7"
         },
         "mode": "lines",
         "name": "6_security_cybersecurity_information_to",
         "type": "scatter",
         "x": [
          2013,
          2014,
          2015,
          2016,
          2017,
          2018,
          2019,
          2020,
          2021,
          2022
         ],
         "y": [
          11,
          4,
          5,
          4,
          4,
          6,
          2,
          7,
          6,
          1
         ]
        },
        {
         "hoverinfo": "text",
         "hovertext": [
          "<b>Topic 7</b><br>Words: mobile, learning, mall, language, the",
          "<b>Topic 7</b><br>Words: mall, mobile, application, curricular, language",
          "<b>Topic 7</b><br>Words: mall, studies, mobile, learning, over",
          "<b>Topic 7</b><br>Words: mobile, note, learning, taking, devices",
          "<b>Topic 7</b><br>Words: mobile, learning, language, apple, devices",
          "<b>Topic 7</b><br>Words: mobile, learning, mall, apps, language",
          "<b>Topic 7</b><br>Words: mobile, learning, duolingo, evlapp, mall",
          "<b>Topic 7</b><br>Words: l2, mobile, mall, app, learning",
          "<b>Topic 7</b><br>Words: mobile, tblt, mall, learning, regulation",
          "<b>Topic 7</b><br>Words: mobile, learning, experimental, language, mall"
         ],
         "marker": {
          "color": "#E69F00"
         },
         "mode": "lines",
         "name": "7_mobile_mall_learning_language",
         "type": "scatter",
         "x": [
          2013,
          2014,
          2015,
          2016,
          2017,
          2018,
          2019,
          2020,
          2021,
          2022
         ],
         "y": [
          9,
          4,
          2,
          3,
          5,
          6,
          5,
          2,
          4,
          4
         ]
        },
        {
         "hoverinfo": "text",
         "hovertext": [
          "<b>Topic 8</b><br>Words: internet, teachers, call, eap, language",
          "<b>Topic 8</b><br>Words: teachers, call, efl, iranian, service",
          "<b>Topic 8</b><br>Words: teachers, call, tpack, teacher, technology",
          "<b>Topic 8</b><br>Words: tpack, teachers, efl, call, technology",
          "<b>Topic 8</b><br>Words: call, teachers, tpack, language, fl",
          "<b>Topic 8</b><br>Words: technological, language, tpack, teachers, experiences",
          "<b>Topic 8</b><br>Words: technology, teachers, language, call, english",
          "<b>Topic 8</b><br>Words: teachers, technology, young, language, pd",
          "<b>Topic 8</b><br>Words: tesol, ttst, standards, healey, et",
          "<b>Topic 8</b><br>Words: tpack, teachers, junior, call, digital"
         ],
         "marker": {
          "color": "#56B4E9"
         },
         "mode": "lines",
         "name": "8_teachers_tpack_call_technology",
         "type": "scatter",
         "x": [
          2013,
          2014,
          2015,
          2016,
          2017,
          2018,
          2019,
          2020,
          2021,
          2022
         ],
         "y": [
          5,
          2,
          6,
          6,
          6,
          5,
          4,
          4,
          1,
          5
         ]
        },
        {
         "hoverinfo": "text",
         "hovertext": [
          "<b>Topic 9</b><br>Words: icf, mispronunciations, pronunciation, listening, taiwanese",
          "<b>Topic 9</b><br>Words: pronunciation, tongue, production, acoustic, speech",
          "<b>Topic 9</b><br>Words: pronunciation, asr, recognition, speech, word",
          "<b>Topic 9</b><br>Words: pronunciation, training, instruction, asr, word",
          "<b>Topic 9</b><br>Words: wrs, pronunciation, proficiency, tts, word",
          "<b>Topic 9</b><br>Words: psl, pakistan, deaf, perception, pronunciation",
          "<b>Topic 9</b><br>Words: pronunciation, capt, asr, dictation, training",
          "<b>Topic 9</b><br>Words: pronunciation, training, asr, production, instruction",
          "<b>Topic 9</b><br>Words: transcription, allophonic, midterm, ci, learners",
          "<b>Topic 9</b><br>Words: asr, pronunciation, speech, speaking, flsa",
          "<b>Topic 9</b><br>Words: asr, listeners, srt, speech, pronunciation"
         ],
         "marker": {
          "color": "#009E73"
         },
         "mode": "lines",
         "name": "9_pronunciation_asr_speech_production",
         "type": "scatter",
         "x": [
          2013,
          2014,
          2015,
          2016,
          2017,
          2018,
          2019,
          2020,
          2021,
          2022,
          2023
         ],
         "y": [
          2,
          4,
          6,
          7,
          4,
          2,
          3,
          5,
          1,
          4,
          2
         ]
        },
        {
         "hoverinfo": "text",
         "hovertext": [
          "<b>Topic 10</b><br>Words: database, query, case, architecture, relational",
          "<b>Topic 10</b><br>Words: database, logic, case, design, voting",
          "<b>Topic 10</b><br>Words: database, case, data, design, business",
          "<b>Topic 10</b><br>Words: database, café, data, sql, case",
          "<b>Topic 10</b><br>Words: database, case, carol, business, sa",
          "<b>Topic 10</b><br>Words: database, case, data, f1, world",
          "<b>Topic 10</b><br>Words: sql, query, database, case, organization",
          "<b>Topic 10</b><br>Words: database, case, data, legacy, system",
          "<b>Topic 10</b><br>Words: case, diagrams, database, systems, interdependent",
          "<b>Topic 10</b><br>Words: database, case, sql, data, mark"
         ],
         "marker": {
          "color": "#F0E442"
         },
         "mode": "lines",
         "name": "10_database_case_data_sql",
         "type": "scatter",
         "x": [
          2013,
          2014,
          2015,
          2016,
          2017,
          2018,
          2019,
          2020,
          2021,
          2022
         ],
         "y": [
          6,
          3,
          9,
          2,
          3,
          4,
          3,
          3,
          2,
          4
         ]
        },
        {
         "hoverinfo": "text",
         "hovertext": [
          "<b>Topic 11</b><br>Words: game, gaming, culture, playing, games",
          "<b>Topic 11</b><br>Words: game, gaming, games, digital, playing",
          "<b>Topic 11</b><br>Words: game, games, pupils, digital, gameplay",
          "<b>Topic 11</b><br>Words: game, games, wow, activities, players",
          "<b>Topic 11</b><br>Words: game, gaming, games, language, playing",
          "<b>Topic 11</b><br>Words: game, spaceteam, gaming, fluency, esl",
          "<b>Topic 11</b><br>Words: game, vocabulary, games, l2, mevla",
          "<b>Topic 11</b><br>Words: gaming, game, quot, games, dgbll",
          "<b>Topic 11</b><br>Words: flow, game, dgbvl, positively, vocabulary",
          "<b>Topic 11</b><br>Words: game, dgbll, mechanics, games, digital"
         ],
         "marker": {
          "color": "#D55E00"
         },
         "mode": "lines",
         "name": "11_game_games_gaming_language",
         "type": "scatter",
         "x": [
          2013,
          2014,
          2015,
          2016,
          2017,
          2018,
          2019,
          2020,
          2021,
          2022
         ],
         "y": [
          1,
          5,
          4,
          4,
          6,
          2,
          6,
          4,
          3,
          2
         ]
        },
        {
         "hoverinfo": "text",
         "hovertext": [
          "<b>Topic 12</b><br>Words: synthetic, communication, worlds, nonverbal, acts",
          "<b>Topic 12</b><br>Words: mandarin, overseas, sl, chinese, oral",
          "<b>Topic 12</b><br>Words: virtual, 3d, teacher, the, environment",
          "<b>Topic 12</b><br>Words: virtual, language, gap, learning, worlds",
          "<b>Topic 12</b><br>Words: anonymity, vw, fla, cr, group",
          "<b>Topic 12</b><br>Words: virtual, 3d, worlds, participants, method",
          "<b>Topic 12</b><br>Words: chinese, immersive, identical, sl, writing",
          "<b>Topic 12</b><br>Words: vr, virtual, ar, were, the",
          "<b>Topic 12</b><br>Words: vr, reality, virtual, task, the",
          "<b>Topic 12</b><br>Words: vr, anxiety, virtual, learning, the"
         ],
         "marker": {
          "color": "#0072B2"
         },
         "mode": "lines",
         "name": "12_vr_virtual_the_learning",
         "type": "scatter",
         "x": [
          2013,
          2014,
          2015,
          2016,
          2017,
          2018,
          2019,
          2020,
          2021,
          2022
         ],
         "y": [
          1,
          1,
          7,
          3,
          1,
          4,
          2,
          6,
          6,
          5
         ]
        },
        {
         "hoverinfo": "text",
         "hovertext": [
          "<b>Topic 13</b><br>Words: programming, elegant, introductory, instruction, students",
          "<b>Topic 13</b><br>Words: narration, screencasts, spacecraft, personalized, programming",
          "<b>Topic 13</b><br>Words: programming, agent, screencasts, assessments, created",
          "<b>Topic 13</b><br>Words: tutorial, programming, misconceptions, software, errors",
          "<b>Topic 13</b><br>Words: srl, programming, modified, framework, videos",
          "<b>Topic 13</b><br>Words: tutorials, code, hour, programming, content",
          "<b>Topic 13</b><br>Words: programming, srl, assignment, students, learning",
          "<b>Topic 13</b><br>Words: programming, teaching, we, introductory, students",
          "<b>Topic 13</b><br>Words: programming, shallow, computer, efficacy, self",
          "<b>Topic 13</b><br>Words: programming, aaad, teaching, agent, small"
         ],
         "marker": {
          "color": "#CC79A7"
         },
         "mode": "lines",
         "name": "13_programming_students_introductory_to",
         "type": "scatter",
         "x": [
          2013,
          2014,
          2015,
          2016,
          2017,
          2018,
          2019,
          2020,
          2021,
          2022
         ],
         "y": [
          4,
          4,
          2,
          3,
          3,
          1,
          5,
          6,
          4,
          4
         ]
        },
        {
         "hoverinfo": "text",
         "hovertext": [
          "<b>Topic 14</b><br>Words: reading, strategies, strategy, factor, efl",
          "<b>Topic 14</b><br>Words: reading, vocabulary, strategy, comprehension, readers",
          "<b>Topic 14</b><br>Words: reading, proficient, book, comprehension, annotations",
          "<b>Topic 14</b><br>Words: reading, books, multisensory, extensive, readers",
          "<b>Topic 14</b><br>Words: reading, annotations, rt, progress, reciprocal",
          "<b>Topic 14</b><br>Words: ts, wiss, ns, strategy, group",
          "<b>Topic 14</b><br>Words: reading, comprehension, development, mall, were",
          "<b>Topic 14</b><br>Words: reading, programs, computer, risk, basic",
          "<b>Topic 14</b><br>Words: reading, read, children, mobile, efl"
         ],
         "marker": {
          "color": "#E69F00"
         },
         "mode": "lines",
         "name": "14_reading_comprehension_strategy_strate...",
         "type": "scatter",
         "x": [
          2013,
          2014,
          2015,
          2016,
          2017,
          2019,
          2020,
          2021,
          2022
         ],
         "y": [
          4,
          4,
          5,
          7,
          1,
          2,
          3,
          1,
          2
         ]
        },
        {
         "hoverinfo": "text",
         "hovertext": [
          "<b>Topic 15</b><br>Words: writers, participatory, multilingual, collaborative, identities",
          "<b>Topic 15</b><br>Words: microblogging, vignettes, constructions, tweets, twitter",
          "<b>Topic 15</b><br>Words: language, online, netnography, in, communities",
          "<b>Topic 15</b><br>Words: online, esol, identity, phase, discourse",
          "<b>Topic 15</b><br>Words: amp, reading, literary, affordances, poetry",
          "<b>Topic 15</b><br>Words: positioning, acmc, language, community, online",
          "<b>Topic 15</b><br>Words: language, social, learners, media, ideologies",
          "<b>Topic 15</b><br>Words: online, language, identities, relational, social",
          "<b>Topic 15</b><br>Words: identity, digital, literacies, language, broadly"
         ],
         "marker": {
          "color": "#56B4E9"
         },
         "mode": "lines",
         "name": "15_language_online_and_in",
         "type": "scatter",
         "x": [
          2013,
          2014,
          2015,
          2016,
          2017,
          2018,
          2019,
          2020,
          2021
         ],
         "y": [
          2,
          1,
          7,
          3,
          2,
          3,
          3,
          4,
          2
         ]
        },
        {
         "hoverinfo": "text",
         "hovertext": [
          "<b>Topic 16</b><br>Words: call, of, learners, design, learning",
          "<b>Topic 16</b><br>Words: internal, external, call, typology, environmental",
          "<b>Topic 16</b><br>Words: runyakitara, ru_call, evaluation, language, system",
          "<b>Topic 16</b><br>Words: call, vol, num, language, quot",
          "<b>Topic 16</b><br>Words: quot, call, learning, design, synergies",
          "<b>Topic 16</b><br>Words: call, learning, mctl, lctl, lctls",
          "<b>Topic 16</b><br>Words: call, afrikaans, transdisciplinary, transdisciplinarity, programme",
          "<b>Topic 16</b><br>Words: call, quot, products, language, research",
          "<b>Topic 16</b><br>Words: call, ssl, design, language, learning",
          "<b>Topic 16</b><br>Words: normalisation, call, bax, corpora, ddl"
         ],
         "marker": {
          "color": "#009E73"
         },
         "mode": "lines",
         "name": "16_call_language_learning_quot",
         "type": "scatter",
         "x": [
          2013,
          2014,
          2015,
          2016,
          2017,
          2018,
          2019,
          2020,
          2021,
          2022
         ],
         "y": [
          7,
          1,
          1,
          5,
          1,
          2,
          2,
          2,
          4,
          1
         ]
        },
        {
         "hoverinfo": "text",
         "hovertext": [
          "<b>Topic 17</b><br>Words: sizes, efficacy, effect, self, interval",
          "<b>Topic 17</b><br>Words: emergency, disaster, online, schools, school",
          "<b>Topic 17</b><br>Words: distance, enroll, education, college, postsecondary",
          "<b>Topic 17</b><br>Words: pandemic, covid, 19, indies, west",
          "<b>Topic 17</b><br>Words: pandemic, covid, 19, online, education",
          "<b>Topic 17</b><br>Words: pandemic, covid, online, 19, faculty"
         ],
         "marker": {
          "color": "#F0E442"
         },
         "mode": "lines",
         "name": "17_pandemic_covid_online_19",
         "type": "scatter",
         "x": [
          2013,
          2016,
          2017,
          2020,
          2021,
          2022
         ],
         "y": [
          1,
          2,
          1,
          3,
          10,
          9
         ]
        },
        {
         "hoverinfo": "text",
         "hovertext": [
          "<b>Topic 18</b><br>Words: teams, team, projects, project, teamwork",
          "<b>Topic 18</b><br>Words: interdisciplinary, collaborative, team, real, case",
          "<b>Topic 18</b><br>Words: projects, experiential, manage, teams, cases",
          "<b>Topic 18</b><br>Words: projects, project, to, students, creativity",
          "<b>Topic 18</b><br>Words: eq, project, management, soft, skills",
          "<b>Topic 18</b><br>Words: assignments, teams, business, group, within",
          "<b>Topic 18</b><br>Words: team, cohesiveness, app, messaging, sense",
          "<b>Topic 18</b><br>Words: pm, problems, discussion, project, group",
          "<b>Topic 18</b><br>Words: pbl, teamwork, interdisciplinary, assignment, assignments"
         ],
         "marker": {
          "color": "#D55E00"
         },
         "mode": "lines",
         "name": "18_teams_project_projects_team",
         "type": "scatter",
         "x": [
          2013,
          2014,
          2015,
          2016,
          2017,
          2018,
          2019,
          2020,
          2021
         ],
         "y": [
          6,
          2,
          3,
          6,
          1,
          1,
          1,
          3,
          3
         ]
        },
        {
         "hoverinfo": "text",
         "hovertext": [
          "<b>Topic 19</b><br>Words: game, prompts, gamification, dsg, games",
          "<b>Topic 19</b><br>Words: game, gamification, games, personalized, learning",
          "<b>Topic 19</b><br>Words: gamification, game, badging, games, motivation",
          "<b>Topic 19</b><br>Words: gamification, gamified, gamers, game, games",
          "<b>Topic 19</b><br>Words: games, gamification, game, serious, coins",
          "<b>Topic 19</b><br>Words: elements, gamification, game, motivational, occurring",
          "<b>Topic 19</b><br>Words: games, game, competition, serious, gamification",
          "<b>Topic 19</b><br>Words: gamification, road, game, education, theme",
          "<b>Topic 19</b><br>Words: gamification, lesl, gamified, learning, outcomes",
          "<b>Topic 19</b><br>Words: kahoot, gamification, gamifying, curiosity, epistemic"
         ],
         "marker": {
          "color": "#0072B2"
         },
         "mode": "lines",
         "name": "19_gamification_game_games_kahoot",
         "type": "scatter",
         "x": [
          2013,
          2014,
          2015,
          2016,
          2017,
          2018,
          2019,
          2020,
          2021,
          2022
         ],
         "y": [
          3,
          2,
          3,
          1,
          3,
          1,
          3,
          2,
          3,
          2
         ]
        },
        {
         "hoverinfo": "text",
         "hovertext": [
          "<b>Topic 20</b><br>Words: storytelling, digital, shift, meaningful, adhere",
          "<b>Topic 20</b><br>Words: storytelling, speaking, stories, digital, dss",
          "<b>Topic 20</b><br>Words: fan, practices, media, popular, online",
          "<b>Topic 20</b><br>Words: storytelling, narrative, digital, fanfiction, fan",
          "<b>Topic 20</b><br>Words: narrative, exams, storytelling, learning, exam",
          "<b>Topic 20</b><br>Words: storytelling, digital, 4s, stories, story",
          "<b>Topic 20</b><br>Words: stories, storytelling, digital, dst, vignettes"
         ],
         "marker": {
          "color": "#CC79A7"
         },
         "mode": "lines",
         "name": "20_storytelling_digital_narrative_storie...",
         "type": "scatter",
         "x": [
          2013,
          2016,
          2017,
          2019,
          2020,
          2021,
          2022
         ],
         "y": [
          1,
          3,
          1,
          7,
          1,
          6,
          3
         ]
        },
        {
         "hoverinfo": "text",
         "hovertext": [
          "<b>Topic 21</b><br>Words: social, sites, networking, case, technology",
          "<b>Topic 21</b><br>Words: social, media, news, network, use",
          "<b>Topic 21</b><br>Words: media, social, views, business, major",
          "<b>Topic 21</b><br>Words: sense, facebook, media, social, connectedness",
          "<b>Topic 21</b><br>Words: facebook, social, media, veterans, connectedness",
          "<b>Topic 21</b><br>Words: social, media, platform, confidential, as",
          "<b>Topic 21</b><br>Words: pinterest, evidence, base, pins, internalizing",
          "<b>Topic 21</b><br>Words: media, social, risks, maturity, privacy",
          "<b>Topic 21</b><br>Words: instagram, social, adolescents, media, quot",
          "<b>Topic 21</b><br>Words: social, media, twitter, formal, literacy"
         ],
         "marker": {
          "color": "#E69F00"
         },
         "mode": "lines",
         "name": "21_social_media_facebook_of",
         "type": "scatter",
         "x": [
          2013,
          2014,
          2015,
          2016,
          2017,
          2018,
          2019,
          2020,
          2021,
          2022
         ],
         "y": [
          2,
          5,
          1,
          2,
          4,
          2,
          1,
          1,
          2,
          2
         ]
        },
        {
         "hoverinfo": "text",
         "hovertext": [
          "<b>Topic 22</b><br>Words: l1, glossing, glosses, more, memory",
          "<b>Topic 22</b><br>Words: gloss, vocabulary, glosses, l1, glossing",
          "<b>Topic 22</b><br>Words: vocabulary, instrument, constructing, clips, technical",
          "<b>Topic 22</b><br>Words: gloss, glosses, mode, vocabulary, comprehension",
          "<b>Topic 22</b><br>Words: condition, vocabulary, glosses, lines, lexical",
          "<b>Topic 22</b><br>Words: glosses, passage, clicker, meanings, condition",
          "<b>Topic 22</b><br>Words: glossing, glossary, vocabulary, lines, concordance",
          "<b>Topic 22</b><br>Words: logographic, loci, memorization, augmented, method",
          "<b>Topic 22</b><br>Words: glosses, window, pop, aids, participants"
         ],
         "marker": {
          "color": "#56B4E9"
         },
         "mode": "lines",
         "name": "22_glosses_vocabulary_gloss_glossing",
         "type": "scatter",
         "x": [
          2013,
          2014,
          2015,
          2016,
          2017,
          2018,
          2019,
          2020,
          2021
         ],
         "y": [
          2,
          5,
          1,
          3,
          2,
          3,
          2,
          1,
          2
         ]
        },
        {
         "hoverinfo": "text",
         "hovertext": [
          "<b>Topic 23</b><br>Words: km, cdm, purpose, of, ects",
          "<b>Topic 23</b><br>Words: oer, journal, journals, scoreboard, purpose",
          "<b>Topic 23</b><br>Words: oa, publication, journals, faculty, scholars",
          "<b>Topic 23</b><br>Words: open, science, will, scientific, higher"
         ],
         "marker": {
          "color": "#009E73"
         },
         "mode": "lines",
         "name": "23_open_km_purpose_is",
         "type": "scatter",
         "x": [
          2013,
          2014,
          2016,
          2023
         ],
         "y": [
          16,
          3,
          1,
          1
         ]
        },
        {
         "hoverinfo": "text",
         "hovertext": [
          "<b>Topic 24</b><br>Words: scrum, agile, exercise, means, inspect",
          "<b>Topic 24</b><br>Words: agile, learning, fail, project, scrum",
          "<b>Topic 24</b><br>Words: agile, scrum, uncertainty, development, lecture",
          "<b>Topic 24</b><br>Words: scrum, agile, projects, devops, software",
          "<b>Topic 24</b><br>Words: agile, scrum, project, teams, to",
          "<b>Topic 24</b><br>Words: agile, course, process, scrum, evaluations",
          "<b>Topic 24</b><br>Words: scrum, agile, project, experience, to"
         ],
         "marker": {
          "color": "#F0E442"
         },
         "mode": "lines",
         "name": "24_agile_scrum_project_development",
         "type": "scatter",
         "x": [
          2016,
          2017,
          2018,
          2019,
          2020,
          2021,
          2022
         ],
         "y": [
          1,
          1,
          8,
          2,
          5,
          2,
          1
         ]
        },
        {
         "hoverinfo": "text",
         "hovertext": [
          "<b>Topic 25</b><br>Words: captions, reliance, caption, comprehension, captioning",
          "<b>Topic 25</b><br>Words: captions, captioning, comprehension, keyword, listening",
          "<b>Topic 25</b><br>Words: caption, captions, words, filtering, excluded",
          "<b>Topic 25</b><br>Words: comprehension, captions, captioning, episodes, listening",
          "<b>Topic 25</b><br>Words: videos, learners, listening, captions, captioning",
          "<b>Topic 25</b><br>Words: captions, comprehension, videos, captioned, caption",
          "<b>Topic 25</b><br>Words: caption, captions, listening, full, video",
          "<b>Topic 25</b><br>Words: captions, comprehension, vlogs, vlog, pictorial",
          "<b>Topic 25</b><br>Words: valrs, captions, vlm, listening, video",
          "<b>Topic 25</b><br>Words: captions, comprehension, viewing, nonverbal, full"
         ],
         "marker": {
          "color": "#D55E00"
         },
         "mode": "lines",
         "name": "25_captions_comprehension_captioning_lis...",
         "type": "scatter",
         "x": [
          2013,
          2014,
          2015,
          2017,
          2018,
          2019,
          2020,
          2021,
          2022,
          2023
         ],
         "y": [
          1,
          5,
          1,
          2,
          1,
          3,
          2,
          1,
          2,
          1
         ]
        },
        {
         "hoverinfo": "text",
         "hovertext": [
          "<b>Topic 26</b><br>Words: robot, joint, disorder, humanoid, autism",
          "<b>Topic 26</b><br>Words: telepresence, robots, authentic, fl, communicative",
          "<b>Topic 26</b><br>Words: dialogue, we, robot, interviewers, quot",
          "<b>Topic 26</b><br>Words: rall, echo, robot, chatbots, l2",
          "<b>Topic 26</b><br>Words: robot, authoring, telepresence, system, assistant",
          "<b>Topic 26</b><br>Words: robot, chatbot, chatbots, ellie, learners"
         ],
         "marker": {
          "color": "#0072B2"
         },
         "mode": "lines",
         "name": "26_robot_rall_chatbots_chatbot",
         "type": "scatter",
         "x": [
          2017,
          2018,
          2019,
          2020,
          2021,
          2022
         ],
         "y": [
          1,
          1,
          2,
          4,
          3,
          8
         ]
        },
        {
         "hoverinfo": "text",
         "hovertext": [
          "<b>Topic 27</b><br>Words: conceive, open, moocs, theoretically, conceptual",
          "<b>Topic 27</b><br>Words: mooc, moocs, massive, courses, online",
          "<b>Topic 27</b><br>Words: moocs, online, la, courses, course",
          "<b>Topic 27</b><br>Words: danmaku, sending, video, massive, load",
          "<b>Topic 27</b><br>Words: behavior, semester, intervention, answers, platforms",
          "<b>Topic 27</b><br>Words: lmoocs, massive, open, moocs, courses",
          "<b>Topic 27</b><br>Words: lmoocs, attention, lmooc, collective, la"
         ],
         "marker": {
          "color": "#CC79A7"
         },
         "mode": "lines",
         "name": "27_lmoocs_moocs_massive_online",
         "type": "scatter",
         "x": [
          2013,
          2014,
          2018,
          2019,
          2020,
          2021,
          2022
         ],
         "y": [
          2,
          1,
          5,
          1,
          1,
          6,
          2
         ]
        },
        {
         "hoverinfo": "text",
         "hovertext": [
          "<b>Topic 28</b><br>Words: hospital, company, case, medical, healthcare",
          "<b>Topic 28</b><br>Words: ed, hch, lim, kim, pic",
          "<b>Topic 28</b><br>Words: cpda, medical, management, emr, case",
          "<b>Topic 28</b><br>Words: management, claims, it, compliance, rtc",
          "<b>Topic 28</b><br>Words: comprehensivecare, case, adoption, system, administrator",
          "<b>Topic 28</b><br>Words: fiserv, crm, clients, customer, deal",
          "<b>Topic 28</b><br>Words: ecommerce, sales, customer, globeport, internet",
          "<b>Topic 28</b><br>Words: hira, integration, conversant, conflicting, cultures"
         ],
         "marker": {
          "color": "#E69F00"
         },
         "mode": "lines",
         "name": "28_case_management_it_system",
         "type": "scatter",
         "x": [
          2013,
          2014,
          2015,
          2016,
          2017,
          2019,
          2021,
          2022
         ],
         "y": [
          4,
          1,
          2,
          3,
          4,
          1,
          1,
          1
         ]
        },
        {
         "hoverinfo": "text",
         "hovertext": [
          "<b>Topic 29</b><br>Words: intention, teachers, expectancy, iwb, use",
          "<b>Topic 29</b><br>Words: ict, cfl, teachers, preservice, computer",
          "<b>Topic 29</b><br>Words: iwb, teachers, use, technology, behavior",
          "<b>Topic 29</b><br>Words: iwb, teachers, technology, pu, use",
          "<b>Topic 29</b><br>Words: beliefs, transmissive, teachers, tam, use",
          "<b>Topic 29</b><br>Words: computer, perceived, awe, intention, efficacy",
          "<b>Topic 29</b><br>Words: ict, teachers, continuance, intention, technology",
          "<b>Topic 29</b><br>Words: technology, preservice, use, intention, chinese",
          "<b>Topic 29</b><br>Words: technologies, 12, districts, school, personnel"
         ],
         "marker": {
          "color": "#56B4E9"
         },
         "mode": "lines",
         "name": "29_teachers_technology_use_intention",
         "type": "scatter",
         "x": [
          2013,
          2014,
          2015,
          2016,
          2017,
          2019,
          2021,
          2022,
          2023
         ],
         "y": [
          3,
          2,
          2,
          3,
          1,
          1,
          3,
          1,
          1
         ]
        },
        {
         "hoverinfo": "text",
         "hovertext": [
          "<b>Topic 30</b><br>Words: flip, structured, lessons, flipped, semi",
          "<b>Topic 30</b><br>Words: flipped, srs, idioms, english, instruction",
          "<b>Topic 30</b><br>Words: flipped, class, in, learning, instruction",
          "<b>Topic 30</b><br>Words: flipped, telegram, parametric, class, were",
          "<b>Topic 30</b><br>Words: flipped, classroom, writing, in, metacognitive",
          "<b>Topic 30</b><br>Words: flipped, learner, reversal, fi, classroom",
          "<b>Topic 30</b><br>Words: flipped, writing, were, classroom, studies"
         ],
         "marker": {
          "color": "#009E73"
         },
         "mode": "lines",
         "name": "30_flipped_classroom_in_were",
         "type": "scatter",
         "x": [
          2015,
          2017,
          2018,
          2019,
          2020,
          2021,
          2022
         ],
         "y": [
          1,
          2,
          3,
          1,
          4,
          3,
          3
         ]
        },
        {
         "hoverinfo": "text",
         "hovertext": [
          "<b>Topic 31</b><br>Words: smart, phones, smartphones, brand, smartphone",
          "<b>Topic 31</b><br>Words: socrative, explosive, smartphone, deployed, tool",
          "<b>Topic 31</b><br>Words: smartphone, device, pc, phones, users",
          "<b>Topic 31</b><br>Words: digital, devices, magazines, device, mobile",
          "<b>Topic 31</b><br>Words: beacons, physical, campus, web, prospective",
          "<b>Topic 31</b><br>Words: smartphones, mobile, devices, students, indonesia",
          "<b>Topic 31</b><br>Words: tablet, autism, phone, cell, devices",
          "<b>Topic 31</b><br>Words: mobile, phones, beliefs, teachers, professional"
         ],
         "marker": {
          "color": "#F0E442"
         },
         "mode": "lines",
         "name": "31_smart_phones_smartphones_devices",
         "type": "scatter",
         "x": [
          2013,
          2016,
          2017,
          2018,
          2019,
          2020,
          2021,
          2022
         ],
         "y": [
          4,
          1,
          2,
          4,
          1,
          2,
          2,
          1
         ]
        },
        {
         "hoverinfo": "text",
         "hovertext": [
          "<b>Topic 32</b><br>Words: cloud, computing, software, track, can",
          "<b>Topic 32</b><br>Words: decision, cloud, cc, institute, educational",
          "<b>Topic 32</b><br>Words: cloud, computing, can, systems, services",
          "<b>Topic 32</b><br>Words: cloud, computing, services, universities, house",
          "<b>Topic 32</b><br>Words: cloud, computing, raspberry, pi, mathematica",
          "<b>Topic 32</b><br>Words: cloud, computing, command, computer, raspberry",
          "<b>Topic 32</b><br>Words: cloud, forensic, computing, acquisitions, digital",
          "<b>Topic 32</b><br>Words: aws, cloud, labs, intended, to",
          "<b>Topic 32</b><br>Words: cloud, computing, aws, services, as"
         ],
         "marker": {
          "color": "#D55E00"
         },
         "mode": "lines",
         "name": "32_cloud_computing_decision_cc",
         "type": "scatter",
         "x": [
          2013,
          2014,
          2016,
          2017,
          2018,
          2019,
          2020,
          2021,
          2022
         ],
         "y": [
          2,
          1,
          2,
          2,
          3,
          3,
          1,
          1,
          1
         ]
        },
        {
         "hoverinfo": "text",
         "hovertext": [
          "<b>Topic 33</b><br>Words: disabilities, personalisation, ontodaps, systems, disabled",
          "<b>Topic 33</b><br>Words: hci, usability, disabilities, field, system",
          "<b>Topic 33</b><br>Words: disabilities, individuals, hci, film, disability",
          "<b>Topic 33</b><br>Words: exams, staff, adoption, optimistic, general",
          "<b>Topic 33</b><br>Words: disabilities, systems, stem, information, enough",
          "<b>Topic 33</b><br>Words: disabilities, people, portfolios, with, authors",
          "<b>Topic 33</b><br>Words: web, fit, ui, design, disabilities",
          "<b>Topic 33</b><br>Words: disabilities, neuro, brain, neurophysiological, systems"
         ],
         "marker": {
          "color": "#0072B2"
         },
         "mode": "lines",
         "name": "33_disabilities_systems_hci_with",
         "type": "scatter",
         "x": [
          2013,
          2014,
          2015,
          2016,
          2018,
          2019,
          2020,
          2022
         ],
         "y": [
          3,
          3,
          2,
          1,
          2,
          1,
          2,
          2
         ]
        },
        {
         "hoverinfo": "text",
         "hovertext": [
          "<b>Topic 34</b><br>Words: perceived, intention, library, diffusion, textbook",
          "<b>Topic 34</b><br>Words: acceptance, moodle, kuwait, learning, readiness",
          "<b>Topic 34</b><br>Words: d2l, faculty, ghana, migration, adoption",
          "<b>Topic 34</b><br>Words: fit, mim, technology, findings, perceived",
          "<b>Topic 34</b><br>Words: textbook, fit, perceived, digital, interactive"
         ],
         "marker": {
          "color": "#CC79A7"
         },
         "mode": "lines",
         "name": "34_perceived_textbook_acceptance_technol...",
         "type": "scatter",
         "x": [
          2013,
          2016,
          2017,
          2018,
          2021
         ],
         "y": [
          8,
          2,
          2,
          2,
          1
         ]
        },
        {
         "hoverinfo": "text",
         "hovertext": [
          "<b>Topic 35</b><br>Words: virtual, constructivist, concepts, learning, outcomes",
          "<b>Topic 35</b><br>Words: virtual, environments, reality, module, behaviors",
          "<b>Topic 35</b><br>Words: virtual, environments, reality, vr, experiences",
          "<b>Topic 35</b><br>Words: reality, virtual, vr, augmented, talktech",
          "<b>Topic 35</b><br>Words: vr, virtual, immersive, reality, hmd",
          "<b>Topic 35</b><br>Words: reality, vr, ar, virtual, augmented",
          "<b>Topic 35</b><br>Words: reality, identities, mixed, vr, capital",
          "<b>Topic 35</b><br>Words: vr, classroom, immersive, reality, virtual"
         ],
         "marker": {
          "color": "#E69F00"
         },
         "mode": "lines",
         "name": "35_vr_virtual_reality_environments",
         "type": "scatter",
         "x": [
          2014,
          2015,
          2017,
          2018,
          2019,
          2020,
          2021,
          2022
         ],
         "y": [
          1,
          2,
          2,
          3,
          3,
          2,
          1,
          1
         ]
        },
        {
         "hoverinfo": "text",
         "hovertext": [
          "<b>Topic 36</b><br>Words: multimodal, webcam, dvc, gaze, contact",
          "<b>Topic 36</b><br>Words: multimodal, presence, interactions, social, online",
          "<b>Topic 36</b><br>Words: multimodal, webcams, webcam, trainee, semiotic",
          "<b>Topic 36</b><br>Words: multimodal, eyetracking, online, interactions, communication",
          "<b>Topic 36</b><br>Words: videoconferencing, audioconferencing, condition, referential, lexical",
          "<b>Topic 36</b><br>Words: semiotic, multimodal, screen, presence, interactions",
          "<b>Topic 36</b><br>Words: eye, approach, tutoring, tracking, multimodal"
         ],
         "marker": {
          "color": "#56B4E9"
         },
         "mode": "lines",
         "name": "36_multimodal_interactions_semiotic_onli...",
         "type": "scatter",
         "x": [
          2013,
          2015,
          2016,
          2017,
          2019,
          2020,
          2022
         ],
         "y": [
          2,
          2,
          4,
          3,
          1,
          2,
          1
         ]
        },
        {
         "hoverinfo": "text",
         "hovertext": [
          "<b>Topic 37</b><br>Words: capstone, mobile, component, development, app",
          "<b>Topic 37</b><br>Words: inventor, app, programming, designing, cs",
          "<b>Topic 37</b><br>Words: inventor, app, programmers, month, programming",
          "<b>Topic 37</b><br>Words: peg, app, mobile, programming, development",
          "<b>Topic 37</b><br>Words: android, development, mobile, capstone, application",
          "<b>Topic 37</b><br>Words: apps, engineering, courses, smartphone, teach",
          "<b>Topic 37</b><br>Words: development, app, courses, conception, technology"
         ],
         "marker": {
          "color": "#009E73"
         },
         "mode": "lines",
         "name": "37_app_development_mobile_inventor",
         "type": "scatter",
         "x": [
          2013,
          2014,
          2015,
          2016,
          2017,
          2018,
          2021
         ],
         "y": [
          3,
          1,
          1,
          4,
          1,
          1,
          3
         ]
        },
        {
         "hoverinfo": "text",
         "hovertext": [
          "<b>Topic 38</b><br>Words: global, globalisation, political, globalization, quot",
          "<b>Topic 38</b><br>Words: global, income, quot, countries, purpose"
         ],
         "marker": {
          "color": "#F0E442"
         },
         "mode": "lines",
         "name": "38_global_income_quot_globalisation",
         "type": "scatter",
         "x": [
          2013,
          2014
         ],
         "y": [
          7,
          7
         ]
        },
        {
         "hoverinfo": "text",
         "hovertext": [
          "<b>Topic 39</b><br>Words: vocabulary, si, ocw, acquisition, lectures",
          "<b>Topic 39</b><br>Words: vocabulary, toeic, gains, srs, test",
          "<b>Topic 39</b><br>Words: intervention, ells, vocabulary, academic, cummins",
          "<b>Topic 39</b><br>Words: vocabulary, tmvd, knowledge, blog, methodological",
          "<b>Topic 39</b><br>Words: vocabulary, dlls, intervention, dual, ells",
          "<b>Topic 39</b><br>Words: vocabulary, acquisition, test, system, learners",
          "<b>Topic 39</b><br>Words: dlls, dual, vocabulary, ed614293, language",
          "<b>Topic 39</b><br>Words: vocabulary, quizlet, receptive, productive, acquisition"
         ],
         "marker": {
          "color": "#D55E00"
         },
         "mode": "lines",
         "name": "39_vocabulary_acquisition_dlls_intervent...",
         "type": "scatter",
         "x": [
          2013,
          2016,
          2017,
          2018,
          2019,
          2020,
          2021,
          2022
         ],
         "y": [
          2,
          3,
          1,
          2,
          2,
          1,
          1,
          2
         ]
        },
        {
         "hoverinfo": "text",
         "hovertext": [
          "<b>Topic 40</b><br>Words: listening, fl, anxiety, causal, performance",
          "<b>Topic 40</b><br>Words: listening, noticing, comprehension, imll, manipulated",
          "<b>Topic 40</b><br>Words: preview, listening, test, item, choice",
          "<b>Topic 40</b><br>Words: listening, item, pte, academic, audiovisual",
          "<b>Topic 40</b><br>Words: listening, metacognitive, dialogic, multimedia, awareness",
          "<b>Topic 40</b><br>Words: listening, hearing, options, item, metacognitive",
          "<b>Topic 40</b><br>Words: listening, vlogs, talks, options, patterns",
          "<b>Topic 40</b><br>Words: listening, eg, test, comprehension, cg"
         ],
         "marker": {
          "color": "#0072B2"
         },
         "mode": "lines",
         "name": "40_listening_test_comprehension_item",
         "type": "scatter",
         "x": [
          2013,
          2014,
          2016,
          2017,
          2018,
          2020,
          2021,
          2022
         ],
         "y": [
          1,
          1,
          1,
          2,
          1,
          2,
          2,
          3
         ]
        },
        {
         "hoverinfo": "text",
         "hovertext": [
          "<b>Topic 41</b><br>Words: consortium, enterprise, internship, global, program",
          "<b>Topic 41</b><br>Words: challenge, marketing, ppc, campaign, search",
          "<b>Topic 41</b><br>Words: business, kaplan, small, norton, course",
          "<b>Topic 41</b><br>Words: client, competition, database, professional, through",
          "<b>Topic 41</b><br>Words: redesign, petgro, service, are, client",
          "<b>Topic 41</b><br>Words: service, international, modified, framework, programs",
          "<b>Topic 41</b><br>Words: run, business, projects, real, student",
          "<b>Topic 41</b><br>Words: strategy, digital, service, course, is"
         ],
         "marker": {
          "color": "#CC79A7"
         },
         "mode": "lines",
         "name": "41_strategy_service_business_client",
         "type": "scatter",
         "x": [
          2013,
          2014,
          2015,
          2016,
          2017,
          2018,
          2020,
          2022
         ],
         "y": [
          1,
          2,
          2,
          1,
          2,
          1,
          2,
          2
         ]
        },
        {
         "hoverinfo": "text",
         "hovertext": [
          "<b>Topic 42</b><br>Words: graded, rubric, grade, generously, acceptably",
          "<b>Topic 42</b><br>Words: systems, adaptive, intelligent, defined, domains",
          "<b>Topic 42</b><br>Words: data, processed, logged, dashboards, instructors",
          "<b>Topic 42</b><br>Words: data, artificial, middle, will, intelligence",
          "<b>Topic 42</b><br>Words: prediction, chi, frbcs, negatives, positives",
          "<b>Topic 42</b><br>Words: al, et, class, data, student",
          "<b>Topic 42</b><br>Words: sentiment, ai, algorithms, neutral, visits",
          "<b>Topic 42</b><br>Words: intelligent, ml, machine, assessment, educational"
         ],
         "marker": {
          "color": "#E69F00"
         },
         "mode": "lines",
         "name": "42_data_sentiment_ai_intelligent",
         "type": "scatter",
         "x": [
          2015,
          2017,
          2018,
          2019,
          2020,
          2021,
          2022,
          2023
         ],
         "y": [
          1,
          1,
          2,
          2,
          1,
          2,
          3,
          1
         ]
        },
        {
         "hoverinfo": "text",
         "hovertext": [
          "<b>Topic 43</b><br>Words: participation, activities, learner, moodle, interaction",
          "<b>Topic 43</b><br>Words: fb, social, forum, networking, moodle",
          "<b>Topic 43</b><br>Words: snsll, sites, facilitate, as, site",
          "<b>Topic 43</b><br>Words: llsnss, sites, llsns, 174, millions",
          "<b>Topic 43</b><br>Words: sp, sna, participation, analysis, online",
          "<b>Topic 43</b><br>Words: instagram, presence, social, posts, visual",
          "<b>Topic 43</b><br>Words: facebook, vcops, social, interaction, teachers",
          "<b>Topic 43</b><br>Words: engagement, social, participants, participation, online"
         ],
         "marker": {
          "color": "#56B4E9"
         },
         "mode": "lines",
         "name": "43_social_participation_sites_online",
         "type": "scatter",
         "x": [
          2013,
          2014,
          2015,
          2016,
          2018,
          2019,
          2020,
          2022
         ],
         "y": [
          1,
          4,
          1,
          1,
          1,
          1,
          2,
          2
         ]
        },
        {
         "hoverinfo": "text",
         "hovertext": [
          "<b>Topic 44</b><br>Words: colleagues, peer, badges, extending, course",
          "<b>Topic 44</b><br>Words: discussions, online, we, facilitation, aods",
          "<b>Topic 44</b><br>Words: discussions, online, assessment, interactions, holistic",
          "<b>Topic 44</b><br>Words: discussion, student, discussions, online, informational",
          "<b>Topic 44</b><br>Words: perusall, peer, interactions, annotation, online",
          "<b>Topic 44</b><br>Words: hashtags, presentations, between, online, courses",
          "<b>Topic 44</b><br>Words: slack, channels, messages, conversations, students"
         ],
         "marker": {
          "color": "#009E73"
         },
         "mode": "lines",
         "name": "44_discussions_online_discussion_student",
         "type": "scatter",
         "x": [
          2013,
          2014,
          2017,
          2019,
          2020,
          2022,
          2023
         ],
         "y": [
          1,
          2,
          2,
          3,
          1,
          2,
          1
         ]
        },
        {
         "hoverinfo": "text",
         "hovertext": [
          "<b>Topic 45</b><br>Words: flipped, classroom, class, personal, lecture",
          "<b>Topic 45</b><br>Words: flipped, class, lecture, classroom, quiz",
          "<b>Topic 45</b><br>Words: flipped, classroom, presence, student, approach",
          "<b>Topic 45</b><br>Words: flipped, classroom, class, lectures, centered",
          "<b>Topic 45</b><br>Words: flipped, classroom, instructor, course, ic",
          "<b>Topic 45</b><br>Words: flipped, approach, space, engagement, emotional",
          "<b>Topic 45</b><br>Words: flipped, inquiry, presence, was, community"
         ],
         "marker": {
          "color": "#F0E442"
         },
         "mode": "lines",
         "name": "45_flipped_classroom_class_lecture",
         "type": "scatter",
         "x": [
          2013,
          2014,
          2015,
          2016,
          2017,
          2018,
          2021
         ],
         "y": [
          1,
          2,
          1,
          2,
          4,
          1,
          1
         ]
        },
        {
         "hoverinfo": "text",
         "hovertext": [
          "<b>Topic 46</b><br>Words: integrity, plagiarism, academic, assignments, work",
          "<b>Topic 46</b><br>Words: dishonesty, plagiarism, academic, explicitly, cheating",
          "<b>Topic 46</b><br>Words: integrity, plagiarism, academic, dishonesty, faculty",
          "<b>Topic 46</b><br>Words: entitlement, academic, gpa, beliefs, populations"
         ],
         "marker": {
          "color": "#D55E00"
         },
         "mode": "lines",
         "name": "46_integrity_plagiarism_academic_dishone...",
         "type": "scatter",
         "x": [
          2013,
          2015,
          2016,
          2020
         ],
         "y": [
          2,
          2,
          7,
          1
         ]
        },
        {
         "hoverinfo": "text",
         "hovertext": [
          "<b>Topic 47</b><br>Words: online, rlo, qep, learning, courses",
          "<b>Topic 47</b><br>Words: qm, online, quality, standards, oqmc",
          "<b>Topic 47</b><br>Words: qm, redesigned, course, standards, online",
          "<b>Topic 47</b><br>Words: 12, online, learning, services, support",
          "<b>Topic 47</b><br>Words: content, online, issues, asynchronous, development",
          "<b>Topic 47</b><br>Words: online, profit, every, institutions, has",
          "<b>Topic 47</b><br>Words: online, reviews, staggering, impartial, questioned",
          "<b>Topic 47</b><br>Words: instructional, online, modes, shift, characteristics"
         ],
         "marker": {
          "color": "#0072B2"
         },
         "mode": "lines",
         "name": "47_online_qm_courses_content",
         "type": "scatter",
         "x": [
          2013,
          2014,
          2015,
          2016,
          2017,
          2018,
          2019,
          2022
         ],
         "y": [
          2,
          2,
          1,
          2,
          2,
          1,
          1,
          1
         ]
        },
        {
         "hoverinfo": "text",
         "hovertext": [
          "<b>Topic 48</b><br>Words: case, surrounding, privacy, capture, smartphones",
          "<b>Topic 48</b><br>Words: intercept, intercepted, sniffing, ethics, someone",
          "<b>Topic 48</b><br>Words: mary, privacy, carl, she, issues",
          "<b>Topic 48</b><br>Words: privacy, cyberethics, analytica, platform, cambridge",
          "<b>Topic 48</b><br>Words: privacy, ethics, speculative, discussion, fiction",
          "<b>Topic 48</b><br>Words: privacy, formal, education, officers, 99",
          "<b>Topic 48</b><br>Words: privacy, educational, review, process, stakeholders"
         ],
         "marker": {
          "color": "#CC79A7"
         },
         "mode": "lines",
         "name": "48_privacy_ethics_case_ethical",
         "type": "scatter",
         "x": [
          2013,
          2014,
          2017,
          2019,
          2020,
          2021,
          2022
         ],
         "y": [
          1,
          1,
          3,
          2,
          3,
          1,
          1
         ]
        },
        {
         "hoverinfo": "text",
         "hovertext": [
          "<b>Topic 49</b><br>Words: pragmatic, kasper, pragmatics, 2001, amp",
          "<b>Topic 49</b><br>Words: openings, closings, chinese, pragmatics, pragmatic",
          "<b>Topic 49</b><br>Words: formulas, pragmatics, routine, pragmatic, raising",
          "<b>Topic 49</b><br>Words: pragmatics, l1, speakers, speech, requesting",
          "<b>Topic 49</b><br>Words: pragmatic, ilp, pragmatics, simulations, have",
          "<b>Topic 49</b><br>Words: pragmatics, modifiers, nonverbal, politeness, syntactic",
          "<b>Topic 49</b><br>Words: pragmatics, pragmatic, enough, l2, have"
         ],
         "marker": {
          "color": "#E69F00"
         },
         "mode": "lines",
         "name": "49_pragmatics_pragmatic_l1_speakers",
         "type": "scatter",
         "x": [
          2013,
          2014,
          2016,
          2017,
          2018,
          2020,
          2021
         ],
         "y": [
          1,
          1,
          2,
          1,
          2,
          3,
          1
         ]
        }
       ],
       "layout": {
        "height": 450,
        "hoverlabel": {
         "bgcolor": "white",
         "font": {
          "family": "Rockwell",
          "size": 16
         }
        },
        "legend": {
         "title": {
          "text": "<b>Global Topic Representation"
         }
        },
        "template": {
         "data": {
          "bar": [
           {
            "error_x": {
             "color": "rgb(36,36,36)"
            },
            "error_y": {
             "color": "rgb(36,36,36)"
            },
            "marker": {
             "line": {
              "color": "white",
              "width": 0.5
             },
             "pattern": {
              "fillmode": "overlay",
              "size": 10,
              "solidity": 0.2
             }
            },
            "type": "bar"
           }
          ],
          "barpolar": [
           {
            "marker": {
             "line": {
              "color": "white",
              "width": 0.5
             },
             "pattern": {
              "fillmode": "overlay",
              "size": 10,
              "solidity": 0.2
             }
            },
            "type": "barpolar"
           }
          ],
          "carpet": [
           {
            "aaxis": {
             "endlinecolor": "rgb(36,36,36)",
             "gridcolor": "white",
             "linecolor": "white",
             "minorgridcolor": "white",
             "startlinecolor": "rgb(36,36,36)"
            },
            "baxis": {
             "endlinecolor": "rgb(36,36,36)",
             "gridcolor": "white",
             "linecolor": "white",
             "minorgridcolor": "white",
             "startlinecolor": "rgb(36,36,36)"
            },
            "type": "carpet"
           }
          ],
          "choropleth": [
           {
            "colorbar": {
             "outlinewidth": 1,
             "tickcolor": "rgb(36,36,36)",
             "ticks": "outside"
            },
            "type": "choropleth"
           }
          ],
          "contour": [
           {
            "colorbar": {
             "outlinewidth": 1,
             "tickcolor": "rgb(36,36,36)",
             "ticks": "outside"
            },
            "colorscale": [
             [
              0,
              "#440154"
             ],
             [
              0.1111111111111111,
              "#482878"
             ],
             [
              0.2222222222222222,
              "#3e4989"
             ],
             [
              0.3333333333333333,
              "#31688e"
             ],
             [
              0.4444444444444444,
              "#26828e"
             ],
             [
              0.5555555555555556,
              "#1f9e89"
             ],
             [
              0.6666666666666666,
              "#35b779"
             ],
             [
              0.7777777777777778,
              "#6ece58"
             ],
             [
              0.8888888888888888,
              "#b5de2b"
             ],
             [
              1,
              "#fde725"
             ]
            ],
            "type": "contour"
           }
          ],
          "contourcarpet": [
           {
            "colorbar": {
             "outlinewidth": 1,
             "tickcolor": "rgb(36,36,36)",
             "ticks": "outside"
            },
            "type": "contourcarpet"
           }
          ],
          "heatmap": [
           {
            "colorbar": {
             "outlinewidth": 1,
             "tickcolor": "rgb(36,36,36)",
             "ticks": "outside"
            },
            "colorscale": [
             [
              0,
              "#440154"
             ],
             [
              0.1111111111111111,
              "#482878"
             ],
             [
              0.2222222222222222,
              "#3e4989"
             ],
             [
              0.3333333333333333,
              "#31688e"
             ],
             [
              0.4444444444444444,
              "#26828e"
             ],
             [
              0.5555555555555556,
              "#1f9e89"
             ],
             [
              0.6666666666666666,
              "#35b779"
             ],
             [
              0.7777777777777778,
              "#6ece58"
             ],
             [
              0.8888888888888888,
              "#b5de2b"
             ],
             [
              1,
              "#fde725"
             ]
            ],
            "type": "heatmap"
           }
          ],
          "heatmapgl": [
           {
            "colorbar": {
             "outlinewidth": 1,
             "tickcolor": "rgb(36,36,36)",
             "ticks": "outside"
            },
            "colorscale": [
             [
              0,
              "#440154"
             ],
             [
              0.1111111111111111,
              "#482878"
             ],
             [
              0.2222222222222222,
              "#3e4989"
             ],
             [
              0.3333333333333333,
              "#31688e"
             ],
             [
              0.4444444444444444,
              "#26828e"
             ],
             [
              0.5555555555555556,
              "#1f9e89"
             ],
             [
              0.6666666666666666,
              "#35b779"
             ],
             [
              0.7777777777777778,
              "#6ece58"
             ],
             [
              0.8888888888888888,
              "#b5de2b"
             ],
             [
              1,
              "#fde725"
             ]
            ],
            "type": "heatmapgl"
           }
          ],
          "histogram": [
           {
            "marker": {
             "line": {
              "color": "white",
              "width": 0.6
             }
            },
            "type": "histogram"
           }
          ],
          "histogram2d": [
           {
            "colorbar": {
             "outlinewidth": 1,
             "tickcolor": "rgb(36,36,36)",
             "ticks": "outside"
            },
            "colorscale": [
             [
              0,
              "#440154"
             ],
             [
              0.1111111111111111,
              "#482878"
             ],
             [
              0.2222222222222222,
              "#3e4989"
             ],
             [
              0.3333333333333333,
              "#31688e"
             ],
             [
              0.4444444444444444,
              "#26828e"
             ],
             [
              0.5555555555555556,
              "#1f9e89"
             ],
             [
              0.6666666666666666,
              "#35b779"
             ],
             [
              0.7777777777777778,
              "#6ece58"
             ],
             [
              0.8888888888888888,
              "#b5de2b"
             ],
             [
              1,
              "#fde725"
             ]
            ],
            "type": "histogram2d"
           }
          ],
          "histogram2dcontour": [
           {
            "colorbar": {
             "outlinewidth": 1,
             "tickcolor": "rgb(36,36,36)",
             "ticks": "outside"
            },
            "colorscale": [
             [
              0,
              "#440154"
             ],
             [
              0.1111111111111111,
              "#482878"
             ],
             [
              0.2222222222222222,
              "#3e4989"
             ],
             [
              0.3333333333333333,
              "#31688e"
             ],
             [
              0.4444444444444444,
              "#26828e"
             ],
             [
              0.5555555555555556,
              "#1f9e89"
             ],
             [
              0.6666666666666666,
              "#35b779"
             ],
             [
              0.7777777777777778,
              "#6ece58"
             ],
             [
              0.8888888888888888,
              "#b5de2b"
             ],
             [
              1,
              "#fde725"
             ]
            ],
            "type": "histogram2dcontour"
           }
          ],
          "mesh3d": [
           {
            "colorbar": {
             "outlinewidth": 1,
             "tickcolor": "rgb(36,36,36)",
             "ticks": "outside"
            },
            "type": "mesh3d"
           }
          ],
          "parcoords": [
           {
            "line": {
             "colorbar": {
              "outlinewidth": 1,
              "tickcolor": "rgb(36,36,36)",
              "ticks": "outside"
             }
            },
            "type": "parcoords"
           }
          ],
          "pie": [
           {
            "automargin": true,
            "type": "pie"
           }
          ],
          "scatter": [
           {
            "fillpattern": {
             "fillmode": "overlay",
             "size": 10,
             "solidity": 0.2
            },
            "type": "scatter"
           }
          ],
          "scatter3d": [
           {
            "line": {
             "colorbar": {
              "outlinewidth": 1,
              "tickcolor": "rgb(36,36,36)",
              "ticks": "outside"
             }
            },
            "marker": {
             "colorbar": {
              "outlinewidth": 1,
              "tickcolor": "rgb(36,36,36)",
              "ticks": "outside"
             }
            },
            "type": "scatter3d"
           }
          ],
          "scattercarpet": [
           {
            "marker": {
             "colorbar": {
              "outlinewidth": 1,
              "tickcolor": "rgb(36,36,36)",
              "ticks": "outside"
             }
            },
            "type": "scattercarpet"
           }
          ],
          "scattergeo": [
           {
            "marker": {
             "colorbar": {
              "outlinewidth": 1,
              "tickcolor": "rgb(36,36,36)",
              "ticks": "outside"
             }
            },
            "type": "scattergeo"
           }
          ],
          "scattergl": [
           {
            "marker": {
             "colorbar": {
              "outlinewidth": 1,
              "tickcolor": "rgb(36,36,36)",
              "ticks": "outside"
             }
            },
            "type": "scattergl"
           }
          ],
          "scattermapbox": [
           {
            "marker": {
             "colorbar": {
              "outlinewidth": 1,
              "tickcolor": "rgb(36,36,36)",
              "ticks": "outside"
             }
            },
            "type": "scattermapbox"
           }
          ],
          "scatterpolar": [
           {
            "marker": {
             "colorbar": {
              "outlinewidth": 1,
              "tickcolor": "rgb(36,36,36)",
              "ticks": "outside"
             }
            },
            "type": "scatterpolar"
           }
          ],
          "scatterpolargl": [
           {
            "marker": {
             "colorbar": {
              "outlinewidth": 1,
              "tickcolor": "rgb(36,36,36)",
              "ticks": "outside"
             }
            },
            "type": "scatterpolargl"
           }
          ],
          "scatterternary": [
           {
            "marker": {
             "colorbar": {
              "outlinewidth": 1,
              "tickcolor": "rgb(36,36,36)",
              "ticks": "outside"
             }
            },
            "type": "scatterternary"
           }
          ],
          "surface": [
           {
            "colorbar": {
             "outlinewidth": 1,
             "tickcolor": "rgb(36,36,36)",
             "ticks": "outside"
            },
            "colorscale": [
             [
              0,
              "#440154"
             ],
             [
              0.1111111111111111,
              "#482878"
             ],
             [
              0.2222222222222222,
              "#3e4989"
             ],
             [
              0.3333333333333333,
              "#31688e"
             ],
             [
              0.4444444444444444,
              "#26828e"
             ],
             [
              0.5555555555555556,
              "#1f9e89"
             ],
             [
              0.6666666666666666,
              "#35b779"
             ],
             [
              0.7777777777777778,
              "#6ece58"
             ],
             [
              0.8888888888888888,
              "#b5de2b"
             ],
             [
              1,
              "#fde725"
             ]
            ],
            "type": "surface"
           }
          ],
          "table": [
           {
            "cells": {
             "fill": {
              "color": "rgb(237,237,237)"
             },
             "line": {
              "color": "white"
             }
            },
            "header": {
             "fill": {
              "color": "rgb(217,217,217)"
             },
             "line": {
              "color": "white"
             }
            },
            "type": "table"
           }
          ]
         },
         "layout": {
          "annotationdefaults": {
           "arrowhead": 0,
           "arrowwidth": 1
          },
          "autotypenumbers": "strict",
          "coloraxis": {
           "colorbar": {
            "outlinewidth": 1,
            "tickcolor": "rgb(36,36,36)",
            "ticks": "outside"
           }
          },
          "colorscale": {
           "diverging": [
            [
             0,
             "rgb(103,0,31)"
            ],
            [
             0.1,
             "rgb(178,24,43)"
            ],
            [
             0.2,
             "rgb(214,96,77)"
            ],
            [
             0.3,
             "rgb(244,165,130)"
            ],
            [
             0.4,
             "rgb(253,219,199)"
            ],
            [
             0.5,
             "rgb(247,247,247)"
            ],
            [
             0.6,
             "rgb(209,229,240)"
            ],
            [
             0.7,
             "rgb(146,197,222)"
            ],
            [
             0.8,
             "rgb(67,147,195)"
            ],
            [
             0.9,
             "rgb(33,102,172)"
            ],
            [
             1,
             "rgb(5,48,97)"
            ]
           ],
           "sequential": [
            [
             0,
             "#440154"
            ],
            [
             0.1111111111111111,
             "#482878"
            ],
            [
             0.2222222222222222,
             "#3e4989"
            ],
            [
             0.3333333333333333,
             "#31688e"
            ],
            [
             0.4444444444444444,
             "#26828e"
            ],
            [
             0.5555555555555556,
             "#1f9e89"
            ],
            [
             0.6666666666666666,
             "#35b779"
            ],
            [
             0.7777777777777778,
             "#6ece58"
            ],
            [
             0.8888888888888888,
             "#b5de2b"
            ],
            [
             1,
             "#fde725"
            ]
           ],
           "sequentialminus": [
            [
             0,
             "#440154"
            ],
            [
             0.1111111111111111,
             "#482878"
            ],
            [
             0.2222222222222222,
             "#3e4989"
            ],
            [
             0.3333333333333333,
             "#31688e"
            ],
            [
             0.4444444444444444,
             "#26828e"
            ],
            [
             0.5555555555555556,
             "#1f9e89"
            ],
            [
             0.6666666666666666,
             "#35b779"
            ],
            [
             0.7777777777777778,
             "#6ece58"
            ],
            [
             0.8888888888888888,
             "#b5de2b"
            ],
            [
             1,
             "#fde725"
            ]
           ]
          },
          "colorway": [
           "#1F77B4",
           "#FF7F0E",
           "#2CA02C",
           "#D62728",
           "#9467BD",
           "#8C564B",
           "#E377C2",
           "#7F7F7F",
           "#BCBD22",
           "#17BECF"
          ],
          "font": {
           "color": "rgb(36,36,36)"
          },
          "geo": {
           "bgcolor": "white",
           "lakecolor": "white",
           "landcolor": "white",
           "showlakes": true,
           "showland": true,
           "subunitcolor": "white"
          },
          "hoverlabel": {
           "align": "left"
          },
          "hovermode": "closest",
          "mapbox": {
           "style": "light"
          },
          "paper_bgcolor": "white",
          "plot_bgcolor": "white",
          "polar": {
           "angularaxis": {
            "gridcolor": "rgb(232,232,232)",
            "linecolor": "rgb(36,36,36)",
            "showgrid": false,
            "showline": true,
            "ticks": "outside"
           },
           "bgcolor": "white",
           "radialaxis": {
            "gridcolor": "rgb(232,232,232)",
            "linecolor": "rgb(36,36,36)",
            "showgrid": false,
            "showline": true,
            "ticks": "outside"
           }
          },
          "scene": {
           "xaxis": {
            "backgroundcolor": "white",
            "gridcolor": "rgb(232,232,232)",
            "gridwidth": 2,
            "linecolor": "rgb(36,36,36)",
            "showbackground": true,
            "showgrid": false,
            "showline": true,
            "ticks": "outside",
            "zeroline": false,
            "zerolinecolor": "rgb(36,36,36)"
           },
           "yaxis": {
            "backgroundcolor": "white",
            "gridcolor": "rgb(232,232,232)",
            "gridwidth": 2,
            "linecolor": "rgb(36,36,36)",
            "showbackground": true,
            "showgrid": false,
            "showline": true,
            "ticks": "outside",
            "zeroline": false,
            "zerolinecolor": "rgb(36,36,36)"
           },
           "zaxis": {
            "backgroundcolor": "white",
            "gridcolor": "rgb(232,232,232)",
            "gridwidth": 2,
            "linecolor": "rgb(36,36,36)",
            "showbackground": true,
            "showgrid": false,
            "showline": true,
            "ticks": "outside",
            "zeroline": false,
            "zerolinecolor": "rgb(36,36,36)"
           }
          },
          "shapedefaults": {
           "fillcolor": "black",
           "line": {
            "width": 0
           },
           "opacity": 0.3
          },
          "ternary": {
           "aaxis": {
            "gridcolor": "rgb(232,232,232)",
            "linecolor": "rgb(36,36,36)",
            "showgrid": false,
            "showline": true,
            "ticks": "outside"
           },
           "baxis": {
            "gridcolor": "rgb(232,232,232)",
            "linecolor": "rgb(36,36,36)",
            "showgrid": false,
            "showline": true,
            "ticks": "outside"
           },
           "bgcolor": "white",
           "caxis": {
            "gridcolor": "rgb(232,232,232)",
            "linecolor": "rgb(36,36,36)",
            "showgrid": false,
            "showline": true,
            "ticks": "outside"
           }
          },
          "title": {
           "x": 0.05
          },
          "xaxis": {
           "automargin": true,
           "gridcolor": "rgb(232,232,232)",
           "linecolor": "rgb(36,36,36)",
           "showgrid": false,
           "showline": true,
           "ticks": "outside",
           "title": {
            "standoff": 15
           },
           "zeroline": false,
           "zerolinecolor": "rgb(36,36,36)"
          },
          "yaxis": {
           "automargin": true,
           "gridcolor": "rgb(232,232,232)",
           "linecolor": "rgb(36,36,36)",
           "showgrid": false,
           "showline": true,
           "ticks": "outside",
           "title": {
            "standoff": 15
           },
           "zeroline": false,
           "zerolinecolor": "rgb(36,36,36)"
          }
         }
        },
        "title": {
         "font": {
          "color": "Black",
          "size": 22
         },
         "text": "<b>Topics over Time</b>",
         "x": 0.4,
         "xanchor": "center",
         "y": 0.95,
         "yanchor": "top"
        },
        "width": 1250,
        "xaxis": {
         "showgrid": true
        },
        "yaxis": {
         "showgrid": true,
         "title": {
          "text": "Frequency"
         }
        }
       }
      }
     },
     "metadata": {},
     "output_type": "display_data"
    }
   ],
   "source": [
    "model.visualize_topics_over_time(topics_over_time)"
   ]
  }
 ],
 "metadata": {
  "kernelspec": {
   "display_name": "Python 3",
   "language": "python",
   "name": "python3"
  },
  "language_info": {
   "codemirror_mode": {
    "name": "ipython",
    "version": 3
   },
   "file_extension": ".py",
   "mimetype": "text/x-python",
   "name": "python",
   "nbconvert_exporter": "python",
   "pygments_lexer": "ipython3",
   "version": "3.11.0"
  },
  "orig_nbformat": 4
 },
 "nbformat": 4,
 "nbformat_minor": 2
}
