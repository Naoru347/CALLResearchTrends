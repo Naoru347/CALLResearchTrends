{
 "cells": [
  {
   "cell_type": "code",
   "execution_count": 16,
   "metadata": {},
   "outputs": [],
   "source": [
    "import pandas as pd\n",
    "import matplotlib.pyplot as plt\n",
    "import json\n",
    "import time\n",
    "import re\n",
    "from bertopic import BERTopic\n",
    "from wordcloud import WordCloud"
   ]
  },
  {
   "cell_type": "code",
   "execution_count": 17,
   "metadata": {},
   "outputs": [
    {
     "name": "stdout",
     "output_type": "stream",
     "text": [
      "Importing data and building DataFrame:\n",
      "Data load time 0.010999917984008789\n",
      "{'id': 'EJ1013917', 'title': 'Enhancing the Autonomous Use of CALL: A New Curriculum Model in EFL', 'author': 'Smith, Karen, Craig, Hana', 'description': \"This action research study evaluates the effectiveness of a CALL Learner Autonomy (CALL LA) course at a Japanese university. The &quot;C course&quot; blends face-to-face instruction and independent study in a CALL environment. It aims to enhance learners' autonomous use of CALL in the acquisition of English as a Foreign Language (EFL). In this study, three learning support aids were trialed: the Learner Passport, the e-Language Learning Portfolio and the e-Learner Self-Reflection Diary. The participant- researchers examined the course using data from the trial materials, observation, their own reflexive practice, learner questionnaires, interviews, artifacts and learner self-reflections. Findings indicate that teachers' and learners' consciousness was raised about what is expected of users in the autonomous use of CALL in a classroom environment and in a Self-Access Centre. The study also shows an improvement in learners' planning, organizing, tracking, and evaluation of their autonomous use of CALL resources, and that regular and critical learner self-reflection is a key factor\\ncontributing to a positive shift in study culture. It recommends the conversion of the Learner Passport to an online, interactive format and the course-wide implementation of the three learning support aids as an incorporated package. (Contains 4 tables and 2 figures.)\", 'subject': 'Action Research, English (Second Language), English Language Learners, Second Language Learning, Independent Study, Learner Engagement, Interviews, Questionnaires, Portfolio Assessment, Teaching Methods, Curriculum Design, Metacognition, Computer Assisted Instruction, Instructional Effectiveness, Personal Autonomy, Program Evaluation, Foreign Countries, Observation', 'source': 'CALICO Journal', 'publicationdateyear': 2013, 'identifiersgeo': 'Japan'}\n"
     ]
    }
   ],
   "source": [
    "print(\"Importing data and building DataFrame:\")\n",
    "start_time = time.time()\n",
    "with open('data/cleanedAggregateData.json', 'r') as f:\n",
    "    data = json.load(f)\n",
    "end_time = time.time()\n",
    "load_time = end_time - start_time\n",
    "print(\"Data load time\", load_time)\n",
    "print(data[0])"
   ]
  },
  {
   "cell_type": "code",
   "execution_count": 18,
   "metadata": {},
   "outputs": [
    {
     "name": "stdout",
     "output_type": "stream",
     "text": [
      "Data loaded, converting to DataFrame\n",
      "Data successfully converted to DataFrame. Conversion time: 0.002998828887939453\n"
     ]
    }
   ],
   "source": [
    "print(\"Data loaded, converting to DataFrame\")\n",
    "start_time = time.time()\n",
    "df = pd.DataFrame(data)\n",
    "end_time = time.time()\n",
    "convert_time = end_time - start_time\n",
    "print(\"Data successfully converted to DataFrame. Conversion time:\", convert_time)"
   ]
  },
  {
   "cell_type": "code",
   "execution_count": 19,
   "metadata": {},
   "outputs": [
    {
     "name": "stderr",
     "output_type": "stream",
     "text": [
      "Batches: 100%|██████████| 39/39 [00:07<00:00,  5.52it/s]\n",
      "2023-06-18 07:40:06,929 - BERTopic - Transformed documents to Embeddings\n",
      "2023-06-18 07:40:10,372 - BERTopic - Reduced dimensionality\n",
      "2023-06-18 07:40:10,421 - BERTopic - Clustered reduced embeddings\n",
      "12it [00:00, 50.78it/s]\n"
     ]
    },
    {
     "data": {
      "text/html": [
       "<div>\n",
       "<style scoped>\n",
       "    .dataframe tbody tr th:only-of-type {\n",
       "        vertical-align: middle;\n",
       "    }\n",
       "\n",
       "    .dataframe tbody tr th {\n",
       "        vertical-align: top;\n",
       "    }\n",
       "\n",
       "    .dataframe thead th {\n",
       "        text-align: right;\n",
       "    }\n",
       "</style>\n",
       "<table border=\"1\" class=\"dataframe\">\n",
       "  <thead>\n",
       "    <tr style=\"text-align: right;\">\n",
       "      <th></th>\n",
       "      <th>Topic</th>\n",
       "      <th>Count</th>\n",
       "      <th>Name</th>\n",
       "      <th>Representation</th>\n",
       "      <th>Representative_Docs</th>\n",
       "    </tr>\n",
       "  </thead>\n",
       "  <tbody>\n",
       "    <tr>\n",
       "      <th>0</th>\n",
       "      <td>-1</td>\n",
       "      <td>363</td>\n",
       "      <td>-1_of_and_in_learning</td>\n",
       "      <td>[of, and, in, learning, learners, the, languag...</td>\n",
       "      <td>[Second Language Teachers&amp;apos; Identity Devel...</td>\n",
       "    </tr>\n",
       "    <tr>\n",
       "      <th>1</th>\n",
       "      <td>0</td>\n",
       "      <td>87</td>\n",
       "      <td>0_technology_language_learning_teachers</td>\n",
       "      <td>[technology, language, learning, teachers, ass...</td>\n",
       "      <td>[Technologies for Foreign Language Learning: A...</td>\n",
       "    </tr>\n",
       "    <tr>\n",
       "      <th>2</th>\n",
       "      <td>1</td>\n",
       "      <td>65</td>\n",
       "      <td>1_call_research_sla_the</td>\n",
       "      <td>[call, research, sla, the, of, teacher, in, fr...</td>\n",
       "      <td>[Design for CALL--Possible Synergies between C...</td>\n",
       "    </tr>\n",
       "    <tr>\n",
       "      <th>3</th>\n",
       "      <td>2</td>\n",
       "      <td>61</td>\n",
       "      <td>2_data_corpus_driven_collocation</td>\n",
       "      <td>[data, corpus, driven, collocation, dictionari...</td>\n",
       "      <td>[Discovering Collocations via Data-Driven Lear...</td>\n",
       "    </tr>\n",
       "    <tr>\n",
       "      <th>4</th>\n",
       "      <td>3</td>\n",
       "      <td>55</td>\n",
       "      <td>3_writing_feedback_automated_corrective</td>\n",
       "      <td>[writing, feedback, automated, corrective, eva...</td>\n",
       "      <td>[Impact of Automated Writing Evaluation on Tea...</td>\n",
       "    </tr>\n",
       "    <tr>\n",
       "      <th>5</th>\n",
       "      <td>4</td>\n",
       "      <td>52</td>\n",
       "      <td>4_mobile_learning_assisted_language</td>\n",
       "      <td>[mobile, learning, assisted, language, smartph...</td>\n",
       "      <td>[Mobile-Assisted Language Learning: A Duolingo...</td>\n",
       "    </tr>\n",
       "    <tr>\n",
       "      <th>6</th>\n",
       "      <td>5</td>\n",
       "      <td>50</td>\n",
       "      <td>5_collaborative_writing_wiki_mediated</td>\n",
       "      <td>[collaborative, writing, wiki, mediated, wikis...</td>\n",
       "      <td>[Effects of computer-mediated collaborative wr...</td>\n",
       "    </tr>\n",
       "    <tr>\n",
       "      <th>7</th>\n",
       "      <td>6</td>\n",
       "      <td>44</td>\n",
       "      <td>6_pronunciation_speech_training_recognition</td>\n",
       "      <td>[pronunciation, speech, training, recognition,...</td>\n",
       "      <td>[Automatic pronunciation assessment vs. automa...</td>\n",
       "    </tr>\n",
       "    <tr>\n",
       "      <th>8</th>\n",
       "      <td>7</td>\n",
       "      <td>43</td>\n",
       "      <td>7_multimodal_videoconferencing_video_conferencing</td>\n",
       "      <td>[multimodal, videoconferencing, video, confere...</td>\n",
       "      <td>[Multimodal Language Learner Interactions via ...</td>\n",
       "    </tr>\n",
       "    <tr>\n",
       "      <th>9</th>\n",
       "      <td>8</td>\n",
       "      <td>41</td>\n",
       "      <td>8_game_games_digital_playing</td>\n",
       "      <td>[game, games, digital, playing, gaming, play, ...</td>\n",
       "      <td>[Learner Interaction in a Massively Multiplaye...</td>\n",
       "    </tr>\n",
       "    <tr>\n",
       "      <th>10</th>\n",
       "      <td>9</td>\n",
       "      <td>39</td>\n",
       "      <td>9_online_language_learning_moocs</td>\n",
       "      <td>[online, language, learning, moocs, student, c...</td>\n",
       "      <td>[Understanding Online Interaction in Language ...</td>\n",
       "    </tr>\n",
       "    <tr>\n",
       "      <th>11</th>\n",
       "      <td>10</td>\n",
       "      <td>39</td>\n",
       "      <td>10_telecollaboration_intercultural_telecollabo...</td>\n",
       "      <td>[telecollaboration, intercultural, telecollabo...</td>\n",
       "      <td>[Raising critical cultural awareness through t...</td>\n",
       "    </tr>\n",
       "    <tr>\n",
       "      <th>12</th>\n",
       "      <td>11</td>\n",
       "      <td>34</td>\n",
       "      <td>11_vocabulary_gloss_glosses_comprehension</td>\n",
       "      <td>[vocabulary, gloss, glosses, comprehension, ef...</td>\n",
       "      <td>[Hypertext Glosses for Foreign Language Readin...</td>\n",
       "    </tr>\n",
       "    <tr>\n",
       "      <th>13</th>\n",
       "      <td>12</td>\n",
       "      <td>33</td>\n",
       "      <td>12_comprehension_captions_listening_captioned</td>\n",
       "      <td>[comprehension, captions, listening, captioned...</td>\n",
       "      <td>[The Effects of Captions on L2 Learners' Compr...</td>\n",
       "    </tr>\n",
       "    <tr>\n",
       "      <th>14</th>\n",
       "      <td>13</td>\n",
       "      <td>26</td>\n",
       "      <td>13_virtual_3d_reality_immersive</td>\n",
       "      <td>[virtual, 3d, reality, immersive, worlds, expe...</td>\n",
       "      <td>[ESL Teacher Training in 3D Virtual Worlds, In...</td>\n",
       "    </tr>\n",
       "    <tr>\n",
       "      <th>15</th>\n",
       "      <td>14</td>\n",
       "      <td>23</td>\n",
       "      <td>14_flipped_classroom_flipping_classrooms</td>\n",
       "      <td>[flipped, classroom, flipping, classrooms, tea...</td>\n",
       "      <td>[Effects of online flipped classroom on foreig...</td>\n",
       "    </tr>\n",
       "    <tr>\n",
       "      <th>16</th>\n",
       "      <td>15</td>\n",
       "      <td>22</td>\n",
       "      <td>15_oral_communication_mediated_computer</td>\n",
       "      <td>[oral, communication, mediated, computer, prof...</td>\n",
       "      <td>[Focus on Form in Task-Based L2 Oral Computer-...</td>\n",
       "    </tr>\n",
       "    <tr>\n",
       "      <th>17</th>\n",
       "      <td>16</td>\n",
       "      <td>20</td>\n",
       "      <td>16_intercultural_exchange_competence_exchanges</td>\n",
       "      <td>[intercultural, exchange, competence, exchange...</td>\n",
       "      <td>[Learner Autonomy versus Guided Reflection: Ho...</td>\n",
       "    </tr>\n",
       "    <tr>\n",
       "      <th>18</th>\n",
       "      <td>17</td>\n",
       "      <td>20</td>\n",
       "      <td>17_social_media_networking_networks</td>\n",
       "      <td>[social, media, networking, networks, language...</td>\n",
       "      <td>[Educational Affordances of Mobile Social Medi...</td>\n",
       "    </tr>\n",
       "    <tr>\n",
       "      <th>19</th>\n",
       "      <td>18</td>\n",
       "      <td>20</td>\n",
       "      <td>18_reading_strategies_comprehension_strategy</td>\n",
       "      <td>[reading, strategies, comprehension, strategy,...</td>\n",
       "      <td>[Promoting EFL students’ inferential reading s...</td>\n",
       "    </tr>\n",
       "    <tr>\n",
       "      <th>20</th>\n",
       "      <td>19</td>\n",
       "      <td>19</td>\n",
       "      <td>19_virtual_exchange_presence_professional</td>\n",
       "      <td>[virtual, exchange, presence, professional, in...</td>\n",
       "      <td>[Interaction in a Discussion List: An Explorat...</td>\n",
       "    </tr>\n",
       "    <tr>\n",
       "      <th>21</th>\n",
       "      <td>20</td>\n",
       "      <td>19</td>\n",
       "      <td>20_blended_learning_inquiry_college</td>\n",
       "      <td>[blended, learning, inquiry, college, for, bui...</td>\n",
       "      <td>[Dilemmas of Blended Language Learning: Learne...</td>\n",
       "    </tr>\n",
       "    <tr>\n",
       "      <th>22</th>\n",
       "      <td>21</td>\n",
       "      <td>18</td>\n",
       "      <td>21_storytelling_digital_story_stories</td>\n",
       "      <td>[storytelling, digital, story, stories, her, c...</td>\n",
       "      <td>[Teachers' Perception about the Contribution o...</td>\n",
       "    </tr>\n",
       "    <tr>\n",
       "      <th>23</th>\n",
       "      <td>22</td>\n",
       "      <td>17</td>\n",
       "      <td>22_translation_machine_writing_levels</td>\n",
       "      <td>[translation, machine, writing, levels, l2, us...</td>\n",
       "      <td>[The effect of using machine translation on li...</td>\n",
       "    </tr>\n",
       "    <tr>\n",
       "      <th>24</th>\n",
       "      <td>23</td>\n",
       "      <td>14</td>\n",
       "      <td>23_mall_meta_oer_processing</td>\n",
       "      <td>[mall, meta, oer, processing, the, outcomes, o...</td>\n",
       "      <td>[Polish, Portuguese, and Turkish EFL teachers’...</td>\n",
       "    </tr>\n",
       "    <tr>\n",
       "      <th>25</th>\n",
       "      <td>24</td>\n",
       "      <td>14</td>\n",
       "      <td>24_chat_task_text_l2</td>\n",
       "      <td>[chat, task, text, l2, interaction, child, int...</td>\n",
       "      <td>[Investigating the Effects of Planning on L2 T...</td>\n",
       "    </tr>\n",
       "  </tbody>\n",
       "</table>\n",
       "</div>"
      ],
      "text/plain": [
       "    Topic  Count                                               Name   \n",
       "0      -1    363                              -1_of_and_in_learning  \\\n",
       "1       0     87            0_technology_language_learning_teachers   \n",
       "2       1     65                            1_call_research_sla_the   \n",
       "3       2     61                   2_data_corpus_driven_collocation   \n",
       "4       3     55            3_writing_feedback_automated_corrective   \n",
       "5       4     52                4_mobile_learning_assisted_language   \n",
       "6       5     50              5_collaborative_writing_wiki_mediated   \n",
       "7       6     44        6_pronunciation_speech_training_recognition   \n",
       "8       7     43  7_multimodal_videoconferencing_video_conferencing   \n",
       "9       8     41                       8_game_games_digital_playing   \n",
       "10      9     39                   9_online_language_learning_moocs   \n",
       "11     10     39  10_telecollaboration_intercultural_telecollabo...   \n",
       "12     11     34          11_vocabulary_gloss_glosses_comprehension   \n",
       "13     12     33      12_comprehension_captions_listening_captioned   \n",
       "14     13     26                    13_virtual_3d_reality_immersive   \n",
       "15     14     23           14_flipped_classroom_flipping_classrooms   \n",
       "16     15     22            15_oral_communication_mediated_computer   \n",
       "17     16     20     16_intercultural_exchange_competence_exchanges   \n",
       "18     17     20                17_social_media_networking_networks   \n",
       "19     18     20       18_reading_strategies_comprehension_strategy   \n",
       "20     19     19          19_virtual_exchange_presence_professional   \n",
       "21     20     19                20_blended_learning_inquiry_college   \n",
       "22     21     18              21_storytelling_digital_story_stories   \n",
       "23     22     17              22_translation_machine_writing_levels   \n",
       "24     23     14                        23_mall_meta_oer_processing   \n",
       "25     24     14                               24_chat_task_text_l2   \n",
       "\n",
       "                                       Representation   \n",
       "0   [of, and, in, learning, learners, the, languag...  \\\n",
       "1   [technology, language, learning, teachers, ass...   \n",
       "2   [call, research, sla, the, of, teacher, in, fr...   \n",
       "3   [data, corpus, driven, collocation, dictionari...   \n",
       "4   [writing, feedback, automated, corrective, eva...   \n",
       "5   [mobile, learning, assisted, language, smartph...   \n",
       "6   [collaborative, writing, wiki, mediated, wikis...   \n",
       "7   [pronunciation, speech, training, recognition,...   \n",
       "8   [multimodal, videoconferencing, video, confere...   \n",
       "9   [game, games, digital, playing, gaming, play, ...   \n",
       "10  [online, language, learning, moocs, student, c...   \n",
       "11  [telecollaboration, intercultural, telecollabo...   \n",
       "12  [vocabulary, gloss, glosses, comprehension, ef...   \n",
       "13  [comprehension, captions, listening, captioned...   \n",
       "14  [virtual, 3d, reality, immersive, worlds, expe...   \n",
       "15  [flipped, classroom, flipping, classrooms, tea...   \n",
       "16  [oral, communication, mediated, computer, prof...   \n",
       "17  [intercultural, exchange, competence, exchange...   \n",
       "18  [social, media, networking, networks, language...   \n",
       "19  [reading, strategies, comprehension, strategy,...   \n",
       "20  [virtual, exchange, presence, professional, in...   \n",
       "21  [blended, learning, inquiry, college, for, bui...   \n",
       "22  [storytelling, digital, story, stories, her, c...   \n",
       "23  [translation, machine, writing, levels, l2, us...   \n",
       "24  [mall, meta, oer, processing, the, outcomes, o...   \n",
       "25  [chat, task, text, l2, interaction, child, int...   \n",
       "\n",
       "                                  Representative_Docs  \n",
       "0   [Second Language Teachers&apos; Identity Devel...  \n",
       "1   [Technologies for Foreign Language Learning: A...  \n",
       "2   [Design for CALL--Possible Synergies between C...  \n",
       "3   [Discovering Collocations via Data-Driven Lear...  \n",
       "4   [Impact of Automated Writing Evaluation on Tea...  \n",
       "5   [Mobile-Assisted Language Learning: A Duolingo...  \n",
       "6   [Effects of computer-mediated collaborative wr...  \n",
       "7   [Automatic pronunciation assessment vs. automa...  \n",
       "8   [Multimodal Language Learner Interactions via ...  \n",
       "9   [Learner Interaction in a Massively Multiplaye...  \n",
       "10  [Understanding Online Interaction in Language ...  \n",
       "11  [Raising critical cultural awareness through t...  \n",
       "12  [Hypertext Glosses for Foreign Language Readin...  \n",
       "13  [The Effects of Captions on L2 Learners' Compr...  \n",
       "14  [ESL Teacher Training in 3D Virtual Worlds, In...  \n",
       "15  [Effects of online flipped classroom on foreig...  \n",
       "16  [Focus on Form in Task-Based L2 Oral Computer-...  \n",
       "17  [Learner Autonomy versus Guided Reflection: Ho...  \n",
       "18  [Educational Affordances of Mobile Social Medi...  \n",
       "19  [Promoting EFL students’ inferential reading s...  \n",
       "20  [Interaction in a Discussion List: An Explorat...  \n",
       "21  [Dilemmas of Blended Language Learning: Learne...  \n",
       "22  [Teachers' Perception about the Contribution o...  \n",
       "23  [The effect of using machine translation on li...  \n",
       "24  [Polish, Portuguese, and Turkish EFL teachers’...  \n",
       "25  [Investigating the Effects of Planning on L2 T...  "
      ]
     },
     "execution_count": 19,
     "metadata": {},
     "output_type": "execute_result"
    }
   ],
   "source": [
    "model = BERTopic(verbose=True, embedding_model=\"all-MiniLM-L6-v2\")\n",
    "#embeddingmodel embedding_model=\"all-MiniLM-L6-v2\" or embedding_mode=\"all-mpnet-base-v2\"\n",
    "docs = df.title.to_list()\n",
    "pub_dates = df.publicationdateyear.to_list()\n",
    "topics, probabilities = model.fit_transform(docs)\n",
    "topics_over_time = model.topics_over_time(docs, pub_dates)\n",
    "model.get_topic_info()"
   ]
  },
  {
   "cell_type": "code",
   "execution_count": 20,
   "metadata": {},
   "outputs": [],
   "source": [
    "def create_wordcloud(model, topic):\n",
    "     text = {word: value for word, value in model.get_topic(topic)}\n",
    "     wc = WordCloud(background_color=\"white\", max_words=1000)\n",
    "     wc.generate_from_frequencies(text)\n",
    "     plt.imshow(wc, interpolation=\"bilinear\")\n",
    "     plt.axis(\"off\")\n",
    "     plt.show()"
   ]
  },
  {
   "cell_type": "code",
   "execution_count": 21,
   "metadata": {},
   "outputs": [
    {
     "data": {
      "image/png": "[encoded data removed]",
      "text/plain": [
       "<Figure size 640x480 with 1 Axes>"
      ]
     },
     "metadata": {},
     "output_type": "display_data"
    }
   ],
   "source": [
    "create_wordcloud(model, topic=0)"
   ]
  },
  {
   "cell_type": "code",
   "execution_count": 22,
   "metadata": {},
   "outputs": [
    {
     "data": {
      "application/vnd.plotly.v1+json": {
       "config": {
        "plotlyServerURL": "https://plot.ly"
       },
       "data": [
        {
         "customdata": [
          [
           0,
           "technology | language | learning | teachers | assisted",
           87
          ],
          [
           1,
           "call | research | sla | the | of",
           65
          ],
          [
           2,
           "data | corpus | driven | collocation | dictionaries",
           61
          ],
          [
           3,
           "writing | feedback | automated | corrective | evaluation",
           55
          ],
          [
           4,
           "mobile | learning | assisted | language | smartphones",
           52
          ],
          [
           5,
           "collaborative | writing | wiki | mediated | wikis",
           50
          ],
          [
           6,
           "pronunciation | speech | training | recognition | automatic",
           44
          ],
          [
           7,
           "multimodal | videoconferencing | video | conferencing | interactions",
           43
          ],
          [
           8,
           "game | games | digital | playing | gaming",
           41
          ],
          [
           9,
           "online | language | learning | moocs | student",
           39
          ],
          [
           10,
           "telecollaboration | intercultural | telecollaborative | service | pre",
           39
          ],
          [
           11,
           "vocabulary | gloss | glosses | comprehension | effects",
           34
          ],
          [
           12,
           "comprehension | captions | listening | captioned | video",
           33
          ],
          [
           13,
           "virtual | 3d | reality | immersive | worlds",
           26
          ],
          [
           14,
           "flipped | classroom | flipping | classrooms | teaching",
           23
          ],
          [
           15,
           "oral | communication | mediated | computer | proficiency",
           22
          ],
          [
           16,
           "intercultural | exchange | competence | exchanges | communication",
           20
          ],
          [
           17,
           "social | media | networking | networks | language",
           20
          ],
          [
           18,
           "reading | strategies | comprehension | strategy | students",
           20
          ],
          [
           19,
           "virtual | exchange | presence | professional | in",
           19
          ],
          [
           20,
           "blended | learning | inquiry | college | for",
           19
          ],
          [
           21,
           "storytelling | digital | story | stories | her",
           18
          ],
          [
           22,
           "translation | machine | writing | levels | l2",
           17
          ],
          [
           23,
           "mall | meta | oer | processing | the",
           14
          ],
          [
           24,
           "chat | task | text | l2 | interaction",
           14
          ]
         ],
         "hovertemplate": "<b>Topic %{customdata[0]}</b><br>%{customdata[1]}<br>Size: %{customdata[2]}",
         "legendgroup": "",
         "marker": {
          "color": "#B0BEC5",
          "line": {
           "color": "DarkSlateGrey",
           "width": 2
          },
          "size": [
           87,
           65,
           61,
           55,
           52,
           50,
           44,
           43,
           41,
           39,
           39,
           34,
           33,
           26,
           23,
           22,
           20,
           20,
           20,
           19,
           19,
           18,
           17,
           14,
           14
          ],
          "sizemode": "area",
          "sizeref": 0.054375,
          "symbol": "circle"
         },
         "mode": "markers",
         "name": "",
         "orientation": "v",
         "showlegend": false,
         "type": "scatter",
         "x": [
          5.9570441246032715,
          18.244783401489258,
          -7.512240409851074,
          10.973771095275879,
          5.699504375457764,
          10.697163581848145,
          19.980016708374023,
          -8.491728782653809,
          14.049111366271973,
          5.7787699699401855,
          18.10787582397461,
          -7.854689598083496,
          -8.349115371704102,
          13.709297180175781,
          4.654641628265381,
          20.133907318115234,
          5.718621730804443,
          5.600579738616943,
          -7.688774108886719,
          5.476027488708496,
          4.964023590087891,
          14.174783706665039,
          11.124509811401367,
          5.719565391540527,
          10.515666961669922
         ],
         "xaxis": "x",
         "y": [
          6.304029941558838,
          0.589849054813385,
          10.010154724121094,
          0.3769136369228363,
          6.064081192016602,
          0.09834681451320648,
          29.006628036499023,
          10.214322090148926,
          -15.446495056152344,
          7.957908630371094,
          0.7269311547279358,
          10.102110862731934,
          10.141988754272461,
          -15.106558799743652,
          8.276290893554688,
          29.171052932739258,
          7.2759199142456055,
          7.402451038360596,
          9.681891441345215,
          7.866842269897461,
          8.16650390625,
          -15.572096824645996,
          0.52837735414505,
          5.6158061027526855,
          -0.08219999074935913
         ],
         "yaxis": "y"
        }
       ],
       "layout": {
        "annotations": [
         {
          "showarrow": false,
          "text": "D1",
          "x": -9.76548810005188,
          "y": 7.819399762153624,
          "yshift": 10
         },
         {
          "showarrow": false,
          "text": "D2",
          "x": 6.6942526578903205,
          "xshift": 10,
          "y": 33.546710872650145
         }
        ],
        "height": 650,
        "hoverlabel": {
         "bgcolor": "white",
         "font": {
          "family": "Rockwell",
          "size": 16
         }
        },
        "legend": {
         "itemsizing": "constant",
         "tracegroupgap": 0
        },
        "margin": {
         "t": 60
        },
        "shapes": [
         {
          "line": {
           "color": "#CFD8DC",
           "width": 2
          },
          "type": "line",
          "x0": 6.6942526578903205,
          "x1": 6.6942526578903205,
          "y0": -17.907911348342896,
          "y1": 33.546710872650145
         },
         {
          "line": {
           "color": "#9E9E9E",
           "width": 2
          },
          "type": "line",
          "x0": -9.76548810005188,
          "x1": 23.15399341583252,
          "y0": 7.819399762153624,
          "y1": 7.819399762153624
         }
        ],
        "sliders": [
         {
          "active": 0,
          "pad": {
           "t": 50
          },
          "steps": [
           {
            "args": [
             {
              "marker.color": [
               [
                "red",
                "#B0BEC5",
                "#B0BEC5",
                "#B0BEC5",
                "#B0BEC5",
                "#B0BEC5",
                "#B0BEC5",
                "#B0BEC5",
                "#B0BEC5",
                "#B0BEC5",
                "#B0BEC5",
                "#B0BEC5",
                "#B0BEC5",
                "#B0BEC5",
                "#B0BEC5",
                "#B0BEC5",
                "#B0BEC5",
                "#B0BEC5",
                "#B0BEC5",
                "#B0BEC5",
                "#B0BEC5",
                "#B0BEC5",
                "#B0BEC5",
                "#B0BEC5",
                "#B0BEC5"
               ]
              ]
             }
            ],
            "label": "Topic 0",
            "method": "update"
           },
           {
            "args": [
             {
              "marker.color": [
               [
                "#B0BEC5",
                "red",
                "#B0BEC5",
                "#B0BEC5",
                "#B0BEC5",
                "#B0BEC5",
                "#B0BEC5",
                "#B0BEC5",
                "#B0BEC5",
                "#B0BEC5",
                "#B0BEC5",
                "#B0BEC5",
                "#B0BEC5",
                "#B0BEC5",
                "#B0BEC5",
                "#B0BEC5",
                "#B0BEC5",
                "#B0BEC5",
                "#B0BEC5",
                "#B0BEC5",
                "#B0BEC5",
                "#B0BEC5",
                "#B0BEC5",
                "#B0BEC5",
                "#B0BEC5"
               ]
              ]
             }
            ],
            "label": "Topic 1",
            "method": "update"
           },
           {
            "args": [
             {
              "marker.color": [
               [
                "#B0BEC5",
                "#B0BEC5",
                "red",
                "#B0BEC5",
                "#B0BEC5",
                "#B0BEC5",
                "#B0BEC5",
                "#B0BEC5",
                "#B0BEC5",
                "#B0BEC5",
                "#B0BEC5",
                "#B0BEC5",
                "#B0BEC5",
                "#B0BEC5",
                "#B0BEC5",
                "#B0BEC5",
                "#B0BEC5",
                "#B0BEC5",
                "#B0BEC5",
                "#B0BEC5",
                "#B0BEC5",
                "#B0BEC5",
                "#B0BEC5",
                "#B0BEC5",
                "#B0BEC5"
               ]
              ]
             }
            ],
            "label": "Topic 2",
            "method": "update"
           },
           {
            "args": [
             {
              "marker.color": [
               [
                "#B0BEC5",
                "#B0BEC5",
                "#B0BEC5",
                "red",
                "#B0BEC5",
                "#B0BEC5",
                "#B0BEC5",
                "#B0BEC5",
                "#B0BEC5",
                "#B0BEC5",
                "#B0BEC5",
                "#B0BEC5",
                "#B0BEC5",
                "#B0BEC5",
                "#B0BEC5",
                "#B0BEC5",
                "#B0BEC5",
                "#B0BEC5",
                "#B0BEC5",
                "#B0BEC5",
                "#B0BEC5",
                "#B0BEC5",
                "#B0BEC5",
                "#B0BEC5",
                "#B0BEC5"
               ]
              ]
             }
            ],
            "label": "Topic 3",
            "method": "update"
           },
           {
            "args": [
             {
              "marker.color": [
               [
                "#B0BEC5",
                "#B0BEC5",
                "#B0BEC5",
                "#B0BEC5",
                "red",
                "#B0BEC5",
                "#B0BEC5",
                "#B0BEC5",
                "#B0BEC5",
                "#B0BEC5",
                "#B0BEC5",
                "#B0BEC5",
                "#B0BEC5",
                "#B0BEC5",
                "#B0BEC5",
                "#B0BEC5",
                "#B0BEC5",
                "#B0BEC5",
                "#B0BEC5",
                "#B0BEC5",
                "#B0BEC5",
                "#B0BEC5",
                "#B0BEC5",
                "#B0BEC5",
                "#B0BEC5"
               ]
              ]
             }
            ],
            "label": "Topic 4",
            "method": "update"
           },
           {
            "args": [
             {
              "marker.color": [
               [
                "#B0BEC5",
                "#B0BEC5",
                "#B0BEC5",
                "#B0BEC5",
                "#B0BEC5",
                "red",
                "#B0BEC5",
                "#B0BEC5",
                "#B0BEC5",
                "#B0BEC5",
                "#B0BEC5",
                "#B0BEC5",
                "#B0BEC5",
                "#B0BEC5",
                "#B0BEC5",
                "#B0BEC5",
                "#B0BEC5",
                "#B0BEC5",
                "#B0BEC5",
                "#B0BEC5",
                "#B0BEC5",
                "#B0BEC5",
                "#B0BEC5",
                "#B0BEC5",
                "#B0BEC5"
               ]
              ]
             }
            ],
            "label": "Topic 5",
            "method": "update"
           },
           {
            "args": [
             {
              "marker.color": [
               [
                "#B0BEC5",
                "#B0BEC5",
                "#B0BEC5",
                "#B0BEC5",
                "#B0BEC5",
                "#B0BEC5",
                "red",
                "#B0BEC5",
                "#B0BEC5",
                "#B0BEC5",
                "#B0BEC5",
                "#B0BEC5",
                "#B0BEC5",
                "#B0BEC5",
                "#B0BEC5",
                "#B0BEC5",
                "#B0BEC5",
                "#B0BEC5",
                "#B0BEC5",
                "#B0BEC5",
                "#B0BEC5",
                "#B0BEC5",
                "#B0BEC5",
                "#B0BEC5",
                "#B0BEC5"
               ]
              ]
             }
            ],
            "label": "Topic 6",
            "method": "update"
           },
           {
            "args": [
             {
              "marker.color": [
               [
                "#B0BEC5",
                "#B0BEC5",
                "#B0BEC5",
                "#B0BEC5",
                "#B0BEC5",
                "#B0BEC5",
                "#B0BEC5",
                "red",
                "#B0BEC5",
                "#B0BEC5",
                "#B0BEC5",
                "#B0BEC5",
                "#B0BEC5",
                "#B0BEC5",
                "#B0BEC5",
                "#B0BEC5",
                "#B0BEC5",
                "#B0BEC5",
                "#B0BEC5",
                "#B0BEC5",
                "#B0BEC5",
                "#B0BEC5",
                "#B0BEC5",
                "#B0BEC5",
                "#B0BEC5"
               ]
              ]
             }
            ],
            "label": "Topic 7",
            "method": "update"
           },
           {
            "args": [
             {
              "marker.color": [
               [
                "#B0BEC5",
                "#B0BEC5",
                "#B0BEC5",
                "#B0BEC5",
                "#B0BEC5",
                "#B0BEC5",
                "#B0BEC5",
                "#B0BEC5",
                "red",
                "#B0BEC5",
                "#B0BEC5",
                "#B0BEC5",
                "#B0BEC5",
                "#B0BEC5",
                "#B0BEC5",
                "#B0BEC5",
                "#B0BEC5",
                "#B0BEC5",
                "#B0BEC5",
                "#B0BEC5",
                "#B0BEC5",
                "#B0BEC5",
                "#B0BEC5",
                "#B0BEC5",
                "#B0BEC5"
               ]
              ]
             }
            ],
            "label": "Topic 8",
            "method": "update"
           },
           {
            "args": [
             {
              "marker.color": [
               [
                "#B0BEC5",
                "#B0BEC5",
                "#B0BEC5",
                "#B0BEC5",
                "#B0BEC5",
                "#B0BEC5",
                "#B0BEC5",
                "#B0BEC5",
                "#B0BEC5",
                "red",
                "#B0BEC5",
                "#B0BEC5",
                "#B0BEC5",
                "#B0BEC5",
                "#B0BEC5",
                "#B0BEC5",
                "#B0BEC5",
                "#B0BEC5",
                "#B0BEC5",
                "#B0BEC5",
                "#B0BEC5",
                "#B0BEC5",
                "#B0BEC5",
                "#B0BEC5",
                "#B0BEC5"
               ]
              ]
             }
            ],
            "label": "Topic 9",
            "method": "update"
           },
           {
            "args": [
             {
              "marker.color": [
               [
                "#B0BEC5",
                "#B0BEC5",
                "#B0BEC5",
                "#B0BEC5",
                "#B0BEC5",
                "#B0BEC5",
                "#B0BEC5",
                "#B0BEC5",
                "#B0BEC5",
                "#B0BEC5",
                "red",
                "#B0BEC5",
                "#B0BEC5",
                "#B0BEC5",
                "#B0BEC5",
                "#B0BEC5",
                "#B0BEC5",
                "#B0BEC5",
                "#B0BEC5",
                "#B0BEC5",
                "#B0BEC5",
                "#B0BEC5",
                "#B0BEC5",
                "#B0BEC5",
                "#B0BEC5"
               ]
              ]
             }
            ],
            "label": "Topic 10",
            "method": "update"
           },
           {
            "args": [
             {
              "marker.color": [
               [
                "#B0BEC5",
                "#B0BEC5",
                "#B0BEC5",
                "#B0BEC5",
                "#B0BEC5",
                "#B0BEC5",
                "#B0BEC5",
                "#B0BEC5",
                "#B0BEC5",
                "#B0BEC5",
                "#B0BEC5",
                "red",
                "#B0BEC5",
                "#B0BEC5",
                "#B0BEC5",
                "#B0BEC5",
                "#B0BEC5",
                "#B0BEC5",
                "#B0BEC5",
                "#B0BEC5",
                "#B0BEC5",
                "#B0BEC5",
                "#B0BEC5",
                "#B0BEC5",
                "#B0BEC5"
               ]
              ]
             }
            ],
            "label": "Topic 11",
            "method": "update"
           },
           {
            "args": [
             {
              "marker.color": [
               [
                "#B0BEC5",
                "#B0BEC5",
                "#B0BEC5",
                "#B0BEC5",
                "#B0BEC5",
                "#B0BEC5",
                "#B0BEC5",
                "#B0BEC5",
                "#B0BEC5",
                "#B0BEC5",
                "#B0BEC5",
                "#B0BEC5",
                "red",
                "#B0BEC5",
                "#B0BEC5",
                "#B0BEC5",
                "#B0BEC5",
                "#B0BEC5",
                "#B0BEC5",
                "#B0BEC5",
                "#B0BEC5",
                "#B0BEC5",
                "#B0BEC5",
                "#B0BEC5",
                "#B0BEC5"
               ]
              ]
             }
            ],
            "label": "Topic 12",
            "method": "update"
           },
           {
            "args": [
             {
              "marker.color": [
               [
                "#B0BEC5",
                "#B0BEC5",
                "#B0BEC5",
                "#B0BEC5",
                "#B0BEC5",
                "#B0BEC5",
                "#B0BEC5",
                "#B0BEC5",
                "#B0BEC5",
                "#B0BEC5",
                "#B0BEC5",
                "#B0BEC5",
                "#B0BEC5",
                "red",
                "#B0BEC5",
                "#B0BEC5",
                "#B0BEC5",
                "#B0BEC5",
                "#B0BEC5",
                "#B0BEC5",
                "#B0BEC5",
                "#B0BEC5",
                "#B0BEC5",
                "#B0BEC5",
                "#B0BEC5"
               ]
              ]
             }
            ],
            "label": "Topic 13",
            "method": "update"
           },
           {
            "args": [
             {
              "marker.color": [
               [
                "#B0BEC5",
                "#B0BEC5",
                "#B0BEC5",
                "#B0BEC5",
                "#B0BEC5",
                "#B0BEC5",
                "#B0BEC5",
                "#B0BEC5",
                "#B0BEC5",
                "#B0BEC5",
                "#B0BEC5",
                "#B0BEC5",
                "#B0BEC5",
                "#B0BEC5",
                "red",
                "#B0BEC5",
                "#B0BEC5",
                "#B0BEC5",
                "#B0BEC5",
                "#B0BEC5",
                "#B0BEC5",
                "#B0BEC5",
                "#B0BEC5",
                "#B0BEC5",
                "#B0BEC5"
               ]
              ]
             }
            ],
            "label": "Topic 14",
            "method": "update"
           },
           {
            "args": [
             {
              "marker.color": [
               [
                "#B0BEC5",
                "#B0BEC5",
                "#B0BEC5",
                "#B0BEC5",
                "#B0BEC5",
                "#B0BEC5",
                "#B0BEC5",
                "#B0BEC5",
                "#B0BEC5",
                "#B0BEC5",
                "#B0BEC5",
                "#B0BEC5",
                "#B0BEC5",
                "#B0BEC5",
                "#B0BEC5",
                "red",
                "#B0BEC5",
                "#B0BEC5",
                "#B0BEC5",
                "#B0BEC5",
                "#B0BEC5",
                "#B0BEC5",
                "#B0BEC5",
                "#B0BEC5",
                "#B0BEC5"
               ]
              ]
             }
            ],
            "label": "Topic 15",
            "method": "update"
           },
           {
            "args": [
             {
              "marker.color": [
               [
                "#B0BEC5",
                "#B0BEC5",
                "#B0BEC5",
                "#B0BEC5",
                "#B0BEC5",
                "#B0BEC5",
                "#B0BEC5",
                "#B0BEC5",
                "#B0BEC5",
                "#B0BEC5",
                "#B0BEC5",
                "#B0BEC5",
                "#B0BEC5",
                "#B0BEC5",
                "#B0BEC5",
                "#B0BEC5",
                "red",
                "#B0BEC5",
                "#B0BEC5",
                "#B0BEC5",
                "#B0BEC5",
                "#B0BEC5",
                "#B0BEC5",
                "#B0BEC5",
                "#B0BEC5"
               ]
              ]
             }
            ],
            "label": "Topic 16",
            "method": "update"
           },
           {
            "args": [
             {
              "marker.color": [
               [
                "#B0BEC5",
                "#B0BEC5",
                "#B0BEC5",
                "#B0BEC5",
                "#B0BEC5",
                "#B0BEC5",
                "#B0BEC5",
                "#B0BEC5",
                "#B0BEC5",
                "#B0BEC5",
                "#B0BEC5",
                "#B0BEC5",
                "#B0BEC5",
                "#B0BEC5",
                "#B0BEC5",
                "#B0BEC5",
                "#B0BEC5",
                "red",
                "#B0BEC5",
                "#B0BEC5",
                "#B0BEC5",
                "#B0BEC5",
                "#B0BEC5",
                "#B0BEC5",
                "#B0BEC5"
               ]
              ]
             }
            ],
            "label": "Topic 17",
            "method": "update"
           },
           {
            "args": [
             {
              "marker.color": [
               [
                "#B0BEC5",
                "#B0BEC5",
                "#B0BEC5",
                "#B0BEC5",
                "#B0BEC5",
                "#B0BEC5",
                "#B0BEC5",
                "#B0BEC5",
                "#B0BEC5",
                "#B0BEC5",
                "#B0BEC5",
                "#B0BEC5",
                "#B0BEC5",
                "#B0BEC5",
                "#B0BEC5",
                "#B0BEC5",
                "#B0BEC5",
                "#B0BEC5",
                "red",
                "#B0BEC5",
                "#B0BEC5",
                "#B0BEC5",
                "#B0BEC5",
                "#B0BEC5",
                "#B0BEC5"
               ]
              ]
             }
            ],
            "label": "Topic 18",
            "method": "update"
           },
           {
            "args": [
             {
              "marker.color": [
               [
                "#B0BEC5",
                "#B0BEC5",
                "#B0BEC5",
                "#B0BEC5",
                "#B0BEC5",
                "#B0BEC5",
                "#B0BEC5",
                "#B0BEC5",
                "#B0BEC5",
                "#B0BEC5",
                "#B0BEC5",
                "#B0BEC5",
                "#B0BEC5",
                "#B0BEC5",
                "#B0BEC5",
                "#B0BEC5",
                "#B0BEC5",
                "#B0BEC5",
                "#B0BEC5",
                "red",
                "#B0BEC5",
                "#B0BEC5",
                "#B0BEC5",
                "#B0BEC5",
                "#B0BEC5"
               ]
              ]
             }
            ],
            "label": "Topic 19",
            "method": "update"
           },
           {
            "args": [
             {
              "marker.color": [
               [
                "#B0BEC5",
                "#B0BEC5",
                "#B0BEC5",
                "#B0BEC5",
                "#B0BEC5",
                "#B0BEC5",
                "#B0BEC5",
                "#B0BEC5",
                "#B0BEC5",
                "#B0BEC5",
                "#B0BEC5",
                "#B0BEC5",
                "#B0BEC5",
                "#B0BEC5",
                "#B0BEC5",
                "#B0BEC5",
                "#B0BEC5",
                "#B0BEC5",
                "#B0BEC5",
                "#B0BEC5",
                "red",
                "#B0BEC5",
                "#B0BEC5",
                "#B0BEC5",
                "#B0BEC5"
               ]
              ]
             }
            ],
            "label": "Topic 20",
            "method": "update"
           },
           {
            "args": [
             {
              "marker.color": [
               [
                "#B0BEC5",
                "#B0BEC5",
                "#B0BEC5",
                "#B0BEC5",
                "#B0BEC5",
                "#B0BEC5",
                "#B0BEC5",
                "#B0BEC5",
                "#B0BEC5",
                "#B0BEC5",
                "#B0BEC5",
                "#B0BEC5",
                "#B0BEC5",
                "#B0BEC5",
                "#B0BEC5",
                "#B0BEC5",
                "#B0BEC5",
                "#B0BEC5",
                "#B0BEC5",
                "#B0BEC5",
                "#B0BEC5",
                "red",
                "#B0BEC5",
                "#B0BEC5",
                "#B0BEC5"
               ]
              ]
             }
            ],
            "label": "Topic 21",
            "method": "update"
           },
           {
            "args": [
             {
              "marker.color": [
               [
                "#B0BEC5",
                "#B0BEC5",
                "#B0BEC5",
                "#B0BEC5",
                "#B0BEC5",
                "#B0BEC5",
                "#B0BEC5",
                "#B0BEC5",
                "#B0BEC5",
                "#B0BEC5",
                "#B0BEC5",
                "#B0BEC5",
                "#B0BEC5",
                "#B0BEC5",
                "#B0BEC5",
                "#B0BEC5",
                "#B0BEC5",
                "#B0BEC5",
                "#B0BEC5",
                "#B0BEC5",
                "#B0BEC5",
                "#B0BEC5",
                "red",
                "#B0BEC5",
                "#B0BEC5"
               ]
              ]
             }
            ],
            "label": "Topic 22",
            "method": "update"
           },
           {
            "args": [
             {
              "marker.color": [
               [
                "#B0BEC5",
                "#B0BEC5",
                "#B0BEC5",
                "#B0BEC5",
                "#B0BEC5",
                "#B0BEC5",
                "#B0BEC5",
                "#B0BEC5",
                "#B0BEC5",
                "#B0BEC5",
                "#B0BEC5",
                "#B0BEC5",
                "#B0BEC5",
                "#B0BEC5",
                "#B0BEC5",
                "#B0BEC5",
                "#B0BEC5",
                "#B0BEC5",
                "#B0BEC5",
                "#B0BEC5",
                "#B0BEC5",
                "#B0BEC5",
                "#B0BEC5",
                "red",
                "#B0BEC5"
               ]
              ]
             }
            ],
            "label": "Topic 23",
            "method": "update"
           },
           {
            "args": [
             {
              "marker.color": [
               [
                "#B0BEC5",
                "#B0BEC5",
                "#B0BEC5",
                "#B0BEC5",
                "#B0BEC5",
                "#B0BEC5",
                "#B0BEC5",
                "#B0BEC5",
                "#B0BEC5",
                "#B0BEC5",
                "#B0BEC5",
                "#B0BEC5",
                "#B0BEC5",
                "#B0BEC5",
                "#B0BEC5",
                "#B0BEC5",
                "#B0BEC5",
                "#B0BEC5",
                "#B0BEC5",
                "#B0BEC5",
                "#B0BEC5",
                "#B0BEC5",
                "#B0BEC5",
                "#B0BEC5",
                "red"
               ]
              ]
             }
            ],
            "label": "Topic 24",
            "method": "update"
           }
          ]
         }
        ],
        "template": {
         "data": {
          "bar": [
           {
            "error_x": {
             "color": "rgb(36,36,36)"
            },
            "error_y": {
             "color": "rgb(36,36,36)"
            },
            "marker": {
             "line": {
              "color": "white",
              "width": 0.5
             },
             "pattern": {
              "fillmode": "overlay",
              "size": 10,
              "solidity": 0.2
             }
            },
            "type": "bar"
           }
          ],
          "barpolar": [
           {
            "marker": {
             "line": {
              "color": "white",
              "width": 0.5
             },
             "pattern": {
              "fillmode": "overlay",
              "size": 10,
              "solidity": 0.2
             }
            },
            "type": "barpolar"
           }
          ],
          "carpet": [
           {
            "aaxis": {
             "endlinecolor": "rgb(36,36,36)",
             "gridcolor": "white",
             "linecolor": "white",
             "minorgridcolor": "white",
             "startlinecolor": "rgb(36,36,36)"
            },
            "baxis": {
             "endlinecolor": "rgb(36,36,36)",
             "gridcolor": "white",
             "linecolor": "white",
             "minorgridcolor": "white",
             "startlinecolor": "rgb(36,36,36)"
            },
            "type": "carpet"
           }
          ],
          "choropleth": [
           {
            "colorbar": {
             "outlinewidth": 1,
             "tickcolor": "rgb(36,36,36)",
             "ticks": "outside"
            },
            "type": "choropleth"
           }
          ],
          "contour": [
           {
            "colorbar": {
             "outlinewidth": 1,
             "tickcolor": "rgb(36,36,36)",
             "ticks": "outside"
            },
            "colorscale": [
             [
              0,
              "#440154"
             ],
             [
              0.1111111111111111,
              "#482878"
             ],
             [
              0.2222222222222222,
              "#3e4989"
             ],
             [
              0.3333333333333333,
              "#31688e"
             ],
             [
              0.4444444444444444,
              "#26828e"
             ],
             [
              0.5555555555555556,
              "#1f9e89"
             ],
             [
              0.6666666666666666,
              "#35b779"
             ],
             [
              0.7777777777777778,
              "#6ece58"
             ],
             [
              0.8888888888888888,
              "#b5de2b"
             ],
             [
              1,
              "#fde725"
             ]
            ],
            "type": "contour"
           }
          ],
          "contourcarpet": [
           {
            "colorbar": {
             "outlinewidth": 1,
             "tickcolor": "rgb(36,36,36)",
             "ticks": "outside"
            },
            "type": "contourcarpet"
           }
          ],
          "heatmap": [
           {
            "colorbar": {
             "outlinewidth": 1,
             "tickcolor": "rgb(36,36,36)",
             "ticks": "outside"
            },
            "colorscale": [
             [
              0,
              "#440154"
             ],
             [
              0.1111111111111111,
              "#482878"
             ],
             [
              0.2222222222222222,
              "#3e4989"
             ],
             [
              0.3333333333333333,
              "#31688e"
             ],
             [
              0.4444444444444444,
              "#26828e"
             ],
             [
              0.5555555555555556,
              "#1f9e89"
             ],
             [
              0.6666666666666666,
              "#35b779"
             ],
             [
              0.7777777777777778,
              "#6ece58"
             ],
             [
              0.8888888888888888,
              "#b5de2b"
             ],
             [
              1,
              "#fde725"
             ]
            ],
            "type": "heatmap"
           }
          ],
          "heatmapgl": [
           {
            "colorbar": {
             "outlinewidth": 1,
             "tickcolor": "rgb(36,36,36)",
             "ticks": "outside"
            },
            "colorscale": [
             [
              0,
              "#440154"
             ],
             [
              0.1111111111111111,
              "#482878"
             ],
             [
              0.2222222222222222,
              "#3e4989"
             ],
             [
              0.3333333333333333,
              "#31688e"
             ],
             [
              0.4444444444444444,
              "#26828e"
             ],
             [
              0.5555555555555556,
              "#1f9e89"
             ],
             [
              0.6666666666666666,
              "#35b779"
             ],
             [
              0.7777777777777778,
              "#6ece58"
             ],
             [
              0.8888888888888888,
              "#b5de2b"
             ],
             [
              1,
              "#fde725"
             ]
            ],
            "type": "heatmapgl"
           }
          ],
          "histogram": [
           {
            "marker": {
             "line": {
              "color": "white",
              "width": 0.6
             }
            },
            "type": "histogram"
           }
          ],
          "histogram2d": [
           {
            "colorbar": {
             "outlinewidth": 1,
             "tickcolor": "rgb(36,36,36)",
             "ticks": "outside"
            },
            "colorscale": [
             [
              0,
              "#440154"
             ],
             [
              0.1111111111111111,
              "#482878"
             ],
             [
              0.2222222222222222,
              "#3e4989"
             ],
             [
              0.3333333333333333,
              "#31688e"
             ],
             [
              0.4444444444444444,
              "#26828e"
             ],
             [
              0.5555555555555556,
              "#1f9e89"
             ],
             [
              0.6666666666666666,
              "#35b779"
             ],
             [
              0.7777777777777778,
              "#6ece58"
             ],
             [
              0.8888888888888888,
              "#b5de2b"
             ],
             [
              1,
              "#fde725"
             ]
            ],
            "type": "histogram2d"
           }
          ],
          "histogram2dcontour": [
           {
            "colorbar": {
             "outlinewidth": 1,
             "tickcolor": "rgb(36,36,36)",
             "ticks": "outside"
            },
            "colorscale": [
             [
              0,
              "#440154"
             ],
             [
              0.1111111111111111,
              "#482878"
             ],
             [
              0.2222222222222222,
              "#3e4989"
             ],
             [
              0.3333333333333333,
              "#31688e"
             ],
             [
              0.4444444444444444,
              "#26828e"
             ],
             [
              0.5555555555555556,
              "#1f9e89"
             ],
             [
              0.6666666666666666,
              "#35b779"
             ],
             [
              0.7777777777777778,
              "#6ece58"
             ],
             [
              0.8888888888888888,
              "#b5de2b"
             ],
             [
              1,
              "#fde725"
             ]
            ],
            "type": "histogram2dcontour"
           }
          ],
          "mesh3d": [
           {
            "colorbar": {
             "outlinewidth": 1,
             "tickcolor": "rgb(36,36,36)",
             "ticks": "outside"
            },
            "type": "mesh3d"
           }
          ],
          "parcoords": [
           {
            "line": {
             "colorbar": {
              "outlinewidth": 1,
              "tickcolor": "rgb(36,36,36)",
              "ticks": "outside"
             }
            },
            "type": "parcoords"
           }
          ],
          "pie": [
           {
            "automargin": true,
            "type": "pie"
           }
          ],
          "scatter": [
           {
            "fillpattern": {
             "fillmode": "overlay",
             "size": 10,
             "solidity": 0.2
            },
            "type": "scatter"
           }
          ],
          "scatter3d": [
           {
            "line": {
             "colorbar": {
              "outlinewidth": 1,
              "tickcolor": "rgb(36,36,36)",
              "ticks": "outside"
             }
            },
            "marker": {
             "colorbar": {
              "outlinewidth": 1,
              "tickcolor": "rgb(36,36,36)",
              "ticks": "outside"
             }
            },
            "type": "scatter3d"
           }
          ],
          "scattercarpet": [
           {
            "marker": {
             "colorbar": {
              "outlinewidth": 1,
              "tickcolor": "rgb(36,36,36)",
              "ticks": "outside"
             }
            },
            "type": "scattercarpet"
           }
          ],
          "scattergeo": [
           {
            "marker": {
             "colorbar": {
              "outlinewidth": 1,
              "tickcolor": "rgb(36,36,36)",
              "ticks": "outside"
             }
            },
            "type": "scattergeo"
           }
          ],
          "scattergl": [
           {
            "marker": {
             "colorbar": {
              "outlinewidth": 1,
              "tickcolor": "rgb(36,36,36)",
              "ticks": "outside"
             }
            },
            "type": "scattergl"
           }
          ],
          "scattermapbox": [
           {
            "marker": {
             "colorbar": {
              "outlinewidth": 1,
              "tickcolor": "rgb(36,36,36)",
              "ticks": "outside"
             }
            },
            "type": "scattermapbox"
           }
          ],
          "scatterpolar": [
           {
            "marker": {
             "colorbar": {
              "outlinewidth": 1,
              "tickcolor": "rgb(36,36,36)",
              "ticks": "outside"
             }
            },
            "type": "scatterpolar"
           }
          ],
          "scatterpolargl": [
           {
            "marker": {
             "colorbar": {
              "outlinewidth": 1,
              "tickcolor": "rgb(36,36,36)",
              "ticks": "outside"
             }
            },
            "type": "scatterpolargl"
           }
          ],
          "scatterternary": [
           {
            "marker": {
             "colorbar": {
              "outlinewidth": 1,
              "tickcolor": "rgb(36,36,36)",
              "ticks": "outside"
             }
            },
            "type": "scatterternary"
           }
          ],
          "surface": [
           {
            "colorbar": {
             "outlinewidth": 1,
             "tickcolor": "rgb(36,36,36)",
             "ticks": "outside"
            },
            "colorscale": [
             [
              0,
              "#440154"
             ],
             [
              0.1111111111111111,
              "#482878"
             ],
             [
              0.2222222222222222,
              "#3e4989"
             ],
             [
              0.3333333333333333,
              "#31688e"
             ],
             [
              0.4444444444444444,
              "#26828e"
             ],
             [
              0.5555555555555556,
              "#1f9e89"
             ],
             [
              0.6666666666666666,
              "#35b779"
             ],
             [
              0.7777777777777778,
              "#6ece58"
             ],
             [
              0.8888888888888888,
              "#b5de2b"
             ],
             [
              1,
              "#fde725"
             ]
            ],
            "type": "surface"
           }
          ],
          "table": [
           {
            "cells": {
             "fill": {
              "color": "rgb(237,237,237)"
             },
             "line": {
              "color": "white"
             }
            },
            "header": {
             "fill": {
              "color": "rgb(217,217,217)"
             },
             "line": {
              "color": "white"
             }
            },
            "type": "table"
           }
          ]
         },
         "layout": {
          "annotationdefaults": {
           "arrowhead": 0,
           "arrowwidth": 1
          },
          "autotypenumbers": "strict",
          "coloraxis": {
           "colorbar": {
            "outlinewidth": 1,
            "tickcolor": "rgb(36,36,36)",
            "ticks": "outside"
           }
          },
          "colorscale": {
           "diverging": [
            [
             0,
             "rgb(103,0,31)"
            ],
            [
             0.1,
             "rgb(178,24,43)"
            ],
            [
             0.2,
             "rgb(214,96,77)"
            ],
            [
             0.3,
             "rgb(244,165,130)"
            ],
            [
             0.4,
             "rgb(253,219,199)"
            ],
            [
             0.5,
             "rgb(247,247,247)"
            ],
            [
             0.6,
             "rgb(209,229,240)"
            ],
            [
             0.7,
             "rgb(146,197,222)"
            ],
            [
             0.8,
             "rgb(67,147,195)"
            ],
            [
             0.9,
             "rgb(33,102,172)"
            ],
            [
             1,
             "rgb(5,48,97)"
            ]
           ],
           "sequential": [
            [
             0,
             "#440154"
            ],
            [
             0.1111111111111111,
             "#482878"
            ],
            [
             0.2222222222222222,
             "#3e4989"
            ],
            [
             0.3333333333333333,
             "#31688e"
            ],
            [
             0.4444444444444444,
             "#26828e"
            ],
            [
             0.5555555555555556,
             "#1f9e89"
            ],
            [
             0.6666666666666666,
             "#35b779"
            ],
            [
             0.7777777777777778,
             "#6ece58"
            ],
            [
             0.8888888888888888,
             "#b5de2b"
            ],
            [
             1,
             "#fde725"
            ]
           ],
           "sequentialminus": [
            [
             0,
             "#440154"
            ],
            [
             0.1111111111111111,
             "#482878"
            ],
            [
             0.2222222222222222,
             "#3e4989"
            ],
            [
             0.3333333333333333,
             "#31688e"
            ],
            [
             0.4444444444444444,
             "#26828e"
            ],
            [
             0.5555555555555556,
             "#1f9e89"
            ],
            [
             0.6666666666666666,
             "#35b779"
            ],
            [
             0.7777777777777778,
             "#6ece58"
            ],
            [
             0.8888888888888888,
             "#b5de2b"
            ],
            [
             1,
             "#fde725"
            ]
           ]
          },
          "colorway": [
           "#1F77B4",
           "#FF7F0E",
           "#2CA02C",
           "#D62728",
           "#9467BD",
           "#8C564B",
           "#E377C2",
           "#7F7F7F",
           "#BCBD22",
           "#17BECF"
          ],
          "font": {
           "color": "rgb(36,36,36)"
          },
          "geo": {
           "bgcolor": "white",
           "lakecolor": "white",
           "landcolor": "white",
           "showlakes": true,
           "showland": true,
           "subunitcolor": "white"
          },
          "hoverlabel": {
           "align": "left"
          },
          "hovermode": "closest",
          "mapbox": {
           "style": "light"
          },
          "paper_bgcolor": "white",
          "plot_bgcolor": "white",
          "polar": {
           "angularaxis": {
            "gridcolor": "rgb(232,232,232)",
            "linecolor": "rgb(36,36,36)",
            "showgrid": false,
            "showline": true,
            "ticks": "outside"
           },
           "bgcolor": "white",
           "radialaxis": {
            "gridcolor": "rgb(232,232,232)",
            "linecolor": "rgb(36,36,36)",
            "showgrid": false,
            "showline": true,
            "ticks": "outside"
           }
          },
          "scene": {
           "xaxis": {
            "backgroundcolor": "white",
            "gridcolor": "rgb(232,232,232)",
            "gridwidth": 2,
            "linecolor": "rgb(36,36,36)",
            "showbackground": true,
            "showgrid": false,
            "showline": true,
            "ticks": "outside",
            "zeroline": false,
            "zerolinecolor": "rgb(36,36,36)"
           },
           "yaxis": {
            "backgroundcolor": "white",
            "gridcolor": "rgb(232,232,232)",
            "gridwidth": 2,
            "linecolor": "rgb(36,36,36)",
            "showbackground": true,
            "showgrid": false,
            "showline": true,
            "ticks": "outside",
            "zeroline": false,
            "zerolinecolor": "rgb(36,36,36)"
           },
           "zaxis": {
            "backgroundcolor": "white",
            "gridcolor": "rgb(232,232,232)",
            "gridwidth": 2,
            "linecolor": "rgb(36,36,36)",
            "showbackground": true,
            "showgrid": false,
            "showline": true,
            "ticks": "outside",
            "zeroline": false,
            "zerolinecolor": "rgb(36,36,36)"
           }
          },
          "shapedefaults": {
           "fillcolor": "black",
           "line": {
            "width": 0
           },
           "opacity": 0.3
          },
          "ternary": {
           "aaxis": {
            "gridcolor": "rgb(232,232,232)",
            "linecolor": "rgb(36,36,36)",
            "showgrid": false,
            "showline": true,
            "ticks": "outside"
           },
           "baxis": {
            "gridcolor": "rgb(232,232,232)",
            "linecolor": "rgb(36,36,36)",
            "showgrid": false,
            "showline": true,
            "ticks": "outside"
           },
           "bgcolor": "white",
           "caxis": {
            "gridcolor": "rgb(232,232,232)",
            "linecolor": "rgb(36,36,36)",
            "showgrid": false,
            "showline": true,
            "ticks": "outside"
           }
          },
          "title": {
           "x": 0.05
          },
          "xaxis": {
           "automargin": true,
           "gridcolor": "rgb(232,232,232)",
           "linecolor": "rgb(36,36,36)",
           "showgrid": false,
           "showline": true,
           "ticks": "outside",
           "title": {
            "standoff": 15
           },
           "zeroline": false,
           "zerolinecolor": "rgb(36,36,36)"
          },
          "yaxis": {
           "automargin": true,
           "gridcolor": "rgb(232,232,232)",
           "linecolor": "rgb(36,36,36)",
           "showgrid": false,
           "showline": true,
           "ticks": "outside",
           "title": {
            "standoff": 15
           },
           "zeroline": false,
           "zerolinecolor": "rgb(36,36,36)"
          }
         }
        },
        "title": {
         "font": {
          "color": "Black",
          "size": 22
         },
         "text": "<b>Intertopic Distance Map</b>",
         "x": 0.5,
         "xanchor": "center",
         "y": 0.95,
         "yanchor": "top"
        },
        "width": 650,
        "xaxis": {
         "anchor": "y",
         "domain": [
          0,
          1
         ],
         "range": [
          -9.76548810005188,
          23.15399341583252
         ],
         "title": {
          "text": ""
         },
         "visible": false
        },
        "yaxis": {
         "anchor": "x",
         "domain": [
          0,
          1
         ],
         "range": [
          -17.907911348342896,
          33.546710872650145
         ],
         "title": {
          "text": ""
         },
         "visible": false
        }
       }
      }
     },
     "metadata": {},
     "output_type": "display_data"
    }
   ],
   "source": [
    "model.visualize_topics()"
   ]
  },
  {
   "cell_type": "code",
   "execution_count": 31,
   "metadata": {},
   "outputs": [
    {
     "data": {
      "application/vnd.plotly.v1+json": {
       "config": {
        "plotlyServerURL": "https://plot.ly"
       },
       "data": [
        {
         "marker": {
          "color": "#D55E00"
         },
         "orientation": "h",
         "type": "bar",
         "x": [
          0.030942480455904833,
          0.03236307971068185,
          0.0361318751136141,
          0.05787706780154297,
          0.0792010031681025
         ],
         "xaxis": "x",
         "y": [
          "assisted  ",
          "teachers  ",
          "learning  ",
          "language  ",
          "technology  "
         ],
         "yaxis": "y"
        },
        {
         "marker": {
          "color": "#0072B2"
         },
         "orientation": "h",
         "type": "bar",
         "x": [
          0.0345733782648936,
          0.039862483928217035,
          0.051327933982900004,
          0.056608599011572364,
          0.16592270186769345
         ],
         "xaxis": "x2",
         "y": [
          "of  ",
          "the  ",
          "sla  ",
          "research  ",
          "call  "
         ],
         "yaxis": "y2"
        },
        {
         "marker": {
          "color": "#CC79A7"
         },
         "orientation": "h",
         "type": "bar",
         "x": [
          0.03997582091140345,
          0.04232836110302072,
          0.06708080459872814,
          0.07244832583832798,
          0.07349557702575774
         ],
         "xaxis": "x3",
         "y": [
          "dictionaries  ",
          "collocation  ",
          "driven  ",
          "corpus  ",
          "data  "
         ],
         "yaxis": "y3"
        },
        {
         "marker": {
          "color": "#E69F00"
         },
         "orientation": "h",
         "type": "bar",
         "x": [
          0.0471898254598068,
          0.051479809592516516,
          0.07528336031371846,
          0.09858614119565108,
          0.09938063032440707
         ],
         "xaxis": "x4",
         "y": [
          "evaluation  ",
          "corrective  ",
          "automated  ",
          "feedback  ",
          "writing  "
         ],
         "yaxis": "y4"
        },
        {
         "marker": {
          "color": "#56B4E9"
         },
         "orientation": "h",
         "type": "bar",
         "x": [
          0.03287122875243063,
          0.041645106108141566,
          0.047227687168784664,
          0.06524239700298956,
          0.1416982467486282
         ],
         "xaxis": "x5",
         "y": [
          "smartphones  ",
          "language  ",
          "assisted  ",
          "learning  ",
          "mobile  "
         ],
         "yaxis": "y5"
        },
        {
         "marker": {
          "color": "#009E73"
         },
         "orientation": "h",
         "type": "bar",
         "x": [
          0.04507695597984025,
          0.04556119043308178,
          0.056736300616512636,
          0.09607367890264543,
          0.10066022410104403
         ],
         "xaxis": "x6",
         "y": [
          "wikis  ",
          "mediated  ",
          "wiki  ",
          "writing  ",
          "collaborative  "
         ],
         "yaxis": "y6"
        },
        {
         "marker": {
          "color": "#F0E442"
         },
         "orientation": "h",
         "type": "bar",
         "x": [
          0.037901022395446744,
          0.051755606203620824,
          0.05312882842945496,
          0.06995914333664889,
          0.13647158806787946
         ],
         "xaxis": "x7",
         "y": [
          "automatic  ",
          "recognition  ",
          "training  ",
          "speech  ",
          "pronunciation  "
         ],
         "yaxis": "y7"
        },
        {
         "marker": {
          "color": "#D55E00"
         },
         "orientation": "h",
         "type": "bar",
         "x": [
          0.03894881517374457,
          0.05061571238568074,
          0.06835505462509037,
          0.0728433946781602,
          0.09621939759784096
         ],
         "xaxis": "x8",
         "y": [
          "interactions  ",
          "conferencing  ",
          "video  ",
          "videoconferencing  ",
          "multimodal  "
         ],
         "yaxis": "y8"
        },
        {
         "marker": {
          "color": "#0072B2"
         },
         "orientation": "h",
         "type": "bar",
         "x": [
          0.05062289415182369,
          0.05393447135761563,
          0.0660704196076242,
          0.0676377783867638,
          0.12543424186651556
         ],
         "xaxis": "x9",
         "y": [
          "gaming  ",
          "playing  ",
          "digital  ",
          "games  ",
          "game  "
         ],
         "yaxis": "y9"
        },
        {
         "marker": {
          "color": "#CC79A7"
         },
         "orientation": "h",
         "type": "bar",
         "x": [
          0.03787387063064712,
          0.039819681244562886,
          0.04115019110161605,
          0.047459195597265226,
          0.08500820788869871
         ],
         "xaxis": "x10",
         "y": [
          "student  ",
          "moocs  ",
          "learning  ",
          "language  ",
          "online  "
         ],
         "yaxis": "y10"
        },
        {
         "marker": {
          "color": "#E69F00"
         },
         "orientation": "h",
         "type": "bar",
         "x": [
          0.05359486605412548,
          0.05954828385424274,
          0.06483990292882581,
          0.06622678369353993,
          0.1845693686151887
         ],
         "xaxis": "x11",
         "y": [
          "pre  ",
          "service  ",
          "telecollaborative  ",
          "intercultural  ",
          "telecollaboration  "
         ],
         "yaxis": "y11"
        },
        {
         "marker": {
          "color": "#56B4E9"
         },
         "orientation": "h",
         "type": "bar",
         "x": [
          0.04286579090536756,
          0.04551070890832767,
          0.04958465157782428,
          0.05328656161774157,
          0.1351490943213286
         ],
         "xaxis": "x12",
         "y": [
          "effects  ",
          "comprehension  ",
          "glosses  ",
          "gloss  ",
          "vocabulary  "
         ],
         "yaxis": "y12"
        },
        {
         "marker": {
          "color": "#009E73"
         },
         "orientation": "h",
         "type": "bar",
         "x": [
          0.06292312743040511,
          0.06424761740382263,
          0.08741902595415918,
          0.08800775687555244,
          0.10182210312602312
         ],
         "xaxis": "x13",
         "y": [
          "video  ",
          "captioned  ",
          "listening  ",
          "captions  ",
          "comprehension  "
         ],
         "yaxis": "y13"
        },
        {
         "marker": {
          "color": "#F0E442"
         },
         "orientation": "h",
         "type": "bar",
         "x": [
          0.05920094202731474,
          0.07459457859068457,
          0.1044472981520655,
          0.10913824418159233,
          0.1286257789877467
         ],
         "xaxis": "x14",
         "y": [
          "worlds  ",
          "immersive  ",
          "reality  ",
          "3d  ",
          "virtual  "
         ],
         "yaxis": "y14"
        },
        {
         "marker": {
          "color": "#D55E00"
         },
         "orientation": "h",
         "type": "bar",
         "x": [
          0.032949282621362846,
          0.053252642232843435,
          0.05602082649358178,
          0.12294974038204556,
          0.22658226845067272
         ],
         "xaxis": "x15",
         "y": [
          "teaching  ",
          "classrooms  ",
          "flipping  ",
          "classroom  ",
          "flipped  "
         ],
         "yaxis": "y15"
        },
        {
         "marker": {
          "color": "#0072B2"
         },
         "orientation": "h",
         "type": "bar",
         "x": [
          0.0676035307962767,
          0.08772545753937888,
          0.09953942298274171,
          0.10141441193421008,
          0.1937024826673899
         ],
         "xaxis": "x16",
         "y": [
          "proficiency  ",
          "computer  ",
          "mediated  ",
          "communication  ",
          "oral  "
         ],
         "yaxis": "y16"
        },
        {
         "marker": {
          "color": "#CC79A7"
         },
         "orientation": "h",
         "type": "bar",
         "x": [
          0.04229934446486711,
          0.04862992719661936,
          0.0660382154708682,
          0.08160269306680445,
          0.16225562004917285
         ],
         "xaxis": "x17",
         "y": [
          "communication  ",
          "exchanges  ",
          "competence  ",
          "exchange  ",
          "intercultural  "
         ],
         "yaxis": "y17"
        },
        {
         "marker": {
          "color": "#E69F00"
         },
         "orientation": "h",
         "type": "bar",
         "x": [
          0.058283222663308175,
          0.06978032773761941,
          0.07829155512288043,
          0.1014056731177546,
          0.23302856735399072
         ],
         "xaxis": "x18",
         "y": [
          "language  ",
          "networks  ",
          "networking  ",
          "media  ",
          "social  "
         ],
         "yaxis": "y18"
        },
        {
         "marker": {
          "color": "#56B4E9"
         },
         "orientation": "h",
         "type": "bar",
         "x": [
          0.05060340146027356,
          0.05277786118748547,
          0.05458373936233329,
          0.05542644875678072,
          0.19024877892364087
         ],
         "xaxis": "x19",
         "y": [
          "students  ",
          "strategy  ",
          "comprehension  ",
          "strategies  ",
          "reading  "
         ],
         "yaxis": "y19"
        },
        {
         "marker": {
          "color": "#009E73"
         },
         "orientation": "h",
         "type": "bar",
         "x": [
          0.05856384446515315,
          0.06503654984767383,
          0.06938183737001369,
          0.07460161813420942,
          0.1082257112852969
         ],
         "xaxis": "x20",
         "y": [
          "in  ",
          "professional  ",
          "presence  ",
          "exchange  ",
          "virtual  "
         ],
         "yaxis": "y20"
        },
        {
         "marker": {
          "color": "#F0E442"
         },
         "orientation": "h",
         "type": "bar",
         "x": [
          0.04228963898502813,
          0.04482047238875459,
          0.05333747910980257,
          0.06864774870690155,
          0.2740455031980686
         ],
         "xaxis": "x21",
         "y": [
          "for  ",
          "college  ",
          "inquiry  ",
          "learning  ",
          "blended  "
         ],
         "yaxis": "y21"
        },
        {
         "marker": {
          "color": "#D55E00"
         },
         "orientation": "h",
         "type": "bar",
         "x": [
          0.047958909787805676,
          0.08432403087083906,
          0.09375249247907952,
          0.11388819178162955,
          0.16520275767749268
         ],
         "xaxis": "x22",
         "y": [
          "her  ",
          "stories  ",
          "story  ",
          "digital  ",
          "storytelling  "
         ],
         "yaxis": "y22"
        },
        {
         "marker": {
          "color": "#0072B2"
         },
         "orientation": "h",
         "type": "bar",
         "x": [
          0.05442913372267451,
          0.05696959968515981,
          0.05929851908122707,
          0.13994464218462338,
          0.16552035614968846
         ],
         "xaxis": "x23",
         "y": [
          "l2  ",
          "levels  ",
          "writing  ",
          "machine  ",
          "translation  "
         ],
         "yaxis": "y23"
        },
        {
         "marker": {
          "color": "#CC79A7"
         },
         "orientation": "h",
         "type": "bar",
         "x": [
          0.05490843545750678,
          0.05512402925973266,
          0.06095752767883995,
          0.060967529302784935,
          0.2824838435684741
         ],
         "xaxis": "x24",
         "y": [
          "the  ",
          "processing  ",
          "oer  ",
          "meta  ",
          "mall  "
         ],
         "yaxis": "y24"
        },
        {
         "marker": {
          "color": "#E69F00"
         },
         "orientation": "h",
         "type": "bar",
         "x": [
          0.08334233608366011,
          0.12378238475640492,
          0.12460164483360776,
          0.13340477435318626,
          0.21953831217281908
         ],
         "xaxis": "x25",
         "y": [
          "interaction  ",
          "l2  ",
          "text  ",
          "task  ",
          "chat  "
         ],
         "yaxis": "y25"
        }
       ],
       "layout": {
        "annotations": [
         {
          "font": {
           "size": 16
          },
          "showarrow": false,
          "text": "Topic 0",
          "x": 0.0875,
          "xanchor": "center",
          "xref": "paper",
          "y": 1,
          "yanchor": "bottom",
          "yref": "paper"
         },
         {
          "font": {
           "size": 16
          },
          "showarrow": false,
          "text": "Topic 1",
          "x": 0.36250000000000004,
          "xanchor": "center",
          "xref": "paper",
          "y": 1,
          "yanchor": "bottom",
          "yref": "paper"
         },
         {
          "font": {
           "size": 16
          },
          "showarrow": false,
          "text": "Topic 2",
          "x": 0.6375000000000001,
          "xanchor": "center",
          "xref": "paper",
          "y": 1,
          "yanchor": "bottom",
          "yref": "paper"
         },
         {
          "font": {
           "size": 16
          },
          "showarrow": false,
          "text": "Topic 3",
          "x": 0.9125,
          "xanchor": "center",
          "xref": "paper",
          "y": 1,
          "yanchor": "bottom",
          "yref": "paper"
         },
         {
          "font": {
           "size": 16
          },
          "showarrow": false,
          "text": "Topic 4",
          "x": 0.0875,
          "xanchor": "center",
          "xref": "paper",
          "y": 0.8489795918367348,
          "yanchor": "bottom",
          "yref": "paper"
         },
         {
          "font": {
           "size": 16
          },
          "showarrow": false,
          "text": "Topic 5",
          "x": 0.36250000000000004,
          "xanchor": "center",
          "xref": "paper",
          "y": 0.8489795918367348,
          "yanchor": "bottom",
          "yref": "paper"
         },
         {
          "font": {
           "size": 16
          },
          "showarrow": false,
          "text": "Topic 6",
          "x": 0.6375000000000001,
          "xanchor": "center",
          "xref": "paper",
          "y": 0.8489795918367348,
          "yanchor": "bottom",
          "yref": "paper"
         },
         {
          "font": {
           "size": 16
          },
          "showarrow": false,
          "text": "Topic 7",
          "x": 0.9125,
          "xanchor": "center",
          "xref": "paper",
          "y": 0.8489795918367348,
          "yanchor": "bottom",
          "yref": "paper"
         },
         {
          "font": {
           "size": 16
          },
          "showarrow": false,
          "text": "Topic 8",
          "x": 0.0875,
          "xanchor": "center",
          "xref": "paper",
          "y": 0.6979591836734694,
          "yanchor": "bottom",
          "yref": "paper"
         },
         {
          "font": {
           "size": 16
          },
          "showarrow": false,
          "text": "Topic 9",
          "x": 0.36250000000000004,
          "xanchor": "center",
          "xref": "paper",
          "y": 0.6979591836734694,
          "yanchor": "bottom",
          "yref": "paper"
         },
         {
          "font": {
           "size": 16
          },
          "showarrow": false,
          "text": "Topic 10",
          "x": 0.6375000000000001,
          "xanchor": "center",
          "xref": "paper",
          "y": 0.6979591836734694,
          "yanchor": "bottom",
          "yref": "paper"
         },
         {
          "font": {
           "size": 16
          },
          "showarrow": false,
          "text": "Topic 11",
          "x": 0.9125,
          "xanchor": "center",
          "xref": "paper",
          "y": 0.6979591836734694,
          "yanchor": "bottom",
          "yref": "paper"
         },
         {
          "font": {
           "size": 16
          },
          "showarrow": false,
          "text": "Topic 12",
          "x": 0.0875,
          "xanchor": "center",
          "xref": "paper",
          "y": 0.5469387755102041,
          "yanchor": "bottom",
          "yref": "paper"
         },
         {
          "font": {
           "size": 16
          },
          "showarrow": false,
          "text": "Topic 13",
          "x": 0.36250000000000004,
          "xanchor": "center",
          "xref": "paper",
          "y": 0.5469387755102041,
          "yanchor": "bottom",
          "yref": "paper"
         },
         {
          "font": {
           "size": 16
          },
          "showarrow": false,
          "text": "Topic 14",
          "x": 0.6375000000000001,
          "xanchor": "center",
          "xref": "paper",
          "y": 0.5469387755102041,
          "yanchor": "bottom",
          "yref": "paper"
         },
         {
          "font": {
           "size": 16
          },
          "showarrow": false,
          "text": "Topic 15",
          "x": 0.9125,
          "xanchor": "center",
          "xref": "paper",
          "y": 0.5469387755102041,
          "yanchor": "bottom",
          "yref": "paper"
         },
         {
          "font": {
           "size": 16
          },
          "showarrow": false,
          "text": "Topic 16",
          "x": 0.0875,
          "xanchor": "center",
          "xref": "paper",
          "y": 0.3959183673469388,
          "yanchor": "bottom",
          "yref": "paper"
         },
         {
          "font": {
           "size": 16
          },
          "showarrow": false,
          "text": "Topic 17",
          "x": 0.36250000000000004,
          "xanchor": "center",
          "xref": "paper",
          "y": 0.3959183673469388,
          "yanchor": "bottom",
          "yref": "paper"
         },
         {
          "font": {
           "size": 16
          },
          "showarrow": false,
          "text": "Topic 18",
          "x": 0.6375000000000001,
          "xanchor": "center",
          "xref": "paper",
          "y": 0.3959183673469388,
          "yanchor": "bottom",
          "yref": "paper"
         },
         {
          "font": {
           "size": 16
          },
          "showarrow": false,
          "text": "Topic 19",
          "x": 0.9125,
          "xanchor": "center",
          "xref": "paper",
          "y": 0.3959183673469388,
          "yanchor": "bottom",
          "yref": "paper"
         },
         {
          "font": {
           "size": 16
          },
          "showarrow": false,
          "text": "Topic 20",
          "x": 0.0875,
          "xanchor": "center",
          "xref": "paper",
          "y": 0.24489795918367346,
          "yanchor": "bottom",
          "yref": "paper"
         },
         {
          "font": {
           "size": 16
          },
          "showarrow": false,
          "text": "Topic 21",
          "x": 0.36250000000000004,
          "xanchor": "center",
          "xref": "paper",
          "y": 0.24489795918367346,
          "yanchor": "bottom",
          "yref": "paper"
         },
         {
          "font": {
           "size": 16
          },
          "showarrow": false,
          "text": "Topic 22",
          "x": 0.6375000000000001,
          "xanchor": "center",
          "xref": "paper",
          "y": 0.24489795918367346,
          "yanchor": "bottom",
          "yref": "paper"
         },
         {
          "font": {
           "size": 16
          },
          "showarrow": false,
          "text": "Topic 23",
          "x": 0.9125,
          "xanchor": "center",
          "xref": "paper",
          "y": 0.24489795918367346,
          "yanchor": "bottom",
          "yref": "paper"
         },
         {
          "font": {
           "size": 16
          },
          "showarrow": false,
          "text": "Topic 24",
          "x": 0.0875,
          "xanchor": "center",
          "xref": "paper",
          "y": 0.09387755102040816,
          "yanchor": "bottom",
          "yref": "paper"
         }
        ],
        "height": 1750,
        "hoverlabel": {
         "bgcolor": "white",
         "font": {
          "family": "Rockwell",
          "size": 16
         }
        },
        "showlegend": false,
        "template": {
         "data": {
          "bar": [
           {
            "error_x": {
             "color": "#2a3f5f"
            },
            "error_y": {
             "color": "#2a3f5f"
            },
            "marker": {
             "line": {
              "color": "white",
              "width": 0.5
             },
             "pattern": {
              "fillmode": "overlay",
              "size": 10,
              "solidity": 0.2
             }
            },
            "type": "bar"
           }
          ],
          "barpolar": [
           {
            "marker": {
             "line": {
              "color": "white",
              "width": 0.5
             },
             "pattern": {
              "fillmode": "overlay",
              "size": 10,
              "solidity": 0.2
             }
            },
            "type": "barpolar"
           }
          ],
          "carpet": [
           {
            "aaxis": {
             "endlinecolor": "#2a3f5f",
             "gridcolor": "#C8D4E3",
             "linecolor": "#C8D4E3",
             "minorgridcolor": "#C8D4E3",
             "startlinecolor": "#2a3f5f"
            },
            "baxis": {
             "endlinecolor": "#2a3f5f",
             "gridcolor": "#C8D4E3",
             "linecolor": "#C8D4E3",
             "minorgridcolor": "#C8D4E3",
             "startlinecolor": "#2a3f5f"
            },
            "type": "carpet"
           }
          ],
          "choropleth": [
           {
            "colorbar": {
             "outlinewidth": 0,
             "ticks": ""
            },
            "type": "choropleth"
           }
          ],
          "contour": [
           {
            "colorbar": {
             "outlinewidth": 0,
             "ticks": ""
            },
            "colorscale": [
             [
              0,
              "#0d0887"
             ],
             [
              0.1111111111111111,
              "#46039f"
             ],
             [
              0.2222222222222222,
              "#7201a8"
             ],
             [
              0.3333333333333333,
              "#9c179e"
             ],
             [
              0.4444444444444444,
              "#bd3786"
             ],
             [
              0.5555555555555556,
              "#d8576b"
             ],
             [
              0.6666666666666666,
              "#ed7953"
             ],
             [
              0.7777777777777778,
              "#fb9f3a"
             ],
             [
              0.8888888888888888,
              "#fdca26"
             ],
             [
              1,
              "#f0f921"
             ]
            ],
            "type": "contour"
           }
          ],
          "contourcarpet": [
           {
            "colorbar": {
             "outlinewidth": 0,
             "ticks": ""
            },
            "type": "contourcarpet"
           }
          ],
          "heatmap": [
           {
            "colorbar": {
             "outlinewidth": 0,
             "ticks": ""
            },
            "colorscale": [
             [
              0,
              "#0d0887"
             ],
             [
              0.1111111111111111,
              "#46039f"
             ],
             [
              0.2222222222222222,
              "#7201a8"
             ],
             [
              0.3333333333333333,
              "#9c179e"
             ],
             [
              0.4444444444444444,
              "#bd3786"
             ],
             [
              0.5555555555555556,
              "#d8576b"
             ],
             [
              0.6666666666666666,
              "#ed7953"
             ],
             [
              0.7777777777777778,
              "#fb9f3a"
             ],
             [
              0.8888888888888888,
              "#fdca26"
             ],
             [
              1,
              "#f0f921"
             ]
            ],
            "type": "heatmap"
           }
          ],
          "heatmapgl": [
           {
            "colorbar": {
             "outlinewidth": 0,
             "ticks": ""
            },
            "colorscale": [
             [
              0,
              "#0d0887"
             ],
             [
              0.1111111111111111,
              "#46039f"
             ],
             [
              0.2222222222222222,
              "#7201a8"
             ],
             [
              0.3333333333333333,
              "#9c179e"
             ],
             [
              0.4444444444444444,
              "#bd3786"
             ],
             [
              0.5555555555555556,
              "#d8576b"
             ],
             [
              0.6666666666666666,
              "#ed7953"
             ],
             [
              0.7777777777777778,
              "#fb9f3a"
             ],
             [
              0.8888888888888888,
              "#fdca26"
             ],
             [
              1,
              "#f0f921"
             ]
            ],
            "type": "heatmapgl"
           }
          ],
          "histogram": [
           {
            "marker": {
             "pattern": {
              "fillmode": "overlay",
              "size": 10,
              "solidity": 0.2
             }
            },
            "type": "histogram"
           }
          ],
          "histogram2d": [
           {
            "colorbar": {
             "outlinewidth": 0,
             "ticks": ""
            },
            "colorscale": [
             [
              0,
              "#0d0887"
             ],
             [
              0.1111111111111111,
              "#46039f"
             ],
             [
              0.2222222222222222,
              "#7201a8"
             ],
             [
              0.3333333333333333,
              "#9c179e"
             ],
             [
              0.4444444444444444,
              "#bd3786"
             ],
             [
              0.5555555555555556,
              "#d8576b"
             ],
             [
              0.6666666666666666,
              "#ed7953"
             ],
             [
              0.7777777777777778,
              "#fb9f3a"
             ],
             [
              0.8888888888888888,
              "#fdca26"
             ],
             [
              1,
              "#f0f921"
             ]
            ],
            "type": "histogram2d"
           }
          ],
          "histogram2dcontour": [
           {
            "colorbar": {
             "outlinewidth": 0,
             "ticks": ""
            },
            "colorscale": [
             [
              0,
              "#0d0887"
             ],
             [
              0.1111111111111111,
              "#46039f"
             ],
             [
              0.2222222222222222,
              "#7201a8"
             ],
             [
              0.3333333333333333,
              "#9c179e"
             ],
             [
              0.4444444444444444,
              "#bd3786"
             ],
             [
              0.5555555555555556,
              "#d8576b"
             ],
             [
              0.6666666666666666,
              "#ed7953"
             ],
             [
              0.7777777777777778,
              "#fb9f3a"
             ],
             [
              0.8888888888888888,
              "#fdca26"
             ],
             [
              1,
              "#f0f921"
             ]
            ],
            "type": "histogram2dcontour"
           }
          ],
          "mesh3d": [
           {
            "colorbar": {
             "outlinewidth": 0,
             "ticks": ""
            },
            "type": "mesh3d"
           }
          ],
          "parcoords": [
           {
            "line": {
             "colorbar": {
              "outlinewidth": 0,
              "ticks": ""
             }
            },
            "type": "parcoords"
           }
          ],
          "pie": [
           {
            "automargin": true,
            "type": "pie"
           }
          ],
          "scatter": [
           {
            "fillpattern": {
             "fillmode": "overlay",
             "size": 10,
             "solidity": 0.2
            },
            "type": "scatter"
           }
          ],
          "scatter3d": [
           {
            "line": {
             "colorbar": {
              "outlinewidth": 0,
              "ticks": ""
             }
            },
            "marker": {
             "colorbar": {
              "outlinewidth": 0,
              "ticks": ""
             }
            },
            "type": "scatter3d"
           }
          ],
          "scattercarpet": [
           {
            "marker": {
             "colorbar": {
              "outlinewidth": 0,
              "ticks": ""
             }
            },
            "type": "scattercarpet"
           }
          ],
          "scattergeo": [
           {
            "marker": {
             "colorbar": {
              "outlinewidth": 0,
              "ticks": ""
             }
            },
            "type": "scattergeo"
           }
          ],
          "scattergl": [
           {
            "marker": {
             "colorbar": {
              "outlinewidth": 0,
              "ticks": ""
             }
            },
            "type": "scattergl"
           }
          ],
          "scattermapbox": [
           {
            "marker": {
             "colorbar": {
              "outlinewidth": 0,
              "ticks": ""
             }
            },
            "type": "scattermapbox"
           }
          ],
          "scatterpolar": [
           {
            "marker": {
             "colorbar": {
              "outlinewidth": 0,
              "ticks": ""
             }
            },
            "type": "scatterpolar"
           }
          ],
          "scatterpolargl": [
           {
            "marker": {
             "colorbar": {
              "outlinewidth": 0,
              "ticks": ""
             }
            },
            "type": "scatterpolargl"
           }
          ],
          "scatterternary": [
           {
            "marker": {
             "colorbar": {
              "outlinewidth": 0,
              "ticks": ""
             }
            },
            "type": "scatterternary"
           }
          ],
          "surface": [
           {
            "colorbar": {
             "outlinewidth": 0,
             "ticks": ""
            },
            "colorscale": [
             [
              0,
              "#0d0887"
             ],
             [
              0.1111111111111111,
              "#46039f"
             ],
             [
              0.2222222222222222,
              "#7201a8"
             ],
             [
              0.3333333333333333,
              "#9c179e"
             ],
             [
              0.4444444444444444,
              "#bd3786"
             ],
             [
              0.5555555555555556,
              "#d8576b"
             ],
             [
              0.6666666666666666,
              "#ed7953"
             ],
             [
              0.7777777777777778,
              "#fb9f3a"
             ],
             [
              0.8888888888888888,
              "#fdca26"
             ],
             [
              1,
              "#f0f921"
             ]
            ],
            "type": "surface"
           }
          ],
          "table": [
           {
            "cells": {
             "fill": {
              "color": "#EBF0F8"
             },
             "line": {
              "color": "white"
             }
            },
            "header": {
             "fill": {
              "color": "#C8D4E3"
             },
             "line": {
              "color": "white"
             }
            },
            "type": "table"
           }
          ]
         },
         "layout": {
          "annotationdefaults": {
           "arrowcolor": "#2a3f5f",
           "arrowhead": 0,
           "arrowwidth": 1
          },
          "autotypenumbers": "strict",
          "coloraxis": {
           "colorbar": {
            "outlinewidth": 0,
            "ticks": ""
           }
          },
          "colorscale": {
           "diverging": [
            [
             0,
             "#8e0152"
            ],
            [
             0.1,
             "#c51b7d"
            ],
            [
             0.2,
             "#de77ae"
            ],
            [
             0.3,
             "#f1b6da"
            ],
            [
             0.4,
             "#fde0ef"
            ],
            [
             0.5,
             "#f7f7f7"
            ],
            [
             0.6,
             "#e6f5d0"
            ],
            [
             0.7,
             "#b8e186"
            ],
            [
             0.8,
             "#7fbc41"
            ],
            [
             0.9,
             "#4d9221"
            ],
            [
             1,
             "#276419"
            ]
           ],
           "sequential": [
            [
             0,
             "#0d0887"
            ],
            [
             0.1111111111111111,
             "#46039f"
            ],
            [
             0.2222222222222222,
             "#7201a8"
            ],
            [
             0.3333333333333333,
             "#9c179e"
            ],
            [
             0.4444444444444444,
             "#bd3786"
            ],
            [
             0.5555555555555556,
             "#d8576b"
            ],
            [
             0.6666666666666666,
             "#ed7953"
            ],
            [
             0.7777777777777778,
             "#fb9f3a"
            ],
            [
             0.8888888888888888,
             "#fdca26"
            ],
            [
             1,
             "#f0f921"
            ]
           ],
           "sequentialminus": [
            [
             0,
             "#0d0887"
            ],
            [
             0.1111111111111111,
             "#46039f"
            ],
            [
             0.2222222222222222,
             "#7201a8"
            ],
            [
             0.3333333333333333,
             "#9c179e"
            ],
            [
             0.4444444444444444,
             "#bd3786"
            ],
            [
             0.5555555555555556,
             "#d8576b"
            ],
            [
             0.6666666666666666,
             "#ed7953"
            ],
            [
             0.7777777777777778,
             "#fb9f3a"
            ],
            [
             0.8888888888888888,
             "#fdca26"
            ],
            [
             1,
             "#f0f921"
            ]
           ]
          },
          "colorway": [
           "#636efa",
           "#EF553B",
           "#00cc96",
           "#ab63fa",
           "#FFA15A",
           "#19d3f3",
           "#FF6692",
           "#B6E880",
           "#FF97FF",
           "#FECB52"
          ],
          "font": {
           "color": "#2a3f5f"
          },
          "geo": {
           "bgcolor": "white",
           "lakecolor": "white",
           "landcolor": "white",
           "showlakes": true,
           "showland": true,
           "subunitcolor": "#C8D4E3"
          },
          "hoverlabel": {
           "align": "left"
          },
          "hovermode": "closest",
          "mapbox": {
           "style": "light"
          },
          "paper_bgcolor": "white",
          "plot_bgcolor": "white",
          "polar": {
           "angularaxis": {
            "gridcolor": "#EBF0F8",
            "linecolor": "#EBF0F8",
            "ticks": ""
           },
           "bgcolor": "white",
           "radialaxis": {
            "gridcolor": "#EBF0F8",
            "linecolor": "#EBF0F8",
            "ticks": ""
           }
          },
          "scene": {
           "xaxis": {
            "backgroundcolor": "white",
            "gridcolor": "#DFE8F3",
            "gridwidth": 2,
            "linecolor": "#EBF0F8",
            "showbackground": true,
            "ticks": "",
            "zerolinecolor": "#EBF0F8"
           },
           "yaxis": {
            "backgroundcolor": "white",
            "gridcolor": "#DFE8F3",
            "gridwidth": 2,
            "linecolor": "#EBF0F8",
            "showbackground": true,
            "ticks": "",
            "zerolinecolor": "#EBF0F8"
           },
           "zaxis": {
            "backgroundcolor": "white",
            "gridcolor": "#DFE8F3",
            "gridwidth": 2,
            "linecolor": "#EBF0F8",
            "showbackground": true,
            "ticks": "",
            "zerolinecolor": "#EBF0F8"
           }
          },
          "shapedefaults": {
           "line": {
            "color": "#2a3f5f"
           }
          },
          "ternary": {
           "aaxis": {
            "gridcolor": "#DFE8F3",
            "linecolor": "#A2B1C6",
            "ticks": ""
           },
           "baxis": {
            "gridcolor": "#DFE8F3",
            "linecolor": "#A2B1C6",
            "ticks": ""
           },
           "bgcolor": "white",
           "caxis": {
            "gridcolor": "#DFE8F3",
            "linecolor": "#A2B1C6",
            "ticks": ""
           }
          },
          "title": {
           "x": 0.05
          },
          "xaxis": {
           "automargin": true,
           "gridcolor": "#EBF0F8",
           "linecolor": "#EBF0F8",
           "ticks": "",
           "title": {
            "standoff": 15
           },
           "zerolinecolor": "#EBF0F8",
           "zerolinewidth": 2
          },
          "yaxis": {
           "automargin": true,
           "gridcolor": "#EBF0F8",
           "linecolor": "#EBF0F8",
           "ticks": "",
           "title": {
            "standoff": 15
           },
           "zerolinecolor": "#EBF0F8",
           "zerolinewidth": 2
          }
         }
        },
        "title": {
         "font": {
          "color": "Black",
          "size": 22
         },
         "text": "Topic Word Scores",
         "x": 0.5,
         "xanchor": "center",
         "yanchor": "top"
        },
        "width": 1200,
        "xaxis": {
         "anchor": "y",
         "domain": [
          0,
          0.175
         ],
         "showgrid": true
        },
        "xaxis10": {
         "anchor": "y10",
         "domain": [
          0.275,
          0.45
         ],
         "showgrid": true
        },
        "xaxis11": {
         "anchor": "y11",
         "domain": [
          0.55,
          0.7250000000000001
         ],
         "showgrid": true
        },
        "xaxis12": {
         "anchor": "y12",
         "domain": [
          0.825,
          1
         ],
         "showgrid": true
        },
        "xaxis13": {
         "anchor": "y13",
         "domain": [
          0,
          0.175
         ],
         "showgrid": true
        },
        "xaxis14": {
         "anchor": "y14",
         "domain": [
          0.275,
          0.45
         ],
         "showgrid": true
        },
        "xaxis15": {
         "anchor": "y15",
         "domain": [
          0.55,
          0.7250000000000001
         ],
         "showgrid": true
        },
        "xaxis16": {
         "anchor": "y16",
         "domain": [
          0.825,
          1
         ],
         "showgrid": true
        },
        "xaxis17": {
         "anchor": "y17",
         "domain": [
          0,
          0.175
         ],
         "showgrid": true
        },
        "xaxis18": {
         "anchor": "y18",
         "domain": [
          0.275,
          0.45
         ],
         "showgrid": true
        },
        "xaxis19": {
         "anchor": "y19",
         "domain": [
          0.55,
          0.7250000000000001
         ],
         "showgrid": true
        },
        "xaxis2": {
         "anchor": "y2",
         "domain": [
          0.275,
          0.45
         ],
         "showgrid": true
        },
        "xaxis20": {
         "anchor": "y20",
         "domain": [
          0.825,
          1
         ],
         "showgrid": true
        },
        "xaxis21": {
         "anchor": "y21",
         "domain": [
          0,
          0.175
         ],
         "showgrid": true
        },
        "xaxis22": {
         "anchor": "y22",
         "domain": [
          0.275,
          0.45
         ],
         "showgrid": true
        },
        "xaxis23": {
         "anchor": "y23",
         "domain": [
          0.55,
          0.7250000000000001
         ],
         "showgrid": true
        },
        "xaxis24": {
         "anchor": "y24",
         "domain": [
          0.825,
          1
         ],
         "showgrid": true
        },
        "xaxis25": {
         "anchor": "y25",
         "domain": [
          0,
          0.175
         ],
         "showgrid": true
        },
        "xaxis26": {
         "anchor": "y26",
         "domain": [
          0.275,
          0.45
         ],
         "showgrid": true
        },
        "xaxis27": {
         "anchor": "y27",
         "domain": [
          0.55,
          0.7250000000000001
         ],
         "showgrid": true
        },
        "xaxis28": {
         "anchor": "y28",
         "domain": [
          0.825,
          1
         ],
         "showgrid": true
        },
        "xaxis3": {
         "anchor": "y3",
         "domain": [
          0.55,
          0.7250000000000001
         ],
         "showgrid": true
        },
        "xaxis4": {
         "anchor": "y4",
         "domain": [
          0.825,
          1
         ],
         "showgrid": true
        },
        "xaxis5": {
         "anchor": "y5",
         "domain": [
          0,
          0.175
         ],
         "showgrid": true
        },
        "xaxis6": {
         "anchor": "y6",
         "domain": [
          0.275,
          0.45
         ],
         "showgrid": true
        },
        "xaxis7": {
         "anchor": "y7",
         "domain": [
          0.55,
          0.7250000000000001
         ],
         "showgrid": true
        },
        "xaxis8": {
         "anchor": "y8",
         "domain": [
          0.825,
          1
         ],
         "showgrid": true
        },
        "xaxis9": {
         "anchor": "y9",
         "domain": [
          0,
          0.175
         ],
         "showgrid": true
        },
        "yaxis": {
         "anchor": "x",
         "domain": [
          0.9061224489795918,
          1
         ],
         "showgrid": true
        },
        "yaxis10": {
         "anchor": "x10",
         "domain": [
          0.6040816326530613,
          0.6979591836734694
         ],
         "showgrid": true
        },
        "yaxis11": {
         "anchor": "x11",
         "domain": [
          0.6040816326530613,
          0.6979591836734694
         ],
         "showgrid": true
        },
        "yaxis12": {
         "anchor": "x12",
         "domain": [
          0.6040816326530613,
          0.6979591836734694
         ],
         "showgrid": true
        },
        "yaxis13": {
         "anchor": "x13",
         "domain": [
          0.4530612244897959,
          0.5469387755102041
         ],
         "showgrid": true
        },
        "yaxis14": {
         "anchor": "x14",
         "domain": [
          0.4530612244897959,
          0.5469387755102041
         ],
         "showgrid": true
        },
        "yaxis15": {
         "anchor": "x15",
         "domain": [
          0.4530612244897959,
          0.5469387755102041
         ],
         "showgrid": true
        },
        "yaxis16": {
         "anchor": "x16",
         "domain": [
          0.4530612244897959,
          0.5469387755102041
         ],
         "showgrid": true
        },
        "yaxis17": {
         "anchor": "x17",
         "domain": [
          0.3020408163265306,
          0.3959183673469388
         ],
         "showgrid": true
        },
        "yaxis18": {
         "anchor": "x18",
         "domain": [
          0.3020408163265306,
          0.3959183673469388
         ],
         "showgrid": true
        },
        "yaxis19": {
         "anchor": "x19",
         "domain": [
          0.3020408163265306,
          0.3959183673469388
         ],
         "showgrid": true
        },
        "yaxis2": {
         "anchor": "x2",
         "domain": [
          0.9061224489795918,
          1
         ],
         "showgrid": true
        },
        "yaxis20": {
         "anchor": "x20",
         "domain": [
          0.3020408163265306,
          0.3959183673469388
         ],
         "showgrid": true
        },
        "yaxis21": {
         "anchor": "x21",
         "domain": [
          0.1510204081632653,
          0.24489795918367346
         ],
         "showgrid": true
        },
        "yaxis22": {
         "anchor": "x22",
         "domain": [
          0.1510204081632653,
          0.24489795918367346
         ],
         "showgrid": true
        },
        "yaxis23": {
         "anchor": "x23",
         "domain": [
          0.1510204081632653,
          0.24489795918367346
         ],
         "showgrid": true
        },
        "yaxis24": {
         "anchor": "x24",
         "domain": [
          0.1510204081632653,
          0.24489795918367346
         ],
         "showgrid": true
        },
        "yaxis25": {
         "anchor": "x25",
         "domain": [
          0,
          0.09387755102040816
         ],
         "showgrid": true
        },
        "yaxis26": {
         "anchor": "x26",
         "domain": [
          0,
          0.09387755102040816
         ],
         "showgrid": true
        },
        "yaxis27": {
         "anchor": "x27",
         "domain": [
          0,
          0.09387755102040816
         ],
         "showgrid": true
        },
        "yaxis28": {
         "anchor": "x28",
         "domain": [
          0,
          0.09387755102040816
         ],
         "showgrid": true
        },
        "yaxis3": {
         "anchor": "x3",
         "domain": [
          0.9061224489795918,
          1
         ],
         "showgrid": true
        },
        "yaxis4": {
         "anchor": "x4",
         "domain": [
          0.9061224489795918,
          1
         ],
         "showgrid": true
        },
        "yaxis5": {
         "anchor": "x5",
         "domain": [
          0.7551020408163266,
          0.8489795918367348
         ],
         "showgrid": true
        },
        "yaxis6": {
         "anchor": "x6",
         "domain": [
          0.7551020408163266,
          0.8489795918367348
         ],
         "showgrid": true
        },
        "yaxis7": {
         "anchor": "x7",
         "domain": [
          0.7551020408163266,
          0.8489795918367348
         ],
         "showgrid": true
        },
        "yaxis8": {
         "anchor": "x8",
         "domain": [
          0.7551020408163266,
          0.8489795918367348
         ],
         "showgrid": true
        },
        "yaxis9": {
         "anchor": "x9",
         "domain": [
          0.6040816326530613,
          0.6979591836734694
         ],
         "showgrid": true
        }
       }
      }
     },
     "metadata": {},
     "output_type": "display_data"
    }
   ],
   "source": [
    "topics_to_include = list(range(0, 25))\n",
    "model.visualize_barchart(topics= topics_to_include, width=300)"
   ]
  },
  {
   "cell_type": "code",
   "execution_count": 32,
   "metadata": {},
   "outputs": [
    {
     "data": {
      "application/vnd.plotly.v1+json": {
       "config": {
        "plotlyServerURL": "https://plot.ly"
       },
       "data": [
        {
         "hoverinfo": "text",
         "marker": {
          "color": "rgb(61,153,112)"
         },
         "mode": "lines",
         "type": "scatter",
         "x": [
          0,
          0.7145670708218899,
          0.7145670708218899,
          0
         ],
         "xaxis": "x",
         "y": [
          -5,
          -5,
          -15,
          -15
         ],
         "yaxis": "y"
        },
        {
         "hoverinfo": "text",
         "marker": {
          "color": "rgb(61,153,112)"
         },
         "mode": "lines",
         "type": "scatter",
         "x": [
          0,
          0.7495115889607238,
          0.7495115889607238,
          0
         ],
         "xaxis": "x",
         "y": [
          -45,
          -45,
          -55,
          -55
         ],
         "yaxis": "y"
        },
        {
         "hoverinfo": "text",
         "marker": {
          "color": "rgb(61,153,112)"
         },
         "mode": "lines",
         "type": "scatter",
         "x": [
          0,
          0.795493449471057,
          0.795493449471057,
          0.7495115889607238
         ],
         "xaxis": "x",
         "y": [
          -35,
          -35,
          -50,
          -50
         ],
         "yaxis": "y"
        },
        {
         "hoverinfo": "text",
         "marker": {
          "color": "rgb(61,153,112)"
         },
         "mode": "lines",
         "type": "scatter",
         "x": [
          0,
          0.6079812032299321,
          0.6079812032299321,
          0
         ],
         "xaxis": "x",
         "y": [
          -75,
          -75,
          -85,
          -85
         ],
         "yaxis": "y"
        },
        {
         "hoverinfo": "text",
         "marker": {
          "color": "rgb(61,153,112)"
         },
         "mode": "lines",
         "type": "scatter",
         "x": [
          0,
          0.6938195443158086,
          0.6938195443158086,
          0.6079812032299321
         ],
         "xaxis": "x",
         "y": [
          -65,
          -65,
          -80,
          -80
         ],
         "yaxis": "y"
        },
        {
         "hoverinfo": "text",
         "marker": {
          "color": "rgb(61,153,112)"
         },
         "mode": "lines",
         "type": "scatter",
         "x": [
          0.795493449471057,
          0.8013192324378389,
          0.8013192324378389,
          0.6938195443158086
         ],
         "xaxis": "x",
         "y": [
          -42.5,
          -42.5,
          -72.5,
          -72.5
         ],
         "yaxis": "y"
        },
        {
         "hoverinfo": "text",
         "marker": {
          "color": "rgb(61,153,112)"
         },
         "mode": "lines",
         "type": "scatter",
         "x": [
          0,
          0.8406202360599673,
          0.8406202360599673,
          0
         ],
         "xaxis": "x",
         "y": [
          -95,
          -95,
          -105,
          -105
         ],
         "yaxis": "y"
        },
        {
         "hoverinfo": "text",
         "marker": {
          "color": "rgb(61,153,112)"
         },
         "mode": "lines",
         "type": "scatter",
         "x": [
          0.8013192324378389,
          0.8920840684613961,
          0.8920840684613961,
          0.8406202360599673
         ],
         "xaxis": "x",
         "y": [
          -57.5,
          -57.5,
          -100,
          -100
         ],
         "yaxis": "y"
        },
        {
         "hoverinfo": "text",
         "marker": {
          "color": "rgb(61,153,112)"
         },
         "mode": "lines",
         "type": "scatter",
         "x": [
          0,
          0.9129204436504909,
          0.9129204436504909,
          0.8920840684613961
         ],
         "xaxis": "x",
         "y": [
          -25,
          -25,
          -78.75,
          -78.75
         ],
         "yaxis": "y"
        },
        {
         "hoverinfo": "text",
         "marker": {
          "color": "rgb(61,153,112)"
         },
         "mode": "lines",
         "type": "scatter",
         "x": [
          0,
          0.7533305648619183,
          0.7533305648619183,
          0
         ],
         "xaxis": "x",
         "y": [
          -115,
          -115,
          -125,
          -125
         ],
         "yaxis": "y"
        },
        {
         "hoverinfo": "text",
         "marker": {
          "color": "rgb(61,153,112)"
         },
         "mode": "lines",
         "type": "scatter",
         "x": [
          0.7533305648619183,
          0.8483480141302118,
          0.8483480141302118,
          0
         ],
         "xaxis": "x",
         "y": [
          -120,
          -120,
          -135,
          -135
         ],
         "yaxis": "y"
        },
        {
         "hoverinfo": "text",
         "marker": {
          "color": "rgb(61,153,112)"
         },
         "mode": "lines",
         "type": "scatter",
         "x": [
          0.9129204436504909,
          0.95363444654466,
          0.95363444654466,
          0.8483480141302118
         ],
         "xaxis": "x",
         "y": [
          -51.875,
          -51.875,
          -127.5,
          -127.5
         ],
         "yaxis": "y"
        },
        {
         "hoverinfo": "text",
         "marker": {
          "color": "rgb(61,153,112)"
         },
         "mode": "lines",
         "type": "scatter",
         "x": [
          0,
          0.7435310024057178,
          0.7435310024057178,
          0
         ],
         "xaxis": "x",
         "y": [
          -145,
          -145,
          -155,
          -155
         ],
         "yaxis": "y"
        },
        {
         "hoverinfo": "text",
         "marker": {
          "color": "rgb(61,153,112)"
         },
         "mode": "lines",
         "type": "scatter",
         "x": [
          0.95363444654466,
          0.9728685140082157,
          0.9728685140082157,
          0.7435310024057178
         ],
         "xaxis": "x",
         "y": [
          -89.6875,
          -89.6875,
          -150,
          -150
         ],
         "yaxis": "y"
        },
        {
         "hoverinfo": "text",
         "marker": {
          "color": "rgb(61,153,112)"
         },
         "mode": "lines",
         "type": "scatter",
         "x": [
          0.7145670708218899,
          0.9972626814200041,
          0.9972626814200041,
          0.9728685140082157
         ],
         "xaxis": "x",
         "y": [
          -10,
          -10,
          -119.84375,
          -119.84375
         ],
         "yaxis": "y"
        },
        {
         "hoverinfo": "text",
         "marker": {
          "color": "rgb(255,65,54)"
         },
         "mode": "lines",
         "type": "scatter",
         "x": [
          0,
          0.5715349347872041,
          0.5715349347872041,
          0
         ],
         "xaxis": "x",
         "y": [
          -175,
          -175,
          -185,
          -185
         ],
         "yaxis": "y"
        },
        {
         "hoverinfo": "text",
         "marker": {
          "color": "rgb(255,65,54)"
         },
         "mode": "lines",
         "type": "scatter",
         "x": [
          0,
          0.762549965540192,
          0.762549965540192,
          0.5715349347872041
         ],
         "xaxis": "x",
         "y": [
          -165,
          -165,
          -180,
          -180
         ],
         "yaxis": "y"
        },
        {
         "hoverinfo": "text",
         "marker": {
          "color": "rgb(255,65,54)"
         },
         "mode": "lines",
         "type": "scatter",
         "x": [
          0,
          0.8240482248506644,
          0.8240482248506644,
          0
         ],
         "xaxis": "x",
         "y": [
          -205,
          -205,
          -215,
          -215
         ],
         "yaxis": "y"
        },
        {
         "hoverinfo": "text",
         "marker": {
          "color": "rgb(255,65,54)"
         },
         "mode": "lines",
         "type": "scatter",
         "x": [
          0,
          0.8629944127156707,
          0.8629944127156707,
          0.8240482248506644
         ],
         "xaxis": "x",
         "y": [
          -195,
          -195,
          -210,
          -210
         ],
         "yaxis": "y"
        },
        {
         "hoverinfo": "text",
         "marker": {
          "color": "rgb(255,65,54)"
         },
         "mode": "lines",
         "type": "scatter",
         "x": [
          0.762549965540192,
          0.932819977455361,
          0.932819977455361,
          0.8629944127156707
         ],
         "xaxis": "x",
         "y": [
          -172.5,
          -172.5,
          -202.5,
          -202.5
         ],
         "yaxis": "y"
        },
        {
         "hoverinfo": "text",
         "marker": {
          "color": "rgb(35,205,205)"
         },
         "mode": "lines",
         "type": "scatter",
         "x": [
          0,
          0.6271170100636185,
          0.6271170100636185,
          0
         ],
         "xaxis": "x",
         "y": [
          -225,
          -225,
          -235,
          -235
         ],
         "yaxis": "y"
        },
        {
         "hoverinfo": "text",
         "marker": {
          "color": "rgb(35,205,205)"
         },
         "mode": "lines",
         "type": "scatter",
         "x": [
          0.6271170100636185,
          0.7703720636321038,
          0.7703720636321038,
          0
         ],
         "xaxis": "x",
         "y": [
          -230,
          -230,
          -245,
          -245
         ],
         "yaxis": "y"
        },
        {
         "hoverinfo": "text",
         "marker": {
          "color": "rgb(0,116,217)"
         },
         "mode": "lines",
         "type": "scatter",
         "x": [
          0.932819977455361,
          1.0650508885359882,
          1.0650508885359882,
          0.7703720636321038
         ],
         "xaxis": "x",
         "y": [
          -187.5,
          -187.5,
          -237.5,
          -237.5
         ],
         "yaxis": "y"
        },
        {
         "hoverinfo": "text",
         "marker": {
          "color": "rgb(0,116,217)"
         },
         "mode": "lines",
         "type": "scatter",
         "x": [
          0.9972626814200041,
          1.1298845972227263,
          1.1298845972227263,
          1.0650508885359882
         ],
         "xaxis": "x",
         "y": [
          -64.921875,
          -64.921875,
          -212.5,
          -212.5
         ],
         "yaxis": "y"
        }
       ],
       "layout": {
        "autosize": false,
        "height": 575,
        "hoverlabel": {
         "bgcolor": "white",
         "font": {
          "family": "Rockwell",
          "size": 16
         }
        },
        "hovermode": "closest",
        "plot_bgcolor": "#ECEFF1",
        "showlegend": false,
        "template": {
         "data": {
          "bar": [
           {
            "error_x": {
             "color": "#2a3f5f"
            },
            "error_y": {
             "color": "#2a3f5f"
            },
            "marker": {
             "line": {
              "color": "white",
              "width": 0.5
             },
             "pattern": {
              "fillmode": "overlay",
              "size": 10,
              "solidity": 0.2
             }
            },
            "type": "bar"
           }
          ],
          "barpolar": [
           {
            "marker": {
             "line": {
              "color": "white",
              "width": 0.5
             },
             "pattern": {
              "fillmode": "overlay",
              "size": 10,
              "solidity": 0.2
             }
            },
            "type": "barpolar"
           }
          ],
          "carpet": [
           {
            "aaxis": {
             "endlinecolor": "#2a3f5f",
             "gridcolor": "#C8D4E3",
             "linecolor": "#C8D4E3",
             "minorgridcolor": "#C8D4E3",
             "startlinecolor": "#2a3f5f"
            },
            "baxis": {
             "endlinecolor": "#2a3f5f",
             "gridcolor": "#C8D4E3",
             "linecolor": "#C8D4E3",
             "minorgridcolor": "#C8D4E3",
             "startlinecolor": "#2a3f5f"
            },
            "type": "carpet"
           }
          ],
          "choropleth": [
           {
            "colorbar": {
             "outlinewidth": 0,
             "ticks": ""
            },
            "type": "choropleth"
           }
          ],
          "contour": [
           {
            "colorbar": {
             "outlinewidth": 0,
             "ticks": ""
            },
            "colorscale": [
             [
              0,
              "#0d0887"
             ],
             [
              0.1111111111111111,
              "#46039f"
             ],
             [
              0.2222222222222222,
              "#7201a8"
             ],
             [
              0.3333333333333333,
              "#9c179e"
             ],
             [
              0.4444444444444444,
              "#bd3786"
             ],
             [
              0.5555555555555556,
              "#d8576b"
             ],
             [
              0.6666666666666666,
              "#ed7953"
             ],
             [
              0.7777777777777778,
              "#fb9f3a"
             ],
             [
              0.8888888888888888,
              "#fdca26"
             ],
             [
              1,
              "#f0f921"
             ]
            ],
            "type": "contour"
           }
          ],
          "contourcarpet": [
           {
            "colorbar": {
             "outlinewidth": 0,
             "ticks": ""
            },
            "type": "contourcarpet"
           }
          ],
          "heatmap": [
           {
            "colorbar": {
             "outlinewidth": 0,
             "ticks": ""
            },
            "colorscale": [
             [
              0,
              "#0d0887"
             ],
             [
              0.1111111111111111,
              "#46039f"
             ],
             [
              0.2222222222222222,
              "#7201a8"
             ],
             [
              0.3333333333333333,
              "#9c179e"
             ],
             [
              0.4444444444444444,
              "#bd3786"
             ],
             [
              0.5555555555555556,
              "#d8576b"
             ],
             [
              0.6666666666666666,
              "#ed7953"
             ],
             [
              0.7777777777777778,
              "#fb9f3a"
             ],
             [
              0.8888888888888888,
              "#fdca26"
             ],
             [
              1,
              "#f0f921"
             ]
            ],
            "type": "heatmap"
           }
          ],
          "heatmapgl": [
           {
            "colorbar": {
             "outlinewidth": 0,
             "ticks": ""
            },
            "colorscale": [
             [
              0,
              "#0d0887"
             ],
             [
              0.1111111111111111,
              "#46039f"
             ],
             [
              0.2222222222222222,
              "#7201a8"
             ],
             [
              0.3333333333333333,
              "#9c179e"
             ],
             [
              0.4444444444444444,
              "#bd3786"
             ],
             [
              0.5555555555555556,
              "#d8576b"
             ],
             [
              0.6666666666666666,
              "#ed7953"
             ],
             [
              0.7777777777777778,
              "#fb9f3a"
             ],
             [
              0.8888888888888888,
              "#fdca26"
             ],
             [
              1,
              "#f0f921"
             ]
            ],
            "type": "heatmapgl"
           }
          ],
          "histogram": [
           {
            "marker": {
             "pattern": {
              "fillmode": "overlay",
              "size": 10,
              "solidity": 0.2
             }
            },
            "type": "histogram"
           }
          ],
          "histogram2d": [
           {
            "colorbar": {
             "outlinewidth": 0,
             "ticks": ""
            },
            "colorscale": [
             [
              0,
              "#0d0887"
             ],
             [
              0.1111111111111111,
              "#46039f"
             ],
             [
              0.2222222222222222,
              "#7201a8"
             ],
             [
              0.3333333333333333,
              "#9c179e"
             ],
             [
              0.4444444444444444,
              "#bd3786"
             ],
             [
              0.5555555555555556,
              "#d8576b"
             ],
             [
              0.6666666666666666,
              "#ed7953"
             ],
             [
              0.7777777777777778,
              "#fb9f3a"
             ],
             [
              0.8888888888888888,
              "#fdca26"
             ],
             [
              1,
              "#f0f921"
             ]
            ],
            "type": "histogram2d"
           }
          ],
          "histogram2dcontour": [
           {
            "colorbar": {
             "outlinewidth": 0,
             "ticks": ""
            },
            "colorscale": [
             [
              0,
              "#0d0887"
             ],
             [
              0.1111111111111111,
              "#46039f"
             ],
             [
              0.2222222222222222,
              "#7201a8"
             ],
             [
              0.3333333333333333,
              "#9c179e"
             ],
             [
              0.4444444444444444,
              "#bd3786"
             ],
             [
              0.5555555555555556,
              "#d8576b"
             ],
             [
              0.6666666666666666,
              "#ed7953"
             ],
             [
              0.7777777777777778,
              "#fb9f3a"
             ],
             [
              0.8888888888888888,
              "#fdca26"
             ],
             [
              1,
              "#f0f921"
             ]
            ],
            "type": "histogram2dcontour"
           }
          ],
          "mesh3d": [
           {
            "colorbar": {
             "outlinewidth": 0,
             "ticks": ""
            },
            "type": "mesh3d"
           }
          ],
          "parcoords": [
           {
            "line": {
             "colorbar": {
              "outlinewidth": 0,
              "ticks": ""
             }
            },
            "type": "parcoords"
           }
          ],
          "pie": [
           {
            "automargin": true,
            "type": "pie"
           }
          ],
          "scatter": [
           {
            "fillpattern": {
             "fillmode": "overlay",
             "size": 10,
             "solidity": 0.2
            },
            "type": "scatter"
           }
          ],
          "scatter3d": [
           {
            "line": {
             "colorbar": {
              "outlinewidth": 0,
              "ticks": ""
             }
            },
            "marker": {
             "colorbar": {
              "outlinewidth": 0,
              "ticks": ""
             }
            },
            "type": "scatter3d"
           }
          ],
          "scattercarpet": [
           {
            "marker": {
             "colorbar": {
              "outlinewidth": 0,
              "ticks": ""
             }
            },
            "type": "scattercarpet"
           }
          ],
          "scattergeo": [
           {
            "marker": {
             "colorbar": {
              "outlinewidth": 0,
              "ticks": ""
             }
            },
            "type": "scattergeo"
           }
          ],
          "scattergl": [
           {
            "marker": {
             "colorbar": {
              "outlinewidth": 0,
              "ticks": ""
             }
            },
            "type": "scattergl"
           }
          ],
          "scattermapbox": [
           {
            "marker": {
             "colorbar": {
              "outlinewidth": 0,
              "ticks": ""
             }
            },
            "type": "scattermapbox"
           }
          ],
          "scatterpolar": [
           {
            "marker": {
             "colorbar": {
              "outlinewidth": 0,
              "ticks": ""
             }
            },
            "type": "scatterpolar"
           }
          ],
          "scatterpolargl": [
           {
            "marker": {
             "colorbar": {
              "outlinewidth": 0,
              "ticks": ""
             }
            },
            "type": "scatterpolargl"
           }
          ],
          "scatterternary": [
           {
            "marker": {
             "colorbar": {
              "outlinewidth": 0,
              "ticks": ""
             }
            },
            "type": "scatterternary"
           }
          ],
          "surface": [
           {
            "colorbar": {
             "outlinewidth": 0,
             "ticks": ""
            },
            "colorscale": [
             [
              0,
              "#0d0887"
             ],
             [
              0.1111111111111111,
              "#46039f"
             ],
             [
              0.2222222222222222,
              "#7201a8"
             ],
             [
              0.3333333333333333,
              "#9c179e"
             ],
             [
              0.4444444444444444,
              "#bd3786"
             ],
             [
              0.5555555555555556,
              "#d8576b"
             ],
             [
              0.6666666666666666,
              "#ed7953"
             ],
             [
              0.7777777777777778,
              "#fb9f3a"
             ],
             [
              0.8888888888888888,
              "#fdca26"
             ],
             [
              1,
              "#f0f921"
             ]
            ],
            "type": "surface"
           }
          ],
          "table": [
           {
            "cells": {
             "fill": {
              "color": "#EBF0F8"
             },
             "line": {
              "color": "white"
             }
            },
            "header": {
             "fill": {
              "color": "#C8D4E3"
             },
             "line": {
              "color": "white"
             }
            },
            "type": "table"
           }
          ]
         },
         "layout": {
          "annotationdefaults": {
           "arrowcolor": "#2a3f5f",
           "arrowhead": 0,
           "arrowwidth": 1
          },
          "autotypenumbers": "strict",
          "coloraxis": {
           "colorbar": {
            "outlinewidth": 0,
            "ticks": ""
           }
          },
          "colorscale": {
           "diverging": [
            [
             0,
             "#8e0152"
            ],
            [
             0.1,
             "#c51b7d"
            ],
            [
             0.2,
             "#de77ae"
            ],
            [
             0.3,
             "#f1b6da"
            ],
            [
             0.4,
             "#fde0ef"
            ],
            [
             0.5,
             "#f7f7f7"
            ],
            [
             0.6,
             "#e6f5d0"
            ],
            [
             0.7,
             "#b8e186"
            ],
            [
             0.8,
             "#7fbc41"
            ],
            [
             0.9,
             "#4d9221"
            ],
            [
             1,
             "#276419"
            ]
           ],
           "sequential": [
            [
             0,
             "#0d0887"
            ],
            [
             0.1111111111111111,
             "#46039f"
            ],
            [
             0.2222222222222222,
             "#7201a8"
            ],
            [
             0.3333333333333333,
             "#9c179e"
            ],
            [
             0.4444444444444444,
             "#bd3786"
            ],
            [
             0.5555555555555556,
             "#d8576b"
            ],
            [
             0.6666666666666666,
             "#ed7953"
            ],
            [
             0.7777777777777778,
             "#fb9f3a"
            ],
            [
             0.8888888888888888,
             "#fdca26"
            ],
            [
             1,
             "#f0f921"
            ]
           ],
           "sequentialminus": [
            [
             0,
             "#0d0887"
            ],
            [
             0.1111111111111111,
             "#46039f"
            ],
            [
             0.2222222222222222,
             "#7201a8"
            ],
            [
             0.3333333333333333,
             "#9c179e"
            ],
            [
             0.4444444444444444,
             "#bd3786"
            ],
            [
             0.5555555555555556,
             "#d8576b"
            ],
            [
             0.6666666666666666,
             "#ed7953"
            ],
            [
             0.7777777777777778,
             "#fb9f3a"
            ],
            [
             0.8888888888888888,
             "#fdca26"
            ],
            [
             1,
             "#f0f921"
            ]
           ]
          },
          "colorway": [
           "#636efa",
           "#EF553B",
           "#00cc96",
           "#ab63fa",
           "#FFA15A",
           "#19d3f3",
           "#FF6692",
           "#B6E880",
           "#FF97FF",
           "#FECB52"
          ],
          "font": {
           "color": "#2a3f5f"
          },
          "geo": {
           "bgcolor": "white",
           "lakecolor": "white",
           "landcolor": "white",
           "showlakes": true,
           "showland": true,
           "subunitcolor": "#C8D4E3"
          },
          "hoverlabel": {
           "align": "left"
          },
          "hovermode": "closest",
          "mapbox": {
           "style": "light"
          },
          "paper_bgcolor": "white",
          "plot_bgcolor": "white",
          "polar": {
           "angularaxis": {
            "gridcolor": "#EBF0F8",
            "linecolor": "#EBF0F8",
            "ticks": ""
           },
           "bgcolor": "white",
           "radialaxis": {
            "gridcolor": "#EBF0F8",
            "linecolor": "#EBF0F8",
            "ticks": ""
           }
          },
          "scene": {
           "xaxis": {
            "backgroundcolor": "white",
            "gridcolor": "#DFE8F3",
            "gridwidth": 2,
            "linecolor": "#EBF0F8",
            "showbackground": true,
            "ticks": "",
            "zerolinecolor": "#EBF0F8"
           },
           "yaxis": {
            "backgroundcolor": "white",
            "gridcolor": "#DFE8F3",
            "gridwidth": 2,
            "linecolor": "#EBF0F8",
            "showbackground": true,
            "ticks": "",
            "zerolinecolor": "#EBF0F8"
           },
           "zaxis": {
            "backgroundcolor": "white",
            "gridcolor": "#DFE8F3",
            "gridwidth": 2,
            "linecolor": "#EBF0F8",
            "showbackground": true,
            "ticks": "",
            "zerolinecolor": "#EBF0F8"
           }
          },
          "shapedefaults": {
           "line": {
            "color": "#2a3f5f"
           }
          },
          "ternary": {
           "aaxis": {
            "gridcolor": "#DFE8F3",
            "linecolor": "#A2B1C6",
            "ticks": ""
           },
           "baxis": {
            "gridcolor": "#DFE8F3",
            "linecolor": "#A2B1C6",
            "ticks": ""
           },
           "bgcolor": "white",
           "caxis": {
            "gridcolor": "#DFE8F3",
            "linecolor": "#A2B1C6",
            "ticks": ""
           }
          },
          "title": {
           "x": 0.05
          },
          "xaxis": {
           "automargin": true,
           "gridcolor": "#EBF0F8",
           "linecolor": "#EBF0F8",
           "ticks": "",
           "title": {
            "standoff": 15
           },
           "zerolinecolor": "#EBF0F8",
           "zerolinewidth": 2
          },
          "yaxis": {
           "automargin": true,
           "gridcolor": "#EBF0F8",
           "linecolor": "#EBF0F8",
           "ticks": "",
           "title": {
            "standoff": 15
           },
           "zerolinecolor": "#EBF0F8",
           "zerolinewidth": 2
          }
         }
        },
        "title": {
         "font": {
          "color": "Black",
          "size": 22
         },
         "text": "<b>Hierarchical Clustering</b>",
         "x": 0.5,
         "xanchor": "center",
         "yanchor": "top"
        },
        "width": 1000,
        "xaxis": {
         "mirror": "allticks",
         "rangemode": "tozero",
         "showgrid": false,
         "showline": true,
         "showticklabels": true,
         "ticks": "outside",
         "type": "linear",
         "zeroline": false
        },
        "yaxis": {
         "mirror": "allticks",
         "range": [
          -250,
          0
         ],
         "rangemode": "tozero",
         "showgrid": false,
         "showline": true,
         "showticklabels": true,
         "tickmode": "array",
         "ticks": "outside",
         "ticktext": [
          "16_intercultural_exchange_c...",
          "10_telecollaboration_interc...",
          "23_mall_meta_oer",
          "1_call_research_sla",
          "2_data_corpus_driven",
          "7_multimodal_videoconferenc...",
          "9_online_language_learning",
          "0_technology_language_learn...",
          "4_mobile_learning_assisted",
          "14_flipped_classroom_flipping",
          "20_blended_learning_inquiry",
          "13_virtual_3d_reality",
          "19_virtual_exchange_presence",
          "17_social_media_networking",
          "8_game_games_digital",
          "21_storytelling_digital_story",
          "22_translation_machine_writ...",
          "3_writing_feedback_automated",
          "5_collaborative_writing_wiki",
          "24_chat_task_text",
          "15_oral_communication_media...",
          "6_pronunciation_speech_trai...",
          "12_comprehension_captions_l...",
          "11_vocabulary_gloss_glosses",
          "18_reading_strategies_compr..."
         ],
         "tickvals": [
          -5,
          -15,
          -25,
          -35,
          -45,
          -55,
          -65,
          -75,
          -85,
          -95,
          -105,
          -115,
          -125,
          -135,
          -145,
          -155,
          -165,
          -175,
          -185,
          -195,
          -205,
          -215,
          -225,
          -235,
          -245
         ],
         "type": "linear",
         "zeroline": false
        }
       }
      }
     },
     "metadata": {},
     "output_type": "display_data"
    }
   ],
   "source": [
    "model.visualize_hierarchy()"
   ]
  },
  {
   "cell_type": "code",
   "execution_count": 33,
   "metadata": {},
   "outputs": [
    {
     "name": "stderr",
     "output_type": "stream",
     "text": [
      "  0%|          | 0/24 [00:00<?, ?it/s]"
     ]
    },
    {
     "name": "stderr",
     "output_type": "stream",
     "text": [
      "100%|██████████| 24/24 [00:00<00:00, 292.73it/s]\n"
     ]
    },
    {
     "data": {
      "application/vnd.plotly.v1+json": {
       "config": {
        "plotlyServerURL": "https://plot.ly"
       },
       "data": [
        {
         "hoverinfo": "text",
         "marker": {
          "color": "rgb(61,153,112)"
         },
         "mode": "lines",
         "text": [
          "intercultural_exchange_competence_exchanges_communication",
          "",
          "",
          "telecollaboration_intercultural_telecollaborative_service_pre"
         ],
         "type": "scatter",
         "x": [
          0,
          0.7145670708218899,
          0.7145670708218899,
          0
         ],
         "xaxis": "x",
         "y": [
          -5,
          -5,
          -15,
          -15
         ],
         "yaxis": "y"
        },
        {
         "hoverinfo": "text",
         "marker": {
          "color": "rgb(61,153,112)"
         },
         "mode": "lines",
         "text": [
          "data_corpus_driven_collocation_dictionaries",
          "",
          "",
          "multimodal_videoconferencing_video_conferencing_interactions"
         ],
         "type": "scatter",
         "x": [
          0,
          0.7495115889607238,
          0.7495115889607238,
          0
         ],
         "xaxis": "x",
         "y": [
          -45,
          -45,
          -55,
          -55
         ],
         "yaxis": "y"
        },
        {
         "hoverinfo": "text",
         "marker": {
          "color": "rgb(61,153,112)"
         },
         "mode": "lines",
         "text": [
          "call_research_sla_the_of",
          "",
          "",
          "data_corpus_driven_multimodal_learner"
         ],
         "type": "scatter",
         "x": [
          0,
          0.795493449471057,
          0.795493449471057,
          0.7495115889607238
         ],
         "xaxis": "x",
         "y": [
          -35,
          -35,
          -50,
          -50
         ],
         "yaxis": "y"
        },
        {
         "hoverinfo": "text",
         "marker": {
          "color": "rgb(61,153,112)"
         },
         "mode": "lines",
         "text": [
          "technology_language_learning_teachers_assisted",
          "",
          "",
          "mobile_learning_assisted_language_smartphones"
         ],
         "type": "scatter",
         "x": [
          0,
          0.6079812032299321,
          0.6079812032299321,
          0
         ],
         "xaxis": "x",
         "y": [
          -75,
          -75,
          -85,
          -85
         ],
         "yaxis": "y"
        },
        {
         "hoverinfo": "text",
         "marker": {
          "color": "rgb(61,153,112)"
         },
         "mode": "lines",
         "text": [
          "online_language_learning_moocs_student",
          "",
          "",
          "mobile_technology_language_learning_assisted"
         ],
         "type": "scatter",
         "x": [
          0,
          0.6938195443158086,
          0.6938195443158086,
          0.6079812032299321
         ],
         "xaxis": "x",
         "y": [
          -65,
          -65,
          -80,
          -80
         ],
         "yaxis": "y"
        },
        {
         "hoverinfo": "text",
         "marker": {
          "color": "rgb(61,153,112)"
         },
         "mode": "lines",
         "text": [
          "call_data_the_corpus_of",
          "",
          "",
          "language_learning_mobile_technology_assisted"
         ],
         "type": "scatter",
         "x": [
          0.795493449471057,
          0.8013192324378389,
          0.8013192324378389,
          0.6938195443158086
         ],
         "xaxis": "x",
         "y": [
          -42.5,
          -42.5,
          -72.5,
          -72.5
         ],
         "yaxis": "y"
        },
        {
         "hoverinfo": "text",
         "marker": {
          "color": "rgb(61,153,112)"
         },
         "mode": "lines",
         "text": [
          "flipped_classroom_flipping_classrooms_teaching",
          "",
          "",
          "blended_learning_inquiry_college_for"
         ],
         "type": "scatter",
         "x": [
          0,
          0.8406202360599673,
          0.8406202360599673,
          0
         ],
         "xaxis": "x",
         "y": [
          -95,
          -95,
          -105,
          -105
         ],
         "yaxis": "y"
        },
        {
         "hoverinfo": "text",
         "marker": {
          "color": "rgb(61,153,112)"
         },
         "mode": "lines",
         "text": [
          "language_learning_call_of_the",
          "",
          "",
          "flipped_blended_classroom_learning_for"
         ],
         "type": "scatter",
         "x": [
          0.8013192324378389,
          0.8920840684613961,
          0.8920840684613961,
          0.8406202360599673
         ],
         "xaxis": "x",
         "y": [
          -57.5,
          -57.5,
          -100,
          -100
         ],
         "yaxis": "y"
        },
        {
         "hoverinfo": "text",
         "marker": {
          "color": "rgb(61,153,112)"
         },
         "mode": "lines",
         "text": [
          "mall_meta_oer_processing_the",
          "",
          "",
          "language_learning_of_the_call"
         ],
         "type": "scatter",
         "x": [
          0,
          0.9129204436504909,
          0.9129204436504909,
          0.8920840684613961
         ],
         "xaxis": "x",
         "y": [
          -25,
          -25,
          -78.75,
          -78.75
         ],
         "yaxis": "y"
        },
        {
         "hoverinfo": "text",
         "marker": {
          "color": "rgb(61,153,112)"
         },
         "mode": "lines",
         "text": [
          "virtual_3d_reality_immersive_worlds",
          "",
          "",
          "virtual_exchange_presence_professional_in"
         ],
         "type": "scatter",
         "x": [
          0,
          0.7533305648619183,
          0.7533305648619183,
          0
         ],
         "xaxis": "x",
         "y": [
          -115,
          -115,
          -125,
          -125
         ],
         "yaxis": "y"
        },
        {
         "hoverinfo": "text",
         "marker": {
          "color": "rgb(61,153,112)"
         },
         "mode": "lines",
         "text": [
          "virtual_3d_reality_immersive_in",
          "",
          "",
          "social_media_networking_networks_language"
         ],
         "type": "scatter",
         "x": [
          0.7533305648619183,
          0.8483480141302118,
          0.8483480141302118,
          0
         ],
         "xaxis": "x",
         "y": [
          -120,
          -120,
          -135,
          -135
         ],
         "yaxis": "y"
        },
        {
         "hoverinfo": "text",
         "marker": {
          "color": "rgb(61,153,112)"
         },
         "mode": "lines",
         "text": [
          "language_learning_of_the_call",
          "",
          "",
          "virtual_social_reality_3d_learning"
         ],
         "type": "scatter",
         "x": [
          0.9129204436504909,
          0.95363444654466,
          0.95363444654466,
          0.8483480141302118
         ],
         "xaxis": "x",
         "y": [
          -51.875,
          -51.875,
          -127.5,
          -127.5
         ],
         "yaxis": "y"
        },
        {
         "hoverinfo": "text",
         "marker": {
          "color": "rgb(61,153,112)"
         },
         "mode": "lines",
         "text": [
          "game_games_digital_playing_gaming",
          "",
          "",
          "storytelling_digital_story_stories_her"
         ],
         "type": "scatter",
         "x": [
          0,
          0.7435310024057178,
          0.7435310024057178,
          0
         ],
         "xaxis": "x",
         "y": [
          -145,
          -145,
          -155,
          -155
         ],
         "yaxis": "y"
        },
        {
         "hoverinfo": "text",
         "marker": {
          "color": "rgb(61,153,112)"
         },
         "mode": "lines",
         "text": [
          "language_learning_of_the_in",
          "",
          "",
          "game_digital_storytelling_games_playing"
         ],
         "type": "scatter",
         "x": [
          0.95363444654466,
          0.9728685140082157,
          0.9728685140082157,
          0.7435310024057178
         ],
         "xaxis": "x",
         "y": [
          -89.6875,
          -89.6875,
          -150,
          -150
         ],
         "yaxis": "y"
        },
        {
         "hoverinfo": "text",
         "marker": {
          "color": "rgb(61,153,112)"
         },
         "mode": "lines",
         "text": [
          "telecollaboration_intercultural_telecollaborative_in_competence",
          "",
          "",
          "language_learning_of_the_in"
         ],
         "type": "scatter",
         "x": [
          0.7145670708218899,
          0.9972626814200041,
          0.9972626814200041,
          0.9728685140082157
         ],
         "xaxis": "x",
         "y": [
          -10,
          -10,
          -119.84375,
          -119.84375
         ],
         "yaxis": "y"
        },
        {
         "hoverinfo": "text",
         "marker": {
          "color": "rgb(255,65,54)"
         },
         "mode": "lines",
         "text": [
          "writing_feedback_automated_corrective_evaluation",
          "",
          "",
          "collaborative_writing_wiki_mediated_wikis"
         ],
         "type": "scatter",
         "x": [
          0,
          0.5715349347872041,
          0.5715349347872041,
          0
         ],
         "xaxis": "x",
         "y": [
          -175,
          -175,
          -185,
          -185
         ],
         "yaxis": "y"
        },
        {
         "hoverinfo": "text",
         "marker": {
          "color": "rgb(255,65,54)"
         },
         "mode": "lines",
         "text": [
          "translation_machine_writing_levels_l2",
          "",
          "",
          "writing_feedback_collaborative_automated_written"
         ],
         "type": "scatter",
         "x": [
          0,
          0.762549965540192,
          0.762549965540192,
          0.5715349347872041
         ],
         "xaxis": "x",
         "y": [
          -165,
          -165,
          -180,
          -180
         ],
         "yaxis": "y"
        },
        {
         "hoverinfo": "text",
         "marker": {
          "color": "rgb(255,65,54)"
         },
         "mode": "lines",
         "text": [
          "oral_communication_mediated_computer_proficiency",
          "",
          "",
          "pronunciation_speech_training_recognition_automatic"
         ],
         "type": "scatter",
         "x": [
          0,
          0.8240482248506644,
          0.8240482248506644,
          0
         ],
         "xaxis": "x",
         "y": [
          -205,
          -205,
          -215,
          -215
         ],
         "yaxis": "y"
        },
        {
         "hoverinfo": "text",
         "marker": {
          "color": "rgb(255,65,54)"
         },
         "mode": "lines",
         "text": [
          "chat_task_text_l2_interaction",
          "",
          "",
          "pronunciation_oral_speech_computer_training"
         ],
         "type": "scatter",
         "x": [
          0,
          0.8629944127156707,
          0.8629944127156707,
          0.8240482248506644
         ],
         "xaxis": "x",
         "y": [
          -195,
          -195,
          -210,
          -210
         ],
         "yaxis": "y"
        },
        {
         "hoverinfo": "text",
         "marker": {
          "color": "rgb(255,65,54)"
         },
         "mode": "lines",
         "text": [
          "writing_feedback_collaborative_automated_in",
          "",
          "",
          "pronunciation_oral_l2_speech_computer"
         ],
         "type": "scatter",
         "x": [
          0.762549965540192,
          0.932819977455361,
          0.932819977455361,
          0.8629944127156707
         ],
         "xaxis": "x",
         "y": [
          -172.5,
          -172.5,
          -202.5,
          -202.5
         ],
         "yaxis": "y"
        },
        {
         "hoverinfo": "text",
         "marker": {
          "color": "rgb(35,205,205)"
         },
         "mode": "lines",
         "text": [
          "comprehension_captions_listening_captioned_video",
          "",
          "",
          "vocabulary_gloss_glosses_comprehension_effects"
         ],
         "type": "scatter",
         "x": [
          0,
          0.6271170100636185,
          0.6271170100636185,
          0
         ],
         "xaxis": "x",
         "y": [
          -225,
          -225,
          -235,
          -235
         ],
         "yaxis": "y"
        },
        {
         "hoverinfo": "text",
         "marker": {
          "color": "rgb(35,205,205)"
         },
         "mode": "lines",
         "text": [
          "vocabulary_comprehension_effects_listening_captions",
          "",
          "",
          "reading_strategies_comprehension_strategy_students"
         ],
         "type": "scatter",
         "x": [
          0.6271170100636185,
          0.7703720636321038,
          0.7703720636321038,
          0
         ],
         "xaxis": "x",
         "y": [
          -230,
          -230,
          -245,
          -245
         ],
         "yaxis": "y"
        },
        {
         "hoverinfo": "text",
         "marker": {
          "color": "rgb(0,116,217)"
         },
         "mode": "lines",
         "text": [
          "writing_feedback_l2_collaborative_in",
          "",
          "",
          "vocabulary_comprehension_reading_listening_effects"
         ],
         "type": "scatter",
         "x": [
          0.932819977455361,
          1.0650508885359882,
          1.0650508885359882,
          0.7703720636321038
         ],
         "xaxis": "x",
         "y": [
          -187.5,
          -187.5,
          -237.5,
          -237.5
         ],
         "yaxis": "y"
        },
        {
         "hoverinfo": "text",
         "marker": {
          "color": "rgb(0,116,217)"
         },
         "mode": "lines",
         "text": [
          "language_learning_of_in_the",
          "",
          "",
          "writing_l2_of_feedback_on"
         ],
         "type": "scatter",
         "x": [
          0.9972626814200041,
          1.1298845972227263,
          1.1298845972227263,
          1.0650508885359882
         ],
         "xaxis": "x",
         "y": [
          -64.921875,
          -64.921875,
          -212.5,
          -212.5
         ],
         "yaxis": "y"
        },
        {
         "hoverinfo": "text",
         "hovertext": [
          "call_data_the_corpus_of",
          "language_learning_call_of_the",
          "virtual_3d_reality_immersive_in",
          "language_learning_of_the_call",
          "language_learning_of_the_in",
          "telecollaboration_intercultural_telecollaborative_in_competence",
          "writing_feedback_collaborative_automated_in",
          "vocabulary_comprehension_effects_listening_captions",
          "writing_feedback_l2_collaborative_in",
          "language_learning_of_in_the"
         ],
         "marker": {
          "color": "black"
         },
         "mode": "markers",
         "showlegend": false,
         "type": "scatter",
         "x": [
          0.795493449471057,
          0.8013192324378389,
          0.7533305648619183,
          0.9129204436504909,
          0.95363444654466,
          0.7145670708218899,
          0.762549965540192,
          0.6271170100636185,
          0.932819977455361,
          0.9972626814200041
         ],
         "y": [
          -42.5,
          -57.5,
          -120,
          -51.875,
          -89.6875,
          -10,
          -172.5,
          -230,
          -187.5,
          -64.921875
         ]
        },
        {
         "hoverinfo": "text",
         "hovertext": [
          "data_corpus_driven_multimodal_learner",
          "mobile_technology_language_learning_assisted",
          "language_learning_mobile_technology_assisted",
          "flipped_blended_classroom_learning_for",
          "language_learning_of_the_call",
          "virtual_social_reality_3d_learning",
          "game_digital_storytelling_games_playing",
          "language_learning_of_the_in",
          "writing_feedback_collaborative_automated_written",
          "pronunciation_oral_speech_computer_training",
          "pronunciation_oral_l2_speech_computer",
          "vocabulary_comprehension_reading_listening_effects",
          "writing_l2_of_feedback_on"
         ],
         "marker": {
          "color": "black"
         },
         "mode": "markers",
         "showlegend": false,
         "type": "scatter",
         "x": [
          0.7495115889607238,
          0.6079812032299321,
          0.6938195443158086,
          0.8406202360599673,
          0.8920840684613961,
          0.8483480141302118,
          0.7435310024057178,
          0.9728685140082157,
          0.5715349347872041,
          0.8240482248506644,
          0.8629944127156707,
          0.7703720636321038,
          1.0650508885359882
         ],
         "y": [
          -50,
          -80,
          -72.5,
          -100,
          -78.75,
          -127.5,
          -150,
          -119.84375,
          -180,
          -210,
          -202.5,
          -237.5,
          -212.5
         ]
        }
       ],
       "layout": {
        "autosize": false,
        "height": 575,
        "hoverlabel": {
         "bgcolor": "white",
         "font": {
          "family": "Rockwell",
          "size": 16
         }
        },
        "hovermode": "closest",
        "plot_bgcolor": "#ECEFF1",
        "showlegend": false,
        "template": {
         "data": {
          "bar": [
           {
            "error_x": {
             "color": "#2a3f5f"
            },
            "error_y": {
             "color": "#2a3f5f"
            },
            "marker": {
             "line": {
              "color": "white",
              "width": 0.5
             },
             "pattern": {
              "fillmode": "overlay",
              "size": 10,
              "solidity": 0.2
             }
            },
            "type": "bar"
           }
          ],
          "barpolar": [
           {
            "marker": {
             "line": {
              "color": "white",
              "width": 0.5
             },
             "pattern": {
              "fillmode": "overlay",
              "size": 10,
              "solidity": 0.2
             }
            },
            "type": "barpolar"
           }
          ],
          "carpet": [
           {
            "aaxis": {
             "endlinecolor": "#2a3f5f",
             "gridcolor": "#C8D4E3",
             "linecolor": "#C8D4E3",
             "minorgridcolor": "#C8D4E3",
             "startlinecolor": "#2a3f5f"
            },
            "baxis": {
             "endlinecolor": "#2a3f5f",
             "gridcolor": "#C8D4E3",
             "linecolor": "#C8D4E3",
             "minorgridcolor": "#C8D4E3",
             "startlinecolor": "#2a3f5f"
            },
            "type": "carpet"
           }
          ],
          "choropleth": [
           {
            "colorbar": {
             "outlinewidth": 0,
             "ticks": ""
            },
            "type": "choropleth"
           }
          ],
          "contour": [
           {
            "colorbar": {
             "outlinewidth": 0,
             "ticks": ""
            },
            "colorscale": [
             [
              0,
              "#0d0887"
             ],
             [
              0.1111111111111111,
              "#46039f"
             ],
             [
              0.2222222222222222,
              "#7201a8"
             ],
             [
              0.3333333333333333,
              "#9c179e"
             ],
             [
              0.4444444444444444,
              "#bd3786"
             ],
             [
              0.5555555555555556,
              "#d8576b"
             ],
             [
              0.6666666666666666,
              "#ed7953"
             ],
             [
              0.7777777777777778,
              "#fb9f3a"
             ],
             [
              0.8888888888888888,
              "#fdca26"
             ],
             [
              1,
              "#f0f921"
             ]
            ],
            "type": "contour"
           }
          ],
          "contourcarpet": [
           {
            "colorbar": {
             "outlinewidth": 0,
             "ticks": ""
            },
            "type": "contourcarpet"
           }
          ],
          "heatmap": [
           {
            "colorbar": {
             "outlinewidth": 0,
             "ticks": ""
            },
            "colorscale": [
             [
              0,
              "#0d0887"
             ],
             [
              0.1111111111111111,
              "#46039f"
             ],
             [
              0.2222222222222222,
              "#7201a8"
             ],
             [
              0.3333333333333333,
              "#9c179e"
             ],
             [
              0.4444444444444444,
              "#bd3786"
             ],
             [
              0.5555555555555556,
              "#d8576b"
             ],
             [
              0.6666666666666666,
              "#ed7953"
             ],
             [
              0.7777777777777778,
              "#fb9f3a"
             ],
             [
              0.8888888888888888,
              "#fdca26"
             ],
             [
              1,
              "#f0f921"
             ]
            ],
            "type": "heatmap"
           }
          ],
          "heatmapgl": [
           {
            "colorbar": {
             "outlinewidth": 0,
             "ticks": ""
            },
            "colorscale": [
             [
              0,
              "#0d0887"
             ],
             [
              0.1111111111111111,
              "#46039f"
             ],
             [
              0.2222222222222222,
              "#7201a8"
             ],
             [
              0.3333333333333333,
              "#9c179e"
             ],
             [
              0.4444444444444444,
              "#bd3786"
             ],
             [
              0.5555555555555556,
              "#d8576b"
             ],
             [
              0.6666666666666666,
              "#ed7953"
             ],
             [
              0.7777777777777778,
              "#fb9f3a"
             ],
             [
              0.8888888888888888,
              "#fdca26"
             ],
             [
              1,
              "#f0f921"
             ]
            ],
            "type": "heatmapgl"
           }
          ],
          "histogram": [
           {
            "marker": {
             "pattern": {
              "fillmode": "overlay",
              "size": 10,
              "solidity": 0.2
             }
            },
            "type": "histogram"
           }
          ],
          "histogram2d": [
           {
            "colorbar": {
             "outlinewidth": 0,
             "ticks": ""
            },
            "colorscale": [
             [
              0,
              "#0d0887"
             ],
             [
              0.1111111111111111,
              "#46039f"
             ],
             [
              0.2222222222222222,
              "#7201a8"
             ],
             [
              0.3333333333333333,
              "#9c179e"
             ],
             [
              0.4444444444444444,
              "#bd3786"
             ],
             [
              0.5555555555555556,
              "#d8576b"
             ],
             [
              0.6666666666666666,
              "#ed7953"
             ],
             [
              0.7777777777777778,
              "#fb9f3a"
             ],
             [
              0.8888888888888888,
              "#fdca26"
             ],
             [
              1,
              "#f0f921"
             ]
            ],
            "type": "histogram2d"
           }
          ],
          "histogram2dcontour": [
           {
            "colorbar": {
             "outlinewidth": 0,
             "ticks": ""
            },
            "colorscale": [
             [
              0,
              "#0d0887"
             ],
             [
              0.1111111111111111,
              "#46039f"
             ],
             [
              0.2222222222222222,
              "#7201a8"
             ],
             [
              0.3333333333333333,
              "#9c179e"
             ],
             [
              0.4444444444444444,
              "#bd3786"
             ],
             [
              0.5555555555555556,
              "#d8576b"
             ],
             [
              0.6666666666666666,
              "#ed7953"
             ],
             [
              0.7777777777777778,
              "#fb9f3a"
             ],
             [
              0.8888888888888888,
              "#fdca26"
             ],
             [
              1,
              "#f0f921"
             ]
            ],
            "type": "histogram2dcontour"
           }
          ],
          "mesh3d": [
           {
            "colorbar": {
             "outlinewidth": 0,
             "ticks": ""
            },
            "type": "mesh3d"
           }
          ],
          "parcoords": [
           {
            "line": {
             "colorbar": {
              "outlinewidth": 0,
              "ticks": ""
             }
            },
            "type": "parcoords"
           }
          ],
          "pie": [
           {
            "automargin": true,
            "type": "pie"
           }
          ],
          "scatter": [
           {
            "fillpattern": {
             "fillmode": "overlay",
             "size": 10,
             "solidity": 0.2
            },
            "type": "scatter"
           }
          ],
          "scatter3d": [
           {
            "line": {
             "colorbar": {
              "outlinewidth": 0,
              "ticks": ""
             }
            },
            "marker": {
             "colorbar": {
              "outlinewidth": 0,
              "ticks": ""
             }
            },
            "type": "scatter3d"
           }
          ],
          "scattercarpet": [
           {
            "marker": {
             "colorbar": {
              "outlinewidth": 0,
              "ticks": ""
             }
            },
            "type": "scattercarpet"
           }
          ],
          "scattergeo": [
           {
            "marker": {
             "colorbar": {
              "outlinewidth": 0,
              "ticks": ""
             }
            },
            "type": "scattergeo"
           }
          ],
          "scattergl": [
           {
            "marker": {
             "colorbar": {
              "outlinewidth": 0,
              "ticks": ""
             }
            },
            "type": "scattergl"
           }
          ],
          "scattermapbox": [
           {
            "marker": {
             "colorbar": {
              "outlinewidth": 0,
              "ticks": ""
             }
            },
            "type": "scattermapbox"
           }
          ],
          "scatterpolar": [
           {
            "marker": {
             "colorbar": {
              "outlinewidth": 0,
              "ticks": ""
             }
            },
            "type": "scatterpolar"
           }
          ],
          "scatterpolargl": [
           {
            "marker": {
             "colorbar": {
              "outlinewidth": 0,
              "ticks": ""
             }
            },
            "type": "scatterpolargl"
           }
          ],
          "scatterternary": [
           {
            "marker": {
             "colorbar": {
              "outlinewidth": 0,
              "ticks": ""
             }
            },
            "type": "scatterternary"
           }
          ],
          "surface": [
           {
            "colorbar": {
             "outlinewidth": 0,
             "ticks": ""
            },
            "colorscale": [
             [
              0,
              "#0d0887"
             ],
             [
              0.1111111111111111,
              "#46039f"
             ],
             [
              0.2222222222222222,
              "#7201a8"
             ],
             [
              0.3333333333333333,
              "#9c179e"
             ],
             [
              0.4444444444444444,
              "#bd3786"
             ],
             [
              0.5555555555555556,
              "#d8576b"
             ],
             [
              0.6666666666666666,
              "#ed7953"
             ],
             [
              0.7777777777777778,
              "#fb9f3a"
             ],
             [
              0.8888888888888888,
              "#fdca26"
             ],
             [
              1,
              "#f0f921"
             ]
            ],
            "type": "surface"
           }
          ],
          "table": [
           {
            "cells": {
             "fill": {
              "color": "#EBF0F8"
             },
             "line": {
              "color": "white"
             }
            },
            "header": {
             "fill": {
              "color": "#C8D4E3"
             },
             "line": {
              "color": "white"
             }
            },
            "type": "table"
           }
          ]
         },
         "layout": {
          "annotationdefaults": {
           "arrowcolor": "#2a3f5f",
           "arrowhead": 0,
           "arrowwidth": 1
          },
          "autotypenumbers": "strict",
          "coloraxis": {
           "colorbar": {
            "outlinewidth": 0,
            "ticks": ""
           }
          },
          "colorscale": {
           "diverging": [
            [
             0,
             "#8e0152"
            ],
            [
             0.1,
             "#c51b7d"
            ],
            [
             0.2,
             "#de77ae"
            ],
            [
             0.3,
             "#f1b6da"
            ],
            [
             0.4,
             "#fde0ef"
            ],
            [
             0.5,
             "#f7f7f7"
            ],
            [
             0.6,
             "#e6f5d0"
            ],
            [
             0.7,
             "#b8e186"
            ],
            [
             0.8,
             "#7fbc41"
            ],
            [
             0.9,
             "#4d9221"
            ],
            [
             1,
             "#276419"
            ]
           ],
           "sequential": [
            [
             0,
             "#0d0887"
            ],
            [
             0.1111111111111111,
             "#46039f"
            ],
            [
             0.2222222222222222,
             "#7201a8"
            ],
            [
             0.3333333333333333,
             "#9c179e"
            ],
            [
             0.4444444444444444,
             "#bd3786"
            ],
            [
             0.5555555555555556,
             "#d8576b"
            ],
            [
             0.6666666666666666,
             "#ed7953"
            ],
            [
             0.7777777777777778,
             "#fb9f3a"
            ],
            [
             0.8888888888888888,
             "#fdca26"
            ],
            [
             1,
             "#f0f921"
            ]
           ],
           "sequentialminus": [
            [
             0,
             "#0d0887"
            ],
            [
             0.1111111111111111,
             "#46039f"
            ],
            [
             0.2222222222222222,
             "#7201a8"
            ],
            [
             0.3333333333333333,
             "#9c179e"
            ],
            [
             0.4444444444444444,
             "#bd3786"
            ],
            [
             0.5555555555555556,
             "#d8576b"
            ],
            [
             0.6666666666666666,
             "#ed7953"
            ],
            [
             0.7777777777777778,
             "#fb9f3a"
            ],
            [
             0.8888888888888888,
             "#fdca26"
            ],
            [
             1,
             "#f0f921"
            ]
           ]
          },
          "colorway": [
           "#636efa",
           "#EF553B",
           "#00cc96",
           "#ab63fa",
           "#FFA15A",
           "#19d3f3",
           "#FF6692",
           "#B6E880",
           "#FF97FF",
           "#FECB52"
          ],
          "font": {
           "color": "#2a3f5f"
          },
          "geo": {
           "bgcolor": "white",
           "lakecolor": "white",
           "landcolor": "white",
           "showlakes": true,
           "showland": true,
           "subunitcolor": "#C8D4E3"
          },
          "hoverlabel": {
           "align": "left"
          },
          "hovermode": "closest",
          "mapbox": {
           "style": "light"
          },
          "paper_bgcolor": "white",
          "plot_bgcolor": "white",
          "polar": {
           "angularaxis": {
            "gridcolor": "#EBF0F8",
            "linecolor": "#EBF0F8",
            "ticks": ""
           },
           "bgcolor": "white",
           "radialaxis": {
            "gridcolor": "#EBF0F8",
            "linecolor": "#EBF0F8",
            "ticks": ""
           }
          },
          "scene": {
           "xaxis": {
            "backgroundcolor": "white",
            "gridcolor": "#DFE8F3",
            "gridwidth": 2,
            "linecolor": "#EBF0F8",
            "showbackground": true,
            "ticks": "",
            "zerolinecolor": "#EBF0F8"
           },
           "yaxis": {
            "backgroundcolor": "white",
            "gridcolor": "#DFE8F3",
            "gridwidth": 2,
            "linecolor": "#EBF0F8",
            "showbackground": true,
            "ticks": "",
            "zerolinecolor": "#EBF0F8"
           },
           "zaxis": {
            "backgroundcolor": "white",
            "gridcolor": "#DFE8F3",
            "gridwidth": 2,
            "linecolor": "#EBF0F8",
            "showbackground": true,
            "ticks": "",
            "zerolinecolor": "#EBF0F8"
           }
          },
          "shapedefaults": {
           "line": {
            "color": "#2a3f5f"
           }
          },
          "ternary": {
           "aaxis": {
            "gridcolor": "#DFE8F3",
            "linecolor": "#A2B1C6",
            "ticks": ""
           },
           "baxis": {
            "gridcolor": "#DFE8F3",
            "linecolor": "#A2B1C6",
            "ticks": ""
           },
           "bgcolor": "white",
           "caxis": {
            "gridcolor": "#DFE8F3",
            "linecolor": "#A2B1C6",
            "ticks": ""
           }
          },
          "title": {
           "x": 0.05
          },
          "xaxis": {
           "automargin": true,
           "gridcolor": "#EBF0F8",
           "linecolor": "#EBF0F8",
           "ticks": "",
           "title": {
            "standoff": 15
           },
           "zerolinecolor": "#EBF0F8",
           "zerolinewidth": 2
          },
          "yaxis": {
           "automargin": true,
           "gridcolor": "#EBF0F8",
           "linecolor": "#EBF0F8",
           "ticks": "",
           "title": {
            "standoff": 15
           },
           "zerolinecolor": "#EBF0F8",
           "zerolinewidth": 2
          }
         }
        },
        "title": {
         "font": {
          "color": "Black",
          "size": 22
         },
         "text": "<b>Hierarchical Clustering</b>",
         "x": 0.5,
         "xanchor": "center",
         "yanchor": "top"
        },
        "width": 1000,
        "xaxis": {
         "mirror": "allticks",
         "rangemode": "tozero",
         "showgrid": false,
         "showline": true,
         "showticklabels": true,
         "ticks": "outside",
         "type": "linear",
         "zeroline": false
        },
        "yaxis": {
         "mirror": "allticks",
         "range": [
          -250,
          0
         ],
         "rangemode": "tozero",
         "showgrid": false,
         "showline": true,
         "showticklabels": true,
         "tickmode": "array",
         "ticks": "outside",
         "ticktext": [
          "16_intercultural_exchange_c...",
          "10_telecollaboration_interc...",
          "23_mall_meta_oer",
          "1_call_research_sla",
          "2_data_corpus_driven",
          "7_multimodal_videoconferenc...",
          "9_online_language_learning",
          "0_technology_language_learn...",
          "4_mobile_learning_assisted",
          "14_flipped_classroom_flipping",
          "20_blended_learning_inquiry",
          "13_virtual_3d_reality",
          "19_virtual_exchange_presence",
          "17_social_media_networking",
          "8_game_games_digital",
          "21_storytelling_digital_story",
          "22_translation_machine_writ...",
          "3_writing_feedback_automated",
          "5_collaborative_writing_wiki",
          "24_chat_task_text",
          "15_oral_communication_media...",
          "6_pronunciation_speech_trai...",
          "12_comprehension_captions_l...",
          "11_vocabulary_gloss_glosses",
          "18_reading_strategies_compr..."
         ],
         "tickvals": [
          -5,
          -15,
          -25,
          -35,
          -45,
          -55,
          -65,
          -75,
          -85,
          -95,
          -105,
          -115,
          -125,
          -135,
          -145,
          -155,
          -165,
          -175,
          -185,
          -195,
          -205,
          -215,
          -225,
          -235,
          -245
         ],
         "type": "linear",
         "zeroline": false
        }
       }
      }
     },
     "metadata": {},
     "output_type": "display_data"
    }
   ],
   "source": [
    "hierarchical_topics = model.hierarchical_topics(docs)\n",
    "model.visualize_hierarchy(hierarchical_topics=hierarchical_topics)"
   ]
  },
  {
   "cell_type": "code",
   "execution_count": 34,
   "metadata": {},
   "outputs": [
    {
     "data": {
      "application/vnd.plotly.v1+json": {
       "config": {
        "plotlyServerURL": "https://plot.ly"
       },
       "data": [
        {
         "coloraxis": "coloraxis",
         "hovertemplate": "x: %{x}<br>y: %{y}<br>Similarity Score: %{z}<extra></extra>",
         "name": "0",
         "type": "heatmap",
         "x": [
          "0_technology_language_learn...",
          "1_call_research_sla",
          "2_data_corpus_driven",
          "3_writing_feedback_automated",
          "4_mobile_learning_assisted",
          "5_collaborative_writing_wiki",
          "6_pronunciation_speech_trai...",
          "7_multimodal_videoconferenc...",
          "8_game_games_digital",
          "9_online_language_learning",
          "10_telecollaboration_interc...",
          "11_vocabulary_gloss_glosses",
          "12_comprehension_captions_l...",
          "13_virtual_3d_reality",
          "14_flipped_classroom_flipping",
          "15_oral_communication_media...",
          "16_intercultural_exchange_c...",
          "17_social_media_networking",
          "18_reading_strategies_compr...",
          "19_virtual_exchange_presence",
          "20_blended_learning_inquiry",
          "21_storytelling_digital_story",
          "22_translation_machine_writ...",
          "23_mall_meta_oer",
          "24_chat_task_text"
         ],
         "xaxis": "x",
         "y": [
          "0_technology_language_learn...",
          "1_call_research_sla",
          "2_data_corpus_driven",
          "3_writing_feedback_automated",
          "4_mobile_learning_assisted",
          "5_collaborative_writing_wiki",
          "6_pronunciation_speech_trai...",
          "7_multimodal_videoconferenc...",
          "8_game_games_digital",
          "9_online_language_learning",
          "10_telecollaboration_interc...",
          "11_vocabulary_gloss_glosses",
          "12_comprehension_captions_l...",
          "13_virtual_3d_reality",
          "14_flipped_classroom_flipping",
          "15_oral_communication_media...",
          "16_intercultural_exchange_c...",
          "17_social_media_networking",
          "18_reading_strategies_compr...",
          "19_virtual_exchange_presence",
          "20_blended_learning_inquiry",
          "21_storytelling_digital_story",
          "22_translation_machine_writ...",
          "23_mall_meta_oer",
          "24_chat_task_text"
         ],
         "yaxis": "y",
         "z": [
          [
           1.000000238418579,
           0.6091344952583313,
           0.7360597848892212,
           0.6306506395339966,
           0.8144219517707825,
           0.6394146680831909,
           0.628694474697113,
           0.6897633075714111,
           0.6768507957458496,
           0.8291845321655273,
           0.6914768218994141,
           0.7152872085571289,
           0.6389353275299072,
           0.6674304008483887,
           0.6400200724601746,
           0.6731222867965698,
           0.6701806783676147,
           0.7127530574798584,
           0.6944678425788879,
           0.6779245734214783,
           0.6867728233337402,
           0.5766955614089966,
           0.585304856300354,
           0.5830056071281433,
           0.5782639980316162
          ],
          [
           0.6091344952583313,
           0.9999998807907104,
           0.5278462171554565,
           0.5096274614334106,
           0.5422581434249878,
           0.4850103259086609,
           0.545848548412323,
           0.5490169525146484,
           0.5112689733505249,
           0.5680723786354065,
           0.7065900564193726,
           0.5019755363464355,
           0.43206560611724854,
           0.46701085567474365,
           0.5287834405899048,
           0.597975492477417,
           0.5034316778182983,
           0.5010167360305786,
           0.4545864462852478,
           0.5429421067237854,
           0.45736753940582275,
           0.4774136543273926,
           0.4514312744140625,
           0.5113915205001831,
           0.556235134601593
          ],
          [
           0.7360597848892212,
           0.5278462171554565,
           1.0000001192092896,
           0.6702874302864075,
           0.6510740518569946,
           0.6355671286582947,
           0.6309643983840942,
           0.616814911365509,
           0.579006552696228,
           0.7563138008117676,
           0.5091025829315186,
           0.807542085647583,
           0.6653212308883667,
           0.5184904336929321,
           0.5761159658432007,
           0.5696930885314941,
           0.5416586399078369,
           0.5907057523727417,
           0.6990941762924194,
           0.488055557012558,
           0.600981593132019,
           0.47566044330596924,
           0.7139628529548645,
           0.4913449287414551,
           0.5403729677200317
          ],
          [
           0.6306506395339966,
           0.5096274614334106,
           0.6702874302864075,
           1.000000238418579,
           0.5527779459953308,
           0.8104945421218872,
           0.49877601861953735,
           0.5459892153739929,
           0.509490966796875,
           0.6433571577072144,
           0.46418654918670654,
           0.5927920341491699,
           0.5218271613121033,
           0.42452430725097656,
           0.599381685256958,
           0.5546128749847412,
           0.4770585894584656,
           0.5052790641784668,
           0.7149230241775513,
           0.5413113832473755,
           0.5568029284477234,
           0.602536678314209,
           0.7587825059890747,
           0.4104403853416443,
           0.6046128273010254
          ],
          [
           0.8144219517707825,
           0.5422581434249878,
           0.6510740518569946,
           0.5527779459953308,
           1,
           0.5557782649993896,
           0.6157345771789551,
           0.6451447010040283,
           0.6583859920501709,
           0.7487635612487793,
           0.5742437839508057,
           0.7276434898376465,
           0.6475784778594971,
           0.636715292930603,
           0.5852922201156616,
           0.655609130859375,
           0.5692049860954285,
           0.6664948463439941,
           0.6662995219230652,
           0.5573041439056396,
           0.6055477857589722,
           0.49645572900772095,
           0.5237728357315063,
           0.557945728302002,
           0.5705478191375732
          ],
          [
           0.6394146680831909,
           0.4850103259086609,
           0.6355671286582947,
           0.8104945421218872,
           0.5557782649993896,
           0.9999998211860657,
           0.4178254008293152,
           0.5628944635391235,
           0.5105610489845276,
           0.6517491340637207,
           0.5003126859664917,
           0.5484592914581299,
           0.44175732135772705,
           0.4072161614894867,
           0.49273449182510376,
           0.5350766181945801,
           0.5540886521339417,
           0.6393765807151794,
           0.6251314282417297,
           0.6061574220657349,
           0.5245484113693237,
           0.6310843229293823,
           0.6784454584121704,
           0.37970268726348877,
           0.6972312927246094
          ],
          [
           0.628694474697113,
           0.545848548412323,
           0.6309643983840942,
           0.49877601861953735,
           0.6157345771789551,
           0.4178254008293152,
           0.9999999403953552,
           0.6088587045669556,
           0.4992774724960327,
           0.5756217837333679,
           0.4437673091888428,
           0.6768441796302795,
           0.6784464120864868,
           0.4680924415588379,
           0.46028900146484375,
           0.7242562770843506,
           0.4654618501663208,
           0.4737563133239746,
           0.5318297743797302,
           0.3514513075351715,
           0.4391915202140808,
           0.36346614360809326,
           0.5267472863197327,
           0.4138639569282532,
           0.5643616914749146
          ],
          [
           0.6897633075714111,
           0.5490169525146484,
           0.616814911365509,
           0.5459892153739929,
           0.6451447010040283,
           0.5628944635391235,
           0.6088587045669556,
           0.9999998211860657,
           0.6391425132751465,
           0.7281333208084106,
           0.6301858425140381,
           0.5970789194107056,
           0.7596807479858398,
           0.7098201513290405,
           0.5313380360603333,
           0.7205390334129333,
           0.6531791090965271,
           0.6754661798477173,
           0.5827162861824036,
           0.6744648218154907,
           0.5732189416885376,
           0.6123780608177185,
           0.46106261014938354,
           0.4289504885673523,
           0.6717777252197266
          ],
          [
           0.6768507957458496,
           0.5112689733505249,
           0.579006552696228,
           0.509490966796875,
           0.6583859920501709,
           0.5105610489845276,
           0.4992774724960327,
           0.6391425132751465,
           1,
           0.6983374357223511,
           0.520737886428833,
           0.6062140464782715,
           0.5911595821380615,
           0.7262916564941406,
           0.4958418607711792,
           0.5847156047821045,
           0.6099157333374023,
           0.6157782077789307,
           0.5940690040588379,
           0.6121501922607422,
           0.5345665216445923,
           0.6459591388702393,
           0.46507352590560913,
           0.46595102548599243,
           0.5937007069587708
          ],
          [
           0.8291845321655273,
           0.5680723786354065,
           0.7563138008117676,
           0.6433571577072144,
           0.7487635612487793,
           0.6517491340637207,
           0.5756217837333679,
           0.7281333208084106,
           0.6983374357223511,
           1,
           0.6285519599914551,
           0.7035362124443054,
           0.6251979470252991,
           0.654802143573761,
           0.676883339881897,
           0.6262799501419067,
           0.7045261859893799,
           0.7611223459243774,
           0.7438167333602905,
           0.7437314391136169,
           0.7567684650421143,
           0.5870429277420044,
           0.5705960392951965,
           0.5437932014465332,
           0.6235430240631104
          ],
          [
           0.6914768218994141,
           0.7065900564193726,
           0.5091025829315186,
           0.46418654918670654,
           0.5742437839508057,
           0.5003126859664917,
           0.4437673091888428,
           0.6301858425140381,
           0.520737886428833,
           0.6285519599914551,
           1.000000238418579,
           0.4616595506668091,
           0.4639953672885895,
           0.5456395149230957,
           0.5461181402206421,
           0.5778459906578064,
           0.6927638053894043,
           0.618831992149353,
           0.4802432656288147,
           0.6364614367485046,
           0.5194317102432251,
           0.5446808338165283,
           0.4234713315963745,
           0.49480339884757996,
           0.5473454594612122
          ],
          [
           0.7152872085571289,
           0.5019755363464355,
           0.807542085647583,
           0.5927920341491699,
           0.7276434898376465,
           0.5484592914581299,
           0.6768441796302795,
           0.5970789194107056,
           0.6062140464782715,
           0.7035362124443054,
           0.4616595506668091,
           0.9999996423721313,
           0.7812860012054443,
           0.5653162002563477,
           0.5558890104293823,
           0.6092464923858643,
           0.4823017418384552,
           0.5437774658203125,
           0.7443745732307434,
           0.41189470887184143,
           0.5328391790390015,
           0.4616684317588806,
           0.6378358006477356,
           0.5253612995147705,
           0.5511666536331177
          ],
          [
           0.6389353275299072,
           0.43206560611724854,
           0.6653212308883667,
           0.5218271613121033,
           0.6475784778594971,
           0.44175732135772705,
           0.6784464120864868,
           0.7596807479858398,
           0.5911595821380615,
           0.6251979470252991,
           0.4639953672885895,
           0.7812860012054443,
           1.0000001192092896,
           0.6050858497619629,
           0.4937891960144043,
           0.6344907283782959,
           0.48507869243621826,
           0.5248423218727112,
           0.6739296317100525,
           0.4078410267829895,
           0.48390233516693115,
           0.5105746984481812,
           0.5543721318244934,
           0.4488549828529358,
           0.5844782590866089
          ],
          [
           0.6674304008483887,
           0.46701085567474365,
           0.5184904336929321,
           0.42452430725097656,
           0.636715292930603,
           0.4072161614894867,
           0.4680924415588379,
           0.7098201513290405,
           0.7262916564941406,
           0.654802143573761,
           0.5456395149230957,
           0.5653162002563477,
           0.6050858497619629,
           0.9999998807907104,
           0.5281802415847778,
           0.5811166763305664,
           0.5506153106689453,
           0.5275084376335144,
           0.5225273370742798,
           0.6582305431365967,
           0.5757383108139038,
           0.5817006230354309,
           0.3687596321105957,
           0.44710269570350647,
           0.46830087900161743
          ],
          [
           0.6400200724601746,
           0.5287834405899048,
           0.5761159658432007,
           0.599381685256958,
           0.5852922201156616,
           0.49273449182510376,
           0.46028900146484375,
           0.5313380360603333,
           0.4958418607711792,
           0.676883339881897,
           0.5461181402206421,
           0.5558890104293823,
           0.4937891960144043,
           0.5281802415847778,
           1,
           0.5395711660385132,
           0.5234366059303284,
           0.5235176086425781,
           0.5713745951652527,
           0.5563132762908936,
           0.6887075901031494,
           0.4769517779350281,
           0.49306756258010864,
           0.4861372709274292,
           0.4057685136795044
          ],
          [
           0.6731222867965698,
           0.597975492477417,
           0.5696930885314941,
           0.5546128749847412,
           0.655609130859375,
           0.5350766181945801,
           0.7242562770843506,
           0.7205390334129333,
           0.5847156047821045,
           0.6262799501419067,
           0.5778459906578064,
           0.6092464923858643,
           0.6344907283782959,
           0.5811166763305664,
           0.5395711660385132,
           1.0000001192092896,
           0.5976444482803345,
           0.60579514503479,
           0.544109046459198,
           0.5321760177612305,
           0.5018750429153442,
           0.4984451234340668,
           0.46492326259613037,
           0.4209710359573364,
           0.6938910484313965
          ],
          [
           0.6701806783676147,
           0.5034316778182983,
           0.5416586399078369,
           0.4770585894584656,
           0.5692049860954285,
           0.5540886521339417,
           0.4654618501663208,
           0.6531791090965271,
           0.6099157333374023,
           0.7045261859893799,
           0.6927638053894043,
           0.4823017418384552,
           0.48507869243621826,
           0.5506153106689453,
           0.5234366059303284,
           0.5976444482803345,
           0.9999998807907104,
           0.7165957093238831,
           0.527256429195404,
           0.6264253258705139,
           0.5721139907836914,
           0.5128161907196045,
           0.5284211039543152,
           0.40391993522644043,
           0.5978378057479858
          ],
          [
           0.7127530574798584,
           0.5010167360305786,
           0.5907057523727417,
           0.5052790641784668,
           0.6664948463439941,
           0.6393765807151794,
           0.4737563133239746,
           0.6754661798477173,
           0.6157782077789307,
           0.7611223459243774,
           0.618831992149353,
           0.5437774658203125,
           0.5248423218727112,
           0.5275084376335144,
           0.5235176086425781,
           0.60579514503479,
           0.7165957093238831,
           1.000000238418579,
           0.570931077003479,
           0.6594811677932739,
           0.5708370208740234,
           0.5327909588813782,
           0.4628288745880127,
           0.4367177486419678,
           0.646669328212738
          ],
          [
           0.6944678425788879,
           0.4545864462852478,
           0.6990941762924194,
           0.7149230241775513,
           0.6662995219230652,
           0.6251314282417297,
           0.5318297743797302,
           0.5827162861824036,
           0.5940690040588379,
           0.7438167333602905,
           0.4802432656288147,
           0.7443745732307434,
           0.6739296317100525,
           0.5225273370742798,
           0.5713745951652527,
           0.544109046459198,
           0.527256429195404,
           0.570931077003479,
           0.9999998211860657,
           0.5811258554458618,
           0.618126630783081,
           0.5453335046768188,
           0.5796630382537842,
           0.519004225730896,
           0.5568623542785645
          ],
          [
           0.6779245734214783,
           0.5429421067237854,
           0.488055557012558,
           0.5413113832473755,
           0.5573041439056396,
           0.6061574220657349,
           0.3514513075351715,
           0.6744648218154907,
           0.6121501922607422,
           0.7437314391136169,
           0.6364614367485046,
           0.41189470887184143,
           0.4078410267829895,
           0.6582305431365967,
           0.5563132762908936,
           0.5321760177612305,
           0.6264253258705139,
           0.6594811677932739,
           0.5811258554458618,
           1.0000001192092896,
           0.6942952871322632,
           0.6394901871681213,
           0.3481307625770569,
           0.504539430141449,
           0.5343902707099915
          ],
          [
           0.6867728233337402,
           0.45736753940582275,
           0.600981593132019,
           0.5568029284477234,
           0.6055477857589722,
           0.5245484113693237,
           0.4391915202140808,
           0.5732189416885376,
           0.5345665216445923,
           0.7567684650421143,
           0.5194317102432251,
           0.5328391790390015,
           0.48390233516693115,
           0.5757383108139038,
           0.6887075901031494,
           0.5018750429153442,
           0.5721139907836914,
           0.5708370208740234,
           0.618126630783081,
           0.6942952871322632,
           1,
           0.5470945835113525,
           0.47465288639068604,
           0.46115225553512573,
           0.4303787350654602
          ],
          [
           0.5766955614089966,
           0.4774136543273926,
           0.47566044330596924,
           0.602536678314209,
           0.49645572900772095,
           0.6310843229293823,
           0.36346614360809326,
           0.6123780608177185,
           0.6459591388702393,
           0.5870429277420044,
           0.5446808338165283,
           0.4616684317588806,
           0.5105746984481812,
           0.5817006230354309,
           0.4769517779350281,
           0.4984451234340668,
           0.5128161907196045,
           0.5327909588813782,
           0.5453335046768188,
           0.6394901871681213,
           0.5470945835113525,
           0.9999999403953552,
           0.4931071400642395,
           0.4392872154712677,
           0.5585949420928955
          ],
          [
           0.585304856300354,
           0.4514312744140625,
           0.7139628529548645,
           0.7587825059890747,
           0.5237728357315063,
           0.6784454584121704,
           0.5267472863197327,
           0.46106261014938354,
           0.46507352590560913,
           0.5705960392951965,
           0.4234713315963745,
           0.6378358006477356,
           0.5543721318244934,
           0.3687596321105957,
           0.49306756258010864,
           0.46492326259613037,
           0.5284211039543152,
           0.4628288745880127,
           0.5796630382537842,
           0.3481307625770569,
           0.47465288639068604,
           0.4931071400642395,
           1.000000238418579,
           0.35352441668510437,
           0.5638096332550049
          ],
          [
           0.5830056071281433,
           0.5113915205001831,
           0.4913449287414551,
           0.4104403853416443,
           0.557945728302002,
           0.37970268726348877,
           0.4138639569282532,
           0.4289504885673523,
           0.46595102548599243,
           0.5437932014465332,
           0.49480339884757996,
           0.5253612995147705,
           0.4488549828529358,
           0.44710269570350647,
           0.4861372709274292,
           0.4209710359573364,
           0.40391993522644043,
           0.4367177486419678,
           0.519004225730896,
           0.504539430141449,
           0.46115225553512573,
           0.4392872154712677,
           0.35352441668510437,
           0.9999998807907104,
           0.3972751498222351
          ],
          [
           0.5782639980316162,
           0.556235134601593,
           0.5403729677200317,
           0.6046128273010254,
           0.5705478191375732,
           0.6972312927246094,
           0.5643616914749146,
           0.6717777252197266,
           0.5937007069587708,
           0.6235430240631104,
           0.5473454594612122,
           0.5511666536331177,
           0.5844782590866089,
           0.46830087900161743,
           0.4057685136795044,
           0.6938910484313965,
           0.5978378057479858,
           0.646669328212738,
           0.5568623542785645,
           0.5343902707099915,
           0.4303787350654602,
           0.5585949420928955,
           0.5638096332550049,
           0.3972751498222351,
           1.0000001192092896
          ]
         ]
        }
       ],
       "layout": {
        "coloraxis": {
         "colorbar": {
          "title": {
           "text": "Similarity Score"
          }
         },
         "colorscale": [
          [
           0,
           "rgb(247,252,240)"
          ],
          [
           0.125,
           "rgb(224,243,219)"
          ],
          [
           0.25,
           "rgb(204,235,197)"
          ],
          [
           0.375,
           "rgb(168,221,181)"
          ],
          [
           0.5,
           "rgb(123,204,196)"
          ],
          [
           0.625,
           "rgb(78,179,211)"
          ],
          [
           0.75,
           "rgb(43,140,190)"
          ],
          [
           0.875,
           "rgb(8,104,172)"
          ],
          [
           1,
           "rgb(8,64,129)"
          ]
         ]
        },
        "height": 800,
        "hoverlabel": {
         "bgcolor": "white",
         "font": {
          "family": "Rockwell",
          "size": 16
         }
        },
        "legend": {
         "title": {
          "text": "Trend"
         }
        },
        "margin": {
         "t": 60
        },
        "showlegend": true,
        "template": {
         "data": {
          "bar": [
           {
            "error_x": {
             "color": "#2a3f5f"
            },
            "error_y": {
             "color": "#2a3f5f"
            },
            "marker": {
             "line": {
              "color": "#E5ECF6",
              "width": 0.5
             },
             "pattern": {
              "fillmode": "overlay",
              "size": 10,
              "solidity": 0.2
             }
            },
            "type": "bar"
           }
          ],
          "barpolar": [
           {
            "marker": {
             "line": {
              "color": "#E5ECF6",
              "width": 0.5
             },
             "pattern": {
              "fillmode": "overlay",
              "size": 10,
              "solidity": 0.2
             }
            },
            "type": "barpolar"
           }
          ],
          "carpet": [
           {
            "aaxis": {
             "endlinecolor": "#2a3f5f",
             "gridcolor": "white",
             "linecolor": "white",
             "minorgridcolor": "white",
             "startlinecolor": "#2a3f5f"
            },
            "baxis": {
             "endlinecolor": "#2a3f5f",
             "gridcolor": "white",
             "linecolor": "white",
             "minorgridcolor": "white",
             "startlinecolor": "#2a3f5f"
            },
            "type": "carpet"
           }
          ],
          "choropleth": [
           {
            "colorbar": {
             "outlinewidth": 0,
             "ticks": ""
            },
            "type": "choropleth"
           }
          ],
          "contour": [
           {
            "colorbar": {
             "outlinewidth": 0,
             "ticks": ""
            },
            "colorscale": [
             [
              0,
              "#0d0887"
             ],
             [
              0.1111111111111111,
              "#46039f"
             ],
             [
              0.2222222222222222,
              "#7201a8"
             ],
             [
              0.3333333333333333,
              "#9c179e"
             ],
             [
              0.4444444444444444,
              "#bd3786"
             ],
             [
              0.5555555555555556,
              "#d8576b"
             ],
             [
              0.6666666666666666,
              "#ed7953"
             ],
             [
              0.7777777777777778,
              "#fb9f3a"
             ],
             [
              0.8888888888888888,
              "#fdca26"
             ],
             [
              1,
              "#f0f921"
             ]
            ],
            "type": "contour"
           }
          ],
          "contourcarpet": [
           {
            "colorbar": {
             "outlinewidth": 0,
             "ticks": ""
            },
            "type": "contourcarpet"
           }
          ],
          "heatmap": [
           {
            "colorbar": {
             "outlinewidth": 0,
             "ticks": ""
            },
            "colorscale": [
             [
              0,
              "#0d0887"
             ],
             [
              0.1111111111111111,
              "#46039f"
             ],
             [
              0.2222222222222222,
              "#7201a8"
             ],
             [
              0.3333333333333333,
              "#9c179e"
             ],
             [
              0.4444444444444444,
              "#bd3786"
             ],
             [
              0.5555555555555556,
              "#d8576b"
             ],
             [
              0.6666666666666666,
              "#ed7953"
             ],
             [
              0.7777777777777778,
              "#fb9f3a"
             ],
             [
              0.8888888888888888,
              "#fdca26"
             ],
             [
              1,
              "#f0f921"
             ]
            ],
            "type": "heatmap"
           }
          ],
          "heatmapgl": [
           {
            "colorbar": {
             "outlinewidth": 0,
             "ticks": ""
            },
            "colorscale": [
             [
              0,
              "#0d0887"
             ],
             [
              0.1111111111111111,
              "#46039f"
             ],
             [
              0.2222222222222222,
              "#7201a8"
             ],
             [
              0.3333333333333333,
              "#9c179e"
             ],
             [
              0.4444444444444444,
              "#bd3786"
             ],
             [
              0.5555555555555556,
              "#d8576b"
             ],
             [
              0.6666666666666666,
              "#ed7953"
             ],
             [
              0.7777777777777778,
              "#fb9f3a"
             ],
             [
              0.8888888888888888,
              "#fdca26"
             ],
             [
              1,
              "#f0f921"
             ]
            ],
            "type": "heatmapgl"
           }
          ],
          "histogram": [
           {
            "marker": {
             "pattern": {
              "fillmode": "overlay",
              "size": 10,
              "solidity": 0.2
             }
            },
            "type": "histogram"
           }
          ],
          "histogram2d": [
           {
            "colorbar": {
             "outlinewidth": 0,
             "ticks": ""
            },
            "colorscale": [
             [
              0,
              "#0d0887"
             ],
             [
              0.1111111111111111,
              "#46039f"
             ],
             [
              0.2222222222222222,
              "#7201a8"
             ],
             [
              0.3333333333333333,
              "#9c179e"
             ],
             [
              0.4444444444444444,
              "#bd3786"
             ],
             [
              0.5555555555555556,
              "#d8576b"
             ],
             [
              0.6666666666666666,
              "#ed7953"
             ],
             [
              0.7777777777777778,
              "#fb9f3a"
             ],
             [
              0.8888888888888888,
              "#fdca26"
             ],
             [
              1,
              "#f0f921"
             ]
            ],
            "type": "histogram2d"
           }
          ],
          "histogram2dcontour": [
           {
            "colorbar": {
             "outlinewidth": 0,
             "ticks": ""
            },
            "colorscale": [
             [
              0,
              "#0d0887"
             ],
             [
              0.1111111111111111,
              "#46039f"
             ],
             [
              0.2222222222222222,
              "#7201a8"
             ],
             [
              0.3333333333333333,
              "#9c179e"
             ],
             [
              0.4444444444444444,
              "#bd3786"
             ],
             [
              0.5555555555555556,
              "#d8576b"
             ],
             [
              0.6666666666666666,
              "#ed7953"
             ],
             [
              0.7777777777777778,
              "#fb9f3a"
             ],
             [
              0.8888888888888888,
              "#fdca26"
             ],
             [
              1,
              "#f0f921"
             ]
            ],
            "type": "histogram2dcontour"
           }
          ],
          "mesh3d": [
           {
            "colorbar": {
             "outlinewidth": 0,
             "ticks": ""
            },
            "type": "mesh3d"
           }
          ],
          "parcoords": [
           {
            "line": {
             "colorbar": {
              "outlinewidth": 0,
              "ticks": ""
             }
            },
            "type": "parcoords"
           }
          ],
          "pie": [
           {
            "automargin": true,
            "type": "pie"
           }
          ],
          "scatter": [
           {
            "fillpattern": {
             "fillmode": "overlay",
             "size": 10,
             "solidity": 0.2
            },
            "type": "scatter"
           }
          ],
          "scatter3d": [
           {
            "line": {
             "colorbar": {
              "outlinewidth": 0,
              "ticks": ""
             }
            },
            "marker": {
             "colorbar": {
              "outlinewidth": 0,
              "ticks": ""
             }
            },
            "type": "scatter3d"
           }
          ],
          "scattercarpet": [
           {
            "marker": {
             "colorbar": {
              "outlinewidth": 0,
              "ticks": ""
             }
            },
            "type": "scattercarpet"
           }
          ],
          "scattergeo": [
           {
            "marker": {
             "colorbar": {
              "outlinewidth": 0,
              "ticks": ""
             }
            },
            "type": "scattergeo"
           }
          ],
          "scattergl": [
           {
            "marker": {
             "colorbar": {
              "outlinewidth": 0,
              "ticks": ""
             }
            },
            "type": "scattergl"
           }
          ],
          "scattermapbox": [
           {
            "marker": {
             "colorbar": {
              "outlinewidth": 0,
              "ticks": ""
             }
            },
            "type": "scattermapbox"
           }
          ],
          "scatterpolar": [
           {
            "marker": {
             "colorbar": {
              "outlinewidth": 0,
              "ticks": ""
             }
            },
            "type": "scatterpolar"
           }
          ],
          "scatterpolargl": [
           {
            "marker": {
             "colorbar": {
              "outlinewidth": 0,
              "ticks": ""
             }
            },
            "type": "scatterpolargl"
           }
          ],
          "scatterternary": [
           {
            "marker": {
             "colorbar": {
              "outlinewidth": 0,
              "ticks": ""
             }
            },
            "type": "scatterternary"
           }
          ],
          "surface": [
           {
            "colorbar": {
             "outlinewidth": 0,
             "ticks": ""
            },
            "colorscale": [
             [
              0,
              "#0d0887"
             ],
             [
              0.1111111111111111,
              "#46039f"
             ],
             [
              0.2222222222222222,
              "#7201a8"
             ],
             [
              0.3333333333333333,
              "#9c179e"
             ],
             [
              0.4444444444444444,
              "#bd3786"
             ],
             [
              0.5555555555555556,
              "#d8576b"
             ],
             [
              0.6666666666666666,
              "#ed7953"
             ],
             [
              0.7777777777777778,
              "#fb9f3a"
             ],
             [
              0.8888888888888888,
              "#fdca26"
             ],
             [
              1,
              "#f0f921"
             ]
            ],
            "type": "surface"
           }
          ],
          "table": [
           {
            "cells": {
             "fill": {
              "color": "#EBF0F8"
             },
             "line": {
              "color": "white"
             }
            },
            "header": {
             "fill": {
              "color": "#C8D4E3"
             },
             "line": {
              "color": "white"
             }
            },
            "type": "table"
           }
          ]
         },
         "layout": {
          "annotationdefaults": {
           "arrowcolor": "#2a3f5f",
           "arrowhead": 0,
           "arrowwidth": 1
          },
          "autotypenumbers": "strict",
          "coloraxis": {
           "colorbar": {
            "outlinewidth": 0,
            "ticks": ""
           }
          },
          "colorscale": {
           "diverging": [
            [
             0,
             "#8e0152"
            ],
            [
             0.1,
             "#c51b7d"
            ],
            [
             0.2,
             "#de77ae"
            ],
            [
             0.3,
             "#f1b6da"
            ],
            [
             0.4,
             "#fde0ef"
            ],
            [
             0.5,
             "#f7f7f7"
            ],
            [
             0.6,
             "#e6f5d0"
            ],
            [
             0.7,
             "#b8e186"
            ],
            [
             0.8,
             "#7fbc41"
            ],
            [
             0.9,
             "#4d9221"
            ],
            [
             1,
             "#276419"
            ]
           ],
           "sequential": [
            [
             0,
             "#0d0887"
            ],
            [
             0.1111111111111111,
             "#46039f"
            ],
            [
             0.2222222222222222,
             "#7201a8"
            ],
            [
             0.3333333333333333,
             "#9c179e"
            ],
            [
             0.4444444444444444,
             "#bd3786"
            ],
            [
             0.5555555555555556,
             "#d8576b"
            ],
            [
             0.6666666666666666,
             "#ed7953"
            ],
            [
             0.7777777777777778,
             "#fb9f3a"
            ],
            [
             0.8888888888888888,
             "#fdca26"
            ],
            [
             1,
             "#f0f921"
            ]
           ],
           "sequentialminus": [
            [
             0,
             "#0d0887"
            ],
            [
             0.1111111111111111,
             "#46039f"
            ],
            [
             0.2222222222222222,
             "#7201a8"
            ],
            [
             0.3333333333333333,
             "#9c179e"
            ],
            [
             0.4444444444444444,
             "#bd3786"
            ],
            [
             0.5555555555555556,
             "#d8576b"
            ],
            [
             0.6666666666666666,
             "#ed7953"
            ],
            [
             0.7777777777777778,
             "#fb9f3a"
            ],
            [
             0.8888888888888888,
             "#fdca26"
            ],
            [
             1,
             "#f0f921"
            ]
           ]
          },
          "colorway": [
           "#636efa",
           "#EF553B",
           "#00cc96",
           "#ab63fa",
           "#FFA15A",
           "#19d3f3",
           "#FF6692",
           "#B6E880",
           "#FF97FF",
           "#FECB52"
          ],
          "font": {
           "color": "#2a3f5f"
          },
          "geo": {
           "bgcolor": "white",
           "lakecolor": "white",
           "landcolor": "#E5ECF6",
           "showlakes": true,
           "showland": true,
           "subunitcolor": "white"
          },
          "hoverlabel": {
           "align": "left"
          },
          "hovermode": "closest",
          "mapbox": {
           "style": "light"
          },
          "paper_bgcolor": "white",
          "plot_bgcolor": "#E5ECF6",
          "polar": {
           "angularaxis": {
            "gridcolor": "white",
            "linecolor": "white",
            "ticks": ""
           },
           "bgcolor": "#E5ECF6",
           "radialaxis": {
            "gridcolor": "white",
            "linecolor": "white",
            "ticks": ""
           }
          },
          "scene": {
           "xaxis": {
            "backgroundcolor": "#E5ECF6",
            "gridcolor": "white",
            "gridwidth": 2,
            "linecolor": "white",
            "showbackground": true,
            "ticks": "",
            "zerolinecolor": "white"
           },
           "yaxis": {
            "backgroundcolor": "#E5ECF6",
            "gridcolor": "white",
            "gridwidth": 2,
            "linecolor": "white",
            "showbackground": true,
            "ticks": "",
            "zerolinecolor": "white"
           },
           "zaxis": {
            "backgroundcolor": "#E5ECF6",
            "gridcolor": "white",
            "gridwidth": 2,
            "linecolor": "white",
            "showbackground": true,
            "ticks": "",
            "zerolinecolor": "white"
           }
          },
          "shapedefaults": {
           "line": {
            "color": "#2a3f5f"
           }
          },
          "ternary": {
           "aaxis": {
            "gridcolor": "white",
            "linecolor": "white",
            "ticks": ""
           },
           "baxis": {
            "gridcolor": "white",
            "linecolor": "white",
            "ticks": ""
           },
           "bgcolor": "#E5ECF6",
           "caxis": {
            "gridcolor": "white",
            "linecolor": "white",
            "ticks": ""
           }
          },
          "title": {
           "x": 0.05
          },
          "xaxis": {
           "automargin": true,
           "gridcolor": "white",
           "linecolor": "white",
           "ticks": "",
           "title": {
            "standoff": 15
           },
           "zerolinecolor": "white",
           "zerolinewidth": 2
          },
          "yaxis": {
           "automargin": true,
           "gridcolor": "white",
           "linecolor": "white",
           "ticks": "",
           "title": {
            "standoff": 15
           },
           "zerolinecolor": "white",
           "zerolinewidth": 2
          }
         }
        },
        "title": {
         "font": {
          "color": "Black",
          "size": 22
         },
         "text": "<b>Similarity Matrix</b>",
         "x": 0.55,
         "xanchor": "center",
         "y": 0.95,
         "yanchor": "top"
        },
        "width": 800,
        "xaxis": {
         "anchor": "y",
         "constrain": "domain",
         "domain": [
          0,
          1
         ],
         "scaleanchor": "y"
        },
        "yaxis": {
         "anchor": "x",
         "autorange": "reversed",
         "constrain": "domain",
         "domain": [
          0,
          1
         ]
        }
       }
      }
     },
     "metadata": {},
     "output_type": "display_data"
    }
   ],
   "source": [
    "model.visualize_heatmap()"
   ]
  },
  {
   "cell_type": "code",
   "execution_count": 38,
   "metadata": {},
   "outputs": [
    {
     "data": {
      "application/vnd.plotly.v1+json": {
       "config": {
        "plotlyServerURL": "https://plot.ly"
       },
       "data": [
        {
         "hoverinfo": "text",
         "hovertext": [
          "<b>Topic 0</b><br>Words: tesol, building, education, skills, teacher",
          "<b>Topic 0</b><br>Words: technology, language, for, computers, iranian",
          "<b>Topic 0</b><br>Words: technology, language, projects, enhanced, foreign",
          "<b>Topic 0</b><br>Words: adolescents, runyakitara, urban, re, languages",
          "<b>Topic 0</b><br>Words: technology, language, technological, learning, technologies",
          "<b>Topic 0</b><br>Words: technology, survey, teachers, language, pedagogical",
          "<b>Topic 0</b><br>Words: technology, language, do, learning, assisted",
          "<b>Topic 0</b><br>Words: technology, language, educational, toward, english",
          "<b>Topic 0</b><br>Words: technology, language, enhanced, portugal, socioeconomic",
          "<b>Topic 0</b><br>Words: technology, language, learning, assisted, teachers",
          "<b>Topic 0</b><br>Words: technology, language, foreign, of, adoption",
          "<b>Topic 0</b><br>Words: signature, memes, defining, extended, ecological"
         ],
         "marker": {
          "color": "#E69F00"
         },
         "mode": "lines",
         "name": "0_technology_language_learning_teachers",
         "type": "scatter",
         "x": [
          2012,
          2013,
          2014,
          2015,
          2016,
          2017,
          2018,
          2019,
          2020,
          2021,
          2022,
          2023
         ],
         "y": [
          1,
          11,
          7,
          2,
          15,
          6,
          8,
          8,
          6,
          7,
          13,
          3
         ]
        },
        {
         "hoverinfo": "text",
         "hovertext": [
          "<b>Topic 1</b><br>Words: call, lomastv, whiteboards, constructivist, hegemonies",
          "<b>Topic 1</b><br>Words: call, tracking, sla, the, script",
          "<b>Topic 1</b><br>Words: call, sla, research, the, liou",
          "<b>Topic 1</b><br>Words: call, research, competencies, teacher, sla",
          "<b>Topic 1</b><br>Words: call, sla, from, research, the",
          "<b>Topic 1</b><br>Words: call, beliefs, design, possible, equitable",
          "<b>Topic 1</b><br>Words: call, 2003, reporting, needle, transparency",
          "<b>Topic 1</b><br>Words: call, research, unearthing, hidden, discussing",
          "<b>Topic 1</b><br>Words: now, where, we, are, call",
          "<b>Topic 1</b><br>Words: call, swedish, chatrooms, scripted, newly",
          "<b>Topic 1</b><br>Words: call, professional, teachers, images, spread",
          "<b>Topic 1</b><br>Words: replication, łodzikowski, exact, 2021, designs"
         ],
         "marker": {
          "color": "#56B4E9"
         },
         "mode": "lines",
         "name": "1_call_research_sla_the",
         "type": "scatter",
         "x": [
          2012,
          2013,
          2014,
          2015,
          2016,
          2017,
          2018,
          2019,
          2020,
          2021,
          2022,
          2023
         ],
         "y": [
          3,
          13,
          6,
          10,
          9,
          4,
          4,
          2,
          1,
          5,
          6,
          2
         ]
        },
        {
         "hoverinfo": "text",
         "hovertext": [
          "<b>Topic 2</b><br>Words: communicating, product, grammatically, exploiting, prototype",
          "<b>Topic 2</b><br>Words: databases, dealing, clause, linguistics, corpora",
          "<b>Topic 2</b><br>Words: data, driven, corpus, induction, examples",
          "<b>Topic 2</b><br>Words: corpus, dictionaries, collocations, concordancer, symmetrical",
          "<b>Topic 2</b><br>Words: driven, data, collocations, corpus, for",
          "<b>Topic 2</b><br>Words: corpus, data, driven, dictionaries, concordance",
          "<b>Topic 2</b><br>Words: unlearning, overgenerated, conditions, comprehend, be",
          "<b>Topic 2</b><br>Words: driven, corpus, data, readability, deductive",
          "<b>Topic 2</b><br>Words: below, ambiguity, tolerance, referencing, c1",
          "<b>Topic 2</b><br>Words: collocation, data, driven, identifying, query",
          "<b>Topic 2</b><br>Words: corpus, equity, emergency, peruvian, editable",
          "<b>Topic 2</b><br>Words: corpus, unpacking, integrate, survey, intention"
         ],
         "marker": {
          "color": "#009E73"
         },
         "mode": "lines",
         "name": "2_data_corpus_driven_collocation",
         "type": "scatter",
         "x": [
          2012,
          2013,
          2014,
          2015,
          2016,
          2017,
          2018,
          2019,
          2020,
          2021,
          2022,
          2023
         ],
         "y": [
          3,
          3,
          5,
          6,
          7,
          14,
          2,
          4,
          3,
          8,
          4,
          2
         ]
        },
        {
         "hoverinfo": "text",
         "hovertext": [
          "<b>Topic 3</b><br>Words: negative, situation, managing, written, synchronous",
          "<b>Topic 3</b><br>Words: feedback, writing, automated, essay, critiquing",
          "<b>Topic 3</b><br>Words: writing, pauses, better, automated, feedback",
          "<b>Topic 3</b><br>Words: writing, feedback, students, mistrust, expert",
          "<b>Topic 3</b><br>Words: feedback, writing, automated, corrective, evaluation",
          "<b>Topic 3</b><br>Words: writing, revisions, docs, editing, peer",
          "<b>Topic 3</b><br>Words: automated, feedback, glossed, turnitin, well",
          "<b>Topic 3</b><br>Words: writing, automated, feedback, apos, efl",
          "<b>Topic 3</b><br>Words: writing, feedback, automated, apos, sat",
          "<b>Topic 3</b><br>Words: writing, feedback, corrective, accuracy, course",
          "<b>Topic 3</b><br>Words: feedback, writing, automated, corrective, evaluation",
          "<b>Topic 3</b><br>Words: peer, writing, face, review, automated"
         ],
         "marker": {
          "color": "#F0E442"
         },
         "mode": "lines",
         "name": "3_writing_feedback_automated_corrective",
         "type": "scatter",
         "x": [
          2012,
          2013,
          2014,
          2015,
          2016,
          2017,
          2018,
          2019,
          2020,
          2021,
          2022,
          2023
         ],
         "y": [
          1,
          4,
          3,
          4,
          8,
          2,
          3,
          5,
          5,
          6,
          12,
          2
         ]
        },
        {
         "hoverinfo": "text",
         "hovertext": [
          "<b>Topic 4</b><br>Words: mobile, platform, learning, ballance, no",
          "<b>Topic 4</b><br>Words: mobile, learning, phones, assisted, usage",
          "<b>Topic 4</b><br>Words: mobile, impacting, smartphones, learning, familiar",
          "<b>Topic 4</b><br>Words: mobile, phone, japan, 2000, engaging",
          "<b>Topic 4</b><br>Words: mobile, bravely, conjugating, concept, verbs",
          "<b>Topic 4</b><br>Words: mobile, learning, smartphones, assessments, ubiquitous",
          "<b>Topic 4</b><br>Words: mobile, app, quot, designed, landscape",
          "<b>Topic 4</b><br>Words: mobile, learning, assisted, vocabulary, reactions",
          "<b>Topic 4</b><br>Words: mobile, assisted, settings, recall, theory",
          "<b>Topic 4</b><br>Words: mobile, class, learning, difference, older",
          "<b>Topic 4</b><br>Words: mobile, learning, english, using, assisted",
          "<b>Topic 4</b><br>Words: release, duolingo, public, early, mobile"
         ],
         "marker": {
          "color": "#D55E00"
         },
         "mode": "lines",
         "name": "4_mobile_learning_assisted_language",
         "type": "scatter",
         "x": [
          2012,
          2013,
          2014,
          2015,
          2016,
          2017,
          2018,
          2019,
          2020,
          2021,
          2022,
          2023
         ],
         "y": [
          3,
          10,
          4,
          2,
          3,
          5,
          4,
          6,
          2,
          4,
          8,
          1
         ]
        },
        {
         "hoverinfo": "text",
         "hovertext": [
          "<b>Topic 5</b><br>Words: wikis, collaborative, cooperation, audience, writing",
          "<b>Topic 5</b><br>Words: wikis, collaborative, wiki, writing, piazza",
          "<b>Topic 5</b><br>Words: collaborative, wikis, writing, exploring, dialogues",
          "<b>Topic 5</b><br>Words: socialization, praxis, wikipedia, writing, active",
          "<b>Topic 5</b><br>Words: writing, collaborative, l2, wiki, written",
          "<b>Topic 5</b><br>Words: collaborative, writing, wiki, activities, l2",
          "<b>Topic 5</b><br>Words: collaborative, writing, mediated, wiki, indirect",
          "<b>Topic 5</b><br>Words: wiki, collaborative, writing, circles, regulation",
          "<b>Topic 5</b><br>Words: writing, collaborative, face, ba, thesis",
          "<b>Topic 5</b><br>Words: collaborative, writing, process, graph, keystroke",
          "<b>Topic 5</b><br>Words: writing, collaborative, regulation, mediated, wiki",
          "<b>Topic 5</b><br>Words: multiple, analyses, sources, published, 2015"
         ],
         "marker": {
          "color": "#0072B2"
         },
         "mode": "lines",
         "name": "5_collaborative_writing_wiki_mediated",
         "type": "scatter",
         "x": [
          2012,
          2013,
          2014,
          2015,
          2016,
          2017,
          2018,
          2019,
          2020,
          2021,
          2022,
          2023
         ],
         "y": [
          4,
          5,
          4,
          2,
          7,
          7,
          3,
          4,
          3,
          3,
          7,
          1
         ]
        },
        {
         "hoverinfo": "text",
         "hovertext": [
          "<b>Topic 6</b><br>Words: pronunciation, stroke, memorization, animation, flashcards",
          "<b>Topic 6</b><br>Words: selection, mispronunciation, unsupervised, accented, efficient",
          "<b>Topic 6</b><br>Words: acoustic, implication, pronunciation, spectrographic, tongue",
          "<b>Topic 6</b><br>Words: speech, pronunciation, recognition, word, japanese",
          "<b>Topic 6</b><br>Words: pronunciation, training, instruction, duration, vowel",
          "<b>Topic 6</b><br>Words: wrs, speech, pronunciation, word, mispronounced",
          "<b>Topic 6</b><br>Words: pronunciation, fossilised, podcast, dictation, asr",
          "<b>Topic 6</b><br>Words: pronunciation, assistants, intelligent, personal, instruction",
          "<b>Topic 6</b><br>Words: phonological, allophonic, transcription, association, awareness",
          "<b>Topic 6</b><br>Words: pronunciation, input, speech, recognition, quot",
          "<b>Topic 6</b><br>Words: automatic, speech, pronunciation, recognition, ed"
         ],
         "marker": {
          "color": "#CC79A7"
         },
         "mode": "lines",
         "name": "6_pronunciation_speech_training_recognit...",
         "type": "scatter",
         "x": [
          2012,
          2013,
          2014,
          2015,
          2016,
          2017,
          2019,
          2020,
          2021,
          2022,
          2023
         ],
         "y": [
          4,
          2,
          2,
          5,
          5,
          3,
          3,
          7,
          2,
          7,
          4
         ]
        },
        {
         "hoverinfo": "text",
         "hovertext": [
          "<b>Topic 7</b><br>Words: native, video, multimodal, remixing, videoconferencing",
          "<b>Topic 7</b><br>Words: conferencing, multimodal, interactions, synchronous, videoconferencing",
          "<b>Topic 7</b><br>Words: conferencing, experimental, during, video, corrective",
          "<b>Topic 7</b><br>Words: multimodality, sustaining, intersection, subversion, multimodal",
          "<b>Topic 7</b><br>Words: multimodal, challenges, videoconferencing, conferencing, video",
          "<b>Topic 7</b><br>Words: multimodal, transcribing, webcam, sharing, agency",
          "<b>Topic 7</b><br>Words: multimodal, video, embedded, eil, statistically",
          "<b>Topic 7</b><br>Words: provision, regional, rural, networked, videoconferencing",
          "<b>Topic 7</b><br>Words: mediating, verbal, videoconferencing, ensemble, multimodal",
          "<b>Topic 7</b><br>Words: videoconferencing, multimodal, via, instructions, inter",
          "<b>Topic 7</b><br>Words: eye, tracking, unknown, webconference, peers",
          "<b>Topic 7</b><br>Words: multimodal, first, videoconferencing, peer, video"
         ],
         "marker": {
          "color": "#E69F00"
         },
         "mode": "lines",
         "name": "7_multimodal_videoconferencing_video_con...",
         "type": "scatter",
         "x": [
          2012,
          2013,
          2014,
          2015,
          2016,
          2017,
          2018,
          2019,
          2020,
          2021,
          2022,
          2023
         ],
         "y": [
          4,
          5,
          1,
          2,
          5,
          3,
          4,
          2,
          3,
          5,
          4,
          5
         ]
        },
        {
         "hoverinfo": "text",
         "hovertext": [
          "<b>Topic 8</b><br>Words: game, playing, world, warcraft, games",
          "<b>Topic 8</b><br>Words: play, learn, gaming, culture, to",
          "<b>Topic 8</b><br>Words: game, digital, games, gaming, something",
          "<b>Topic 8</b><br>Words: used, game, massively, multiplayer, games",
          "<b>Topic 8</b><br>Words: game, games, meets, simulation, skilled",
          "<b>Topic 8</b><br>Words: game, gaming, digital, encouraging, brain",
          "<b>Topic 8</b><br>Words: game, rats, activate, upper, gaming",
          "<b>Topic 8</b><br>Words: games, game, digital, multiplayer, massively",
          "<b>Topic 8</b><br>Words: game, digital, games, play, scenario",
          "<b>Topic 8</b><br>Words: game, gamers, guerrilla, catalan, fan",
          "<b>Topic 8</b><br>Words: game, digital, dgbll, discriminant, mechanics",
          "<b>Topic 8</b><br>Words: game, phrasal, verbs, massively, multiplayer"
         ],
         "marker": {
          "color": "#56B4E9"
         },
         "mode": "lines",
         "name": "8_game_games_digital_playing",
         "type": "scatter",
         "x": [
          2012,
          2013,
          2014,
          2015,
          2016,
          2017,
          2018,
          2019,
          2020,
          2021,
          2022,
          2023
         ],
         "y": [
          7,
          1,
          4,
          2,
          3,
          5,
          2,
          4,
          4,
          4,
          3,
          2
         ]
        },
        {
         "hoverinfo": "text",
         "hovertext": [
          "<b>Topic 9</b><br>Words: online, challenging, subject, required, other",
          "<b>Topic 9</b><br>Words: emic, complex, informal, understanding, dynamic",
          "<b>Topic 9</b><br>Words: quot, interaktiv, purposing, welle, deutsch",
          "<b>Topic 9</b><br>Words: face, candidate, delivery, thinking, second",
          "<b>Topic 9</b><br>Words: online, webconferencing, achieving, labeling, fully",
          "<b>Topic 9</b><br>Words: guide, task, teaching, teachers, online",
          "<b>Topic 9</b><br>Words: online, analytics, student, courses, engagement",
          "<b>Topic 9</b><br>Words: wilds, riding, bronies, wild, digital",
          "<b>Topic 9</b><br>Words: vision, languages, making, professional, teaching",
          "<b>Topic 9</b><br>Words: quality, online, mooc, retention, factors",
          "<b>Topic 9</b><br>Words: online, moocs, 2018, collective, semi",
          "<b>Topic 9</b><br>Words: theorizing, multiperspectivist, geosemiotics, gray, mobiles"
         ],
         "marker": {
          "color": "#009E73"
         },
         "mode": "lines",
         "name": "9_online_language_learning_moocs",
         "type": "scatter",
         "x": [
          2012,
          2013,
          2014,
          2015,
          2016,
          2017,
          2018,
          2019,
          2020,
          2021,
          2022,
          2023
         ],
         "y": [
          5,
          1,
          2,
          2,
          5,
          1,
          6,
          2,
          1,
          6,
          5,
          3
         ]
        }
       ],
       "layout": {
        "height": 450,
        "hoverlabel": {
         "bgcolor": "white",
         "font": {
          "family": "Rockwell",
          "size": 16
         }
        },
        "legend": {
         "title": {
          "text": "<b>Global Topic Representation"
         }
        },
        "template": {
         "data": {
          "bar": [
           {
            "error_x": {
             "color": "rgb(36,36,36)"
            },
            "error_y": {
             "color": "rgb(36,36,36)"
            },
            "marker": {
             "line": {
              "color": "white",
              "width": 0.5
             },
             "pattern": {
              "fillmode": "overlay",
              "size": 10,
              "solidity": 0.2
             }
            },
            "type": "bar"
           }
          ],
          "barpolar": [
           {
            "marker": {
             "line": {
              "color": "white",
              "width": 0.5
             },
             "pattern": {
              "fillmode": "overlay",
              "size": 10,
              "solidity": 0.2
             }
            },
            "type": "barpolar"
           }
          ],
          "carpet": [
           {
            "aaxis": {
             "endlinecolor": "rgb(36,36,36)",
             "gridcolor": "white",
             "linecolor": "white",
             "minorgridcolor": "white",
             "startlinecolor": "rgb(36,36,36)"
            },
            "baxis": {
             "endlinecolor": "rgb(36,36,36)",
             "gridcolor": "white",
             "linecolor": "white",
             "minorgridcolor": "white",
             "startlinecolor": "rgb(36,36,36)"
            },
            "type": "carpet"
           }
          ],
          "choropleth": [
           {
            "colorbar": {
             "outlinewidth": 1,
             "tickcolor": "rgb(36,36,36)",
             "ticks": "outside"
            },
            "type": "choropleth"
           }
          ],
          "contour": [
           {
            "colorbar": {
             "outlinewidth": 1,
             "tickcolor": "rgb(36,36,36)",
             "ticks": "outside"
            },
            "colorscale": [
             [
              0,
              "#440154"
             ],
             [
              0.1111111111111111,
              "#482878"
             ],
             [
              0.2222222222222222,
              "#3e4989"
             ],
             [
              0.3333333333333333,
              "#31688e"
             ],
             [
              0.4444444444444444,
              "#26828e"
             ],
             [
              0.5555555555555556,
              "#1f9e89"
             ],
             [
              0.6666666666666666,
              "#35b779"
             ],
             [
              0.7777777777777778,
              "#6ece58"
             ],
             [
              0.8888888888888888,
              "#b5de2b"
             ],
             [
              1,
              "#fde725"
             ]
            ],
            "type": "contour"
           }
          ],
          "contourcarpet": [
           {
            "colorbar": {
             "outlinewidth": 1,
             "tickcolor": "rgb(36,36,36)",
             "ticks": "outside"
            },
            "type": "contourcarpet"
           }
          ],
          "heatmap": [
           {
            "colorbar": {
             "outlinewidth": 1,
             "tickcolor": "rgb(36,36,36)",
             "ticks": "outside"
            },
            "colorscale": [
             [
              0,
              "#440154"
             ],
             [
              0.1111111111111111,
              "#482878"
             ],
             [
              0.2222222222222222,
              "#3e4989"
             ],
             [
              0.3333333333333333,
              "#31688e"
             ],
             [
              0.4444444444444444,
              "#26828e"
             ],
             [
              0.5555555555555556,
              "#1f9e89"
             ],
             [
              0.6666666666666666,
              "#35b779"
             ],
             [
              0.7777777777777778,
              "#6ece58"
             ],
             [
              0.8888888888888888,
              "#b5de2b"
             ],
             [
              1,
              "#fde725"
             ]
            ],
            "type": "heatmap"
           }
          ],
          "heatmapgl": [
           {
            "colorbar": {
             "outlinewidth": 1,
             "tickcolor": "rgb(36,36,36)",
             "ticks": "outside"
            },
            "colorscale": [
             [
              0,
              "#440154"
             ],
             [
              0.1111111111111111,
              "#482878"
             ],
             [
              0.2222222222222222,
              "#3e4989"
             ],
             [
              0.3333333333333333,
              "#31688e"
             ],
             [
              0.4444444444444444,
              "#26828e"
             ],
             [
              0.5555555555555556,
              "#1f9e89"
             ],
             [
              0.6666666666666666,
              "#35b779"
             ],
             [
              0.7777777777777778,
              "#6ece58"
             ],
             [
              0.8888888888888888,
              "#b5de2b"
             ],
             [
              1,
              "#fde725"
             ]
            ],
            "type": "heatmapgl"
           }
          ],
          "histogram": [
           {
            "marker": {
             "line": {
              "color": "white",
              "width": 0.6
             }
            },
            "type": "histogram"
           }
          ],
          "histogram2d": [
           {
            "colorbar": {
             "outlinewidth": 1,
             "tickcolor": "rgb(36,36,36)",
             "ticks": "outside"
            },
            "colorscale": [
             [
              0,
              "#440154"
             ],
             [
              0.1111111111111111,
              "#482878"
             ],
             [
              0.2222222222222222,
              "#3e4989"
             ],
             [
              0.3333333333333333,
              "#31688e"
             ],
             [
              0.4444444444444444,
              "#26828e"
             ],
             [
              0.5555555555555556,
              "#1f9e89"
             ],
             [
              0.6666666666666666,
              "#35b779"
             ],
             [
              0.7777777777777778,
              "#6ece58"
             ],
             [
              0.8888888888888888,
              "#b5de2b"
             ],
             [
              1,
              "#fde725"
             ]
            ],
            "type": "histogram2d"
           }
          ],
          "histogram2dcontour": [
           {
            "colorbar": {
             "outlinewidth": 1,
             "tickcolor": "rgb(36,36,36)",
             "ticks": "outside"
            },
            "colorscale": [
             [
              0,
              "#440154"
             ],
             [
              0.1111111111111111,
              "#482878"
             ],
             [
              0.2222222222222222,
              "#3e4989"
             ],
             [
              0.3333333333333333,
              "#31688e"
             ],
             [
              0.4444444444444444,
              "#26828e"
             ],
             [
              0.5555555555555556,
              "#1f9e89"
             ],
             [
              0.6666666666666666,
              "#35b779"
             ],
             [
              0.7777777777777778,
              "#6ece58"
             ],
             [
              0.8888888888888888,
              "#b5de2b"
             ],
             [
              1,
              "#fde725"
             ]
            ],
            "type": "histogram2dcontour"
           }
          ],
          "mesh3d": [
           {
            "colorbar": {
             "outlinewidth": 1,
             "tickcolor": "rgb(36,36,36)",
             "ticks": "outside"
            },
            "type": "mesh3d"
           }
          ],
          "parcoords": [
           {
            "line": {
             "colorbar": {
              "outlinewidth": 1,
              "tickcolor": "rgb(36,36,36)",
              "ticks": "outside"
             }
            },
            "type": "parcoords"
           }
          ],
          "pie": [
           {
            "automargin": true,
            "type": "pie"
           }
          ],
          "scatter": [
           {
            "fillpattern": {
             "fillmode": "overlay",
             "size": 10,
             "solidity": 0.2
            },
            "type": "scatter"
           }
          ],
          "scatter3d": [
           {
            "line": {
             "colorbar": {
              "outlinewidth": 1,
              "tickcolor": "rgb(36,36,36)",
              "ticks": "outside"
             }
            },
            "marker": {
             "colorbar": {
              "outlinewidth": 1,
              "tickcolor": "rgb(36,36,36)",
              "ticks": "outside"
             }
            },
            "type": "scatter3d"
           }
          ],
          "scattercarpet": [
           {
            "marker": {
             "colorbar": {
              "outlinewidth": 1,
              "tickcolor": "rgb(36,36,36)",
              "ticks": "outside"
             }
            },
            "type": "scattercarpet"
           }
          ],
          "scattergeo": [
           {
            "marker": {
             "colorbar": {
              "outlinewidth": 1,
              "tickcolor": "rgb(36,36,36)",
              "ticks": "outside"
             }
            },
            "type": "scattergeo"
           }
          ],
          "scattergl": [
           {
            "marker": {
             "colorbar": {
              "outlinewidth": 1,
              "tickcolor": "rgb(36,36,36)",
              "ticks": "outside"
             }
            },
            "type": "scattergl"
           }
          ],
          "scattermapbox": [
           {
            "marker": {
             "colorbar": {
              "outlinewidth": 1,
              "tickcolor": "rgb(36,36,36)",
              "ticks": "outside"
             }
            },
            "type": "scattermapbox"
           }
          ],
          "scatterpolar": [
           {
            "marker": {
             "colorbar": {
              "outlinewidth": 1,
              "tickcolor": "rgb(36,36,36)",
              "ticks": "outside"
             }
            },
            "type": "scatterpolar"
           }
          ],
          "scatterpolargl": [
           {
            "marker": {
             "colorbar": {
              "outlinewidth": 1,
              "tickcolor": "rgb(36,36,36)",
              "ticks": "outside"
             }
            },
            "type": "scatterpolargl"
           }
          ],
          "scatterternary": [
           {
            "marker": {
             "colorbar": {
              "outlinewidth": 1,
              "tickcolor": "rgb(36,36,36)",
              "ticks": "outside"
             }
            },
            "type": "scatterternary"
           }
          ],
          "surface": [
           {
            "colorbar": {
             "outlinewidth": 1,
             "tickcolor": "rgb(36,36,36)",
             "ticks": "outside"
            },
            "colorscale": [
             [
              0,
              "#440154"
             ],
             [
              0.1111111111111111,
              "#482878"
             ],
             [
              0.2222222222222222,
              "#3e4989"
             ],
             [
              0.3333333333333333,
              "#31688e"
             ],
             [
              0.4444444444444444,
              "#26828e"
             ],
             [
              0.5555555555555556,
              "#1f9e89"
             ],
             [
              0.6666666666666666,
              "#35b779"
             ],
             [
              0.7777777777777778,
              "#6ece58"
             ],
             [
              0.8888888888888888,
              "#b5de2b"
             ],
             [
              1,
              "#fde725"
             ]
            ],
            "type": "surface"
           }
          ],
          "table": [
           {
            "cells": {
             "fill": {
              "color": "rgb(237,237,237)"
             },
             "line": {
              "color": "white"
             }
            },
            "header": {
             "fill": {
              "color": "rgb(217,217,217)"
             },
             "line": {
              "color": "white"
             }
            },
            "type": "table"
           }
          ]
         },
         "layout": {
          "annotationdefaults": {
           "arrowhead": 0,
           "arrowwidth": 1
          },
          "autotypenumbers": "strict",
          "coloraxis": {
           "colorbar": {
            "outlinewidth": 1,
            "tickcolor": "rgb(36,36,36)",
            "ticks": "outside"
           }
          },
          "colorscale": {
           "diverging": [
            [
             0,
             "rgb(103,0,31)"
            ],
            [
             0.1,
             "rgb(178,24,43)"
            ],
            [
             0.2,
             "rgb(214,96,77)"
            ],
            [
             0.3,
             "rgb(244,165,130)"
            ],
            [
             0.4,
             "rgb(253,219,199)"
            ],
            [
             0.5,
             "rgb(247,247,247)"
            ],
            [
             0.6,
             "rgb(209,229,240)"
            ],
            [
             0.7,
             "rgb(146,197,222)"
            ],
            [
             0.8,
             "rgb(67,147,195)"
            ],
            [
             0.9,
             "rgb(33,102,172)"
            ],
            [
             1,
             "rgb(5,48,97)"
            ]
           ],
           "sequential": [
            [
             0,
             "#440154"
            ],
            [
             0.1111111111111111,
             "#482878"
            ],
            [
             0.2222222222222222,
             "#3e4989"
            ],
            [
             0.3333333333333333,
             "#31688e"
            ],
            [
             0.4444444444444444,
             "#26828e"
            ],
            [
             0.5555555555555556,
             "#1f9e89"
            ],
            [
             0.6666666666666666,
             "#35b779"
            ],
            [
             0.7777777777777778,
             "#6ece58"
            ],
            [
             0.8888888888888888,
             "#b5de2b"
            ],
            [
             1,
             "#fde725"
            ]
           ],
           "sequentialminus": [
            [
             0,
             "#440154"
            ],
            [
             0.1111111111111111,
             "#482878"
            ],
            [
             0.2222222222222222,
             "#3e4989"
            ],
            [
             0.3333333333333333,
             "#31688e"
            ],
            [
             0.4444444444444444,
             "#26828e"
            ],
            [
             0.5555555555555556,
             "#1f9e89"
            ],
            [
             0.6666666666666666,
             "#35b779"
            ],
            [
             0.7777777777777778,
             "#6ece58"
            ],
            [
             0.8888888888888888,
             "#b5de2b"
            ],
            [
             1,
             "#fde725"
            ]
           ]
          },
          "colorway": [
           "#1F77B4",
           "#FF7F0E",
           "#2CA02C",
           "#D62728",
           "#9467BD",
           "#8C564B",
           "#E377C2",
           "#7F7F7F",
           "#BCBD22",
           "#17BECF"
          ],
          "font": {
           "color": "rgb(36,36,36)"
          },
          "geo": {
           "bgcolor": "white",
           "lakecolor": "white",
           "landcolor": "white",
           "showlakes": true,
           "showland": true,
           "subunitcolor": "white"
          },
          "hoverlabel": {
           "align": "left"
          },
          "hovermode": "closest",
          "mapbox": {
           "style": "light"
          },
          "paper_bgcolor": "white",
          "plot_bgcolor": "white",
          "polar": {
           "angularaxis": {
            "gridcolor": "rgb(232,232,232)",
            "linecolor": "rgb(36,36,36)",
            "showgrid": false,
            "showline": true,
            "ticks": "outside"
           },
           "bgcolor": "white",
           "radialaxis": {
            "gridcolor": "rgb(232,232,232)",
            "linecolor": "rgb(36,36,36)",
            "showgrid": false,
            "showline": true,
            "ticks": "outside"
           }
          },
          "scene": {
           "xaxis": {
            "backgroundcolor": "white",
            "gridcolor": "rgb(232,232,232)",
            "gridwidth": 2,
            "linecolor": "rgb(36,36,36)",
            "showbackground": true,
            "showgrid": false,
            "showline": true,
            "ticks": "outside",
            "zeroline": false,
            "zerolinecolor": "rgb(36,36,36)"
           },
           "yaxis": {
            "backgroundcolor": "white",
            "gridcolor": "rgb(232,232,232)",
            "gridwidth": 2,
            "linecolor": "rgb(36,36,36)",
            "showbackground": true,
            "showgrid": false,
            "showline": true,
            "ticks": "outside",
            "zeroline": false,
            "zerolinecolor": "rgb(36,36,36)"
           },
           "zaxis": {
            "backgroundcolor": "white",
            "gridcolor": "rgb(232,232,232)",
            "gridwidth": 2,
            "linecolor": "rgb(36,36,36)",
            "showbackground": true,
            "showgrid": false,
            "showline": true,
            "ticks": "outside",
            "zeroline": false,
            "zerolinecolor": "rgb(36,36,36)"
           }
          },
          "shapedefaults": {
           "fillcolor": "black",
           "line": {
            "width": 0
           },
           "opacity": 0.3
          },
          "ternary": {
           "aaxis": {
            "gridcolor": "rgb(232,232,232)",
            "linecolor": "rgb(36,36,36)",
            "showgrid": false,
            "showline": true,
            "ticks": "outside"
           },
           "baxis": {
            "gridcolor": "rgb(232,232,232)",
            "linecolor": "rgb(36,36,36)",
            "showgrid": false,
            "showline": true,
            "ticks": "outside"
           },
           "bgcolor": "white",
           "caxis": {
            "gridcolor": "rgb(232,232,232)",
            "linecolor": "rgb(36,36,36)",
            "showgrid": false,
            "showline": true,
            "ticks": "outside"
           }
          },
          "title": {
           "x": 0.05
          },
          "xaxis": {
           "automargin": true,
           "gridcolor": "rgb(232,232,232)",
           "linecolor": "rgb(36,36,36)",
           "showgrid": false,
           "showline": true,
           "ticks": "outside",
           "title": {
            "standoff": 15
           },
           "zeroline": false,
           "zerolinecolor": "rgb(36,36,36)"
          },
          "yaxis": {
           "automargin": true,
           "gridcolor": "rgb(232,232,232)",
           "linecolor": "rgb(36,36,36)",
           "showgrid": false,
           "showline": true,
           "ticks": "outside",
           "title": {
            "standoff": 15
           },
           "zeroline": false,
           "zerolinecolor": "rgb(36,36,36)"
          }
         }
        },
        "title": {
         "font": {
          "color": "Black",
          "size": 22
         },
         "text": "<b>Topics over Time</b>",
         "x": 0.4,
         "xanchor": "center",
         "y": 0.95,
         "yanchor": "top"
        },
        "width": 1250,
        "xaxis": {
         "showgrid": true
        },
        "yaxis": {
         "showgrid": true,
         "title": {
          "text": "Frequency"
         }
        }
       }
      }
     },
     "metadata": {},
     "output_type": "display_data"
    }
   ],
   "source": [
    "model.visualize_topics_over_time(topics_over_time, topics=[0, 1, 2, 3, 4, 5, 6, 7, 8, 9])\n",
    "#can innclude topics changing topics_over_time TO topics_over_time, topics=[x, y, z, etc.]"
   ]
  },
  {
   "cell_type": "code",
   "execution_count": 39,
   "metadata": {},
   "outputs": [
    {
     "data": {
      "application/vnd.plotly.v1+json": {
       "config": {
        "plotlyServerURL": "https://plot.ly"
       },
       "data": [
        {
         "hoverinfo": "text",
         "hovertext": [
          "<b>Topic 10</b><br>Words: telecollaboration, hegemonic, issues, power, dialogue",
          "<b>Topic 10</b><br>Words: telecollaboration, gaps, filling, sino, telecollaborative",
          "<b>Topic 10</b><br>Words: telecollaboration, service, pre, cross, education",
          "<b>Topic 10</b><br>Words: telecollaboration, pedagogical, telecollaborative, able, objectives",
          "<b>Topic 10</b><br>Words: telecollaboration, lingua, franca, request, innovation",
          "<b>Topic 10</b><br>Words: telecollaboration, intercultural, telecollaborative, practice, 2010",
          "<b>Topic 10</b><br>Words: telecollaboration, telecollaborative, germany, incidents, background",
          "<b>Topic 10</b><br>Words: telecollaboration, intercultural, prospective, successful, usa",
          "<b>Topic 10</b><br>Words: telecollaborative, telecollaboration, intercultural, american, identities",
          "<b>Topic 10</b><br>Words: telecollaboration, sensemaking, 56, pivoting, multinational",
          "<b>Topic 10</b><br>Words: telecollaboration, kuwaiti, competences, telecollaborative, colombian"
         ],
         "marker": {
          "color": "#E69F00"
         },
         "mode": "lines",
         "name": "10_telecollaboration_intercultural_telec...",
         "type": "scatter",
         "x": [
          2012,
          2013,
          2015,
          2016,
          2017,
          2018,
          2019,
          2020,
          2021,
          2022,
          2023
         ],
         "y": [
          2,
          2,
          5,
          4,
          3,
          5,
          5,
          4,
          3,
          4,
          2
         ]
        },
        {
         "hoverinfo": "text",
         "hovertext": [
          "<b>Topic 11</b><br>Words: vocabulary, card, lecture, programme, opencourseware",
          "<b>Topic 11</b><br>Words: vocabulary, gloss, types, reading, opencourseware",
          "<b>Topic 11</b><br>Words: glossing, incidental, glosses, vocabulary, comprehension",
          "<b>Topic 11</b><br>Words: vocabulary, toeic, spaced, repetition, glosses",
          "<b>Topic 11</b><br>Words: vocabulary, electronic, glosses, texting, concordance",
          "<b>Topic 11</b><br>Words: vocabulary, gloss, incidental, contextualized, recall",
          "<b>Topic 11</b><br>Words: vocabulary, retention, richard, afrikaans, mayer",
          "<b>Topic 11</b><br>Words: image, facilitate, authentic, recognition, contexts",
          "<b>Topic 11</b><br>Words: gloss, vocabulary, dual, comprehension, dynamic",
          "<b>Topic 11</b><br>Words: vocabulary, academic, wordlists, mother, functioning",
          "<b>Topic 11</b><br>Words: vocabulary, arabic, heterogeneous, intervention, glosses"
         ],
         "marker": {
          "color": "#56B4E9"
         },
         "mode": "lines",
         "name": "11_vocabulary_gloss_glosses_comprehensio...",
         "type": "scatter",
         "x": [
          2012,
          2013,
          2014,
          2016,
          2017,
          2018,
          2019,
          2020,
          2021,
          2022,
          2023
         ],
         "y": [
          4,
          4,
          3,
          5,
          2,
          2,
          3,
          1,
          4,
          4,
          2
         ]
        },
        {
         "hoverinfo": "text",
         "hovertext": [
          "<b>Topic 12</b><br>Words: captions, nlp, extensible, aspect, temporal",
          "<b>Topic 12</b><br>Words: supports, caption, reliance, testing, comprehension",
          "<b>Topic 12</b><br>Words: comprehension, listening, captions, video, effects",
          "<b>Topic 12</b><br>Words: filtering, handheld, caption, adaptive, devices",
          "<b>Topic 12</b><br>Words: listening, reduce, preview, hearing, several",
          "<b>Topic 12</b><br>Words: comprehension, listening, captions, television, synchronized",
          "<b>Topic 12</b><br>Words: videos, metacognitive, listener, watching, captioned",
          "<b>Topic 12</b><br>Words: captions, comprehension, captioned, videos, audioconferencing",
          "<b>Topic 12</b><br>Words: captioned, videos, listening, comprehension, subtitled",
          "<b>Topic 12</b><br>Words: vlogs, captions, comprehension, effects, l2",
          "<b>Topic 12</b><br>Words: captions, video, comprehension, captioned, listening",
          "<b>Topic 12</b><br>Words: presentation, full, nonverbal, display, partial"
         ],
         "marker": {
          "color": "#009E73"
         },
         "mode": "lines",
         "name": "12_comprehension_captions_listening_capt...",
         "type": "scatter",
         "x": [
          2012,
          2013,
          2014,
          2015,
          2016,
          2017,
          2018,
          2019,
          2020,
          2021,
          2022,
          2023
         ],
         "y": [
          2,
          1,
          6,
          1,
          3,
          3,
          3,
          4,
          3,
          1,
          5,
          1
         ]
        },
        {
         "hoverinfo": "text",
         "hovertext": [
          "<b>Topic 13</b><br>Words: agenda, dimensional, worlds, three, virtual",
          "<b>Topic 13</b><br>Words: added, worlds, there, virtual, value",
          "<b>Topic 13</b><br>Words: 3d, virtual, london, worlds, contextual",
          "<b>Topic 13</b><br>Words: 3d, irish, annotated, engaging, reality",
          "<b>Topic 13</b><br>Words: world, virtual, 3d, calc, windows",
          "<b>Topic 13</b><br>Words: cases, 3d, simulated, csl, three",
          "<b>Topic 13</b><br>Words: virtual, 3d, reality, worlds, earth",
          "<b>Topic 13</b><br>Words: immersive, reality, 3d, virtual, quot",
          "<b>Topic 13</b><br>Words: reality, virtual, headset, expeditions, traveling",
          "<b>Topic 13</b><br>Words: reality, virtual, immersive, city, entirely"
         ],
         "marker": {
          "color": "#F0E442"
         },
         "mode": "lines",
         "name": "13_virtual_3d_reality_immersive",
         "type": "scatter",
         "x": [
          2012,
          2013,
          2015,
          2016,
          2018,
          2019,
          2020,
          2021,
          2022,
          2023
         ],
         "y": [
          1,
          1,
          3,
          2,
          2,
          2,
          4,
          4,
          3,
          4
         ]
        },
        {
         "hoverinfo": "text",
         "hovertext": [
          "<b>Topic 14</b><br>Words: readiness, hybrid, fl, attitudes, toward",
          "<b>Topic 14</b><br>Words: active, flipping, foster, classroom, flipped",
          "<b>Topic 14</b><br>Words: flipped, classroom, senior, elt, year",
          "<b>Topic 14</b><br>Words: flipped, classroom, chinese, flipping, mastery",
          "<b>Topic 14</b><br>Words: flipped, refusal, appropriate, achievement, perception",
          "<b>Topic 14</b><br>Words: flipped, classroom, quot, demotivation, if",
          "<b>Topic 14</b><br>Words: flipped, flipping, reversal, models, classroom",
          "<b>Topic 14</b><br>Words: flipped, classroom, model, review, classrooms",
          "<b>Topic 14</b><br>Words: anxiety, classroom, flipped, reading, foreign"
         ],
         "marker": {
          "color": "#D55E00"
         },
         "mode": "lines",
         "name": "14_flipped_classroom_flipping_classrooms",
         "type": "scatter",
         "x": [
          2012,
          2015,
          2017,
          2018,
          2019,
          2020,
          2021,
          2022,
          2023
         ],
         "y": [
          1,
          1,
          3,
          4,
          1,
          5,
          2,
          5,
          1
         ]
        },
        {
         "hoverinfo": "text",
         "hovertext": [
          "<b>Topic 15</b><br>Words: oral, communication, mediated, notional, spontaneous",
          "<b>Topic 15</b><br>Words: ipads, oral, advanced, proficiency, learner",
          "<b>Topic 15</b><br>Words: face, mediated, oral, affordance, computer",
          "<b>Topic 15</b><br>Words: cmc, communication, oral, deaf, divide",
          "<b>Topic 15</b><br>Words: oral, performance, beginners, csl, voice",
          "<b>Topic 15</b><br>Words: oral, fuency, emotional, voicethread, mediated",
          "<b>Topic 15</b><br>Words: oral, communication, refining, pragmatically, computer",
          "<b>Topic 15</b><br>Words: recording, oral, lower, voice, communication",
          "<b>Topic 15</b><br>Words: distance, oral, proficiency, language, english",
          "<b>Topic 15</b><br>Words: oral, mediated, face, seamless, shaping"
         ],
         "marker": {
          "color": "#0072B2"
         },
         "mode": "lines",
         "name": "15_oral_communication_mediated_computer",
         "type": "scatter",
         "x": [
          2012,
          2013,
          2014,
          2015,
          2016,
          2017,
          2018,
          2019,
          2020,
          2022
         ],
         "y": [
          3,
          1,
          2,
          2,
          2,
          4,
          3,
          1,
          1,
          3
         ]
        },
        {
         "hoverinfo": "text",
         "hovertext": [
          "<b>Topic 16</b><br>Words: structure, intercultural, activity, exchange, analysis",
          "<b>Topic 16</b><br>Words: quot, major, believe, participant, nonnative",
          "<b>Topic 16</b><br>Words: nurses, born, intercultural, web, communicative",
          "<b>Topic 16</b><br>Words: commenting, youtube, intercultural, evidence, comments",
          "<b>Topic 16</b><br>Words: intercultural, internet, exchange, cross, oriented",
          "<b>Topic 16</b><br>Words: intercultural, phatic, cheap, communication, small",
          "<b>Topic 16</b><br>Words: intercultural, exchange, face, thanks, gracias",
          "<b>Topic 16</b><br>Words: intercultural, campus, guided, reflection, methodologies",
          "<b>Topic 16</b><br>Words: intercultural, encounter, composition, varieties, mediator",
          "<b>Topic 16</b><br>Words: insider, xr, hands, room, cultures",
          "<b>Topic 16</b><br>Words: 23, large, reviewing, scale, virtual"
         ],
         "marker": {
          "color": "#CC79A7"
         },
         "mode": "lines",
         "name": "16_intercultural_exchange_competence_exc...",
         "type": "scatter",
         "x": [
          2012,
          2013,
          2014,
          2015,
          2016,
          2017,
          2018,
          2019,
          2020,
          2021,
          2022
         ],
         "y": [
          1,
          1,
          2,
          1,
          1,
          2,
          5,
          2,
          3,
          1,
          1
         ]
        },
        {
         "hoverinfo": "text",
         "hovertext": [
          "<b>Topic 17</b><br>Words: social, network, esol, sociopragmatic, multiliteracy",
          "<b>Topic 17</b><br>Words: appropriately, effectively, facebook, training, use",
          "<b>Topic 17</b><br>Words: social, microblogging, transformation, networking, resource",
          "<b>Topic 17</b><br>Words: social, netnography, network, explore, websites",
          "<b>Topic 17</b><br>Words: social, sites, networks, busuu, networking",
          "<b>Topic 17</b><br>Words: social, teaches, networks, networking, talk",
          "<b>Topic 17</b><br>Words: minority, social, conversation, method, authentic",
          "<b>Topic 17</b><br>Words: social, media, networks, investigate, justice",
          "<b>Topic 17</b><br>Words: social, media, platform, networking, 2008"
         ],
         "marker": {
          "color": "#E69F00"
         },
         "mode": "lines",
         "name": "17_social_media_networking_networks",
         "type": "scatter",
         "x": [
          2012,
          2013,
          2014,
          2015,
          2016,
          2017,
          2018,
          2019,
          2022
         ],
         "y": [
          2,
          1,
          2,
          2,
          2,
          2,
          1,
          3,
          5
         ]
        },
        {
         "hoverinfo": "text",
         "hovertext": [
          "<b>Topic 18</b><br>Words: reading, inferential, five, screen, graduate",
          "<b>Topic 18</b><br>Words: reading, what, book, work, think",
          "<b>Topic 18</b><br>Words: reading, strategy, comprehension, university, efl",
          "<b>Topic 18</b><br>Words: reading, comprehension, braasch, greasser, hypermedia",
          "<b>Topic 18</b><br>Words: reading, home, books, responding, purpose",
          "<b>Topic 18</b><br>Words: reading, annotations, progress, processes, its",
          "<b>Topic 18</b><br>Words: assessment, inferencing, static, computerized, lexical",
          "<b>Topic 18</b><br>Words: technique, when, reading, response, efficacy",
          "<b>Topic 18</b><br>Words: computerized, reading, promoting, dynamic, assessment",
          "<b>Topic 18</b><br>Words: personalized, reading, effect, listening, skills"
         ],
         "marker": {
          "color": "#56B4E9"
         },
         "mode": "lines",
         "name": "18_reading_strategies_comprehension_stra...",
         "type": "scatter",
         "x": [
          2012,
          2013,
          2014,
          2015,
          2016,
          2017,
          2018,
          2019,
          2020,
          2022
         ],
         "y": [
          2,
          2,
          4,
          4,
          3,
          1,
          1,
          1,
          1,
          1
         ]
        },
        {
         "hoverinfo": "text",
         "hovertext": [
          "<b>Topic 19</b><br>Words: contested, vles, shifting, tutor, space",
          "<b>Topic 19</b><br>Words: virtual, environment, collaborating, convergence, professional",
          "<b>Topic 19</b><br>Words: socio, presence, cognitive, synchronous, social",
          "<b>Topic 19</b><br>Words: takes, scholars, multiuser, build, digitally",
          "<b>Topic 19</b><br>Words: borderlands, languaging, spaces, mapping, literacy",
          "<b>Topic 19</b><br>Words: presence, online, entrant, collaborations, social",
          "<b>Topic 19</b><br>Words: formative, presence, exchange, virtual, blended",
          "<b>Topic 19</b><br>Words: community, fail, book, facebook, virtual",
          "<b>Topic 19</b><br>Words: professional, exchange, virtual, apos, youth",
          "<b>Topic 19</b><br>Words: exchange, literacy, critical, virtual, interpretivist"
         ],
         "marker": {
          "color": "#009E73"
         },
         "mode": "lines",
         "name": "19_virtual_exchange_presence_professiona...",
         "type": "scatter",
         "x": [
          2012,
          2013,
          2014,
          2015,
          2016,
          2018,
          2019,
          2020,
          2022,
          2023
         ],
         "y": [
          1,
          3,
          1,
          3,
          1,
          3,
          1,
          1,
          3,
          2
         ]
        }
       ],
       "layout": {
        "height": 450,
        "hoverlabel": {
         "bgcolor": "white",
         "font": {
          "family": "Rockwell",
          "size": 16
         }
        },
        "legend": {
         "title": {
          "text": "<b>Global Topic Representation"
         }
        },
        "template": {
         "data": {
          "bar": [
           {
            "error_x": {
             "color": "rgb(36,36,36)"
            },
            "error_y": {
             "color": "rgb(36,36,36)"
            },
            "marker": {
             "line": {
              "color": "white",
              "width": 0.5
             },
             "pattern": {
              "fillmode": "overlay",
              "size": 10,
              "solidity": 0.2
             }
            },
            "type": "bar"
           }
          ],
          "barpolar": [
           {
            "marker": {
             "line": {
              "color": "white",
              "width": 0.5
             },
             "pattern": {
              "fillmode": "overlay",
              "size": 10,
              "solidity": 0.2
             }
            },
            "type": "barpolar"
           }
          ],
          "carpet": [
           {
            "aaxis": {
             "endlinecolor": "rgb(36,36,36)",
             "gridcolor": "white",
             "linecolor": "white",
             "minorgridcolor": "white",
             "startlinecolor": "rgb(36,36,36)"
            },
            "baxis": {
             "endlinecolor": "rgb(36,36,36)",
             "gridcolor": "white",
             "linecolor": "white",
             "minorgridcolor": "white",
             "startlinecolor": "rgb(36,36,36)"
            },
            "type": "carpet"
           }
          ],
          "choropleth": [
           {
            "colorbar": {
             "outlinewidth": 1,
             "tickcolor": "rgb(36,36,36)",
             "ticks": "outside"
            },
            "type": "choropleth"
           }
          ],
          "contour": [
           {
            "colorbar": {
             "outlinewidth": 1,
             "tickcolor": "rgb(36,36,36)",
             "ticks": "outside"
            },
            "colorscale": [
             [
              0,
              "#440154"
             ],
             [
              0.1111111111111111,
              "#482878"
             ],
             [
              0.2222222222222222,
              "#3e4989"
             ],
             [
              0.3333333333333333,
              "#31688e"
             ],
             [
              0.4444444444444444,
              "#26828e"
             ],
             [
              0.5555555555555556,
              "#1f9e89"
             ],
             [
              0.6666666666666666,
              "#35b779"
             ],
             [
              0.7777777777777778,
              "#6ece58"
             ],
             [
              0.8888888888888888,
              "#b5de2b"
             ],
             [
              1,
              "#fde725"
             ]
            ],
            "type": "contour"
           }
          ],
          "contourcarpet": [
           {
            "colorbar": {
             "outlinewidth": 1,
             "tickcolor": "rgb(36,36,36)",
             "ticks": "outside"
            },
            "type": "contourcarpet"
           }
          ],
          "heatmap": [
           {
            "colorbar": {
             "outlinewidth": 1,
             "tickcolor": "rgb(36,36,36)",
             "ticks": "outside"
            },
            "colorscale": [
             [
              0,
              "#440154"
             ],
             [
              0.1111111111111111,
              "#482878"
             ],
             [
              0.2222222222222222,
              "#3e4989"
             ],
             [
              0.3333333333333333,
              "#31688e"
             ],
             [
              0.4444444444444444,
              "#26828e"
             ],
             [
              0.5555555555555556,
              "#1f9e89"
             ],
             [
              0.6666666666666666,
              "#35b779"
             ],
             [
              0.7777777777777778,
              "#6ece58"
             ],
             [
              0.8888888888888888,
              "#b5de2b"
             ],
             [
              1,
              "#fde725"
             ]
            ],
            "type": "heatmap"
           }
          ],
          "heatmapgl": [
           {
            "colorbar": {
             "outlinewidth": 1,
             "tickcolor": "rgb(36,36,36)",
             "ticks": "outside"
            },
            "colorscale": [
             [
              0,
              "#440154"
             ],
             [
              0.1111111111111111,
              "#482878"
             ],
             [
              0.2222222222222222,
              "#3e4989"
             ],
             [
              0.3333333333333333,
              "#31688e"
             ],
             [
              0.4444444444444444,
              "#26828e"
             ],
             [
              0.5555555555555556,
              "#1f9e89"
             ],
             [
              0.6666666666666666,
              "#35b779"
             ],
             [
              0.7777777777777778,
              "#6ece58"
             ],
             [
              0.8888888888888888,
              "#b5de2b"
             ],
             [
              1,
              "#fde725"
             ]
            ],
            "type": "heatmapgl"
           }
          ],
          "histogram": [
           {
            "marker": {
             "line": {
              "color": "white",
              "width": 0.6
             }
            },
            "type": "histogram"
           }
          ],
          "histogram2d": [
           {
            "colorbar": {
             "outlinewidth": 1,
             "tickcolor": "rgb(36,36,36)",
             "ticks": "outside"
            },
            "colorscale": [
             [
              0,
              "#440154"
             ],
             [
              0.1111111111111111,
              "#482878"
             ],
             [
              0.2222222222222222,
              "#3e4989"
             ],
             [
              0.3333333333333333,
              "#31688e"
             ],
             [
              0.4444444444444444,
              "#26828e"
             ],
             [
              0.5555555555555556,
              "#1f9e89"
             ],
             [
              0.6666666666666666,
              "#35b779"
             ],
             [
              0.7777777777777778,
              "#6ece58"
             ],
             [
              0.8888888888888888,
              "#b5de2b"
             ],
             [
              1,
              "#fde725"
             ]
            ],
            "type": "histogram2d"
           }
          ],
          "histogram2dcontour": [
           {
            "colorbar": {
             "outlinewidth": 1,
             "tickcolor": "rgb(36,36,36)",
             "ticks": "outside"
            },
            "colorscale": [
             [
              0,
              "#440154"
             ],
             [
              0.1111111111111111,
              "#482878"
             ],
             [
              0.2222222222222222,
              "#3e4989"
             ],
             [
              0.3333333333333333,
              "#31688e"
             ],
             [
              0.4444444444444444,
              "#26828e"
             ],
             [
              0.5555555555555556,
              "#1f9e89"
             ],
             [
              0.6666666666666666,
              "#35b779"
             ],
             [
              0.7777777777777778,
              "#6ece58"
             ],
             [
              0.8888888888888888,
              "#b5de2b"
             ],
             [
              1,
              "#fde725"
             ]
            ],
            "type": "histogram2dcontour"
           }
          ],
          "mesh3d": [
           {
            "colorbar": {
             "outlinewidth": 1,
             "tickcolor": "rgb(36,36,36)",
             "ticks": "outside"
            },
            "type": "mesh3d"
           }
          ],
          "parcoords": [
           {
            "line": {
             "colorbar": {
              "outlinewidth": 1,
              "tickcolor": "rgb(36,36,36)",
              "ticks": "outside"
             }
            },
            "type": "parcoords"
           }
          ],
          "pie": [
           {
            "automargin": true,
            "type": "pie"
           }
          ],
          "scatter": [
           {
            "fillpattern": {
             "fillmode": "overlay",
             "size": 10,
             "solidity": 0.2
            },
            "type": "scatter"
           }
          ],
          "scatter3d": [
           {
            "line": {
             "colorbar": {
              "outlinewidth": 1,
              "tickcolor": "rgb(36,36,36)",
              "ticks": "outside"
             }
            },
            "marker": {
             "colorbar": {
              "outlinewidth": 1,
              "tickcolor": "rgb(36,36,36)",
              "ticks": "outside"
             }
            },
            "type": "scatter3d"
           }
          ],
          "scattercarpet": [
           {
            "marker": {
             "colorbar": {
              "outlinewidth": 1,
              "tickcolor": "rgb(36,36,36)",
              "ticks": "outside"
             }
            },
            "type": "scattercarpet"
           }
          ],
          "scattergeo": [
           {
            "marker": {
             "colorbar": {
              "outlinewidth": 1,
              "tickcolor": "rgb(36,36,36)",
              "ticks": "outside"
             }
            },
            "type": "scattergeo"
           }
          ],
          "scattergl": [
           {
            "marker": {
             "colorbar": {
              "outlinewidth": 1,
              "tickcolor": "rgb(36,36,36)",
              "ticks": "outside"
             }
            },
            "type": "scattergl"
           }
          ],
          "scattermapbox": [
           {
            "marker": {
             "colorbar": {
              "outlinewidth": 1,
              "tickcolor": "rgb(36,36,36)",
              "ticks": "outside"
             }
            },
            "type": "scattermapbox"
           }
          ],
          "scatterpolar": [
           {
            "marker": {
             "colorbar": {
              "outlinewidth": 1,
              "tickcolor": "rgb(36,36,36)",
              "ticks": "outside"
             }
            },
            "type": "scatterpolar"
           }
          ],
          "scatterpolargl": [
           {
            "marker": {
             "colorbar": {
              "outlinewidth": 1,
              "tickcolor": "rgb(36,36,36)",
              "ticks": "outside"
             }
            },
            "type": "scatterpolargl"
           }
          ],
          "scatterternary": [
           {
            "marker": {
             "colorbar": {
              "outlinewidth": 1,
              "tickcolor": "rgb(36,36,36)",
              "ticks": "outside"
             }
            },
            "type": "scatterternary"
           }
          ],
          "surface": [
           {
            "colorbar": {
             "outlinewidth": 1,
             "tickcolor": "rgb(36,36,36)",
             "ticks": "outside"
            },
            "colorscale": [
             [
              0,
              "#440154"
             ],
             [
              0.1111111111111111,
              "#482878"
             ],
             [
              0.2222222222222222,
              "#3e4989"
             ],
             [
              0.3333333333333333,
              "#31688e"
             ],
             [
              0.4444444444444444,
              "#26828e"
             ],
             [
              0.5555555555555556,
              "#1f9e89"
             ],
             [
              0.6666666666666666,
              "#35b779"
             ],
             [
              0.7777777777777778,
              "#6ece58"
             ],
             [
              0.8888888888888888,
              "#b5de2b"
             ],
             [
              1,
              "#fde725"
             ]
            ],
            "type": "surface"
           }
          ],
          "table": [
           {
            "cells": {
             "fill": {
              "color": "rgb(237,237,237)"
             },
             "line": {
              "color": "white"
             }
            },
            "header": {
             "fill": {
              "color": "rgb(217,217,217)"
             },
             "line": {
              "color": "white"
             }
            },
            "type": "table"
           }
          ]
         },
         "layout": {
          "annotationdefaults": {
           "arrowhead": 0,
           "arrowwidth": 1
          },
          "autotypenumbers": "strict",
          "coloraxis": {
           "colorbar": {
            "outlinewidth": 1,
            "tickcolor": "rgb(36,36,36)",
            "ticks": "outside"
           }
          },
          "colorscale": {
           "diverging": [
            [
             0,
             "rgb(103,0,31)"
            ],
            [
             0.1,
             "rgb(178,24,43)"
            ],
            [
             0.2,
             "rgb(214,96,77)"
            ],
            [
             0.3,
             "rgb(244,165,130)"
            ],
            [
             0.4,
             "rgb(253,219,199)"
            ],
            [
             0.5,
             "rgb(247,247,247)"
            ],
            [
             0.6,
             "rgb(209,229,240)"
            ],
            [
             0.7,
             "rgb(146,197,222)"
            ],
            [
             0.8,
             "rgb(67,147,195)"
            ],
            [
             0.9,
             "rgb(33,102,172)"
            ],
            [
             1,
             "rgb(5,48,97)"
            ]
           ],
           "sequential": [
            [
             0,
             "#440154"
            ],
            [
             0.1111111111111111,
             "#482878"
            ],
            [
             0.2222222222222222,
             "#3e4989"
            ],
            [
             0.3333333333333333,
             "#31688e"
            ],
            [
             0.4444444444444444,
             "#26828e"
            ],
            [
             0.5555555555555556,
             "#1f9e89"
            ],
            [
             0.6666666666666666,
             "#35b779"
            ],
            [
             0.7777777777777778,
             "#6ece58"
            ],
            [
             0.8888888888888888,
             "#b5de2b"
            ],
            [
             1,
             "#fde725"
            ]
           ],
           "sequentialminus": [
            [
             0,
             "#440154"
            ],
            [
             0.1111111111111111,
             "#482878"
            ],
            [
             0.2222222222222222,
             "#3e4989"
            ],
            [
             0.3333333333333333,
             "#31688e"
            ],
            [
             0.4444444444444444,
             "#26828e"
            ],
            [
             0.5555555555555556,
             "#1f9e89"
            ],
            [
             0.6666666666666666,
             "#35b779"
            ],
            [
             0.7777777777777778,
             "#6ece58"
            ],
            [
             0.8888888888888888,
             "#b5de2b"
            ],
            [
             1,
             "#fde725"
            ]
           ]
          },
          "colorway": [
           "#1F77B4",
           "#FF7F0E",
           "#2CA02C",
           "#D62728",
           "#9467BD",
           "#8C564B",
           "#E377C2",
           "#7F7F7F",
           "#BCBD22",
           "#17BECF"
          ],
          "font": {
           "color": "rgb(36,36,36)"
          },
          "geo": {
           "bgcolor": "white",
           "lakecolor": "white",
           "landcolor": "white",
           "showlakes": true,
           "showland": true,
           "subunitcolor": "white"
          },
          "hoverlabel": {
           "align": "left"
          },
          "hovermode": "closest",
          "mapbox": {
           "style": "light"
          },
          "paper_bgcolor": "white",
          "plot_bgcolor": "white",
          "polar": {
           "angularaxis": {
            "gridcolor": "rgb(232,232,232)",
            "linecolor": "rgb(36,36,36)",
            "showgrid": false,
            "showline": true,
            "ticks": "outside"
           },
           "bgcolor": "white",
           "radialaxis": {
            "gridcolor": "rgb(232,232,232)",
            "linecolor": "rgb(36,36,36)",
            "showgrid": false,
            "showline": true,
            "ticks": "outside"
           }
          },
          "scene": {
           "xaxis": {
            "backgroundcolor": "white",
            "gridcolor": "rgb(232,232,232)",
            "gridwidth": 2,
            "linecolor": "rgb(36,36,36)",
            "showbackground": true,
            "showgrid": false,
            "showline": true,
            "ticks": "outside",
            "zeroline": false,
            "zerolinecolor": "rgb(36,36,36)"
           },
           "yaxis": {
            "backgroundcolor": "white",
            "gridcolor": "rgb(232,232,232)",
            "gridwidth": 2,
            "linecolor": "rgb(36,36,36)",
            "showbackground": true,
            "showgrid": false,
            "showline": true,
            "ticks": "outside",
            "zeroline": false,
            "zerolinecolor": "rgb(36,36,36)"
           },
           "zaxis": {
            "backgroundcolor": "white",
            "gridcolor": "rgb(232,232,232)",
            "gridwidth": 2,
            "linecolor": "rgb(36,36,36)",
            "showbackground": true,
            "showgrid": false,
            "showline": true,
            "ticks": "outside",
            "zeroline": false,
            "zerolinecolor": "rgb(36,36,36)"
           }
          },
          "shapedefaults": {
           "fillcolor": "black",
           "line": {
            "width": 0
           },
           "opacity": 0.3
          },
          "ternary": {
           "aaxis": {
            "gridcolor": "rgb(232,232,232)",
            "linecolor": "rgb(36,36,36)",
            "showgrid": false,
            "showline": true,
            "ticks": "outside"
           },
           "baxis": {
            "gridcolor": "rgb(232,232,232)",
            "linecolor": "rgb(36,36,36)",
            "showgrid": false,
            "showline": true,
            "ticks": "outside"
           },
           "bgcolor": "white",
           "caxis": {
            "gridcolor": "rgb(232,232,232)",
            "linecolor": "rgb(36,36,36)",
            "showgrid": false,
            "showline": true,
            "ticks": "outside"
           }
          },
          "title": {
           "x": 0.05
          },
          "xaxis": {
           "automargin": true,
           "gridcolor": "rgb(232,232,232)",
           "linecolor": "rgb(36,36,36)",
           "showgrid": false,
           "showline": true,
           "ticks": "outside",
           "title": {
            "standoff": 15
           },
           "zeroline": false,
           "zerolinecolor": "rgb(36,36,36)"
          },
          "yaxis": {
           "automargin": true,
           "gridcolor": "rgb(232,232,232)",
           "linecolor": "rgb(36,36,36)",
           "showgrid": false,
           "showline": true,
           "ticks": "outside",
           "title": {
            "standoff": 15
           },
           "zeroline": false,
           "zerolinecolor": "rgb(36,36,36)"
          }
         }
        },
        "title": {
         "font": {
          "color": "Black",
          "size": 22
         },
         "text": "<b>Topics over Time</b>",
         "x": 0.4,
         "xanchor": "center",
         "y": 0.95,
         "yanchor": "top"
        },
        "width": 1250,
        "xaxis": {
         "showgrid": true
        },
        "yaxis": {
         "showgrid": true,
         "title": {
          "text": "Frequency"
         }
        }
       }
      }
     },
     "metadata": {},
     "output_type": "display_data"
    }
   ],
   "source": [
    "model.visualize_topics_over_time(topics_over_time, topics=[10, 11, 12, 13, 14, 15, 16, 17, 18, 19])\n"
   ]
  },
  {
   "cell_type": "code",
   "execution_count": 40,
   "metadata": {},
   "outputs": [
    {
     "data": {
      "application/vnd.plotly.v1+json": {
       "config": {
        "plotlyServerURL": "https://plot.ly"
       },
       "data": [
        {
         "hoverinfo": "text",
         "hovertext": [
          "<b>Topic 20</b><br>Words: blended, generation, chaos, tutors, difficulties",
          "<b>Topic 20</b><br>Words: dilemmas, blended, experiences, teacher, learner",
          "<b>Topic 20</b><br>Words: blended, interpretation, appropriateness, explorations, areas",
          "<b>Topic 20</b><br>Words: blended, presence, participation, courses, spanish",
          "<b>Topic 20</b><br>Words: f2f, blended, comparing, roles, course",
          "<b>Topic 20</b><br>Words: blended, inquiry, porous, ownership, expanded",
          "<b>Topic 20</b><br>Words: blended, environment, university, perceptions, learner",
          "<b>Topic 20</b><br>Words: blended, indexed, inclusive, ssci, articles",
          "<b>Topic 20</b><br>Words: blended, dropping, stracke, 2007, college"
         ],
         "marker": {
          "color": "#E69F00"
         },
         "mode": "lines",
         "name": "20_blended_learning_inquiry_college",
         "type": "scatter",
         "x": [
          2012,
          2013,
          2014,
          2018,
          2019,
          2020,
          2021,
          2022,
          2023
         ],
         "y": [
          5,
          1,
          3,
          1,
          1,
          3,
          1,
          2,
          2
         ]
        },
        {
         "hoverinfo": "text",
         "hovertext": [
          "<b>Topic 21</b><br>Words: it, storytelling, piece, proud, did",
          "<b>Topic 21</b><br>Words: storytelling, digital, enjoyment, concerns, malaysian",
          "<b>Topic 21</b><br>Words: mind, narratives, structuring, gameplay, story",
          "<b>Topic 21</b><br>Words: stories, storytelling, digital, bringing, facilitate",
          "<b>Topic 21</b><br>Words: storytelling, digital, stories, story, creativity",
          "<b>Topic 21</b><br>Words: relational, stories, researching, account, pragmatics",
          "<b>Topic 21</b><br>Words: story, storytelling, stage, six, structure",
          "<b>Topic 21</b><br>Words: storytelling, digital, creative, interdisciplinary, experienced",
          "<b>Topic 21</b><br>Words: dimensions, creativity, her, story, international"
         ],
         "marker": {
          "color": "#56B4E9"
         },
         "mode": "lines",
         "name": "21_storytelling_digital_story_stories",
         "type": "scatter",
         "x": [
          2013,
          2014,
          2015,
          2016,
          2019,
          2020,
          2021,
          2022,
          2023
         ],
         "y": [
          1,
          3,
          1,
          3,
          3,
          1,
          2,
          3,
          1
         ]
        },
        {
         "hoverinfo": "text",
         "hovertext": [
          "<b>Topic 22</b><br>Words: aptitude, translation, assessing, attitude, course",
          "<b>Topic 22</b><br>Words: grammatical, error, translation, corpora, l2",
          "<b>Topic 22</b><br>Words: translation, specialized, cooperative, levels, interest",
          "<b>Topic 22</b><br>Words: relationships, human, evaluations, texts, automated",
          "<b>Topic 22</b><br>Words: drafts, preliminary, translate, google, investigation",
          "<b>Topic 22</b><br>Words: machine, translation, impact, using, students",
          "<b>Topic 22</b><br>Words: mediate, machine, translation, korean, revision",
          "<b>Topic 22</b><br>Words: machine, translation, across, levels, students",
          "<b>Topic 22</b><br>Words: machine, translation, effectiveness, lee, assessing"
         ],
         "marker": {
          "color": "#009E73"
         },
         "mode": "lines",
         "name": "22_translation_machine_writing_levels",
         "type": "scatter",
         "x": [
          2012,
          2014,
          2016,
          2018,
          2019,
          2020,
          2021,
          2022,
          2023
         ],
         "y": [
          1,
          4,
          1,
          1,
          1,
          1,
          1,
          5,
          2
         ]
        },
        {
         "hoverinfo": "text",
         "hovertext": [
          "<b>Topic 23</b><br>Words: mall, reply, tower, field, somewhere",
          "<b>Topic 23</b><br>Words: mall, doesn, still, fringes, tell",
          "<b>Topic 23</b><br>Words: mall, outcomes, twenty, implementation, years",
          "<b>Topic 23</b><br>Words: mall, preschool, independent, recall, children",
          "<b>Topic 23</b><br>Words: mall, contextualised, oer, processing, empirical",
          "<b>Topic 23</b><br>Words: mall, narrative, meta, review, skills",
          "<b>Topic 23</b><br>Words: mall, 1994, efficiency, outcomes, comprehensive",
          "<b>Topic 23</b><br>Words: mall, oer, turkish, polish, portuguese"
         ],
         "marker": {
          "color": "#F0E442"
         },
         "mode": "lines",
         "name": "23_mall_meta_oer_processing",
         "type": "scatter",
         "x": [
          2013,
          2014,
          2015,
          2016,
          2018,
          2021,
          2022,
          2023
         ],
         "y": [
          2,
          3,
          1,
          1,
          2,
          1,
          3,
          1
         ]
        },
        {
         "hoverinfo": "text",
         "hovertext": [
          "<b>Topic 24</b><br>Words: chat, planning, text, investigating, performance",
          "<b>Topic 24</b><br>Words: anonymity, discussions, asynchronous, motivation, l2",
          "<b>Topic 24</b><br>Words: chat, independent, interactive, versus, l2",
          "<b>Topic 24</b><br>Words: chat, quot, synthetic, audio, text",
          "<b>Topic 24</b><br>Words: blogging, voice, performance, speaking, l2",
          "<b>Topic 24</b><br>Words: chat, text, interaction, accomplishment, transcripts",
          "<b>Topic 24</b><br>Words: chat, task, child, interaction, l2",
          "<b>Topic 24</b><br>Words: closings, chat, interactional, text, l2",
          "<b>Topic 24</b><br>Words: topic, management, task, interactions, written"
         ],
         "marker": {
          "color": "#D55E00"
         },
         "mode": "lines",
         "name": "24_chat_task_text_l2",
         "type": "scatter",
         "x": [
          2012,
          2013,
          2014,
          2015,
          2016,
          2017,
          2018,
          2020,
          2023
         ],
         "y": [
          1,
          1,
          1,
          1,
          1,
          3,
          4,
          1,
          1
         ]
        }
       ],
       "layout": {
        "height": 450,
        "hoverlabel": {
         "bgcolor": "white",
         "font": {
          "family": "Rockwell",
          "size": 16
         }
        },
        "legend": {
         "title": {
          "text": "<b>Global Topic Representation"
         }
        },
        "template": {
         "data": {
          "bar": [
           {
            "error_x": {
             "color": "rgb(36,36,36)"
            },
            "error_y": {
             "color": "rgb(36,36,36)"
            },
            "marker": {
             "line": {
              "color": "white",
              "width": 0.5
             },
             "pattern": {
              "fillmode": "overlay",
              "size": 10,
              "solidity": 0.2
             }
            },
            "type": "bar"
           }
          ],
          "barpolar": [
           {
            "marker": {
             "line": {
              "color": "white",
              "width": 0.5
             },
             "pattern": {
              "fillmode": "overlay",
              "size": 10,
              "solidity": 0.2
             }
            },
            "type": "barpolar"
           }
          ],
          "carpet": [
           {
            "aaxis": {
             "endlinecolor": "rgb(36,36,36)",
             "gridcolor": "white",
             "linecolor": "white",
             "minorgridcolor": "white",
             "startlinecolor": "rgb(36,36,36)"
            },
            "baxis": {
             "endlinecolor": "rgb(36,36,36)",
             "gridcolor": "white",
             "linecolor": "white",
             "minorgridcolor": "white",
             "startlinecolor": "rgb(36,36,36)"
            },
            "type": "carpet"
           }
          ],
          "choropleth": [
           {
            "colorbar": {
             "outlinewidth": 1,
             "tickcolor": "rgb(36,36,36)",
             "ticks": "outside"
            },
            "type": "choropleth"
           }
          ],
          "contour": [
           {
            "colorbar": {
             "outlinewidth": 1,
             "tickcolor": "rgb(36,36,36)",
             "ticks": "outside"
            },
            "colorscale": [
             [
              0,
              "#440154"
             ],
             [
              0.1111111111111111,
              "#482878"
             ],
             [
              0.2222222222222222,
              "#3e4989"
             ],
             [
              0.3333333333333333,
              "#31688e"
             ],
             [
              0.4444444444444444,
              "#26828e"
             ],
             [
              0.5555555555555556,
              "#1f9e89"
             ],
             [
              0.6666666666666666,
              "#35b779"
             ],
             [
              0.7777777777777778,
              "#6ece58"
             ],
             [
              0.8888888888888888,
              "#b5de2b"
             ],
             [
              1,
              "#fde725"
             ]
            ],
            "type": "contour"
           }
          ],
          "contourcarpet": [
           {
            "colorbar": {
             "outlinewidth": 1,
             "tickcolor": "rgb(36,36,36)",
             "ticks": "outside"
            },
            "type": "contourcarpet"
           }
          ],
          "heatmap": [
           {
            "colorbar": {
             "outlinewidth": 1,
             "tickcolor": "rgb(36,36,36)",
             "ticks": "outside"
            },
            "colorscale": [
             [
              0,
              "#440154"
             ],
             [
              0.1111111111111111,
              "#482878"
             ],
             [
              0.2222222222222222,
              "#3e4989"
             ],
             [
              0.3333333333333333,
              "#31688e"
             ],
             [
              0.4444444444444444,
              "#26828e"
             ],
             [
              0.5555555555555556,
              "#1f9e89"
             ],
             [
              0.6666666666666666,
              "#35b779"
             ],
             [
              0.7777777777777778,
              "#6ece58"
             ],
             [
              0.8888888888888888,
              "#b5de2b"
             ],
             [
              1,
              "#fde725"
             ]
            ],
            "type": "heatmap"
           }
          ],
          "heatmapgl": [
           {
            "colorbar": {
             "outlinewidth": 1,
             "tickcolor": "rgb(36,36,36)",
             "ticks": "outside"
            },
            "colorscale": [
             [
              0,
              "#440154"
             ],
             [
              0.1111111111111111,
              "#482878"
             ],
             [
              0.2222222222222222,
              "#3e4989"
             ],
             [
              0.3333333333333333,
              "#31688e"
             ],
             [
              0.4444444444444444,
              "#26828e"
             ],
             [
              0.5555555555555556,
              "#1f9e89"
             ],
             [
              0.6666666666666666,
              "#35b779"
             ],
             [
              0.7777777777777778,
              "#6ece58"
             ],
             [
              0.8888888888888888,
              "#b5de2b"
             ],
             [
              1,
              "#fde725"
             ]
            ],
            "type": "heatmapgl"
           }
          ],
          "histogram": [
           {
            "marker": {
             "line": {
              "color": "white",
              "width": 0.6
             }
            },
            "type": "histogram"
           }
          ],
          "histogram2d": [
           {
            "colorbar": {
             "outlinewidth": 1,
             "tickcolor": "rgb(36,36,36)",
             "ticks": "outside"
            },
            "colorscale": [
             [
              0,
              "#440154"
             ],
             [
              0.1111111111111111,
              "#482878"
             ],
             [
              0.2222222222222222,
              "#3e4989"
             ],
             [
              0.3333333333333333,
              "#31688e"
             ],
             [
              0.4444444444444444,
              "#26828e"
             ],
             [
              0.5555555555555556,
              "#1f9e89"
             ],
             [
              0.6666666666666666,
              "#35b779"
             ],
             [
              0.7777777777777778,
              "#6ece58"
             ],
             [
              0.8888888888888888,
              "#b5de2b"
             ],
             [
              1,
              "#fde725"
             ]
            ],
            "type": "histogram2d"
           }
          ],
          "histogram2dcontour": [
           {
            "colorbar": {
             "outlinewidth": 1,
             "tickcolor": "rgb(36,36,36)",
             "ticks": "outside"
            },
            "colorscale": [
             [
              0,
              "#440154"
             ],
             [
              0.1111111111111111,
              "#482878"
             ],
             [
              0.2222222222222222,
              "#3e4989"
             ],
             [
              0.3333333333333333,
              "#31688e"
             ],
             [
              0.4444444444444444,
              "#26828e"
             ],
             [
              0.5555555555555556,
              "#1f9e89"
             ],
             [
              0.6666666666666666,
              "#35b779"
             ],
             [
              0.7777777777777778,
              "#6ece58"
             ],
             [
              0.8888888888888888,
              "#b5de2b"
             ],
             [
              1,
              "#fde725"
             ]
            ],
            "type": "histogram2dcontour"
           }
          ],
          "mesh3d": [
           {
            "colorbar": {
             "outlinewidth": 1,
             "tickcolor": "rgb(36,36,36)",
             "ticks": "outside"
            },
            "type": "mesh3d"
           }
          ],
          "parcoords": [
           {
            "line": {
             "colorbar": {
              "outlinewidth": 1,
              "tickcolor": "rgb(36,36,36)",
              "ticks": "outside"
             }
            },
            "type": "parcoords"
           }
          ],
          "pie": [
           {
            "automargin": true,
            "type": "pie"
           }
          ],
          "scatter": [
           {
            "fillpattern": {
             "fillmode": "overlay",
             "size": 10,
             "solidity": 0.2
            },
            "type": "scatter"
           }
          ],
          "scatter3d": [
           {
            "line": {
             "colorbar": {
              "outlinewidth": 1,
              "tickcolor": "rgb(36,36,36)",
              "ticks": "outside"
             }
            },
            "marker": {
             "colorbar": {
              "outlinewidth": 1,
              "tickcolor": "rgb(36,36,36)",
              "ticks": "outside"
             }
            },
            "type": "scatter3d"
           }
          ],
          "scattercarpet": [
           {
            "marker": {
             "colorbar": {
              "outlinewidth": 1,
              "tickcolor": "rgb(36,36,36)",
              "ticks": "outside"
             }
            },
            "type": "scattercarpet"
           }
          ],
          "scattergeo": [
           {
            "marker": {
             "colorbar": {
              "outlinewidth": 1,
              "tickcolor": "rgb(36,36,36)",
              "ticks": "outside"
             }
            },
            "type": "scattergeo"
           }
          ],
          "scattergl": [
           {
            "marker": {
             "colorbar": {
              "outlinewidth": 1,
              "tickcolor": "rgb(36,36,36)",
              "ticks": "outside"
             }
            },
            "type": "scattergl"
           }
          ],
          "scattermapbox": [
           {
            "marker": {
             "colorbar": {
              "outlinewidth": 1,
              "tickcolor": "rgb(36,36,36)",
              "ticks": "outside"
             }
            },
            "type": "scattermapbox"
           }
          ],
          "scatterpolar": [
           {
            "marker": {
             "colorbar": {
              "outlinewidth": 1,
              "tickcolor": "rgb(36,36,36)",
              "ticks": "outside"
             }
            },
            "type": "scatterpolar"
           }
          ],
          "scatterpolargl": [
           {
            "marker": {
             "colorbar": {
              "outlinewidth": 1,
              "tickcolor": "rgb(36,36,36)",
              "ticks": "outside"
             }
            },
            "type": "scatterpolargl"
           }
          ],
          "scatterternary": [
           {
            "marker": {
             "colorbar": {
              "outlinewidth": 1,
              "tickcolor": "rgb(36,36,36)",
              "ticks": "outside"
             }
            },
            "type": "scatterternary"
           }
          ],
          "surface": [
           {
            "colorbar": {
             "outlinewidth": 1,
             "tickcolor": "rgb(36,36,36)",
             "ticks": "outside"
            },
            "colorscale": [
             [
              0,
              "#440154"
             ],
             [
              0.1111111111111111,
              "#482878"
             ],
             [
              0.2222222222222222,
              "#3e4989"
             ],
             [
              0.3333333333333333,
              "#31688e"
             ],
             [
              0.4444444444444444,
              "#26828e"
             ],
             [
              0.5555555555555556,
              "#1f9e89"
             ],
             [
              0.6666666666666666,
              "#35b779"
             ],
             [
              0.7777777777777778,
              "#6ece58"
             ],
             [
              0.8888888888888888,
              "#b5de2b"
             ],
             [
              1,
              "#fde725"
             ]
            ],
            "type": "surface"
           }
          ],
          "table": [
           {
            "cells": {
             "fill": {
              "color": "rgb(237,237,237)"
             },
             "line": {
              "color": "white"
             }
            },
            "header": {
             "fill": {
              "color": "rgb(217,217,217)"
             },
             "line": {
              "color": "white"
             }
            },
            "type": "table"
           }
          ]
         },
         "layout": {
          "annotationdefaults": {
           "arrowhead": 0,
           "arrowwidth": 1
          },
          "autotypenumbers": "strict",
          "coloraxis": {
           "colorbar": {
            "outlinewidth": 1,
            "tickcolor": "rgb(36,36,36)",
            "ticks": "outside"
           }
          },
          "colorscale": {
           "diverging": [
            [
             0,
             "rgb(103,0,31)"
            ],
            [
             0.1,
             "rgb(178,24,43)"
            ],
            [
             0.2,
             "rgb(214,96,77)"
            ],
            [
             0.3,
             "rgb(244,165,130)"
            ],
            [
             0.4,
             "rgb(253,219,199)"
            ],
            [
             0.5,
             "rgb(247,247,247)"
            ],
            [
             0.6,
             "rgb(209,229,240)"
            ],
            [
             0.7,
             "rgb(146,197,222)"
            ],
            [
             0.8,
             "rgb(67,147,195)"
            ],
            [
             0.9,
             "rgb(33,102,172)"
            ],
            [
             1,
             "rgb(5,48,97)"
            ]
           ],
           "sequential": [
            [
             0,
             "#440154"
            ],
            [
             0.1111111111111111,
             "#482878"
            ],
            [
             0.2222222222222222,
             "#3e4989"
            ],
            [
             0.3333333333333333,
             "#31688e"
            ],
            [
             0.4444444444444444,
             "#26828e"
            ],
            [
             0.5555555555555556,
             "#1f9e89"
            ],
            [
             0.6666666666666666,
             "#35b779"
            ],
            [
             0.7777777777777778,
             "#6ece58"
            ],
            [
             0.8888888888888888,
             "#b5de2b"
            ],
            [
             1,
             "#fde725"
            ]
           ],
           "sequentialminus": [
            [
             0,
             "#440154"
            ],
            [
             0.1111111111111111,
             "#482878"
            ],
            [
             0.2222222222222222,
             "#3e4989"
            ],
            [
             0.3333333333333333,
             "#31688e"
            ],
            [
             0.4444444444444444,
             "#26828e"
            ],
            [
             0.5555555555555556,
             "#1f9e89"
            ],
            [
             0.6666666666666666,
             "#35b779"
            ],
            [
             0.7777777777777778,
             "#6ece58"
            ],
            [
             0.8888888888888888,
             "#b5de2b"
            ],
            [
             1,
             "#fde725"
            ]
           ]
          },
          "colorway": [
           "#1F77B4",
           "#FF7F0E",
           "#2CA02C",
           "#D62728",
           "#9467BD",
           "#8C564B",
           "#E377C2",
           "#7F7F7F",
           "#BCBD22",
           "#17BECF"
          ],
          "font": {
           "color": "rgb(36,36,36)"
          },
          "geo": {
           "bgcolor": "white",
           "lakecolor": "white",
           "landcolor": "white",
           "showlakes": true,
           "showland": true,
           "subunitcolor": "white"
          },
          "hoverlabel": {
           "align": "left"
          },
          "hovermode": "closest",
          "mapbox": {
           "style": "light"
          },
          "paper_bgcolor": "white",
          "plot_bgcolor": "white",
          "polar": {
           "angularaxis": {
            "gridcolor": "rgb(232,232,232)",
            "linecolor": "rgb(36,36,36)",
            "showgrid": false,
            "showline": true,
            "ticks": "outside"
           },
           "bgcolor": "white",
           "radialaxis": {
            "gridcolor": "rgb(232,232,232)",
            "linecolor": "rgb(36,36,36)",
            "showgrid": false,
            "showline": true,
            "ticks": "outside"
           }
          },
          "scene": {
           "xaxis": {
            "backgroundcolor": "white",
            "gridcolor": "rgb(232,232,232)",
            "gridwidth": 2,
            "linecolor": "rgb(36,36,36)",
            "showbackground": true,
            "showgrid": false,
            "showline": true,
            "ticks": "outside",
            "zeroline": false,
            "zerolinecolor": "rgb(36,36,36)"
           },
           "yaxis": {
            "backgroundcolor": "white",
            "gridcolor": "rgb(232,232,232)",
            "gridwidth": 2,
            "linecolor": "rgb(36,36,36)",
            "showbackground": true,
            "showgrid": false,
            "showline": true,
            "ticks": "outside",
            "zeroline": false,
            "zerolinecolor": "rgb(36,36,36)"
           },
           "zaxis": {
            "backgroundcolor": "white",
            "gridcolor": "rgb(232,232,232)",
            "gridwidth": 2,
            "linecolor": "rgb(36,36,36)",
            "showbackground": true,
            "showgrid": false,
            "showline": true,
            "ticks": "outside",
            "zeroline": false,
            "zerolinecolor": "rgb(36,36,36)"
           }
          },
          "shapedefaults": {
           "fillcolor": "black",
           "line": {
            "width": 0
           },
           "opacity": 0.3
          },
          "ternary": {
           "aaxis": {
            "gridcolor": "rgb(232,232,232)",
            "linecolor": "rgb(36,36,36)",
            "showgrid": false,
            "showline": true,
            "ticks": "outside"
           },
           "baxis": {
            "gridcolor": "rgb(232,232,232)",
            "linecolor": "rgb(36,36,36)",
            "showgrid": false,
            "showline": true,
            "ticks": "outside"
           },
           "bgcolor": "white",
           "caxis": {
            "gridcolor": "rgb(232,232,232)",
            "linecolor": "rgb(36,36,36)",
            "showgrid": false,
            "showline": true,
            "ticks": "outside"
           }
          },
          "title": {
           "x": 0.05
          },
          "xaxis": {
           "automargin": true,
           "gridcolor": "rgb(232,232,232)",
           "linecolor": "rgb(36,36,36)",
           "showgrid": false,
           "showline": true,
           "ticks": "outside",
           "title": {
            "standoff": 15
           },
           "zeroline": false,
           "zerolinecolor": "rgb(36,36,36)"
          },
          "yaxis": {
           "automargin": true,
           "gridcolor": "rgb(232,232,232)",
           "linecolor": "rgb(36,36,36)",
           "showgrid": false,
           "showline": true,
           "ticks": "outside",
           "title": {
            "standoff": 15
           },
           "zeroline": false,
           "zerolinecolor": "rgb(36,36,36)"
          }
         }
        },
        "title": {
         "font": {
          "color": "Black",
          "size": 22
         },
         "text": "<b>Topics over Time</b>",
         "x": 0.4,
         "xanchor": "center",
         "y": 0.95,
         "yanchor": "top"
        },
        "width": 1250,
        "xaxis": {
         "showgrid": true
        },
        "yaxis": {
         "showgrid": true,
         "title": {
          "text": "Frequency"
         }
        }
       }
      }
     },
     "metadata": {},
     "output_type": "display_data"
    }
   ],
   "source": [
    "model.visualize_topics_over_time(topics_over_time, topics=[20, 21, 22, 23, 24, 25])\n",
    "#COVID-19 Topic\n"
   ]
  },
  {
   "cell_type": "code",
   "execution_count": 41,
   "metadata": {},
   "outputs": [
    {
     "data": {
      "application/vnd.plotly.v1+json": {
       "config": {
        "plotlyServerURL": "https://plot.ly"
       },
       "data": [
        {
         "hoverinfo": "text",
         "hovertext": [
          "<b>Topic 0</b><br>Words: tesol, building, education, skills, teacher",
          "<b>Topic 0</b><br>Words: technology, language, for, computers, iranian",
          "<b>Topic 0</b><br>Words: technology, language, projects, enhanced, foreign",
          "<b>Topic 0</b><br>Words: adolescents, runyakitara, urban, re, languages",
          "<b>Topic 0</b><br>Words: technology, language, technological, learning, technologies",
          "<b>Topic 0</b><br>Words: technology, survey, teachers, language, pedagogical",
          "<b>Topic 0</b><br>Words: technology, language, do, learning, assisted",
          "<b>Topic 0</b><br>Words: technology, language, educational, toward, english",
          "<b>Topic 0</b><br>Words: technology, language, enhanced, portugal, socioeconomic",
          "<b>Topic 0</b><br>Words: technology, language, learning, assisted, teachers",
          "<b>Topic 0</b><br>Words: technology, language, foreign, of, adoption",
          "<b>Topic 0</b><br>Words: signature, memes, defining, extended, ecological"
         ],
         "marker": {
          "color": "#E69F00"
         },
         "mode": "lines",
         "name": "0_technology_language_learning_teachers",
         "type": "scatter",
         "x": [
          2012,
          2013,
          2014,
          2015,
          2016,
          2017,
          2018,
          2019,
          2020,
          2021,
          2022,
          2023
         ],
         "y": [
          1,
          11,
          7,
          2,
          15,
          6,
          8,
          8,
          6,
          7,
          13,
          3
         ]
        },
        {
         "hoverinfo": "text",
         "hovertext": [
          "<b>Topic 1</b><br>Words: call, lomastv, whiteboards, constructivist, hegemonies",
          "<b>Topic 1</b><br>Words: call, tracking, sla, the, script",
          "<b>Topic 1</b><br>Words: call, sla, research, the, liou",
          "<b>Topic 1</b><br>Words: call, research, competencies, teacher, sla",
          "<b>Topic 1</b><br>Words: call, sla, from, research, the",
          "<b>Topic 1</b><br>Words: call, beliefs, design, possible, equitable",
          "<b>Topic 1</b><br>Words: call, 2003, reporting, needle, transparency",
          "<b>Topic 1</b><br>Words: call, research, unearthing, hidden, discussing",
          "<b>Topic 1</b><br>Words: now, where, we, are, call",
          "<b>Topic 1</b><br>Words: call, swedish, chatrooms, scripted, newly",
          "<b>Topic 1</b><br>Words: call, professional, teachers, images, spread",
          "<b>Topic 1</b><br>Words: replication, łodzikowski, exact, 2021, designs"
         ],
         "marker": {
          "color": "#56B4E9"
         },
         "mode": "lines",
         "name": "1_call_research_sla_the",
         "type": "scatter",
         "x": [
          2012,
          2013,
          2014,
          2015,
          2016,
          2017,
          2018,
          2019,
          2020,
          2021,
          2022,
          2023
         ],
         "y": [
          3,
          13,
          6,
          10,
          9,
          4,
          4,
          2,
          1,
          5,
          6,
          2
         ]
        },
        {
         "hoverinfo": "text",
         "hovertext": [
          "<b>Topic 2</b><br>Words: communicating, product, grammatically, exploiting, prototype",
          "<b>Topic 2</b><br>Words: databases, dealing, clause, linguistics, corpora",
          "<b>Topic 2</b><br>Words: data, driven, corpus, induction, examples",
          "<b>Topic 2</b><br>Words: corpus, dictionaries, collocations, concordancer, symmetrical",
          "<b>Topic 2</b><br>Words: driven, data, collocations, corpus, for",
          "<b>Topic 2</b><br>Words: corpus, data, driven, dictionaries, concordance",
          "<b>Topic 2</b><br>Words: unlearning, overgenerated, conditions, comprehend, be",
          "<b>Topic 2</b><br>Words: driven, corpus, data, readability, deductive",
          "<b>Topic 2</b><br>Words: below, ambiguity, tolerance, referencing, c1",
          "<b>Topic 2</b><br>Words: collocation, data, driven, identifying, query",
          "<b>Topic 2</b><br>Words: corpus, equity, emergency, peruvian, editable",
          "<b>Topic 2</b><br>Words: corpus, unpacking, integrate, survey, intention"
         ],
         "marker": {
          "color": "#009E73"
         },
         "mode": "lines",
         "name": "2_data_corpus_driven_collocation",
         "type": "scatter",
         "x": [
          2012,
          2013,
          2014,
          2015,
          2016,
          2017,
          2018,
          2019,
          2020,
          2021,
          2022,
          2023
         ],
         "y": [
          3,
          3,
          5,
          6,
          7,
          14,
          2,
          4,
          3,
          8,
          4,
          2
         ]
        },
        {
         "hoverinfo": "text",
         "hovertext": [
          "<b>Topic 3</b><br>Words: negative, situation, managing, written, synchronous",
          "<b>Topic 3</b><br>Words: feedback, writing, automated, essay, critiquing",
          "<b>Topic 3</b><br>Words: writing, pauses, better, automated, feedback",
          "<b>Topic 3</b><br>Words: writing, feedback, students, mistrust, expert",
          "<b>Topic 3</b><br>Words: feedback, writing, automated, corrective, evaluation",
          "<b>Topic 3</b><br>Words: writing, revisions, docs, editing, peer",
          "<b>Topic 3</b><br>Words: automated, feedback, glossed, turnitin, well",
          "<b>Topic 3</b><br>Words: writing, automated, feedback, apos, efl",
          "<b>Topic 3</b><br>Words: writing, feedback, automated, apos, sat",
          "<b>Topic 3</b><br>Words: writing, feedback, corrective, accuracy, course",
          "<b>Topic 3</b><br>Words: feedback, writing, automated, corrective, evaluation",
          "<b>Topic 3</b><br>Words: peer, writing, face, review, automated"
         ],
         "marker": {
          "color": "#F0E442"
         },
         "mode": "lines",
         "name": "3_writing_feedback_automated_corrective",
         "type": "scatter",
         "x": [
          2012,
          2013,
          2014,
          2015,
          2016,
          2017,
          2018,
          2019,
          2020,
          2021,
          2022,
          2023
         ],
         "y": [
          1,
          4,
          3,
          4,
          8,
          2,
          3,
          5,
          5,
          6,
          12,
          2
         ]
        },
        {
         "hoverinfo": "text",
         "hovertext": [
          "<b>Topic 4</b><br>Words: mobile, platform, learning, ballance, no",
          "<b>Topic 4</b><br>Words: mobile, learning, phones, assisted, usage",
          "<b>Topic 4</b><br>Words: mobile, impacting, smartphones, learning, familiar",
          "<b>Topic 4</b><br>Words: mobile, phone, japan, 2000, engaging",
          "<b>Topic 4</b><br>Words: mobile, bravely, conjugating, concept, verbs",
          "<b>Topic 4</b><br>Words: mobile, learning, smartphones, assessments, ubiquitous",
          "<b>Topic 4</b><br>Words: mobile, app, quot, designed, landscape",
          "<b>Topic 4</b><br>Words: mobile, learning, assisted, vocabulary, reactions",
          "<b>Topic 4</b><br>Words: mobile, assisted, settings, recall, theory",
          "<b>Topic 4</b><br>Words: mobile, class, learning, difference, older",
          "<b>Topic 4</b><br>Words: mobile, learning, english, using, assisted",
          "<b>Topic 4</b><br>Words: release, duolingo, public, early, mobile"
         ],
         "marker": {
          "color": "#D55E00"
         },
         "mode": "lines",
         "name": "4_mobile_learning_assisted_language",
         "type": "scatter",
         "x": [
          2012,
          2013,
          2014,
          2015,
          2016,
          2017,
          2018,
          2019,
          2020,
          2021,
          2022,
          2023
         ],
         "y": [
          3,
          10,
          4,
          2,
          3,
          5,
          4,
          6,
          2,
          4,
          8,
          1
         ]
        },
        {
         "hoverinfo": "text",
         "hovertext": [
          "<b>Topic 5</b><br>Words: wikis, collaborative, cooperation, audience, writing",
          "<b>Topic 5</b><br>Words: wikis, collaborative, wiki, writing, piazza",
          "<b>Topic 5</b><br>Words: collaborative, wikis, writing, exploring, dialogues",
          "<b>Topic 5</b><br>Words: socialization, praxis, wikipedia, writing, active",
          "<b>Topic 5</b><br>Words: writing, collaborative, l2, wiki, written",
          "<b>Topic 5</b><br>Words: collaborative, writing, wiki, activities, l2",
          "<b>Topic 5</b><br>Words: collaborative, writing, mediated, wiki, indirect",
          "<b>Topic 5</b><br>Words: wiki, collaborative, writing, circles, regulation",
          "<b>Topic 5</b><br>Words: writing, collaborative, face, ba, thesis",
          "<b>Topic 5</b><br>Words: collaborative, writing, process, graph, keystroke",
          "<b>Topic 5</b><br>Words: writing, collaborative, regulation, mediated, wiki",
          "<b>Topic 5</b><br>Words: multiple, analyses, sources, published, 2015"
         ],
         "marker": {
          "color": "#0072B2"
         },
         "mode": "lines",
         "name": "5_collaborative_writing_wiki_mediated",
         "type": "scatter",
         "x": [
          2012,
          2013,
          2014,
          2015,
          2016,
          2017,
          2018,
          2019,
          2020,
          2021,
          2022,
          2023
         ],
         "y": [
          4,
          5,
          4,
          2,
          7,
          7,
          3,
          4,
          3,
          3,
          7,
          1
         ]
        },
        {
         "hoverinfo": "text",
         "hovertext": [
          "<b>Topic 6</b><br>Words: pronunciation, stroke, memorization, animation, flashcards",
          "<b>Topic 6</b><br>Words: selection, mispronunciation, unsupervised, accented, efficient",
          "<b>Topic 6</b><br>Words: acoustic, implication, pronunciation, spectrographic, tongue",
          "<b>Topic 6</b><br>Words: speech, pronunciation, recognition, word, japanese",
          "<b>Topic 6</b><br>Words: pronunciation, training, instruction, duration, vowel",
          "<b>Topic 6</b><br>Words: wrs, speech, pronunciation, word, mispronounced",
          "<b>Topic 6</b><br>Words: pronunciation, fossilised, podcast, dictation, asr",
          "<b>Topic 6</b><br>Words: pronunciation, assistants, intelligent, personal, instruction",
          "<b>Topic 6</b><br>Words: phonological, allophonic, transcription, association, awareness",
          "<b>Topic 6</b><br>Words: pronunciation, input, speech, recognition, quot",
          "<b>Topic 6</b><br>Words: automatic, speech, pronunciation, recognition, ed"
         ],
         "marker": {
          "color": "#CC79A7"
         },
         "mode": "lines",
         "name": "6_pronunciation_speech_training_recognit...",
         "type": "scatter",
         "x": [
          2012,
          2013,
          2014,
          2015,
          2016,
          2017,
          2019,
          2020,
          2021,
          2022,
          2023
         ],
         "y": [
          4,
          2,
          2,
          5,
          5,
          3,
          3,
          7,
          2,
          7,
          4
         ]
        },
        {
         "hoverinfo": "text",
         "hovertext": [
          "<b>Topic 7</b><br>Words: native, video, multimodal, remixing, videoconferencing",
          "<b>Topic 7</b><br>Words: conferencing, multimodal, interactions, synchronous, videoconferencing",
          "<b>Topic 7</b><br>Words: conferencing, experimental, during, video, corrective",
          "<b>Topic 7</b><br>Words: multimodality, sustaining, intersection, subversion, multimodal",
          "<b>Topic 7</b><br>Words: multimodal, challenges, videoconferencing, conferencing, video",
          "<b>Topic 7</b><br>Words: multimodal, transcribing, webcam, sharing, agency",
          "<b>Topic 7</b><br>Words: multimodal, video, embedded, eil, statistically",
          "<b>Topic 7</b><br>Words: provision, regional, rural, networked, videoconferencing",
          "<b>Topic 7</b><br>Words: mediating, verbal, videoconferencing, ensemble, multimodal",
          "<b>Topic 7</b><br>Words: videoconferencing, multimodal, via, instructions, inter",
          "<b>Topic 7</b><br>Words: eye, tracking, unknown, webconference, peers",
          "<b>Topic 7</b><br>Words: multimodal, first, videoconferencing, peer, video"
         ],
         "marker": {
          "color": "#E69F00"
         },
         "mode": "lines",
         "name": "7_multimodal_videoconferencing_video_con...",
         "type": "scatter",
         "x": [
          2012,
          2013,
          2014,
          2015,
          2016,
          2017,
          2018,
          2019,
          2020,
          2021,
          2022,
          2023
         ],
         "y": [
          4,
          5,
          1,
          2,
          5,
          3,
          4,
          2,
          3,
          5,
          4,
          5
         ]
        },
        {
         "hoverinfo": "text",
         "hovertext": [
          "<b>Topic 8</b><br>Words: game, playing, world, warcraft, games",
          "<b>Topic 8</b><br>Words: play, learn, gaming, culture, to",
          "<b>Topic 8</b><br>Words: game, digital, games, gaming, something",
          "<b>Topic 8</b><br>Words: used, game, massively, multiplayer, games",
          "<b>Topic 8</b><br>Words: game, games, meets, simulation, skilled",
          "<b>Topic 8</b><br>Words: game, gaming, digital, encouraging, brain",
          "<b>Topic 8</b><br>Words: game, rats, activate, upper, gaming",
          "<b>Topic 8</b><br>Words: games, game, digital, multiplayer, massively",
          "<b>Topic 8</b><br>Words: game, digital, games, play, scenario",
          "<b>Topic 8</b><br>Words: game, gamers, guerrilla, catalan, fan",
          "<b>Topic 8</b><br>Words: game, digital, dgbll, discriminant, mechanics",
          "<b>Topic 8</b><br>Words: game, phrasal, verbs, massively, multiplayer"
         ],
         "marker": {
          "color": "#56B4E9"
         },
         "mode": "lines",
         "name": "8_game_games_digital_playing",
         "type": "scatter",
         "x": [
          2012,
          2013,
          2014,
          2015,
          2016,
          2017,
          2018,
          2019,
          2020,
          2021,
          2022,
          2023
         ],
         "y": [
          7,
          1,
          4,
          2,
          3,
          5,
          2,
          4,
          4,
          4,
          3,
          2
         ]
        },
        {
         "hoverinfo": "text",
         "hovertext": [
          "<b>Topic 9</b><br>Words: online, challenging, subject, required, other",
          "<b>Topic 9</b><br>Words: emic, complex, informal, understanding, dynamic",
          "<b>Topic 9</b><br>Words: quot, interaktiv, purposing, welle, deutsch",
          "<b>Topic 9</b><br>Words: face, candidate, delivery, thinking, second",
          "<b>Topic 9</b><br>Words: online, webconferencing, achieving, labeling, fully",
          "<b>Topic 9</b><br>Words: guide, task, teaching, teachers, online",
          "<b>Topic 9</b><br>Words: online, analytics, student, courses, engagement",
          "<b>Topic 9</b><br>Words: wilds, riding, bronies, wild, digital",
          "<b>Topic 9</b><br>Words: vision, languages, making, professional, teaching",
          "<b>Topic 9</b><br>Words: quality, online, mooc, retention, factors",
          "<b>Topic 9</b><br>Words: online, moocs, 2018, collective, semi",
          "<b>Topic 9</b><br>Words: theorizing, multiperspectivist, geosemiotics, gray, mobiles"
         ],
         "marker": {
          "color": "#009E73"
         },
         "mode": "lines",
         "name": "9_online_language_learning_moocs",
         "type": "scatter",
         "x": [
          2012,
          2013,
          2014,
          2015,
          2016,
          2017,
          2018,
          2019,
          2020,
          2021,
          2022,
          2023
         ],
         "y": [
          5,
          1,
          2,
          2,
          5,
          1,
          6,
          2,
          1,
          6,
          5,
          3
         ]
        },
        {
         "hoverinfo": "text",
         "hovertext": [
          "<b>Topic 10</b><br>Words: telecollaboration, hegemonic, issues, power, dialogue",
          "<b>Topic 10</b><br>Words: telecollaboration, gaps, filling, sino, telecollaborative",
          "<b>Topic 10</b><br>Words: telecollaboration, service, pre, cross, education",
          "<b>Topic 10</b><br>Words: telecollaboration, pedagogical, telecollaborative, able, objectives",
          "<b>Topic 10</b><br>Words: telecollaboration, lingua, franca, request, innovation",
          "<b>Topic 10</b><br>Words: telecollaboration, intercultural, telecollaborative, practice, 2010",
          "<b>Topic 10</b><br>Words: telecollaboration, telecollaborative, germany, incidents, background",
          "<b>Topic 10</b><br>Words: telecollaboration, intercultural, prospective, successful, usa",
          "<b>Topic 10</b><br>Words: telecollaborative, telecollaboration, intercultural, american, identities",
          "<b>Topic 10</b><br>Words: telecollaboration, sensemaking, 56, pivoting, multinational",
          "<b>Topic 10</b><br>Words: telecollaboration, kuwaiti, competences, telecollaborative, colombian"
         ],
         "marker": {
          "color": "#F0E442"
         },
         "mode": "lines",
         "name": "10_telecollaboration_intercultural_telec...",
         "type": "scatter",
         "x": [
          2012,
          2013,
          2015,
          2016,
          2017,
          2018,
          2019,
          2020,
          2021,
          2022,
          2023
         ],
         "y": [
          2,
          2,
          5,
          4,
          3,
          5,
          5,
          4,
          3,
          4,
          2
         ]
        },
        {
         "hoverinfo": "text",
         "hovertext": [
          "<b>Topic 11</b><br>Words: vocabulary, card, lecture, programme, opencourseware",
          "<b>Topic 11</b><br>Words: vocabulary, gloss, types, reading, opencourseware",
          "<b>Topic 11</b><br>Words: glossing, incidental, glosses, vocabulary, comprehension",
          "<b>Topic 11</b><br>Words: vocabulary, toeic, spaced, repetition, glosses",
          "<b>Topic 11</b><br>Words: vocabulary, electronic, glosses, texting, concordance",
          "<b>Topic 11</b><br>Words: vocabulary, gloss, incidental, contextualized, recall",
          "<b>Topic 11</b><br>Words: vocabulary, retention, richard, afrikaans, mayer",
          "<b>Topic 11</b><br>Words: image, facilitate, authentic, recognition, contexts",
          "<b>Topic 11</b><br>Words: gloss, vocabulary, dual, comprehension, dynamic",
          "<b>Topic 11</b><br>Words: vocabulary, academic, wordlists, mother, functioning",
          "<b>Topic 11</b><br>Words: vocabulary, arabic, heterogeneous, intervention, glosses"
         ],
         "marker": {
          "color": "#D55E00"
         },
         "mode": "lines",
         "name": "11_vocabulary_gloss_glosses_comprehensio...",
         "type": "scatter",
         "x": [
          2012,
          2013,
          2014,
          2016,
          2017,
          2018,
          2019,
          2020,
          2021,
          2022,
          2023
         ],
         "y": [
          4,
          4,
          3,
          5,
          2,
          2,
          3,
          1,
          4,
          4,
          2
         ]
        },
        {
         "hoverinfo": "text",
         "hovertext": [
          "<b>Topic 12</b><br>Words: captions, nlp, extensible, aspect, temporal",
          "<b>Topic 12</b><br>Words: supports, caption, reliance, testing, comprehension",
          "<b>Topic 12</b><br>Words: comprehension, listening, captions, video, effects",
          "<b>Topic 12</b><br>Words: filtering, handheld, caption, adaptive, devices",
          "<b>Topic 12</b><br>Words: listening, reduce, preview, hearing, several",
          "<b>Topic 12</b><br>Words: comprehension, listening, captions, television, synchronized",
          "<b>Topic 12</b><br>Words: videos, metacognitive, listener, watching, captioned",
          "<b>Topic 12</b><br>Words: captions, comprehension, captioned, videos, audioconferencing",
          "<b>Topic 12</b><br>Words: captioned, videos, listening, comprehension, subtitled",
          "<b>Topic 12</b><br>Words: vlogs, captions, comprehension, effects, l2",
          "<b>Topic 12</b><br>Words: captions, video, comprehension, captioned, listening",
          "<b>Topic 12</b><br>Words: presentation, full, nonverbal, display, partial"
         ],
         "marker": {
          "color": "#0072B2"
         },
         "mode": "lines",
         "name": "12_comprehension_captions_listening_capt...",
         "type": "scatter",
         "x": [
          2012,
          2013,
          2014,
          2015,
          2016,
          2017,
          2018,
          2019,
          2020,
          2021,
          2022,
          2023
         ],
         "y": [
          2,
          1,
          6,
          1,
          3,
          3,
          3,
          4,
          3,
          1,
          5,
          1
         ]
        },
        {
         "hoverinfo": "text",
         "hovertext": [
          "<b>Topic 13</b><br>Words: agenda, dimensional, worlds, three, virtual",
          "<b>Topic 13</b><br>Words: added, worlds, there, virtual, value",
          "<b>Topic 13</b><br>Words: 3d, virtual, london, worlds, contextual",
          "<b>Topic 13</b><br>Words: 3d, irish, annotated, engaging, reality",
          "<b>Topic 13</b><br>Words: world, virtual, 3d, calc, windows",
          "<b>Topic 13</b><br>Words: cases, 3d, simulated, csl, three",
          "<b>Topic 13</b><br>Words: virtual, 3d, reality, worlds, earth",
          "<b>Topic 13</b><br>Words: immersive, reality, 3d, virtual, quot",
          "<b>Topic 13</b><br>Words: reality, virtual, headset, expeditions, traveling",
          "<b>Topic 13</b><br>Words: reality, virtual, immersive, city, entirely"
         ],
         "marker": {
          "color": "#CC79A7"
         },
         "mode": "lines",
         "name": "13_virtual_3d_reality_immersive",
         "type": "scatter",
         "x": [
          2012,
          2013,
          2015,
          2016,
          2018,
          2019,
          2020,
          2021,
          2022,
          2023
         ],
         "y": [
          1,
          1,
          3,
          2,
          2,
          2,
          4,
          4,
          3,
          4
         ]
        },
        {
         "hoverinfo": "text",
         "hovertext": [
          "<b>Topic 14</b><br>Words: readiness, hybrid, fl, attitudes, toward",
          "<b>Topic 14</b><br>Words: active, flipping, foster, classroom, flipped",
          "<b>Topic 14</b><br>Words: flipped, classroom, senior, elt, year",
          "<b>Topic 14</b><br>Words: flipped, classroom, chinese, flipping, mastery",
          "<b>Topic 14</b><br>Words: flipped, refusal, appropriate, achievement, perception",
          "<b>Topic 14</b><br>Words: flipped, classroom, quot, demotivation, if",
          "<b>Topic 14</b><br>Words: flipped, flipping, reversal, models, classroom",
          "<b>Topic 14</b><br>Words: flipped, classroom, model, review, classrooms",
          "<b>Topic 14</b><br>Words: anxiety, classroom, flipped, reading, foreign"
         ],
         "marker": {
          "color": "#E69F00"
         },
         "mode": "lines",
         "name": "14_flipped_classroom_flipping_classrooms",
         "type": "scatter",
         "x": [
          2012,
          2015,
          2017,
          2018,
          2019,
          2020,
          2021,
          2022,
          2023
         ],
         "y": [
          1,
          1,
          3,
          4,
          1,
          5,
          2,
          5,
          1
         ]
        },
        {
         "hoverinfo": "text",
         "hovertext": [
          "<b>Topic 15</b><br>Words: oral, communication, mediated, notional, spontaneous",
          "<b>Topic 15</b><br>Words: ipads, oral, advanced, proficiency, learner",
          "<b>Topic 15</b><br>Words: face, mediated, oral, affordance, computer",
          "<b>Topic 15</b><br>Words: cmc, communication, oral, deaf, divide",
          "<b>Topic 15</b><br>Words: oral, performance, beginners, csl, voice",
          "<b>Topic 15</b><br>Words: oral, fuency, emotional, voicethread, mediated",
          "<b>Topic 15</b><br>Words: oral, communication, refining, pragmatically, computer",
          "<b>Topic 15</b><br>Words: recording, oral, lower, voice, communication",
          "<b>Topic 15</b><br>Words: distance, oral, proficiency, language, english",
          "<b>Topic 15</b><br>Words: oral, mediated, face, seamless, shaping"
         ],
         "marker": {
          "color": "#56B4E9"
         },
         "mode": "lines",
         "name": "15_oral_communication_mediated_computer",
         "type": "scatter",
         "x": [
          2012,
          2013,
          2014,
          2015,
          2016,
          2017,
          2018,
          2019,
          2020,
          2022
         ],
         "y": [
          3,
          1,
          2,
          2,
          2,
          4,
          3,
          1,
          1,
          3
         ]
        },
        {
         "hoverinfo": "text",
         "hovertext": [
          "<b>Topic 16</b><br>Words: structure, intercultural, activity, exchange, analysis",
          "<b>Topic 16</b><br>Words: quot, major, believe, participant, nonnative",
          "<b>Topic 16</b><br>Words: nurses, born, intercultural, web, communicative",
          "<b>Topic 16</b><br>Words: commenting, youtube, intercultural, evidence, comments",
          "<b>Topic 16</b><br>Words: intercultural, internet, exchange, cross, oriented",
          "<b>Topic 16</b><br>Words: intercultural, phatic, cheap, communication, small",
          "<b>Topic 16</b><br>Words: intercultural, exchange, face, thanks, gracias",
          "<b>Topic 16</b><br>Words: intercultural, campus, guided, reflection, methodologies",
          "<b>Topic 16</b><br>Words: intercultural, encounter, composition, varieties, mediator",
          "<b>Topic 16</b><br>Words: insider, xr, hands, room, cultures",
          "<b>Topic 16</b><br>Words: 23, large, reviewing, scale, virtual"
         ],
         "marker": {
          "color": "#009E73"
         },
         "mode": "lines",
         "name": "16_intercultural_exchange_competence_exc...",
         "type": "scatter",
         "x": [
          2012,
          2013,
          2014,
          2015,
          2016,
          2017,
          2018,
          2019,
          2020,
          2021,
          2022
         ],
         "y": [
          1,
          1,
          2,
          1,
          1,
          2,
          5,
          2,
          3,
          1,
          1
         ]
        },
        {
         "hoverinfo": "text",
         "hovertext": [
          "<b>Topic 17</b><br>Words: social, network, esol, sociopragmatic, multiliteracy",
          "<b>Topic 17</b><br>Words: appropriately, effectively, facebook, training, use",
          "<b>Topic 17</b><br>Words: social, microblogging, transformation, networking, resource",
          "<b>Topic 17</b><br>Words: social, netnography, network, explore, websites",
          "<b>Topic 17</b><br>Words: social, sites, networks, busuu, networking",
          "<b>Topic 17</b><br>Words: social, teaches, networks, networking, talk",
          "<b>Topic 17</b><br>Words: minority, social, conversation, method, authentic",
          "<b>Topic 17</b><br>Words: social, media, networks, investigate, justice",
          "<b>Topic 17</b><br>Words: social, media, platform, networking, 2008"
         ],
         "marker": {
          "color": "#F0E442"
         },
         "mode": "lines",
         "name": "17_social_media_networking_networks",
         "type": "scatter",
         "x": [
          2012,
          2013,
          2014,
          2015,
          2016,
          2017,
          2018,
          2019,
          2022
         ],
         "y": [
          2,
          1,
          2,
          2,
          2,
          2,
          1,
          3,
          5
         ]
        },
        {
         "hoverinfo": "text",
         "hovertext": [
          "<b>Topic 18</b><br>Words: reading, inferential, five, screen, graduate",
          "<b>Topic 18</b><br>Words: reading, what, book, work, think",
          "<b>Topic 18</b><br>Words: reading, strategy, comprehension, university, efl",
          "<b>Topic 18</b><br>Words: reading, comprehension, braasch, greasser, hypermedia",
          "<b>Topic 18</b><br>Words: reading, home, books, responding, purpose",
          "<b>Topic 18</b><br>Words: reading, annotations, progress, processes, its",
          "<b>Topic 18</b><br>Words: assessment, inferencing, static, computerized, lexical",
          "<b>Topic 18</b><br>Words: technique, when, reading, response, efficacy",
          "<b>Topic 18</b><br>Words: computerized, reading, promoting, dynamic, assessment",
          "<b>Topic 18</b><br>Words: personalized, reading, effect, listening, skills"
         ],
         "marker": {
          "color": "#D55E00"
         },
         "mode": "lines",
         "name": "18_reading_strategies_comprehension_stra...",
         "type": "scatter",
         "x": [
          2012,
          2013,
          2014,
          2015,
          2016,
          2017,
          2018,
          2019,
          2020,
          2022
         ],
         "y": [
          2,
          2,
          4,
          4,
          3,
          1,
          1,
          1,
          1,
          1
         ]
        },
        {
         "hoverinfo": "text",
         "hovertext": [
          "<b>Topic 19</b><br>Words: contested, vles, shifting, tutor, space",
          "<b>Topic 19</b><br>Words: virtual, environment, collaborating, convergence, professional",
          "<b>Topic 19</b><br>Words: socio, presence, cognitive, synchronous, social",
          "<b>Topic 19</b><br>Words: takes, scholars, multiuser, build, digitally",
          "<b>Topic 19</b><br>Words: borderlands, languaging, spaces, mapping, literacy",
          "<b>Topic 19</b><br>Words: presence, online, entrant, collaborations, social",
          "<b>Topic 19</b><br>Words: formative, presence, exchange, virtual, blended",
          "<b>Topic 19</b><br>Words: community, fail, book, facebook, virtual",
          "<b>Topic 19</b><br>Words: professional, exchange, virtual, apos, youth",
          "<b>Topic 19</b><br>Words: exchange, literacy, critical, virtual, interpretivist"
         ],
         "marker": {
          "color": "#0072B2"
         },
         "mode": "lines",
         "name": "19_virtual_exchange_presence_professiona...",
         "type": "scatter",
         "x": [
          2012,
          2013,
          2014,
          2015,
          2016,
          2018,
          2019,
          2020,
          2022,
          2023
         ],
         "y": [
          1,
          3,
          1,
          3,
          1,
          3,
          1,
          1,
          3,
          2
         ]
        },
        {
         "hoverinfo": "text",
         "hovertext": [
          "<b>Topic 20</b><br>Words: blended, generation, chaos, tutors, difficulties",
          "<b>Topic 20</b><br>Words: dilemmas, blended, experiences, teacher, learner",
          "<b>Topic 20</b><br>Words: blended, interpretation, appropriateness, explorations, areas",
          "<b>Topic 20</b><br>Words: blended, presence, participation, courses, spanish",
          "<b>Topic 20</b><br>Words: f2f, blended, comparing, roles, course",
          "<b>Topic 20</b><br>Words: blended, inquiry, porous, ownership, expanded",
          "<b>Topic 20</b><br>Words: blended, environment, university, perceptions, learner",
          "<b>Topic 20</b><br>Words: blended, indexed, inclusive, ssci, articles",
          "<b>Topic 20</b><br>Words: blended, dropping, stracke, 2007, college"
         ],
         "marker": {
          "color": "#CC79A7"
         },
         "mode": "lines",
         "name": "20_blended_learning_inquiry_college",
         "type": "scatter",
         "x": [
          2012,
          2013,
          2014,
          2018,
          2019,
          2020,
          2021,
          2022,
          2023
         ],
         "y": [
          5,
          1,
          3,
          1,
          1,
          3,
          1,
          2,
          2
         ]
        },
        {
         "hoverinfo": "text",
         "hovertext": [
          "<b>Topic 21</b><br>Words: it, storytelling, piece, proud, did",
          "<b>Topic 21</b><br>Words: storytelling, digital, enjoyment, concerns, malaysian",
          "<b>Topic 21</b><br>Words: mind, narratives, structuring, gameplay, story",
          "<b>Topic 21</b><br>Words: stories, storytelling, digital, bringing, facilitate",
          "<b>Topic 21</b><br>Words: storytelling, digital, stories, story, creativity",
          "<b>Topic 21</b><br>Words: relational, stories, researching, account, pragmatics",
          "<b>Topic 21</b><br>Words: story, storytelling, stage, six, structure",
          "<b>Topic 21</b><br>Words: storytelling, digital, creative, interdisciplinary, experienced",
          "<b>Topic 21</b><br>Words: dimensions, creativity, her, story, international"
         ],
         "marker": {
          "color": "#E69F00"
         },
         "mode": "lines",
         "name": "21_storytelling_digital_story_stories",
         "type": "scatter",
         "x": [
          2013,
          2014,
          2015,
          2016,
          2019,
          2020,
          2021,
          2022,
          2023
         ],
         "y": [
          1,
          3,
          1,
          3,
          3,
          1,
          2,
          3,
          1
         ]
        },
        {
         "hoverinfo": "text",
         "hovertext": [
          "<b>Topic 22</b><br>Words: aptitude, translation, assessing, attitude, course",
          "<b>Topic 22</b><br>Words: grammatical, error, translation, corpora, l2",
          "<b>Topic 22</b><br>Words: translation, specialized, cooperative, levels, interest",
          "<b>Topic 22</b><br>Words: relationships, human, evaluations, texts, automated",
          "<b>Topic 22</b><br>Words: drafts, preliminary, translate, google, investigation",
          "<b>Topic 22</b><br>Words: machine, translation, impact, using, students",
          "<b>Topic 22</b><br>Words: mediate, machine, translation, korean, revision",
          "<b>Topic 22</b><br>Words: machine, translation, across, levels, students",
          "<b>Topic 22</b><br>Words: machine, translation, effectiveness, lee, assessing"
         ],
         "marker": {
          "color": "#56B4E9"
         },
         "mode": "lines",
         "name": "22_translation_machine_writing_levels",
         "type": "scatter",
         "x": [
          2012,
          2014,
          2016,
          2018,
          2019,
          2020,
          2021,
          2022,
          2023
         ],
         "y": [
          1,
          4,
          1,
          1,
          1,
          1,
          1,
          5,
          2
         ]
        },
        {
         "hoverinfo": "text",
         "hovertext": [
          "<b>Topic 23</b><br>Words: mall, reply, tower, field, somewhere",
          "<b>Topic 23</b><br>Words: mall, doesn, still, fringes, tell",
          "<b>Topic 23</b><br>Words: mall, outcomes, twenty, implementation, years",
          "<b>Topic 23</b><br>Words: mall, preschool, independent, recall, children",
          "<b>Topic 23</b><br>Words: mall, contextualised, oer, processing, empirical",
          "<b>Topic 23</b><br>Words: mall, narrative, meta, review, skills",
          "<b>Topic 23</b><br>Words: mall, 1994, efficiency, outcomes, comprehensive",
          "<b>Topic 23</b><br>Words: mall, oer, turkish, polish, portuguese"
         ],
         "marker": {
          "color": "#009E73"
         },
         "mode": "lines",
         "name": "23_mall_meta_oer_processing",
         "type": "scatter",
         "x": [
          2013,
          2014,
          2015,
          2016,
          2018,
          2021,
          2022,
          2023
         ],
         "y": [
          2,
          3,
          1,
          1,
          2,
          1,
          3,
          1
         ]
        },
        {
         "hoverinfo": "text",
         "hovertext": [
          "<b>Topic 24</b><br>Words: chat, planning, text, investigating, performance",
          "<b>Topic 24</b><br>Words: anonymity, discussions, asynchronous, motivation, l2",
          "<b>Topic 24</b><br>Words: chat, independent, interactive, versus, l2",
          "<b>Topic 24</b><br>Words: chat, quot, synthetic, audio, text",
          "<b>Topic 24</b><br>Words: blogging, voice, performance, speaking, l2",
          "<b>Topic 24</b><br>Words: chat, text, interaction, accomplishment, transcripts",
          "<b>Topic 24</b><br>Words: chat, task, child, interaction, l2",
          "<b>Topic 24</b><br>Words: closings, chat, interactional, text, l2",
          "<b>Topic 24</b><br>Words: topic, management, task, interactions, written"
         ],
         "marker": {
          "color": "#F0E442"
         },
         "mode": "lines",
         "name": "24_chat_task_text_l2",
         "type": "scatter",
         "x": [
          2012,
          2013,
          2014,
          2015,
          2016,
          2017,
          2018,
          2020,
          2023
         ],
         "y": [
          1,
          1,
          1,
          1,
          1,
          3,
          4,
          1,
          1
         ]
        }
       ],
       "layout": {
        "height": 450,
        "hoverlabel": {
         "bgcolor": "white",
         "font": {
          "family": "Rockwell",
          "size": 16
         }
        },
        "legend": {
         "title": {
          "text": "<b>Global Topic Representation"
         }
        },
        "template": {
         "data": {
          "bar": [
           {
            "error_x": {
             "color": "rgb(36,36,36)"
            },
            "error_y": {
             "color": "rgb(36,36,36)"
            },
            "marker": {
             "line": {
              "color": "white",
              "width": 0.5
             },
             "pattern": {
              "fillmode": "overlay",
              "size": 10,
              "solidity": 0.2
             }
            },
            "type": "bar"
           }
          ],
          "barpolar": [
           {
            "marker": {
             "line": {
              "color": "white",
              "width": 0.5
             },
             "pattern": {
              "fillmode": "overlay",
              "size": 10,
              "solidity": 0.2
             }
            },
            "type": "barpolar"
           }
          ],
          "carpet": [
           {
            "aaxis": {
             "endlinecolor": "rgb(36,36,36)",
             "gridcolor": "white",
             "linecolor": "white",
             "minorgridcolor": "white",
             "startlinecolor": "rgb(36,36,36)"
            },
            "baxis": {
             "endlinecolor": "rgb(36,36,36)",
             "gridcolor": "white",
             "linecolor": "white",
             "minorgridcolor": "white",
             "startlinecolor": "rgb(36,36,36)"
            },
            "type": "carpet"
           }
          ],
          "choropleth": [
           {
            "colorbar": {
             "outlinewidth": 1,
             "tickcolor": "rgb(36,36,36)",
             "ticks": "outside"
            },
            "type": "choropleth"
           }
          ],
          "contour": [
           {
            "colorbar": {
             "outlinewidth": 1,
             "tickcolor": "rgb(36,36,36)",
             "ticks": "outside"
            },
            "colorscale": [
             [
              0,
              "#440154"
             ],
             [
              0.1111111111111111,
              "#482878"
             ],
             [
              0.2222222222222222,
              "#3e4989"
             ],
             [
              0.3333333333333333,
              "#31688e"
             ],
             [
              0.4444444444444444,
              "#26828e"
             ],
             [
              0.5555555555555556,
              "#1f9e89"
             ],
             [
              0.6666666666666666,
              "#35b779"
             ],
             [
              0.7777777777777778,
              "#6ece58"
             ],
             [
              0.8888888888888888,
              "#b5de2b"
             ],
             [
              1,
              "#fde725"
             ]
            ],
            "type": "contour"
           }
          ],
          "contourcarpet": [
           {
            "colorbar": {
             "outlinewidth": 1,
             "tickcolor": "rgb(36,36,36)",
             "ticks": "outside"
            },
            "type": "contourcarpet"
           }
          ],
          "heatmap": [
           {
            "colorbar": {
             "outlinewidth": 1,
             "tickcolor": "rgb(36,36,36)",
             "ticks": "outside"
            },
            "colorscale": [
             [
              0,
              "#440154"
             ],
             [
              0.1111111111111111,
              "#482878"
             ],
             [
              0.2222222222222222,
              "#3e4989"
             ],
             [
              0.3333333333333333,
              "#31688e"
             ],
             [
              0.4444444444444444,
              "#26828e"
             ],
             [
              0.5555555555555556,
              "#1f9e89"
             ],
             [
              0.6666666666666666,
              "#35b779"
             ],
             [
              0.7777777777777778,
              "#6ece58"
             ],
             [
              0.8888888888888888,
              "#b5de2b"
             ],
             [
              1,
              "#fde725"
             ]
            ],
            "type": "heatmap"
           }
          ],
          "heatmapgl": [
           {
            "colorbar": {
             "outlinewidth": 1,
             "tickcolor": "rgb(36,36,36)",
             "ticks": "outside"
            },
            "colorscale": [
             [
              0,
              "#440154"
             ],
             [
              0.1111111111111111,
              "#482878"
             ],
             [
              0.2222222222222222,
              "#3e4989"
             ],
             [
              0.3333333333333333,
              "#31688e"
             ],
             [
              0.4444444444444444,
              "#26828e"
             ],
             [
              0.5555555555555556,
              "#1f9e89"
             ],
             [
              0.6666666666666666,
              "#35b779"
             ],
             [
              0.7777777777777778,
              "#6ece58"
             ],
             [
              0.8888888888888888,
              "#b5de2b"
             ],
             [
              1,
              "#fde725"
             ]
            ],
            "type": "heatmapgl"
           }
          ],
          "histogram": [
           {
            "marker": {
             "line": {
              "color": "white",
              "width": 0.6
             }
            },
            "type": "histogram"
           }
          ],
          "histogram2d": [
           {
            "colorbar": {
             "outlinewidth": 1,
             "tickcolor": "rgb(36,36,36)",
             "ticks": "outside"
            },
            "colorscale": [
             [
              0,
              "#440154"
             ],
             [
              0.1111111111111111,
              "#482878"
             ],
             [
              0.2222222222222222,
              "#3e4989"
             ],
             [
              0.3333333333333333,
              "#31688e"
             ],
             [
              0.4444444444444444,
              "#26828e"
             ],
             [
              0.5555555555555556,
              "#1f9e89"
             ],
             [
              0.6666666666666666,
              "#35b779"
             ],
             [
              0.7777777777777778,
              "#6ece58"
             ],
             [
              0.8888888888888888,
              "#b5de2b"
             ],
             [
              1,
              "#fde725"
             ]
            ],
            "type": "histogram2d"
           }
          ],
          "histogram2dcontour": [
           {
            "colorbar": {
             "outlinewidth": 1,
             "tickcolor": "rgb(36,36,36)",
             "ticks": "outside"
            },
            "colorscale": [
             [
              0,
              "#440154"
             ],
             [
              0.1111111111111111,
              "#482878"
             ],
             [
              0.2222222222222222,
              "#3e4989"
             ],
             [
              0.3333333333333333,
              "#31688e"
             ],
             [
              0.4444444444444444,
              "#26828e"
             ],
             [
              0.5555555555555556,
              "#1f9e89"
             ],
             [
              0.6666666666666666,
              "#35b779"
             ],
             [
              0.7777777777777778,
              "#6ece58"
             ],
             [
              0.8888888888888888,
              "#b5de2b"
             ],
             [
              1,
              "#fde725"
             ]
            ],
            "type": "histogram2dcontour"
           }
          ],
          "mesh3d": [
           {
            "colorbar": {
             "outlinewidth": 1,
             "tickcolor": "rgb(36,36,36)",
             "ticks": "outside"
            },
            "type": "mesh3d"
           }
          ],
          "parcoords": [
           {
            "line": {
             "colorbar": {
              "outlinewidth": 1,
              "tickcolor": "rgb(36,36,36)",
              "ticks": "outside"
             }
            },
            "type": "parcoords"
           }
          ],
          "pie": [
           {
            "automargin": true,
            "type": "pie"
           }
          ],
          "scatter": [
           {
            "fillpattern": {
             "fillmode": "overlay",
             "size": 10,
             "solidity": 0.2
            },
            "type": "scatter"
           }
          ],
          "scatter3d": [
           {
            "line": {
             "colorbar": {
              "outlinewidth": 1,
              "tickcolor": "rgb(36,36,36)",
              "ticks": "outside"
             }
            },
            "marker": {
             "colorbar": {
              "outlinewidth": 1,
              "tickcolor": "rgb(36,36,36)",
              "ticks": "outside"
             }
            },
            "type": "scatter3d"
           }
          ],
          "scattercarpet": [
           {
            "marker": {
             "colorbar": {
              "outlinewidth": 1,
              "tickcolor": "rgb(36,36,36)",
              "ticks": "outside"
             }
            },
            "type": "scattercarpet"
           }
          ],
          "scattergeo": [
           {
            "marker": {
             "colorbar": {
              "outlinewidth": 1,
              "tickcolor": "rgb(36,36,36)",
              "ticks": "outside"
             }
            },
            "type": "scattergeo"
           }
          ],
          "scattergl": [
           {
            "marker": {
             "colorbar": {
              "outlinewidth": 1,
              "tickcolor": "rgb(36,36,36)",
              "ticks": "outside"
             }
            },
            "type": "scattergl"
           }
          ],
          "scattermapbox": [
           {
            "marker": {
             "colorbar": {
              "outlinewidth": 1,
              "tickcolor": "rgb(36,36,36)",
              "ticks": "outside"
             }
            },
            "type": "scattermapbox"
           }
          ],
          "scatterpolar": [
           {
            "marker": {
             "colorbar": {
              "outlinewidth": 1,
              "tickcolor": "rgb(36,36,36)",
              "ticks": "outside"
             }
            },
            "type": "scatterpolar"
           }
          ],
          "scatterpolargl": [
           {
            "marker": {
             "colorbar": {
              "outlinewidth": 1,
              "tickcolor": "rgb(36,36,36)",
              "ticks": "outside"
             }
            },
            "type": "scatterpolargl"
           }
          ],
          "scatterternary": [
           {
            "marker": {
             "colorbar": {
              "outlinewidth": 1,
              "tickcolor": "rgb(36,36,36)",
              "ticks": "outside"
             }
            },
            "type": "scatterternary"
           }
          ],
          "surface": [
           {
            "colorbar": {
             "outlinewidth": 1,
             "tickcolor": "rgb(36,36,36)",
             "ticks": "outside"
            },
            "colorscale": [
             [
              0,
              "#440154"
             ],
             [
              0.1111111111111111,
              "#482878"
             ],
             [
              0.2222222222222222,
              "#3e4989"
             ],
             [
              0.3333333333333333,
              "#31688e"
             ],
             [
              0.4444444444444444,
              "#26828e"
             ],
             [
              0.5555555555555556,
              "#1f9e89"
             ],
             [
              0.6666666666666666,
              "#35b779"
             ],
             [
              0.7777777777777778,
              "#6ece58"
             ],
             [
              0.8888888888888888,
              "#b5de2b"
             ],
             [
              1,
              "#fde725"
             ]
            ],
            "type": "surface"
           }
          ],
          "table": [
           {
            "cells": {
             "fill": {
              "color": "rgb(237,237,237)"
             },
             "line": {
              "color": "white"
             }
            },
            "header": {
             "fill": {
              "color": "rgb(217,217,217)"
             },
             "line": {
              "color": "white"
             }
            },
            "type": "table"
           }
          ]
         },
         "layout": {
          "annotationdefaults": {
           "arrowhead": 0,
           "arrowwidth": 1
          },
          "autotypenumbers": "strict",
          "coloraxis": {
           "colorbar": {
            "outlinewidth": 1,
            "tickcolor": "rgb(36,36,36)",
            "ticks": "outside"
           }
          },
          "colorscale": {
           "diverging": [
            [
             0,
             "rgb(103,0,31)"
            ],
            [
             0.1,
             "rgb(178,24,43)"
            ],
            [
             0.2,
             "rgb(214,96,77)"
            ],
            [
             0.3,
             "rgb(244,165,130)"
            ],
            [
             0.4,
             "rgb(253,219,199)"
            ],
            [
             0.5,
             "rgb(247,247,247)"
            ],
            [
             0.6,
             "rgb(209,229,240)"
            ],
            [
             0.7,
             "rgb(146,197,222)"
            ],
            [
             0.8,
             "rgb(67,147,195)"
            ],
            [
             0.9,
             "rgb(33,102,172)"
            ],
            [
             1,
             "rgb(5,48,97)"
            ]
           ],
           "sequential": [
            [
             0,
             "#440154"
            ],
            [
             0.1111111111111111,
             "#482878"
            ],
            [
             0.2222222222222222,
             "#3e4989"
            ],
            [
             0.3333333333333333,
             "#31688e"
            ],
            [
             0.4444444444444444,
             "#26828e"
            ],
            [
             0.5555555555555556,
             "#1f9e89"
            ],
            [
             0.6666666666666666,
             "#35b779"
            ],
            [
             0.7777777777777778,
             "#6ece58"
            ],
            [
             0.8888888888888888,
             "#b5de2b"
            ],
            [
             1,
             "#fde725"
            ]
           ],
           "sequentialminus": [
            [
             0,
             "#440154"
            ],
            [
             0.1111111111111111,
             "#482878"
            ],
            [
             0.2222222222222222,
             "#3e4989"
            ],
            [
             0.3333333333333333,
             "#31688e"
            ],
            [
             0.4444444444444444,
             "#26828e"
            ],
            [
             0.5555555555555556,
             "#1f9e89"
            ],
            [
             0.6666666666666666,
             "#35b779"
            ],
            [
             0.7777777777777778,
             "#6ece58"
            ],
            [
             0.8888888888888888,
             "#b5de2b"
            ],
            [
             1,
             "#fde725"
            ]
           ]
          },
          "colorway": [
           "#1F77B4",
           "#FF7F0E",
           "#2CA02C",
           "#D62728",
           "#9467BD",
           "#8C564B",
           "#E377C2",
           "#7F7F7F",
           "#BCBD22",
           "#17BECF"
          ],
          "font": {
           "color": "rgb(36,36,36)"
          },
          "geo": {
           "bgcolor": "white",
           "lakecolor": "white",
           "landcolor": "white",
           "showlakes": true,
           "showland": true,
           "subunitcolor": "white"
          },
          "hoverlabel": {
           "align": "left"
          },
          "hovermode": "closest",
          "mapbox": {
           "style": "light"
          },
          "paper_bgcolor": "white",
          "plot_bgcolor": "white",
          "polar": {
           "angularaxis": {
            "gridcolor": "rgb(232,232,232)",
            "linecolor": "rgb(36,36,36)",
            "showgrid": false,
            "showline": true,
            "ticks": "outside"
           },
           "bgcolor": "white",
           "radialaxis": {
            "gridcolor": "rgb(232,232,232)",
            "linecolor": "rgb(36,36,36)",
            "showgrid": false,
            "showline": true,
            "ticks": "outside"
           }
          },
          "scene": {
           "xaxis": {
            "backgroundcolor": "white",
            "gridcolor": "rgb(232,232,232)",
            "gridwidth": 2,
            "linecolor": "rgb(36,36,36)",
            "showbackground": true,
            "showgrid": false,
            "showline": true,
            "ticks": "outside",
            "zeroline": false,
            "zerolinecolor": "rgb(36,36,36)"
           },
           "yaxis": {
            "backgroundcolor": "white",
            "gridcolor": "rgb(232,232,232)",
            "gridwidth": 2,
            "linecolor": "rgb(36,36,36)",
            "showbackground": true,
            "showgrid": false,
            "showline": true,
            "ticks": "outside",
            "zeroline": false,
            "zerolinecolor": "rgb(36,36,36)"
           },
           "zaxis": {
            "backgroundcolor": "white",
            "gridcolor": "rgb(232,232,232)",
            "gridwidth": 2,
            "linecolor": "rgb(36,36,36)",
            "showbackground": true,
            "showgrid": false,
            "showline": true,
            "ticks": "outside",
            "zeroline": false,
            "zerolinecolor": "rgb(36,36,36)"
           }
          },
          "shapedefaults": {
           "fillcolor": "black",
           "line": {
            "width": 0
           },
           "opacity": 0.3
          },
          "ternary": {
           "aaxis": {
            "gridcolor": "rgb(232,232,232)",
            "linecolor": "rgb(36,36,36)",
            "showgrid": false,
            "showline": true,
            "ticks": "outside"
           },
           "baxis": {
            "gridcolor": "rgb(232,232,232)",
            "linecolor": "rgb(36,36,36)",
            "showgrid": false,
            "showline": true,
            "ticks": "outside"
           },
           "bgcolor": "white",
           "caxis": {
            "gridcolor": "rgb(232,232,232)",
            "linecolor": "rgb(36,36,36)",
            "showgrid": false,
            "showline": true,
            "ticks": "outside"
           }
          },
          "title": {
           "x": 0.05
          },
          "xaxis": {
           "automargin": true,
           "gridcolor": "rgb(232,232,232)",
           "linecolor": "rgb(36,36,36)",
           "showgrid": false,
           "showline": true,
           "ticks": "outside",
           "title": {
            "standoff": 15
           },
           "zeroline": false,
           "zerolinecolor": "rgb(36,36,36)"
          },
          "yaxis": {
           "automargin": true,
           "gridcolor": "rgb(232,232,232)",
           "linecolor": "rgb(36,36,36)",
           "showgrid": false,
           "showline": true,
           "ticks": "outside",
           "title": {
            "standoff": 15
           },
           "zeroline": false,
           "zerolinecolor": "rgb(36,36,36)"
          }
         }
        },
        "title": {
         "font": {
          "color": "Black",
          "size": 22
         },
         "text": "<b>Topics over Time</b>",
         "x": 0.4,
         "xanchor": "center",
         "y": 0.95,
         "yanchor": "top"
        },
        "width": 1250,
        "xaxis": {
         "showgrid": true
        },
        "yaxis": {
         "showgrid": true,
         "title": {
          "text": "Frequency"
         }
        }
       }
      }
     },
     "metadata": {},
     "output_type": "display_data"
    }
   ],
   "source": [
    "model.visualize_topics_over_time(topics_over_time)"
   ]
  },
  {
   "cell_type": "code",
   "execution_count": 42,
   "metadata": {},
   "outputs": [],
   "source": [
    "#Extract topics-document assignments\n",
    "document_topics = []\n",
    "for i, topic in enumerate(topics):\n",
    "    document_id = df.loc[i, 'id']\n",
    "    document_title = df.loc[i, 'title']\n",
    "    document_topics.append({'id': document_id, 'title': document_title, 'topic': topic})\n",
    "    #Export to JSON\n",
    "with open('miniLM_titles_topics.json', 'w') as f:\n",
    "    json.dump(document_topics, f)"
   ]
  }
 ],
 "metadata": {
  "kernelspec": {
   "display_name": "Python 3",
   "language": "python",
   "name": "python3"
  },
  "language_info": {
   "codemirror_mode": {
    "name": "ipython",
    "version": 3
   },
   "file_extension": ".py",
   "mimetype": "text/x-python",
   "name": "python",
   "nbconvert_exporter": "python",
   "pygments_lexer": "ipython3",
   "version": "3.11.0"
  },
  "orig_nbformat": 4
 },
 "nbformat": 4,
 "nbformat_minor": 2
}
