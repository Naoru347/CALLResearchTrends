{
 "cells": [
  {
   "cell_type": "code",
   "execution_count": 4,
   "metadata": {},
   "outputs": [
    {
     "name": "stderr",
     "output_type": "stream",
     "text": [
      "C:\\Users\\joshu\\AppData\\Roaming\\Python\\Python311\\site-packages\\umap\\distances.py:1063: NumbaDeprecationWarning: \u001b[1mThe 'nopython' keyword argument was not supplied to the 'numba.jit' decorator. The implicit default value for this argument is currently False, but it will be changed to True in Numba 0.59.0. See https://numba.readthedocs.io/en/stable/reference/deprecation.html#deprecation-of-object-mode-fall-back-behaviour-when-using-jit for details.\u001b[0m\n",
      "  @numba.jit()\n",
      "C:\\Users\\joshu\\AppData\\Roaming\\Python\\Python311\\site-packages\\umap\\distances.py:1071: NumbaDeprecationWarning: \u001b[1mThe 'nopython' keyword argument was not supplied to the 'numba.jit' decorator. The implicit default value for this argument is currently False, but it will be changed to True in Numba 0.59.0. See https://numba.readthedocs.io/en/stable/reference/deprecation.html#deprecation-of-object-mode-fall-back-behaviour-when-using-jit for details.\u001b[0m\n",
      "  @numba.jit()\n",
      "C:\\Users\\joshu\\AppData\\Roaming\\Python\\Python311\\site-packages\\umap\\distances.py:1086: NumbaDeprecationWarning: \u001b[1mThe 'nopython' keyword argument was not supplied to the 'numba.jit' decorator. The implicit default value for this argument is currently False, but it will be changed to True in Numba 0.59.0. See https://numba.readthedocs.io/en/stable/reference/deprecation.html#deprecation-of-object-mode-fall-back-behaviour-when-using-jit for details.\u001b[0m\n",
      "  @numba.jit()\n",
      "C:\\Users\\joshu\\AppData\\Roaming\\Python\\Python311\\site-packages\\tqdm\\auto.py:21: TqdmWarning: IProgress not found. Please update jupyter and ipywidgets. See https://ipywidgets.readthedocs.io/en/stable/user_install.html\n",
      "  from .autonotebook import tqdm as notebook_tqdm\n",
      "C:\\Users\\joshu\\AppData\\Roaming\\Python\\Python311\\site-packages\\umap\\umap_.py:660: NumbaDeprecationWarning: \u001b[1mThe 'nopython' keyword argument was not supplied to the 'numba.jit' decorator. The implicit default value for this argument is currently False, but it will be changed to True in Numba 0.59.0. See https://numba.readthedocs.io/en/stable/reference/deprecation.html#deprecation-of-object-mode-fall-back-behaviour-when-using-jit for details.\u001b[0m\n",
      "  @numba.jit()\n"
     ]
    }
   ],
   "source": [
    "import pandas as pd\n",
    "import matplotlib.pyplot as plt\n",
    "import json\n",
    "import time\n",
    "import re\n",
    "from bertopic import BERTopic\n",
    "from wordcloud import WordCloud"
   ]
  },
  {
   "cell_type": "code",
   "execution_count": 5,
   "metadata": {},
   "outputs": [
    {
     "name": "stdout",
     "output_type": "stream",
     "text": [
      "Importing data and building DataFrame:\n",
      "Data load time 0.012001276016235352\n",
      "{'id': 'EJ1013917', 'title': 'Enhancing the Autonomous Use of CALL: A New Curriculum Model in EFL', 'author': 'Smith, Karen, Craig, Hana', 'description': \"This action research study evaluates the effectiveness of a CALL Learner Autonomy (CALL LA) course at a Japanese university. The &quot;C course&quot; blends face-to-face instruction and independent study in a CALL environment. It aims to enhance learners' autonomous use of CALL in the acquisition of English as a Foreign Language (EFL). In this study, three learning support aids were trialed: the Learner Passport, the e-Language Learning Portfolio and the e-Learner Self-Reflection Diary. The participant- researchers examined the course using data from the trial materials, observation, their own reflexive practice, learner questionnaires, interviews, artifacts and learner self-reflections. Findings indicate that teachers' and learners' consciousness was raised about what is expected of users in the autonomous use of CALL in a classroom environment and in a Self-Access Centre. The study also shows an improvement in learners' planning, organizing, tracking, and evaluation of their autonomous use of CALL resources, and that regular and critical learner self-reflection is a key factor\\ncontributing to a positive shift in study culture. It recommends the conversion of the Learner Passport to an online, interactive format and the course-wide implementation of the three learning support aids as an incorporated package. (Contains 4 tables and 2 figures.)\", 'subject': 'Action Research, English (Second Language), English Language Learners, Second Language Learning, Independent Study, Learner Engagement, Interviews, Questionnaires, Portfolio Assessment, Teaching Methods, Curriculum Design, Metacognition, Computer Assisted Instruction, Instructional Effectiveness, Personal Autonomy, Program Evaluation, Foreign Countries, Observation', 'source': 'CALICO Journal', 'publicationdateyear': 2013, 'identifiersgeo': 'Japan'}\n"
     ]
    }
   ],
   "source": [
    "print(\"Importing data and building DataFrame:\")\n",
    "start_time = time.time()\n",
    "with open('data/cleanedAggregateData.json', 'r') as f:\n",
    "    data = json.load(f)\n",
    "end_time = time.time()\n",
    "load_time = end_time - start_time\n",
    "print(\"Data load time\", load_time)\n",
    "print(data[0])"
   ]
  },
  {
   "cell_type": "code",
   "execution_count": 6,
   "metadata": {},
   "outputs": [
    {
     "name": "stdout",
     "output_type": "stream",
     "text": [
      "Data loaded, converting to DataFrame\n",
      "Data successfully converted to DataFrame. Conversion time: 0.0020058155059814453\n"
     ]
    }
   ],
   "source": [
    "print(\"Data loaded, converting to DataFrame\")\n",
    "start_time = time.time()\n",
    "df = pd.DataFrame(data)\n",
    "end_time = time.time()\n",
    "convert_time = end_time - start_time\n",
    "print(\"Data successfully converted to DataFrame. Conversion time:\", convert_time)"
   ]
  },
  {
   "cell_type": "code",
   "execution_count": 7,
   "metadata": {},
   "outputs": [
    {
     "name": "stderr",
     "output_type": "stream",
     "text": [
      "Batches: 100%|██████████| 39/39 [00:07<00:00,  5.18it/s]\n",
      "2023-06-19 08:33:10,255 - BERTopic - Transformed documents to Embeddings\n",
      "2023-06-19 08:33:17,472 - BERTopic - Reduced dimensionality\n",
      "2023-06-19 08:33:17,530 - BERTopic - Clustered reduced embeddings\n",
      "12it [00:00, 51.36it/s]\n"
     ]
    },
    {
     "data": {
      "text/html": [
       "<div>\n",
       "<style scoped>\n",
       "    .dataframe tbody tr th:only-of-type {\n",
       "        vertical-align: middle;\n",
       "    }\n",
       "\n",
       "    .dataframe tbody tr th {\n",
       "        vertical-align: top;\n",
       "    }\n",
       "\n",
       "    .dataframe thead th {\n",
       "        text-align: right;\n",
       "    }\n",
       "</style>\n",
       "<table border=\"1\" class=\"dataframe\">\n",
       "  <thead>\n",
       "    <tr style=\"text-align: right;\">\n",
       "      <th></th>\n",
       "      <th>Topic</th>\n",
       "      <th>Count</th>\n",
       "      <th>Name</th>\n",
       "      <th>Representation</th>\n",
       "      <th>Representative_Docs</th>\n",
       "    </tr>\n",
       "  </thead>\n",
       "  <tbody>\n",
       "    <tr>\n",
       "      <th>0</th>\n",
       "      <td>-1</td>\n",
       "      <td>340</td>\n",
       "      <td>-1_of_and_language_learning</td>\n",
       "      <td>[of, and, language, learning, in, the, learner...</td>\n",
       "      <td>[Effects of Using Mobile-Based Virtual Reality...</td>\n",
       "    </tr>\n",
       "    <tr>\n",
       "      <th>1</th>\n",
       "      <td>0</td>\n",
       "      <td>176</td>\n",
       "      <td>0_writing_feedback_collaborative_automated</td>\n",
       "      <td>[writing, feedback, collaborative, automated, ...</td>\n",
       "      <td>[Exploring the impact of using automated writi...</td>\n",
       "    </tr>\n",
       "    <tr>\n",
       "      <th>2</th>\n",
       "      <td>1</td>\n",
       "      <td>66</td>\n",
       "      <td>1_call_research_sla_the</td>\n",
       "      <td>[call, research, sla, the, teacher, of, in, fr...</td>\n",
       "      <td>[CALL Teacher Training—Considerations for Low-...</td>\n",
       "    </tr>\n",
       "    <tr>\n",
       "      <th>3</th>\n",
       "      <td>2</td>\n",
       "      <td>57</td>\n",
       "      <td>2_mobile_learning_assisted_language</td>\n",
       "      <td>[mobile, learning, assisted, language, smartph...</td>\n",
       "      <td>[Mobile-Assisted Language Learning: A Duolingo...</td>\n",
       "    </tr>\n",
       "    <tr>\n",
       "      <th>4</th>\n",
       "      <td>3</td>\n",
       "      <td>47</td>\n",
       "      <td>3_online_language_learning_of</td>\n",
       "      <td>[online, language, learning, of, informal, moo...</td>\n",
       "      <td>[Understanding Online Interaction in Language ...</td>\n",
       "    </tr>\n",
       "    <tr>\n",
       "      <th>5</th>\n",
       "      <td>4</td>\n",
       "      <td>44</td>\n",
       "      <td>4_game_games_digital_playing</td>\n",
       "      <td>[game, games, digital, playing, gaming, play, ...</td>\n",
       "      <td>[Learner Interaction in a Massively Multiplaye...</td>\n",
       "    </tr>\n",
       "    <tr>\n",
       "      <th>6</th>\n",
       "      <td>5</td>\n",
       "      <td>41</td>\n",
       "      <td>5_pronunciation_speech_training_recognition</td>\n",
       "      <td>[pronunciation, speech, training, recognition,...</td>\n",
       "      <td>[Analysis of and Feedback on Phonetic Features...</td>\n",
       "    </tr>\n",
       "    <tr>\n",
       "      <th>7</th>\n",
       "      <td>6</td>\n",
       "      <td>37</td>\n",
       "      <td>6_multimodal_videoconferencing_video_interactions</td>\n",
       "      <td>[multimodal, videoconferencing, video, interac...</td>\n",
       "      <td>[Multimodal Language Learner Interactions via ...</td>\n",
       "    </tr>\n",
       "    <tr>\n",
       "      <th>8</th>\n",
       "      <td>7</td>\n",
       "      <td>37</td>\n",
       "      <td>7_telecollaboration_intercultural_telecollabor...</td>\n",
       "      <td>[telecollaboration, intercultural, telecollabo...</td>\n",
       "      <td>[Telecollaboration as an Approach to Developin...</td>\n",
       "    </tr>\n",
       "    <tr>\n",
       "      <th>9</th>\n",
       "      <td>8</td>\n",
       "      <td>35</td>\n",
       "      <td>8_data_driven_collocation_dictionaries</td>\n",
       "      <td>[data, driven, collocation, dictionaries, coll...</td>\n",
       "      <td>[What are language learners looking for in a c...</td>\n",
       "    </tr>\n",
       "    <tr>\n",
       "      <th>10</th>\n",
       "      <td>9</td>\n",
       "      <td>34</td>\n",
       "      <td>9_technology_teachers_technological_teaching</td>\n",
       "      <td>[technology, teachers, technological, teaching...</td>\n",
       "      <td>[A Survey of Native Language Teachers&amp;apos; Te...</td>\n",
       "    </tr>\n",
       "    <tr>\n",
       "      <th>11</th>\n",
       "      <td>10</td>\n",
       "      <td>34</td>\n",
       "      <td>10_technology_language_assisted_learning</td>\n",
       "      <td>[technology, language, assisted, learning, com...</td>\n",
       "      <td>[20 Years of Technology and Language Assessmen...</td>\n",
       "    </tr>\n",
       "    <tr>\n",
       "      <th>12</th>\n",
       "      <td>11</td>\n",
       "      <td>33</td>\n",
       "      <td>11_comprehension_captions_listening_captioned</td>\n",
       "      <td>[comprehension, captions, listening, captioned...</td>\n",
       "      <td>[The Effects of Captions on L2 Learners' Compr...</td>\n",
       "    </tr>\n",
       "    <tr>\n",
       "      <th>13</th>\n",
       "      <td>12</td>\n",
       "      <td>28</td>\n",
       "      <td>12_vocabulary_gloss_glosses_effects</td>\n",
       "      <td>[vocabulary, gloss, glosses, effects, on, text...</td>\n",
       "      <td>[Effects of Interactive versus Simultaneous Di...</td>\n",
       "    </tr>\n",
       "    <tr>\n",
       "      <th>14</th>\n",
       "      <td>13</td>\n",
       "      <td>26</td>\n",
       "      <td>13_virtual_reality_3d_immersive</td>\n",
       "      <td>[virtual, reality, 3d, immersive, worlds, expe...</td>\n",
       "      <td>[ESL Teacher Training in 3D Virtual Worlds, In...</td>\n",
       "    </tr>\n",
       "    <tr>\n",
       "      <th>15</th>\n",
       "      <td>14</td>\n",
       "      <td>25</td>\n",
       "      <td>14_virtual_exchange_professional_literacy</td>\n",
       "      <td>[virtual, exchange, professional, literacy, te...</td>\n",
       "      <td>[Critical Digital Literacy in Virtual Exchange...</td>\n",
       "    </tr>\n",
       "    <tr>\n",
       "      <th>16</th>\n",
       "      <td>15</td>\n",
       "      <td>23</td>\n",
       "      <td>15_flipped_classroom_flipping_classrooms</td>\n",
       "      <td>[flipped, classroom, flipping, classrooms, tea...</td>\n",
       "      <td>[Effects of online flipped classroom on foreig...</td>\n",
       "    </tr>\n",
       "    <tr>\n",
       "      <th>17</th>\n",
       "      <td>16</td>\n",
       "      <td>20</td>\n",
       "      <td>16_oral_communication_mediated_computer</td>\n",
       "      <td>[oral, communication, mediated, computer, prof...</td>\n",
       "      <td>[Focus on Form in Task-Based L2 Oral Computer-...</td>\n",
       "    </tr>\n",
       "    <tr>\n",
       "      <th>18</th>\n",
       "      <td>17</td>\n",
       "      <td>19</td>\n",
       "      <td>17_storytelling_digital_story_stories</td>\n",
       "      <td>[storytelling, digital, story, stories, creati...</td>\n",
       "      <td>[Teachers' Perception about the Contribution o...</td>\n",
       "    </tr>\n",
       "    <tr>\n",
       "      <th>19</th>\n",
       "      <td>18</td>\n",
       "      <td>19</td>\n",
       "      <td>18_intercultural_exchange_communicative_compet...</td>\n",
       "      <td>[intercultural, exchange, communicative, compe...</td>\n",
       "      <td>[Learner Autonomy versus Guided Reflection: Ho...</td>\n",
       "    </tr>\n",
       "    <tr>\n",
       "      <th>20</th>\n",
       "      <td>19</td>\n",
       "      <td>19</td>\n",
       "      <td>19_blended_learning_inquiry_college</td>\n",
       "      <td>[blended, learning, inquiry, college, for, bui...</td>\n",
       "      <td>[Dilemmas of Blended Language Learning: Learne...</td>\n",
       "    </tr>\n",
       "    <tr>\n",
       "      <th>21</th>\n",
       "      <td>20</td>\n",
       "      <td>19</td>\n",
       "      <td>20_social_media_networking_networks</td>\n",
       "      <td>[social, media, networking, networks, language...</td>\n",
       "      <td>[Language Learning through Social Networks: Pe...</td>\n",
       "    </tr>\n",
       "    <tr>\n",
       "      <th>22</th>\n",
       "      <td>21</td>\n",
       "      <td>17</td>\n",
       "      <td>21_reading_strategies_comprehension_students</td>\n",
       "      <td>[reading, strategies, comprehension, students,...</td>\n",
       "      <td>[Website Analysis in an EFL Context: Content C...</td>\n",
       "    </tr>\n",
       "    <tr>\n",
       "      <th>23</th>\n",
       "      <td>22</td>\n",
       "      <td>16</td>\n",
       "      <td>22_corpus_corpora_pedagogy_teacher</td>\n",
       "      <td>[corpus, corpora, pedagogy, teacher, teachers,...</td>\n",
       "      <td>[Unpacking Second Language Writing Teacher Kno...</td>\n",
       "    </tr>\n",
       "    <tr>\n",
       "      <th>24</th>\n",
       "      <td>23</td>\n",
       "      <td>13</td>\n",
       "      <td>23_mall_meta_oer_processing</td>\n",
       "      <td>[mall, meta, oer, processing, the, outcomes, o...</td>\n",
       "      <td>[Narrative review and meta-analysis of MALL re...</td>\n",
       "    </tr>\n",
       "    <tr>\n",
       "      <th>25</th>\n",
       "      <td>24</td>\n",
       "      <td>13</td>\n",
       "      <td>24_chat_task_text_l2</td>\n",
       "      <td>[chat, task, text, l2, interaction, child, int...</td>\n",
       "      <td>[Investigating the Effects of Planning on L2 T...</td>\n",
       "    </tr>\n",
       "  </tbody>\n",
       "</table>\n",
       "</div>"
      ],
      "text/plain": [
       "    Topic  Count                                               Name   \n",
       "0      -1    340                        -1_of_and_language_learning  \\\n",
       "1       0    176         0_writing_feedback_collaborative_automated   \n",
       "2       1     66                            1_call_research_sla_the   \n",
       "3       2     57                2_mobile_learning_assisted_language   \n",
       "4       3     47                      3_online_language_learning_of   \n",
       "5       4     44                       4_game_games_digital_playing   \n",
       "6       5     41        5_pronunciation_speech_training_recognition   \n",
       "7       6     37  6_multimodal_videoconferencing_video_interactions   \n",
       "8       7     37  7_telecollaboration_intercultural_telecollabor...   \n",
       "9       8     35             8_data_driven_collocation_dictionaries   \n",
       "10      9     34       9_technology_teachers_technological_teaching   \n",
       "11     10     34           10_technology_language_assisted_learning   \n",
       "12     11     33      11_comprehension_captions_listening_captioned   \n",
       "13     12     28                12_vocabulary_gloss_glosses_effects   \n",
       "14     13     26                    13_virtual_reality_3d_immersive   \n",
       "15     14     25          14_virtual_exchange_professional_literacy   \n",
       "16     15     23           15_flipped_classroom_flipping_classrooms   \n",
       "17     16     20            16_oral_communication_mediated_computer   \n",
       "18     17     19              17_storytelling_digital_story_stories   \n",
       "19     18     19  18_intercultural_exchange_communicative_compet...   \n",
       "20     19     19                19_blended_learning_inquiry_college   \n",
       "21     20     19                20_social_media_networking_networks   \n",
       "22     21     17       21_reading_strategies_comprehension_students   \n",
       "23     22     16                 22_corpus_corpora_pedagogy_teacher   \n",
       "24     23     13                        23_mall_meta_oer_processing   \n",
       "25     24     13                               24_chat_task_text_l2   \n",
       "\n",
       "                                       Representation   \n",
       "0   [of, and, language, learning, in, the, learner...  \\\n",
       "1   [writing, feedback, collaborative, automated, ...   \n",
       "2   [call, research, sla, the, teacher, of, in, fr...   \n",
       "3   [mobile, learning, assisted, language, smartph...   \n",
       "4   [online, language, learning, of, informal, moo...   \n",
       "5   [game, games, digital, playing, gaming, play, ...   \n",
       "6   [pronunciation, speech, training, recognition,...   \n",
       "7   [multimodal, videoconferencing, video, interac...   \n",
       "8   [telecollaboration, intercultural, telecollabo...   \n",
       "9   [data, driven, collocation, dictionaries, coll...   \n",
       "10  [technology, teachers, technological, teaching...   \n",
       "11  [technology, language, assisted, learning, com...   \n",
       "12  [comprehension, captions, listening, captioned...   \n",
       "13  [vocabulary, gloss, glosses, effects, on, text...   \n",
       "14  [virtual, reality, 3d, immersive, worlds, expe...   \n",
       "15  [virtual, exchange, professional, literacy, te...   \n",
       "16  [flipped, classroom, flipping, classrooms, tea...   \n",
       "17  [oral, communication, mediated, computer, prof...   \n",
       "18  [storytelling, digital, story, stories, creati...   \n",
       "19  [intercultural, exchange, communicative, compe...   \n",
       "20  [blended, learning, inquiry, college, for, bui...   \n",
       "21  [social, media, networking, networks, language...   \n",
       "22  [reading, strategies, comprehension, students,...   \n",
       "23  [corpus, corpora, pedagogy, teacher, teachers,...   \n",
       "24  [mall, meta, oer, processing, the, outcomes, o...   \n",
       "25  [chat, task, text, l2, interaction, child, int...   \n",
       "\n",
       "                                  Representative_Docs  \n",
       "0   [Effects of Using Mobile-Based Virtual Reality...  \n",
       "1   [Exploring the impact of using automated writi...  \n",
       "2   [CALL Teacher Training—Considerations for Low-...  \n",
       "3   [Mobile-Assisted Language Learning: A Duolingo...  \n",
       "4   [Understanding Online Interaction in Language ...  \n",
       "5   [Learner Interaction in a Massively Multiplaye...  \n",
       "6   [Analysis of and Feedback on Phonetic Features...  \n",
       "7   [Multimodal Language Learner Interactions via ...  \n",
       "8   [Telecollaboration as an Approach to Developin...  \n",
       "9   [What are language learners looking for in a c...  \n",
       "10  [A Survey of Native Language Teachers&apos; Te...  \n",
       "11  [20 Years of Technology and Language Assessmen...  \n",
       "12  [The Effects of Captions on L2 Learners' Compr...  \n",
       "13  [Effects of Interactive versus Simultaneous Di...  \n",
       "14  [ESL Teacher Training in 3D Virtual Worlds, In...  \n",
       "15  [Critical Digital Literacy in Virtual Exchange...  \n",
       "16  [Effects of online flipped classroom on foreig...  \n",
       "17  [Focus on Form in Task-Based L2 Oral Computer-...  \n",
       "18  [Teachers' Perception about the Contribution o...  \n",
       "19  [Learner Autonomy versus Guided Reflection: Ho...  \n",
       "20  [Dilemmas of Blended Language Learning: Learne...  \n",
       "21  [Language Learning through Social Networks: Pe...  \n",
       "22  [Website Analysis in an EFL Context: Content C...  \n",
       "23  [Unpacking Second Language Writing Teacher Kno...  \n",
       "24  [Narrative review and meta-analysis of MALL re...  \n",
       "25  [Investigating the Effects of Planning on L2 T...  "
      ]
     },
     "execution_count": 7,
     "metadata": {},
     "output_type": "execute_result"
    }
   ],
   "source": [
    "model = BERTopic(verbose=True, embedding_model=\"all-MiniLM-L6-v2\")\n",
    "#embeddingmodel embedding_model=\"all-MiniLM-L6-v2\" or embedding_mode=\"all-mpnet-base-v2\"\n",
    "docs = df.title.to_list()\n",
    "pub_dates = df.publicationdateyear.to_list()\n",
    "topics, probabilities = model.fit_transform(docs)\n",
    "topics_over_time = model.topics_over_time(docs, pub_dates)\n",
    "model.get_topic_info()"
   ]
  },
  {
   "cell_type": "code",
   "execution_count": 8,
   "metadata": {},
   "outputs": [],
   "source": [
    "def create_wordcloud(model, topic):\n",
    "     text = {word: value for word, value in model.get_topic(topic)}\n",
    "     wc = WordCloud(background_color=\"white\", max_words=1000)\n",
    "     wc.generate_from_frequencies(text)\n",
    "     plt.imshow(wc, interpolation=\"bilinear\")\n",
    "     plt.axis(\"off\")\n",
    "     plt.show()"
   ]
  },
  {
   "cell_type": "code",
   "execution_count": 9,
   "metadata": {},
   "outputs": [
    {
     "data": {
      "image/png": "[encoded data removed]",
      "text/plain": [
       "<Figure size 640x480 with 1 Axes>"
      ]
     },
     "metadata": {},
     "output_type": "display_data"
    }
   ],
   "source": [
    "create_wordcloud(model, topic=0)"
   ]
  },
  {
   "cell_type": "code",
   "execution_count": 10,
   "metadata": {},
   "outputs": [
    {
     "data": {
      "application/vnd.plotly.v1+json": {
       "config": {
        "plotlyServerURL": "https://plot.ly"
       },
       "data": [
        {
         "customdata": [
          [
           0,
           "writing | feedback | collaborative | automated | in",
           176
          ],
          [
           1,
           "call | research | sla | the | teacher",
           66
          ],
          [
           2,
           "mobile | learning | assisted | language | smartphones",
           57
          ],
          [
           3,
           "online | language | learning | of | informal",
           47
          ],
          [
           4,
           "game | games | digital | playing | gaming",
           44
          ],
          [
           5,
           "pronunciation | speech | training | recognition | instruction",
           41
          ],
          [
           6,
           "multimodal | videoconferencing | video | interactions | via",
           37
          ],
          [
           7,
           "telecollaboration | intercultural | telecollaborative | service | pre",
           37
          ],
          [
           8,
           "data | driven | collocation | dictionaries | collocations",
           35
          ],
          [
           9,
           "technology | teachers | technological | teaching | pedagogical",
           34
          ],
          [
           10,
           "technology | language | assisted | learning | computer",
           34
          ],
          [
           11,
           "comprehension | captions | listening | captioned | video",
           33
          ],
          [
           12,
           "vocabulary | gloss | glosses | effects | on",
           28
          ],
          [
           13,
           "virtual | reality | 3d | immersive | worlds",
           26
          ],
          [
           14,
           "virtual | exchange | professional | literacy | teachers",
           25
          ],
          [
           15,
           "flipped | classroom | flipping | classrooms | teaching",
           23
          ],
          [
           16,
           "oral | communication | mediated | computer | proficiency",
           20
          ],
          [
           17,
           "storytelling | digital | story | stories | creative",
           19
          ],
          [
           18,
           "intercultural | exchange | communicative | competence | exchanges",
           19
          ],
          [
           19,
           "blended | learning | inquiry | college | for",
           19
          ],
          [
           20,
           "social | media | networking | networks | language",
           19
          ],
          [
           21,
           "reading | strategies | comprehension | students | efl",
           17
          ],
          [
           22,
           "corpus | corpora | pedagogy | teacher | teachers",
           16
          ],
          [
           23,
           "mall | meta | oer | processing | the",
           13
          ],
          [
           24,
           "chat | task | text | l2 | interaction",
           13
          ]
         ],
         "hovertemplate": "<b>Topic %{customdata[0]}</b><br>%{customdata[1]}<br>Size: %{customdata[2]}",
         "legendgroup": "",
         "marker": {
          "color": "#B0BEC5",
          "line": {
           "color": "DarkSlateGrey",
           "width": 2
          },
          "size": [
           176,
           66,
           57,
           47,
           44,
           41,
           37,
           37,
           35,
           34,
           34,
           33,
           28,
           26,
           25,
           23,
           20,
           19,
           19,
           19,
           19,
           17,
           16,
           13,
           13
          ],
          "sizemode": "area",
          "sizeref": 0.11,
          "symbol": "circle"
         },
         "mode": "markers",
         "name": "",
         "orientation": "v",
         "showlegend": false,
         "type": "scatter",
         "x": [
          12.42523193359375,
          11.321088790893555,
          10.703436851501465,
          13.240509986877441,
          -1.6704176664352417,
          -7.847940444946289,
          3.5251500606536865,
          11.545886993408203,
          2.8998541831970215,
          10.802960395812988,
          11.011990547180176,
          3.5897457599639893,
          3.3140552043914795,
          -1.6525622606277466,
          12.890281677246094,
          14.4602689743042,
          -8.055816650390625,
          12.417763710021973,
          12.02233600616455,
          14.163820266723633,
          13.26274585723877,
          12.649290084838867,
          2.6753976345062256,
          10.42824935913086,
          12.60983657836914
         ],
         "xaxis": "x",
         "y": [
          3.488060712814331,
          2.0692598819732666,
          -1.1108641624450684,
          1.3798729181289673,
          8.456256866455078,
          0.7020695805549622,
          1.8839408159255981,
          2.112363338470459,
          2.7118189334869385,
          -1.7185271978378296,
          -1.4248861074447632,
          2.1124606132507324,
          2.469794750213623,
          8.438352584838867,
          1.679816722869873,
          2.2863190174102783,
          0.494198739528656,
          3.9248995780944824,
          1.922959327697754,
          2.109391450881958,
          1.7831766605377197,
          3.0177037715911865,
          2.620925188064575,
          -0.9543278813362122,
          3.5966694355010986
         ],
         "yaxis": "y"
        }
       ],
       "layout": {
        "annotations": [
         {
          "showarrow": false,
          "text": "D1",
          "x": -9.264189147949219,
          "y": 3.8741945594549176,
          "yshift": 10
         },
         {
          "showarrow": false,
          "text": "D2",
          "x": 3.6825600862503043,
          "xshift": 10,
          "y": 9.72469539642334
         }
        ],
        "height": 650,
        "hoverlabel": {
         "bgcolor": "white",
         "font": {
          "family": "Rockwell",
          "size": 16
         }
        },
        "legend": {
         "itemsizing": "constant",
         "tracegroupgap": 0
        },
        "margin": {
         "t": 60
        },
        "shapes": [
         {
          "line": {
           "color": "#CFD8DC",
           "width": 2
          },
          "type": "line",
          "x0": 3.6825600862503043,
          "x1": 3.6825600862503043,
          "y0": -1.976306277513504,
          "y1": 9.72469539642334
         },
         {
          "line": {
           "color": "#9E9E9E",
           "width": 2
          },
          "type": "line",
          "x0": -9.264189147949219,
          "x1": 16.629309320449828,
          "y0": 3.8741945594549176,
          "y1": 3.8741945594549176
         }
        ],
        "sliders": [
         {
          "active": 0,
          "pad": {
           "t": 50
          },
          "steps": [
           {
            "args": [
             {
              "marker.color": [
               [
                "red",
                "#B0BEC5",
                "#B0BEC5",
                "#B0BEC5",
                "#B0BEC5",
                "#B0BEC5",
                "#B0BEC5",
                "#B0BEC5",
                "#B0BEC5",
                "#B0BEC5",
                "#B0BEC5",
                "#B0BEC5",
                "#B0BEC5",
                "#B0BEC5",
                "#B0BEC5",
                "#B0BEC5",
                "#B0BEC5",
                "#B0BEC5",
                "#B0BEC5",
                "#B0BEC5",
                "#B0BEC5",
                "#B0BEC5",
                "#B0BEC5",
                "#B0BEC5",
                "#B0BEC5"
               ]
              ]
             }
            ],
            "label": "Topic 0",
            "method": "update"
           },
           {
            "args": [
             {
              "marker.color": [
               [
                "#B0BEC5",
                "red",
                "#B0BEC5",
                "#B0BEC5",
                "#B0BEC5",
                "#B0BEC5",
                "#B0BEC5",
                "#B0BEC5",
                "#B0BEC5",
                "#B0BEC5",
                "#B0BEC5",
                "#B0BEC5",
                "#B0BEC5",
                "#B0BEC5",
                "#B0BEC5",
                "#B0BEC5",
                "#B0BEC5",
                "#B0BEC5",
                "#B0BEC5",
                "#B0BEC5",
                "#B0BEC5",
                "#B0BEC5",
                "#B0BEC5",
                "#B0BEC5",
                "#B0BEC5"
               ]
              ]
             }
            ],
            "label": "Topic 1",
            "method": "update"
           },
           {
            "args": [
             {
              "marker.color": [
               [
                "#B0BEC5",
                "#B0BEC5",
                "red",
                "#B0BEC5",
                "#B0BEC5",
                "#B0BEC5",
                "#B0BEC5",
                "#B0BEC5",
                "#B0BEC5",
                "#B0BEC5",
                "#B0BEC5",
                "#B0BEC5",
                "#B0BEC5",
                "#B0BEC5",
                "#B0BEC5",
                "#B0BEC5",
                "#B0BEC5",
                "#B0BEC5",
                "#B0BEC5",
                "#B0BEC5",
                "#B0BEC5",
                "#B0BEC5",
                "#B0BEC5",
                "#B0BEC5",
                "#B0BEC5"
               ]
              ]
             }
            ],
            "label": "Topic 2",
            "method": "update"
           },
           {
            "args": [
             {
              "marker.color": [
               [
                "#B0BEC5",
                "#B0BEC5",
                "#B0BEC5",
                "red",
                "#B0BEC5",
                "#B0BEC5",
                "#B0BEC5",
                "#B0BEC5",
                "#B0BEC5",
                "#B0BEC5",
                "#B0BEC5",
                "#B0BEC5",
                "#B0BEC5",
                "#B0BEC5",
                "#B0BEC5",
                "#B0BEC5",
                "#B0BEC5",
                "#B0BEC5",
                "#B0BEC5",
                "#B0BEC5",
                "#B0BEC5",
                "#B0BEC5",
                "#B0BEC5",
                "#B0BEC5",
                "#B0BEC5"
               ]
              ]
             }
            ],
            "label": "Topic 3",
            "method": "update"
           },
           {
            "args": [
             {
              "marker.color": [
               [
                "#B0BEC5",
                "#B0BEC5",
                "#B0BEC5",
                "#B0BEC5",
                "red",
                "#B0BEC5",
                "#B0BEC5",
                "#B0BEC5",
                "#B0BEC5",
                "#B0BEC5",
                "#B0BEC5",
                "#B0BEC5",
                "#B0BEC5",
                "#B0BEC5",
                "#B0BEC5",
                "#B0BEC5",
                "#B0BEC5",
                "#B0BEC5",
                "#B0BEC5",
                "#B0BEC5",
                "#B0BEC5",
                "#B0BEC5",
                "#B0BEC5",
                "#B0BEC5",
                "#B0BEC5"
               ]
              ]
             }
            ],
            "label": "Topic 4",
            "method": "update"
           },
           {
            "args": [
             {
              "marker.color": [
               [
                "#B0BEC5",
                "#B0BEC5",
                "#B0BEC5",
                "#B0BEC5",
                "#B0BEC5",
                "red",
                "#B0BEC5",
                "#B0BEC5",
                "#B0BEC5",
                "#B0BEC5",
                "#B0BEC5",
                "#B0BEC5",
                "#B0BEC5",
                "#B0BEC5",
                "#B0BEC5",
                "#B0BEC5",
                "#B0BEC5",
                "#B0BEC5",
                "#B0BEC5",
                "#B0BEC5",
                "#B0BEC5",
                "#B0BEC5",
                "#B0BEC5",
                "#B0BEC5",
                "#B0BEC5"
               ]
              ]
             }
            ],
            "label": "Topic 5",
            "method": "update"
           },
           {
            "args": [
             {
              "marker.color": [
               [
                "#B0BEC5",
                "#B0BEC5",
                "#B0BEC5",
                "#B0BEC5",
                "#B0BEC5",
                "#B0BEC5",
                "red",
                "#B0BEC5",
                "#B0BEC5",
                "#B0BEC5",
                "#B0BEC5",
                "#B0BEC5",
                "#B0BEC5",
                "#B0BEC5",
                "#B0BEC5",
                "#B0BEC5",
                "#B0BEC5",
                "#B0BEC5",
                "#B0BEC5",
                "#B0BEC5",
                "#B0BEC5",
                "#B0BEC5",
                "#B0BEC5",
                "#B0BEC5",
                "#B0BEC5"
               ]
              ]
             }
            ],
            "label": "Topic 6",
            "method": "update"
           },
           {
            "args": [
             {
              "marker.color": [
               [
                "#B0BEC5",
                "#B0BEC5",
                "#B0BEC5",
                "#B0BEC5",
                "#B0BEC5",
                "#B0BEC5",
                "#B0BEC5",
                "red",
                "#B0BEC5",
                "#B0BEC5",
                "#B0BEC5",
                "#B0BEC5",
                "#B0BEC5",
                "#B0BEC5",
                "#B0BEC5",
                "#B0BEC5",
                "#B0BEC5",
                "#B0BEC5",
                "#B0BEC5",
                "#B0BEC5",
                "#B0BEC5",
                "#B0BEC5",
                "#B0BEC5",
                "#B0BEC5",
                "#B0BEC5"
               ]
              ]
             }
            ],
            "label": "Topic 7",
            "method": "update"
           },
           {
            "args": [
             {
              "marker.color": [
               [
                "#B0BEC5",
                "#B0BEC5",
                "#B0BEC5",
                "#B0BEC5",
                "#B0BEC5",
                "#B0BEC5",
                "#B0BEC5",
                "#B0BEC5",
                "red",
                "#B0BEC5",
                "#B0BEC5",
                "#B0BEC5",
                "#B0BEC5",
                "#B0BEC5",
                "#B0BEC5",
                "#B0BEC5",
                "#B0BEC5",
                "#B0BEC5",
                "#B0BEC5",
                "#B0BEC5",
                "#B0BEC5",
                "#B0BEC5",
                "#B0BEC5",
                "#B0BEC5",
                "#B0BEC5"
               ]
              ]
             }
            ],
            "label": "Topic 8",
            "method": "update"
           },
           {
            "args": [
             {
              "marker.color": [
               [
                "#B0BEC5",
                "#B0BEC5",
                "#B0BEC5",
                "#B0BEC5",
                "#B0BEC5",
                "#B0BEC5",
                "#B0BEC5",
                "#B0BEC5",
                "#B0BEC5",
                "red",
                "#B0BEC5",
                "#B0BEC5",
                "#B0BEC5",
                "#B0BEC5",
                "#B0BEC5",
                "#B0BEC5",
                "#B0BEC5",
                "#B0BEC5",
                "#B0BEC5",
                "#B0BEC5",
                "#B0BEC5",
                "#B0BEC5",
                "#B0BEC5",
                "#B0BEC5",
                "#B0BEC5"
               ]
              ]
             }
            ],
            "label": "Topic 9",
            "method": "update"
           },
           {
            "args": [
             {
              "marker.color": [
               [
                "#B0BEC5",
                "#B0BEC5",
                "#B0BEC5",
                "#B0BEC5",
                "#B0BEC5",
                "#B0BEC5",
                "#B0BEC5",
                "#B0BEC5",
                "#B0BEC5",
                "#B0BEC5",
                "red",
                "#B0BEC5",
                "#B0BEC5",
                "#B0BEC5",
                "#B0BEC5",
                "#B0BEC5",
                "#B0BEC5",
                "#B0BEC5",
                "#B0BEC5",
                "#B0BEC5",
                "#B0BEC5",
                "#B0BEC5",
                "#B0BEC5",
                "#B0BEC5",
                "#B0BEC5"
               ]
              ]
             }
            ],
            "label": "Topic 10",
            "method": "update"
           },
           {
            "args": [
             {
              "marker.color": [
               [
                "#B0BEC5",
                "#B0BEC5",
                "#B0BEC5",
                "#B0BEC5",
                "#B0BEC5",
                "#B0BEC5",
                "#B0BEC5",
                "#B0BEC5",
                "#B0BEC5",
                "#B0BEC5",
                "#B0BEC5",
                "red",
                "#B0BEC5",
                "#B0BEC5",
                "#B0BEC5",
                "#B0BEC5",
                "#B0BEC5",
                "#B0BEC5",
                "#B0BEC5",
                "#B0BEC5",
                "#B0BEC5",
                "#B0BEC5",
                "#B0BEC5",
                "#B0BEC5",
                "#B0BEC5"
               ]
              ]
             }
            ],
            "label": "Topic 11",
            "method": "update"
           },
           {
            "args": [
             {
              "marker.color": [
               [
                "#B0BEC5",
                "#B0BEC5",
                "#B0BEC5",
                "#B0BEC5",
                "#B0BEC5",
                "#B0BEC5",
                "#B0BEC5",
                "#B0BEC5",
                "#B0BEC5",
                "#B0BEC5",
                "#B0BEC5",
                "#B0BEC5",
                "red",
                "#B0BEC5",
                "#B0BEC5",
                "#B0BEC5",
                "#B0BEC5",
                "#B0BEC5",
                "#B0BEC5",
                "#B0BEC5",
                "#B0BEC5",
                "#B0BEC5",
                "#B0BEC5",
                "#B0BEC5",
                "#B0BEC5"
               ]
              ]
             }
            ],
            "label": "Topic 12",
            "method": "update"
           },
           {
            "args": [
             {
              "marker.color": [
               [
                "#B0BEC5",
                "#B0BEC5",
                "#B0BEC5",
                "#B0BEC5",
                "#B0BEC5",
                "#B0BEC5",
                "#B0BEC5",
                "#B0BEC5",
                "#B0BEC5",
                "#B0BEC5",
                "#B0BEC5",
                "#B0BEC5",
                "#B0BEC5",
                "red",
                "#B0BEC5",
                "#B0BEC5",
                "#B0BEC5",
                "#B0BEC5",
                "#B0BEC5",
                "#B0BEC5",
                "#B0BEC5",
                "#B0BEC5",
                "#B0BEC5",
                "#B0BEC5",
                "#B0BEC5"
               ]
              ]
             }
            ],
            "label": "Topic 13",
            "method": "update"
           },
           {
            "args": [
             {
              "marker.color": [
               [
                "#B0BEC5",
                "#B0BEC5",
                "#B0BEC5",
                "#B0BEC5",
                "#B0BEC5",
                "#B0BEC5",
                "#B0BEC5",
                "#B0BEC5",
                "#B0BEC5",
                "#B0BEC5",
                "#B0BEC5",
                "#B0BEC5",
                "#B0BEC5",
                "#B0BEC5",
                "red",
                "#B0BEC5",
                "#B0BEC5",
                "#B0BEC5",
                "#B0BEC5",
                "#B0BEC5",
                "#B0BEC5",
                "#B0BEC5",
                "#B0BEC5",
                "#B0BEC5",
                "#B0BEC5"
               ]
              ]
             }
            ],
            "label": "Topic 14",
            "method": "update"
           },
           {
            "args": [
             {
              "marker.color": [
               [
                "#B0BEC5",
                "#B0BEC5",
                "#B0BEC5",
                "#B0BEC5",
                "#B0BEC5",
                "#B0BEC5",
                "#B0BEC5",
                "#B0BEC5",
                "#B0BEC5",
                "#B0BEC5",
                "#B0BEC5",
                "#B0BEC5",
                "#B0BEC5",
                "#B0BEC5",
                "#B0BEC5",
                "red",
                "#B0BEC5",
                "#B0BEC5",
                "#B0BEC5",
                "#B0BEC5",
                "#B0BEC5",
                "#B0BEC5",
                "#B0BEC5",
                "#B0BEC5",
                "#B0BEC5"
               ]
              ]
             }
            ],
            "label": "Topic 15",
            "method": "update"
           },
           {
            "args": [
             {
              "marker.color": [
               [
                "#B0BEC5",
                "#B0BEC5",
                "#B0BEC5",
                "#B0BEC5",
                "#B0BEC5",
                "#B0BEC5",
                "#B0BEC5",
                "#B0BEC5",
                "#B0BEC5",
                "#B0BEC5",
                "#B0BEC5",
                "#B0BEC5",
                "#B0BEC5",
                "#B0BEC5",
                "#B0BEC5",
                "#B0BEC5",
                "red",
                "#B0BEC5",
                "#B0BEC5",
                "#B0BEC5",
                "#B0BEC5",
                "#B0BEC5",
                "#B0BEC5",
                "#B0BEC5",
                "#B0BEC5"
               ]
              ]
             }
            ],
            "label": "Topic 16",
            "method": "update"
           },
           {
            "args": [
             {
              "marker.color": [
               [
                "#B0BEC5",
                "#B0BEC5",
                "#B0BEC5",
                "#B0BEC5",
                "#B0BEC5",
                "#B0BEC5",
                "#B0BEC5",
                "#B0BEC5",
                "#B0BEC5",
                "#B0BEC5",
                "#B0BEC5",
                "#B0BEC5",
                "#B0BEC5",
                "#B0BEC5",
                "#B0BEC5",
                "#B0BEC5",
                "#B0BEC5",
                "red",
                "#B0BEC5",
                "#B0BEC5",
                "#B0BEC5",
                "#B0BEC5",
                "#B0BEC5",
                "#B0BEC5",
                "#B0BEC5"
               ]
              ]
             }
            ],
            "label": "Topic 17",
            "method": "update"
           },
           {
            "args": [
             {
              "marker.color": [
               [
                "#B0BEC5",
                "#B0BEC5",
                "#B0BEC5",
                "#B0BEC5",
                "#B0BEC5",
                "#B0BEC5",
                "#B0BEC5",
                "#B0BEC5",
                "#B0BEC5",
                "#B0BEC5",
                "#B0BEC5",
                "#B0BEC5",
                "#B0BEC5",
                "#B0BEC5",
                "#B0BEC5",
                "#B0BEC5",
                "#B0BEC5",
                "#B0BEC5",
                "red",
                "#B0BEC5",
                "#B0BEC5",
                "#B0BEC5",
                "#B0BEC5",
                "#B0BEC5",
                "#B0BEC5"
               ]
              ]
             }
            ],
            "label": "Topic 18",
            "method": "update"
           },
           {
            "args": [
             {
              "marker.color": [
               [
                "#B0BEC5",
                "#B0BEC5",
                "#B0BEC5",
                "#B0BEC5",
                "#B0BEC5",
                "#B0BEC5",
                "#B0BEC5",
                "#B0BEC5",
                "#B0BEC5",
                "#B0BEC5",
                "#B0BEC5",
                "#B0BEC5",
                "#B0BEC5",
                "#B0BEC5",
                "#B0BEC5",
                "#B0BEC5",
                "#B0BEC5",
                "#B0BEC5",
                "#B0BEC5",
                "red",
                "#B0BEC5",
                "#B0BEC5",
                "#B0BEC5",
                "#B0BEC5",
                "#B0BEC5"
               ]
              ]
             }
            ],
            "label": "Topic 19",
            "method": "update"
           },
           {
            "args": [
             {
              "marker.color": [
               [
                "#B0BEC5",
                "#B0BEC5",
                "#B0BEC5",
                "#B0BEC5",
                "#B0BEC5",
                "#B0BEC5",
                "#B0BEC5",
                "#B0BEC5",
                "#B0BEC5",
                "#B0BEC5",
                "#B0BEC5",
                "#B0BEC5",
                "#B0BEC5",
                "#B0BEC5",
                "#B0BEC5",
                "#B0BEC5",
                "#B0BEC5",
                "#B0BEC5",
                "#B0BEC5",
                "#B0BEC5",
                "red",
                "#B0BEC5",
                "#B0BEC5",
                "#B0BEC5",
                "#B0BEC5"
               ]
              ]
             }
            ],
            "label": "Topic 20",
            "method": "update"
           },
           {
            "args": [
             {
              "marker.color": [
               [
                "#B0BEC5",
                "#B0BEC5",
                "#B0BEC5",
                "#B0BEC5",
                "#B0BEC5",
                "#B0BEC5",
                "#B0BEC5",
                "#B0BEC5",
                "#B0BEC5",
                "#B0BEC5",
                "#B0BEC5",
                "#B0BEC5",
                "#B0BEC5",
                "#B0BEC5",
                "#B0BEC5",
                "#B0BEC5",
                "#B0BEC5",
                "#B0BEC5",
                "#B0BEC5",
                "#B0BEC5",
                "#B0BEC5",
                "red",
                "#B0BEC5",
                "#B0BEC5",
                "#B0BEC5"
               ]
              ]
             }
            ],
            "label": "Topic 21",
            "method": "update"
           },
           {
            "args": [
             {
              "marker.color": [
               [
                "#B0BEC5",
                "#B0BEC5",
                "#B0BEC5",
                "#B0BEC5",
                "#B0BEC5",
                "#B0BEC5",
                "#B0BEC5",
                "#B0BEC5",
                "#B0BEC5",
                "#B0BEC5",
                "#B0BEC5",
                "#B0BEC5",
                "#B0BEC5",
                "#B0BEC5",
                "#B0BEC5",
                "#B0BEC5",
                "#B0BEC5",
                "#B0BEC5",
                "#B0BEC5",
                "#B0BEC5",
                "#B0BEC5",
                "#B0BEC5",
                "red",
                "#B0BEC5",
                "#B0BEC5"
               ]
              ]
             }
            ],
            "label": "Topic 22",
            "method": "update"
           },
           {
            "args": [
             {
              "marker.color": [
               [
                "#B0BEC5",
                "#B0BEC5",
                "#B0BEC5",
                "#B0BEC5",
                "#B0BEC5",
                "#B0BEC5",
                "#B0BEC5",
                "#B0BEC5",
                "#B0BEC5",
                "#B0BEC5",
                "#B0BEC5",
                "#B0BEC5",
                "#B0BEC5",
                "#B0BEC5",
                "#B0BEC5",
                "#B0BEC5",
                "#B0BEC5",
                "#B0BEC5",
                "#B0BEC5",
                "#B0BEC5",
                "#B0BEC5",
                "#B0BEC5",
                "#B0BEC5",
                "red",
                "#B0BEC5"
               ]
              ]
             }
            ],
            "label": "Topic 23",
            "method": "update"
           },
           {
            "args": [
             {
              "marker.color": [
               [
                "#B0BEC5",
                "#B0BEC5",
                "#B0BEC5",
                "#B0BEC5",
                "#B0BEC5",
                "#B0BEC5",
                "#B0BEC5",
                "#B0BEC5",
                "#B0BEC5",
                "#B0BEC5",
                "#B0BEC5",
                "#B0BEC5",
                "#B0BEC5",
                "#B0BEC5",
                "#B0BEC5",
                "#B0BEC5",
                "#B0BEC5",
                "#B0BEC5",
                "#B0BEC5",
                "#B0BEC5",
                "#B0BEC5",
                "#B0BEC5",
                "#B0BEC5",
                "#B0BEC5",
                "red"
               ]
              ]
             }
            ],
            "label": "Topic 24",
            "method": "update"
           }
          ]
         }
        ],
        "template": {
         "data": {
          "bar": [
           {
            "error_x": {
             "color": "rgb(36,36,36)"
            },
            "error_y": {
             "color": "rgb(36,36,36)"
            },
            "marker": {
             "line": {
              "color": "white",
              "width": 0.5
             },
             "pattern": {
              "fillmode": "overlay",
              "size": 10,
              "solidity": 0.2
             }
            },
            "type": "bar"
           }
          ],
          "barpolar": [
           {
            "marker": {
             "line": {
              "color": "white",
              "width": 0.5
             },
             "pattern": {
              "fillmode": "overlay",
              "size": 10,
              "solidity": 0.2
             }
            },
            "type": "barpolar"
           }
          ],
          "carpet": [
           {
            "aaxis": {
             "endlinecolor": "rgb(36,36,36)",
             "gridcolor": "white",
             "linecolor": "white",
             "minorgridcolor": "white",
             "startlinecolor": "rgb(36,36,36)"
            },
            "baxis": {
             "endlinecolor": "rgb(36,36,36)",
             "gridcolor": "white",
             "linecolor": "white",
             "minorgridcolor": "white",
             "startlinecolor": "rgb(36,36,36)"
            },
            "type": "carpet"
           }
          ],
          "choropleth": [
           {
            "colorbar": {
             "outlinewidth": 1,
             "tickcolor": "rgb(36,36,36)",
             "ticks": "outside"
            },
            "type": "choropleth"
           }
          ],
          "contour": [
           {
            "colorbar": {
             "outlinewidth": 1,
             "tickcolor": "rgb(36,36,36)",
             "ticks": "outside"
            },
            "colorscale": [
             [
              0,
              "#440154"
             ],
             [
              0.1111111111111111,
              "#482878"
             ],
             [
              0.2222222222222222,
              "#3e4989"
             ],
             [
              0.3333333333333333,
              "#31688e"
             ],
             [
              0.4444444444444444,
              "#26828e"
             ],
             [
              0.5555555555555556,
              "#1f9e89"
             ],
             [
              0.6666666666666666,
              "#35b779"
             ],
             [
              0.7777777777777778,
              "#6ece58"
             ],
             [
              0.8888888888888888,
              "#b5de2b"
             ],
             [
              1,
              "#fde725"
             ]
            ],
            "type": "contour"
           }
          ],
          "contourcarpet": [
           {
            "colorbar": {
             "outlinewidth": 1,
             "tickcolor": "rgb(36,36,36)",
             "ticks": "outside"
            },
            "type": "contourcarpet"
           }
          ],
          "heatmap": [
           {
            "colorbar": {
             "outlinewidth": 1,
             "tickcolor": "rgb(36,36,36)",
             "ticks": "outside"
            },
            "colorscale": [
             [
              0,
              "#440154"
             ],
             [
              0.1111111111111111,
              "#482878"
             ],
             [
              0.2222222222222222,
              "#3e4989"
             ],
             [
              0.3333333333333333,
              "#31688e"
             ],
             [
              0.4444444444444444,
              "#26828e"
             ],
             [
              0.5555555555555556,
              "#1f9e89"
             ],
             [
              0.6666666666666666,
              "#35b779"
             ],
             [
              0.7777777777777778,
              "#6ece58"
             ],
             [
              0.8888888888888888,
              "#b5de2b"
             ],
             [
              1,
              "#fde725"
             ]
            ],
            "type": "heatmap"
           }
          ],
          "heatmapgl": [
           {
            "colorbar": {
             "outlinewidth": 1,
             "tickcolor": "rgb(36,36,36)",
             "ticks": "outside"
            },
            "colorscale": [
             [
              0,
              "#440154"
             ],
             [
              0.1111111111111111,
              "#482878"
             ],
             [
              0.2222222222222222,
              "#3e4989"
             ],
             [
              0.3333333333333333,
              "#31688e"
             ],
             [
              0.4444444444444444,
              "#26828e"
             ],
             [
              0.5555555555555556,
              "#1f9e89"
             ],
             [
              0.6666666666666666,
              "#35b779"
             ],
             [
              0.7777777777777778,
              "#6ece58"
             ],
             [
              0.8888888888888888,
              "#b5de2b"
             ],
             [
              1,
              "#fde725"
             ]
            ],
            "type": "heatmapgl"
           }
          ],
          "histogram": [
           {
            "marker": {
             "line": {
              "color": "white",
              "width": 0.6
             }
            },
            "type": "histogram"
           }
          ],
          "histogram2d": [
           {
            "colorbar": {
             "outlinewidth": 1,
             "tickcolor": "rgb(36,36,36)",
             "ticks": "outside"
            },
            "colorscale": [
             [
              0,
              "#440154"
             ],
             [
              0.1111111111111111,
              "#482878"
             ],
             [
              0.2222222222222222,
              "#3e4989"
             ],
             [
              0.3333333333333333,
              "#31688e"
             ],
             [
              0.4444444444444444,
              "#26828e"
             ],
             [
              0.5555555555555556,
              "#1f9e89"
             ],
             [
              0.6666666666666666,
              "#35b779"
             ],
             [
              0.7777777777777778,
              "#6ece58"
             ],
             [
              0.8888888888888888,
              "#b5de2b"
             ],
             [
              1,
              "#fde725"
             ]
            ],
            "type": "histogram2d"
           }
          ],
          "histogram2dcontour": [
           {
            "colorbar": {
             "outlinewidth": 1,
             "tickcolor": "rgb(36,36,36)",
             "ticks": "outside"
            },
            "colorscale": [
             [
              0,
              "#440154"
             ],
             [
              0.1111111111111111,
              "#482878"
             ],
             [
              0.2222222222222222,
              "#3e4989"
             ],
             [
              0.3333333333333333,
              "#31688e"
             ],
             [
              0.4444444444444444,
              "#26828e"
             ],
             [
              0.5555555555555556,
              "#1f9e89"
             ],
             [
              0.6666666666666666,
              "#35b779"
             ],
             [
              0.7777777777777778,
              "#6ece58"
             ],
             [
              0.8888888888888888,
              "#b5de2b"
             ],
             [
              1,
              "#fde725"
             ]
            ],
            "type": "histogram2dcontour"
           }
          ],
          "mesh3d": [
           {
            "colorbar": {
             "outlinewidth": 1,
             "tickcolor": "rgb(36,36,36)",
             "ticks": "outside"
            },
            "type": "mesh3d"
           }
          ],
          "parcoords": [
           {
            "line": {
             "colorbar": {
              "outlinewidth": 1,
              "tickcolor": "rgb(36,36,36)",
              "ticks": "outside"
             }
            },
            "type": "parcoords"
           }
          ],
          "pie": [
           {
            "automargin": true,
            "type": "pie"
           }
          ],
          "scatter": [
           {
            "fillpattern": {
             "fillmode": "overlay",
             "size": 10,
             "solidity": 0.2
            },
            "type": "scatter"
           }
          ],
          "scatter3d": [
           {
            "line": {
             "colorbar": {
              "outlinewidth": 1,
              "tickcolor": "rgb(36,36,36)",
              "ticks": "outside"
             }
            },
            "marker": {
             "colorbar": {
              "outlinewidth": 1,
              "tickcolor": "rgb(36,36,36)",
              "ticks": "outside"
             }
            },
            "type": "scatter3d"
           }
          ],
          "scattercarpet": [
           {
            "marker": {
             "colorbar": {
              "outlinewidth": 1,
              "tickcolor": "rgb(36,36,36)",
              "ticks": "outside"
             }
            },
            "type": "scattercarpet"
           }
          ],
          "scattergeo": [
           {
            "marker": {
             "colorbar": {
              "outlinewidth": 1,
              "tickcolor": "rgb(36,36,36)",
              "ticks": "outside"
             }
            },
            "type": "scattergeo"
           }
          ],
          "scattergl": [
           {
            "marker": {
             "colorbar": {
              "outlinewidth": 1,
              "tickcolor": "rgb(36,36,36)",
              "ticks": "outside"
             }
            },
            "type": "scattergl"
           }
          ],
          "scattermapbox": [
           {
            "marker": {
             "colorbar": {
              "outlinewidth": 1,
              "tickcolor": "rgb(36,36,36)",
              "ticks": "outside"
             }
            },
            "type": "scattermapbox"
           }
          ],
          "scatterpolar": [
           {
            "marker": {
             "colorbar": {
              "outlinewidth": 1,
              "tickcolor": "rgb(36,36,36)",
              "ticks": "outside"
             }
            },
            "type": "scatterpolar"
           }
          ],
          "scatterpolargl": [
           {
            "marker": {
             "colorbar": {
              "outlinewidth": 1,
              "tickcolor": "rgb(36,36,36)",
              "ticks": "outside"
             }
            },
            "type": "scatterpolargl"
           }
          ],
          "scatterternary": [
           {
            "marker": {
             "colorbar": {
              "outlinewidth": 1,
              "tickcolor": "rgb(36,36,36)",
              "ticks": "outside"
             }
            },
            "type": "scatterternary"
           }
          ],
          "surface": [
           {
            "colorbar": {
             "outlinewidth": 1,
             "tickcolor": "rgb(36,36,36)",
             "ticks": "outside"
            },
            "colorscale": [
             [
              0,
              "#440154"
             ],
             [
              0.1111111111111111,
              "#482878"
             ],
             [
              0.2222222222222222,
              "#3e4989"
             ],
             [
              0.3333333333333333,
              "#31688e"
             ],
             [
              0.4444444444444444,
              "#26828e"
             ],
             [
              0.5555555555555556,
              "#1f9e89"
             ],
             [
              0.6666666666666666,
              "#35b779"
             ],
             [
              0.7777777777777778,
              "#6ece58"
             ],
             [
              0.8888888888888888,
              "#b5de2b"
             ],
             [
              1,
              "#fde725"
             ]
            ],
            "type": "surface"
           }
          ],
          "table": [
           {
            "cells": {
             "fill": {
              "color": "rgb(237,237,237)"
             },
             "line": {
              "color": "white"
             }
            },
            "header": {
             "fill": {
              "color": "rgb(217,217,217)"
             },
             "line": {
              "color": "white"
             }
            },
            "type": "table"
           }
          ]
         },
         "layout": {
          "annotationdefaults": {
           "arrowhead": 0,
           "arrowwidth": 1
          },
          "autotypenumbers": "strict",
          "coloraxis": {
           "colorbar": {
            "outlinewidth": 1,
            "tickcolor": "rgb(36,36,36)",
            "ticks": "outside"
           }
          },
          "colorscale": {
           "diverging": [
            [
             0,
             "rgb(103,0,31)"
            ],
            [
             0.1,
             "rgb(178,24,43)"
            ],
            [
             0.2,
             "rgb(214,96,77)"
            ],
            [
             0.3,
             "rgb(244,165,130)"
            ],
            [
             0.4,
             "rgb(253,219,199)"
            ],
            [
             0.5,
             "rgb(247,247,247)"
            ],
            [
             0.6,
             "rgb(209,229,240)"
            ],
            [
             0.7,
             "rgb(146,197,222)"
            ],
            [
             0.8,
             "rgb(67,147,195)"
            ],
            [
             0.9,
             "rgb(33,102,172)"
            ],
            [
             1,
             "rgb(5,48,97)"
            ]
           ],
           "sequential": [
            [
             0,
             "#440154"
            ],
            [
             0.1111111111111111,
             "#482878"
            ],
            [
             0.2222222222222222,
             "#3e4989"
            ],
            [
             0.3333333333333333,
             "#31688e"
            ],
            [
             0.4444444444444444,
             "#26828e"
            ],
            [
             0.5555555555555556,
             "#1f9e89"
            ],
            [
             0.6666666666666666,
             "#35b779"
            ],
            [
             0.7777777777777778,
             "#6ece58"
            ],
            [
             0.8888888888888888,
             "#b5de2b"
            ],
            [
             1,
             "#fde725"
            ]
           ],
           "sequentialminus": [
            [
             0,
             "#440154"
            ],
            [
             0.1111111111111111,
             "#482878"
            ],
            [
             0.2222222222222222,
             "#3e4989"
            ],
            [
             0.3333333333333333,
             "#31688e"
            ],
            [
             0.4444444444444444,
             "#26828e"
            ],
            [
             0.5555555555555556,
             "#1f9e89"
            ],
            [
             0.6666666666666666,
             "#35b779"
            ],
            [
             0.7777777777777778,
             "#6ece58"
            ],
            [
             0.8888888888888888,
             "#b5de2b"
            ],
            [
             1,
             "#fde725"
            ]
           ]
          },
          "colorway": [
           "#1F77B4",
           "#FF7F0E",
           "#2CA02C",
           "#D62728",
           "#9467BD",
           "#8C564B",
           "#E377C2",
           "#7F7F7F",
           "#BCBD22",
           "#17BECF"
          ],
          "font": {
           "color": "rgb(36,36,36)"
          },
          "geo": {
           "bgcolor": "white",
           "lakecolor": "white",
           "landcolor": "white",
           "showlakes": true,
           "showland": true,
           "subunitcolor": "white"
          },
          "hoverlabel": {
           "align": "left"
          },
          "hovermode": "closest",
          "mapbox": {
           "style": "light"
          },
          "paper_bgcolor": "white",
          "plot_bgcolor": "white",
          "polar": {
           "angularaxis": {
            "gridcolor": "rgb(232,232,232)",
            "linecolor": "rgb(36,36,36)",
            "showgrid": false,
            "showline": true,
            "ticks": "outside"
           },
           "bgcolor": "white",
           "radialaxis": {
            "gridcolor": "rgb(232,232,232)",
            "linecolor": "rgb(36,36,36)",
            "showgrid": false,
            "showline": true,
            "ticks": "outside"
           }
          },
          "scene": {
           "xaxis": {
            "backgroundcolor": "white",
            "gridcolor": "rgb(232,232,232)",
            "gridwidth": 2,
            "linecolor": "rgb(36,36,36)",
            "showbackground": true,
            "showgrid": false,
            "showline": true,
            "ticks": "outside",
            "zeroline": false,
            "zerolinecolor": "rgb(36,36,36)"
           },
           "yaxis": {
            "backgroundcolor": "white",
            "gridcolor": "rgb(232,232,232)",
            "gridwidth": 2,
            "linecolor": "rgb(36,36,36)",
            "showbackground": true,
            "showgrid": false,
            "showline": true,
            "ticks": "outside",
            "zeroline": false,
            "zerolinecolor": "rgb(36,36,36)"
           },
           "zaxis": {
            "backgroundcolor": "white",
            "gridcolor": "rgb(232,232,232)",
            "gridwidth": 2,
            "linecolor": "rgb(36,36,36)",
            "showbackground": true,
            "showgrid": false,
            "showline": true,
            "ticks": "outside",
            "zeroline": false,
            "zerolinecolor": "rgb(36,36,36)"
           }
          },
          "shapedefaults": {
           "fillcolor": "black",
           "line": {
            "width": 0
           },
           "opacity": 0.3
          },
          "ternary": {
           "aaxis": {
            "gridcolor": "rgb(232,232,232)",
            "linecolor": "rgb(36,36,36)",
            "showgrid": false,
            "showline": true,
            "ticks": "outside"
           },
           "baxis": {
            "gridcolor": "rgb(232,232,232)",
            "linecolor": "rgb(36,36,36)",
            "showgrid": false,
            "showline": true,
            "ticks": "outside"
           },
           "bgcolor": "white",
           "caxis": {
            "gridcolor": "rgb(232,232,232)",
            "linecolor": "rgb(36,36,36)",
            "showgrid": false,
            "showline": true,
            "ticks": "outside"
           }
          },
          "title": {
           "x": 0.05
          },
          "xaxis": {
           "automargin": true,
           "gridcolor": "rgb(232,232,232)",
           "linecolor": "rgb(36,36,36)",
           "showgrid": false,
           "showline": true,
           "ticks": "outside",
           "title": {
            "standoff": 15
           },
           "zeroline": false,
           "zerolinecolor": "rgb(36,36,36)"
          },
          "yaxis": {
           "automargin": true,
           "gridcolor": "rgb(232,232,232)",
           "linecolor": "rgb(36,36,36)",
           "showgrid": false,
           "showline": true,
           "ticks": "outside",
           "title": {
            "standoff": 15
           },
           "zeroline": false,
           "zerolinecolor": "rgb(36,36,36)"
          }
         }
        },
        "title": {
         "font": {
          "color": "Black",
          "size": 22
         },
         "text": "<b>Intertopic Distance Map</b>",
         "x": 0.5,
         "xanchor": "center",
         "y": 0.95,
         "yanchor": "top"
        },
        "width": 650,
        "xaxis": {
         "anchor": "y",
         "domain": [
          0,
          1
         ],
         "range": [
          -9.264189147949219,
          16.629309320449828
         ],
         "title": {
          "text": ""
         },
         "visible": false
        },
        "yaxis": {
         "anchor": "x",
         "domain": [
          0,
          1
         ],
         "range": [
          -1.976306277513504,
          9.72469539642334
         ],
         "title": {
          "text": ""
         },
         "visible": false
        }
       }
      }
     },
     "metadata": {},
     "output_type": "display_data"
    }
   ],
   "source": [
    "model.visualize_topics()"
   ]
  },
  {
   "cell_type": "code",
   "execution_count": 11,
   "metadata": {},
   "outputs": [
    {
     "data": {
      "application/vnd.plotly.v1+json": {
       "config": {
        "plotlyServerURL": "https://plot.ly"
       },
       "data": [
        {
         "marker": {
          "color": "#D55E00"
         },
         "orientation": "h",
         "type": "bar",
         "x": [
          0.03032672904622091,
          0.030410744096933645,
          0.035076621720403406,
          0.043124824423039616,
          0.08145754235737315
         ],
         "xaxis": "x",
         "y": [
          "in  ",
          "automated  ",
          "collaborative  ",
          "feedback  ",
          "writing  "
         ],
         "yaxis": "y"
        },
        {
         "marker": {
          "color": "#0072B2"
         },
         "orientation": "h",
         "type": "bar",
         "x": [
          0.03294255820895502,
          0.03836975007873968,
          0.05077823723341781,
          0.052708093134328025,
          0.16990525198180564
         ],
         "xaxis": "x2",
         "y": [
          "teacher  ",
          "the  ",
          "sla  ",
          "research  ",
          "call  "
         ],
         "yaxis": "y2"
        },
        {
         "marker": {
          "color": "#CC79A7"
         },
         "orientation": "h",
         "type": "bar",
         "x": [
          0.029968315044423766,
          0.03911788243168528,
          0.043056930379853024,
          0.06621439840896401,
          0.1376097202614148
         ],
         "xaxis": "x3",
         "y": [
          "smartphones  ",
          "language  ",
          "assisted  ",
          "learning  ",
          "mobile  "
         ],
         "yaxis": "y3"
        },
        {
         "marker": {
          "color": "#E69F00"
         },
         "orientation": "h",
         "type": "bar",
         "x": [
          0.03239678779333246,
          0.033883149888780856,
          0.03623871667981027,
          0.04286637021688472,
          0.0823925707228926
         ],
         "xaxis": "x4",
         "y": [
          "informal  ",
          "of  ",
          "learning  ",
          "language  ",
          "online  "
         ],
         "yaxis": "y4"
        },
        {
         "marker": {
          "color": "#56B4E9"
         },
         "orientation": "h",
         "type": "bar",
         "x": [
          0.04790782543433833,
          0.051041792097951115,
          0.06252685038991426,
          0.06401014667397889,
          0.12386796503863517
         ],
         "xaxis": "x5",
         "y": [
          "gaming  ",
          "playing  ",
          "digital  ",
          "games  ",
          "game  "
         ],
         "yaxis": "y5"
        },
        {
         "marker": {
          "color": "#009E73"
         },
         "orientation": "h",
         "type": "bar",
         "x": [
          0.03865933980241736,
          0.046803117998178115,
          0.056052426198817756,
          0.06709898860648057,
          0.14398140980216503
         ],
         "xaxis": "x6",
         "y": [
          "instruction  ",
          "recognition  ",
          "training  ",
          "speech  ",
          "pronunciation  "
         ],
         "yaxis": "y6"
        },
        {
         "marker": {
          "color": "#F0E442"
         },
         "orientation": "h",
         "type": "bar",
         "x": [
          0.043484450429792834,
          0.04825274760400674,
          0.07056952360787043,
          0.09024392455444204,
          0.11920389070083809
         ],
         "xaxis": "x7",
         "y": [
          "via  ",
          "interactions  ",
          "video  ",
          "videoconferencing  ",
          "multimodal  "
         ],
         "yaxis": "y7"
        },
        {
         "marker": {
          "color": "#D55E00"
         },
         "orientation": "h",
         "type": "bar",
         "x": [
          0.04849651452693488,
          0.05500617287580137,
          0.06845047756987412,
          0.0769060446371618,
          0.20206356931833838
         ],
         "xaxis": "x8",
         "y": [
          "pre  ",
          "service  ",
          "telecollaborative  ",
          "intercultural  ",
          "telecollaboration  "
         ],
         "yaxis": "y8"
        },
        {
         "marker": {
          "color": "#0072B2"
         },
         "orientation": "h",
         "type": "bar",
         "x": [
          0.0583102675769264,
          0.06974504924968261,
          0.0738494810733553,
          0.11703459525735548,
          0.12110264110390813
         ],
         "xaxis": "x9",
         "y": [
          "collocations  ",
          "dictionaries  ",
          "collocation  ",
          "driven  ",
          "data  "
         ],
         "yaxis": "y9"
        },
        {
         "marker": {
          "color": "#CC79A7"
         },
         "orientation": "h",
         "type": "bar",
         "x": [
          0.0473224715573937,
          0.047938505453212335,
          0.06401297232383052,
          0.0671760164679293,
          0.0889240771412358
         ],
         "xaxis": "x10",
         "y": [
          "pedagogical  ",
          "teaching  ",
          "technological  ",
          "teachers  ",
          "technology  "
         ],
         "yaxis": "y10"
        },
        {
         "marker": {
          "color": "#E69F00"
         },
         "orientation": "h",
         "type": "bar",
         "x": [
          0.06200203906303694,
          0.06354073625984832,
          0.06384667372502717,
          0.07816808686608391,
          0.08103632053206923
         ],
         "xaxis": "x11",
         "y": [
          "computer  ",
          "learning  ",
          "assisted  ",
          "language  ",
          "technology  "
         ],
         "yaxis": "y11"
        },
        {
         "marker": {
          "color": "#56B4E9"
         },
         "orientation": "h",
         "type": "bar",
         "x": [
          0.06488006680025026,
          0.06624574904556832,
          0.09013779948861868,
          0.09074484022335672,
          0.10498881925195208
         ],
         "xaxis": "x12",
         "y": [
          "video  ",
          "captioned  ",
          "listening  ",
          "captions  ",
          "comprehension  "
         ],
         "yaxis": "y12"
        },
        {
         "marker": {
          "color": "#009E73"
         },
         "orientation": "h",
         "type": "bar",
         "x": [
          0.04165651842837522,
          0.04730421067213587,
          0.04863889528069956,
          0.05227019668225331,
          0.1542855863952027
         ],
         "xaxis": "x13",
         "y": [
          "on  ",
          "effects  ",
          "glosses  ",
          "gloss  ",
          "vocabulary  "
         ],
         "yaxis": "y13"
        },
        {
         "marker": {
          "color": "#F0E442"
         },
         "orientation": "h",
         "type": "bar",
         "x": [
          0.060087183674430236,
          0.07571126389892835,
          0.11077205023221498,
          0.11564823322879762,
          0.13823080369553192
         ],
         "xaxis": "x14",
         "y": [
          "worlds  ",
          "immersive  ",
          "3d  ",
          "reality  ",
          "virtual  "
         ],
         "yaxis": "y14"
        },
        {
         "marker": {
          "color": "#D55E00"
         },
         "orientation": "h",
         "type": "bar",
         "x": [
          0.05568050282182505,
          0.060206012715475855,
          0.06136012067634833,
          0.06756910890881897,
          0.09802354232337082
         ],
         "xaxis": "x15",
         "y": [
          "teachers  ",
          "literacy  ",
          "professional  ",
          "exchange  ",
          "virtual  "
         ],
         "yaxis": "y15"
        },
        {
         "marker": {
          "color": "#0072B2"
         },
         "orientation": "h",
         "type": "bar",
         "x": [
          0.032949282621362846,
          0.053252642232843435,
          0.05602082649358178,
          0.12294974038204556,
          0.22658226845067272
         ],
         "xaxis": "x16",
         "y": [
          "teaching  ",
          "classrooms  ",
          "flipping  ",
          "classroom  ",
          "flipped  "
         ],
         "yaxis": "y16"
        },
        {
         "marker": {
          "color": "#CC79A7"
         },
         "orientation": "h",
         "type": "bar",
         "x": [
          0.07331227339685119,
          0.07783640596221253,
          0.08635597940547192,
          0.09775848498547066,
          0.21005958120374726
         ],
         "xaxis": "x17",
         "y": [
          "proficiency  ",
          "computer  ",
          "mediated  ",
          "communication  ",
          "oral  "
         ],
         "yaxis": "y17"
        },
        {
         "marker": {
          "color": "#E69F00"
         },
         "orientation": "h",
         "type": "bar",
         "x": [
          0.045115496164022724,
          0.07932458240023595,
          0.0881940443083831,
          0.10713592744675032,
          0.15540812777566504
         ],
         "xaxis": "x18",
         "y": [
          "creative  ",
          "stories  ",
          "story  ",
          "digital  ",
          "storytelling  "
         ],
         "yaxis": "y18"
        },
        {
         "marker": {
          "color": "#56B4E9"
         },
         "orientation": "h",
         "type": "bar",
         "x": [
          0.052247029219508405,
          0.05676011908239911,
          0.057212237812081734,
          0.08767231486516182,
          0.14942075990360662
         ],
         "xaxis": "x19",
         "y": [
          "exchanges  ",
          "competence  ",
          "communicative  ",
          "exchange  ",
          "intercultural  "
         ],
         "yaxis": "y19"
        },
        {
         "marker": {
          "color": "#009E73"
         },
         "orientation": "h",
         "type": "bar",
         "x": [
          0.04228963898502813,
          0.04482047238875459,
          0.05333747910980257,
          0.06864774870690155,
          0.2740455031980686
         ],
         "xaxis": "x20",
         "y": [
          "for  ",
          "college  ",
          "inquiry  ",
          "learning  ",
          "blended  "
         ],
         "yaxis": "y20"
        },
        {
         "marker": {
          "color": "#F0E442"
         },
         "orientation": "h",
         "type": "bar",
         "x": [
          0.05715516028917963,
          0.07331757937408862,
          0.08226025146551492,
          0.10654605286105093,
          0.24484107537654323
         ],
         "xaxis": "x21",
         "y": [
          "language  ",
          "networks  ",
          "networking  ",
          "media  ",
          "social  "
         ],
         "yaxis": "y21"
        },
        {
         "marker": {
          "color": "#D55E00"
         },
         "orientation": "h",
         "type": "bar",
         "x": [
          0.04646411517154086,
          0.049676599235726426,
          0.06251471003891164,
          0.06347986438810783,
          0.1949557887485623
         ],
         "xaxis": "x22",
         "y": [
          "efl  ",
          "students  ",
          "comprehension  ",
          "strategies  ",
          "reading  "
         ],
         "yaxis": "y22"
        },
        {
         "marker": {
          "color": "#0072B2"
         },
         "orientation": "h",
         "type": "bar",
         "x": [
          0.05382905753095156,
          0.0606110615322399,
          0.06595002919218007,
          0.08100244067336575,
          0.20141096438508221
         ],
         "xaxis": "x23",
         "y": [
          "teachers  ",
          "teacher  ",
          "pedagogy  ",
          "corpora  ",
          "corpus  "
         ],
         "yaxis": "y23"
        },
        {
         "marker": {
          "color": "#CC79A7"
         },
         "orientation": "h",
         "type": "bar",
         "x": [
          0.05861391269697044,
          0.058844055774193146,
          0.06507122586575553,
          0.06508190244591766,
          0.3015471704350582
         ],
         "xaxis": "x24",
         "y": [
          "the  ",
          "processing  ",
          "oer  ",
          "meta  ",
          "mall  "
         ],
         "yaxis": "y24"
        },
        {
         "marker": {
          "color": "#E69F00"
         },
         "orientation": "h",
         "type": "bar",
         "x": [
          0.0890900833997746,
          0.12129250920095999,
          0.13319486171868417,
          0.14260510361892326,
          0.23467888542611692
         ],
         "xaxis": "x25",
         "y": [
          "interaction  ",
          "l2  ",
          "text  ",
          "task  ",
          "chat  "
         ],
         "yaxis": "y25"
        }
       ],
       "layout": {
        "annotations": [
         {
          "font": {
           "size": 16
          },
          "showarrow": false,
          "text": "Topic 0",
          "x": 0.0875,
          "xanchor": "center",
          "xref": "paper",
          "y": 1,
          "yanchor": "bottom",
          "yref": "paper"
         },
         {
          "font": {
           "size": 16
          },
          "showarrow": false,
          "text": "Topic 1",
          "x": 0.36250000000000004,
          "xanchor": "center",
          "xref": "paper",
          "y": 1,
          "yanchor": "bottom",
          "yref": "paper"
         },
         {
          "font": {
           "size": 16
          },
          "showarrow": false,
          "text": "Topic 2",
          "x": 0.6375000000000001,
          "xanchor": "center",
          "xref": "paper",
          "y": 1,
          "yanchor": "bottom",
          "yref": "paper"
         },
         {
          "font": {
           "size": 16
          },
          "showarrow": false,
          "text": "Topic 3",
          "x": 0.9125,
          "xanchor": "center",
          "xref": "paper",
          "y": 1,
          "yanchor": "bottom",
          "yref": "paper"
         },
         {
          "font": {
           "size": 16
          },
          "showarrow": false,
          "text": "Topic 4",
          "x": 0.0875,
          "xanchor": "center",
          "xref": "paper",
          "y": 0.8489795918367348,
          "yanchor": "bottom",
          "yref": "paper"
         },
         {
          "font": {
           "size": 16
          },
          "showarrow": false,
          "text": "Topic 5",
          "x": 0.36250000000000004,
          "xanchor": "center",
          "xref": "paper",
          "y": 0.8489795918367348,
          "yanchor": "bottom",
          "yref": "paper"
         },
         {
          "font": {
           "size": 16
          },
          "showarrow": false,
          "text": "Topic 6",
          "x": 0.6375000000000001,
          "xanchor": "center",
          "xref": "paper",
          "y": 0.8489795918367348,
          "yanchor": "bottom",
          "yref": "paper"
         },
         {
          "font": {
           "size": 16
          },
          "showarrow": false,
          "text": "Topic 7",
          "x": 0.9125,
          "xanchor": "center",
          "xref": "paper",
          "y": 0.8489795918367348,
          "yanchor": "bottom",
          "yref": "paper"
         },
         {
          "font": {
           "size": 16
          },
          "showarrow": false,
          "text": "Topic 8",
          "x": 0.0875,
          "xanchor": "center",
          "xref": "paper",
          "y": 0.6979591836734694,
          "yanchor": "bottom",
          "yref": "paper"
         },
         {
          "font": {
           "size": 16
          },
          "showarrow": false,
          "text": "Topic 9",
          "x": 0.36250000000000004,
          "xanchor": "center",
          "xref": "paper",
          "y": 0.6979591836734694,
          "yanchor": "bottom",
          "yref": "paper"
         },
         {
          "font": {
           "size": 16
          },
          "showarrow": false,
          "text": "Topic 10",
          "x": 0.6375000000000001,
          "xanchor": "center",
          "xref": "paper",
          "y": 0.6979591836734694,
          "yanchor": "bottom",
          "yref": "paper"
         },
         {
          "font": {
           "size": 16
          },
          "showarrow": false,
          "text": "Topic 11",
          "x": 0.9125,
          "xanchor": "center",
          "xref": "paper",
          "y": 0.6979591836734694,
          "yanchor": "bottom",
          "yref": "paper"
         },
         {
          "font": {
           "size": 16
          },
          "showarrow": false,
          "text": "Topic 12",
          "x": 0.0875,
          "xanchor": "center",
          "xref": "paper",
          "y": 0.5469387755102041,
          "yanchor": "bottom",
          "yref": "paper"
         },
         {
          "font": {
           "size": 16
          },
          "showarrow": false,
          "text": "Topic 13",
          "x": 0.36250000000000004,
          "xanchor": "center",
          "xref": "paper",
          "y": 0.5469387755102041,
          "yanchor": "bottom",
          "yref": "paper"
         },
         {
          "font": {
           "size": 16
          },
          "showarrow": false,
          "text": "Topic 14",
          "x": 0.6375000000000001,
          "xanchor": "center",
          "xref": "paper",
          "y": 0.5469387755102041,
          "yanchor": "bottom",
          "yref": "paper"
         },
         {
          "font": {
           "size": 16
          },
          "showarrow": false,
          "text": "Topic 15",
          "x": 0.9125,
          "xanchor": "center",
          "xref": "paper",
          "y": 0.5469387755102041,
          "yanchor": "bottom",
          "yref": "paper"
         },
         {
          "font": {
           "size": 16
          },
          "showarrow": false,
          "text": "Topic 16",
          "x": 0.0875,
          "xanchor": "center",
          "xref": "paper",
          "y": 0.3959183673469388,
          "yanchor": "bottom",
          "yref": "paper"
         },
         {
          "font": {
           "size": 16
          },
          "showarrow": false,
          "text": "Topic 17",
          "x": 0.36250000000000004,
          "xanchor": "center",
          "xref": "paper",
          "y": 0.3959183673469388,
          "yanchor": "bottom",
          "yref": "paper"
         },
         {
          "font": {
           "size": 16
          },
          "showarrow": false,
          "text": "Topic 18",
          "x": 0.6375000000000001,
          "xanchor": "center",
          "xref": "paper",
          "y": 0.3959183673469388,
          "yanchor": "bottom",
          "yref": "paper"
         },
         {
          "font": {
           "size": 16
          },
          "showarrow": false,
          "text": "Topic 19",
          "x": 0.9125,
          "xanchor": "center",
          "xref": "paper",
          "y": 0.3959183673469388,
          "yanchor": "bottom",
          "yref": "paper"
         },
         {
          "font": {
           "size": 16
          },
          "showarrow": false,
          "text": "Topic 20",
          "x": 0.0875,
          "xanchor": "center",
          "xref": "paper",
          "y": 0.24489795918367346,
          "yanchor": "bottom",
          "yref": "paper"
         },
         {
          "font": {
           "size": 16
          },
          "showarrow": false,
          "text": "Topic 21",
          "x": 0.36250000000000004,
          "xanchor": "center",
          "xref": "paper",
          "y": 0.24489795918367346,
          "yanchor": "bottom",
          "yref": "paper"
         },
         {
          "font": {
           "size": 16
          },
          "showarrow": false,
          "text": "Topic 22",
          "x": 0.6375000000000001,
          "xanchor": "center",
          "xref": "paper",
          "y": 0.24489795918367346,
          "yanchor": "bottom",
          "yref": "paper"
         },
         {
          "font": {
           "size": 16
          },
          "showarrow": false,
          "text": "Topic 23",
          "x": 0.9125,
          "xanchor": "center",
          "xref": "paper",
          "y": 0.24489795918367346,
          "yanchor": "bottom",
          "yref": "paper"
         },
         {
          "font": {
           "size": 16
          },
          "showarrow": false,
          "text": "Topic 24",
          "x": 0.0875,
          "xanchor": "center",
          "xref": "paper",
          "y": 0.09387755102040816,
          "yanchor": "bottom",
          "yref": "paper"
         }
        ],
        "height": 1750,
        "hoverlabel": {
         "bgcolor": "white",
         "font": {
          "family": "Rockwell",
          "size": 16
         }
        },
        "showlegend": false,
        "template": {
         "data": {
          "bar": [
           {
            "error_x": {
             "color": "#2a3f5f"
            },
            "error_y": {
             "color": "#2a3f5f"
            },
            "marker": {
             "line": {
              "color": "white",
              "width": 0.5
             },
             "pattern": {
              "fillmode": "overlay",
              "size": 10,
              "solidity": 0.2
             }
            },
            "type": "bar"
           }
          ],
          "barpolar": [
           {
            "marker": {
             "line": {
              "color": "white",
              "width": 0.5
             },
             "pattern": {
              "fillmode": "overlay",
              "size": 10,
              "solidity": 0.2
             }
            },
            "type": "barpolar"
           }
          ],
          "carpet": [
           {
            "aaxis": {
             "endlinecolor": "#2a3f5f",
             "gridcolor": "#C8D4E3",
             "linecolor": "#C8D4E3",
             "minorgridcolor": "#C8D4E3",
             "startlinecolor": "#2a3f5f"
            },
            "baxis": {
             "endlinecolor": "#2a3f5f",
             "gridcolor": "#C8D4E3",
             "linecolor": "#C8D4E3",
             "minorgridcolor": "#C8D4E3",
             "startlinecolor": "#2a3f5f"
            },
            "type": "carpet"
           }
          ],
          "choropleth": [
           {
            "colorbar": {
             "outlinewidth": 0,
             "ticks": ""
            },
            "type": "choropleth"
           }
          ],
          "contour": [
           {
            "colorbar": {
             "outlinewidth": 0,
             "ticks": ""
            },
            "colorscale": [
             [
              0,
              "#0d0887"
             ],
             [
              0.1111111111111111,
              "#46039f"
             ],
             [
              0.2222222222222222,
              "#7201a8"
             ],
             [
              0.3333333333333333,
              "#9c179e"
             ],
             [
              0.4444444444444444,
              "#bd3786"
             ],
             [
              0.5555555555555556,
              "#d8576b"
             ],
             [
              0.6666666666666666,
              "#ed7953"
             ],
             [
              0.7777777777777778,
              "#fb9f3a"
             ],
             [
              0.8888888888888888,
              "#fdca26"
             ],
             [
              1,
              "#f0f921"
             ]
            ],
            "type": "contour"
           }
          ],
          "contourcarpet": [
           {
            "colorbar": {
             "outlinewidth": 0,
             "ticks": ""
            },
            "type": "contourcarpet"
           }
          ],
          "heatmap": [
           {
            "colorbar": {
             "outlinewidth": 0,
             "ticks": ""
            },
            "colorscale": [
             [
              0,
              "#0d0887"
             ],
             [
              0.1111111111111111,
              "#46039f"
             ],
             [
              0.2222222222222222,
              "#7201a8"
             ],
             [
              0.3333333333333333,
              "#9c179e"
             ],
             [
              0.4444444444444444,
              "#bd3786"
             ],
             [
              0.5555555555555556,
              "#d8576b"
             ],
             [
              0.6666666666666666,
              "#ed7953"
             ],
             [
              0.7777777777777778,
              "#fb9f3a"
             ],
             [
              0.8888888888888888,
              "#fdca26"
             ],
             [
              1,
              "#f0f921"
             ]
            ],
            "type": "heatmap"
           }
          ],
          "heatmapgl": [
           {
            "colorbar": {
             "outlinewidth": 0,
             "ticks": ""
            },
            "colorscale": [
             [
              0,
              "#0d0887"
             ],
             [
              0.1111111111111111,
              "#46039f"
             ],
             [
              0.2222222222222222,
              "#7201a8"
             ],
             [
              0.3333333333333333,
              "#9c179e"
             ],
             [
              0.4444444444444444,
              "#bd3786"
             ],
             [
              0.5555555555555556,
              "#d8576b"
             ],
             [
              0.6666666666666666,
              "#ed7953"
             ],
             [
              0.7777777777777778,
              "#fb9f3a"
             ],
             [
              0.8888888888888888,
              "#fdca26"
             ],
             [
              1,
              "#f0f921"
             ]
            ],
            "type": "heatmapgl"
           }
          ],
          "histogram": [
           {
            "marker": {
             "pattern": {
              "fillmode": "overlay",
              "size": 10,
              "solidity": 0.2
             }
            },
            "type": "histogram"
           }
          ],
          "histogram2d": [
           {
            "colorbar": {
             "outlinewidth": 0,
             "ticks": ""
            },
            "colorscale": [
             [
              0,
              "#0d0887"
             ],
             [
              0.1111111111111111,
              "#46039f"
             ],
             [
              0.2222222222222222,
              "#7201a8"
             ],
             [
              0.3333333333333333,
              "#9c179e"
             ],
             [
              0.4444444444444444,
              "#bd3786"
             ],
             [
              0.5555555555555556,
              "#d8576b"
             ],
             [
              0.6666666666666666,
              "#ed7953"
             ],
             [
              0.7777777777777778,
              "#fb9f3a"
             ],
             [
              0.8888888888888888,
              "#fdca26"
             ],
             [
              1,
              "#f0f921"
             ]
            ],
            "type": "histogram2d"
           }
          ],
          "histogram2dcontour": [
           {
            "colorbar": {
             "outlinewidth": 0,
             "ticks": ""
            },
            "colorscale": [
             [
              0,
              "#0d0887"
             ],
             [
              0.1111111111111111,
              "#46039f"
             ],
             [
              0.2222222222222222,
              "#7201a8"
             ],
             [
              0.3333333333333333,
              "#9c179e"
             ],
             [
              0.4444444444444444,
              "#bd3786"
             ],
             [
              0.5555555555555556,
              "#d8576b"
             ],
             [
              0.6666666666666666,
              "#ed7953"
             ],
             [
              0.7777777777777778,
              "#fb9f3a"
             ],
             [
              0.8888888888888888,
              "#fdca26"
             ],
             [
              1,
              "#f0f921"
             ]
            ],
            "type": "histogram2dcontour"
           }
          ],
          "mesh3d": [
           {
            "colorbar": {
             "outlinewidth": 0,
             "ticks": ""
            },
            "type": "mesh3d"
           }
          ],
          "parcoords": [
           {
            "line": {
             "colorbar": {
              "outlinewidth": 0,
              "ticks": ""
             }
            },
            "type": "parcoords"
           }
          ],
          "pie": [
           {
            "automargin": true,
            "type": "pie"
           }
          ],
          "scatter": [
           {
            "fillpattern": {
             "fillmode": "overlay",
             "size": 10,
             "solidity": 0.2
            },
            "type": "scatter"
           }
          ],
          "scatter3d": [
           {
            "line": {
             "colorbar": {
              "outlinewidth": 0,
              "ticks": ""
             }
            },
            "marker": {
             "colorbar": {
              "outlinewidth": 0,
              "ticks": ""
             }
            },
            "type": "scatter3d"
           }
          ],
          "scattercarpet": [
           {
            "marker": {
             "colorbar": {
              "outlinewidth": 0,
              "ticks": ""
             }
            },
            "type": "scattercarpet"
           }
          ],
          "scattergeo": [
           {
            "marker": {
             "colorbar": {
              "outlinewidth": 0,
              "ticks": ""
             }
            },
            "type": "scattergeo"
           }
          ],
          "scattergl": [
           {
            "marker": {
             "colorbar": {
              "outlinewidth": 0,
              "ticks": ""
             }
            },
            "type": "scattergl"
           }
          ],
          "scattermapbox": [
           {
            "marker": {
             "colorbar": {
              "outlinewidth": 0,
              "ticks": ""
             }
            },
            "type": "scattermapbox"
           }
          ],
          "scatterpolar": [
           {
            "marker": {
             "colorbar": {
              "outlinewidth": 0,
              "ticks": ""
             }
            },
            "type": "scatterpolar"
           }
          ],
          "scatterpolargl": [
           {
            "marker": {
             "colorbar": {
              "outlinewidth": 0,
              "ticks": ""
             }
            },
            "type": "scatterpolargl"
           }
          ],
          "scatterternary": [
           {
            "marker": {
             "colorbar": {
              "outlinewidth": 0,
              "ticks": ""
             }
            },
            "type": "scatterternary"
           }
          ],
          "surface": [
           {
            "colorbar": {
             "outlinewidth": 0,
             "ticks": ""
            },
            "colorscale": [
             [
              0,
              "#0d0887"
             ],
             [
              0.1111111111111111,
              "#46039f"
             ],
             [
              0.2222222222222222,
              "#7201a8"
             ],
             [
              0.3333333333333333,
              "#9c179e"
             ],
             [
              0.4444444444444444,
              "#bd3786"
             ],
             [
              0.5555555555555556,
              "#d8576b"
             ],
             [
              0.6666666666666666,
              "#ed7953"
             ],
             [
              0.7777777777777778,
              "#fb9f3a"
             ],
             [
              0.8888888888888888,
              "#fdca26"
             ],
             [
              1,
              "#f0f921"
             ]
            ],
            "type": "surface"
           }
          ],
          "table": [
           {
            "cells": {
             "fill": {
              "color": "#EBF0F8"
             },
             "line": {
              "color": "white"
             }
            },
            "header": {
             "fill": {
              "color": "#C8D4E3"
             },
             "line": {
              "color": "white"
             }
            },
            "type": "table"
           }
          ]
         },
         "layout": {
          "annotationdefaults": {
           "arrowcolor": "#2a3f5f",
           "arrowhead": 0,
           "arrowwidth": 1
          },
          "autotypenumbers": "strict",
          "coloraxis": {
           "colorbar": {
            "outlinewidth": 0,
            "ticks": ""
           }
          },
          "colorscale": {
           "diverging": [
            [
             0,
             "#8e0152"
            ],
            [
             0.1,
             "#c51b7d"
            ],
            [
             0.2,
             "#de77ae"
            ],
            [
             0.3,
             "#f1b6da"
            ],
            [
             0.4,
             "#fde0ef"
            ],
            [
             0.5,
             "#f7f7f7"
            ],
            [
             0.6,
             "#e6f5d0"
            ],
            [
             0.7,
             "#b8e186"
            ],
            [
             0.8,
             "#7fbc41"
            ],
            [
             0.9,
             "#4d9221"
            ],
            [
             1,
             "#276419"
            ]
           ],
           "sequential": [
            [
             0,
             "#0d0887"
            ],
            [
             0.1111111111111111,
             "#46039f"
            ],
            [
             0.2222222222222222,
             "#7201a8"
            ],
            [
             0.3333333333333333,
             "#9c179e"
            ],
            [
             0.4444444444444444,
             "#bd3786"
            ],
            [
             0.5555555555555556,
             "#d8576b"
            ],
            [
             0.6666666666666666,
             "#ed7953"
            ],
            [
             0.7777777777777778,
             "#fb9f3a"
            ],
            [
             0.8888888888888888,
             "#fdca26"
            ],
            [
             1,
             "#f0f921"
            ]
           ],
           "sequentialminus": [
            [
             0,
             "#0d0887"
            ],
            [
             0.1111111111111111,
             "#46039f"
            ],
            [
             0.2222222222222222,
             "#7201a8"
            ],
            [
             0.3333333333333333,
             "#9c179e"
            ],
            [
             0.4444444444444444,
             "#bd3786"
            ],
            [
             0.5555555555555556,
             "#d8576b"
            ],
            [
             0.6666666666666666,
             "#ed7953"
            ],
            [
             0.7777777777777778,
             "#fb9f3a"
            ],
            [
             0.8888888888888888,
             "#fdca26"
            ],
            [
             1,
             "#f0f921"
            ]
           ]
          },
          "colorway": [
           "#636efa",
           "#EF553B",
           "#00cc96",
           "#ab63fa",
           "#FFA15A",
           "#19d3f3",
           "#FF6692",
           "#B6E880",
           "#FF97FF",
           "#FECB52"
          ],
          "font": {
           "color": "#2a3f5f"
          },
          "geo": {
           "bgcolor": "white",
           "lakecolor": "white",
           "landcolor": "white",
           "showlakes": true,
           "showland": true,
           "subunitcolor": "#C8D4E3"
          },
          "hoverlabel": {
           "align": "left"
          },
          "hovermode": "closest",
          "mapbox": {
           "style": "light"
          },
          "paper_bgcolor": "white",
          "plot_bgcolor": "white",
          "polar": {
           "angularaxis": {
            "gridcolor": "#EBF0F8",
            "linecolor": "#EBF0F8",
            "ticks": ""
           },
           "bgcolor": "white",
           "radialaxis": {
            "gridcolor": "#EBF0F8",
            "linecolor": "#EBF0F8",
            "ticks": ""
           }
          },
          "scene": {
           "xaxis": {
            "backgroundcolor": "white",
            "gridcolor": "#DFE8F3",
            "gridwidth": 2,
            "linecolor": "#EBF0F8",
            "showbackground": true,
            "ticks": "",
            "zerolinecolor": "#EBF0F8"
           },
           "yaxis": {
            "backgroundcolor": "white",
            "gridcolor": "#DFE8F3",
            "gridwidth": 2,
            "linecolor": "#EBF0F8",
            "showbackground": true,
            "ticks": "",
            "zerolinecolor": "#EBF0F8"
           },
           "zaxis": {
            "backgroundcolor": "white",
            "gridcolor": "#DFE8F3",
            "gridwidth": 2,
            "linecolor": "#EBF0F8",
            "showbackground": true,
            "ticks": "",
            "zerolinecolor": "#EBF0F8"
           }
          },
          "shapedefaults": {
           "line": {
            "color": "#2a3f5f"
           }
          },
          "ternary": {
           "aaxis": {
            "gridcolor": "#DFE8F3",
            "linecolor": "#A2B1C6",
            "ticks": ""
           },
           "baxis": {
            "gridcolor": "#DFE8F3",
            "linecolor": "#A2B1C6",
            "ticks": ""
           },
           "bgcolor": "white",
           "caxis": {
            "gridcolor": "#DFE8F3",
            "linecolor": "#A2B1C6",
            "ticks": ""
           }
          },
          "title": {
           "x": 0.05
          },
          "xaxis": {
           "automargin": true,
           "gridcolor": "#EBF0F8",
           "linecolor": "#EBF0F8",
           "ticks": "",
           "title": {
            "standoff": 15
           },
           "zerolinecolor": "#EBF0F8",
           "zerolinewidth": 2
          },
          "yaxis": {
           "automargin": true,
           "gridcolor": "#EBF0F8",
           "linecolor": "#EBF0F8",
           "ticks": "",
           "title": {
            "standoff": 15
           },
           "zerolinecolor": "#EBF0F8",
           "zerolinewidth": 2
          }
         }
        },
        "title": {
         "font": {
          "color": "Black",
          "size": 22
         },
         "text": "Topic Word Scores",
         "x": 0.5,
         "xanchor": "center",
         "yanchor": "top"
        },
        "width": 1200,
        "xaxis": {
         "anchor": "y",
         "domain": [
          0,
          0.175
         ],
         "showgrid": true
        },
        "xaxis10": {
         "anchor": "y10",
         "domain": [
          0.275,
          0.45
         ],
         "showgrid": true
        },
        "xaxis11": {
         "anchor": "y11",
         "domain": [
          0.55,
          0.7250000000000001
         ],
         "showgrid": true
        },
        "xaxis12": {
         "anchor": "y12",
         "domain": [
          0.825,
          1
         ],
         "showgrid": true
        },
        "xaxis13": {
         "anchor": "y13",
         "domain": [
          0,
          0.175
         ],
         "showgrid": true
        },
        "xaxis14": {
         "anchor": "y14",
         "domain": [
          0.275,
          0.45
         ],
         "showgrid": true
        },
        "xaxis15": {
         "anchor": "y15",
         "domain": [
          0.55,
          0.7250000000000001
         ],
         "showgrid": true
        },
        "xaxis16": {
         "anchor": "y16",
         "domain": [
          0.825,
          1
         ],
         "showgrid": true
        },
        "xaxis17": {
         "anchor": "y17",
         "domain": [
          0,
          0.175
         ],
         "showgrid": true
        },
        "xaxis18": {
         "anchor": "y18",
         "domain": [
          0.275,
          0.45
         ],
         "showgrid": true
        },
        "xaxis19": {
         "anchor": "y19",
         "domain": [
          0.55,
          0.7250000000000001
         ],
         "showgrid": true
        },
        "xaxis2": {
         "anchor": "y2",
         "domain": [
          0.275,
          0.45
         ],
         "showgrid": true
        },
        "xaxis20": {
         "anchor": "y20",
         "domain": [
          0.825,
          1
         ],
         "showgrid": true
        },
        "xaxis21": {
         "anchor": "y21",
         "domain": [
          0,
          0.175
         ],
         "showgrid": true
        },
        "xaxis22": {
         "anchor": "y22",
         "domain": [
          0.275,
          0.45
         ],
         "showgrid": true
        },
        "xaxis23": {
         "anchor": "y23",
         "domain": [
          0.55,
          0.7250000000000001
         ],
         "showgrid": true
        },
        "xaxis24": {
         "anchor": "y24",
         "domain": [
          0.825,
          1
         ],
         "showgrid": true
        },
        "xaxis25": {
         "anchor": "y25",
         "domain": [
          0,
          0.175
         ],
         "showgrid": true
        },
        "xaxis26": {
         "anchor": "y26",
         "domain": [
          0.275,
          0.45
         ],
         "showgrid": true
        },
        "xaxis27": {
         "anchor": "y27",
         "domain": [
          0.55,
          0.7250000000000001
         ],
         "showgrid": true
        },
        "xaxis28": {
         "anchor": "y28",
         "domain": [
          0.825,
          1
         ],
         "showgrid": true
        },
        "xaxis3": {
         "anchor": "y3",
         "domain": [
          0.55,
          0.7250000000000001
         ],
         "showgrid": true
        },
        "xaxis4": {
         "anchor": "y4",
         "domain": [
          0.825,
          1
         ],
         "showgrid": true
        },
        "xaxis5": {
         "anchor": "y5",
         "domain": [
          0,
          0.175
         ],
         "showgrid": true
        },
        "xaxis6": {
         "anchor": "y6",
         "domain": [
          0.275,
          0.45
         ],
         "showgrid": true
        },
        "xaxis7": {
         "anchor": "y7",
         "domain": [
          0.55,
          0.7250000000000001
         ],
         "showgrid": true
        },
        "xaxis8": {
         "anchor": "y8",
         "domain": [
          0.825,
          1
         ],
         "showgrid": true
        },
        "xaxis9": {
         "anchor": "y9",
         "domain": [
          0,
          0.175
         ],
         "showgrid": true
        },
        "yaxis": {
         "anchor": "x",
         "domain": [
          0.9061224489795918,
          1
         ],
         "showgrid": true
        },
        "yaxis10": {
         "anchor": "x10",
         "domain": [
          0.6040816326530613,
          0.6979591836734694
         ],
         "showgrid": true
        },
        "yaxis11": {
         "anchor": "x11",
         "domain": [
          0.6040816326530613,
          0.6979591836734694
         ],
         "showgrid": true
        },
        "yaxis12": {
         "anchor": "x12",
         "domain": [
          0.6040816326530613,
          0.6979591836734694
         ],
         "showgrid": true
        },
        "yaxis13": {
         "anchor": "x13",
         "domain": [
          0.4530612244897959,
          0.5469387755102041
         ],
         "showgrid": true
        },
        "yaxis14": {
         "anchor": "x14",
         "domain": [
          0.4530612244897959,
          0.5469387755102041
         ],
         "showgrid": true
        },
        "yaxis15": {
         "anchor": "x15",
         "domain": [
          0.4530612244897959,
          0.5469387755102041
         ],
         "showgrid": true
        },
        "yaxis16": {
         "anchor": "x16",
         "domain": [
          0.4530612244897959,
          0.5469387755102041
         ],
         "showgrid": true
        },
        "yaxis17": {
         "anchor": "x17",
         "domain": [
          0.3020408163265306,
          0.3959183673469388
         ],
         "showgrid": true
        },
        "yaxis18": {
         "anchor": "x18",
         "domain": [
          0.3020408163265306,
          0.3959183673469388
         ],
         "showgrid": true
        },
        "yaxis19": {
         "anchor": "x19",
         "domain": [
          0.3020408163265306,
          0.3959183673469388
         ],
         "showgrid": true
        },
        "yaxis2": {
         "anchor": "x2",
         "domain": [
          0.9061224489795918,
          1
         ],
         "showgrid": true
        },
        "yaxis20": {
         "anchor": "x20",
         "domain": [
          0.3020408163265306,
          0.3959183673469388
         ],
         "showgrid": true
        },
        "yaxis21": {
         "anchor": "x21",
         "domain": [
          0.1510204081632653,
          0.24489795918367346
         ],
         "showgrid": true
        },
        "yaxis22": {
         "anchor": "x22",
         "domain": [
          0.1510204081632653,
          0.24489795918367346
         ],
         "showgrid": true
        },
        "yaxis23": {
         "anchor": "x23",
         "domain": [
          0.1510204081632653,
          0.24489795918367346
         ],
         "showgrid": true
        },
        "yaxis24": {
         "anchor": "x24",
         "domain": [
          0.1510204081632653,
          0.24489795918367346
         ],
         "showgrid": true
        },
        "yaxis25": {
         "anchor": "x25",
         "domain": [
          0,
          0.09387755102040816
         ],
         "showgrid": true
        },
        "yaxis26": {
         "anchor": "x26",
         "domain": [
          0,
          0.09387755102040816
         ],
         "showgrid": true
        },
        "yaxis27": {
         "anchor": "x27",
         "domain": [
          0,
          0.09387755102040816
         ],
         "showgrid": true
        },
        "yaxis28": {
         "anchor": "x28",
         "domain": [
          0,
          0.09387755102040816
         ],
         "showgrid": true
        },
        "yaxis3": {
         "anchor": "x3",
         "domain": [
          0.9061224489795918,
          1
         ],
         "showgrid": true
        },
        "yaxis4": {
         "anchor": "x4",
         "domain": [
          0.9061224489795918,
          1
         ],
         "showgrid": true
        },
        "yaxis5": {
         "anchor": "x5",
         "domain": [
          0.7551020408163266,
          0.8489795918367348
         ],
         "showgrid": true
        },
        "yaxis6": {
         "anchor": "x6",
         "domain": [
          0.7551020408163266,
          0.8489795918367348
         ],
         "showgrid": true
        },
        "yaxis7": {
         "anchor": "x7",
         "domain": [
          0.7551020408163266,
          0.8489795918367348
         ],
         "showgrid": true
        },
        "yaxis8": {
         "anchor": "x8",
         "domain": [
          0.7551020408163266,
          0.8489795918367348
         ],
         "showgrid": true
        },
        "yaxis9": {
         "anchor": "x9",
         "domain": [
          0.6040816326530613,
          0.6979591836734694
         ],
         "showgrid": true
        }
       }
      }
     },
     "metadata": {},
     "output_type": "display_data"
    }
   ],
   "source": [
    "topics_to_include = list(range(0, 25))\n",
    "model.visualize_barchart(topics= topics_to_include, width=300)"
   ]
  },
  {
   "cell_type": "code",
   "execution_count": 12,
   "metadata": {},
   "outputs": [
    {
     "data": {
      "application/vnd.plotly.v1+json": {
       "config": {
        "plotlyServerURL": "https://plot.ly"
       },
       "data": [
        {
         "hoverinfo": "text",
         "marker": {
          "color": "rgb(61,153,112)"
         },
         "mode": "lines",
         "type": "scatter",
         "x": [
          0,
          0.738822115964582,
          0.738822115964582,
          0
         ],
         "xaxis": "x",
         "y": [
          -5,
          -5,
          -15,
          -15
         ],
         "yaxis": "y"
        },
        {
         "hoverinfo": "text",
         "marker": {
          "color": "rgb(61,153,112)"
         },
         "mode": "lines",
         "type": "scatter",
         "x": [
          0,
          0.7330974417836411,
          0.7330974417836411,
          0
         ],
         "xaxis": "x",
         "y": [
          -25,
          -25,
          -35,
          -35
         ],
         "yaxis": "y"
        },
        {
         "hoverinfo": "text",
         "marker": {
          "color": "rgb(61,153,112)"
         },
         "mode": "lines",
         "type": "scatter",
         "x": [
          0.7330974417836411,
          0.8673644525451968,
          0.8673644525451968,
          0
         ],
         "xaxis": "x",
         "y": [
          -30,
          -30,
          -45,
          -45
         ],
         "yaxis": "y"
        },
        {
         "hoverinfo": "text",
         "marker": {
          "color": "rgb(61,153,112)"
         },
         "mode": "lines",
         "type": "scatter",
         "x": [
          0.738822115964582,
          0.9474811449256036,
          0.9474811449256036,
          0.8673644525451968
         ],
         "xaxis": "x",
         "y": [
          -10,
          -10,
          -37.5,
          -37.5
         ],
         "yaxis": "y"
        },
        {
         "hoverinfo": "text",
         "marker": {
          "color": "rgb(61,153,112)"
         },
         "mode": "lines",
         "type": "scatter",
         "x": [
          0,
          0.8034693434086403,
          0.8034693434086403,
          0
         ],
         "xaxis": "x",
         "y": [
          -55,
          -55,
          -65,
          -65
         ],
         "yaxis": "y"
        },
        {
         "hoverinfo": "text",
         "marker": {
          "color": "rgb(61,153,112)"
         },
         "mode": "lines",
         "type": "scatter",
         "x": [
          0,
          0.8410052463612505,
          0.8410052463612505,
          0
         ],
         "xaxis": "x",
         "y": [
          -75,
          -75,
          -85,
          -85
         ],
         "yaxis": "y"
        },
        {
         "hoverinfo": "text",
         "marker": {
          "color": "rgb(61,153,112)"
         },
         "mode": "lines",
         "type": "scatter",
         "x": [
          0.8034693434086403,
          0.8982133000881674,
          0.8982133000881674,
          0.8410052463612505
         ],
         "xaxis": "x",
         "y": [
          -60,
          -60,
          -80,
          -80
         ],
         "yaxis": "y"
        },
        {
         "hoverinfo": "text",
         "marker": {
          "color": "rgb(61,153,112)"
         },
         "mode": "lines",
         "type": "scatter",
         "x": [
          0.9474811449256036,
          0.9724397673912795,
          0.9724397673912795,
          0.8982133000881674
         ],
         "xaxis": "x",
         "y": [
          -23.75,
          -23.75,
          -70,
          -70
         ],
         "yaxis": "y"
        },
        {
         "hoverinfo": "text",
         "marker": {
          "color": "rgb(255,65,54)"
         },
         "mode": "lines",
         "type": "scatter",
         "x": [
          0,
          0.7395014274520942,
          0.7395014274520942,
          0
         ],
         "xaxis": "x",
         "y": [
          -95,
          -95,
          -105,
          -105
         ],
         "yaxis": "y"
        },
        {
         "hoverinfo": "text",
         "marker": {
          "color": "rgb(255,65,54)"
         },
         "mode": "lines",
         "type": "scatter",
         "x": [
          0,
          0.6633916433578873,
          0.6633916433578873,
          0
         ],
         "xaxis": "x",
         "y": [
          -115,
          -115,
          -125,
          -125
         ],
         "yaxis": "y"
        },
        {
         "hoverinfo": "text",
         "marker": {
          "color": "rgb(255,65,54)"
         },
         "mode": "lines",
         "type": "scatter",
         "x": [
          0.7395014274520942,
          0.9364894633485099,
          0.9364894633485099,
          0.6633916433578873
         ],
         "xaxis": "x",
         "y": [
          -100,
          -100,
          -120,
          -120
         ],
         "yaxis": "y"
        },
        {
         "hoverinfo": "text",
         "marker": {
          "color": "rgb(255,65,54)"
         },
         "mode": "lines",
         "type": "scatter",
         "x": [
          0,
          0.7987236251030959,
          0.7987236251030959,
          0
         ],
         "xaxis": "x",
         "y": [
          -135,
          -135,
          -145,
          -145
         ],
         "yaxis": "y"
        },
        {
         "hoverinfo": "text",
         "marker": {
          "color": "rgb(255,65,54)"
         },
         "mode": "lines",
         "type": "scatter",
         "x": [
          0,
          0.6744988635276659,
          0.6744988635276659,
          0
         ],
         "xaxis": "x",
         "y": [
          -165,
          -165,
          -175,
          -175
         ],
         "yaxis": "y"
        },
        {
         "hoverinfo": "text",
         "marker": {
          "color": "rgb(255,65,54)"
         },
         "mode": "lines",
         "type": "scatter",
         "x": [
          0.6744988635276659,
          0.7493954308048586,
          0.7493954308048586,
          0
         ],
         "xaxis": "x",
         "y": [
          -170,
          -170,
          -185,
          -185
         ],
         "yaxis": "y"
        },
        {
         "hoverinfo": "text",
         "marker": {
          "color": "rgb(255,65,54)"
         },
         "mode": "lines",
         "type": "scatter",
         "x": [
          0,
          0.8192319899786076,
          0.8192319899786076,
          0.7493954308048586
         ],
         "xaxis": "x",
         "y": [
          -155,
          -155,
          -177.5,
          -177.5
         ],
         "yaxis": "y"
        },
        {
         "hoverinfo": "text",
         "marker": {
          "color": "rgb(255,65,54)"
         },
         "mode": "lines",
         "type": "scatter",
         "x": [
          0.8192319899786076,
          0.8648576166566444,
          0.8648576166566444,
          0
         ],
         "xaxis": "x",
         "y": [
          -166.25,
          -166.25,
          -195,
          -195
         ],
         "yaxis": "y"
        },
        {
         "hoverinfo": "text",
         "marker": {
          "color": "rgb(255,65,54)"
         },
         "mode": "lines",
         "type": "scatter",
         "x": [
          0.7987236251030959,
          0.9119825711609962,
          0.9119825711609962,
          0.8648576166566444
         ],
         "xaxis": "x",
         "y": [
          -140,
          -140,
          -180.625,
          -180.625
         ],
         "yaxis": "y"
        },
        {
         "hoverinfo": "text",
         "marker": {
          "color": "rgb(255,65,54)"
         },
         "mode": "lines",
         "type": "scatter",
         "x": [
          0,
          0.6346982615570667,
          0.6346982615570667,
          0
         ],
         "xaxis": "x",
         "y": [
          -225,
          -225,
          -235,
          -235
         ],
         "yaxis": "y"
        },
        {
         "hoverinfo": "text",
         "marker": {
          "color": "rgb(255,65,54)"
         },
         "mode": "lines",
         "type": "scatter",
         "x": [
          0,
          0.7078672128782321,
          0.7078672128782321,
          0.6346982615570667
         ],
         "xaxis": "x",
         "y": [
          -215,
          -215,
          -230,
          -230
         ],
         "yaxis": "y"
        },
        {
         "hoverinfo": "text",
         "marker": {
          "color": "rgb(255,65,54)"
         },
         "mode": "lines",
         "type": "scatter",
         "x": [
          0,
          0.8061899731684771,
          0.8061899731684771,
          0.7078672128782321
         ],
         "xaxis": "x",
         "y": [
          -205,
          -205,
          -222.5,
          -222.5
         ],
         "yaxis": "y"
        },
        {
         "hoverinfo": "text",
         "marker": {
          "color": "rgb(255,65,54)"
         },
         "mode": "lines",
         "type": "scatter",
         "x": [
          0.8061899731684771,
          0.8842568225169604,
          0.8842568225169604,
          0
         ],
         "xaxis": "x",
         "y": [
          -213.75,
          -213.75,
          -245,
          -245
         ],
         "yaxis": "y"
        },
        {
         "hoverinfo": "text",
         "marker": {
          "color": "rgb(255,65,54)"
         },
         "mode": "lines",
         "type": "scatter",
         "x": [
          0.9119825711609962,
          0.9401218910370368,
          0.9401218910370368,
          0.8842568225169604
         ],
         "xaxis": "x",
         "y": [
          -160.3125,
          -160.3125,
          -229.375,
          -229.375
         ],
         "yaxis": "y"
        },
        {
         "hoverinfo": "text",
         "marker": {
          "color": "rgb(255,65,54)"
         },
         "mode": "lines",
         "type": "scatter",
         "x": [
          0.9364894633485099,
          0.9982887877690682,
          0.9982887877690682,
          0.9401218910370368
         ],
         "xaxis": "x",
         "y": [
          -110,
          -110,
          -194.84375,
          -194.84375
         ],
         "yaxis": "y"
        },
        {
         "hoverinfo": "text",
         "marker": {
          "color": "rgb(0,116,217)"
         },
         "mode": "lines",
         "type": "scatter",
         "x": [
          0.9724397673912795,
          1.0832020874825687,
          1.0832020874825687,
          0.9982887877690682
         ],
         "xaxis": "x",
         "y": [
          -46.875,
          -46.875,
          -152.421875,
          -152.421875
         ],
         "yaxis": "y"
        }
       ],
       "layout": {
        "autosize": false,
        "height": 575,
        "hoverlabel": {
         "bgcolor": "white",
         "font": {
          "family": "Rockwell",
          "size": 16
         }
        },
        "hovermode": "closest",
        "plot_bgcolor": "#ECEFF1",
        "showlegend": false,
        "template": {
         "data": {
          "bar": [
           {
            "error_x": {
             "color": "#2a3f5f"
            },
            "error_y": {
             "color": "#2a3f5f"
            },
            "marker": {
             "line": {
              "color": "white",
              "width": 0.5
             },
             "pattern": {
              "fillmode": "overlay",
              "size": 10,
              "solidity": 0.2
             }
            },
            "type": "bar"
           }
          ],
          "barpolar": [
           {
            "marker": {
             "line": {
              "color": "white",
              "width": 0.5
             },
             "pattern": {
              "fillmode": "overlay",
              "size": 10,
              "solidity": 0.2
             }
            },
            "type": "barpolar"
           }
          ],
          "carpet": [
           {
            "aaxis": {
             "endlinecolor": "#2a3f5f",
             "gridcolor": "#C8D4E3",
             "linecolor": "#C8D4E3",
             "minorgridcolor": "#C8D4E3",
             "startlinecolor": "#2a3f5f"
            },
            "baxis": {
             "endlinecolor": "#2a3f5f",
             "gridcolor": "#C8D4E3",
             "linecolor": "#C8D4E3",
             "minorgridcolor": "#C8D4E3",
             "startlinecolor": "#2a3f5f"
            },
            "type": "carpet"
           }
          ],
          "choropleth": [
           {
            "colorbar": {
             "outlinewidth": 0,
             "ticks": ""
            },
            "type": "choropleth"
           }
          ],
          "contour": [
           {
            "colorbar": {
             "outlinewidth": 0,
             "ticks": ""
            },
            "colorscale": [
             [
              0,
              "#0d0887"
             ],
             [
              0.1111111111111111,
              "#46039f"
             ],
             [
              0.2222222222222222,
              "#7201a8"
             ],
             [
              0.3333333333333333,
              "#9c179e"
             ],
             [
              0.4444444444444444,
              "#bd3786"
             ],
             [
              0.5555555555555556,
              "#d8576b"
             ],
             [
              0.6666666666666666,
              "#ed7953"
             ],
             [
              0.7777777777777778,
              "#fb9f3a"
             ],
             [
              0.8888888888888888,
              "#fdca26"
             ],
             [
              1,
              "#f0f921"
             ]
            ],
            "type": "contour"
           }
          ],
          "contourcarpet": [
           {
            "colorbar": {
             "outlinewidth": 0,
             "ticks": ""
            },
            "type": "contourcarpet"
           }
          ],
          "heatmap": [
           {
            "colorbar": {
             "outlinewidth": 0,
             "ticks": ""
            },
            "colorscale": [
             [
              0,
              "#0d0887"
             ],
             [
              0.1111111111111111,
              "#46039f"
             ],
             [
              0.2222222222222222,
              "#7201a8"
             ],
             [
              0.3333333333333333,
              "#9c179e"
             ],
             [
              0.4444444444444444,
              "#bd3786"
             ],
             [
              0.5555555555555556,
              "#d8576b"
             ],
             [
              0.6666666666666666,
              "#ed7953"
             ],
             [
              0.7777777777777778,
              "#fb9f3a"
             ],
             [
              0.8888888888888888,
              "#fdca26"
             ],
             [
              1,
              "#f0f921"
             ]
            ],
            "type": "heatmap"
           }
          ],
          "heatmapgl": [
           {
            "colorbar": {
             "outlinewidth": 0,
             "ticks": ""
            },
            "colorscale": [
             [
              0,
              "#0d0887"
             ],
             [
              0.1111111111111111,
              "#46039f"
             ],
             [
              0.2222222222222222,
              "#7201a8"
             ],
             [
              0.3333333333333333,
              "#9c179e"
             ],
             [
              0.4444444444444444,
              "#bd3786"
             ],
             [
              0.5555555555555556,
              "#d8576b"
             ],
             [
              0.6666666666666666,
              "#ed7953"
             ],
             [
              0.7777777777777778,
              "#fb9f3a"
             ],
             [
              0.8888888888888888,
              "#fdca26"
             ],
             [
              1,
              "#f0f921"
             ]
            ],
            "type": "heatmapgl"
           }
          ],
          "histogram": [
           {
            "marker": {
             "pattern": {
              "fillmode": "overlay",
              "size": 10,
              "solidity": 0.2
             }
            },
            "type": "histogram"
           }
          ],
          "histogram2d": [
           {
            "colorbar": {
             "outlinewidth": 0,
             "ticks": ""
            },
            "colorscale": [
             [
              0,
              "#0d0887"
             ],
             [
              0.1111111111111111,
              "#46039f"
             ],
             [
              0.2222222222222222,
              "#7201a8"
             ],
             [
              0.3333333333333333,
              "#9c179e"
             ],
             [
              0.4444444444444444,
              "#bd3786"
             ],
             [
              0.5555555555555556,
              "#d8576b"
             ],
             [
              0.6666666666666666,
              "#ed7953"
             ],
             [
              0.7777777777777778,
              "#fb9f3a"
             ],
             [
              0.8888888888888888,
              "#fdca26"
             ],
             [
              1,
              "#f0f921"
             ]
            ],
            "type": "histogram2d"
           }
          ],
          "histogram2dcontour": [
           {
            "colorbar": {
             "outlinewidth": 0,
             "ticks": ""
            },
            "colorscale": [
             [
              0,
              "#0d0887"
             ],
             [
              0.1111111111111111,
              "#46039f"
             ],
             [
              0.2222222222222222,
              "#7201a8"
             ],
             [
              0.3333333333333333,
              "#9c179e"
             ],
             [
              0.4444444444444444,
              "#bd3786"
             ],
             [
              0.5555555555555556,
              "#d8576b"
             ],
             [
              0.6666666666666666,
              "#ed7953"
             ],
             [
              0.7777777777777778,
              "#fb9f3a"
             ],
             [
              0.8888888888888888,
              "#fdca26"
             ],
             [
              1,
              "#f0f921"
             ]
            ],
            "type": "histogram2dcontour"
           }
          ],
          "mesh3d": [
           {
            "colorbar": {
             "outlinewidth": 0,
             "ticks": ""
            },
            "type": "mesh3d"
           }
          ],
          "parcoords": [
           {
            "line": {
             "colorbar": {
              "outlinewidth": 0,
              "ticks": ""
             }
            },
            "type": "parcoords"
           }
          ],
          "pie": [
           {
            "automargin": true,
            "type": "pie"
           }
          ],
          "scatter": [
           {
            "fillpattern": {
             "fillmode": "overlay",
             "size": 10,
             "solidity": 0.2
            },
            "type": "scatter"
           }
          ],
          "scatter3d": [
           {
            "line": {
             "colorbar": {
              "outlinewidth": 0,
              "ticks": ""
             }
            },
            "marker": {
             "colorbar": {
              "outlinewidth": 0,
              "ticks": ""
             }
            },
            "type": "scatter3d"
           }
          ],
          "scattercarpet": [
           {
            "marker": {
             "colorbar": {
              "outlinewidth": 0,
              "ticks": ""
             }
            },
            "type": "scattercarpet"
           }
          ],
          "scattergeo": [
           {
            "marker": {
             "colorbar": {
              "outlinewidth": 0,
              "ticks": ""
             }
            },
            "type": "scattergeo"
           }
          ],
          "scattergl": [
           {
            "marker": {
             "colorbar": {
              "outlinewidth": 0,
              "ticks": ""
             }
            },
            "type": "scattergl"
           }
          ],
          "scattermapbox": [
           {
            "marker": {
             "colorbar": {
              "outlinewidth": 0,
              "ticks": ""
             }
            },
            "type": "scattermapbox"
           }
          ],
          "scatterpolar": [
           {
            "marker": {
             "colorbar": {
              "outlinewidth": 0,
              "ticks": ""
             }
            },
            "type": "scatterpolar"
           }
          ],
          "scatterpolargl": [
           {
            "marker": {
             "colorbar": {
              "outlinewidth": 0,
              "ticks": ""
             }
            },
            "type": "scatterpolargl"
           }
          ],
          "scatterternary": [
           {
            "marker": {
             "colorbar": {
              "outlinewidth": 0,
              "ticks": ""
             }
            },
            "type": "scatterternary"
           }
          ],
          "surface": [
           {
            "colorbar": {
             "outlinewidth": 0,
             "ticks": ""
            },
            "colorscale": [
             [
              0,
              "#0d0887"
             ],
             [
              0.1111111111111111,
              "#46039f"
             ],
             [
              0.2222222222222222,
              "#7201a8"
             ],
             [
              0.3333333333333333,
              "#9c179e"
             ],
             [
              0.4444444444444444,
              "#bd3786"
             ],
             [
              0.5555555555555556,
              "#d8576b"
             ],
             [
              0.6666666666666666,
              "#ed7953"
             ],
             [
              0.7777777777777778,
              "#fb9f3a"
             ],
             [
              0.8888888888888888,
              "#fdca26"
             ],
             [
              1,
              "#f0f921"
             ]
            ],
            "type": "surface"
           }
          ],
          "table": [
           {
            "cells": {
             "fill": {
              "color": "#EBF0F8"
             },
             "line": {
              "color": "white"
             }
            },
            "header": {
             "fill": {
              "color": "#C8D4E3"
             },
             "line": {
              "color": "white"
             }
            },
            "type": "table"
           }
          ]
         },
         "layout": {
          "annotationdefaults": {
           "arrowcolor": "#2a3f5f",
           "arrowhead": 0,
           "arrowwidth": 1
          },
          "autotypenumbers": "strict",
          "coloraxis": {
           "colorbar": {
            "outlinewidth": 0,
            "ticks": ""
           }
          },
          "colorscale": {
           "diverging": [
            [
             0,
             "#8e0152"
            ],
            [
             0.1,
             "#c51b7d"
            ],
            [
             0.2,
             "#de77ae"
            ],
            [
             0.3,
             "#f1b6da"
            ],
            [
             0.4,
             "#fde0ef"
            ],
            [
             0.5,
             "#f7f7f7"
            ],
            [
             0.6,
             "#e6f5d0"
            ],
            [
             0.7,
             "#b8e186"
            ],
            [
             0.8,
             "#7fbc41"
            ],
            [
             0.9,
             "#4d9221"
            ],
            [
             1,
             "#276419"
            ]
           ],
           "sequential": [
            [
             0,
             "#0d0887"
            ],
            [
             0.1111111111111111,
             "#46039f"
            ],
            [
             0.2222222222222222,
             "#7201a8"
            ],
            [
             0.3333333333333333,
             "#9c179e"
            ],
            [
             0.4444444444444444,
             "#bd3786"
            ],
            [
             0.5555555555555556,
             "#d8576b"
            ],
            [
             0.6666666666666666,
             "#ed7953"
            ],
            [
             0.7777777777777778,
             "#fb9f3a"
            ],
            [
             0.8888888888888888,
             "#fdca26"
            ],
            [
             1,
             "#f0f921"
            ]
           ],
           "sequentialminus": [
            [
             0,
             "#0d0887"
            ],
            [
             0.1111111111111111,
             "#46039f"
            ],
            [
             0.2222222222222222,
             "#7201a8"
            ],
            [
             0.3333333333333333,
             "#9c179e"
            ],
            [
             0.4444444444444444,
             "#bd3786"
            ],
            [
             0.5555555555555556,
             "#d8576b"
            ],
            [
             0.6666666666666666,
             "#ed7953"
            ],
            [
             0.7777777777777778,
             "#fb9f3a"
            ],
            [
             0.8888888888888888,
             "#fdca26"
            ],
            [
             1,
             "#f0f921"
            ]
           ]
          },
          "colorway": [
           "#636efa",
           "#EF553B",
           "#00cc96",
           "#ab63fa",
           "#FFA15A",
           "#19d3f3",
           "#FF6692",
           "#B6E880",
           "#FF97FF",
           "#FECB52"
          ],
          "font": {
           "color": "#2a3f5f"
          },
          "geo": {
           "bgcolor": "white",
           "lakecolor": "white",
           "landcolor": "white",
           "showlakes": true,
           "showland": true,
           "subunitcolor": "#C8D4E3"
          },
          "hoverlabel": {
           "align": "left"
          },
          "hovermode": "closest",
          "mapbox": {
           "style": "light"
          },
          "paper_bgcolor": "white",
          "plot_bgcolor": "white",
          "polar": {
           "angularaxis": {
            "gridcolor": "#EBF0F8",
            "linecolor": "#EBF0F8",
            "ticks": ""
           },
           "bgcolor": "white",
           "radialaxis": {
            "gridcolor": "#EBF0F8",
            "linecolor": "#EBF0F8",
            "ticks": ""
           }
          },
          "scene": {
           "xaxis": {
            "backgroundcolor": "white",
            "gridcolor": "#DFE8F3",
            "gridwidth": 2,
            "linecolor": "#EBF0F8",
            "showbackground": true,
            "ticks": "",
            "zerolinecolor": "#EBF0F8"
           },
           "yaxis": {
            "backgroundcolor": "white",
            "gridcolor": "#DFE8F3",
            "gridwidth": 2,
            "linecolor": "#EBF0F8",
            "showbackground": true,
            "ticks": "",
            "zerolinecolor": "#EBF0F8"
           },
           "zaxis": {
            "backgroundcolor": "white",
            "gridcolor": "#DFE8F3",
            "gridwidth": 2,
            "linecolor": "#EBF0F8",
            "showbackground": true,
            "ticks": "",
            "zerolinecolor": "#EBF0F8"
           }
          },
          "shapedefaults": {
           "line": {
            "color": "#2a3f5f"
           }
          },
          "ternary": {
           "aaxis": {
            "gridcolor": "#DFE8F3",
            "linecolor": "#A2B1C6",
            "ticks": ""
           },
           "baxis": {
            "gridcolor": "#DFE8F3",
            "linecolor": "#A2B1C6",
            "ticks": ""
           },
           "bgcolor": "white",
           "caxis": {
            "gridcolor": "#DFE8F3",
            "linecolor": "#A2B1C6",
            "ticks": ""
           }
          },
          "title": {
           "x": 0.05
          },
          "xaxis": {
           "automargin": true,
           "gridcolor": "#EBF0F8",
           "linecolor": "#EBF0F8",
           "ticks": "",
           "title": {
            "standoff": 15
           },
           "zerolinecolor": "#EBF0F8",
           "zerolinewidth": 2
          },
          "yaxis": {
           "automargin": true,
           "gridcolor": "#EBF0F8",
           "linecolor": "#EBF0F8",
           "ticks": "",
           "title": {
            "standoff": 15
           },
           "zerolinecolor": "#EBF0F8",
           "zerolinewidth": 2
          }
         }
        },
        "title": {
         "font": {
          "color": "Black",
          "size": 22
         },
         "text": "<b>Hierarchical Clustering</b>",
         "x": 0.5,
         "xanchor": "center",
         "yanchor": "top"
        },
        "width": 1000,
        "xaxis": {
         "mirror": "allticks",
         "rangemode": "tozero",
         "showgrid": false,
         "showline": true,
         "showticklabels": true,
         "ticks": "outside",
         "type": "linear",
         "zeroline": false
        },
        "yaxis": {
         "mirror": "allticks",
         "range": [
          -250,
          0
         ],
         "rangemode": "tozero",
         "showgrid": false,
         "showline": true,
         "showticklabels": true,
         "tickmode": "array",
         "ticks": "outside",
         "ticktext": [
          "7_telecollaboration_intercu...",
          "18_intercultural_exchange_c...",
          "13_virtual_reality_3d",
          "14_virtual_exchange_profess...",
          "20_social_media_networking",
          "24_chat_task_text",
          "6_multimodal_videoconferenc...",
          "16_oral_communication_media...",
          "5_pronunciation_speech_trai...",
          "17_storytelling_digital_story",
          "4_game_games_digital",
          "12_vocabulary_gloss_glosses",
          "11_comprehension_captions_l...",
          "8_data_driven_collocation",
          "22_corpus_corpora_pedagogy",
          "15_flipped_classroom_flipping",
          "3_online_language_learning",
          "0_writing_feedback_collabor...",
          "21_reading_strategies_compr...",
          "19_blended_learning_inquiry",
          "1_call_research_sla",
          "9_technology_teachers_techn...",
          "10_technology_language_assi...",
          "2_mobile_learning_assisted",
          "23_mall_meta_oer"
         ],
         "tickvals": [
          -5,
          -15,
          -25,
          -35,
          -45,
          -55,
          -65,
          -75,
          -85,
          -95,
          -105,
          -115,
          -125,
          -135,
          -145,
          -155,
          -165,
          -175,
          -185,
          -195,
          -205,
          -215,
          -225,
          -235,
          -245
         ],
         "type": "linear",
         "zeroline": false
        }
       }
      }
     },
     "metadata": {},
     "output_type": "display_data"
    }
   ],
   "source": [
    "model.visualize_hierarchy()"
   ]
  },
  {
   "cell_type": "code",
   "execution_count": 13,
   "metadata": {},
   "outputs": [
    {
     "name": "stderr",
     "output_type": "stream",
     "text": [
      "  0%|          | 0/24 [00:00<?, ?it/s]"
     ]
    },
    {
     "name": "stderr",
     "output_type": "stream",
     "text": [
      "100%|██████████| 24/24 [00:00<00:00, 333.24it/s]\n"
     ]
    },
    {
     "data": {
      "application/vnd.plotly.v1+json": {
       "config": {
        "plotlyServerURL": "https://plot.ly"
       },
       "data": [
        {
         "hoverinfo": "text",
         "marker": {
          "color": "rgb(61,153,112)"
         },
         "mode": "lines",
         "text": [
          "telecollaboration_intercultural_telecollaborative_service_pre",
          "",
          "",
          "intercultural_exchange_communicative_competence_exchanges"
         ],
         "type": "scatter",
         "x": [
          0,
          0.738822115964582,
          0.738822115964582,
          0
         ],
         "xaxis": "x",
         "y": [
          -5,
          -5,
          -15,
          -15
         ],
         "yaxis": "y"
        },
        {
         "hoverinfo": "text",
         "marker": {
          "color": "rgb(61,153,112)"
         },
         "mode": "lines",
         "text": [
          "virtual_reality_3d_immersive_worlds",
          "",
          "",
          "virtual_exchange_professional_literacy_teachers"
         ],
         "type": "scatter",
         "x": [
          0,
          0.7330974417836411,
          0.7330974417836411,
          0
         ],
         "xaxis": "x",
         "y": [
          -25,
          -25,
          -35,
          -35
         ],
         "yaxis": "y"
        },
        {
         "hoverinfo": "text",
         "marker": {
          "color": "rgb(61,153,112)"
         },
         "mode": "lines",
         "text": [
          "virtual_reality_3d_immersive_in",
          "",
          "",
          "social_media_networking_networks_language"
         ],
         "type": "scatter",
         "x": [
          0.7330974417836411,
          0.8673644525451968,
          0.8673644525451968,
          0
         ],
         "xaxis": "x",
         "y": [
          -30,
          -30,
          -45,
          -45
         ],
         "yaxis": "y"
        },
        {
         "hoverinfo": "text",
         "marker": {
          "color": "rgb(61,153,112)"
         },
         "mode": "lines",
         "text": [
          "telecollaboration_intercultural_telecollaborative_in_competence",
          "",
          "",
          "virtual_social_reality_3d_learning"
         ],
         "type": "scatter",
         "x": [
          0.738822115964582,
          0.9474811449256036,
          0.9474811449256036,
          0.8673644525451968
         ],
         "xaxis": "x",
         "y": [
          -10,
          -10,
          -37.5,
          -37.5
         ],
         "yaxis": "y"
        },
        {
         "hoverinfo": "text",
         "marker": {
          "color": "rgb(61,153,112)"
         },
         "mode": "lines",
         "text": [
          "chat_task_text_l2_interaction",
          "",
          "",
          "multimodal_videoconferencing_video_interactions_via"
         ],
         "type": "scatter",
         "x": [
          0,
          0.8034693434086403,
          0.8034693434086403,
          0
         ],
         "xaxis": "x",
         "y": [
          -55,
          -55,
          -65,
          -65
         ],
         "yaxis": "y"
        },
        {
         "hoverinfo": "text",
         "marker": {
          "color": "rgb(61,153,112)"
         },
         "mode": "lines",
         "text": [
          "oral_communication_mediated_computer_proficiency",
          "",
          "",
          "pronunciation_speech_training_recognition_instruction"
         ],
         "type": "scatter",
         "x": [
          0,
          0.8410052463612505,
          0.8410052463612505,
          0
         ],
         "xaxis": "x",
         "y": [
          -75,
          -75,
          -85,
          -85
         ],
         "yaxis": "y"
        },
        {
         "hoverinfo": "text",
         "marker": {
          "color": "rgb(61,153,112)"
         },
         "mode": "lines",
         "text": [
          "multimodal_videoconferencing_chat_interactions_video",
          "",
          "",
          "pronunciation_oral_speech_training_computer"
         ],
         "type": "scatter",
         "x": [
          0.8034693434086403,
          0.8982133000881674,
          0.8982133000881674,
          0.8410052463612505
         ],
         "xaxis": "x",
         "y": [
          -60,
          -60,
          -80,
          -80
         ],
         "yaxis": "y"
        },
        {
         "hoverinfo": "text",
         "marker": {
          "color": "rgb(61,153,112)"
         },
         "mode": "lines",
         "text": [
          "telecollaboration_virtual_intercultural_social_in",
          "",
          "",
          "pronunciation_multimodal_oral_videoconferencing_l2"
         ],
         "type": "scatter",
         "x": [
          0.9474811449256036,
          0.9724397673912795,
          0.9724397673912795,
          0.8982133000881674
         ],
         "xaxis": "x",
         "y": [
          -23.75,
          -23.75,
          -70,
          -70
         ],
         "yaxis": "y"
        },
        {
         "hoverinfo": "text",
         "marker": {
          "color": "rgb(255,65,54)"
         },
         "mode": "lines",
         "text": [
          "storytelling_digital_story_stories_creative",
          "",
          "",
          "game_games_digital_playing_gaming"
         ],
         "type": "scatter",
         "x": [
          0,
          0.7395014274520942,
          0.7395014274520942,
          0
         ],
         "xaxis": "x",
         "y": [
          -95,
          -95,
          -105,
          -105
         ],
         "yaxis": "y"
        },
        {
         "hoverinfo": "text",
         "marker": {
          "color": "rgb(255,65,54)"
         },
         "mode": "lines",
         "text": [
          "vocabulary_gloss_glosses_effects_on",
          "",
          "",
          "comprehension_captions_listening_captioned_video"
         ],
         "type": "scatter",
         "x": [
          0,
          0.6633916433578873,
          0.6633916433578873,
          0
         ],
         "xaxis": "x",
         "y": [
          -115,
          -115,
          -125,
          -125
         ],
         "yaxis": "y"
        },
        {
         "hoverinfo": "text",
         "marker": {
          "color": "rgb(255,65,54)"
         },
         "mode": "lines",
         "text": [
          "game_digital_storytelling_games_playing",
          "",
          "",
          "vocabulary_comprehension_effects_captions_listening"
         ],
         "type": "scatter",
         "x": [
          0.7395014274520942,
          0.9364894633485099,
          0.9364894633485099,
          0.6633916433578873
         ],
         "xaxis": "x",
         "y": [
          -100,
          -100,
          -120,
          -120
         ],
         "yaxis": "y"
        },
        {
         "hoverinfo": "text",
         "marker": {
          "color": "rgb(255,65,54)"
         },
         "mode": "lines",
         "text": [
          "data_driven_collocation_dictionaries_collocations",
          "",
          "",
          "corpus_corpora_pedagogy_teacher_teachers"
         ],
         "type": "scatter",
         "x": [
          0,
          0.7987236251030959,
          0.7987236251030959,
          0
         ],
         "xaxis": "x",
         "y": [
          -135,
          -135,
          -145,
          -145
         ],
         "yaxis": "y"
        },
        {
         "hoverinfo": "text",
         "marker": {
          "color": "rgb(255,65,54)"
         },
         "mode": "lines",
         "text": [
          "online_language_learning_of_informal",
          "",
          "",
          "writing_feedback_collaborative_automated_in"
         ],
         "type": "scatter",
         "x": [
          0,
          0.6744988635276659,
          0.6744988635276659,
          0
         ],
         "xaxis": "x",
         "y": [
          -165,
          -165,
          -175,
          -175
         ],
         "yaxis": "y"
        },
        {
         "hoverinfo": "text",
         "marker": {
          "color": "rgb(255,65,54)"
         },
         "mode": "lines",
         "text": [
          "writing_feedback_online_of_in",
          "",
          "",
          "reading_strategies_comprehension_students_efl"
         ],
         "type": "scatter",
         "x": [
          0.6744988635276659,
          0.7493954308048586,
          0.7493954308048586,
          0
         ],
         "xaxis": "x",
         "y": [
          -170,
          -170,
          -185,
          -185
         ],
         "yaxis": "y"
        },
        {
         "hoverinfo": "text",
         "marker": {
          "color": "rgb(255,65,54)"
         },
         "mode": "lines",
         "text": [
          "flipped_classroom_flipping_classrooms_teaching",
          "",
          "",
          "writing_feedback_online_of_in"
         ],
         "type": "scatter",
         "x": [
          0,
          0.8192319899786076,
          0.8192319899786076,
          0.7493954308048586
         ],
         "xaxis": "x",
         "y": [
          -155,
          -155,
          -177.5,
          -177.5
         ],
         "yaxis": "y"
        },
        {
         "hoverinfo": "text",
         "marker": {
          "color": "rgb(255,65,54)"
         },
         "mode": "lines",
         "text": [
          "writing_feedback_online_in_of",
          "",
          "",
          "blended_learning_inquiry_college_for"
         ],
         "type": "scatter",
         "x": [
          0.8192319899786076,
          0.8648576166566444,
          0.8648576166566444,
          0
         ],
         "xaxis": "x",
         "y": [
          -166.25,
          -166.25,
          -195,
          -195
         ],
         "yaxis": "y"
        },
        {
         "hoverinfo": "text",
         "marker": {
          "color": "rgb(255,65,54)"
         },
         "mode": "lines",
         "text": [
          "data_corpus_driven_collocation_dictionaries",
          "",
          "",
          "writing_of_online_in_feedback"
         ],
         "type": "scatter",
         "x": [
          0.7987236251030959,
          0.9119825711609962,
          0.9119825711609962,
          0.8648576166566444
         ],
         "xaxis": "x",
         "y": [
          -140,
          -140,
          -180.625,
          -180.625
         ],
         "yaxis": "y"
        },
        {
         "hoverinfo": "text",
         "marker": {
          "color": "rgb(255,65,54)"
         },
         "mode": "lines",
         "text": [
          "technology_language_assisted_learning_computer",
          "",
          "",
          "mobile_learning_assisted_language_smartphones"
         ],
         "type": "scatter",
         "x": [
          0,
          0.6346982615570667,
          0.6346982615570667,
          0
         ],
         "xaxis": "x",
         "y": [
          -225,
          -225,
          -235,
          -235
         ],
         "yaxis": "y"
        },
        {
         "hoverinfo": "text",
         "marker": {
          "color": "rgb(255,65,54)"
         },
         "mode": "lines",
         "text": [
          "technology_teachers_technological_teaching_pedagogical",
          "",
          "",
          "mobile_learning_language_assisted_technology"
         ],
         "type": "scatter",
         "x": [
          0,
          0.7078672128782321,
          0.7078672128782321,
          0.6346982615570667
         ],
         "xaxis": "x",
         "y": [
          -215,
          -215,
          -230,
          -230
         ],
         "yaxis": "y"
        },
        {
         "hoverinfo": "text",
         "marker": {
          "color": "rgb(255,65,54)"
         },
         "mode": "lines",
         "text": [
          "call_research_sla_the_teacher",
          "",
          "",
          "mobile_technology_learning_language_assisted"
         ],
         "type": "scatter",
         "x": [
          0,
          0.8061899731684771,
          0.8061899731684771,
          0.7078672128782321
         ],
         "xaxis": "x",
         "y": [
          -205,
          -205,
          -222.5,
          -222.5
         ],
         "yaxis": "y"
        },
        {
         "hoverinfo": "text",
         "marker": {
          "color": "rgb(255,65,54)"
         },
         "mode": "lines",
         "text": [
          "call_mobile_technology_learning_language",
          "",
          "",
          "mall_meta_oer_processing_the"
         ],
         "type": "scatter",
         "x": [
          0.8061899731684771,
          0.8842568225169604,
          0.8842568225169604,
          0
         ],
         "xaxis": "x",
         "y": [
          -213.75,
          -213.75,
          -245,
          -245
         ],
         "yaxis": "y"
        },
        {
         "hoverinfo": "text",
         "marker": {
          "color": "rgb(255,65,54)"
         },
         "mode": "lines",
         "text": [
          "writing_of_online_in_feedback",
          "",
          "",
          "call_mobile_technology_learning_language"
         ],
         "type": "scatter",
         "x": [
          0.9119825711609962,
          0.9401218910370368,
          0.9401218910370368,
          0.8842568225169604
         ],
         "xaxis": "x",
         "y": [
          -160.3125,
          -160.3125,
          -229.375,
          -229.375
         ],
         "yaxis": "y"
        },
        {
         "hoverinfo": "text",
         "marker": {
          "color": "rgb(255,65,54)"
         },
         "mode": "lines",
         "text": [
          "vocabulary_game_digital_effects_on",
          "",
          "",
          "writing_of_in_the_language"
         ],
         "type": "scatter",
         "x": [
          0.9364894633485099,
          0.9982887877690682,
          0.9982887877690682,
          0.9401218910370368
         ],
         "xaxis": "x",
         "y": [
          -110,
          -110,
          -194.84375,
          -194.84375
         ],
         "yaxis": "y"
        },
        {
         "hoverinfo": "text",
         "marker": {
          "color": "rgb(0,116,217)"
         },
         "mode": "lines",
         "text": [
          "virtual_in_telecollaboration_pronunciation_and",
          "",
          "",
          "of_the_writing_in_learning"
         ],
         "type": "scatter",
         "x": [
          0.9724397673912795,
          1.0832020874825687,
          1.0832020874825687,
          0.9982887877690682
         ],
         "xaxis": "x",
         "y": [
          -46.875,
          -46.875,
          -152.421875,
          -152.421875
         ],
         "yaxis": "y"
        },
        {
         "hoverinfo": "text",
         "hovertext": [
          "virtual_reality_3d_immersive_in",
          "telecollaboration_intercultural_telecollaborative_in_competence",
          "multimodal_videoconferencing_chat_interactions_video",
          "telecollaboration_virtual_intercultural_social_in",
          "game_digital_storytelling_games_playing",
          "writing_feedback_online_of_in",
          "writing_feedback_online_in_of",
          "data_corpus_driven_collocation_dictionaries",
          "call_mobile_technology_learning_language",
          "writing_of_online_in_feedback",
          "vocabulary_game_digital_effects_on",
          "virtual_in_telecollaboration_pronunciation_and"
         ],
         "marker": {
          "color": "black"
         },
         "mode": "markers",
         "showlegend": false,
         "type": "scatter",
         "x": [
          0.7330974417836411,
          0.738822115964582,
          0.8034693434086403,
          0.9474811449256036,
          0.7395014274520942,
          0.6744988635276659,
          0.8192319899786076,
          0.7987236251030959,
          0.8061899731684771,
          0.9119825711609962,
          0.9364894633485099,
          0.9724397673912795
         ],
         "y": [
          -30,
          -10,
          -60,
          -23.75,
          -100,
          -170,
          -166.25,
          -140,
          -213.75,
          -160.3125,
          -110,
          -46.875
         ]
        },
        {
         "hoverinfo": "text",
         "hovertext": [
          "virtual_social_reality_3d_learning",
          "pronunciation_oral_speech_training_computer",
          "pronunciation_multimodal_oral_videoconferencing_l2",
          "vocabulary_comprehension_effects_captions_listening",
          "writing_feedback_online_of_in",
          "writing_of_online_in_feedback",
          "mobile_learning_language_assisted_technology",
          "mobile_technology_learning_language_assisted",
          "call_mobile_technology_learning_language",
          "writing_of_in_the_language",
          "of_the_writing_in_learning"
         ],
         "marker": {
          "color": "black"
         },
         "mode": "markers",
         "showlegend": false,
         "type": "scatter",
         "x": [
          0.8673644525451968,
          0.8410052463612505,
          0.8982133000881674,
          0.6633916433578873,
          0.7493954308048586,
          0.8648576166566444,
          0.6346982615570667,
          0.7078672128782321,
          0.8842568225169604,
          0.9401218910370368,
          0.9982887877690682
         ],
         "y": [
          -37.5,
          -80,
          -70,
          -120,
          -177.5,
          -180.625,
          -230,
          -222.5,
          -229.375,
          -194.84375,
          -152.421875
         ]
        }
       ],
       "layout": {
        "autosize": false,
        "height": 575,
        "hoverlabel": {
         "bgcolor": "white",
         "font": {
          "family": "Rockwell",
          "size": 16
         }
        },
        "hovermode": "closest",
        "plot_bgcolor": "#ECEFF1",
        "showlegend": false,
        "template": {
         "data": {
          "bar": [
           {
            "error_x": {
             "color": "#2a3f5f"
            },
            "error_y": {
             "color": "#2a3f5f"
            },
            "marker": {
             "line": {
              "color": "white",
              "width": 0.5
             },
             "pattern": {
              "fillmode": "overlay",
              "size": 10,
              "solidity": 0.2
             }
            },
            "type": "bar"
           }
          ],
          "barpolar": [
           {
            "marker": {
             "line": {
              "color": "white",
              "width": 0.5
             },
             "pattern": {
              "fillmode": "overlay",
              "size": 10,
              "solidity": 0.2
             }
            },
            "type": "barpolar"
           }
          ],
          "carpet": [
           {
            "aaxis": {
             "endlinecolor": "#2a3f5f",
             "gridcolor": "#C8D4E3",
             "linecolor": "#C8D4E3",
             "minorgridcolor": "#C8D4E3",
             "startlinecolor": "#2a3f5f"
            },
            "baxis": {
             "endlinecolor": "#2a3f5f",
             "gridcolor": "#C8D4E3",
             "linecolor": "#C8D4E3",
             "minorgridcolor": "#C8D4E3",
             "startlinecolor": "#2a3f5f"
            },
            "type": "carpet"
           }
          ],
          "choropleth": [
           {
            "colorbar": {
             "outlinewidth": 0,
             "ticks": ""
            },
            "type": "choropleth"
           }
          ],
          "contour": [
           {
            "colorbar": {
             "outlinewidth": 0,
             "ticks": ""
            },
            "colorscale": [
             [
              0,
              "#0d0887"
             ],
             [
              0.1111111111111111,
              "#46039f"
             ],
             [
              0.2222222222222222,
              "#7201a8"
             ],
             [
              0.3333333333333333,
              "#9c179e"
             ],
             [
              0.4444444444444444,
              "#bd3786"
             ],
             [
              0.5555555555555556,
              "#d8576b"
             ],
             [
              0.6666666666666666,
              "#ed7953"
             ],
             [
              0.7777777777777778,
              "#fb9f3a"
             ],
             [
              0.8888888888888888,
              "#fdca26"
             ],
             [
              1,
              "#f0f921"
             ]
            ],
            "type": "contour"
           }
          ],
          "contourcarpet": [
           {
            "colorbar": {
             "outlinewidth": 0,
             "ticks": ""
            },
            "type": "contourcarpet"
           }
          ],
          "heatmap": [
           {
            "colorbar": {
             "outlinewidth": 0,
             "ticks": ""
            },
            "colorscale": [
             [
              0,
              "#0d0887"
             ],
             [
              0.1111111111111111,
              "#46039f"
             ],
             [
              0.2222222222222222,
              "#7201a8"
             ],
             [
              0.3333333333333333,
              "#9c179e"
             ],
             [
              0.4444444444444444,
              "#bd3786"
             ],
             [
              0.5555555555555556,
              "#d8576b"
             ],
             [
              0.6666666666666666,
              "#ed7953"
             ],
             [
              0.7777777777777778,
              "#fb9f3a"
             ],
             [
              0.8888888888888888,
              "#fdca26"
             ],
             [
              1,
              "#f0f921"
             ]
            ],
            "type": "heatmap"
           }
          ],
          "heatmapgl": [
           {
            "colorbar": {
             "outlinewidth": 0,
             "ticks": ""
            },
            "colorscale": [
             [
              0,
              "#0d0887"
             ],
             [
              0.1111111111111111,
              "#46039f"
             ],
             [
              0.2222222222222222,
              "#7201a8"
             ],
             [
              0.3333333333333333,
              "#9c179e"
             ],
             [
              0.4444444444444444,
              "#bd3786"
             ],
             [
              0.5555555555555556,
              "#d8576b"
             ],
             [
              0.6666666666666666,
              "#ed7953"
             ],
             [
              0.7777777777777778,
              "#fb9f3a"
             ],
             [
              0.8888888888888888,
              "#fdca26"
             ],
             [
              1,
              "#f0f921"
             ]
            ],
            "type": "heatmapgl"
           }
          ],
          "histogram": [
           {
            "marker": {
             "pattern": {
              "fillmode": "overlay",
              "size": 10,
              "solidity": 0.2
             }
            },
            "type": "histogram"
           }
          ],
          "histogram2d": [
           {
            "colorbar": {
             "outlinewidth": 0,
             "ticks": ""
            },
            "colorscale": [
             [
              0,
              "#0d0887"
             ],
             [
              0.1111111111111111,
              "#46039f"
             ],
             [
              0.2222222222222222,
              "#7201a8"
             ],
             [
              0.3333333333333333,
              "#9c179e"
             ],
             [
              0.4444444444444444,
              "#bd3786"
             ],
             [
              0.5555555555555556,
              "#d8576b"
             ],
             [
              0.6666666666666666,
              "#ed7953"
             ],
             [
              0.7777777777777778,
              "#fb9f3a"
             ],
             [
              0.8888888888888888,
              "#fdca26"
             ],
             [
              1,
              "#f0f921"
             ]
            ],
            "type": "histogram2d"
           }
          ],
          "histogram2dcontour": [
           {
            "colorbar": {
             "outlinewidth": 0,
             "ticks": ""
            },
            "colorscale": [
             [
              0,
              "#0d0887"
             ],
             [
              0.1111111111111111,
              "#46039f"
             ],
             [
              0.2222222222222222,
              "#7201a8"
             ],
             [
              0.3333333333333333,
              "#9c179e"
             ],
             [
              0.4444444444444444,
              "#bd3786"
             ],
             [
              0.5555555555555556,
              "#d8576b"
             ],
             [
              0.6666666666666666,
              "#ed7953"
             ],
             [
              0.7777777777777778,
              "#fb9f3a"
             ],
             [
              0.8888888888888888,
              "#fdca26"
             ],
             [
              1,
              "#f0f921"
             ]
            ],
            "type": "histogram2dcontour"
           }
          ],
          "mesh3d": [
           {
            "colorbar": {
             "outlinewidth": 0,
             "ticks": ""
            },
            "type": "mesh3d"
           }
          ],
          "parcoords": [
           {
            "line": {
             "colorbar": {
              "outlinewidth": 0,
              "ticks": ""
             }
            },
            "type": "parcoords"
           }
          ],
          "pie": [
           {
            "automargin": true,
            "type": "pie"
           }
          ],
          "scatter": [
           {
            "fillpattern": {
             "fillmode": "overlay",
             "size": 10,
             "solidity": 0.2
            },
            "type": "scatter"
           }
          ],
          "scatter3d": [
           {
            "line": {
             "colorbar": {
              "outlinewidth": 0,
              "ticks": ""
             }
            },
            "marker": {
             "colorbar": {
              "outlinewidth": 0,
              "ticks": ""
             }
            },
            "type": "scatter3d"
           }
          ],
          "scattercarpet": [
           {
            "marker": {
             "colorbar": {
              "outlinewidth": 0,
              "ticks": ""
             }
            },
            "type": "scattercarpet"
           }
          ],
          "scattergeo": [
           {
            "marker": {
             "colorbar": {
              "outlinewidth": 0,
              "ticks": ""
             }
            },
            "type": "scattergeo"
           }
          ],
          "scattergl": [
           {
            "marker": {
             "colorbar": {
              "outlinewidth": 0,
              "ticks": ""
             }
            },
            "type": "scattergl"
           }
          ],
          "scattermapbox": [
           {
            "marker": {
             "colorbar": {
              "outlinewidth": 0,
              "ticks": ""
             }
            },
            "type": "scattermapbox"
           }
          ],
          "scatterpolar": [
           {
            "marker": {
             "colorbar": {
              "outlinewidth": 0,
              "ticks": ""
             }
            },
            "type": "scatterpolar"
           }
          ],
          "scatterpolargl": [
           {
            "marker": {
             "colorbar": {
              "outlinewidth": 0,
              "ticks": ""
             }
            },
            "type": "scatterpolargl"
           }
          ],
          "scatterternary": [
           {
            "marker": {
             "colorbar": {
              "outlinewidth": 0,
              "ticks": ""
             }
            },
            "type": "scatterternary"
           }
          ],
          "surface": [
           {
            "colorbar": {
             "outlinewidth": 0,
             "ticks": ""
            },
            "colorscale": [
             [
              0,
              "#0d0887"
             ],
             [
              0.1111111111111111,
              "#46039f"
             ],
             [
              0.2222222222222222,
              "#7201a8"
             ],
             [
              0.3333333333333333,
              "#9c179e"
             ],
             [
              0.4444444444444444,
              "#bd3786"
             ],
             [
              0.5555555555555556,
              "#d8576b"
             ],
             [
              0.6666666666666666,
              "#ed7953"
             ],
             [
              0.7777777777777778,
              "#fb9f3a"
             ],
             [
              0.8888888888888888,
              "#fdca26"
             ],
             [
              1,
              "#f0f921"
             ]
            ],
            "type": "surface"
           }
          ],
          "table": [
           {
            "cells": {
             "fill": {
              "color": "#EBF0F8"
             },
             "line": {
              "color": "white"
             }
            },
            "header": {
             "fill": {
              "color": "#C8D4E3"
             },
             "line": {
              "color": "white"
             }
            },
            "type": "table"
           }
          ]
         },
         "layout": {
          "annotationdefaults": {
           "arrowcolor": "#2a3f5f",
           "arrowhead": 0,
           "arrowwidth": 1
          },
          "autotypenumbers": "strict",
          "coloraxis": {
           "colorbar": {
            "outlinewidth": 0,
            "ticks": ""
           }
          },
          "colorscale": {
           "diverging": [
            [
             0,
             "#8e0152"
            ],
            [
             0.1,
             "#c51b7d"
            ],
            [
             0.2,
             "#de77ae"
            ],
            [
             0.3,
             "#f1b6da"
            ],
            [
             0.4,
             "#fde0ef"
            ],
            [
             0.5,
             "#f7f7f7"
            ],
            [
             0.6,
             "#e6f5d0"
            ],
            [
             0.7,
             "#b8e186"
            ],
            [
             0.8,
             "#7fbc41"
            ],
            [
             0.9,
             "#4d9221"
            ],
            [
             1,
             "#276419"
            ]
           ],
           "sequential": [
            [
             0,
             "#0d0887"
            ],
            [
             0.1111111111111111,
             "#46039f"
            ],
            [
             0.2222222222222222,
             "#7201a8"
            ],
            [
             0.3333333333333333,
             "#9c179e"
            ],
            [
             0.4444444444444444,
             "#bd3786"
            ],
            [
             0.5555555555555556,
             "#d8576b"
            ],
            [
             0.6666666666666666,
             "#ed7953"
            ],
            [
             0.7777777777777778,
             "#fb9f3a"
            ],
            [
             0.8888888888888888,
             "#fdca26"
            ],
            [
             1,
             "#f0f921"
            ]
           ],
           "sequentialminus": [
            [
             0,
             "#0d0887"
            ],
            [
             0.1111111111111111,
             "#46039f"
            ],
            [
             0.2222222222222222,
             "#7201a8"
            ],
            [
             0.3333333333333333,
             "#9c179e"
            ],
            [
             0.4444444444444444,
             "#bd3786"
            ],
            [
             0.5555555555555556,
             "#d8576b"
            ],
            [
             0.6666666666666666,
             "#ed7953"
            ],
            [
             0.7777777777777778,
             "#fb9f3a"
            ],
            [
             0.8888888888888888,
             "#fdca26"
            ],
            [
             1,
             "#f0f921"
            ]
           ]
          },
          "colorway": [
           "#636efa",
           "#EF553B",
           "#00cc96",
           "#ab63fa",
           "#FFA15A",
           "#19d3f3",
           "#FF6692",
           "#B6E880",
           "#FF97FF",
           "#FECB52"
          ],
          "font": {
           "color": "#2a3f5f"
          },
          "geo": {
           "bgcolor": "white",
           "lakecolor": "white",
           "landcolor": "white",
           "showlakes": true,
           "showland": true,
           "subunitcolor": "#C8D4E3"
          },
          "hoverlabel": {
           "align": "left"
          },
          "hovermode": "closest",
          "mapbox": {
           "style": "light"
          },
          "paper_bgcolor": "white",
          "plot_bgcolor": "white",
          "polar": {
           "angularaxis": {
            "gridcolor": "#EBF0F8",
            "linecolor": "#EBF0F8",
            "ticks": ""
           },
           "bgcolor": "white",
           "radialaxis": {
            "gridcolor": "#EBF0F8",
            "linecolor": "#EBF0F8",
            "ticks": ""
           }
          },
          "scene": {
           "xaxis": {
            "backgroundcolor": "white",
            "gridcolor": "#DFE8F3",
            "gridwidth": 2,
            "linecolor": "#EBF0F8",
            "showbackground": true,
            "ticks": "",
            "zerolinecolor": "#EBF0F8"
           },
           "yaxis": {
            "backgroundcolor": "white",
            "gridcolor": "#DFE8F3",
            "gridwidth": 2,
            "linecolor": "#EBF0F8",
            "showbackground": true,
            "ticks": "",
            "zerolinecolor": "#EBF0F8"
           },
           "zaxis": {
            "backgroundcolor": "white",
            "gridcolor": "#DFE8F3",
            "gridwidth": 2,
            "linecolor": "#EBF0F8",
            "showbackground": true,
            "ticks": "",
            "zerolinecolor": "#EBF0F8"
           }
          },
          "shapedefaults": {
           "line": {
            "color": "#2a3f5f"
           }
          },
          "ternary": {
           "aaxis": {
            "gridcolor": "#DFE8F3",
            "linecolor": "#A2B1C6",
            "ticks": ""
           },
           "baxis": {
            "gridcolor": "#DFE8F3",
            "linecolor": "#A2B1C6",
            "ticks": ""
           },
           "bgcolor": "white",
           "caxis": {
            "gridcolor": "#DFE8F3",
            "linecolor": "#A2B1C6",
            "ticks": ""
           }
          },
          "title": {
           "x": 0.05
          },
          "xaxis": {
           "automargin": true,
           "gridcolor": "#EBF0F8",
           "linecolor": "#EBF0F8",
           "ticks": "",
           "title": {
            "standoff": 15
           },
           "zerolinecolor": "#EBF0F8",
           "zerolinewidth": 2
          },
          "yaxis": {
           "automargin": true,
           "gridcolor": "#EBF0F8",
           "linecolor": "#EBF0F8",
           "ticks": "",
           "title": {
            "standoff": 15
           },
           "zerolinecolor": "#EBF0F8",
           "zerolinewidth": 2
          }
         }
        },
        "title": {
         "font": {
          "color": "Black",
          "size": 22
         },
         "text": "<b>Hierarchical Clustering</b>",
         "x": 0.5,
         "xanchor": "center",
         "yanchor": "top"
        },
        "width": 1000,
        "xaxis": {
         "mirror": "allticks",
         "rangemode": "tozero",
         "showgrid": false,
         "showline": true,
         "showticklabels": true,
         "ticks": "outside",
         "type": "linear",
         "zeroline": false
        },
        "yaxis": {
         "mirror": "allticks",
         "range": [
          -250,
          0
         ],
         "rangemode": "tozero",
         "showgrid": false,
         "showline": true,
         "showticklabels": true,
         "tickmode": "array",
         "ticks": "outside",
         "ticktext": [
          "7_telecollaboration_intercu...",
          "18_intercultural_exchange_c...",
          "13_virtual_reality_3d",
          "14_virtual_exchange_profess...",
          "20_social_media_networking",
          "24_chat_task_text",
          "6_multimodal_videoconferenc...",
          "16_oral_communication_media...",
          "5_pronunciation_speech_trai...",
          "17_storytelling_digital_story",
          "4_game_games_digital",
          "12_vocabulary_gloss_glosses",
          "11_comprehension_captions_l...",
          "8_data_driven_collocation",
          "22_corpus_corpora_pedagogy",
          "15_flipped_classroom_flipping",
          "3_online_language_learning",
          "0_writing_feedback_collabor...",
          "21_reading_strategies_compr...",
          "19_blended_learning_inquiry",
          "1_call_research_sla",
          "9_technology_teachers_techn...",
          "10_technology_language_assi...",
          "2_mobile_learning_assisted",
          "23_mall_meta_oer"
         ],
         "tickvals": [
          -5,
          -15,
          -25,
          -35,
          -45,
          -55,
          -65,
          -75,
          -85,
          -95,
          -105,
          -115,
          -125,
          -135,
          -145,
          -155,
          -165,
          -175,
          -185,
          -195,
          -205,
          -215,
          -225,
          -235,
          -245
         ],
         "type": "linear",
         "zeroline": false
        }
       }
      }
     },
     "metadata": {},
     "output_type": "display_data"
    }
   ],
   "source": [
    "hierarchical_topics = model.hierarchical_topics(docs)\n",
    "model.visualize_hierarchy(hierarchical_topics=hierarchical_topics)"
   ]
  },
  {
   "cell_type": "code",
   "execution_count": 14,
   "metadata": {},
   "outputs": [
    {
     "data": {
      "application/vnd.plotly.v1+json": {
       "config": {
        "plotlyServerURL": "https://plot.ly"
       },
       "data": [
        {
         "coloraxis": "coloraxis",
         "hovertemplate": "x: %{x}<br>y: %{y}<br>Similarity Score: %{z}<extra></extra>",
         "name": "0",
         "type": "heatmap",
         "x": [
          "0_writing_feedback_collabor...",
          "1_call_research_sla",
          "2_mobile_learning_assisted",
          "3_online_language_learning",
          "4_game_games_digital",
          "5_pronunciation_speech_trai...",
          "6_multimodal_videoconferenc...",
          "7_telecollaboration_intercu...",
          "8_data_driven_collocation",
          "9_technology_teachers_techn...",
          "10_technology_language_assi...",
          "11_comprehension_captions_l...",
          "12_vocabulary_gloss_glosses",
          "13_virtual_reality_3d",
          "14_virtual_exchange_profess...",
          "15_flipped_classroom_flipping",
          "16_oral_communication_media...",
          "17_storytelling_digital_story",
          "18_intercultural_exchange_c...",
          "19_blended_learning_inquiry",
          "20_social_media_networking",
          "21_reading_strategies_compr...",
          "22_corpus_corpora_pedagogy",
          "23_mall_meta_oer",
          "24_chat_task_text"
         ],
         "xaxis": "x",
         "y": [
          "0_writing_feedback_collabor...",
          "1_call_research_sla",
          "2_mobile_learning_assisted",
          "3_online_language_learning",
          "4_game_games_digital",
          "5_pronunciation_speech_trai...",
          "6_multimodal_videoconferenc...",
          "7_telecollaboration_intercu...",
          "8_data_driven_collocation",
          "9_technology_teachers_techn...",
          "10_technology_language_assi...",
          "11_comprehension_captions_l...",
          "12_vocabulary_gloss_glosses",
          "13_virtual_reality_3d",
          "14_virtual_exchange_profess...",
          "15_flipped_classroom_flipping",
          "16_oral_communication_media...",
          "17_storytelling_digital_story",
          "18_intercultural_exchange_c...",
          "19_blended_learning_inquiry",
          "20_social_media_networking",
          "21_reading_strategies_compr...",
          "22_corpus_corpora_pedagogy",
          "23_mall_meta_oer",
          "24_chat_task_text"
         ],
         "yaxis": "y",
         "z": [
          [
           1.0000001192092896,
           0.5539436340332031,
           0.6257559061050415,
           0.724891185760498,
           0.5707416534423828,
           0.5335495471954346,
           0.5816097259521484,
           0.5312477350234985,
           0.6675072908401489,
           0.6026352047920227,
           0.7106598615646362,
           0.5666810274124146,
           0.6391369104385376,
           0.4775180220603943,
           0.62434983253479,
           0.6002787351608276,
           0.6048686504364014,
           0.6758142709732056,
           0.5887949466705322,
           0.5982775688171387,
           0.6285056471824646,
           0.7302445769309998,
           0.70723557472229,
           0.4133441746234894,
           0.6928024291992188
          ],
          [
           0.5539436340332031,
           0.9999997615814209,
           0.5429307222366333,
           0.5767778158187866,
           0.5193068981170654,
           0.5432987213134766,
           0.5301254987716675,
           0.6951923966407776,
           0.49184951186180115,
           0.5646450519561768,
           0.5789214968681335,
           0.43474745750427246,
           0.4868016839027405,
           0.4691746234893799,
           0.5522893667221069,
           0.5289181470870972,
           0.6020470857620239,
           0.47818225622177124,
           0.515923798084259,
           0.4558577239513397,
           0.4990586042404175,
           0.4403495788574219,
           0.4811437726020813,
           0.4873204231262207,
           0.5488829612731934
          ],
          [
           0.6257559061050415,
           0.5429307222366333,
           1.000000238418579,
           0.7541844844818115,
           0.6622142195701599,
           0.6200657486915588,
           0.6072567701339722,
           0.5708813071250916,
           0.5944864153862,
           0.7107939124107361,
           0.8147797584533691,
           0.6490894556045532,
           0.7340319156646729,
           0.6448520421981812,
           0.6025162935256958,
           0.5905485153198242,
           0.6650816798210144,
           0.5220723748207092,
           0.5712670087814331,
           0.6106387376785278,
           0.6706666946411133,
           0.6626849174499512,
           0.5797558426856995,
           0.5548406839370728,
           0.5530791878700256
          ],
          [
           0.724891185760498,
           0.5767778158187866,
           0.7541844844818115,
           1,
           0.7026429176330566,
           0.5882776975631714,
           0.6902519464492798,
           0.6351721286773682,
           0.6647116541862488,
           0.7358080148696899,
           0.8240319490432739,
           0.6199992299079895,
           0.7059957981109619,
           0.6641416549682617,
           0.781170666217804,
           0.68199223279953,
           0.6494535207748413,
           0.5953001379966736,
           0.7132271528244019,
           0.7607649564743042,
           0.7588977813720703,
           0.7335795164108276,
           0.7316709756851196,
           0.5271021127700806,
           0.6003975868225098
          ],
          [
           0.5707416534423828,
           0.5193068981170654,
           0.6622142195701599,
           0.7026429176330566,
           1.000000238418579,
           0.49443715810775757,
           0.6312133073806763,
           0.5168808698654175,
           0.5447046756744385,
           0.5732259154319763,
           0.6750378608703613,
           0.5858217477798462,
           0.6005145311355591,
           0.7283976078033447,
           0.6433210372924805,
           0.49420469999313354,
           0.5870195627212524,
           0.6452819108963013,
           0.615948498249054,
           0.5355805158615112,
           0.6123025417327881,
           0.5804041624069214,
           0.47916537523269653,
           0.4478275775909424,
           0.5812404155731201
          ],
          [
           0.5335495471954346,
           0.5432987213134766,
           0.6200657486915588,
           0.5882776975631714,
           0.49443715810775757,
           0.9999998211860657,
           0.5861594080924988,
           0.4382936954498291,
           0.5880773663520813,
           0.47064676880836487,
           0.6760448217391968,
           0.6815695762634277,
           0.6605619192123413,
           0.47265809774398804,
           0.3820685148239136,
           0.46545398235321045,
           0.7188721895217896,
           0.36879295110702515,
           0.4611114263534546,
           0.4417876601219177,
           0.4704667031764984,
           0.4937073588371277,
           0.5569693446159363,
           0.3967582583427429,
           0.5419152975082397
          ],
          [
           0.5816097259521484,
           0.5301254987716675,
           0.6072567701339722,
           0.6902519464492798,
           0.6312133073806763,
           0.5861594080924988,
           0.9999997615814209,
           0.5959423780441284,
           0.5166341066360474,
           0.5680869817733765,
           0.6459113359451294,
           0.7500054836273193,
           0.5724042654037476,
           0.6933324337005615,
           0.666183352470398,
           0.4921095371246338,
           0.6992638111114502,
           0.5996592044830322,
           0.6293124556541443,
           0.5382949113845825,
           0.6369982957839966,
           0.5273790955543518,
           0.555966854095459,
           0.3796382546424866,
           0.6486608982086182
          ],
          [
           0.5312477350234985,
           0.6951923966407776,
           0.5708813071250916,
           0.6351721286773682,
           0.5168808698654175,
           0.4382936954498291,
           0.5959423780441284,
           1.0000001192092896,
           0.42532724142074585,
           0.6683295369148254,
           0.6109628081321716,
           0.4644068777561188,
           0.45313090085983276,
           0.5408388376235962,
           0.6414394378662109,
           0.5358920097351074,
           0.5774964094161987,
           0.5361106991767883,
           0.6982120275497437,
           0.5117461085319519,
           0.6095291376113892,
           0.47664526104927063,
           0.5157157182693481,
           0.459937185049057,
           0.5366378426551819
          ],
          [
           0.6675072908401489,
           0.49184951186180115,
           0.5944864153862,
           0.6647116541862488,
           0.5447046756744385,
           0.5880773663520813,
           0.5166341066360474,
           0.42532724142074585,
           1.0000005960464478,
           0.4696585536003113,
           0.7052745819091797,
           0.6169667840003967,
           0.7734076976776123,
           0.4706253111362457,
           0.43698850274086,
           0.5204930305480957,
           0.5098041892051697,
           0.4166017174720764,
           0.47046416997909546,
           0.531537652015686,
           0.5163469910621643,
           0.6147408485412598,
           0.7499202489852905,
           0.4318545162677765,
           0.4652405083179474
          ],
          [
           0.6026352047920227,
           0.5646450519561768,
           0.7107939124107361,
           0.7358080148696899,
           0.5732259154319763,
           0.47064676880836487,
           0.5680869817733765,
           0.6683295369148254,
           0.4696585536003113,
           0.9999998807907104,
           0.7825117111206055,
           0.4928951859474182,
           0.5504711866378784,
           0.592757523059845,
           0.7516999244689941,
           0.5828831195831299,
           0.5595940351486206,
           0.5821161270141602,
           0.57660973072052,
           0.6366180181503296,
           0.5930804014205933,
           0.5972959995269775,
           0.6064342260360718,
           0.5379094481468201,
           0.44803598523139954
          ],
          [
           0.7106598615646362,
           0.5789214968681335,
           0.8147797584533691,
           0.8240319490432739,
           0.6750378608703613,
           0.6760448217391968,
           0.6459113359451294,
           0.6109628081321716,
           0.7052745819091797,
           0.7825117111206055,
           1,
           0.6696349382400513,
           0.7687526941299438,
           0.6499229669570923,
           0.6176278591156006,
           0.6088677644729614,
           0.7016431093215942,
           0.5283871293067932,
           0.6466422080993652,
           0.6510502099990845,
           0.7018991708755493,
           0.6643942594528198,
           0.7200897932052612,
           0.5299652814865112,
           0.5911054015159607
          ],
          [
           0.5666810274124146,
           0.43474745750427246,
           0.6490894556045532,
           0.6199992299079895,
           0.5858217477798462,
           0.6815695762634277,
           0.7500054836273193,
           0.4644068777561188,
           0.6169667840003967,
           0.4928951859474182,
           0.6696349382400513,
           1.000000238418579,
           0.7625693082809448,
           0.6045717000961304,
           0.4431442320346832,
           0.49314022064208984,
           0.6325007677078247,
           0.518715500831604,
           0.48127567768096924,
           0.48458975553512573,
           0.5217297673225403,
           0.6556744575500488,
           0.5958744287490845,
           0.43148794770240784,
           0.5704782009124756
          ],
          [
           0.6391369104385376,
           0.4868016839027405,
           0.7340319156646729,
           0.7059957981109619,
           0.6005145311355591,
           0.6605619192123413,
           0.5724042654037476,
           0.45313090085983276,
           0.7734076976776123,
           0.5504711866378784,
           0.7687526941299438,
           0.7625693082809448,
           1,
           0.5639257431030273,
           0.4694921374320984,
           0.5558328628540039,
           0.604855477809906,
           0.4707213342189789,
           0.4626381993293762,
           0.5411401987075806,
           0.5437824726104736,
           0.7031973600387573,
           0.7055255174636841,
           0.5067286491394043,
           0.4986746907234192
          ],
          [
           0.4775180220603943,
           0.4691746234893799,
           0.6448520421981812,
           0.6641416549682617,
           0.7283976078033447,
           0.47265809774398804,
           0.6933324337005615,
           0.5408388376235962,
           0.4706253111362457,
           0.592757523059845,
           0.6499229669570923,
           0.6045717000961304,
           0.5639257431030273,
           0.9999999403953552,
           0.6906708478927612,
           0.5335658192634583,
           0.5905693769454956,
           0.5834767818450928,
           0.5611181259155273,
           0.583284854888916,
           0.5235733985900879,
           0.5114569664001465,
           0.4589156210422516,
           0.43898022174835205,
           0.4658980965614319
          ],
          [
           0.62434983253479,
           0.5522893667221069,
           0.6025162935256958,
           0.781170666217804,
           0.6433210372924805,
           0.3820685148239136,
           0.666183352470398,
           0.6414394378662109,
           0.43698850274086,
           0.7516999244689941,
           0.6176278591156006,
           0.4431442320346832,
           0.4694921374320984,
           0.6906708478927612,
           1.0000001192092896,
           0.5854983329772949,
           0.5674774646759033,
           0.6666333675384521,
           0.6512967348098755,
           0.7171646356582642,
           0.6578346490859985,
           0.6288982033729553,
           0.5295202732086182,
           0.5129741430282593,
           0.5315117835998535
          ],
          [
           0.6002787351608276,
           0.5289181470870972,
           0.5905485153198242,
           0.68199223279953,
           0.49420469999313354,
           0.46545398235321045,
           0.4921095371246338,
           0.5358920097351074,
           0.5204930305480957,
           0.5828831195831299,
           0.6088677644729614,
           0.49314022064208984,
           0.5558328628540039,
           0.5335658192634583,
           0.5854983329772949,
           1,
           0.546399712562561,
           0.48334699869155884,
           0.5187028646469116,
           0.6887075901031494,
           0.5170936584472656,
           0.5630120635032654,
           0.5449636578559875,
           0.47161754965782166,
           0.3893229067325592
          ],
          [
           0.6048686504364014,
           0.6020470857620239,
           0.6650816798210144,
           0.6494535207748413,
           0.5870195627212524,
           0.7188721895217896,
           0.6992638111114502,
           0.5774964094161987,
           0.5098041892051697,
           0.5595940351486206,
           0.7016431093215942,
           0.6325007677078247,
           0.604855477809906,
           0.5905693769454956,
           0.5674774646759033,
           0.546399712562561,
           1.0000004768371582,
           0.5063226222991943,
           0.6083142161369324,
           0.5150145292282104,
           0.6023853421211243,
           0.5369269251823425,
           0.5437726974487305,
           0.4036884903907776,
           0.6688108444213867
          ],
          [
           0.6758142709732056,
           0.47818225622177124,
           0.5220723748207092,
           0.5953001379966736,
           0.6452819108963013,
           0.36879295110702515,
           0.5996592044830322,
           0.5361106991767883,
           0.4166017174720764,
           0.5821161270141602,
           0.5283871293067932,
           0.518715500831604,
           0.4707213342189789,
           0.5834767818450928,
           0.6666333675384521,
           0.48334699869155884,
           0.5063226222991943,
           1,
           0.5196908712387085,
           0.5500047206878662,
           0.5259523391723633,
           0.5559228658676147,
           0.4921322464942932,
           0.4230571985244751,
           0.5551460981369019
          ],
          [
           0.5887949466705322,
           0.515923798084259,
           0.5712670087814331,
           0.7132271528244019,
           0.615948498249054,
           0.4611114263534546,
           0.6293124556541443,
           0.6982120275497437,
           0.47046416997909546,
           0.57660973072052,
           0.6466422080993652,
           0.48127567768096924,
           0.4626381993293762,
           0.5611181259155273,
           0.6512967348098755,
           0.5187028646469116,
           0.6083142161369324,
           0.5196908712387085,
           1.0000001192092896,
           0.5635733604431152,
           0.7044317722320557,
           0.5257728695869446,
           0.5032711029052734,
           0.3828542232513428,
           0.6002621650695801
          ],
          [
           0.5982775688171387,
           0.4558577239513397,
           0.6106387376785278,
           0.7607649564743042,
           0.5355805158615112,
           0.4417876601219177,
           0.5382949113845825,
           0.5117461085319519,
           0.531537652015686,
           0.6366180181503296,
           0.6510502099990845,
           0.48458975553512573,
           0.5411401987075806,
           0.583284854888916,
           0.7171646356582642,
           0.6887075901031494,
           0.5150145292282104,
           0.5500047206878662,
           0.5635733604431152,
           1,
           0.5626310110092163,
           0.6079466342926025,
           0.58451247215271,
           0.44477930665016174,
           0.41666263341903687
          ],
          [
           0.6285056471824646,
           0.4990586042404175,
           0.6706666946411133,
           0.7588977813720703,
           0.6123025417327881,
           0.4704667031764984,
           0.6369982957839966,
           0.6095291376113892,
           0.5163469910621643,
           0.5930804014205933,
           0.7018991708755493,
           0.5217297673225403,
           0.5437824726104736,
           0.5235733985900879,
           0.6578346490859985,
           0.5170936584472656,
           0.6023853421211243,
           0.5259523391723633,
           0.7044317722320557,
           0.5626310110092163,
           1.0000001192092896,
           0.5720692873001099,
           0.5361306667327881,
           0.41480597853660583,
           0.6295288801193237
          ],
          [
           0.7302445769309998,
           0.4403495788574219,
           0.6626849174499512,
           0.7335795164108276,
           0.5804041624069214,
           0.4937073588371277,
           0.5273790955543518,
           0.47664526104927063,
           0.6147408485412598,
           0.5972959995269775,
           0.6643942594528198,
           0.6556744575500488,
           0.7031973600387573,
           0.5114569664001465,
           0.6288982033729553,
           0.5630120635032654,
           0.5369269251823425,
           0.5559228658676147,
           0.5257728695869446,
           0.6079466342926025,
           0.5720692873001099,
           0.9999999403953552,
           0.6151397228240967,
           0.5023601055145264,
           0.5343701839447021
          ],
          [
           0.70723557472229,
           0.4811437726020813,
           0.5797558426856995,
           0.7316709756851196,
           0.47916537523269653,
           0.5569693446159363,
           0.555966854095459,
           0.5157157182693481,
           0.7499202489852905,
           0.6064342260360718,
           0.7200897932052612,
           0.5958744287490845,
           0.7055255174636841,
           0.4589156210422516,
           0.5295202732086182,
           0.5449636578559875,
           0.5437726974487305,
           0.4921322464942932,
           0.5032711029052734,
           0.58451247215271,
           0.5361306667327881,
           0.6151397228240967,
           0.9999998807907104,
           0.45816805958747864,
           0.463367223739624
          ],
          [
           0.4133441746234894,
           0.4873204231262207,
           0.5548406839370728,
           0.5271021127700806,
           0.4478275775909424,
           0.3967582583427429,
           0.3796382546424866,
           0.459937185049057,
           0.4318545162677765,
           0.5379094481468201,
           0.5299652814865112,
           0.43148794770240784,
           0.5067286491394043,
           0.43898022174835205,
           0.5129741430282593,
           0.47161754965782166,
           0.4036884903907776,
           0.4230571985244751,
           0.3828542232513428,
           0.44477930665016174,
           0.41480597853660583,
           0.5023601055145264,
           0.45816805958747864,
           0.9999998211860657,
           0.3582454025745392
          ],
          [
           0.6928024291992188,
           0.5488829612731934,
           0.5530791878700256,
           0.6003975868225098,
           0.5812404155731201,
           0.5419152975082397,
           0.6486608982086182,
           0.5366378426551819,
           0.4652405083179474,
           0.44803598523139954,
           0.5911054015159607,
           0.5704782009124756,
           0.4986746907234192,
           0.4658980965614319,
           0.5315117835998535,
           0.3893229067325592,
           0.6688108444213867,
           0.5551460981369019,
           0.6002621650695801,
           0.41666263341903687,
           0.6295288801193237,
           0.5343701839447021,
           0.463367223739624,
           0.3582454025745392,
           1.0000001192092896
          ]
         ]
        }
       ],
       "layout": {
        "coloraxis": {
         "colorbar": {
          "title": {
           "text": "Similarity Score"
          }
         },
         "colorscale": [
          [
           0,
           "rgb(247,252,240)"
          ],
          [
           0.125,
           "rgb(224,243,219)"
          ],
          [
           0.25,
           "rgb(204,235,197)"
          ],
          [
           0.375,
           "rgb(168,221,181)"
          ],
          [
           0.5,
           "rgb(123,204,196)"
          ],
          [
           0.625,
           "rgb(78,179,211)"
          ],
          [
           0.75,
           "rgb(43,140,190)"
          ],
          [
           0.875,
           "rgb(8,104,172)"
          ],
          [
           1,
           "rgb(8,64,129)"
          ]
         ]
        },
        "height": 800,
        "hoverlabel": {
         "bgcolor": "white",
         "font": {
          "family": "Rockwell",
          "size": 16
         }
        },
        "legend": {
         "title": {
          "text": "Trend"
         }
        },
        "margin": {
         "t": 60
        },
        "showlegend": true,
        "template": {
         "data": {
          "bar": [
           {
            "error_x": {
             "color": "#2a3f5f"
            },
            "error_y": {
             "color": "#2a3f5f"
            },
            "marker": {
             "line": {
              "color": "#E5ECF6",
              "width": 0.5
             },
             "pattern": {
              "fillmode": "overlay",
              "size": 10,
              "solidity": 0.2
             }
            },
            "type": "bar"
           }
          ],
          "barpolar": [
           {
            "marker": {
             "line": {
              "color": "#E5ECF6",
              "width": 0.5
             },
             "pattern": {
              "fillmode": "overlay",
              "size": 10,
              "solidity": 0.2
             }
            },
            "type": "barpolar"
           }
          ],
          "carpet": [
           {
            "aaxis": {
             "endlinecolor": "#2a3f5f",
             "gridcolor": "white",
             "linecolor": "white",
             "minorgridcolor": "white",
             "startlinecolor": "#2a3f5f"
            },
            "baxis": {
             "endlinecolor": "#2a3f5f",
             "gridcolor": "white",
             "linecolor": "white",
             "minorgridcolor": "white",
             "startlinecolor": "#2a3f5f"
            },
            "type": "carpet"
           }
          ],
          "choropleth": [
           {
            "colorbar": {
             "outlinewidth": 0,
             "ticks": ""
            },
            "type": "choropleth"
           }
          ],
          "contour": [
           {
            "colorbar": {
             "outlinewidth": 0,
             "ticks": ""
            },
            "colorscale": [
             [
              0,
              "#0d0887"
             ],
             [
              0.1111111111111111,
              "#46039f"
             ],
             [
              0.2222222222222222,
              "#7201a8"
             ],
             [
              0.3333333333333333,
              "#9c179e"
             ],
             [
              0.4444444444444444,
              "#bd3786"
             ],
             [
              0.5555555555555556,
              "#d8576b"
             ],
             [
              0.6666666666666666,
              "#ed7953"
             ],
             [
              0.7777777777777778,
              "#fb9f3a"
             ],
             [
              0.8888888888888888,
              "#fdca26"
             ],
             [
              1,
              "#f0f921"
             ]
            ],
            "type": "contour"
           }
          ],
          "contourcarpet": [
           {
            "colorbar": {
             "outlinewidth": 0,
             "ticks": ""
            },
            "type": "contourcarpet"
           }
          ],
          "heatmap": [
           {
            "colorbar": {
             "outlinewidth": 0,
             "ticks": ""
            },
            "colorscale": [
             [
              0,
              "#0d0887"
             ],
             [
              0.1111111111111111,
              "#46039f"
             ],
             [
              0.2222222222222222,
              "#7201a8"
             ],
             [
              0.3333333333333333,
              "#9c179e"
             ],
             [
              0.4444444444444444,
              "#bd3786"
             ],
             [
              0.5555555555555556,
              "#d8576b"
             ],
             [
              0.6666666666666666,
              "#ed7953"
             ],
             [
              0.7777777777777778,
              "#fb9f3a"
             ],
             [
              0.8888888888888888,
              "#fdca26"
             ],
             [
              1,
              "#f0f921"
             ]
            ],
            "type": "heatmap"
           }
          ],
          "heatmapgl": [
           {
            "colorbar": {
             "outlinewidth": 0,
             "ticks": ""
            },
            "colorscale": [
             [
              0,
              "#0d0887"
             ],
             [
              0.1111111111111111,
              "#46039f"
             ],
             [
              0.2222222222222222,
              "#7201a8"
             ],
             [
              0.3333333333333333,
              "#9c179e"
             ],
             [
              0.4444444444444444,
              "#bd3786"
             ],
             [
              0.5555555555555556,
              "#d8576b"
             ],
             [
              0.6666666666666666,
              "#ed7953"
             ],
             [
              0.7777777777777778,
              "#fb9f3a"
             ],
             [
              0.8888888888888888,
              "#fdca26"
             ],
             [
              1,
              "#f0f921"
             ]
            ],
            "type": "heatmapgl"
           }
          ],
          "histogram": [
           {
            "marker": {
             "pattern": {
              "fillmode": "overlay",
              "size": 10,
              "solidity": 0.2
             }
            },
            "type": "histogram"
           }
          ],
          "histogram2d": [
           {
            "colorbar": {
             "outlinewidth": 0,
             "ticks": ""
            },
            "colorscale": [
             [
              0,
              "#0d0887"
             ],
             [
              0.1111111111111111,
              "#46039f"
             ],
             [
              0.2222222222222222,
              "#7201a8"
             ],
             [
              0.3333333333333333,
              "#9c179e"
             ],
             [
              0.4444444444444444,
              "#bd3786"
             ],
             [
              0.5555555555555556,
              "#d8576b"
             ],
             [
              0.6666666666666666,
              "#ed7953"
             ],
             [
              0.7777777777777778,
              "#fb9f3a"
             ],
             [
              0.8888888888888888,
              "#fdca26"
             ],
             [
              1,
              "#f0f921"
             ]
            ],
            "type": "histogram2d"
           }
          ],
          "histogram2dcontour": [
           {
            "colorbar": {
             "outlinewidth": 0,
             "ticks": ""
            },
            "colorscale": [
             [
              0,
              "#0d0887"
             ],
             [
              0.1111111111111111,
              "#46039f"
             ],
             [
              0.2222222222222222,
              "#7201a8"
             ],
             [
              0.3333333333333333,
              "#9c179e"
             ],
             [
              0.4444444444444444,
              "#bd3786"
             ],
             [
              0.5555555555555556,
              "#d8576b"
             ],
             [
              0.6666666666666666,
              "#ed7953"
             ],
             [
              0.7777777777777778,
              "#fb9f3a"
             ],
             [
              0.8888888888888888,
              "#fdca26"
             ],
             [
              1,
              "#f0f921"
             ]
            ],
            "type": "histogram2dcontour"
           }
          ],
          "mesh3d": [
           {
            "colorbar": {
             "outlinewidth": 0,
             "ticks": ""
            },
            "type": "mesh3d"
           }
          ],
          "parcoords": [
           {
            "line": {
             "colorbar": {
              "outlinewidth": 0,
              "ticks": ""
             }
            },
            "type": "parcoords"
           }
          ],
          "pie": [
           {
            "automargin": true,
            "type": "pie"
           }
          ],
          "scatter": [
           {
            "fillpattern": {
             "fillmode": "overlay",
             "size": 10,
             "solidity": 0.2
            },
            "type": "scatter"
           }
          ],
          "scatter3d": [
           {
            "line": {
             "colorbar": {
              "outlinewidth": 0,
              "ticks": ""
             }
            },
            "marker": {
             "colorbar": {
              "outlinewidth": 0,
              "ticks": ""
             }
            },
            "type": "scatter3d"
           }
          ],
          "scattercarpet": [
           {
            "marker": {
             "colorbar": {
              "outlinewidth": 0,
              "ticks": ""
             }
            },
            "type": "scattercarpet"
           }
          ],
          "scattergeo": [
           {
            "marker": {
             "colorbar": {
              "outlinewidth": 0,
              "ticks": ""
             }
            },
            "type": "scattergeo"
           }
          ],
          "scattergl": [
           {
            "marker": {
             "colorbar": {
              "outlinewidth": 0,
              "ticks": ""
             }
            },
            "type": "scattergl"
           }
          ],
          "scattermapbox": [
           {
            "marker": {
             "colorbar": {
              "outlinewidth": 0,
              "ticks": ""
             }
            },
            "type": "scattermapbox"
           }
          ],
          "scatterpolar": [
           {
            "marker": {
             "colorbar": {
              "outlinewidth": 0,
              "ticks": ""
             }
            },
            "type": "scatterpolar"
           }
          ],
          "scatterpolargl": [
           {
            "marker": {
             "colorbar": {
              "outlinewidth": 0,
              "ticks": ""
             }
            },
            "type": "scatterpolargl"
           }
          ],
          "scatterternary": [
           {
            "marker": {
             "colorbar": {
              "outlinewidth": 0,
              "ticks": ""
             }
            },
            "type": "scatterternary"
           }
          ],
          "surface": [
           {
            "colorbar": {
             "outlinewidth": 0,
             "ticks": ""
            },
            "colorscale": [
             [
              0,
              "#0d0887"
             ],
             [
              0.1111111111111111,
              "#46039f"
             ],
             [
              0.2222222222222222,
              "#7201a8"
             ],
             [
              0.3333333333333333,
              "#9c179e"
             ],
             [
              0.4444444444444444,
              "#bd3786"
             ],
             [
              0.5555555555555556,
              "#d8576b"
             ],
             [
              0.6666666666666666,
              "#ed7953"
             ],
             [
              0.7777777777777778,
              "#fb9f3a"
             ],
             [
              0.8888888888888888,
              "#fdca26"
             ],
             [
              1,
              "#f0f921"
             ]
            ],
            "type": "surface"
           }
          ],
          "table": [
           {
            "cells": {
             "fill": {
              "color": "#EBF0F8"
             },
             "line": {
              "color": "white"
             }
            },
            "header": {
             "fill": {
              "color": "#C8D4E3"
             },
             "line": {
              "color": "white"
             }
            },
            "type": "table"
           }
          ]
         },
         "layout": {
          "annotationdefaults": {
           "arrowcolor": "#2a3f5f",
           "arrowhead": 0,
           "arrowwidth": 1
          },
          "autotypenumbers": "strict",
          "coloraxis": {
           "colorbar": {
            "outlinewidth": 0,
            "ticks": ""
           }
          },
          "colorscale": {
           "diverging": [
            [
             0,
             "#8e0152"
            ],
            [
             0.1,
             "#c51b7d"
            ],
            [
             0.2,
             "#de77ae"
            ],
            [
             0.3,
             "#f1b6da"
            ],
            [
             0.4,
             "#fde0ef"
            ],
            [
             0.5,
             "#f7f7f7"
            ],
            [
             0.6,
             "#e6f5d0"
            ],
            [
             0.7,
             "#b8e186"
            ],
            [
             0.8,
             "#7fbc41"
            ],
            [
             0.9,
             "#4d9221"
            ],
            [
             1,
             "#276419"
            ]
           ],
           "sequential": [
            [
             0,
             "#0d0887"
            ],
            [
             0.1111111111111111,
             "#46039f"
            ],
            [
             0.2222222222222222,
             "#7201a8"
            ],
            [
             0.3333333333333333,
             "#9c179e"
            ],
            [
             0.4444444444444444,
             "#bd3786"
            ],
            [
             0.5555555555555556,
             "#d8576b"
            ],
            [
             0.6666666666666666,
             "#ed7953"
            ],
            [
             0.7777777777777778,
             "#fb9f3a"
            ],
            [
             0.8888888888888888,
             "#fdca26"
            ],
            [
             1,
             "#f0f921"
            ]
           ],
           "sequentialminus": [
            [
             0,
             "#0d0887"
            ],
            [
             0.1111111111111111,
             "#46039f"
            ],
            [
             0.2222222222222222,
             "#7201a8"
            ],
            [
             0.3333333333333333,
             "#9c179e"
            ],
            [
             0.4444444444444444,
             "#bd3786"
            ],
            [
             0.5555555555555556,
             "#d8576b"
            ],
            [
             0.6666666666666666,
             "#ed7953"
            ],
            [
             0.7777777777777778,
             "#fb9f3a"
            ],
            [
             0.8888888888888888,
             "#fdca26"
            ],
            [
             1,
             "#f0f921"
            ]
           ]
          },
          "colorway": [
           "#636efa",
           "#EF553B",
           "#00cc96",
           "#ab63fa",
           "#FFA15A",
           "#19d3f3",
           "#FF6692",
           "#B6E880",
           "#FF97FF",
           "#FECB52"
          ],
          "font": {
           "color": "#2a3f5f"
          },
          "geo": {
           "bgcolor": "white",
           "lakecolor": "white",
           "landcolor": "#E5ECF6",
           "showlakes": true,
           "showland": true,
           "subunitcolor": "white"
          },
          "hoverlabel": {
           "align": "left"
          },
          "hovermode": "closest",
          "mapbox": {
           "style": "light"
          },
          "paper_bgcolor": "white",
          "plot_bgcolor": "#E5ECF6",
          "polar": {
           "angularaxis": {
            "gridcolor": "white",
            "linecolor": "white",
            "ticks": ""
           },
           "bgcolor": "#E5ECF6",
           "radialaxis": {
            "gridcolor": "white",
            "linecolor": "white",
            "ticks": ""
           }
          },
          "scene": {
           "xaxis": {
            "backgroundcolor": "#E5ECF6",
            "gridcolor": "white",
            "gridwidth": 2,
            "linecolor": "white",
            "showbackground": true,
            "ticks": "",
            "zerolinecolor": "white"
           },
           "yaxis": {
            "backgroundcolor": "#E5ECF6",
            "gridcolor": "white",
            "gridwidth": 2,
            "linecolor": "white",
            "showbackground": true,
            "ticks": "",
            "zerolinecolor": "white"
           },
           "zaxis": {
            "backgroundcolor": "#E5ECF6",
            "gridcolor": "white",
            "gridwidth": 2,
            "linecolor": "white",
            "showbackground": true,
            "ticks": "",
            "zerolinecolor": "white"
           }
          },
          "shapedefaults": {
           "line": {
            "color": "#2a3f5f"
           }
          },
          "ternary": {
           "aaxis": {
            "gridcolor": "white",
            "linecolor": "white",
            "ticks": ""
           },
           "baxis": {
            "gridcolor": "white",
            "linecolor": "white",
            "ticks": ""
           },
           "bgcolor": "#E5ECF6",
           "caxis": {
            "gridcolor": "white",
            "linecolor": "white",
            "ticks": ""
           }
          },
          "title": {
           "x": 0.05
          },
          "xaxis": {
           "automargin": true,
           "gridcolor": "white",
           "linecolor": "white",
           "ticks": "",
           "title": {
            "standoff": 15
           },
           "zerolinecolor": "white",
           "zerolinewidth": 2
          },
          "yaxis": {
           "automargin": true,
           "gridcolor": "white",
           "linecolor": "white",
           "ticks": "",
           "title": {
            "standoff": 15
           },
           "zerolinecolor": "white",
           "zerolinewidth": 2
          }
         }
        },
        "title": {
         "font": {
          "color": "Black",
          "size": 22
         },
         "text": "<b>Similarity Matrix</b>",
         "x": 0.55,
         "xanchor": "center",
         "y": 0.95,
         "yanchor": "top"
        },
        "width": 800,
        "xaxis": {
         "anchor": "y",
         "constrain": "domain",
         "domain": [
          0,
          1
         ],
         "scaleanchor": "y"
        },
        "yaxis": {
         "anchor": "x",
         "autorange": "reversed",
         "constrain": "domain",
         "domain": [
          0,
          1
         ]
        }
       }
      }
     },
     "metadata": {},
     "output_type": "display_data"
    }
   ],
   "source": [
    "model.visualize_heatmap()"
   ]
  },
  {
   "cell_type": "code",
   "execution_count": 15,
   "metadata": {},
   "outputs": [
    {
     "data": {
      "application/vnd.plotly.v1+json": {
       "config": {
        "plotlyServerURL": "https://plot.ly"
       },
       "data": [
        {
         "hoverinfo": "text",
         "hovertext": [
          "<b>Topic 0</b><br>Words: writing, stance, wikis, collaborative, writers",
          "<b>Topic 0</b><br>Words: writing, feedback, in, students, collaborative",
          "<b>Topic 0</b><br>Words: writing, collaborative, feedback, using, wikis",
          "<b>Topic 0</b><br>Words: writing, efl, computer, feedback, who",
          "<b>Topic 0</b><br>Words: writing, feedback, automated, of, in",
          "<b>Topic 0</b><br>Words: writing, collaborative, activities, l2, in",
          "<b>Topic 0</b><br>Words: writing, automated, feedback, collaborative, of",
          "<b>Topic 0</b><br>Words: writing, google, efl, docs, automated",
          "<b>Topic 0</b><br>Words: writing, feedback, on, collaborative, efl",
          "<b>Topic 0</b><br>Words: writing, corrective, feedback, accuracy, collaborative",
          "<b>Topic 0</b><br>Words: writing, feedback, automated, students, collaborative",
          "<b>Topic 0</b><br>Words: writing, machine, review, translation, multiple"
         ],
         "marker": {
          "color": "#E69F00"
         },
         "mode": "lines",
         "name": "0_writing_feedback_collaborative_automat...",
         "type": "scatter",
         "x": [
          2012,
          2013,
          2014,
          2015,
          2016,
          2017,
          2018,
          2019,
          2020,
          2021,
          2022,
          2023
         ],
         "y": [
          11,
          15,
          14,
          12,
          25,
          14,
          11,
          11,
          16,
          13,
          27,
          7
         ]
        },
        {
         "hoverinfo": "text",
         "hovertext": [
          "<b>Topic 1</b><br>Words: call, lomastv, whiteboards, hegemonies, constructivist",
          "<b>Topic 1</b><br>Words: call, tracking, sla, the, script",
          "<b>Topic 1</b><br>Words: call, sla, research, the, liou",
          "<b>Topic 1</b><br>Words: call, research, competencies, teacher, in",
          "<b>Topic 1</b><br>Words: call, sla, from, quot, the",
          "<b>Topic 1</b><br>Words: call, beliefs, design, multilingualism, midwestern",
          "<b>Topic 1</b><br>Words: call, transparency, 2003, needle, reporting",
          "<b>Topic 1</b><br>Words: call, research, unearthing, hidden, discussing",
          "<b>Topic 1</b><br>Words: now, where, we, are, call",
          "<b>Topic 1</b><br>Words: call, scripted, chatrooms, newly, swedish",
          "<b>Topic 1</b><br>Words: call, professional, teachers, spread, constructive",
          "<b>Topic 1</b><br>Words: replication, łodzikowski, 2021, exact, designs"
         ],
         "marker": {
          "color": "#56B4E9"
         },
         "mode": "lines",
         "name": "1_call_research_sla_the",
         "type": "scatter",
         "x": [
          2012,
          2013,
          2014,
          2015,
          2016,
          2017,
          2018,
          2019,
          2020,
          2021,
          2022,
          2023
         ],
         "y": [
          3,
          14,
          6,
          11,
          8,
          4,
          4,
          2,
          1,
          5,
          6,
          2
         ]
        },
        {
         "hoverinfo": "text",
         "hovertext": [
          "<b>Topic 2</b><br>Words: mobile, platform, learning, 14, glenn",
          "<b>Topic 2</b><br>Words: mobile, learning, phones, assisted, language",
          "<b>Topic 2</b><br>Words: mobile, impacting, learning, smartphones, determinants",
          "<b>Topic 2</b><br>Words: mobile, phone, japan, 2000, engaging",
          "<b>Topic 2</b><br>Words: mobile, bravely, conjugating, verbs, like",
          "<b>Topic 2</b><br>Words: mobile, learning, smartphones, assessments, ubiquitous",
          "<b>Topic 2</b><br>Words: mobile, self, app, learning, quot",
          "<b>Topic 2</b><br>Words: mobile, learning, vocabulary, assisted, app",
          "<b>Topic 2</b><br>Words: mobile, assisted, settings, recall, theory",
          "<b>Topic 2</b><br>Words: mobile, learning, class, self, difference",
          "<b>Topic 2</b><br>Words: mobile, learning, english, using, assisted",
          "<b>Topic 2</b><br>Words: release, duolingo, early, public, mobile"
         ],
         "marker": {
          "color": "#009E73"
         },
         "mode": "lines",
         "name": "2_mobile_learning_assisted_language",
         "type": "scatter",
         "x": [
          2012,
          2013,
          2014,
          2015,
          2016,
          2017,
          2018,
          2019,
          2020,
          2021,
          2022,
          2023
         ],
         "y": [
          3,
          11,
          4,
          3,
          3,
          5,
          5,
          7,
          2,
          5,
          8,
          1
         ]
        },
        {
         "hoverinfo": "text",
         "hovertext": [
          "<b>Topic 3</b><br>Words: online, autonomy, required, subject, challenging",
          "<b>Topic 3</b><br>Words: emic, informal, complex, understanding, dynamic",
          "<b>Topic 3</b><br>Words: quot, purposing, reach, deutsche, interaktiv",
          "<b>Topic 3</b><br>Words: online, face, trained, oile, candidate",
          "<b>Topic 3</b><br>Words: online, develop, teaching, language, an",
          "<b>Topic 3</b><br>Words: guide, task, teaching, teachers, online",
          "<b>Topic 3</b><br>Words: online, analytics, student, courses, program",
          "<b>Topic 3</b><br>Words: informal, digital, wilds, bronies, riding",
          "<b>Topic 3</b><br>Words: vision, languages, making, professional, teaching",
          "<b>Topic 3</b><br>Words: quality, online, mooc, retention, factors",
          "<b>Topic 3</b><br>Words: online, moocs, accessibility, collective, semi",
          "<b>Topic 3</b><br>Words: online, mobiles, semiotics, gray, materialist"
         ],
         "marker": {
          "color": "#F0E442"
         },
         "mode": "lines",
         "name": "3_online_language_learning_of",
         "type": "scatter",
         "x": [
          2012,
          2013,
          2014,
          2015,
          2016,
          2017,
          2018,
          2019,
          2020,
          2021,
          2022,
          2023
         ],
         "y": [
          6,
          1,
          2,
          4,
          7,
          1,
          6,
          4,
          1,
          6,
          5,
          4
         ]
        },
        {
         "hoverinfo": "text",
         "hovertext": [
          "<b>Topic 4</b><br>Words: game, playing, world, warcraft, games",
          "<b>Topic 4</b><br>Words: play, learn, gaming, culture, to",
          "<b>Topic 4</b><br>Words: game, digital, games, gaming, food",
          "<b>Topic 4</b><br>Words: used, game, multiplayer, massively, games",
          "<b>Topic 4</b><br>Words: game, games, european, skilled, recurrent",
          "<b>Topic 4</b><br>Words: game, gaming, digital, connectivity, encouraging",
          "<b>Topic 4</b><br>Words: game, rats, activate, upper, gaming",
          "<b>Topic 4</b><br>Words: games, game, digital, anime, should",
          "<b>Topic 4</b><br>Words: game, digital, games, supportive, expressions",
          "<b>Topic 4</b><br>Words: game, guerrilla, gamers, catalan, fan",
          "<b>Topic 4</b><br>Words: game, environments, digital, games, dgbll",
          "<b>Topic 4</b><br>Words: game, phrasal, pc, massively, multiplayer"
         ],
         "marker": {
          "color": "#D55E00"
         },
         "mode": "lines",
         "name": "4_game_games_digital_playing",
         "type": "scatter",
         "x": [
          2012,
          2013,
          2014,
          2015,
          2016,
          2017,
          2018,
          2019,
          2020,
          2021,
          2022,
          2023
         ],
         "y": [
          7,
          1,
          4,
          2,
          3,
          6,
          2,
          4,
          4,
          4,
          4,
          3
         ]
        },
        {
         "hoverinfo": "text",
         "hovertext": [
          "<b>Topic 5</b><br>Words: pronunciation, memorization, stroke, animation, flashcards",
          "<b>Topic 5</b><br>Words: selection, mispronunciation, unsupervised, accented, efficient",
          "<b>Topic 5</b><br>Words: implication, acoustic, pronunciation, spectrographic, tongue",
          "<b>Topic 5</b><br>Words: pronunciation, speech, recognition, word, japanese",
          "<b>Topic 5</b><br>Words: pronunciation, training, instruction, duration, capt",
          "<b>Topic 5</b><br>Words: wrs, speech, pronunciation, word, mispronounced",
          "<b>Topic 5</b><br>Words: pronunciation, fossilised, podcast, asr, dictation",
          "<b>Topic 5</b><br>Words: pronunciation, assistants, intelligent, personal, instruction",
          "<b>Topic 5</b><br>Words: phonological, allophonic, transcription, association, awareness",
          "<b>Topic 5</b><br>Words: pronunciation, speech, quot, recognition, asr",
          "<b>Topic 5</b><br>Words: pronunciation, automatic, speech, recognition, conflicting"
         ],
         "marker": {
          "color": "#0072B2"
         },
         "mode": "lines",
         "name": "5_pronunciation_speech_training_recognit...",
         "type": "scatter",
         "x": [
          2012,
          2013,
          2014,
          2015,
          2016,
          2017,
          2019,
          2020,
          2021,
          2022,
          2023
         ],
         "y": [
          3,
          2,
          2,
          5,
          5,
          3,
          3,
          6,
          2,
          6,
          4
         ]
        },
        {
         "hoverinfo": "text",
         "hovertext": [
          "<b>Topic 6</b><br>Words: native, video, multimodal, videoconferencing, videoconferenced",
          "<b>Topic 6</b><br>Words: multimodal, interactions, webcams, gaze, videoconferencing",
          "<b>Topic 6</b><br>Words: conferencing, experimental, during, video, corrective",
          "<b>Topic 6</b><br>Words: multimodality, subversion, sustaining, intersection, multimodal",
          "<b>Topic 6</b><br>Words: multimodal, videoconferencing, challenges, video, webcam",
          "<b>Topic 6</b><br>Words: multimodal, transcribing, webcam, sharing, agency",
          "<b>Topic 6</b><br>Words: multimodal, video, statistically, visualizations, managing",
          "<b>Topic 6</b><br>Words: rural, provision, regional, networked, videoconferencing",
          "<b>Topic 6</b><br>Words: videoconferencing, mediating, verbal, multimodal, ensemble",
          "<b>Topic 6</b><br>Words: multimodal, videoconferencing, via, instructions, inter",
          "<b>Topic 6</b><br>Words: peers, webconference, oracy, produced, unknown",
          "<b>Topic 6</b><br>Words: multimodal, locality, film, episodes, documentary"
         ],
         "marker": {
          "color": "#CC79A7"
         },
         "mode": "lines",
         "name": "6_multimodal_videoconferencing_video_int...",
         "type": "scatter",
         "x": [
          2012,
          2013,
          2014,
          2015,
          2016,
          2017,
          2018,
          2019,
          2020,
          2021,
          2022,
          2023
         ],
         "y": [
          5,
          3,
          1,
          2,
          5,
          3,
          3,
          1,
          3,
          5,
          3,
          3
         ]
        },
        {
         "hoverinfo": "text",
         "hovertext": [
          "<b>Topic 7</b><br>Words: telecollaboration, hegemonic, issues, power, dialogue",
          "<b>Topic 7</b><br>Words: telecollaboration, gaps, filling, sino, telecollaborative",
          "<b>Topic 7</b><br>Words: telecollaboration, service, cross, telecollaborate, keypal",
          "<b>Topic 7</b><br>Words: telecollaboration, pedagogical, telecollaborative, matching, all",
          "<b>Topic 7</b><br>Words: telecollaboration, lingua, franca, mediator, methodological",
          "<b>Topic 7</b><br>Words: telecollaboration, intercultural, telecollaborative, practice, 2010",
          "<b>Topic 7</b><br>Words: telecollaboration, intercultural, competence, telecollaborative, background",
          "<b>Topic 7</b><br>Words: telecollaboration, intercultural, successful, usa, prospective",
          "<b>Topic 7</b><br>Words: telecollaborative, telecollaboration, intercultural, american, identities",
          "<b>Topic 7</b><br>Words: telecollaboration, 56, multinational, 2010, methodologies",
          "<b>Topic 7</b><br>Words: telecollaboration, kuwaiti, competences, telecollaborative, raising"
         ],
         "marker": {
          "color": "#E69F00"
         },
         "mode": "lines",
         "name": "7_telecollaboration_intercultural_teleco...",
         "type": "scatter",
         "x": [
          2012,
          2013,
          2015,
          2016,
          2017,
          2018,
          2019,
          2020,
          2021,
          2022,
          2023
         ],
         "y": [
          2,
          2,
          4,
          4,
          3,
          5,
          6,
          4,
          3,
          2,
          2
         ]
        },
        {
         "hoverinfo": "text",
         "hovertext": [
          "<b>Topic 8</b><br>Words: product, exploiting, phraseological, letters, prototype",
          "<b>Topic 8</b><br>Words: driven, data, induction, discovering, guided",
          "<b>Topic 8</b><br>Words: dictionaries, collocations, symmetrical, asymmetrical, concordancing",
          "<b>Topic 8</b><br>Words: driven, data, collocations, collocation, for",
          "<b>Topic 8</b><br>Words: data, driven, dictionaries, concordance, limits",
          "<b>Topic 8</b><br>Words: unlearning, overgenerated, driven, data, comprehend",
          "<b>Topic 8</b><br>Words: driven, data, dictionaries, query, deductive",
          "<b>Topic 8</b><br>Words: ambiguity, tolerance, below, bundles, c1",
          "<b>Topic 8</b><br>Words: collocation, data, driven, query, identifying"
         ],
         "marker": {
          "color": "#56B4E9"
         },
         "mode": "lines",
         "name": "8_data_driven_collocation_dictionaries",
         "type": "scatter",
         "x": [
          2012,
          2014,
          2015,
          2016,
          2017,
          2018,
          2019,
          2020,
          2021
         ],
         "y": [
          2,
          2,
          4,
          7,
          7,
          2,
          4,
          2,
          5
         ]
        },
        {
         "hoverinfo": "text",
         "hovertext": [
          "<b>Topic 9</b><br>Words: tesol, building, education, skills, teacher",
          "<b>Topic 9</b><br>Words: imperative, technological, taught, computers, teaching",
          "<b>Topic 9</b><br>Words: technology, encouragement, inspiration, barriers, ideas",
          "<b>Topic 9</b><br>Words: mindsets, personal, life, technology, teachers",
          "<b>Topic 9</b><br>Words: technological, pedagogical, content, technology, knowledge",
          "<b>Topic 9</b><br>Words: survey, teachers, pedagogical, technological, tpack",
          "<b>Topic 9</b><br>Words: technology, technological, fosters, question, perceives",
          "<b>Topic 9</b><br>Words: technology, discourses, bigger, picture, states",
          "<b>Topic 9</b><br>Words: technology, poland, portugal, ict, turkey",
          "<b>Topic 9</b><br>Words: teachers, iot, continuance, toys, authoring",
          "<b>Topic 9</b><br>Words: technology, adoption, teachers, tpack, educational",
          "<b>Topic 9</b><br>Words: signature, defining, principles, pedagogy, its"
         ],
         "marker": {
          "color": "#009E73"
         },
         "mode": "lines",
         "name": "9_technology_teachers_technological_teac...",
         "type": "scatter",
         "x": [
          2012,
          2013,
          2014,
          2015,
          2016,
          2017,
          2018,
          2019,
          2020,
          2021,
          2022,
          2023
         ],
         "y": [
          1,
          2,
          3,
          1,
          6,
          3,
          3,
          2,
          3,
          3,
          6,
          1
         ]
        }
       ],
       "layout": {
        "height": 450,
        "hoverlabel": {
         "bgcolor": "white",
         "font": {
          "family": "Rockwell",
          "size": 16
         }
        },
        "legend": {
         "title": {
          "text": "<b>Global Topic Representation"
         }
        },
        "template": {
         "data": {
          "bar": [
           {
            "error_x": {
             "color": "rgb(36,36,36)"
            },
            "error_y": {
             "color": "rgb(36,36,36)"
            },
            "marker": {
             "line": {
              "color": "white",
              "width": 0.5
             },
             "pattern": {
              "fillmode": "overlay",
              "size": 10,
              "solidity": 0.2
             }
            },
            "type": "bar"
           }
          ],
          "barpolar": [
           {
            "marker": {
             "line": {
              "color": "white",
              "width": 0.5
             },
             "pattern": {
              "fillmode": "overlay",
              "size": 10,
              "solidity": 0.2
             }
            },
            "type": "barpolar"
           }
          ],
          "carpet": [
           {
            "aaxis": {
             "endlinecolor": "rgb(36,36,36)",
             "gridcolor": "white",
             "linecolor": "white",
             "minorgridcolor": "white",
             "startlinecolor": "rgb(36,36,36)"
            },
            "baxis": {
             "endlinecolor": "rgb(36,36,36)",
             "gridcolor": "white",
             "linecolor": "white",
             "minorgridcolor": "white",
             "startlinecolor": "rgb(36,36,36)"
            },
            "type": "carpet"
           }
          ],
          "choropleth": [
           {
            "colorbar": {
             "outlinewidth": 1,
             "tickcolor": "rgb(36,36,36)",
             "ticks": "outside"
            },
            "type": "choropleth"
           }
          ],
          "contour": [
           {
            "colorbar": {
             "outlinewidth": 1,
             "tickcolor": "rgb(36,36,36)",
             "ticks": "outside"
            },
            "colorscale": [
             [
              0,
              "#440154"
             ],
             [
              0.1111111111111111,
              "#482878"
             ],
             [
              0.2222222222222222,
              "#3e4989"
             ],
             [
              0.3333333333333333,
              "#31688e"
             ],
             [
              0.4444444444444444,
              "#26828e"
             ],
             [
              0.5555555555555556,
              "#1f9e89"
             ],
             [
              0.6666666666666666,
              "#35b779"
             ],
             [
              0.7777777777777778,
              "#6ece58"
             ],
             [
              0.8888888888888888,
              "#b5de2b"
             ],
             [
              1,
              "#fde725"
             ]
            ],
            "type": "contour"
           }
          ],
          "contourcarpet": [
           {
            "colorbar": {
             "outlinewidth": 1,
             "tickcolor": "rgb(36,36,36)",
             "ticks": "outside"
            },
            "type": "contourcarpet"
           }
          ],
          "heatmap": [
           {
            "colorbar": {
             "outlinewidth": 1,
             "tickcolor": "rgb(36,36,36)",
             "ticks": "outside"
            },
            "colorscale": [
             [
              0,
              "#440154"
             ],
             [
              0.1111111111111111,
              "#482878"
             ],
             [
              0.2222222222222222,
              "#3e4989"
             ],
             [
              0.3333333333333333,
              "#31688e"
             ],
             [
              0.4444444444444444,
              "#26828e"
             ],
             [
              0.5555555555555556,
              "#1f9e89"
             ],
             [
              0.6666666666666666,
              "#35b779"
             ],
             [
              0.7777777777777778,
              "#6ece58"
             ],
             [
              0.8888888888888888,
              "#b5de2b"
             ],
             [
              1,
              "#fde725"
             ]
            ],
            "type": "heatmap"
           }
          ],
          "heatmapgl": [
           {
            "colorbar": {
             "outlinewidth": 1,
             "tickcolor": "rgb(36,36,36)",
             "ticks": "outside"
            },
            "colorscale": [
             [
              0,
              "#440154"
             ],
             [
              0.1111111111111111,
              "#482878"
             ],
             [
              0.2222222222222222,
              "#3e4989"
             ],
             [
              0.3333333333333333,
              "#31688e"
             ],
             [
              0.4444444444444444,
              "#26828e"
             ],
             [
              0.5555555555555556,
              "#1f9e89"
             ],
             [
              0.6666666666666666,
              "#35b779"
             ],
             [
              0.7777777777777778,
              "#6ece58"
             ],
             [
              0.8888888888888888,
              "#b5de2b"
             ],
             [
              1,
              "#fde725"
             ]
            ],
            "type": "heatmapgl"
           }
          ],
          "histogram": [
           {
            "marker": {
             "line": {
              "color": "white",
              "width": 0.6
             }
            },
            "type": "histogram"
           }
          ],
          "histogram2d": [
           {
            "colorbar": {
             "outlinewidth": 1,
             "tickcolor": "rgb(36,36,36)",
             "ticks": "outside"
            },
            "colorscale": [
             [
              0,
              "#440154"
             ],
             [
              0.1111111111111111,
              "#482878"
             ],
             [
              0.2222222222222222,
              "#3e4989"
             ],
             [
              0.3333333333333333,
              "#31688e"
             ],
             [
              0.4444444444444444,
              "#26828e"
             ],
             [
              0.5555555555555556,
              "#1f9e89"
             ],
             [
              0.6666666666666666,
              "#35b779"
             ],
             [
              0.7777777777777778,
              "#6ece58"
             ],
             [
              0.8888888888888888,
              "#b5de2b"
             ],
             [
              1,
              "#fde725"
             ]
            ],
            "type": "histogram2d"
           }
          ],
          "histogram2dcontour": [
           {
            "colorbar": {
             "outlinewidth": 1,
             "tickcolor": "rgb(36,36,36)",
             "ticks": "outside"
            },
            "colorscale": [
             [
              0,
              "#440154"
             ],
             [
              0.1111111111111111,
              "#482878"
             ],
             [
              0.2222222222222222,
              "#3e4989"
             ],
             [
              0.3333333333333333,
              "#31688e"
             ],
             [
              0.4444444444444444,
              "#26828e"
             ],
             [
              0.5555555555555556,
              "#1f9e89"
             ],
             [
              0.6666666666666666,
              "#35b779"
             ],
             [
              0.7777777777777778,
              "#6ece58"
             ],
             [
              0.8888888888888888,
              "#b5de2b"
             ],
             [
              1,
              "#fde725"
             ]
            ],
            "type": "histogram2dcontour"
           }
          ],
          "mesh3d": [
           {
            "colorbar": {
             "outlinewidth": 1,
             "tickcolor": "rgb(36,36,36)",
             "ticks": "outside"
            },
            "type": "mesh3d"
           }
          ],
          "parcoords": [
           {
            "line": {
             "colorbar": {
              "outlinewidth": 1,
              "tickcolor": "rgb(36,36,36)",
              "ticks": "outside"
             }
            },
            "type": "parcoords"
           }
          ],
          "pie": [
           {
            "automargin": true,
            "type": "pie"
           }
          ],
          "scatter": [
           {
            "fillpattern": {
             "fillmode": "overlay",
             "size": 10,
             "solidity": 0.2
            },
            "type": "scatter"
           }
          ],
          "scatter3d": [
           {
            "line": {
             "colorbar": {
              "outlinewidth": 1,
              "tickcolor": "rgb(36,36,36)",
              "ticks": "outside"
             }
            },
            "marker": {
             "colorbar": {
              "outlinewidth": 1,
              "tickcolor": "rgb(36,36,36)",
              "ticks": "outside"
             }
            },
            "type": "scatter3d"
           }
          ],
          "scattercarpet": [
           {
            "marker": {
             "colorbar": {
              "outlinewidth": 1,
              "tickcolor": "rgb(36,36,36)",
              "ticks": "outside"
             }
            },
            "type": "scattercarpet"
           }
          ],
          "scattergeo": [
           {
            "marker": {
             "colorbar": {
              "outlinewidth": 1,
              "tickcolor": "rgb(36,36,36)",
              "ticks": "outside"
             }
            },
            "type": "scattergeo"
           }
          ],
          "scattergl": [
           {
            "marker": {
             "colorbar": {
              "outlinewidth": 1,
              "tickcolor": "rgb(36,36,36)",
              "ticks": "outside"
             }
            },
            "type": "scattergl"
           }
          ],
          "scattermapbox": [
           {
            "marker": {
             "colorbar": {
              "outlinewidth": 1,
              "tickcolor": "rgb(36,36,36)",
              "ticks": "outside"
             }
            },
            "type": "scattermapbox"
           }
          ],
          "scatterpolar": [
           {
            "marker": {
             "colorbar": {
              "outlinewidth": 1,
              "tickcolor": "rgb(36,36,36)",
              "ticks": "outside"
             }
            },
            "type": "scatterpolar"
           }
          ],
          "scatterpolargl": [
           {
            "marker": {
             "colorbar": {
              "outlinewidth": 1,
              "tickcolor": "rgb(36,36,36)",
              "ticks": "outside"
             }
            },
            "type": "scatterpolargl"
           }
          ],
          "scatterternary": [
           {
            "marker": {
             "colorbar": {
              "outlinewidth": 1,
              "tickcolor": "rgb(36,36,36)",
              "ticks": "outside"
             }
            },
            "type": "scatterternary"
           }
          ],
          "surface": [
           {
            "colorbar": {
             "outlinewidth": 1,
             "tickcolor": "rgb(36,36,36)",
             "ticks": "outside"
            },
            "colorscale": [
             [
              0,
              "#440154"
             ],
             [
              0.1111111111111111,
              "#482878"
             ],
             [
              0.2222222222222222,
              "#3e4989"
             ],
             [
              0.3333333333333333,
              "#31688e"
             ],
             [
              0.4444444444444444,
              "#26828e"
             ],
             [
              0.5555555555555556,
              "#1f9e89"
             ],
             [
              0.6666666666666666,
              "#35b779"
             ],
             [
              0.7777777777777778,
              "#6ece58"
             ],
             [
              0.8888888888888888,
              "#b5de2b"
             ],
             [
              1,
              "#fde725"
             ]
            ],
            "type": "surface"
           }
          ],
          "table": [
           {
            "cells": {
             "fill": {
              "color": "rgb(237,237,237)"
             },
             "line": {
              "color": "white"
             }
            },
            "header": {
             "fill": {
              "color": "rgb(217,217,217)"
             },
             "line": {
              "color": "white"
             }
            },
            "type": "table"
           }
          ]
         },
         "layout": {
          "annotationdefaults": {
           "arrowhead": 0,
           "arrowwidth": 1
          },
          "autotypenumbers": "strict",
          "coloraxis": {
           "colorbar": {
            "outlinewidth": 1,
            "tickcolor": "rgb(36,36,36)",
            "ticks": "outside"
           }
          },
          "colorscale": {
           "diverging": [
            [
             0,
             "rgb(103,0,31)"
            ],
            [
             0.1,
             "rgb(178,24,43)"
            ],
            [
             0.2,
             "rgb(214,96,77)"
            ],
            [
             0.3,
             "rgb(244,165,130)"
            ],
            [
             0.4,
             "rgb(253,219,199)"
            ],
            [
             0.5,
             "rgb(247,247,247)"
            ],
            [
             0.6,
             "rgb(209,229,240)"
            ],
            [
             0.7,
             "rgb(146,197,222)"
            ],
            [
             0.8,
             "rgb(67,147,195)"
            ],
            [
             0.9,
             "rgb(33,102,172)"
            ],
            [
             1,
             "rgb(5,48,97)"
            ]
           ],
           "sequential": [
            [
             0,
             "#440154"
            ],
            [
             0.1111111111111111,
             "#482878"
            ],
            [
             0.2222222222222222,
             "#3e4989"
            ],
            [
             0.3333333333333333,
             "#31688e"
            ],
            [
             0.4444444444444444,
             "#26828e"
            ],
            [
             0.5555555555555556,
             "#1f9e89"
            ],
            [
             0.6666666666666666,
             "#35b779"
            ],
            [
             0.7777777777777778,
             "#6ece58"
            ],
            [
             0.8888888888888888,
             "#b5de2b"
            ],
            [
             1,
             "#fde725"
            ]
           ],
           "sequentialminus": [
            [
             0,
             "#440154"
            ],
            [
             0.1111111111111111,
             "#482878"
            ],
            [
             0.2222222222222222,
             "#3e4989"
            ],
            [
             0.3333333333333333,
             "#31688e"
            ],
            [
             0.4444444444444444,
             "#26828e"
            ],
            [
             0.5555555555555556,
             "#1f9e89"
            ],
            [
             0.6666666666666666,
             "#35b779"
            ],
            [
             0.7777777777777778,
             "#6ece58"
            ],
            [
             0.8888888888888888,
             "#b5de2b"
            ],
            [
             1,
             "#fde725"
            ]
           ]
          },
          "colorway": [
           "#1F77B4",
           "#FF7F0E",
           "#2CA02C",
           "#D62728",
           "#9467BD",
           "#8C564B",
           "#E377C2",
           "#7F7F7F",
           "#BCBD22",
           "#17BECF"
          ],
          "font": {
           "color": "rgb(36,36,36)"
          },
          "geo": {
           "bgcolor": "white",
           "lakecolor": "white",
           "landcolor": "white",
           "showlakes": true,
           "showland": true,
           "subunitcolor": "white"
          },
          "hoverlabel": {
           "align": "left"
          },
          "hovermode": "closest",
          "mapbox": {
           "style": "light"
          },
          "paper_bgcolor": "white",
          "plot_bgcolor": "white",
          "polar": {
           "angularaxis": {
            "gridcolor": "rgb(232,232,232)",
            "linecolor": "rgb(36,36,36)",
            "showgrid": false,
            "showline": true,
            "ticks": "outside"
           },
           "bgcolor": "white",
           "radialaxis": {
            "gridcolor": "rgb(232,232,232)",
            "linecolor": "rgb(36,36,36)",
            "showgrid": false,
            "showline": true,
            "ticks": "outside"
           }
          },
          "scene": {
           "xaxis": {
            "backgroundcolor": "white",
            "gridcolor": "rgb(232,232,232)",
            "gridwidth": 2,
            "linecolor": "rgb(36,36,36)",
            "showbackground": true,
            "showgrid": false,
            "showline": true,
            "ticks": "outside",
            "zeroline": false,
            "zerolinecolor": "rgb(36,36,36)"
           },
           "yaxis": {
            "backgroundcolor": "white",
            "gridcolor": "rgb(232,232,232)",
            "gridwidth": 2,
            "linecolor": "rgb(36,36,36)",
            "showbackground": true,
            "showgrid": false,
            "showline": true,
            "ticks": "outside",
            "zeroline": false,
            "zerolinecolor": "rgb(36,36,36)"
           },
           "zaxis": {
            "backgroundcolor": "white",
            "gridcolor": "rgb(232,232,232)",
            "gridwidth": 2,
            "linecolor": "rgb(36,36,36)",
            "showbackground": true,
            "showgrid": false,
            "showline": true,
            "ticks": "outside",
            "zeroline": false,
            "zerolinecolor": "rgb(36,36,36)"
           }
          },
          "shapedefaults": {
           "fillcolor": "black",
           "line": {
            "width": 0
           },
           "opacity": 0.3
          },
          "ternary": {
           "aaxis": {
            "gridcolor": "rgb(232,232,232)",
            "linecolor": "rgb(36,36,36)",
            "showgrid": false,
            "showline": true,
            "ticks": "outside"
           },
           "baxis": {
            "gridcolor": "rgb(232,232,232)",
            "linecolor": "rgb(36,36,36)",
            "showgrid": false,
            "showline": true,
            "ticks": "outside"
           },
           "bgcolor": "white",
           "caxis": {
            "gridcolor": "rgb(232,232,232)",
            "linecolor": "rgb(36,36,36)",
            "showgrid": false,
            "showline": true,
            "ticks": "outside"
           }
          },
          "title": {
           "x": 0.05
          },
          "xaxis": {
           "automargin": true,
           "gridcolor": "rgb(232,232,232)",
           "linecolor": "rgb(36,36,36)",
           "showgrid": false,
           "showline": true,
           "ticks": "outside",
           "title": {
            "standoff": 15
           },
           "zeroline": false,
           "zerolinecolor": "rgb(36,36,36)"
          },
          "yaxis": {
           "automargin": true,
           "gridcolor": "rgb(232,232,232)",
           "linecolor": "rgb(36,36,36)",
           "showgrid": false,
           "showline": true,
           "ticks": "outside",
           "title": {
            "standoff": 15
           },
           "zeroline": false,
           "zerolinecolor": "rgb(36,36,36)"
          }
         }
        },
        "title": {
         "font": {
          "color": "Black",
          "size": 22
         },
         "text": "<b>Topics over Time</b>",
         "x": 0.4,
         "xanchor": "center",
         "y": 0.95,
         "yanchor": "top"
        },
        "width": 1250,
        "xaxis": {
         "showgrid": true
        },
        "yaxis": {
         "showgrid": true,
         "title": {
          "text": "Frequency"
         }
        }
       }
      }
     },
     "metadata": {},
     "output_type": "display_data"
    }
   ],
   "source": [
    "model.visualize_topics_over_time(topics_over_time, topics=[0, 1, 2, 3, 4, 5, 6, 7, 8, 9])\n",
    "#can innclude topics changing topics_over_time TO topics_over_time, topics=[x, y, z, etc.]"
   ]
  },
  {
   "cell_type": "code",
   "execution_count": 16,
   "metadata": {},
   "outputs": [
    {
     "data": {
      "application/vnd.plotly.v1+json": {
       "config": {
        "plotlyServerURL": "https://plot.ly"
       },
       "data": [
        {
         "hoverinfo": "text",
         "hovertext": [
          "<b>Topic 10</b><br>Words: language, technology, computer, 2006, visibilization",
          "<b>Topic 10</b><br>Words: environmental, sweden, computer, affecting, success",
          "<b>Topic 10</b><br>Words: adolescents, urban, among, technology, skills",
          "<b>Topic 10</b><br>Words: language, technology, learning, 20, technologies",
          "<b>Topic 10</b><br>Words: adaptivity, syllabi, technology, regarding, device",
          "<b>Topic 10</b><br>Words: technology, language, vary, prospect, stakeholder",
          "<b>Topic 10</b><br>Words: transdisciplinarity, adult, applications, educational, quality",
          "<b>Topic 10</b><br>Words: initiated, outcome, socioeconomic, monolingual, status",
          "<b>Topic 10</b><br>Words: zulu, assisted, evolving, package, modeling",
          "<b>Topic 10</b><br>Words: technologies, technology, review, language, 1977"
         ],
         "marker": {
          "color": "#E69F00"
         },
         "mode": "lines",
         "name": "10_technology_language_assisted_learning",
         "type": "scatter",
         "x": [
          2013,
          2014,
          2015,
          2016,
          2017,
          2018,
          2019,
          2020,
          2021,
          2022
         ],
         "y": [
          5,
          3,
          1,
          7,
          3,
          4,
          2,
          2,
          3,
          4
         ]
        },
        {
         "hoverinfo": "text",
         "hovertext": [
          "<b>Topic 11</b><br>Words: teenagers, captions, multimedia, effects, l2",
          "<b>Topic 11</b><br>Words: podcasting, itunes, supports, reliance, caption",
          "<b>Topic 11</b><br>Words: comprehension, listening, captions, video, captioned",
          "<b>Topic 11</b><br>Words: filtering, handheld, caption, adaptive, devices",
          "<b>Topic 11</b><br>Words: listening, several, preview, reduce, hearing",
          "<b>Topic 11</b><br>Words: comprehension, listening, captions, television, synchronized",
          "<b>Topic 11</b><br>Words: videos, metacognitive, captioned, listener, watching",
          "<b>Topic 11</b><br>Words: captions, comprehension, captioned, videos, maximizing",
          "<b>Topic 11</b><br>Words: captioned, videos, listening, comprehension, preference",
          "<b>Topic 11</b><br>Words: collegiate, vlogs, captions, podcasts, comprehension",
          "<b>Topic 11</b><br>Words: captions, video, comprehension, captioned, listening",
          "<b>Topic 11</b><br>Words: presentation, full, nonverbal, display, partial"
         ],
         "marker": {
          "color": "#56B4E9"
         },
         "mode": "lines",
         "name": "11_comprehension_captions_listening_capt...",
         "type": "scatter",
         "x": [
          2012,
          2013,
          2014,
          2015,
          2016,
          2017,
          2018,
          2019,
          2020,
          2021,
          2022,
          2023
         ],
         "y": [
          1,
          2,
          5,
          1,
          3,
          3,
          3,
          4,
          3,
          2,
          5,
          1
         ]
        },
        {
         "hoverinfo": "text",
         "hovertext": [
          "<b>Topic 12</b><br>Words: vocabulary, programme, opencourseware, card, lecture",
          "<b>Topic 12</b><br>Words: vocabulary, gloss, types, single, opencourseware",
          "<b>Topic 12</b><br>Words: incidental, glosses, vocabulary, simultaneous, display",
          "<b>Topic 12</b><br>Words: vocabulary, toeic, spaced, repetition, score",
          "<b>Topic 12</b><br>Words: vocabulary, texting, electronic, glosses, concordance",
          "<b>Topic 12</b><br>Words: contextualized, vocabulary, learning, gloss, glosses",
          "<b>Topic 12</b><br>Words: vocabulary, retention, mayer, afrikaans, richard",
          "<b>Topic 12</b><br>Words: image, facilitate, authentic, recognition, vocabulary",
          "<b>Topic 12</b><br>Words: gloss, vocabulary, dual, position, static",
          "<b>Topic 12</b><br>Words: vocabulary, quizlet, incidentally, wordlists, podcasts",
          "<b>Topic 12</b><br>Words: vocabulary, heterogeneous, arabic, intervention, texting"
         ],
         "marker": {
          "color": "#009E73"
         },
         "mode": "lines",
         "name": "12_vocabulary_gloss_glosses_effects",
         "type": "scatter",
         "x": [
          2012,
          2013,
          2014,
          2016,
          2017,
          2018,
          2019,
          2020,
          2021,
          2022,
          2023
         ],
         "y": [
          4,
          3,
          2,
          3,
          2,
          1,
          3,
          1,
          3,
          4,
          2
         ]
        },
        {
         "hoverinfo": "text",
         "hovertext": [
          "<b>Topic 13</b><br>Words: agenda, dimensional, worlds, three, virtual",
          "<b>Topic 13</b><br>Words: added, worlds, there, virtual, value",
          "<b>Topic 13</b><br>Words: virtual, 3d, london, worlds, contextual",
          "<b>Topic 13</b><br>Words: 3d, irish, reality, engaging, annotated",
          "<b>Topic 13</b><br>Words: virtual, world, 3d, calc, windows",
          "<b>Topic 13</b><br>Words: cases, 3d, csl, simulated, three",
          "<b>Topic 13</b><br>Words: virtual, 3d, reality, worlds, earth",
          "<b>Topic 13</b><br>Words: immersive, reality, 3d, virtual, quot",
          "<b>Topic 13</b><br>Words: reality, virtual, immersive, traveling, headset",
          "<b>Topic 13</b><br>Words: reality, virtual, immersive, sky, clil"
         ],
         "marker": {
          "color": "#F0E442"
         },
         "mode": "lines",
         "name": "13_virtual_reality_3d_immersive",
         "type": "scatter",
         "x": [
          2012,
          2013,
          2015,
          2016,
          2018,
          2019,
          2020,
          2021,
          2022,
          2023
         ],
         "y": [
          1,
          1,
          3,
          2,
          2,
          2,
          4,
          4,
          4,
          3
         ]
        },
        {
         "hoverinfo": "text",
         "hovertext": [
          "<b>Topic 14</b><br>Words: shifting, vles, contested, tutor, space",
          "<b>Topic 14</b><br>Words: professional, german, virtual, development, environment",
          "<b>Topic 14</b><br>Words: socio, presence, cognitive, synchronous, social",
          "<b>Topic 14</b><br>Words: multiuser, takes, ongoing, build, scholars",
          "<b>Topic 14</b><br>Words: borderlands, languaging, spaces, literacy, mapping",
          "<b>Topic 14</b><br>Words: presence, interaction, online, virtual, social",
          "<b>Topic 14</b><br>Words: formative, presence, exchange, virtual, blended",
          "<b>Topic 14</b><br>Words: community, fail, book, facebook, virtual",
          "<b>Topic 14</b><br>Words: exchange, virtual, professional, literacy, apos",
          "<b>Topic 14</b><br>Words: literacy, exchange, critical, virtual, interpretivist"
         ],
         "marker": {
          "color": "#D55E00"
         },
         "mode": "lines",
         "name": "14_virtual_exchange_professional_literac...",
         "type": "scatter",
         "x": [
          2012,
          2013,
          2014,
          2015,
          2016,
          2018,
          2019,
          2020,
          2022,
          2023
         ],
         "y": [
          1,
          4,
          1,
          3,
          1,
          5,
          1,
          1,
          6,
          2
         ]
        },
        {
         "hoverinfo": "text",
         "hovertext": [
          "<b>Topic 15</b><br>Words: readiness, hybrid, fl, attitudes, toward",
          "<b>Topic 15</b><br>Words: active, flipping, foster, classroom, flipped",
          "<b>Topic 15</b><br>Words: flipped, classroom, senior, elt, year",
          "<b>Topic 15</b><br>Words: flipped, classroom, chinese, flipping, mastery",
          "<b>Topic 15</b><br>Words: flipped, refusal, appropriate, achievement, perception",
          "<b>Topic 15</b><br>Words: flipped, classroom, quot, demotivation, if",
          "<b>Topic 15</b><br>Words: flipped, flipping, reversal, models, classroom",
          "<b>Topic 15</b><br>Words: flipped, classroom, model, review, classrooms",
          "<b>Topic 15</b><br>Words: anxiety, classroom, flipped, reading, foreign"
         ],
         "marker": {
          "color": "#0072B2"
         },
         "mode": "lines",
         "name": "15_flipped_classroom_flipping_classrooms",
         "type": "scatter",
         "x": [
          2012,
          2015,
          2017,
          2018,
          2019,
          2020,
          2021,
          2022,
          2023
         ],
         "y": [
          1,
          1,
          3,
          4,
          1,
          5,
          2,
          5,
          1
         ]
        },
        {
         "hoverinfo": "text",
         "hovertext": [
          "<b>Topic 16</b><br>Words: communication, oral, speak, mediated, beginning",
          "<b>Topic 16</b><br>Words: oral, ready, steady, speak, ipads",
          "<b>Topic 16</b><br>Words: affordance, oral, ecological, asynchronous, anxiety",
          "<b>Topic 16</b><br>Words: cmc, communication, oral, divide, individuals",
          "<b>Topic 16</b><br>Words: oral, performance, csl, beginners, voice",
          "<b>Topic 16</b><br>Words: oral, emotional, fuency, voicethread, proficiency",
          "<b>Topic 16</b><br>Words: oral, communication, refining, pragmatically, appropriate",
          "<b>Topic 16</b><br>Words: recording, oral, lower, voice, activities",
          "<b>Topic 16</b><br>Words: distance, oral, proficiency, language, english",
          "<b>Topic 16</b><br>Words: oral, shaping, seamless, me, say"
         ],
         "marker": {
          "color": "#CC79A7"
         },
         "mode": "lines",
         "name": "16_oral_communication_mediated_computer",
         "type": "scatter",
         "x": [
          2012,
          2013,
          2014,
          2015,
          2016,
          2017,
          2018,
          2019,
          2020,
          2022
         ],
         "y": [
          2,
          2,
          1,
          2,
          2,
          4,
          3,
          1,
          1,
          2
         ]
        },
        {
         "hoverinfo": "text",
         "hovertext": [
          "<b>Topic 17</b><br>Words: it, storytelling, piece, did, proud",
          "<b>Topic 17</b><br>Words: storytelling, digital, concerns, enjoyment, key",
          "<b>Topic 17</b><br>Words: structuring, mind, narratives, gameplay, story",
          "<b>Topic 17</b><br>Words: stories, storytelling, digital, bringing, facilitate",
          "<b>Topic 17</b><br>Words: funds, narrative, young, approach, practice",
          "<b>Topic 17</b><br>Words: storytelling, digital, stories, story, creative",
          "<b>Topic 17</b><br>Words: relational, stories, researching, account, identity",
          "<b>Topic 17</b><br>Words: story, storytelling, stage, six, structure",
          "<b>Topic 17</b><br>Words: storytelling, digital, interdisciplinary, creative, experienced",
          "<b>Topic 17</b><br>Words: dimensions, her, creativity, story, international"
         ],
         "marker": {
          "color": "#E69F00"
         },
         "mode": "lines",
         "name": "17_storytelling_digital_story_stories",
         "type": "scatter",
         "x": [
          2013,
          2014,
          2015,
          2016,
          2017,
          2019,
          2020,
          2021,
          2022,
          2023
         ],
         "y": [
          1,
          3,
          1,
          3,
          1,
          3,
          1,
          2,
          3,
          1
         ]
        },
        {
         "hoverinfo": "text",
         "hovertext": [
          "<b>Topic 18</b><br>Words: structure, exchange, activity, intercultural, analysis",
          "<b>Topic 18</b><br>Words: quot, believe, major, participant, nonnative",
          "<b>Topic 18</b><br>Words: born, nurses, web, intercultural, communicative",
          "<b>Topic 18</b><br>Words: morphologies, cultures, intercultural, communicative, exchange",
          "<b>Topic 18</b><br>Words: intercultural, phatic, cheap, communication, small",
          "<b>Topic 18</b><br>Words: intercultural, exchange, face, mis, gracias",
          "<b>Topic 18</b><br>Words: intercultural, methodologies, reflection, guided, affect",
          "<b>Topic 18</b><br>Words: intercultural, encounter, composition, varieties, mediator",
          "<b>Topic 18</b><br>Words: xr, room, insider, hands, cultures",
          "<b>Topic 18</b><br>Words: 23, large, reviewing, scale, virtual"
         ],
         "marker": {
          "color": "#56B4E9"
         },
         "mode": "lines",
         "name": "18_intercultural_exchange_communicative_...",
         "type": "scatter",
         "x": [
          2012,
          2013,
          2014,
          2016,
          2017,
          2018,
          2019,
          2020,
          2021,
          2022
         ],
         "y": [
          1,
          1,
          2,
          2,
          2,
          5,
          1,
          3,
          1,
          1
         ]
        },
        {
         "hoverinfo": "text",
         "hovertext": [
          "<b>Topic 19</b><br>Words: blended, generation, chaos, tutors, difficulties",
          "<b>Topic 19</b><br>Words: dilemmas, blended, experiences, teacher, learner",
          "<b>Topic 19</b><br>Words: blended, interpretation, appropriateness, explorations, areas",
          "<b>Topic 19</b><br>Words: blended, presence, participation, courses, spanish",
          "<b>Topic 19</b><br>Words: f2f, blended, comparing, roles, course",
          "<b>Topic 19</b><br>Words: blended, inquiry, porous, ownership, expanded",
          "<b>Topic 19</b><br>Words: blended, environment, university, perceptions, learner",
          "<b>Topic 19</b><br>Words: blended, indexed, inclusive, ssci, articles",
          "<b>Topic 19</b><br>Words: blended, dropping, stracke, 2007, college"
         ],
         "marker": {
          "color": "#009E73"
         },
         "mode": "lines",
         "name": "19_blended_learning_inquiry_college",
         "type": "scatter",
         "x": [
          2012,
          2013,
          2014,
          2018,
          2019,
          2020,
          2021,
          2022,
          2023
         ],
         "y": [
          5,
          1,
          3,
          1,
          1,
          3,
          1,
          2,
          2
         ]
        }
       ],
       "layout": {
        "height": 450,
        "hoverlabel": {
         "bgcolor": "white",
         "font": {
          "family": "Rockwell",
          "size": 16
         }
        },
        "legend": {
         "title": {
          "text": "<b>Global Topic Representation"
         }
        },
        "template": {
         "data": {
          "bar": [
           {
            "error_x": {
             "color": "rgb(36,36,36)"
            },
            "error_y": {
             "color": "rgb(36,36,36)"
            },
            "marker": {
             "line": {
              "color": "white",
              "width": 0.5
             },
             "pattern": {
              "fillmode": "overlay",
              "size": 10,
              "solidity": 0.2
             }
            },
            "type": "bar"
           }
          ],
          "barpolar": [
           {
            "marker": {
             "line": {
              "color": "white",
              "width": 0.5
             },
             "pattern": {
              "fillmode": "overlay",
              "size": 10,
              "solidity": 0.2
             }
            },
            "type": "barpolar"
           }
          ],
          "carpet": [
           {
            "aaxis": {
             "endlinecolor": "rgb(36,36,36)",
             "gridcolor": "white",
             "linecolor": "white",
             "minorgridcolor": "white",
             "startlinecolor": "rgb(36,36,36)"
            },
            "baxis": {
             "endlinecolor": "rgb(36,36,36)",
             "gridcolor": "white",
             "linecolor": "white",
             "minorgridcolor": "white",
             "startlinecolor": "rgb(36,36,36)"
            },
            "type": "carpet"
           }
          ],
          "choropleth": [
           {
            "colorbar": {
             "outlinewidth": 1,
             "tickcolor": "rgb(36,36,36)",
             "ticks": "outside"
            },
            "type": "choropleth"
           }
          ],
          "contour": [
           {
            "colorbar": {
             "outlinewidth": 1,
             "tickcolor": "rgb(36,36,36)",
             "ticks": "outside"
            },
            "colorscale": [
             [
              0,
              "#440154"
             ],
             [
              0.1111111111111111,
              "#482878"
             ],
             [
              0.2222222222222222,
              "#3e4989"
             ],
             [
              0.3333333333333333,
              "#31688e"
             ],
             [
              0.4444444444444444,
              "#26828e"
             ],
             [
              0.5555555555555556,
              "#1f9e89"
             ],
             [
              0.6666666666666666,
              "#35b779"
             ],
             [
              0.7777777777777778,
              "#6ece58"
             ],
             [
              0.8888888888888888,
              "#b5de2b"
             ],
             [
              1,
              "#fde725"
             ]
            ],
            "type": "contour"
           }
          ],
          "contourcarpet": [
           {
            "colorbar": {
             "outlinewidth": 1,
             "tickcolor": "rgb(36,36,36)",
             "ticks": "outside"
            },
            "type": "contourcarpet"
           }
          ],
          "heatmap": [
           {
            "colorbar": {
             "outlinewidth": 1,
             "tickcolor": "rgb(36,36,36)",
             "ticks": "outside"
            },
            "colorscale": [
             [
              0,
              "#440154"
             ],
             [
              0.1111111111111111,
              "#482878"
             ],
             [
              0.2222222222222222,
              "#3e4989"
             ],
             [
              0.3333333333333333,
              "#31688e"
             ],
             [
              0.4444444444444444,
              "#26828e"
             ],
             [
              0.5555555555555556,
              "#1f9e89"
             ],
             [
              0.6666666666666666,
              "#35b779"
             ],
             [
              0.7777777777777778,
              "#6ece58"
             ],
             [
              0.8888888888888888,
              "#b5de2b"
             ],
             [
              1,
              "#fde725"
             ]
            ],
            "type": "heatmap"
           }
          ],
          "heatmapgl": [
           {
            "colorbar": {
             "outlinewidth": 1,
             "tickcolor": "rgb(36,36,36)",
             "ticks": "outside"
            },
            "colorscale": [
             [
              0,
              "#440154"
             ],
             [
              0.1111111111111111,
              "#482878"
             ],
             [
              0.2222222222222222,
              "#3e4989"
             ],
             [
              0.3333333333333333,
              "#31688e"
             ],
             [
              0.4444444444444444,
              "#26828e"
             ],
             [
              0.5555555555555556,
              "#1f9e89"
             ],
             [
              0.6666666666666666,
              "#35b779"
             ],
             [
              0.7777777777777778,
              "#6ece58"
             ],
             [
              0.8888888888888888,
              "#b5de2b"
             ],
             [
              1,
              "#fde725"
             ]
            ],
            "type": "heatmapgl"
           }
          ],
          "histogram": [
           {
            "marker": {
             "line": {
              "color": "white",
              "width": 0.6
             }
            },
            "type": "histogram"
           }
          ],
          "histogram2d": [
           {
            "colorbar": {
             "outlinewidth": 1,
             "tickcolor": "rgb(36,36,36)",
             "ticks": "outside"
            },
            "colorscale": [
             [
              0,
              "#440154"
             ],
             [
              0.1111111111111111,
              "#482878"
             ],
             [
              0.2222222222222222,
              "#3e4989"
             ],
             [
              0.3333333333333333,
              "#31688e"
             ],
             [
              0.4444444444444444,
              "#26828e"
             ],
             [
              0.5555555555555556,
              "#1f9e89"
             ],
             [
              0.6666666666666666,
              "#35b779"
             ],
             [
              0.7777777777777778,
              "#6ece58"
             ],
             [
              0.8888888888888888,
              "#b5de2b"
             ],
             [
              1,
              "#fde725"
             ]
            ],
            "type": "histogram2d"
           }
          ],
          "histogram2dcontour": [
           {
            "colorbar": {
             "outlinewidth": 1,
             "tickcolor": "rgb(36,36,36)",
             "ticks": "outside"
            },
            "colorscale": [
             [
              0,
              "#440154"
             ],
             [
              0.1111111111111111,
              "#482878"
             ],
             [
              0.2222222222222222,
              "#3e4989"
             ],
             [
              0.3333333333333333,
              "#31688e"
             ],
             [
              0.4444444444444444,
              "#26828e"
             ],
             [
              0.5555555555555556,
              "#1f9e89"
             ],
             [
              0.6666666666666666,
              "#35b779"
             ],
             [
              0.7777777777777778,
              "#6ece58"
             ],
             [
              0.8888888888888888,
              "#b5de2b"
             ],
             [
              1,
              "#fde725"
             ]
            ],
            "type": "histogram2dcontour"
           }
          ],
          "mesh3d": [
           {
            "colorbar": {
             "outlinewidth": 1,
             "tickcolor": "rgb(36,36,36)",
             "ticks": "outside"
            },
            "type": "mesh3d"
           }
          ],
          "parcoords": [
           {
            "line": {
             "colorbar": {
              "outlinewidth": 1,
              "tickcolor": "rgb(36,36,36)",
              "ticks": "outside"
             }
            },
            "type": "parcoords"
           }
          ],
          "pie": [
           {
            "automargin": true,
            "type": "pie"
           }
          ],
          "scatter": [
           {
            "fillpattern": {
             "fillmode": "overlay",
             "size": 10,
             "solidity": 0.2
            },
            "type": "scatter"
           }
          ],
          "scatter3d": [
           {
            "line": {
             "colorbar": {
              "outlinewidth": 1,
              "tickcolor": "rgb(36,36,36)",
              "ticks": "outside"
             }
            },
            "marker": {
             "colorbar": {
              "outlinewidth": 1,
              "tickcolor": "rgb(36,36,36)",
              "ticks": "outside"
             }
            },
            "type": "scatter3d"
           }
          ],
          "scattercarpet": [
           {
            "marker": {
             "colorbar": {
              "outlinewidth": 1,
              "tickcolor": "rgb(36,36,36)",
              "ticks": "outside"
             }
            },
            "type": "scattercarpet"
           }
          ],
          "scattergeo": [
           {
            "marker": {
             "colorbar": {
              "outlinewidth": 1,
              "tickcolor": "rgb(36,36,36)",
              "ticks": "outside"
             }
            },
            "type": "scattergeo"
           }
          ],
          "scattergl": [
           {
            "marker": {
             "colorbar": {
              "outlinewidth": 1,
              "tickcolor": "rgb(36,36,36)",
              "ticks": "outside"
             }
            },
            "type": "scattergl"
           }
          ],
          "scattermapbox": [
           {
            "marker": {
             "colorbar": {
              "outlinewidth": 1,
              "tickcolor": "rgb(36,36,36)",
              "ticks": "outside"
             }
            },
            "type": "scattermapbox"
           }
          ],
          "scatterpolar": [
           {
            "marker": {
             "colorbar": {
              "outlinewidth": 1,
              "tickcolor": "rgb(36,36,36)",
              "ticks": "outside"
             }
            },
            "type": "scatterpolar"
           }
          ],
          "scatterpolargl": [
           {
            "marker": {
             "colorbar": {
              "outlinewidth": 1,
              "tickcolor": "rgb(36,36,36)",
              "ticks": "outside"
             }
            },
            "type": "scatterpolargl"
           }
          ],
          "scatterternary": [
           {
            "marker": {
             "colorbar": {
              "outlinewidth": 1,
              "tickcolor": "rgb(36,36,36)",
              "ticks": "outside"
             }
            },
            "type": "scatterternary"
           }
          ],
          "surface": [
           {
            "colorbar": {
             "outlinewidth": 1,
             "tickcolor": "rgb(36,36,36)",
             "ticks": "outside"
            },
            "colorscale": [
             [
              0,
              "#440154"
             ],
             [
              0.1111111111111111,
              "#482878"
             ],
             [
              0.2222222222222222,
              "#3e4989"
             ],
             [
              0.3333333333333333,
              "#31688e"
             ],
             [
              0.4444444444444444,
              "#26828e"
             ],
             [
              0.5555555555555556,
              "#1f9e89"
             ],
             [
              0.6666666666666666,
              "#35b779"
             ],
             [
              0.7777777777777778,
              "#6ece58"
             ],
             [
              0.8888888888888888,
              "#b5de2b"
             ],
             [
              1,
              "#fde725"
             ]
            ],
            "type": "surface"
           }
          ],
          "table": [
           {
            "cells": {
             "fill": {
              "color": "rgb(237,237,237)"
             },
             "line": {
              "color": "white"
             }
            },
            "header": {
             "fill": {
              "color": "rgb(217,217,217)"
             },
             "line": {
              "color": "white"
             }
            },
            "type": "table"
           }
          ]
         },
         "layout": {
          "annotationdefaults": {
           "arrowhead": 0,
           "arrowwidth": 1
          },
          "autotypenumbers": "strict",
          "coloraxis": {
           "colorbar": {
            "outlinewidth": 1,
            "tickcolor": "rgb(36,36,36)",
            "ticks": "outside"
           }
          },
          "colorscale": {
           "diverging": [
            [
             0,
             "rgb(103,0,31)"
            ],
            [
             0.1,
             "rgb(178,24,43)"
            ],
            [
             0.2,
             "rgb(214,96,77)"
            ],
            [
             0.3,
             "rgb(244,165,130)"
            ],
            [
             0.4,
             "rgb(253,219,199)"
            ],
            [
             0.5,
             "rgb(247,247,247)"
            ],
            [
             0.6,
             "rgb(209,229,240)"
            ],
            [
             0.7,
             "rgb(146,197,222)"
            ],
            [
             0.8,
             "rgb(67,147,195)"
            ],
            [
             0.9,
             "rgb(33,102,172)"
            ],
            [
             1,
             "rgb(5,48,97)"
            ]
           ],
           "sequential": [
            [
             0,
             "#440154"
            ],
            [
             0.1111111111111111,
             "#482878"
            ],
            [
             0.2222222222222222,
             "#3e4989"
            ],
            [
             0.3333333333333333,
             "#31688e"
            ],
            [
             0.4444444444444444,
             "#26828e"
            ],
            [
             0.5555555555555556,
             "#1f9e89"
            ],
            [
             0.6666666666666666,
             "#35b779"
            ],
            [
             0.7777777777777778,
             "#6ece58"
            ],
            [
             0.8888888888888888,
             "#b5de2b"
            ],
            [
             1,
             "#fde725"
            ]
           ],
           "sequentialminus": [
            [
             0,
             "#440154"
            ],
            [
             0.1111111111111111,
             "#482878"
            ],
            [
             0.2222222222222222,
             "#3e4989"
            ],
            [
             0.3333333333333333,
             "#31688e"
            ],
            [
             0.4444444444444444,
             "#26828e"
            ],
            [
             0.5555555555555556,
             "#1f9e89"
            ],
            [
             0.6666666666666666,
             "#35b779"
            ],
            [
             0.7777777777777778,
             "#6ece58"
            ],
            [
             0.8888888888888888,
             "#b5de2b"
            ],
            [
             1,
             "#fde725"
            ]
           ]
          },
          "colorway": [
           "#1F77B4",
           "#FF7F0E",
           "#2CA02C",
           "#D62728",
           "#9467BD",
           "#8C564B",
           "#E377C2",
           "#7F7F7F",
           "#BCBD22",
           "#17BECF"
          ],
          "font": {
           "color": "rgb(36,36,36)"
          },
          "geo": {
           "bgcolor": "white",
           "lakecolor": "white",
           "landcolor": "white",
           "showlakes": true,
           "showland": true,
           "subunitcolor": "white"
          },
          "hoverlabel": {
           "align": "left"
          },
          "hovermode": "closest",
          "mapbox": {
           "style": "light"
          },
          "paper_bgcolor": "white",
          "plot_bgcolor": "white",
          "polar": {
           "angularaxis": {
            "gridcolor": "rgb(232,232,232)",
            "linecolor": "rgb(36,36,36)",
            "showgrid": false,
            "showline": true,
            "ticks": "outside"
           },
           "bgcolor": "white",
           "radialaxis": {
            "gridcolor": "rgb(232,232,232)",
            "linecolor": "rgb(36,36,36)",
            "showgrid": false,
            "showline": true,
            "ticks": "outside"
           }
          },
          "scene": {
           "xaxis": {
            "backgroundcolor": "white",
            "gridcolor": "rgb(232,232,232)",
            "gridwidth": 2,
            "linecolor": "rgb(36,36,36)",
            "showbackground": true,
            "showgrid": false,
            "showline": true,
            "ticks": "outside",
            "zeroline": false,
            "zerolinecolor": "rgb(36,36,36)"
           },
           "yaxis": {
            "backgroundcolor": "white",
            "gridcolor": "rgb(232,232,232)",
            "gridwidth": 2,
            "linecolor": "rgb(36,36,36)",
            "showbackground": true,
            "showgrid": false,
            "showline": true,
            "ticks": "outside",
            "zeroline": false,
            "zerolinecolor": "rgb(36,36,36)"
           },
           "zaxis": {
            "backgroundcolor": "white",
            "gridcolor": "rgb(232,232,232)",
            "gridwidth": 2,
            "linecolor": "rgb(36,36,36)",
            "showbackground": true,
            "showgrid": false,
            "showline": true,
            "ticks": "outside",
            "zeroline": false,
            "zerolinecolor": "rgb(36,36,36)"
           }
          },
          "shapedefaults": {
           "fillcolor": "black",
           "line": {
            "width": 0
           },
           "opacity": 0.3
          },
          "ternary": {
           "aaxis": {
            "gridcolor": "rgb(232,232,232)",
            "linecolor": "rgb(36,36,36)",
            "showgrid": false,
            "showline": true,
            "ticks": "outside"
           },
           "baxis": {
            "gridcolor": "rgb(232,232,232)",
            "linecolor": "rgb(36,36,36)",
            "showgrid": false,
            "showline": true,
            "ticks": "outside"
           },
           "bgcolor": "white",
           "caxis": {
            "gridcolor": "rgb(232,232,232)",
            "linecolor": "rgb(36,36,36)",
            "showgrid": false,
            "showline": true,
            "ticks": "outside"
           }
          },
          "title": {
           "x": 0.05
          },
          "xaxis": {
           "automargin": true,
           "gridcolor": "rgb(232,232,232)",
           "linecolor": "rgb(36,36,36)",
           "showgrid": false,
           "showline": true,
           "ticks": "outside",
           "title": {
            "standoff": 15
           },
           "zeroline": false,
           "zerolinecolor": "rgb(36,36,36)"
          },
          "yaxis": {
           "automargin": true,
           "gridcolor": "rgb(232,232,232)",
           "linecolor": "rgb(36,36,36)",
           "showgrid": false,
           "showline": true,
           "ticks": "outside",
           "title": {
            "standoff": 15
           },
           "zeroline": false,
           "zerolinecolor": "rgb(36,36,36)"
          }
         }
        },
        "title": {
         "font": {
          "color": "Black",
          "size": 22
         },
         "text": "<b>Topics over Time</b>",
         "x": 0.4,
         "xanchor": "center",
         "y": 0.95,
         "yanchor": "top"
        },
        "width": 1250,
        "xaxis": {
         "showgrid": true
        },
        "yaxis": {
         "showgrid": true,
         "title": {
          "text": "Frequency"
         }
        }
       }
      }
     },
     "metadata": {},
     "output_type": "display_data"
    }
   ],
   "source": [
    "model.visualize_topics_over_time(topics_over_time, topics=[10, 11, 12, 13, 14, 15, 16, 17, 18, 19])\n"
   ]
  },
  {
   "cell_type": "code",
   "execution_count": 17,
   "metadata": {},
   "outputs": [
    {
     "data": {
      "application/vnd.plotly.v1+json": {
       "config": {
        "plotlyServerURL": "https://plot.ly"
       },
       "data": [
        {
         "hoverinfo": "text",
         "hovertext": [
          "<b>Topic 20</b><br>Words: social, network, esol, sociopragmatic, multiliteracy",
          "<b>Topic 20</b><br>Words: appropriately, effectively, facebook, training, social",
          "<b>Topic 20</b><br>Words: social, microblogging, transformation, networking, resource",
          "<b>Topic 20</b><br>Words: social, network, websites, implications, for",
          "<b>Topic 20</b><br>Words: social, sites, networks, busuu, networking",
          "<b>Topic 20</b><br>Words: social, networks, teaches, networking, talk",
          "<b>Topic 20</b><br>Words: minority, social, conversation, method, authentic",
          "<b>Topic 20</b><br>Words: social, media, networks, symmetric, justice",
          "<b>Topic 20</b><br>Words: social, media, platform, networking, 2008"
         ],
         "marker": {
          "color": "#E69F00"
         },
         "mode": "lines",
         "name": "20_social_media_networking_networks",
         "type": "scatter",
         "x": [
          2012,
          2013,
          2014,
          2015,
          2016,
          2017,
          2018,
          2019,
          2022
         ],
         "y": [
          2,
          1,
          2,
          1,
          2,
          2,
          1,
          3,
          5
         ]
        },
        {
         "hoverinfo": "text",
         "hovertext": [
          "<b>Topic 21</b><br>Words: reading, five, graduate, screen, behaviors",
          "<b>Topic 21</b><br>Words: reading, what, book, work, think",
          "<b>Topic 21</b><br>Words: reading, strategy, comprehension, university, strategies",
          "<b>Topic 21</b><br>Words: reading, comprehension, braasch, hypermedia, greasser",
          "<b>Topic 21</b><br>Words: reading, books, home, responding, purpose",
          "<b>Topic 21</b><br>Words: reading, annotations, progress, processes, its",
          "<b>Topic 21</b><br>Words: technique, when, reading, response, efficacy",
          "<b>Topic 21</b><br>Words: personalized, reading, effect, listening, skills"
         ],
         "marker": {
          "color": "#56B4E9"
         },
         "mode": "lines",
         "name": "21_reading_strategies_comprehension_stud...",
         "type": "scatter",
         "x": [
          2012,
          2013,
          2014,
          2015,
          2016,
          2017,
          2019,
          2022
         ],
         "y": [
          1,
          2,
          4,
          4,
          3,
          1,
          1,
          1
         ]
        },
        {
         "hoverinfo": "text",
         "hovertext": [
          "<b>Topic 22</b><br>Words: dealing, clause, databases, linguistics, corpora",
          "<b>Topic 22</b><br>Words: corpus, examples, enough, corpora, pedagogy",
          "<b>Topic 22</b><br>Words: concordancer, laptops, corpus, line, teachers",
          "<b>Topic 22</b><br>Words: corpus, routines, collocational, corpora, linguistics",
          "<b>Topic 22</b><br>Words: corpus, arab, immediate, long, term",
          "<b>Topic 22</b><br>Words: corpus, tricky, pedagogy, aided, step",
          "<b>Topic 22</b><br>Words: corpus, integrate, unpacking, corpora, pedagogy"
         ],
         "marker": {
          "color": "#009E73"
         },
         "mode": "lines",
         "name": "22_corpus_corpora_pedagogy_teacher",
         "type": "scatter",
         "x": [
          2013,
          2014,
          2015,
          2017,
          2021,
          2022,
          2023
         ],
         "y": [
          2,
          3,
          1,
          5,
          1,
          2,
          2
         ]
        },
        {
         "hoverinfo": "text",
         "hovertext": [
          "<b>Topic 23</b><br>Words: mall, market, professor, reply, tower",
          "<b>Topic 23</b><br>Words: mall, doesn, still, fringes, tell",
          "<b>Topic 23</b><br>Words: mall, outcomes, twenty, implementation, years",
          "<b>Topic 23</b><br>Words: mall, preschool, independent, recall, children",
          "<b>Topic 23</b><br>Words: mall, contextualised, oer, processing, empirical",
          "<b>Topic 23</b><br>Words: mall, narrative, meta, review, skills",
          "<b>Topic 23</b><br>Words: mall, 1994, efficiency, outcomes, comprehensive",
          "<b>Topic 23</b><br>Words: mall, oer, turkish, portuguese, polish"
         ],
         "marker": {
          "color": "#F0E442"
         },
         "mode": "lines",
         "name": "23_mall_meta_oer_processing",
         "type": "scatter",
         "x": [
          2013,
          2014,
          2015,
          2016,
          2018,
          2021,
          2022,
          2023
         ],
         "y": [
          1,
          3,
          1,
          1,
          2,
          1,
          3,
          1
         ]
        },
        {
         "hoverinfo": "text",
         "hovertext": [
          "<b>Topic 24</b><br>Words: chat, planning, text, investigating, performance",
          "<b>Topic 24</b><br>Words: chat, independent, interactive, versus, l2",
          "<b>Topic 24</b><br>Words: chat, quot, synthetic, audio, text",
          "<b>Topic 24</b><br>Words: blogging, voice, performance, speaking, l2",
          "<b>Topic 24</b><br>Words: chat, text, interaction, accomplishment, transcripts",
          "<b>Topic 24</b><br>Words: chat, task, child, interaction, l2",
          "<b>Topic 24</b><br>Words: closings, chat, interactional, text, task",
          "<b>Topic 24</b><br>Words: management, topic, task, interactions, written"
         ],
         "marker": {
          "color": "#D55E00"
         },
         "mode": "lines",
         "name": "24_chat_task_text_l2",
         "type": "scatter",
         "x": [
          2012,
          2014,
          2015,
          2016,
          2017,
          2018,
          2020,
          2023
         ],
         "y": [
          1,
          1,
          1,
          1,
          3,
          4,
          1,
          1
         ]
        }
       ],
       "layout": {
        "height": 450,
        "hoverlabel": {
         "bgcolor": "white",
         "font": {
          "family": "Rockwell",
          "size": 16
         }
        },
        "legend": {
         "title": {
          "text": "<b>Global Topic Representation"
         }
        },
        "template": {
         "data": {
          "bar": [
           {
            "error_x": {
             "color": "rgb(36,36,36)"
            },
            "error_y": {
             "color": "rgb(36,36,36)"
            },
            "marker": {
             "line": {
              "color": "white",
              "width": 0.5
             },
             "pattern": {
              "fillmode": "overlay",
              "size": 10,
              "solidity": 0.2
             }
            },
            "type": "bar"
           }
          ],
          "barpolar": [
           {
            "marker": {
             "line": {
              "color": "white",
              "width": 0.5
             },
             "pattern": {
              "fillmode": "overlay",
              "size": 10,
              "solidity": 0.2
             }
            },
            "type": "barpolar"
           }
          ],
          "carpet": [
           {
            "aaxis": {
             "endlinecolor": "rgb(36,36,36)",
             "gridcolor": "white",
             "linecolor": "white",
             "minorgridcolor": "white",
             "startlinecolor": "rgb(36,36,36)"
            },
            "baxis": {
             "endlinecolor": "rgb(36,36,36)",
             "gridcolor": "white",
             "linecolor": "white",
             "minorgridcolor": "white",
             "startlinecolor": "rgb(36,36,36)"
            },
            "type": "carpet"
           }
          ],
          "choropleth": [
           {
            "colorbar": {
             "outlinewidth": 1,
             "tickcolor": "rgb(36,36,36)",
             "ticks": "outside"
            },
            "type": "choropleth"
           }
          ],
          "contour": [
           {
            "colorbar": {
             "outlinewidth": 1,
             "tickcolor": "rgb(36,36,36)",
             "ticks": "outside"
            },
            "colorscale": [
             [
              0,
              "#440154"
             ],
             [
              0.1111111111111111,
              "#482878"
             ],
             [
              0.2222222222222222,
              "#3e4989"
             ],
             [
              0.3333333333333333,
              "#31688e"
             ],
             [
              0.4444444444444444,
              "#26828e"
             ],
             [
              0.5555555555555556,
              "#1f9e89"
             ],
             [
              0.6666666666666666,
              "#35b779"
             ],
             [
              0.7777777777777778,
              "#6ece58"
             ],
             [
              0.8888888888888888,
              "#b5de2b"
             ],
             [
              1,
              "#fde725"
             ]
            ],
            "type": "contour"
           }
          ],
          "contourcarpet": [
           {
            "colorbar": {
             "outlinewidth": 1,
             "tickcolor": "rgb(36,36,36)",
             "ticks": "outside"
            },
            "type": "contourcarpet"
           }
          ],
          "heatmap": [
           {
            "colorbar": {
             "outlinewidth": 1,
             "tickcolor": "rgb(36,36,36)",
             "ticks": "outside"
            },
            "colorscale": [
             [
              0,
              "#440154"
             ],
             [
              0.1111111111111111,
              "#482878"
             ],
             [
              0.2222222222222222,
              "#3e4989"
             ],
             [
              0.3333333333333333,
              "#31688e"
             ],
             [
              0.4444444444444444,
              "#26828e"
             ],
             [
              0.5555555555555556,
              "#1f9e89"
             ],
             [
              0.6666666666666666,
              "#35b779"
             ],
             [
              0.7777777777777778,
              "#6ece58"
             ],
             [
              0.8888888888888888,
              "#b5de2b"
             ],
             [
              1,
              "#fde725"
             ]
            ],
            "type": "heatmap"
           }
          ],
          "heatmapgl": [
           {
            "colorbar": {
             "outlinewidth": 1,
             "tickcolor": "rgb(36,36,36)",
             "ticks": "outside"
            },
            "colorscale": [
             [
              0,
              "#440154"
             ],
             [
              0.1111111111111111,
              "#482878"
             ],
             [
              0.2222222222222222,
              "#3e4989"
             ],
             [
              0.3333333333333333,
              "#31688e"
             ],
             [
              0.4444444444444444,
              "#26828e"
             ],
             [
              0.5555555555555556,
              "#1f9e89"
             ],
             [
              0.6666666666666666,
              "#35b779"
             ],
             [
              0.7777777777777778,
              "#6ece58"
             ],
             [
              0.8888888888888888,
              "#b5de2b"
             ],
             [
              1,
              "#fde725"
             ]
            ],
            "type": "heatmapgl"
           }
          ],
          "histogram": [
           {
            "marker": {
             "line": {
              "color": "white",
              "width": 0.6
             }
            },
            "type": "histogram"
           }
          ],
          "histogram2d": [
           {
            "colorbar": {
             "outlinewidth": 1,
             "tickcolor": "rgb(36,36,36)",
             "ticks": "outside"
            },
            "colorscale": [
             [
              0,
              "#440154"
             ],
             [
              0.1111111111111111,
              "#482878"
             ],
             [
              0.2222222222222222,
              "#3e4989"
             ],
             [
              0.3333333333333333,
              "#31688e"
             ],
             [
              0.4444444444444444,
              "#26828e"
             ],
             [
              0.5555555555555556,
              "#1f9e89"
             ],
             [
              0.6666666666666666,
              "#35b779"
             ],
             [
              0.7777777777777778,
              "#6ece58"
             ],
             [
              0.8888888888888888,
              "#b5de2b"
             ],
             [
              1,
              "#fde725"
             ]
            ],
            "type": "histogram2d"
           }
          ],
          "histogram2dcontour": [
           {
            "colorbar": {
             "outlinewidth": 1,
             "tickcolor": "rgb(36,36,36)",
             "ticks": "outside"
            },
            "colorscale": [
             [
              0,
              "#440154"
             ],
             [
              0.1111111111111111,
              "#482878"
             ],
             [
              0.2222222222222222,
              "#3e4989"
             ],
             [
              0.3333333333333333,
              "#31688e"
             ],
             [
              0.4444444444444444,
              "#26828e"
             ],
             [
              0.5555555555555556,
              "#1f9e89"
             ],
             [
              0.6666666666666666,
              "#35b779"
             ],
             [
              0.7777777777777778,
              "#6ece58"
             ],
             [
              0.8888888888888888,
              "#b5de2b"
             ],
             [
              1,
              "#fde725"
             ]
            ],
            "type": "histogram2dcontour"
           }
          ],
          "mesh3d": [
           {
            "colorbar": {
             "outlinewidth": 1,
             "tickcolor": "rgb(36,36,36)",
             "ticks": "outside"
            },
            "type": "mesh3d"
           }
          ],
          "parcoords": [
           {
            "line": {
             "colorbar": {
              "outlinewidth": 1,
              "tickcolor": "rgb(36,36,36)",
              "ticks": "outside"
             }
            },
            "type": "parcoords"
           }
          ],
          "pie": [
           {
            "automargin": true,
            "type": "pie"
           }
          ],
          "scatter": [
           {
            "fillpattern": {
             "fillmode": "overlay",
             "size": 10,
             "solidity": 0.2
            },
            "type": "scatter"
           }
          ],
          "scatter3d": [
           {
            "line": {
             "colorbar": {
              "outlinewidth": 1,
              "tickcolor": "rgb(36,36,36)",
              "ticks": "outside"
             }
            },
            "marker": {
             "colorbar": {
              "outlinewidth": 1,
              "tickcolor": "rgb(36,36,36)",
              "ticks": "outside"
             }
            },
            "type": "scatter3d"
           }
          ],
          "scattercarpet": [
           {
            "marker": {
             "colorbar": {
              "outlinewidth": 1,
              "tickcolor": "rgb(36,36,36)",
              "ticks": "outside"
             }
            },
            "type": "scattercarpet"
           }
          ],
          "scattergeo": [
           {
            "marker": {
             "colorbar": {
              "outlinewidth": 1,
              "tickcolor": "rgb(36,36,36)",
              "ticks": "outside"
             }
            },
            "type": "scattergeo"
           }
          ],
          "scattergl": [
           {
            "marker": {
             "colorbar": {
              "outlinewidth": 1,
              "tickcolor": "rgb(36,36,36)",
              "ticks": "outside"
             }
            },
            "type": "scattergl"
           }
          ],
          "scattermapbox": [
           {
            "marker": {
             "colorbar": {
              "outlinewidth": 1,
              "tickcolor": "rgb(36,36,36)",
              "ticks": "outside"
             }
            },
            "type": "scattermapbox"
           }
          ],
          "scatterpolar": [
           {
            "marker": {
             "colorbar": {
              "outlinewidth": 1,
              "tickcolor": "rgb(36,36,36)",
              "ticks": "outside"
             }
            },
            "type": "scatterpolar"
           }
          ],
          "scatterpolargl": [
           {
            "marker": {
             "colorbar": {
              "outlinewidth": 1,
              "tickcolor": "rgb(36,36,36)",
              "ticks": "outside"
             }
            },
            "type": "scatterpolargl"
           }
          ],
          "scatterternary": [
           {
            "marker": {
             "colorbar": {
              "outlinewidth": 1,
              "tickcolor": "rgb(36,36,36)",
              "ticks": "outside"
             }
            },
            "type": "scatterternary"
           }
          ],
          "surface": [
           {
            "colorbar": {
             "outlinewidth": 1,
             "tickcolor": "rgb(36,36,36)",
             "ticks": "outside"
            },
            "colorscale": [
             [
              0,
              "#440154"
             ],
             [
              0.1111111111111111,
              "#482878"
             ],
             [
              0.2222222222222222,
              "#3e4989"
             ],
             [
              0.3333333333333333,
              "#31688e"
             ],
             [
              0.4444444444444444,
              "#26828e"
             ],
             [
              0.5555555555555556,
              "#1f9e89"
             ],
             [
              0.6666666666666666,
              "#35b779"
             ],
             [
              0.7777777777777778,
              "#6ece58"
             ],
             [
              0.8888888888888888,
              "#b5de2b"
             ],
             [
              1,
              "#fde725"
             ]
            ],
            "type": "surface"
           }
          ],
          "table": [
           {
            "cells": {
             "fill": {
              "color": "rgb(237,237,237)"
             },
             "line": {
              "color": "white"
             }
            },
            "header": {
             "fill": {
              "color": "rgb(217,217,217)"
             },
             "line": {
              "color": "white"
             }
            },
            "type": "table"
           }
          ]
         },
         "layout": {
          "annotationdefaults": {
           "arrowhead": 0,
           "arrowwidth": 1
          },
          "autotypenumbers": "strict",
          "coloraxis": {
           "colorbar": {
            "outlinewidth": 1,
            "tickcolor": "rgb(36,36,36)",
            "ticks": "outside"
           }
          },
          "colorscale": {
           "diverging": [
            [
             0,
             "rgb(103,0,31)"
            ],
            [
             0.1,
             "rgb(178,24,43)"
            ],
            [
             0.2,
             "rgb(214,96,77)"
            ],
            [
             0.3,
             "rgb(244,165,130)"
            ],
            [
             0.4,
             "rgb(253,219,199)"
            ],
            [
             0.5,
             "rgb(247,247,247)"
            ],
            [
             0.6,
             "rgb(209,229,240)"
            ],
            [
             0.7,
             "rgb(146,197,222)"
            ],
            [
             0.8,
             "rgb(67,147,195)"
            ],
            [
             0.9,
             "rgb(33,102,172)"
            ],
            [
             1,
             "rgb(5,48,97)"
            ]
           ],
           "sequential": [
            [
             0,
             "#440154"
            ],
            [
             0.1111111111111111,
             "#482878"
            ],
            [
             0.2222222222222222,
             "#3e4989"
            ],
            [
             0.3333333333333333,
             "#31688e"
            ],
            [
             0.4444444444444444,
             "#26828e"
            ],
            [
             0.5555555555555556,
             "#1f9e89"
            ],
            [
             0.6666666666666666,
             "#35b779"
            ],
            [
             0.7777777777777778,
             "#6ece58"
            ],
            [
             0.8888888888888888,
             "#b5de2b"
            ],
            [
             1,
             "#fde725"
            ]
           ],
           "sequentialminus": [
            [
             0,
             "#440154"
            ],
            [
             0.1111111111111111,
             "#482878"
            ],
            [
             0.2222222222222222,
             "#3e4989"
            ],
            [
             0.3333333333333333,
             "#31688e"
            ],
            [
             0.4444444444444444,
             "#26828e"
            ],
            [
             0.5555555555555556,
             "#1f9e89"
            ],
            [
             0.6666666666666666,
             "#35b779"
            ],
            [
             0.7777777777777778,
             "#6ece58"
            ],
            [
             0.8888888888888888,
             "#b5de2b"
            ],
            [
             1,
             "#fde725"
            ]
           ]
          },
          "colorway": [
           "#1F77B4",
           "#FF7F0E",
           "#2CA02C",
           "#D62728",
           "#9467BD",
           "#8C564B",
           "#E377C2",
           "#7F7F7F",
           "#BCBD22",
           "#17BECF"
          ],
          "font": {
           "color": "rgb(36,36,36)"
          },
          "geo": {
           "bgcolor": "white",
           "lakecolor": "white",
           "landcolor": "white",
           "showlakes": true,
           "showland": true,
           "subunitcolor": "white"
          },
          "hoverlabel": {
           "align": "left"
          },
          "hovermode": "closest",
          "mapbox": {
           "style": "light"
          },
          "paper_bgcolor": "white",
          "plot_bgcolor": "white",
          "polar": {
           "angularaxis": {
            "gridcolor": "rgb(232,232,232)",
            "linecolor": "rgb(36,36,36)",
            "showgrid": false,
            "showline": true,
            "ticks": "outside"
           },
           "bgcolor": "white",
           "radialaxis": {
            "gridcolor": "rgb(232,232,232)",
            "linecolor": "rgb(36,36,36)",
            "showgrid": false,
            "showline": true,
            "ticks": "outside"
           }
          },
          "scene": {
           "xaxis": {
            "backgroundcolor": "white",
            "gridcolor": "rgb(232,232,232)",
            "gridwidth": 2,
            "linecolor": "rgb(36,36,36)",
            "showbackground": true,
            "showgrid": false,
            "showline": true,
            "ticks": "outside",
            "zeroline": false,
            "zerolinecolor": "rgb(36,36,36)"
           },
           "yaxis": {
            "backgroundcolor": "white",
            "gridcolor": "rgb(232,232,232)",
            "gridwidth": 2,
            "linecolor": "rgb(36,36,36)",
            "showbackground": true,
            "showgrid": false,
            "showline": true,
            "ticks": "outside",
            "zeroline": false,
            "zerolinecolor": "rgb(36,36,36)"
           },
           "zaxis": {
            "backgroundcolor": "white",
            "gridcolor": "rgb(232,232,232)",
            "gridwidth": 2,
            "linecolor": "rgb(36,36,36)",
            "showbackground": true,
            "showgrid": false,
            "showline": true,
            "ticks": "outside",
            "zeroline": false,
            "zerolinecolor": "rgb(36,36,36)"
           }
          },
          "shapedefaults": {
           "fillcolor": "black",
           "line": {
            "width": 0
           },
           "opacity": 0.3
          },
          "ternary": {
           "aaxis": {
            "gridcolor": "rgb(232,232,232)",
            "linecolor": "rgb(36,36,36)",
            "showgrid": false,
            "showline": true,
            "ticks": "outside"
           },
           "baxis": {
            "gridcolor": "rgb(232,232,232)",
            "linecolor": "rgb(36,36,36)",
            "showgrid": false,
            "showline": true,
            "ticks": "outside"
           },
           "bgcolor": "white",
           "caxis": {
            "gridcolor": "rgb(232,232,232)",
            "linecolor": "rgb(36,36,36)",
            "showgrid": false,
            "showline": true,
            "ticks": "outside"
           }
          },
          "title": {
           "x": 0.05
          },
          "xaxis": {
           "automargin": true,
           "gridcolor": "rgb(232,232,232)",
           "linecolor": "rgb(36,36,36)",
           "showgrid": false,
           "showline": true,
           "ticks": "outside",
           "title": {
            "standoff": 15
           },
           "zeroline": false,
           "zerolinecolor": "rgb(36,36,36)"
          },
          "yaxis": {
           "automargin": true,
           "gridcolor": "rgb(232,232,232)",
           "linecolor": "rgb(36,36,36)",
           "showgrid": false,
           "showline": true,
           "ticks": "outside",
           "title": {
            "standoff": 15
           },
           "zeroline": false,
           "zerolinecolor": "rgb(36,36,36)"
          }
         }
        },
        "title": {
         "font": {
          "color": "Black",
          "size": 22
         },
         "text": "<b>Topics over Time</b>",
         "x": 0.4,
         "xanchor": "center",
         "y": 0.95,
         "yanchor": "top"
        },
        "width": 1250,
        "xaxis": {
         "showgrid": true
        },
        "yaxis": {
         "showgrid": true,
         "title": {
          "text": "Frequency"
         }
        }
       }
      }
     },
     "metadata": {},
     "output_type": "display_data"
    }
   ],
   "source": [
    "model.visualize_topics_over_time(topics_over_time, topics=[20, 21, 22, 23, 24, 25])\n",
    "#COVID-19 Topic\n"
   ]
  },
  {
   "cell_type": "code",
   "execution_count": 18,
   "metadata": {},
   "outputs": [
    {
     "data": {
      "application/vnd.plotly.v1+json": {
       "config": {
        "plotlyServerURL": "https://plot.ly"
       },
       "data": [
        {
         "hoverinfo": "text",
         "hovertext": [
          "<b>Topic 0</b><br>Words: writing, stance, wikis, collaborative, writers",
          "<b>Topic 0</b><br>Words: writing, feedback, in, students, collaborative",
          "<b>Topic 0</b><br>Words: writing, collaborative, feedback, using, wikis",
          "<b>Topic 0</b><br>Words: writing, efl, computer, feedback, who",
          "<b>Topic 0</b><br>Words: writing, feedback, automated, of, in",
          "<b>Topic 0</b><br>Words: writing, collaborative, activities, l2, in",
          "<b>Topic 0</b><br>Words: writing, automated, feedback, collaborative, of",
          "<b>Topic 0</b><br>Words: writing, google, efl, docs, automated",
          "<b>Topic 0</b><br>Words: writing, feedback, on, collaborative, efl",
          "<b>Topic 0</b><br>Words: writing, corrective, feedback, accuracy, collaborative",
          "<b>Topic 0</b><br>Words: writing, feedback, automated, students, collaborative",
          "<b>Topic 0</b><br>Words: writing, machine, review, translation, multiple"
         ],
         "marker": {
          "color": "#E69F00"
         },
         "mode": "lines",
         "name": "0_writing_feedback_collaborative_automat...",
         "type": "scatter",
         "x": [
          2012,
          2013,
          2014,
          2015,
          2016,
          2017,
          2018,
          2019,
          2020,
          2021,
          2022,
          2023
         ],
         "y": [
          11,
          15,
          14,
          12,
          25,
          14,
          11,
          11,
          16,
          13,
          27,
          7
         ]
        },
        {
         "hoverinfo": "text",
         "hovertext": [
          "<b>Topic 1</b><br>Words: call, lomastv, whiteboards, hegemonies, constructivist",
          "<b>Topic 1</b><br>Words: call, tracking, sla, the, script",
          "<b>Topic 1</b><br>Words: call, sla, research, the, liou",
          "<b>Topic 1</b><br>Words: call, research, competencies, teacher, in",
          "<b>Topic 1</b><br>Words: call, sla, from, quot, the",
          "<b>Topic 1</b><br>Words: call, beliefs, design, multilingualism, midwestern",
          "<b>Topic 1</b><br>Words: call, transparency, 2003, needle, reporting",
          "<b>Topic 1</b><br>Words: call, research, unearthing, hidden, discussing",
          "<b>Topic 1</b><br>Words: now, where, we, are, call",
          "<b>Topic 1</b><br>Words: call, scripted, chatrooms, newly, swedish",
          "<b>Topic 1</b><br>Words: call, professional, teachers, spread, constructive",
          "<b>Topic 1</b><br>Words: replication, łodzikowski, 2021, exact, designs"
         ],
         "marker": {
          "color": "#56B4E9"
         },
         "mode": "lines",
         "name": "1_call_research_sla_the",
         "type": "scatter",
         "x": [
          2012,
          2013,
          2014,
          2015,
          2016,
          2017,
          2018,
          2019,
          2020,
          2021,
          2022,
          2023
         ],
         "y": [
          3,
          14,
          6,
          11,
          8,
          4,
          4,
          2,
          1,
          5,
          6,
          2
         ]
        },
        {
         "hoverinfo": "text",
         "hovertext": [
          "<b>Topic 2</b><br>Words: mobile, platform, learning, 14, glenn",
          "<b>Topic 2</b><br>Words: mobile, learning, phones, assisted, language",
          "<b>Topic 2</b><br>Words: mobile, impacting, learning, smartphones, determinants",
          "<b>Topic 2</b><br>Words: mobile, phone, japan, 2000, engaging",
          "<b>Topic 2</b><br>Words: mobile, bravely, conjugating, verbs, like",
          "<b>Topic 2</b><br>Words: mobile, learning, smartphones, assessments, ubiquitous",
          "<b>Topic 2</b><br>Words: mobile, self, app, learning, quot",
          "<b>Topic 2</b><br>Words: mobile, learning, vocabulary, assisted, app",
          "<b>Topic 2</b><br>Words: mobile, assisted, settings, recall, theory",
          "<b>Topic 2</b><br>Words: mobile, learning, class, self, difference",
          "<b>Topic 2</b><br>Words: mobile, learning, english, using, assisted",
          "<b>Topic 2</b><br>Words: release, duolingo, early, public, mobile"
         ],
         "marker": {
          "color": "#009E73"
         },
         "mode": "lines",
         "name": "2_mobile_learning_assisted_language",
         "type": "scatter",
         "x": [
          2012,
          2013,
          2014,
          2015,
          2016,
          2017,
          2018,
          2019,
          2020,
          2021,
          2022,
          2023
         ],
         "y": [
          3,
          11,
          4,
          3,
          3,
          5,
          5,
          7,
          2,
          5,
          8,
          1
         ]
        },
        {
         "hoverinfo": "text",
         "hovertext": [
          "<b>Topic 3</b><br>Words: online, autonomy, required, subject, challenging",
          "<b>Topic 3</b><br>Words: emic, informal, complex, understanding, dynamic",
          "<b>Topic 3</b><br>Words: quot, purposing, reach, deutsche, interaktiv",
          "<b>Topic 3</b><br>Words: online, face, trained, oile, candidate",
          "<b>Topic 3</b><br>Words: online, develop, teaching, language, an",
          "<b>Topic 3</b><br>Words: guide, task, teaching, teachers, online",
          "<b>Topic 3</b><br>Words: online, analytics, student, courses, program",
          "<b>Topic 3</b><br>Words: informal, digital, wilds, bronies, riding",
          "<b>Topic 3</b><br>Words: vision, languages, making, professional, teaching",
          "<b>Topic 3</b><br>Words: quality, online, mooc, retention, factors",
          "<b>Topic 3</b><br>Words: online, moocs, accessibility, collective, semi",
          "<b>Topic 3</b><br>Words: online, mobiles, semiotics, gray, materialist"
         ],
         "marker": {
          "color": "#F0E442"
         },
         "mode": "lines",
         "name": "3_online_language_learning_of",
         "type": "scatter",
         "x": [
          2012,
          2013,
          2014,
          2015,
          2016,
          2017,
          2018,
          2019,
          2020,
          2021,
          2022,
          2023
         ],
         "y": [
          6,
          1,
          2,
          4,
          7,
          1,
          6,
          4,
          1,
          6,
          5,
          4
         ]
        },
        {
         "hoverinfo": "text",
         "hovertext": [
          "<b>Topic 4</b><br>Words: game, playing, world, warcraft, games",
          "<b>Topic 4</b><br>Words: play, learn, gaming, culture, to",
          "<b>Topic 4</b><br>Words: game, digital, games, gaming, food",
          "<b>Topic 4</b><br>Words: used, game, multiplayer, massively, games",
          "<b>Topic 4</b><br>Words: game, games, european, skilled, recurrent",
          "<b>Topic 4</b><br>Words: game, gaming, digital, connectivity, encouraging",
          "<b>Topic 4</b><br>Words: game, rats, activate, upper, gaming",
          "<b>Topic 4</b><br>Words: games, game, digital, anime, should",
          "<b>Topic 4</b><br>Words: game, digital, games, supportive, expressions",
          "<b>Topic 4</b><br>Words: game, guerrilla, gamers, catalan, fan",
          "<b>Topic 4</b><br>Words: game, environments, digital, games, dgbll",
          "<b>Topic 4</b><br>Words: game, phrasal, pc, massively, multiplayer"
         ],
         "marker": {
          "color": "#D55E00"
         },
         "mode": "lines",
         "name": "4_game_games_digital_playing",
         "type": "scatter",
         "x": [
          2012,
          2013,
          2014,
          2015,
          2016,
          2017,
          2018,
          2019,
          2020,
          2021,
          2022,
          2023
         ],
         "y": [
          7,
          1,
          4,
          2,
          3,
          6,
          2,
          4,
          4,
          4,
          4,
          3
         ]
        },
        {
         "hoverinfo": "text",
         "hovertext": [
          "<b>Topic 5</b><br>Words: pronunciation, memorization, stroke, animation, flashcards",
          "<b>Topic 5</b><br>Words: selection, mispronunciation, unsupervised, accented, efficient",
          "<b>Topic 5</b><br>Words: implication, acoustic, pronunciation, spectrographic, tongue",
          "<b>Topic 5</b><br>Words: pronunciation, speech, recognition, word, japanese",
          "<b>Topic 5</b><br>Words: pronunciation, training, instruction, duration, capt",
          "<b>Topic 5</b><br>Words: wrs, speech, pronunciation, word, mispronounced",
          "<b>Topic 5</b><br>Words: pronunciation, fossilised, podcast, asr, dictation",
          "<b>Topic 5</b><br>Words: pronunciation, assistants, intelligent, personal, instruction",
          "<b>Topic 5</b><br>Words: phonological, allophonic, transcription, association, awareness",
          "<b>Topic 5</b><br>Words: pronunciation, speech, quot, recognition, asr",
          "<b>Topic 5</b><br>Words: pronunciation, automatic, speech, recognition, conflicting"
         ],
         "marker": {
          "color": "#0072B2"
         },
         "mode": "lines",
         "name": "5_pronunciation_speech_training_recognit...",
         "type": "scatter",
         "x": [
          2012,
          2013,
          2014,
          2015,
          2016,
          2017,
          2019,
          2020,
          2021,
          2022,
          2023
         ],
         "y": [
          3,
          2,
          2,
          5,
          5,
          3,
          3,
          6,
          2,
          6,
          4
         ]
        },
        {
         "hoverinfo": "text",
         "hovertext": [
          "<b>Topic 6</b><br>Words: native, video, multimodal, videoconferencing, videoconferenced",
          "<b>Topic 6</b><br>Words: multimodal, interactions, webcams, gaze, videoconferencing",
          "<b>Topic 6</b><br>Words: conferencing, experimental, during, video, corrective",
          "<b>Topic 6</b><br>Words: multimodality, subversion, sustaining, intersection, multimodal",
          "<b>Topic 6</b><br>Words: multimodal, videoconferencing, challenges, video, webcam",
          "<b>Topic 6</b><br>Words: multimodal, transcribing, webcam, sharing, agency",
          "<b>Topic 6</b><br>Words: multimodal, video, statistically, visualizations, managing",
          "<b>Topic 6</b><br>Words: rural, provision, regional, networked, videoconferencing",
          "<b>Topic 6</b><br>Words: videoconferencing, mediating, verbal, multimodal, ensemble",
          "<b>Topic 6</b><br>Words: multimodal, videoconferencing, via, instructions, inter",
          "<b>Topic 6</b><br>Words: peers, webconference, oracy, produced, unknown",
          "<b>Topic 6</b><br>Words: multimodal, locality, film, episodes, documentary"
         ],
         "marker": {
          "color": "#CC79A7"
         },
         "mode": "lines",
         "name": "6_multimodal_videoconferencing_video_int...",
         "type": "scatter",
         "x": [
          2012,
          2013,
          2014,
          2015,
          2016,
          2017,
          2018,
          2019,
          2020,
          2021,
          2022,
          2023
         ],
         "y": [
          5,
          3,
          1,
          2,
          5,
          3,
          3,
          1,
          3,
          5,
          3,
          3
         ]
        },
        {
         "hoverinfo": "text",
         "hovertext": [
          "<b>Topic 7</b><br>Words: telecollaboration, hegemonic, issues, power, dialogue",
          "<b>Topic 7</b><br>Words: telecollaboration, gaps, filling, sino, telecollaborative",
          "<b>Topic 7</b><br>Words: telecollaboration, service, cross, telecollaborate, keypal",
          "<b>Topic 7</b><br>Words: telecollaboration, pedagogical, telecollaborative, matching, all",
          "<b>Topic 7</b><br>Words: telecollaboration, lingua, franca, mediator, methodological",
          "<b>Topic 7</b><br>Words: telecollaboration, intercultural, telecollaborative, practice, 2010",
          "<b>Topic 7</b><br>Words: telecollaboration, intercultural, competence, telecollaborative, background",
          "<b>Topic 7</b><br>Words: telecollaboration, intercultural, successful, usa, prospective",
          "<b>Topic 7</b><br>Words: telecollaborative, telecollaboration, intercultural, american, identities",
          "<b>Topic 7</b><br>Words: telecollaboration, 56, multinational, 2010, methodologies",
          "<b>Topic 7</b><br>Words: telecollaboration, kuwaiti, competences, telecollaborative, raising"
         ],
         "marker": {
          "color": "#E69F00"
         },
         "mode": "lines",
         "name": "7_telecollaboration_intercultural_teleco...",
         "type": "scatter",
         "x": [
          2012,
          2013,
          2015,
          2016,
          2017,
          2018,
          2019,
          2020,
          2021,
          2022,
          2023
         ],
         "y": [
          2,
          2,
          4,
          4,
          3,
          5,
          6,
          4,
          3,
          2,
          2
         ]
        },
        {
         "hoverinfo": "text",
         "hovertext": [
          "<b>Topic 8</b><br>Words: product, exploiting, phraseological, letters, prototype",
          "<b>Topic 8</b><br>Words: driven, data, induction, discovering, guided",
          "<b>Topic 8</b><br>Words: dictionaries, collocations, symmetrical, asymmetrical, concordancing",
          "<b>Topic 8</b><br>Words: driven, data, collocations, collocation, for",
          "<b>Topic 8</b><br>Words: data, driven, dictionaries, concordance, limits",
          "<b>Topic 8</b><br>Words: unlearning, overgenerated, driven, data, comprehend",
          "<b>Topic 8</b><br>Words: driven, data, dictionaries, query, deductive",
          "<b>Topic 8</b><br>Words: ambiguity, tolerance, below, bundles, c1",
          "<b>Topic 8</b><br>Words: collocation, data, driven, query, identifying"
         ],
         "marker": {
          "color": "#56B4E9"
         },
         "mode": "lines",
         "name": "8_data_driven_collocation_dictionaries",
         "type": "scatter",
         "x": [
          2012,
          2014,
          2015,
          2016,
          2017,
          2018,
          2019,
          2020,
          2021
         ],
         "y": [
          2,
          2,
          4,
          7,
          7,
          2,
          4,
          2,
          5
         ]
        },
        {
         "hoverinfo": "text",
         "hovertext": [
          "<b>Topic 9</b><br>Words: tesol, building, education, skills, teacher",
          "<b>Topic 9</b><br>Words: imperative, technological, taught, computers, teaching",
          "<b>Topic 9</b><br>Words: technology, encouragement, inspiration, barriers, ideas",
          "<b>Topic 9</b><br>Words: mindsets, personal, life, technology, teachers",
          "<b>Topic 9</b><br>Words: technological, pedagogical, content, technology, knowledge",
          "<b>Topic 9</b><br>Words: survey, teachers, pedagogical, technological, tpack",
          "<b>Topic 9</b><br>Words: technology, technological, fosters, question, perceives",
          "<b>Topic 9</b><br>Words: technology, discourses, bigger, picture, states",
          "<b>Topic 9</b><br>Words: technology, poland, portugal, ict, turkey",
          "<b>Topic 9</b><br>Words: teachers, iot, continuance, toys, authoring",
          "<b>Topic 9</b><br>Words: technology, adoption, teachers, tpack, educational",
          "<b>Topic 9</b><br>Words: signature, defining, principles, pedagogy, its"
         ],
         "marker": {
          "color": "#009E73"
         },
         "mode": "lines",
         "name": "9_technology_teachers_technological_teac...",
         "type": "scatter",
         "x": [
          2012,
          2013,
          2014,
          2015,
          2016,
          2017,
          2018,
          2019,
          2020,
          2021,
          2022,
          2023
         ],
         "y": [
          1,
          2,
          3,
          1,
          6,
          3,
          3,
          2,
          3,
          3,
          6,
          1
         ]
        },
        {
         "hoverinfo": "text",
         "hovertext": [
          "<b>Topic 10</b><br>Words: language, technology, computer, 2006, visibilization",
          "<b>Topic 10</b><br>Words: environmental, sweden, computer, affecting, success",
          "<b>Topic 10</b><br>Words: adolescents, urban, among, technology, skills",
          "<b>Topic 10</b><br>Words: language, technology, learning, 20, technologies",
          "<b>Topic 10</b><br>Words: adaptivity, syllabi, technology, regarding, device",
          "<b>Topic 10</b><br>Words: technology, language, vary, prospect, stakeholder",
          "<b>Topic 10</b><br>Words: transdisciplinarity, adult, applications, educational, quality",
          "<b>Topic 10</b><br>Words: initiated, outcome, socioeconomic, monolingual, status",
          "<b>Topic 10</b><br>Words: zulu, assisted, evolving, package, modeling",
          "<b>Topic 10</b><br>Words: technologies, technology, review, language, 1977"
         ],
         "marker": {
          "color": "#F0E442"
         },
         "mode": "lines",
         "name": "10_technology_language_assisted_learning",
         "type": "scatter",
         "x": [
          2013,
          2014,
          2015,
          2016,
          2017,
          2018,
          2019,
          2020,
          2021,
          2022
         ],
         "y": [
          5,
          3,
          1,
          7,
          3,
          4,
          2,
          2,
          3,
          4
         ]
        },
        {
         "hoverinfo": "text",
         "hovertext": [
          "<b>Topic 11</b><br>Words: teenagers, captions, multimedia, effects, l2",
          "<b>Topic 11</b><br>Words: podcasting, itunes, supports, reliance, caption",
          "<b>Topic 11</b><br>Words: comprehension, listening, captions, video, captioned",
          "<b>Topic 11</b><br>Words: filtering, handheld, caption, adaptive, devices",
          "<b>Topic 11</b><br>Words: listening, several, preview, reduce, hearing",
          "<b>Topic 11</b><br>Words: comprehension, listening, captions, television, synchronized",
          "<b>Topic 11</b><br>Words: videos, metacognitive, captioned, listener, watching",
          "<b>Topic 11</b><br>Words: captions, comprehension, captioned, videos, maximizing",
          "<b>Topic 11</b><br>Words: captioned, videos, listening, comprehension, preference",
          "<b>Topic 11</b><br>Words: collegiate, vlogs, captions, podcasts, comprehension",
          "<b>Topic 11</b><br>Words: captions, video, comprehension, captioned, listening",
          "<b>Topic 11</b><br>Words: presentation, full, nonverbal, display, partial"
         ],
         "marker": {
          "color": "#D55E00"
         },
         "mode": "lines",
         "name": "11_comprehension_captions_listening_capt...",
         "type": "scatter",
         "x": [
          2012,
          2013,
          2014,
          2015,
          2016,
          2017,
          2018,
          2019,
          2020,
          2021,
          2022,
          2023
         ],
         "y": [
          1,
          2,
          5,
          1,
          3,
          3,
          3,
          4,
          3,
          2,
          5,
          1
         ]
        },
        {
         "hoverinfo": "text",
         "hovertext": [
          "<b>Topic 12</b><br>Words: vocabulary, programme, opencourseware, card, lecture",
          "<b>Topic 12</b><br>Words: vocabulary, gloss, types, single, opencourseware",
          "<b>Topic 12</b><br>Words: incidental, glosses, vocabulary, simultaneous, display",
          "<b>Topic 12</b><br>Words: vocabulary, toeic, spaced, repetition, score",
          "<b>Topic 12</b><br>Words: vocabulary, texting, electronic, glosses, concordance",
          "<b>Topic 12</b><br>Words: contextualized, vocabulary, learning, gloss, glosses",
          "<b>Topic 12</b><br>Words: vocabulary, retention, mayer, afrikaans, richard",
          "<b>Topic 12</b><br>Words: image, facilitate, authentic, recognition, vocabulary",
          "<b>Topic 12</b><br>Words: gloss, vocabulary, dual, position, static",
          "<b>Topic 12</b><br>Words: vocabulary, quizlet, incidentally, wordlists, podcasts",
          "<b>Topic 12</b><br>Words: vocabulary, heterogeneous, arabic, intervention, texting"
         ],
         "marker": {
          "color": "#0072B2"
         },
         "mode": "lines",
         "name": "12_vocabulary_gloss_glosses_effects",
         "type": "scatter",
         "x": [
          2012,
          2013,
          2014,
          2016,
          2017,
          2018,
          2019,
          2020,
          2021,
          2022,
          2023
         ],
         "y": [
          4,
          3,
          2,
          3,
          2,
          1,
          3,
          1,
          3,
          4,
          2
         ]
        },
        {
         "hoverinfo": "text",
         "hovertext": [
          "<b>Topic 13</b><br>Words: agenda, dimensional, worlds, three, virtual",
          "<b>Topic 13</b><br>Words: added, worlds, there, virtual, value",
          "<b>Topic 13</b><br>Words: virtual, 3d, london, worlds, contextual",
          "<b>Topic 13</b><br>Words: 3d, irish, reality, engaging, annotated",
          "<b>Topic 13</b><br>Words: virtual, world, 3d, calc, windows",
          "<b>Topic 13</b><br>Words: cases, 3d, csl, simulated, three",
          "<b>Topic 13</b><br>Words: virtual, 3d, reality, worlds, earth",
          "<b>Topic 13</b><br>Words: immersive, reality, 3d, virtual, quot",
          "<b>Topic 13</b><br>Words: reality, virtual, immersive, traveling, headset",
          "<b>Topic 13</b><br>Words: reality, virtual, immersive, sky, clil"
         ],
         "marker": {
          "color": "#CC79A7"
         },
         "mode": "lines",
         "name": "13_virtual_reality_3d_immersive",
         "type": "scatter",
         "x": [
          2012,
          2013,
          2015,
          2016,
          2018,
          2019,
          2020,
          2021,
          2022,
          2023
         ],
         "y": [
          1,
          1,
          3,
          2,
          2,
          2,
          4,
          4,
          4,
          3
         ]
        },
        {
         "hoverinfo": "text",
         "hovertext": [
          "<b>Topic 14</b><br>Words: shifting, vles, contested, tutor, space",
          "<b>Topic 14</b><br>Words: professional, german, virtual, development, environment",
          "<b>Topic 14</b><br>Words: socio, presence, cognitive, synchronous, social",
          "<b>Topic 14</b><br>Words: multiuser, takes, ongoing, build, scholars",
          "<b>Topic 14</b><br>Words: borderlands, languaging, spaces, literacy, mapping",
          "<b>Topic 14</b><br>Words: presence, interaction, online, virtual, social",
          "<b>Topic 14</b><br>Words: formative, presence, exchange, virtual, blended",
          "<b>Topic 14</b><br>Words: community, fail, book, facebook, virtual",
          "<b>Topic 14</b><br>Words: exchange, virtual, professional, literacy, apos",
          "<b>Topic 14</b><br>Words: literacy, exchange, critical, virtual, interpretivist"
         ],
         "marker": {
          "color": "#E69F00"
         },
         "mode": "lines",
         "name": "14_virtual_exchange_professional_literac...",
         "type": "scatter",
         "x": [
          2012,
          2013,
          2014,
          2015,
          2016,
          2018,
          2019,
          2020,
          2022,
          2023
         ],
         "y": [
          1,
          4,
          1,
          3,
          1,
          5,
          1,
          1,
          6,
          2
         ]
        },
        {
         "hoverinfo": "text",
         "hovertext": [
          "<b>Topic 15</b><br>Words: readiness, hybrid, fl, attitudes, toward",
          "<b>Topic 15</b><br>Words: active, flipping, foster, classroom, flipped",
          "<b>Topic 15</b><br>Words: flipped, classroom, senior, elt, year",
          "<b>Topic 15</b><br>Words: flipped, classroom, chinese, flipping, mastery",
          "<b>Topic 15</b><br>Words: flipped, refusal, appropriate, achievement, perception",
          "<b>Topic 15</b><br>Words: flipped, classroom, quot, demotivation, if",
          "<b>Topic 15</b><br>Words: flipped, flipping, reversal, models, classroom",
          "<b>Topic 15</b><br>Words: flipped, classroom, model, review, classrooms",
          "<b>Topic 15</b><br>Words: anxiety, classroom, flipped, reading, foreign"
         ],
         "marker": {
          "color": "#56B4E9"
         },
         "mode": "lines",
         "name": "15_flipped_classroom_flipping_classrooms",
         "type": "scatter",
         "x": [
          2012,
          2015,
          2017,
          2018,
          2019,
          2020,
          2021,
          2022,
          2023
         ],
         "y": [
          1,
          1,
          3,
          4,
          1,
          5,
          2,
          5,
          1
         ]
        },
        {
         "hoverinfo": "text",
         "hovertext": [
          "<b>Topic 16</b><br>Words: communication, oral, speak, mediated, beginning",
          "<b>Topic 16</b><br>Words: oral, ready, steady, speak, ipads",
          "<b>Topic 16</b><br>Words: affordance, oral, ecological, asynchronous, anxiety",
          "<b>Topic 16</b><br>Words: cmc, communication, oral, divide, individuals",
          "<b>Topic 16</b><br>Words: oral, performance, csl, beginners, voice",
          "<b>Topic 16</b><br>Words: oral, emotional, fuency, voicethread, proficiency",
          "<b>Topic 16</b><br>Words: oral, communication, refining, pragmatically, appropriate",
          "<b>Topic 16</b><br>Words: recording, oral, lower, voice, activities",
          "<b>Topic 16</b><br>Words: distance, oral, proficiency, language, english",
          "<b>Topic 16</b><br>Words: oral, shaping, seamless, me, say"
         ],
         "marker": {
          "color": "#009E73"
         },
         "mode": "lines",
         "name": "16_oral_communication_mediated_computer",
         "type": "scatter",
         "x": [
          2012,
          2013,
          2014,
          2015,
          2016,
          2017,
          2018,
          2019,
          2020,
          2022
         ],
         "y": [
          2,
          2,
          1,
          2,
          2,
          4,
          3,
          1,
          1,
          2
         ]
        },
        {
         "hoverinfo": "text",
         "hovertext": [
          "<b>Topic 17</b><br>Words: it, storytelling, piece, did, proud",
          "<b>Topic 17</b><br>Words: storytelling, digital, concerns, enjoyment, key",
          "<b>Topic 17</b><br>Words: structuring, mind, narratives, gameplay, story",
          "<b>Topic 17</b><br>Words: stories, storytelling, digital, bringing, facilitate",
          "<b>Topic 17</b><br>Words: funds, narrative, young, approach, practice",
          "<b>Topic 17</b><br>Words: storytelling, digital, stories, story, creative",
          "<b>Topic 17</b><br>Words: relational, stories, researching, account, identity",
          "<b>Topic 17</b><br>Words: story, storytelling, stage, six, structure",
          "<b>Topic 17</b><br>Words: storytelling, digital, interdisciplinary, creative, experienced",
          "<b>Topic 17</b><br>Words: dimensions, her, creativity, story, international"
         ],
         "marker": {
          "color": "#F0E442"
         },
         "mode": "lines",
         "name": "17_storytelling_digital_story_stories",
         "type": "scatter",
         "x": [
          2013,
          2014,
          2015,
          2016,
          2017,
          2019,
          2020,
          2021,
          2022,
          2023
         ],
         "y": [
          1,
          3,
          1,
          3,
          1,
          3,
          1,
          2,
          3,
          1
         ]
        },
        {
         "hoverinfo": "text",
         "hovertext": [
          "<b>Topic 18</b><br>Words: structure, exchange, activity, intercultural, analysis",
          "<b>Topic 18</b><br>Words: quot, believe, major, participant, nonnative",
          "<b>Topic 18</b><br>Words: born, nurses, web, intercultural, communicative",
          "<b>Topic 18</b><br>Words: morphologies, cultures, intercultural, communicative, exchange",
          "<b>Topic 18</b><br>Words: intercultural, phatic, cheap, communication, small",
          "<b>Topic 18</b><br>Words: intercultural, exchange, face, mis, gracias",
          "<b>Topic 18</b><br>Words: intercultural, methodologies, reflection, guided, affect",
          "<b>Topic 18</b><br>Words: intercultural, encounter, composition, varieties, mediator",
          "<b>Topic 18</b><br>Words: xr, room, insider, hands, cultures",
          "<b>Topic 18</b><br>Words: 23, large, reviewing, scale, virtual"
         ],
         "marker": {
          "color": "#D55E00"
         },
         "mode": "lines",
         "name": "18_intercultural_exchange_communicative_...",
         "type": "scatter",
         "x": [
          2012,
          2013,
          2014,
          2016,
          2017,
          2018,
          2019,
          2020,
          2021,
          2022
         ],
         "y": [
          1,
          1,
          2,
          2,
          2,
          5,
          1,
          3,
          1,
          1
         ]
        },
        {
         "hoverinfo": "text",
         "hovertext": [
          "<b>Topic 19</b><br>Words: blended, generation, chaos, tutors, difficulties",
          "<b>Topic 19</b><br>Words: dilemmas, blended, experiences, teacher, learner",
          "<b>Topic 19</b><br>Words: blended, interpretation, appropriateness, explorations, areas",
          "<b>Topic 19</b><br>Words: blended, presence, participation, courses, spanish",
          "<b>Topic 19</b><br>Words: f2f, blended, comparing, roles, course",
          "<b>Topic 19</b><br>Words: blended, inquiry, porous, ownership, expanded",
          "<b>Topic 19</b><br>Words: blended, environment, university, perceptions, learner",
          "<b>Topic 19</b><br>Words: blended, indexed, inclusive, ssci, articles",
          "<b>Topic 19</b><br>Words: blended, dropping, stracke, 2007, college"
         ],
         "marker": {
          "color": "#0072B2"
         },
         "mode": "lines",
         "name": "19_blended_learning_inquiry_college",
         "type": "scatter",
         "x": [
          2012,
          2013,
          2014,
          2018,
          2019,
          2020,
          2021,
          2022,
          2023
         ],
         "y": [
          5,
          1,
          3,
          1,
          1,
          3,
          1,
          2,
          2
         ]
        },
        {
         "hoverinfo": "text",
         "hovertext": [
          "<b>Topic 20</b><br>Words: social, network, esol, sociopragmatic, multiliteracy",
          "<b>Topic 20</b><br>Words: appropriately, effectively, facebook, training, social",
          "<b>Topic 20</b><br>Words: social, microblogging, transformation, networking, resource",
          "<b>Topic 20</b><br>Words: social, network, websites, implications, for",
          "<b>Topic 20</b><br>Words: social, sites, networks, busuu, networking",
          "<b>Topic 20</b><br>Words: social, networks, teaches, networking, talk",
          "<b>Topic 20</b><br>Words: minority, social, conversation, method, authentic",
          "<b>Topic 20</b><br>Words: social, media, networks, symmetric, justice",
          "<b>Topic 20</b><br>Words: social, media, platform, networking, 2008"
         ],
         "marker": {
          "color": "#CC79A7"
         },
         "mode": "lines",
         "name": "20_social_media_networking_networks",
         "type": "scatter",
         "x": [
          2012,
          2013,
          2014,
          2015,
          2016,
          2017,
          2018,
          2019,
          2022
         ],
         "y": [
          2,
          1,
          2,
          1,
          2,
          2,
          1,
          3,
          5
         ]
        },
        {
         "hoverinfo": "text",
         "hovertext": [
          "<b>Topic 21</b><br>Words: reading, five, graduate, screen, behaviors",
          "<b>Topic 21</b><br>Words: reading, what, book, work, think",
          "<b>Topic 21</b><br>Words: reading, strategy, comprehension, university, strategies",
          "<b>Topic 21</b><br>Words: reading, comprehension, braasch, hypermedia, greasser",
          "<b>Topic 21</b><br>Words: reading, books, home, responding, purpose",
          "<b>Topic 21</b><br>Words: reading, annotations, progress, processes, its",
          "<b>Topic 21</b><br>Words: technique, when, reading, response, efficacy",
          "<b>Topic 21</b><br>Words: personalized, reading, effect, listening, skills"
         ],
         "marker": {
          "color": "#E69F00"
         },
         "mode": "lines",
         "name": "21_reading_strategies_comprehension_stud...",
         "type": "scatter",
         "x": [
          2012,
          2013,
          2014,
          2015,
          2016,
          2017,
          2019,
          2022
         ],
         "y": [
          1,
          2,
          4,
          4,
          3,
          1,
          1,
          1
         ]
        },
        {
         "hoverinfo": "text",
         "hovertext": [
          "<b>Topic 22</b><br>Words: dealing, clause, databases, linguistics, corpora",
          "<b>Topic 22</b><br>Words: corpus, examples, enough, corpora, pedagogy",
          "<b>Topic 22</b><br>Words: concordancer, laptops, corpus, line, teachers",
          "<b>Topic 22</b><br>Words: corpus, routines, collocational, corpora, linguistics",
          "<b>Topic 22</b><br>Words: corpus, arab, immediate, long, term",
          "<b>Topic 22</b><br>Words: corpus, tricky, pedagogy, aided, step",
          "<b>Topic 22</b><br>Words: corpus, integrate, unpacking, corpora, pedagogy"
         ],
         "marker": {
          "color": "#56B4E9"
         },
         "mode": "lines",
         "name": "22_corpus_corpora_pedagogy_teacher",
         "type": "scatter",
         "x": [
          2013,
          2014,
          2015,
          2017,
          2021,
          2022,
          2023
         ],
         "y": [
          2,
          3,
          1,
          5,
          1,
          2,
          2
         ]
        },
        {
         "hoverinfo": "text",
         "hovertext": [
          "<b>Topic 23</b><br>Words: mall, market, professor, reply, tower",
          "<b>Topic 23</b><br>Words: mall, doesn, still, fringes, tell",
          "<b>Topic 23</b><br>Words: mall, outcomes, twenty, implementation, years",
          "<b>Topic 23</b><br>Words: mall, preschool, independent, recall, children",
          "<b>Topic 23</b><br>Words: mall, contextualised, oer, processing, empirical",
          "<b>Topic 23</b><br>Words: mall, narrative, meta, review, skills",
          "<b>Topic 23</b><br>Words: mall, 1994, efficiency, outcomes, comprehensive",
          "<b>Topic 23</b><br>Words: mall, oer, turkish, portuguese, polish"
         ],
         "marker": {
          "color": "#009E73"
         },
         "mode": "lines",
         "name": "23_mall_meta_oer_processing",
         "type": "scatter",
         "x": [
          2013,
          2014,
          2015,
          2016,
          2018,
          2021,
          2022,
          2023
         ],
         "y": [
          1,
          3,
          1,
          1,
          2,
          1,
          3,
          1
         ]
        },
        {
         "hoverinfo": "text",
         "hovertext": [
          "<b>Topic 24</b><br>Words: chat, planning, text, investigating, performance",
          "<b>Topic 24</b><br>Words: chat, independent, interactive, versus, l2",
          "<b>Topic 24</b><br>Words: chat, quot, synthetic, audio, text",
          "<b>Topic 24</b><br>Words: blogging, voice, performance, speaking, l2",
          "<b>Topic 24</b><br>Words: chat, text, interaction, accomplishment, transcripts",
          "<b>Topic 24</b><br>Words: chat, task, child, interaction, l2",
          "<b>Topic 24</b><br>Words: closings, chat, interactional, text, task",
          "<b>Topic 24</b><br>Words: management, topic, task, interactions, written"
         ],
         "marker": {
          "color": "#F0E442"
         },
         "mode": "lines",
         "name": "24_chat_task_text_l2",
         "type": "scatter",
         "x": [
          2012,
          2014,
          2015,
          2016,
          2017,
          2018,
          2020,
          2023
         ],
         "y": [
          1,
          1,
          1,
          1,
          3,
          4,
          1,
          1
         ]
        }
       ],
       "layout": {
        "height": 450,
        "hoverlabel": {
         "bgcolor": "white",
         "font": {
          "family": "Rockwell",
          "size": 16
         }
        },
        "legend": {
         "title": {
          "text": "<b>Global Topic Representation"
         }
        },
        "template": {
         "data": {
          "bar": [
           {
            "error_x": {
             "color": "rgb(36,36,36)"
            },
            "error_y": {
             "color": "rgb(36,36,36)"
            },
            "marker": {
             "line": {
              "color": "white",
              "width": 0.5
             },
             "pattern": {
              "fillmode": "overlay",
              "size": 10,
              "solidity": 0.2
             }
            },
            "type": "bar"
           }
          ],
          "barpolar": [
           {
            "marker": {
             "line": {
              "color": "white",
              "width": 0.5
             },
             "pattern": {
              "fillmode": "overlay",
              "size": 10,
              "solidity": 0.2
             }
            },
            "type": "barpolar"
           }
          ],
          "carpet": [
           {
            "aaxis": {
             "endlinecolor": "rgb(36,36,36)",
             "gridcolor": "white",
             "linecolor": "white",
             "minorgridcolor": "white",
             "startlinecolor": "rgb(36,36,36)"
            },
            "baxis": {
             "endlinecolor": "rgb(36,36,36)",
             "gridcolor": "white",
             "linecolor": "white",
             "minorgridcolor": "white",
             "startlinecolor": "rgb(36,36,36)"
            },
            "type": "carpet"
           }
          ],
          "choropleth": [
           {
            "colorbar": {
             "outlinewidth": 1,
             "tickcolor": "rgb(36,36,36)",
             "ticks": "outside"
            },
            "type": "choropleth"
           }
          ],
          "contour": [
           {
            "colorbar": {
             "outlinewidth": 1,
             "tickcolor": "rgb(36,36,36)",
             "ticks": "outside"
            },
            "colorscale": [
             [
              0,
              "#440154"
             ],
             [
              0.1111111111111111,
              "#482878"
             ],
             [
              0.2222222222222222,
              "#3e4989"
             ],
             [
              0.3333333333333333,
              "#31688e"
             ],
             [
              0.4444444444444444,
              "#26828e"
             ],
             [
              0.5555555555555556,
              "#1f9e89"
             ],
             [
              0.6666666666666666,
              "#35b779"
             ],
             [
              0.7777777777777778,
              "#6ece58"
             ],
             [
              0.8888888888888888,
              "#b5de2b"
             ],
             [
              1,
              "#fde725"
             ]
            ],
            "type": "contour"
           }
          ],
          "contourcarpet": [
           {
            "colorbar": {
             "outlinewidth": 1,
             "tickcolor": "rgb(36,36,36)",
             "ticks": "outside"
            },
            "type": "contourcarpet"
           }
          ],
          "heatmap": [
           {
            "colorbar": {
             "outlinewidth": 1,
             "tickcolor": "rgb(36,36,36)",
             "ticks": "outside"
            },
            "colorscale": [
             [
              0,
              "#440154"
             ],
             [
              0.1111111111111111,
              "#482878"
             ],
             [
              0.2222222222222222,
              "#3e4989"
             ],
             [
              0.3333333333333333,
              "#31688e"
             ],
             [
              0.4444444444444444,
              "#26828e"
             ],
             [
              0.5555555555555556,
              "#1f9e89"
             ],
             [
              0.6666666666666666,
              "#35b779"
             ],
             [
              0.7777777777777778,
              "#6ece58"
             ],
             [
              0.8888888888888888,
              "#b5de2b"
             ],
             [
              1,
              "#fde725"
             ]
            ],
            "type": "heatmap"
           }
          ],
          "heatmapgl": [
           {
            "colorbar": {
             "outlinewidth": 1,
             "tickcolor": "rgb(36,36,36)",
             "ticks": "outside"
            },
            "colorscale": [
             [
              0,
              "#440154"
             ],
             [
              0.1111111111111111,
              "#482878"
             ],
             [
              0.2222222222222222,
              "#3e4989"
             ],
             [
              0.3333333333333333,
              "#31688e"
             ],
             [
              0.4444444444444444,
              "#26828e"
             ],
             [
              0.5555555555555556,
              "#1f9e89"
             ],
             [
              0.6666666666666666,
              "#35b779"
             ],
             [
              0.7777777777777778,
              "#6ece58"
             ],
             [
              0.8888888888888888,
              "#b5de2b"
             ],
             [
              1,
              "#fde725"
             ]
            ],
            "type": "heatmapgl"
           }
          ],
          "histogram": [
           {
            "marker": {
             "line": {
              "color": "white",
              "width": 0.6
             }
            },
            "type": "histogram"
           }
          ],
          "histogram2d": [
           {
            "colorbar": {
             "outlinewidth": 1,
             "tickcolor": "rgb(36,36,36)",
             "ticks": "outside"
            },
            "colorscale": [
             [
              0,
              "#440154"
             ],
             [
              0.1111111111111111,
              "#482878"
             ],
             [
              0.2222222222222222,
              "#3e4989"
             ],
             [
              0.3333333333333333,
              "#31688e"
             ],
             [
              0.4444444444444444,
              "#26828e"
             ],
             [
              0.5555555555555556,
              "#1f9e89"
             ],
             [
              0.6666666666666666,
              "#35b779"
             ],
             [
              0.7777777777777778,
              "#6ece58"
             ],
             [
              0.8888888888888888,
              "#b5de2b"
             ],
             [
              1,
              "#fde725"
             ]
            ],
            "type": "histogram2d"
           }
          ],
          "histogram2dcontour": [
           {
            "colorbar": {
             "outlinewidth": 1,
             "tickcolor": "rgb(36,36,36)",
             "ticks": "outside"
            },
            "colorscale": [
             [
              0,
              "#440154"
             ],
             [
              0.1111111111111111,
              "#482878"
             ],
             [
              0.2222222222222222,
              "#3e4989"
             ],
             [
              0.3333333333333333,
              "#31688e"
             ],
             [
              0.4444444444444444,
              "#26828e"
             ],
             [
              0.5555555555555556,
              "#1f9e89"
             ],
             [
              0.6666666666666666,
              "#35b779"
             ],
             [
              0.7777777777777778,
              "#6ece58"
             ],
             [
              0.8888888888888888,
              "#b5de2b"
             ],
             [
              1,
              "#fde725"
             ]
            ],
            "type": "histogram2dcontour"
           }
          ],
          "mesh3d": [
           {
            "colorbar": {
             "outlinewidth": 1,
             "tickcolor": "rgb(36,36,36)",
             "ticks": "outside"
            },
            "type": "mesh3d"
           }
          ],
          "parcoords": [
           {
            "line": {
             "colorbar": {
              "outlinewidth": 1,
              "tickcolor": "rgb(36,36,36)",
              "ticks": "outside"
             }
            },
            "type": "parcoords"
           }
          ],
          "pie": [
           {
            "automargin": true,
            "type": "pie"
           }
          ],
          "scatter": [
           {
            "fillpattern": {
             "fillmode": "overlay",
             "size": 10,
             "solidity": 0.2
            },
            "type": "scatter"
           }
          ],
          "scatter3d": [
           {
            "line": {
             "colorbar": {
              "outlinewidth": 1,
              "tickcolor": "rgb(36,36,36)",
              "ticks": "outside"
             }
            },
            "marker": {
             "colorbar": {
              "outlinewidth": 1,
              "tickcolor": "rgb(36,36,36)",
              "ticks": "outside"
             }
            },
            "type": "scatter3d"
           }
          ],
          "scattercarpet": [
           {
            "marker": {
             "colorbar": {
              "outlinewidth": 1,
              "tickcolor": "rgb(36,36,36)",
              "ticks": "outside"
             }
            },
            "type": "scattercarpet"
           }
          ],
          "scattergeo": [
           {
            "marker": {
             "colorbar": {
              "outlinewidth": 1,
              "tickcolor": "rgb(36,36,36)",
              "ticks": "outside"
             }
            },
            "type": "scattergeo"
           }
          ],
          "scattergl": [
           {
            "marker": {
             "colorbar": {
              "outlinewidth": 1,
              "tickcolor": "rgb(36,36,36)",
              "ticks": "outside"
             }
            },
            "type": "scattergl"
           }
          ],
          "scattermapbox": [
           {
            "marker": {
             "colorbar": {
              "outlinewidth": 1,
              "tickcolor": "rgb(36,36,36)",
              "ticks": "outside"
             }
            },
            "type": "scattermapbox"
           }
          ],
          "scatterpolar": [
           {
            "marker": {
             "colorbar": {
              "outlinewidth": 1,
              "tickcolor": "rgb(36,36,36)",
              "ticks": "outside"
             }
            },
            "type": "scatterpolar"
           }
          ],
          "scatterpolargl": [
           {
            "marker": {
             "colorbar": {
              "outlinewidth": 1,
              "tickcolor": "rgb(36,36,36)",
              "ticks": "outside"
             }
            },
            "type": "scatterpolargl"
           }
          ],
          "scatterternary": [
           {
            "marker": {
             "colorbar": {
              "outlinewidth": 1,
              "tickcolor": "rgb(36,36,36)",
              "ticks": "outside"
             }
            },
            "type": "scatterternary"
           }
          ],
          "surface": [
           {
            "colorbar": {
             "outlinewidth": 1,
             "tickcolor": "rgb(36,36,36)",
             "ticks": "outside"
            },
            "colorscale": [
             [
              0,
              "#440154"
             ],
             [
              0.1111111111111111,
              "#482878"
             ],
             [
              0.2222222222222222,
              "#3e4989"
             ],
             [
              0.3333333333333333,
              "#31688e"
             ],
             [
              0.4444444444444444,
              "#26828e"
             ],
             [
              0.5555555555555556,
              "#1f9e89"
             ],
             [
              0.6666666666666666,
              "#35b779"
             ],
             [
              0.7777777777777778,
              "#6ece58"
             ],
             [
              0.8888888888888888,
              "#b5de2b"
             ],
             [
              1,
              "#fde725"
             ]
            ],
            "type": "surface"
           }
          ],
          "table": [
           {
            "cells": {
             "fill": {
              "color": "rgb(237,237,237)"
             },
             "line": {
              "color": "white"
             }
            },
            "header": {
             "fill": {
              "color": "rgb(217,217,217)"
             },
             "line": {
              "color": "white"
             }
            },
            "type": "table"
           }
          ]
         },
         "layout": {
          "annotationdefaults": {
           "arrowhead": 0,
           "arrowwidth": 1
          },
          "autotypenumbers": "strict",
          "coloraxis": {
           "colorbar": {
            "outlinewidth": 1,
            "tickcolor": "rgb(36,36,36)",
            "ticks": "outside"
           }
          },
          "colorscale": {
           "diverging": [
            [
             0,
             "rgb(103,0,31)"
            ],
            [
             0.1,
             "rgb(178,24,43)"
            ],
            [
             0.2,
             "rgb(214,96,77)"
            ],
            [
             0.3,
             "rgb(244,165,130)"
            ],
            [
             0.4,
             "rgb(253,219,199)"
            ],
            [
             0.5,
             "rgb(247,247,247)"
            ],
            [
             0.6,
             "rgb(209,229,240)"
            ],
            [
             0.7,
             "rgb(146,197,222)"
            ],
            [
             0.8,
             "rgb(67,147,195)"
            ],
            [
             0.9,
             "rgb(33,102,172)"
            ],
            [
             1,
             "rgb(5,48,97)"
            ]
           ],
           "sequential": [
            [
             0,
             "#440154"
            ],
            [
             0.1111111111111111,
             "#482878"
            ],
            [
             0.2222222222222222,
             "#3e4989"
            ],
            [
             0.3333333333333333,
             "#31688e"
            ],
            [
             0.4444444444444444,
             "#26828e"
            ],
            [
             0.5555555555555556,
             "#1f9e89"
            ],
            [
             0.6666666666666666,
             "#35b779"
            ],
            [
             0.7777777777777778,
             "#6ece58"
            ],
            [
             0.8888888888888888,
             "#b5de2b"
            ],
            [
             1,
             "#fde725"
            ]
           ],
           "sequentialminus": [
            [
             0,
             "#440154"
            ],
            [
             0.1111111111111111,
             "#482878"
            ],
            [
             0.2222222222222222,
             "#3e4989"
            ],
            [
             0.3333333333333333,
             "#31688e"
            ],
            [
             0.4444444444444444,
             "#26828e"
            ],
            [
             0.5555555555555556,
             "#1f9e89"
            ],
            [
             0.6666666666666666,
             "#35b779"
            ],
            [
             0.7777777777777778,
             "#6ece58"
            ],
            [
             0.8888888888888888,
             "#b5de2b"
            ],
            [
             1,
             "#fde725"
            ]
           ]
          },
          "colorway": [
           "#1F77B4",
           "#FF7F0E",
           "#2CA02C",
           "#D62728",
           "#9467BD",
           "#8C564B",
           "#E377C2",
           "#7F7F7F",
           "#BCBD22",
           "#17BECF"
          ],
          "font": {
           "color": "rgb(36,36,36)"
          },
          "geo": {
           "bgcolor": "white",
           "lakecolor": "white",
           "landcolor": "white",
           "showlakes": true,
           "showland": true,
           "subunitcolor": "white"
          },
          "hoverlabel": {
           "align": "left"
          },
          "hovermode": "closest",
          "mapbox": {
           "style": "light"
          },
          "paper_bgcolor": "white",
          "plot_bgcolor": "white",
          "polar": {
           "angularaxis": {
            "gridcolor": "rgb(232,232,232)",
            "linecolor": "rgb(36,36,36)",
            "showgrid": false,
            "showline": true,
            "ticks": "outside"
           },
           "bgcolor": "white",
           "radialaxis": {
            "gridcolor": "rgb(232,232,232)",
            "linecolor": "rgb(36,36,36)",
            "showgrid": false,
            "showline": true,
            "ticks": "outside"
           }
          },
          "scene": {
           "xaxis": {
            "backgroundcolor": "white",
            "gridcolor": "rgb(232,232,232)",
            "gridwidth": 2,
            "linecolor": "rgb(36,36,36)",
            "showbackground": true,
            "showgrid": false,
            "showline": true,
            "ticks": "outside",
            "zeroline": false,
            "zerolinecolor": "rgb(36,36,36)"
           },
           "yaxis": {
            "backgroundcolor": "white",
            "gridcolor": "rgb(232,232,232)",
            "gridwidth": 2,
            "linecolor": "rgb(36,36,36)",
            "showbackground": true,
            "showgrid": false,
            "showline": true,
            "ticks": "outside",
            "zeroline": false,
            "zerolinecolor": "rgb(36,36,36)"
           },
           "zaxis": {
            "backgroundcolor": "white",
            "gridcolor": "rgb(232,232,232)",
            "gridwidth": 2,
            "linecolor": "rgb(36,36,36)",
            "showbackground": true,
            "showgrid": false,
            "showline": true,
            "ticks": "outside",
            "zeroline": false,
            "zerolinecolor": "rgb(36,36,36)"
           }
          },
          "shapedefaults": {
           "fillcolor": "black",
           "line": {
            "width": 0
           },
           "opacity": 0.3
          },
          "ternary": {
           "aaxis": {
            "gridcolor": "rgb(232,232,232)",
            "linecolor": "rgb(36,36,36)",
            "showgrid": false,
            "showline": true,
            "ticks": "outside"
           },
           "baxis": {
            "gridcolor": "rgb(232,232,232)",
            "linecolor": "rgb(36,36,36)",
            "showgrid": false,
            "showline": true,
            "ticks": "outside"
           },
           "bgcolor": "white",
           "caxis": {
            "gridcolor": "rgb(232,232,232)",
            "linecolor": "rgb(36,36,36)",
            "showgrid": false,
            "showline": true,
            "ticks": "outside"
           }
          },
          "title": {
           "x": 0.05
          },
          "xaxis": {
           "automargin": true,
           "gridcolor": "rgb(232,232,232)",
           "linecolor": "rgb(36,36,36)",
           "showgrid": false,
           "showline": true,
           "ticks": "outside",
           "title": {
            "standoff": 15
           },
           "zeroline": false,
           "zerolinecolor": "rgb(36,36,36)"
          },
          "yaxis": {
           "automargin": true,
           "gridcolor": "rgb(232,232,232)",
           "linecolor": "rgb(36,36,36)",
           "showgrid": false,
           "showline": true,
           "ticks": "outside",
           "title": {
            "standoff": 15
           },
           "zeroline": false,
           "zerolinecolor": "rgb(36,36,36)"
          }
         }
        },
        "title": {
         "font": {
          "color": "Black",
          "size": 22
         },
         "text": "<b>Topics over Time</b>",
         "x": 0.4,
         "xanchor": "center",
         "y": 0.95,
         "yanchor": "top"
        },
        "width": 1250,
        "xaxis": {
         "showgrid": true
        },
        "yaxis": {
         "showgrid": true,
         "title": {
          "text": "Frequency"
         }
        }
       }
      }
     },
     "metadata": {},
     "output_type": "display_data"
    }
   ],
   "source": [
    "model.visualize_topics_over_time(topics_over_time)"
   ]
  },
  {
   "cell_type": "code",
   "execution_count": 19,
   "metadata": {},
   "outputs": [],
   "source": [
    "#Extract topics-document assignments\n",
    "document_topics = []\n",
    "for i, topic in enumerate(topics):\n",
    "    document_id = df.loc[i, 'id']\n",
    "    document_title = df.loc[i, 'title']\n",
    "    document_topics.append({'id': document_id, 'title': document_title, 'topic': topic})\n",
    "#Export to JSON\n",
    "with open('miniLM_titles_topics.json', 'w') as f:\n",
    "    json.dump(document_topics, f)"
   ]
  }
 ],
 "metadata": {
  "kernelspec": {
   "display_name": "Python 3",
   "language": "python",
   "name": "python3"
  },
  "language_info": {
   "codemirror_mode": {
    "name": "ipython",
    "version": 3
   },
   "file_extension": ".py",
   "mimetype": "text/x-python",
   "name": "python",
   "nbconvert_exporter": "python",
   "pygments_lexer": "ipython3",
   "version": "3.11.0"
  },
  "orig_nbformat": 4
 },
 "nbformat": 4,
 "nbformat_minor": 2
}
