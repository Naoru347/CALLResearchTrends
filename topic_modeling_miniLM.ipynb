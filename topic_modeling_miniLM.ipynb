{
 "cells": [
  {
   "cell_type": "code",
   "execution_count": 37,
   "metadata": {},
   "outputs": [],
   "source": [
    "import pandas as pd\n",
    "import matplotlib.pyplot as plt\n",
    "import json\n",
    "import time\n",
    "import re\n",
    "from bertopic import BERTopic\n",
    "from wordcloud import WordCloud"
   ]
  },
  {
   "cell_type": "code",
   "execution_count": 38,
   "metadata": {},
   "outputs": [
    {
     "name": "stdout",
     "output_type": "stream",
     "text": [
      "Importing data and building DataFrame:\n",
      "Data load time 0.020001649856567383\n",
      "{'id': 'EJ1292238', 'title': 'What Makes a Good-Quality Language MOOC? An Empirical Study of Criteria to Evaluate the Quality of Online Language Courses from Learners&apos; Perspectives', 'author': 'Luo, Rong, Ye, Zixuan', 'description': \"This paper focuses on quality assurance in language massive open online courses (LMOOCs). It is a qualitative study that adopts the grounded theory method and analyses evaluative comments on the quality of LMOOCs from learners' perspectives. With the data collected from 1,000 evaluations from English as a second language (ESL) learners on China's biggest MOOC platform &quot;iCourse&quot;, this study examines what has influenced learners' perceptions of LMOOCs and identifies the specific quality criteria of five types of them, including ESL courses for speaking, reading, writing, cultural studies, and integrated skills. The results of the study will lay a foundation for the establishment of a quality criteria framework for LMOOCs and provide insights into design principles for effective online language courses tailored to the diverse needs of a massive number of language learners.\", 'subject': 'Foreign Countries, Second Language Learning, English (Second Language), Online Courses, Educational Quality, Quality Assurance, Student Attitudes, Criteria, Curriculum Design', 'source': 'ReCALL', 'publicationdateyear': 2021, 'identifiersgeo': 'China'}\n"
     ]
    }
   ],
   "source": [
    "print(\"Importing data and building DataFrame:\")\n",
    "start_time = time.time()\n",
    "with open('data/combinedData.json', 'r') as f:\n",
    "    data = json.load(f)\n",
    "end_time = time.time()\n",
    "load_time = end_time - start_time\n",
    "print(\"Data load time\", load_time)\n",
    "print(data[0])"
   ]
  },
  {
   "cell_type": "code",
   "execution_count": 39,
   "metadata": {},
   "outputs": [
    {
     "name": "stdout",
     "output_type": "stream",
     "text": [
      "Data loaded, converting to DataFrame\n",
      "Data successfully converted to DataFrame. Conversion time: 0.004997968673706055\n"
     ]
    }
   ],
   "source": [
    "print(\"Data loaded, converting to DataFrame\")\n",
    "start_time = time.time()\n",
    "df = pd.DataFrame(data)\n",
    "end_time = time.time()\n",
    "convert_time = end_time - start_time\n",
    "print(\"Data successfully converted to DataFrame. Conversion time:\", convert_time)"
   ]
  },
  {
   "cell_type": "code",
   "execution_count": 40,
   "metadata": {},
   "outputs": [
    {
     "name": "stderr",
     "output_type": "stream",
     "text": [
      "Batches: 100%|██████████| 63/63 [01:57<00:00,  1.87s/it]\n",
      "2023-05-12 10:11:21,946 - BERTopic - Transformed documents to Embeddings\n",
      "2023-05-12 10:11:26,920 - BERTopic - Reduced dimensionality\n",
      "2023-05-12 10:11:26,998 - BERTopic - Clustered reduced embeddings\n",
      "11it [00:00, 11.39it/s]\n"
     ]
    },
    {
     "data": {
      "text/html": [
       "<div>\n",
       "<style scoped>\n",
       "    .dataframe tbody tr th:only-of-type {\n",
       "        vertical-align: middle;\n",
       "    }\n",
       "\n",
       "    .dataframe tbody tr th {\n",
       "        vertical-align: top;\n",
       "    }\n",
       "\n",
       "    .dataframe thead th {\n",
       "        text-align: right;\n",
       "    }\n",
       "</style>\n",
       "<table border=\"1\" class=\"dataframe\">\n",
       "  <thead>\n",
       "    <tr style=\"text-align: right;\">\n",
       "      <th></th>\n",
       "      <th>Topic</th>\n",
       "      <th>Count</th>\n",
       "      <th>Name</th>\n",
       "    </tr>\n",
       "  </thead>\n",
       "  <tbody>\n",
       "    <tr>\n",
       "      <th>0</th>\n",
       "      <td>-1</td>\n",
       "      <td>578</td>\n",
       "      <td>-1_the_of_and_in</td>\n",
       "    </tr>\n",
       "    <tr>\n",
       "      <th>1</th>\n",
       "      <td>0</td>\n",
       "      <td>146</td>\n",
       "      <td>0_technology_teachers_of_and</td>\n",
       "    </tr>\n",
       "    <tr>\n",
       "      <th>2</th>\n",
       "      <td>1</td>\n",
       "      <td>126</td>\n",
       "      <td>1_information_is_systems_the</td>\n",
       "    </tr>\n",
       "    <tr>\n",
       "      <th>3</th>\n",
       "      <td>2</td>\n",
       "      <td>81</td>\n",
       "      <td>2_intercultural_telecollaboration_and_the</td>\n",
       "    </tr>\n",
       "    <tr>\n",
       "      <th>4</th>\n",
       "      <td>3</td>\n",
       "      <td>75</td>\n",
       "      <td>3_analytics_data_business_big</td>\n",
       "    </tr>\n",
       "    <tr>\n",
       "      <th>5</th>\n",
       "      <td>4</td>\n",
       "      <td>51</td>\n",
       "      <td>4_task_scmc_learners_communication</td>\n",
       "    </tr>\n",
       "    <tr>\n",
       "      <th>6</th>\n",
       "      <td>5</td>\n",
       "      <td>51</td>\n",
       "      <td>5_corpus_corpora_ddl_of</td>\n",
       "    </tr>\n",
       "    <tr>\n",
       "      <th>7</th>\n",
       "      <td>6</td>\n",
       "      <td>50</td>\n",
       "      <td>6_security_cybersecurity_information_to</td>\n",
       "    </tr>\n",
       "    <tr>\n",
       "      <th>8</th>\n",
       "      <td>7</td>\n",
       "      <td>50</td>\n",
       "      <td>7_pronunciation_asr_speech_listening</td>\n",
       "    </tr>\n",
       "    <tr>\n",
       "      <th>9</th>\n",
       "      <td>8</td>\n",
       "      <td>49</td>\n",
       "      <td>8_writing_collaborative_wiki_peer</td>\n",
       "    </tr>\n",
       "    <tr>\n",
       "      <th>10</th>\n",
       "      <td>9</td>\n",
       "      <td>46</td>\n",
       "      <td>9_mobile_mall_learning_language</td>\n",
       "    </tr>\n",
       "    <tr>\n",
       "      <th>11</th>\n",
       "      <td>10</td>\n",
       "      <td>35</td>\n",
       "      <td>10_game_games_gaming_language</td>\n",
       "    </tr>\n",
       "    <tr>\n",
       "      <th>12</th>\n",
       "      <td>11</td>\n",
       "      <td>33</td>\n",
       "      <td>11_captions_comprehension_captioning_vocabulary</td>\n",
       "    </tr>\n",
       "    <tr>\n",
       "      <th>13</th>\n",
       "      <td>12</td>\n",
       "      <td>33</td>\n",
       "      <td>12_vr_virtual_reality_learning</td>\n",
       "    </tr>\n",
       "    <tr>\n",
       "      <th>14</th>\n",
       "      <td>13</td>\n",
       "      <td>33</td>\n",
       "      <td>13_programming_students_introductory_python</td>\n",
       "    </tr>\n",
       "    <tr>\n",
       "      <th>15</th>\n",
       "      <td>14</td>\n",
       "      <td>32</td>\n",
       "      <td>14_mobile_devices_phones_smart</td>\n",
       "    </tr>\n",
       "    <tr>\n",
       "      <th>16</th>\n",
       "      <td>15</td>\n",
       "      <td>31</td>\n",
       "      <td>15_pandemic_covid_online_19</td>\n",
       "    </tr>\n",
       "    <tr>\n",
       "      <th>17</th>\n",
       "      <td>16</td>\n",
       "      <td>31</td>\n",
       "      <td>16_database_sql_query_data</td>\n",
       "    </tr>\n",
       "    <tr>\n",
       "      <th>18</th>\n",
       "      <td>17</td>\n",
       "      <td>30</td>\n",
       "      <td>17_blended_online_learning_lmoocs</td>\n",
       "    </tr>\n",
       "    <tr>\n",
       "      <th>19</th>\n",
       "      <td>18</td>\n",
       "      <td>30</td>\n",
       "      <td>18_flipped_classroom_the_class</td>\n",
       "    </tr>\n",
       "    <tr>\n",
       "      <th>20</th>\n",
       "      <td>19</td>\n",
       "      <td>27</td>\n",
       "      <td>19_social_media_internet_facebook</td>\n",
       "    </tr>\n",
       "    <tr>\n",
       "      <th>21</th>\n",
       "      <td>20</td>\n",
       "      <td>24</td>\n",
       "      <td>20_online_moocs_courses_education</td>\n",
       "    </tr>\n",
       "    <tr>\n",
       "      <th>22</th>\n",
       "      <td>21</td>\n",
       "      <td>21</td>\n",
       "      <td>21_privacy_plagiarism_integrity_academic</td>\n",
       "    </tr>\n",
       "    <tr>\n",
       "      <th>23</th>\n",
       "      <td>22</td>\n",
       "      <td>21</td>\n",
       "      <td>22_multimodal_of_communication_the</td>\n",
       "    </tr>\n",
       "    <tr>\n",
       "      <th>24</th>\n",
       "      <td>23</td>\n",
       "      <td>21</td>\n",
       "      <td>23_feedback_error_writing_awe</td>\n",
       "    </tr>\n",
       "    <tr>\n",
       "      <th>25</th>\n",
       "      <td>24</td>\n",
       "      <td>20</td>\n",
       "      <td>24_case_the_to_company</td>\n",
       "    </tr>\n",
       "    <tr>\n",
       "      <th>26</th>\n",
       "      <td>25</td>\n",
       "      <td>20</td>\n",
       "      <td>25_agile_scrum_project_to</td>\n",
       "    </tr>\n",
       "    <tr>\n",
       "      <th>27</th>\n",
       "      <td>26</td>\n",
       "      <td>19</td>\n",
       "      <td>26_gamification_game_games_kahoot</td>\n",
       "    </tr>\n",
       "    <tr>\n",
       "      <th>28</th>\n",
       "      <td>27</td>\n",
       "      <td>19</td>\n",
       "      <td>27_storytelling_digital_narrative_stories</td>\n",
       "    </tr>\n",
       "    <tr>\n",
       "      <th>29</th>\n",
       "      <td>28</td>\n",
       "      <td>19</td>\n",
       "      <td>28_reading_comprehension_readers_books</td>\n",
       "    </tr>\n",
       "    <tr>\n",
       "      <th>30</th>\n",
       "      <td>29</td>\n",
       "      <td>18</td>\n",
       "      <td>29_team_teamwork_teams_group</td>\n",
       "    </tr>\n",
       "    <tr>\n",
       "      <th>31</th>\n",
       "      <td>30</td>\n",
       "      <td>17</td>\n",
       "      <td>30_global_income_quot_of</td>\n",
       "    </tr>\n",
       "    <tr>\n",
       "      <th>32</th>\n",
       "      <td>31</td>\n",
       "      <td>17</td>\n",
       "      <td>31_learning_language_social_online</td>\n",
       "    </tr>\n",
       "    <tr>\n",
       "      <th>33</th>\n",
       "      <td>32</td>\n",
       "      <td>17</td>\n",
       "      <td>32_health_physical_the_of</td>\n",
       "    </tr>\n",
       "    <tr>\n",
       "      <th>34</th>\n",
       "      <td>33</td>\n",
       "      <td>16</td>\n",
       "      <td>33_the_education_of_preschool</td>\n",
       "    </tr>\n",
       "    <tr>\n",
       "      <th>35</th>\n",
       "      <td>34</td>\n",
       "      <td>15</td>\n",
       "      <td>34_robot_rall_chatbots_chatbot</td>\n",
       "    </tr>\n",
       "    <tr>\n",
       "      <th>36</th>\n",
       "      <td>35</td>\n",
       "      <td>15</td>\n",
       "      <td>35_app_development_inventor_android</td>\n",
       "    </tr>\n",
       "    <tr>\n",
       "      <th>37</th>\n",
       "      <td>36</td>\n",
       "      <td>14</td>\n",
       "      <td>36_vocabulary_l2_idioms_gloss</td>\n",
       "    </tr>\n",
       "    <tr>\n",
       "      <th>38</th>\n",
       "      <td>37</td>\n",
       "      <td>13</td>\n",
       "      <td>37_cloud_computing_decision_cc</td>\n",
       "    </tr>\n",
       "    <tr>\n",
       "      <th>39</th>\n",
       "      <td>38</td>\n",
       "      <td>13</td>\n",
       "      <td>38_anxiety_fla_repetition_participants</td>\n",
       "    </tr>\n",
       "    <tr>\n",
       "      <th>40</th>\n",
       "      <td>39</td>\n",
       "      <td>13</td>\n",
       "      <td>39_erp_business_enterprise_systems</td>\n",
       "    </tr>\n",
       "    <tr>\n",
       "      <th>41</th>\n",
       "      <td>40</td>\n",
       "      <td>13</td>\n",
       "      <td>40_disabilities_systems_design_of</td>\n",
       "    </tr>\n",
       "    <tr>\n",
       "      <th>42</th>\n",
       "      <td>41</td>\n",
       "      <td>12</td>\n",
       "      <td>41_discussions_online_student_discussion</td>\n",
       "    </tr>\n",
       "    <tr>\n",
       "      <th>43</th>\n",
       "      <td>42</td>\n",
       "      <td>11</td>\n",
       "      <td>42_blogs_blogging_blog_writing</td>\n",
       "    </tr>\n",
       "  </tbody>\n",
       "</table>\n",
       "</div>"
      ],
      "text/plain": [
       "    Topic  Count                                             Name\n",
       "0      -1    578                                 -1_the_of_and_in\n",
       "1       0    146                     0_technology_teachers_of_and\n",
       "2       1    126                     1_information_is_systems_the\n",
       "3       2     81        2_intercultural_telecollaboration_and_the\n",
       "4       3     75                    3_analytics_data_business_big\n",
       "5       4     51               4_task_scmc_learners_communication\n",
       "6       5     51                          5_corpus_corpora_ddl_of\n",
       "7       6     50          6_security_cybersecurity_information_to\n",
       "8       7     50             7_pronunciation_asr_speech_listening\n",
       "9       8     49                8_writing_collaborative_wiki_peer\n",
       "10      9     46                  9_mobile_mall_learning_language\n",
       "11     10     35                    10_game_games_gaming_language\n",
       "12     11     33  11_captions_comprehension_captioning_vocabulary\n",
       "13     12     33                   12_vr_virtual_reality_learning\n",
       "14     13     33      13_programming_students_introductory_python\n",
       "15     14     32                   14_mobile_devices_phones_smart\n",
       "16     15     31                      15_pandemic_covid_online_19\n",
       "17     16     31                       16_database_sql_query_data\n",
       "18     17     30                17_blended_online_learning_lmoocs\n",
       "19     18     30                   18_flipped_classroom_the_class\n",
       "20     19     27                19_social_media_internet_facebook\n",
       "21     20     24                20_online_moocs_courses_education\n",
       "22     21     21         21_privacy_plagiarism_integrity_academic\n",
       "23     22     21               22_multimodal_of_communication_the\n",
       "24     23     21                    23_feedback_error_writing_awe\n",
       "25     24     20                           24_case_the_to_company\n",
       "26     25     20                        25_agile_scrum_project_to\n",
       "27     26     19                26_gamification_game_games_kahoot\n",
       "28     27     19        27_storytelling_digital_narrative_stories\n",
       "29     28     19           28_reading_comprehension_readers_books\n",
       "30     29     18                     29_team_teamwork_teams_group\n",
       "31     30     17                         30_global_income_quot_of\n",
       "32     31     17               31_learning_language_social_online\n",
       "33     32     17                        32_health_physical_the_of\n",
       "34     33     16                    33_the_education_of_preschool\n",
       "35     34     15                   34_robot_rall_chatbots_chatbot\n",
       "36     35     15              35_app_development_inventor_android\n",
       "37     36     14                    36_vocabulary_l2_idioms_gloss\n",
       "38     37     13                   37_cloud_computing_decision_cc\n",
       "39     38     13           38_anxiety_fla_repetition_participants\n",
       "40     39     13               39_erp_business_enterprise_systems\n",
       "41     40     13                40_disabilities_systems_design_of\n",
       "42     41     12         41_discussions_online_student_discussion\n",
       "43     42     11                   42_blogs_blogging_blog_writing"
      ]
     },
     "execution_count": 40,
     "metadata": {},
     "output_type": "execute_result"
    }
   ],
   "source": [
    "model = BERTopic(verbose=True, embedding_model=\"all-MiniLM-L6-v2\")\n",
    "#embeddingmodel embedding_model=\"all-MiniLM-L6-v2\" or embedding_mode=\"all-mpnet-base-v2\"\n",
    "docs = df.description.to_list()\n",
    "pub_dates = df.publicationdateyear.to_list()\n",
    "topics, probabilities = model.fit_transform(docs)\n",
    "topics_over_time = model.topics_over_time(docs, pub_dates)\n",
    "model.get_topic_info()"
   ]
  },
  {
   "cell_type": "code",
   "execution_count": 41,
   "metadata": {},
   "outputs": [],
   "source": [
    "def create_wordcloud(model, topic):\n",
    "     text = {word: value for word, value in model.get_topic(topic)}\n",
    "     wc = WordCloud(background_color=\"white\", max_words=1000)\n",
    "     wc.generate_from_frequencies(text)\n",
    "     plt.imshow(wc, interpolation=\"bilinear\")\n",
    "     plt.axis(\"off\")\n",
    "     plt.show()"
   ]
  },
  {
   "cell_type": "code",
   "execution_count": 52,
   "metadata": {},
   "outputs": [
    {
     "data": {
      "image/png": "[encoded data removed]",
      "text/plain": [
       "<Figure size 640x480 with 1 Axes>"
      ]
     },
     "metadata": {},
     "output_type": "display_data"
    }
   ],
   "source": [
    "create_wordcloud(model, topic=15)"
   ]
  },
  {
   "cell_type": "code",
   "execution_count": 43,
   "metadata": {},
   "outputs": [
    {
     "data": {
      "application/vnd.plotly.v1+json": {
       "config": {
        "plotlyServerURL": "https://plot.ly"
       },
       "data": [
        {
         "customdata": [
          [
           0,
           "technology | teachers | of | and | the",
           146
          ],
          [
           1,
           "information | is | systems | the | and",
           126
          ],
          [
           2,
           "intercultural | telecollaboration | and | the | of",
           81
          ],
          [
           3,
           "analytics | data | business | big | to",
           75
          ],
          [
           4,
           "task | scmc | learners | communication | in",
           51
          ],
          [
           5,
           "corpus | corpora | ddl | of | the",
           51
          ],
          [
           6,
           "security | cybersecurity | information | to | the",
           50
          ],
          [
           7,
           "pronunciation | asr | speech | listening | of",
           50
          ],
          [
           8,
           "writing | collaborative | wiki | peer | feedback",
           49
          ],
          [
           9,
           "mobile | mall | learning | language | of",
           46
          ],
          [
           10,
           "game | games | gaming | language | playing",
           35
          ],
          [
           11,
           "captions | comprehension | captioning | vocabulary | caption",
           33
          ],
          [
           12,
           "vr | virtual | reality | learning | immersive",
           33
          ],
          [
           13,
           "programming | students | introductory | python | to",
           33
          ],
          [
           14,
           "mobile | devices | phones | smart | tablet",
           32
          ],
          [
           15,
           "pandemic | covid | online | 19 | to",
           31
          ],
          [
           16,
           "database | sql | query | data | case",
           31
          ],
          [
           17,
           "blended | online | learning | lmoocs | the",
           30
          ],
          [
           18,
           "flipped | classroom | the | class | in",
           30
          ],
          [
           19,
           "social | media | internet | facebook | use",
           27
          ],
          [
           20,
           "online | moocs | courses | education | distance",
           24
          ],
          [
           21,
           "privacy | plagiarism | integrity | academic | ethical",
           21
          ],
          [
           22,
           "multimodal | of | communication | the | semiotic",
           21
          ],
          [
           23,
           "feedback | error | writing | awe | corrective",
           21
          ],
          [
           24,
           "case | the | to | company | system",
           20
          ],
          [
           25,
           "agile | scrum | project | to | development",
           20
          ],
          [
           26,
           "gamification | game | games | kahoot | learning",
           19
          ],
          [
           27,
           "storytelling | digital | narrative | stories | and",
           19
          ],
          [
           28,
           "reading | comprehension | readers | books | students",
           19
          ],
          [
           29,
           "team | teamwork | teams | group | students",
           18
          ],
          [
           30,
           "global | income | quot | of | the",
           17
          ],
          [
           31,
           "learning | language | social | online | sites",
           17
          ],
          [
           32,
           "health | physical | the | of | patients",
           17
          ],
          [
           33,
           "the | education | of | preschool | school",
           16
          ],
          [
           34,
           "robot | rall | chatbots | chatbot | telepresence",
           15
          ],
          [
           35,
           "app | development | inventor | android | game",
           15
          ],
          [
           36,
           "vocabulary | l2 | idioms | gloss | learning",
           14
          ],
          [
           37,
           "cloud | computing | decision | cc | aws",
           13
          ],
          [
           38,
           "anxiety | fla | repetition | participants | foreign",
           13
          ],
          [
           39,
           "erp | business | enterprise | systems | simulation",
           13
          ],
          [
           40,
           "disabilities | systems | design | of | with",
           13
          ],
          [
           41,
           "discussions | online | student | discussion | engagement",
           12
          ],
          [
           42,
           "blogs | blogging | blog | writing | news",
           11
          ]
         ],
         "hovertemplate": "<b>Topic %{customdata[0]}</b><br>%{customdata[1]}<br>Size: %{customdata[2]}",
         "legendgroup": "",
         "marker": {
          "color": "#B0BEC5",
          "line": {
           "color": "DarkSlateGrey",
           "width": 2
          },
          "size": [
           146,
           126,
           81,
           75,
           51,
           51,
           50,
           50,
           49,
           46,
           35,
           33,
           33,
           33,
           32,
           31,
           31,
           30,
           30,
           27,
           24,
           21,
           21,
           21,
           20,
           20,
           19,
           19,
           19,
           18,
           17,
           17,
           17,
           16,
           15,
           15,
           14,
           13,
           13,
           13,
           13,
           12,
           11
          ],
          "sizemode": "area",
          "sizeref": 0.09125,
          "symbol": "circle"
         },
         "mode": "markers",
         "name": "",
         "orientation": "v",
         "showlegend": false,
         "type": "scatter",
         "x": [
          3.6553096771240234,
          -3.6780805587768555,
          5.255091190338135,
          -3.884176015853882,
          5.071020603179932,
          5.523806095123291,
          -3.5105535984039307,
          3.7673580646514893,
          5.491292953491211,
          3.5379626750946045,
          3.03289794921875,
          3.8557844161987305,
          2.9319725036621094,
          12.925764083862305,
          3.2559103965759277,
          15.985548973083496,
          -3.5941638946533203,
          15.436624526977539,
          15.304533958435059,
          15.011088371276855,
          12.608247756958008,
          -3.9879260063171387,
          5.158117294311523,
          5.64954948425293,
          -3.200619697570801,
          -1.3784990310668945,
          15.002144813537598,
          15.639397621154785,
          15.146563529968262,
          -1.2383108139038086,
          -4.079901218414307,
          15.707365036010742,
          14.28472900390625,
          14.44357681274414,
          2.7356038093566895,
          12.72996711730957,
          3.4130795001983643,
          12.446842193603516,
          15.159503936767578,
          -1.4242949485778809,
          14.771625518798828,
          -1.589544653892517,
          15.440503120422363
         ],
         "xaxis": "x",
         "y": [
          12.925593376159668,
          9.945137023925781,
          -0.6984807252883911,
          10.48731517791748,
          -1.1897276639938354,
          -0.8901078104972839,
          9.82934856414795,
          11.544109344482422,
          -0.6690025925636292,
          13.042627334594727,
          13.066824913024902,
          11.387155532836914,
          12.319474220275879,
          7.115332126617432,
          12.795204162597656,
          8.326108932495117,
          10.378179550170898,
          9.130387306213379,
          9.375161170959473,
          8.394369125366211,
          6.547036170959473,
          10.647127151489258,
          -1.4038861989974976,
          -0.4040835499763489,
          9.650866508483887,
          -8.629666328430176,
          9.12769889831543,
          9.000682830810547,
          8.828381538391113,
          -8.769697189331055,
          10.73971939086914,
          7.847949981689453,
          7.618739128112793,
          7.8481903076171875,
          12.150367736816406,
          7.030689716339111,
          12.698238372802734,
          6.342082977294922,
          8.05811595916748,
          -8.5836763381958,
          8.835952758789062,
          -8.417889595031738,
          8.542506217956543
         ],
         "yaxis": "y"
        }
       ],
       "layout": {
        "annotations": [
         {
          "showarrow": false,
          "text": "D1",
          "x": -4.691886401176452,
          "y": 2.4708484411239624,
          "yshift": 10
         },
         {
          "showarrow": false,
          "text": "D2",
          "x": 6.845747458934784,
          "xshift": 10,
          "y": 15.026848649978637
         }
        ],
        "height": 650,
        "hoverlabel": {
         "bgcolor": "white",
         "font": {
          "family": "Rockwell",
          "size": 16
         }
        },
        "legend": {
         "itemsizing": "constant",
         "tracegroupgap": 0
        },
        "margin": {
         "t": 60
        },
        "shapes": [
         {
          "line": {
           "color": "#CFD8DC",
           "width": 2
          },
          "type": "line",
          "x0": 6.845747458934784,
          "x1": 6.845747458934784,
          "y0": -10.085151767730713,
          "y1": 15.026848649978637
         },
         {
          "line": {
           "color": "#9E9E9E",
           "width": 2
          },
          "type": "line",
          "x0": -4.691886401176452,
          "x1": 18.38338131904602,
          "y0": 2.4708484411239624,
          "y1": 2.4708484411239624
         }
        ],
        "sliders": [
         {
          "active": 0,
          "pad": {
           "t": 50
          },
          "steps": [
           {
            "args": [
             {
              "marker.color": [
               [
                "red",
                "#B0BEC5",
                "#B0BEC5",
                "#B0BEC5",
                "#B0BEC5",
                "#B0BEC5",
                "#B0BEC5",
                "#B0BEC5",
                "#B0BEC5",
                "#B0BEC5",
                "#B0BEC5",
                "#B0BEC5",
                "#B0BEC5",
                "#B0BEC5",
                "#B0BEC5",
                "#B0BEC5",
                "#B0BEC5",
                "#B0BEC5",
                "#B0BEC5",
                "#B0BEC5",
                "#B0BEC5",
                "#B0BEC5",
                "#B0BEC5",
                "#B0BEC5",
                "#B0BEC5",
                "#B0BEC5",
                "#B0BEC5",
                "#B0BEC5",
                "#B0BEC5",
                "#B0BEC5",
                "#B0BEC5",
                "#B0BEC5",
                "#B0BEC5",
                "#B0BEC5",
                "#B0BEC5",
                "#B0BEC5",
                "#B0BEC5",
                "#B0BEC5",
                "#B0BEC5",
                "#B0BEC5",
                "#B0BEC5",
                "#B0BEC5",
                "#B0BEC5"
               ]
              ]
             }
            ],
            "label": "Topic 0",
            "method": "update"
           },
           {
            "args": [
             {
              "marker.color": [
               [
                "#B0BEC5",
                "red",
                "#B0BEC5",
                "#B0BEC5",
                "#B0BEC5",
                "#B0BEC5",
                "#B0BEC5",
                "#B0BEC5",
                "#B0BEC5",
                "#B0BEC5",
                "#B0BEC5",
                "#B0BEC5",
                "#B0BEC5",
                "#B0BEC5",
                "#B0BEC5",
                "#B0BEC5",
                "#B0BEC5",
                "#B0BEC5",
                "#B0BEC5",
                "#B0BEC5",
                "#B0BEC5",
                "#B0BEC5",
                "#B0BEC5",
                "#B0BEC5",
                "#B0BEC5",
                "#B0BEC5",
                "#B0BEC5",
                "#B0BEC5",
                "#B0BEC5",
                "#B0BEC5",
                "#B0BEC5",
                "#B0BEC5",
                "#B0BEC5",
                "#B0BEC5",
                "#B0BEC5",
                "#B0BEC5",
                "#B0BEC5",
                "#B0BEC5",
                "#B0BEC5",
                "#B0BEC5",
                "#B0BEC5",
                "#B0BEC5",
                "#B0BEC5"
               ]
              ]
             }
            ],
            "label": "Topic 1",
            "method": "update"
           },
           {
            "args": [
             {
              "marker.color": [
               [
                "#B0BEC5",
                "#B0BEC5",
                "red",
                "#B0BEC5",
                "#B0BEC5",
                "#B0BEC5",
                "#B0BEC5",
                "#B0BEC5",
                "#B0BEC5",
                "#B0BEC5",
                "#B0BEC5",
                "#B0BEC5",
                "#B0BEC5",
                "#B0BEC5",
                "#B0BEC5",
                "#B0BEC5",
                "#B0BEC5",
                "#B0BEC5",
                "#B0BEC5",
                "#B0BEC5",
                "#B0BEC5",
                "#B0BEC5",
                "#B0BEC5",
                "#B0BEC5",
                "#B0BEC5",
                "#B0BEC5",
                "#B0BEC5",
                "#B0BEC5",
                "#B0BEC5",
                "#B0BEC5",
                "#B0BEC5",
                "#B0BEC5",
                "#B0BEC5",
                "#B0BEC5",
                "#B0BEC5",
                "#B0BEC5",
                "#B0BEC5",
                "#B0BEC5",
                "#B0BEC5",
                "#B0BEC5",
                "#B0BEC5",
                "#B0BEC5",
                "#B0BEC5"
               ]
              ]
             }
            ],
            "label": "Topic 2",
            "method": "update"
           },
           {
            "args": [
             {
              "marker.color": [
               [
                "#B0BEC5",
                "#B0BEC5",
                "#B0BEC5",
                "red",
                "#B0BEC5",
                "#B0BEC5",
                "#B0BEC5",
                "#B0BEC5",
                "#B0BEC5",
                "#B0BEC5",
                "#B0BEC5",
                "#B0BEC5",
                "#B0BEC5",
                "#B0BEC5",
                "#B0BEC5",
                "#B0BEC5",
                "#B0BEC5",
                "#B0BEC5",
                "#B0BEC5",
                "#B0BEC5",
                "#B0BEC5",
                "#B0BEC5",
                "#B0BEC5",
                "#B0BEC5",
                "#B0BEC5",
                "#B0BEC5",
                "#B0BEC5",
                "#B0BEC5",
                "#B0BEC5",
                "#B0BEC5",
                "#B0BEC5",
                "#B0BEC5",
                "#B0BEC5",
                "#B0BEC5",
                "#B0BEC5",
                "#B0BEC5",
                "#B0BEC5",
                "#B0BEC5",
                "#B0BEC5",
                "#B0BEC5",
                "#B0BEC5",
                "#B0BEC5",
                "#B0BEC5"
               ]
              ]
             }
            ],
            "label": "Topic 3",
            "method": "update"
           },
           {
            "args": [
             {
              "marker.color": [
               [
                "#B0BEC5",
                "#B0BEC5",
                "#B0BEC5",
                "#B0BEC5",
                "red",
                "#B0BEC5",
                "#B0BEC5",
                "#B0BEC5",
                "#B0BEC5",
                "#B0BEC5",
                "#B0BEC5",
                "#B0BEC5",
                "#B0BEC5",
                "#B0BEC5",
                "#B0BEC5",
                "#B0BEC5",
                "#B0BEC5",
                "#B0BEC5",
                "#B0BEC5",
                "#B0BEC5",
                "#B0BEC5",
                "#B0BEC5",
                "#B0BEC5",
                "#B0BEC5",
                "#B0BEC5",
                "#B0BEC5",
                "#B0BEC5",
                "#B0BEC5",
                "#B0BEC5",
                "#B0BEC5",
                "#B0BEC5",
                "#B0BEC5",
                "#B0BEC5",
                "#B0BEC5",
                "#B0BEC5",
                "#B0BEC5",
                "#B0BEC5",
                "#B0BEC5",
                "#B0BEC5",
                "#B0BEC5",
                "#B0BEC5",
                "#B0BEC5",
                "#B0BEC5"
               ]
              ]
             }
            ],
            "label": "Topic 4",
            "method": "update"
           },
           {
            "args": [
             {
              "marker.color": [
               [
                "#B0BEC5",
                "#B0BEC5",
                "#B0BEC5",
                "#B0BEC5",
                "#B0BEC5",
                "red",
                "#B0BEC5",
                "#B0BEC5",
                "#B0BEC5",
                "#B0BEC5",
                "#B0BEC5",
                "#B0BEC5",
                "#B0BEC5",
                "#B0BEC5",
                "#B0BEC5",
                "#B0BEC5",
                "#B0BEC5",
                "#B0BEC5",
                "#B0BEC5",
                "#B0BEC5",
                "#B0BEC5",
                "#B0BEC5",
                "#B0BEC5",
                "#B0BEC5",
                "#B0BEC5",
                "#B0BEC5",
                "#B0BEC5",
                "#B0BEC5",
                "#B0BEC5",
                "#B0BEC5",
                "#B0BEC5",
                "#B0BEC5",
                "#B0BEC5",
                "#B0BEC5",
                "#B0BEC5",
                "#B0BEC5",
                "#B0BEC5",
                "#B0BEC5",
                "#B0BEC5",
                "#B0BEC5",
                "#B0BEC5",
                "#B0BEC5",
                "#B0BEC5"
               ]
              ]
             }
            ],
            "label": "Topic 5",
            "method": "update"
           },
           {
            "args": [
             {
              "marker.color": [
               [
                "#B0BEC5",
                "#B0BEC5",
                "#B0BEC5",
                "#B0BEC5",
                "#B0BEC5",
                "#B0BEC5",
                "red",
                "#B0BEC5",
                "#B0BEC5",
                "#B0BEC5",
                "#B0BEC5",
                "#B0BEC5",
                "#B0BEC5",
                "#B0BEC5",
                "#B0BEC5",
                "#B0BEC5",
                "#B0BEC5",
                "#B0BEC5",
                "#B0BEC5",
                "#B0BEC5",
                "#B0BEC5",
                "#B0BEC5",
                "#B0BEC5",
                "#B0BEC5",
                "#B0BEC5",
                "#B0BEC5",
                "#B0BEC5",
                "#B0BEC5",
                "#B0BEC5",
                "#B0BEC5",
                "#B0BEC5",
                "#B0BEC5",
                "#B0BEC5",
                "#B0BEC5",
                "#B0BEC5",
                "#B0BEC5",
                "#B0BEC5",
                "#B0BEC5",
                "#B0BEC5",
                "#B0BEC5",
                "#B0BEC5",
                "#B0BEC5",
                "#B0BEC5"
               ]
              ]
             }
            ],
            "label": "Topic 6",
            "method": "update"
           },
           {
            "args": [
             {
              "marker.color": [
               [
                "#B0BEC5",
                "#B0BEC5",
                "#B0BEC5",
                "#B0BEC5",
                "#B0BEC5",
                "#B0BEC5",
                "#B0BEC5",
                "red",
                "#B0BEC5",
                "#B0BEC5",
                "#B0BEC5",
                "#B0BEC5",
                "#B0BEC5",
                "#B0BEC5",
                "#B0BEC5",
                "#B0BEC5",
                "#B0BEC5",
                "#B0BEC5",
                "#B0BEC5",
                "#B0BEC5",
                "#B0BEC5",
                "#B0BEC5",
                "#B0BEC5",
                "#B0BEC5",
                "#B0BEC5",
                "#B0BEC5",
                "#B0BEC5",
                "#B0BEC5",
                "#B0BEC5",
                "#B0BEC5",
                "#B0BEC5",
                "#B0BEC5",
                "#B0BEC5",
                "#B0BEC5",
                "#B0BEC5",
                "#B0BEC5",
                "#B0BEC5",
                "#B0BEC5",
                "#B0BEC5",
                "#B0BEC5",
                "#B0BEC5",
                "#B0BEC5",
                "#B0BEC5"
               ]
              ]
             }
            ],
            "label": "Topic 7",
            "method": "update"
           },
           {
            "args": [
             {
              "marker.color": [
               [
                "#B0BEC5",
                "#B0BEC5",
                "#B0BEC5",
                "#B0BEC5",
                "#B0BEC5",
                "#B0BEC5",
                "#B0BEC5",
                "#B0BEC5",
                "red",
                "#B0BEC5",
                "#B0BEC5",
                "#B0BEC5",
                "#B0BEC5",
                "#B0BEC5",
                "#B0BEC5",
                "#B0BEC5",
                "#B0BEC5",
                "#B0BEC5",
                "#B0BEC5",
                "#B0BEC5",
                "#B0BEC5",
                "#B0BEC5",
                "#B0BEC5",
                "#B0BEC5",
                "#B0BEC5",
                "#B0BEC5",
                "#B0BEC5",
                "#B0BEC5",
                "#B0BEC5",
                "#B0BEC5",
                "#B0BEC5",
                "#B0BEC5",
                "#B0BEC5",
                "#B0BEC5",
                "#B0BEC5",
                "#B0BEC5",
                "#B0BEC5",
                "#B0BEC5",
                "#B0BEC5",
                "#B0BEC5",
                "#B0BEC5",
                "#B0BEC5",
                "#B0BEC5"
               ]
              ]
             }
            ],
            "label": "Topic 8",
            "method": "update"
           },
           {
            "args": [
             {
              "marker.color": [
               [
                "#B0BEC5",
                "#B0BEC5",
                "#B0BEC5",
                "#B0BEC5",
                "#B0BEC5",
                "#B0BEC5",
                "#B0BEC5",
                "#B0BEC5",
                "#B0BEC5",
                "red",
                "#B0BEC5",
                "#B0BEC5",
                "#B0BEC5",
                "#B0BEC5",
                "#B0BEC5",
                "#B0BEC5",
                "#B0BEC5",
                "#B0BEC5",
                "#B0BEC5",
                "#B0BEC5",
                "#B0BEC5",
                "#B0BEC5",
                "#B0BEC5",
                "#B0BEC5",
                "#B0BEC5",
                "#B0BEC5",
                "#B0BEC5",
                "#B0BEC5",
                "#B0BEC5",
                "#B0BEC5",
                "#B0BEC5",
                "#B0BEC5",
                "#B0BEC5",
                "#B0BEC5",
                "#B0BEC5",
                "#B0BEC5",
                "#B0BEC5",
                "#B0BEC5",
                "#B0BEC5",
                "#B0BEC5",
                "#B0BEC5",
                "#B0BEC5",
                "#B0BEC5"
               ]
              ]
             }
            ],
            "label": "Topic 9",
            "method": "update"
           },
           {
            "args": [
             {
              "marker.color": [
               [
                "#B0BEC5",
                "#B0BEC5",
                "#B0BEC5",
                "#B0BEC5",
                "#B0BEC5",
                "#B0BEC5",
                "#B0BEC5",
                "#B0BEC5",
                "#B0BEC5",
                "#B0BEC5",
                "red",
                "#B0BEC5",
                "#B0BEC5",
                "#B0BEC5",
                "#B0BEC5",
                "#B0BEC5",
                "#B0BEC5",
                "#B0BEC5",
                "#B0BEC5",
                "#B0BEC5",
                "#B0BEC5",
                "#B0BEC5",
                "#B0BEC5",
                "#B0BEC5",
                "#B0BEC5",
                "#B0BEC5",
                "#B0BEC5",
                "#B0BEC5",
                "#B0BEC5",
                "#B0BEC5",
                "#B0BEC5",
                "#B0BEC5",
                "#B0BEC5",
                "#B0BEC5",
                "#B0BEC5",
                "#B0BEC5",
                "#B0BEC5",
                "#B0BEC5",
                "#B0BEC5",
                "#B0BEC5",
                "#B0BEC5",
                "#B0BEC5",
                "#B0BEC5"
               ]
              ]
             }
            ],
            "label": "Topic 10",
            "method": "update"
           },
           {
            "args": [
             {
              "marker.color": [
               [
                "#B0BEC5",
                "#B0BEC5",
                "#B0BEC5",
                "#B0BEC5",
                "#B0BEC5",
                "#B0BEC5",
                "#B0BEC5",
                "#B0BEC5",
                "#B0BEC5",
                "#B0BEC5",
                "#B0BEC5",
                "red",
                "#B0BEC5",
                "#B0BEC5",
                "#B0BEC5",
                "#B0BEC5",
                "#B0BEC5",
                "#B0BEC5",
                "#B0BEC5",
                "#B0BEC5",
                "#B0BEC5",
                "#B0BEC5",
                "#B0BEC5",
                "#B0BEC5",
                "#B0BEC5",
                "#B0BEC5",
                "#B0BEC5",
                "#B0BEC5",
                "#B0BEC5",
                "#B0BEC5",
                "#B0BEC5",
                "#B0BEC5",
                "#B0BEC5",
                "#B0BEC5",
                "#B0BEC5",
                "#B0BEC5",
                "#B0BEC5",
                "#B0BEC5",
                "#B0BEC5",
                "#B0BEC5",
                "#B0BEC5",
                "#B0BEC5",
                "#B0BEC5"
               ]
              ]
             }
            ],
            "label": "Topic 11",
            "method": "update"
           },
           {
            "args": [
             {
              "marker.color": [
               [
                "#B0BEC5",
                "#B0BEC5",
                "#B0BEC5",
                "#B0BEC5",
                "#B0BEC5",
                "#B0BEC5",
                "#B0BEC5",
                "#B0BEC5",
                "#B0BEC5",
                "#B0BEC5",
                "#B0BEC5",
                "#B0BEC5",
                "red",
                "#B0BEC5",
                "#B0BEC5",
                "#B0BEC5",
                "#B0BEC5",
                "#B0BEC5",
                "#B0BEC5",
                "#B0BEC5",
                "#B0BEC5",
                "#B0BEC5",
                "#B0BEC5",
                "#B0BEC5",
                "#B0BEC5",
                "#B0BEC5",
                "#B0BEC5",
                "#B0BEC5",
                "#B0BEC5",
                "#B0BEC5",
                "#B0BEC5",
                "#B0BEC5",
                "#B0BEC5",
                "#B0BEC5",
                "#B0BEC5",
                "#B0BEC5",
                "#B0BEC5",
                "#B0BEC5",
                "#B0BEC5",
                "#B0BEC5",
                "#B0BEC5",
                "#B0BEC5",
                "#B0BEC5"
               ]
              ]
             }
            ],
            "label": "Topic 12",
            "method": "update"
           },
           {
            "args": [
             {
              "marker.color": [
               [
                "#B0BEC5",
                "#B0BEC5",
                "#B0BEC5",
                "#B0BEC5",
                "#B0BEC5",
                "#B0BEC5",
                "#B0BEC5",
                "#B0BEC5",
                "#B0BEC5",
                "#B0BEC5",
                "#B0BEC5",
                "#B0BEC5",
                "#B0BEC5",
                "red",
                "#B0BEC5",
                "#B0BEC5",
                "#B0BEC5",
                "#B0BEC5",
                "#B0BEC5",
                "#B0BEC5",
                "#B0BEC5",
                "#B0BEC5",
                "#B0BEC5",
                "#B0BEC5",
                "#B0BEC5",
                "#B0BEC5",
                "#B0BEC5",
                "#B0BEC5",
                "#B0BEC5",
                "#B0BEC5",
                "#B0BEC5",
                "#B0BEC5",
                "#B0BEC5",
                "#B0BEC5",
                "#B0BEC5",
                "#B0BEC5",
                "#B0BEC5",
                "#B0BEC5",
                "#B0BEC5",
                "#B0BEC5",
                "#B0BEC5",
                "#B0BEC5",
                "#B0BEC5"
               ]
              ]
             }
            ],
            "label": "Topic 13",
            "method": "update"
           },
           {
            "args": [
             {
              "marker.color": [
               [
                "#B0BEC5",
                "#B0BEC5",
                "#B0BEC5",
                "#B0BEC5",
                "#B0BEC5",
                "#B0BEC5",
                "#B0BEC5",
                "#B0BEC5",
                "#B0BEC5",
                "#B0BEC5",
                "#B0BEC5",
                "#B0BEC5",
                "#B0BEC5",
                "#B0BEC5",
                "red",
                "#B0BEC5",
                "#B0BEC5",
                "#B0BEC5",
                "#B0BEC5",
                "#B0BEC5",
                "#B0BEC5",
                "#B0BEC5",
                "#B0BEC5",
                "#B0BEC5",
                "#B0BEC5",
                "#B0BEC5",
                "#B0BEC5",
                "#B0BEC5",
                "#B0BEC5",
                "#B0BEC5",
                "#B0BEC5",
                "#B0BEC5",
                "#B0BEC5",
                "#B0BEC5",
                "#B0BEC5",
                "#B0BEC5",
                "#B0BEC5",
                "#B0BEC5",
                "#B0BEC5",
                "#B0BEC5",
                "#B0BEC5",
                "#B0BEC5",
                "#B0BEC5"
               ]
              ]
             }
            ],
            "label": "Topic 14",
            "method": "update"
           },
           {
            "args": [
             {
              "marker.color": [
               [
                "#B0BEC5",
                "#B0BEC5",
                "#B0BEC5",
                "#B0BEC5",
                "#B0BEC5",
                "#B0BEC5",
                "#B0BEC5",
                "#B0BEC5",
                "#B0BEC5",
                "#B0BEC5",
                "#B0BEC5",
                "#B0BEC5",
                "#B0BEC5",
                "#B0BEC5",
                "#B0BEC5",
                "red",
                "#B0BEC5",
                "#B0BEC5",
                "#B0BEC5",
                "#B0BEC5",
                "#B0BEC5",
                "#B0BEC5",
                "#B0BEC5",
                "#B0BEC5",
                "#B0BEC5",
                "#B0BEC5",
                "#B0BEC5",
                "#B0BEC5",
                "#B0BEC5",
                "#B0BEC5",
                "#B0BEC5",
                "#B0BEC5",
                "#B0BEC5",
                "#B0BEC5",
                "#B0BEC5",
                "#B0BEC5",
                "#B0BEC5",
                "#B0BEC5",
                "#B0BEC5",
                "#B0BEC5",
                "#B0BEC5",
                "#B0BEC5",
                "#B0BEC5"
               ]
              ]
             }
            ],
            "label": "Topic 15",
            "method": "update"
           },
           {
            "args": [
             {
              "marker.color": [
               [
                "#B0BEC5",
                "#B0BEC5",
                "#B0BEC5",
                "#B0BEC5",
                "#B0BEC5",
                "#B0BEC5",
                "#B0BEC5",
                "#B0BEC5",
                "#B0BEC5",
                "#B0BEC5",
                "#B0BEC5",
                "#B0BEC5",
                "#B0BEC5",
                "#B0BEC5",
                "#B0BEC5",
                "#B0BEC5",
                "red",
                "#B0BEC5",
                "#B0BEC5",
                "#B0BEC5",
                "#B0BEC5",
                "#B0BEC5",
                "#B0BEC5",
                "#B0BEC5",
                "#B0BEC5",
                "#B0BEC5",
                "#B0BEC5",
                "#B0BEC5",
                "#B0BEC5",
                "#B0BEC5",
                "#B0BEC5",
                "#B0BEC5",
                "#B0BEC5",
                "#B0BEC5",
                "#B0BEC5",
                "#B0BEC5",
                "#B0BEC5",
                "#B0BEC5",
                "#B0BEC5",
                "#B0BEC5",
                "#B0BEC5",
                "#B0BEC5",
                "#B0BEC5"
               ]
              ]
             }
            ],
            "label": "Topic 16",
            "method": "update"
           },
           {
            "args": [
             {
              "marker.color": [
               [
                "#B0BEC5",
                "#B0BEC5",
                "#B0BEC5",
                "#B0BEC5",
                "#B0BEC5",
                "#B0BEC5",
                "#B0BEC5",
                "#B0BEC5",
                "#B0BEC5",
                "#B0BEC5",
                "#B0BEC5",
                "#B0BEC5",
                "#B0BEC5",
                "#B0BEC5",
                "#B0BEC5",
                "#B0BEC5",
                "#B0BEC5",
                "red",
                "#B0BEC5",
                "#B0BEC5",
                "#B0BEC5",
                "#B0BEC5",
                "#B0BEC5",
                "#B0BEC5",
                "#B0BEC5",
                "#B0BEC5",
                "#B0BEC5",
                "#B0BEC5",
                "#B0BEC5",
                "#B0BEC5",
                "#B0BEC5",
                "#B0BEC5",
                "#B0BEC5",
                "#B0BEC5",
                "#B0BEC5",
                "#B0BEC5",
                "#B0BEC5",
                "#B0BEC5",
                "#B0BEC5",
                "#B0BEC5",
                "#B0BEC5",
                "#B0BEC5",
                "#B0BEC5"
               ]
              ]
             }
            ],
            "label": "Topic 17",
            "method": "update"
           },
           {
            "args": [
             {
              "marker.color": [
               [
                "#B0BEC5",
                "#B0BEC5",
                "#B0BEC5",
                "#B0BEC5",
                "#B0BEC5",
                "#B0BEC5",
                "#B0BEC5",
                "#B0BEC5",
                "#B0BEC5",
                "#B0BEC5",
                "#B0BEC5",
                "#B0BEC5",
                "#B0BEC5",
                "#B0BEC5",
                "#B0BEC5",
                "#B0BEC5",
                "#B0BEC5",
                "#B0BEC5",
                "red",
                "#B0BEC5",
                "#B0BEC5",
                "#B0BEC5",
                "#B0BEC5",
                "#B0BEC5",
                "#B0BEC5",
                "#B0BEC5",
                "#B0BEC5",
                "#B0BEC5",
                "#B0BEC5",
                "#B0BEC5",
                "#B0BEC5",
                "#B0BEC5",
                "#B0BEC5",
                "#B0BEC5",
                "#B0BEC5",
                "#B0BEC5",
                "#B0BEC5",
                "#B0BEC5",
                "#B0BEC5",
                "#B0BEC5",
                "#B0BEC5",
                "#B0BEC5",
                "#B0BEC5"
               ]
              ]
             }
            ],
            "label": "Topic 18",
            "method": "update"
           },
           {
            "args": [
             {
              "marker.color": [
               [
                "#B0BEC5",
                "#B0BEC5",
                "#B0BEC5",
                "#B0BEC5",
                "#B0BEC5",
                "#B0BEC5",
                "#B0BEC5",
                "#B0BEC5",
                "#B0BEC5",
                "#B0BEC5",
                "#B0BEC5",
                "#B0BEC5",
                "#B0BEC5",
                "#B0BEC5",
                "#B0BEC5",
                "#B0BEC5",
                "#B0BEC5",
                "#B0BEC5",
                "#B0BEC5",
                "red",
                "#B0BEC5",
                "#B0BEC5",
                "#B0BEC5",
                "#B0BEC5",
                "#B0BEC5",
                "#B0BEC5",
                "#B0BEC5",
                "#B0BEC5",
                "#B0BEC5",
                "#B0BEC5",
                "#B0BEC5",
                "#B0BEC5",
                "#B0BEC5",
                "#B0BEC5",
                "#B0BEC5",
                "#B0BEC5",
                "#B0BEC5",
                "#B0BEC5",
                "#B0BEC5",
                "#B0BEC5",
                "#B0BEC5",
                "#B0BEC5",
                "#B0BEC5"
               ]
              ]
             }
            ],
            "label": "Topic 19",
            "method": "update"
           },
           {
            "args": [
             {
              "marker.color": [
               [
                "#B0BEC5",
                "#B0BEC5",
                "#B0BEC5",
                "#B0BEC5",
                "#B0BEC5",
                "#B0BEC5",
                "#B0BEC5",
                "#B0BEC5",
                "#B0BEC5",
                "#B0BEC5",
                "#B0BEC5",
                "#B0BEC5",
                "#B0BEC5",
                "#B0BEC5",
                "#B0BEC5",
                "#B0BEC5",
                "#B0BEC5",
                "#B0BEC5",
                "#B0BEC5",
                "#B0BEC5",
                "red",
                "#B0BEC5",
                "#B0BEC5",
                "#B0BEC5",
                "#B0BEC5",
                "#B0BEC5",
                "#B0BEC5",
                "#B0BEC5",
                "#B0BEC5",
                "#B0BEC5",
                "#B0BEC5",
                "#B0BEC5",
                "#B0BEC5",
                "#B0BEC5",
                "#B0BEC5",
                "#B0BEC5",
                "#B0BEC5",
                "#B0BEC5",
                "#B0BEC5",
                "#B0BEC5",
                "#B0BEC5",
                "#B0BEC5",
                "#B0BEC5"
               ]
              ]
             }
            ],
            "label": "Topic 20",
            "method": "update"
           },
           {
            "args": [
             {
              "marker.color": [
               [
                "#B0BEC5",
                "#B0BEC5",
                "#B0BEC5",
                "#B0BEC5",
                "#B0BEC5",
                "#B0BEC5",
                "#B0BEC5",
                "#B0BEC5",
                "#B0BEC5",
                "#B0BEC5",
                "#B0BEC5",
                "#B0BEC5",
                "#B0BEC5",
                "#B0BEC5",
                "#B0BEC5",
                "#B0BEC5",
                "#B0BEC5",
                "#B0BEC5",
                "#B0BEC5",
                "#B0BEC5",
                "#B0BEC5",
                "red",
                "#B0BEC5",
                "#B0BEC5",
                "#B0BEC5",
                "#B0BEC5",
                "#B0BEC5",
                "#B0BEC5",
                "#B0BEC5",
                "#B0BEC5",
                "#B0BEC5",
                "#B0BEC5",
                "#B0BEC5",
                "#B0BEC5",
                "#B0BEC5",
                "#B0BEC5",
                "#B0BEC5",
                "#B0BEC5",
                "#B0BEC5",
                "#B0BEC5",
                "#B0BEC5",
                "#B0BEC5",
                "#B0BEC5"
               ]
              ]
             }
            ],
            "label": "Topic 21",
            "method": "update"
           },
           {
            "args": [
             {
              "marker.color": [
               [
                "#B0BEC5",
                "#B0BEC5",
                "#B0BEC5",
                "#B0BEC5",
                "#B0BEC5",
                "#B0BEC5",
                "#B0BEC5",
                "#B0BEC5",
                "#B0BEC5",
                "#B0BEC5",
                "#B0BEC5",
                "#B0BEC5",
                "#B0BEC5",
                "#B0BEC5",
                "#B0BEC5",
                "#B0BEC5",
                "#B0BEC5",
                "#B0BEC5",
                "#B0BEC5",
                "#B0BEC5",
                "#B0BEC5",
                "#B0BEC5",
                "red",
                "#B0BEC5",
                "#B0BEC5",
                "#B0BEC5",
                "#B0BEC5",
                "#B0BEC5",
                "#B0BEC5",
                "#B0BEC5",
                "#B0BEC5",
                "#B0BEC5",
                "#B0BEC5",
                "#B0BEC5",
                "#B0BEC5",
                "#B0BEC5",
                "#B0BEC5",
                "#B0BEC5",
                "#B0BEC5",
                "#B0BEC5",
                "#B0BEC5",
                "#B0BEC5",
                "#B0BEC5"
               ]
              ]
             }
            ],
            "label": "Topic 22",
            "method": "update"
           },
           {
            "args": [
             {
              "marker.color": [
               [
                "#B0BEC5",
                "#B0BEC5",
                "#B0BEC5",
                "#B0BEC5",
                "#B0BEC5",
                "#B0BEC5",
                "#B0BEC5",
                "#B0BEC5",
                "#B0BEC5",
                "#B0BEC5",
                "#B0BEC5",
                "#B0BEC5",
                "#B0BEC5",
                "#B0BEC5",
                "#B0BEC5",
                "#B0BEC5",
                "#B0BEC5",
                "#B0BEC5",
                "#B0BEC5",
                "#B0BEC5",
                "#B0BEC5",
                "#B0BEC5",
                "#B0BEC5",
                "red",
                "#B0BEC5",
                "#B0BEC5",
                "#B0BEC5",
                "#B0BEC5",
                "#B0BEC5",
                "#B0BEC5",
                "#B0BEC5",
                "#B0BEC5",
                "#B0BEC5",
                "#B0BEC5",
                "#B0BEC5",
                "#B0BEC5",
                "#B0BEC5",
                "#B0BEC5",
                "#B0BEC5",
                "#B0BEC5",
                "#B0BEC5",
                "#B0BEC5",
                "#B0BEC5"
               ]
              ]
             }
            ],
            "label": "Topic 23",
            "method": "update"
           },
           {
            "args": [
             {
              "marker.color": [
               [
                "#B0BEC5",
                "#B0BEC5",
                "#B0BEC5",
                "#B0BEC5",
                "#B0BEC5",
                "#B0BEC5",
                "#B0BEC5",
                "#B0BEC5",
                "#B0BEC5",
                "#B0BEC5",
                "#B0BEC5",
                "#B0BEC5",
                "#B0BEC5",
                "#B0BEC5",
                "#B0BEC5",
                "#B0BEC5",
                "#B0BEC5",
                "#B0BEC5",
                "#B0BEC5",
                "#B0BEC5",
                "#B0BEC5",
                "#B0BEC5",
                "#B0BEC5",
                "#B0BEC5",
                "red",
                "#B0BEC5",
                "#B0BEC5",
                "#B0BEC5",
                "#B0BEC5",
                "#B0BEC5",
                "#B0BEC5",
                "#B0BEC5",
                "#B0BEC5",
                "#B0BEC5",
                "#B0BEC5",
                "#B0BEC5",
                "#B0BEC5",
                "#B0BEC5",
                "#B0BEC5",
                "#B0BEC5",
                "#B0BEC5",
                "#B0BEC5",
                "#B0BEC5"
               ]
              ]
             }
            ],
            "label": "Topic 24",
            "method": "update"
           },
           {
            "args": [
             {
              "marker.color": [
               [
                "#B0BEC5",
                "#B0BEC5",
                "#B0BEC5",
                "#B0BEC5",
                "#B0BEC5",
                "#B0BEC5",
                "#B0BEC5",
                "#B0BEC5",
                "#B0BEC5",
                "#B0BEC5",
                "#B0BEC5",
                "#B0BEC5",
                "#B0BEC5",
                "#B0BEC5",
                "#B0BEC5",
                "#B0BEC5",
                "#B0BEC5",
                "#B0BEC5",
                "#B0BEC5",
                "#B0BEC5",
                "#B0BEC5",
                "#B0BEC5",
                "#B0BEC5",
                "#B0BEC5",
                "#B0BEC5",
                "red",
                "#B0BEC5",
                "#B0BEC5",
                "#B0BEC5",
                "#B0BEC5",
                "#B0BEC5",
                "#B0BEC5",
                "#B0BEC5",
                "#B0BEC5",
                "#B0BEC5",
                "#B0BEC5",
                "#B0BEC5",
                "#B0BEC5",
                "#B0BEC5",
                "#B0BEC5",
                "#B0BEC5",
                "#B0BEC5",
                "#B0BEC5"
               ]
              ]
             }
            ],
            "label": "Topic 25",
            "method": "update"
           },
           {
            "args": [
             {
              "marker.color": [
               [
                "#B0BEC5",
                "#B0BEC5",
                "#B0BEC5",
                "#B0BEC5",
                "#B0BEC5",
                "#B0BEC5",
                "#B0BEC5",
                "#B0BEC5",
                "#B0BEC5",
                "#B0BEC5",
                "#B0BEC5",
                "#B0BEC5",
                "#B0BEC5",
                "#B0BEC5",
                "#B0BEC5",
                "#B0BEC5",
                "#B0BEC5",
                "#B0BEC5",
                "#B0BEC5",
                "#B0BEC5",
                "#B0BEC5",
                "#B0BEC5",
                "#B0BEC5",
                "#B0BEC5",
                "#B0BEC5",
                "#B0BEC5",
                "red",
                "#B0BEC5",
                "#B0BEC5",
                "#B0BEC5",
                "#B0BEC5",
                "#B0BEC5",
                "#B0BEC5",
                "#B0BEC5",
                "#B0BEC5",
                "#B0BEC5",
                "#B0BEC5",
                "#B0BEC5",
                "#B0BEC5",
                "#B0BEC5",
                "#B0BEC5",
                "#B0BEC5",
                "#B0BEC5"
               ]
              ]
             }
            ],
            "label": "Topic 26",
            "method": "update"
           },
           {
            "args": [
             {
              "marker.color": [
               [
                "#B0BEC5",
                "#B0BEC5",
                "#B0BEC5",
                "#B0BEC5",
                "#B0BEC5",
                "#B0BEC5",
                "#B0BEC5",
                "#B0BEC5",
                "#B0BEC5",
                "#B0BEC5",
                "#B0BEC5",
                "#B0BEC5",
                "#B0BEC5",
                "#B0BEC5",
                "#B0BEC5",
                "#B0BEC5",
                "#B0BEC5",
                "#B0BEC5",
                "#B0BEC5",
                "#B0BEC5",
                "#B0BEC5",
                "#B0BEC5",
                "#B0BEC5",
                "#B0BEC5",
                "#B0BEC5",
                "#B0BEC5",
                "#B0BEC5",
                "red",
                "#B0BEC5",
                "#B0BEC5",
                "#B0BEC5",
                "#B0BEC5",
                "#B0BEC5",
                "#B0BEC5",
                "#B0BEC5",
                "#B0BEC5",
                "#B0BEC5",
                "#B0BEC5",
                "#B0BEC5",
                "#B0BEC5",
                "#B0BEC5",
                "#B0BEC5",
                "#B0BEC5"
               ]
              ]
             }
            ],
            "label": "Topic 27",
            "method": "update"
           },
           {
            "args": [
             {
              "marker.color": [
               [
                "#B0BEC5",
                "#B0BEC5",
                "#B0BEC5",
                "#B0BEC5",
                "#B0BEC5",
                "#B0BEC5",
                "#B0BEC5",
                "#B0BEC5",
                "#B0BEC5",
                "#B0BEC5",
                "#B0BEC5",
                "#B0BEC5",
                "#B0BEC5",
                "#B0BEC5",
                "#B0BEC5",
                "#B0BEC5",
                "#B0BEC5",
                "#B0BEC5",
                "#B0BEC5",
                "#B0BEC5",
                "#B0BEC5",
                "#B0BEC5",
                "#B0BEC5",
                "#B0BEC5",
                "#B0BEC5",
                "#B0BEC5",
                "#B0BEC5",
                "#B0BEC5",
                "red",
                "#B0BEC5",
                "#B0BEC5",
                "#B0BEC5",
                "#B0BEC5",
                "#B0BEC5",
                "#B0BEC5",
                "#B0BEC5",
                "#B0BEC5",
                "#B0BEC5",
                "#B0BEC5",
                "#B0BEC5",
                "#B0BEC5",
                "#B0BEC5",
                "#B0BEC5"
               ]
              ]
             }
            ],
            "label": "Topic 28",
            "method": "update"
           },
           {
            "args": [
             {
              "marker.color": [
               [
                "#B0BEC5",
                "#B0BEC5",
                "#B0BEC5",
                "#B0BEC5",
                "#B0BEC5",
                "#B0BEC5",
                "#B0BEC5",
                "#B0BEC5",
                "#B0BEC5",
                "#B0BEC5",
                "#B0BEC5",
                "#B0BEC5",
                "#B0BEC5",
                "#B0BEC5",
                "#B0BEC5",
                "#B0BEC5",
                "#B0BEC5",
                "#B0BEC5",
                "#B0BEC5",
                "#B0BEC5",
                "#B0BEC5",
                "#B0BEC5",
                "#B0BEC5",
                "#B0BEC5",
                "#B0BEC5",
                "#B0BEC5",
                "#B0BEC5",
                "#B0BEC5",
                "#B0BEC5",
                "red",
                "#B0BEC5",
                "#B0BEC5",
                "#B0BEC5",
                "#B0BEC5",
                "#B0BEC5",
                "#B0BEC5",
                "#B0BEC5",
                "#B0BEC5",
                "#B0BEC5",
                "#B0BEC5",
                "#B0BEC5",
                "#B0BEC5",
                "#B0BEC5"
               ]
              ]
             }
            ],
            "label": "Topic 29",
            "method": "update"
           },
           {
            "args": [
             {
              "marker.color": [
               [
                "#B0BEC5",
                "#B0BEC5",
                "#B0BEC5",
                "#B0BEC5",
                "#B0BEC5",
                "#B0BEC5",
                "#B0BEC5",
                "#B0BEC5",
                "#B0BEC5",
                "#B0BEC5",
                "#B0BEC5",
                "#B0BEC5",
                "#B0BEC5",
                "#B0BEC5",
                "#B0BEC5",
                "#B0BEC5",
                "#B0BEC5",
                "#B0BEC5",
                "#B0BEC5",
                "#B0BEC5",
                "#B0BEC5",
                "#B0BEC5",
                "#B0BEC5",
                "#B0BEC5",
                "#B0BEC5",
                "#B0BEC5",
                "#B0BEC5",
                "#B0BEC5",
                "#B0BEC5",
                "#B0BEC5",
                "red",
                "#B0BEC5",
                "#B0BEC5",
                "#B0BEC5",
                "#B0BEC5",
                "#B0BEC5",
                "#B0BEC5",
                "#B0BEC5",
                "#B0BEC5",
                "#B0BEC5",
                "#B0BEC5",
                "#B0BEC5",
                "#B0BEC5"
               ]
              ]
             }
            ],
            "label": "Topic 30",
            "method": "update"
           },
           {
            "args": [
             {
              "marker.color": [
               [
                "#B0BEC5",
                "#B0BEC5",
                "#B0BEC5",
                "#B0BEC5",
                "#B0BEC5",
                "#B0BEC5",
                "#B0BEC5",
                "#B0BEC5",
                "#B0BEC5",
                "#B0BEC5",
                "#B0BEC5",
                "#B0BEC5",
                "#B0BEC5",
                "#B0BEC5",
                "#B0BEC5",
                "#B0BEC5",
                "#B0BEC5",
                "#B0BEC5",
                "#B0BEC5",
                "#B0BEC5",
                "#B0BEC5",
                "#B0BEC5",
                "#B0BEC5",
                "#B0BEC5",
                "#B0BEC5",
                "#B0BEC5",
                "#B0BEC5",
                "#B0BEC5",
                "#B0BEC5",
                "#B0BEC5",
                "#B0BEC5",
                "red",
                "#B0BEC5",
                "#B0BEC5",
                "#B0BEC5",
                "#B0BEC5",
                "#B0BEC5",
                "#B0BEC5",
                "#B0BEC5",
                "#B0BEC5",
                "#B0BEC5",
                "#B0BEC5",
                "#B0BEC5"
               ]
              ]
             }
            ],
            "label": "Topic 31",
            "method": "update"
           },
           {
            "args": [
             {
              "marker.color": [
               [
                "#B0BEC5",
                "#B0BEC5",
                "#B0BEC5",
                "#B0BEC5",
                "#B0BEC5",
                "#B0BEC5",
                "#B0BEC5",
                "#B0BEC5",
                "#B0BEC5",
                "#B0BEC5",
                "#B0BEC5",
                "#B0BEC5",
                "#B0BEC5",
                "#B0BEC5",
                "#B0BEC5",
                "#B0BEC5",
                "#B0BEC5",
                "#B0BEC5",
                "#B0BEC5",
                "#B0BEC5",
                "#B0BEC5",
                "#B0BEC5",
                "#B0BEC5",
                "#B0BEC5",
                "#B0BEC5",
                "#B0BEC5",
                "#B0BEC5",
                "#B0BEC5",
                "#B0BEC5",
                "#B0BEC5",
                "#B0BEC5",
                "#B0BEC5",
                "red",
                "#B0BEC5",
                "#B0BEC5",
                "#B0BEC5",
                "#B0BEC5",
                "#B0BEC5",
                "#B0BEC5",
                "#B0BEC5",
                "#B0BEC5",
                "#B0BEC5",
                "#B0BEC5"
               ]
              ]
             }
            ],
            "label": "Topic 32",
            "method": "update"
           },
           {
            "args": [
             {
              "marker.color": [
               [
                "#B0BEC5",
                "#B0BEC5",
                "#B0BEC5",
                "#B0BEC5",
                "#B0BEC5",
                "#B0BEC5",
                "#B0BEC5",
                "#B0BEC5",
                "#B0BEC5",
                "#B0BEC5",
                "#B0BEC5",
                "#B0BEC5",
                "#B0BEC5",
                "#B0BEC5",
                "#B0BEC5",
                "#B0BEC5",
                "#B0BEC5",
                "#B0BEC5",
                "#B0BEC5",
                "#B0BEC5",
                "#B0BEC5",
                "#B0BEC5",
                "#B0BEC5",
                "#B0BEC5",
                "#B0BEC5",
                "#B0BEC5",
                "#B0BEC5",
                "#B0BEC5",
                "#B0BEC5",
                "#B0BEC5",
                "#B0BEC5",
                "#B0BEC5",
                "#B0BEC5",
                "red",
                "#B0BEC5",
                "#B0BEC5",
                "#B0BEC5",
                "#B0BEC5",
                "#B0BEC5",
                "#B0BEC5",
                "#B0BEC5",
                "#B0BEC5",
                "#B0BEC5"
               ]
              ]
             }
            ],
            "label": "Topic 33",
            "method": "update"
           },
           {
            "args": [
             {
              "marker.color": [
               [
                "#B0BEC5",
                "#B0BEC5",
                "#B0BEC5",
                "#B0BEC5",
                "#B0BEC5",
                "#B0BEC5",
                "#B0BEC5",
                "#B0BEC5",
                "#B0BEC5",
                "#B0BEC5",
                "#B0BEC5",
                "#B0BEC5",
                "#B0BEC5",
                "#B0BEC5",
                "#B0BEC5",
                "#B0BEC5",
                "#B0BEC5",
                "#B0BEC5",
                "#B0BEC5",
                "#B0BEC5",
                "#B0BEC5",
                "#B0BEC5",
                "#B0BEC5",
                "#B0BEC5",
                "#B0BEC5",
                "#B0BEC5",
                "#B0BEC5",
                "#B0BEC5",
                "#B0BEC5",
                "#B0BEC5",
                "#B0BEC5",
                "#B0BEC5",
                "#B0BEC5",
                "#B0BEC5",
                "red",
                "#B0BEC5",
                "#B0BEC5",
                "#B0BEC5",
                "#B0BEC5",
                "#B0BEC5",
                "#B0BEC5",
                "#B0BEC5",
                "#B0BEC5"
               ]
              ]
             }
            ],
            "label": "Topic 34",
            "method": "update"
           },
           {
            "args": [
             {
              "marker.color": [
               [
                "#B0BEC5",
                "#B0BEC5",
                "#B0BEC5",
                "#B0BEC5",
                "#B0BEC5",
                "#B0BEC5",
                "#B0BEC5",
                "#B0BEC5",
                "#B0BEC5",
                "#B0BEC5",
                "#B0BEC5",
                "#B0BEC5",
                "#B0BEC5",
                "#B0BEC5",
                "#B0BEC5",
                "#B0BEC5",
                "#B0BEC5",
                "#B0BEC5",
                "#B0BEC5",
                "#B0BEC5",
                "#B0BEC5",
                "#B0BEC5",
                "#B0BEC5",
                "#B0BEC5",
                "#B0BEC5",
                "#B0BEC5",
                "#B0BEC5",
                "#B0BEC5",
                "#B0BEC5",
                "#B0BEC5",
                "#B0BEC5",
                "#B0BEC5",
                "#B0BEC5",
                "#B0BEC5",
                "#B0BEC5",
                "red",
                "#B0BEC5",
                "#B0BEC5",
                "#B0BEC5",
                "#B0BEC5",
                "#B0BEC5",
                "#B0BEC5",
                "#B0BEC5"
               ]
              ]
             }
            ],
            "label": "Topic 35",
            "method": "update"
           },
           {
            "args": [
             {
              "marker.color": [
               [
                "#B0BEC5",
                "#B0BEC5",
                "#B0BEC5",
                "#B0BEC5",
                "#B0BEC5",
                "#B0BEC5",
                "#B0BEC5",
                "#B0BEC5",
                "#B0BEC5",
                "#B0BEC5",
                "#B0BEC5",
                "#B0BEC5",
                "#B0BEC5",
                "#B0BEC5",
                "#B0BEC5",
                "#B0BEC5",
                "#B0BEC5",
                "#B0BEC5",
                "#B0BEC5",
                "#B0BEC5",
                "#B0BEC5",
                "#B0BEC5",
                "#B0BEC5",
                "#B0BEC5",
                "#B0BEC5",
                "#B0BEC5",
                "#B0BEC5",
                "#B0BEC5",
                "#B0BEC5",
                "#B0BEC5",
                "#B0BEC5",
                "#B0BEC5",
                "#B0BEC5",
                "#B0BEC5",
                "#B0BEC5",
                "#B0BEC5",
                "red",
                "#B0BEC5",
                "#B0BEC5",
                "#B0BEC5",
                "#B0BEC5",
                "#B0BEC5",
                "#B0BEC5"
               ]
              ]
             }
            ],
            "label": "Topic 36",
            "method": "update"
           },
           {
            "args": [
             {
              "marker.color": [
               [
                "#B0BEC5",
                "#B0BEC5",
                "#B0BEC5",
                "#B0BEC5",
                "#B0BEC5",
                "#B0BEC5",
                "#B0BEC5",
                "#B0BEC5",
                "#B0BEC5",
                "#B0BEC5",
                "#B0BEC5",
                "#B0BEC5",
                "#B0BEC5",
                "#B0BEC5",
                "#B0BEC5",
                "#B0BEC5",
                "#B0BEC5",
                "#B0BEC5",
                "#B0BEC5",
                "#B0BEC5",
                "#B0BEC5",
                "#B0BEC5",
                "#B0BEC5",
                "#B0BEC5",
                "#B0BEC5",
                "#B0BEC5",
                "#B0BEC5",
                "#B0BEC5",
                "#B0BEC5",
                "#B0BEC5",
                "#B0BEC5",
                "#B0BEC5",
                "#B0BEC5",
                "#B0BEC5",
                "#B0BEC5",
                "#B0BEC5",
                "#B0BEC5",
                "red",
                "#B0BEC5",
                "#B0BEC5",
                "#B0BEC5",
                "#B0BEC5",
                "#B0BEC5"
               ]
              ]
             }
            ],
            "label": "Topic 37",
            "method": "update"
           },
           {
            "args": [
             {
              "marker.color": [
               [
                "#B0BEC5",
                "#B0BEC5",
                "#B0BEC5",
                "#B0BEC5",
                "#B0BEC5",
                "#B0BEC5",
                "#B0BEC5",
                "#B0BEC5",
                "#B0BEC5",
                "#B0BEC5",
                "#B0BEC5",
                "#B0BEC5",
                "#B0BEC5",
                "#B0BEC5",
                "#B0BEC5",
                "#B0BEC5",
                "#B0BEC5",
                "#B0BEC5",
                "#B0BEC5",
                "#B0BEC5",
                "#B0BEC5",
                "#B0BEC5",
                "#B0BEC5",
                "#B0BEC5",
                "#B0BEC5",
                "#B0BEC5",
                "#B0BEC5",
                "#B0BEC5",
                "#B0BEC5",
                "#B0BEC5",
                "#B0BEC5",
                "#B0BEC5",
                "#B0BEC5",
                "#B0BEC5",
                "#B0BEC5",
                "#B0BEC5",
                "#B0BEC5",
                "#B0BEC5",
                "red",
                "#B0BEC5",
                "#B0BEC5",
                "#B0BEC5",
                "#B0BEC5"
               ]
              ]
             }
            ],
            "label": "Topic 38",
            "method": "update"
           },
           {
            "args": [
             {
              "marker.color": [
               [
                "#B0BEC5",
                "#B0BEC5",
                "#B0BEC5",
                "#B0BEC5",
                "#B0BEC5",
                "#B0BEC5",
                "#B0BEC5",
                "#B0BEC5",
                "#B0BEC5",
                "#B0BEC5",
                "#B0BEC5",
                "#B0BEC5",
                "#B0BEC5",
                "#B0BEC5",
                "#B0BEC5",
                "#B0BEC5",
                "#B0BEC5",
                "#B0BEC5",
                "#B0BEC5",
                "#B0BEC5",
                "#B0BEC5",
                "#B0BEC5",
                "#B0BEC5",
                "#B0BEC5",
                "#B0BEC5",
                "#B0BEC5",
                "#B0BEC5",
                "#B0BEC5",
                "#B0BEC5",
                "#B0BEC5",
                "#B0BEC5",
                "#B0BEC5",
                "#B0BEC5",
                "#B0BEC5",
                "#B0BEC5",
                "#B0BEC5",
                "#B0BEC5",
                "#B0BEC5",
                "#B0BEC5",
                "red",
                "#B0BEC5",
                "#B0BEC5",
                "#B0BEC5"
               ]
              ]
             }
            ],
            "label": "Topic 39",
            "method": "update"
           },
           {
            "args": [
             {
              "marker.color": [
               [
                "#B0BEC5",
                "#B0BEC5",
                "#B0BEC5",
                "#B0BEC5",
                "#B0BEC5",
                "#B0BEC5",
                "#B0BEC5",
                "#B0BEC5",
                "#B0BEC5",
                "#B0BEC5",
                "#B0BEC5",
                "#B0BEC5",
                "#B0BEC5",
                "#B0BEC5",
                "#B0BEC5",
                "#B0BEC5",
                "#B0BEC5",
                "#B0BEC5",
                "#B0BEC5",
                "#B0BEC5",
                "#B0BEC5",
                "#B0BEC5",
                "#B0BEC5",
                "#B0BEC5",
                "#B0BEC5",
                "#B0BEC5",
                "#B0BEC5",
                "#B0BEC5",
                "#B0BEC5",
                "#B0BEC5",
                "#B0BEC5",
                "#B0BEC5",
                "#B0BEC5",
                "#B0BEC5",
                "#B0BEC5",
                "#B0BEC5",
                "#B0BEC5",
                "#B0BEC5",
                "#B0BEC5",
                "#B0BEC5",
                "red",
                "#B0BEC5",
                "#B0BEC5"
               ]
              ]
             }
            ],
            "label": "Topic 40",
            "method": "update"
           },
           {
            "args": [
             {
              "marker.color": [
               [
                "#B0BEC5",
                "#B0BEC5",
                "#B0BEC5",
                "#B0BEC5",
                "#B0BEC5",
                "#B0BEC5",
                "#B0BEC5",
                "#B0BEC5",
                "#B0BEC5",
                "#B0BEC5",
                "#B0BEC5",
                "#B0BEC5",
                "#B0BEC5",
                "#B0BEC5",
                "#B0BEC5",
                "#B0BEC5",
                "#B0BEC5",
                "#B0BEC5",
                "#B0BEC5",
                "#B0BEC5",
                "#B0BEC5",
                "#B0BEC5",
                "#B0BEC5",
                "#B0BEC5",
                "#B0BEC5",
                "#B0BEC5",
                "#B0BEC5",
                "#B0BEC5",
                "#B0BEC5",
                "#B0BEC5",
                "#B0BEC5",
                "#B0BEC5",
                "#B0BEC5",
                "#B0BEC5",
                "#B0BEC5",
                "#B0BEC5",
                "#B0BEC5",
                "#B0BEC5",
                "#B0BEC5",
                "#B0BEC5",
                "#B0BEC5",
                "red",
                "#B0BEC5"
               ]
              ]
             }
            ],
            "label": "Topic 41",
            "method": "update"
           },
           {
            "args": [
             {
              "marker.color": [
               [
                "#B0BEC5",
                "#B0BEC5",
                "#B0BEC5",
                "#B0BEC5",
                "#B0BEC5",
                "#B0BEC5",
                "#B0BEC5",
                "#B0BEC5",
                "#B0BEC5",
                "#B0BEC5",
                "#B0BEC5",
                "#B0BEC5",
                "#B0BEC5",
                "#B0BEC5",
                "#B0BEC5",
                "#B0BEC5",
                "#B0BEC5",
                "#B0BEC5",
                "#B0BEC5",
                "#B0BEC5",
                "#B0BEC5",
                "#B0BEC5",
                "#B0BEC5",
                "#B0BEC5",
                "#B0BEC5",
                "#B0BEC5",
                "#B0BEC5",
                "#B0BEC5",
                "#B0BEC5",
                "#B0BEC5",
                "#B0BEC5",
                "#B0BEC5",
                "#B0BEC5",
                "#B0BEC5",
                "#B0BEC5",
                "#B0BEC5",
                "#B0BEC5",
                "#B0BEC5",
                "#B0BEC5",
                "#B0BEC5",
                "#B0BEC5",
                "#B0BEC5",
                "red"
               ]
              ]
             }
            ],
            "label": "Topic 42",
            "method": "update"
           }
          ]
         }
        ],
        "template": {
         "data": {
          "bar": [
           {
            "error_x": {
             "color": "rgb(36,36,36)"
            },
            "error_y": {
             "color": "rgb(36,36,36)"
            },
            "marker": {
             "line": {
              "color": "white",
              "width": 0.5
             },
             "pattern": {
              "fillmode": "overlay",
              "size": 10,
              "solidity": 0.2
             }
            },
            "type": "bar"
           }
          ],
          "barpolar": [
           {
            "marker": {
             "line": {
              "color": "white",
              "width": 0.5
             },
             "pattern": {
              "fillmode": "overlay",
              "size": 10,
              "solidity": 0.2
             }
            },
            "type": "barpolar"
           }
          ],
          "carpet": [
           {
            "aaxis": {
             "endlinecolor": "rgb(36,36,36)",
             "gridcolor": "white",
             "linecolor": "white",
             "minorgridcolor": "white",
             "startlinecolor": "rgb(36,36,36)"
            },
            "baxis": {
             "endlinecolor": "rgb(36,36,36)",
             "gridcolor": "white",
             "linecolor": "white",
             "minorgridcolor": "white",
             "startlinecolor": "rgb(36,36,36)"
            },
            "type": "carpet"
           }
          ],
          "choropleth": [
           {
            "colorbar": {
             "outlinewidth": 1,
             "tickcolor": "rgb(36,36,36)",
             "ticks": "outside"
            },
            "type": "choropleth"
           }
          ],
          "contour": [
           {
            "colorbar": {
             "outlinewidth": 1,
             "tickcolor": "rgb(36,36,36)",
             "ticks": "outside"
            },
            "colorscale": [
             [
              0,
              "#440154"
             ],
             [
              0.1111111111111111,
              "#482878"
             ],
             [
              0.2222222222222222,
              "#3e4989"
             ],
             [
              0.3333333333333333,
              "#31688e"
             ],
             [
              0.4444444444444444,
              "#26828e"
             ],
             [
              0.5555555555555556,
              "#1f9e89"
             ],
             [
              0.6666666666666666,
              "#35b779"
             ],
             [
              0.7777777777777778,
              "#6ece58"
             ],
             [
              0.8888888888888888,
              "#b5de2b"
             ],
             [
              1,
              "#fde725"
             ]
            ],
            "type": "contour"
           }
          ],
          "contourcarpet": [
           {
            "colorbar": {
             "outlinewidth": 1,
             "tickcolor": "rgb(36,36,36)",
             "ticks": "outside"
            },
            "type": "contourcarpet"
           }
          ],
          "heatmap": [
           {
            "colorbar": {
             "outlinewidth": 1,
             "tickcolor": "rgb(36,36,36)",
             "ticks": "outside"
            },
            "colorscale": [
             [
              0,
              "#440154"
             ],
             [
              0.1111111111111111,
              "#482878"
             ],
             [
              0.2222222222222222,
              "#3e4989"
             ],
             [
              0.3333333333333333,
              "#31688e"
             ],
             [
              0.4444444444444444,
              "#26828e"
             ],
             [
              0.5555555555555556,
              "#1f9e89"
             ],
             [
              0.6666666666666666,
              "#35b779"
             ],
             [
              0.7777777777777778,
              "#6ece58"
             ],
             [
              0.8888888888888888,
              "#b5de2b"
             ],
             [
              1,
              "#fde725"
             ]
            ],
            "type": "heatmap"
           }
          ],
          "heatmapgl": [
           {
            "colorbar": {
             "outlinewidth": 1,
             "tickcolor": "rgb(36,36,36)",
             "ticks": "outside"
            },
            "colorscale": [
             [
              0,
              "#440154"
             ],
             [
              0.1111111111111111,
              "#482878"
             ],
             [
              0.2222222222222222,
              "#3e4989"
             ],
             [
              0.3333333333333333,
              "#31688e"
             ],
             [
              0.4444444444444444,
              "#26828e"
             ],
             [
              0.5555555555555556,
              "#1f9e89"
             ],
             [
              0.6666666666666666,
              "#35b779"
             ],
             [
              0.7777777777777778,
              "#6ece58"
             ],
             [
              0.8888888888888888,
              "#b5de2b"
             ],
             [
              1,
              "#fde725"
             ]
            ],
            "type": "heatmapgl"
           }
          ],
          "histogram": [
           {
            "marker": {
             "line": {
              "color": "white",
              "width": 0.6
             }
            },
            "type": "histogram"
           }
          ],
          "histogram2d": [
           {
            "colorbar": {
             "outlinewidth": 1,
             "tickcolor": "rgb(36,36,36)",
             "ticks": "outside"
            },
            "colorscale": [
             [
              0,
              "#440154"
             ],
             [
              0.1111111111111111,
              "#482878"
             ],
             [
              0.2222222222222222,
              "#3e4989"
             ],
             [
              0.3333333333333333,
              "#31688e"
             ],
             [
              0.4444444444444444,
              "#26828e"
             ],
             [
              0.5555555555555556,
              "#1f9e89"
             ],
             [
              0.6666666666666666,
              "#35b779"
             ],
             [
              0.7777777777777778,
              "#6ece58"
             ],
             [
              0.8888888888888888,
              "#b5de2b"
             ],
             [
              1,
              "#fde725"
             ]
            ],
            "type": "histogram2d"
           }
          ],
          "histogram2dcontour": [
           {
            "colorbar": {
             "outlinewidth": 1,
             "tickcolor": "rgb(36,36,36)",
             "ticks": "outside"
            },
            "colorscale": [
             [
              0,
              "#440154"
             ],
             [
              0.1111111111111111,
              "#482878"
             ],
             [
              0.2222222222222222,
              "#3e4989"
             ],
             [
              0.3333333333333333,
              "#31688e"
             ],
             [
              0.4444444444444444,
              "#26828e"
             ],
             [
              0.5555555555555556,
              "#1f9e89"
             ],
             [
              0.6666666666666666,
              "#35b779"
             ],
             [
              0.7777777777777778,
              "#6ece58"
             ],
             [
              0.8888888888888888,
              "#b5de2b"
             ],
             [
              1,
              "#fde725"
             ]
            ],
            "type": "histogram2dcontour"
           }
          ],
          "mesh3d": [
           {
            "colorbar": {
             "outlinewidth": 1,
             "tickcolor": "rgb(36,36,36)",
             "ticks": "outside"
            },
            "type": "mesh3d"
           }
          ],
          "parcoords": [
           {
            "line": {
             "colorbar": {
              "outlinewidth": 1,
              "tickcolor": "rgb(36,36,36)",
              "ticks": "outside"
             }
            },
            "type": "parcoords"
           }
          ],
          "pie": [
           {
            "automargin": true,
            "type": "pie"
           }
          ],
          "scatter": [
           {
            "fillpattern": {
             "fillmode": "overlay",
             "size": 10,
             "solidity": 0.2
            },
            "type": "scatter"
           }
          ],
          "scatter3d": [
           {
            "line": {
             "colorbar": {
              "outlinewidth": 1,
              "tickcolor": "rgb(36,36,36)",
              "ticks": "outside"
             }
            },
            "marker": {
             "colorbar": {
              "outlinewidth": 1,
              "tickcolor": "rgb(36,36,36)",
              "ticks": "outside"
             }
            },
            "type": "scatter3d"
           }
          ],
          "scattercarpet": [
           {
            "marker": {
             "colorbar": {
              "outlinewidth": 1,
              "tickcolor": "rgb(36,36,36)",
              "ticks": "outside"
             }
            },
            "type": "scattercarpet"
           }
          ],
          "scattergeo": [
           {
            "marker": {
             "colorbar": {
              "outlinewidth": 1,
              "tickcolor": "rgb(36,36,36)",
              "ticks": "outside"
             }
            },
            "type": "scattergeo"
           }
          ],
          "scattergl": [
           {
            "marker": {
             "colorbar": {
              "outlinewidth": 1,
              "tickcolor": "rgb(36,36,36)",
              "ticks": "outside"
             }
            },
            "type": "scattergl"
           }
          ],
          "scattermapbox": [
           {
            "marker": {
             "colorbar": {
              "outlinewidth": 1,
              "tickcolor": "rgb(36,36,36)",
              "ticks": "outside"
             }
            },
            "type": "scattermapbox"
           }
          ],
          "scatterpolar": [
           {
            "marker": {
             "colorbar": {
              "outlinewidth": 1,
              "tickcolor": "rgb(36,36,36)",
              "ticks": "outside"
             }
            },
            "type": "scatterpolar"
           }
          ],
          "scatterpolargl": [
           {
            "marker": {
             "colorbar": {
              "outlinewidth": 1,
              "tickcolor": "rgb(36,36,36)",
              "ticks": "outside"
             }
            },
            "type": "scatterpolargl"
           }
          ],
          "scatterternary": [
           {
            "marker": {
             "colorbar": {
              "outlinewidth": 1,
              "tickcolor": "rgb(36,36,36)",
              "ticks": "outside"
             }
            },
            "type": "scatterternary"
           }
          ],
          "surface": [
           {
            "colorbar": {
             "outlinewidth": 1,
             "tickcolor": "rgb(36,36,36)",
             "ticks": "outside"
            },
            "colorscale": [
             [
              0,
              "#440154"
             ],
             [
              0.1111111111111111,
              "#482878"
             ],
             [
              0.2222222222222222,
              "#3e4989"
             ],
             [
              0.3333333333333333,
              "#31688e"
             ],
             [
              0.4444444444444444,
              "#26828e"
             ],
             [
              0.5555555555555556,
              "#1f9e89"
             ],
             [
              0.6666666666666666,
              "#35b779"
             ],
             [
              0.7777777777777778,
              "#6ece58"
             ],
             [
              0.8888888888888888,
              "#b5de2b"
             ],
             [
              1,
              "#fde725"
             ]
            ],
            "type": "surface"
           }
          ],
          "table": [
           {
            "cells": {
             "fill": {
              "color": "rgb(237,237,237)"
             },
             "line": {
              "color": "white"
             }
            },
            "header": {
             "fill": {
              "color": "rgb(217,217,217)"
             },
             "line": {
              "color": "white"
             }
            },
            "type": "table"
           }
          ]
         },
         "layout": {
          "annotationdefaults": {
           "arrowhead": 0,
           "arrowwidth": 1
          },
          "autotypenumbers": "strict",
          "coloraxis": {
           "colorbar": {
            "outlinewidth": 1,
            "tickcolor": "rgb(36,36,36)",
            "ticks": "outside"
           }
          },
          "colorscale": {
           "diverging": [
            [
             0,
             "rgb(103,0,31)"
            ],
            [
             0.1,
             "rgb(178,24,43)"
            ],
            [
             0.2,
             "rgb(214,96,77)"
            ],
            [
             0.3,
             "rgb(244,165,130)"
            ],
            [
             0.4,
             "rgb(253,219,199)"
            ],
            [
             0.5,
             "rgb(247,247,247)"
            ],
            [
             0.6,
             "rgb(209,229,240)"
            ],
            [
             0.7,
             "rgb(146,197,222)"
            ],
            [
             0.8,
             "rgb(67,147,195)"
            ],
            [
             0.9,
             "rgb(33,102,172)"
            ],
            [
             1,
             "rgb(5,48,97)"
            ]
           ],
           "sequential": [
            [
             0,
             "#440154"
            ],
            [
             0.1111111111111111,
             "#482878"
            ],
            [
             0.2222222222222222,
             "#3e4989"
            ],
            [
             0.3333333333333333,
             "#31688e"
            ],
            [
             0.4444444444444444,
             "#26828e"
            ],
            [
             0.5555555555555556,
             "#1f9e89"
            ],
            [
             0.6666666666666666,
             "#35b779"
            ],
            [
             0.7777777777777778,
             "#6ece58"
            ],
            [
             0.8888888888888888,
             "#b5de2b"
            ],
            [
             1,
             "#fde725"
            ]
           ],
           "sequentialminus": [
            [
             0,
             "#440154"
            ],
            [
             0.1111111111111111,
             "#482878"
            ],
            [
             0.2222222222222222,
             "#3e4989"
            ],
            [
             0.3333333333333333,
             "#31688e"
            ],
            [
             0.4444444444444444,
             "#26828e"
            ],
            [
             0.5555555555555556,
             "#1f9e89"
            ],
            [
             0.6666666666666666,
             "#35b779"
            ],
            [
             0.7777777777777778,
             "#6ece58"
            ],
            [
             0.8888888888888888,
             "#b5de2b"
            ],
            [
             1,
             "#fde725"
            ]
           ]
          },
          "colorway": [
           "#1F77B4",
           "#FF7F0E",
           "#2CA02C",
           "#D62728",
           "#9467BD",
           "#8C564B",
           "#E377C2",
           "#7F7F7F",
           "#BCBD22",
           "#17BECF"
          ],
          "font": {
           "color": "rgb(36,36,36)"
          },
          "geo": {
           "bgcolor": "white",
           "lakecolor": "white",
           "landcolor": "white",
           "showlakes": true,
           "showland": true,
           "subunitcolor": "white"
          },
          "hoverlabel": {
           "align": "left"
          },
          "hovermode": "closest",
          "mapbox": {
           "style": "light"
          },
          "paper_bgcolor": "white",
          "plot_bgcolor": "white",
          "polar": {
           "angularaxis": {
            "gridcolor": "rgb(232,232,232)",
            "linecolor": "rgb(36,36,36)",
            "showgrid": false,
            "showline": true,
            "ticks": "outside"
           },
           "bgcolor": "white",
           "radialaxis": {
            "gridcolor": "rgb(232,232,232)",
            "linecolor": "rgb(36,36,36)",
            "showgrid": false,
            "showline": true,
            "ticks": "outside"
           }
          },
          "scene": {
           "xaxis": {
            "backgroundcolor": "white",
            "gridcolor": "rgb(232,232,232)",
            "gridwidth": 2,
            "linecolor": "rgb(36,36,36)",
            "showbackground": true,
            "showgrid": false,
            "showline": true,
            "ticks": "outside",
            "zeroline": false,
            "zerolinecolor": "rgb(36,36,36)"
           },
           "yaxis": {
            "backgroundcolor": "white",
            "gridcolor": "rgb(232,232,232)",
            "gridwidth": 2,
            "linecolor": "rgb(36,36,36)",
            "showbackground": true,
            "showgrid": false,
            "showline": true,
            "ticks": "outside",
            "zeroline": false,
            "zerolinecolor": "rgb(36,36,36)"
           },
           "zaxis": {
            "backgroundcolor": "white",
            "gridcolor": "rgb(232,232,232)",
            "gridwidth": 2,
            "linecolor": "rgb(36,36,36)",
            "showbackground": true,
            "showgrid": false,
            "showline": true,
            "ticks": "outside",
            "zeroline": false,
            "zerolinecolor": "rgb(36,36,36)"
           }
          },
          "shapedefaults": {
           "fillcolor": "black",
           "line": {
            "width": 0
           },
           "opacity": 0.3
          },
          "ternary": {
           "aaxis": {
            "gridcolor": "rgb(232,232,232)",
            "linecolor": "rgb(36,36,36)",
            "showgrid": false,
            "showline": true,
            "ticks": "outside"
           },
           "baxis": {
            "gridcolor": "rgb(232,232,232)",
            "linecolor": "rgb(36,36,36)",
            "showgrid": false,
            "showline": true,
            "ticks": "outside"
           },
           "bgcolor": "white",
           "caxis": {
            "gridcolor": "rgb(232,232,232)",
            "linecolor": "rgb(36,36,36)",
            "showgrid": false,
            "showline": true,
            "ticks": "outside"
           }
          },
          "title": {
           "x": 0.05
          },
          "xaxis": {
           "automargin": true,
           "gridcolor": "rgb(232,232,232)",
           "linecolor": "rgb(36,36,36)",
           "showgrid": false,
           "showline": true,
           "ticks": "outside",
           "title": {
            "standoff": 15
           },
           "zeroline": false,
           "zerolinecolor": "rgb(36,36,36)"
          },
          "yaxis": {
           "automargin": true,
           "gridcolor": "rgb(232,232,232)",
           "linecolor": "rgb(36,36,36)",
           "showgrid": false,
           "showline": true,
           "ticks": "outside",
           "title": {
            "standoff": 15
           },
           "zeroline": false,
           "zerolinecolor": "rgb(36,36,36)"
          }
         }
        },
        "title": {
         "font": {
          "color": "Black",
          "size": 22
         },
         "text": "<b>Intertopic Distance Map</b>",
         "x": 0.5,
         "xanchor": "center",
         "y": 0.95,
         "yanchor": "top"
        },
        "width": 650,
        "xaxis": {
         "anchor": "y",
         "domain": [
          0,
          1
         ],
         "range": [
          -4.691886401176452,
          18.38338131904602
         ],
         "title": {
          "text": ""
         },
         "visible": false
        },
        "yaxis": {
         "anchor": "x",
         "domain": [
          0,
          1
         ],
         "range": [
          -10.085151767730713,
          15.026848649978637
         ],
         "title": {
          "text": ""
         },
         "visible": false
        }
       }
      }
     },
     "metadata": {},
     "output_type": "display_data"
    }
   ],
   "source": [
    "model.visualize_topics()"
   ]
  },
  {
   "cell_type": "code",
   "execution_count": 53,
   "metadata": {},
   "outputs": [
    {
     "data": {
      "application/vnd.plotly.v1+json": {
       "config": {
        "plotlyServerURL": "https://plot.ly"
       },
       "data": [
        {
         "marker": {
          "color": "#D55E00"
         },
         "orientation": "h",
         "type": "bar",
         "x": [
          0.018930154800911193,
          0.018966173805582406,
          0.019774718075631074,
          0.02378668340352991,
          0.024533714802016996
         ],
         "xaxis": "x",
         "y": [
          "the  ",
          "and  ",
          "of  ",
          "teachers  ",
          "technology  "
         ],
         "yaxis": "y"
        },
        {
         "marker": {
          "color": "#0072B2"
         },
         "orientation": "h",
         "type": "bar",
         "x": [
          0.018334474114332817,
          0.01888883099978088,
          0.022529444291170053,
          0.024822968878431884,
          0.026174333765167344
         ],
         "xaxis": "x2",
         "y": [
          "and  ",
          "the  ",
          "systems  ",
          "is  ",
          "information  "
         ],
         "yaxis": "y2"
        },
        {
         "marker": {
          "color": "#CC79A7"
         },
         "orientation": "h",
         "type": "bar",
         "x": [
          0.01841657857169125,
          0.01880569185145079,
          0.019584069634537737,
          0.02363215877496689,
          0.028278775930725558
         ],
         "xaxis": "x3",
         "y": [
          "of  ",
          "the  ",
          "and  ",
          "telecollaboration  ",
          "intercultural  "
         ],
         "yaxis": "y3"
        },
        {
         "marker": {
          "color": "#E69F00"
         },
         "orientation": "h",
         "type": "bar",
         "x": [
          0.020104575342414017,
          0.02552524999118812,
          0.03433623162792466,
          0.055882948716825274,
          0.05844724887823292
         ],
         "xaxis": "x4",
         "y": [
          "to  ",
          "big  ",
          "business  ",
          "data  ",
          "analytics  "
         ],
         "yaxis": "y4"
        },
        {
         "marker": {
          "color": "#56B4E9"
         },
         "orientation": "h",
         "type": "bar",
         "x": [
          0.018965580332365718,
          0.01920234932364687,
          0.01999857961561676,
          0.020166867474298283,
          0.026887965182207325
         ],
         "xaxis": "x5",
         "y": [
          "in  ",
          "communication  ",
          "learners  ",
          "scmc  ",
          "task  "
         ],
         "yaxis": "y5"
        },
        {
         "marker": {
          "color": "#009E73"
         },
         "orientation": "h",
         "type": "bar",
         "x": [
          0.019735170906335718,
          0.019896429473117913,
          0.02836624522787123,
          0.029586655113123573,
          0.05616239793769227
         ],
         "xaxis": "x6",
         "y": [
          "the  ",
          "of  ",
          "ddl  ",
          "corpora  ",
          "corpus  "
         ],
         "yaxis": "y6"
        },
        {
         "marker": {
          "color": "#F0E442"
         },
         "orientation": "h",
         "type": "bar",
         "x": [
          0.017970871296529287,
          0.01816187300642708,
          0.02131516620484103,
          0.050829624192913044,
          0.06301906393881121
         ],
         "xaxis": "x7",
         "y": [
          "the  ",
          "to  ",
          "information  ",
          "cybersecurity  ",
          "security  "
         ],
         "yaxis": "y7"
        },
        {
         "marker": {
          "color": "#D55E00"
         },
         "orientation": "h",
         "type": "bar",
         "x": [
          0.018525975238187227,
          0.021234972136548822,
          0.021575079621954606,
          0.021786677687041508,
          0.043345967354695696
         ],
         "xaxis": "x8",
         "y": [
          "of  ",
          "listening  ",
          "speech  ",
          "asr  ",
          "pronunciation  "
         ],
         "yaxis": "y8"
        },
        {
         "marker": {
          "color": "#0072B2"
         },
         "orientation": "h",
         "type": "bar",
         "x": [
          0.019522958120834242,
          0.025290486830723678,
          0.028651956488264893,
          0.030292840449920228,
          0.06346802273831328
         ],
         "xaxis": "x9",
         "y": [
          "feedback  ",
          "peer  ",
          "wiki  ",
          "collaborative  ",
          "writing  "
         ],
         "yaxis": "y9"
        },
        {
         "marker": {
          "color": "#CC79A7"
         },
         "orientation": "h",
         "type": "bar",
         "x": [
          0.018478443980549396,
          0.024843483231161218,
          0.03322078645357821,
          0.040102618843808835,
          0.053882724972794276
         ],
         "xaxis": "x10",
         "y": [
          "of  ",
          "language  ",
          "learning  ",
          "mall  ",
          "mobile  "
         ],
         "yaxis": "y10"
        },
        {
         "marker": {
          "color": "#E69F00"
         },
         "orientation": "h",
         "type": "bar",
         "x": [
          0.022387489776812708,
          0.023104294618781857,
          0.0315001973343042,
          0.03752015013088892,
          0.05073440090022992
         ],
         "xaxis": "x11",
         "y": [
          "playing  ",
          "language  ",
          "gaming  ",
          "games  ",
          "game  "
         ],
         "yaxis": "y11"
        },
        {
         "marker": {
          "color": "#56B4E9"
         },
         "orientation": "h",
         "type": "bar",
         "x": [
          0.030482278829923562,
          0.031135522368661416,
          0.033212071080506174,
          0.04544789740320258,
          0.06486714585056992
         ],
         "xaxis": "x12",
         "y": [
          "caption  ",
          "vocabulary  ",
          "captioning  ",
          "comprehension  ",
          "captions  "
         ],
         "yaxis": "y12"
        },
        {
         "marker": {
          "color": "#009E73"
         },
         "orientation": "h",
         "type": "bar",
         "x": [
          0.023506154684446764,
          0.02471923107340505,
          0.029737920726980224,
          0.0467448554503709,
          0.055837073032367526
         ],
         "xaxis": "x13",
         "y": [
          "immersive  ",
          "learning  ",
          "reality  ",
          "virtual  ",
          "vr  "
         ],
         "yaxis": "y13"
        },
        {
         "marker": {
          "color": "#F0E442"
         },
         "orientation": "h",
         "type": "bar",
         "x": [
          0.019418757231557494,
          0.01969023371909605,
          0.023187320464053307,
          0.023229095370320776,
          0.06321138709676632
         ],
         "xaxis": "x14",
         "y": [
          "to  ",
          "python  ",
          "introductory  ",
          "students  ",
          "programming  "
         ],
         "yaxis": "y14"
        },
        {
         "marker": {
          "color": "#D55E00"
         },
         "orientation": "h",
         "type": "bar",
         "x": [
          0.019995986915829954,
          0.023420465479347025,
          0.024119404659791188,
          0.025931991926809693,
          0.02889625621222368
         ],
         "xaxis": "x15",
         "y": [
          "tablet  ",
          "smart  ",
          "phones  ",
          "devices  ",
          "mobile  "
         ],
         "yaxis": "y15"
        },
        {
         "marker": {
          "color": "#0072B2"
         },
         "orientation": "h",
         "type": "bar",
         "x": [
          0.02171430351457817,
          0.02609935474965651,
          0.02804583391990474,
          0.029019318670134762,
          0.05297649921593891
         ],
         "xaxis": "x16",
         "y": [
          "to  ",
          "19  ",
          "online  ",
          "covid  ",
          "pandemic  "
         ],
         "yaxis": "y16"
        },
        {
         "marker": {
          "color": "#CC79A7"
         },
         "orientation": "h",
         "type": "bar",
         "x": [
          0.0318204065259557,
          0.03204667373082243,
          0.03264895175249502,
          0.03990427436416059,
          0.09956374774178037
         ],
         "xaxis": "x17",
         "y": [
          "case  ",
          "data  ",
          "query  ",
          "sql  ",
          "database  "
         ],
         "yaxis": "y17"
        },
        {
         "marker": {
          "color": "#E69F00"
         },
         "orientation": "h",
         "type": "bar",
         "x": [
          0.01931882899385749,
          0.022266970384386058,
          0.022591418719319405,
          0.023331503988852226,
          0.04141742601450789
         ],
         "xaxis": "x18",
         "y": [
          "the  ",
          "lmoocs  ",
          "learning  ",
          "online  ",
          "blended  "
         ],
         "yaxis": "y18"
        },
        {
         "marker": {
          "color": "#56B4E9"
         },
         "orientation": "h",
         "type": "bar",
         "x": [
          0.02032285630556181,
          0.022773825207055176,
          0.023752315289577924,
          0.041269961200567445,
          0.09239791547422439
         ],
         "xaxis": "x19",
         "y": [
          "in  ",
          "class  ",
          "the  ",
          "classroom  ",
          "flipped  "
         ],
         "yaxis": "y19"
        },
        {
         "marker": {
          "color": "#009E73"
         },
         "orientation": "h",
         "type": "bar",
         "x": [
          0.022403085522926223,
          0.022568090540014872,
          0.04084059265937442,
          0.0416591269737099,
          0.051742153508654985
         ],
         "xaxis": "x20",
         "y": [
          "use  ",
          "facebook  ",
          "internet  ",
          "media  ",
          "social  "
         ],
         "yaxis": "y20"
        },
        {
         "marker": {
          "color": "#F0E442"
         },
         "orientation": "h",
         "type": "bar",
         "x": [
          0.02476667394555084,
          0.0282426388457019,
          0.032215926957598576,
          0.03648120726833254,
          0.05406384191372793
         ],
         "xaxis": "x21",
         "y": [
          "distance  ",
          "education  ",
          "courses  ",
          "moocs  ",
          "online  "
         ],
         "yaxis": "y21"
        },
        {
         "marker": {
          "color": "#D55E00"
         },
         "orientation": "h",
         "type": "bar",
         "x": [
          0.025064703124579073,
          0.03449004423474523,
          0.04115081786615643,
          0.04253190382521592,
          0.04461726542845772
         ],
         "xaxis": "x22",
         "y": [
          "ethical  ",
          "academic  ",
          "integrity  ",
          "plagiarism  ",
          "privacy  "
         ],
         "yaxis": "y22"
        },
        {
         "marker": {
          "color": "#0072B2"
         },
         "orientation": "h",
         "type": "bar",
         "x": [
          0.01916445246298906,
          0.020136614225451446,
          0.020272354525462444,
          0.020892609518259067,
          0.044679326653475494
         ],
         "xaxis": "x23",
         "y": [
          "semiotic  ",
          "the  ",
          "communication  ",
          "of  ",
          "multimodal  "
         ],
         "yaxis": "y23"
        },
        {
         "marker": {
          "color": "#CC79A7"
         },
         "orientation": "h",
         "type": "bar",
         "x": [
          0.027891071441065087,
          0.028961016849532506,
          0.03140274492291647,
          0.03318970272634886,
          0.07293220022321106
         ],
         "xaxis": "x24",
         "y": [
          "corrective  ",
          "awe  ",
          "writing  ",
          "error  ",
          "feedback  "
         ],
         "yaxis": "y24"
        },
        {
         "marker": {
          "color": "#E69F00"
         },
         "orientation": "h",
         "type": "bar",
         "x": [
          0.0213438038904868,
          0.02186767027892055,
          0.024042636025639493,
          0.02446842196278135,
          0.035158312541483154
         ],
         "xaxis": "x25",
         "y": [
          "system  ",
          "company  ",
          "to  ",
          "the  ",
          "case  "
         ],
         "yaxis": "y25"
        },
        {
         "marker": {
          "color": "#56B4E9"
         },
         "orientation": "h",
         "type": "bar",
         "x": [
          0.024393617317656116,
          0.02447539506456714,
          0.025886492901753953,
          0.07321441688275569,
          0.11789972516573709
         ],
         "xaxis": "x26",
         "y": [
          "development  ",
          "to  ",
          "project  ",
          "scrum  ",
          "agile  "
         ],
         "yaxis": "y26"
        },
        {
         "marker": {
          "color": "#009E73"
         },
         "orientation": "h",
         "type": "bar",
         "x": [
          0.027015831151718562,
          0.030220895038132897,
          0.04322537202265506,
          0.04456732385202594,
          0.08414564623044447
         ],
         "xaxis": "x27",
         "y": [
          "learning  ",
          "kahoot  ",
          "games  ",
          "game  ",
          "gamification  "
         ],
         "yaxis": "y27"
        },
        {
         "marker": {
          "color": "#F0E442"
         },
         "orientation": "h",
         "type": "bar",
         "x": [
          0.02270879452434598,
          0.0287026690339065,
          0.029114071513855772,
          0.04337973501290034,
          0.05788190892744348
         ],
         "xaxis": "x28",
         "y": [
          "and  ",
          "stories  ",
          "narrative  ",
          "digital  ",
          "storytelling  "
         ],
         "yaxis": "y28"
        },
        {
         "marker": {
          "color": "#D55E00"
         },
         "orientation": "h",
         "type": "bar",
         "x": [
          0.02190660574120047,
          0.02301574174555437,
          0.02526447952487567,
          0.03157484942853247,
          0.10726147118506021
         ],
         "xaxis": "x29",
         "y": [
          "students  ",
          "books  ",
          "readers  ",
          "comprehension  ",
          "reading  "
         ],
         "yaxis": "y29"
        },
        {
         "marker": {
          "color": "#0072B2"
         },
         "orientation": "h",
         "type": "bar",
         "x": [
          0.02250159011149556,
          0.027172768600418618,
          0.03310365147658159,
          0.03903777770590759,
          0.05029170809846574
         ],
         "xaxis": "x30",
         "y": [
          "students  ",
          "group  ",
          "teams  ",
          "teamwork  ",
          "team  "
         ],
         "yaxis": "y30"
        },
        {
         "marker": {
          "color": "#CC79A7"
         },
         "orientation": "h",
         "type": "bar",
         "x": [
          0.023929324737396316,
          0.024837831253354512,
          0.02682485951319806,
          0.027371695597709432,
          0.062109575533153924
         ],
         "xaxis": "x31",
         "y": [
          "the  ",
          "of  ",
          "quot  ",
          "income  ",
          "global  "
         ],
         "yaxis": "y31"
        },
        {
         "marker": {
          "color": "#E69F00"
         },
         "orientation": "h",
         "type": "bar",
         "x": [
          0.020692426901579918,
          0.02118505252461088,
          0.02274948447314461,
          0.022865572461896976,
          0.02439390159276799
         ],
         "xaxis": "x32",
         "y": [
          "sites  ",
          "online  ",
          "social  ",
          "language  ",
          "learning  "
         ],
         "yaxis": "y32"
        },
        {
         "marker": {
          "color": "#56B4E9"
         },
         "orientation": "h",
         "type": "bar",
         "x": [
          0.02259170986717724,
          0.024899285233462045,
          0.02801389918708375,
          0.02927371389111402,
          0.05259381003483479
         ],
         "xaxis": "x33",
         "y": [
          "patients  ",
          "of  ",
          "the  ",
          "physical  ",
          "health  "
         ],
         "yaxis": "y33"
        },
        {
         "marker": {
          "color": "#009E73"
         },
         "orientation": "h",
         "type": "bar",
         "x": [
          0.02277528299939049,
          0.02376021158380784,
          0.02451579067778676,
          0.02929348118404304,
          0.030672217054041506
         ],
         "xaxis": "x34",
         "y": [
          "school  ",
          "preschool  ",
          "of  ",
          "education  ",
          "the  "
         ],
         "yaxis": "y34"
        },
        {
         "marker": {
          "color": "#F0E442"
         },
         "orientation": "h",
         "type": "bar",
         "x": [
          0.024379274690312418,
          0.024934030169739208,
          0.03241496950460077,
          0.03626768024689339,
          0.07505825938266208
         ],
         "xaxis": "x35",
         "y": [
          "telepresence  ",
          "chatbot  ",
          "chatbots  ",
          "rall  ",
          "robot  "
         ],
         "yaxis": "y35"
        },
        {
         "marker": {
          "color": "#D55E00"
         },
         "orientation": "h",
         "type": "bar",
         "x": [
          0.024737187004409508,
          0.02618184699985871,
          0.027679361018059855,
          0.030535787327028965,
          0.03959567989367423
         ],
         "xaxis": "x36",
         "y": [
          "game  ",
          "android  ",
          "inventor  ",
          "development  ",
          "app  "
         ],
         "yaxis": "y36"
        },
        {
         "marker": {
          "color": "#0072B2"
         },
         "orientation": "h",
         "type": "bar",
         "x": [
          0.02091757531656955,
          0.02095658097900754,
          0.024460895187010716,
          0.036813660578565,
          0.060059176447634734
         ],
         "xaxis": "x37",
         "y": [
          "learning  ",
          "gloss  ",
          "idioms  ",
          "l2  ",
          "vocabulary  "
         ],
         "yaxis": "y37"
        },
        {
         "marker": {
          "color": "#CC79A7"
         },
         "orientation": "h",
         "type": "bar",
         "x": [
          0.02823808151025788,
          0.02823808151025788,
          0.03344867825386862,
          0.05911319709185484,
          0.1215627173819197
         ],
         "xaxis": "x38",
         "y": [
          "aws  ",
          "cc  ",
          "decision  ",
          "computing  ",
          "cloud  "
         ],
         "yaxis": "y38"
        },
        {
         "marker": {
          "color": "#E69F00"
         },
         "orientation": "h",
         "type": "bar",
         "x": [
          0.023120062370254324,
          0.024589236108482494,
          0.025134513535966987,
          0.052782478425530674,
          0.08171435461893845
         ],
         "xaxis": "x39",
         "y": [
          "foreign  ",
          "participants  ",
          "repetition  ",
          "fla  ",
          "anxiety  "
         ],
         "yaxis": "y39"
        },
        {
         "marker": {
          "color": "#56B4E9"
         },
         "orientation": "h",
         "type": "bar",
         "x": [
          0.027418063440792163,
          0.03755925628154688,
          0.04494838626506871,
          0.05526975092091005,
          0.06463546621673791
         ],
         "xaxis": "x40",
         "y": [
          "simulation  ",
          "systems  ",
          "enterprise  ",
          "business  ",
          "erp  "
         ],
         "yaxis": "y40"
        },
        {
         "marker": {
          "color": "#009E73"
         },
         "orientation": "h",
         "type": "bar",
         "x": [
          0.025654470815041158,
          0.02674940407677217,
          0.02676266178055958,
          0.03335617937617514,
          0.06235161559950801
         ],
         "xaxis": "x41",
         "y": [
          "with  ",
          "of  ",
          "design  ",
          "systems  ",
          "disabilities  "
         ],
         "yaxis": "y41"
        },
        {
         "marker": {
          "color": "#F0E442"
         },
         "orientation": "h",
         "type": "bar",
         "x": [
          0.03320447247833085,
          0.03400065154389619,
          0.04007133101131461,
          0.046233735004397994,
          0.0666817271485327
         ],
         "xaxis": "x42",
         "y": [
          "engagement  ",
          "discussion  ",
          "student  ",
          "online  ",
          "discussions  "
         ],
         "yaxis": "y42"
        }
       ],
       "layout": {
        "annotations": [
         {
          "font": {
           "size": 16
          },
          "showarrow": false,
          "text": "Topic 0",
          "x": 0.0875,
          "xanchor": "center",
          "xref": "paper",
          "y": 1,
          "yanchor": "bottom",
          "yref": "paper"
         },
         {
          "font": {
           "size": 16
          },
          "showarrow": false,
          "text": "Topic 1",
          "x": 0.36250000000000004,
          "xanchor": "center",
          "xref": "paper",
          "y": 1,
          "yanchor": "bottom",
          "yref": "paper"
         },
         {
          "font": {
           "size": 16
          },
          "showarrow": false,
          "text": "Topic 2",
          "x": 0.6375000000000001,
          "xanchor": "center",
          "xref": "paper",
          "y": 1,
          "yanchor": "bottom",
          "yref": "paper"
         },
         {
          "font": {
           "size": 16
          },
          "showarrow": false,
          "text": "Topic 3",
          "x": 0.9125,
          "xanchor": "center",
          "xref": "paper",
          "y": 1,
          "yanchor": "bottom",
          "yref": "paper"
         },
         {
          "font": {
           "size": 16
          },
          "showarrow": false,
          "text": "Topic 4",
          "x": 0.0875,
          "xanchor": "center",
          "xref": "paper",
          "y": 0.9057851239669421,
          "yanchor": "bottom",
          "yref": "paper"
         },
         {
          "font": {
           "size": 16
          },
          "showarrow": false,
          "text": "Topic 5",
          "x": 0.36250000000000004,
          "xanchor": "center",
          "xref": "paper",
          "y": 0.9057851239669421,
          "yanchor": "bottom",
          "yref": "paper"
         },
         {
          "font": {
           "size": 16
          },
          "showarrow": false,
          "text": "Topic 6",
          "x": 0.6375000000000001,
          "xanchor": "center",
          "xref": "paper",
          "y": 0.9057851239669421,
          "yanchor": "bottom",
          "yref": "paper"
         },
         {
          "font": {
           "size": 16
          },
          "showarrow": false,
          "text": "Topic 7",
          "x": 0.9125,
          "xanchor": "center",
          "xref": "paper",
          "y": 0.9057851239669421,
          "yanchor": "bottom",
          "yref": "paper"
         },
         {
          "font": {
           "size": 16
          },
          "showarrow": false,
          "text": "Topic 8",
          "x": 0.0875,
          "xanchor": "center",
          "xref": "paper",
          "y": 0.8115702479338842,
          "yanchor": "bottom",
          "yref": "paper"
         },
         {
          "font": {
           "size": 16
          },
          "showarrow": false,
          "text": "Topic 9",
          "x": 0.36250000000000004,
          "xanchor": "center",
          "xref": "paper",
          "y": 0.8115702479338842,
          "yanchor": "bottom",
          "yref": "paper"
         },
         {
          "font": {
           "size": 16
          },
          "showarrow": false,
          "text": "Topic 10",
          "x": 0.6375000000000001,
          "xanchor": "center",
          "xref": "paper",
          "y": 0.8115702479338842,
          "yanchor": "bottom",
          "yref": "paper"
         },
         {
          "font": {
           "size": 16
          },
          "showarrow": false,
          "text": "Topic 11",
          "x": 0.9125,
          "xanchor": "center",
          "xref": "paper",
          "y": 0.8115702479338842,
          "yanchor": "bottom",
          "yref": "paper"
         },
         {
          "font": {
           "size": 16
          },
          "showarrow": false,
          "text": "Topic 12",
          "x": 0.0875,
          "xanchor": "center",
          "xref": "paper",
          "y": 0.7173553719008263,
          "yanchor": "bottom",
          "yref": "paper"
         },
         {
          "font": {
           "size": 16
          },
          "showarrow": false,
          "text": "Topic 13",
          "x": 0.36250000000000004,
          "xanchor": "center",
          "xref": "paper",
          "y": 0.7173553719008263,
          "yanchor": "bottom",
          "yref": "paper"
         },
         {
          "font": {
           "size": 16
          },
          "showarrow": false,
          "text": "Topic 14",
          "x": 0.6375000000000001,
          "xanchor": "center",
          "xref": "paper",
          "y": 0.7173553719008263,
          "yanchor": "bottom",
          "yref": "paper"
         },
         {
          "font": {
           "size": 16
          },
          "showarrow": false,
          "text": "Topic 15",
          "x": 0.9125,
          "xanchor": "center",
          "xref": "paper",
          "y": 0.7173553719008263,
          "yanchor": "bottom",
          "yref": "paper"
         },
         {
          "font": {
           "size": 16
          },
          "showarrow": false,
          "text": "Topic 16",
          "x": 0.0875,
          "xanchor": "center",
          "xref": "paper",
          "y": 0.6231404958677685,
          "yanchor": "bottom",
          "yref": "paper"
         },
         {
          "font": {
           "size": 16
          },
          "showarrow": false,
          "text": "Topic 17",
          "x": 0.36250000000000004,
          "xanchor": "center",
          "xref": "paper",
          "y": 0.6231404958677685,
          "yanchor": "bottom",
          "yref": "paper"
         },
         {
          "font": {
           "size": 16
          },
          "showarrow": false,
          "text": "Topic 18",
          "x": 0.6375000000000001,
          "xanchor": "center",
          "xref": "paper",
          "y": 0.6231404958677685,
          "yanchor": "bottom",
          "yref": "paper"
         },
         {
          "font": {
           "size": 16
          },
          "showarrow": false,
          "text": "Topic 19",
          "x": 0.9125,
          "xanchor": "center",
          "xref": "paper",
          "y": 0.6231404958677685,
          "yanchor": "bottom",
          "yref": "paper"
         },
         {
          "font": {
           "size": 16
          },
          "showarrow": false,
          "text": "Topic 20",
          "x": 0.0875,
          "xanchor": "center",
          "xref": "paper",
          "y": 0.5289256198347108,
          "yanchor": "bottom",
          "yref": "paper"
         },
         {
          "font": {
           "size": 16
          },
          "showarrow": false,
          "text": "Topic 21",
          "x": 0.36250000000000004,
          "xanchor": "center",
          "xref": "paper",
          "y": 0.5289256198347108,
          "yanchor": "bottom",
          "yref": "paper"
         },
         {
          "font": {
           "size": 16
          },
          "showarrow": false,
          "text": "Topic 22",
          "x": 0.6375000000000001,
          "xanchor": "center",
          "xref": "paper",
          "y": 0.5289256198347108,
          "yanchor": "bottom",
          "yref": "paper"
         },
         {
          "font": {
           "size": 16
          },
          "showarrow": false,
          "text": "Topic 23",
          "x": 0.9125,
          "xanchor": "center",
          "xref": "paper",
          "y": 0.5289256198347108,
          "yanchor": "bottom",
          "yref": "paper"
         },
         {
          "font": {
           "size": 16
          },
          "showarrow": false,
          "text": "Topic 24",
          "x": 0.0875,
          "xanchor": "center",
          "xref": "paper",
          "y": 0.4347107438016528,
          "yanchor": "bottom",
          "yref": "paper"
         },
         {
          "font": {
           "size": 16
          },
          "showarrow": false,
          "text": "Topic 25",
          "x": 0.36250000000000004,
          "xanchor": "center",
          "xref": "paper",
          "y": 0.4347107438016528,
          "yanchor": "bottom",
          "yref": "paper"
         },
         {
          "font": {
           "size": 16
          },
          "showarrow": false,
          "text": "Topic 26",
          "x": 0.6375000000000001,
          "xanchor": "center",
          "xref": "paper",
          "y": 0.4347107438016528,
          "yanchor": "bottom",
          "yref": "paper"
         },
         {
          "font": {
           "size": 16
          },
          "showarrow": false,
          "text": "Topic 27",
          "x": 0.9125,
          "xanchor": "center",
          "xref": "paper",
          "y": 0.4347107438016528,
          "yanchor": "bottom",
          "yref": "paper"
         },
         {
          "font": {
           "size": 16
          },
          "showarrow": false,
          "text": "Topic 28",
          "x": 0.0875,
          "xanchor": "center",
          "xref": "paper",
          "y": 0.34049586776859503,
          "yanchor": "bottom",
          "yref": "paper"
         },
         {
          "font": {
           "size": 16
          },
          "showarrow": false,
          "text": "Topic 29",
          "x": 0.36250000000000004,
          "xanchor": "center",
          "xref": "paper",
          "y": 0.34049586776859503,
          "yanchor": "bottom",
          "yref": "paper"
         },
         {
          "font": {
           "size": 16
          },
          "showarrow": false,
          "text": "Topic 30",
          "x": 0.6375000000000001,
          "xanchor": "center",
          "xref": "paper",
          "y": 0.34049586776859503,
          "yanchor": "bottom",
          "yref": "paper"
         },
         {
          "font": {
           "size": 16
          },
          "showarrow": false,
          "text": "Topic 31",
          "x": 0.9125,
          "xanchor": "center",
          "xref": "paper",
          "y": 0.34049586776859503,
          "yanchor": "bottom",
          "yref": "paper"
         },
         {
          "font": {
           "size": 16
          },
          "showarrow": false,
          "text": "Topic 32",
          "x": 0.0875,
          "xanchor": "center",
          "xref": "paper",
          "y": 0.24628099173553714,
          "yanchor": "bottom",
          "yref": "paper"
         },
         {
          "font": {
           "size": 16
          },
          "showarrow": false,
          "text": "Topic 33",
          "x": 0.36250000000000004,
          "xanchor": "center",
          "xref": "paper",
          "y": 0.24628099173553714,
          "yanchor": "bottom",
          "yref": "paper"
         },
         {
          "font": {
           "size": 16
          },
          "showarrow": false,
          "text": "Topic 34",
          "x": 0.6375000000000001,
          "xanchor": "center",
          "xref": "paper",
          "y": 0.24628099173553714,
          "yanchor": "bottom",
          "yref": "paper"
         },
         {
          "font": {
           "size": 16
          },
          "showarrow": false,
          "text": "Topic 35",
          "x": 0.9125,
          "xanchor": "center",
          "xref": "paper",
          "y": 0.24628099173553714,
          "yanchor": "bottom",
          "yref": "paper"
         },
         {
          "font": {
           "size": 16
          },
          "showarrow": false,
          "text": "Topic 36",
          "x": 0.0875,
          "xanchor": "center",
          "xref": "paper",
          "y": 0.1520661157024793,
          "yanchor": "bottom",
          "yref": "paper"
         },
         {
          "font": {
           "size": 16
          },
          "showarrow": false,
          "text": "Topic 37",
          "x": 0.36250000000000004,
          "xanchor": "center",
          "xref": "paper",
          "y": 0.1520661157024793,
          "yanchor": "bottom",
          "yref": "paper"
         },
         {
          "font": {
           "size": 16
          },
          "showarrow": false,
          "text": "Topic 38",
          "x": 0.6375000000000001,
          "xanchor": "center",
          "xref": "paper",
          "y": 0.1520661157024793,
          "yanchor": "bottom",
          "yref": "paper"
         },
         {
          "font": {
           "size": 16
          },
          "showarrow": false,
          "text": "Topic 39",
          "x": 0.9125,
          "xanchor": "center",
          "xref": "paper",
          "y": 0.1520661157024793,
          "yanchor": "bottom",
          "yref": "paper"
         },
         {
          "font": {
           "size": 16
          },
          "showarrow": false,
          "text": "Topic 40",
          "x": 0.0875,
          "xanchor": "center",
          "xref": "paper",
          "y": 0.057851239669421475,
          "yanchor": "bottom",
          "yref": "paper"
         },
         {
          "font": {
           "size": 16
          },
          "showarrow": false,
          "text": "Topic 41",
          "x": 0.36250000000000004,
          "xanchor": "center",
          "xref": "paper",
          "y": 0.057851239669421475,
          "yanchor": "bottom",
          "yref": "paper"
         }
        ],
        "height": 2750,
        "hoverlabel": {
         "bgcolor": "white",
         "font": {
          "family": "Rockwell",
          "size": 16
         }
        },
        "showlegend": false,
        "template": {
         "data": {
          "bar": [
           {
            "error_x": {
             "color": "#2a3f5f"
            },
            "error_y": {
             "color": "#2a3f5f"
            },
            "marker": {
             "line": {
              "color": "white",
              "width": 0.5
             },
             "pattern": {
              "fillmode": "overlay",
              "size": 10,
              "solidity": 0.2
             }
            },
            "type": "bar"
           }
          ],
          "barpolar": [
           {
            "marker": {
             "line": {
              "color": "white",
              "width": 0.5
             },
             "pattern": {
              "fillmode": "overlay",
              "size": 10,
              "solidity": 0.2
             }
            },
            "type": "barpolar"
           }
          ],
          "carpet": [
           {
            "aaxis": {
             "endlinecolor": "#2a3f5f",
             "gridcolor": "#C8D4E3",
             "linecolor": "#C8D4E3",
             "minorgridcolor": "#C8D4E3",
             "startlinecolor": "#2a3f5f"
            },
            "baxis": {
             "endlinecolor": "#2a3f5f",
             "gridcolor": "#C8D4E3",
             "linecolor": "#C8D4E3",
             "minorgridcolor": "#C8D4E3",
             "startlinecolor": "#2a3f5f"
            },
            "type": "carpet"
           }
          ],
          "choropleth": [
           {
            "colorbar": {
             "outlinewidth": 0,
             "ticks": ""
            },
            "type": "choropleth"
           }
          ],
          "contour": [
           {
            "colorbar": {
             "outlinewidth": 0,
             "ticks": ""
            },
            "colorscale": [
             [
              0,
              "#0d0887"
             ],
             [
              0.1111111111111111,
              "#46039f"
             ],
             [
              0.2222222222222222,
              "#7201a8"
             ],
             [
              0.3333333333333333,
              "#9c179e"
             ],
             [
              0.4444444444444444,
              "#bd3786"
             ],
             [
              0.5555555555555556,
              "#d8576b"
             ],
             [
              0.6666666666666666,
              "#ed7953"
             ],
             [
              0.7777777777777778,
              "#fb9f3a"
             ],
             [
              0.8888888888888888,
              "#fdca26"
             ],
             [
              1,
              "#f0f921"
             ]
            ],
            "type": "contour"
           }
          ],
          "contourcarpet": [
           {
            "colorbar": {
             "outlinewidth": 0,
             "ticks": ""
            },
            "type": "contourcarpet"
           }
          ],
          "heatmap": [
           {
            "colorbar": {
             "outlinewidth": 0,
             "ticks": ""
            },
            "colorscale": [
             [
              0,
              "#0d0887"
             ],
             [
              0.1111111111111111,
              "#46039f"
             ],
             [
              0.2222222222222222,
              "#7201a8"
             ],
             [
              0.3333333333333333,
              "#9c179e"
             ],
             [
              0.4444444444444444,
              "#bd3786"
             ],
             [
              0.5555555555555556,
              "#d8576b"
             ],
             [
              0.6666666666666666,
              "#ed7953"
             ],
             [
              0.7777777777777778,
              "#fb9f3a"
             ],
             [
              0.8888888888888888,
              "#fdca26"
             ],
             [
              1,
              "#f0f921"
             ]
            ],
            "type": "heatmap"
           }
          ],
          "heatmapgl": [
           {
            "colorbar": {
             "outlinewidth": 0,
             "ticks": ""
            },
            "colorscale": [
             [
              0,
              "#0d0887"
             ],
             [
              0.1111111111111111,
              "#46039f"
             ],
             [
              0.2222222222222222,
              "#7201a8"
             ],
             [
              0.3333333333333333,
              "#9c179e"
             ],
             [
              0.4444444444444444,
              "#bd3786"
             ],
             [
              0.5555555555555556,
              "#d8576b"
             ],
             [
              0.6666666666666666,
              "#ed7953"
             ],
             [
              0.7777777777777778,
              "#fb9f3a"
             ],
             [
              0.8888888888888888,
              "#fdca26"
             ],
             [
              1,
              "#f0f921"
             ]
            ],
            "type": "heatmapgl"
           }
          ],
          "histogram": [
           {
            "marker": {
             "pattern": {
              "fillmode": "overlay",
              "size": 10,
              "solidity": 0.2
             }
            },
            "type": "histogram"
           }
          ],
          "histogram2d": [
           {
            "colorbar": {
             "outlinewidth": 0,
             "ticks": ""
            },
            "colorscale": [
             [
              0,
              "#0d0887"
             ],
             [
              0.1111111111111111,
              "#46039f"
             ],
             [
              0.2222222222222222,
              "#7201a8"
             ],
             [
              0.3333333333333333,
              "#9c179e"
             ],
             [
              0.4444444444444444,
              "#bd3786"
             ],
             [
              0.5555555555555556,
              "#d8576b"
             ],
             [
              0.6666666666666666,
              "#ed7953"
             ],
             [
              0.7777777777777778,
              "#fb9f3a"
             ],
             [
              0.8888888888888888,
              "#fdca26"
             ],
             [
              1,
              "#f0f921"
             ]
            ],
            "type": "histogram2d"
           }
          ],
          "histogram2dcontour": [
           {
            "colorbar": {
             "outlinewidth": 0,
             "ticks": ""
            },
            "colorscale": [
             [
              0,
              "#0d0887"
             ],
             [
              0.1111111111111111,
              "#46039f"
             ],
             [
              0.2222222222222222,
              "#7201a8"
             ],
             [
              0.3333333333333333,
              "#9c179e"
             ],
             [
              0.4444444444444444,
              "#bd3786"
             ],
             [
              0.5555555555555556,
              "#d8576b"
             ],
             [
              0.6666666666666666,
              "#ed7953"
             ],
             [
              0.7777777777777778,
              "#fb9f3a"
             ],
             [
              0.8888888888888888,
              "#fdca26"
             ],
             [
              1,
              "#f0f921"
             ]
            ],
            "type": "histogram2dcontour"
           }
          ],
          "mesh3d": [
           {
            "colorbar": {
             "outlinewidth": 0,
             "ticks": ""
            },
            "type": "mesh3d"
           }
          ],
          "parcoords": [
           {
            "line": {
             "colorbar": {
              "outlinewidth": 0,
              "ticks": ""
             }
            },
            "type": "parcoords"
           }
          ],
          "pie": [
           {
            "automargin": true,
            "type": "pie"
           }
          ],
          "scatter": [
           {
            "fillpattern": {
             "fillmode": "overlay",
             "size": 10,
             "solidity": 0.2
            },
            "type": "scatter"
           }
          ],
          "scatter3d": [
           {
            "line": {
             "colorbar": {
              "outlinewidth": 0,
              "ticks": ""
             }
            },
            "marker": {
             "colorbar": {
              "outlinewidth": 0,
              "ticks": ""
             }
            },
            "type": "scatter3d"
           }
          ],
          "scattercarpet": [
           {
            "marker": {
             "colorbar": {
              "outlinewidth": 0,
              "ticks": ""
             }
            },
            "type": "scattercarpet"
           }
          ],
          "scattergeo": [
           {
            "marker": {
             "colorbar": {
              "outlinewidth": 0,
              "ticks": ""
             }
            },
            "type": "scattergeo"
           }
          ],
          "scattergl": [
           {
            "marker": {
             "colorbar": {
              "outlinewidth": 0,
              "ticks": ""
             }
            },
            "type": "scattergl"
           }
          ],
          "scattermapbox": [
           {
            "marker": {
             "colorbar": {
              "outlinewidth": 0,
              "ticks": ""
             }
            },
            "type": "scattermapbox"
           }
          ],
          "scatterpolar": [
           {
            "marker": {
             "colorbar": {
              "outlinewidth": 0,
              "ticks": ""
             }
            },
            "type": "scatterpolar"
           }
          ],
          "scatterpolargl": [
           {
            "marker": {
             "colorbar": {
              "outlinewidth": 0,
              "ticks": ""
             }
            },
            "type": "scatterpolargl"
           }
          ],
          "scatterternary": [
           {
            "marker": {
             "colorbar": {
              "outlinewidth": 0,
              "ticks": ""
             }
            },
            "type": "scatterternary"
           }
          ],
          "surface": [
           {
            "colorbar": {
             "outlinewidth": 0,
             "ticks": ""
            },
            "colorscale": [
             [
              0,
              "#0d0887"
             ],
             [
              0.1111111111111111,
              "#46039f"
             ],
             [
              0.2222222222222222,
              "#7201a8"
             ],
             [
              0.3333333333333333,
              "#9c179e"
             ],
             [
              0.4444444444444444,
              "#bd3786"
             ],
             [
              0.5555555555555556,
              "#d8576b"
             ],
             [
              0.6666666666666666,
              "#ed7953"
             ],
             [
              0.7777777777777778,
              "#fb9f3a"
             ],
             [
              0.8888888888888888,
              "#fdca26"
             ],
             [
              1,
              "#f0f921"
             ]
            ],
            "type": "surface"
           }
          ],
          "table": [
           {
            "cells": {
             "fill": {
              "color": "#EBF0F8"
             },
             "line": {
              "color": "white"
             }
            },
            "header": {
             "fill": {
              "color": "#C8D4E3"
             },
             "line": {
              "color": "white"
             }
            },
            "type": "table"
           }
          ]
         },
         "layout": {
          "annotationdefaults": {
           "arrowcolor": "#2a3f5f",
           "arrowhead": 0,
           "arrowwidth": 1
          },
          "autotypenumbers": "strict",
          "coloraxis": {
           "colorbar": {
            "outlinewidth": 0,
            "ticks": ""
           }
          },
          "colorscale": {
           "diverging": [
            [
             0,
             "#8e0152"
            ],
            [
             0.1,
             "#c51b7d"
            ],
            [
             0.2,
             "#de77ae"
            ],
            [
             0.3,
             "#f1b6da"
            ],
            [
             0.4,
             "#fde0ef"
            ],
            [
             0.5,
             "#f7f7f7"
            ],
            [
             0.6,
             "#e6f5d0"
            ],
            [
             0.7,
             "#b8e186"
            ],
            [
             0.8,
             "#7fbc41"
            ],
            [
             0.9,
             "#4d9221"
            ],
            [
             1,
             "#276419"
            ]
           ],
           "sequential": [
            [
             0,
             "#0d0887"
            ],
            [
             0.1111111111111111,
             "#46039f"
            ],
            [
             0.2222222222222222,
             "#7201a8"
            ],
            [
             0.3333333333333333,
             "#9c179e"
            ],
            [
             0.4444444444444444,
             "#bd3786"
            ],
            [
             0.5555555555555556,
             "#d8576b"
            ],
            [
             0.6666666666666666,
             "#ed7953"
            ],
            [
             0.7777777777777778,
             "#fb9f3a"
            ],
            [
             0.8888888888888888,
             "#fdca26"
            ],
            [
             1,
             "#f0f921"
            ]
           ],
           "sequentialminus": [
            [
             0,
             "#0d0887"
            ],
            [
             0.1111111111111111,
             "#46039f"
            ],
            [
             0.2222222222222222,
             "#7201a8"
            ],
            [
             0.3333333333333333,
             "#9c179e"
            ],
            [
             0.4444444444444444,
             "#bd3786"
            ],
            [
             0.5555555555555556,
             "#d8576b"
            ],
            [
             0.6666666666666666,
             "#ed7953"
            ],
            [
             0.7777777777777778,
             "#fb9f3a"
            ],
            [
             0.8888888888888888,
             "#fdca26"
            ],
            [
             1,
             "#f0f921"
            ]
           ]
          },
          "colorway": [
           "#636efa",
           "#EF553B",
           "#00cc96",
           "#ab63fa",
           "#FFA15A",
           "#19d3f3",
           "#FF6692",
           "#B6E880",
           "#FF97FF",
           "#FECB52"
          ],
          "font": {
           "color": "#2a3f5f"
          },
          "geo": {
           "bgcolor": "white",
           "lakecolor": "white",
           "landcolor": "white",
           "showlakes": true,
           "showland": true,
           "subunitcolor": "#C8D4E3"
          },
          "hoverlabel": {
           "align": "left"
          },
          "hovermode": "closest",
          "mapbox": {
           "style": "light"
          },
          "paper_bgcolor": "white",
          "plot_bgcolor": "white",
          "polar": {
           "angularaxis": {
            "gridcolor": "#EBF0F8",
            "linecolor": "#EBF0F8",
            "ticks": ""
           },
           "bgcolor": "white",
           "radialaxis": {
            "gridcolor": "#EBF0F8",
            "linecolor": "#EBF0F8",
            "ticks": ""
           }
          },
          "scene": {
           "xaxis": {
            "backgroundcolor": "white",
            "gridcolor": "#DFE8F3",
            "gridwidth": 2,
            "linecolor": "#EBF0F8",
            "showbackground": true,
            "ticks": "",
            "zerolinecolor": "#EBF0F8"
           },
           "yaxis": {
            "backgroundcolor": "white",
            "gridcolor": "#DFE8F3",
            "gridwidth": 2,
            "linecolor": "#EBF0F8",
            "showbackground": true,
            "ticks": "",
            "zerolinecolor": "#EBF0F8"
           },
           "zaxis": {
            "backgroundcolor": "white",
            "gridcolor": "#DFE8F3",
            "gridwidth": 2,
            "linecolor": "#EBF0F8",
            "showbackground": true,
            "ticks": "",
            "zerolinecolor": "#EBF0F8"
           }
          },
          "shapedefaults": {
           "line": {
            "color": "#2a3f5f"
           }
          },
          "ternary": {
           "aaxis": {
            "gridcolor": "#DFE8F3",
            "linecolor": "#A2B1C6",
            "ticks": ""
           },
           "baxis": {
            "gridcolor": "#DFE8F3",
            "linecolor": "#A2B1C6",
            "ticks": ""
           },
           "bgcolor": "white",
           "caxis": {
            "gridcolor": "#DFE8F3",
            "linecolor": "#A2B1C6",
            "ticks": ""
           }
          },
          "title": {
           "x": 0.05
          },
          "xaxis": {
           "automargin": true,
           "gridcolor": "#EBF0F8",
           "linecolor": "#EBF0F8",
           "ticks": "",
           "title": {
            "standoff": 15
           },
           "zerolinecolor": "#EBF0F8",
           "zerolinewidth": 2
          },
          "yaxis": {
           "automargin": true,
           "gridcolor": "#EBF0F8",
           "linecolor": "#EBF0F8",
           "ticks": "",
           "title": {
            "standoff": 15
           },
           "zerolinecolor": "#EBF0F8",
           "zerolinewidth": 2
          }
         }
        },
        "title": {
         "font": {
          "color": "Black",
          "size": 22
         },
         "text": "Topic Word Scores",
         "x": 0.5,
         "xanchor": "center",
         "yanchor": "top"
        },
        "width": 1200,
        "xaxis": {
         "anchor": "y",
         "domain": [
          0,
          0.175
         ],
         "showgrid": true
        },
        "xaxis10": {
         "anchor": "y10",
         "domain": [
          0.275,
          0.45
         ],
         "showgrid": true
        },
        "xaxis11": {
         "anchor": "y11",
         "domain": [
          0.55,
          0.7250000000000001
         ],
         "showgrid": true
        },
        "xaxis12": {
         "anchor": "y12",
         "domain": [
          0.825,
          1
         ],
         "showgrid": true
        },
        "xaxis13": {
         "anchor": "y13",
         "domain": [
          0,
          0.175
         ],
         "showgrid": true
        },
        "xaxis14": {
         "anchor": "y14",
         "domain": [
          0.275,
          0.45
         ],
         "showgrid": true
        },
        "xaxis15": {
         "anchor": "y15",
         "domain": [
          0.55,
          0.7250000000000001
         ],
         "showgrid": true
        },
        "xaxis16": {
         "anchor": "y16",
         "domain": [
          0.825,
          1
         ],
         "showgrid": true
        },
        "xaxis17": {
         "anchor": "y17",
         "domain": [
          0,
          0.175
         ],
         "showgrid": true
        },
        "xaxis18": {
         "anchor": "y18",
         "domain": [
          0.275,
          0.45
         ],
         "showgrid": true
        },
        "xaxis19": {
         "anchor": "y19",
         "domain": [
          0.55,
          0.7250000000000001
         ],
         "showgrid": true
        },
        "xaxis2": {
         "anchor": "y2",
         "domain": [
          0.275,
          0.45
         ],
         "showgrid": true
        },
        "xaxis20": {
         "anchor": "y20",
         "domain": [
          0.825,
          1
         ],
         "showgrid": true
        },
        "xaxis21": {
         "anchor": "y21",
         "domain": [
          0,
          0.175
         ],
         "showgrid": true
        },
        "xaxis22": {
         "anchor": "y22",
         "domain": [
          0.275,
          0.45
         ],
         "showgrid": true
        },
        "xaxis23": {
         "anchor": "y23",
         "domain": [
          0.55,
          0.7250000000000001
         ],
         "showgrid": true
        },
        "xaxis24": {
         "anchor": "y24",
         "domain": [
          0.825,
          1
         ],
         "showgrid": true
        },
        "xaxis25": {
         "anchor": "y25",
         "domain": [
          0,
          0.175
         ],
         "showgrid": true
        },
        "xaxis26": {
         "anchor": "y26",
         "domain": [
          0.275,
          0.45
         ],
         "showgrid": true
        },
        "xaxis27": {
         "anchor": "y27",
         "domain": [
          0.55,
          0.7250000000000001
         ],
         "showgrid": true
        },
        "xaxis28": {
         "anchor": "y28",
         "domain": [
          0.825,
          1
         ],
         "showgrid": true
        },
        "xaxis29": {
         "anchor": "y29",
         "domain": [
          0,
          0.175
         ],
         "showgrid": true
        },
        "xaxis3": {
         "anchor": "y3",
         "domain": [
          0.55,
          0.7250000000000001
         ],
         "showgrid": true
        },
        "xaxis30": {
         "anchor": "y30",
         "domain": [
          0.275,
          0.45
         ],
         "showgrid": true
        },
        "xaxis31": {
         "anchor": "y31",
         "domain": [
          0.55,
          0.7250000000000001
         ],
         "showgrid": true
        },
        "xaxis32": {
         "anchor": "y32",
         "domain": [
          0.825,
          1
         ],
         "showgrid": true
        },
        "xaxis33": {
         "anchor": "y33",
         "domain": [
          0,
          0.175
         ],
         "showgrid": true
        },
        "xaxis34": {
         "anchor": "y34",
         "domain": [
          0.275,
          0.45
         ],
         "showgrid": true
        },
        "xaxis35": {
         "anchor": "y35",
         "domain": [
          0.55,
          0.7250000000000001
         ],
         "showgrid": true
        },
        "xaxis36": {
         "anchor": "y36",
         "domain": [
          0.825,
          1
         ],
         "showgrid": true
        },
        "xaxis37": {
         "anchor": "y37",
         "domain": [
          0,
          0.175
         ],
         "showgrid": true
        },
        "xaxis38": {
         "anchor": "y38",
         "domain": [
          0.275,
          0.45
         ],
         "showgrid": true
        },
        "xaxis39": {
         "anchor": "y39",
         "domain": [
          0.55,
          0.7250000000000001
         ],
         "showgrid": true
        },
        "xaxis4": {
         "anchor": "y4",
         "domain": [
          0.825,
          1
         ],
         "showgrid": true
        },
        "xaxis40": {
         "anchor": "y40",
         "domain": [
          0.825,
          1
         ],
         "showgrid": true
        },
        "xaxis41": {
         "anchor": "y41",
         "domain": [
          0,
          0.175
         ],
         "showgrid": true
        },
        "xaxis42": {
         "anchor": "y42",
         "domain": [
          0.275,
          0.45
         ],
         "showgrid": true
        },
        "xaxis43": {
         "anchor": "y43",
         "domain": [
          0.55,
          0.7250000000000001
         ],
         "showgrid": true
        },
        "xaxis44": {
         "anchor": "y44",
         "domain": [
          0.825,
          1
         ],
         "showgrid": true
        },
        "xaxis5": {
         "anchor": "y5",
         "domain": [
          0,
          0.175
         ],
         "showgrid": true
        },
        "xaxis6": {
         "anchor": "y6",
         "domain": [
          0.275,
          0.45
         ],
         "showgrid": true
        },
        "xaxis7": {
         "anchor": "y7",
         "domain": [
          0.55,
          0.7250000000000001
         ],
         "showgrid": true
        },
        "xaxis8": {
         "anchor": "y8",
         "domain": [
          0.825,
          1
         ],
         "showgrid": true
        },
        "xaxis9": {
         "anchor": "y9",
         "domain": [
          0,
          0.175
         ],
         "showgrid": true
        },
        "yaxis": {
         "anchor": "x",
         "domain": [
          0.9421487603305785,
          1
         ],
         "showgrid": true
        },
        "yaxis10": {
         "anchor": "x10",
         "domain": [
          0.7537190082644627,
          0.8115702479338842
         ],
         "showgrid": true
        },
        "yaxis11": {
         "anchor": "x11",
         "domain": [
          0.7537190082644627,
          0.8115702479338842
         ],
         "showgrid": true
        },
        "yaxis12": {
         "anchor": "x12",
         "domain": [
          0.7537190082644627,
          0.8115702479338842
         ],
         "showgrid": true
        },
        "yaxis13": {
         "anchor": "x13",
         "domain": [
          0.6595041322314048,
          0.7173553719008263
         ],
         "showgrid": true
        },
        "yaxis14": {
         "anchor": "x14",
         "domain": [
          0.6595041322314048,
          0.7173553719008263
         ],
         "showgrid": true
        },
        "yaxis15": {
         "anchor": "x15",
         "domain": [
          0.6595041322314048,
          0.7173553719008263
         ],
         "showgrid": true
        },
        "yaxis16": {
         "anchor": "x16",
         "domain": [
          0.6595041322314048,
          0.7173553719008263
         ],
         "showgrid": true
        },
        "yaxis17": {
         "anchor": "x17",
         "domain": [
          0.565289256198347,
          0.6231404958677685
         ],
         "showgrid": true
        },
        "yaxis18": {
         "anchor": "x18",
         "domain": [
          0.565289256198347,
          0.6231404958677685
         ],
         "showgrid": true
        },
        "yaxis19": {
         "anchor": "x19",
         "domain": [
          0.565289256198347,
          0.6231404958677685
         ],
         "showgrid": true
        },
        "yaxis2": {
         "anchor": "x2",
         "domain": [
          0.9421487603305785,
          1
         ],
         "showgrid": true
        },
        "yaxis20": {
         "anchor": "x20",
         "domain": [
          0.565289256198347,
          0.6231404958677685
         ],
         "showgrid": true
        },
        "yaxis21": {
         "anchor": "x21",
         "domain": [
          0.47107438016528924,
          0.5289256198347108
         ],
         "showgrid": true
        },
        "yaxis22": {
         "anchor": "x22",
         "domain": [
          0.47107438016528924,
          0.5289256198347108
         ],
         "showgrid": true
        },
        "yaxis23": {
         "anchor": "x23",
         "domain": [
          0.47107438016528924,
          0.5289256198347108
         ],
         "showgrid": true
        },
        "yaxis24": {
         "anchor": "x24",
         "domain": [
          0.47107438016528924,
          0.5289256198347108
         ],
         "showgrid": true
        },
        "yaxis25": {
         "anchor": "x25",
         "domain": [
          0.37685950413223135,
          0.4347107438016528
         ],
         "showgrid": true
        },
        "yaxis26": {
         "anchor": "x26",
         "domain": [
          0.37685950413223135,
          0.4347107438016528
         ],
         "showgrid": true
        },
        "yaxis27": {
         "anchor": "x27",
         "domain": [
          0.37685950413223135,
          0.4347107438016528
         ],
         "showgrid": true
        },
        "yaxis28": {
         "anchor": "x28",
         "domain": [
          0.37685950413223135,
          0.4347107438016528
         ],
         "showgrid": true
        },
        "yaxis29": {
         "anchor": "x29",
         "domain": [
          0.28264462809917357,
          0.34049586776859503
         ],
         "showgrid": true
        },
        "yaxis3": {
         "anchor": "x3",
         "domain": [
          0.9421487603305785,
          1
         ],
         "showgrid": true
        },
        "yaxis30": {
         "anchor": "x30",
         "domain": [
          0.28264462809917357,
          0.34049586776859503
         ],
         "showgrid": true
        },
        "yaxis31": {
         "anchor": "x31",
         "domain": [
          0.28264462809917357,
          0.34049586776859503
         ],
         "showgrid": true
        },
        "yaxis32": {
         "anchor": "x32",
         "domain": [
          0.28264462809917357,
          0.34049586776859503
         ],
         "showgrid": true
        },
        "yaxis33": {
         "anchor": "x33",
         "domain": [
          0.18842975206611567,
          0.24628099173553714
         ],
         "showgrid": true
        },
        "yaxis34": {
         "anchor": "x34",
         "domain": [
          0.18842975206611567,
          0.24628099173553714
         ],
         "showgrid": true
        },
        "yaxis35": {
         "anchor": "x35",
         "domain": [
          0.18842975206611567,
          0.24628099173553714
         ],
         "showgrid": true
        },
        "yaxis36": {
         "anchor": "x36",
         "domain": [
          0.18842975206611567,
          0.24628099173553714
         ],
         "showgrid": true
        },
        "yaxis37": {
         "anchor": "x37",
         "domain": [
          0.09421487603305784,
          0.1520661157024793
         ],
         "showgrid": true
        },
        "yaxis38": {
         "anchor": "x38",
         "domain": [
          0.09421487603305784,
          0.1520661157024793
         ],
         "showgrid": true
        },
        "yaxis39": {
         "anchor": "x39",
         "domain": [
          0.09421487603305784,
          0.1520661157024793
         ],
         "showgrid": true
        },
        "yaxis4": {
         "anchor": "x4",
         "domain": [
          0.9421487603305785,
          1
         ],
         "showgrid": true
        },
        "yaxis40": {
         "anchor": "x40",
         "domain": [
          0.09421487603305784,
          0.1520661157024793
         ],
         "showgrid": true
        },
        "yaxis41": {
         "anchor": "x41",
         "domain": [
          0,
          0.057851239669421475
         ],
         "showgrid": true
        },
        "yaxis42": {
         "anchor": "x42",
         "domain": [
          0,
          0.057851239669421475
         ],
         "showgrid": true
        },
        "yaxis43": {
         "anchor": "x43",
         "domain": [
          0,
          0.057851239669421475
         ],
         "showgrid": true
        },
        "yaxis44": {
         "anchor": "x44",
         "domain": [
          0,
          0.057851239669421475
         ],
         "showgrid": true
        },
        "yaxis5": {
         "anchor": "x5",
         "domain": [
          0.8479338842975206,
          0.9057851239669421
         ],
         "showgrid": true
        },
        "yaxis6": {
         "anchor": "x6",
         "domain": [
          0.8479338842975206,
          0.9057851239669421
         ],
         "showgrid": true
        },
        "yaxis7": {
         "anchor": "x7",
         "domain": [
          0.8479338842975206,
          0.9057851239669421
         ],
         "showgrid": true
        },
        "yaxis8": {
         "anchor": "x8",
         "domain": [
          0.8479338842975206,
          0.9057851239669421
         ],
         "showgrid": true
        },
        "yaxis9": {
         "anchor": "x9",
         "domain": [
          0.7537190082644627,
          0.8115702479338842
         ],
         "showgrid": true
        }
       }
      }
     },
     "metadata": {},
     "output_type": "display_data"
    }
   ],
   "source": [
    "topics_to_include = list(range(0, 42))\n",
    "model.visualize_barchart(topics= topics_to_include, width=300)"
   ]
  },
  {
   "cell_type": "code",
   "execution_count": 54,
   "metadata": {},
   "outputs": [
    {
     "data": {
      "application/vnd.plotly.v1+json": {
       "config": {
        "plotlyServerURL": "https://plot.ly"
       },
       "data": [
        {
         "hoverinfo": "text",
         "marker": {
          "color": "rgb(61,153,112)"
         },
         "mode": "lines",
         "type": "scatter",
         "x": [
          0,
          0.9020296974954923,
          0.9020296974954923,
          0
         ],
         "xaxis": "x",
         "y": [
          -25,
          -25,
          -35,
          -35
         ],
         "yaxis": "y"
        },
        {
         "hoverinfo": "text",
         "marker": {
          "color": "rgb(61,153,112)"
         },
         "mode": "lines",
         "type": "scatter",
         "x": [
          0,
          0.9723402288203437,
          0.9723402288203437,
          0.9020296974954923
         ],
         "xaxis": "x",
         "y": [
          -15,
          -15,
          -30,
          -30
         ],
         "yaxis": "y"
        },
        {
         "hoverinfo": "text",
         "marker": {
          "color": "rgb(0,116,217)"
         },
         "mode": "lines",
         "type": "scatter",
         "x": [
          0.9723402288203437,
          1.0723733233810977,
          1.0723733233810977,
          0
         ],
         "xaxis": "x",
         "y": [
          -22.5,
          -22.5,
          -45,
          -45
         ],
         "yaxis": "y"
        },
        {
         "hoverinfo": "text",
         "marker": {
          "color": "rgb(0,116,217)"
         },
         "mode": "lines",
         "type": "scatter",
         "x": [
          0,
          1.121870079840941,
          1.121870079840941,
          1.0723733233810977
         ],
         "xaxis": "x",
         "y": [
          -5,
          -5,
          -33.75,
          -33.75
         ],
         "yaxis": "y"
        },
        {
         "hoverinfo": "text",
         "marker": {
          "color": "rgb(255,65,54)"
         },
         "mode": "lines",
         "type": "scatter",
         "x": [
          0,
          0.950590079730408,
          0.950590079730408,
          0
         ],
         "xaxis": "x",
         "y": [
          -55,
          -55,
          -65,
          -65
         ],
         "yaxis": "y"
        },
        {
         "hoverinfo": "text",
         "marker": {
          "color": "rgb(0,116,217)"
         },
         "mode": "lines",
         "type": "scatter",
         "x": [
          0.950590079730408,
          1.040920514225085,
          1.040920514225085,
          0
         ],
         "xaxis": "x",
         "y": [
          -60,
          -60,
          -75,
          -75
         ],
         "yaxis": "y"
        },
        {
         "hoverinfo": "text",
         "marker": {
          "color": "rgb(35,205,205)"
         },
         "mode": "lines",
         "type": "scatter",
         "x": [
          0,
          0.8814884795401485,
          0.8814884795401485,
          0
         ],
         "xaxis": "x",
         "y": [
          -85,
          -85,
          -95,
          -95
         ],
         "yaxis": "y"
        },
        {
         "hoverinfo": "text",
         "marker": {
          "color": "rgb(0,116,217)"
         },
         "mode": "lines",
         "type": "scatter",
         "x": [
          1.040920514225085,
          1.1152985612775894,
          1.1152985612775894,
          0.8814884795401485
         ],
         "xaxis": "x",
         "y": [
          -67.5,
          -67.5,
          -90,
          -90
         ],
         "yaxis": "y"
        },
        {
         "hoverinfo": "text",
         "marker": {
          "color": "rgb(0,116,217)"
         },
         "mode": "lines",
         "type": "scatter",
         "x": [
          1.121870079840941,
          1.3411631238200405,
          1.3411631238200405,
          1.1152985612775894
         ],
         "xaxis": "x",
         "y": [
          -19.375,
          -19.375,
          -78.75,
          -78.75
         ],
         "yaxis": "y"
        },
        {
         "hoverinfo": "text",
         "marker": {
          "color": "rgb(133,20,75)"
         },
         "mode": "lines",
         "type": "scatter",
         "x": [
          0,
          0.7969383995244407,
          0.7969383995244407,
          0
         ],
         "xaxis": "x",
         "y": [
          -125,
          -125,
          -135,
          -135
         ],
         "yaxis": "y"
        },
        {
         "hoverinfo": "text",
         "marker": {
          "color": "rgb(133,20,75)"
         },
         "mode": "lines",
         "type": "scatter",
         "x": [
          0,
          0.913713686010261,
          0.913713686010261,
          0.7969383995244407
         ],
         "xaxis": "x",
         "y": [
          -115,
          -115,
          -130,
          -130
         ],
         "yaxis": "y"
        },
        {
         "hoverinfo": "text",
         "marker": {
          "color": "rgb(0,116,217)"
         },
         "mode": "lines",
         "type": "scatter",
         "x": [
          0,
          1.088282607549272,
          1.088282607549272,
          0.913713686010261
         ],
         "xaxis": "x",
         "y": [
          -105,
          -105,
          -122.5,
          -122.5
         ],
         "yaxis": "y"
        },
        {
         "hoverinfo": "text",
         "marker": {
          "color": "rgb(255,220,0)"
         },
         "mode": "lines",
         "type": "scatter",
         "x": [
          0,
          0.7068718361741696,
          0.7068718361741696,
          0
         ],
         "xaxis": "x",
         "y": [
          -155,
          -155,
          -165,
          -165
         ],
         "yaxis": "y"
        },
        {
         "hoverinfo": "text",
         "marker": {
          "color": "rgb(255,220,0)"
         },
         "mode": "lines",
         "type": "scatter",
         "x": [
          0,
          0.8875904395913028,
          0.8875904395913028,
          0.7068718361741696
         ],
         "xaxis": "x",
         "y": [
          -145,
          -145,
          -160,
          -160
         ],
         "yaxis": "y"
        },
        {
         "hoverinfo": "text",
         "marker": {
          "color": "rgb(0,116,217)"
         },
         "mode": "lines",
         "type": "scatter",
         "x": [
          1.088282607549272,
          1.199539542305324,
          1.199539542305324,
          0.8875904395913028
         ],
         "xaxis": "x",
         "y": [
          -113.75,
          -113.75,
          -152.5,
          -152.5
         ],
         "yaxis": "y"
        },
        {
         "hoverinfo": "text",
         "marker": {
          "color": "rgb(40,35,35)"
         },
         "mode": "lines",
         "type": "scatter",
         "x": [
          0,
          0.7553751925636759,
          0.7553751925636759,
          0
         ],
         "xaxis": "x",
         "y": [
          -175,
          -175,
          -185,
          -185
         ],
         "yaxis": "y"
        },
        {
         "hoverinfo": "text",
         "marker": {
          "color": "rgb(40,35,35)"
         },
         "mode": "lines",
         "type": "scatter",
         "x": [
          0.7553751925636759,
          0.804204488837031,
          0.804204488837031,
          0
         ],
         "xaxis": "x",
         "y": [
          -180,
          -180,
          -195,
          -195
         ],
         "yaxis": "y"
        },
        {
         "hoverinfo": "text",
         "marker": {
          "color": "rgb(0,116,217)"
         },
         "mode": "lines",
         "type": "scatter",
         "x": [
          1.199539542305324,
          1.3278687917248175,
          1.3278687917248175,
          0.804204488837031
         ],
         "xaxis": "x",
         "y": [
          -133.125,
          -133.125,
          -187.5,
          -187.5
         ],
         "yaxis": "y"
        },
        {
         "hoverinfo": "text",
         "marker": {
          "color": "rgb(0,116,217)"
         },
         "mode": "lines",
         "type": "scatter",
         "x": [
          1.3411631238200405,
          1.82580442574116,
          1.82580442574116,
          1.3278687917248175
         ],
         "xaxis": "x",
         "y": [
          -49.0625,
          -49.0625,
          -160.3125,
          -160.3125
         ],
         "yaxis": "y"
        },
        {
         "hoverinfo": "text",
         "marker": {
          "color": "rgb(61,153,112)"
         },
         "mode": "lines",
         "type": "scatter",
         "x": [
          0,
          0.5438741383064178,
          0.5438741383064178,
          0
         ],
         "xaxis": "x",
         "y": [
          -205,
          -205,
          -215,
          -215
         ],
         "yaxis": "y"
        },
        {
         "hoverinfo": "text",
         "marker": {
          "color": "rgb(61,153,112)"
         },
         "mode": "lines",
         "type": "scatter",
         "x": [
          0,
          0.7038825246603265,
          0.7038825246603265,
          0
         ],
         "xaxis": "x",
         "y": [
          -225,
          -225,
          -235,
          -235
         ],
         "yaxis": "y"
        },
        {
         "hoverinfo": "text",
         "marker": {
          "color": "rgb(61,153,112)"
         },
         "mode": "lines",
         "type": "scatter",
         "x": [
          0.5438741383064178,
          0.7444698951181732,
          0.7444698951181732,
          0.7038825246603265
         ],
         "xaxis": "x",
         "y": [
          -210,
          -210,
          -230,
          -230
         ],
         "yaxis": "y"
        },
        {
         "hoverinfo": "text",
         "marker": {
          "color": "rgb(61,153,112)"
         },
         "mode": "lines",
         "type": "scatter",
         "x": [
          0,
          0.7019865565292907,
          0.7019865565292907,
          0
         ],
         "xaxis": "x",
         "y": [
          -245,
          -245,
          -255,
          -255
         ],
         "yaxis": "y"
        },
        {
         "hoverinfo": "text",
         "marker": {
          "color": "rgb(61,153,112)"
         },
         "mode": "lines",
         "type": "scatter",
         "x": [
          0.7444698951181732,
          0.9999406712782822,
          0.9999406712782822,
          0.7019865565292907
         ],
         "xaxis": "x",
         "y": [
          -220,
          -220,
          -250,
          -250
         ],
         "yaxis": "y"
        },
        {
         "hoverinfo": "text",
         "marker": {
          "color": "rgb(255,65,54)"
         },
         "mode": "lines",
         "type": "scatter",
         "x": [
          0,
          0.8193691454600942,
          0.8193691454600942,
          0
         ],
         "xaxis": "x",
         "y": [
          -265,
          -265,
          -275,
          -275
         ],
         "yaxis": "y"
        },
        {
         "hoverinfo": "text",
         "marker": {
          "color": "rgb(35,205,205)"
         },
         "mode": "lines",
         "type": "scatter",
         "x": [
          0,
          0.6471857862212979,
          0.6471857862212979,
          0
         ],
         "xaxis": "x",
         "y": [
          -285,
          -285,
          -295,
          -295
         ],
         "yaxis": "y"
        },
        {
         "hoverinfo": "text",
         "marker": {
          "color": "rgb(35,205,205)"
         },
         "mode": "lines",
         "type": "scatter",
         "x": [
          0,
          0.7643199937429965,
          0.7643199937429965,
          0
         ],
         "xaxis": "x",
         "y": [
          -305,
          -305,
          -315,
          -315
         ],
         "yaxis": "y"
        },
        {
         "hoverinfo": "text",
         "marker": {
          "color": "rgb(35,205,205)"
         },
         "mode": "lines",
         "type": "scatter",
         "x": [
          0.6471857862212979,
          0.7962629984616301,
          0.7962629984616301,
          0.7643199937429965
         ],
         "xaxis": "x",
         "y": [
          -290,
          -290,
          -310,
          -310
         ],
         "yaxis": "y"
        },
        {
         "hoverinfo": "text",
         "marker": {
          "color": "rgb(0,116,217)"
         },
         "mode": "lines",
         "type": "scatter",
         "x": [
          0.8193691454600942,
          1.023027073600831,
          1.023027073600831,
          0.7962629984616301
         ],
         "xaxis": "x",
         "y": [
          -270,
          -270,
          -300,
          -300
         ],
         "yaxis": "y"
        },
        {
         "hoverinfo": "text",
         "marker": {
          "color": "rgb(61,153,112)"
         },
         "mode": "lines",
         "type": "scatter",
         "x": [
          0,
          0.8939853981889544,
          0.8939853981889544,
          0
         ],
         "xaxis": "x",
         "y": [
          -335,
          -335,
          -345,
          -345
         ],
         "yaxis": "y"
        },
        {
         "hoverinfo": "text",
         "marker": {
          "color": "rgb(61,153,112)"
         },
         "mode": "lines",
         "type": "scatter",
         "x": [
          0,
          0.9551368660122014,
          0.9551368660122014,
          0.8939853981889544
         ],
         "xaxis": "x",
         "y": [
          -325,
          -325,
          -340,
          -340
         ],
         "yaxis": "y"
        },
        {
         "hoverinfo": "text",
         "marker": {
          "color": "rgb(61,153,112)"
         },
         "mode": "lines",
         "type": "scatter",
         "x": [
          0,
          0.8131233158010772,
          0.8131233158010772,
          0
         ],
         "xaxis": "x",
         "y": [
          -365,
          -365,
          -375,
          -375
         ],
         "yaxis": "y"
        },
        {
         "hoverinfo": "text",
         "marker": {
          "color": "rgb(61,153,112)"
         },
         "mode": "lines",
         "type": "scatter",
         "x": [
          0,
          0.8677645077073455,
          0.8677645077073455,
          0.8131233158010772
         ],
         "xaxis": "x",
         "y": [
          -355,
          -355,
          -370,
          -370
         ],
         "yaxis": "y"
        },
        {
         "hoverinfo": "text",
         "marker": {
          "color": "rgb(61,153,112)"
         },
         "mode": "lines",
         "type": "scatter",
         "x": [
          0.9551368660122014,
          0.984649230708199,
          0.984649230708199,
          0.8677645077073455
         ],
         "xaxis": "x",
         "y": [
          -332.5,
          -332.5,
          -362.5,
          -362.5
         ],
         "yaxis": "y"
        },
        {
         "hoverinfo": "text",
         "marker": {
          "color": "rgb(0,116,217)"
         },
         "mode": "lines",
         "type": "scatter",
         "x": [
          1.023027073600831,
          1.208991153332872,
          1.208991153332872,
          0.984649230708199
         ],
         "xaxis": "x",
         "y": [
          -285,
          -285,
          -347.5,
          -347.5
         ],
         "yaxis": "y"
        },
        {
         "hoverinfo": "text",
         "marker": {
          "color": "rgb(0,116,217)"
         },
         "mode": "lines",
         "type": "scatter",
         "x": [
          0.9999406712782822,
          1.4613197308198642,
          1.4613197308198642,
          1.208991153332872
         ],
         "xaxis": "x",
         "y": [
          -235,
          -235,
          -316.25,
          -316.25
         ],
         "yaxis": "y"
        },
        {
         "hoverinfo": "text",
         "marker": {
          "color": "rgb(255,65,54)"
         },
         "mode": "lines",
         "type": "scatter",
         "x": [
          0,
          0.9283548037653526,
          0.9283548037653526,
          0
         ],
         "xaxis": "x",
         "y": [
          -385,
          -385,
          -395,
          -395
         ],
         "yaxis": "y"
        },
        {
         "hoverinfo": "text",
         "marker": {
          "color": "rgb(0,116,217)"
         },
         "mode": "lines",
         "type": "scatter",
         "x": [
          0,
          1.0370975175096107,
          1.0370975175096107,
          0
         ],
         "xaxis": "x",
         "y": [
          -405,
          -405,
          -415,
          -415
         ],
         "yaxis": "y"
        },
        {
         "hoverinfo": "text",
         "marker": {
          "color": "rgb(0,116,217)"
         },
         "mode": "lines",
         "type": "scatter",
         "x": [
          1.0370975175096107,
          1.0605216553366155,
          1.0605216553366155,
          0
         ],
         "xaxis": "x",
         "y": [
          -410,
          -410,
          -425,
          -425
         ],
         "yaxis": "y"
        },
        {
         "hoverinfo": "text",
         "marker": {
          "color": "rgb(0,116,217)"
         },
         "mode": "lines",
         "type": "scatter",
         "x": [
          0.9283548037653526,
          1.0944276339993868,
          1.0944276339993868,
          1.0605216553366155
         ],
         "xaxis": "x",
         "y": [
          -390,
          -390,
          -417.5,
          -417.5
         ],
         "yaxis": "y"
        },
        {
         "hoverinfo": "text",
         "marker": {
          "color": "rgb(0,116,217)"
         },
         "mode": "lines",
         "type": "scatter",
         "x": [
          1.4613197308198642,
          2.0087662038636958,
          2.0087662038636958,
          1.0944276339993868
         ],
         "xaxis": "x",
         "y": [
          -275.625,
          -275.625,
          -403.75,
          -403.75
         ],
         "yaxis": "y"
        },
        {
         "hoverinfo": "text",
         "marker": {
          "color": "rgb(0,116,217)"
         },
         "mode": "lines",
         "type": "scatter",
         "x": [
          1.82580442574116,
          2.9443913159294954,
          2.9443913159294954,
          2.0087662038636958
         ],
         "xaxis": "x",
         "y": [
          -104.6875,
          -104.6875,
          -339.6875,
          -339.6875
         ],
         "yaxis": "y"
        }
       ],
       "layout": {
        "autosize": false,
        "height": 845,
        "hoverlabel": {
         "bgcolor": "white",
         "font": {
          "family": "Rockwell",
          "size": 16
         }
        },
        "hovermode": "closest",
        "plot_bgcolor": "#ECEFF1",
        "showlegend": false,
        "template": {
         "data": {
          "bar": [
           {
            "error_x": {
             "color": "#2a3f5f"
            },
            "error_y": {
             "color": "#2a3f5f"
            },
            "marker": {
             "line": {
              "color": "white",
              "width": 0.5
             },
             "pattern": {
              "fillmode": "overlay",
              "size": 10,
              "solidity": 0.2
             }
            },
            "type": "bar"
           }
          ],
          "barpolar": [
           {
            "marker": {
             "line": {
              "color": "white",
              "width": 0.5
             },
             "pattern": {
              "fillmode": "overlay",
              "size": 10,
              "solidity": 0.2
             }
            },
            "type": "barpolar"
           }
          ],
          "carpet": [
           {
            "aaxis": {
             "endlinecolor": "#2a3f5f",
             "gridcolor": "#C8D4E3",
             "linecolor": "#C8D4E3",
             "minorgridcolor": "#C8D4E3",
             "startlinecolor": "#2a3f5f"
            },
            "baxis": {
             "endlinecolor": "#2a3f5f",
             "gridcolor": "#C8D4E3",
             "linecolor": "#C8D4E3",
             "minorgridcolor": "#C8D4E3",
             "startlinecolor": "#2a3f5f"
            },
            "type": "carpet"
           }
          ],
          "choropleth": [
           {
            "colorbar": {
             "outlinewidth": 0,
             "ticks": ""
            },
            "type": "choropleth"
           }
          ],
          "contour": [
           {
            "colorbar": {
             "outlinewidth": 0,
             "ticks": ""
            },
            "colorscale": [
             [
              0,
              "#0d0887"
             ],
             [
              0.1111111111111111,
              "#46039f"
             ],
             [
              0.2222222222222222,
              "#7201a8"
             ],
             [
              0.3333333333333333,
              "#9c179e"
             ],
             [
              0.4444444444444444,
              "#bd3786"
             ],
             [
              0.5555555555555556,
              "#d8576b"
             ],
             [
              0.6666666666666666,
              "#ed7953"
             ],
             [
              0.7777777777777778,
              "#fb9f3a"
             ],
             [
              0.8888888888888888,
              "#fdca26"
             ],
             [
              1,
              "#f0f921"
             ]
            ],
            "type": "contour"
           }
          ],
          "contourcarpet": [
           {
            "colorbar": {
             "outlinewidth": 0,
             "ticks": ""
            },
            "type": "contourcarpet"
           }
          ],
          "heatmap": [
           {
            "colorbar": {
             "outlinewidth": 0,
             "ticks": ""
            },
            "colorscale": [
             [
              0,
              "#0d0887"
             ],
             [
              0.1111111111111111,
              "#46039f"
             ],
             [
              0.2222222222222222,
              "#7201a8"
             ],
             [
              0.3333333333333333,
              "#9c179e"
             ],
             [
              0.4444444444444444,
              "#bd3786"
             ],
             [
              0.5555555555555556,
              "#d8576b"
             ],
             [
              0.6666666666666666,
              "#ed7953"
             ],
             [
              0.7777777777777778,
              "#fb9f3a"
             ],
             [
              0.8888888888888888,
              "#fdca26"
             ],
             [
              1,
              "#f0f921"
             ]
            ],
            "type": "heatmap"
           }
          ],
          "heatmapgl": [
           {
            "colorbar": {
             "outlinewidth": 0,
             "ticks": ""
            },
            "colorscale": [
             [
              0,
              "#0d0887"
             ],
             [
              0.1111111111111111,
              "#46039f"
             ],
             [
              0.2222222222222222,
              "#7201a8"
             ],
             [
              0.3333333333333333,
              "#9c179e"
             ],
             [
              0.4444444444444444,
              "#bd3786"
             ],
             [
              0.5555555555555556,
              "#d8576b"
             ],
             [
              0.6666666666666666,
              "#ed7953"
             ],
             [
              0.7777777777777778,
              "#fb9f3a"
             ],
             [
              0.8888888888888888,
              "#fdca26"
             ],
             [
              1,
              "#f0f921"
             ]
            ],
            "type": "heatmapgl"
           }
          ],
          "histogram": [
           {
            "marker": {
             "pattern": {
              "fillmode": "overlay",
              "size": 10,
              "solidity": 0.2
             }
            },
            "type": "histogram"
           }
          ],
          "histogram2d": [
           {
            "colorbar": {
             "outlinewidth": 0,
             "ticks": ""
            },
            "colorscale": [
             [
              0,
              "#0d0887"
             ],
             [
              0.1111111111111111,
              "#46039f"
             ],
             [
              0.2222222222222222,
              "#7201a8"
             ],
             [
              0.3333333333333333,
              "#9c179e"
             ],
             [
              0.4444444444444444,
              "#bd3786"
             ],
             [
              0.5555555555555556,
              "#d8576b"
             ],
             [
              0.6666666666666666,
              "#ed7953"
             ],
             [
              0.7777777777777778,
              "#fb9f3a"
             ],
             [
              0.8888888888888888,
              "#fdca26"
             ],
             [
              1,
              "#f0f921"
             ]
            ],
            "type": "histogram2d"
           }
          ],
          "histogram2dcontour": [
           {
            "colorbar": {
             "outlinewidth": 0,
             "ticks": ""
            },
            "colorscale": [
             [
              0,
              "#0d0887"
             ],
             [
              0.1111111111111111,
              "#46039f"
             ],
             [
              0.2222222222222222,
              "#7201a8"
             ],
             [
              0.3333333333333333,
              "#9c179e"
             ],
             [
              0.4444444444444444,
              "#bd3786"
             ],
             [
              0.5555555555555556,
              "#d8576b"
             ],
             [
              0.6666666666666666,
              "#ed7953"
             ],
             [
              0.7777777777777778,
              "#fb9f3a"
             ],
             [
              0.8888888888888888,
              "#fdca26"
             ],
             [
              1,
              "#f0f921"
             ]
            ],
            "type": "histogram2dcontour"
           }
          ],
          "mesh3d": [
           {
            "colorbar": {
             "outlinewidth": 0,
             "ticks": ""
            },
            "type": "mesh3d"
           }
          ],
          "parcoords": [
           {
            "line": {
             "colorbar": {
              "outlinewidth": 0,
              "ticks": ""
             }
            },
            "type": "parcoords"
           }
          ],
          "pie": [
           {
            "automargin": true,
            "type": "pie"
           }
          ],
          "scatter": [
           {
            "fillpattern": {
             "fillmode": "overlay",
             "size": 10,
             "solidity": 0.2
            },
            "type": "scatter"
           }
          ],
          "scatter3d": [
           {
            "line": {
             "colorbar": {
              "outlinewidth": 0,
              "ticks": ""
             }
            },
            "marker": {
             "colorbar": {
              "outlinewidth": 0,
              "ticks": ""
             }
            },
            "type": "scatter3d"
           }
          ],
          "scattercarpet": [
           {
            "marker": {
             "colorbar": {
              "outlinewidth": 0,
              "ticks": ""
             }
            },
            "type": "scattercarpet"
           }
          ],
          "scattergeo": [
           {
            "marker": {
             "colorbar": {
              "outlinewidth": 0,
              "ticks": ""
             }
            },
            "type": "scattergeo"
           }
          ],
          "scattergl": [
           {
            "marker": {
             "colorbar": {
              "outlinewidth": 0,
              "ticks": ""
             }
            },
            "type": "scattergl"
           }
          ],
          "scattermapbox": [
           {
            "marker": {
             "colorbar": {
              "outlinewidth": 0,
              "ticks": ""
             }
            },
            "type": "scattermapbox"
           }
          ],
          "scatterpolar": [
           {
            "marker": {
             "colorbar": {
              "outlinewidth": 0,
              "ticks": ""
             }
            },
            "type": "scatterpolar"
           }
          ],
          "scatterpolargl": [
           {
            "marker": {
             "colorbar": {
              "outlinewidth": 0,
              "ticks": ""
             }
            },
            "type": "scatterpolargl"
           }
          ],
          "scatterternary": [
           {
            "marker": {
             "colorbar": {
              "outlinewidth": 0,
              "ticks": ""
             }
            },
            "type": "scatterternary"
           }
          ],
          "surface": [
           {
            "colorbar": {
             "outlinewidth": 0,
             "ticks": ""
            },
            "colorscale": [
             [
              0,
              "#0d0887"
             ],
             [
              0.1111111111111111,
              "#46039f"
             ],
             [
              0.2222222222222222,
              "#7201a8"
             ],
             [
              0.3333333333333333,
              "#9c179e"
             ],
             [
              0.4444444444444444,
              "#bd3786"
             ],
             [
              0.5555555555555556,
              "#d8576b"
             ],
             [
              0.6666666666666666,
              "#ed7953"
             ],
             [
              0.7777777777777778,
              "#fb9f3a"
             ],
             [
              0.8888888888888888,
              "#fdca26"
             ],
             [
              1,
              "#f0f921"
             ]
            ],
            "type": "surface"
           }
          ],
          "table": [
           {
            "cells": {
             "fill": {
              "color": "#EBF0F8"
             },
             "line": {
              "color": "white"
             }
            },
            "header": {
             "fill": {
              "color": "#C8D4E3"
             },
             "line": {
              "color": "white"
             }
            },
            "type": "table"
           }
          ]
         },
         "layout": {
          "annotationdefaults": {
           "arrowcolor": "#2a3f5f",
           "arrowhead": 0,
           "arrowwidth": 1
          },
          "autotypenumbers": "strict",
          "coloraxis": {
           "colorbar": {
            "outlinewidth": 0,
            "ticks": ""
           }
          },
          "colorscale": {
           "diverging": [
            [
             0,
             "#8e0152"
            ],
            [
             0.1,
             "#c51b7d"
            ],
            [
             0.2,
             "#de77ae"
            ],
            [
             0.3,
             "#f1b6da"
            ],
            [
             0.4,
             "#fde0ef"
            ],
            [
             0.5,
             "#f7f7f7"
            ],
            [
             0.6,
             "#e6f5d0"
            ],
            [
             0.7,
             "#b8e186"
            ],
            [
             0.8,
             "#7fbc41"
            ],
            [
             0.9,
             "#4d9221"
            ],
            [
             1,
             "#276419"
            ]
           ],
           "sequential": [
            [
             0,
             "#0d0887"
            ],
            [
             0.1111111111111111,
             "#46039f"
            ],
            [
             0.2222222222222222,
             "#7201a8"
            ],
            [
             0.3333333333333333,
             "#9c179e"
            ],
            [
             0.4444444444444444,
             "#bd3786"
            ],
            [
             0.5555555555555556,
             "#d8576b"
            ],
            [
             0.6666666666666666,
             "#ed7953"
            ],
            [
             0.7777777777777778,
             "#fb9f3a"
            ],
            [
             0.8888888888888888,
             "#fdca26"
            ],
            [
             1,
             "#f0f921"
            ]
           ],
           "sequentialminus": [
            [
             0,
             "#0d0887"
            ],
            [
             0.1111111111111111,
             "#46039f"
            ],
            [
             0.2222222222222222,
             "#7201a8"
            ],
            [
             0.3333333333333333,
             "#9c179e"
            ],
            [
             0.4444444444444444,
             "#bd3786"
            ],
            [
             0.5555555555555556,
             "#d8576b"
            ],
            [
             0.6666666666666666,
             "#ed7953"
            ],
            [
             0.7777777777777778,
             "#fb9f3a"
            ],
            [
             0.8888888888888888,
             "#fdca26"
            ],
            [
             1,
             "#f0f921"
            ]
           ]
          },
          "colorway": [
           "#636efa",
           "#EF553B",
           "#00cc96",
           "#ab63fa",
           "#FFA15A",
           "#19d3f3",
           "#FF6692",
           "#B6E880",
           "#FF97FF",
           "#FECB52"
          ],
          "font": {
           "color": "#2a3f5f"
          },
          "geo": {
           "bgcolor": "white",
           "lakecolor": "white",
           "landcolor": "white",
           "showlakes": true,
           "showland": true,
           "subunitcolor": "#C8D4E3"
          },
          "hoverlabel": {
           "align": "left"
          },
          "hovermode": "closest",
          "mapbox": {
           "style": "light"
          },
          "paper_bgcolor": "white",
          "plot_bgcolor": "white",
          "polar": {
           "angularaxis": {
            "gridcolor": "#EBF0F8",
            "linecolor": "#EBF0F8",
            "ticks": ""
           },
           "bgcolor": "white",
           "radialaxis": {
            "gridcolor": "#EBF0F8",
            "linecolor": "#EBF0F8",
            "ticks": ""
           }
          },
          "scene": {
           "xaxis": {
            "backgroundcolor": "white",
            "gridcolor": "#DFE8F3",
            "gridwidth": 2,
            "linecolor": "#EBF0F8",
            "showbackground": true,
            "ticks": "",
            "zerolinecolor": "#EBF0F8"
           },
           "yaxis": {
            "backgroundcolor": "white",
            "gridcolor": "#DFE8F3",
            "gridwidth": 2,
            "linecolor": "#EBF0F8",
            "showbackground": true,
            "ticks": "",
            "zerolinecolor": "#EBF0F8"
           },
           "zaxis": {
            "backgroundcolor": "white",
            "gridcolor": "#DFE8F3",
            "gridwidth": 2,
            "linecolor": "#EBF0F8",
            "showbackground": true,
            "ticks": "",
            "zerolinecolor": "#EBF0F8"
           }
          },
          "shapedefaults": {
           "line": {
            "color": "#2a3f5f"
           }
          },
          "ternary": {
           "aaxis": {
            "gridcolor": "#DFE8F3",
            "linecolor": "#A2B1C6",
            "ticks": ""
           },
           "baxis": {
            "gridcolor": "#DFE8F3",
            "linecolor": "#A2B1C6",
            "ticks": ""
           },
           "bgcolor": "white",
           "caxis": {
            "gridcolor": "#DFE8F3",
            "linecolor": "#A2B1C6",
            "ticks": ""
           }
          },
          "title": {
           "x": 0.05
          },
          "xaxis": {
           "automargin": true,
           "gridcolor": "#EBF0F8",
           "linecolor": "#EBF0F8",
           "ticks": "",
           "title": {
            "standoff": 15
           },
           "zerolinecolor": "#EBF0F8",
           "zerolinewidth": 2
          },
          "yaxis": {
           "automargin": true,
           "gridcolor": "#EBF0F8",
           "linecolor": "#EBF0F8",
           "ticks": "",
           "title": {
            "standoff": 15
           },
           "zerolinecolor": "#EBF0F8",
           "zerolinewidth": 2
          }
         }
        },
        "title": {
         "font": {
          "color": "Black",
          "size": 22
         },
         "text": "<b>Hierarchical Clustering</b>",
         "x": 0.5,
         "xanchor": "center",
         "yanchor": "top"
        },
        "width": 1000,
        "xaxis": {
         "mirror": "allticks",
         "rangemode": "tozero",
         "showgrid": false,
         "showline": true,
         "showticklabels": true,
         "ticks": "outside",
         "type": "linear",
         "zeroline": false
        },
        "yaxis": {
         "mirror": "allticks",
         "range": [
          -430,
          0
         ],
         "rangemode": "tozero",
         "showgrid": false,
         "showline": true,
         "showticklabels": true,
         "tickmode": "array",
         "ticks": "outside",
         "ticktext": [
          "37_cloud_computing_decision",
          "16_database_sql_query",
          "24_case_the_to",
          "39_erp_business_enterprise",
          "25_agile_scrum_project",
          "21_privacy_plagiarism_integ...",
          "40_disabilities_systems_des...",
          "30_global_income_quot",
          "33_the_education_of",
          "32_health_physical_the",
          "26_gamification_game_games",
          "35_app_development_inventor",
          "13_programming_students_int...",
          "29_team_teamwork_teams",
          "41_discussions_online_student",
          "20_online_moocs_courses",
          "15_pandemic_covid_online",
          "6_security_cybersecurity_in...",
          "3_analytics_data_business",
          "1_information_is_systems",
          "0_technology_teachers_of",
          "2_intercultural_telecollabo...",
          "31_learning_language_social",
          "17_blended_online_learning",
          "14_mobile_devices_phones",
          "9_mobile_mall_learning",
          "10_game_games_gaming",
          "36_vocabulary_l2_idioms",
          "7_pronunciation_asr_speech",
          "4_task_scmc_learners",
          "8_writing_collaborative_wiki",
          "5_corpus_corpora_ddl",
          "19_social_media_internet",
          "18_flipped_classroom_the",
          "42_blogs_blogging_blog",
          "27_storytelling_digital_nar...",
          "22_multimodal_of_communicat...",
          "12_vr_virtual_reality",
          "28_reading_comprehension_re...",
          "11_captions_comprehension_c...",
          "23_feedback_error_writing",
          "34_robot_rall_chatbots",
          "38_anxiety_fla_repetition"
         ],
         "tickvals": [
          -5,
          -15,
          -25,
          -35,
          -45,
          -55,
          -65,
          -75,
          -85,
          -95,
          -105,
          -115,
          -125,
          -135,
          -145,
          -155,
          -165,
          -175,
          -185,
          -195,
          -205,
          -215,
          -225,
          -235,
          -245,
          -255,
          -265,
          -275,
          -285,
          -295,
          -305,
          -315,
          -325,
          -335,
          -345,
          -355,
          -365,
          -375,
          -385,
          -395,
          -405,
          -415,
          -425
         ],
         "type": "linear",
         "zeroline": false
        }
       }
      }
     },
     "metadata": {},
     "output_type": "display_data"
    }
   ],
   "source": [
    "model.visualize_hierarchy()"
   ]
  },
  {
   "cell_type": "code",
   "execution_count": 55,
   "metadata": {},
   "outputs": [
    {
     "name": "stderr",
     "output_type": "stream",
     "text": [
      "100%|██████████| 42/42 [00:00<00:00, 277.16it/s]\n"
     ]
    },
    {
     "data": {
      "application/vnd.plotly.v1+json": {
       "config": {
        "plotlyServerURL": "https://plot.ly"
       },
       "data": [
        {
         "hoverinfo": "text",
         "marker": {
          "color": "rgb(61,153,112)"
         },
         "mode": "lines",
         "text": [
          "programming_students_introductory_python_to",
          "",
          "",
          "app_development_inventor_android_game"
         ],
         "type": "scatter",
         "x": [
          0,
          0.9020296974954923,
          0.9020296974954923,
          0
         ],
         "xaxis": "x",
         "y": [
          -25,
          -25,
          -35,
          -35
         ],
         "yaxis": "y"
        },
        {
         "hoverinfo": "text",
         "marker": {
          "color": "rgb(61,153,112)"
         },
         "mode": "lines",
         "text": [
          "team_teamwork_teams_group_students",
          "",
          "",
          "programming_students_to_introductory_the"
         ],
         "type": "scatter",
         "x": [
          0,
          0.9723402288203437,
          0.9723402288203437,
          0.9020296974954923
         ],
         "xaxis": "x",
         "y": [
          -15,
          -15,
          -30,
          -30
         ],
         "yaxis": "y"
        },
        {
         "hoverinfo": "text",
         "marker": {
          "color": "rgb(0,116,217)"
         },
         "mode": "lines",
         "text": [
          "agile_scrum_project_to_development",
          "",
          "",
          "programming_students_to_the_and"
         ],
         "type": "scatter",
         "x": [
          0.9723402288203437,
          1.0723733233810977,
          1.0723733233810977,
          0
         ],
         "xaxis": "x",
         "y": [
          -22.5,
          -22.5,
          -45,
          -45
         ],
         "yaxis": "y"
        },
        {
         "hoverinfo": "text",
         "marker": {
          "color": "rgb(0,116,217)"
         },
         "mode": "lines",
         "text": [
          "security_cybersecurity_information_to_the",
          "",
          "",
          "information_is_systems_the_and"
         ],
         "type": "scatter",
         "x": [
          0,
          1.121870079840941,
          1.121870079840941,
          1.0723733233810977
         ],
         "xaxis": "x",
         "y": [
          -5,
          -5,
          -33.75,
          -33.75
         ],
         "yaxis": "y"
        },
        {
         "hoverinfo": "text",
         "marker": {
          "color": "rgb(255,65,54)"
         },
         "mode": "lines",
         "text": [
          "information_is_security_systems_the",
          "",
          "",
          "analytics_data_business_big_to"
         ],
         "type": "scatter",
         "x": [
          0,
          0.950590079730408,
          0.950590079730408,
          0
         ],
         "xaxis": "x",
         "y": [
          -55,
          -55,
          -65,
          -65
         ],
         "yaxis": "y"
        },
        {
         "hoverinfo": "text",
         "marker": {
          "color": "rgb(0,116,217)"
         },
         "mode": "lines",
         "text": [
          "information_is_data_to_the",
          "",
          "",
          "privacy_plagiarism_integrity_academic_ethical"
         ],
         "type": "scatter",
         "x": [
          0.950590079730408,
          1.040920514225085,
          1.040920514225085,
          0
         ],
         "xaxis": "x",
         "y": [
          -60,
          -60,
          -75,
          -75
         ],
         "yaxis": "y"
        },
        {
         "hoverinfo": "text",
         "marker": {
          "color": "rgb(35,205,205)"
         },
         "mode": "lines",
         "text": [
          "disabilities_systems_design_of_with",
          "",
          "",
          "is_information_data_to_the"
         ],
         "type": "scatter",
         "x": [
          0,
          0.8814884795401485,
          0.8814884795401485,
          0
         ],
         "xaxis": "x",
         "y": [
          -85,
          -85,
          -95,
          -95
         ],
         "yaxis": "y"
        },
        {
         "hoverinfo": "text",
         "marker": {
          "color": "rgb(0,116,217)"
         },
         "mode": "lines",
         "text": [
          "case_the_to_company_system",
          "",
          "",
          "erp_business_enterprise_systems_simulation"
         ],
         "type": "scatter",
         "x": [
          1.040920514225085,
          1.1152985612775894,
          1.1152985612775894,
          0.8814884795401485
         ],
         "xaxis": "x",
         "y": [
          -67.5,
          -67.5,
          -90,
          -90
         ],
         "yaxis": "y"
        },
        {
         "hoverinfo": "text",
         "marker": {
          "color": "rgb(0,116,217)"
         },
         "mode": "lines",
         "text": [
          "database_sql_query_data_case",
          "",
          "",
          "business_erp_case_to_enterprise"
         ],
         "type": "scatter",
         "x": [
          1.121870079840941,
          1.3411631238200405,
          1.3411631238200405,
          1.1152985612775894
         ],
         "xaxis": "x",
         "y": [
          -19.375,
          -19.375,
          -78.75,
          -78.75
         ],
         "yaxis": "y"
        },
        {
         "hoverinfo": "text",
         "marker": {
          "color": "rgb(133,20,75)"
         },
         "mode": "lines",
         "text": [
          "is_information_to_the_and",
          "",
          "",
          "database_case_business_to_the"
         ],
         "type": "scatter",
         "x": [
          0,
          0.7969383995244407,
          0.7969383995244407,
          0
         ],
         "xaxis": "x",
         "y": [
          -125,
          -125,
          -135,
          -135
         ],
         "yaxis": "y"
        },
        {
         "hoverinfo": "text",
         "marker": {
          "color": "rgb(133,20,75)"
         },
         "mode": "lines",
         "text": [
          "is_to_information_the_and",
          "",
          "",
          "cloud_computing_decision_cc_aws"
         ],
         "type": "scatter",
         "x": [
          0,
          0.913713686010261,
          0.913713686010261,
          0.7969383995244407
         ],
         "xaxis": "x",
         "y": [
          -115,
          -115,
          -130,
          -130
         ],
         "yaxis": "y"
        },
        {
         "hoverinfo": "text",
         "marker": {
          "color": "rgb(0,116,217)"
         },
         "mode": "lines",
         "text": [
          "programming_agile_students_to_scrum",
          "",
          "",
          "is_to_the_information_and"
         ],
         "type": "scatter",
         "x": [
          0,
          1.088282607549272,
          1.088282607549272,
          0.913713686010261
         ],
         "xaxis": "x",
         "y": [
          -105,
          -105,
          -122.5,
          -122.5
         ],
         "yaxis": "y"
        },
        {
         "hoverinfo": "text",
         "marker": {
          "color": "rgb(255,220,0)"
         },
         "mode": "lines",
         "text": [
          "the_education_of_preschool_school",
          "",
          "",
          "health_physical_the_of_patients"
         ],
         "type": "scatter",
         "x": [
          0,
          0.7068718361741696,
          0.7068718361741696,
          0
         ],
         "xaxis": "x",
         "y": [
          -155,
          -155,
          -165,
          -165
         ],
         "yaxis": "y"
        },
        {
         "hoverinfo": "text",
         "marker": {
          "color": "rgb(255,220,0)"
         },
         "mode": "lines",
         "text": [
          "global_income_quot_of_the",
          "",
          "",
          "health_the_of_physical_in"
         ],
         "type": "scatter",
         "x": [
          0,
          0.8875904395913028,
          0.8875904395913028,
          0.7068718361741696
         ],
         "xaxis": "x",
         "y": [
          -145,
          -145,
          -160,
          -160
         ],
         "yaxis": "y"
        },
        {
         "hoverinfo": "text",
         "marker": {
          "color": "rgb(0,116,217)"
         },
         "mode": "lines",
         "text": [
          "to_the_is_and_of",
          "",
          "",
          "the_of_global_health_and"
         ],
         "type": "scatter",
         "x": [
          1.088282607549272,
          1.199539542305324,
          1.199539542305324,
          0.8875904395913028
         ],
         "xaxis": "x",
         "y": [
          -113.75,
          -113.75,
          -152.5,
          -152.5
         ],
         "yaxis": "y"
        },
        {
         "hoverinfo": "text",
         "marker": {
          "color": "rgb(40,35,35)"
         },
         "mode": "lines",
         "text": [
          "blended_online_learning_lmoocs_the",
          "",
          "",
          "online_moocs_courses_education_distance"
         ],
         "type": "scatter",
         "x": [
          0,
          0.7553751925636759,
          0.7553751925636759,
          0
         ],
         "xaxis": "x",
         "y": [
          -175,
          -175,
          -185,
          -185
         ],
         "yaxis": "y"
        },
        {
         "hoverinfo": "text",
         "marker": {
          "color": "rgb(40,35,35)"
         },
         "mode": "lines",
         "text": [
          "online_blended_courses_learning_and",
          "",
          "",
          "pandemic_covid_online_19_to"
         ],
         "type": "scatter",
         "x": [
          0.7553751925636759,
          0.804204488837031,
          0.804204488837031,
          0
         ],
         "xaxis": "x",
         "y": [
          -180,
          -180,
          -195,
          -195
         ],
         "yaxis": "y"
        },
        {
         "hoverinfo": "text",
         "marker": {
          "color": "rgb(0,116,217)"
         },
         "mode": "lines",
         "text": [
          "discussions_online_student_discussion_engagement",
          "",
          "",
          "online_blended_learning_pandemic_and"
         ],
         "type": "scatter",
         "x": [
          1.199539542305324,
          1.3278687917248175,
          1.3278687917248175,
          0.804204488837031
         ],
         "xaxis": "x",
         "y": [
          -133.125,
          -133.125,
          -187.5,
          -187.5
         ],
         "yaxis": "y"
        },
        {
         "hoverinfo": "text",
         "marker": {
          "color": "rgb(0,116,217)"
         },
         "mode": "lines",
         "text": [
          "storytelling_digital_narrative_stories_and",
          "",
          "",
          "blogs_blogging_blog_writing_news"
         ],
         "type": "scatter",
         "x": [
          1.3411631238200405,
          1.82580442574116,
          1.82580442574116,
          1.3278687917248175
         ],
         "xaxis": "x",
         "y": [
          -49.0625,
          -49.0625,
          -160.3125,
          -160.3125
         ],
         "yaxis": "y"
        },
        {
         "hoverinfo": "text",
         "marker": {
          "color": "rgb(61,153,112)"
         },
         "mode": "lines",
         "text": [
          "storytelling_digital_writing_the_stories",
          "",
          "",
          "flipped_classroom_the_class_in"
         ],
         "type": "scatter",
         "x": [
          0,
          0.5438741383064178,
          0.5438741383064178,
          0
         ],
         "xaxis": "x",
         "y": [
          -205,
          -205,
          -215,
          -215
         ],
         "yaxis": "y"
        },
        {
         "hoverinfo": "text",
         "marker": {
          "color": "rgb(61,153,112)"
         },
         "mode": "lines",
         "text": [
          "mobile_devices_phones_smart_tablet",
          "",
          "",
          "mobile_mall_learning_language_of"
         ],
         "type": "scatter",
         "x": [
          0,
          0.7038825246603265,
          0.7038825246603265,
          0
         ],
         "xaxis": "x",
         "y": [
          -225,
          -225,
          -235,
          -235
         ],
         "yaxis": "y"
        },
        {
         "hoverinfo": "text",
         "marker": {
          "color": "rgb(61,153,112)"
         },
         "mode": "lines",
         "text": [
          "technology_teachers_of_and_the",
          "",
          "",
          "intercultural_telecollaboration_and_the_of"
         ],
         "type": "scatter",
         "x": [
          0.5438741383064178,
          0.7444698951181732,
          0.7444698951181732,
          0.7038825246603265
         ],
         "xaxis": "x",
         "y": [
          -210,
          -210,
          -230,
          -230
         ],
         "yaxis": "y"
        },
        {
         "hoverinfo": "text",
         "marker": {
          "color": "rgb(61,153,112)"
         },
         "mode": "lines",
         "text": [
          "learning_language_social_online_sites",
          "",
          "",
          "of_and_the_teachers_language"
         ],
         "type": "scatter",
         "x": [
          0,
          0.7019865565292907,
          0.7019865565292907,
          0
         ],
         "xaxis": "x",
         "y": [
          -245,
          -245,
          -255,
          -255
         ],
         "yaxis": "y"
        },
        {
         "hoverinfo": "text",
         "marker": {
          "color": "rgb(61,153,112)"
         },
         "mode": "lines",
         "text": [
          "and_of_the_language_teachers",
          "",
          "",
          "multimodal_of_communication_the_semiotic"
         ],
         "type": "scatter",
         "x": [
          0.7444698951181732,
          0.9999406712782822,
          0.9999406712782822,
          0.7019865565292907
         ],
         "xaxis": "x",
         "y": [
          -220,
          -220,
          -250,
          -250
         ],
         "yaxis": "y"
        },
        {
         "hoverinfo": "text",
         "marker": {
          "color": "rgb(255,65,54)"
         },
         "mode": "lines",
         "text": [
          "vr_virtual_reality_learning_immersive",
          "",
          "",
          "of_and_the_language_teachers"
         ],
         "type": "scatter",
         "x": [
          0,
          0.8193691454600942,
          0.8193691454600942,
          0
         ],
         "xaxis": "x",
         "y": [
          -265,
          -265,
          -275,
          -275
         ],
         "yaxis": "y"
        },
        {
         "hoverinfo": "text",
         "marker": {
          "color": "rgb(35,205,205)"
         },
         "mode": "lines",
         "text": [
          "and_of_the_language_in",
          "",
          "",
          "social_media_internet_facebook_use"
         ],
         "type": "scatter",
         "x": [
          0,
          0.6471857862212979,
          0.6471857862212979,
          0
         ],
         "xaxis": "x",
         "y": [
          -285,
          -285,
          -295,
          -295
         ],
         "yaxis": "y"
        },
        {
         "hoverinfo": "text",
         "marker": {
          "color": "rgb(35,205,205)"
         },
         "mode": "lines",
         "text": [
          "mobile_mall_learning_and_devices",
          "",
          "",
          "of_the_and_in_language"
         ],
         "type": "scatter",
         "x": [
          0,
          0.7643199937429965,
          0.7643199937429965,
          0
         ],
         "xaxis": "x",
         "y": [
          -305,
          -305,
          -315,
          -315
         ],
         "yaxis": "y"
        },
        {
         "hoverinfo": "text",
         "marker": {
          "color": "rgb(35,205,205)"
         },
         "mode": "lines",
         "text": [
          "flipped_classroom_the_in_writing",
          "",
          "",
          "of_and_the_in_language"
         ],
         "type": "scatter",
         "x": [
          0.6471857862212979,
          0.7962629984616301,
          0.7962629984616301,
          0.7643199937429965
         ],
         "xaxis": "x",
         "y": [
          -290,
          -290,
          -310,
          -310
         ],
         "yaxis": "y"
        },
        {
         "hoverinfo": "text",
         "marker": {
          "color": "rgb(0,116,217)"
         },
         "mode": "lines",
         "text": [
          "game_games_gaming_language_playing",
          "",
          "",
          "gamification_game_games_kahoot_learning"
         ],
         "type": "scatter",
         "x": [
          0.8193691454600942,
          1.023027073600831,
          1.023027073600831,
          0.7962629984616301
         ],
         "xaxis": "x",
         "y": [
          -270,
          -270,
          -300,
          -300
         ],
         "yaxis": "y"
        },
        {
         "hoverinfo": "text",
         "marker": {
          "color": "rgb(61,153,112)"
         },
         "mode": "lines",
         "text": [
          "the_and_of_in_learning",
          "",
          "",
          "game_games_gamification_gaming_learning"
         ],
         "type": "scatter",
         "x": [
          0,
          0.8939853981889544,
          0.8939853981889544,
          0
         ],
         "xaxis": "x",
         "y": [
          -335,
          -335,
          -345,
          -345
         ],
         "yaxis": "y"
        },
        {
         "hoverinfo": "text",
         "marker": {
          "color": "rgb(61,153,112)"
         },
         "mode": "lines",
         "text": [
          "online_learning_blended_to_and",
          "",
          "",
          "the_and_of_in_learning"
         ],
         "type": "scatter",
         "x": [
          0,
          0.9551368660122014,
          0.9551368660122014,
          0.8939853981889544
         ],
         "xaxis": "x",
         "y": [
          -325,
          -325,
          -340,
          -340
         ],
         "yaxis": "y"
        },
        {
         "hoverinfo": "text",
         "marker": {
          "color": "rgb(61,153,112)"
         },
         "mode": "lines",
         "text": [
          "feedback_error_writing_awe_corrective",
          "",
          "",
          "writing_collaborative_wiki_peer_feedback"
         ],
         "type": "scatter",
         "x": [
          0,
          0.8131233158010772,
          0.8131233158010772,
          0
         ],
         "xaxis": "x",
         "y": [
          -365,
          -365,
          -375,
          -375
         ],
         "yaxis": "y"
        },
        {
         "hoverinfo": "text",
         "marker": {
          "color": "rgb(61,153,112)"
         },
         "mode": "lines",
         "text": [
          "task_scmc_learners_communication_in",
          "",
          "",
          "pronunciation_asr_speech_listening_of"
         ],
         "type": "scatter",
         "x": [
          0,
          0.8677645077073455,
          0.8677645077073455,
          0.8131233158010772
         ],
         "xaxis": "x",
         "y": [
          -355,
          -355,
          -370,
          -370
         ],
         "yaxis": "y"
        },
        {
         "hoverinfo": "text",
         "marker": {
          "color": "rgb(61,153,112)"
         },
         "mode": "lines",
         "text": [
          "pronunciation_learners_of_task_the",
          "",
          "",
          "corpus_corpora_ddl_of_the"
         ],
         "type": "scatter",
         "x": [
          0.9551368660122014,
          0.984649230708199,
          0.984649230708199,
          0.8677645077073455
         ],
         "xaxis": "x",
         "y": [
          -332.5,
          -332.5,
          -362.5,
          -362.5
         ],
         "yaxis": "y"
        },
        {
         "hoverinfo": "text",
         "marker": {
          "color": "rgb(0,116,217)"
         },
         "mode": "lines",
         "text": [
          "writing_feedback_collaborative_wiki_the",
          "",
          "",
          "corpus_of_the_in_learners"
         ],
         "type": "scatter",
         "x": [
          1.023027073600831,
          1.208991153332872,
          1.208991153332872,
          0.984649230708199
         ],
         "xaxis": "x",
         "y": [
          -285,
          -285,
          -347.5,
          -347.5
         ],
         "yaxis": "y"
        },
        {
         "hoverinfo": "text",
         "marker": {
          "color": "rgb(0,116,217)"
         },
         "mode": "lines",
         "text": [
          "writing_the_of_in_and",
          "",
          "",
          "robot_rall_chatbots_chatbot_telepresence"
         ],
         "type": "scatter",
         "x": [
          0.9999406712782822,
          1.4613197308198642,
          1.4613197308198642,
          1.208991153332872
         ],
         "xaxis": "x",
         "y": [
          -235,
          -235,
          -316.25,
          -316.25
         ],
         "yaxis": "y"
        },
        {
         "hoverinfo": "text",
         "marker": {
          "color": "rgb(255,65,54)"
         },
         "mode": "lines",
         "text": [
          "anxiety_fla_repetition_participants_foreign",
          "",
          "",
          "writing_the_of_in_and"
         ],
         "type": "scatter",
         "x": [
          0,
          0.9283548037653526,
          0.9283548037653526,
          0
         ],
         "xaxis": "x",
         "y": [
          -385,
          -385,
          -395,
          -395
         ],
         "yaxis": "y"
        },
        {
         "hoverinfo": "text",
         "marker": {
          "color": "rgb(0,116,217)"
         },
         "mode": "lines",
         "text": [
          "captions_comprehension_captioning_vocabulary_caption",
          "",
          "",
          "vocabulary_l2_idioms_gloss_learning"
         ],
         "type": "scatter",
         "x": [
          0,
          1.0370975175096107,
          1.0370975175096107,
          0
         ],
         "xaxis": "x",
         "y": [
          -405,
          -405,
          -415,
          -415
         ],
         "yaxis": "y"
        },
        {
         "hoverinfo": "text",
         "marker": {
          "color": "rgb(0,116,217)"
         },
         "mode": "lines",
         "text": [
          "captions_vocabulary_comprehension_l2_learners",
          "",
          "",
          "reading_comprehension_readers_books_students"
         ],
         "type": "scatter",
         "x": [
          1.0370975175096107,
          1.0605216553366155,
          1.0605216553366155,
          0
         ],
         "xaxis": "x",
         "y": [
          -410,
          -410,
          -425,
          -425
         ],
         "yaxis": "y"
        },
        {
         "hoverinfo": "text",
         "marker": {
          "color": "rgb(0,116,217)"
         },
         "mode": "lines",
         "text": [
          "the_writing_of_in_and",
          "",
          "",
          "reading_comprehension_captions_vocabulary_l2"
         ],
         "type": "scatter",
         "x": [
          0.9283548037653526,
          1.0944276339993868,
          1.0944276339993868,
          1.0605216553366155
         ],
         "xaxis": "x",
         "y": [
          -390,
          -390,
          -417.5,
          -417.5
         ],
         "yaxis": "y"
        },
        {
         "hoverinfo": "text",
         "marker": {
          "color": "rgb(0,116,217)"
         },
         "mode": "lines",
         "text": [
          "the_and_of_in_learning",
          "",
          "",
          "the_of_and_learners_in"
         ],
         "type": "scatter",
         "x": [
          1.4613197308198642,
          2.0087662038636958,
          2.0087662038636958,
          1.0944276339993868
         ],
         "xaxis": "x",
         "y": [
          -275.625,
          -275.625,
          -403.75,
          -403.75
         ],
         "yaxis": "y"
        },
        {
         "hoverinfo": "text",
         "marker": {
          "color": "rgb(0,116,217)"
         },
         "mode": "lines",
         "text": [
          "the_to_is_and_of",
          "",
          "",
          "the_and_of_in_to"
         ],
         "type": "scatter",
         "x": [
          1.82580442574116,
          2.9443913159294954,
          2.9443913159294954,
          2.0087662038636958
         ],
         "xaxis": "x",
         "y": [
          -104.6875,
          -104.6875,
          -339.6875,
          -339.6875
         ],
         "yaxis": "y"
        },
        {
         "hoverinfo": "text",
         "hovertext": [
          "agile_scrum_project_to_development",
          "information_is_data_to_the",
          "case_the_to_company_system",
          "database_sql_query_data_case",
          "to_the_is_and_of",
          "online_blended_courses_learning_and",
          "discussions_online_student_discussion_engagement",
          "storytelling_digital_narrative_stories_and",
          "technology_teachers_of_and_the",
          "and_of_the_language_teachers",
          "flipped_classroom_the_in_writing",
          "game_games_gaming_language_playing",
          "pronunciation_learners_of_task_the",
          "writing_feedback_collaborative_wiki_the",
          "writing_the_of_in_and",
          "captions_vocabulary_comprehension_l2_learners",
          "the_writing_of_in_and",
          "the_and_of_in_learning",
          "the_to_is_and_of"
         ],
         "marker": {
          "color": "black"
         },
         "mode": "markers",
         "showlegend": false,
         "type": "scatter",
         "x": [
          0.9723402288203437,
          0.950590079730408,
          1.040920514225085,
          1.121870079840941,
          1.088282607549272,
          0.7553751925636759,
          1.199539542305324,
          1.3411631238200405,
          0.5438741383064178,
          0.7444698951181732,
          0.6471857862212979,
          0.8193691454600942,
          0.9551368660122014,
          1.023027073600831,
          0.9999406712782822,
          1.0370975175096107,
          0.9283548037653526,
          1.4613197308198642,
          1.82580442574116
         ],
         "y": [
          -22.5,
          -60,
          -67.5,
          -19.375,
          -113.75,
          -180,
          -133.125,
          -49.0625,
          -210,
          -220,
          -290,
          -270,
          -332.5,
          -285,
          -235,
          -410,
          -390,
          -275.625,
          -104.6875
         ]
        },
        {
         "hoverinfo": "text",
         "hovertext": [
          "programming_students_to_introductory_the",
          "information_is_systems_the_and",
          "erp_business_enterprise_systems_simulation",
          "business_erp_case_to_enterprise",
          "cloud_computing_decision_cc_aws",
          "is_to_the_information_and",
          "health_the_of_physical_in",
          "the_of_global_health_and",
          "online_blended_learning_pandemic_and",
          "blogs_blogging_blog_writing_news",
          "intercultural_telecollaboration_and_the_of",
          "multimodal_of_communication_the_semiotic",
          "of_and_the_in_language",
          "gamification_game_games_kahoot_learning",
          "the_and_of_in_learning",
          "pronunciation_asr_speech_listening_of",
          "corpus_corpora_ddl_of_the",
          "corpus_of_the_in_learners",
          "robot_rall_chatbots_chatbot_telepresence",
          "reading_comprehension_captions_vocabulary_l2",
          "the_of_and_learners_in",
          "the_and_of_in_to"
         ],
         "marker": {
          "color": "black"
         },
         "mode": "markers",
         "showlegend": false,
         "type": "scatter",
         "x": [
          0.9020296974954923,
          1.0723733233810977,
          0.8814884795401485,
          1.1152985612775894,
          0.7969383995244407,
          0.913713686010261,
          0.7068718361741696,
          0.8875904395913028,
          0.804204488837031,
          1.3278687917248175,
          0.7038825246603265,
          0.7019865565292907,
          0.7643199937429965,
          0.7962629984616301,
          0.8939853981889544,
          0.8131233158010772,
          0.8677645077073455,
          0.984649230708199,
          1.208991153332872,
          1.0605216553366155,
          1.0944276339993868,
          2.0087662038636958
         ],
         "y": [
          -30,
          -33.75,
          -90,
          -78.75,
          -130,
          -122.5,
          -160,
          -152.5,
          -187.5,
          -160.3125,
          -230,
          -250,
          -310,
          -300,
          -340,
          -370,
          -362.5,
          -347.5,
          -316.25,
          -417.5,
          -403.75,
          -339.6875
         ]
        }
       ],
       "layout": {
        "autosize": false,
        "height": 845,
        "hoverlabel": {
         "bgcolor": "white",
         "font": {
          "family": "Rockwell",
          "size": 16
         }
        },
        "hovermode": "closest",
        "plot_bgcolor": "#ECEFF1",
        "showlegend": false,
        "template": {
         "data": {
          "bar": [
           {
            "error_x": {
             "color": "#2a3f5f"
            },
            "error_y": {
             "color": "#2a3f5f"
            },
            "marker": {
             "line": {
              "color": "white",
              "width": 0.5
             },
             "pattern": {
              "fillmode": "overlay",
              "size": 10,
              "solidity": 0.2
             }
            },
            "type": "bar"
           }
          ],
          "barpolar": [
           {
            "marker": {
             "line": {
              "color": "white",
              "width": 0.5
             },
             "pattern": {
              "fillmode": "overlay",
              "size": 10,
              "solidity": 0.2
             }
            },
            "type": "barpolar"
           }
          ],
          "carpet": [
           {
            "aaxis": {
             "endlinecolor": "#2a3f5f",
             "gridcolor": "#C8D4E3",
             "linecolor": "#C8D4E3",
             "minorgridcolor": "#C8D4E3",
             "startlinecolor": "#2a3f5f"
            },
            "baxis": {
             "endlinecolor": "#2a3f5f",
             "gridcolor": "#C8D4E3",
             "linecolor": "#C8D4E3",
             "minorgridcolor": "#C8D4E3",
             "startlinecolor": "#2a3f5f"
            },
            "type": "carpet"
           }
          ],
          "choropleth": [
           {
            "colorbar": {
             "outlinewidth": 0,
             "ticks": ""
            },
            "type": "choropleth"
           }
          ],
          "contour": [
           {
            "colorbar": {
             "outlinewidth": 0,
             "ticks": ""
            },
            "colorscale": [
             [
              0,
              "#0d0887"
             ],
             [
              0.1111111111111111,
              "#46039f"
             ],
             [
              0.2222222222222222,
              "#7201a8"
             ],
             [
              0.3333333333333333,
              "#9c179e"
             ],
             [
              0.4444444444444444,
              "#bd3786"
             ],
             [
              0.5555555555555556,
              "#d8576b"
             ],
             [
              0.6666666666666666,
              "#ed7953"
             ],
             [
              0.7777777777777778,
              "#fb9f3a"
             ],
             [
              0.8888888888888888,
              "#fdca26"
             ],
             [
              1,
              "#f0f921"
             ]
            ],
            "type": "contour"
           }
          ],
          "contourcarpet": [
           {
            "colorbar": {
             "outlinewidth": 0,
             "ticks": ""
            },
            "type": "contourcarpet"
           }
          ],
          "heatmap": [
           {
            "colorbar": {
             "outlinewidth": 0,
             "ticks": ""
            },
            "colorscale": [
             [
              0,
              "#0d0887"
             ],
             [
              0.1111111111111111,
              "#46039f"
             ],
             [
              0.2222222222222222,
              "#7201a8"
             ],
             [
              0.3333333333333333,
              "#9c179e"
             ],
             [
              0.4444444444444444,
              "#bd3786"
             ],
             [
              0.5555555555555556,
              "#d8576b"
             ],
             [
              0.6666666666666666,
              "#ed7953"
             ],
             [
              0.7777777777777778,
              "#fb9f3a"
             ],
             [
              0.8888888888888888,
              "#fdca26"
             ],
             [
              1,
              "#f0f921"
             ]
            ],
            "type": "heatmap"
           }
          ],
          "heatmapgl": [
           {
            "colorbar": {
             "outlinewidth": 0,
             "ticks": ""
            },
            "colorscale": [
             [
              0,
              "#0d0887"
             ],
             [
              0.1111111111111111,
              "#46039f"
             ],
             [
              0.2222222222222222,
              "#7201a8"
             ],
             [
              0.3333333333333333,
              "#9c179e"
             ],
             [
              0.4444444444444444,
              "#bd3786"
             ],
             [
              0.5555555555555556,
              "#d8576b"
             ],
             [
              0.6666666666666666,
              "#ed7953"
             ],
             [
              0.7777777777777778,
              "#fb9f3a"
             ],
             [
              0.8888888888888888,
              "#fdca26"
             ],
             [
              1,
              "#f0f921"
             ]
            ],
            "type": "heatmapgl"
           }
          ],
          "histogram": [
           {
            "marker": {
             "pattern": {
              "fillmode": "overlay",
              "size": 10,
              "solidity": 0.2
             }
            },
            "type": "histogram"
           }
          ],
          "histogram2d": [
           {
            "colorbar": {
             "outlinewidth": 0,
             "ticks": ""
            },
            "colorscale": [
             [
              0,
              "#0d0887"
             ],
             [
              0.1111111111111111,
              "#46039f"
             ],
             [
              0.2222222222222222,
              "#7201a8"
             ],
             [
              0.3333333333333333,
              "#9c179e"
             ],
             [
              0.4444444444444444,
              "#bd3786"
             ],
             [
              0.5555555555555556,
              "#d8576b"
             ],
             [
              0.6666666666666666,
              "#ed7953"
             ],
             [
              0.7777777777777778,
              "#fb9f3a"
             ],
             [
              0.8888888888888888,
              "#fdca26"
             ],
             [
              1,
              "#f0f921"
             ]
            ],
            "type": "histogram2d"
           }
          ],
          "histogram2dcontour": [
           {
            "colorbar": {
             "outlinewidth": 0,
             "ticks": ""
            },
            "colorscale": [
             [
              0,
              "#0d0887"
             ],
             [
              0.1111111111111111,
              "#46039f"
             ],
             [
              0.2222222222222222,
              "#7201a8"
             ],
             [
              0.3333333333333333,
              "#9c179e"
             ],
             [
              0.4444444444444444,
              "#bd3786"
             ],
             [
              0.5555555555555556,
              "#d8576b"
             ],
             [
              0.6666666666666666,
              "#ed7953"
             ],
             [
              0.7777777777777778,
              "#fb9f3a"
             ],
             [
              0.8888888888888888,
              "#fdca26"
             ],
             [
              1,
              "#f0f921"
             ]
            ],
            "type": "histogram2dcontour"
           }
          ],
          "mesh3d": [
           {
            "colorbar": {
             "outlinewidth": 0,
             "ticks": ""
            },
            "type": "mesh3d"
           }
          ],
          "parcoords": [
           {
            "line": {
             "colorbar": {
              "outlinewidth": 0,
              "ticks": ""
             }
            },
            "type": "parcoords"
           }
          ],
          "pie": [
           {
            "automargin": true,
            "type": "pie"
           }
          ],
          "scatter": [
           {
            "fillpattern": {
             "fillmode": "overlay",
             "size": 10,
             "solidity": 0.2
            },
            "type": "scatter"
           }
          ],
          "scatter3d": [
           {
            "line": {
             "colorbar": {
              "outlinewidth": 0,
              "ticks": ""
             }
            },
            "marker": {
             "colorbar": {
              "outlinewidth": 0,
              "ticks": ""
             }
            },
            "type": "scatter3d"
           }
          ],
          "scattercarpet": [
           {
            "marker": {
             "colorbar": {
              "outlinewidth": 0,
              "ticks": ""
             }
            },
            "type": "scattercarpet"
           }
          ],
          "scattergeo": [
           {
            "marker": {
             "colorbar": {
              "outlinewidth": 0,
              "ticks": ""
             }
            },
            "type": "scattergeo"
           }
          ],
          "scattergl": [
           {
            "marker": {
             "colorbar": {
              "outlinewidth": 0,
              "ticks": ""
             }
            },
            "type": "scattergl"
           }
          ],
          "scattermapbox": [
           {
            "marker": {
             "colorbar": {
              "outlinewidth": 0,
              "ticks": ""
             }
            },
            "type": "scattermapbox"
           }
          ],
          "scatterpolar": [
           {
            "marker": {
             "colorbar": {
              "outlinewidth": 0,
              "ticks": ""
             }
            },
            "type": "scatterpolar"
           }
          ],
          "scatterpolargl": [
           {
            "marker": {
             "colorbar": {
              "outlinewidth": 0,
              "ticks": ""
             }
            },
            "type": "scatterpolargl"
           }
          ],
          "scatterternary": [
           {
            "marker": {
             "colorbar": {
              "outlinewidth": 0,
              "ticks": ""
             }
            },
            "type": "scatterternary"
           }
          ],
          "surface": [
           {
            "colorbar": {
             "outlinewidth": 0,
             "ticks": ""
            },
            "colorscale": [
             [
              0,
              "#0d0887"
             ],
             [
              0.1111111111111111,
              "#46039f"
             ],
             [
              0.2222222222222222,
              "#7201a8"
             ],
             [
              0.3333333333333333,
              "#9c179e"
             ],
             [
              0.4444444444444444,
              "#bd3786"
             ],
             [
              0.5555555555555556,
              "#d8576b"
             ],
             [
              0.6666666666666666,
              "#ed7953"
             ],
             [
              0.7777777777777778,
              "#fb9f3a"
             ],
             [
              0.8888888888888888,
              "#fdca26"
             ],
             [
              1,
              "#f0f921"
             ]
            ],
            "type": "surface"
           }
          ],
          "table": [
           {
            "cells": {
             "fill": {
              "color": "#EBF0F8"
             },
             "line": {
              "color": "white"
             }
            },
            "header": {
             "fill": {
              "color": "#C8D4E3"
             },
             "line": {
              "color": "white"
             }
            },
            "type": "table"
           }
          ]
         },
         "layout": {
          "annotationdefaults": {
           "arrowcolor": "#2a3f5f",
           "arrowhead": 0,
           "arrowwidth": 1
          },
          "autotypenumbers": "strict",
          "coloraxis": {
           "colorbar": {
            "outlinewidth": 0,
            "ticks": ""
           }
          },
          "colorscale": {
           "diverging": [
            [
             0,
             "#8e0152"
            ],
            [
             0.1,
             "#c51b7d"
            ],
            [
             0.2,
             "#de77ae"
            ],
            [
             0.3,
             "#f1b6da"
            ],
            [
             0.4,
             "#fde0ef"
            ],
            [
             0.5,
             "#f7f7f7"
            ],
            [
             0.6,
             "#e6f5d0"
            ],
            [
             0.7,
             "#b8e186"
            ],
            [
             0.8,
             "#7fbc41"
            ],
            [
             0.9,
             "#4d9221"
            ],
            [
             1,
             "#276419"
            ]
           ],
           "sequential": [
            [
             0,
             "#0d0887"
            ],
            [
             0.1111111111111111,
             "#46039f"
            ],
            [
             0.2222222222222222,
             "#7201a8"
            ],
            [
             0.3333333333333333,
             "#9c179e"
            ],
            [
             0.4444444444444444,
             "#bd3786"
            ],
            [
             0.5555555555555556,
             "#d8576b"
            ],
            [
             0.6666666666666666,
             "#ed7953"
            ],
            [
             0.7777777777777778,
             "#fb9f3a"
            ],
            [
             0.8888888888888888,
             "#fdca26"
            ],
            [
             1,
             "#f0f921"
            ]
           ],
           "sequentialminus": [
            [
             0,
             "#0d0887"
            ],
            [
             0.1111111111111111,
             "#46039f"
            ],
            [
             0.2222222222222222,
             "#7201a8"
            ],
            [
             0.3333333333333333,
             "#9c179e"
            ],
            [
             0.4444444444444444,
             "#bd3786"
            ],
            [
             0.5555555555555556,
             "#d8576b"
            ],
            [
             0.6666666666666666,
             "#ed7953"
            ],
            [
             0.7777777777777778,
             "#fb9f3a"
            ],
            [
             0.8888888888888888,
             "#fdca26"
            ],
            [
             1,
             "#f0f921"
            ]
           ]
          },
          "colorway": [
           "#636efa",
           "#EF553B",
           "#00cc96",
           "#ab63fa",
           "#FFA15A",
           "#19d3f3",
           "#FF6692",
           "#B6E880",
           "#FF97FF",
           "#FECB52"
          ],
          "font": {
           "color": "#2a3f5f"
          },
          "geo": {
           "bgcolor": "white",
           "lakecolor": "white",
           "landcolor": "white",
           "showlakes": true,
           "showland": true,
           "subunitcolor": "#C8D4E3"
          },
          "hoverlabel": {
           "align": "left"
          },
          "hovermode": "closest",
          "mapbox": {
           "style": "light"
          },
          "paper_bgcolor": "white",
          "plot_bgcolor": "white",
          "polar": {
           "angularaxis": {
            "gridcolor": "#EBF0F8",
            "linecolor": "#EBF0F8",
            "ticks": ""
           },
           "bgcolor": "white",
           "radialaxis": {
            "gridcolor": "#EBF0F8",
            "linecolor": "#EBF0F8",
            "ticks": ""
           }
          },
          "scene": {
           "xaxis": {
            "backgroundcolor": "white",
            "gridcolor": "#DFE8F3",
            "gridwidth": 2,
            "linecolor": "#EBF0F8",
            "showbackground": true,
            "ticks": "",
            "zerolinecolor": "#EBF0F8"
           },
           "yaxis": {
            "backgroundcolor": "white",
            "gridcolor": "#DFE8F3",
            "gridwidth": 2,
            "linecolor": "#EBF0F8",
            "showbackground": true,
            "ticks": "",
            "zerolinecolor": "#EBF0F8"
           },
           "zaxis": {
            "backgroundcolor": "white",
            "gridcolor": "#DFE8F3",
            "gridwidth": 2,
            "linecolor": "#EBF0F8",
            "showbackground": true,
            "ticks": "",
            "zerolinecolor": "#EBF0F8"
           }
          },
          "shapedefaults": {
           "line": {
            "color": "#2a3f5f"
           }
          },
          "ternary": {
           "aaxis": {
            "gridcolor": "#DFE8F3",
            "linecolor": "#A2B1C6",
            "ticks": ""
           },
           "baxis": {
            "gridcolor": "#DFE8F3",
            "linecolor": "#A2B1C6",
            "ticks": ""
           },
           "bgcolor": "white",
           "caxis": {
            "gridcolor": "#DFE8F3",
            "linecolor": "#A2B1C6",
            "ticks": ""
           }
          },
          "title": {
           "x": 0.05
          },
          "xaxis": {
           "automargin": true,
           "gridcolor": "#EBF0F8",
           "linecolor": "#EBF0F8",
           "ticks": "",
           "title": {
            "standoff": 15
           },
           "zerolinecolor": "#EBF0F8",
           "zerolinewidth": 2
          },
          "yaxis": {
           "automargin": true,
           "gridcolor": "#EBF0F8",
           "linecolor": "#EBF0F8",
           "ticks": "",
           "title": {
            "standoff": 15
           },
           "zerolinecolor": "#EBF0F8",
           "zerolinewidth": 2
          }
         }
        },
        "title": {
         "font": {
          "color": "Black",
          "size": 22
         },
         "text": "<b>Hierarchical Clustering</b>",
         "x": 0.5,
         "xanchor": "center",
         "yanchor": "top"
        },
        "width": 1000,
        "xaxis": {
         "mirror": "allticks",
         "rangemode": "tozero",
         "showgrid": false,
         "showline": true,
         "showticklabels": true,
         "ticks": "outside",
         "type": "linear",
         "zeroline": false
        },
        "yaxis": {
         "mirror": "allticks",
         "range": [
          -430,
          0
         ],
         "rangemode": "tozero",
         "showgrid": false,
         "showline": true,
         "showticklabels": true,
         "tickmode": "array",
         "ticks": "outside",
         "ticktext": [
          "37_cloud_computing_decision",
          "16_database_sql_query",
          "24_case_the_to",
          "39_erp_business_enterprise",
          "25_agile_scrum_project",
          "21_privacy_plagiarism_integ...",
          "40_disabilities_systems_des...",
          "30_global_income_quot",
          "33_the_education_of",
          "32_health_physical_the",
          "26_gamification_game_games",
          "35_app_development_inventor",
          "13_programming_students_int...",
          "29_team_teamwork_teams",
          "41_discussions_online_student",
          "20_online_moocs_courses",
          "15_pandemic_covid_online",
          "6_security_cybersecurity_in...",
          "3_analytics_data_business",
          "1_information_is_systems",
          "0_technology_teachers_of",
          "2_intercultural_telecollabo...",
          "31_learning_language_social",
          "17_blended_online_learning",
          "14_mobile_devices_phones",
          "9_mobile_mall_learning",
          "10_game_games_gaming",
          "36_vocabulary_l2_idioms",
          "7_pronunciation_asr_speech",
          "4_task_scmc_learners",
          "8_writing_collaborative_wiki",
          "5_corpus_corpora_ddl",
          "19_social_media_internet",
          "18_flipped_classroom_the",
          "42_blogs_blogging_blog",
          "27_storytelling_digital_nar...",
          "22_multimodal_of_communicat...",
          "12_vr_virtual_reality",
          "28_reading_comprehension_re...",
          "11_captions_comprehension_c...",
          "23_feedback_error_writing",
          "34_robot_rall_chatbots",
          "38_anxiety_fla_repetition"
         ],
         "tickvals": [
          -5,
          -15,
          -25,
          -35,
          -45,
          -55,
          -65,
          -75,
          -85,
          -95,
          -105,
          -115,
          -125,
          -135,
          -145,
          -155,
          -165,
          -175,
          -185,
          -195,
          -205,
          -215,
          -225,
          -235,
          -245,
          -255,
          -265,
          -275,
          -285,
          -295,
          -305,
          -315,
          -325,
          -335,
          -345,
          -355,
          -365,
          -375,
          -385,
          -395,
          -405,
          -415,
          -425
         ],
         "type": "linear",
         "zeroline": false
        }
       }
      }
     },
     "metadata": {},
     "output_type": "display_data"
    }
   ],
   "source": [
    "hierarchical_topics = model.hierarchical_topics(docs)\n",
    "model.visualize_hierarchy(hierarchical_topics=hierarchical_topics)"
   ]
  },
  {
   "cell_type": "code",
   "execution_count": 47,
   "metadata": {},
   "outputs": [
    {
     "data": {
      "application/vnd.plotly.v1+json": {
       "config": {
        "plotlyServerURL": "https://plot.ly"
       },
       "data": [
        {
         "coloraxis": "coloraxis",
         "hovertemplate": "x: %{x}<br>y: %{y}<br>Similarity Score: %{z}<extra></extra>",
         "name": "0",
         "type": "heatmap",
         "x": [
          "0_technology_teachers_of",
          "1_information_is_systems",
          "2_intercultural_telecollabo...",
          "3_analytics_data_business",
          "4_task_scmc_learners",
          "5_corpus_corpora_ddl",
          "6_security_cybersecurity_in...",
          "7_pronunciation_asr_speech",
          "8_writing_collaborative_wiki",
          "9_mobile_mall_learning",
          "10_game_games_gaming",
          "11_captions_comprehension_c...",
          "12_vr_virtual_reality",
          "13_programming_students_int...",
          "14_mobile_devices_phones",
          "15_pandemic_covid_online",
          "16_database_sql_query",
          "17_blended_online_learning",
          "18_flipped_classroom_the",
          "19_social_media_internet",
          "20_online_moocs_courses",
          "21_privacy_plagiarism_integ...",
          "22_multimodal_of_communicat...",
          "23_feedback_error_writing",
          "24_case_the_to",
          "25_agile_scrum_project",
          "26_gamification_game_games",
          "27_storytelling_digital_nar...",
          "28_reading_comprehension_re...",
          "29_team_teamwork_teams",
          "30_global_income_quot",
          "31_learning_language_social",
          "32_health_physical_the",
          "33_the_education_of",
          "34_robot_rall_chatbots",
          "35_app_development_inventor",
          "36_vocabulary_l2_idioms",
          "37_cloud_computing_decision",
          "38_anxiety_fla_repetition",
          "39_erp_business_enterprise",
          "40_disabilities_systems_des...",
          "41_discussions_online_student",
          "42_blogs_blogging_blog"
         ],
         "xaxis": "x",
         "y": [
          "0_technology_teachers_of",
          "1_information_is_systems",
          "2_intercultural_telecollabo...",
          "3_analytics_data_business",
          "4_task_scmc_learners",
          "5_corpus_corpora_ddl",
          "6_security_cybersecurity_in...",
          "7_pronunciation_asr_speech",
          "8_writing_collaborative_wiki",
          "9_mobile_mall_learning",
          "10_game_games_gaming",
          "11_captions_comprehension_c...",
          "12_vr_virtual_reality",
          "13_programming_students_int...",
          "14_mobile_devices_phones",
          "15_pandemic_covid_online",
          "16_database_sql_query",
          "17_blended_online_learning",
          "18_flipped_classroom_the",
          "19_social_media_internet",
          "20_online_moocs_courses",
          "21_privacy_plagiarism_integ...",
          "22_multimodal_of_communicat...",
          "23_feedback_error_writing",
          "24_case_the_to",
          "25_agile_scrum_project",
          "26_gamification_game_games",
          "27_storytelling_digital_nar...",
          "28_reading_comprehension_re...",
          "29_team_teamwork_teams",
          "30_global_income_quot",
          "31_learning_language_social",
          "32_health_physical_the",
          "33_the_education_of",
          "34_robot_rall_chatbots",
          "35_app_development_inventor",
          "36_vocabulary_l2_idioms",
          "37_cloud_computing_decision",
          "38_anxiety_fla_repetition",
          "39_erp_business_enterprise",
          "40_disabilities_systems_des...",
          "41_discussions_online_student",
          "42_blogs_blogging_blog"
         ],
         "yaxis": "y",
         "z": [
          [
           1,
           0.9167735116717894,
           0.8823371536150765,
           0.8320354648295916,
           0.8720556233383524,
           0.819640823826868,
           0.8091700533536873,
           0.8503145550508735,
           0.854597282006388,
           0.8805682306072117,
           0.7673622879283796,
           0.6990375102743518,
           0.7638197368310935,
           0.7947816075584925,
           0.7351994928336592,
           0.7885140730411685,
           0.5969666552920305,
           0.8538787892037427,
           0.8138051422330786,
           0.8388159428547752,
           0.7736354996339018,
           0.6959297669538116,
           0.8137204953761563,
           0.7405417170779278,
           0.8531181444196551,
           0.6716847659510313,
           0.7163749435385631,
           0.797255445717779,
           0.7191824790851599,
           0.7666144224819542,
           0.776674698772727,
           0.8921013939762991,
           0.8067150488620211,
           0.8901601855095689,
           0.6633413798160152,
           0.759779359580717,
           0.8180268438447331,
           0.7625435201200943,
           0.7348657486753091,
           0.703931000168331,
           0.8356601642623226,
           0.7594434124452679,
           0.71841364043696
          ],
          [
           0.9167735116717894,
           0.9999999999999996,
           0.8361540282008932,
           0.8590306536604703,
           0.8435418788671161,
           0.7992762909119082,
           0.8463677390368772,
           0.8199460259267178,
           0.8319826246070918,
           0.8326901988336286,
           0.7333369463704814,
           0.6979764781075187,
           0.7526550656682125,
           0.7339636024586276,
           0.6592112625027927,
           0.7691173878027063,
           0.6057458229947099,
           0.8465375802856809,
           0.7814793922373352,
           0.7895166371212976,
           0.740816414002311,
           0.7075461230187803,
           0.8019639954658498,
           0.7350876295955435,
           0.8503891129316927,
           0.6640230022809155,
           0.7015612614923357,
           0.7817166616618569,
           0.6848572014781557,
           0.7550562221515609,
           0.7663070027054311,
           0.859787519459347,
           0.8119450619629829,
           0.8499544968315138,
           0.600600106964857,
           0.687017620313142,
           0.7867640568775534,
           0.7570915832760046,
           0.7027871764789179,
           0.7101116982671918,
           0.8579448697878337,
           0.7193817891108358,
           0.6910007899437184
          ],
          [
           0.8823371536150765,
           0.8361540282008932,
           1,
           0.7331180772463162,
           0.8256150382311509,
           0.7771693634621104,
           0.7203621422532631,
           0.8031969703049827,
           0.7859109822925453,
           0.8146036150467494,
           0.6931265491774123,
           0.6538412880864056,
           0.7183699990561814,
           0.6863707397614791,
           0.6318021875878028,
           0.7239472898110058,
           0.5154387249137713,
           0.7901726809920829,
           0.7457166599369505,
           0.7838737977917559,
           0.684443204095168,
           0.6605314126140012,
           0.828249292304494,
           0.6609396933686958,
           0.7775513507417866,
           0.5805159177896486,
           0.6549520651670254,
           0.7466736876471832,
           0.6545969773240197,
           0.6818604297717779,
           0.7861502821765205,
           0.8338560376208222,
           0.7554047648343104,
           0.8103282916861199,
           0.6296448746422243,
           0.6389024243145635,
           0.7874316973845867,
           0.6612586581071966,
           0.7257181613026088,
           0.6230198925067703,
           0.7520756478060889,
           0.6902391053144683,
           0.6481995657104328
          ],
          [
           0.8320354648295916,
           0.8590306536604703,
           0.7331180772463162,
           0.9999999999999996,
           0.7566011717801528,
           0.7611421400097461,
           0.7688972150656718,
           0.7420034045544308,
           0.7602181309886595,
           0.7910701170821596,
           0.7177275071284637,
           0.6673040805800565,
           0.6791621668417122,
           0.700554497178726,
           0.6611209099225921,
           0.718899069860417,
           0.7430878154198791,
           0.7509927719931251,
           0.6989397426487824,
           0.7882790170819975,
           0.6991350415863191,
           0.688108693099543,
           0.7059374170317407,
           0.6940291375841525,
           0.8319562984621099,
           0.6488024209858599,
           0.6938288458876362,
           0.7338212363749839,
           0.680695293562879,
           0.7199899637066803,
           0.7476519222327049,
           0.8034302907752398,
           0.7364950017732604,
           0.7593799149585043,
           0.58006168771366,
           0.7115312852950875,
           0.7418827488651618,
           0.7673628576289522,
           0.6954412442031283,
           0.7470395939896946,
           0.7635792351181432,
           0.6870062288126279,
           0.6753306505895391
          ],
          [
           0.8720556233383524,
           0.8435418788671161,
           0.8256150382311509,
           0.7566011717801528,
           1,
           0.7742408204352371,
           0.7444180489405235,
           0.8157387527181641,
           0.8492319786643915,
           0.8430369202019274,
           0.7852154058100962,
           0.7538280429680927,
           0.7353381842301734,
           0.7869957735260502,
           0.6772056441741454,
           0.7266824973477918,
           0.5837357082628412,
           0.8234621824569426,
           0.798055290360383,
           0.7850130791430654,
           0.7810564180984946,
           0.6609990228359859,
           0.8454046979891284,
           0.7651753803419407,
           0.7828410099389195,
           0.6942242752197777,
           0.7386648208851534,
           0.7616402889781964,
           0.7243508782338283,
           0.7674543944134823,
           0.7198813315142686,
           0.8528223221484108,
           0.7511732042221441,
           0.8017299560273816,
           0.7184761057362304,
           0.7061099472478122,
           0.8266647777359741,
           0.7443524306962209,
           0.7441817420316913,
           0.7355471795365163,
           0.7802954527886329,
           0.7910665132763107,
           0.6724706643263201
          ],
          [
           0.819640823826868,
           0.7992762909119082,
           0.7771693634621104,
           0.7611421400097461,
           0.7742408204352371,
           1.0000000000000004,
           0.6916566457218025,
           0.7973142583909092,
           0.7727148016830004,
           0.7862658757258012,
           0.6439532280297331,
           0.698405440321004,
           0.6384814629298945,
           0.6832028115071194,
           0.5970123654070865,
           0.6870353915850314,
           0.6097274579738807,
           0.7483710066770248,
           0.7183562648640356,
           0.7166839134465606,
           0.6427400435466163,
           0.6115090516159216,
           0.7530734372947837,
           0.67987511235779,
           0.7447126447432453,
           0.582335181293343,
           0.5589499178911982,
           0.6933388433856928,
           0.6440605204341133,
           0.667225495761173,
           0.675979195251475,
           0.7872529275675942,
           0.68288723111806,
           0.7085982273425343,
           0.6069036045434189,
           0.6172773455793796,
           0.794028258178544,
           0.6729993132844694,
           0.6363181168368665,
           0.627433392118965,
           0.7249794873946711,
           0.6406288907819198,
           0.6482133978117655
          ],
          [
           0.8091700533536873,
           0.8463677390368772,
           0.7203621422532631,
           0.7688972150656718,
           0.7444180489405235,
           0.6916566457218025,
           1.0000000000000004,
           0.7028991200284469,
           0.7159703091989571,
           0.7272345433792521,
           0.6777914621179162,
           0.5911318277141033,
           0.6708937938485074,
           0.677068803761177,
           0.609494449651902,
           0.7368611399829395,
           0.5907340522209196,
           0.7315181348710094,
           0.6837505872852878,
           0.7390707195034166,
           0.6755227106974594,
           0.7365553058848533,
           0.7109470696854399,
           0.6300931357079171,
           0.7724834693771677,
           0.6080422893665713,
           0.6521919247491761,
           0.6952606492065179,
           0.6215009437100713,
           0.6718549767983168,
           0.6907254005118697,
           0.767036506844295,
           0.7096838751961974,
           0.7425028490092498,
           0.562405189863476,
           0.6672893246539684,
           0.6718701458122934,
           0.7236900047501664,
           0.66371170617261,
           0.6454200657791294,
           0.7729366361745496,
           0.6310314419321095,
           0.6093807366166921
          ],
          [
           0.8503145550508735,
           0.8199460259267178,
           0.8031969703049827,
           0.7420034045544308,
           0.8157387527181641,
           0.7973142583909092,
           0.7028991200284469,
           1.0000000000000002,
           0.763736294191642,
           0.8247013114952543,
           0.6931552271355373,
           0.7103782651420752,
           0.6783627288412838,
           0.7085366523335701,
           0.6205535180151293,
           0.6842995060636553,
           0.5212077635719573,
           0.7680851654230136,
           0.7517165473385627,
           0.7113605749368532,
           0.6896718483192084,
           0.5979894213419866,
           0.7571438040591241,
           0.6926978598898266,
           0.7487947255286884,
           0.6225424063084699,
           0.6394309926474403,
           0.6974608354123037,
           0.6974506253886464,
           0.6734034462337752,
           0.6860614773235612,
           0.8008480909531901,
           0.735469296872336,
           0.7848379279278965,
           0.6260202297366938,
           0.6473579127582075,
           0.8259103768540398,
           0.6860828380118713,
           0.690804258977914,
           0.6038407260994019,
           0.7439750477964142,
           0.6792036039644875,
           0.620267190241754
          ],
          [
           0.854597282006388,
           0.8319826246070918,
           0.7859109822925453,
           0.7602181309886595,
           0.8492319786643915,
           0.7727148016830004,
           0.7159703091989571,
           0.763736294191642,
           0.9999999999999997,
           0.82148862916808,
           0.7250503334209233,
           0.6844511057031537,
           0.710996141596985,
           0.7701705675972106,
           0.6712950567534318,
           0.7143751878809237,
           0.5622573050143189,
           0.805112393226354,
           0.7827451992538647,
           0.8229093760472034,
           0.730717971382464,
           0.6989069571540537,
           0.7890747645629212,
           0.8130423957378751,
           0.7573915204248577,
           0.6520183745613075,
           0.7074669686485993,
           0.8095580192850887,
           0.7690367634491746,
           0.7786738302691495,
           0.7213932572973003,
           0.8433603216166995,
           0.7480323286668771,
           0.7964199770941786,
           0.6315320447284765,
           0.7054093869316118,
           0.7813782355364987,
           0.7204804574873508,
           0.7207852074906117,
           0.6747293553207449,
           0.7795500153751087,
           0.7819444346147563,
           0.8117647892978646
          ],
          [
           0.8805682306072117,
           0.8326901988336286,
           0.8146036150467494,
           0.7910701170821596,
           0.8430369202019274,
           0.7862658757258012,
           0.7272345433792521,
           0.8247013114952543,
           0.82148862916808,
           0.9999999999999998,
           0.7883929879990781,
           0.716433021598473,
           0.7496690954700974,
           0.7502091385623395,
           0.8133435063791872,
           0.7113145290775938,
           0.5990666096436761,
           0.8336349597861114,
           0.7964403990527529,
           0.8177385834066799,
           0.77250763234541,
           0.6394140954870435,
           0.7817212742991215,
           0.7138542929155907,
           0.794438878770726,
           0.6897233343487066,
           0.7233638872838628,
           0.7546391577810971,
           0.7360920386245133,
           0.7076425813203309,
           0.7223794234046431,
           0.875326435671736,
           0.7440658047778141,
           0.8129010598322985,
           0.6582573782538803,
           0.8198609599057588,
           0.8478880342317205,
           0.7410636403755934,
           0.7328302381211513,
           0.7136574481862984,
           0.7707367747038492,
           0.7370652098442847,
           0.6789359972038582
          ],
          [
           0.7673622879283796,
           0.7333369463704814,
           0.6931265491774123,
           0.7177275071284637,
           0.7852154058100962,
           0.6439532280297331,
           0.6777914621179162,
           0.6931552271355373,
           0.7250503334209233,
           0.7883929879990781,
           1.0000000000000002,
           0.6516803473555575,
           0.7433513326500145,
           0.6932848295382199,
           0.6343065722724552,
           0.7042114360080537,
           0.5592297674497388,
           0.738271916008874,
           0.7092259398819278,
           0.750955342480381,
           0.7263442158888527,
           0.5857938134850078,
           0.7014950892771562,
           0.6270192100682961,
           0.7184093406157177,
           0.6220308632944421,
           0.8905554487883529,
           0.7432702642594875,
           0.6927614046706891,
           0.7177747645465886,
           0.6945317857105893,
           0.8016362208502407,
           0.7144066510846248,
           0.7229571957392142,
           0.6231083712525307,
           0.7601187511016558,
           0.7549466943104537,
           0.6946942728092247,
           0.715724567143527,
           0.660295400376151,
           0.6759474110457037,
           0.6850073565330501,
           0.5922792479693226
          ],
          [
           0.6990375102743518,
           0.6979764781075187,
           0.6538412880864056,
           0.6673040805800565,
           0.7538280429680927,
           0.698405440321004,
           0.5911318277141033,
           0.7103782651420752,
           0.6844511057031537,
           0.716433021598473,
           0.6516803473555575,
           1,
           0.6215275027313866,
           0.6320800755241047,
           0.5715088177149382,
           0.5637772964417282,
           0.5163648188873228,
           0.6313586809045234,
           0.6591601335924161,
           0.6416970928674676,
           0.6087323779852316,
           0.6023356026569628,
           0.6815792877354347,
           0.6827048333029857,
           0.6345545702357526,
           0.5407125683852916,
           0.625754833656579,
           0.6375424880281255,
           0.6871906086374799,
           0.6066142162018698,
           0.6110088734627795,
           0.683980530699444,
           0.6176157565434295,
           0.6258684489582936,
           0.6129571528947404,
           0.5969231131424555,
           0.7743239219655065,
           0.5902304762741016,
           0.5948966727439235,
           0.5940235994100997,
           0.6463176703283318,
           0.6503196703196487,
           0.552811913462448
          ],
          [
           0.7638197368310935,
           0.7526550656682125,
           0.7183699990561814,
           0.6791621668417122,
           0.7353381842301734,
           0.6384814629298945,
           0.6708937938485074,
           0.6783627288412838,
           0.710996141596985,
           0.7496690954700974,
           0.7433513326500145,
           0.6215275027313866,
           1.0000000000000004,
           0.6340851914628862,
           0.6210974001562587,
           0.6799870592961104,
           0.5147612692515637,
           0.7640434834956356,
           0.6947685941409716,
           0.7241967365906602,
           0.693237959999677,
           0.5930554873538117,
           0.7792364196498072,
           0.6448714495895712,
           0.7031191126244211,
           0.5820233147032803,
           0.6949225972655005,
           0.7387425961883747,
           0.6291130963872658,
           0.6034890220629866,
           0.699620634130002,
           0.7551946168569798,
           0.7432639948118984,
           0.7228723317666919,
           0.5807986189113173,
           0.6823413960915305,
           0.6809630990876571,
           0.7109633611714011,
           0.7061283282758432,
           0.6432365352476903,
           0.7189400736845561,
           0.6568056490122305,
           0.6197918884080678
          ],
          [
           0.7947816075584925,
           0.7339636024586276,
           0.6863707397614791,
           0.700554497178726,
           0.7869957735260502,
           0.6832028115071194,
           0.677068803761177,
           0.7085366523335701,
           0.7701705675972106,
           0.7502091385623395,
           0.6932848295382199,
           0.6320800755241047,
           0.6340851914628862,
           1,
           0.5975836893174018,
           0.6347983748120998,
           0.5971219836416134,
           0.7459451637684391,
           0.7670615961209645,
           0.6790023074558322,
           0.7705364737498517,
           0.6012061866107125,
           0.686909970805623,
           0.6146901542566087,
           0.7068155067744334,
           0.7258940370157579,
           0.6999740830379175,
           0.6761759136401444,
           0.6869849816921334,
           0.7045561656006474,
           0.6179410738770184,
           0.761285083528481,
           0.6376647038212606,
           0.7953944555851284,
           0.6648837033294137,
           0.7487889506917481,
           0.6787479064499803,
           0.6762501484188566,
           0.6178186835809475,
           0.663272451200606,
           0.6993271334854163,
           0.7396657272759207,
           0.6543209289748793
          ],
          [
           0.7351994928336592,
           0.6592112625027927,
           0.6318021875878028,
           0.6611209099225921,
           0.6772056441741454,
           0.5970123654070865,
           0.609494449651902,
           0.6205535180151293,
           0.6712950567534318,
           0.8133435063791872,
           0.6343065722724552,
           0.5715088177149382,
           0.6210974001562587,
           0.5975836893174018,
           0.9999999999999996,
           0.5819517000129257,
           0.5406333952107117,
           0.6528344001977802,
           0.6331902487854215,
           0.7460260979681922,
           0.6111078459059405,
           0.5654835551031061,
           0.6302759136643534,
           0.590109145037201,
           0.6771036490131566,
           0.5330884545684216,
           0.6046611792041947,
           0.6051702160621977,
           0.6172466733317524,
           0.5984678092205094,
           0.5953880292702902,
           0.6810875168074133,
           0.6175696440245648,
           0.636094157190928,
           0.5851745932150669,
           0.7933647388327801,
           0.6484837511975692,
           0.6882309105972105,
           0.6090398962891495,
           0.5946765013093664,
           0.6548483854598547,
           0.5942905165104881,
           0.548967846588187
          ],
          [
           0.7885140730411685,
           0.7691173878027063,
           0.7239472898110058,
           0.718899069860417,
           0.7266824973477918,
           0.6870353915850314,
           0.7368611399829395,
           0.6842995060636553,
           0.7143751878809237,
           0.7113145290775938,
           0.7042114360080537,
           0.5637772964417282,
           0.6799870592961104,
           0.6347983748120998,
           0.5819517000129257,
           0.9999999999999998,
           0.4940414595909367,
           0.7303446347965454,
           0.6946934453336313,
           0.7193840650579935,
           0.6771166467924661,
           0.5786457450581528,
           0.6894770079493178,
           0.626041413762992,
           0.7523639769495704,
           0.5668237633313764,
           0.6549726159334219,
           0.6931183238789695,
           0.6032993547509329,
           0.6755955676927428,
           0.7011368481090134,
           0.7679625355195111,
           0.7655874956248936,
           0.7385066296908298,
           0.5472601803639274,
           0.6306767508555826,
           0.6430218112093039,
           0.6965948106529538,
           0.7095765342100233,
           0.5838935982634222,
           0.6886656549155198,
           0.6541359070119047,
           0.6493460876845096
          ],
          [
           0.5969666552920305,
           0.6057458229947099,
           0.5154387249137713,
           0.7430878154198791,
           0.5837357082628412,
           0.6097274579738807,
           0.5907340522209196,
           0.5212077635719573,
           0.5622573050143189,
           0.5990666096436761,
           0.5592297674497388,
           0.5163648188873228,
           0.5147612692515637,
           0.5971219836416134,
           0.5406333952107117,
           0.4940414595909367,
           0.9999999999999996,
           0.5482218704076832,
           0.5239982253860649,
           0.6031657071557173,
           0.5605523347325516,
           0.5260228503347196,
           0.5013807733007714,
           0.5637182594375709,
           0.6439134318611808,
           0.5246863324618268,
           0.5257758867779361,
           0.5675450477119034,
           0.5547759735847926,
           0.5360822292208863,
           0.5061472781242853,
           0.6102177255161546,
           0.546509287433432,
           0.5380469813799014,
           0.49493062383115805,
           0.593234341734125,
           0.5346591376976113,
           0.6218652700771259,
           0.5708727711629998,
           0.6028009393592575,
           0.5957720902104127,
           0.531490252974547,
           0.5231906658564143
          ],
          [
           0.8538787892037427,
           0.8465375802856809,
           0.7901726809920829,
           0.7509927719931251,
           0.8234621824569426,
           0.7483710066770248,
           0.7315181348710094,
           0.7680851654230136,
           0.805112393226354,
           0.8336349597861114,
           0.738271916008874,
           0.6313586809045234,
           0.7640434834956356,
           0.7459451637684391,
           0.6528344001977802,
           0.7303446347965454,
           0.5482218704076832,
           1.0000000000000002,
           0.7966119474600695,
           0.7876757491410149,
           0.8705049878496725,
           0.6376352248625159,
           0.7944605182714448,
           0.6727946981251341,
           0.7699944449153326,
           0.653230856842389,
           0.7044669321961808,
           0.7453045043777309,
           0.6723200822940026,
           0.6946966376167973,
           0.7496586723419809,
           0.8961458728827795,
           0.7490624923532188,
           0.8168349824996073,
           0.5974452592196458,
           0.7031706559288016,
           0.779830210610881,
           0.7458211568183355,
           0.6887776909453567,
           0.6773298458175796,
           0.7653560986740835,
           0.7817563474116827,
           0.6693572652533171
          ],
          [
           0.8138051422330786,
           0.7814793922373352,
           0.7457166599369505,
           0.6989397426487824,
           0.798055290360383,
           0.7183562648640356,
           0.6837505872852878,
           0.7517165473385627,
           0.7827451992538647,
           0.7964403990527529,
           0.7092259398819278,
           0.6591601335924161,
           0.6947685941409716,
           0.7670615961209645,
           0.6331902487854215,
           0.6946934453336313,
           0.5239982253860649,
           0.7966119474600695,
           1.0000000000000002,
           0.7032562908304537,
           0.7293533245852588,
           0.606610170349118,
           0.7279706096570979,
           0.7048453663878506,
           0.7234033279127066,
           0.6127698365750665,
           0.6804583131493487,
           0.7073710966340717,
           0.6882994555824308,
           0.709497367101738,
           0.6579453186966386,
           0.7767026687783791,
           0.7117414453682459,
           0.8038662409402215,
           0.6228386816160957,
           0.6576784517111667,
           0.7450679665696007,
           0.6528110719883914,
           0.6661445793934113,
           0.6121278300408121,
           0.7266345118281088,
           0.7246956424608879,
           0.6474675658104954
          ],
          [
           0.8388159428547752,
           0.7895166371212976,
           0.7838737977917559,
           0.7882790170819975,
           0.7850130791430654,
           0.7166839134465606,
           0.7390707195034166,
           0.7113605749368532,
           0.8229093760472034,
           0.8177385834066799,
           0.750955342480381,
           0.6416970928674676,
           0.7241967365906602,
           0.6790023074558322,
           0.7460260979681922,
           0.7193840650579935,
           0.6031657071557173,
           0.7876757491410149,
           0.7032562908304537,
           0.9999999999999994,
           0.727153533427713,
           0.7072918845341198,
           0.747570580242253,
           0.6732949912894364,
           0.7622655584971575,
           0.59945409367694,
           0.7249917945604138,
           0.7449189807061918,
           0.6974355335287267,
           0.707196753822743,
           0.7544547763277856,
           0.9002691555336838,
           0.7346493574189006,
           0.7825814797869828,
           0.6089816626554965,
           0.7450942479980984,
           0.7378241044424941,
           0.7586182011412338,
           0.7380789928249929,
           0.6759189439870055,
           0.7469718919266192,
           0.7291581851449,
           0.751999030929531
          ],
          [
           0.7736354996339018,
           0.740816414002311,
           0.684443204095168,
           0.6991350415863191,
           0.7810564180984946,
           0.6427400435466163,
           0.6755227106974594,
           0.6896718483192084,
           0.730717971382464,
           0.77250763234541,
           0.7263442158888527,
           0.6087323779852316,
           0.693237959999677,
           0.7705364737498517,
           0.6111078459059405,
           0.6771166467924661,
           0.5605523347325516,
           0.8705049878496725,
           0.7293533245852588,
           0.727153533427713,
           0.9999999999999997,
           0.6044378775543913,
           0.6896664031648709,
           0.6045994950530863,
           0.7094105595720825,
           0.647922868740475,
           0.7111490105004653,
           0.6835000490510321,
           0.662442694807922,
           0.653787343820536,
           0.6727439951553016,
           0.8417222557831039,
           0.6577979975744281,
           0.7923970462376562,
           0.5890062278599417,
           0.6982062163599688,
           0.706974670088918,
           0.7114129105326013,
           0.6327537263056211,
           0.6826482822236138,
           0.6882717576477068,
           0.8083460176668978,
           0.6066897845458658
          ],
          [
           0.6959297669538116,
           0.7075461230187803,
           0.6605314126140012,
           0.688108693099543,
           0.6609990228359859,
           0.6115090516159216,
           0.7365553058848533,
           0.5979894213419866,
           0.6989069571540537,
           0.6394140954870435,
           0.5857938134850078,
           0.6023356026569628,
           0.5930554873538117,
           0.6012061866107125,
           0.5654835551031061,
           0.5786457450581528,
           0.5260228503347196,
           0.6376352248625159,
           0.606610170349118,
           0.7072918845341198,
           0.6044378775543913,
           0.9999999999999996,
           0.6094676051547442,
           0.6190034868092399,
           0.7118671231784663,
           0.5305113068889594,
           0.5831103993888649,
           0.6309962168848954,
           0.6233388033425894,
           0.6128191396493703,
           0.6690800601919292,
           0.6718885967938737,
           0.634128978680199,
           0.6784626206913182,
           0.5270776624657705,
           0.6023576603215526,
           0.6335984495735345,
           0.6420083931638291,
           0.6455878299557818,
           0.6022634113639609,
           0.6718059089096245,
           0.6216343802432746,
           0.5967327611970371
          ],
          [
           0.8137204953761563,
           0.8019639954658498,
           0.828249292304494,
           0.7059374170317407,
           0.8454046979891284,
           0.7530734372947837,
           0.7109470696854399,
           0.7571438040591241,
           0.7890747645629212,
           0.7817212742991215,
           0.7014950892771562,
           0.6815792877354347,
           0.7792364196498072,
           0.686909970805623,
           0.6302759136643534,
           0.6894770079493178,
           0.5013807733007714,
           0.7944605182714448,
           0.7279706096570979,
           0.747570580242253,
           0.6896664031648709,
           0.6094676051547442,
           1,
           0.681997980890383,
           0.7209448881962612,
           0.5756856126873013,
           0.6544716339090376,
           0.7337315864985129,
           0.6332907592821999,
           0.6611906497883335,
           0.7030135101369401,
           0.7932547724906743,
           0.7359686414050974,
           0.743675224208502,
           0.681541425622519,
           0.654570869479048,
           0.7465268554166973,
           0.6935597952783711,
           0.7000078048301193,
           0.6499918908509087,
           0.7511575953908267,
           0.717074327556543,
           0.6462538293989571
          ],
          [
           0.7405417170779278,
           0.7350876295955435,
           0.6609396933686958,
           0.6940291375841525,
           0.7651753803419407,
           0.67987511235779,
           0.6300931357079171,
           0.6926978598898266,
           0.8130423957378751,
           0.7138542929155907,
           0.6270192100682961,
           0.6827048333029857,
           0.6448714495895712,
           0.6146901542566087,
           0.590109145037201,
           0.626041413762992,
           0.5637182594375709,
           0.6727946981251341,
           0.7048453663878506,
           0.6732949912894364,
           0.6045994950530863,
           0.6190034868092399,
           0.681997980890383,
           0.9999999999999999,
           0.6996270946196517,
           0.5663061664403756,
           0.6172757882926896,
           0.6542151405921507,
           0.6526268351909743,
           0.6531200457821416,
           0.6277548176055318,
           0.7042376935707012,
           0.6426661965390937,
           0.6568525733877244,
           0.5812241249278498,
           0.612025366743745,
           0.6926614726606871,
           0.6635803419590828,
           0.653304538064647,
           0.6379960111934122,
           0.7141462036868975,
           0.6808968419253103,
           0.639094901115679
          ],
          [
           0.8531181444196551,
           0.8503891129316927,
           0.7775513507417866,
           0.8319562984621099,
           0.7828410099389195,
           0.7447126447432453,
           0.7724834693771677,
           0.7487947255286884,
           0.7573915204248577,
           0.794438878770726,
           0.7184093406157177,
           0.6345545702357526,
           0.7031191126244211,
           0.7068155067744334,
           0.6771036490131566,
           0.7523639769495704,
           0.6439134318611808,
           0.7699944449153326,
           0.7234033279127066,
           0.7622655584971575,
           0.7094105595720825,
           0.7118671231784663,
           0.7209448881962612,
           0.6996270946196517,
           1.0000000000000004,
           0.6736412395273109,
           0.6799225296625488,
           0.730147542382122,
           0.6776254157101173,
           0.7755900509709667,
           0.7641746614138039,
           0.7884064509438007,
           0.7787052258216807,
           0.8116025595376211,
           0.6022243701434468,
           0.7146166243438415,
           0.7323124895297262,
           0.7892194702768862,
           0.7220590606859499,
           0.779782573808936,
           0.7950804586136441,
           0.6810687080830915,
           0.6706426998793266
          ],
          [
           0.6716847659510313,
           0.6640230022809155,
           0.5805159177896486,
           0.6488024209858599,
           0.6942242752197777,
           0.582335181293343,
           0.6080422893665713,
           0.6225424063084699,
           0.6520183745613075,
           0.6897233343487066,
           0.6220308632944421,
           0.5407125683852916,
           0.5820233147032803,
           0.7258940370157579,
           0.5330884545684216,
           0.5668237633313764,
           0.5246863324618268,
           0.653230856842389,
           0.6127698365750665,
           0.59945409367694,
           0.647922868740475,
           0.5305113068889594,
           0.5756856126873013,
           0.5663061664403756,
           0.6736412395273109,
           0.9999999999999996,
           0.6504778148320927,
           0.638430828218048,
           0.5582162287318255,
           0.6944128778480055,
           0.5813912854436092,
           0.6638090536458416,
           0.5736079356495465,
           0.6459052943035036,
           0.5383116792728861,
           0.6826704831625187,
           0.6317761104386859,
           0.6162814720393954,
           0.5322949906077395,
           0.6490134689589953,
           0.6372883508516345,
           0.6440955351511519,
           0.5551877826149723
          ],
          [
           0.7163749435385631,
           0.7015612614923357,
           0.6549520651670254,
           0.6938288458876362,
           0.7386648208851534,
           0.5589499178911982,
           0.6521919247491761,
           0.6394309926474403,
           0.7074669686485993,
           0.7233638872838628,
           0.8905554487883529,
           0.625754833656579,
           0.6949225972655005,
           0.6999740830379175,
           0.6046611792041947,
           0.6549726159334219,
           0.5257758867779361,
           0.7044669321961808,
           0.6804583131493487,
           0.7249917945604138,
           0.7111490105004653,
           0.5831103993888649,
           0.6544716339090376,
           0.6172757882926896,
           0.6799225296625488,
           0.6504778148320927,
           0.9999999999999998,
           0.6760380011816147,
           0.685974583190635,
           0.7114353865489698,
           0.6751837189149422,
           0.7439670589834986,
           0.6714534543200535,
           0.7174598272111052,
           0.581689818227734,
           0.726095521921585,
           0.6957299676577476,
           0.6636761332832585,
           0.6687938083742551,
           0.6319089192144369,
           0.6501986022456417,
           0.6741037655546704,
           0.5696543183900813
          ],
          [
           0.797255445717779,
           0.7817166616618569,
           0.7466736876471832,
           0.7338212363749839,
           0.7616402889781964,
           0.6933388433856928,
           0.6952606492065179,
           0.6974608354123037,
           0.8095580192850887,
           0.7546391577810971,
           0.7432702642594875,
           0.6375424880281255,
           0.7387425961883747,
           0.6761759136401444,
           0.6051702160621977,
           0.6931183238789695,
           0.5675450477119034,
           0.7453045043777309,
           0.7073710966340717,
           0.7449189807061918,
           0.6835000490510321,
           0.6309962168848954,
           0.7337315864985129,
           0.6542151405921507,
           0.730147542382122,
           0.638430828218048,
           0.6760380011816147,
           1.0000000000000002,
           0.7155518205545713,
           0.6662574521727083,
           0.6711440678708194,
           0.7773779365939627,
           0.732411968296668,
           0.7447493309403777,
           0.5720018482273324,
           0.6524223564565335,
           0.7289564102513734,
           0.6609555396638334,
           0.6739770748223782,
           0.6209090222113943,
           0.7292964126018688,
           0.6687661917835581,
           0.7349058050799742
          ],
          [
           0.7191824790851599,
           0.6848572014781557,
           0.6545969773240197,
           0.680695293562879,
           0.7243508782338283,
           0.6440605204341133,
           0.6215009437100713,
           0.6974506253886464,
           0.7690367634491746,
           0.7360920386245133,
           0.6927614046706891,
           0.6871906086374799,
           0.6291130963872658,
           0.6869849816921334,
           0.6172466733317524,
           0.6032993547509329,
           0.5547759735847926,
           0.6723200822940026,
           0.6882994555824308,
           0.6974355335287267,
           0.662442694807922,
           0.6233388033425894,
           0.6332907592821999,
           0.6526268351909743,
           0.6776254157101173,
           0.5582162287318255,
           0.685974583190635,
           0.7155518205545713,
           1,
           0.6421325361968997,
           0.6039831905472142,
           0.7082867551036802,
           0.6419218305573231,
           0.7185023934644102,
           0.5769921876690094,
           0.6076540981844442,
           0.7249167785328796,
           0.6049491339533335,
           0.6719893002479498,
           0.6160480064497855,
           0.67694713225525,
           0.6956480189231888,
           0.6611601621814613
          ],
          [
           0.7666144224819542,
           0.7550562221515609,
           0.6818604297717779,
           0.7199899637066803,
           0.7674543944134823,
           0.667225495761173,
           0.6718549767983168,
           0.6734034462337752,
           0.7786738302691495,
           0.7076425813203309,
           0.7177747645465886,
           0.6066142162018698,
           0.6034890220629866,
           0.7045561656006474,
           0.5984678092205094,
           0.6755955676927428,
           0.5360822292208863,
           0.6946966376167973,
           0.709497367101738,
           0.707196753822743,
           0.653787343820536,
           0.6128191396493703,
           0.6611906497883335,
           0.6531200457821416,
           0.7755900509709667,
           0.6944128778480055,
           0.7114353865489698,
           0.6662574521727083,
           0.6421325361968997,
           1,
           0.6738247565253517,
           0.7354825882305077,
           0.6779476452445073,
           0.7485717926140253,
           0.5769208333947078,
           0.6270374298865163,
           0.6859370457595841,
           0.6713208651066219,
           0.6897169693314111,
           0.6449407183863795,
           0.6844035193966123,
           0.6875849230418833,
           0.6157897581027614
          ],
          [
           0.776674698772727,
           0.7663070027054311,
           0.7861502821765205,
           0.7476519222327049,
           0.7198813315142686,
           0.675979195251475,
           0.6907254005118697,
           0.6860614773235612,
           0.7213932572973003,
           0.7223794234046431,
           0.6945317857105893,
           0.6110088734627795,
           0.699620634130002,
           0.6179410738770184,
           0.5953880292702902,
           0.7011368481090134,
           0.5061472781242853,
           0.7496586723419809,
           0.6579453186966386,
           0.7544547763277856,
           0.6727439951553016,
           0.6690800601919292,
           0.7030135101369401,
           0.6277548176055318,
           0.7641746614138039,
           0.5813912854436092,
           0.6751837189149422,
           0.6711440678708194,
           0.6039831905472142,
           0.6738247565253517,
           1.0000000000000002,
           0.779688181096411,
           0.7018276472523431,
           0.7477637470475631,
           0.5484862865752985,
           0.6392627133935544,
           0.7069189557597497,
           0.7022670425817644,
           0.6899207389633892,
           0.6586725568347933,
           0.7280797421756431,
           0.6535819259576898,
           0.6208306958927579
          ],
          [
           0.8921013939762991,
           0.859787519459347,
           0.8338560376208222,
           0.8034302907752398,
           0.8528223221484108,
           0.7872529275675942,
           0.767036506844295,
           0.8008480909531901,
           0.8433603216166995,
           0.875326435671736,
           0.8016362208502407,
           0.683980530699444,
           0.7551946168569798,
           0.761285083528481,
           0.6810875168074133,
           0.7679625355195111,
           0.6102177255161546,
           0.8961458728827795,
           0.7767026687783791,
           0.9002691555336838,
           0.8417222557831039,
           0.6718885967938737,
           0.7932547724906743,
           0.7042376935707012,
           0.7884064509438007,
           0.6638090536458416,
           0.7439670589834986,
           0.7773779365939627,
           0.7082867551036802,
           0.7354825882305077,
           0.779688181096411,
           0.9999999999999994,
           0.7544285964856369,
           0.8307986654756869,
           0.6472336735115203,
           0.7446034178991274,
           0.8052617901258314,
           0.7582688337415104,
           0.7314582512418223,
           0.7026028641035369,
           0.7841642105707051,
           0.7987409172554558,
           0.7362067175577311
          ],
          [
           0.8067150488620211,
           0.8119450619629829,
           0.7554047648343104,
           0.7364950017732604,
           0.7511732042221441,
           0.68288723111806,
           0.7096838751961974,
           0.735469296872336,
           0.7480323286668771,
           0.7440658047778141,
           0.7144066510846248,
           0.6176157565434295,
           0.7432639948118984,
           0.6376647038212606,
           0.6175696440245648,
           0.7655874956248936,
           0.546509287433432,
           0.7490624923532188,
           0.7117414453682459,
           0.7346493574189006,
           0.6577979975744281,
           0.634128978680199,
           0.7359686414050974,
           0.6426661965390937,
           0.7787052258216807,
           0.5736079356495465,
           0.6714534543200535,
           0.732411968296668,
           0.6419218305573231,
           0.6779476452445073,
           0.7018276472523431,
           0.7544285964856369,
           1.0000000000000004,
           0.7898371434880712,
           0.5641551774206685,
           0.6354785996240537,
           0.7049259748603021,
           0.6611083845885618,
           0.7541252020640691,
           0.6217550786831086,
           0.7837008722338756,
           0.6494003199332874,
           0.6287005155973653
          ],
          [
           0.8901601855095689,
           0.8499544968315138,
           0.8103282916861199,
           0.7593799149585043,
           0.8017299560273816,
           0.7085982273425343,
           0.7425028490092498,
           0.7848379279278965,
           0.7964199770941786,
           0.8129010598322985,
           0.7229571957392142,
           0.6258684489582936,
           0.7228723317666919,
           0.7953944555851284,
           0.636094157190928,
           0.7385066296908298,
           0.5380469813799014,
           0.8168349824996073,
           0.8038662409402215,
           0.7825814797869828,
           0.7923970462376562,
           0.6784626206913182,
           0.743675224208502,
           0.6568525733877244,
           0.8116025595376211,
           0.6459052943035036,
           0.7174598272111052,
           0.7447493309403777,
           0.7185023934644102,
           0.7485717926140253,
           0.7477637470475631,
           0.8307986654756869,
           0.7898371434880712,
           0.9999999999999996,
           0.6090062637148692,
           0.6949972166571387,
           0.7513703052399477,
           0.6939295244449564,
           0.7213816430922224,
           0.6624205967615218,
           0.7879651754202943,
           0.7753855379422554,
           0.6929967501618486
          ],
          [
           0.6633413798160152,
           0.600600106964857,
           0.6296448746422243,
           0.58006168771366,
           0.7184761057362304,
           0.6069036045434189,
           0.562405189863476,
           0.6260202297366938,
           0.6315320447284765,
           0.6582573782538803,
           0.6231083712525307,
           0.6129571528947404,
           0.5807986189113173,
           0.6648837033294137,
           0.5851745932150669,
           0.5472601803639274,
           0.49493062383115805,
           0.5974452592196458,
           0.6228386816160957,
           0.6089816626554965,
           0.5890062278599417,
           0.5270776624657705,
           0.681541425622519,
           0.5812241249278498,
           0.6022243701434468,
           0.5383116792728861,
           0.581689818227734,
           0.5720018482273324,
           0.5769921876690094,
           0.5769208333947078,
           0.5484862865752985,
           0.6472336735115203,
           0.5641551774206685,
           0.6090062637148692,
           1,
           0.6380744655519169,
           0.6186910240323089,
           0.6123018940698268,
           0.6285218279537919,
           0.5914033399868962,
           0.605396351361206,
           0.6095924341230589,
           0.5467558469679035
          ],
          [
           0.759779359580717,
           0.687017620313142,
           0.6389024243145635,
           0.7115312852950875,
           0.7061099472478122,
           0.6172773455793796,
           0.6672893246539684,
           0.6473579127582075,
           0.7054093869316118,
           0.8198609599057588,
           0.7601187511016558,
           0.5969231131424555,
           0.6823413960915305,
           0.7487889506917481,
           0.7933647388327801,
           0.6306767508555826,
           0.593234341734125,
           0.7031706559288016,
           0.6576784517111667,
           0.7450942479980984,
           0.6982062163599688,
           0.6023576603215526,
           0.654570869479048,
           0.612025366743745,
           0.7146166243438415,
           0.6826704831625187,
           0.726095521921585,
           0.6524223564565335,
           0.6076540981844442,
           0.6270374298865163,
           0.6392627133935544,
           0.7446034178991274,
           0.6354785996240537,
           0.6949972166571387,
           0.6380744655519169,
           1.0000000000000002,
           0.6695557396668016,
           0.7258902096954193,
           0.6301939275606272,
           0.681809577266701,
           0.6979231770600098,
           0.6376274978631872,
           0.611790396648948
          ],
          [
           0.8180268438447331,
           0.7867640568775534,
           0.7874316973845867,
           0.7418827488651618,
           0.8266647777359741,
           0.794028258178544,
           0.6718701458122934,
           0.8259103768540398,
           0.7813782355364987,
           0.8478880342317205,
           0.7549466943104537,
           0.7743239219655065,
           0.6809630990876571,
           0.6787479064499803,
           0.6484837511975692,
           0.6430218112093039,
           0.5346591376976113,
           0.779830210610881,
           0.7450679665696007,
           0.7378241044424941,
           0.706974670088918,
           0.6335984495735345,
           0.7465268554166973,
           0.6926614726606871,
           0.7323124895297262,
           0.6317761104386859,
           0.6957299676577476,
           0.7289564102513734,
           0.7249167785328796,
           0.6859370457595841,
           0.7069189557597497,
           0.8052617901258314,
           0.7049259748603021,
           0.7513703052399477,
           0.6186910240323089,
           0.6695557396668016,
           0.9999999999999998,
           0.6702174291573796,
           0.7123995633795216,
           0.6406598834804,
           0.7124048649538299,
           0.681648006155787,
           0.6398391800757766
          ],
          [
           0.7625435201200943,
           0.7570915832760046,
           0.6612586581071966,
           0.7673628576289522,
           0.7443524306962209,
           0.6729993132844694,
           0.7236900047501664,
           0.6860828380118713,
           0.7204804574873508,
           0.7410636403755934,
           0.6946942728092247,
           0.5902304762741016,
           0.7109633611714011,
           0.6762501484188566,
           0.6882309105972105,
           0.6965948106529538,
           0.6218652700771259,
           0.7458211568183355,
           0.6528110719883914,
           0.7586182011412338,
           0.7114129105326013,
           0.6420083931638291,
           0.6935597952783711,
           0.6635803419590828,
           0.7892194702768862,
           0.6162814720393954,
           0.6636761332832585,
           0.6609555396638334,
           0.6049491339533335,
           0.6713208651066219,
           0.7022670425817644,
           0.7582688337415104,
           0.6611083845885618,
           0.6939295244449564,
           0.6123018940698268,
           0.7258902096954193,
           0.6702174291573796,
           0.9999999999999998,
           0.6539869993702708,
           0.7108113472103083,
           0.7166949829836786,
           0.6488590154295609,
           0.6567896214783326
          ],
          [
           0.7348657486753091,
           0.7027871764789179,
           0.7257181613026088,
           0.6954412442031283,
           0.7441817420316913,
           0.6363181168368665,
           0.66371170617261,
           0.690804258977914,
           0.7207852074906117,
           0.7328302381211513,
           0.715724567143527,
           0.5948966727439235,
           0.7061283282758432,
           0.6178186835809475,
           0.6090398962891495,
           0.7095765342100233,
           0.5708727711629998,
           0.6887776909453567,
           0.6661445793934113,
           0.7380789928249929,
           0.6327537263056211,
           0.6455878299557818,
           0.7000078048301193,
           0.653304538064647,
           0.7220590606859499,
           0.5322949906077395,
           0.6687938083742551,
           0.6739770748223782,
           0.6719893002479498,
           0.6897169693314111,
           0.6899207389633892,
           0.7314582512418223,
           0.7541252020640691,
           0.7213816430922224,
           0.6285218279537919,
           0.6301939275606272,
           0.7123995633795216,
           0.6539869993702708,
           1,
           0.6270498750304121,
           0.7024546635975305,
           0.6422122422133194,
           0.5959420364449095
          ],
          [
           0.703931000168331,
           0.7101116982671918,
           0.6230198925067703,
           0.7470395939896946,
           0.7355471795365163,
           0.627433392118965,
           0.6454200657791294,
           0.6038407260994019,
           0.6747293553207449,
           0.7136574481862984,
           0.660295400376151,
           0.5940235994100997,
           0.6432365352476903,
           0.663272451200606,
           0.5946765013093664,
           0.5838935982634222,
           0.6028009393592575,
           0.6773298458175796,
           0.6121278300408121,
           0.6759189439870055,
           0.6826482822236138,
           0.6022634113639609,
           0.6499918908509087,
           0.6379960111934122,
           0.779782573808936,
           0.6490134689589953,
           0.6319089192144369,
           0.6209090222113943,
           0.6160480064497855,
           0.6449407183863795,
           0.6586725568347933,
           0.7026028641035369,
           0.6217550786831086,
           0.6624205967615218,
           0.5914033399868962,
           0.681809577266701,
           0.6406598834804,
           0.7108113472103083,
           0.6270498750304121,
           0.9999999999999996,
           0.7076239992415383,
           0.674854686299359,
           0.5595955649909721
          ],
          [
           0.8356601642623226,
           0.8579448697878337,
           0.7520756478060889,
           0.7635792351181432,
           0.7802954527886329,
           0.7249794873946711,
           0.7729366361745496,
           0.7439750477964142,
           0.7795500153751087,
           0.7707367747038492,
           0.6759474110457037,
           0.6463176703283318,
           0.7189400736845561,
           0.6993271334854163,
           0.6548483854598547,
           0.6886656549155198,
           0.5957720902104127,
           0.7653560986740835,
           0.7266345118281088,
           0.7469718919266192,
           0.6882717576477068,
           0.6718059089096245,
           0.7511575953908267,
           0.7141462036868975,
           0.7950804586136441,
           0.6372883508516345,
           0.6501986022456417,
           0.7292964126018688,
           0.67694713225525,
           0.6844035193966123,
           0.7280797421756431,
           0.7841642105707051,
           0.7837008722338756,
           0.7879651754202943,
           0.605396351361206,
           0.6979231770600098,
           0.7124048649538299,
           0.7166949829836786,
           0.7024546635975305,
           0.7076239992415383,
           1.0000000000000002,
           0.6934851762143851,
           0.6227340206468284
          ],
          [
           0.7594434124452679,
           0.7193817891108358,
           0.6902391053144683,
           0.6870062288126279,
           0.7910665132763107,
           0.6406288907819198,
           0.6310314419321095,
           0.6792036039644875,
           0.7819444346147563,
           0.7370652098442847,
           0.6850073565330501,
           0.6503196703196487,
           0.6568056490122305,
           0.7396657272759207,
           0.5942905165104881,
           0.6541359070119047,
           0.531490252974547,
           0.7817563474116827,
           0.7246956424608879,
           0.7291581851449,
           0.8083460176668978,
           0.6216343802432746,
           0.717074327556543,
           0.6808968419253103,
           0.6810687080830915,
           0.6440955351511519,
           0.6741037655546704,
           0.6687661917835581,
           0.6956480189231888,
           0.6875849230418833,
           0.6535819259576898,
           0.7987409172554558,
           0.6494003199332874,
           0.7753855379422554,
           0.6095924341230589,
           0.6376274978631872,
           0.681648006155787,
           0.6488590154295609,
           0.6422122422133194,
           0.674854686299359,
           0.6934851762143851,
           1.0000000000000002,
           0.6429021917331391
          ],
          [
           0.71841364043696,
           0.6910007899437184,
           0.6481995657104328,
           0.6753306505895391,
           0.6724706643263201,
           0.6482133978117655,
           0.6093807366166921,
           0.620267190241754,
           0.8117647892978646,
           0.6789359972038582,
           0.5922792479693226,
           0.552811913462448,
           0.6197918884080678,
           0.6543209289748793,
           0.548967846588187,
           0.6493460876845096,
           0.5231906658564143,
           0.6693572652533171,
           0.6474675658104954,
           0.751999030929531,
           0.6066897845458658,
           0.5967327611970371,
           0.6462538293989571,
           0.639094901115679,
           0.6706426998793266,
           0.5551877826149723,
           0.5696543183900813,
           0.7349058050799742,
           0.6611601621814613,
           0.6157897581027614,
           0.6208306958927579,
           0.7362067175577311,
           0.6287005155973653,
           0.6929967501618486,
           0.5467558469679035,
           0.611790396648948,
           0.6398391800757766,
           0.6567896214783326,
           0.5959420364449095,
           0.5595955649909721,
           0.6227340206468284,
           0.6429021917331391,
           1
          ]
         ]
        }
       ],
       "layout": {
        "coloraxis": {
         "colorbar": {
          "title": {
           "text": "Similarity Score"
          }
         },
         "colorscale": [
          [
           0,
           "rgb(247,252,240)"
          ],
          [
           0.125,
           "rgb(224,243,219)"
          ],
          [
           0.25,
           "rgb(204,235,197)"
          ],
          [
           0.375,
           "rgb(168,221,181)"
          ],
          [
           0.5,
           "rgb(123,204,196)"
          ],
          [
           0.625,
           "rgb(78,179,211)"
          ],
          [
           0.75,
           "rgb(43,140,190)"
          ],
          [
           0.875,
           "rgb(8,104,172)"
          ],
          [
           1,
           "rgb(8,64,129)"
          ]
         ]
        },
        "height": 800,
        "hoverlabel": {
         "bgcolor": "white",
         "font": {
          "family": "Rockwell",
          "size": 16
         }
        },
        "legend": {
         "title": {
          "text": "Trend"
         }
        },
        "margin": {
         "t": 60
        },
        "showlegend": true,
        "template": {
         "data": {
          "bar": [
           {
            "error_x": {
             "color": "#2a3f5f"
            },
            "error_y": {
             "color": "#2a3f5f"
            },
            "marker": {
             "line": {
              "color": "#E5ECF6",
              "width": 0.5
             },
             "pattern": {
              "fillmode": "overlay",
              "size": 10,
              "solidity": 0.2
             }
            },
            "type": "bar"
           }
          ],
          "barpolar": [
           {
            "marker": {
             "line": {
              "color": "#E5ECF6",
              "width": 0.5
             },
             "pattern": {
              "fillmode": "overlay",
              "size": 10,
              "solidity": 0.2
             }
            },
            "type": "barpolar"
           }
          ],
          "carpet": [
           {
            "aaxis": {
             "endlinecolor": "#2a3f5f",
             "gridcolor": "white",
             "linecolor": "white",
             "minorgridcolor": "white",
             "startlinecolor": "#2a3f5f"
            },
            "baxis": {
             "endlinecolor": "#2a3f5f",
             "gridcolor": "white",
             "linecolor": "white",
             "minorgridcolor": "white",
             "startlinecolor": "#2a3f5f"
            },
            "type": "carpet"
           }
          ],
          "choropleth": [
           {
            "colorbar": {
             "outlinewidth": 0,
             "ticks": ""
            },
            "type": "choropleth"
           }
          ],
          "contour": [
           {
            "colorbar": {
             "outlinewidth": 0,
             "ticks": ""
            },
            "colorscale": [
             [
              0,
              "#0d0887"
             ],
             [
              0.1111111111111111,
              "#46039f"
             ],
             [
              0.2222222222222222,
              "#7201a8"
             ],
             [
              0.3333333333333333,
              "#9c179e"
             ],
             [
              0.4444444444444444,
              "#bd3786"
             ],
             [
              0.5555555555555556,
              "#d8576b"
             ],
             [
              0.6666666666666666,
              "#ed7953"
             ],
             [
              0.7777777777777778,
              "#fb9f3a"
             ],
             [
              0.8888888888888888,
              "#fdca26"
             ],
             [
              1,
              "#f0f921"
             ]
            ],
            "type": "contour"
           }
          ],
          "contourcarpet": [
           {
            "colorbar": {
             "outlinewidth": 0,
             "ticks": ""
            },
            "type": "contourcarpet"
           }
          ],
          "heatmap": [
           {
            "colorbar": {
             "outlinewidth": 0,
             "ticks": ""
            },
            "colorscale": [
             [
              0,
              "#0d0887"
             ],
             [
              0.1111111111111111,
              "#46039f"
             ],
             [
              0.2222222222222222,
              "#7201a8"
             ],
             [
              0.3333333333333333,
              "#9c179e"
             ],
             [
              0.4444444444444444,
              "#bd3786"
             ],
             [
              0.5555555555555556,
              "#d8576b"
             ],
             [
              0.6666666666666666,
              "#ed7953"
             ],
             [
              0.7777777777777778,
              "#fb9f3a"
             ],
             [
              0.8888888888888888,
              "#fdca26"
             ],
             [
              1,
              "#f0f921"
             ]
            ],
            "type": "heatmap"
           }
          ],
          "heatmapgl": [
           {
            "colorbar": {
             "outlinewidth": 0,
             "ticks": ""
            },
            "colorscale": [
             [
              0,
              "#0d0887"
             ],
             [
              0.1111111111111111,
              "#46039f"
             ],
             [
              0.2222222222222222,
              "#7201a8"
             ],
             [
              0.3333333333333333,
              "#9c179e"
             ],
             [
              0.4444444444444444,
              "#bd3786"
             ],
             [
              0.5555555555555556,
              "#d8576b"
             ],
             [
              0.6666666666666666,
              "#ed7953"
             ],
             [
              0.7777777777777778,
              "#fb9f3a"
             ],
             [
              0.8888888888888888,
              "#fdca26"
             ],
             [
              1,
              "#f0f921"
             ]
            ],
            "type": "heatmapgl"
           }
          ],
          "histogram": [
           {
            "marker": {
             "pattern": {
              "fillmode": "overlay",
              "size": 10,
              "solidity": 0.2
             }
            },
            "type": "histogram"
           }
          ],
          "histogram2d": [
           {
            "colorbar": {
             "outlinewidth": 0,
             "ticks": ""
            },
            "colorscale": [
             [
              0,
              "#0d0887"
             ],
             [
              0.1111111111111111,
              "#46039f"
             ],
             [
              0.2222222222222222,
              "#7201a8"
             ],
             [
              0.3333333333333333,
              "#9c179e"
             ],
             [
              0.4444444444444444,
              "#bd3786"
             ],
             [
              0.5555555555555556,
              "#d8576b"
             ],
             [
              0.6666666666666666,
              "#ed7953"
             ],
             [
              0.7777777777777778,
              "#fb9f3a"
             ],
             [
              0.8888888888888888,
              "#fdca26"
             ],
             [
              1,
              "#f0f921"
             ]
            ],
            "type": "histogram2d"
           }
          ],
          "histogram2dcontour": [
           {
            "colorbar": {
             "outlinewidth": 0,
             "ticks": ""
            },
            "colorscale": [
             [
              0,
              "#0d0887"
             ],
             [
              0.1111111111111111,
              "#46039f"
             ],
             [
              0.2222222222222222,
              "#7201a8"
             ],
             [
              0.3333333333333333,
              "#9c179e"
             ],
             [
              0.4444444444444444,
              "#bd3786"
             ],
             [
              0.5555555555555556,
              "#d8576b"
             ],
             [
              0.6666666666666666,
              "#ed7953"
             ],
             [
              0.7777777777777778,
              "#fb9f3a"
             ],
             [
              0.8888888888888888,
              "#fdca26"
             ],
             [
              1,
              "#f0f921"
             ]
            ],
            "type": "histogram2dcontour"
           }
          ],
          "mesh3d": [
           {
            "colorbar": {
             "outlinewidth": 0,
             "ticks": ""
            },
            "type": "mesh3d"
           }
          ],
          "parcoords": [
           {
            "line": {
             "colorbar": {
              "outlinewidth": 0,
              "ticks": ""
             }
            },
            "type": "parcoords"
           }
          ],
          "pie": [
           {
            "automargin": true,
            "type": "pie"
           }
          ],
          "scatter": [
           {
            "fillpattern": {
             "fillmode": "overlay",
             "size": 10,
             "solidity": 0.2
            },
            "type": "scatter"
           }
          ],
          "scatter3d": [
           {
            "line": {
             "colorbar": {
              "outlinewidth": 0,
              "ticks": ""
             }
            },
            "marker": {
             "colorbar": {
              "outlinewidth": 0,
              "ticks": ""
             }
            },
            "type": "scatter3d"
           }
          ],
          "scattercarpet": [
           {
            "marker": {
             "colorbar": {
              "outlinewidth": 0,
              "ticks": ""
             }
            },
            "type": "scattercarpet"
           }
          ],
          "scattergeo": [
           {
            "marker": {
             "colorbar": {
              "outlinewidth": 0,
              "ticks": ""
             }
            },
            "type": "scattergeo"
           }
          ],
          "scattergl": [
           {
            "marker": {
             "colorbar": {
              "outlinewidth": 0,
              "ticks": ""
             }
            },
            "type": "scattergl"
           }
          ],
          "scattermapbox": [
           {
            "marker": {
             "colorbar": {
              "outlinewidth": 0,
              "ticks": ""
             }
            },
            "type": "scattermapbox"
           }
          ],
          "scatterpolar": [
           {
            "marker": {
             "colorbar": {
              "outlinewidth": 0,
              "ticks": ""
             }
            },
            "type": "scatterpolar"
           }
          ],
          "scatterpolargl": [
           {
            "marker": {
             "colorbar": {
              "outlinewidth": 0,
              "ticks": ""
             }
            },
            "type": "scatterpolargl"
           }
          ],
          "scatterternary": [
           {
            "marker": {
             "colorbar": {
              "outlinewidth": 0,
              "ticks": ""
             }
            },
            "type": "scatterternary"
           }
          ],
          "surface": [
           {
            "colorbar": {
             "outlinewidth": 0,
             "ticks": ""
            },
            "colorscale": [
             [
              0,
              "#0d0887"
             ],
             [
              0.1111111111111111,
              "#46039f"
             ],
             [
              0.2222222222222222,
              "#7201a8"
             ],
             [
              0.3333333333333333,
              "#9c179e"
             ],
             [
              0.4444444444444444,
              "#bd3786"
             ],
             [
              0.5555555555555556,
              "#d8576b"
             ],
             [
              0.6666666666666666,
              "#ed7953"
             ],
             [
              0.7777777777777778,
              "#fb9f3a"
             ],
             [
              0.8888888888888888,
              "#fdca26"
             ],
             [
              1,
              "#f0f921"
             ]
            ],
            "type": "surface"
           }
          ],
          "table": [
           {
            "cells": {
             "fill": {
              "color": "#EBF0F8"
             },
             "line": {
              "color": "white"
             }
            },
            "header": {
             "fill": {
              "color": "#C8D4E3"
             },
             "line": {
              "color": "white"
             }
            },
            "type": "table"
           }
          ]
         },
         "layout": {
          "annotationdefaults": {
           "arrowcolor": "#2a3f5f",
           "arrowhead": 0,
           "arrowwidth": 1
          },
          "autotypenumbers": "strict",
          "coloraxis": {
           "colorbar": {
            "outlinewidth": 0,
            "ticks": ""
           }
          },
          "colorscale": {
           "diverging": [
            [
             0,
             "#8e0152"
            ],
            [
             0.1,
             "#c51b7d"
            ],
            [
             0.2,
             "#de77ae"
            ],
            [
             0.3,
             "#f1b6da"
            ],
            [
             0.4,
             "#fde0ef"
            ],
            [
             0.5,
             "#f7f7f7"
            ],
            [
             0.6,
             "#e6f5d0"
            ],
            [
             0.7,
             "#b8e186"
            ],
            [
             0.8,
             "#7fbc41"
            ],
            [
             0.9,
             "#4d9221"
            ],
            [
             1,
             "#276419"
            ]
           ],
           "sequential": [
            [
             0,
             "#0d0887"
            ],
            [
             0.1111111111111111,
             "#46039f"
            ],
            [
             0.2222222222222222,
             "#7201a8"
            ],
            [
             0.3333333333333333,
             "#9c179e"
            ],
            [
             0.4444444444444444,
             "#bd3786"
            ],
            [
             0.5555555555555556,
             "#d8576b"
            ],
            [
             0.6666666666666666,
             "#ed7953"
            ],
            [
             0.7777777777777778,
             "#fb9f3a"
            ],
            [
             0.8888888888888888,
             "#fdca26"
            ],
            [
             1,
             "#f0f921"
            ]
           ],
           "sequentialminus": [
            [
             0,
             "#0d0887"
            ],
            [
             0.1111111111111111,
             "#46039f"
            ],
            [
             0.2222222222222222,
             "#7201a8"
            ],
            [
             0.3333333333333333,
             "#9c179e"
            ],
            [
             0.4444444444444444,
             "#bd3786"
            ],
            [
             0.5555555555555556,
             "#d8576b"
            ],
            [
             0.6666666666666666,
             "#ed7953"
            ],
            [
             0.7777777777777778,
             "#fb9f3a"
            ],
            [
             0.8888888888888888,
             "#fdca26"
            ],
            [
             1,
             "#f0f921"
            ]
           ]
          },
          "colorway": [
           "#636efa",
           "#EF553B",
           "#00cc96",
           "#ab63fa",
           "#FFA15A",
           "#19d3f3",
           "#FF6692",
           "#B6E880",
           "#FF97FF",
           "#FECB52"
          ],
          "font": {
           "color": "#2a3f5f"
          },
          "geo": {
           "bgcolor": "white",
           "lakecolor": "white",
           "landcolor": "#E5ECF6",
           "showlakes": true,
           "showland": true,
           "subunitcolor": "white"
          },
          "hoverlabel": {
           "align": "left"
          },
          "hovermode": "closest",
          "mapbox": {
           "style": "light"
          },
          "paper_bgcolor": "white",
          "plot_bgcolor": "#E5ECF6",
          "polar": {
           "angularaxis": {
            "gridcolor": "white",
            "linecolor": "white",
            "ticks": ""
           },
           "bgcolor": "#E5ECF6",
           "radialaxis": {
            "gridcolor": "white",
            "linecolor": "white",
            "ticks": ""
           }
          },
          "scene": {
           "xaxis": {
            "backgroundcolor": "#E5ECF6",
            "gridcolor": "white",
            "gridwidth": 2,
            "linecolor": "white",
            "showbackground": true,
            "ticks": "",
            "zerolinecolor": "white"
           },
           "yaxis": {
            "backgroundcolor": "#E5ECF6",
            "gridcolor": "white",
            "gridwidth": 2,
            "linecolor": "white",
            "showbackground": true,
            "ticks": "",
            "zerolinecolor": "white"
           },
           "zaxis": {
            "backgroundcolor": "#E5ECF6",
            "gridcolor": "white",
            "gridwidth": 2,
            "linecolor": "white",
            "showbackground": true,
            "ticks": "",
            "zerolinecolor": "white"
           }
          },
          "shapedefaults": {
           "line": {
            "color": "#2a3f5f"
           }
          },
          "ternary": {
           "aaxis": {
            "gridcolor": "white",
            "linecolor": "white",
            "ticks": ""
           },
           "baxis": {
            "gridcolor": "white",
            "linecolor": "white",
            "ticks": ""
           },
           "bgcolor": "#E5ECF6",
           "caxis": {
            "gridcolor": "white",
            "linecolor": "white",
            "ticks": ""
           }
          },
          "title": {
           "x": 0.05
          },
          "xaxis": {
           "automargin": true,
           "gridcolor": "white",
           "linecolor": "white",
           "ticks": "",
           "title": {
            "standoff": 15
           },
           "zerolinecolor": "white",
           "zerolinewidth": 2
          },
          "yaxis": {
           "automargin": true,
           "gridcolor": "white",
           "linecolor": "white",
           "ticks": "",
           "title": {
            "standoff": 15
           },
           "zerolinecolor": "white",
           "zerolinewidth": 2
          }
         }
        },
        "title": {
         "font": {
          "color": "Black",
          "size": 22
         },
         "text": "<b>Similarity Matrix</b>",
         "x": 0.55,
         "xanchor": "center",
         "y": 0.95,
         "yanchor": "top"
        },
        "width": 800,
        "xaxis": {
         "anchor": "y",
         "constrain": "domain",
         "domain": [
          0,
          1
         ],
         "scaleanchor": "y"
        },
        "yaxis": {
         "anchor": "x",
         "autorange": "reversed",
         "constrain": "domain",
         "domain": [
          0,
          1
         ]
        }
       }
      }
     },
     "metadata": {},
     "output_type": "display_data"
    }
   ],
   "source": [
    "model.visualize_heatmap()"
   ]
  },
  {
   "cell_type": "code",
   "execution_count": 48,
   "metadata": {},
   "outputs": [
    {
     "data": {
      "application/vnd.plotly.v1+json": {
       "config": {
        "plotlyServerURL": "https://plot.ly"
       },
       "data": [
        {
         "hoverinfo": "text",
         "hovertext": [
          "<b>Topic 0</b><br>Words: of, technology, the, and, teachers",
          "<b>Topic 0</b><br>Words: teachers, and, ict, technology, of",
          "<b>Topic 0</b><br>Words: teachers, technology, call, and, of",
          "<b>Topic 0</b><br>Words: teachers, technology, tpack, the, of",
          "<b>Topic 0</b><br>Words: teachers, call, technology, language, of",
          "<b>Topic 0</b><br>Words: technology, the, of, teachers, and",
          "<b>Topic 0</b><br>Words: technology, call, use, language, teachers",
          "<b>Topic 0</b><br>Words: technology, language, call, teachers, of",
          "<b>Topic 0</b><br>Words: technology, teachers, the, and, of",
          "<b>Topic 0</b><br>Words: tpack, teachers, technology, in, and",
          "<b>Topic 0</b><br>Words: cdl, ve, technologies, 12, districts"
         ],
         "marker": {
          "color": "#E69F00"
         },
         "mode": "lines",
         "name": "0_technology_teachers_of_and",
         "type": "scatter",
         "x": [
          2013,
          2014,
          2015,
          2016,
          2017,
          2018,
          2019,
          2020,
          2021,
          2022,
          2023
         ],
         "y": [
          32,
          14,
          14,
          22,
          14,
          13,
          6,
          9,
          10,
          10,
          2
         ]
        },
        {
         "hoverinfo": "text",
         "hovertext": [
          "<b>Topic 1</b><br>Words: information, program, is, systems, the",
          "<b>Topic 1</b><br>Words: information, systems, is, it, of",
          "<b>Topic 1</b><br>Words: is, business, cis, of, information",
          "<b>Topic 1</b><br>Words: is, information, the, to, of",
          "<b>Topic 1</b><br>Words: is, information, majors, major, systems",
          "<b>Topic 1</b><br>Words: information, systems, is, job, and",
          "<b>Topic 1</b><br>Words: information, systems, is, and, the",
          "<b>Topic 1</b><br>Words: information, systems, to, business, is",
          "<b>Topic 1</b><br>Words: bis, internship, and, the, of",
          "<b>Topic 1</b><br>Words: digital, information, skills, is, to",
          "<b>Topic 1</b><br>Words: engineering, job, industry, mechanical, laboratories"
         ],
         "marker": {
          "color": "#56B4E9"
         },
         "mode": "lines",
         "name": "1_information_is_systems_the",
         "type": "scatter",
         "x": [
          2013,
          2014,
          2015,
          2016,
          2017,
          2018,
          2019,
          2020,
          2021,
          2022,
          2023
         ],
         "y": [
          14,
          19,
          14,
          11,
          12,
          13,
          16,
          7,
          6,
          13,
          1
         ]
        },
        {
         "hoverinfo": "text",
         "hovertext": [
          "<b>Topic 2</b><br>Words: and, intercultural, chinese, the, cultural",
          "<b>Topic 2</b><br>Words: intercultural, the, and, chinese, of",
          "<b>Topic 2</b><br>Words: intercultural, telecollaboration, and, of, the",
          "<b>Topic 2</b><br>Words: telecollaboration, intercultural, project, the, of",
          "<b>Topic 2</b><br>Words: intercultural, telecollaboration, communication, and, of",
          "<b>Topic 2</b><br>Words: intercultural, telecollaboration, telecollaborative, icc, and",
          "<b>Topic 2</b><br>Words: intercultural, telecollaboration, icc, and, in",
          "<b>Topic 2</b><br>Words: telecollaboration, intercultural, and, their, of",
          "<b>Topic 2</b><br>Words: intercultural, cultural, and, in, of",
          "<b>Topic 2</b><br>Words: emotions, telecollaborative, the, telecollaboration, of"
         ],
         "marker": {
          "color": "#009E73"
         },
         "mode": "lines",
         "name": "2_intercultural_telecollaboration_and_th...",
         "type": "scatter",
         "x": [
          2013,
          2014,
          2015,
          2016,
          2017,
          2018,
          2019,
          2020,
          2021,
          2022
         ],
         "y": [
          7,
          9,
          7,
          9,
          8,
          12,
          7,
          8,
          7,
          7
         ]
        },
        {
         "hoverinfo": "text",
         "hovertext": [
          "<b>Topic 3</b><br>Words: services, data, business, library, analytics",
          "<b>Topic 3</b><br>Words: data, big, analytics, unstructured, business",
          "<b>Topic 3</b><br>Words: analytics, data, business, big, curriculum",
          "<b>Topic 3</b><br>Words: data, analytics, big, visualization, business",
          "<b>Topic 3</b><br>Words: analytics, data, business, big, as",
          "<b>Topic 3</b><br>Words: data, analytics, business, big, to",
          "<b>Topic 3</b><br>Words: analytics, data, business, visualization, for",
          "<b>Topic 3</b><br>Words: analytics, data, business, to, the",
          "<b>Topic 3</b><br>Words: analytics, data, business, big, to",
          "<b>Topic 3</b><br>Words: analytics, data, business, dm, to",
          "<b>Topic 3</b><br>Words: intelligent, ml, machine, data, analytics"
         ],
         "marker": {
          "color": "#F0E442"
         },
         "mode": "lines",
         "name": "3_analytics_data_business_big",
         "type": "scatter",
         "x": [
          2013,
          2014,
          2015,
          2016,
          2017,
          2018,
          2019,
          2020,
          2021,
          2022,
          2023
         ],
         "y": [
          3,
          3,
          9,
          8,
          5,
          9,
          9,
          13,
          7,
          8,
          1
         ]
        },
        {
         "hoverinfo": "text",
         "hovertext": [
          "<b>Topic 4</b><br>Words: scmc, communication, task, synchronous, proficiency",
          "<b>Topic 4</b><br>Words: communication, scmc, face, learners, in",
          "<b>Topic 4</b><br>Words: task, f2f, chat, discourse, language",
          "<b>Topic 4</b><br>Words: scmc, csi, based, css, text",
          "<b>Topic 4</b><br>Words: task, scmc, learners, face, communication",
          "<b>Topic 4</b><br>Words: task, interactional, negotiation, learners, oral",
          "<b>Topic 4</b><br>Words: vc, presentational, fluency, f2f, tasks",
          "<b>Topic 4</b><br>Words: task, learners, selt, oral, language",
          "<b>Topic 4</b><br>Words: spanish, etandem, language, loewen, nns",
          "<b>Topic 4</b><br>Words: recasts, ftf, scmc, uptake, condition"
         ],
         "marker": {
          "color": "#D55E00"
         },
         "mode": "lines",
         "name": "4_task_scmc_learners_communication",
         "type": "scatter",
         "x": [
          2013,
          2014,
          2015,
          2016,
          2017,
          2018,
          2019,
          2020,
          2021,
          2022
         ],
         "y": [
          6,
          6,
          5,
          3,
          11,
          7,
          2,
          7,
          3,
          1
         ]
        },
        {
         "hoverinfo": "text",
         "hovertext": [
          "<b>Topic 5</b><br>Words: linking, adverbials, ddl, corpus, corpora",
          "<b>Topic 5</b><br>Words: corpus, corpora, ddl, the, use",
          "<b>Topic 5</b><br>Words: corpus, bilingual, of, english, word",
          "<b>Topic 5</b><br>Words: corpus, collocation, ddl, concordancing, collocations",
          "<b>Topic 5</b><br>Words: corpus, corpora, ddl, use, concordance",
          "<b>Topic 5</b><br>Words: ddl, overgenerated, corpus, grammar, their",
          "<b>Topic 5</b><br>Words: corpus, ddl, corpora, query, collocation",
          "<b>Topic 5</b><br>Words: b2, collocation, tool, level, bundles",
          "<b>Topic 5</b><br>Words: corpus, corpora, collocation, quot, of",
          "<b>Topic 5</b><br>Words: corpus, corpora, ddl, normalisation, aided",
          "<b>Topic 5</b><br>Words: corpus, cl, corpora, teachers, ddl"
         ],
         "marker": {
          "color": "#0072B2"
         },
         "mode": "lines",
         "name": "5_corpus_corpora_ddl_of",
         "type": "scatter",
         "x": [
          2013,
          2014,
          2015,
          2016,
          2017,
          2018,
          2019,
          2020,
          2021,
          2022,
          2023
         ],
         "y": [
          3,
          8,
          5,
          8,
          9,
          1,
          4,
          2,
          7,
          2,
          2
         ]
        },
        {
         "hoverinfo": "text",
         "hovertext": [
          "<b>Topic 6</b><br>Words: security, cybersecurity, information, the, of",
          "<b>Topic 6</b><br>Words: security, case, information, architecture, cybersecurity",
          "<b>Topic 6</b><br>Words: cybersecurity, security, topics, threats, information",
          "<b>Topic 6</b><br>Words: security, infosec, cybersecurity, laboratory, camp",
          "<b>Topic 6</b><br>Words: security, cybersecurity, policies, certifications, cdcs",
          "<b>Topic 6</b><br>Words: security, cybersecurity, cyber, to, for",
          "<b>Topic 6</b><br>Words: security, cybersecurity, cissp, of, the",
          "<b>Topic 6</b><br>Words: cybersecurity, security, jobs, information, in",
          "<b>Topic 6</b><br>Words: cybersecurity, security, abet, accreditation, cyber",
          "<b>Topic 6</b><br>Words: cyber, insurance, risk, cybersecurity, debilitation"
         ],
         "marker": {
          "color": "#CC79A7"
         },
         "mode": "lines",
         "name": "6_security_cybersecurity_information_to",
         "type": "scatter",
         "x": [
          2013,
          2014,
          2015,
          2016,
          2017,
          2018,
          2019,
          2020,
          2021,
          2022
         ],
         "y": [
          10,
          4,
          5,
          4,
          3,
          7,
          3,
          7,
          6,
          1
         ]
        },
        {
         "hoverinfo": "text",
         "hovertext": [
          "<b>Topic 7</b><br>Words: pronunciation, speech, listening, indices, mispronunciations",
          "<b>Topic 7</b><br>Words: pronunciation, tongue, production, speech, acoustic",
          "<b>Topic 7</b><br>Words: pronunciation, recognition, asr, speech, word",
          "<b>Topic 7</b><br>Words: pronunciation, training, instruction, and, word",
          "<b>Topic 7</b><br>Words: pronunciation, wrs, listening, cf, learners",
          "<b>Topic 7</b><br>Words: pakistan, psl, deaf, perception, people",
          "<b>Topic 7</b><br>Words: pronunciation, capt, asr, dictation, the",
          "<b>Topic 7</b><br>Words: pronunciation, listening, training, learners, asr",
          "<b>Topic 7</b><br>Words: transcription, allophonic, listening, with, learners",
          "<b>Topic 7</b><br>Words: pronunciation, listening, asr, eg, speech",
          "<b>Topic 7</b><br>Words: asr, listeners, srt, speech, l1"
         ],
         "marker": {
          "color": "#E69F00"
         },
         "mode": "lines",
         "name": "7_pronunciation_asr_speech_listening",
         "type": "scatter",
         "x": [
          2013,
          2014,
          2015,
          2016,
          2017,
          2018,
          2019,
          2020,
          2021,
          2022,
          2023
         ],
         "y": [
          4,
          6,
          7,
          7,
          6,
          2,
          4,
          5,
          2,
          5,
          2
         ]
        },
        {
         "hoverinfo": "text",
         "hovertext": [
          "<b>Topic 8</b><br>Words: wiki, writing, collaborative, wikis, students",
          "<b>Topic 8</b><br>Words: writing, collaborative, wiki, in, the",
          "<b>Topic 8</b><br>Words: writing, peer, advice, feedback, the",
          "<b>Topic 8</b><br>Words: writing, peer, collaborative, feedback, comments",
          "<b>Topic 8</b><br>Words: writing, wiki, collaborative, comments, peer",
          "<b>Topic 8</b><br>Words: writing, collaborative, peer, feedback, wiki",
          "<b>Topic 8</b><br>Words: writing, wiki, collaborative, task, circles",
          "<b>Topic 8</b><br>Words: writing, feedback, comments, peer, essay",
          "<b>Topic 8</b><br>Words: writing, comments, peer, cw, lecturer",
          "<b>Topic 8</b><br>Words: automated, regulation, writing, appropriation, feedback"
         ],
         "marker": {
          "color": "#56B4E9"
         },
         "mode": "lines",
         "name": "8_writing_collaborative_wiki_peer",
         "type": "scatter",
         "x": [
          2013,
          2014,
          2015,
          2016,
          2017,
          2018,
          2019,
          2020,
          2021,
          2022
         ],
         "y": [
          5,
          6,
          5,
          7,
          7,
          6,
          5,
          2,
          4,
          2
         ]
        },
        {
         "hoverinfo": "text",
         "hovertext": [
          "<b>Topic 9</b><br>Words: mobile, learning, mall, language, of",
          "<b>Topic 9</b><br>Words: mall, mobile, application, learning, language",
          "<b>Topic 9</b><br>Words: mall, studies, mobile, learning, research",
          "<b>Topic 9</b><br>Words: vocabulary, mobile, learning, conjugating, concept",
          "<b>Topic 9</b><br>Words: mobile, learning, language, technologies, apps",
          "<b>Topic 9</b><br>Words: mobile, learning, mall, apps, language",
          "<b>Topic 9</b><br>Words: mobile, learning, mall, duolingo, vocabulary",
          "<b>Topic 9</b><br>Words: mobile, mall, l2, learning, app",
          "<b>Topic 9</b><br>Words: mobile, mall, learning, melr, language",
          "<b>Topic 9</b><br>Words: mobile, learning, mall, language, assisted"
         ],
         "marker": {
          "color": "#009E73"
         },
         "mode": "lines",
         "name": "9_mobile_mall_learning_language",
         "type": "scatter",
         "x": [
          2013,
          2014,
          2015,
          2016,
          2017,
          2018,
          2019,
          2020,
          2021,
          2022
         ],
         "y": [
          8,
          4,
          2,
          3,
          4,
          6,
          5,
          4,
          4,
          6
         ]
        }
       ],
       "layout": {
        "height": 450,
        "hoverlabel": {
         "bgcolor": "white",
         "font": {
          "family": "Rockwell",
          "size": 16
         }
        },
        "legend": {
         "title": {
          "text": "<b>Global Topic Representation"
         }
        },
        "template": {
         "data": {
          "bar": [
           {
            "error_x": {
             "color": "rgb(36,36,36)"
            },
            "error_y": {
             "color": "rgb(36,36,36)"
            },
            "marker": {
             "line": {
              "color": "white",
              "width": 0.5
             },
             "pattern": {
              "fillmode": "overlay",
              "size": 10,
              "solidity": 0.2
             }
            },
            "type": "bar"
           }
          ],
          "barpolar": [
           {
            "marker": {
             "line": {
              "color": "white",
              "width": 0.5
             },
             "pattern": {
              "fillmode": "overlay",
              "size": 10,
              "solidity": 0.2
             }
            },
            "type": "barpolar"
           }
          ],
          "carpet": [
           {
            "aaxis": {
             "endlinecolor": "rgb(36,36,36)",
             "gridcolor": "white",
             "linecolor": "white",
             "minorgridcolor": "white",
             "startlinecolor": "rgb(36,36,36)"
            },
            "baxis": {
             "endlinecolor": "rgb(36,36,36)",
             "gridcolor": "white",
             "linecolor": "white",
             "minorgridcolor": "white",
             "startlinecolor": "rgb(36,36,36)"
            },
            "type": "carpet"
           }
          ],
          "choropleth": [
           {
            "colorbar": {
             "outlinewidth": 1,
             "tickcolor": "rgb(36,36,36)",
             "ticks": "outside"
            },
            "type": "choropleth"
           }
          ],
          "contour": [
           {
            "colorbar": {
             "outlinewidth": 1,
             "tickcolor": "rgb(36,36,36)",
             "ticks": "outside"
            },
            "colorscale": [
             [
              0,
              "#440154"
             ],
             [
              0.1111111111111111,
              "#482878"
             ],
             [
              0.2222222222222222,
              "#3e4989"
             ],
             [
              0.3333333333333333,
              "#31688e"
             ],
             [
              0.4444444444444444,
              "#26828e"
             ],
             [
              0.5555555555555556,
              "#1f9e89"
             ],
             [
              0.6666666666666666,
              "#35b779"
             ],
             [
              0.7777777777777778,
              "#6ece58"
             ],
             [
              0.8888888888888888,
              "#b5de2b"
             ],
             [
              1,
              "#fde725"
             ]
            ],
            "type": "contour"
           }
          ],
          "contourcarpet": [
           {
            "colorbar": {
             "outlinewidth": 1,
             "tickcolor": "rgb(36,36,36)",
             "ticks": "outside"
            },
            "type": "contourcarpet"
           }
          ],
          "heatmap": [
           {
            "colorbar": {
             "outlinewidth": 1,
             "tickcolor": "rgb(36,36,36)",
             "ticks": "outside"
            },
            "colorscale": [
             [
              0,
              "#440154"
             ],
             [
              0.1111111111111111,
              "#482878"
             ],
             [
              0.2222222222222222,
              "#3e4989"
             ],
             [
              0.3333333333333333,
              "#31688e"
             ],
             [
              0.4444444444444444,
              "#26828e"
             ],
             [
              0.5555555555555556,
              "#1f9e89"
             ],
             [
              0.6666666666666666,
              "#35b779"
             ],
             [
              0.7777777777777778,
              "#6ece58"
             ],
             [
              0.8888888888888888,
              "#b5de2b"
             ],
             [
              1,
              "#fde725"
             ]
            ],
            "type": "heatmap"
           }
          ],
          "heatmapgl": [
           {
            "colorbar": {
             "outlinewidth": 1,
             "tickcolor": "rgb(36,36,36)",
             "ticks": "outside"
            },
            "colorscale": [
             [
              0,
              "#440154"
             ],
             [
              0.1111111111111111,
              "#482878"
             ],
             [
              0.2222222222222222,
              "#3e4989"
             ],
             [
              0.3333333333333333,
              "#31688e"
             ],
             [
              0.4444444444444444,
              "#26828e"
             ],
             [
              0.5555555555555556,
              "#1f9e89"
             ],
             [
              0.6666666666666666,
              "#35b779"
             ],
             [
              0.7777777777777778,
              "#6ece58"
             ],
             [
              0.8888888888888888,
              "#b5de2b"
             ],
             [
              1,
              "#fde725"
             ]
            ],
            "type": "heatmapgl"
           }
          ],
          "histogram": [
           {
            "marker": {
             "line": {
              "color": "white",
              "width": 0.6
             }
            },
            "type": "histogram"
           }
          ],
          "histogram2d": [
           {
            "colorbar": {
             "outlinewidth": 1,
             "tickcolor": "rgb(36,36,36)",
             "ticks": "outside"
            },
            "colorscale": [
             [
              0,
              "#440154"
             ],
             [
              0.1111111111111111,
              "#482878"
             ],
             [
              0.2222222222222222,
              "#3e4989"
             ],
             [
              0.3333333333333333,
              "#31688e"
             ],
             [
              0.4444444444444444,
              "#26828e"
             ],
             [
              0.5555555555555556,
              "#1f9e89"
             ],
             [
              0.6666666666666666,
              "#35b779"
             ],
             [
              0.7777777777777778,
              "#6ece58"
             ],
             [
              0.8888888888888888,
              "#b5de2b"
             ],
             [
              1,
              "#fde725"
             ]
            ],
            "type": "histogram2d"
           }
          ],
          "histogram2dcontour": [
           {
            "colorbar": {
             "outlinewidth": 1,
             "tickcolor": "rgb(36,36,36)",
             "ticks": "outside"
            },
            "colorscale": [
             [
              0,
              "#440154"
             ],
             [
              0.1111111111111111,
              "#482878"
             ],
             [
              0.2222222222222222,
              "#3e4989"
             ],
             [
              0.3333333333333333,
              "#31688e"
             ],
             [
              0.4444444444444444,
              "#26828e"
             ],
             [
              0.5555555555555556,
              "#1f9e89"
             ],
             [
              0.6666666666666666,
              "#35b779"
             ],
             [
              0.7777777777777778,
              "#6ece58"
             ],
             [
              0.8888888888888888,
              "#b5de2b"
             ],
             [
              1,
              "#fde725"
             ]
            ],
            "type": "histogram2dcontour"
           }
          ],
          "mesh3d": [
           {
            "colorbar": {
             "outlinewidth": 1,
             "tickcolor": "rgb(36,36,36)",
             "ticks": "outside"
            },
            "type": "mesh3d"
           }
          ],
          "parcoords": [
           {
            "line": {
             "colorbar": {
              "outlinewidth": 1,
              "tickcolor": "rgb(36,36,36)",
              "ticks": "outside"
             }
            },
            "type": "parcoords"
           }
          ],
          "pie": [
           {
            "automargin": true,
            "type": "pie"
           }
          ],
          "scatter": [
           {
            "fillpattern": {
             "fillmode": "overlay",
             "size": 10,
             "solidity": 0.2
            },
            "type": "scatter"
           }
          ],
          "scatter3d": [
           {
            "line": {
             "colorbar": {
              "outlinewidth": 1,
              "tickcolor": "rgb(36,36,36)",
              "ticks": "outside"
             }
            },
            "marker": {
             "colorbar": {
              "outlinewidth": 1,
              "tickcolor": "rgb(36,36,36)",
              "ticks": "outside"
             }
            },
            "type": "scatter3d"
           }
          ],
          "scattercarpet": [
           {
            "marker": {
             "colorbar": {
              "outlinewidth": 1,
              "tickcolor": "rgb(36,36,36)",
              "ticks": "outside"
             }
            },
            "type": "scattercarpet"
           }
          ],
          "scattergeo": [
           {
            "marker": {
             "colorbar": {
              "outlinewidth": 1,
              "tickcolor": "rgb(36,36,36)",
              "ticks": "outside"
             }
            },
            "type": "scattergeo"
           }
          ],
          "scattergl": [
           {
            "marker": {
             "colorbar": {
              "outlinewidth": 1,
              "tickcolor": "rgb(36,36,36)",
              "ticks": "outside"
             }
            },
            "type": "scattergl"
           }
          ],
          "scattermapbox": [
           {
            "marker": {
             "colorbar": {
              "outlinewidth": 1,
              "tickcolor": "rgb(36,36,36)",
              "ticks": "outside"
             }
            },
            "type": "scattermapbox"
           }
          ],
          "scatterpolar": [
           {
            "marker": {
             "colorbar": {
              "outlinewidth": 1,
              "tickcolor": "rgb(36,36,36)",
              "ticks": "outside"
             }
            },
            "type": "scatterpolar"
           }
          ],
          "scatterpolargl": [
           {
            "marker": {
             "colorbar": {
              "outlinewidth": 1,
              "tickcolor": "rgb(36,36,36)",
              "ticks": "outside"
             }
            },
            "type": "scatterpolargl"
           }
          ],
          "scatterternary": [
           {
            "marker": {
             "colorbar": {
              "outlinewidth": 1,
              "tickcolor": "rgb(36,36,36)",
              "ticks": "outside"
             }
            },
            "type": "scatterternary"
           }
          ],
          "surface": [
           {
            "colorbar": {
             "outlinewidth": 1,
             "tickcolor": "rgb(36,36,36)",
             "ticks": "outside"
            },
            "colorscale": [
             [
              0,
              "#440154"
             ],
             [
              0.1111111111111111,
              "#482878"
             ],
             [
              0.2222222222222222,
              "#3e4989"
             ],
             [
              0.3333333333333333,
              "#31688e"
             ],
             [
              0.4444444444444444,
              "#26828e"
             ],
             [
              0.5555555555555556,
              "#1f9e89"
             ],
             [
              0.6666666666666666,
              "#35b779"
             ],
             [
              0.7777777777777778,
              "#6ece58"
             ],
             [
              0.8888888888888888,
              "#b5de2b"
             ],
             [
              1,
              "#fde725"
             ]
            ],
            "type": "surface"
           }
          ],
          "table": [
           {
            "cells": {
             "fill": {
              "color": "rgb(237,237,237)"
             },
             "line": {
              "color": "white"
             }
            },
            "header": {
             "fill": {
              "color": "rgb(217,217,217)"
             },
             "line": {
              "color": "white"
             }
            },
            "type": "table"
           }
          ]
         },
         "layout": {
          "annotationdefaults": {
           "arrowhead": 0,
           "arrowwidth": 1
          },
          "autotypenumbers": "strict",
          "coloraxis": {
           "colorbar": {
            "outlinewidth": 1,
            "tickcolor": "rgb(36,36,36)",
            "ticks": "outside"
           }
          },
          "colorscale": {
           "diverging": [
            [
             0,
             "rgb(103,0,31)"
            ],
            [
             0.1,
             "rgb(178,24,43)"
            ],
            [
             0.2,
             "rgb(214,96,77)"
            ],
            [
             0.3,
             "rgb(244,165,130)"
            ],
            [
             0.4,
             "rgb(253,219,199)"
            ],
            [
             0.5,
             "rgb(247,247,247)"
            ],
            [
             0.6,
             "rgb(209,229,240)"
            ],
            [
             0.7,
             "rgb(146,197,222)"
            ],
            [
             0.8,
             "rgb(67,147,195)"
            ],
            [
             0.9,
             "rgb(33,102,172)"
            ],
            [
             1,
             "rgb(5,48,97)"
            ]
           ],
           "sequential": [
            [
             0,
             "#440154"
            ],
            [
             0.1111111111111111,
             "#482878"
            ],
            [
             0.2222222222222222,
             "#3e4989"
            ],
            [
             0.3333333333333333,
             "#31688e"
            ],
            [
             0.4444444444444444,
             "#26828e"
            ],
            [
             0.5555555555555556,
             "#1f9e89"
            ],
            [
             0.6666666666666666,
             "#35b779"
            ],
            [
             0.7777777777777778,
             "#6ece58"
            ],
            [
             0.8888888888888888,
             "#b5de2b"
            ],
            [
             1,
             "#fde725"
            ]
           ],
           "sequentialminus": [
            [
             0,
             "#440154"
            ],
            [
             0.1111111111111111,
             "#482878"
            ],
            [
             0.2222222222222222,
             "#3e4989"
            ],
            [
             0.3333333333333333,
             "#31688e"
            ],
            [
             0.4444444444444444,
             "#26828e"
            ],
            [
             0.5555555555555556,
             "#1f9e89"
            ],
            [
             0.6666666666666666,
             "#35b779"
            ],
            [
             0.7777777777777778,
             "#6ece58"
            ],
            [
             0.8888888888888888,
             "#b5de2b"
            ],
            [
             1,
             "#fde725"
            ]
           ]
          },
          "colorway": [
           "#1F77B4",
           "#FF7F0E",
           "#2CA02C",
           "#D62728",
           "#9467BD",
           "#8C564B",
           "#E377C2",
           "#7F7F7F",
           "#BCBD22",
           "#17BECF"
          ],
          "font": {
           "color": "rgb(36,36,36)"
          },
          "geo": {
           "bgcolor": "white",
           "lakecolor": "white",
           "landcolor": "white",
           "showlakes": true,
           "showland": true,
           "subunitcolor": "white"
          },
          "hoverlabel": {
           "align": "left"
          },
          "hovermode": "closest",
          "mapbox": {
           "style": "light"
          },
          "paper_bgcolor": "white",
          "plot_bgcolor": "white",
          "polar": {
           "angularaxis": {
            "gridcolor": "rgb(232,232,232)",
            "linecolor": "rgb(36,36,36)",
            "showgrid": false,
            "showline": true,
            "ticks": "outside"
           },
           "bgcolor": "white",
           "radialaxis": {
            "gridcolor": "rgb(232,232,232)",
            "linecolor": "rgb(36,36,36)",
            "showgrid": false,
            "showline": true,
            "ticks": "outside"
           }
          },
          "scene": {
           "xaxis": {
            "backgroundcolor": "white",
            "gridcolor": "rgb(232,232,232)",
            "gridwidth": 2,
            "linecolor": "rgb(36,36,36)",
            "showbackground": true,
            "showgrid": false,
            "showline": true,
            "ticks": "outside",
            "zeroline": false,
            "zerolinecolor": "rgb(36,36,36)"
           },
           "yaxis": {
            "backgroundcolor": "white",
            "gridcolor": "rgb(232,232,232)",
            "gridwidth": 2,
            "linecolor": "rgb(36,36,36)",
            "showbackground": true,
            "showgrid": false,
            "showline": true,
            "ticks": "outside",
            "zeroline": false,
            "zerolinecolor": "rgb(36,36,36)"
           },
           "zaxis": {
            "backgroundcolor": "white",
            "gridcolor": "rgb(232,232,232)",
            "gridwidth": 2,
            "linecolor": "rgb(36,36,36)",
            "showbackground": true,
            "showgrid": false,
            "showline": true,
            "ticks": "outside",
            "zeroline": false,
            "zerolinecolor": "rgb(36,36,36)"
           }
          },
          "shapedefaults": {
           "fillcolor": "black",
           "line": {
            "width": 0
           },
           "opacity": 0.3
          },
          "ternary": {
           "aaxis": {
            "gridcolor": "rgb(232,232,232)",
            "linecolor": "rgb(36,36,36)",
            "showgrid": false,
            "showline": true,
            "ticks": "outside"
           },
           "baxis": {
            "gridcolor": "rgb(232,232,232)",
            "linecolor": "rgb(36,36,36)",
            "showgrid": false,
            "showline": true,
            "ticks": "outside"
           },
           "bgcolor": "white",
           "caxis": {
            "gridcolor": "rgb(232,232,232)",
            "linecolor": "rgb(36,36,36)",
            "showgrid": false,
            "showline": true,
            "ticks": "outside"
           }
          },
          "title": {
           "x": 0.05
          },
          "xaxis": {
           "automargin": true,
           "gridcolor": "rgb(232,232,232)",
           "linecolor": "rgb(36,36,36)",
           "showgrid": false,
           "showline": true,
           "ticks": "outside",
           "title": {
            "standoff": 15
           },
           "zeroline": false,
           "zerolinecolor": "rgb(36,36,36)"
          },
          "yaxis": {
           "automargin": true,
           "gridcolor": "rgb(232,232,232)",
           "linecolor": "rgb(36,36,36)",
           "showgrid": false,
           "showline": true,
           "ticks": "outside",
           "title": {
            "standoff": 15
           },
           "zeroline": false,
           "zerolinecolor": "rgb(36,36,36)"
          }
         }
        },
        "title": {
         "font": {
          "color": "Black",
          "size": 22
         },
         "text": "<b>Topics over Time</b>",
         "x": 0.4,
         "xanchor": "center",
         "y": 0.95,
         "yanchor": "top"
        },
        "width": 1250,
        "xaxis": {
         "showgrid": true
        },
        "yaxis": {
         "showgrid": true,
         "title": {
          "text": "Frequency"
         }
        }
       }
      }
     },
     "metadata": {},
     "output_type": "display_data"
    }
   ],
   "source": [
    "model.visualize_topics_over_time(topics_over_time, topics=[0, 1, 2, 3, 4, 5, 6, 7, 8, 9])\n",
    "#can innclude topics changing topics_over_time TO topics_over_time, topics=[x, y, z, etc.]"
   ]
  },
  {
   "cell_type": "code",
   "execution_count": 49,
   "metadata": {},
   "outputs": [
    {
     "data": {
      "application/vnd.plotly.v1+json": {
       "config": {
        "plotlyServerURL": "https://plot.ly"
       },
       "data": [
        {
         "hoverinfo": "text",
         "hovertext": [
          "<b>Topic 10</b><br>Words: game, gaming, culture, games, playing",
          "<b>Topic 10</b><br>Words: game, games, gaming, digital, playing",
          "<b>Topic 10</b><br>Words: game, games, pupils, digital, vocabulary",
          "<b>Topic 10</b><br>Words: game, games, wow, playing, players",
          "<b>Topic 10</b><br>Words: game, games, gaming, playing, language",
          "<b>Topic 10</b><br>Words: upper, school, secondary, polish, urban",
          "<b>Topic 10</b><br>Words: vocabulary, game, l2, games, mevla",
          "<b>Topic 10</b><br>Words: gaming, game, games, quot, dgbll",
          "<b>Topic 10</b><br>Words: flow, game, dgbvl, positively, vocabulary",
          "<b>Topic 10</b><br>Words: game, games, dgbll, mechanics, digital"
         ],
         "marker": {
          "color": "#E69F00"
         },
         "mode": "lines",
         "name": "10_game_games_gaming_language",
         "type": "scatter",
         "x": [
          2013,
          2014,
          2015,
          2016,
          2017,
          2018,
          2019,
          2020,
          2021,
          2022
         ],
         "y": [
          1,
          6,
          4,
          3,
          7,
          1,
          4,
          4,
          3,
          2
         ]
        },
        {
         "hoverinfo": "text",
         "hovertext": [
          "<b>Topic 11</b><br>Words: captions, comprehension, reliance, multimedia, caption",
          "<b>Topic 11</b><br>Words: captions, captioning, comprehension, keyword, vocabulary",
          "<b>Topic 11</b><br>Words: hypermedia, captions, caption, comprehension, words",
          "<b>Topic 11</b><br>Words: vocabulary, aca, ata, l2, captions",
          "<b>Topic 11</b><br>Words: comprehension, captions, captioning, episodes, psc",
          "<b>Topic 11</b><br>Words: captioning, captions, keyword, vocabulary, learners",
          "<b>Topic 11</b><br>Words: captions, comprehension, videos, captioned, video",
          "<b>Topic 11</b><br>Words: captions, caption, vocabulary, learners, listening",
          "<b>Topic 11</b><br>Words: captions, comprehension, vlogs, vlog, pictorial",
          "<b>Topic 11</b><br>Words: captions, caption, full, keyword, proficient",
          "<b>Topic 11</b><br>Words: captions, comprehension, viewing, nonverbal, full"
         ],
         "marker": {
          "color": "#56B4E9"
         },
         "mode": "lines",
         "name": "11_captions_comprehension_captioning_voc...",
         "type": "scatter",
         "x": [
          2013,
          2014,
          2015,
          2016,
          2017,
          2018,
          2019,
          2020,
          2021,
          2022,
          2023
         ],
         "y": [
          2,
          7,
          2,
          2,
          2,
          4,
          4,
          4,
          1,
          4,
          1
         ]
        },
        {
         "hoverinfo": "text",
         "hovertext": [
          "<b>Topic 12</b><br>Words: voh, offshore, virtual, vles, serious",
          "<b>Topic 12</b><br>Words: virtual, learning, vr, environments, 3d",
          "<b>Topic 12</b><br>Words: sculpture, virtual, steel, 3dve, connection",
          "<b>Topic 12</b><br>Words: virtual, environments, authors, experiences, instructors",
          "<b>Topic 12</b><br>Words: virtual, vr, reality, augmented, talktech",
          "<b>Topic 12</b><br>Words: vr, virtual, immersive, chinese, hmd",
          "<b>Topic 12</b><br>Words: vr, ar, reality, virtual, augmented",
          "<b>Topic 12</b><br>Words: vr, reality, virtual, immersive, learning",
          "<b>Topic 12</b><br>Words: vr, virtual, immersive, learning, watchers"
         ],
         "marker": {
          "color": "#009E73"
         },
         "mode": "lines",
         "name": "12_vr_virtual_reality_learning",
         "type": "scatter",
         "x": [
          2013,
          2015,
          2016,
          2017,
          2018,
          2019,
          2020,
          2021,
          2022
         ],
         "y": [
          2,
          4,
          2,
          1,
          5,
          4,
          6,
          6,
          3
         ]
        },
        {
         "hoverinfo": "text",
         "hovertext": [
          "<b>Topic 13</b><br>Words: programming, introductory, exercises, course, lectures",
          "<b>Topic 13</b><br>Words: spacecraft, software, programming, logic, animated",
          "<b>Topic 13</b><br>Words: programming, agent, students, graded, assessments",
          "<b>Topic 13</b><br>Words: programming, misconceptions, list, introductory, software",
          "<b>Topic 13</b><br>Words: java, python, programming, textbooks, compare",
          "<b>Topic 13</b><br>Words: programming, python, assignment, introductory, codecademy",
          "<b>Topic 13</b><br>Words: programming, teaching, students, introductory, blockchain",
          "<b>Topic 13</b><br>Words: programming, python, assignments, students, introductory",
          "<b>Topic 13</b><br>Words: ai, programming, day, aaad, teaching"
         ],
         "marker": {
          "color": "#F0E442"
         },
         "mode": "lines",
         "name": "13_programming_students_introductory_pyt...",
         "type": "scatter",
         "x": [
          2013,
          2014,
          2015,
          2016,
          2017,
          2019,
          2020,
          2021,
          2022
         ],
         "y": [
          2,
          3,
          3,
          4,
          1,
          4,
          6,
          7,
          3
         ]
        },
        {
         "hoverinfo": "text",
         "hovertext": [
          "<b>Topic 14</b><br>Words: smart, phones, mobile, smartphones, students",
          "<b>Topic 14</b><br>Words: courses, access, online, smartphone, smartphones",
          "<b>Topic 14</b><br>Words: devices, tablet, mobile, smart, phones",
          "<b>Topic 14</b><br>Words: prs, design, components, participatory, mobile",
          "<b>Topic 14</b><br>Words: smartphone, phones, mobile, device, devices",
          "<b>Topic 14</b><br>Words: magazines, drawings, devices, digital, device",
          "<b>Topic 14</b><br>Words: beacons, physical, campus, web, prospective",
          "<b>Topic 14</b><br>Words: smartphones, quot, mobile, fit, students",
          "<b>Topic 14</b><br>Words: tablet, autism, cell, devices, phone",
          "<b>Topic 14</b><br>Words: mobile, beliefs, phones, teachers, professional"
         ],
         "marker": {
          "color": "#D55E00"
         },
         "mode": "lines",
         "name": "14_mobile_devices_phones_smart",
         "type": "scatter",
         "x": [
          2013,
          2014,
          2015,
          2016,
          2017,
          2018,
          2019,
          2020,
          2021,
          2022
         ],
         "y": [
          9,
          1,
          4,
          2,
          4,
          4,
          1,
          4,
          2,
          1
         ]
        },
        {
         "hoverinfo": "text",
         "hovertext": [
          "<b>Topic 15</b><br>Words: program, 2011, health, since, moddlementors",
          "<b>Topic 15</b><br>Words: emergency, disaster, online, schools, school",
          "<b>Topic 15</b><br>Words: pandemic, covid, 19, online, to",
          "<b>Topic 15</b><br>Words: pandemic, covid, 19, online, 2020",
          "<b>Topic 15</b><br>Words: pandemic, covid, 19, online, faculty",
          "<b>Topic 15</b><br>Words: slack, channels, pandemic, conversations, messages"
         ],
         "marker": {
          "color": "#0072B2"
         },
         "mode": "lines",
         "name": "15_pandemic_covid_online_19",
         "type": "scatter",
         "x": [
          2013,
          2016,
          2020,
          2021,
          2022,
          2023
         ],
         "y": [
          1,
          2,
          4,
          13,
          10,
          1
         ]
        },
        {
         "hoverinfo": "text",
         "hovertext": [
          "<b>Topic 16</b><br>Words: database, query, relational, databases, sql",
          "<b>Topic 16</b><br>Words: database, design, data, relational, inadequate",
          "<b>Topic 16</b><br>Words: database, case, data, sql, design",
          "<b>Topic 16</b><br>Words: database, data, sql, café, nosql",
          "<b>Topic 16</b><br>Words: database, carol, case, her, business",
          "<b>Topic 16</b><br>Words: database, f1, case, world, data",
          "<b>Topic 16</b><br>Words: sql, database, query, blockchain, bitcoin",
          "<b>Topic 16</b><br>Words: database, case, modeling, design, data",
          "<b>Topic 16</b><br>Words: database, theatre, indiana, theatreworks, strives",
          "<b>Topic 16</b><br>Words: database, sql, case, data, diagrams"
         ],
         "marker": {
          "color": "#CC79A7"
         },
         "mode": "lines",
         "name": "16_database_sql_query_data",
         "type": "scatter",
         "x": [
          2013,
          2014,
          2015,
          2016,
          2017,
          2018,
          2019,
          2020,
          2021,
          2022
         ],
         "y": [
          5,
          1,
          8,
          3,
          2,
          3,
          3,
          2,
          1,
          3
         ]
        },
        {
         "hoverinfo": "text",
         "hovertext": [
          "<b>Topic 17</b><br>Words: bl, oasa, blended, faculty, courses",
          "<b>Topic 17</b><br>Words: blended, mooc, summary, teachers, online",
          "<b>Topic 17</b><br>Words: blended, ukraine, we, online, poland",
          "<b>Topic 17</b><br>Words: perceived, accomplishment, factors, enjoyment, blended",
          "<b>Topic 17</b><br>Words: blended, ukrainian, discussion, spanish, the",
          "<b>Topic 17</b><br>Words: online, blended, learning, course, lmooc",
          "<b>Topic 17</b><br>Words: f2f, blended, roles, learning, managerial",
          "<b>Topic 17</b><br>Words: blended, presences, learning, coi, experiences",
          "<b>Topic 17</b><br>Words: blended, lmoocs, online, massive, course",
          "<b>Topic 17</b><br>Words: lmoocs, lmooc, attention, blended, collective"
         ],
         "marker": {
          "color": "#E69F00"
         },
         "mode": "lines",
         "name": "17_blended_online_learning_lmoocs",
         "type": "scatter",
         "x": [
          2013,
          2014,
          2015,
          2016,
          2017,
          2018,
          2019,
          2020,
          2021,
          2022
         ],
         "y": [
          3,
          3,
          2,
          1,
          2,
          5,
          1,
          2,
          8,
          3
         ]
        },
        {
         "hoverinfo": "text",
         "hovertext": [
          "<b>Topic 18</b><br>Words: flipped, classroom, class, personal, students",
          "<b>Topic 18</b><br>Words: flipped, class, lecture, classroom, quiz",
          "<b>Topic 18</b><br>Words: flipped, flip, classroom, structured, lessons",
          "<b>Topic 18</b><br>Words: flipped, classroom, wtl, wid, class",
          "<b>Topic 18</b><br>Words: flipped, classroom, the, learning, class",
          "<b>Topic 18</b><br>Words: flipped, class, classroom, in, learning",
          "<b>Topic 18</b><br>Words: flipped, classroom, writing, in, metacognitive",
          "<b>Topic 18</b><br>Words: flipped, classroom, the, in, teaching",
          "<b>Topic 18</b><br>Words: flipped, classroom, writing, studies, the"
         ],
         "marker": {
          "color": "#56B4E9"
         },
         "mode": "lines",
         "name": "18_flipped_classroom_the_class",
         "type": "scatter",
         "x": [
          2013,
          2014,
          2015,
          2016,
          2017,
          2018,
          2020,
          2021,
          2022
         ],
         "y": [
          1,
          2,
          2,
          3,
          6,
          4,
          4,
          6,
          2
         ]
        },
        {
         "hoverinfo": "text",
         "hovertext": [
          "<b>Topic 19</b><br>Words: internet, cent, per, scientists, social",
          "<b>Topic 19</b><br>Words: network, social, predictors, services, sites",
          "<b>Topic 19</b><br>Words: media, social, internet, views, dependencies",
          "<b>Topic 19</b><br>Words: internet, addiction, social, media, facebook",
          "<b>Topic 19</b><br>Words: facebook, social, media, veterans, connectedness",
          "<b>Topic 19</b><br>Words: social, media, platform, internet, confidential",
          "<b>Topic 19</b><br>Words: social, media, instagram, presence, facebook",
          "<b>Topic 19</b><br>Words: whatsapp, media, social, gradable, risks",
          "<b>Topic 19</b><br>Words: instagram, adolescents, social, media, quot",
          "<b>Topic 19</b><br>Words: media, social, twitter, educational, hashtags"
         ],
         "marker": {
          "color": "#009E73"
         },
         "mode": "lines",
         "name": "19_social_media_internet_facebook",
         "type": "scatter",
         "x": [
          2013,
          2014,
          2015,
          2016,
          2017,
          2018,
          2019,
          2020,
          2021,
          2022
         ],
         "y": [
          4,
          1,
          2,
          3,
          4,
          2,
          3,
          2,
          2,
          4
         ]
        }
       ],
       "layout": {
        "height": 450,
        "hoverlabel": {
         "bgcolor": "white",
         "font": {
          "family": "Rockwell",
          "size": 16
         }
        },
        "legend": {
         "title": {
          "text": "<b>Global Topic Representation"
         }
        },
        "template": {
         "data": {
          "bar": [
           {
            "error_x": {
             "color": "rgb(36,36,36)"
            },
            "error_y": {
             "color": "rgb(36,36,36)"
            },
            "marker": {
             "line": {
              "color": "white",
              "width": 0.5
             },
             "pattern": {
              "fillmode": "overlay",
              "size": 10,
              "solidity": 0.2
             }
            },
            "type": "bar"
           }
          ],
          "barpolar": [
           {
            "marker": {
             "line": {
              "color": "white",
              "width": 0.5
             },
             "pattern": {
              "fillmode": "overlay",
              "size": 10,
              "solidity": 0.2
             }
            },
            "type": "barpolar"
           }
          ],
          "carpet": [
           {
            "aaxis": {
             "endlinecolor": "rgb(36,36,36)",
             "gridcolor": "white",
             "linecolor": "white",
             "minorgridcolor": "white",
             "startlinecolor": "rgb(36,36,36)"
            },
            "baxis": {
             "endlinecolor": "rgb(36,36,36)",
             "gridcolor": "white",
             "linecolor": "white",
             "minorgridcolor": "white",
             "startlinecolor": "rgb(36,36,36)"
            },
            "type": "carpet"
           }
          ],
          "choropleth": [
           {
            "colorbar": {
             "outlinewidth": 1,
             "tickcolor": "rgb(36,36,36)",
             "ticks": "outside"
            },
            "type": "choropleth"
           }
          ],
          "contour": [
           {
            "colorbar": {
             "outlinewidth": 1,
             "tickcolor": "rgb(36,36,36)",
             "ticks": "outside"
            },
            "colorscale": [
             [
              0,
              "#440154"
             ],
             [
              0.1111111111111111,
              "#482878"
             ],
             [
              0.2222222222222222,
              "#3e4989"
             ],
             [
              0.3333333333333333,
              "#31688e"
             ],
             [
              0.4444444444444444,
              "#26828e"
             ],
             [
              0.5555555555555556,
              "#1f9e89"
             ],
             [
              0.6666666666666666,
              "#35b779"
             ],
             [
              0.7777777777777778,
              "#6ece58"
             ],
             [
              0.8888888888888888,
              "#b5de2b"
             ],
             [
              1,
              "#fde725"
             ]
            ],
            "type": "contour"
           }
          ],
          "contourcarpet": [
           {
            "colorbar": {
             "outlinewidth": 1,
             "tickcolor": "rgb(36,36,36)",
             "ticks": "outside"
            },
            "type": "contourcarpet"
           }
          ],
          "heatmap": [
           {
            "colorbar": {
             "outlinewidth": 1,
             "tickcolor": "rgb(36,36,36)",
             "ticks": "outside"
            },
            "colorscale": [
             [
              0,
              "#440154"
             ],
             [
              0.1111111111111111,
              "#482878"
             ],
             [
              0.2222222222222222,
              "#3e4989"
             ],
             [
              0.3333333333333333,
              "#31688e"
             ],
             [
              0.4444444444444444,
              "#26828e"
             ],
             [
              0.5555555555555556,
              "#1f9e89"
             ],
             [
              0.6666666666666666,
              "#35b779"
             ],
             [
              0.7777777777777778,
              "#6ece58"
             ],
             [
              0.8888888888888888,
              "#b5de2b"
             ],
             [
              1,
              "#fde725"
             ]
            ],
            "type": "heatmap"
           }
          ],
          "heatmapgl": [
           {
            "colorbar": {
             "outlinewidth": 1,
             "tickcolor": "rgb(36,36,36)",
             "ticks": "outside"
            },
            "colorscale": [
             [
              0,
              "#440154"
             ],
             [
              0.1111111111111111,
              "#482878"
             ],
             [
              0.2222222222222222,
              "#3e4989"
             ],
             [
              0.3333333333333333,
              "#31688e"
             ],
             [
              0.4444444444444444,
              "#26828e"
             ],
             [
              0.5555555555555556,
              "#1f9e89"
             ],
             [
              0.6666666666666666,
              "#35b779"
             ],
             [
              0.7777777777777778,
              "#6ece58"
             ],
             [
              0.8888888888888888,
              "#b5de2b"
             ],
             [
              1,
              "#fde725"
             ]
            ],
            "type": "heatmapgl"
           }
          ],
          "histogram": [
           {
            "marker": {
             "line": {
              "color": "white",
              "width": 0.6
             }
            },
            "type": "histogram"
           }
          ],
          "histogram2d": [
           {
            "colorbar": {
             "outlinewidth": 1,
             "tickcolor": "rgb(36,36,36)",
             "ticks": "outside"
            },
            "colorscale": [
             [
              0,
              "#440154"
             ],
             [
              0.1111111111111111,
              "#482878"
             ],
             [
              0.2222222222222222,
              "#3e4989"
             ],
             [
              0.3333333333333333,
              "#31688e"
             ],
             [
              0.4444444444444444,
              "#26828e"
             ],
             [
              0.5555555555555556,
              "#1f9e89"
             ],
             [
              0.6666666666666666,
              "#35b779"
             ],
             [
              0.7777777777777778,
              "#6ece58"
             ],
             [
              0.8888888888888888,
              "#b5de2b"
             ],
             [
              1,
              "#fde725"
             ]
            ],
            "type": "histogram2d"
           }
          ],
          "histogram2dcontour": [
           {
            "colorbar": {
             "outlinewidth": 1,
             "tickcolor": "rgb(36,36,36)",
             "ticks": "outside"
            },
            "colorscale": [
             [
              0,
              "#440154"
             ],
             [
              0.1111111111111111,
              "#482878"
             ],
             [
              0.2222222222222222,
              "#3e4989"
             ],
             [
              0.3333333333333333,
              "#31688e"
             ],
             [
              0.4444444444444444,
              "#26828e"
             ],
             [
              0.5555555555555556,
              "#1f9e89"
             ],
             [
              0.6666666666666666,
              "#35b779"
             ],
             [
              0.7777777777777778,
              "#6ece58"
             ],
             [
              0.8888888888888888,
              "#b5de2b"
             ],
             [
              1,
              "#fde725"
             ]
            ],
            "type": "histogram2dcontour"
           }
          ],
          "mesh3d": [
           {
            "colorbar": {
             "outlinewidth": 1,
             "tickcolor": "rgb(36,36,36)",
             "ticks": "outside"
            },
            "type": "mesh3d"
           }
          ],
          "parcoords": [
           {
            "line": {
             "colorbar": {
              "outlinewidth": 1,
              "tickcolor": "rgb(36,36,36)",
              "ticks": "outside"
             }
            },
            "type": "parcoords"
           }
          ],
          "pie": [
           {
            "automargin": true,
            "type": "pie"
           }
          ],
          "scatter": [
           {
            "fillpattern": {
             "fillmode": "overlay",
             "size": 10,
             "solidity": 0.2
            },
            "type": "scatter"
           }
          ],
          "scatter3d": [
           {
            "line": {
             "colorbar": {
              "outlinewidth": 1,
              "tickcolor": "rgb(36,36,36)",
              "ticks": "outside"
             }
            },
            "marker": {
             "colorbar": {
              "outlinewidth": 1,
              "tickcolor": "rgb(36,36,36)",
              "ticks": "outside"
             }
            },
            "type": "scatter3d"
           }
          ],
          "scattercarpet": [
           {
            "marker": {
             "colorbar": {
              "outlinewidth": 1,
              "tickcolor": "rgb(36,36,36)",
              "ticks": "outside"
             }
            },
            "type": "scattercarpet"
           }
          ],
          "scattergeo": [
           {
            "marker": {
             "colorbar": {
              "outlinewidth": 1,
              "tickcolor": "rgb(36,36,36)",
              "ticks": "outside"
             }
            },
            "type": "scattergeo"
           }
          ],
          "scattergl": [
           {
            "marker": {
             "colorbar": {
              "outlinewidth": 1,
              "tickcolor": "rgb(36,36,36)",
              "ticks": "outside"
             }
            },
            "type": "scattergl"
           }
          ],
          "scattermapbox": [
           {
            "marker": {
             "colorbar": {
              "outlinewidth": 1,
              "tickcolor": "rgb(36,36,36)",
              "ticks": "outside"
             }
            },
            "type": "scattermapbox"
           }
          ],
          "scatterpolar": [
           {
            "marker": {
             "colorbar": {
              "outlinewidth": 1,
              "tickcolor": "rgb(36,36,36)",
              "ticks": "outside"
             }
            },
            "type": "scatterpolar"
           }
          ],
          "scatterpolargl": [
           {
            "marker": {
             "colorbar": {
              "outlinewidth": 1,
              "tickcolor": "rgb(36,36,36)",
              "ticks": "outside"
             }
            },
            "type": "scatterpolargl"
           }
          ],
          "scatterternary": [
           {
            "marker": {
             "colorbar": {
              "outlinewidth": 1,
              "tickcolor": "rgb(36,36,36)",
              "ticks": "outside"
             }
            },
            "type": "scatterternary"
           }
          ],
          "surface": [
           {
            "colorbar": {
             "outlinewidth": 1,
             "tickcolor": "rgb(36,36,36)",
             "ticks": "outside"
            },
            "colorscale": [
             [
              0,
              "#440154"
             ],
             [
              0.1111111111111111,
              "#482878"
             ],
             [
              0.2222222222222222,
              "#3e4989"
             ],
             [
              0.3333333333333333,
              "#31688e"
             ],
             [
              0.4444444444444444,
              "#26828e"
             ],
             [
              0.5555555555555556,
              "#1f9e89"
             ],
             [
              0.6666666666666666,
              "#35b779"
             ],
             [
              0.7777777777777778,
              "#6ece58"
             ],
             [
              0.8888888888888888,
              "#b5de2b"
             ],
             [
              1,
              "#fde725"
             ]
            ],
            "type": "surface"
           }
          ],
          "table": [
           {
            "cells": {
             "fill": {
              "color": "rgb(237,237,237)"
             },
             "line": {
              "color": "white"
             }
            },
            "header": {
             "fill": {
              "color": "rgb(217,217,217)"
             },
             "line": {
              "color": "white"
             }
            },
            "type": "table"
           }
          ]
         },
         "layout": {
          "annotationdefaults": {
           "arrowhead": 0,
           "arrowwidth": 1
          },
          "autotypenumbers": "strict",
          "coloraxis": {
           "colorbar": {
            "outlinewidth": 1,
            "tickcolor": "rgb(36,36,36)",
            "ticks": "outside"
           }
          },
          "colorscale": {
           "diverging": [
            [
             0,
             "rgb(103,0,31)"
            ],
            [
             0.1,
             "rgb(178,24,43)"
            ],
            [
             0.2,
             "rgb(214,96,77)"
            ],
            [
             0.3,
             "rgb(244,165,130)"
            ],
            [
             0.4,
             "rgb(253,219,199)"
            ],
            [
             0.5,
             "rgb(247,247,247)"
            ],
            [
             0.6,
             "rgb(209,229,240)"
            ],
            [
             0.7,
             "rgb(146,197,222)"
            ],
            [
             0.8,
             "rgb(67,147,195)"
            ],
            [
             0.9,
             "rgb(33,102,172)"
            ],
            [
             1,
             "rgb(5,48,97)"
            ]
           ],
           "sequential": [
            [
             0,
             "#440154"
            ],
            [
             0.1111111111111111,
             "#482878"
            ],
            [
             0.2222222222222222,
             "#3e4989"
            ],
            [
             0.3333333333333333,
             "#31688e"
            ],
            [
             0.4444444444444444,
             "#26828e"
            ],
            [
             0.5555555555555556,
             "#1f9e89"
            ],
            [
             0.6666666666666666,
             "#35b779"
            ],
            [
             0.7777777777777778,
             "#6ece58"
            ],
            [
             0.8888888888888888,
             "#b5de2b"
            ],
            [
             1,
             "#fde725"
            ]
           ],
           "sequentialminus": [
            [
             0,
             "#440154"
            ],
            [
             0.1111111111111111,
             "#482878"
            ],
            [
             0.2222222222222222,
             "#3e4989"
            ],
            [
             0.3333333333333333,
             "#31688e"
            ],
            [
             0.4444444444444444,
             "#26828e"
            ],
            [
             0.5555555555555556,
             "#1f9e89"
            ],
            [
             0.6666666666666666,
             "#35b779"
            ],
            [
             0.7777777777777778,
             "#6ece58"
            ],
            [
             0.8888888888888888,
             "#b5de2b"
            ],
            [
             1,
             "#fde725"
            ]
           ]
          },
          "colorway": [
           "#1F77B4",
           "#FF7F0E",
           "#2CA02C",
           "#D62728",
           "#9467BD",
           "#8C564B",
           "#E377C2",
           "#7F7F7F",
           "#BCBD22",
           "#17BECF"
          ],
          "font": {
           "color": "rgb(36,36,36)"
          },
          "geo": {
           "bgcolor": "white",
           "lakecolor": "white",
           "landcolor": "white",
           "showlakes": true,
           "showland": true,
           "subunitcolor": "white"
          },
          "hoverlabel": {
           "align": "left"
          },
          "hovermode": "closest",
          "mapbox": {
           "style": "light"
          },
          "paper_bgcolor": "white",
          "plot_bgcolor": "white",
          "polar": {
           "angularaxis": {
            "gridcolor": "rgb(232,232,232)",
            "linecolor": "rgb(36,36,36)",
            "showgrid": false,
            "showline": true,
            "ticks": "outside"
           },
           "bgcolor": "white",
           "radialaxis": {
            "gridcolor": "rgb(232,232,232)",
            "linecolor": "rgb(36,36,36)",
            "showgrid": false,
            "showline": true,
            "ticks": "outside"
           }
          },
          "scene": {
           "xaxis": {
            "backgroundcolor": "white",
            "gridcolor": "rgb(232,232,232)",
            "gridwidth": 2,
            "linecolor": "rgb(36,36,36)",
            "showbackground": true,
            "showgrid": false,
            "showline": true,
            "ticks": "outside",
            "zeroline": false,
            "zerolinecolor": "rgb(36,36,36)"
           },
           "yaxis": {
            "backgroundcolor": "white",
            "gridcolor": "rgb(232,232,232)",
            "gridwidth": 2,
            "linecolor": "rgb(36,36,36)",
            "showbackground": true,
            "showgrid": false,
            "showline": true,
            "ticks": "outside",
            "zeroline": false,
            "zerolinecolor": "rgb(36,36,36)"
           },
           "zaxis": {
            "backgroundcolor": "white",
            "gridcolor": "rgb(232,232,232)",
            "gridwidth": 2,
            "linecolor": "rgb(36,36,36)",
            "showbackground": true,
            "showgrid": false,
            "showline": true,
            "ticks": "outside",
            "zeroline": false,
            "zerolinecolor": "rgb(36,36,36)"
           }
          },
          "shapedefaults": {
           "fillcolor": "black",
           "line": {
            "width": 0
           },
           "opacity": 0.3
          },
          "ternary": {
           "aaxis": {
            "gridcolor": "rgb(232,232,232)",
            "linecolor": "rgb(36,36,36)",
            "showgrid": false,
            "showline": true,
            "ticks": "outside"
           },
           "baxis": {
            "gridcolor": "rgb(232,232,232)",
            "linecolor": "rgb(36,36,36)",
            "showgrid": false,
            "showline": true,
            "ticks": "outside"
           },
           "bgcolor": "white",
           "caxis": {
            "gridcolor": "rgb(232,232,232)",
            "linecolor": "rgb(36,36,36)",
            "showgrid": false,
            "showline": true,
            "ticks": "outside"
           }
          },
          "title": {
           "x": 0.05
          },
          "xaxis": {
           "automargin": true,
           "gridcolor": "rgb(232,232,232)",
           "linecolor": "rgb(36,36,36)",
           "showgrid": false,
           "showline": true,
           "ticks": "outside",
           "title": {
            "standoff": 15
           },
           "zeroline": false,
           "zerolinecolor": "rgb(36,36,36)"
          },
          "yaxis": {
           "automargin": true,
           "gridcolor": "rgb(232,232,232)",
           "linecolor": "rgb(36,36,36)",
           "showgrid": false,
           "showline": true,
           "ticks": "outside",
           "title": {
            "standoff": 15
           },
           "zeroline": false,
           "zerolinecolor": "rgb(36,36,36)"
          }
         }
        },
        "title": {
         "font": {
          "color": "Black",
          "size": 22
         },
         "text": "<b>Topics over Time</b>",
         "x": 0.4,
         "xanchor": "center",
         "y": 0.95,
         "yanchor": "top"
        },
        "width": 1250,
        "xaxis": {
         "showgrid": true
        },
        "yaxis": {
         "showgrid": true,
         "title": {
          "text": "Frequency"
         }
        }
       }
      }
     },
     "metadata": {},
     "output_type": "display_data"
    }
   ],
   "source": [
    "model.visualize_topics_over_time(topics_over_time, topics=[10, 11, 12, 13, 14, 15, 16, 17, 18, 19])\n"
   ]
  },
  {
   "cell_type": "code",
   "execution_count": 56,
   "metadata": {},
   "outputs": [
    {
     "data": {
      "application/vnd.plotly.v1+json": {
       "config": {
        "plotlyServerURL": "https://plot.ly"
       },
       "data": [
        {
         "hoverinfo": "text",
         "hovertext": [
          "<b>Topic 15</b><br>Words: program, 2011, health, since, moddlementors",
          "<b>Topic 15</b><br>Words: emergency, disaster, online, schools, school",
          "<b>Topic 15</b><br>Words: pandemic, covid, 19, online, to",
          "<b>Topic 15</b><br>Words: pandemic, covid, 19, online, 2020",
          "<b>Topic 15</b><br>Words: pandemic, covid, 19, online, faculty",
          "<b>Topic 15</b><br>Words: slack, channels, pandemic, conversations, messages"
         ],
         "marker": {
          "color": "#E69F00"
         },
         "mode": "lines",
         "name": "15_pandemic_covid_online_19",
         "type": "scatter",
         "x": [
          2013,
          2016,
          2020,
          2021,
          2022,
          2023
         ],
         "y": [
          1,
          2,
          4,
          13,
          10,
          1
         ]
        }
       ],
       "layout": {
        "height": 450,
        "hoverlabel": {
         "bgcolor": "white",
         "font": {
          "family": "Rockwell",
          "size": 16
         }
        },
        "legend": {
         "title": {
          "text": "<b>Global Topic Representation"
         }
        },
        "template": {
         "data": {
          "bar": [
           {
            "error_x": {
             "color": "rgb(36,36,36)"
            },
            "error_y": {
             "color": "rgb(36,36,36)"
            },
            "marker": {
             "line": {
              "color": "white",
              "width": 0.5
             },
             "pattern": {
              "fillmode": "overlay",
              "size": 10,
              "solidity": 0.2
             }
            },
            "type": "bar"
           }
          ],
          "barpolar": [
           {
            "marker": {
             "line": {
              "color": "white",
              "width": 0.5
             },
             "pattern": {
              "fillmode": "overlay",
              "size": 10,
              "solidity": 0.2
             }
            },
            "type": "barpolar"
           }
          ],
          "carpet": [
           {
            "aaxis": {
             "endlinecolor": "rgb(36,36,36)",
             "gridcolor": "white",
             "linecolor": "white",
             "minorgridcolor": "white",
             "startlinecolor": "rgb(36,36,36)"
            },
            "baxis": {
             "endlinecolor": "rgb(36,36,36)",
             "gridcolor": "white",
             "linecolor": "white",
             "minorgridcolor": "white",
             "startlinecolor": "rgb(36,36,36)"
            },
            "type": "carpet"
           }
          ],
          "choropleth": [
           {
            "colorbar": {
             "outlinewidth": 1,
             "tickcolor": "rgb(36,36,36)",
             "ticks": "outside"
            },
            "type": "choropleth"
           }
          ],
          "contour": [
           {
            "colorbar": {
             "outlinewidth": 1,
             "tickcolor": "rgb(36,36,36)",
             "ticks": "outside"
            },
            "colorscale": [
             [
              0,
              "#440154"
             ],
             [
              0.1111111111111111,
              "#482878"
             ],
             [
              0.2222222222222222,
              "#3e4989"
             ],
             [
              0.3333333333333333,
              "#31688e"
             ],
             [
              0.4444444444444444,
              "#26828e"
             ],
             [
              0.5555555555555556,
              "#1f9e89"
             ],
             [
              0.6666666666666666,
              "#35b779"
             ],
             [
              0.7777777777777778,
              "#6ece58"
             ],
             [
              0.8888888888888888,
              "#b5de2b"
             ],
             [
              1,
              "#fde725"
             ]
            ],
            "type": "contour"
           }
          ],
          "contourcarpet": [
           {
            "colorbar": {
             "outlinewidth": 1,
             "tickcolor": "rgb(36,36,36)",
             "ticks": "outside"
            },
            "type": "contourcarpet"
           }
          ],
          "heatmap": [
           {
            "colorbar": {
             "outlinewidth": 1,
             "tickcolor": "rgb(36,36,36)",
             "ticks": "outside"
            },
            "colorscale": [
             [
              0,
              "#440154"
             ],
             [
              0.1111111111111111,
              "#482878"
             ],
             [
              0.2222222222222222,
              "#3e4989"
             ],
             [
              0.3333333333333333,
              "#31688e"
             ],
             [
              0.4444444444444444,
              "#26828e"
             ],
             [
              0.5555555555555556,
              "#1f9e89"
             ],
             [
              0.6666666666666666,
              "#35b779"
             ],
             [
              0.7777777777777778,
              "#6ece58"
             ],
             [
              0.8888888888888888,
              "#b5de2b"
             ],
             [
              1,
              "#fde725"
             ]
            ],
            "type": "heatmap"
           }
          ],
          "heatmapgl": [
           {
            "colorbar": {
             "outlinewidth": 1,
             "tickcolor": "rgb(36,36,36)",
             "ticks": "outside"
            },
            "colorscale": [
             [
              0,
              "#440154"
             ],
             [
              0.1111111111111111,
              "#482878"
             ],
             [
              0.2222222222222222,
              "#3e4989"
             ],
             [
              0.3333333333333333,
              "#31688e"
             ],
             [
              0.4444444444444444,
              "#26828e"
             ],
             [
              0.5555555555555556,
              "#1f9e89"
             ],
             [
              0.6666666666666666,
              "#35b779"
             ],
             [
              0.7777777777777778,
              "#6ece58"
             ],
             [
              0.8888888888888888,
              "#b5de2b"
             ],
             [
              1,
              "#fde725"
             ]
            ],
            "type": "heatmapgl"
           }
          ],
          "histogram": [
           {
            "marker": {
             "line": {
              "color": "white",
              "width": 0.6
             }
            },
            "type": "histogram"
           }
          ],
          "histogram2d": [
           {
            "colorbar": {
             "outlinewidth": 1,
             "tickcolor": "rgb(36,36,36)",
             "ticks": "outside"
            },
            "colorscale": [
             [
              0,
              "#440154"
             ],
             [
              0.1111111111111111,
              "#482878"
             ],
             [
              0.2222222222222222,
              "#3e4989"
             ],
             [
              0.3333333333333333,
              "#31688e"
             ],
             [
              0.4444444444444444,
              "#26828e"
             ],
             [
              0.5555555555555556,
              "#1f9e89"
             ],
             [
              0.6666666666666666,
              "#35b779"
             ],
             [
              0.7777777777777778,
              "#6ece58"
             ],
             [
              0.8888888888888888,
              "#b5de2b"
             ],
             [
              1,
              "#fde725"
             ]
            ],
            "type": "histogram2d"
           }
          ],
          "histogram2dcontour": [
           {
            "colorbar": {
             "outlinewidth": 1,
             "tickcolor": "rgb(36,36,36)",
             "ticks": "outside"
            },
            "colorscale": [
             [
              0,
              "#440154"
             ],
             [
              0.1111111111111111,
              "#482878"
             ],
             [
              0.2222222222222222,
              "#3e4989"
             ],
             [
              0.3333333333333333,
              "#31688e"
             ],
             [
              0.4444444444444444,
              "#26828e"
             ],
             [
              0.5555555555555556,
              "#1f9e89"
             ],
             [
              0.6666666666666666,
              "#35b779"
             ],
             [
              0.7777777777777778,
              "#6ece58"
             ],
             [
              0.8888888888888888,
              "#b5de2b"
             ],
             [
              1,
              "#fde725"
             ]
            ],
            "type": "histogram2dcontour"
           }
          ],
          "mesh3d": [
           {
            "colorbar": {
             "outlinewidth": 1,
             "tickcolor": "rgb(36,36,36)",
             "ticks": "outside"
            },
            "type": "mesh3d"
           }
          ],
          "parcoords": [
           {
            "line": {
             "colorbar": {
              "outlinewidth": 1,
              "tickcolor": "rgb(36,36,36)",
              "ticks": "outside"
             }
            },
            "type": "parcoords"
           }
          ],
          "pie": [
           {
            "automargin": true,
            "type": "pie"
           }
          ],
          "scatter": [
           {
            "fillpattern": {
             "fillmode": "overlay",
             "size": 10,
             "solidity": 0.2
            },
            "type": "scatter"
           }
          ],
          "scatter3d": [
           {
            "line": {
             "colorbar": {
              "outlinewidth": 1,
              "tickcolor": "rgb(36,36,36)",
              "ticks": "outside"
             }
            },
            "marker": {
             "colorbar": {
              "outlinewidth": 1,
              "tickcolor": "rgb(36,36,36)",
              "ticks": "outside"
             }
            },
            "type": "scatter3d"
           }
          ],
          "scattercarpet": [
           {
            "marker": {
             "colorbar": {
              "outlinewidth": 1,
              "tickcolor": "rgb(36,36,36)",
              "ticks": "outside"
             }
            },
            "type": "scattercarpet"
           }
          ],
          "scattergeo": [
           {
            "marker": {
             "colorbar": {
              "outlinewidth": 1,
              "tickcolor": "rgb(36,36,36)",
              "ticks": "outside"
             }
            },
            "type": "scattergeo"
           }
          ],
          "scattergl": [
           {
            "marker": {
             "colorbar": {
              "outlinewidth": 1,
              "tickcolor": "rgb(36,36,36)",
              "ticks": "outside"
             }
            },
            "type": "scattergl"
           }
          ],
          "scattermapbox": [
           {
            "marker": {
             "colorbar": {
              "outlinewidth": 1,
              "tickcolor": "rgb(36,36,36)",
              "ticks": "outside"
             }
            },
            "type": "scattermapbox"
           }
          ],
          "scatterpolar": [
           {
            "marker": {
             "colorbar": {
              "outlinewidth": 1,
              "tickcolor": "rgb(36,36,36)",
              "ticks": "outside"
             }
            },
            "type": "scatterpolar"
           }
          ],
          "scatterpolargl": [
           {
            "marker": {
             "colorbar": {
              "outlinewidth": 1,
              "tickcolor": "rgb(36,36,36)",
              "ticks": "outside"
             }
            },
            "type": "scatterpolargl"
           }
          ],
          "scatterternary": [
           {
            "marker": {
             "colorbar": {
              "outlinewidth": 1,
              "tickcolor": "rgb(36,36,36)",
              "ticks": "outside"
             }
            },
            "type": "scatterternary"
           }
          ],
          "surface": [
           {
            "colorbar": {
             "outlinewidth": 1,
             "tickcolor": "rgb(36,36,36)",
             "ticks": "outside"
            },
            "colorscale": [
             [
              0,
              "#440154"
             ],
             [
              0.1111111111111111,
              "#482878"
             ],
             [
              0.2222222222222222,
              "#3e4989"
             ],
             [
              0.3333333333333333,
              "#31688e"
             ],
             [
              0.4444444444444444,
              "#26828e"
             ],
             [
              0.5555555555555556,
              "#1f9e89"
             ],
             [
              0.6666666666666666,
              "#35b779"
             ],
             [
              0.7777777777777778,
              "#6ece58"
             ],
             [
              0.8888888888888888,
              "#b5de2b"
             ],
             [
              1,
              "#fde725"
             ]
            ],
            "type": "surface"
           }
          ],
          "table": [
           {
            "cells": {
             "fill": {
              "color": "rgb(237,237,237)"
             },
             "line": {
              "color": "white"
             }
            },
            "header": {
             "fill": {
              "color": "rgb(217,217,217)"
             },
             "line": {
              "color": "white"
             }
            },
            "type": "table"
           }
          ]
         },
         "layout": {
          "annotationdefaults": {
           "arrowhead": 0,
           "arrowwidth": 1
          },
          "autotypenumbers": "strict",
          "coloraxis": {
           "colorbar": {
            "outlinewidth": 1,
            "tickcolor": "rgb(36,36,36)",
            "ticks": "outside"
           }
          },
          "colorscale": {
           "diverging": [
            [
             0,
             "rgb(103,0,31)"
            ],
            [
             0.1,
             "rgb(178,24,43)"
            ],
            [
             0.2,
             "rgb(214,96,77)"
            ],
            [
             0.3,
             "rgb(244,165,130)"
            ],
            [
             0.4,
             "rgb(253,219,199)"
            ],
            [
             0.5,
             "rgb(247,247,247)"
            ],
            [
             0.6,
             "rgb(209,229,240)"
            ],
            [
             0.7,
             "rgb(146,197,222)"
            ],
            [
             0.8,
             "rgb(67,147,195)"
            ],
            [
             0.9,
             "rgb(33,102,172)"
            ],
            [
             1,
             "rgb(5,48,97)"
            ]
           ],
           "sequential": [
            [
             0,
             "#440154"
            ],
            [
             0.1111111111111111,
             "#482878"
            ],
            [
             0.2222222222222222,
             "#3e4989"
            ],
            [
             0.3333333333333333,
             "#31688e"
            ],
            [
             0.4444444444444444,
             "#26828e"
            ],
            [
             0.5555555555555556,
             "#1f9e89"
            ],
            [
             0.6666666666666666,
             "#35b779"
            ],
            [
             0.7777777777777778,
             "#6ece58"
            ],
            [
             0.8888888888888888,
             "#b5de2b"
            ],
            [
             1,
             "#fde725"
            ]
           ],
           "sequentialminus": [
            [
             0,
             "#440154"
            ],
            [
             0.1111111111111111,
             "#482878"
            ],
            [
             0.2222222222222222,
             "#3e4989"
            ],
            [
             0.3333333333333333,
             "#31688e"
            ],
            [
             0.4444444444444444,
             "#26828e"
            ],
            [
             0.5555555555555556,
             "#1f9e89"
            ],
            [
             0.6666666666666666,
             "#35b779"
            ],
            [
             0.7777777777777778,
             "#6ece58"
            ],
            [
             0.8888888888888888,
             "#b5de2b"
            ],
            [
             1,
             "#fde725"
            ]
           ]
          },
          "colorway": [
           "#1F77B4",
           "#FF7F0E",
           "#2CA02C",
           "#D62728",
           "#9467BD",
           "#8C564B",
           "#E377C2",
           "#7F7F7F",
           "#BCBD22",
           "#17BECF"
          ],
          "font": {
           "color": "rgb(36,36,36)"
          },
          "geo": {
           "bgcolor": "white",
           "lakecolor": "white",
           "landcolor": "white",
           "showlakes": true,
           "showland": true,
           "subunitcolor": "white"
          },
          "hoverlabel": {
           "align": "left"
          },
          "hovermode": "closest",
          "mapbox": {
           "style": "light"
          },
          "paper_bgcolor": "white",
          "plot_bgcolor": "white",
          "polar": {
           "angularaxis": {
            "gridcolor": "rgb(232,232,232)",
            "linecolor": "rgb(36,36,36)",
            "showgrid": false,
            "showline": true,
            "ticks": "outside"
           },
           "bgcolor": "white",
           "radialaxis": {
            "gridcolor": "rgb(232,232,232)",
            "linecolor": "rgb(36,36,36)",
            "showgrid": false,
            "showline": true,
            "ticks": "outside"
           }
          },
          "scene": {
           "xaxis": {
            "backgroundcolor": "white",
            "gridcolor": "rgb(232,232,232)",
            "gridwidth": 2,
            "linecolor": "rgb(36,36,36)",
            "showbackground": true,
            "showgrid": false,
            "showline": true,
            "ticks": "outside",
            "zeroline": false,
            "zerolinecolor": "rgb(36,36,36)"
           },
           "yaxis": {
            "backgroundcolor": "white",
            "gridcolor": "rgb(232,232,232)",
            "gridwidth": 2,
            "linecolor": "rgb(36,36,36)",
            "showbackground": true,
            "showgrid": false,
            "showline": true,
            "ticks": "outside",
            "zeroline": false,
            "zerolinecolor": "rgb(36,36,36)"
           },
           "zaxis": {
            "backgroundcolor": "white",
            "gridcolor": "rgb(232,232,232)",
            "gridwidth": 2,
            "linecolor": "rgb(36,36,36)",
            "showbackground": true,
            "showgrid": false,
            "showline": true,
            "ticks": "outside",
            "zeroline": false,
            "zerolinecolor": "rgb(36,36,36)"
           }
          },
          "shapedefaults": {
           "fillcolor": "black",
           "line": {
            "width": 0
           },
           "opacity": 0.3
          },
          "ternary": {
           "aaxis": {
            "gridcolor": "rgb(232,232,232)",
            "linecolor": "rgb(36,36,36)",
            "showgrid": false,
            "showline": true,
            "ticks": "outside"
           },
           "baxis": {
            "gridcolor": "rgb(232,232,232)",
            "linecolor": "rgb(36,36,36)",
            "showgrid": false,
            "showline": true,
            "ticks": "outside"
           },
           "bgcolor": "white",
           "caxis": {
            "gridcolor": "rgb(232,232,232)",
            "linecolor": "rgb(36,36,36)",
            "showgrid": false,
            "showline": true,
            "ticks": "outside"
           }
          },
          "title": {
           "x": 0.05
          },
          "xaxis": {
           "automargin": true,
           "gridcolor": "rgb(232,232,232)",
           "linecolor": "rgb(36,36,36)",
           "showgrid": false,
           "showline": true,
           "ticks": "outside",
           "title": {
            "standoff": 15
           },
           "zeroline": false,
           "zerolinecolor": "rgb(36,36,36)"
          },
          "yaxis": {
           "automargin": true,
           "gridcolor": "rgb(232,232,232)",
           "linecolor": "rgb(36,36,36)",
           "showgrid": false,
           "showline": true,
           "ticks": "outside",
           "title": {
            "standoff": 15
           },
           "zeroline": false,
           "zerolinecolor": "rgb(36,36,36)"
          }
         }
        },
        "title": {
         "font": {
          "color": "Black",
          "size": 22
         },
         "text": "<b>Topics over Time</b>",
         "x": 0.4,
         "xanchor": "center",
         "y": 0.95,
         "yanchor": "top"
        },
        "width": 1250,
        "xaxis": {
         "showgrid": true
        },
        "yaxis": {
         "showgrid": true,
         "title": {
          "text": "Frequency"
         }
        }
       }
      }
     },
     "metadata": {},
     "output_type": "display_data"
    }
   ],
   "source": [
    "model.visualize_topics_over_time(topics_over_time, topics=[15])\n",
    "#COVID-19 Topic\n"
   ]
  },
  {
   "cell_type": "code",
   "execution_count": 57,
   "metadata": {},
   "outputs": [
    {
     "data": {
      "application/vnd.plotly.v1+json": {
       "config": {
        "plotlyServerURL": "https://plot.ly"
       },
       "data": [
        {
         "hoverinfo": "text",
         "hovertext": [
          "<b>Topic 31</b><br>Words: fb, force, technology, sns, learners",
          "<b>Topic 31</b><br>Words: fb, networking, moodle, social, sites",
          "<b>Topic 31</b><br>Words: snsll, sites, speaking, learning, as",
          "<b>Topic 31</b><br>Words: abroad, learning, language, at, social",
          "<b>Topic 31</b><br>Words: sp, sna, interaction, participation, online",
          "<b>Topic 31</b><br>Words: online, vcops, language, awareness, and",
          "<b>Topic 31</b><br>Words: testers, kabilan, embracers, professional, catalyst"
         ],
         "marker": {
          "color": "#E69F00"
         },
         "mode": "lines",
         "name": "31_learning_language_social_online",
         "type": "scatter",
         "x": [
          2013,
          2014,
          2015,
          2016,
          2018,
          2020,
          2022
         ],
         "y": [
          1,
          2,
          3,
          3,
          2,
          5,
          1
         ]
        },
        {
         "hoverinfo": "text",
         "hovertext": [
          "<b>Topic 32</b><br>Words: health, physical, patients, the, of",
          "<b>Topic 32</b><br>Words: health, the, cancer, screening, of"
         ],
         "marker": {
          "color": "#56B4E9"
         },
         "mode": "lines",
         "name": "32_health_physical_the_of",
         "type": "scatter",
         "x": [
          2015,
          2016
         ],
         "y": [
          10,
          7
         ]
        },
        {
         "hoverinfo": "text",
         "hovertext": [
          "<b>Topic 33</b><br>Words: stress, the, of, mental, distress",
          "<b>Topic 33</b><br>Words: education, the, preschool, school, philosophy",
          "<b>Topic 33</b><br>Words: education, sport, the, we, works"
         ],
         "marker": {
          "color": "#009E73"
         },
         "mode": "lines",
         "name": "33_the_education_of_preschool",
         "type": "scatter",
         "x": [
          2015,
          2016,
          2017
         ],
         "y": [
          3,
          10,
          3
         ]
        },
        {
         "hoverinfo": "text",
         "hovertext": [
          "<b>Topic 34</b><br>Words: robot, joint, disorder, humanoid, autism",
          "<b>Topic 34</b><br>Words: telepresence, robots, authentic, robot, fl",
          "<b>Topic 34</b><br>Words: dialogue, robot, we, quot, interviewers",
          "<b>Topic 34</b><br>Words: rall, echo, robot, chatbots, learners",
          "<b>Topic 34</b><br>Words: robot, authoring, telepresence, system, design",
          "<b>Topic 34</b><br>Words: robot, chatbot, chatbots, ellie, rall"
         ],
         "marker": {
          "color": "#F0E442"
         },
         "mode": "lines",
         "name": "34_robot_rall_chatbots_chatbot",
         "type": "scatter",
         "x": [
          2017,
          2018,
          2019,
          2020,
          2021,
          2022
         ],
         "y": [
          1,
          1,
          2,
          3,
          2,
          6
         ]
        },
        {
         "hoverinfo": "text",
         "hovertext": [
          "<b>Topic 35</b><br>Words: game, ia, tutoring, lab, facility",
          "<b>Topic 35</b><br>Words: inventor, sandbox, app, programming, cis",
          "<b>Topic 35</b><br>Words: inventor, app, programmers, month, programming",
          "<b>Topic 35</b><br>Words: peg, app, game, camp, android",
          "<b>Topic 35</b><br>Words: android, development, mobile, application, capstone",
          "<b>Topic 35</b><br>Words: apps, engineering, courses, raspberry, pi",
          "<b>Topic 35</b><br>Words: app, development, courses, module, code"
         ],
         "marker": {
          "color": "#D55E00"
         },
         "mode": "lines",
         "name": "35_app_development_inventor_android",
         "type": "scatter",
         "x": [
          2013,
          2014,
          2015,
          2016,
          2017,
          2018,
          2021
         ],
         "y": [
          3,
          2,
          1,
          4,
          1,
          2,
          2
         ]
        },
        {
         "hoverinfo": "text",
         "hovertext": [
          "<b>Topic 36</b><br>Words: vocabulary, ocw, si, l2, acquisition",
          "<b>Topic 36</b><br>Words: gloss, proficiency, glosses, l2, l1",
          "<b>Topic 36</b><br>Words: vocabulary, instrument, constructing, technical, clips",
          "<b>Topic 36</b><br>Words: vocabulary, lexis, l2, lexisboard, items",
          "<b>Topic 36</b><br>Words: vocabulary, tmvd, l2, learning, ortega",
          "<b>Topic 36</b><br>Words: ctpr, vocabulary, tpr, english, collaborative",
          "<b>Topic 36</b><br>Words: dictionary, at, vocabulary, mediated, learning",
          "<b>Topic 36</b><br>Words: idioms, vocabulary, l2, quizlet, acquisition"
         ],
         "marker": {
          "color": "#0072B2"
         },
         "mode": "lines",
         "name": "36_vocabulary_l2_idioms_gloss",
         "type": "scatter",
         "x": [
          2013,
          2014,
          2015,
          2016,
          2018,
          2019,
          2020,
          2022
         ],
         "y": [
          3,
          1,
          1,
          2,
          2,
          1,
          1,
          3
         ]
        },
        {
         "hoverinfo": "text",
         "hovertext": [
          "<b>Topic 37</b><br>Words: cloud, computing, track, software, to",
          "<b>Topic 37</b><br>Words: decision, cloud, cc, institute, educational",
          "<b>Topic 37</b><br>Words: cloud, computing, can, services, information",
          "<b>Topic 37</b><br>Words: cloud, computing, services, universities, house",
          "<b>Topic 37</b><br>Words: cloud, computing, aws, it, topic",
          "<b>Topic 37</b><br>Words: cloud, computing, infrastructure, cis, organizations",
          "<b>Topic 37</b><br>Words: cloud, forensic, computing, acquisitions, digital",
          "<b>Topic 37</b><br>Words: cloud, aws, labs, to, intended",
          "<b>Topic 37</b><br>Words: cloud, computing, aws, services, as"
         ],
         "marker": {
          "color": "#CC79A7"
         },
         "mode": "lines",
         "name": "37_cloud_computing_decision_cc",
         "type": "scatter",
         "x": [
          2013,
          2014,
          2016,
          2017,
          2018,
          2019,
          2020,
          2021,
          2022
         ],
         "y": [
          2,
          1,
          2,
          2,
          1,
          1,
          1,
          2,
          1
         ]
        },
        {
         "hoverinfo": "text",
         "hovertext": [
          "<b>Topic 38</b><br>Words: anxiety, fl, listening, causal, foreign",
          "<b>Topic 38</b><br>Words: fla, anxiety, acmc, affordances, horwitz",
          "<b>Topic 38</b><br>Words: repetition, anxiety, hybrid, task, caf",
          "<b>Topic 38</b><br>Words: ei, anxiety, fla, emotional, group",
          "<b>Topic 38</b><br>Words: anonymity, vw, fla, anxiety, participants",
          "<b>Topic 38</b><br>Words: idle, quantity, diversity, anxiety, outcomes",
          "<b>Topic 38</b><br>Words: anxiety, fla, vr, self, speaking",
          "<b>Topic 38</b><br>Words: anxiety, fla, vr, speaking, flsa"
         ],
         "marker": {
          "color": "#E69F00"
         },
         "mode": "lines",
         "name": "38_anxiety_fla_repetition_participants",
         "type": "scatter",
         "x": [
          2013,
          2014,
          2016,
          2017,
          2018,
          2019,
          2021,
          2022
         ],
         "y": [
          1,
          1,
          2,
          2,
          1,
          1,
          2,
          3
         ]
        },
        {
         "hoverinfo": "text",
         "hovertext": [
          "<b>Topic 39</b><br>Words: erp, benefits, enterprise, investment, resource",
          "<b>Topic 39</b><br>Words: process, bpm, business, simulation, modeling",
          "<b>Topic 39</b><br>Words: business, erp, enterprise, systems, processes",
          "<b>Topic 39</b><br>Words: ax, enterprise, dynamics, claims, erp",
          "<b>Topic 39</b><br>Words: erp, business, planning, exercise, sdlc",
          "<b>Topic 39</b><br>Words: erp, business, erpsim, dynamics, validated",
          "<b>Topic 39</b><br>Words: erp, business, simulation, chain, supply"
         ],
         "marker": {
          "color": "#56B4E9"
         },
         "mode": "lines",
         "name": "39_erp_business_enterprise_systems",
         "type": "scatter",
         "x": [
          2013,
          2014,
          2015,
          2016,
          2017,
          2019,
          2020
         ],
         "y": [
          1,
          1,
          4,
          2,
          2,
          1,
          2
         ]
        },
        {
         "hoverinfo": "text",
         "hovertext": [
          "<b>Topic 40</b><br>Words: disabilities, community, higher, design, portfolio",
          "<b>Topic 40</b><br>Words: change, disabilities, systems, programme, design",
          "<b>Topic 40</b><br>Words: disabilities, disabled, disability, individuals, film",
          "<b>Topic 40</b><br>Words: disabilities, systems, stem, information, enough",
          "<b>Topic 40</b><br>Words: disabilities, people, portfolios, with, authors",
          "<b>Topic 40</b><br>Words: web, curb, cuts, disabilities, accessibility",
          "<b>Topic 40</b><br>Words: neuro, inclusion, disabilities, is, design"
         ],
         "marker": {
          "color": "#009E73"
         },
         "mode": "lines",
         "name": "40_disabilities_systems_design_of",
         "type": "scatter",
         "x": [
          2013,
          2014,
          2015,
          2018,
          2019,
          2020,
          2022
         ],
         "y": [
          2,
          2,
          3,
          2,
          1,
          1,
          2
         ]
        }
       ],
       "layout": {
        "height": 450,
        "hoverlabel": {
         "bgcolor": "white",
         "font": {
          "family": "Rockwell",
          "size": 16
         }
        },
        "legend": {
         "title": {
          "text": "<b>Global Topic Representation"
         }
        },
        "template": {
         "data": {
          "bar": [
           {
            "error_x": {
             "color": "rgb(36,36,36)"
            },
            "error_y": {
             "color": "rgb(36,36,36)"
            },
            "marker": {
             "line": {
              "color": "white",
              "width": 0.5
             },
             "pattern": {
              "fillmode": "overlay",
              "size": 10,
              "solidity": 0.2
             }
            },
            "type": "bar"
           }
          ],
          "barpolar": [
           {
            "marker": {
             "line": {
              "color": "white",
              "width": 0.5
             },
             "pattern": {
              "fillmode": "overlay",
              "size": 10,
              "solidity": 0.2
             }
            },
            "type": "barpolar"
           }
          ],
          "carpet": [
           {
            "aaxis": {
             "endlinecolor": "rgb(36,36,36)",
             "gridcolor": "white",
             "linecolor": "white",
             "minorgridcolor": "white",
             "startlinecolor": "rgb(36,36,36)"
            },
            "baxis": {
             "endlinecolor": "rgb(36,36,36)",
             "gridcolor": "white",
             "linecolor": "white",
             "minorgridcolor": "white",
             "startlinecolor": "rgb(36,36,36)"
            },
            "type": "carpet"
           }
          ],
          "choropleth": [
           {
            "colorbar": {
             "outlinewidth": 1,
             "tickcolor": "rgb(36,36,36)",
             "ticks": "outside"
            },
            "type": "choropleth"
           }
          ],
          "contour": [
           {
            "colorbar": {
             "outlinewidth": 1,
             "tickcolor": "rgb(36,36,36)",
             "ticks": "outside"
            },
            "colorscale": [
             [
              0,
              "#440154"
             ],
             [
              0.1111111111111111,
              "#482878"
             ],
             [
              0.2222222222222222,
              "#3e4989"
             ],
             [
              0.3333333333333333,
              "#31688e"
             ],
             [
              0.4444444444444444,
              "#26828e"
             ],
             [
              0.5555555555555556,
              "#1f9e89"
             ],
             [
              0.6666666666666666,
              "#35b779"
             ],
             [
              0.7777777777777778,
              "#6ece58"
             ],
             [
              0.8888888888888888,
              "#b5de2b"
             ],
             [
              1,
              "#fde725"
             ]
            ],
            "type": "contour"
           }
          ],
          "contourcarpet": [
           {
            "colorbar": {
             "outlinewidth": 1,
             "tickcolor": "rgb(36,36,36)",
             "ticks": "outside"
            },
            "type": "contourcarpet"
           }
          ],
          "heatmap": [
           {
            "colorbar": {
             "outlinewidth": 1,
             "tickcolor": "rgb(36,36,36)",
             "ticks": "outside"
            },
            "colorscale": [
             [
              0,
              "#440154"
             ],
             [
              0.1111111111111111,
              "#482878"
             ],
             [
              0.2222222222222222,
              "#3e4989"
             ],
             [
              0.3333333333333333,
              "#31688e"
             ],
             [
              0.4444444444444444,
              "#26828e"
             ],
             [
              0.5555555555555556,
              "#1f9e89"
             ],
             [
              0.6666666666666666,
              "#35b779"
             ],
             [
              0.7777777777777778,
              "#6ece58"
             ],
             [
              0.8888888888888888,
              "#b5de2b"
             ],
             [
              1,
              "#fde725"
             ]
            ],
            "type": "heatmap"
           }
          ],
          "heatmapgl": [
           {
            "colorbar": {
             "outlinewidth": 1,
             "tickcolor": "rgb(36,36,36)",
             "ticks": "outside"
            },
            "colorscale": [
             [
              0,
              "#440154"
             ],
             [
              0.1111111111111111,
              "#482878"
             ],
             [
              0.2222222222222222,
              "#3e4989"
             ],
             [
              0.3333333333333333,
              "#31688e"
             ],
             [
              0.4444444444444444,
              "#26828e"
             ],
             [
              0.5555555555555556,
              "#1f9e89"
             ],
             [
              0.6666666666666666,
              "#35b779"
             ],
             [
              0.7777777777777778,
              "#6ece58"
             ],
             [
              0.8888888888888888,
              "#b5de2b"
             ],
             [
              1,
              "#fde725"
             ]
            ],
            "type": "heatmapgl"
           }
          ],
          "histogram": [
           {
            "marker": {
             "line": {
              "color": "white",
              "width": 0.6
             }
            },
            "type": "histogram"
           }
          ],
          "histogram2d": [
           {
            "colorbar": {
             "outlinewidth": 1,
             "tickcolor": "rgb(36,36,36)",
             "ticks": "outside"
            },
            "colorscale": [
             [
              0,
              "#440154"
             ],
             [
              0.1111111111111111,
              "#482878"
             ],
             [
              0.2222222222222222,
              "#3e4989"
             ],
             [
              0.3333333333333333,
              "#31688e"
             ],
             [
              0.4444444444444444,
              "#26828e"
             ],
             [
              0.5555555555555556,
              "#1f9e89"
             ],
             [
              0.6666666666666666,
              "#35b779"
             ],
             [
              0.7777777777777778,
              "#6ece58"
             ],
             [
              0.8888888888888888,
              "#b5de2b"
             ],
             [
              1,
              "#fde725"
             ]
            ],
            "type": "histogram2d"
           }
          ],
          "histogram2dcontour": [
           {
            "colorbar": {
             "outlinewidth": 1,
             "tickcolor": "rgb(36,36,36)",
             "ticks": "outside"
            },
            "colorscale": [
             [
              0,
              "#440154"
             ],
             [
              0.1111111111111111,
              "#482878"
             ],
             [
              0.2222222222222222,
              "#3e4989"
             ],
             [
              0.3333333333333333,
              "#31688e"
             ],
             [
              0.4444444444444444,
              "#26828e"
             ],
             [
              0.5555555555555556,
              "#1f9e89"
             ],
             [
              0.6666666666666666,
              "#35b779"
             ],
             [
              0.7777777777777778,
              "#6ece58"
             ],
             [
              0.8888888888888888,
              "#b5de2b"
             ],
             [
              1,
              "#fde725"
             ]
            ],
            "type": "histogram2dcontour"
           }
          ],
          "mesh3d": [
           {
            "colorbar": {
             "outlinewidth": 1,
             "tickcolor": "rgb(36,36,36)",
             "ticks": "outside"
            },
            "type": "mesh3d"
           }
          ],
          "parcoords": [
           {
            "line": {
             "colorbar": {
              "outlinewidth": 1,
              "tickcolor": "rgb(36,36,36)",
              "ticks": "outside"
             }
            },
            "type": "parcoords"
           }
          ],
          "pie": [
           {
            "automargin": true,
            "type": "pie"
           }
          ],
          "scatter": [
           {
            "fillpattern": {
             "fillmode": "overlay",
             "size": 10,
             "solidity": 0.2
            },
            "type": "scatter"
           }
          ],
          "scatter3d": [
           {
            "line": {
             "colorbar": {
              "outlinewidth": 1,
              "tickcolor": "rgb(36,36,36)",
              "ticks": "outside"
             }
            },
            "marker": {
             "colorbar": {
              "outlinewidth": 1,
              "tickcolor": "rgb(36,36,36)",
              "ticks": "outside"
             }
            },
            "type": "scatter3d"
           }
          ],
          "scattercarpet": [
           {
            "marker": {
             "colorbar": {
              "outlinewidth": 1,
              "tickcolor": "rgb(36,36,36)",
              "ticks": "outside"
             }
            },
            "type": "scattercarpet"
           }
          ],
          "scattergeo": [
           {
            "marker": {
             "colorbar": {
              "outlinewidth": 1,
              "tickcolor": "rgb(36,36,36)",
              "ticks": "outside"
             }
            },
            "type": "scattergeo"
           }
          ],
          "scattergl": [
           {
            "marker": {
             "colorbar": {
              "outlinewidth": 1,
              "tickcolor": "rgb(36,36,36)",
              "ticks": "outside"
             }
            },
            "type": "scattergl"
           }
          ],
          "scattermapbox": [
           {
            "marker": {
             "colorbar": {
              "outlinewidth": 1,
              "tickcolor": "rgb(36,36,36)",
              "ticks": "outside"
             }
            },
            "type": "scattermapbox"
           }
          ],
          "scatterpolar": [
           {
            "marker": {
             "colorbar": {
              "outlinewidth": 1,
              "tickcolor": "rgb(36,36,36)",
              "ticks": "outside"
             }
            },
            "type": "scatterpolar"
           }
          ],
          "scatterpolargl": [
           {
            "marker": {
             "colorbar": {
              "outlinewidth": 1,
              "tickcolor": "rgb(36,36,36)",
              "ticks": "outside"
             }
            },
            "type": "scatterpolargl"
           }
          ],
          "scatterternary": [
           {
            "marker": {
             "colorbar": {
              "outlinewidth": 1,
              "tickcolor": "rgb(36,36,36)",
              "ticks": "outside"
             }
            },
            "type": "scatterternary"
           }
          ],
          "surface": [
           {
            "colorbar": {
             "outlinewidth": 1,
             "tickcolor": "rgb(36,36,36)",
             "ticks": "outside"
            },
            "colorscale": [
             [
              0,
              "#440154"
             ],
             [
              0.1111111111111111,
              "#482878"
             ],
             [
              0.2222222222222222,
              "#3e4989"
             ],
             [
              0.3333333333333333,
              "#31688e"
             ],
             [
              0.4444444444444444,
              "#26828e"
             ],
             [
              0.5555555555555556,
              "#1f9e89"
             ],
             [
              0.6666666666666666,
              "#35b779"
             ],
             [
              0.7777777777777778,
              "#6ece58"
             ],
             [
              0.8888888888888888,
              "#b5de2b"
             ],
             [
              1,
              "#fde725"
             ]
            ],
            "type": "surface"
           }
          ],
          "table": [
           {
            "cells": {
             "fill": {
              "color": "rgb(237,237,237)"
             },
             "line": {
              "color": "white"
             }
            },
            "header": {
             "fill": {
              "color": "rgb(217,217,217)"
             },
             "line": {
              "color": "white"
             }
            },
            "type": "table"
           }
          ]
         },
         "layout": {
          "annotationdefaults": {
           "arrowhead": 0,
           "arrowwidth": 1
          },
          "autotypenumbers": "strict",
          "coloraxis": {
           "colorbar": {
            "outlinewidth": 1,
            "tickcolor": "rgb(36,36,36)",
            "ticks": "outside"
           }
          },
          "colorscale": {
           "diverging": [
            [
             0,
             "rgb(103,0,31)"
            ],
            [
             0.1,
             "rgb(178,24,43)"
            ],
            [
             0.2,
             "rgb(214,96,77)"
            ],
            [
             0.3,
             "rgb(244,165,130)"
            ],
            [
             0.4,
             "rgb(253,219,199)"
            ],
            [
             0.5,
             "rgb(247,247,247)"
            ],
            [
             0.6,
             "rgb(209,229,240)"
            ],
            [
             0.7,
             "rgb(146,197,222)"
            ],
            [
             0.8,
             "rgb(67,147,195)"
            ],
            [
             0.9,
             "rgb(33,102,172)"
            ],
            [
             1,
             "rgb(5,48,97)"
            ]
           ],
           "sequential": [
            [
             0,
             "#440154"
            ],
            [
             0.1111111111111111,
             "#482878"
            ],
            [
             0.2222222222222222,
             "#3e4989"
            ],
            [
             0.3333333333333333,
             "#31688e"
            ],
            [
             0.4444444444444444,
             "#26828e"
            ],
            [
             0.5555555555555556,
             "#1f9e89"
            ],
            [
             0.6666666666666666,
             "#35b779"
            ],
            [
             0.7777777777777778,
             "#6ece58"
            ],
            [
             0.8888888888888888,
             "#b5de2b"
            ],
            [
             1,
             "#fde725"
            ]
           ],
           "sequentialminus": [
            [
             0,
             "#440154"
            ],
            [
             0.1111111111111111,
             "#482878"
            ],
            [
             0.2222222222222222,
             "#3e4989"
            ],
            [
             0.3333333333333333,
             "#31688e"
            ],
            [
             0.4444444444444444,
             "#26828e"
            ],
            [
             0.5555555555555556,
             "#1f9e89"
            ],
            [
             0.6666666666666666,
             "#35b779"
            ],
            [
             0.7777777777777778,
             "#6ece58"
            ],
            [
             0.8888888888888888,
             "#b5de2b"
            ],
            [
             1,
             "#fde725"
            ]
           ]
          },
          "colorway": [
           "#1F77B4",
           "#FF7F0E",
           "#2CA02C",
           "#D62728",
           "#9467BD",
           "#8C564B",
           "#E377C2",
           "#7F7F7F",
           "#BCBD22",
           "#17BECF"
          ],
          "font": {
           "color": "rgb(36,36,36)"
          },
          "geo": {
           "bgcolor": "white",
           "lakecolor": "white",
           "landcolor": "white",
           "showlakes": true,
           "showland": true,
           "subunitcolor": "white"
          },
          "hoverlabel": {
           "align": "left"
          },
          "hovermode": "closest",
          "mapbox": {
           "style": "light"
          },
          "paper_bgcolor": "white",
          "plot_bgcolor": "white",
          "polar": {
           "angularaxis": {
            "gridcolor": "rgb(232,232,232)",
            "linecolor": "rgb(36,36,36)",
            "showgrid": false,
            "showline": true,
            "ticks": "outside"
           },
           "bgcolor": "white",
           "radialaxis": {
            "gridcolor": "rgb(232,232,232)",
            "linecolor": "rgb(36,36,36)",
            "showgrid": false,
            "showline": true,
            "ticks": "outside"
           }
          },
          "scene": {
           "xaxis": {
            "backgroundcolor": "white",
            "gridcolor": "rgb(232,232,232)",
            "gridwidth": 2,
            "linecolor": "rgb(36,36,36)",
            "showbackground": true,
            "showgrid": false,
            "showline": true,
            "ticks": "outside",
            "zeroline": false,
            "zerolinecolor": "rgb(36,36,36)"
           },
           "yaxis": {
            "backgroundcolor": "white",
            "gridcolor": "rgb(232,232,232)",
            "gridwidth": 2,
            "linecolor": "rgb(36,36,36)",
            "showbackground": true,
            "showgrid": false,
            "showline": true,
            "ticks": "outside",
            "zeroline": false,
            "zerolinecolor": "rgb(36,36,36)"
           },
           "zaxis": {
            "backgroundcolor": "white",
            "gridcolor": "rgb(232,232,232)",
            "gridwidth": 2,
            "linecolor": "rgb(36,36,36)",
            "showbackground": true,
            "showgrid": false,
            "showline": true,
            "ticks": "outside",
            "zeroline": false,
            "zerolinecolor": "rgb(36,36,36)"
           }
          },
          "shapedefaults": {
           "fillcolor": "black",
           "line": {
            "width": 0
           },
           "opacity": 0.3
          },
          "ternary": {
           "aaxis": {
            "gridcolor": "rgb(232,232,232)",
            "linecolor": "rgb(36,36,36)",
            "showgrid": false,
            "showline": true,
            "ticks": "outside"
           },
           "baxis": {
            "gridcolor": "rgb(232,232,232)",
            "linecolor": "rgb(36,36,36)",
            "showgrid": false,
            "showline": true,
            "ticks": "outside"
           },
           "bgcolor": "white",
           "caxis": {
            "gridcolor": "rgb(232,232,232)",
            "linecolor": "rgb(36,36,36)",
            "showgrid": false,
            "showline": true,
            "ticks": "outside"
           }
          },
          "title": {
           "x": 0.05
          },
          "xaxis": {
           "automargin": true,
           "gridcolor": "rgb(232,232,232)",
           "linecolor": "rgb(36,36,36)",
           "showgrid": false,
           "showline": true,
           "ticks": "outside",
           "title": {
            "standoff": 15
           },
           "zeroline": false,
           "zerolinecolor": "rgb(36,36,36)"
          },
          "yaxis": {
           "automargin": true,
           "gridcolor": "rgb(232,232,232)",
           "linecolor": "rgb(36,36,36)",
           "showgrid": false,
           "showline": true,
           "ticks": "outside",
           "title": {
            "standoff": 15
           },
           "zeroline": false,
           "zerolinecolor": "rgb(36,36,36)"
          }
         }
        },
        "title": {
         "font": {
          "color": "Black",
          "size": 22
         },
         "text": "<b>Topics over Time</b>",
         "x": 0.4,
         "xanchor": "center",
         "y": 0.95,
         "yanchor": "top"
        },
        "width": 1250,
        "xaxis": {
         "showgrid": true
        },
        "yaxis": {
         "showgrid": true,
         "title": {
          "text": "Frequency"
         }
        }
       }
      }
     },
     "metadata": {},
     "output_type": "display_data"
    }
   ],
   "source": [
    "model.visualize_topics_over_time(topics_over_time, topics=[31, 32, 33, 34, 35, 36, 37, 38, 39, 40])\n"
   ]
  },
  {
   "cell_type": "code",
   "execution_count": 58,
   "metadata": {},
   "outputs": [
    {
     "data": {
      "application/vnd.plotly.v1+json": {
       "config": {
        "plotlyServerURL": "https://plot.ly"
       },
       "data": [
        {
         "hoverinfo": "text",
         "hovertext": [
          "<b>Topic 0</b><br>Words: of, technology, the, and, teachers",
          "<b>Topic 0</b><br>Words: teachers, and, ict, technology, of",
          "<b>Topic 0</b><br>Words: teachers, technology, call, and, of",
          "<b>Topic 0</b><br>Words: teachers, technology, tpack, the, of",
          "<b>Topic 0</b><br>Words: teachers, call, technology, language, of",
          "<b>Topic 0</b><br>Words: technology, the, of, teachers, and",
          "<b>Topic 0</b><br>Words: technology, call, use, language, teachers",
          "<b>Topic 0</b><br>Words: technology, language, call, teachers, of",
          "<b>Topic 0</b><br>Words: technology, teachers, the, and, of",
          "<b>Topic 0</b><br>Words: tpack, teachers, technology, in, and",
          "<b>Topic 0</b><br>Words: cdl, ve, technologies, 12, districts"
         ],
         "marker": {
          "color": "#E69F00"
         },
         "mode": "lines",
         "name": "0_technology_teachers_of_and",
         "type": "scatter",
         "x": [
          2013,
          2014,
          2015,
          2016,
          2017,
          2018,
          2019,
          2020,
          2021,
          2022,
          2023
         ],
         "y": [
          32,
          14,
          14,
          22,
          14,
          13,
          6,
          9,
          10,
          10,
          2
         ]
        },
        {
         "hoverinfo": "text",
         "hovertext": [
          "<b>Topic 1</b><br>Words: information, program, is, systems, the",
          "<b>Topic 1</b><br>Words: information, systems, is, it, of",
          "<b>Topic 1</b><br>Words: is, business, cis, of, information",
          "<b>Topic 1</b><br>Words: is, information, the, to, of",
          "<b>Topic 1</b><br>Words: is, information, majors, major, systems",
          "<b>Topic 1</b><br>Words: information, systems, is, job, and",
          "<b>Topic 1</b><br>Words: information, systems, is, and, the",
          "<b>Topic 1</b><br>Words: information, systems, to, business, is",
          "<b>Topic 1</b><br>Words: bis, internship, and, the, of",
          "<b>Topic 1</b><br>Words: digital, information, skills, is, to",
          "<b>Topic 1</b><br>Words: engineering, job, industry, mechanical, laboratories"
         ],
         "marker": {
          "color": "#56B4E9"
         },
         "mode": "lines",
         "name": "1_information_is_systems_the",
         "type": "scatter",
         "x": [
          2013,
          2014,
          2015,
          2016,
          2017,
          2018,
          2019,
          2020,
          2021,
          2022,
          2023
         ],
         "y": [
          14,
          19,
          14,
          11,
          12,
          13,
          16,
          7,
          6,
          13,
          1
         ]
        },
        {
         "hoverinfo": "text",
         "hovertext": [
          "<b>Topic 2</b><br>Words: and, intercultural, chinese, the, cultural",
          "<b>Topic 2</b><br>Words: intercultural, the, and, chinese, of",
          "<b>Topic 2</b><br>Words: intercultural, telecollaboration, and, of, the",
          "<b>Topic 2</b><br>Words: telecollaboration, intercultural, project, the, of",
          "<b>Topic 2</b><br>Words: intercultural, telecollaboration, communication, and, of",
          "<b>Topic 2</b><br>Words: intercultural, telecollaboration, telecollaborative, icc, and",
          "<b>Topic 2</b><br>Words: intercultural, telecollaboration, icc, and, in",
          "<b>Topic 2</b><br>Words: telecollaboration, intercultural, and, their, of",
          "<b>Topic 2</b><br>Words: intercultural, cultural, and, in, of",
          "<b>Topic 2</b><br>Words: emotions, telecollaborative, the, telecollaboration, of"
         ],
         "marker": {
          "color": "#009E73"
         },
         "mode": "lines",
         "name": "2_intercultural_telecollaboration_and_th...",
         "type": "scatter",
         "x": [
          2013,
          2014,
          2015,
          2016,
          2017,
          2018,
          2019,
          2020,
          2021,
          2022
         ],
         "y": [
          7,
          9,
          7,
          9,
          8,
          12,
          7,
          8,
          7,
          7
         ]
        },
        {
         "hoverinfo": "text",
         "hovertext": [
          "<b>Topic 3</b><br>Words: services, data, business, library, analytics",
          "<b>Topic 3</b><br>Words: data, big, analytics, unstructured, business",
          "<b>Topic 3</b><br>Words: analytics, data, business, big, curriculum",
          "<b>Topic 3</b><br>Words: data, analytics, big, visualization, business",
          "<b>Topic 3</b><br>Words: analytics, data, business, big, as",
          "<b>Topic 3</b><br>Words: data, analytics, business, big, to",
          "<b>Topic 3</b><br>Words: analytics, data, business, visualization, for",
          "<b>Topic 3</b><br>Words: analytics, data, business, to, the",
          "<b>Topic 3</b><br>Words: analytics, data, business, big, to",
          "<b>Topic 3</b><br>Words: analytics, data, business, dm, to",
          "<b>Topic 3</b><br>Words: intelligent, ml, machine, data, analytics"
         ],
         "marker": {
          "color": "#F0E442"
         },
         "mode": "lines",
         "name": "3_analytics_data_business_big",
         "type": "scatter",
         "x": [
          2013,
          2014,
          2015,
          2016,
          2017,
          2018,
          2019,
          2020,
          2021,
          2022,
          2023
         ],
         "y": [
          3,
          3,
          9,
          8,
          5,
          9,
          9,
          13,
          7,
          8,
          1
         ]
        },
        {
         "hoverinfo": "text",
         "hovertext": [
          "<b>Topic 4</b><br>Words: scmc, communication, task, synchronous, proficiency",
          "<b>Topic 4</b><br>Words: communication, scmc, face, learners, in",
          "<b>Topic 4</b><br>Words: task, f2f, chat, discourse, language",
          "<b>Topic 4</b><br>Words: scmc, csi, based, css, text",
          "<b>Topic 4</b><br>Words: task, scmc, learners, face, communication",
          "<b>Topic 4</b><br>Words: task, interactional, negotiation, learners, oral",
          "<b>Topic 4</b><br>Words: vc, presentational, fluency, f2f, tasks",
          "<b>Topic 4</b><br>Words: task, learners, selt, oral, language",
          "<b>Topic 4</b><br>Words: spanish, etandem, language, loewen, nns",
          "<b>Topic 4</b><br>Words: recasts, ftf, scmc, uptake, condition"
         ],
         "marker": {
          "color": "#D55E00"
         },
         "mode": "lines",
         "name": "4_task_scmc_learners_communication",
         "type": "scatter",
         "x": [
          2013,
          2014,
          2015,
          2016,
          2017,
          2018,
          2019,
          2020,
          2021,
          2022
         ],
         "y": [
          6,
          6,
          5,
          3,
          11,
          7,
          2,
          7,
          3,
          1
         ]
        },
        {
         "hoverinfo": "text",
         "hovertext": [
          "<b>Topic 5</b><br>Words: linking, adverbials, ddl, corpus, corpora",
          "<b>Topic 5</b><br>Words: corpus, corpora, ddl, the, use",
          "<b>Topic 5</b><br>Words: corpus, bilingual, of, english, word",
          "<b>Topic 5</b><br>Words: corpus, collocation, ddl, concordancing, collocations",
          "<b>Topic 5</b><br>Words: corpus, corpora, ddl, use, concordance",
          "<b>Topic 5</b><br>Words: ddl, overgenerated, corpus, grammar, their",
          "<b>Topic 5</b><br>Words: corpus, ddl, corpora, query, collocation",
          "<b>Topic 5</b><br>Words: b2, collocation, tool, level, bundles",
          "<b>Topic 5</b><br>Words: corpus, corpora, collocation, quot, of",
          "<b>Topic 5</b><br>Words: corpus, corpora, ddl, normalisation, aided",
          "<b>Topic 5</b><br>Words: corpus, cl, corpora, teachers, ddl"
         ],
         "marker": {
          "color": "#0072B2"
         },
         "mode": "lines",
         "name": "5_corpus_corpora_ddl_of",
         "type": "scatter",
         "x": [
          2013,
          2014,
          2015,
          2016,
          2017,
          2018,
          2019,
          2020,
          2021,
          2022,
          2023
         ],
         "y": [
          3,
          8,
          5,
          8,
          9,
          1,
          4,
          2,
          7,
          2,
          2
         ]
        },
        {
         "hoverinfo": "text",
         "hovertext": [
          "<b>Topic 6</b><br>Words: security, cybersecurity, information, the, of",
          "<b>Topic 6</b><br>Words: security, case, information, architecture, cybersecurity",
          "<b>Topic 6</b><br>Words: cybersecurity, security, topics, threats, information",
          "<b>Topic 6</b><br>Words: security, infosec, cybersecurity, laboratory, camp",
          "<b>Topic 6</b><br>Words: security, cybersecurity, policies, certifications, cdcs",
          "<b>Topic 6</b><br>Words: security, cybersecurity, cyber, to, for",
          "<b>Topic 6</b><br>Words: security, cybersecurity, cissp, of, the",
          "<b>Topic 6</b><br>Words: cybersecurity, security, jobs, information, in",
          "<b>Topic 6</b><br>Words: cybersecurity, security, abet, accreditation, cyber",
          "<b>Topic 6</b><br>Words: cyber, insurance, risk, cybersecurity, debilitation"
         ],
         "marker": {
          "color": "#CC79A7"
         },
         "mode": "lines",
         "name": "6_security_cybersecurity_information_to",
         "type": "scatter",
         "x": [
          2013,
          2014,
          2015,
          2016,
          2017,
          2018,
          2019,
          2020,
          2021,
          2022
         ],
         "y": [
          10,
          4,
          5,
          4,
          3,
          7,
          3,
          7,
          6,
          1
         ]
        },
        {
         "hoverinfo": "text",
         "hovertext": [
          "<b>Topic 7</b><br>Words: pronunciation, speech, listening, indices, mispronunciations",
          "<b>Topic 7</b><br>Words: pronunciation, tongue, production, speech, acoustic",
          "<b>Topic 7</b><br>Words: pronunciation, recognition, asr, speech, word",
          "<b>Topic 7</b><br>Words: pronunciation, training, instruction, and, word",
          "<b>Topic 7</b><br>Words: pronunciation, wrs, listening, cf, learners",
          "<b>Topic 7</b><br>Words: pakistan, psl, deaf, perception, people",
          "<b>Topic 7</b><br>Words: pronunciation, capt, asr, dictation, the",
          "<b>Topic 7</b><br>Words: pronunciation, listening, training, learners, asr",
          "<b>Topic 7</b><br>Words: transcription, allophonic, listening, with, learners",
          "<b>Topic 7</b><br>Words: pronunciation, listening, asr, eg, speech",
          "<b>Topic 7</b><br>Words: asr, listeners, srt, speech, l1"
         ],
         "marker": {
          "color": "#E69F00"
         },
         "mode": "lines",
         "name": "7_pronunciation_asr_speech_listening",
         "type": "scatter",
         "x": [
          2013,
          2014,
          2015,
          2016,
          2017,
          2018,
          2019,
          2020,
          2021,
          2022,
          2023
         ],
         "y": [
          4,
          6,
          7,
          7,
          6,
          2,
          4,
          5,
          2,
          5,
          2
         ]
        },
        {
         "hoverinfo": "text",
         "hovertext": [
          "<b>Topic 8</b><br>Words: wiki, writing, collaborative, wikis, students",
          "<b>Topic 8</b><br>Words: writing, collaborative, wiki, in, the",
          "<b>Topic 8</b><br>Words: writing, peer, advice, feedback, the",
          "<b>Topic 8</b><br>Words: writing, peer, collaborative, feedback, comments",
          "<b>Topic 8</b><br>Words: writing, wiki, collaborative, comments, peer",
          "<b>Topic 8</b><br>Words: writing, collaborative, peer, feedback, wiki",
          "<b>Topic 8</b><br>Words: writing, wiki, collaborative, task, circles",
          "<b>Topic 8</b><br>Words: writing, feedback, comments, peer, essay",
          "<b>Topic 8</b><br>Words: writing, comments, peer, cw, lecturer",
          "<b>Topic 8</b><br>Words: automated, regulation, writing, appropriation, feedback"
         ],
         "marker": {
          "color": "#56B4E9"
         },
         "mode": "lines",
         "name": "8_writing_collaborative_wiki_peer",
         "type": "scatter",
         "x": [
          2013,
          2014,
          2015,
          2016,
          2017,
          2018,
          2019,
          2020,
          2021,
          2022
         ],
         "y": [
          5,
          6,
          5,
          7,
          7,
          6,
          5,
          2,
          4,
          2
         ]
        },
        {
         "hoverinfo": "text",
         "hovertext": [
          "<b>Topic 9</b><br>Words: mobile, learning, mall, language, of",
          "<b>Topic 9</b><br>Words: mall, mobile, application, learning, language",
          "<b>Topic 9</b><br>Words: mall, studies, mobile, learning, research",
          "<b>Topic 9</b><br>Words: vocabulary, mobile, learning, conjugating, concept",
          "<b>Topic 9</b><br>Words: mobile, learning, language, technologies, apps",
          "<b>Topic 9</b><br>Words: mobile, learning, mall, apps, language",
          "<b>Topic 9</b><br>Words: mobile, learning, mall, duolingo, vocabulary",
          "<b>Topic 9</b><br>Words: mobile, mall, l2, learning, app",
          "<b>Topic 9</b><br>Words: mobile, mall, learning, melr, language",
          "<b>Topic 9</b><br>Words: mobile, learning, mall, language, assisted"
         ],
         "marker": {
          "color": "#009E73"
         },
         "mode": "lines",
         "name": "9_mobile_mall_learning_language",
         "type": "scatter",
         "x": [
          2013,
          2014,
          2015,
          2016,
          2017,
          2018,
          2019,
          2020,
          2021,
          2022
         ],
         "y": [
          8,
          4,
          2,
          3,
          4,
          6,
          5,
          4,
          4,
          6
         ]
        },
        {
         "hoverinfo": "text",
         "hovertext": [
          "<b>Topic 10</b><br>Words: game, gaming, culture, games, playing",
          "<b>Topic 10</b><br>Words: game, games, gaming, digital, playing",
          "<b>Topic 10</b><br>Words: game, games, pupils, digital, vocabulary",
          "<b>Topic 10</b><br>Words: game, games, wow, playing, players",
          "<b>Topic 10</b><br>Words: game, games, gaming, playing, language",
          "<b>Topic 10</b><br>Words: upper, school, secondary, polish, urban",
          "<b>Topic 10</b><br>Words: vocabulary, game, l2, games, mevla",
          "<b>Topic 10</b><br>Words: gaming, game, games, quot, dgbll",
          "<b>Topic 10</b><br>Words: flow, game, dgbvl, positively, vocabulary",
          "<b>Topic 10</b><br>Words: game, games, dgbll, mechanics, digital"
         ],
         "marker": {
          "color": "#F0E442"
         },
         "mode": "lines",
         "name": "10_game_games_gaming_language",
         "type": "scatter",
         "x": [
          2013,
          2014,
          2015,
          2016,
          2017,
          2018,
          2019,
          2020,
          2021,
          2022
         ],
         "y": [
          1,
          6,
          4,
          3,
          7,
          1,
          4,
          4,
          3,
          2
         ]
        },
        {
         "hoverinfo": "text",
         "hovertext": [
          "<b>Topic 11</b><br>Words: captions, comprehension, reliance, multimedia, caption",
          "<b>Topic 11</b><br>Words: captions, captioning, comprehension, keyword, vocabulary",
          "<b>Topic 11</b><br>Words: hypermedia, captions, caption, comprehension, words",
          "<b>Topic 11</b><br>Words: vocabulary, aca, ata, l2, captions",
          "<b>Topic 11</b><br>Words: comprehension, captions, captioning, episodes, psc",
          "<b>Topic 11</b><br>Words: captioning, captions, keyword, vocabulary, learners",
          "<b>Topic 11</b><br>Words: captions, comprehension, videos, captioned, video",
          "<b>Topic 11</b><br>Words: captions, caption, vocabulary, learners, listening",
          "<b>Topic 11</b><br>Words: captions, comprehension, vlogs, vlog, pictorial",
          "<b>Topic 11</b><br>Words: captions, caption, full, keyword, proficient",
          "<b>Topic 11</b><br>Words: captions, comprehension, viewing, nonverbal, full"
         ],
         "marker": {
          "color": "#D55E00"
         },
         "mode": "lines",
         "name": "11_captions_comprehension_captioning_voc...",
         "type": "scatter",
         "x": [
          2013,
          2014,
          2015,
          2016,
          2017,
          2018,
          2019,
          2020,
          2021,
          2022,
          2023
         ],
         "y": [
          2,
          7,
          2,
          2,
          2,
          4,
          4,
          4,
          1,
          4,
          1
         ]
        },
        {
         "hoverinfo": "text",
         "hovertext": [
          "<b>Topic 12</b><br>Words: voh, offshore, virtual, vles, serious",
          "<b>Topic 12</b><br>Words: virtual, learning, vr, environments, 3d",
          "<b>Topic 12</b><br>Words: sculpture, virtual, steel, 3dve, connection",
          "<b>Topic 12</b><br>Words: virtual, environments, authors, experiences, instructors",
          "<b>Topic 12</b><br>Words: virtual, vr, reality, augmented, talktech",
          "<b>Topic 12</b><br>Words: vr, virtual, immersive, chinese, hmd",
          "<b>Topic 12</b><br>Words: vr, ar, reality, virtual, augmented",
          "<b>Topic 12</b><br>Words: vr, reality, virtual, immersive, learning",
          "<b>Topic 12</b><br>Words: vr, virtual, immersive, learning, watchers"
         ],
         "marker": {
          "color": "#0072B2"
         },
         "mode": "lines",
         "name": "12_vr_virtual_reality_learning",
         "type": "scatter",
         "x": [
          2013,
          2015,
          2016,
          2017,
          2018,
          2019,
          2020,
          2021,
          2022
         ],
         "y": [
          2,
          4,
          2,
          1,
          5,
          4,
          6,
          6,
          3
         ]
        },
        {
         "hoverinfo": "text",
         "hovertext": [
          "<b>Topic 13</b><br>Words: programming, introductory, exercises, course, lectures",
          "<b>Topic 13</b><br>Words: spacecraft, software, programming, logic, animated",
          "<b>Topic 13</b><br>Words: programming, agent, students, graded, assessments",
          "<b>Topic 13</b><br>Words: programming, misconceptions, list, introductory, software",
          "<b>Topic 13</b><br>Words: java, python, programming, textbooks, compare",
          "<b>Topic 13</b><br>Words: programming, python, assignment, introductory, codecademy",
          "<b>Topic 13</b><br>Words: programming, teaching, students, introductory, blockchain",
          "<b>Topic 13</b><br>Words: programming, python, assignments, students, introductory",
          "<b>Topic 13</b><br>Words: ai, programming, day, aaad, teaching"
         ],
         "marker": {
          "color": "#CC79A7"
         },
         "mode": "lines",
         "name": "13_programming_students_introductory_pyt...",
         "type": "scatter",
         "x": [
          2013,
          2014,
          2015,
          2016,
          2017,
          2019,
          2020,
          2021,
          2022
         ],
         "y": [
          2,
          3,
          3,
          4,
          1,
          4,
          6,
          7,
          3
         ]
        },
        {
         "hoverinfo": "text",
         "hovertext": [
          "<b>Topic 14</b><br>Words: smart, phones, mobile, smartphones, students",
          "<b>Topic 14</b><br>Words: courses, access, online, smartphone, smartphones",
          "<b>Topic 14</b><br>Words: devices, tablet, mobile, smart, phones",
          "<b>Topic 14</b><br>Words: prs, design, components, participatory, mobile",
          "<b>Topic 14</b><br>Words: smartphone, phones, mobile, device, devices",
          "<b>Topic 14</b><br>Words: magazines, drawings, devices, digital, device",
          "<b>Topic 14</b><br>Words: beacons, physical, campus, web, prospective",
          "<b>Topic 14</b><br>Words: smartphones, quot, mobile, fit, students",
          "<b>Topic 14</b><br>Words: tablet, autism, cell, devices, phone",
          "<b>Topic 14</b><br>Words: mobile, beliefs, phones, teachers, professional"
         ],
         "marker": {
          "color": "#E69F00"
         },
         "mode": "lines",
         "name": "14_mobile_devices_phones_smart",
         "type": "scatter",
         "x": [
          2013,
          2014,
          2015,
          2016,
          2017,
          2018,
          2019,
          2020,
          2021,
          2022
         ],
         "y": [
          9,
          1,
          4,
          2,
          4,
          4,
          1,
          4,
          2,
          1
         ]
        },
        {
         "hoverinfo": "text",
         "hovertext": [
          "<b>Topic 15</b><br>Words: program, 2011, health, since, moddlementors",
          "<b>Topic 15</b><br>Words: emergency, disaster, online, schools, school",
          "<b>Topic 15</b><br>Words: pandemic, covid, 19, online, to",
          "<b>Topic 15</b><br>Words: pandemic, covid, 19, online, 2020",
          "<b>Topic 15</b><br>Words: pandemic, covid, 19, online, faculty",
          "<b>Topic 15</b><br>Words: slack, channels, pandemic, conversations, messages"
         ],
         "marker": {
          "color": "#56B4E9"
         },
         "mode": "lines",
         "name": "15_pandemic_covid_online_19",
         "type": "scatter",
         "x": [
          2013,
          2016,
          2020,
          2021,
          2022,
          2023
         ],
         "y": [
          1,
          2,
          4,
          13,
          10,
          1
         ]
        },
        {
         "hoverinfo": "text",
         "hovertext": [
          "<b>Topic 16</b><br>Words: database, query, relational, databases, sql",
          "<b>Topic 16</b><br>Words: database, design, data, relational, inadequate",
          "<b>Topic 16</b><br>Words: database, case, data, sql, design",
          "<b>Topic 16</b><br>Words: database, data, sql, café, nosql",
          "<b>Topic 16</b><br>Words: database, carol, case, her, business",
          "<b>Topic 16</b><br>Words: database, f1, case, world, data",
          "<b>Topic 16</b><br>Words: sql, database, query, blockchain, bitcoin",
          "<b>Topic 16</b><br>Words: database, case, modeling, design, data",
          "<b>Topic 16</b><br>Words: database, theatre, indiana, theatreworks, strives",
          "<b>Topic 16</b><br>Words: database, sql, case, data, diagrams"
         ],
         "marker": {
          "color": "#009E73"
         },
         "mode": "lines",
         "name": "16_database_sql_query_data",
         "type": "scatter",
         "x": [
          2013,
          2014,
          2015,
          2016,
          2017,
          2018,
          2019,
          2020,
          2021,
          2022
         ],
         "y": [
          5,
          1,
          8,
          3,
          2,
          3,
          3,
          2,
          1,
          3
         ]
        },
        {
         "hoverinfo": "text",
         "hovertext": [
          "<b>Topic 17</b><br>Words: bl, oasa, blended, faculty, courses",
          "<b>Topic 17</b><br>Words: blended, mooc, summary, teachers, online",
          "<b>Topic 17</b><br>Words: blended, ukraine, we, online, poland",
          "<b>Topic 17</b><br>Words: perceived, accomplishment, factors, enjoyment, blended",
          "<b>Topic 17</b><br>Words: blended, ukrainian, discussion, spanish, the",
          "<b>Topic 17</b><br>Words: online, blended, learning, course, lmooc",
          "<b>Topic 17</b><br>Words: f2f, blended, roles, learning, managerial",
          "<b>Topic 17</b><br>Words: blended, presences, learning, coi, experiences",
          "<b>Topic 17</b><br>Words: blended, lmoocs, online, massive, course",
          "<b>Topic 17</b><br>Words: lmoocs, lmooc, attention, blended, collective"
         ],
         "marker": {
          "color": "#F0E442"
         },
         "mode": "lines",
         "name": "17_blended_online_learning_lmoocs",
         "type": "scatter",
         "x": [
          2013,
          2014,
          2015,
          2016,
          2017,
          2018,
          2019,
          2020,
          2021,
          2022
         ],
         "y": [
          3,
          3,
          2,
          1,
          2,
          5,
          1,
          2,
          8,
          3
         ]
        },
        {
         "hoverinfo": "text",
         "hovertext": [
          "<b>Topic 18</b><br>Words: flipped, classroom, class, personal, students",
          "<b>Topic 18</b><br>Words: flipped, class, lecture, classroom, quiz",
          "<b>Topic 18</b><br>Words: flipped, flip, classroom, structured, lessons",
          "<b>Topic 18</b><br>Words: flipped, classroom, wtl, wid, class",
          "<b>Topic 18</b><br>Words: flipped, classroom, the, learning, class",
          "<b>Topic 18</b><br>Words: flipped, class, classroom, in, learning",
          "<b>Topic 18</b><br>Words: flipped, classroom, writing, in, metacognitive",
          "<b>Topic 18</b><br>Words: flipped, classroom, the, in, teaching",
          "<b>Topic 18</b><br>Words: flipped, classroom, writing, studies, the"
         ],
         "marker": {
          "color": "#D55E00"
         },
         "mode": "lines",
         "name": "18_flipped_classroom_the_class",
         "type": "scatter",
         "x": [
          2013,
          2014,
          2015,
          2016,
          2017,
          2018,
          2020,
          2021,
          2022
         ],
         "y": [
          1,
          2,
          2,
          3,
          6,
          4,
          4,
          6,
          2
         ]
        },
        {
         "hoverinfo": "text",
         "hovertext": [
          "<b>Topic 19</b><br>Words: internet, cent, per, scientists, social",
          "<b>Topic 19</b><br>Words: network, social, predictors, services, sites",
          "<b>Topic 19</b><br>Words: media, social, internet, views, dependencies",
          "<b>Topic 19</b><br>Words: internet, addiction, social, media, facebook",
          "<b>Topic 19</b><br>Words: facebook, social, media, veterans, connectedness",
          "<b>Topic 19</b><br>Words: social, media, platform, internet, confidential",
          "<b>Topic 19</b><br>Words: social, media, instagram, presence, facebook",
          "<b>Topic 19</b><br>Words: whatsapp, media, social, gradable, risks",
          "<b>Topic 19</b><br>Words: instagram, adolescents, social, media, quot",
          "<b>Topic 19</b><br>Words: media, social, twitter, educational, hashtags"
         ],
         "marker": {
          "color": "#0072B2"
         },
         "mode": "lines",
         "name": "19_social_media_internet_facebook",
         "type": "scatter",
         "x": [
          2013,
          2014,
          2015,
          2016,
          2017,
          2018,
          2019,
          2020,
          2021,
          2022
         ],
         "y": [
          4,
          1,
          2,
          3,
          4,
          2,
          3,
          2,
          2,
          4
         ]
        },
        {
         "hoverinfo": "text",
         "hovertext": [
          "<b>Topic 20</b><br>Words: online, moocs, courses, learning, education",
          "<b>Topic 20</b><br>Words: online, qm, delivery, courses, distance",
          "<b>Topic 20</b><br>Words: online, will, be, qm, student",
          "<b>Topic 20</b><br>Words: matters, standards, online, quality, guide",
          "<b>Topic 20</b><br>Words: distance, education, issues, online, content",
          "<b>Topic 20</b><br>Words: moocs, instructors, online, courses, students",
          "<b>Topic 20</b><br>Words: danmaku, sending, online, content, video",
          "<b>Topic 20</b><br>Words: instructional, designers, online, courses, examples",
          "<b>Topic 20</b><br>Words: online, active, he, faculty, instructional"
         ],
         "marker": {
          "color": "#CC79A7"
         },
         "mode": "lines",
         "name": "20_online_moocs_courses_education",
         "type": "scatter",
         "x": [
          2013,
          2014,
          2015,
          2016,
          2017,
          2018,
          2019,
          2020,
          2023
         ],
         "y": [
          5,
          6,
          3,
          2,
          2,
          2,
          2,
          1,
          1
         ]
        },
        {
         "hoverinfo": "text",
         "hovertext": [
          "<b>Topic 21</b><br>Words: plagiarism, integrity, academic, surrounding, assignments",
          "<b>Topic 21</b><br>Words: intercept, sniffing, intercepted, someone, headlines",
          "<b>Topic 21</b><br>Words: steganography, dishonesty, plagiarism, cryptography, academic",
          "<b>Topic 21</b><br>Words: integrity, plagiarism, academic, ethical, dishonesty",
          "<b>Topic 21</b><br>Words: mary, privacy, carl, she, ethical",
          "<b>Topic 21</b><br>Words: privacy, ethical, information, ethics, integrity",
          "<b>Topic 21</b><br>Words: privacy, education, formal, 99, inventoried",
          "<b>Topic 21</b><br>Words: educational, review, privacy, process, stakeholders"
         ],
         "marker": {
          "color": "#E69F00"
         },
         "mode": "lines",
         "name": "21_privacy_plagiarism_integrity_academic",
         "type": "scatter",
         "x": [
          2013,
          2014,
          2015,
          2016,
          2017,
          2020,
          2021,
          2022
         ],
         "y": [
          3,
          1,
          3,
          6,
          3,
          3,
          1,
          1
         ]
        },
        {
         "hoverinfo": "text",
         "hovertext": [
          "<b>Topic 22</b><br>Words: multimodal, off, screen, webcam, dvc",
          "<b>Topic 22</b><br>Words: multimodal, presence, communication, the, of",
          "<b>Topic 22</b><br>Words: webcams, webcam, multimodal, trainee, teachers",
          "<b>Topic 22</b><br>Words: multimodal, communication, researchers, transcribing, interactions",
          "<b>Topic 22</b><br>Words: multimodal, modes, virtual, their, multiliteracies",
          "<b>Topic 22</b><br>Words: videoconferencing, audioconferencing, condition, referential, lexical",
          "<b>Topic 22</b><br>Words: semiotic, multimodal, screen, presence, as",
          "<b>Topic 22</b><br>Words: multimodal, video, vpr, presentation, communication"
         ],
         "marker": {
          "color": "#56B4E9"
         },
         "mode": "lines",
         "name": "22_multimodal_of_communication_the",
         "type": "scatter",
         "x": [
          2013,
          2015,
          2016,
          2017,
          2018,
          2019,
          2020,
          2022
         ],
         "y": [
          3,
          4,
          4,
          2,
          2,
          1,
          2,
          3
         ]
        },
        {
         "hoverinfo": "text",
         "hovertext": [
          "<b>Topic 23</b><br>Words: feedback, corrective, icall, recast, errors",
          "<b>Topic 23</b><br>Words: feedback, criterion, immediate, codes, correct",
          "<b>Topic 23</b><br>Words: feedback, awe, causal, writing, scf",
          "<b>Topic 23</b><br>Words: drafts, feedback, criterion, term, first",
          "<b>Topic 23</b><br>Words: feedback, awcf, error, l1, awe",
          "<b>Topic 23</b><br>Words: feedback, drills, automated, ect, writing",
          "<b>Topic 23</b><br>Words: feedback, gcs, errors, error, word",
          "<b>Topic 23</b><br>Words: feedback, error, cf, correction, instruction",
          "<b>Topic 23</b><br>Words: feedback, awe, error, corrective, writing"
         ],
         "marker": {
          "color": "#009E73"
         },
         "mode": "lines",
         "name": "23_feedback_error_writing_awe",
         "type": "scatter",
         "x": [
          2014,
          2015,
          2016,
          2017,
          2018,
          2019,
          2020,
          2021,
          2022
         ],
         "y": [
          2,
          1,
          4,
          1,
          2,
          2,
          2,
          4,
          3
         ]
        },
        {
         "hoverinfo": "text",
         "hovertext": [
          "<b>Topic 24</b><br>Words: hospital, company, case, healthcare, medical",
          "<b>Topic 24</b><br>Words: ed, hch, lim, kim, pic",
          "<b>Topic 24</b><br>Words: payroll, cpda, healthcare, medical, case",
          "<b>Topic 24</b><br>Words: customer, rtc, is2010, sales, his",
          "<b>Topic 24</b><br>Words: comprehensivecare, case, adoption, administrator, system",
          "<b>Topic 24</b><br>Words: acs, bia, team, intelligence, project",
          "<b>Topic 24</b><br>Words: fiserv, clients, crm, customer, deal",
          "<b>Topic 24</b><br>Words: case, hira, mark, his, pet"
         ],
         "marker": {
          "color": "#F0E442"
         },
         "mode": "lines",
         "name": "24_case_the_to_company",
         "type": "scatter",
         "x": [
          2013,
          2014,
          2015,
          2016,
          2017,
          2018,
          2019,
          2022
         ],
         "y": [
          4,
          1,
          4,
          2,
          4,
          1,
          2,
          2
         ]
        },
        {
         "hoverinfo": "text",
         "hovertext": [
          "<b>Topic 25</b><br>Words: scrum, agile, exercise, means, inspect",
          "<b>Topic 25</b><br>Words: agile, learning, fail, project, scrum",
          "<b>Topic 25</b><br>Words: agile, scrum, uncertainty, development, to",
          "<b>Topic 25</b><br>Words: scrum, agile, projects, devops, software",
          "<b>Topic 25</b><br>Words: agile, scrum, project, to, teams",
          "<b>Topic 25</b><br>Words: agile, course, process, scrum, evaluations",
          "<b>Topic 25</b><br>Words: scrum, agile, project, to, experience"
         ],
         "marker": {
          "color": "#D55E00"
         },
         "mode": "lines",
         "name": "25_agile_scrum_project_to",
         "type": "scatter",
         "x": [
          2016,
          2017,
          2018,
          2019,
          2020,
          2021,
          2022
         ],
         "y": [
          1,
          1,
          8,
          2,
          5,
          2,
          1
         ]
        },
        {
         "hoverinfo": "text",
         "hovertext": [
          "<b>Topic 26</b><br>Words: game, author, survivor, jeopardy, quot",
          "<b>Topic 26</b><br>Words: gamification, game, games, personalized, learning",
          "<b>Topic 26</b><br>Words: gamification, game, lms, games, elements",
          "<b>Topic 26</b><br>Words: gamification, gamified, gamers, engaging, games",
          "<b>Topic 26</b><br>Words: gamification, games, serious, coins, classroom",
          "<b>Topic 26</b><br>Words: elements, gamification, game, motivational, engagement",
          "<b>Topic 26</b><br>Words: games, competition, game, gamification, serious",
          "<b>Topic 26</b><br>Words: gamification, education, theme, themes, mcfarlane",
          "<b>Topic 26</b><br>Words: gamification, lesl, learning, gamified, outcomes",
          "<b>Topic 26</b><br>Words: kahoot, gamification, gamifying, curiosity, epistemic"
         ],
         "marker": {
          "color": "#0072B2"
         },
         "mode": "lines",
         "name": "26_gamification_game_games_kahoot",
         "type": "scatter",
         "x": [
          2013,
          2014,
          2015,
          2016,
          2017,
          2018,
          2019,
          2020,
          2021,
          2022
         ],
         "y": [
          1,
          2,
          2,
          1,
          2,
          2,
          3,
          1,
          3,
          2
         ]
        },
        {
         "hoverinfo": "text",
         "hovertext": [
          "<b>Topic 27</b><br>Words: storytelling, digital, shift, meaningful, case",
          "<b>Topic 27</b><br>Words: storytelling, digital, malaysian, instructors, concern",
          "<b>Topic 27</b><br>Words: storytelling, speaking, stories, digital, dss",
          "<b>Topic 27</b><br>Words: storytelling, narrative, digital, creativity, dst",
          "<b>Topic 27</b><br>Words: narrative, storytelling, digital, graphic, exams",
          "<b>Topic 27</b><br>Words: storytelling, digital, 4s, stories, and",
          "<b>Topic 27</b><br>Words: stories, storytelling, dst, digital, the"
         ],
         "marker": {
          "color": "#CC79A7"
         },
         "mode": "lines",
         "name": "27_storytelling_digital_narrative_storie...",
         "type": "scatter",
         "x": [
          2013,
          2014,
          2016,
          2019,
          2020,
          2021,
          2022
         ],
         "y": [
          1,
          1,
          3,
          4,
          2,
          5,
          3
         ]
        },
        {
         "hoverinfo": "text",
         "hovertext": [
          "<b>Topic 28</b><br>Words: reading, strategy, efl, strategies, the",
          "<b>Topic 28</b><br>Words: reading, comprehension, readers, strategy, online",
          "<b>Topic 28</b><br>Words: reading, proficient, book, comprehension, annotations",
          "<b>Topic 28</b><br>Words: reading, books, multisensory, readers, book",
          "<b>Topic 28</b><br>Words: reading, annotations, rt, comprehension, progress",
          "<b>Topic 28</b><br>Words: reading, comprehension, exposure, size, were",
          "<b>Topic 28</b><br>Words: reading, programs, computer, risk, basic",
          "<b>Topic 28</b><br>Words: reading, features, mobile, efl, comprehension"
         ],
         "marker": {
          "color": "#E69F00"
         },
         "mode": "lines",
         "name": "28_reading_comprehension_readers_books",
         "type": "scatter",
         "x": [
          2013,
          2014,
          2015,
          2016,
          2017,
          2020,
          2021,
          2022
         ],
         "y": [
          3,
          2,
          4,
          5,
          1,
          1,
          1,
          2
         ]
        },
        {
         "hoverinfo": "text",
         "hovertext": [
          "<b>Topic 29</b><br>Words: team, teams, virtual, teamwork, peer",
          "<b>Topic 29</b><br>Words: pair, programming, work, team, effectiveness",
          "<b>Topic 29</b><br>Words: teams, setting, we, classroom, modified",
          "<b>Topic 29</b><br>Words: team, sharing, quantity, quality, impact",
          "<b>Topic 29</b><br>Words: team, teamwork, teams, group, net",
          "<b>Topic 29</b><br>Words: team, leadership, ipad, cohesiveness, app",
          "<b>Topic 29</b><br>Words: problems, discussion, group, teamwork, accountability",
          "<b>Topic 29</b><br>Words: teamwork, assignment, ux, skills, hackathon"
         ],
         "marker": {
          "color": "#56B4E9"
         },
         "mode": "lines",
         "name": "29_team_teamwork_teams_group",
         "type": "scatter",
         "x": [
          2013,
          2014,
          2015,
          2016,
          2018,
          2019,
          2020,
          2021
         ],
         "y": [
          4,
          2,
          1,
          2,
          4,
          2,
          2,
          1
         ]
        },
        {
         "hoverinfo": "text",
         "hovertext": [
          "<b>Topic 30</b><br>Words: global, globalisation, political, of, globalization",
          "<b>Topic 30</b><br>Words: global, income, quot, the, countries",
          "<b>Topic 30</b><br>Words: dsclt, alliances, bound, international, global"
         ],
         "marker": {
          "color": "#009E73"
         },
         "mode": "lines",
         "name": "30_global_income_quot_of",
         "type": "scatter",
         "x": [
          2013,
          2014,
          2015
         ],
         "y": [
          9,
          7,
          1
         ]
        },
        {
         "hoverinfo": "text",
         "hovertext": [
          "<b>Topic 31</b><br>Words: fb, force, technology, sns, learners",
          "<b>Topic 31</b><br>Words: fb, networking, moodle, social, sites",
          "<b>Topic 31</b><br>Words: snsll, sites, speaking, learning, as",
          "<b>Topic 31</b><br>Words: abroad, learning, language, at, social",
          "<b>Topic 31</b><br>Words: sp, sna, interaction, participation, online",
          "<b>Topic 31</b><br>Words: online, vcops, language, awareness, and",
          "<b>Topic 31</b><br>Words: testers, kabilan, embracers, professional, catalyst"
         ],
         "marker": {
          "color": "#F0E442"
         },
         "mode": "lines",
         "name": "31_learning_language_social_online",
         "type": "scatter",
         "x": [
          2013,
          2014,
          2015,
          2016,
          2018,
          2020,
          2022
         ],
         "y": [
          1,
          2,
          3,
          3,
          2,
          5,
          1
         ]
        },
        {
         "hoverinfo": "text",
         "hovertext": [
          "<b>Topic 32</b><br>Words: health, physical, patients, the, of",
          "<b>Topic 32</b><br>Words: health, the, cancer, screening, of"
         ],
         "marker": {
          "color": "#D55E00"
         },
         "mode": "lines",
         "name": "32_health_physical_the_of",
         "type": "scatter",
         "x": [
          2015,
          2016
         ],
         "y": [
          10,
          7
         ]
        },
        {
         "hoverinfo": "text",
         "hovertext": [
          "<b>Topic 33</b><br>Words: stress, the, of, mental, distress",
          "<b>Topic 33</b><br>Words: education, the, preschool, school, philosophy",
          "<b>Topic 33</b><br>Words: education, sport, the, we, works"
         ],
         "marker": {
          "color": "#0072B2"
         },
         "mode": "lines",
         "name": "33_the_education_of_preschool",
         "type": "scatter",
         "x": [
          2015,
          2016,
          2017
         ],
         "y": [
          3,
          10,
          3
         ]
        },
        {
         "hoverinfo": "text",
         "hovertext": [
          "<b>Topic 34</b><br>Words: robot, joint, disorder, humanoid, autism",
          "<b>Topic 34</b><br>Words: telepresence, robots, authentic, robot, fl",
          "<b>Topic 34</b><br>Words: dialogue, robot, we, quot, interviewers",
          "<b>Topic 34</b><br>Words: rall, echo, robot, chatbots, learners",
          "<b>Topic 34</b><br>Words: robot, authoring, telepresence, system, design",
          "<b>Topic 34</b><br>Words: robot, chatbot, chatbots, ellie, rall"
         ],
         "marker": {
          "color": "#CC79A7"
         },
         "mode": "lines",
         "name": "34_robot_rall_chatbots_chatbot",
         "type": "scatter",
         "x": [
          2017,
          2018,
          2019,
          2020,
          2021,
          2022
         ],
         "y": [
          1,
          1,
          2,
          3,
          2,
          6
         ]
        },
        {
         "hoverinfo": "text",
         "hovertext": [
          "<b>Topic 35</b><br>Words: game, ia, tutoring, lab, facility",
          "<b>Topic 35</b><br>Words: inventor, sandbox, app, programming, cis",
          "<b>Topic 35</b><br>Words: inventor, app, programmers, month, programming",
          "<b>Topic 35</b><br>Words: peg, app, game, camp, android",
          "<b>Topic 35</b><br>Words: android, development, mobile, application, capstone",
          "<b>Topic 35</b><br>Words: apps, engineering, courses, raspberry, pi",
          "<b>Topic 35</b><br>Words: app, development, courses, module, code"
         ],
         "marker": {
          "color": "#E69F00"
         },
         "mode": "lines",
         "name": "35_app_development_inventor_android",
         "type": "scatter",
         "x": [
          2013,
          2014,
          2015,
          2016,
          2017,
          2018,
          2021
         ],
         "y": [
          3,
          2,
          1,
          4,
          1,
          2,
          2
         ]
        },
        {
         "hoverinfo": "text",
         "hovertext": [
          "<b>Topic 36</b><br>Words: vocabulary, ocw, si, l2, acquisition",
          "<b>Topic 36</b><br>Words: gloss, proficiency, glosses, l2, l1",
          "<b>Topic 36</b><br>Words: vocabulary, instrument, constructing, technical, clips",
          "<b>Topic 36</b><br>Words: vocabulary, lexis, l2, lexisboard, items",
          "<b>Topic 36</b><br>Words: vocabulary, tmvd, l2, learning, ortega",
          "<b>Topic 36</b><br>Words: ctpr, vocabulary, tpr, english, collaborative",
          "<b>Topic 36</b><br>Words: dictionary, at, vocabulary, mediated, learning",
          "<b>Topic 36</b><br>Words: idioms, vocabulary, l2, quizlet, acquisition"
         ],
         "marker": {
          "color": "#56B4E9"
         },
         "mode": "lines",
         "name": "36_vocabulary_l2_idioms_gloss",
         "type": "scatter",
         "x": [
          2013,
          2014,
          2015,
          2016,
          2018,
          2019,
          2020,
          2022
         ],
         "y": [
          3,
          1,
          1,
          2,
          2,
          1,
          1,
          3
         ]
        },
        {
         "hoverinfo": "text",
         "hovertext": [
          "<b>Topic 37</b><br>Words: cloud, computing, track, software, to",
          "<b>Topic 37</b><br>Words: decision, cloud, cc, institute, educational",
          "<b>Topic 37</b><br>Words: cloud, computing, can, services, information",
          "<b>Topic 37</b><br>Words: cloud, computing, services, universities, house",
          "<b>Topic 37</b><br>Words: cloud, computing, aws, it, topic",
          "<b>Topic 37</b><br>Words: cloud, computing, infrastructure, cis, organizations",
          "<b>Topic 37</b><br>Words: cloud, forensic, computing, acquisitions, digital",
          "<b>Topic 37</b><br>Words: cloud, aws, labs, to, intended",
          "<b>Topic 37</b><br>Words: cloud, computing, aws, services, as"
         ],
         "marker": {
          "color": "#009E73"
         },
         "mode": "lines",
         "name": "37_cloud_computing_decision_cc",
         "type": "scatter",
         "x": [
          2013,
          2014,
          2016,
          2017,
          2018,
          2019,
          2020,
          2021,
          2022
         ],
         "y": [
          2,
          1,
          2,
          2,
          1,
          1,
          1,
          2,
          1
         ]
        },
        {
         "hoverinfo": "text",
         "hovertext": [
          "<b>Topic 38</b><br>Words: anxiety, fl, listening, causal, foreign",
          "<b>Topic 38</b><br>Words: fla, anxiety, acmc, affordances, horwitz",
          "<b>Topic 38</b><br>Words: repetition, anxiety, hybrid, task, caf",
          "<b>Topic 38</b><br>Words: ei, anxiety, fla, emotional, group",
          "<b>Topic 38</b><br>Words: anonymity, vw, fla, anxiety, participants",
          "<b>Topic 38</b><br>Words: idle, quantity, diversity, anxiety, outcomes",
          "<b>Topic 38</b><br>Words: anxiety, fla, vr, self, speaking",
          "<b>Topic 38</b><br>Words: anxiety, fla, vr, speaking, flsa"
         ],
         "marker": {
          "color": "#F0E442"
         },
         "mode": "lines",
         "name": "38_anxiety_fla_repetition_participants",
         "type": "scatter",
         "x": [
          2013,
          2014,
          2016,
          2017,
          2018,
          2019,
          2021,
          2022
         ],
         "y": [
          1,
          1,
          2,
          2,
          1,
          1,
          2,
          3
         ]
        },
        {
         "hoverinfo": "text",
         "hovertext": [
          "<b>Topic 39</b><br>Words: erp, benefits, enterprise, investment, resource",
          "<b>Topic 39</b><br>Words: process, bpm, business, simulation, modeling",
          "<b>Topic 39</b><br>Words: business, erp, enterprise, systems, processes",
          "<b>Topic 39</b><br>Words: ax, enterprise, dynamics, claims, erp",
          "<b>Topic 39</b><br>Words: erp, business, planning, exercise, sdlc",
          "<b>Topic 39</b><br>Words: erp, business, erpsim, dynamics, validated",
          "<b>Topic 39</b><br>Words: erp, business, simulation, chain, supply"
         ],
         "marker": {
          "color": "#D55E00"
         },
         "mode": "lines",
         "name": "39_erp_business_enterprise_systems",
         "type": "scatter",
         "x": [
          2013,
          2014,
          2015,
          2016,
          2017,
          2019,
          2020
         ],
         "y": [
          1,
          1,
          4,
          2,
          2,
          1,
          2
         ]
        },
        {
         "hoverinfo": "text",
         "hovertext": [
          "<b>Topic 40</b><br>Words: disabilities, community, higher, design, portfolio",
          "<b>Topic 40</b><br>Words: change, disabilities, systems, programme, design",
          "<b>Topic 40</b><br>Words: disabilities, disabled, disability, individuals, film",
          "<b>Topic 40</b><br>Words: disabilities, systems, stem, information, enough",
          "<b>Topic 40</b><br>Words: disabilities, people, portfolios, with, authors",
          "<b>Topic 40</b><br>Words: web, curb, cuts, disabilities, accessibility",
          "<b>Topic 40</b><br>Words: neuro, inclusion, disabilities, is, design"
         ],
         "marker": {
          "color": "#0072B2"
         },
         "mode": "lines",
         "name": "40_disabilities_systems_design_of",
         "type": "scatter",
         "x": [
          2013,
          2014,
          2015,
          2018,
          2019,
          2020,
          2022
         ],
         "y": [
          2,
          2,
          3,
          2,
          1,
          1,
          2
         ]
        },
        {
         "hoverinfo": "text",
         "hovertext": [
          "<b>Topic 41</b><br>Words: discussions, aaods, asynchronous, online, statistics",
          "<b>Topic 41</b><br>Words: discussions, online, student, engagement, we",
          "<b>Topic 41</b><br>Words: ohs, expectations, engagement, student, edt",
          "<b>Topic 41</b><br>Words: discussions, online, assessment, interactions, learning",
          "<b>Topic 41</b><br>Words: discussion, student, engagement, discussions, postings",
          "<b>Topic 41</b><br>Words: community, perusall, peer, communities, faculty",
          "<b>Topic 41</b><br>Words: asynchronously, asynchronous, communities, challenging, remote"
         ],
         "marker": {
          "color": "#CC79A7"
         },
         "mode": "lines",
         "name": "41_discussions_online_student_discussion",
         "type": "scatter",
         "x": [
          2013,
          2014,
          2015,
          2017,
          2019,
          2020,
          2022
         ],
         "y": [
          1,
          3,
          1,
          2,
          2,
          2,
          1
         ]
        },
        {
         "hoverinfo": "text",
         "hovertext": [
          "<b>Topic 42</b><br>Words: blogs, blog, writing, blogging, their",
          "<b>Topic 42</b><br>Words: news, literacy, writers, blogging, newsactivist",
          "<b>Topic 42</b><br>Words: blog, blogging, ius, blogs, experiences",
          "<b>Topic 42</b><br>Words: metalinguistic, blogs, writing, class, blog",
          "<b>Topic 42</b><br>Words: blogging, blog, writers, traditional, writing",
          "<b>Topic 42</b><br>Words: blogging, active, online, techniques, delivery",
          "<b>Topic 42</b><br>Words: fanfiction, hobbit, 122, stories, were"
         ],
         "marker": {
          "color": "#E69F00"
         },
         "mode": "lines",
         "name": "42_blogs_blogging_blog_writing",
         "type": "scatter",
         "x": [
          2013,
          2014,
          2015,
          2016,
          2017,
          2018,
          2019
         ],
         "y": [
          2,
          2,
          2,
          1,
          2,
          1,
          1
         ]
        }
       ],
       "layout": {
        "height": 450,
        "hoverlabel": {
         "bgcolor": "white",
         "font": {
          "family": "Rockwell",
          "size": 16
         }
        },
        "legend": {
         "title": {
          "text": "<b>Global Topic Representation"
         }
        },
        "template": {
         "data": {
          "bar": [
           {
            "error_x": {
             "color": "rgb(36,36,36)"
            },
            "error_y": {
             "color": "rgb(36,36,36)"
            },
            "marker": {
             "line": {
              "color": "white",
              "width": 0.5
             },
             "pattern": {
              "fillmode": "overlay",
              "size": 10,
              "solidity": 0.2
             }
            },
            "type": "bar"
           }
          ],
          "barpolar": [
           {
            "marker": {
             "line": {
              "color": "white",
              "width": 0.5
             },
             "pattern": {
              "fillmode": "overlay",
              "size": 10,
              "solidity": 0.2
             }
            },
            "type": "barpolar"
           }
          ],
          "carpet": [
           {
            "aaxis": {
             "endlinecolor": "rgb(36,36,36)",
             "gridcolor": "white",
             "linecolor": "white",
             "minorgridcolor": "white",
             "startlinecolor": "rgb(36,36,36)"
            },
            "baxis": {
             "endlinecolor": "rgb(36,36,36)",
             "gridcolor": "white",
             "linecolor": "white",
             "minorgridcolor": "white",
             "startlinecolor": "rgb(36,36,36)"
            },
            "type": "carpet"
           }
          ],
          "choropleth": [
           {
            "colorbar": {
             "outlinewidth": 1,
             "tickcolor": "rgb(36,36,36)",
             "ticks": "outside"
            },
            "type": "choropleth"
           }
          ],
          "contour": [
           {
            "colorbar": {
             "outlinewidth": 1,
             "tickcolor": "rgb(36,36,36)",
             "ticks": "outside"
            },
            "colorscale": [
             [
              0,
              "#440154"
             ],
             [
              0.1111111111111111,
              "#482878"
             ],
             [
              0.2222222222222222,
              "#3e4989"
             ],
             [
              0.3333333333333333,
              "#31688e"
             ],
             [
              0.4444444444444444,
              "#26828e"
             ],
             [
              0.5555555555555556,
              "#1f9e89"
             ],
             [
              0.6666666666666666,
              "#35b779"
             ],
             [
              0.7777777777777778,
              "#6ece58"
             ],
             [
              0.8888888888888888,
              "#b5de2b"
             ],
             [
              1,
              "#fde725"
             ]
            ],
            "type": "contour"
           }
          ],
          "contourcarpet": [
           {
            "colorbar": {
             "outlinewidth": 1,
             "tickcolor": "rgb(36,36,36)",
             "ticks": "outside"
            },
            "type": "contourcarpet"
           }
          ],
          "heatmap": [
           {
            "colorbar": {
             "outlinewidth": 1,
             "tickcolor": "rgb(36,36,36)",
             "ticks": "outside"
            },
            "colorscale": [
             [
              0,
              "#440154"
             ],
             [
              0.1111111111111111,
              "#482878"
             ],
             [
              0.2222222222222222,
              "#3e4989"
             ],
             [
              0.3333333333333333,
              "#31688e"
             ],
             [
              0.4444444444444444,
              "#26828e"
             ],
             [
              0.5555555555555556,
              "#1f9e89"
             ],
             [
              0.6666666666666666,
              "#35b779"
             ],
             [
              0.7777777777777778,
              "#6ece58"
             ],
             [
              0.8888888888888888,
              "#b5de2b"
             ],
             [
              1,
              "#fde725"
             ]
            ],
            "type": "heatmap"
           }
          ],
          "heatmapgl": [
           {
            "colorbar": {
             "outlinewidth": 1,
             "tickcolor": "rgb(36,36,36)",
             "ticks": "outside"
            },
            "colorscale": [
             [
              0,
              "#440154"
             ],
             [
              0.1111111111111111,
              "#482878"
             ],
             [
              0.2222222222222222,
              "#3e4989"
             ],
             [
              0.3333333333333333,
              "#31688e"
             ],
             [
              0.4444444444444444,
              "#26828e"
             ],
             [
              0.5555555555555556,
              "#1f9e89"
             ],
             [
              0.6666666666666666,
              "#35b779"
             ],
             [
              0.7777777777777778,
              "#6ece58"
             ],
             [
              0.8888888888888888,
              "#b5de2b"
             ],
             [
              1,
              "#fde725"
             ]
            ],
            "type": "heatmapgl"
           }
          ],
          "histogram": [
           {
            "marker": {
             "line": {
              "color": "white",
              "width": 0.6
             }
            },
            "type": "histogram"
           }
          ],
          "histogram2d": [
           {
            "colorbar": {
             "outlinewidth": 1,
             "tickcolor": "rgb(36,36,36)",
             "ticks": "outside"
            },
            "colorscale": [
             [
              0,
              "#440154"
             ],
             [
              0.1111111111111111,
              "#482878"
             ],
             [
              0.2222222222222222,
              "#3e4989"
             ],
             [
              0.3333333333333333,
              "#31688e"
             ],
             [
              0.4444444444444444,
              "#26828e"
             ],
             [
              0.5555555555555556,
              "#1f9e89"
             ],
             [
              0.6666666666666666,
              "#35b779"
             ],
             [
              0.7777777777777778,
              "#6ece58"
             ],
             [
              0.8888888888888888,
              "#b5de2b"
             ],
             [
              1,
              "#fde725"
             ]
            ],
            "type": "histogram2d"
           }
          ],
          "histogram2dcontour": [
           {
            "colorbar": {
             "outlinewidth": 1,
             "tickcolor": "rgb(36,36,36)",
             "ticks": "outside"
            },
            "colorscale": [
             [
              0,
              "#440154"
             ],
             [
              0.1111111111111111,
              "#482878"
             ],
             [
              0.2222222222222222,
              "#3e4989"
             ],
             [
              0.3333333333333333,
              "#31688e"
             ],
             [
              0.4444444444444444,
              "#26828e"
             ],
             [
              0.5555555555555556,
              "#1f9e89"
             ],
             [
              0.6666666666666666,
              "#35b779"
             ],
             [
              0.7777777777777778,
              "#6ece58"
             ],
             [
              0.8888888888888888,
              "#b5de2b"
             ],
             [
              1,
              "#fde725"
             ]
            ],
            "type": "histogram2dcontour"
           }
          ],
          "mesh3d": [
           {
            "colorbar": {
             "outlinewidth": 1,
             "tickcolor": "rgb(36,36,36)",
             "ticks": "outside"
            },
            "type": "mesh3d"
           }
          ],
          "parcoords": [
           {
            "line": {
             "colorbar": {
              "outlinewidth": 1,
              "tickcolor": "rgb(36,36,36)",
              "ticks": "outside"
             }
            },
            "type": "parcoords"
           }
          ],
          "pie": [
           {
            "automargin": true,
            "type": "pie"
           }
          ],
          "scatter": [
           {
            "fillpattern": {
             "fillmode": "overlay",
             "size": 10,
             "solidity": 0.2
            },
            "type": "scatter"
           }
          ],
          "scatter3d": [
           {
            "line": {
             "colorbar": {
              "outlinewidth": 1,
              "tickcolor": "rgb(36,36,36)",
              "ticks": "outside"
             }
            },
            "marker": {
             "colorbar": {
              "outlinewidth": 1,
              "tickcolor": "rgb(36,36,36)",
              "ticks": "outside"
             }
            },
            "type": "scatter3d"
           }
          ],
          "scattercarpet": [
           {
            "marker": {
             "colorbar": {
              "outlinewidth": 1,
              "tickcolor": "rgb(36,36,36)",
              "ticks": "outside"
             }
            },
            "type": "scattercarpet"
           }
          ],
          "scattergeo": [
           {
            "marker": {
             "colorbar": {
              "outlinewidth": 1,
              "tickcolor": "rgb(36,36,36)",
              "ticks": "outside"
             }
            },
            "type": "scattergeo"
           }
          ],
          "scattergl": [
           {
            "marker": {
             "colorbar": {
              "outlinewidth": 1,
              "tickcolor": "rgb(36,36,36)",
              "ticks": "outside"
             }
            },
            "type": "scattergl"
           }
          ],
          "scattermapbox": [
           {
            "marker": {
             "colorbar": {
              "outlinewidth": 1,
              "tickcolor": "rgb(36,36,36)",
              "ticks": "outside"
             }
            },
            "type": "scattermapbox"
           }
          ],
          "scatterpolar": [
           {
            "marker": {
             "colorbar": {
              "outlinewidth": 1,
              "tickcolor": "rgb(36,36,36)",
              "ticks": "outside"
             }
            },
            "type": "scatterpolar"
           }
          ],
          "scatterpolargl": [
           {
            "marker": {
             "colorbar": {
              "outlinewidth": 1,
              "tickcolor": "rgb(36,36,36)",
              "ticks": "outside"
             }
            },
            "type": "scatterpolargl"
           }
          ],
          "scatterternary": [
           {
            "marker": {
             "colorbar": {
              "outlinewidth": 1,
              "tickcolor": "rgb(36,36,36)",
              "ticks": "outside"
             }
            },
            "type": "scatterternary"
           }
          ],
          "surface": [
           {
            "colorbar": {
             "outlinewidth": 1,
             "tickcolor": "rgb(36,36,36)",
             "ticks": "outside"
            },
            "colorscale": [
             [
              0,
              "#440154"
             ],
             [
              0.1111111111111111,
              "#482878"
             ],
             [
              0.2222222222222222,
              "#3e4989"
             ],
             [
              0.3333333333333333,
              "#31688e"
             ],
             [
              0.4444444444444444,
              "#26828e"
             ],
             [
              0.5555555555555556,
              "#1f9e89"
             ],
             [
              0.6666666666666666,
              "#35b779"
             ],
             [
              0.7777777777777778,
              "#6ece58"
             ],
             [
              0.8888888888888888,
              "#b5de2b"
             ],
             [
              1,
              "#fde725"
             ]
            ],
            "type": "surface"
           }
          ],
          "table": [
           {
            "cells": {
             "fill": {
              "color": "rgb(237,237,237)"
             },
             "line": {
              "color": "white"
             }
            },
            "header": {
             "fill": {
              "color": "rgb(217,217,217)"
             },
             "line": {
              "color": "white"
             }
            },
            "type": "table"
           }
          ]
         },
         "layout": {
          "annotationdefaults": {
           "arrowhead": 0,
           "arrowwidth": 1
          },
          "autotypenumbers": "strict",
          "coloraxis": {
           "colorbar": {
            "outlinewidth": 1,
            "tickcolor": "rgb(36,36,36)",
            "ticks": "outside"
           }
          },
          "colorscale": {
           "diverging": [
            [
             0,
             "rgb(103,0,31)"
            ],
            [
             0.1,
             "rgb(178,24,43)"
            ],
            [
             0.2,
             "rgb(214,96,77)"
            ],
            [
             0.3,
             "rgb(244,165,130)"
            ],
            [
             0.4,
             "rgb(253,219,199)"
            ],
            [
             0.5,
             "rgb(247,247,247)"
            ],
            [
             0.6,
             "rgb(209,229,240)"
            ],
            [
             0.7,
             "rgb(146,197,222)"
            ],
            [
             0.8,
             "rgb(67,147,195)"
            ],
            [
             0.9,
             "rgb(33,102,172)"
            ],
            [
             1,
             "rgb(5,48,97)"
            ]
           ],
           "sequential": [
            [
             0,
             "#440154"
            ],
            [
             0.1111111111111111,
             "#482878"
            ],
            [
             0.2222222222222222,
             "#3e4989"
            ],
            [
             0.3333333333333333,
             "#31688e"
            ],
            [
             0.4444444444444444,
             "#26828e"
            ],
            [
             0.5555555555555556,
             "#1f9e89"
            ],
            [
             0.6666666666666666,
             "#35b779"
            ],
            [
             0.7777777777777778,
             "#6ece58"
            ],
            [
             0.8888888888888888,
             "#b5de2b"
            ],
            [
             1,
             "#fde725"
            ]
           ],
           "sequentialminus": [
            [
             0,
             "#440154"
            ],
            [
             0.1111111111111111,
             "#482878"
            ],
            [
             0.2222222222222222,
             "#3e4989"
            ],
            [
             0.3333333333333333,
             "#31688e"
            ],
            [
             0.4444444444444444,
             "#26828e"
            ],
            [
             0.5555555555555556,
             "#1f9e89"
            ],
            [
             0.6666666666666666,
             "#35b779"
            ],
            [
             0.7777777777777778,
             "#6ece58"
            ],
            [
             0.8888888888888888,
             "#b5de2b"
            ],
            [
             1,
             "#fde725"
            ]
           ]
          },
          "colorway": [
           "#1F77B4",
           "#FF7F0E",
           "#2CA02C",
           "#D62728",
           "#9467BD",
           "#8C564B",
           "#E377C2",
           "#7F7F7F",
           "#BCBD22",
           "#17BECF"
          ],
          "font": {
           "color": "rgb(36,36,36)"
          },
          "geo": {
           "bgcolor": "white",
           "lakecolor": "white",
           "landcolor": "white",
           "showlakes": true,
           "showland": true,
           "subunitcolor": "white"
          },
          "hoverlabel": {
           "align": "left"
          },
          "hovermode": "closest",
          "mapbox": {
           "style": "light"
          },
          "paper_bgcolor": "white",
          "plot_bgcolor": "white",
          "polar": {
           "angularaxis": {
            "gridcolor": "rgb(232,232,232)",
            "linecolor": "rgb(36,36,36)",
            "showgrid": false,
            "showline": true,
            "ticks": "outside"
           },
           "bgcolor": "white",
           "radialaxis": {
            "gridcolor": "rgb(232,232,232)",
            "linecolor": "rgb(36,36,36)",
            "showgrid": false,
            "showline": true,
            "ticks": "outside"
           }
          },
          "scene": {
           "xaxis": {
            "backgroundcolor": "white",
            "gridcolor": "rgb(232,232,232)",
            "gridwidth": 2,
            "linecolor": "rgb(36,36,36)",
            "showbackground": true,
            "showgrid": false,
            "showline": true,
            "ticks": "outside",
            "zeroline": false,
            "zerolinecolor": "rgb(36,36,36)"
           },
           "yaxis": {
            "backgroundcolor": "white",
            "gridcolor": "rgb(232,232,232)",
            "gridwidth": 2,
            "linecolor": "rgb(36,36,36)",
            "showbackground": true,
            "showgrid": false,
            "showline": true,
            "ticks": "outside",
            "zeroline": false,
            "zerolinecolor": "rgb(36,36,36)"
           },
           "zaxis": {
            "backgroundcolor": "white",
            "gridcolor": "rgb(232,232,232)",
            "gridwidth": 2,
            "linecolor": "rgb(36,36,36)",
            "showbackground": true,
            "showgrid": false,
            "showline": true,
            "ticks": "outside",
            "zeroline": false,
            "zerolinecolor": "rgb(36,36,36)"
           }
          },
          "shapedefaults": {
           "fillcolor": "black",
           "line": {
            "width": 0
           },
           "opacity": 0.3
          },
          "ternary": {
           "aaxis": {
            "gridcolor": "rgb(232,232,232)",
            "linecolor": "rgb(36,36,36)",
            "showgrid": false,
            "showline": true,
            "ticks": "outside"
           },
           "baxis": {
            "gridcolor": "rgb(232,232,232)",
            "linecolor": "rgb(36,36,36)",
            "showgrid": false,
            "showline": true,
            "ticks": "outside"
           },
           "bgcolor": "white",
           "caxis": {
            "gridcolor": "rgb(232,232,232)",
            "linecolor": "rgb(36,36,36)",
            "showgrid": false,
            "showline": true,
            "ticks": "outside"
           }
          },
          "title": {
           "x": 0.05
          },
          "xaxis": {
           "automargin": true,
           "gridcolor": "rgb(232,232,232)",
           "linecolor": "rgb(36,36,36)",
           "showgrid": false,
           "showline": true,
           "ticks": "outside",
           "title": {
            "standoff": 15
           },
           "zeroline": false,
           "zerolinecolor": "rgb(36,36,36)"
          },
          "yaxis": {
           "automargin": true,
           "gridcolor": "rgb(232,232,232)",
           "linecolor": "rgb(36,36,36)",
           "showgrid": false,
           "showline": true,
           "ticks": "outside",
           "title": {
            "standoff": 15
           },
           "zeroline": false,
           "zerolinecolor": "rgb(36,36,36)"
          }
         }
        },
        "title": {
         "font": {
          "color": "Black",
          "size": 22
         },
         "text": "<b>Topics over Time</b>",
         "x": 0.4,
         "xanchor": "center",
         "y": 0.95,
         "yanchor": "top"
        },
        "width": 1250,
        "xaxis": {
         "showgrid": true
        },
        "yaxis": {
         "showgrid": true,
         "title": {
          "text": "Frequency"
         }
        }
       }
      }
     },
     "metadata": {},
     "output_type": "display_data"
    }
   ],
   "source": [
    "model.visualize_topics_over_time(topics_over_time)"
   ]
  }
 ],
 "metadata": {
  "kernelspec": {
   "display_name": "Python 3",
   "language": "python",
   "name": "python3"
  },
  "language_info": {
   "codemirror_mode": {
    "name": "ipython",
    "version": 3
   },
   "file_extension": ".py",
   "mimetype": "text/x-python",
   "name": "python",
   "nbconvert_exporter": "python",
   "pygments_lexer": "ipython3",
   "version": "3.11.0"
  },
  "orig_nbformat": 4
 },
 "nbformat": 4,
 "nbformat_minor": 2
}
