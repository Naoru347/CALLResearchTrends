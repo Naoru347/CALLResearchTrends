{
 "cells": [
  {
   "cell_type": "code",
   "execution_count": 2,
   "metadata": {},
   "outputs": [
    {
     "name": "stderr",
     "output_type": "stream",
     "text": [
      "C:\\Users\\joshu\\AppData\\Roaming\\Python\\Python311\\site-packages\\umap\\distances.py:1063: NumbaDeprecationWarning: \u001b[1mThe 'nopython' keyword argument was not supplied to the 'numba.jit' decorator. The implicit default value for this argument is currently False, but it will be changed to True in Numba 0.59.0. See https://numba.readthedocs.io/en/stable/reference/deprecation.html#deprecation-of-object-mode-fall-back-behaviour-when-using-jit for details.\u001b[0m\n",
      "  @numba.jit()\n",
      "C:\\Users\\joshu\\AppData\\Roaming\\Python\\Python311\\site-packages\\umap\\distances.py:1071: NumbaDeprecationWarning: \u001b[1mThe 'nopython' keyword argument was not supplied to the 'numba.jit' decorator. The implicit default value for this argument is currently False, but it will be changed to True in Numba 0.59.0. See https://numba.readthedocs.io/en/stable/reference/deprecation.html#deprecation-of-object-mode-fall-back-behaviour-when-using-jit for details.\u001b[0m\n",
      "  @numba.jit()\n",
      "C:\\Users\\joshu\\AppData\\Roaming\\Python\\Python311\\site-packages\\umap\\distances.py:1086: NumbaDeprecationWarning: \u001b[1mThe 'nopython' keyword argument was not supplied to the 'numba.jit' decorator. The implicit default value for this argument is currently False, but it will be changed to True in Numba 0.59.0. See https://numba.readthedocs.io/en/stable/reference/deprecation.html#deprecation-of-object-mode-fall-back-behaviour-when-using-jit for details.\u001b[0m\n",
      "  @numba.jit()\n",
      "C:\\Users\\joshu\\AppData\\Roaming\\Python\\Python311\\site-packages\\tqdm\\auto.py:21: TqdmWarning: IProgress not found. Please update jupyter and ipywidgets. See https://ipywidgets.readthedocs.io/en/stable/user_install.html\n",
      "  from .autonotebook import tqdm as notebook_tqdm\n",
      "C:\\Users\\joshu\\AppData\\Roaming\\Python\\Python311\\site-packages\\umap\\umap_.py:660: NumbaDeprecationWarning: \u001b[1mThe 'nopython' keyword argument was not supplied to the 'numba.jit' decorator. The implicit default value for this argument is currently False, but it will be changed to True in Numba 0.59.0. See https://numba.readthedocs.io/en/stable/reference/deprecation.html#deprecation-of-object-mode-fall-back-behaviour-when-using-jit for details.\u001b[0m\n",
      "  @numba.jit()\n"
     ]
    }
   ],
   "source": [
    "import pandas as pd\n",
    "import matplotlib.pyplot as plt\n",
    "import json\n",
    "import time\n",
    "import re\n",
    "import torch\n",
    "from bertopic import BERTopic\n",
    "from wordcloud import WordCloud\n",
    "from transformers import AutoTokenizer, AutoModel"
   ]
  },
  {
   "cell_type": "code",
   "execution_count": 3,
   "metadata": {},
   "outputs": [
    {
     "name": "stdout",
     "output_type": "stream",
     "text": [
      "Importing data and building DataFrame:\n",
      "Data load time 0.011376380920410156\n",
      "{'id': 'EJ1013917', 'title': 'Enhancing the Autonomous Use of CALL: A New Curriculum Model in EFL', 'author': 'Smith, Karen, Craig, Hana', 'description': \"This action research study evaluates the effectiveness of a CALL Learner Autonomy (CALL LA) course at a Japanese university. The &quot;C course&quot; blends face-to-face instruction and independent study in a CALL environment. It aims to enhance learners' autonomous use of CALL in the acquisition of English as a Foreign Language (EFL). In this study, three learning support aids were trialed: the Learner Passport, the e-Language Learning Portfolio and the e-Learner Self-Reflection Diary. The participant- researchers examined the course using data from the trial materials, observation, their own reflexive practice, learner questionnaires, interviews, artifacts and learner self-reflections. Findings indicate that teachers' and learners' consciousness was raised about what is expected of users in the autonomous use of CALL in a classroom environment and in a Self-Access Centre. The study also shows an improvement in learners' planning, organizing, tracking, and evaluation of their autonomous use of CALL resources, and that regular and critical learner self-reflection is a key factor\\ncontributing to a positive shift in study culture. It recommends the conversion of the Learner Passport to an online, interactive format and the course-wide implementation of the three learning support aids as an incorporated package. (Contains 4 tables and 2 figures.)\", 'subject': 'Action Research, English (Second Language), English Language Learners, Second Language Learning, Independent Study, Learner Engagement, Interviews, Questionnaires, Portfolio Assessment, Teaching Methods, Curriculum Design, Metacognition, Computer Assisted Instruction, Instructional Effectiveness, Personal Autonomy, Program Evaluation, Foreign Countries, Observation', 'source': 'CALICO Journal', 'publicationdateyear': 2013, 'identifiersgeo': 'Japan'}\n"
     ]
    }
   ],
   "source": [
    "#Import the data from the JSON file\n",
    "print(\"Importing data and building DataFrame:\")\n",
    "start_time = time.time()\n",
    "with open('data/cleanedAggregateData.json', 'r') as f:\n",
    "    data = json.load(f)\n",
    "end_time = time.time()\n",
    "load_time = end_time - start_time\n",
    "print(\"Data load time\", load_time)\n",
    "print(data[0])"
   ]
  },
  {
   "cell_type": "code",
   "execution_count": 4,
   "metadata": {},
   "outputs": [
    {
     "name": "stdout",
     "output_type": "stream",
     "text": [
      "Data loaded, converting to DataFrame\n",
      "Data successfully converted to DataFrame. Conversion time: 0.0019996166229248047\n"
     ]
    }
   ],
   "source": [
    "#Create dataframe\n",
    "print(\"Data loaded, converting to DataFrame\")\n",
    "start_time = time.time()\n",
    "df = pd.DataFrame(data)\n",
    "end_time = time.time()\n",
    "convert_time = end_time - start_time\n",
    "print(\"Data successfully converted to DataFrame. Conversion time:\", convert_time)"
   ]
  },
  {
   "cell_type": "code",
   "execution_count": 5,
   "metadata": {},
   "outputs": [
    {
     "name": "stderr",
     "output_type": "stream",
     "text": [
      "Some weights of the model checkpoint at allenai/scibert_scivocab_uncased were not used when initializing BertModel: ['cls.predictions.decoder.bias', 'cls.predictions.transform.dense.weight', 'cls.predictions.decoder.weight', 'cls.seq_relationship.bias', 'cls.predictions.transform.LayerNorm.weight', 'cls.seq_relationship.weight', 'cls.predictions.bias', 'cls.predictions.transform.dense.bias', 'cls.predictions.transform.LayerNorm.bias']\n",
      "- This IS expected if you are initializing BertModel from the checkpoint of a model trained on another task or with another architecture (e.g. initializing a BertForSequenceClassification model from a BertForPreTraining model).\n",
      "- This IS NOT expected if you are initializing BertModel from the checkpoint of a model that you expect to be exactly identical (initializing a BertForSequenceClassification model from a BertForSequenceClassification model).\n",
      "Batches: 100%|██████████| 39/39 [01:18<00:00,  2.01s/it]\n",
      "2023-06-18 07:50:57,415 - BERTopic - Transformed documents to Embeddings\n",
      "2023-06-18 07:51:04,542 - BERTopic - Reduced dimensionality\n",
      "2023-06-18 07:51:04,590 - BERTopic - Clustered reduced embeddings\n",
      "12it [00:00, 16.88it/s]\n"
     ]
    },
    {
     "data": {
      "text/html": [
       "<div>\n",
       "<style scoped>\n",
       "    .dataframe tbody tr th:only-of-type {\n",
       "        vertical-align: middle;\n",
       "    }\n",
       "\n",
       "    .dataframe tbody tr th {\n",
       "        vertical-align: top;\n",
       "    }\n",
       "\n",
       "    .dataframe thead th {\n",
       "        text-align: right;\n",
       "    }\n",
       "</style>\n",
       "<table border=\"1\" class=\"dataframe\">\n",
       "  <thead>\n",
       "    <tr style=\"text-align: right;\">\n",
       "      <th></th>\n",
       "      <th>Topic</th>\n",
       "      <th>Count</th>\n",
       "      <th>Name</th>\n",
       "      <th>Representation</th>\n",
       "      <th>Representative_Docs</th>\n",
       "    </tr>\n",
       "  </thead>\n",
       "  <tbody>\n",
       "    <tr>\n",
       "      <th>0</th>\n",
       "      <td>-1</td>\n",
       "      <td>323</td>\n",
       "      <td>-1_the_of_and_in</td>\n",
       "      <td>[the, of, and, in, to, learning, language, tha...</td>\n",
       "      <td>[[CLS] today web 2. 0 technologies, including ...</td>\n",
       "    </tr>\n",
       "    <tr>\n",
       "      <th>1</th>\n",
       "      <td>0</td>\n",
       "      <td>86</td>\n",
       "      <td>0_technology_teachers_of_the</td>\n",
       "      <td>[technology, teachers, of, the, and, use, lang...</td>\n",
       "      <td>[[CLS] despite the spread of reliable technolo...</td>\n",
       "    </tr>\n",
       "    <tr>\n",
       "      <th>2</th>\n",
       "      <td>1</td>\n",
       "      <td>70</td>\n",
       "      <td>1_writing_feedback_the_and</td>\n",
       "      <td>[writing, feedback, the, and, of, in, to, awe,...</td>\n",
       "      <td>[[CLS] automated writing evaluation ( awe ) sy...</td>\n",
       "    </tr>\n",
       "    <tr>\n",
       "      <th>3</th>\n",
       "      <td>2</td>\n",
       "      <td>69</td>\n",
       "      <td>2_task_the_in_and</td>\n",
       "      <td>[task, the, in, and, of, to, learners, oral, s...</td>\n",
       "      <td>[[CLS] this study investigated the effects of ...</td>\n",
       "    </tr>\n",
       "    <tr>\n",
       "      <th>4</th>\n",
       "      <td>3</td>\n",
       "      <td>69</td>\n",
       "      <td>3_mobile_learning_mall_the</td>\n",
       "      <td>[mobile, learning, mall, the, of, and, in, to,...</td>\n",
       "      <td>[[CLS] the essence of mobile learning is learn...</td>\n",
       "    </tr>\n",
       "    <tr>\n",
       "      <th>5</th>\n",
       "      <td>4</td>\n",
       "      <td>60</td>\n",
       "      <td>4_intercultural_telecollaboration_and_the</td>\n",
       "      <td>[intercultural, telecollaboration, and, the, o...</td>\n",
       "      <td>[[CLS] this study builds on research examining...</td>\n",
       "    </tr>\n",
       "    <tr>\n",
       "      <th>6</th>\n",
       "      <td>5</td>\n",
       "      <td>56</td>\n",
       "      <td>5_corpus_the_of_ddl</td>\n",
       "      <td>[corpus, the, of, ddl, corpora, to, and, in, c...</td>\n",
       "      <td>[[CLS] studies on students'use of corpora in l...</td>\n",
       "    </tr>\n",
       "    <tr>\n",
       "      <th>7</th>\n",
       "      <td>6</td>\n",
       "      <td>50</td>\n",
       "      <td>6_pronunciation_the_asr_of</td>\n",
       "      <td>[pronunciation, the, asr, of, and, to, speech,...</td>\n",
       "      <td>[[CLS] the goal of this study was to explore h...</td>\n",
       "    </tr>\n",
       "    <tr>\n",
       "      <th>8</th>\n",
       "      <td>7</td>\n",
       "      <td>45</td>\n",
       "      <td>7_game_games_gaming_and</td>\n",
       "      <td>[game, games, gaming, and, learning, the, of, ...</td>\n",
       "      <td>[[CLS] one of the more rapidly advancing subfi...</td>\n",
       "    </tr>\n",
       "    <tr>\n",
       "      <th>9</th>\n",
       "      <td>8</td>\n",
       "      <td>43</td>\n",
       "      <td>8_blended_online_the_learning</td>\n",
       "      <td>[blended, online, the, learning, of, course, a...</td>\n",
       "      <td>[[CLS] this study explores how second generati...</td>\n",
       "    </tr>\n",
       "    <tr>\n",
       "      <th>10</th>\n",
       "      <td>9</td>\n",
       "      <td>34</td>\n",
       "      <td>9_writing_collaborative_wiki_the</td>\n",
       "      <td>[writing, collaborative, wiki, the, and, stude...</td>\n",
       "      <td>[[CLS] this study focuses on the use of wikis ...</td>\n",
       "    </tr>\n",
       "    <tr>\n",
       "      <th>11</th>\n",
       "      <td>10</td>\n",
       "      <td>33</td>\n",
       "      <td>10_vr_virtual_the_and</td>\n",
       "      <td>[vr, virtual, the, and, of, learning, reality,...</td>\n",
       "      <td>[[CLS] research on vocabulary acquisition in d...</td>\n",
       "    </tr>\n",
       "    <tr>\n",
       "      <th>12</th>\n",
       "      <td>11</td>\n",
       "      <td>32</td>\n",
       "      <td>11_online_and_the_for</td>\n",
       "      <td>[online, and, the, for, to, of, language, in, ...</td>\n",
       "      <td>[[CLS] the pandemic in 2020 has profoundly imp...</td>\n",
       "    </tr>\n",
       "    <tr>\n",
       "      <th>13</th>\n",
       "      <td>12</td>\n",
       "      <td>29</td>\n",
       "      <td>12_listening_test_the_of</td>\n",
       "      <td>[listening, test, the, of, to, assessment, and...</td>\n",
       "      <td>[[CLS] this research provided a comprehensive ...</td>\n",
       "    </tr>\n",
       "    <tr>\n",
       "      <th>14</th>\n",
       "      <td>13</td>\n",
       "      <td>25</td>\n",
       "      <td>13_digital_storytelling_the_and</td>\n",
       "      <td>[digital, storytelling, the, and, in, of, fan,...</td>\n",
       "      <td>[[CLS] this study applied storytelling in the ...</td>\n",
       "    </tr>\n",
       "    <tr>\n",
       "      <th>15</th>\n",
       "      <td>14</td>\n",
       "      <td>25</td>\n",
       "      <td>14_and_in_language_social</td>\n",
       "      <td>[and, in, language, social, of, online, to, th...</td>\n",
       "      <td>[[CLS] creating collaborative working and lear...</td>\n",
       "    </tr>\n",
       "    <tr>\n",
       "      <th>16</th>\n",
       "      <td>15</td>\n",
       "      <td>24</td>\n",
       "      <td>15_multimodal_of_the_and</td>\n",
       "      <td>[multimodal, of, the, and, in, online, presenc...</td>\n",
       "      <td>[[CLS] online language learning and teaching i...</td>\n",
       "    </tr>\n",
       "    <tr>\n",
       "      <th>17</th>\n",
       "      <td>16</td>\n",
       "      <td>23</td>\n",
       "      <td>16_captions_comprehension_captioning_caption</td>\n",
       "      <td>[captions, comprehension, captioning, caption,...</td>\n",
       "      <td>[[CLS] this current study examined the effects...</td>\n",
       "    </tr>\n",
       "    <tr>\n",
       "      <th>18</th>\n",
       "      <td>17</td>\n",
       "      <td>22</td>\n",
       "      <td>17_vocabulary_of_the_and</td>\n",
       "      <td>[vocabulary, of, the, and, to, lectures, on, a...</td>\n",
       "      <td>[[CLS] this article reports on a study that ex...</td>\n",
       "    </tr>\n",
       "    <tr>\n",
       "      <th>19</th>\n",
       "      <td>18</td>\n",
       "      <td>21</td>\n",
       "      <td>18_flipped_the_classroom_in</td>\n",
       "      <td>[flipped, the, classroom, in, and, learning, o...</td>\n",
       "      <td>[[CLS] this paper describes a structured attem...</td>\n",
       "    </tr>\n",
       "    <tr>\n",
       "      <th>20</th>\n",
       "      <td>19</td>\n",
       "      <td>20</td>\n",
       "      <td>19_reading_students_comprehension_the</td>\n",
       "      <td>[reading, students, comprehension, the, and, b...</td>\n",
       "      <td>[[CLS] previous studies have evaluated reading...</td>\n",
       "    </tr>\n",
       "    <tr>\n",
       "      <th>21</th>\n",
       "      <td>20</td>\n",
       "      <td>19</td>\n",
       "      <td>20_and_of_identity_in</td>\n",
       "      <td>[and, of, identity, in, the, digital, social, ...</td>\n",
       "      <td>[[CLS] drawing on past and current scholarship...</td>\n",
       "    </tr>\n",
       "    <tr>\n",
       "      <th>22</th>\n",
       "      <td>21</td>\n",
       "      <td>17</td>\n",
       "      <td>21_call_quot_studies_the</td>\n",
       "      <td>[call, quot, studies, the, research, of, and, ...</td>\n",
       "      <td>[[CLS] this paper sets out to discuss the mono...</td>\n",
       "    </tr>\n",
       "    <tr>\n",
       "      <th>23</th>\n",
       "      <td>22</td>\n",
       "      <td>16</td>\n",
       "      <td>22_mt_translation_students_machine</td>\n",
       "      <td>[mt, translation, students, machine, texts, en...</td>\n",
       "      <td>[[CLS] in recent years, machine translation ( ...</td>\n",
       "    </tr>\n",
       "    <tr>\n",
       "      <th>24</th>\n",
       "      <td>23</td>\n",
       "      <td>15</td>\n",
       "      <td>23_robot_rall_the_and</td>\n",
       "      <td>[robot, rall, the, and, chatbots, robots, of, ...</td>\n",
       "      <td>[[CLS] technology, as a source of instruction,...</td>\n",
       "    </tr>\n",
       "    <tr>\n",
       "      <th>25</th>\n",
       "      <td>24</td>\n",
       "      <td>12</td>\n",
       "      <td>24_anxiety_fla_the_and</td>\n",
       "      <td>[anxiety, fla, the, and, foreign, self, in, le...</td>\n",
       "      <td>[[CLS] this paper examines the role of motivat...</td>\n",
       "    </tr>\n",
       "  </tbody>\n",
       "</table>\n",
       "</div>"
      ],
      "text/plain": [
       "    Topic  Count                                          Name   \n",
       "0      -1    323                              -1_the_of_and_in  \\\n",
       "1       0     86                  0_technology_teachers_of_the   \n",
       "2       1     70                    1_writing_feedback_the_and   \n",
       "3       2     69                             2_task_the_in_and   \n",
       "4       3     69                    3_mobile_learning_mall_the   \n",
       "5       4     60     4_intercultural_telecollaboration_and_the   \n",
       "6       5     56                           5_corpus_the_of_ddl   \n",
       "7       6     50                    6_pronunciation_the_asr_of   \n",
       "8       7     45                       7_game_games_gaming_and   \n",
       "9       8     43                 8_blended_online_the_learning   \n",
       "10      9     34              9_writing_collaborative_wiki_the   \n",
       "11     10     33                         10_vr_virtual_the_and   \n",
       "12     11     32                         11_online_and_the_for   \n",
       "13     12     29                      12_listening_test_the_of   \n",
       "14     13     25               13_digital_storytelling_the_and   \n",
       "15     14     25                     14_and_in_language_social   \n",
       "16     15     24                      15_multimodal_of_the_and   \n",
       "17     16     23  16_captions_comprehension_captioning_caption   \n",
       "18     17     22                      17_vocabulary_of_the_and   \n",
       "19     18     21                   18_flipped_the_classroom_in   \n",
       "20     19     20         19_reading_students_comprehension_the   \n",
       "21     20     19                         20_and_of_identity_in   \n",
       "22     21     17                      21_call_quot_studies_the   \n",
       "23     22     16            22_mt_translation_students_machine   \n",
       "24     23     15                         23_robot_rall_the_and   \n",
       "25     24     12                        24_anxiety_fla_the_and   \n",
       "\n",
       "                                       Representation   \n",
       "0   [the, of, and, in, to, learning, language, tha...  \\\n",
       "1   [technology, teachers, of, the, and, use, lang...   \n",
       "2   [writing, feedback, the, and, of, in, to, awe,...   \n",
       "3   [task, the, in, and, of, to, learners, oral, s...   \n",
       "4   [mobile, learning, mall, the, of, and, in, to,...   \n",
       "5   [intercultural, telecollaboration, and, the, o...   \n",
       "6   [corpus, the, of, ddl, corpora, to, and, in, c...   \n",
       "7   [pronunciation, the, asr, of, and, to, speech,...   \n",
       "8   [game, games, gaming, and, learning, the, of, ...   \n",
       "9   [blended, online, the, learning, of, course, a...   \n",
       "10  [writing, collaborative, wiki, the, and, stude...   \n",
       "11  [vr, virtual, the, and, of, learning, reality,...   \n",
       "12  [online, and, the, for, to, of, language, in, ...   \n",
       "13  [listening, test, the, of, to, assessment, and...   \n",
       "14  [digital, storytelling, the, and, in, of, fan,...   \n",
       "15  [and, in, language, social, of, online, to, th...   \n",
       "16  [multimodal, of, the, and, in, online, presenc...   \n",
       "17  [captions, comprehension, captioning, caption,...   \n",
       "18  [vocabulary, of, the, and, to, lectures, on, a...   \n",
       "19  [flipped, the, classroom, in, and, learning, o...   \n",
       "20  [reading, students, comprehension, the, and, b...   \n",
       "21  [and, of, identity, in, the, digital, social, ...   \n",
       "22  [call, quot, studies, the, research, of, and, ...   \n",
       "23  [mt, translation, students, machine, texts, en...   \n",
       "24  [robot, rall, the, and, chatbots, robots, of, ...   \n",
       "25  [anxiety, fla, the, and, foreign, self, in, le...   \n",
       "\n",
       "                                  Representative_Docs  \n",
       "0   [[CLS] today web 2. 0 technologies, including ...  \n",
       "1   [[CLS] despite the spread of reliable technolo...  \n",
       "2   [[CLS] automated writing evaluation ( awe ) sy...  \n",
       "3   [[CLS] this study investigated the effects of ...  \n",
       "4   [[CLS] the essence of mobile learning is learn...  \n",
       "5   [[CLS] this study builds on research examining...  \n",
       "6   [[CLS] studies on students'use of corpora in l...  \n",
       "7   [[CLS] the goal of this study was to explore h...  \n",
       "8   [[CLS] one of the more rapidly advancing subfi...  \n",
       "9   [[CLS] this study explores how second generati...  \n",
       "10  [[CLS] this study focuses on the use of wikis ...  \n",
       "11  [[CLS] research on vocabulary acquisition in d...  \n",
       "12  [[CLS] the pandemic in 2020 has profoundly imp...  \n",
       "13  [[CLS] this research provided a comprehensive ...  \n",
       "14  [[CLS] this study applied storytelling in the ...  \n",
       "15  [[CLS] creating collaborative working and lear...  \n",
       "16  [[CLS] online language learning and teaching i...  \n",
       "17  [[CLS] this current study examined the effects...  \n",
       "18  [[CLS] this article reports on a study that ex...  \n",
       "19  [[CLS] this paper describes a structured attem...  \n",
       "20  [[CLS] previous studies have evaluated reading...  \n",
       "21  [[CLS] drawing on past and current scholarship...  \n",
       "22  [[CLS] this paper sets out to discuss the mono...  \n",
       "23  [[CLS] in recent years, machine translation ( ...  \n",
       "24  [[CLS] technology, as a source of instruction,...  \n",
       "25  [[CLS] this paper examines the role of motivat...  "
      ]
     },
     "execution_count": 5,
     "metadata": {},
     "output_type": "execute_result"
    }
   ],
   "source": [
    "# Load the SciBERT tokenizer and model\n",
    "docs = df.description.tolist()\n",
    "tokenizer = AutoTokenizer.from_pretrained('allenai/scibert_scivocab_uncased')\n",
    "model = AutoModel.from_pretrained('allenai/scibert_scivocab_uncased')\n",
    "encoded_docs = [tokenizer.encode(doc, add_special_tokens=True) for doc in docs]\n",
    "\n",
    "# Convert the encoded documents back to strings\n",
    "decoded_docs = [tokenizer.decode(doc) for doc in encoded_docs]\n",
    "\n",
    "# Initialize BERTopic with the SciBERT embedding model\n",
    "embedding_model = (model, tokenizer)\n",
    "model = BERTopic(verbose=True, embedding_model=embedding_model)\n",
    "\n",
    "# Fit the model on the decoded documents\n",
    "topics, probabilities = model.fit_transform(decoded_docs)\n",
    "\n",
    "# Get topics over time\n",
    "pub_dates = df.publicationdateyear.tolist()\n",
    "topics_over_time = model.topics_over_time(decoded_docs, pub_dates)\n",
    "\n",
    "# Get topic information\n",
    "model.get_topic_info()"
   ]
  },
  {
   "cell_type": "code",
   "execution_count": 6,
   "metadata": {},
   "outputs": [],
   "source": [
    "#helper function to create WordClouds\n",
    "def create_wordcloud(model, topic):\n",
    "     text = {word: value for word, value in model.get_topic(topic)}\n",
    "     wc = WordCloud(background_color=\"white\", max_words=1000)\n",
    "     wc.generate_from_frequencies(text)\n",
    "     plt.imshow(wc, interpolation=\"bilinear\")\n",
    "     plt.axis(\"off\")\n",
    "     plt.show()"
   ]
  },
  {
   "cell_type": "code",
   "execution_count": 7,
   "metadata": {},
   "outputs": [
    {
     "data": {
      "image/png": "[encoded data removed]",
      "text/plain": [
       "<Figure size 640x480 with 1 Axes>"
      ]
     },
     "metadata": {},
     "output_type": "display_data"
    }
   ],
   "source": [
    "create_wordcloud(model, topic=0)"
   ]
  },
  {
   "cell_type": "code",
   "execution_count": 8,
   "metadata": {},
   "outputs": [
    {
     "data": {
      "application/vnd.plotly.v1+json": {
       "config": {
        "plotlyServerURL": "https://plot.ly"
       },
       "data": [
        {
         "customdata": [
          [
           0,
           "technology | teachers | of | the | and",
           86
          ],
          [
           1,
           "writing | feedback | the | and | of",
           70
          ],
          [
           2,
           "task | the | in | and | of",
           69
          ],
          [
           3,
           "mobile | learning | mall | the | of",
           69
          ],
          [
           4,
           "intercultural | telecollaboration | and | the | of",
           60
          ],
          [
           5,
           "corpus | the | of | ddl | corpora",
           56
          ],
          [
           6,
           "pronunciation | the | asr | of | and",
           50
          ],
          [
           7,
           "game | games | gaming | and | learning",
           45
          ],
          [
           8,
           "blended | online | the | learning | of",
           43
          ],
          [
           9,
           "writing | collaborative | wiki | the | and",
           34
          ],
          [
           10,
           "vr | virtual | the | and | of",
           33
          ],
          [
           11,
           "online | and | the | for | to",
           32
          ],
          [
           12,
           "listening | test | the | of | to",
           29
          ],
          [
           13,
           "digital | storytelling | the | and | in",
           25
          ],
          [
           14,
           "and | in | language | social | of",
           25
          ],
          [
           15,
           "multimodal | of | the | and | in",
           24
          ],
          [
           16,
           "captions | comprehension | captioning | caption | full",
           23
          ],
          [
           17,
           "vocabulary | of | the | and | to",
           22
          ],
          [
           18,
           "flipped | the | classroom | in | and",
           21
          ],
          [
           19,
           "reading | students | comprehension | the | and",
           20
          ],
          [
           20,
           "and | of | identity | in | the",
           19
          ],
          [
           21,
           "call | quot | studies | the | research",
           17
          ],
          [
           22,
           "mt | translation | students | machine | texts",
           16
          ],
          [
           23,
           "robot | rall | the | and | chatbots",
           15
          ],
          [
           24,
           "anxiety | fla | the | and | foreign",
           12
          ]
         ],
         "hovertemplate": "<b>Topic %{customdata[0]}</b><br>%{customdata[1]}<br>Size: %{customdata[2]}",
         "legendgroup": "",
         "marker": {
          "color": "#B0BEC5",
          "line": {
           "color": "DarkSlateGrey",
           "width": 2
          },
          "size": [
           86,
           70,
           69,
           69,
           60,
           56,
           50,
           45,
           43,
           34,
           33,
           32,
           29,
           25,
           25,
           24,
           23,
           22,
           21,
           20,
           19,
           17,
           16,
           15,
           12
          ],
          "sizemode": "area",
          "sizeref": 0.05375,
          "symbol": "circle"
         },
         "mode": "markers",
         "name": "",
         "orientation": "v",
         "showlegend": false,
         "type": "scatter",
         "x": [
          5.518788814544678,
          -5.482095241546631,
          2.673903465270996,
          5.3726325035095215,
          7.18323278427124,
          -5.06845760345459,
          1.626036524772644,
          4.405760288238525,
          5.50491189956665,
          -5.762353897094727,
          4.686679840087891,
          5.5820159912109375,
          1.7874119281768799,
          7.341104030609131,
          6.138322353363037,
          5.1222357749938965,
          -4.427371025085449,
          -4.621150016784668,
          5.329594135284424,
          -4.824983596801758,
          7.042308330535889,
          6.872666358947754,
          -5.278617858886719,
          2.5185022354125977,
          2.4880309104919434
         ],
         "xaxis": "x",
         "y": [
          7.604223728179932,
          4.37970495223999,
          10.100852012634277,
          7.367339611053467,
          8.024551391601562,
          5.098650932312012,
          9.24488639831543,
          8.282537460327148,
          9.0178861618042,
          4.432468891143799,
          8.423662185668945,
          8.47210693359375,
          9.461591720581055,
          7.562941074371338,
          8.189903259277344,
          8.410097122192383,
          5.805213928222656,
          5.472315311431885,
          9.279577255249023,
          5.678150653839111,
          7.842776775360107,
          7.503247261047363,
          4.712085247039795,
          9.583649635314941,
          9.941872596740723
         ],
         "yaxis": "y"
        }
       ],
       "layout": {
        "annotations": [
         {
          "showarrow": false,
          "text": "D1",
          "x": -6.626706981658936,
          "y": 7.669364511966705,
          "yshift": 10
         },
         {
          "showarrow": false,
          "text": "D2",
          "x": 0.9077813267707819,
          "xshift": 10,
          "y": 11.61597981452942
         }
        ],
        "height": 650,
        "hoverlabel": {
         "bgcolor": "white",
         "font": {
          "family": "Rockwell",
          "size": 16
         }
        },
        "legend": {
         "itemsizing": "constant",
         "tracegroupgap": 0
        },
        "margin": {
         "t": 60
        },
        "shapes": [
         {
          "line": {
           "color": "#CFD8DC",
           "width": 2
          },
          "type": "line",
          "x0": 0.9077813267707819,
          "x1": 0.9077813267707819,
          "y0": 3.722749209403992,
          "y1": 11.61597981452942
         },
         {
          "line": {
           "color": "#9E9E9E",
           "width": 2
          },
          "type": "line",
          "x0": -6.626706981658936,
          "x1": 8.4422696352005,
          "y0": 7.669364511966705,
          "y1": 7.669364511966705
         }
        ],
        "sliders": [
         {
          "active": 0,
          "pad": {
           "t": 50
          },
          "steps": [
           {
            "args": [
             {
              "marker.color": [
               [
                "red",
                "#B0BEC5",
                "#B0BEC5",
                "#B0BEC5",
                "#B0BEC5",
                "#B0BEC5",
                "#B0BEC5",
                "#B0BEC5",
                "#B0BEC5",
                "#B0BEC5",
                "#B0BEC5",
                "#B0BEC5",
                "#B0BEC5",
                "#B0BEC5",
                "#B0BEC5",
                "#B0BEC5",
                "#B0BEC5",
                "#B0BEC5",
                "#B0BEC5",
                "#B0BEC5",
                "#B0BEC5",
                "#B0BEC5",
                "#B0BEC5",
                "#B0BEC5",
                "#B0BEC5"
               ]
              ]
             }
            ],
            "label": "Topic 0",
            "method": "update"
           },
           {
            "args": [
             {
              "marker.color": [
               [
                "#B0BEC5",
                "red",
                "#B0BEC5",
                "#B0BEC5",
                "#B0BEC5",
                "#B0BEC5",
                "#B0BEC5",
                "#B0BEC5",
                "#B0BEC5",
                "#B0BEC5",
                "#B0BEC5",
                "#B0BEC5",
                "#B0BEC5",
                "#B0BEC5",
                "#B0BEC5",
                "#B0BEC5",
                "#B0BEC5",
                "#B0BEC5",
                "#B0BEC5",
                "#B0BEC5",
                "#B0BEC5",
                "#B0BEC5",
                "#B0BEC5",
                "#B0BEC5",
                "#B0BEC5"
               ]
              ]
             }
            ],
            "label": "Topic 1",
            "method": "update"
           },
           {
            "args": [
             {
              "marker.color": [
               [
                "#B0BEC5",
                "#B0BEC5",
                "red",
                "#B0BEC5",
                "#B0BEC5",
                "#B0BEC5",
                "#B0BEC5",
                "#B0BEC5",
                "#B0BEC5",
                "#B0BEC5",
                "#B0BEC5",
                "#B0BEC5",
                "#B0BEC5",
                "#B0BEC5",
                "#B0BEC5",
                "#B0BEC5",
                "#B0BEC5",
                "#B0BEC5",
                "#B0BEC5",
                "#B0BEC5",
                "#B0BEC5",
                "#B0BEC5",
                "#B0BEC5",
                "#B0BEC5",
                "#B0BEC5"
               ]
              ]
             }
            ],
            "label": "Topic 2",
            "method": "update"
           },
           {
            "args": [
             {
              "marker.color": [
               [
                "#B0BEC5",
                "#B0BEC5",
                "#B0BEC5",
                "red",
                "#B0BEC5",
                "#B0BEC5",
                "#B0BEC5",
                "#B0BEC5",
                "#B0BEC5",
                "#B0BEC5",
                "#B0BEC5",
                "#B0BEC5",
                "#B0BEC5",
                "#B0BEC5",
                "#B0BEC5",
                "#B0BEC5",
                "#B0BEC5",
                "#B0BEC5",
                "#B0BEC5",
                "#B0BEC5",
                "#B0BEC5",
                "#B0BEC5",
                "#B0BEC5",
                "#B0BEC5",
                "#B0BEC5"
               ]
              ]
             }
            ],
            "label": "Topic 3",
            "method": "update"
           },
           {
            "args": [
             {
              "marker.color": [
               [
                "#B0BEC5",
                "#B0BEC5",
                "#B0BEC5",
                "#B0BEC5",
                "red",
                "#B0BEC5",
                "#B0BEC5",
                "#B0BEC5",
                "#B0BEC5",
                "#B0BEC5",
                "#B0BEC5",
                "#B0BEC5",
                "#B0BEC5",
                "#B0BEC5",
                "#B0BEC5",
                "#B0BEC5",
                "#B0BEC5",
                "#B0BEC5",
                "#B0BEC5",
                "#B0BEC5",
                "#B0BEC5",
                "#B0BEC5",
                "#B0BEC5",
                "#B0BEC5",
                "#B0BEC5"
               ]
              ]
             }
            ],
            "label": "Topic 4",
            "method": "update"
           },
           {
            "args": [
             {
              "marker.color": [
               [
                "#B0BEC5",
                "#B0BEC5",
                "#B0BEC5",
                "#B0BEC5",
                "#B0BEC5",
                "red",
                "#B0BEC5",
                "#B0BEC5",
                "#B0BEC5",
                "#B0BEC5",
                "#B0BEC5",
                "#B0BEC5",
                "#B0BEC5",
                "#B0BEC5",
                "#B0BEC5",
                "#B0BEC5",
                "#B0BEC5",
                "#B0BEC5",
                "#B0BEC5",
                "#B0BEC5",
                "#B0BEC5",
                "#B0BEC5",
                "#B0BEC5",
                "#B0BEC5",
                "#B0BEC5"
               ]
              ]
             }
            ],
            "label": "Topic 5",
            "method": "update"
           },
           {
            "args": [
             {
              "marker.color": [
               [
                "#B0BEC5",
                "#B0BEC5",
                "#B0BEC5",
                "#B0BEC5",
                "#B0BEC5",
                "#B0BEC5",
                "red",
                "#B0BEC5",
                "#B0BEC5",
                "#B0BEC5",
                "#B0BEC5",
                "#B0BEC5",
                "#B0BEC5",
                "#B0BEC5",
                "#B0BEC5",
                "#B0BEC5",
                "#B0BEC5",
                "#B0BEC5",
                "#B0BEC5",
                "#B0BEC5",
                "#B0BEC5",
                "#B0BEC5",
                "#B0BEC5",
                "#B0BEC5",
                "#B0BEC5"
               ]
              ]
             }
            ],
            "label": "Topic 6",
            "method": "update"
           },
           {
            "args": [
             {
              "marker.color": [
               [
                "#B0BEC5",
                "#B0BEC5",
                "#B0BEC5",
                "#B0BEC5",
                "#B0BEC5",
                "#B0BEC5",
                "#B0BEC5",
                "red",
                "#B0BEC5",
                "#B0BEC5",
                "#B0BEC5",
                "#B0BEC5",
                "#B0BEC5",
                "#B0BEC5",
                "#B0BEC5",
                "#B0BEC5",
                "#B0BEC5",
                "#B0BEC5",
                "#B0BEC5",
                "#B0BEC5",
                "#B0BEC5",
                "#B0BEC5",
                "#B0BEC5",
                "#B0BEC5",
                "#B0BEC5"
               ]
              ]
             }
            ],
            "label": "Topic 7",
            "method": "update"
           },
           {
            "args": [
             {
              "marker.color": [
               [
                "#B0BEC5",
                "#B0BEC5",
                "#B0BEC5",
                "#B0BEC5",
                "#B0BEC5",
                "#B0BEC5",
                "#B0BEC5",
                "#B0BEC5",
                "red",
                "#B0BEC5",
                "#B0BEC5",
                "#B0BEC5",
                "#B0BEC5",
                "#B0BEC5",
                "#B0BEC5",
                "#B0BEC5",
                "#B0BEC5",
                "#B0BEC5",
                "#B0BEC5",
                "#B0BEC5",
                "#B0BEC5",
                "#B0BEC5",
                "#B0BEC5",
                "#B0BEC5",
                "#B0BEC5"
               ]
              ]
             }
            ],
            "label": "Topic 8",
            "method": "update"
           },
           {
            "args": [
             {
              "marker.color": [
               [
                "#B0BEC5",
                "#B0BEC5",
                "#B0BEC5",
                "#B0BEC5",
                "#B0BEC5",
                "#B0BEC5",
                "#B0BEC5",
                "#B0BEC5",
                "#B0BEC5",
                "red",
                "#B0BEC5",
                "#B0BEC5",
                "#B0BEC5",
                "#B0BEC5",
                "#B0BEC5",
                "#B0BEC5",
                "#B0BEC5",
                "#B0BEC5",
                "#B0BEC5",
                "#B0BEC5",
                "#B0BEC5",
                "#B0BEC5",
                "#B0BEC5",
                "#B0BEC5",
                "#B0BEC5"
               ]
              ]
             }
            ],
            "label": "Topic 9",
            "method": "update"
           },
           {
            "args": [
             {
              "marker.color": [
               [
                "#B0BEC5",
                "#B0BEC5",
                "#B0BEC5",
                "#B0BEC5",
                "#B0BEC5",
                "#B0BEC5",
                "#B0BEC5",
                "#B0BEC5",
                "#B0BEC5",
                "#B0BEC5",
                "red",
                "#B0BEC5",
                "#B0BEC5",
                "#B0BEC5",
                "#B0BEC5",
                "#B0BEC5",
                "#B0BEC5",
                "#B0BEC5",
                "#B0BEC5",
                "#B0BEC5",
                "#B0BEC5",
                "#B0BEC5",
                "#B0BEC5",
                "#B0BEC5",
                "#B0BEC5"
               ]
              ]
             }
            ],
            "label": "Topic 10",
            "method": "update"
           },
           {
            "args": [
             {
              "marker.color": [
               [
                "#B0BEC5",
                "#B0BEC5",
                "#B0BEC5",
                "#B0BEC5",
                "#B0BEC5",
                "#B0BEC5",
                "#B0BEC5",
                "#B0BEC5",
                "#B0BEC5",
                "#B0BEC5",
                "#B0BEC5",
                "red",
                "#B0BEC5",
                "#B0BEC5",
                "#B0BEC5",
                "#B0BEC5",
                "#B0BEC5",
                "#B0BEC5",
                "#B0BEC5",
                "#B0BEC5",
                "#B0BEC5",
                "#B0BEC5",
                "#B0BEC5",
                "#B0BEC5",
                "#B0BEC5"
               ]
              ]
             }
            ],
            "label": "Topic 11",
            "method": "update"
           },
           {
            "args": [
             {
              "marker.color": [
               [
                "#B0BEC5",
                "#B0BEC5",
                "#B0BEC5",
                "#B0BEC5",
                "#B0BEC5",
                "#B0BEC5",
                "#B0BEC5",
                "#B0BEC5",
                "#B0BEC5",
                "#B0BEC5",
                "#B0BEC5",
                "#B0BEC5",
                "red",
                "#B0BEC5",
                "#B0BEC5",
                "#B0BEC5",
                "#B0BEC5",
                "#B0BEC5",
                "#B0BEC5",
                "#B0BEC5",
                "#B0BEC5",
                "#B0BEC5",
                "#B0BEC5",
                "#B0BEC5",
                "#B0BEC5"
               ]
              ]
             }
            ],
            "label": "Topic 12",
            "method": "update"
           },
           {
            "args": [
             {
              "marker.color": [
               [
                "#B0BEC5",
                "#B0BEC5",
                "#B0BEC5",
                "#B0BEC5",
                "#B0BEC5",
                "#B0BEC5",
                "#B0BEC5",
                "#B0BEC5",
                "#B0BEC5",
                "#B0BEC5",
                "#B0BEC5",
                "#B0BEC5",
                "#B0BEC5",
                "red",
                "#B0BEC5",
                "#B0BEC5",
                "#B0BEC5",
                "#B0BEC5",
                "#B0BEC5",
                "#B0BEC5",
                "#B0BEC5",
                "#B0BEC5",
                "#B0BEC5",
                "#B0BEC5",
                "#B0BEC5"
               ]
              ]
             }
            ],
            "label": "Topic 13",
            "method": "update"
           },
           {
            "args": [
             {
              "marker.color": [
               [
                "#B0BEC5",
                "#B0BEC5",
                "#B0BEC5",
                "#B0BEC5",
                "#B0BEC5",
                "#B0BEC5",
                "#B0BEC5",
                "#B0BEC5",
                "#B0BEC5",
                "#B0BEC5",
                "#B0BEC5",
                "#B0BEC5",
                "#B0BEC5",
                "#B0BEC5",
                "red",
                "#B0BEC5",
                "#B0BEC5",
                "#B0BEC5",
                "#B0BEC5",
                "#B0BEC5",
                "#B0BEC5",
                "#B0BEC5",
                "#B0BEC5",
                "#B0BEC5",
                "#B0BEC5"
               ]
              ]
             }
            ],
            "label": "Topic 14",
            "method": "update"
           },
           {
            "args": [
             {
              "marker.color": [
               [
                "#B0BEC5",
                "#B0BEC5",
                "#B0BEC5",
                "#B0BEC5",
                "#B0BEC5",
                "#B0BEC5",
                "#B0BEC5",
                "#B0BEC5",
                "#B0BEC5",
                "#B0BEC5",
                "#B0BEC5",
                "#B0BEC5",
                "#B0BEC5",
                "#B0BEC5",
                "#B0BEC5",
                "red",
                "#B0BEC5",
                "#B0BEC5",
                "#B0BEC5",
                "#B0BEC5",
                "#B0BEC5",
                "#B0BEC5",
                "#B0BEC5",
                "#B0BEC5",
                "#B0BEC5"
               ]
              ]
             }
            ],
            "label": "Topic 15",
            "method": "update"
           },
           {
            "args": [
             {
              "marker.color": [
               [
                "#B0BEC5",
                "#B0BEC5",
                "#B0BEC5",
                "#B0BEC5",
                "#B0BEC5",
                "#B0BEC5",
                "#B0BEC5",
                "#B0BEC5",
                "#B0BEC5",
                "#B0BEC5",
                "#B0BEC5",
                "#B0BEC5",
                "#B0BEC5",
                "#B0BEC5",
                "#B0BEC5",
                "#B0BEC5",
                "red",
                "#B0BEC5",
                "#B0BEC5",
                "#B0BEC5",
                "#B0BEC5",
                "#B0BEC5",
                "#B0BEC5",
                "#B0BEC5",
                "#B0BEC5"
               ]
              ]
             }
            ],
            "label": "Topic 16",
            "method": "update"
           },
           {
            "args": [
             {
              "marker.color": [
               [
                "#B0BEC5",
                "#B0BEC5",
                "#B0BEC5",
                "#B0BEC5",
                "#B0BEC5",
                "#B0BEC5",
                "#B0BEC5",
                "#B0BEC5",
                "#B0BEC5",
                "#B0BEC5",
                "#B0BEC5",
                "#B0BEC5",
                "#B0BEC5",
                "#B0BEC5",
                "#B0BEC5",
                "#B0BEC5",
                "#B0BEC5",
                "red",
                "#B0BEC5",
                "#B0BEC5",
                "#B0BEC5",
                "#B0BEC5",
                "#B0BEC5",
                "#B0BEC5",
                "#B0BEC5"
               ]
              ]
             }
            ],
            "label": "Topic 17",
            "method": "update"
           },
           {
            "args": [
             {
              "marker.color": [
               [
                "#B0BEC5",
                "#B0BEC5",
                "#B0BEC5",
                "#B0BEC5",
                "#B0BEC5",
                "#B0BEC5",
                "#B0BEC5",
                "#B0BEC5",
                "#B0BEC5",
                "#B0BEC5",
                "#B0BEC5",
                "#B0BEC5",
                "#B0BEC5",
                "#B0BEC5",
                "#B0BEC5",
                "#B0BEC5",
                "#B0BEC5",
                "#B0BEC5",
                "red",
                "#B0BEC5",
                "#B0BEC5",
                "#B0BEC5",
                "#B0BEC5",
                "#B0BEC5",
                "#B0BEC5"
               ]
              ]
             }
            ],
            "label": "Topic 18",
            "method": "update"
           },
           {
            "args": [
             {
              "marker.color": [
               [
                "#B0BEC5",
                "#B0BEC5",
                "#B0BEC5",
                "#B0BEC5",
                "#B0BEC5",
                "#B0BEC5",
                "#B0BEC5",
                "#B0BEC5",
                "#B0BEC5",
                "#B0BEC5",
                "#B0BEC5",
                "#B0BEC5",
                "#B0BEC5",
                "#B0BEC5",
                "#B0BEC5",
                "#B0BEC5",
                "#B0BEC5",
                "#B0BEC5",
                "#B0BEC5",
                "red",
                "#B0BEC5",
                "#B0BEC5",
                "#B0BEC5",
                "#B0BEC5",
                "#B0BEC5"
               ]
              ]
             }
            ],
            "label": "Topic 19",
            "method": "update"
           },
           {
            "args": [
             {
              "marker.color": [
               [
                "#B0BEC5",
                "#B0BEC5",
                "#B0BEC5",
                "#B0BEC5",
                "#B0BEC5",
                "#B0BEC5",
                "#B0BEC5",
                "#B0BEC5",
                "#B0BEC5",
                "#B0BEC5",
                "#B0BEC5",
                "#B0BEC5",
                "#B0BEC5",
                "#B0BEC5",
                "#B0BEC5",
                "#B0BEC5",
                "#B0BEC5",
                "#B0BEC5",
                "#B0BEC5",
                "#B0BEC5",
                "red",
                "#B0BEC5",
                "#B0BEC5",
                "#B0BEC5",
                "#B0BEC5"
               ]
              ]
             }
            ],
            "label": "Topic 20",
            "method": "update"
           },
           {
            "args": [
             {
              "marker.color": [
               [
                "#B0BEC5",
                "#B0BEC5",
                "#B0BEC5",
                "#B0BEC5",
                "#B0BEC5",
                "#B0BEC5",
                "#B0BEC5",
                "#B0BEC5",
                "#B0BEC5",
                "#B0BEC5",
                "#B0BEC5",
                "#B0BEC5",
                "#B0BEC5",
                "#B0BEC5",
                "#B0BEC5",
                "#B0BEC5",
                "#B0BEC5",
                "#B0BEC5",
                "#B0BEC5",
                "#B0BEC5",
                "#B0BEC5",
                "red",
                "#B0BEC5",
                "#B0BEC5",
                "#B0BEC5"
               ]
              ]
             }
            ],
            "label": "Topic 21",
            "method": "update"
           },
           {
            "args": [
             {
              "marker.color": [
               [
                "#B0BEC5",
                "#B0BEC5",
                "#B0BEC5",
                "#B0BEC5",
                "#B0BEC5",
                "#B0BEC5",
                "#B0BEC5",
                "#B0BEC5",
                "#B0BEC5",
                "#B0BEC5",
                "#B0BEC5",
                "#B0BEC5",
                "#B0BEC5",
                "#B0BEC5",
                "#B0BEC5",
                "#B0BEC5",
                "#B0BEC5",
                "#B0BEC5",
                "#B0BEC5",
                "#B0BEC5",
                "#B0BEC5",
                "#B0BEC5",
                "red",
                "#B0BEC5",
                "#B0BEC5"
               ]
              ]
             }
            ],
            "label": "Topic 22",
            "method": "update"
           },
           {
            "args": [
             {
              "marker.color": [
               [
                "#B0BEC5",
                "#B0BEC5",
                "#B0BEC5",
                "#B0BEC5",
                "#B0BEC5",
                "#B0BEC5",
                "#B0BEC5",
                "#B0BEC5",
                "#B0BEC5",
                "#B0BEC5",
                "#B0BEC5",
                "#B0BEC5",
                "#B0BEC5",
                "#B0BEC5",
                "#B0BEC5",
                "#B0BEC5",
                "#B0BEC5",
                "#B0BEC5",
                "#B0BEC5",
                "#B0BEC5",
                "#B0BEC5",
                "#B0BEC5",
                "#B0BEC5",
                "red",
                "#B0BEC5"
               ]
              ]
             }
            ],
            "label": "Topic 23",
            "method": "update"
           },
           {
            "args": [
             {
              "marker.color": [
               [
                "#B0BEC5",
                "#B0BEC5",
                "#B0BEC5",
                "#B0BEC5",
                "#B0BEC5",
                "#B0BEC5",
                "#B0BEC5",
                "#B0BEC5",
                "#B0BEC5",
                "#B0BEC5",
                "#B0BEC5",
                "#B0BEC5",
                "#B0BEC5",
                "#B0BEC5",
                "#B0BEC5",
                "#B0BEC5",
                "#B0BEC5",
                "#B0BEC5",
                "#B0BEC5",
                "#B0BEC5",
                "#B0BEC5",
                "#B0BEC5",
                "#B0BEC5",
                "#B0BEC5",
                "red"
               ]
              ]
             }
            ],
            "label": "Topic 24",
            "method": "update"
           }
          ]
         }
        ],
        "template": {
         "data": {
          "bar": [
           {
            "error_x": {
             "color": "rgb(36,36,36)"
            },
            "error_y": {
             "color": "rgb(36,36,36)"
            },
            "marker": {
             "line": {
              "color": "white",
              "width": 0.5
             },
             "pattern": {
              "fillmode": "overlay",
              "size": 10,
              "solidity": 0.2
             }
            },
            "type": "bar"
           }
          ],
          "barpolar": [
           {
            "marker": {
             "line": {
              "color": "white",
              "width": 0.5
             },
             "pattern": {
              "fillmode": "overlay",
              "size": 10,
              "solidity": 0.2
             }
            },
            "type": "barpolar"
           }
          ],
          "carpet": [
           {
            "aaxis": {
             "endlinecolor": "rgb(36,36,36)",
             "gridcolor": "white",
             "linecolor": "white",
             "minorgridcolor": "white",
             "startlinecolor": "rgb(36,36,36)"
            },
            "baxis": {
             "endlinecolor": "rgb(36,36,36)",
             "gridcolor": "white",
             "linecolor": "white",
             "minorgridcolor": "white",
             "startlinecolor": "rgb(36,36,36)"
            },
            "type": "carpet"
           }
          ],
          "choropleth": [
           {
            "colorbar": {
             "outlinewidth": 1,
             "tickcolor": "rgb(36,36,36)",
             "ticks": "outside"
            },
            "type": "choropleth"
           }
          ],
          "contour": [
           {
            "colorbar": {
             "outlinewidth": 1,
             "tickcolor": "rgb(36,36,36)",
             "ticks": "outside"
            },
            "colorscale": [
             [
              0,
              "#440154"
             ],
             [
              0.1111111111111111,
              "#482878"
             ],
             [
              0.2222222222222222,
              "#3e4989"
             ],
             [
              0.3333333333333333,
              "#31688e"
             ],
             [
              0.4444444444444444,
              "#26828e"
             ],
             [
              0.5555555555555556,
              "#1f9e89"
             ],
             [
              0.6666666666666666,
              "#35b779"
             ],
             [
              0.7777777777777778,
              "#6ece58"
             ],
             [
              0.8888888888888888,
              "#b5de2b"
             ],
             [
              1,
              "#fde725"
             ]
            ],
            "type": "contour"
           }
          ],
          "contourcarpet": [
           {
            "colorbar": {
             "outlinewidth": 1,
             "tickcolor": "rgb(36,36,36)",
             "ticks": "outside"
            },
            "type": "contourcarpet"
           }
          ],
          "heatmap": [
           {
            "colorbar": {
             "outlinewidth": 1,
             "tickcolor": "rgb(36,36,36)",
             "ticks": "outside"
            },
            "colorscale": [
             [
              0,
              "#440154"
             ],
             [
              0.1111111111111111,
              "#482878"
             ],
             [
              0.2222222222222222,
              "#3e4989"
             ],
             [
              0.3333333333333333,
              "#31688e"
             ],
             [
              0.4444444444444444,
              "#26828e"
             ],
             [
              0.5555555555555556,
              "#1f9e89"
             ],
             [
              0.6666666666666666,
              "#35b779"
             ],
             [
              0.7777777777777778,
              "#6ece58"
             ],
             [
              0.8888888888888888,
              "#b5de2b"
             ],
             [
              1,
              "#fde725"
             ]
            ],
            "type": "heatmap"
           }
          ],
          "heatmapgl": [
           {
            "colorbar": {
             "outlinewidth": 1,
             "tickcolor": "rgb(36,36,36)",
             "ticks": "outside"
            },
            "colorscale": [
             [
              0,
              "#440154"
             ],
             [
              0.1111111111111111,
              "#482878"
             ],
             [
              0.2222222222222222,
              "#3e4989"
             ],
             [
              0.3333333333333333,
              "#31688e"
             ],
             [
              0.4444444444444444,
              "#26828e"
             ],
             [
              0.5555555555555556,
              "#1f9e89"
             ],
             [
              0.6666666666666666,
              "#35b779"
             ],
             [
              0.7777777777777778,
              "#6ece58"
             ],
             [
              0.8888888888888888,
              "#b5de2b"
             ],
             [
              1,
              "#fde725"
             ]
            ],
            "type": "heatmapgl"
           }
          ],
          "histogram": [
           {
            "marker": {
             "line": {
              "color": "white",
              "width": 0.6
             }
            },
            "type": "histogram"
           }
          ],
          "histogram2d": [
           {
            "colorbar": {
             "outlinewidth": 1,
             "tickcolor": "rgb(36,36,36)",
             "ticks": "outside"
            },
            "colorscale": [
             [
              0,
              "#440154"
             ],
             [
              0.1111111111111111,
              "#482878"
             ],
             [
              0.2222222222222222,
              "#3e4989"
             ],
             [
              0.3333333333333333,
              "#31688e"
             ],
             [
              0.4444444444444444,
              "#26828e"
             ],
             [
              0.5555555555555556,
              "#1f9e89"
             ],
             [
              0.6666666666666666,
              "#35b779"
             ],
             [
              0.7777777777777778,
              "#6ece58"
             ],
             [
              0.8888888888888888,
              "#b5de2b"
             ],
             [
              1,
              "#fde725"
             ]
            ],
            "type": "histogram2d"
           }
          ],
          "histogram2dcontour": [
           {
            "colorbar": {
             "outlinewidth": 1,
             "tickcolor": "rgb(36,36,36)",
             "ticks": "outside"
            },
            "colorscale": [
             [
              0,
              "#440154"
             ],
             [
              0.1111111111111111,
              "#482878"
             ],
             [
              0.2222222222222222,
              "#3e4989"
             ],
             [
              0.3333333333333333,
              "#31688e"
             ],
             [
              0.4444444444444444,
              "#26828e"
             ],
             [
              0.5555555555555556,
              "#1f9e89"
             ],
             [
              0.6666666666666666,
              "#35b779"
             ],
             [
              0.7777777777777778,
              "#6ece58"
             ],
             [
              0.8888888888888888,
              "#b5de2b"
             ],
             [
              1,
              "#fde725"
             ]
            ],
            "type": "histogram2dcontour"
           }
          ],
          "mesh3d": [
           {
            "colorbar": {
             "outlinewidth": 1,
             "tickcolor": "rgb(36,36,36)",
             "ticks": "outside"
            },
            "type": "mesh3d"
           }
          ],
          "parcoords": [
           {
            "line": {
             "colorbar": {
              "outlinewidth": 1,
              "tickcolor": "rgb(36,36,36)",
              "ticks": "outside"
             }
            },
            "type": "parcoords"
           }
          ],
          "pie": [
           {
            "automargin": true,
            "type": "pie"
           }
          ],
          "scatter": [
           {
            "fillpattern": {
             "fillmode": "overlay",
             "size": 10,
             "solidity": 0.2
            },
            "type": "scatter"
           }
          ],
          "scatter3d": [
           {
            "line": {
             "colorbar": {
              "outlinewidth": 1,
              "tickcolor": "rgb(36,36,36)",
              "ticks": "outside"
             }
            },
            "marker": {
             "colorbar": {
              "outlinewidth": 1,
              "tickcolor": "rgb(36,36,36)",
              "ticks": "outside"
             }
            },
            "type": "scatter3d"
           }
          ],
          "scattercarpet": [
           {
            "marker": {
             "colorbar": {
              "outlinewidth": 1,
              "tickcolor": "rgb(36,36,36)",
              "ticks": "outside"
             }
            },
            "type": "scattercarpet"
           }
          ],
          "scattergeo": [
           {
            "marker": {
             "colorbar": {
              "outlinewidth": 1,
              "tickcolor": "rgb(36,36,36)",
              "ticks": "outside"
             }
            },
            "type": "scattergeo"
           }
          ],
          "scattergl": [
           {
            "marker": {
             "colorbar": {
              "outlinewidth": 1,
              "tickcolor": "rgb(36,36,36)",
              "ticks": "outside"
             }
            },
            "type": "scattergl"
           }
          ],
          "scattermapbox": [
           {
            "marker": {
             "colorbar": {
              "outlinewidth": 1,
              "tickcolor": "rgb(36,36,36)",
              "ticks": "outside"
             }
            },
            "type": "scattermapbox"
           }
          ],
          "scatterpolar": [
           {
            "marker": {
             "colorbar": {
              "outlinewidth": 1,
              "tickcolor": "rgb(36,36,36)",
              "ticks": "outside"
             }
            },
            "type": "scatterpolar"
           }
          ],
          "scatterpolargl": [
           {
            "marker": {
             "colorbar": {
              "outlinewidth": 1,
              "tickcolor": "rgb(36,36,36)",
              "ticks": "outside"
             }
            },
            "type": "scatterpolargl"
           }
          ],
          "scatterternary": [
           {
            "marker": {
             "colorbar": {
              "outlinewidth": 1,
              "tickcolor": "rgb(36,36,36)",
              "ticks": "outside"
             }
            },
            "type": "scatterternary"
           }
          ],
          "surface": [
           {
            "colorbar": {
             "outlinewidth": 1,
             "tickcolor": "rgb(36,36,36)",
             "ticks": "outside"
            },
            "colorscale": [
             [
              0,
              "#440154"
             ],
             [
              0.1111111111111111,
              "#482878"
             ],
             [
              0.2222222222222222,
              "#3e4989"
             ],
             [
              0.3333333333333333,
              "#31688e"
             ],
             [
              0.4444444444444444,
              "#26828e"
             ],
             [
              0.5555555555555556,
              "#1f9e89"
             ],
             [
              0.6666666666666666,
              "#35b779"
             ],
             [
              0.7777777777777778,
              "#6ece58"
             ],
             [
              0.8888888888888888,
              "#b5de2b"
             ],
             [
              1,
              "#fde725"
             ]
            ],
            "type": "surface"
           }
          ],
          "table": [
           {
            "cells": {
             "fill": {
              "color": "rgb(237,237,237)"
             },
             "line": {
              "color": "white"
             }
            },
            "header": {
             "fill": {
              "color": "rgb(217,217,217)"
             },
             "line": {
              "color": "white"
             }
            },
            "type": "table"
           }
          ]
         },
         "layout": {
          "annotationdefaults": {
           "arrowhead": 0,
           "arrowwidth": 1
          },
          "autotypenumbers": "strict",
          "coloraxis": {
           "colorbar": {
            "outlinewidth": 1,
            "tickcolor": "rgb(36,36,36)",
            "ticks": "outside"
           }
          },
          "colorscale": {
           "diverging": [
            [
             0,
             "rgb(103,0,31)"
            ],
            [
             0.1,
             "rgb(178,24,43)"
            ],
            [
             0.2,
             "rgb(214,96,77)"
            ],
            [
             0.3,
             "rgb(244,165,130)"
            ],
            [
             0.4,
             "rgb(253,219,199)"
            ],
            [
             0.5,
             "rgb(247,247,247)"
            ],
            [
             0.6,
             "rgb(209,229,240)"
            ],
            [
             0.7,
             "rgb(146,197,222)"
            ],
            [
             0.8,
             "rgb(67,147,195)"
            ],
            [
             0.9,
             "rgb(33,102,172)"
            ],
            [
             1,
             "rgb(5,48,97)"
            ]
           ],
           "sequential": [
            [
             0,
             "#440154"
            ],
            [
             0.1111111111111111,
             "#482878"
            ],
            [
             0.2222222222222222,
             "#3e4989"
            ],
            [
             0.3333333333333333,
             "#31688e"
            ],
            [
             0.4444444444444444,
             "#26828e"
            ],
            [
             0.5555555555555556,
             "#1f9e89"
            ],
            [
             0.6666666666666666,
             "#35b779"
            ],
            [
             0.7777777777777778,
             "#6ece58"
            ],
            [
             0.8888888888888888,
             "#b5de2b"
            ],
            [
             1,
             "#fde725"
            ]
           ],
           "sequentialminus": [
            [
             0,
             "#440154"
            ],
            [
             0.1111111111111111,
             "#482878"
            ],
            [
             0.2222222222222222,
             "#3e4989"
            ],
            [
             0.3333333333333333,
             "#31688e"
            ],
            [
             0.4444444444444444,
             "#26828e"
            ],
            [
             0.5555555555555556,
             "#1f9e89"
            ],
            [
             0.6666666666666666,
             "#35b779"
            ],
            [
             0.7777777777777778,
             "#6ece58"
            ],
            [
             0.8888888888888888,
             "#b5de2b"
            ],
            [
             1,
             "#fde725"
            ]
           ]
          },
          "colorway": [
           "#1F77B4",
           "#FF7F0E",
           "#2CA02C",
           "#D62728",
           "#9467BD",
           "#8C564B",
           "#E377C2",
           "#7F7F7F",
           "#BCBD22",
           "#17BECF"
          ],
          "font": {
           "color": "rgb(36,36,36)"
          },
          "geo": {
           "bgcolor": "white",
           "lakecolor": "white",
           "landcolor": "white",
           "showlakes": true,
           "showland": true,
           "subunitcolor": "white"
          },
          "hoverlabel": {
           "align": "left"
          },
          "hovermode": "closest",
          "mapbox": {
           "style": "light"
          },
          "paper_bgcolor": "white",
          "plot_bgcolor": "white",
          "polar": {
           "angularaxis": {
            "gridcolor": "rgb(232,232,232)",
            "linecolor": "rgb(36,36,36)",
            "showgrid": false,
            "showline": true,
            "ticks": "outside"
           },
           "bgcolor": "white",
           "radialaxis": {
            "gridcolor": "rgb(232,232,232)",
            "linecolor": "rgb(36,36,36)",
            "showgrid": false,
            "showline": true,
            "ticks": "outside"
           }
          },
          "scene": {
           "xaxis": {
            "backgroundcolor": "white",
            "gridcolor": "rgb(232,232,232)",
            "gridwidth": 2,
            "linecolor": "rgb(36,36,36)",
            "showbackground": true,
            "showgrid": false,
            "showline": true,
            "ticks": "outside",
            "zeroline": false,
            "zerolinecolor": "rgb(36,36,36)"
           },
           "yaxis": {
            "backgroundcolor": "white",
            "gridcolor": "rgb(232,232,232)",
            "gridwidth": 2,
            "linecolor": "rgb(36,36,36)",
            "showbackground": true,
            "showgrid": false,
            "showline": true,
            "ticks": "outside",
            "zeroline": false,
            "zerolinecolor": "rgb(36,36,36)"
           },
           "zaxis": {
            "backgroundcolor": "white",
            "gridcolor": "rgb(232,232,232)",
            "gridwidth": 2,
            "linecolor": "rgb(36,36,36)",
            "showbackground": true,
            "showgrid": false,
            "showline": true,
            "ticks": "outside",
            "zeroline": false,
            "zerolinecolor": "rgb(36,36,36)"
           }
          },
          "shapedefaults": {
           "fillcolor": "black",
           "line": {
            "width": 0
           },
           "opacity": 0.3
          },
          "ternary": {
           "aaxis": {
            "gridcolor": "rgb(232,232,232)",
            "linecolor": "rgb(36,36,36)",
            "showgrid": false,
            "showline": true,
            "ticks": "outside"
           },
           "baxis": {
            "gridcolor": "rgb(232,232,232)",
            "linecolor": "rgb(36,36,36)",
            "showgrid": false,
            "showline": true,
            "ticks": "outside"
           },
           "bgcolor": "white",
           "caxis": {
            "gridcolor": "rgb(232,232,232)",
            "linecolor": "rgb(36,36,36)",
            "showgrid": false,
            "showline": true,
            "ticks": "outside"
           }
          },
          "title": {
           "x": 0.05
          },
          "xaxis": {
           "automargin": true,
           "gridcolor": "rgb(232,232,232)",
           "linecolor": "rgb(36,36,36)",
           "showgrid": false,
           "showline": true,
           "ticks": "outside",
           "title": {
            "standoff": 15
           },
           "zeroline": false,
           "zerolinecolor": "rgb(36,36,36)"
          },
          "yaxis": {
           "automargin": true,
           "gridcolor": "rgb(232,232,232)",
           "linecolor": "rgb(36,36,36)",
           "showgrid": false,
           "showline": true,
           "ticks": "outside",
           "title": {
            "standoff": 15
           },
           "zeroline": false,
           "zerolinecolor": "rgb(36,36,36)"
          }
         }
        },
        "title": {
         "font": {
          "color": "Black",
          "size": 22
         },
         "text": "<b>Intertopic Distance Map</b>",
         "x": 0.5,
         "xanchor": "center",
         "y": 0.95,
         "yanchor": "top"
        },
        "width": 650,
        "xaxis": {
         "anchor": "y",
         "domain": [
          0,
          1
         ],
         "range": [
          -6.626706981658936,
          8.4422696352005
         ],
         "title": {
          "text": ""
         },
         "visible": false
        },
        "yaxis": {
         "anchor": "x",
         "domain": [
          0,
          1
         ],
         "range": [
          3.722749209403992,
          11.61597981452942
         ],
         "title": {
          "text": ""
         },
         "visible": false
        }
       }
      }
     },
     "metadata": {},
     "output_type": "display_data"
    }
   ],
   "source": [
    "model.visualize_topics()"
   ]
  },
  {
   "cell_type": "code",
   "execution_count": 11,
   "metadata": {},
   "outputs": [
    {
     "data": {
      "application/vnd.plotly.v1+json": {
       "config": {
        "plotlyServerURL": "https://plot.ly"
       },
       "data": [
        {
         "marker": {
          "color": "#D55E00"
         },
         "orientation": "h",
         "type": "bar",
         "x": [
          0.029036516004595246,
          0.029465590842772057,
          0.030570058994554564,
          0.04038552279660665,
          0.040577336783121136
         ],
         "xaxis": "x",
         "y": [
          "and  ",
          "the  ",
          "of  ",
          "teachers  ",
          "technology  "
         ],
         "yaxis": "y"
        },
        {
         "marker": {
          "color": "#0072B2"
         },
         "orientation": "h",
         "type": "bar",
         "x": [
          0.02436042075377865,
          0.02488193510681371,
          0.03103419989903853,
          0.038930584300787954,
          0.05118228512142289
         ],
         "xaxis": "x2",
         "y": [
          "of  ",
          "and  ",
          "the  ",
          "feedback  ",
          "writing  "
         ],
         "yaxis": "y2"
        },
        {
         "marker": {
          "color": "#CC79A7"
         },
         "orientation": "h",
         "type": "bar",
         "x": [
          0.024615398075725173,
          0.02597697257960439,
          0.026263338474099458,
          0.02673184702966658,
          0.02750321609248581
         ],
         "xaxis": "x3",
         "y": [
          "of  ",
          "and  ",
          "in  ",
          "the  ",
          "task  "
         ],
         "yaxis": "y3"
        },
        {
         "marker": {
          "color": "#E69F00"
         },
         "orientation": "h",
         "type": "bar",
         "x": [
          0.027940067508069256,
          0.029764850212297182,
          0.03321715560056304,
          0.03555219359160755,
          0.05498681437765878
         ],
         "xaxis": "x4",
         "y": [
          "of  ",
          "the  ",
          "mall  ",
          "learning  ",
          "mobile  "
         ],
         "yaxis": "y4"
        },
        {
         "marker": {
          "color": "#56B4E9"
         },
         "orientation": "h",
         "type": "bar",
         "x": [
          0.027240219881447706,
          0.03040339548048357,
          0.03049990830399238,
          0.03367567354846823,
          0.03698105212117544
         ],
         "xaxis": "x5",
         "y": [
          "of  ",
          "the  ",
          "and  ",
          "telecollaboration  ",
          "intercultural  "
         ],
         "yaxis": "y5"
        },
        {
         "marker": {
          "color": "#009E73"
         },
         "orientation": "h",
         "type": "bar",
         "x": [
          0.027410550480310283,
          0.02783796013332932,
          0.02827094537747793,
          0.030315797494332167,
          0.060672425209861366
         ],
         "xaxis": "x6",
         "y": [
          "corpora  ",
          "ddl  ",
          "of  ",
          "the  ",
          "corpus  "
         ],
         "yaxis": "y6"
        },
        {
         "marker": {
          "color": "#F0E442"
         },
         "orientation": "h",
         "type": "bar",
         "x": [
          0.024232697351513132,
          0.026735187142047038,
          0.0274299216616911,
          0.0300040081206771,
          0.047277492694204025
         ],
         "xaxis": "x7",
         "y": [
          "and  ",
          "of  ",
          "asr  ",
          "the  ",
          "pronunciation  "
         ],
         "yaxis": "y7"
        },
        {
         "marker": {
          "color": "#D55E00"
         },
         "orientation": "h",
         "type": "bar",
         "x": [
          0.024954374895043985,
          0.027371597452876567,
          0.028071259725575205,
          0.03386945729799383,
          0.05023450357717426
         ],
         "xaxis": "x8",
         "y": [
          "learning  ",
          "and  ",
          "gaming  ",
          "games  ",
          "game  "
         ],
         "yaxis": "y8"
        },
        {
         "marker": {
          "color": "#0072B2"
         },
         "orientation": "h",
         "type": "bar",
         "x": [
          0.028902840926054527,
          0.029675784603492922,
          0.029854046927279238,
          0.030353471252595802,
          0.03591563654387884
         ],
         "xaxis": "x9",
         "y": [
          "of  ",
          "learning  ",
          "the  ",
          "online  ",
          "blended  "
         ],
         "yaxis": "y9"
        },
        {
         "marker": {
          "color": "#CC79A7"
         },
         "orientation": "h",
         "type": "bar",
         "x": [
          0.02679015587870958,
          0.02747607202671997,
          0.04789147861071473,
          0.058278794775651364,
          0.06689827559278773
         ],
         "xaxis": "x10",
         "y": [
          "and  ",
          "the  ",
          "wiki  ",
          "collaborative  ",
          "writing  "
         ],
         "yaxis": "y10"
        },
        {
         "marker": {
          "color": "#E69F00"
         },
         "orientation": "h",
         "type": "bar",
         "x": [
          0.02677314989113223,
          0.02779278706484329,
          0.03306924480487524,
          0.040302601614054356,
          0.0621744203535506
         ],
         "xaxis": "x11",
         "y": [
          "of  ",
          "and  ",
          "the  ",
          "virtual  ",
          "vr  "
         ],
         "yaxis": "y11"
        },
        {
         "marker": {
          "color": "#56B4E9"
         },
         "orientation": "h",
         "type": "bar",
         "x": [
          0.025227250529219647,
          0.02523075142798069,
          0.02594718553370954,
          0.0288386330867658,
          0.034265666030886134
         ],
         "xaxis": "x12",
         "y": [
          "to  ",
          "for  ",
          "the  ",
          "and  ",
          "online  "
         ],
         "yaxis": "y12"
        },
        {
         "marker": {
          "color": "#009E73"
         },
         "orientation": "h",
         "type": "bar",
         "x": [
          0.024343886032496934,
          0.027308255353017296,
          0.029370569466396514,
          0.04550143091272205,
          0.05463359325510709
         ],
         "xaxis": "x13",
         "y": [
          "to  ",
          "of  ",
          "the  ",
          "test  ",
          "listening  "
         ],
         "yaxis": "y13"
        },
        {
         "marker": {
          "color": "#F0E442"
         },
         "orientation": "h",
         "type": "bar",
         "x": [
          0.027326775471526905,
          0.030997232590944418,
          0.032531887813964704,
          0.038396649883368,
          0.04406287441892364
         ],
         "xaxis": "x14",
         "y": [
          "in  ",
          "and  ",
          "the  ",
          "storytelling  ",
          "digital  "
         ],
         "yaxis": "y14"
        },
        {
         "marker": {
          "color": "#D55E00"
         },
         "orientation": "h",
         "type": "bar",
         "x": [
          0.02777248239892557,
          0.028218696001784855,
          0.028836274513286752,
          0.02970120268055855,
          0.030018034998159433
         ],
         "xaxis": "x15",
         "y": [
          "of  ",
          "social  ",
          "language  ",
          "in  ",
          "and  "
         ],
         "yaxis": "y15"
        },
        {
         "marker": {
          "color": "#0072B2"
         },
         "orientation": "h",
         "type": "bar",
         "x": [
          0.02581900709823274,
          0.02632325483249009,
          0.028280995936822435,
          0.029963286106799075,
          0.03483423734109152
         ],
         "xaxis": "x16",
         "y": [
          "in  ",
          "and  ",
          "the  ",
          "of  ",
          "multimodal  "
         ],
         "yaxis": "y16"
        },
        {
         "marker": {
          "color": "#CC79A7"
         },
         "orientation": "h",
         "type": "bar",
         "x": [
          0.03427984730182161,
          0.044186503291490646,
          0.04709673581420371,
          0.054361124806104756,
          0.09525702715217242
         ],
         "xaxis": "x17",
         "y": [
          "full  ",
          "caption  ",
          "captioning  ",
          "comprehension  ",
          "captions  "
         ],
         "yaxis": "y17"
        },
        {
         "marker": {
          "color": "#E69F00"
         },
         "orientation": "h",
         "type": "bar",
         "x": [
          0.02061092496177226,
          0.025564734118192368,
          0.027656019736427895,
          0.027983710309635722,
          0.07972212369405199
         ],
         "xaxis": "x18",
         "y": [
          "to  ",
          "and  ",
          "the  ",
          "of  ",
          "vocabulary  "
         ],
         "yaxis": "y18"
        },
        {
         "marker": {
          "color": "#56B4E9"
         },
         "orientation": "h",
         "type": "bar",
         "x": [
          0.027237470514752046,
          0.028985672378151427,
          0.0303750019551586,
          0.0342118362051047,
          0.10721137872702097
         ],
         "xaxis": "x19",
         "y": [
          "and  ",
          "in  ",
          "classroom  ",
          "the  ",
          "flipped  "
         ],
         "yaxis": "y19"
        },
        {
         "marker": {
          "color": "#009E73"
         },
         "orientation": "h",
         "type": "bar",
         "x": [
          0.0274318068953586,
          0.02888565644145919,
          0.03051041253701893,
          0.031416298989957625,
          0.10726548216632188
         ],
         "xaxis": "x20",
         "y": [
          "and  ",
          "the  ",
          "comprehension  ",
          "students  ",
          "reading  "
         ],
         "yaxis": "y20"
        },
        {
         "marker": {
          "color": "#F0E442"
         },
         "orientation": "h",
         "type": "bar",
         "x": [
          0.02600570080168578,
          0.02674362181583795,
          0.028449207152626343,
          0.02934780915743347,
          0.030797357717593857
         ],
         "xaxis": "x21",
         "y": [
          "the  ",
          "in  ",
          "identity  ",
          "of  ",
          "and  "
         ],
         "yaxis": "y21"
        },
        {
         "marker": {
          "color": "#D55E00"
         },
         "orientation": "h",
         "type": "bar",
         "x": [
          0.029472340725835062,
          0.03103652588218531,
          0.033680936760929016,
          0.04151230117795736,
          0.05456617015577486
         ],
         "xaxis": "x22",
         "y": [
          "research  ",
          "the  ",
          "studies  ",
          "quot  ",
          "call  "
         ],
         "yaxis": "y22"
        },
        {
         "marker": {
          "color": "#0072B2"
         },
         "orientation": "h",
         "type": "bar",
         "x": [
          0.03248863073021273,
          0.034050331615037115,
          0.03434418809085888,
          0.058266077333410535,
          0.08673400900740967
         ],
         "xaxis": "x23",
         "y": [
          "texts  ",
          "machine  ",
          "students  ",
          "translation  ",
          "mt  "
         ],
         "yaxis": "y23"
        },
        {
         "marker": {
          "color": "#CC79A7"
         },
         "orientation": "h",
         "type": "bar",
         "x": [
          0.02559742923132359,
          0.02603332262226189,
          0.026280776016584892,
          0.038824130570218,
          0.06070841658835103
         ],
         "xaxis": "x24",
         "y": [
          "chatbots  ",
          "and  ",
          "the  ",
          "rall  ",
          "robot  "
         ],
         "yaxis": "y24"
        },
        {
         "marker": {
          "color": "#E69F00"
         },
         "orientation": "h",
         "type": "bar",
         "x": [
          0.02500607443834634,
          0.028145191460911,
          0.031556357537199986,
          0.05819130856249206,
          0.07731670385433016
         ],
         "xaxis": "x25",
         "y": [
          "foreign  ",
          "and  ",
          "the  ",
          "fla  ",
          "anxiety  "
         ],
         "yaxis": "y25"
        }
       ],
       "layout": {
        "annotations": [
         {
          "font": {
           "size": 16
          },
          "showarrow": false,
          "text": "Topic 0",
          "x": 0.0875,
          "xanchor": "center",
          "xref": "paper",
          "y": 1,
          "yanchor": "bottom",
          "yref": "paper"
         },
         {
          "font": {
           "size": 16
          },
          "showarrow": false,
          "text": "Topic 1",
          "x": 0.36250000000000004,
          "xanchor": "center",
          "xref": "paper",
          "y": 1,
          "yanchor": "bottom",
          "yref": "paper"
         },
         {
          "font": {
           "size": 16
          },
          "showarrow": false,
          "text": "Topic 2",
          "x": 0.6375000000000001,
          "xanchor": "center",
          "xref": "paper",
          "y": 1,
          "yanchor": "bottom",
          "yref": "paper"
         },
         {
          "font": {
           "size": 16
          },
          "showarrow": false,
          "text": "Topic 3",
          "x": 0.9125,
          "xanchor": "center",
          "xref": "paper",
          "y": 1,
          "yanchor": "bottom",
          "yref": "paper"
         },
         {
          "font": {
           "size": 16
          },
          "showarrow": false,
          "text": "Topic 4",
          "x": 0.0875,
          "xanchor": "center",
          "xref": "paper",
          "y": 0.8489795918367348,
          "yanchor": "bottom",
          "yref": "paper"
         },
         {
          "font": {
           "size": 16
          },
          "showarrow": false,
          "text": "Topic 5",
          "x": 0.36250000000000004,
          "xanchor": "center",
          "xref": "paper",
          "y": 0.8489795918367348,
          "yanchor": "bottom",
          "yref": "paper"
         },
         {
          "font": {
           "size": 16
          },
          "showarrow": false,
          "text": "Topic 6",
          "x": 0.6375000000000001,
          "xanchor": "center",
          "xref": "paper",
          "y": 0.8489795918367348,
          "yanchor": "bottom",
          "yref": "paper"
         },
         {
          "font": {
           "size": 16
          },
          "showarrow": false,
          "text": "Topic 7",
          "x": 0.9125,
          "xanchor": "center",
          "xref": "paper",
          "y": 0.8489795918367348,
          "yanchor": "bottom",
          "yref": "paper"
         },
         {
          "font": {
           "size": 16
          },
          "showarrow": false,
          "text": "Topic 8",
          "x": 0.0875,
          "xanchor": "center",
          "xref": "paper",
          "y": 0.6979591836734694,
          "yanchor": "bottom",
          "yref": "paper"
         },
         {
          "font": {
           "size": 16
          },
          "showarrow": false,
          "text": "Topic 9",
          "x": 0.36250000000000004,
          "xanchor": "center",
          "xref": "paper",
          "y": 0.6979591836734694,
          "yanchor": "bottom",
          "yref": "paper"
         },
         {
          "font": {
           "size": 16
          },
          "showarrow": false,
          "text": "Topic 10",
          "x": 0.6375000000000001,
          "xanchor": "center",
          "xref": "paper",
          "y": 0.6979591836734694,
          "yanchor": "bottom",
          "yref": "paper"
         },
         {
          "font": {
           "size": 16
          },
          "showarrow": false,
          "text": "Topic 11",
          "x": 0.9125,
          "xanchor": "center",
          "xref": "paper",
          "y": 0.6979591836734694,
          "yanchor": "bottom",
          "yref": "paper"
         },
         {
          "font": {
           "size": 16
          },
          "showarrow": false,
          "text": "Topic 12",
          "x": 0.0875,
          "xanchor": "center",
          "xref": "paper",
          "y": 0.5469387755102041,
          "yanchor": "bottom",
          "yref": "paper"
         },
         {
          "font": {
           "size": 16
          },
          "showarrow": false,
          "text": "Topic 13",
          "x": 0.36250000000000004,
          "xanchor": "center",
          "xref": "paper",
          "y": 0.5469387755102041,
          "yanchor": "bottom",
          "yref": "paper"
         },
         {
          "font": {
           "size": 16
          },
          "showarrow": false,
          "text": "Topic 14",
          "x": 0.6375000000000001,
          "xanchor": "center",
          "xref": "paper",
          "y": 0.5469387755102041,
          "yanchor": "bottom",
          "yref": "paper"
         },
         {
          "font": {
           "size": 16
          },
          "showarrow": false,
          "text": "Topic 15",
          "x": 0.9125,
          "xanchor": "center",
          "xref": "paper",
          "y": 0.5469387755102041,
          "yanchor": "bottom",
          "yref": "paper"
         },
         {
          "font": {
           "size": 16
          },
          "showarrow": false,
          "text": "Topic 16",
          "x": 0.0875,
          "xanchor": "center",
          "xref": "paper",
          "y": 0.3959183673469388,
          "yanchor": "bottom",
          "yref": "paper"
         },
         {
          "font": {
           "size": 16
          },
          "showarrow": false,
          "text": "Topic 17",
          "x": 0.36250000000000004,
          "xanchor": "center",
          "xref": "paper",
          "y": 0.3959183673469388,
          "yanchor": "bottom",
          "yref": "paper"
         },
         {
          "font": {
           "size": 16
          },
          "showarrow": false,
          "text": "Topic 18",
          "x": 0.6375000000000001,
          "xanchor": "center",
          "xref": "paper",
          "y": 0.3959183673469388,
          "yanchor": "bottom",
          "yref": "paper"
         },
         {
          "font": {
           "size": 16
          },
          "showarrow": false,
          "text": "Topic 19",
          "x": 0.9125,
          "xanchor": "center",
          "xref": "paper",
          "y": 0.3959183673469388,
          "yanchor": "bottom",
          "yref": "paper"
         },
         {
          "font": {
           "size": 16
          },
          "showarrow": false,
          "text": "Topic 20",
          "x": 0.0875,
          "xanchor": "center",
          "xref": "paper",
          "y": 0.24489795918367346,
          "yanchor": "bottom",
          "yref": "paper"
         },
         {
          "font": {
           "size": 16
          },
          "showarrow": false,
          "text": "Topic 21",
          "x": 0.36250000000000004,
          "xanchor": "center",
          "xref": "paper",
          "y": 0.24489795918367346,
          "yanchor": "bottom",
          "yref": "paper"
         },
         {
          "font": {
           "size": 16
          },
          "showarrow": false,
          "text": "Topic 22",
          "x": 0.6375000000000001,
          "xanchor": "center",
          "xref": "paper",
          "y": 0.24489795918367346,
          "yanchor": "bottom",
          "yref": "paper"
         },
         {
          "font": {
           "size": 16
          },
          "showarrow": false,
          "text": "Topic 23",
          "x": 0.9125,
          "xanchor": "center",
          "xref": "paper",
          "y": 0.24489795918367346,
          "yanchor": "bottom",
          "yref": "paper"
         },
         {
          "font": {
           "size": 16
          },
          "showarrow": false,
          "text": "Topic 24",
          "x": 0.0875,
          "xanchor": "center",
          "xref": "paper",
          "y": 0.09387755102040816,
          "yanchor": "bottom",
          "yref": "paper"
         }
        ],
        "height": 1750,
        "hoverlabel": {
         "bgcolor": "white",
         "font": {
          "family": "Rockwell",
          "size": 16
         }
        },
        "showlegend": false,
        "template": {
         "data": {
          "bar": [
           {
            "error_x": {
             "color": "#2a3f5f"
            },
            "error_y": {
             "color": "#2a3f5f"
            },
            "marker": {
             "line": {
              "color": "white",
              "width": 0.5
             },
             "pattern": {
              "fillmode": "overlay",
              "size": 10,
              "solidity": 0.2
             }
            },
            "type": "bar"
           }
          ],
          "barpolar": [
           {
            "marker": {
             "line": {
              "color": "white",
              "width": 0.5
             },
             "pattern": {
              "fillmode": "overlay",
              "size": 10,
              "solidity": 0.2
             }
            },
            "type": "barpolar"
           }
          ],
          "carpet": [
           {
            "aaxis": {
             "endlinecolor": "#2a3f5f",
             "gridcolor": "#C8D4E3",
             "linecolor": "#C8D4E3",
             "minorgridcolor": "#C8D4E3",
             "startlinecolor": "#2a3f5f"
            },
            "baxis": {
             "endlinecolor": "#2a3f5f",
             "gridcolor": "#C8D4E3",
             "linecolor": "#C8D4E3",
             "minorgridcolor": "#C8D4E3",
             "startlinecolor": "#2a3f5f"
            },
            "type": "carpet"
           }
          ],
          "choropleth": [
           {
            "colorbar": {
             "outlinewidth": 0,
             "ticks": ""
            },
            "type": "choropleth"
           }
          ],
          "contour": [
           {
            "colorbar": {
             "outlinewidth": 0,
             "ticks": ""
            },
            "colorscale": [
             [
              0,
              "#0d0887"
             ],
             [
              0.1111111111111111,
              "#46039f"
             ],
             [
              0.2222222222222222,
              "#7201a8"
             ],
             [
              0.3333333333333333,
              "#9c179e"
             ],
             [
              0.4444444444444444,
              "#bd3786"
             ],
             [
              0.5555555555555556,
              "#d8576b"
             ],
             [
              0.6666666666666666,
              "#ed7953"
             ],
             [
              0.7777777777777778,
              "#fb9f3a"
             ],
             [
              0.8888888888888888,
              "#fdca26"
             ],
             [
              1,
              "#f0f921"
             ]
            ],
            "type": "contour"
           }
          ],
          "contourcarpet": [
           {
            "colorbar": {
             "outlinewidth": 0,
             "ticks": ""
            },
            "type": "contourcarpet"
           }
          ],
          "heatmap": [
           {
            "colorbar": {
             "outlinewidth": 0,
             "ticks": ""
            },
            "colorscale": [
             [
              0,
              "#0d0887"
             ],
             [
              0.1111111111111111,
              "#46039f"
             ],
             [
              0.2222222222222222,
              "#7201a8"
             ],
             [
              0.3333333333333333,
              "#9c179e"
             ],
             [
              0.4444444444444444,
              "#bd3786"
             ],
             [
              0.5555555555555556,
              "#d8576b"
             ],
             [
              0.6666666666666666,
              "#ed7953"
             ],
             [
              0.7777777777777778,
              "#fb9f3a"
             ],
             [
              0.8888888888888888,
              "#fdca26"
             ],
             [
              1,
              "#f0f921"
             ]
            ],
            "type": "heatmap"
           }
          ],
          "heatmapgl": [
           {
            "colorbar": {
             "outlinewidth": 0,
             "ticks": ""
            },
            "colorscale": [
             [
              0,
              "#0d0887"
             ],
             [
              0.1111111111111111,
              "#46039f"
             ],
             [
              0.2222222222222222,
              "#7201a8"
             ],
             [
              0.3333333333333333,
              "#9c179e"
             ],
             [
              0.4444444444444444,
              "#bd3786"
             ],
             [
              0.5555555555555556,
              "#d8576b"
             ],
             [
              0.6666666666666666,
              "#ed7953"
             ],
             [
              0.7777777777777778,
              "#fb9f3a"
             ],
             [
              0.8888888888888888,
              "#fdca26"
             ],
             [
              1,
              "#f0f921"
             ]
            ],
            "type": "heatmapgl"
           }
          ],
          "histogram": [
           {
            "marker": {
             "pattern": {
              "fillmode": "overlay",
              "size": 10,
              "solidity": 0.2
             }
            },
            "type": "histogram"
           }
          ],
          "histogram2d": [
           {
            "colorbar": {
             "outlinewidth": 0,
             "ticks": ""
            },
            "colorscale": [
             [
              0,
              "#0d0887"
             ],
             [
              0.1111111111111111,
              "#46039f"
             ],
             [
              0.2222222222222222,
              "#7201a8"
             ],
             [
              0.3333333333333333,
              "#9c179e"
             ],
             [
              0.4444444444444444,
              "#bd3786"
             ],
             [
              0.5555555555555556,
              "#d8576b"
             ],
             [
              0.6666666666666666,
              "#ed7953"
             ],
             [
              0.7777777777777778,
              "#fb9f3a"
             ],
             [
              0.8888888888888888,
              "#fdca26"
             ],
             [
              1,
              "#f0f921"
             ]
            ],
            "type": "histogram2d"
           }
          ],
          "histogram2dcontour": [
           {
            "colorbar": {
             "outlinewidth": 0,
             "ticks": ""
            },
            "colorscale": [
             [
              0,
              "#0d0887"
             ],
             [
              0.1111111111111111,
              "#46039f"
             ],
             [
              0.2222222222222222,
              "#7201a8"
             ],
             [
              0.3333333333333333,
              "#9c179e"
             ],
             [
              0.4444444444444444,
              "#bd3786"
             ],
             [
              0.5555555555555556,
              "#d8576b"
             ],
             [
              0.6666666666666666,
              "#ed7953"
             ],
             [
              0.7777777777777778,
              "#fb9f3a"
             ],
             [
              0.8888888888888888,
              "#fdca26"
             ],
             [
              1,
              "#f0f921"
             ]
            ],
            "type": "histogram2dcontour"
           }
          ],
          "mesh3d": [
           {
            "colorbar": {
             "outlinewidth": 0,
             "ticks": ""
            },
            "type": "mesh3d"
           }
          ],
          "parcoords": [
           {
            "line": {
             "colorbar": {
              "outlinewidth": 0,
              "ticks": ""
             }
            },
            "type": "parcoords"
           }
          ],
          "pie": [
           {
            "automargin": true,
            "type": "pie"
           }
          ],
          "scatter": [
           {
            "fillpattern": {
             "fillmode": "overlay",
             "size": 10,
             "solidity": 0.2
            },
            "type": "scatter"
           }
          ],
          "scatter3d": [
           {
            "line": {
             "colorbar": {
              "outlinewidth": 0,
              "ticks": ""
             }
            },
            "marker": {
             "colorbar": {
              "outlinewidth": 0,
              "ticks": ""
             }
            },
            "type": "scatter3d"
           }
          ],
          "scattercarpet": [
           {
            "marker": {
             "colorbar": {
              "outlinewidth": 0,
              "ticks": ""
             }
            },
            "type": "scattercarpet"
           }
          ],
          "scattergeo": [
           {
            "marker": {
             "colorbar": {
              "outlinewidth": 0,
              "ticks": ""
             }
            },
            "type": "scattergeo"
           }
          ],
          "scattergl": [
           {
            "marker": {
             "colorbar": {
              "outlinewidth": 0,
              "ticks": ""
             }
            },
            "type": "scattergl"
           }
          ],
          "scattermapbox": [
           {
            "marker": {
             "colorbar": {
              "outlinewidth": 0,
              "ticks": ""
             }
            },
            "type": "scattermapbox"
           }
          ],
          "scatterpolar": [
           {
            "marker": {
             "colorbar": {
              "outlinewidth": 0,
              "ticks": ""
             }
            },
            "type": "scatterpolar"
           }
          ],
          "scatterpolargl": [
           {
            "marker": {
             "colorbar": {
              "outlinewidth": 0,
              "ticks": ""
             }
            },
            "type": "scatterpolargl"
           }
          ],
          "scatterternary": [
           {
            "marker": {
             "colorbar": {
              "outlinewidth": 0,
              "ticks": ""
             }
            },
            "type": "scatterternary"
           }
          ],
          "surface": [
           {
            "colorbar": {
             "outlinewidth": 0,
             "ticks": ""
            },
            "colorscale": [
             [
              0,
              "#0d0887"
             ],
             [
              0.1111111111111111,
              "#46039f"
             ],
             [
              0.2222222222222222,
              "#7201a8"
             ],
             [
              0.3333333333333333,
              "#9c179e"
             ],
             [
              0.4444444444444444,
              "#bd3786"
             ],
             [
              0.5555555555555556,
              "#d8576b"
             ],
             [
              0.6666666666666666,
              "#ed7953"
             ],
             [
              0.7777777777777778,
              "#fb9f3a"
             ],
             [
              0.8888888888888888,
              "#fdca26"
             ],
             [
              1,
              "#f0f921"
             ]
            ],
            "type": "surface"
           }
          ],
          "table": [
           {
            "cells": {
             "fill": {
              "color": "#EBF0F8"
             },
             "line": {
              "color": "white"
             }
            },
            "header": {
             "fill": {
              "color": "#C8D4E3"
             },
             "line": {
              "color": "white"
             }
            },
            "type": "table"
           }
          ]
         },
         "layout": {
          "annotationdefaults": {
           "arrowcolor": "#2a3f5f",
           "arrowhead": 0,
           "arrowwidth": 1
          },
          "autotypenumbers": "strict",
          "coloraxis": {
           "colorbar": {
            "outlinewidth": 0,
            "ticks": ""
           }
          },
          "colorscale": {
           "diverging": [
            [
             0,
             "#8e0152"
            ],
            [
             0.1,
             "#c51b7d"
            ],
            [
             0.2,
             "#de77ae"
            ],
            [
             0.3,
             "#f1b6da"
            ],
            [
             0.4,
             "#fde0ef"
            ],
            [
             0.5,
             "#f7f7f7"
            ],
            [
             0.6,
             "#e6f5d0"
            ],
            [
             0.7,
             "#b8e186"
            ],
            [
             0.8,
             "#7fbc41"
            ],
            [
             0.9,
             "#4d9221"
            ],
            [
             1,
             "#276419"
            ]
           ],
           "sequential": [
            [
             0,
             "#0d0887"
            ],
            [
             0.1111111111111111,
             "#46039f"
            ],
            [
             0.2222222222222222,
             "#7201a8"
            ],
            [
             0.3333333333333333,
             "#9c179e"
            ],
            [
             0.4444444444444444,
             "#bd3786"
            ],
            [
             0.5555555555555556,
             "#d8576b"
            ],
            [
             0.6666666666666666,
             "#ed7953"
            ],
            [
             0.7777777777777778,
             "#fb9f3a"
            ],
            [
             0.8888888888888888,
             "#fdca26"
            ],
            [
             1,
             "#f0f921"
            ]
           ],
           "sequentialminus": [
            [
             0,
             "#0d0887"
            ],
            [
             0.1111111111111111,
             "#46039f"
            ],
            [
             0.2222222222222222,
             "#7201a8"
            ],
            [
             0.3333333333333333,
             "#9c179e"
            ],
            [
             0.4444444444444444,
             "#bd3786"
            ],
            [
             0.5555555555555556,
             "#d8576b"
            ],
            [
             0.6666666666666666,
             "#ed7953"
            ],
            [
             0.7777777777777778,
             "#fb9f3a"
            ],
            [
             0.8888888888888888,
             "#fdca26"
            ],
            [
             1,
             "#f0f921"
            ]
           ]
          },
          "colorway": [
           "#636efa",
           "#EF553B",
           "#00cc96",
           "#ab63fa",
           "#FFA15A",
           "#19d3f3",
           "#FF6692",
           "#B6E880",
           "#FF97FF",
           "#FECB52"
          ],
          "font": {
           "color": "#2a3f5f"
          },
          "geo": {
           "bgcolor": "white",
           "lakecolor": "white",
           "landcolor": "white",
           "showlakes": true,
           "showland": true,
           "subunitcolor": "#C8D4E3"
          },
          "hoverlabel": {
           "align": "left"
          },
          "hovermode": "closest",
          "mapbox": {
           "style": "light"
          },
          "paper_bgcolor": "white",
          "plot_bgcolor": "white",
          "polar": {
           "angularaxis": {
            "gridcolor": "#EBF0F8",
            "linecolor": "#EBF0F8",
            "ticks": ""
           },
           "bgcolor": "white",
           "radialaxis": {
            "gridcolor": "#EBF0F8",
            "linecolor": "#EBF0F8",
            "ticks": ""
           }
          },
          "scene": {
           "xaxis": {
            "backgroundcolor": "white",
            "gridcolor": "#DFE8F3",
            "gridwidth": 2,
            "linecolor": "#EBF0F8",
            "showbackground": true,
            "ticks": "",
            "zerolinecolor": "#EBF0F8"
           },
           "yaxis": {
            "backgroundcolor": "white",
            "gridcolor": "#DFE8F3",
            "gridwidth": 2,
            "linecolor": "#EBF0F8",
            "showbackground": true,
            "ticks": "",
            "zerolinecolor": "#EBF0F8"
           },
           "zaxis": {
            "backgroundcolor": "white",
            "gridcolor": "#DFE8F3",
            "gridwidth": 2,
            "linecolor": "#EBF0F8",
            "showbackground": true,
            "ticks": "",
            "zerolinecolor": "#EBF0F8"
           }
          },
          "shapedefaults": {
           "line": {
            "color": "#2a3f5f"
           }
          },
          "ternary": {
           "aaxis": {
            "gridcolor": "#DFE8F3",
            "linecolor": "#A2B1C6",
            "ticks": ""
           },
           "baxis": {
            "gridcolor": "#DFE8F3",
            "linecolor": "#A2B1C6",
            "ticks": ""
           },
           "bgcolor": "white",
           "caxis": {
            "gridcolor": "#DFE8F3",
            "linecolor": "#A2B1C6",
            "ticks": ""
           }
          },
          "title": {
           "x": 0.05
          },
          "xaxis": {
           "automargin": true,
           "gridcolor": "#EBF0F8",
           "linecolor": "#EBF0F8",
           "ticks": "",
           "title": {
            "standoff": 15
           },
           "zerolinecolor": "#EBF0F8",
           "zerolinewidth": 2
          },
          "yaxis": {
           "automargin": true,
           "gridcolor": "#EBF0F8",
           "linecolor": "#EBF0F8",
           "ticks": "",
           "title": {
            "standoff": 15
           },
           "zerolinecolor": "#EBF0F8",
           "zerolinewidth": 2
          }
         }
        },
        "title": {
         "font": {
          "color": "Black",
          "size": 22
         },
         "text": "Topic Word Scores",
         "x": 0.5,
         "xanchor": "center",
         "yanchor": "top"
        },
        "width": 1200,
        "xaxis": {
         "anchor": "y",
         "domain": [
          0,
          0.175
         ],
         "showgrid": true
        },
        "xaxis10": {
         "anchor": "y10",
         "domain": [
          0.275,
          0.45
         ],
         "showgrid": true
        },
        "xaxis11": {
         "anchor": "y11",
         "domain": [
          0.55,
          0.7250000000000001
         ],
         "showgrid": true
        },
        "xaxis12": {
         "anchor": "y12",
         "domain": [
          0.825,
          1
         ],
         "showgrid": true
        },
        "xaxis13": {
         "anchor": "y13",
         "domain": [
          0,
          0.175
         ],
         "showgrid": true
        },
        "xaxis14": {
         "anchor": "y14",
         "domain": [
          0.275,
          0.45
         ],
         "showgrid": true
        },
        "xaxis15": {
         "anchor": "y15",
         "domain": [
          0.55,
          0.7250000000000001
         ],
         "showgrid": true
        },
        "xaxis16": {
         "anchor": "y16",
         "domain": [
          0.825,
          1
         ],
         "showgrid": true
        },
        "xaxis17": {
         "anchor": "y17",
         "domain": [
          0,
          0.175
         ],
         "showgrid": true
        },
        "xaxis18": {
         "anchor": "y18",
         "domain": [
          0.275,
          0.45
         ],
         "showgrid": true
        },
        "xaxis19": {
         "anchor": "y19",
         "domain": [
          0.55,
          0.7250000000000001
         ],
         "showgrid": true
        },
        "xaxis2": {
         "anchor": "y2",
         "domain": [
          0.275,
          0.45
         ],
         "showgrid": true
        },
        "xaxis20": {
         "anchor": "y20",
         "domain": [
          0.825,
          1
         ],
         "showgrid": true
        },
        "xaxis21": {
         "anchor": "y21",
         "domain": [
          0,
          0.175
         ],
         "showgrid": true
        },
        "xaxis22": {
         "anchor": "y22",
         "domain": [
          0.275,
          0.45
         ],
         "showgrid": true
        },
        "xaxis23": {
         "anchor": "y23",
         "domain": [
          0.55,
          0.7250000000000001
         ],
         "showgrid": true
        },
        "xaxis24": {
         "anchor": "y24",
         "domain": [
          0.825,
          1
         ],
         "showgrid": true
        },
        "xaxis25": {
         "anchor": "y25",
         "domain": [
          0,
          0.175
         ],
         "showgrid": true
        },
        "xaxis26": {
         "anchor": "y26",
         "domain": [
          0.275,
          0.45
         ],
         "showgrid": true
        },
        "xaxis27": {
         "anchor": "y27",
         "domain": [
          0.55,
          0.7250000000000001
         ],
         "showgrid": true
        },
        "xaxis28": {
         "anchor": "y28",
         "domain": [
          0.825,
          1
         ],
         "showgrid": true
        },
        "xaxis3": {
         "anchor": "y3",
         "domain": [
          0.55,
          0.7250000000000001
         ],
         "showgrid": true
        },
        "xaxis4": {
         "anchor": "y4",
         "domain": [
          0.825,
          1
         ],
         "showgrid": true
        },
        "xaxis5": {
         "anchor": "y5",
         "domain": [
          0,
          0.175
         ],
         "showgrid": true
        },
        "xaxis6": {
         "anchor": "y6",
         "domain": [
          0.275,
          0.45
         ],
         "showgrid": true
        },
        "xaxis7": {
         "anchor": "y7",
         "domain": [
          0.55,
          0.7250000000000001
         ],
         "showgrid": true
        },
        "xaxis8": {
         "anchor": "y8",
         "domain": [
          0.825,
          1
         ],
         "showgrid": true
        },
        "xaxis9": {
         "anchor": "y9",
         "domain": [
          0,
          0.175
         ],
         "showgrid": true
        },
        "yaxis": {
         "anchor": "x",
         "domain": [
          0.9061224489795918,
          1
         ],
         "showgrid": true
        },
        "yaxis10": {
         "anchor": "x10",
         "domain": [
          0.6040816326530613,
          0.6979591836734694
         ],
         "showgrid": true
        },
        "yaxis11": {
         "anchor": "x11",
         "domain": [
          0.6040816326530613,
          0.6979591836734694
         ],
         "showgrid": true
        },
        "yaxis12": {
         "anchor": "x12",
         "domain": [
          0.6040816326530613,
          0.6979591836734694
         ],
         "showgrid": true
        },
        "yaxis13": {
         "anchor": "x13",
         "domain": [
          0.4530612244897959,
          0.5469387755102041
         ],
         "showgrid": true
        },
        "yaxis14": {
         "anchor": "x14",
         "domain": [
          0.4530612244897959,
          0.5469387755102041
         ],
         "showgrid": true
        },
        "yaxis15": {
         "anchor": "x15",
         "domain": [
          0.4530612244897959,
          0.5469387755102041
         ],
         "showgrid": true
        },
        "yaxis16": {
         "anchor": "x16",
         "domain": [
          0.4530612244897959,
          0.5469387755102041
         ],
         "showgrid": true
        },
        "yaxis17": {
         "anchor": "x17",
         "domain": [
          0.3020408163265306,
          0.3959183673469388
         ],
         "showgrid": true
        },
        "yaxis18": {
         "anchor": "x18",
         "domain": [
          0.3020408163265306,
          0.3959183673469388
         ],
         "showgrid": true
        },
        "yaxis19": {
         "anchor": "x19",
         "domain": [
          0.3020408163265306,
          0.3959183673469388
         ],
         "showgrid": true
        },
        "yaxis2": {
         "anchor": "x2",
         "domain": [
          0.9061224489795918,
          1
         ],
         "showgrid": true
        },
        "yaxis20": {
         "anchor": "x20",
         "domain": [
          0.3020408163265306,
          0.3959183673469388
         ],
         "showgrid": true
        },
        "yaxis21": {
         "anchor": "x21",
         "domain": [
          0.1510204081632653,
          0.24489795918367346
         ],
         "showgrid": true
        },
        "yaxis22": {
         "anchor": "x22",
         "domain": [
          0.1510204081632653,
          0.24489795918367346
         ],
         "showgrid": true
        },
        "yaxis23": {
         "anchor": "x23",
         "domain": [
          0.1510204081632653,
          0.24489795918367346
         ],
         "showgrid": true
        },
        "yaxis24": {
         "anchor": "x24",
         "domain": [
          0.1510204081632653,
          0.24489795918367346
         ],
         "showgrid": true
        },
        "yaxis25": {
         "anchor": "x25",
         "domain": [
          0,
          0.09387755102040816
         ],
         "showgrid": true
        },
        "yaxis26": {
         "anchor": "x26",
         "domain": [
          0,
          0.09387755102040816
         ],
         "showgrid": true
        },
        "yaxis27": {
         "anchor": "x27",
         "domain": [
          0,
          0.09387755102040816
         ],
         "showgrid": true
        },
        "yaxis28": {
         "anchor": "x28",
         "domain": [
          0,
          0.09387755102040816
         ],
         "showgrid": true
        },
        "yaxis3": {
         "anchor": "x3",
         "domain": [
          0.9061224489795918,
          1
         ],
         "showgrid": true
        },
        "yaxis4": {
         "anchor": "x4",
         "domain": [
          0.9061224489795918,
          1
         ],
         "showgrid": true
        },
        "yaxis5": {
         "anchor": "x5",
         "domain": [
          0.7551020408163266,
          0.8489795918367348
         ],
         "showgrid": true
        },
        "yaxis6": {
         "anchor": "x6",
         "domain": [
          0.7551020408163266,
          0.8489795918367348
         ],
         "showgrid": true
        },
        "yaxis7": {
         "anchor": "x7",
         "domain": [
          0.7551020408163266,
          0.8489795918367348
         ],
         "showgrid": true
        },
        "yaxis8": {
         "anchor": "x8",
         "domain": [
          0.7551020408163266,
          0.8489795918367348
         ],
         "showgrid": true
        },
        "yaxis9": {
         "anchor": "x9",
         "domain": [
          0.6040816326530613,
          0.6979591836734694
         ],
         "showgrid": true
        }
       }
      }
     },
     "metadata": {},
     "output_type": "display_data"
    }
   ],
   "source": [
    "topics_to_include = list(range(0, 25))\n",
    "model.visualize_barchart(topics= topics_to_include, width=300)"
   ]
  },
  {
   "cell_type": "code",
   "execution_count": 12,
   "metadata": {},
   "outputs": [
    {
     "data": {
      "application/vnd.plotly.v1+json": {
       "config": {
        "plotlyServerURL": "https://plot.ly"
       },
       "data": [
        {
         "hoverinfo": "text",
         "marker": {
          "color": "rgb(61,153,112)"
         },
         "mode": "lines",
         "type": "scatter",
         "x": [
          0,
          0.5759217490203685,
          0.5759217490203685,
          0
         ],
         "xaxis": "x",
         "y": [
          -5,
          -5,
          -15,
          -15
         ],
         "yaxis": "y"
        },
        {
         "hoverinfo": "text",
         "marker": {
          "color": "rgb(61,153,112)"
         },
         "mode": "lines",
         "type": "scatter",
         "x": [
          0,
          0.42283363906752425,
          0.42283363906752425,
          0
         ],
         "xaxis": "x",
         "y": [
          -25,
          -25,
          -35,
          -35
         ],
         "yaxis": "y"
        },
        {
         "hoverinfo": "text",
         "marker": {
          "color": "rgb(61,153,112)"
         },
         "mode": "lines",
         "type": "scatter",
         "x": [
          0.42283363906752425,
          0.4611014659614828,
          0.4611014659614828,
          0
         ],
         "xaxis": "x",
         "y": [
          -30,
          -30,
          -45,
          -45
         ],
         "yaxis": "y"
        },
        {
         "hoverinfo": "text",
         "marker": {
          "color": "rgb(61,153,112)"
         },
         "mode": "lines",
         "type": "scatter",
         "x": [
          0,
          0.3666153836006997,
          0.3666153836006997,
          0
         ],
         "xaxis": "x",
         "y": [
          -55,
          -55,
          -65,
          -65
         ],
         "yaxis": "y"
        },
        {
         "hoverinfo": "text",
         "marker": {
          "color": "rgb(61,153,112)"
         },
         "mode": "lines",
         "type": "scatter",
         "x": [
          0,
          0.28416943214515733,
          0.28416943214515733,
          0
         ],
         "xaxis": "x",
         "y": [
          -85,
          -85,
          -95,
          -95
         ],
         "yaxis": "y"
        },
        {
         "hoverinfo": "text",
         "marker": {
          "color": "rgb(61,153,112)"
         },
         "mode": "lines",
         "type": "scatter",
         "x": [
          0,
          0.3312277166228362,
          0.3312277166228362,
          0.28416943214515733
         ],
         "xaxis": "x",
         "y": [
          -75,
          -75,
          -90,
          -90
         ],
         "yaxis": "y"
        },
        {
         "hoverinfo": "text",
         "marker": {
          "color": "rgb(61,153,112)"
         },
         "mode": "lines",
         "type": "scatter",
         "x": [
          0.3666153836006997,
          0.38221218524337996,
          0.38221218524337996,
          0.3312277166228362
         ],
         "xaxis": "x",
         "y": [
          -60,
          -60,
          -82.5,
          -82.5
         ],
         "yaxis": "y"
        },
        {
         "hoverinfo": "text",
         "marker": {
          "color": "rgb(61,153,112)"
         },
         "mode": "lines",
         "type": "scatter",
         "x": [
          0,
          0.351959963730025,
          0.351959963730025,
          0
         ],
         "xaxis": "x",
         "y": [
          -105,
          -105,
          -115,
          -115
         ],
         "yaxis": "y"
        },
        {
         "hoverinfo": "text",
         "marker": {
          "color": "rgb(61,153,112)"
         },
         "mode": "lines",
         "type": "scatter",
         "x": [
          0.351959963730025,
          0.3797444244030927,
          0.3797444244030927,
          0
         ],
         "xaxis": "x",
         "y": [
          -110,
          -110,
          -125,
          -125
         ],
         "yaxis": "y"
        },
        {
         "hoverinfo": "text",
         "marker": {
          "color": "rgb(61,153,112)"
         },
         "mode": "lines",
         "type": "scatter",
         "x": [
          0.38221218524337996,
          0.44197848044524907,
          0.44197848044524907,
          0.3797444244030927
         ],
         "xaxis": "x",
         "y": [
          -71.25,
          -71.25,
          -117.5,
          -117.5
         ],
         "yaxis": "y"
        },
        {
         "hoverinfo": "text",
         "marker": {
          "color": "rgb(61,153,112)"
         },
         "mode": "lines",
         "type": "scatter",
         "x": [
          0.4611014659614828,
          0.5043947174674119,
          0.5043947174674119,
          0.44197848044524907
         ],
         "xaxis": "x",
         "y": [
          -37.5,
          -37.5,
          -94.375,
          -94.375
         ],
         "yaxis": "y"
        },
        {
         "hoverinfo": "text",
         "marker": {
          "color": "rgb(61,153,112)"
         },
         "mode": "lines",
         "type": "scatter",
         "x": [
          0.5043947174674119,
          0.5095944623657391,
          0.5095944623657391,
          0
         ],
         "xaxis": "x",
         "y": [
          -65.9375,
          -65.9375,
          -135,
          -135
         ],
         "yaxis": "y"
        },
        {
         "hoverinfo": "text",
         "marker": {
          "color": "rgb(61,153,112)"
         },
         "mode": "lines",
         "type": "scatter",
         "x": [
          0.5759217490203685,
          0.598830691875388,
          0.598830691875388,
          0.5095944623657391
         ],
         "xaxis": "x",
         "y": [
          -10,
          -10,
          -100.46875,
          -100.46875
         ],
         "yaxis": "y"
        },
        {
         "hoverinfo": "text",
         "marker": {
          "color": "rgb(61,153,112)"
         },
         "mode": "lines",
         "type": "scatter",
         "x": [
          0,
          0.5637808344194861,
          0.5637808344194861,
          0
         ],
         "xaxis": "x",
         "y": [
          -145,
          -145,
          -155,
          -155
         ],
         "yaxis": "y"
        },
        {
         "hoverinfo": "text",
         "marker": {
          "color": "rgb(61,153,112)"
         },
         "mode": "lines",
         "type": "scatter",
         "x": [
          0,
          0.3079315287389994,
          0.3079315287389994,
          0
         ],
         "xaxis": "x",
         "y": [
          -165,
          -165,
          -175,
          -175
         ],
         "yaxis": "y"
        },
        {
         "hoverinfo": "text",
         "marker": {
          "color": "rgb(61,153,112)"
         },
         "mode": "lines",
         "type": "scatter",
         "x": [
          0.3079315287389994,
          0.5623520677173933,
          0.5623520677173933,
          0
         ],
         "xaxis": "x",
         "y": [
          -170,
          -170,
          -185,
          -185
         ],
         "yaxis": "y"
        },
        {
         "hoverinfo": "text",
         "marker": {
          "color": "rgb(61,153,112)"
         },
         "mode": "lines",
         "type": "scatter",
         "x": [
          0.5637808344194861,
          0.6809837471804954,
          0.6809837471804954,
          0.5623520677173933
         ],
         "xaxis": "x",
         "y": [
          -150,
          -150,
          -177.5,
          -177.5
         ],
         "yaxis": "y"
        },
        {
         "hoverinfo": "text",
         "marker": {
          "color": "rgb(61,153,112)"
         },
         "mode": "lines",
         "type": "scatter",
         "x": [
          0,
          0.428622182054351,
          0.428622182054351,
          0
         ],
         "xaxis": "x",
         "y": [
          -215,
          -215,
          -225,
          -225
         ],
         "yaxis": "y"
        },
        {
         "hoverinfo": "text",
         "marker": {
          "color": "rgb(61,153,112)"
         },
         "mode": "lines",
         "type": "scatter",
         "x": [
          0.428622182054351,
          0.49900401244177445,
          0.49900401244177445,
          0
         ],
         "xaxis": "x",
         "y": [
          -220,
          -220,
          -235,
          -235
         ],
         "yaxis": "y"
        },
        {
         "hoverinfo": "text",
         "marker": {
          "color": "rgb(61,153,112)"
         },
         "mode": "lines",
         "type": "scatter",
         "x": [
          0,
          0.5117798313625976,
          0.5117798313625976,
          0.49900401244177445
         ],
         "xaxis": "x",
         "y": [
          -205,
          -205,
          -227.5,
          -227.5
         ],
         "yaxis": "y"
        },
        {
         "hoverinfo": "text",
         "marker": {
          "color": "rgb(61,153,112)"
         },
         "mode": "lines",
         "type": "scatter",
         "x": [
          0,
          0.5803428856536329,
          0.5803428856536329,
          0.5117798313625976
         ],
         "xaxis": "x",
         "y": [
          -195,
          -195,
          -216.25,
          -216.25
         ],
         "yaxis": "y"
        },
        {
         "hoverinfo": "text",
         "marker": {
          "color": "rgb(61,153,112)"
         },
         "mode": "lines",
         "type": "scatter",
         "x": [
          0.5803428856536329,
          0.6369267865528061,
          0.6369267865528061,
          0
         ],
         "xaxis": "x",
         "y": [
          -205.625,
          -205.625,
          -245,
          -245
         ],
         "yaxis": "y"
        },
        {
         "hoverinfo": "text",
         "marker": {
          "color": "rgb(61,153,112)"
         },
         "mode": "lines",
         "type": "scatter",
         "x": [
          0.6809837471804954,
          0.7212436226657495,
          0.7212436226657495,
          0.6369267865528061
         ],
         "xaxis": "x",
         "y": [
          -163.75,
          -163.75,
          -225.3125,
          -225.3125
         ],
         "yaxis": "y"
        },
        {
         "hoverinfo": "text",
         "marker": {
          "color": "rgb(61,153,112)"
         },
         "mode": "lines",
         "type": "scatter",
         "x": [
          0.598830691875388,
          0.8025941152702907,
          0.8025941152702907,
          0.7212436226657495
         ],
         "xaxis": "x",
         "y": [
          -55.234375,
          -55.234375,
          -194.53125,
          -194.53125
         ],
         "yaxis": "y"
        }
       ],
       "layout": {
        "autosize": false,
        "height": 575,
        "hoverlabel": {
         "bgcolor": "white",
         "font": {
          "family": "Rockwell",
          "size": 16
         }
        },
        "hovermode": "closest",
        "plot_bgcolor": "#ECEFF1",
        "showlegend": false,
        "template": {
         "data": {
          "bar": [
           {
            "error_x": {
             "color": "#2a3f5f"
            },
            "error_y": {
             "color": "#2a3f5f"
            },
            "marker": {
             "line": {
              "color": "white",
              "width": 0.5
             },
             "pattern": {
              "fillmode": "overlay",
              "size": 10,
              "solidity": 0.2
             }
            },
            "type": "bar"
           }
          ],
          "barpolar": [
           {
            "marker": {
             "line": {
              "color": "white",
              "width": 0.5
             },
             "pattern": {
              "fillmode": "overlay",
              "size": 10,
              "solidity": 0.2
             }
            },
            "type": "barpolar"
           }
          ],
          "carpet": [
           {
            "aaxis": {
             "endlinecolor": "#2a3f5f",
             "gridcolor": "#C8D4E3",
             "linecolor": "#C8D4E3",
             "minorgridcolor": "#C8D4E3",
             "startlinecolor": "#2a3f5f"
            },
            "baxis": {
             "endlinecolor": "#2a3f5f",
             "gridcolor": "#C8D4E3",
             "linecolor": "#C8D4E3",
             "minorgridcolor": "#C8D4E3",
             "startlinecolor": "#2a3f5f"
            },
            "type": "carpet"
           }
          ],
          "choropleth": [
           {
            "colorbar": {
             "outlinewidth": 0,
             "ticks": ""
            },
            "type": "choropleth"
           }
          ],
          "contour": [
           {
            "colorbar": {
             "outlinewidth": 0,
             "ticks": ""
            },
            "colorscale": [
             [
              0,
              "#0d0887"
             ],
             [
              0.1111111111111111,
              "#46039f"
             ],
             [
              0.2222222222222222,
              "#7201a8"
             ],
             [
              0.3333333333333333,
              "#9c179e"
             ],
             [
              0.4444444444444444,
              "#bd3786"
             ],
             [
              0.5555555555555556,
              "#d8576b"
             ],
             [
              0.6666666666666666,
              "#ed7953"
             ],
             [
              0.7777777777777778,
              "#fb9f3a"
             ],
             [
              0.8888888888888888,
              "#fdca26"
             ],
             [
              1,
              "#f0f921"
             ]
            ],
            "type": "contour"
           }
          ],
          "contourcarpet": [
           {
            "colorbar": {
             "outlinewidth": 0,
             "ticks": ""
            },
            "type": "contourcarpet"
           }
          ],
          "heatmap": [
           {
            "colorbar": {
             "outlinewidth": 0,
             "ticks": ""
            },
            "colorscale": [
             [
              0,
              "#0d0887"
             ],
             [
              0.1111111111111111,
              "#46039f"
             ],
             [
              0.2222222222222222,
              "#7201a8"
             ],
             [
              0.3333333333333333,
              "#9c179e"
             ],
             [
              0.4444444444444444,
              "#bd3786"
             ],
             [
              0.5555555555555556,
              "#d8576b"
             ],
             [
              0.6666666666666666,
              "#ed7953"
             ],
             [
              0.7777777777777778,
              "#fb9f3a"
             ],
             [
              0.8888888888888888,
              "#fdca26"
             ],
             [
              1,
              "#f0f921"
             ]
            ],
            "type": "heatmap"
           }
          ],
          "heatmapgl": [
           {
            "colorbar": {
             "outlinewidth": 0,
             "ticks": ""
            },
            "colorscale": [
             [
              0,
              "#0d0887"
             ],
             [
              0.1111111111111111,
              "#46039f"
             ],
             [
              0.2222222222222222,
              "#7201a8"
             ],
             [
              0.3333333333333333,
              "#9c179e"
             ],
             [
              0.4444444444444444,
              "#bd3786"
             ],
             [
              0.5555555555555556,
              "#d8576b"
             ],
             [
              0.6666666666666666,
              "#ed7953"
             ],
             [
              0.7777777777777778,
              "#fb9f3a"
             ],
             [
              0.8888888888888888,
              "#fdca26"
             ],
             [
              1,
              "#f0f921"
             ]
            ],
            "type": "heatmapgl"
           }
          ],
          "histogram": [
           {
            "marker": {
             "pattern": {
              "fillmode": "overlay",
              "size": 10,
              "solidity": 0.2
             }
            },
            "type": "histogram"
           }
          ],
          "histogram2d": [
           {
            "colorbar": {
             "outlinewidth": 0,
             "ticks": ""
            },
            "colorscale": [
             [
              0,
              "#0d0887"
             ],
             [
              0.1111111111111111,
              "#46039f"
             ],
             [
              0.2222222222222222,
              "#7201a8"
             ],
             [
              0.3333333333333333,
              "#9c179e"
             ],
             [
              0.4444444444444444,
              "#bd3786"
             ],
             [
              0.5555555555555556,
              "#d8576b"
             ],
             [
              0.6666666666666666,
              "#ed7953"
             ],
             [
              0.7777777777777778,
              "#fb9f3a"
             ],
             [
              0.8888888888888888,
              "#fdca26"
             ],
             [
              1,
              "#f0f921"
             ]
            ],
            "type": "histogram2d"
           }
          ],
          "histogram2dcontour": [
           {
            "colorbar": {
             "outlinewidth": 0,
             "ticks": ""
            },
            "colorscale": [
             [
              0,
              "#0d0887"
             ],
             [
              0.1111111111111111,
              "#46039f"
             ],
             [
              0.2222222222222222,
              "#7201a8"
             ],
             [
              0.3333333333333333,
              "#9c179e"
             ],
             [
              0.4444444444444444,
              "#bd3786"
             ],
             [
              0.5555555555555556,
              "#d8576b"
             ],
             [
              0.6666666666666666,
              "#ed7953"
             ],
             [
              0.7777777777777778,
              "#fb9f3a"
             ],
             [
              0.8888888888888888,
              "#fdca26"
             ],
             [
              1,
              "#f0f921"
             ]
            ],
            "type": "histogram2dcontour"
           }
          ],
          "mesh3d": [
           {
            "colorbar": {
             "outlinewidth": 0,
             "ticks": ""
            },
            "type": "mesh3d"
           }
          ],
          "parcoords": [
           {
            "line": {
             "colorbar": {
              "outlinewidth": 0,
              "ticks": ""
             }
            },
            "type": "parcoords"
           }
          ],
          "pie": [
           {
            "automargin": true,
            "type": "pie"
           }
          ],
          "scatter": [
           {
            "fillpattern": {
             "fillmode": "overlay",
             "size": 10,
             "solidity": 0.2
            },
            "type": "scatter"
           }
          ],
          "scatter3d": [
           {
            "line": {
             "colorbar": {
              "outlinewidth": 0,
              "ticks": ""
             }
            },
            "marker": {
             "colorbar": {
              "outlinewidth": 0,
              "ticks": ""
             }
            },
            "type": "scatter3d"
           }
          ],
          "scattercarpet": [
           {
            "marker": {
             "colorbar": {
              "outlinewidth": 0,
              "ticks": ""
             }
            },
            "type": "scattercarpet"
           }
          ],
          "scattergeo": [
           {
            "marker": {
             "colorbar": {
              "outlinewidth": 0,
              "ticks": ""
             }
            },
            "type": "scattergeo"
           }
          ],
          "scattergl": [
           {
            "marker": {
             "colorbar": {
              "outlinewidth": 0,
              "ticks": ""
             }
            },
            "type": "scattergl"
           }
          ],
          "scattermapbox": [
           {
            "marker": {
             "colorbar": {
              "outlinewidth": 0,
              "ticks": ""
             }
            },
            "type": "scattermapbox"
           }
          ],
          "scatterpolar": [
           {
            "marker": {
             "colorbar": {
              "outlinewidth": 0,
              "ticks": ""
             }
            },
            "type": "scatterpolar"
           }
          ],
          "scatterpolargl": [
           {
            "marker": {
             "colorbar": {
              "outlinewidth": 0,
              "ticks": ""
             }
            },
            "type": "scatterpolargl"
           }
          ],
          "scatterternary": [
           {
            "marker": {
             "colorbar": {
              "outlinewidth": 0,
              "ticks": ""
             }
            },
            "type": "scatterternary"
           }
          ],
          "surface": [
           {
            "colorbar": {
             "outlinewidth": 0,
             "ticks": ""
            },
            "colorscale": [
             [
              0,
              "#0d0887"
             ],
             [
              0.1111111111111111,
              "#46039f"
             ],
             [
              0.2222222222222222,
              "#7201a8"
             ],
             [
              0.3333333333333333,
              "#9c179e"
             ],
             [
              0.4444444444444444,
              "#bd3786"
             ],
             [
              0.5555555555555556,
              "#d8576b"
             ],
             [
              0.6666666666666666,
              "#ed7953"
             ],
             [
              0.7777777777777778,
              "#fb9f3a"
             ],
             [
              0.8888888888888888,
              "#fdca26"
             ],
             [
              1,
              "#f0f921"
             ]
            ],
            "type": "surface"
           }
          ],
          "table": [
           {
            "cells": {
             "fill": {
              "color": "#EBF0F8"
             },
             "line": {
              "color": "white"
             }
            },
            "header": {
             "fill": {
              "color": "#C8D4E3"
             },
             "line": {
              "color": "white"
             }
            },
            "type": "table"
           }
          ]
         },
         "layout": {
          "annotationdefaults": {
           "arrowcolor": "#2a3f5f",
           "arrowhead": 0,
           "arrowwidth": 1
          },
          "autotypenumbers": "strict",
          "coloraxis": {
           "colorbar": {
            "outlinewidth": 0,
            "ticks": ""
           }
          },
          "colorscale": {
           "diverging": [
            [
             0,
             "#8e0152"
            ],
            [
             0.1,
             "#c51b7d"
            ],
            [
             0.2,
             "#de77ae"
            ],
            [
             0.3,
             "#f1b6da"
            ],
            [
             0.4,
             "#fde0ef"
            ],
            [
             0.5,
             "#f7f7f7"
            ],
            [
             0.6,
             "#e6f5d0"
            ],
            [
             0.7,
             "#b8e186"
            ],
            [
             0.8,
             "#7fbc41"
            ],
            [
             0.9,
             "#4d9221"
            ],
            [
             1,
             "#276419"
            ]
           ],
           "sequential": [
            [
             0,
             "#0d0887"
            ],
            [
             0.1111111111111111,
             "#46039f"
            ],
            [
             0.2222222222222222,
             "#7201a8"
            ],
            [
             0.3333333333333333,
             "#9c179e"
            ],
            [
             0.4444444444444444,
             "#bd3786"
            ],
            [
             0.5555555555555556,
             "#d8576b"
            ],
            [
             0.6666666666666666,
             "#ed7953"
            ],
            [
             0.7777777777777778,
             "#fb9f3a"
            ],
            [
             0.8888888888888888,
             "#fdca26"
            ],
            [
             1,
             "#f0f921"
            ]
           ],
           "sequentialminus": [
            [
             0,
             "#0d0887"
            ],
            [
             0.1111111111111111,
             "#46039f"
            ],
            [
             0.2222222222222222,
             "#7201a8"
            ],
            [
             0.3333333333333333,
             "#9c179e"
            ],
            [
             0.4444444444444444,
             "#bd3786"
            ],
            [
             0.5555555555555556,
             "#d8576b"
            ],
            [
             0.6666666666666666,
             "#ed7953"
            ],
            [
             0.7777777777777778,
             "#fb9f3a"
            ],
            [
             0.8888888888888888,
             "#fdca26"
            ],
            [
             1,
             "#f0f921"
            ]
           ]
          },
          "colorway": [
           "#636efa",
           "#EF553B",
           "#00cc96",
           "#ab63fa",
           "#FFA15A",
           "#19d3f3",
           "#FF6692",
           "#B6E880",
           "#FF97FF",
           "#FECB52"
          ],
          "font": {
           "color": "#2a3f5f"
          },
          "geo": {
           "bgcolor": "white",
           "lakecolor": "white",
           "landcolor": "white",
           "showlakes": true,
           "showland": true,
           "subunitcolor": "#C8D4E3"
          },
          "hoverlabel": {
           "align": "left"
          },
          "hovermode": "closest",
          "mapbox": {
           "style": "light"
          },
          "paper_bgcolor": "white",
          "plot_bgcolor": "white",
          "polar": {
           "angularaxis": {
            "gridcolor": "#EBF0F8",
            "linecolor": "#EBF0F8",
            "ticks": ""
           },
           "bgcolor": "white",
           "radialaxis": {
            "gridcolor": "#EBF0F8",
            "linecolor": "#EBF0F8",
            "ticks": ""
           }
          },
          "scene": {
           "xaxis": {
            "backgroundcolor": "white",
            "gridcolor": "#DFE8F3",
            "gridwidth": 2,
            "linecolor": "#EBF0F8",
            "showbackground": true,
            "ticks": "",
            "zerolinecolor": "#EBF0F8"
           },
           "yaxis": {
            "backgroundcolor": "white",
            "gridcolor": "#DFE8F3",
            "gridwidth": 2,
            "linecolor": "#EBF0F8",
            "showbackground": true,
            "ticks": "",
            "zerolinecolor": "#EBF0F8"
           },
           "zaxis": {
            "backgroundcolor": "white",
            "gridcolor": "#DFE8F3",
            "gridwidth": 2,
            "linecolor": "#EBF0F8",
            "showbackground": true,
            "ticks": "",
            "zerolinecolor": "#EBF0F8"
           }
          },
          "shapedefaults": {
           "line": {
            "color": "#2a3f5f"
           }
          },
          "ternary": {
           "aaxis": {
            "gridcolor": "#DFE8F3",
            "linecolor": "#A2B1C6",
            "ticks": ""
           },
           "baxis": {
            "gridcolor": "#DFE8F3",
            "linecolor": "#A2B1C6",
            "ticks": ""
           },
           "bgcolor": "white",
           "caxis": {
            "gridcolor": "#DFE8F3",
            "linecolor": "#A2B1C6",
            "ticks": ""
           }
          },
          "title": {
           "x": 0.05
          },
          "xaxis": {
           "automargin": true,
           "gridcolor": "#EBF0F8",
           "linecolor": "#EBF0F8",
           "ticks": "",
           "title": {
            "standoff": 15
           },
           "zerolinecolor": "#EBF0F8",
           "zerolinewidth": 2
          },
          "yaxis": {
           "automargin": true,
           "gridcolor": "#EBF0F8",
           "linecolor": "#EBF0F8",
           "ticks": "",
           "title": {
            "standoff": 15
           },
           "zerolinecolor": "#EBF0F8",
           "zerolinewidth": 2
          }
         }
        },
        "title": {
         "font": {
          "color": "Black",
          "size": 22
         },
         "text": "<b>Hierarchical Clustering</b>",
         "x": 0.5,
         "xanchor": "center",
         "yanchor": "top"
        },
        "width": 1000,
        "xaxis": {
         "mirror": "allticks",
         "rangemode": "tozero",
         "showgrid": false,
         "showline": true,
         "showticklabels": true,
         "ticks": "outside",
         "type": "linear",
         "zeroline": false
        },
        "yaxis": {
         "mirror": "allticks",
         "range": [
          -250,
          0
         ],
         "rangemode": "tozero",
         "showgrid": false,
         "showline": true,
         "showticklabels": true,
         "tickmode": "array",
         "ticks": "outside",
         "ticktext": [
          "23_robot_rall_the",
          "21_call_quot_studies",
          "13_digital_storytelling_the",
          "7_game_games_gaming",
          "10_vr_virtual_the",
          "14_and_in_language",
          "3_mobile_learning_mall",
          "0_technology_teachers_of",
          "11_online_and_the",
          "8_blended_online_the",
          "4_intercultural_telecollabo...",
          "2_task_the_in",
          "15_multimodal_of_the",
          "20_and_of_identity",
          "24_anxiety_fla_the",
          "18_flipped_the_classroom",
          "9_writing_collaborative_wiki",
          "1_writing_feedback_the",
          "22_mt_translation_students",
          "19_reading_students_compreh...",
          "17_vocabulary_of_the",
          "5_corpus_the_of",
          "6_pronunciation_the_asr",
          "12_listening_test_the",
          "16_captions_comprehension_c..."
         ],
         "tickvals": [
          -5,
          -15,
          -25,
          -35,
          -45,
          -55,
          -65,
          -75,
          -85,
          -95,
          -105,
          -115,
          -125,
          -135,
          -145,
          -155,
          -165,
          -175,
          -185,
          -195,
          -205,
          -215,
          -225,
          -235,
          -245
         ],
         "type": "linear",
         "zeroline": false
        }
       }
      }
     },
     "metadata": {},
     "output_type": "display_data"
    }
   ],
   "source": [
    "model.visualize_hierarchy()"
   ]
  },
  {
   "cell_type": "code",
   "execution_count": 14,
   "metadata": {},
   "outputs": [
    {
     "name": "stderr",
     "output_type": "stream",
     "text": [
      "100%|██████████| 24/24 [00:00<00:00, 303.80it/s]\n"
     ]
    },
    {
     "data": {
      "application/vnd.plotly.v1+json": {
       "config": {
        "plotlyServerURL": "https://plot.ly"
       },
       "data": [
        {
         "hoverinfo": "text",
         "marker": {
          "color": "rgb(61,153,112)"
         },
         "mode": "lines",
         "text": [
          "robot_rall_the_and_chatbots",
          "",
          "",
          "call_quot_studies_the_research"
         ],
         "type": "scatter",
         "x": [
          0,
          0.5759217490203685,
          0.5759217490203685,
          0
         ],
         "xaxis": "x",
         "y": [
          -5,
          -5,
          -15,
          -15
         ],
         "yaxis": "y"
        },
        {
         "hoverinfo": "text",
         "marker": {
          "color": "rgb(61,153,112)"
         },
         "mode": "lines",
         "text": [
          "digital_storytelling_the_and_in",
          "",
          "",
          "game_games_gaming_and_learning"
         ],
         "type": "scatter",
         "x": [
          0,
          0.42283363906752425,
          0.42283363906752425,
          0
         ],
         "xaxis": "x",
         "y": [
          -25,
          -25,
          -35,
          -35
         ],
         "yaxis": "y"
        },
        {
         "hoverinfo": "text",
         "marker": {
          "color": "rgb(61,153,112)"
         },
         "mode": "lines",
         "text": [
          "game_and_digital_the_of",
          "",
          "",
          "vr_virtual_the_and_of"
         ],
         "type": "scatter",
         "x": [
          0.42283363906752425,
          0.4611014659614828,
          0.4611014659614828,
          0
         ],
         "xaxis": "x",
         "y": [
          -30,
          -30,
          -45,
          -45
         ],
         "yaxis": "y"
        },
        {
         "hoverinfo": "text",
         "marker": {
          "color": "rgb(61,153,112)"
         },
         "mode": "lines",
         "text": [
          "and_in_language_social_of",
          "",
          "",
          "mobile_learning_mall_the_of"
         ],
         "type": "scatter",
         "x": [
          0,
          0.3666153836006997,
          0.3666153836006997,
          0
         ],
         "xaxis": "x",
         "y": [
          -55,
          -55,
          -65,
          -65
         ],
         "yaxis": "y"
        },
        {
         "hoverinfo": "text",
         "marker": {
          "color": "rgb(61,153,112)"
         },
         "mode": "lines",
         "text": [
          "online_and_the_for_to",
          "",
          "",
          "blended_online_the_learning_of"
         ],
         "type": "scatter",
         "x": [
          0,
          0.28416943214515733,
          0.28416943214515733,
          0
         ],
         "xaxis": "x",
         "y": [
          -85,
          -85,
          -95,
          -95
         ],
         "yaxis": "y"
        },
        {
         "hoverinfo": "text",
         "marker": {
          "color": "rgb(61,153,112)"
         },
         "mode": "lines",
         "text": [
          "technology_teachers_of_the_and",
          "",
          "",
          "online_the_and_of_to"
         ],
         "type": "scatter",
         "x": [
          0,
          0.3312277166228362,
          0.3312277166228362,
          0.28416943214515733
         ],
         "xaxis": "x",
         "y": [
          -75,
          -75,
          -90,
          -90
         ],
         "yaxis": "y"
        },
        {
         "hoverinfo": "text",
         "marker": {
          "color": "rgb(61,153,112)"
         },
         "mode": "lines",
         "text": [
          "mobile_learning_the_of_and",
          "",
          "",
          "of_the_and_teachers_to"
         ],
         "type": "scatter",
         "x": [
          0.3666153836006997,
          0.38221218524337996,
          0.38221218524337996,
          0.3312277166228362
         ],
         "xaxis": "x",
         "y": [
          -60,
          -60,
          -82.5,
          -82.5
         ],
         "yaxis": "y"
        },
        {
         "hoverinfo": "text",
         "marker": {
          "color": "rgb(61,153,112)"
         },
         "mode": "lines",
         "text": [
          "intercultural_telecollaboration_and_the_of",
          "",
          "",
          "task_the_in_and_of"
         ],
         "type": "scatter",
         "x": [
          0,
          0.351959963730025,
          0.351959963730025,
          0
         ],
         "xaxis": "x",
         "y": [
          -105,
          -105,
          -115,
          -115
         ],
         "yaxis": "y"
        },
        {
         "hoverinfo": "text",
         "marker": {
          "color": "rgb(61,153,112)"
         },
         "mode": "lines",
         "text": [
          "the_and_of_in_to",
          "",
          "",
          "multimodal_of_the_and_in"
         ],
         "type": "scatter",
         "x": [
          0.351959963730025,
          0.3797444244030927,
          0.3797444244030927,
          0
         ],
         "xaxis": "x",
         "y": [
          -110,
          -110,
          -125,
          -125
         ],
         "yaxis": "y"
        },
        {
         "hoverinfo": "text",
         "marker": {
          "color": "rgb(61,153,112)"
         },
         "mode": "lines",
         "text": [
          "the_of_and_learning_to",
          "",
          "",
          "the_and_of_in_to"
         ],
         "type": "scatter",
         "x": [
          0.38221218524337996,
          0.44197848044524907,
          0.44197848044524907,
          0.3797444244030927
         ],
         "xaxis": "x",
         "y": [
          -71.25,
          -71.25,
          -117.5,
          -117.5
         ],
         "yaxis": "y"
        },
        {
         "hoverinfo": "text",
         "marker": {
          "color": "rgb(61,153,112)"
         },
         "mode": "lines",
         "text": [
          "the_and_game_of_in",
          "",
          "",
          "the_and_of_in_to"
         ],
         "type": "scatter",
         "x": [
          0.4611014659614828,
          0.5043947174674119,
          0.5043947174674119,
          0.44197848044524907
         ],
         "xaxis": "x",
         "y": [
          -37.5,
          -37.5,
          -94.375,
          -94.375
         ],
         "yaxis": "y"
        },
        {
         "hoverinfo": "text",
         "marker": {
          "color": "rgb(61,153,112)"
         },
         "mode": "lines",
         "text": [
          "the_and_of_in_to",
          "",
          "",
          "and_of_identity_in_the"
         ],
         "type": "scatter",
         "x": [
          0.5043947174674119,
          0.5095944623657391,
          0.5095944623657391,
          0
         ],
         "xaxis": "x",
         "y": [
          -65.9375,
          -65.9375,
          -135,
          -135
         ],
         "yaxis": "y"
        },
        {
         "hoverinfo": "text",
         "marker": {
          "color": "rgb(61,153,112)"
         },
         "mode": "lines",
         "text": [
          "call_quot_robot_the_and",
          "",
          "",
          "the_and_of_in_to"
         ],
         "type": "scatter",
         "x": [
          0.5759217490203685,
          0.598830691875388,
          0.598830691875388,
          0.5095944623657391
         ],
         "xaxis": "x",
         "y": [
          -10,
          -10,
          -100.46875,
          -100.46875
         ],
         "yaxis": "y"
        },
        {
         "hoverinfo": "text",
         "marker": {
          "color": "rgb(61,153,112)"
         },
         "mode": "lines",
         "text": [
          "anxiety_fla_the_and_foreign",
          "",
          "",
          "flipped_the_classroom_in_and"
         ],
         "type": "scatter",
         "x": [
          0,
          0.5637808344194861,
          0.5637808344194861,
          0
         ],
         "xaxis": "x",
         "y": [
          -145,
          -145,
          -155,
          -155
         ],
         "yaxis": "y"
        },
        {
         "hoverinfo": "text",
         "marker": {
          "color": "rgb(61,153,112)"
         },
         "mode": "lines",
         "text": [
          "writing_collaborative_wiki_the_and",
          "",
          "",
          "writing_feedback_the_and_of"
         ],
         "type": "scatter",
         "x": [
          0,
          0.3079315287389994,
          0.3079315287389994,
          0
         ],
         "xaxis": "x",
         "y": [
          -165,
          -165,
          -175,
          -175
         ],
         "yaxis": "y"
        },
        {
         "hoverinfo": "text",
         "marker": {
          "color": "rgb(61,153,112)"
         },
         "mode": "lines",
         "text": [
          "writing_the_feedback_and_of",
          "",
          "",
          "mt_translation_students_machine_texts"
         ],
         "type": "scatter",
         "x": [
          0.3079315287389994,
          0.5623520677173933,
          0.5623520677173933,
          0
         ],
         "xaxis": "x",
         "y": [
          -170,
          -170,
          -185,
          -185
         ],
         "yaxis": "y"
        },
        {
         "hoverinfo": "text",
         "marker": {
          "color": "rgb(61,153,112)"
         },
         "mode": "lines",
         "text": [
          "flipped_the_anxiety_and_in",
          "",
          "",
          "writing_the_feedback_and_of"
         ],
         "type": "scatter",
         "x": [
          0.5637808344194861,
          0.6809837471804954,
          0.6809837471804954,
          0.5623520677173933
         ],
         "xaxis": "x",
         "y": [
          -150,
          -150,
          -177.5,
          -177.5
         ],
         "yaxis": "y"
        },
        {
         "hoverinfo": "text",
         "marker": {
          "color": "rgb(61,153,112)"
         },
         "mode": "lines",
         "text": [
          "corpus_the_of_ddl_corpora",
          "",
          "",
          "pronunciation_the_asr_of_and"
         ],
         "type": "scatter",
         "x": [
          0,
          0.428622182054351,
          0.428622182054351,
          0
         ],
         "xaxis": "x",
         "y": [
          -215,
          -215,
          -225,
          -225
         ],
         "yaxis": "y"
        },
        {
         "hoverinfo": "text",
         "marker": {
          "color": "rgb(61,153,112)"
         },
         "mode": "lines",
         "text": [
          "corpus_the_of_and_to",
          "",
          "",
          "listening_test_the_of_to"
         ],
         "type": "scatter",
         "x": [
          0.428622182054351,
          0.49900401244177445,
          0.49900401244177445,
          0
         ],
         "xaxis": "x",
         "y": [
          -220,
          -220,
          -235,
          -235
         ],
         "yaxis": "y"
        },
        {
         "hoverinfo": "text",
         "marker": {
          "color": "rgb(61,153,112)"
         },
         "mode": "lines",
         "text": [
          "vocabulary_of_the_and_to",
          "",
          "",
          "the_of_corpus_and_to"
         ],
         "type": "scatter",
         "x": [
          0,
          0.5117798313625976,
          0.5117798313625976,
          0.49900401244177445
         ],
         "xaxis": "x",
         "y": [
          -205,
          -205,
          -227.5,
          -227.5
         ],
         "yaxis": "y"
        },
        {
         "hoverinfo": "text",
         "marker": {
          "color": "rgb(61,153,112)"
         },
         "mode": "lines",
         "text": [
          "reading_students_comprehension_the_and",
          "",
          "",
          "the_of_and_to_corpus"
         ],
         "type": "scatter",
         "x": [
          0,
          0.5803428856536329,
          0.5803428856536329,
          0.5117798313625976
         ],
         "xaxis": "x",
         "y": [
          -195,
          -195,
          -216.25,
          -216.25
         ],
         "yaxis": "y"
        },
        {
         "hoverinfo": "text",
         "marker": {
          "color": "rgb(61,153,112)"
         },
         "mode": "lines",
         "text": [
          "the_of_and_to_in",
          "",
          "",
          "captions_comprehension_captioning_caption_full"
         ],
         "type": "scatter",
         "x": [
          0.5803428856536329,
          0.6369267865528061,
          0.6369267865528061,
          0
         ],
         "xaxis": "x",
         "y": [
          -205.625,
          -205.625,
          -245,
          -245
         ],
         "yaxis": "y"
        },
        {
         "hoverinfo": "text",
         "marker": {
          "color": "rgb(61,153,112)"
         },
         "mode": "lines",
         "text": [
          "writing_the_and_in_of",
          "",
          "",
          "the_of_and_to_in"
         ],
         "type": "scatter",
         "x": [
          0.6809837471804954,
          0.7212436226657495,
          0.7212436226657495,
          0.6369267865528061
         ],
         "xaxis": "x",
         "y": [
          -163.75,
          -163.75,
          -225.3125,
          -225.3125
         ],
         "yaxis": "y"
        },
        {
         "hoverinfo": "text",
         "marker": {
          "color": "rgb(61,153,112)"
         },
         "mode": "lines",
         "text": [
          "the_and_of_in_to",
          "",
          "",
          "the_of_and_to_in"
         ],
         "type": "scatter",
         "x": [
          0.598830691875388,
          0.8025941152702907,
          0.8025941152702907,
          0.7212436226657495
         ],
         "xaxis": "x",
         "y": [
          -55.234375,
          -55.234375,
          -194.53125,
          -194.53125
         ],
         "yaxis": "y"
        },
        {
         "hoverinfo": "text",
         "hovertext": [
          "game_and_digital_the_of",
          "mobile_learning_the_of_and",
          "the_and_of_in_to",
          "the_of_and_learning_to",
          "the_and_game_of_in",
          "the_and_of_in_to",
          "call_quot_robot_the_and",
          "writing_the_feedback_and_of",
          "flipped_the_anxiety_and_in",
          "corpus_the_of_and_to",
          "the_of_and_to_in",
          "writing_the_and_in_of",
          "the_and_of_in_to"
         ],
         "marker": {
          "color": "black"
         },
         "mode": "markers",
         "showlegend": false,
         "type": "scatter",
         "x": [
          0.42283363906752425,
          0.3666153836006997,
          0.351959963730025,
          0.38221218524337996,
          0.4611014659614828,
          0.5043947174674119,
          0.5759217490203685,
          0.3079315287389994,
          0.5637808344194861,
          0.428622182054351,
          0.5803428856536329,
          0.6809837471804954,
          0.598830691875388
         ],
         "y": [
          -30,
          -60,
          -110,
          -71.25,
          -37.5,
          -65.9375,
          -10,
          -170,
          -150,
          -220,
          -205.625,
          -163.75,
          -55.234375
         ]
        },
        {
         "hoverinfo": "text",
         "hovertext": [
          "online_the_and_of_to",
          "of_the_and_teachers_to",
          "the_and_of_in_to",
          "the_and_of_in_to",
          "the_and_of_in_to",
          "writing_the_feedback_and_of",
          "the_of_corpus_and_to",
          "the_of_and_to_corpus",
          "the_of_and_to_in",
          "the_of_and_to_in"
         ],
         "marker": {
          "color": "black"
         },
         "mode": "markers",
         "showlegend": false,
         "type": "scatter",
         "x": [
          0.28416943214515733,
          0.3312277166228362,
          0.3797444244030927,
          0.44197848044524907,
          0.5095944623657391,
          0.5623520677173933,
          0.49900401244177445,
          0.5117798313625976,
          0.6369267865528061,
          0.7212436226657495
         ],
         "y": [
          -90,
          -82.5,
          -117.5,
          -94.375,
          -100.46875,
          -177.5,
          -227.5,
          -216.25,
          -225.3125,
          -194.53125
         ]
        }
       ],
       "layout": {
        "autosize": false,
        "height": 575,
        "hoverlabel": {
         "bgcolor": "white",
         "font": {
          "family": "Rockwell",
          "size": 16
         }
        },
        "hovermode": "closest",
        "plot_bgcolor": "#ECEFF1",
        "showlegend": false,
        "template": {
         "data": {
          "bar": [
           {
            "error_x": {
             "color": "#2a3f5f"
            },
            "error_y": {
             "color": "#2a3f5f"
            },
            "marker": {
             "line": {
              "color": "white",
              "width": 0.5
             },
             "pattern": {
              "fillmode": "overlay",
              "size": 10,
              "solidity": 0.2
             }
            },
            "type": "bar"
           }
          ],
          "barpolar": [
           {
            "marker": {
             "line": {
              "color": "white",
              "width": 0.5
             },
             "pattern": {
              "fillmode": "overlay",
              "size": 10,
              "solidity": 0.2
             }
            },
            "type": "barpolar"
           }
          ],
          "carpet": [
           {
            "aaxis": {
             "endlinecolor": "#2a3f5f",
             "gridcolor": "#C8D4E3",
             "linecolor": "#C8D4E3",
             "minorgridcolor": "#C8D4E3",
             "startlinecolor": "#2a3f5f"
            },
            "baxis": {
             "endlinecolor": "#2a3f5f",
             "gridcolor": "#C8D4E3",
             "linecolor": "#C8D4E3",
             "minorgridcolor": "#C8D4E3",
             "startlinecolor": "#2a3f5f"
            },
            "type": "carpet"
           }
          ],
          "choropleth": [
           {
            "colorbar": {
             "outlinewidth": 0,
             "ticks": ""
            },
            "type": "choropleth"
           }
          ],
          "contour": [
           {
            "colorbar": {
             "outlinewidth": 0,
             "ticks": ""
            },
            "colorscale": [
             [
              0,
              "#0d0887"
             ],
             [
              0.1111111111111111,
              "#46039f"
             ],
             [
              0.2222222222222222,
              "#7201a8"
             ],
             [
              0.3333333333333333,
              "#9c179e"
             ],
             [
              0.4444444444444444,
              "#bd3786"
             ],
             [
              0.5555555555555556,
              "#d8576b"
             ],
             [
              0.6666666666666666,
              "#ed7953"
             ],
             [
              0.7777777777777778,
              "#fb9f3a"
             ],
             [
              0.8888888888888888,
              "#fdca26"
             ],
             [
              1,
              "#f0f921"
             ]
            ],
            "type": "contour"
           }
          ],
          "contourcarpet": [
           {
            "colorbar": {
             "outlinewidth": 0,
             "ticks": ""
            },
            "type": "contourcarpet"
           }
          ],
          "heatmap": [
           {
            "colorbar": {
             "outlinewidth": 0,
             "ticks": ""
            },
            "colorscale": [
             [
              0,
              "#0d0887"
             ],
             [
              0.1111111111111111,
              "#46039f"
             ],
             [
              0.2222222222222222,
              "#7201a8"
             ],
             [
              0.3333333333333333,
              "#9c179e"
             ],
             [
              0.4444444444444444,
              "#bd3786"
             ],
             [
              0.5555555555555556,
              "#d8576b"
             ],
             [
              0.6666666666666666,
              "#ed7953"
             ],
             [
              0.7777777777777778,
              "#fb9f3a"
             ],
             [
              0.8888888888888888,
              "#fdca26"
             ],
             [
              1,
              "#f0f921"
             ]
            ],
            "type": "heatmap"
           }
          ],
          "heatmapgl": [
           {
            "colorbar": {
             "outlinewidth": 0,
             "ticks": ""
            },
            "colorscale": [
             [
              0,
              "#0d0887"
             ],
             [
              0.1111111111111111,
              "#46039f"
             ],
             [
              0.2222222222222222,
              "#7201a8"
             ],
             [
              0.3333333333333333,
              "#9c179e"
             ],
             [
              0.4444444444444444,
              "#bd3786"
             ],
             [
              0.5555555555555556,
              "#d8576b"
             ],
             [
              0.6666666666666666,
              "#ed7953"
             ],
             [
              0.7777777777777778,
              "#fb9f3a"
             ],
             [
              0.8888888888888888,
              "#fdca26"
             ],
             [
              1,
              "#f0f921"
             ]
            ],
            "type": "heatmapgl"
           }
          ],
          "histogram": [
           {
            "marker": {
             "pattern": {
              "fillmode": "overlay",
              "size": 10,
              "solidity": 0.2
             }
            },
            "type": "histogram"
           }
          ],
          "histogram2d": [
           {
            "colorbar": {
             "outlinewidth": 0,
             "ticks": ""
            },
            "colorscale": [
             [
              0,
              "#0d0887"
             ],
             [
              0.1111111111111111,
              "#46039f"
             ],
             [
              0.2222222222222222,
              "#7201a8"
             ],
             [
              0.3333333333333333,
              "#9c179e"
             ],
             [
              0.4444444444444444,
              "#bd3786"
             ],
             [
              0.5555555555555556,
              "#d8576b"
             ],
             [
              0.6666666666666666,
              "#ed7953"
             ],
             [
              0.7777777777777778,
              "#fb9f3a"
             ],
             [
              0.8888888888888888,
              "#fdca26"
             ],
             [
              1,
              "#f0f921"
             ]
            ],
            "type": "histogram2d"
           }
          ],
          "histogram2dcontour": [
           {
            "colorbar": {
             "outlinewidth": 0,
             "ticks": ""
            },
            "colorscale": [
             [
              0,
              "#0d0887"
             ],
             [
              0.1111111111111111,
              "#46039f"
             ],
             [
              0.2222222222222222,
              "#7201a8"
             ],
             [
              0.3333333333333333,
              "#9c179e"
             ],
             [
              0.4444444444444444,
              "#bd3786"
             ],
             [
              0.5555555555555556,
              "#d8576b"
             ],
             [
              0.6666666666666666,
              "#ed7953"
             ],
             [
              0.7777777777777778,
              "#fb9f3a"
             ],
             [
              0.8888888888888888,
              "#fdca26"
             ],
             [
              1,
              "#f0f921"
             ]
            ],
            "type": "histogram2dcontour"
           }
          ],
          "mesh3d": [
           {
            "colorbar": {
             "outlinewidth": 0,
             "ticks": ""
            },
            "type": "mesh3d"
           }
          ],
          "parcoords": [
           {
            "line": {
             "colorbar": {
              "outlinewidth": 0,
              "ticks": ""
             }
            },
            "type": "parcoords"
           }
          ],
          "pie": [
           {
            "automargin": true,
            "type": "pie"
           }
          ],
          "scatter": [
           {
            "fillpattern": {
             "fillmode": "overlay",
             "size": 10,
             "solidity": 0.2
            },
            "type": "scatter"
           }
          ],
          "scatter3d": [
           {
            "line": {
             "colorbar": {
              "outlinewidth": 0,
              "ticks": ""
             }
            },
            "marker": {
             "colorbar": {
              "outlinewidth": 0,
              "ticks": ""
             }
            },
            "type": "scatter3d"
           }
          ],
          "scattercarpet": [
           {
            "marker": {
             "colorbar": {
              "outlinewidth": 0,
              "ticks": ""
             }
            },
            "type": "scattercarpet"
           }
          ],
          "scattergeo": [
           {
            "marker": {
             "colorbar": {
              "outlinewidth": 0,
              "ticks": ""
             }
            },
            "type": "scattergeo"
           }
          ],
          "scattergl": [
           {
            "marker": {
             "colorbar": {
              "outlinewidth": 0,
              "ticks": ""
             }
            },
            "type": "scattergl"
           }
          ],
          "scattermapbox": [
           {
            "marker": {
             "colorbar": {
              "outlinewidth": 0,
              "ticks": ""
             }
            },
            "type": "scattermapbox"
           }
          ],
          "scatterpolar": [
           {
            "marker": {
             "colorbar": {
              "outlinewidth": 0,
              "ticks": ""
             }
            },
            "type": "scatterpolar"
           }
          ],
          "scatterpolargl": [
           {
            "marker": {
             "colorbar": {
              "outlinewidth": 0,
              "ticks": ""
             }
            },
            "type": "scatterpolargl"
           }
          ],
          "scatterternary": [
           {
            "marker": {
             "colorbar": {
              "outlinewidth": 0,
              "ticks": ""
             }
            },
            "type": "scatterternary"
           }
          ],
          "surface": [
           {
            "colorbar": {
             "outlinewidth": 0,
             "ticks": ""
            },
            "colorscale": [
             [
              0,
              "#0d0887"
             ],
             [
              0.1111111111111111,
              "#46039f"
             ],
             [
              0.2222222222222222,
              "#7201a8"
             ],
             [
              0.3333333333333333,
              "#9c179e"
             ],
             [
              0.4444444444444444,
              "#bd3786"
             ],
             [
              0.5555555555555556,
              "#d8576b"
             ],
             [
              0.6666666666666666,
              "#ed7953"
             ],
             [
              0.7777777777777778,
              "#fb9f3a"
             ],
             [
              0.8888888888888888,
              "#fdca26"
             ],
             [
              1,
              "#f0f921"
             ]
            ],
            "type": "surface"
           }
          ],
          "table": [
           {
            "cells": {
             "fill": {
              "color": "#EBF0F8"
             },
             "line": {
              "color": "white"
             }
            },
            "header": {
             "fill": {
              "color": "#C8D4E3"
             },
             "line": {
              "color": "white"
             }
            },
            "type": "table"
           }
          ]
         },
         "layout": {
          "annotationdefaults": {
           "arrowcolor": "#2a3f5f",
           "arrowhead": 0,
           "arrowwidth": 1
          },
          "autotypenumbers": "strict",
          "coloraxis": {
           "colorbar": {
            "outlinewidth": 0,
            "ticks": ""
           }
          },
          "colorscale": {
           "diverging": [
            [
             0,
             "#8e0152"
            ],
            [
             0.1,
             "#c51b7d"
            ],
            [
             0.2,
             "#de77ae"
            ],
            [
             0.3,
             "#f1b6da"
            ],
            [
             0.4,
             "#fde0ef"
            ],
            [
             0.5,
             "#f7f7f7"
            ],
            [
             0.6,
             "#e6f5d0"
            ],
            [
             0.7,
             "#b8e186"
            ],
            [
             0.8,
             "#7fbc41"
            ],
            [
             0.9,
             "#4d9221"
            ],
            [
             1,
             "#276419"
            ]
           ],
           "sequential": [
            [
             0,
             "#0d0887"
            ],
            [
             0.1111111111111111,
             "#46039f"
            ],
            [
             0.2222222222222222,
             "#7201a8"
            ],
            [
             0.3333333333333333,
             "#9c179e"
            ],
            [
             0.4444444444444444,
             "#bd3786"
            ],
            [
             0.5555555555555556,
             "#d8576b"
            ],
            [
             0.6666666666666666,
             "#ed7953"
            ],
            [
             0.7777777777777778,
             "#fb9f3a"
            ],
            [
             0.8888888888888888,
             "#fdca26"
            ],
            [
             1,
             "#f0f921"
            ]
           ],
           "sequentialminus": [
            [
             0,
             "#0d0887"
            ],
            [
             0.1111111111111111,
             "#46039f"
            ],
            [
             0.2222222222222222,
             "#7201a8"
            ],
            [
             0.3333333333333333,
             "#9c179e"
            ],
            [
             0.4444444444444444,
             "#bd3786"
            ],
            [
             0.5555555555555556,
             "#d8576b"
            ],
            [
             0.6666666666666666,
             "#ed7953"
            ],
            [
             0.7777777777777778,
             "#fb9f3a"
            ],
            [
             0.8888888888888888,
             "#fdca26"
            ],
            [
             1,
             "#f0f921"
            ]
           ]
          },
          "colorway": [
           "#636efa",
           "#EF553B",
           "#00cc96",
           "#ab63fa",
           "#FFA15A",
           "#19d3f3",
           "#FF6692",
           "#B6E880",
           "#FF97FF",
           "#FECB52"
          ],
          "font": {
           "color": "#2a3f5f"
          },
          "geo": {
           "bgcolor": "white",
           "lakecolor": "white",
           "landcolor": "white",
           "showlakes": true,
           "showland": true,
           "subunitcolor": "#C8D4E3"
          },
          "hoverlabel": {
           "align": "left"
          },
          "hovermode": "closest",
          "mapbox": {
           "style": "light"
          },
          "paper_bgcolor": "white",
          "plot_bgcolor": "white",
          "polar": {
           "angularaxis": {
            "gridcolor": "#EBF0F8",
            "linecolor": "#EBF0F8",
            "ticks": ""
           },
           "bgcolor": "white",
           "radialaxis": {
            "gridcolor": "#EBF0F8",
            "linecolor": "#EBF0F8",
            "ticks": ""
           }
          },
          "scene": {
           "xaxis": {
            "backgroundcolor": "white",
            "gridcolor": "#DFE8F3",
            "gridwidth": 2,
            "linecolor": "#EBF0F8",
            "showbackground": true,
            "ticks": "",
            "zerolinecolor": "#EBF0F8"
           },
           "yaxis": {
            "backgroundcolor": "white",
            "gridcolor": "#DFE8F3",
            "gridwidth": 2,
            "linecolor": "#EBF0F8",
            "showbackground": true,
            "ticks": "",
            "zerolinecolor": "#EBF0F8"
           },
           "zaxis": {
            "backgroundcolor": "white",
            "gridcolor": "#DFE8F3",
            "gridwidth": 2,
            "linecolor": "#EBF0F8",
            "showbackground": true,
            "ticks": "",
            "zerolinecolor": "#EBF0F8"
           }
          },
          "shapedefaults": {
           "line": {
            "color": "#2a3f5f"
           }
          },
          "ternary": {
           "aaxis": {
            "gridcolor": "#DFE8F3",
            "linecolor": "#A2B1C6",
            "ticks": ""
           },
           "baxis": {
            "gridcolor": "#DFE8F3",
            "linecolor": "#A2B1C6",
            "ticks": ""
           },
           "bgcolor": "white",
           "caxis": {
            "gridcolor": "#DFE8F3",
            "linecolor": "#A2B1C6",
            "ticks": ""
           }
          },
          "title": {
           "x": 0.05
          },
          "xaxis": {
           "automargin": true,
           "gridcolor": "#EBF0F8",
           "linecolor": "#EBF0F8",
           "ticks": "",
           "title": {
            "standoff": 15
           },
           "zerolinecolor": "#EBF0F8",
           "zerolinewidth": 2
          },
          "yaxis": {
           "automargin": true,
           "gridcolor": "#EBF0F8",
           "linecolor": "#EBF0F8",
           "ticks": "",
           "title": {
            "standoff": 15
           },
           "zerolinecolor": "#EBF0F8",
           "zerolinewidth": 2
          }
         }
        },
        "title": {
         "font": {
          "color": "Black",
          "size": 22
         },
         "text": "<b>Hierarchical Clustering</b>",
         "x": 0.5,
         "xanchor": "center",
         "yanchor": "top"
        },
        "width": 1000,
        "xaxis": {
         "mirror": "allticks",
         "rangemode": "tozero",
         "showgrid": false,
         "showline": true,
         "showticklabels": true,
         "ticks": "outside",
         "type": "linear",
         "zeroline": false
        },
        "yaxis": {
         "mirror": "allticks",
         "range": [
          -250,
          0
         ],
         "rangemode": "tozero",
         "showgrid": false,
         "showline": true,
         "showticklabels": true,
         "tickmode": "array",
         "ticks": "outside",
         "ticktext": [
          "23_robot_rall_the",
          "21_call_quot_studies",
          "13_digital_storytelling_the",
          "7_game_games_gaming",
          "10_vr_virtual_the",
          "14_and_in_language",
          "3_mobile_learning_mall",
          "0_technology_teachers_of",
          "11_online_and_the",
          "8_blended_online_the",
          "4_intercultural_telecollabo...",
          "2_task_the_in",
          "15_multimodal_of_the",
          "20_and_of_identity",
          "24_anxiety_fla_the",
          "18_flipped_the_classroom",
          "9_writing_collaborative_wiki",
          "1_writing_feedback_the",
          "22_mt_translation_students",
          "19_reading_students_compreh...",
          "17_vocabulary_of_the",
          "5_corpus_the_of",
          "6_pronunciation_the_asr",
          "12_listening_test_the",
          "16_captions_comprehension_c..."
         ],
         "tickvals": [
          -5,
          -15,
          -25,
          -35,
          -45,
          -55,
          -65,
          -75,
          -85,
          -95,
          -105,
          -115,
          -125,
          -135,
          -145,
          -155,
          -165,
          -175,
          -185,
          -195,
          -205,
          -215,
          -225,
          -235,
          -245
         ],
         "type": "linear",
         "zeroline": false
        }
       }
      }
     },
     "metadata": {},
     "output_type": "display_data"
    }
   ],
   "source": [
    "hierarchical_topics = model.hierarchical_topics(docs)\n",
    "model.visualize_hierarchy(hierarchical_topics=hierarchical_topics)"
   ]
  },
  {
   "cell_type": "code",
   "execution_count": 15,
   "metadata": {},
   "outputs": [
    {
     "data": {
      "application/vnd.plotly.v1+json": {
       "config": {
        "plotlyServerURL": "https://plot.ly"
       },
       "data": [
        {
         "coloraxis": "coloraxis",
         "hovertemplate": "x: %{x}<br>y: %{y}<br>Similarity Score: %{z}<extra></extra>",
         "name": "0",
         "type": "heatmap",
         "x": [
          "0_technology_teachers_of",
          "1_writing_feedback_the",
          "2_task_the_in",
          "3_mobile_learning_mall",
          "4_intercultural_telecollabo...",
          "5_corpus_the_of",
          "6_pronunciation_the_asr",
          "7_game_games_gaming",
          "8_blended_online_the",
          "9_writing_collaborative_wiki",
          "10_vr_virtual_the",
          "11_online_and_the",
          "12_listening_test_the",
          "13_digital_storytelling_the",
          "14_and_in_language",
          "15_multimodal_of_the",
          "16_captions_comprehension_c...",
          "17_vocabulary_of_the",
          "18_flipped_the_classroom",
          "19_reading_students_compreh...",
          "20_and_of_identity",
          "21_call_quot_studies",
          "22_mt_translation_students",
          "23_robot_rall_the",
          "24_anxiety_fla_the"
         ],
         "xaxis": "x",
         "y": [
          "0_technology_teachers_of",
          "1_writing_feedback_the",
          "2_task_the_in",
          "3_mobile_learning_mall",
          "4_intercultural_telecollabo...",
          "5_corpus_the_of",
          "6_pronunciation_the_asr",
          "7_game_games_gaming",
          "8_blended_online_the",
          "9_writing_collaborative_wiki",
          "10_vr_virtual_the",
          "11_online_and_the",
          "12_listening_test_the",
          "13_digital_storytelling_the",
          "14_and_in_language",
          "15_multimodal_of_the",
          "16_captions_comprehension_c...",
          "17_vocabulary_of_the",
          "18_flipped_the_classroom",
          "19_reading_students_compreh...",
          "20_and_of_identity",
          "21_call_quot_studies",
          "22_mt_translation_students",
          "23_robot_rall_the",
          "24_anxiety_fla_the"
         ],
         "yaxis": "y",
         "z": [
          [
           1,
           0.7204103469848633,
           0.7707449197769165,
           0.8357642889022827,
           0.8259525895118713,
           0.6897870302200317,
           0.6553109884262085,
           0.7114860415458679,
           0.814831018447876,
           0.6920002698898315,
           0.724576473236084,
           0.8655897378921509,
           0.7144735455513,
           0.7102317214012146,
           0.7815600633621216,
           0.7446247339248657,
           0.5887636542320251,
           0.7233511209487915,
           0.7806729078292847,
           0.7605667114257812,
           0.7294543981552124,
           0.7470963001251221,
           0.692145586013794,
           0.6758841276168823,
           0.6865069270133972
          ],
          [
           0.7204103469848633,
           0.9999998807907104,
           0.7897684574127197,
           0.6782165765762329,
           0.696253776550293,
           0.8032801151275635,
           0.6827699542045593,
           0.6352558135986328,
           0.7368345856666565,
           0.8607531189918518,
           0.592822790145874,
           0.7486029863357544,
           0.7457426190376282,
           0.7308698892593384,
           0.7019187211990356,
           0.6696491241455078,
           0.6336489915847778,
           0.7403693199157715,
           0.7612822651863098,
           0.7879711389541626,
           0.6496061086654663,
           0.6695642471313477,
           0.8618762493133545,
           0.64286869764328,
           0.6456102132797241
          ],
          [
           0.7707449197769165,
           0.7897684574127197,
           1,
           0.7662768363952637,
           0.8266912698745728,
           0.7514212131500244,
           0.8104560375213623,
           0.7765053510665894,
           0.7701415419578552,
           0.7420894503593445,
           0.7634408473968506,
           0.8566872477531433,
           0.8424012660980225,
           0.7157273292541504,
           0.8135843873023987,
           0.8516525030136108,
           0.7326472997665405,
           0.7631350755691528,
           0.7294851541519165,
           0.7435708045959473,
           0.7597891688346863,
           0.7104223370552063,
           0.7207094430923462,
           0.8028701543807983,
           0.7703731656074524
          ],
          [
           0.8357642889022827,
           0.6782165765762329,
           0.7662768363952637,
           1.000000238418579,
           0.7138266563415527,
           0.6927624940872192,
           0.6870229244232178,
           0.747729480266571,
           0.7553434371948242,
           0.6676223874092102,
           0.7222174406051636,
           0.7904026508331299,
           0.7299295663833618,
           0.6593265533447266,
           0.7773796319961548,
           0.708042323589325,
           0.6248958110809326,
           0.7788945436477661,
           0.7110670804977417,
           0.7805351614952087,
           0.665937066078186,
           0.7165349721908569,
           0.6674611568450928,
           0.6700581312179565,
           0.6654282808303833
          ],
          [
           0.8259525895118713,
           0.696253776550293,
           0.8266912698745728,
           0.7138266563415527,
           0.9999997615814209,
           0.6801578998565674,
           0.6159189939498901,
           0.7159820795059204,
           0.770775556564331,
           0.7357292175292969,
           0.7314602136611938,
           0.8578836917877197,
           0.6890662908554077,
           0.7550234198570251,
           0.8274195194244385,
           0.7859817743301392,
           0.5722355842590332,
           0.6417881846427917,
           0.7377090454101562,
           0.7039883136749268,
           0.863527774810791,
           0.718548059463501,
           0.6636037826538086,
           0.694800853729248,
           0.7146092653274536
          ],
          [
           0.6897870302200317,
           0.8032801151275635,
           0.7514212131500244,
           0.6927624940872192,
           0.6801578998565674,
           1.000000238418579,
           0.7076892852783203,
           0.6142270565032959,
           0.7185485363006592,
           0.7196654677391052,
           0.5787044763565063,
           0.7287034392356873,
           0.7001169919967651,
           0.6453597545623779,
           0.7145485877990723,
           0.6642088890075684,
           0.6624512672424316,
           0.8022514581680298,
           0.6922258138656616,
           0.7093564867973328,
           0.6741364002227783,
           0.7298877239227295,
           0.8120752573013306,
           0.6497293710708618,
           0.6002646684646606
          ],
          [
           0.6553109884262085,
           0.6827699542045593,
           0.8104560375213623,
           0.6870229244232178,
           0.6159189939498901,
           0.7076892852783203,
           1.0000001192092896,
           0.6267219185829163,
           0.6199728846549988,
           0.5352598428726196,
           0.6335783004760742,
           0.672813892364502,
           0.8226504921913147,
           0.5261455774307251,
           0.641051173210144,
           0.6670246124267578,
           0.7141544818878174,
           0.74952632188797,
           0.611443042755127,
           0.6481115818023682,
           0.5521419048309326,
           0.6378416419029236,
           0.6607681512832642,
           0.7080296277999878,
           0.6682799458503723
          ],
          [
           0.7114860415458679,
           0.6352558135986328,
           0.7765053510665894,
           0.747729480266571,
           0.7159820795059204,
           0.6142270565032959,
           0.6267219185829163,
           1.000000238418579,
           0.7078244686126709,
           0.617838978767395,
           0.809638500213623,
           0.7606738209724426,
           0.6888066530227661,
           0.744640588760376,
           0.7740908861160278,
           0.7039974331855774,
           0.6297639608383179,
           0.7032191753387451,
           0.6519626379013062,
           0.7037837505340576,
           0.7106459140777588,
           0.6139420866966248,
           0.6065906286239624,
           0.6786581873893738,
           0.705877423286438
          ],
          [
           0.814831018447876,
           0.7368345856666565,
           0.7701415419578552,
           0.7553434371948242,
           0.770775556564331,
           0.7185485363006592,
           0.6199728846549988,
           0.7078244686126709,
           1,
           0.7223177552223206,
           0.7046278715133667,
           0.8988084197044373,
           0.7154794335365295,
           0.7017544507980347,
           0.8145990371704102,
           0.7537002563476562,
           0.5866594314575195,
           0.7357649803161621,
           0.8093912601470947,
           0.7785689234733582,
           0.73004549741745,
           0.6948175430297852,
           0.6802599430084229,
           0.6420496702194214,
           0.6936261653900146
          ],
          [
           0.6920002698898315,
           0.8607531189918518,
           0.7420894503593445,
           0.6676223874092102,
           0.7357292175292969,
           0.7196654677391052,
           0.5352598428726196,
           0.617838978767395,
           0.7223177552223206,
           1,
           0.5704084038734436,
           0.7569758296012878,
           0.6078319549560547,
           0.7501157522201538,
           0.7868635654449463,
           0.6873067021369934,
           0.5082687139511108,
           0.6486480832099915,
           0.6814610958099365,
           0.7512310743331909,
           0.7333629727363586,
           0.6761415600776672,
           0.7432581186294556,
           0.5896406173706055,
           0.5918668508529663
          ],
          [
           0.724576473236084,
           0.592822790145874,
           0.7634408473968506,
           0.7222174406051636,
           0.7314602136611938,
           0.5787044763565063,
           0.6335783004760742,
           0.809638500213623,
           0.7046278715133667,
           0.5704084038734436,
           0.9999996423721313,
           0.8129044771194458,
           0.6777448654174805,
           0.7412121295928955,
           0.7218466997146606,
           0.8208096623420715,
           0.654294490814209,
           0.6730310320854187,
           0.6259979605674744,
           0.6591264605522156,
           0.7235301733016968,
           0.6245832443237305,
           0.5554928779602051,
           0.6969223022460938,
           0.6885919570922852
          ],
          [
           0.8655897378921509,
           0.7486029863357544,
           0.8566872477531433,
           0.7904026508331299,
           0.8578836917877197,
           0.7287034392356873,
           0.672813892364502,
           0.7606738209724426,
           0.8988084197044373,
           0.7569758296012878,
           0.8129044771194458,
           1.0000001192092896,
           0.7392607927322388,
           0.7569998502731323,
           0.8762633204460144,
           0.8739550113677979,
           0.6245415806770325,
           0.7309005260467529,
           0.7785561084747314,
           0.7704726457595825,
           0.8168696165084839,
           0.7254126667976379,
           0.6636532545089722,
           0.7637684345245361,
           0.703031063079834
          ],
          [
           0.7144735455513,
           0.7457426190376282,
           0.8424012660980225,
           0.7299295663833618,
           0.6890662908554077,
           0.7001169919967651,
           0.8226504921913147,
           0.6888066530227661,
           0.7154794335365295,
           0.6078319549560547,
           0.6777448654174805,
           0.7392607927322388,
           1.0000001192092896,
           0.5951451063156128,
           0.6733907461166382,
           0.713153600692749,
           0.7448890209197998,
           0.7934364080429077,
           0.6816241145133972,
           0.7760207653045654,
           0.6093690395355225,
           0.6402097940444946,
           0.6689600348472595,
           0.6910804510116577,
           0.7074954509735107
          ],
          [
           0.7102317214012146,
           0.7308698892593384,
           0.7157273292541504,
           0.6593265533447266,
           0.7550234198570251,
           0.6453597545623779,
           0.5261455774307251,
           0.744640588760376,
           0.7017544507980347,
           0.7501157522201538,
           0.7412121295928955,
           0.7569998502731323,
           0.5951451063156128,
           1,
           0.7428193092346191,
           0.7585427761077881,
           0.6003187298774719,
           0.6447528600692749,
           0.6606891751289368,
           0.7247567176818848,
           0.803539514541626,
           0.6546322703361511,
           0.6508272886276245,
           0.6058441400527954,
           0.6033364534378052
          ],
          [
           0.7815600633621216,
           0.7019187211990356,
           0.8135843873023987,
           0.7773796319961548,
           0.8274195194244385,
           0.7145485877990723,
           0.641051173210144,
           0.7740908861160278,
           0.8145990371704102,
           0.7868635654449463,
           0.7218466997146606,
           0.8762633204460144,
           0.6733907461166382,
           0.7428193092346191,
           1.0000001192092896,
           0.8066095113754272,
           0.5910542011260986,
           0.698022723197937,
           0.6953080892562866,
           0.7581669092178345,
           0.8642932176589966,
           0.7224164605140686,
           0.6533879041671753,
           0.7141060829162598,
           0.6834591627120972
          ],
          [
           0.7446247339248657,
           0.6696491241455078,
           0.8516525030136108,
           0.708042323589325,
           0.7859817743301392,
           0.6642088890075684,
           0.6670246124267578,
           0.7039974331855774,
           0.7537002563476562,
           0.6873067021369934,
           0.8208096623420715,
           0.8739550113677979,
           0.713153600692749,
           0.7585427761077881,
           0.8066095113754272,
           0.9999995231628418,
           0.7151743173599243,
           0.6915370225906372,
           0.6492595672607422,
           0.6948819160461426,
           0.798112690448761,
           0.6610901355743408,
           0.5877014398574829,
           0.7339346408843994,
           0.6548745036125183
          ],
          [
           0.5887636542320251,
           0.6336489915847778,
           0.7326472997665405,
           0.6248958110809326,
           0.5722355842590332,
           0.6624512672424316,
           0.7141544818878174,
           0.6297639608383179,
           0.5866594314575195,
           0.5082687139511108,
           0.654294490814209,
           0.6245415806770325,
           0.7448890209197998,
           0.6003187298774719,
           0.5910542011260986,
           0.7151743173599243,
           1,
           0.7829413414001465,
           0.5898841619491577,
           0.6876877546310425,
           0.5109833478927612,
           0.5292470455169678,
           0.6624823808670044,
           0.6321983337402344,
           0.5713900327682495
          ],
          [
           0.7233511209487915,
           0.7403693199157715,
           0.7631350755691528,
           0.7788945436477661,
           0.6417881846427917,
           0.8022514581680298,
           0.74952632188797,
           0.7032191753387451,
           0.7357649803161621,
           0.6486480832099915,
           0.6730310320854187,
           0.7309005260467529,
           0.7934364080429077,
           0.6447528600692749,
           0.698022723197937,
           0.6915370225906372,
           0.7829413414001465,
           1.0000001192092896,
           0.7196499109268188,
           0.7971030473709106,
           0.6007052659988403,
           0.6794959902763367,
           0.7376176714897156,
           0.603534996509552,
           0.6409146785736084
          ],
          [
           0.7806729078292847,
           0.7612822651863098,
           0.7294851541519165,
           0.7110670804977417,
           0.7377090454101562,
           0.6922258138656616,
           0.611443042755127,
           0.6519626379013062,
           0.8093912601470947,
           0.6814610958099365,
           0.6259979605674744,
           0.7785561084747314,
           0.6816241145133972,
           0.6606891751289368,
           0.6953080892562866,
           0.6492595672607422,
           0.5898841619491577,
           0.7196499109268188,
           1.000000238418579,
           0.7249632477760315,
           0.6465733647346497,
           0.643333911895752,
           0.6943572759628296,
           0.5860393047332764,
           0.6943107843399048
          ],
          [
           0.7605667114257812,
           0.7879711389541626,
           0.7435708045959473,
           0.7805351614952087,
           0.7039883136749268,
           0.7093564867973328,
           0.6481115818023682,
           0.7037837505340576,
           0.7785689234733582,
           0.7512310743331909,
           0.6591264605522156,
           0.7704726457595825,
           0.7760207653045654,
           0.7247567176818848,
           0.7581669092178345,
           0.6948819160461426,
           0.6876877546310425,
           0.7971030473709106,
           0.7249632477760315,
           0.9999999403953552,
           0.6728616952896118,
           0.6420485973358154,
           0.7589154839515686,
           0.6039252281188965,
           0.663952112197876
          ],
          [
           0.7294543981552124,
           0.6496061086654663,
           0.7597891688346863,
           0.665937066078186,
           0.863527774810791,
           0.6741364002227783,
           0.5521419048309326,
           0.7106459140777588,
           0.73004549741745,
           0.7333629727363586,
           0.7235301733016968,
           0.8168696165084839,
           0.6093690395355225,
           0.803539514541626,
           0.8642932176589966,
           0.798112690448761,
           0.5109833478927612,
           0.6007052659988403,
           0.6465733647346497,
           0.6728616952896118,
           0.9999998807907104,
           0.7491145730018616,
           0.6026346683502197,
           0.6541470289230347,
           0.6119454503059387
          ],
          [
           0.7470963001251221,
           0.6695642471313477,
           0.7104223370552063,
           0.7165349721908569,
           0.718548059463501,
           0.7298877239227295,
           0.6378416419029236,
           0.6139420866966248,
           0.6948175430297852,
           0.6761415600776672,
           0.6245832443237305,
           0.7254126667976379,
           0.6402097940444946,
           0.6546322703361511,
           0.7224164605140686,
           0.6610901355743408,
           0.5292470455169678,
           0.6794959902763367,
           0.643333911895752,
           0.6420485973358154,
           0.7491145730018616,
           0.9999997019767761,
           0.6505918502807617,
           0.656408429145813,
           0.5407215356826782
          ],
          [
           0.692145586013794,
           0.8618762493133545,
           0.7207094430923462,
           0.6674611568450928,
           0.6636037826538086,
           0.8120752573013306,
           0.6607681512832642,
           0.6065906286239624,
           0.6802599430084229,
           0.7432581186294556,
           0.5554928779602051,
           0.6636532545089722,
           0.6689600348472595,
           0.6508272886276245,
           0.6533879041671753,
           0.5877014398574829,
           0.6624823808670044,
           0.7376176714897156,
           0.6943572759628296,
           0.7589154839515686,
           0.6026346683502197,
           0.6505918502807617,
           0.9999999403953552,
           0.579548716545105,
           0.6098010540008545
          ],
          [
           0.6758841276168823,
           0.64286869764328,
           0.8028701543807983,
           0.6700581312179565,
           0.694800853729248,
           0.6497293710708618,
           0.7080296277999878,
           0.6786581873893738,
           0.6420496702194214,
           0.5896406173706055,
           0.6969223022460938,
           0.7637684345245361,
           0.6910804510116577,
           0.6058441400527954,
           0.7141060829162598,
           0.7339346408843994,
           0.6321983337402344,
           0.603534996509552,
           0.5860393047332764,
           0.6039252281188965,
           0.6541470289230347,
           0.656408429145813,
           0.579548716545105,
           0.9999998211860657,
           0.5981043577194214
          ],
          [
           0.6865069270133972,
           0.6456102132797241,
           0.7703731656074524,
           0.6654282808303833,
           0.7146092653274536,
           0.6002646684646606,
           0.6682799458503723,
           0.705877423286438,
           0.6936261653900146,
           0.5918668508529663,
           0.6885919570922852,
           0.703031063079834,
           0.7074954509735107,
           0.6033364534378052,
           0.6834591627120972,
           0.6548745036125183,
           0.5713900327682495,
           0.6409146785736084,
           0.6943107843399048,
           0.663952112197876,
           0.6119454503059387,
           0.5407215356826782,
           0.6098010540008545,
           0.5981043577194214,
           1.0000003576278687
          ]
         ]
        }
       ],
       "layout": {
        "coloraxis": {
         "colorbar": {
          "title": {
           "text": "Similarity Score"
          }
         },
         "colorscale": [
          [
           0,
           "rgb(247,252,240)"
          ],
          [
           0.125,
           "rgb(224,243,219)"
          ],
          [
           0.25,
           "rgb(204,235,197)"
          ],
          [
           0.375,
           "rgb(168,221,181)"
          ],
          [
           0.5,
           "rgb(123,204,196)"
          ],
          [
           0.625,
           "rgb(78,179,211)"
          ],
          [
           0.75,
           "rgb(43,140,190)"
          ],
          [
           0.875,
           "rgb(8,104,172)"
          ],
          [
           1,
           "rgb(8,64,129)"
          ]
         ]
        },
        "height": 800,
        "hoverlabel": {
         "bgcolor": "white",
         "font": {
          "family": "Rockwell",
          "size": 16
         }
        },
        "legend": {
         "title": {
          "text": "Trend"
         }
        },
        "margin": {
         "t": 60
        },
        "showlegend": true,
        "template": {
         "data": {
          "bar": [
           {
            "error_x": {
             "color": "#2a3f5f"
            },
            "error_y": {
             "color": "#2a3f5f"
            },
            "marker": {
             "line": {
              "color": "#E5ECF6",
              "width": 0.5
             },
             "pattern": {
              "fillmode": "overlay",
              "size": 10,
              "solidity": 0.2
             }
            },
            "type": "bar"
           }
          ],
          "barpolar": [
           {
            "marker": {
             "line": {
              "color": "#E5ECF6",
              "width": 0.5
             },
             "pattern": {
              "fillmode": "overlay",
              "size": 10,
              "solidity": 0.2
             }
            },
            "type": "barpolar"
           }
          ],
          "carpet": [
           {
            "aaxis": {
             "endlinecolor": "#2a3f5f",
             "gridcolor": "white",
             "linecolor": "white",
             "minorgridcolor": "white",
             "startlinecolor": "#2a3f5f"
            },
            "baxis": {
             "endlinecolor": "#2a3f5f",
             "gridcolor": "white",
             "linecolor": "white",
             "minorgridcolor": "white",
             "startlinecolor": "#2a3f5f"
            },
            "type": "carpet"
           }
          ],
          "choropleth": [
           {
            "colorbar": {
             "outlinewidth": 0,
             "ticks": ""
            },
            "type": "choropleth"
           }
          ],
          "contour": [
           {
            "colorbar": {
             "outlinewidth": 0,
             "ticks": ""
            },
            "colorscale": [
             [
              0,
              "#0d0887"
             ],
             [
              0.1111111111111111,
              "#46039f"
             ],
             [
              0.2222222222222222,
              "#7201a8"
             ],
             [
              0.3333333333333333,
              "#9c179e"
             ],
             [
              0.4444444444444444,
              "#bd3786"
             ],
             [
              0.5555555555555556,
              "#d8576b"
             ],
             [
              0.6666666666666666,
              "#ed7953"
             ],
             [
              0.7777777777777778,
              "#fb9f3a"
             ],
             [
              0.8888888888888888,
              "#fdca26"
             ],
             [
              1,
              "#f0f921"
             ]
            ],
            "type": "contour"
           }
          ],
          "contourcarpet": [
           {
            "colorbar": {
             "outlinewidth": 0,
             "ticks": ""
            },
            "type": "contourcarpet"
           }
          ],
          "heatmap": [
           {
            "colorbar": {
             "outlinewidth": 0,
             "ticks": ""
            },
            "colorscale": [
             [
              0,
              "#0d0887"
             ],
             [
              0.1111111111111111,
              "#46039f"
             ],
             [
              0.2222222222222222,
              "#7201a8"
             ],
             [
              0.3333333333333333,
              "#9c179e"
             ],
             [
              0.4444444444444444,
              "#bd3786"
             ],
             [
              0.5555555555555556,
              "#d8576b"
             ],
             [
              0.6666666666666666,
              "#ed7953"
             ],
             [
              0.7777777777777778,
              "#fb9f3a"
             ],
             [
              0.8888888888888888,
              "#fdca26"
             ],
             [
              1,
              "#f0f921"
             ]
            ],
            "type": "heatmap"
           }
          ],
          "heatmapgl": [
           {
            "colorbar": {
             "outlinewidth": 0,
             "ticks": ""
            },
            "colorscale": [
             [
              0,
              "#0d0887"
             ],
             [
              0.1111111111111111,
              "#46039f"
             ],
             [
              0.2222222222222222,
              "#7201a8"
             ],
             [
              0.3333333333333333,
              "#9c179e"
             ],
             [
              0.4444444444444444,
              "#bd3786"
             ],
             [
              0.5555555555555556,
              "#d8576b"
             ],
             [
              0.6666666666666666,
              "#ed7953"
             ],
             [
              0.7777777777777778,
              "#fb9f3a"
             ],
             [
              0.8888888888888888,
              "#fdca26"
             ],
             [
              1,
              "#f0f921"
             ]
            ],
            "type": "heatmapgl"
           }
          ],
          "histogram": [
           {
            "marker": {
             "pattern": {
              "fillmode": "overlay",
              "size": 10,
              "solidity": 0.2
             }
            },
            "type": "histogram"
           }
          ],
          "histogram2d": [
           {
            "colorbar": {
             "outlinewidth": 0,
             "ticks": ""
            },
            "colorscale": [
             [
              0,
              "#0d0887"
             ],
             [
              0.1111111111111111,
              "#46039f"
             ],
             [
              0.2222222222222222,
              "#7201a8"
             ],
             [
              0.3333333333333333,
              "#9c179e"
             ],
             [
              0.4444444444444444,
              "#bd3786"
             ],
             [
              0.5555555555555556,
              "#d8576b"
             ],
             [
              0.6666666666666666,
              "#ed7953"
             ],
             [
              0.7777777777777778,
              "#fb9f3a"
             ],
             [
              0.8888888888888888,
              "#fdca26"
             ],
             [
              1,
              "#f0f921"
             ]
            ],
            "type": "histogram2d"
           }
          ],
          "histogram2dcontour": [
           {
            "colorbar": {
             "outlinewidth": 0,
             "ticks": ""
            },
            "colorscale": [
             [
              0,
              "#0d0887"
             ],
             [
              0.1111111111111111,
              "#46039f"
             ],
             [
              0.2222222222222222,
              "#7201a8"
             ],
             [
              0.3333333333333333,
              "#9c179e"
             ],
             [
              0.4444444444444444,
              "#bd3786"
             ],
             [
              0.5555555555555556,
              "#d8576b"
             ],
             [
              0.6666666666666666,
              "#ed7953"
             ],
             [
              0.7777777777777778,
              "#fb9f3a"
             ],
             [
              0.8888888888888888,
              "#fdca26"
             ],
             [
              1,
              "#f0f921"
             ]
            ],
            "type": "histogram2dcontour"
           }
          ],
          "mesh3d": [
           {
            "colorbar": {
             "outlinewidth": 0,
             "ticks": ""
            },
            "type": "mesh3d"
           }
          ],
          "parcoords": [
           {
            "line": {
             "colorbar": {
              "outlinewidth": 0,
              "ticks": ""
             }
            },
            "type": "parcoords"
           }
          ],
          "pie": [
           {
            "automargin": true,
            "type": "pie"
           }
          ],
          "scatter": [
           {
            "fillpattern": {
             "fillmode": "overlay",
             "size": 10,
             "solidity": 0.2
            },
            "type": "scatter"
           }
          ],
          "scatter3d": [
           {
            "line": {
             "colorbar": {
              "outlinewidth": 0,
              "ticks": ""
             }
            },
            "marker": {
             "colorbar": {
              "outlinewidth": 0,
              "ticks": ""
             }
            },
            "type": "scatter3d"
           }
          ],
          "scattercarpet": [
           {
            "marker": {
             "colorbar": {
              "outlinewidth": 0,
              "ticks": ""
             }
            },
            "type": "scattercarpet"
           }
          ],
          "scattergeo": [
           {
            "marker": {
             "colorbar": {
              "outlinewidth": 0,
              "ticks": ""
             }
            },
            "type": "scattergeo"
           }
          ],
          "scattergl": [
           {
            "marker": {
             "colorbar": {
              "outlinewidth": 0,
              "ticks": ""
             }
            },
            "type": "scattergl"
           }
          ],
          "scattermapbox": [
           {
            "marker": {
             "colorbar": {
              "outlinewidth": 0,
              "ticks": ""
             }
            },
            "type": "scattermapbox"
           }
          ],
          "scatterpolar": [
           {
            "marker": {
             "colorbar": {
              "outlinewidth": 0,
              "ticks": ""
             }
            },
            "type": "scatterpolar"
           }
          ],
          "scatterpolargl": [
           {
            "marker": {
             "colorbar": {
              "outlinewidth": 0,
              "ticks": ""
             }
            },
            "type": "scatterpolargl"
           }
          ],
          "scatterternary": [
           {
            "marker": {
             "colorbar": {
              "outlinewidth": 0,
              "ticks": ""
             }
            },
            "type": "scatterternary"
           }
          ],
          "surface": [
           {
            "colorbar": {
             "outlinewidth": 0,
             "ticks": ""
            },
            "colorscale": [
             [
              0,
              "#0d0887"
             ],
             [
              0.1111111111111111,
              "#46039f"
             ],
             [
              0.2222222222222222,
              "#7201a8"
             ],
             [
              0.3333333333333333,
              "#9c179e"
             ],
             [
              0.4444444444444444,
              "#bd3786"
             ],
             [
              0.5555555555555556,
              "#d8576b"
             ],
             [
              0.6666666666666666,
              "#ed7953"
             ],
             [
              0.7777777777777778,
              "#fb9f3a"
             ],
             [
              0.8888888888888888,
              "#fdca26"
             ],
             [
              1,
              "#f0f921"
             ]
            ],
            "type": "surface"
           }
          ],
          "table": [
           {
            "cells": {
             "fill": {
              "color": "#EBF0F8"
             },
             "line": {
              "color": "white"
             }
            },
            "header": {
             "fill": {
              "color": "#C8D4E3"
             },
             "line": {
              "color": "white"
             }
            },
            "type": "table"
           }
          ]
         },
         "layout": {
          "annotationdefaults": {
           "arrowcolor": "#2a3f5f",
           "arrowhead": 0,
           "arrowwidth": 1
          },
          "autotypenumbers": "strict",
          "coloraxis": {
           "colorbar": {
            "outlinewidth": 0,
            "ticks": ""
           }
          },
          "colorscale": {
           "diverging": [
            [
             0,
             "#8e0152"
            ],
            [
             0.1,
             "#c51b7d"
            ],
            [
             0.2,
             "#de77ae"
            ],
            [
             0.3,
             "#f1b6da"
            ],
            [
             0.4,
             "#fde0ef"
            ],
            [
             0.5,
             "#f7f7f7"
            ],
            [
             0.6,
             "#e6f5d0"
            ],
            [
             0.7,
             "#b8e186"
            ],
            [
             0.8,
             "#7fbc41"
            ],
            [
             0.9,
             "#4d9221"
            ],
            [
             1,
             "#276419"
            ]
           ],
           "sequential": [
            [
             0,
             "#0d0887"
            ],
            [
             0.1111111111111111,
             "#46039f"
            ],
            [
             0.2222222222222222,
             "#7201a8"
            ],
            [
             0.3333333333333333,
             "#9c179e"
            ],
            [
             0.4444444444444444,
             "#bd3786"
            ],
            [
             0.5555555555555556,
             "#d8576b"
            ],
            [
             0.6666666666666666,
             "#ed7953"
            ],
            [
             0.7777777777777778,
             "#fb9f3a"
            ],
            [
             0.8888888888888888,
             "#fdca26"
            ],
            [
             1,
             "#f0f921"
            ]
           ],
           "sequentialminus": [
            [
             0,
             "#0d0887"
            ],
            [
             0.1111111111111111,
             "#46039f"
            ],
            [
             0.2222222222222222,
             "#7201a8"
            ],
            [
             0.3333333333333333,
             "#9c179e"
            ],
            [
             0.4444444444444444,
             "#bd3786"
            ],
            [
             0.5555555555555556,
             "#d8576b"
            ],
            [
             0.6666666666666666,
             "#ed7953"
            ],
            [
             0.7777777777777778,
             "#fb9f3a"
            ],
            [
             0.8888888888888888,
             "#fdca26"
            ],
            [
             1,
             "#f0f921"
            ]
           ]
          },
          "colorway": [
           "#636efa",
           "#EF553B",
           "#00cc96",
           "#ab63fa",
           "#FFA15A",
           "#19d3f3",
           "#FF6692",
           "#B6E880",
           "#FF97FF",
           "#FECB52"
          ],
          "font": {
           "color": "#2a3f5f"
          },
          "geo": {
           "bgcolor": "white",
           "lakecolor": "white",
           "landcolor": "#E5ECF6",
           "showlakes": true,
           "showland": true,
           "subunitcolor": "white"
          },
          "hoverlabel": {
           "align": "left"
          },
          "hovermode": "closest",
          "mapbox": {
           "style": "light"
          },
          "paper_bgcolor": "white",
          "plot_bgcolor": "#E5ECF6",
          "polar": {
           "angularaxis": {
            "gridcolor": "white",
            "linecolor": "white",
            "ticks": ""
           },
           "bgcolor": "#E5ECF6",
           "radialaxis": {
            "gridcolor": "white",
            "linecolor": "white",
            "ticks": ""
           }
          },
          "scene": {
           "xaxis": {
            "backgroundcolor": "#E5ECF6",
            "gridcolor": "white",
            "gridwidth": 2,
            "linecolor": "white",
            "showbackground": true,
            "ticks": "",
            "zerolinecolor": "white"
           },
           "yaxis": {
            "backgroundcolor": "#E5ECF6",
            "gridcolor": "white",
            "gridwidth": 2,
            "linecolor": "white",
            "showbackground": true,
            "ticks": "",
            "zerolinecolor": "white"
           },
           "zaxis": {
            "backgroundcolor": "#E5ECF6",
            "gridcolor": "white",
            "gridwidth": 2,
            "linecolor": "white",
            "showbackground": true,
            "ticks": "",
            "zerolinecolor": "white"
           }
          },
          "shapedefaults": {
           "line": {
            "color": "#2a3f5f"
           }
          },
          "ternary": {
           "aaxis": {
            "gridcolor": "white",
            "linecolor": "white",
            "ticks": ""
           },
           "baxis": {
            "gridcolor": "white",
            "linecolor": "white",
            "ticks": ""
           },
           "bgcolor": "#E5ECF6",
           "caxis": {
            "gridcolor": "white",
            "linecolor": "white",
            "ticks": ""
           }
          },
          "title": {
           "x": 0.05
          },
          "xaxis": {
           "automargin": true,
           "gridcolor": "white",
           "linecolor": "white",
           "ticks": "",
           "title": {
            "standoff": 15
           },
           "zerolinecolor": "white",
           "zerolinewidth": 2
          },
          "yaxis": {
           "automargin": true,
           "gridcolor": "white",
           "linecolor": "white",
           "ticks": "",
           "title": {
            "standoff": 15
           },
           "zerolinecolor": "white",
           "zerolinewidth": 2
          }
         }
        },
        "title": {
         "font": {
          "color": "Black",
          "size": 22
         },
         "text": "<b>Similarity Matrix</b>",
         "x": 0.55,
         "xanchor": "center",
         "y": 0.95,
         "yanchor": "top"
        },
        "width": 800,
        "xaxis": {
         "anchor": "y",
         "constrain": "domain",
         "domain": [
          0,
          1
         ],
         "scaleanchor": "y"
        },
        "yaxis": {
         "anchor": "x",
         "autorange": "reversed",
         "constrain": "domain",
         "domain": [
          0,
          1
         ]
        }
       }
      }
     },
     "metadata": {},
     "output_type": "display_data"
    }
   ],
   "source": [
    "model.visualize_heatmap()"
   ]
  },
  {
   "cell_type": "code",
   "execution_count": 17,
   "metadata": {},
   "outputs": [
    {
     "data": {
      "application/vnd.plotly.v1+json": {
       "config": {
        "plotlyServerURL": "https://plot.ly"
       },
       "data": [
        {
         "hoverinfo": "text",
         "hovertext": [
          "<b>Topic 0</b><br>Words: technology, of, teachers, the, and",
          "<b>Topic 0</b><br>Words: technology, teachers, of, and, use",
          "<b>Topic 0</b><br>Words: teachers, ict, technology, of, and",
          "<b>Topic 0</b><br>Words: technology, teachers, and, of, the",
          "<b>Topic 0</b><br>Words: teachers, tpack, technology, the, of",
          "<b>Topic 0</b><br>Words: teachers, call, technology, beliefs, of",
          "<b>Topic 0</b><br>Words: the, of, technology, technological, and",
          "<b>Topic 0</b><br>Words: technology, teachers, use, their, and",
          "<b>Topic 0</b><br>Words: technology, teachers, of, the, language",
          "<b>Topic 0</b><br>Words: technology, teachers, ict, the, of",
          "<b>Topic 0</b><br>Words: teachers, technology, tpack, of, the"
         ],
         "marker": {
          "color": "#E69F00"
         },
         "mode": "lines",
         "name": "0_technology_teachers_of_the",
         "type": "scatter",
         "x": [
          2012,
          2013,
          2014,
          2015,
          2016,
          2017,
          2018,
          2019,
          2020,
          2021,
          2022
         ],
         "y": [
          5,
          11,
          8,
          9,
          12,
          7,
          7,
          3,
          7,
          4,
          13
         ]
        },
        {
         "hoverinfo": "text",
         "hovertext": [
          "<b>Topic 1</b><br>Words: events, narratives, temporal, tense, written",
          "<b>Topic 1</b><br>Words: feedback, writing, clinic, the, grammar",
          "<b>Topic 1</b><br>Words: writing, feedback, the, in, awe",
          "<b>Topic 1</b><br>Words: writing, feedback, the, students, to",
          "<b>Topic 1</b><br>Words: writing, feedback, the, of, awe",
          "<b>Topic 1</b><br>Words: writing, the, and, of, feedback",
          "<b>Topic 1</b><br>Words: writing, feedback, the, students, in",
          "<b>Topic 1</b><br>Words: writing, feedback, the, academic, and",
          "<b>Topic 1</b><br>Words: writing, feedback, the, were, and",
          "<b>Topic 1</b><br>Words: writing, cf, the, feedback, comments",
          "<b>Topic 1</b><br>Words: writing, feedback, awe, the, and",
          "<b>Topic 1</b><br>Words: writing, feedback, the, olpr, dmc"
         ],
         "marker": {
          "color": "#56B4E9"
         },
         "mode": "lines",
         "name": "1_writing_feedback_the_and",
         "type": "scatter",
         "x": [
          2012,
          2013,
          2014,
          2015,
          2016,
          2017,
          2018,
          2019,
          2020,
          2021,
          2022,
          2023
         ],
         "y": [
          1,
          3,
          6,
          5,
          11,
          7,
          6,
          4,
          4,
          8,
          11,
          4
         ]
        },
        {
         "hoverinfo": "text",
         "hovertext": [
          "<b>Topic 3</b><br>Words: mobile, learning, mall, the, of",
          "<b>Topic 3</b><br>Words: mobile, mall, learning, the, of",
          "<b>Topic 3</b><br>Words: mall, mobile, the, of, application",
          "<b>Topic 3</b><br>Words: mobile, mall, the, studies, of",
          "<b>Topic 3</b><br>Words: mobile, learning, devices, use, the",
          "<b>Topic 3</b><br>Words: mobile, learning, and, smartphone, devices",
          "<b>Topic 3</b><br>Words: mobile, learning, and, the, of",
          "<b>Topic 3</b><br>Words: mobile, learning, the, of, to",
          "<b>Topic 3</b><br>Words: mobile, learning, mall, l2, the",
          "<b>Topic 3</b><br>Words: mobile, mall, learning, melr, of",
          "<b>Topic 3</b><br>Words: mobile, learning, the, and, app",
          "<b>Topic 3</b><br>Words: mobile, mall, the, duolingo, of"
         ],
         "marker": {
          "color": "#009E73"
         },
         "mode": "lines",
         "name": "3_mobile_learning_mall_the",
         "type": "scatter",
         "x": [
          2012,
          2013,
          2014,
          2015,
          2016,
          2017,
          2018,
          2019,
          2020,
          2021,
          2022,
          2023
         ],
         "y": [
          4,
          11,
          4,
          4,
          3,
          5,
          7,
          7,
          3,
          4,
          14,
          3
         ]
        },
        {
         "hoverinfo": "text",
         "hovertext": [
          "<b>Topic 4</b><br>Words: intercultural, and, the, project, of",
          "<b>Topic 4</b><br>Words: intercultural, culture, the, american, project",
          "<b>Topic 4</b><br>Words: intercultural, the, and, of, chinese",
          "<b>Topic 4</b><br>Words: telecollaboration, intercultural, and, the, of",
          "<b>Topic 4</b><br>Words: telecollaboration, project, the, intercultural, and",
          "<b>Topic 4</b><br>Words: intercultural, telecollaboration, and, the, of",
          "<b>Topic 4</b><br>Words: intercultural, telecollaboration, telecollaborative, icc, and",
          "<b>Topic 4</b><br>Words: intercultural, telecollaboration, and, the, in",
          "<b>Topic 4</b><br>Words: telecollaboration, and, intercultural, their, cultural",
          "<b>Topic 4</b><br>Words: intercultural, cultural, students, the, of",
          "<b>Topic 4</b><br>Words: the, of, telecollaboration, telecollaborative, and",
          "<b>Topic 4</b><br>Words: intercultural, telecollaboration, cultural, and, students"
         ],
         "marker": {
          "color": "#F0E442"
         },
         "mode": "lines",
         "name": "4_intercultural_telecollaboration_and_th...",
         "type": "scatter",
         "x": [
          2012,
          2013,
          2014,
          2015,
          2016,
          2017,
          2018,
          2019,
          2020,
          2021,
          2022,
          2023
         ],
         "y": [
          5,
          2,
          6,
          5,
          7,
          5,
          6,
          7,
          5,
          4,
          5,
          3
         ]
        },
        {
         "hoverinfo": "text",
         "hovertext": [
          "<b>Topic 5</b><br>Words: stance, corpus, the, authorial, examples",
          "<b>Topic 5</b><br>Words: corpus, linking, of, ddl, to",
          "<b>Topic 5</b><br>Words: corpus, the, corpora, ddl, to",
          "<b>Topic 5</b><br>Words: corpus, the, of, to, and",
          "<b>Topic 5</b><br>Words: corpus, ddl, the, collocation, of",
          "<b>Topic 5</b><br>Words: corpus, corpora, use, of, the",
          "<b>Topic 5</b><br>Words: errors, corpus, ddl, phrases, software",
          "<b>Topic 5</b><br>Words: corpus, ddl, query, of, the",
          "<b>Topic 5</b><br>Words: tool, collocation, with, questions, further",
          "<b>Topic 5</b><br>Words: corpus, collocation, corpora, of, the",
          "<b>Topic 5</b><br>Words: corpus, of, and, pedagogy, the",
          "<b>Topic 5</b><br>Words: corpus, search, corpora, acop, the"
         ],
         "marker": {
          "color": "#D55E00"
         },
         "mode": "lines",
         "name": "5_corpus_the_of_ddl",
         "type": "scatter",
         "x": [
          2012,
          2013,
          2014,
          2015,
          2016,
          2017,
          2018,
          2019,
          2020,
          2021,
          2022,
          2023
         ],
         "y": [
          2,
          4,
          9,
          6,
          9,
          8,
          2,
          3,
          1,
          6,
          3,
          3
         ]
        },
        {
         "hoverinfo": "text",
         "hovertext": [
          "<b>Topic 6</b><br>Words: asr, eor, pronunciation, articulatory, the",
          "<b>Topic 6</b><br>Words: indices, mispronunciations, speech, human, speaking",
          "<b>Topic 6</b><br>Words: pronunciation, tongue, production, acoustic, speech",
          "<b>Topic 6</b><br>Words: pronunciation, asr, recognition, the, of",
          "<b>Topic 6</b><br>Words: pronunciation, training, the, and, to",
          "<b>Topic 6</b><br>Words: wrs, pronunciation, the, cf, of",
          "<b>Topic 6</b><br>Words: perception, training, perceptual, pronunciation, to",
          "<b>Topic 6</b><br>Words: pronunciation, capt, the, to, software",
          "<b>Topic 6</b><br>Words: pronunciation, training, the, asr, to",
          "<b>Topic 6</b><br>Words: transcription, allophonic, midterm, ci, learners",
          "<b>Topic 6</b><br>Words: pronunciation, asr, the, and, of",
          "<b>Topic 6</b><br>Words: pronunciation, asr, the, speech, and"
         ],
         "marker": {
          "color": "#0072B2"
         },
         "mode": "lines",
         "name": "6_pronunciation_the_asr_of",
         "type": "scatter",
         "x": [
          2012,
          2013,
          2014,
          2015,
          2016,
          2017,
          2018,
          2019,
          2020,
          2021,
          2022,
          2023
         ],
         "y": [
          3,
          2,
          4,
          6,
          7,
          4,
          1,
          4,
          5,
          2,
          6,
          6
         ]
        },
        {
         "hoverinfo": "text",
         "hovertext": [
          "<b>Topic 7</b><br>Words: game, games, and, of, playing",
          "<b>Topic 7</b><br>Words: game, gaming, culture, games, playing",
          "<b>Topic 7</b><br>Words: game, games, gaming, and, in",
          "<b>Topic 7</b><br>Words: games, game, learning, words, gameplay",
          "<b>Topic 7</b><br>Words: game, games, that, activities, in",
          "<b>Topic 7</b><br>Words: game, gaming, games, language, the",
          "<b>Topic 7</b><br>Words: game, spaceteam, school, and, as",
          "<b>Topic 7</b><br>Words: vocabulary, game, l2, games, mevla",
          "<b>Topic 7</b><br>Words: game, gaming, games, dgbll, and",
          "<b>Topic 7</b><br>Words: game, flow, learning, lesl, gamification",
          "<b>Topic 7</b><br>Words: game, games, gamification, gamifying, the",
          "<b>Topic 7</b><br>Words: phrasal, game, verbs, negotiations, gaming"
         ],
         "marker": {
          "color": "#CC79A7"
         },
         "mode": "lines",
         "name": "7_game_games_gaming_and",
         "type": "scatter",
         "x": [
          2012,
          2013,
          2014,
          2015,
          2016,
          2017,
          2018,
          2019,
          2020,
          2021,
          2022,
          2023
         ],
         "y": [
          7,
          1,
          5,
          2,
          4,
          6,
          2,
          4,
          5,
          4,
          3,
          2
         ]
        },
        {
         "hoverinfo": "text",
         "hovertext": [
          "<b>Topic 8</b><br>Words: blended, to, the, online, face",
          "<b>Topic 8</b><br>Words: bl, blended, courses, dilemma, stakeholders",
          "<b>Topic 8</b><br>Words: blended, mooc, summary, online, the",
          "<b>Topic 8</b><br>Words: methodology, f2f, hybridized, instruction, online",
          "<b>Topic 8</b><br>Words: open, tell, learner, model, next",
          "<b>Topic 8</b><br>Words: of, data, learning, to, the",
          "<b>Topic 8</b><br>Words: online, course, learning, to, the",
          "<b>Topic 8</b><br>Words: f2f, learning, roles, blended, online",
          "<b>Topic 8</b><br>Words: blended, learning, the, students, and",
          "<b>Topic 8</b><br>Words: course, blended, lmoocs, online, of",
          "<b>Topic 8</b><br>Words: lmoocs, the, learning, blended, of",
          "<b>Topic 8</b><br>Words: lmoocs, and, course, the, blended"
         ],
         "marker": {
          "color": "#E69F00"
         },
         "mode": "lines",
         "name": "8_blended_online_the_learning",
         "type": "scatter",
         "x": [
          2012,
          2013,
          2014,
          2015,
          2016,
          2017,
          2018,
          2019,
          2020,
          2021,
          2022,
          2023
         ],
         "y": [
          6,
          1,
          3,
          2,
          1,
          2,
          8,
          1,
          3,
          8,
          5,
          3
         ]
        },
        {
         "hoverinfo": "text",
         "hovertext": [
          "<b>Topic 9</b><br>Words: collaborative, writing, wiki, web, and",
          "<b>Topic 9</b><br>Words: wiki, writing, collaborative, wikis, students",
          "<b>Topic 9</b><br>Words: collaborative, writing, wiki, the, wikis",
          "<b>Topic 9</b><br>Words: writing, advice, wikipedia, collaborative, the",
          "<b>Topic 9</b><br>Words: writing, collaborative, twp, wiki, in",
          "<b>Topic 9</b><br>Words: writing, wiki, collaborative, of, to",
          "<b>Topic 9</b><br>Words: writing, collaborative, wiki, individual, and",
          "<b>Topic 9</b><br>Words: collaborative, wiki, writing, self, circles",
          "<b>Topic 9</b><br>Words: writing, cw, web, group, collaborative",
          "<b>Topic 9</b><br>Words: writing, collaborative, wiki, regulation, students"
         ],
         "marker": {
          "color": "#56B4E9"
         },
         "mode": "lines",
         "name": "9_writing_collaborative_wiki_the",
         "type": "scatter",
         "x": [
          2012,
          2013,
          2014,
          2015,
          2016,
          2017,
          2018,
          2019,
          2021,
          2022
         ],
         "y": [
          3,
          5,
          4,
          3,
          4,
          4,
          2,
          3,
          2,
          4
         ]
        }
       ],
       "layout": {
        "height": 450,
        "hoverlabel": {
         "bgcolor": "white",
         "font": {
          "family": "Rockwell",
          "size": 16
         }
        },
        "legend": {
         "title": {
          "text": "<b>Global Topic Representation"
         }
        },
        "template": {
         "data": {
          "bar": [
           {
            "error_x": {
             "color": "rgb(36,36,36)"
            },
            "error_y": {
             "color": "rgb(36,36,36)"
            },
            "marker": {
             "line": {
              "color": "white",
              "width": 0.5
             },
             "pattern": {
              "fillmode": "overlay",
              "size": 10,
              "solidity": 0.2
             }
            },
            "type": "bar"
           }
          ],
          "barpolar": [
           {
            "marker": {
             "line": {
              "color": "white",
              "width": 0.5
             },
             "pattern": {
              "fillmode": "overlay",
              "size": 10,
              "solidity": 0.2
             }
            },
            "type": "barpolar"
           }
          ],
          "carpet": [
           {
            "aaxis": {
             "endlinecolor": "rgb(36,36,36)",
             "gridcolor": "white",
             "linecolor": "white",
             "minorgridcolor": "white",
             "startlinecolor": "rgb(36,36,36)"
            },
            "baxis": {
             "endlinecolor": "rgb(36,36,36)",
             "gridcolor": "white",
             "linecolor": "white",
             "minorgridcolor": "white",
             "startlinecolor": "rgb(36,36,36)"
            },
            "type": "carpet"
           }
          ],
          "choropleth": [
           {
            "colorbar": {
             "outlinewidth": 1,
             "tickcolor": "rgb(36,36,36)",
             "ticks": "outside"
            },
            "type": "choropleth"
           }
          ],
          "contour": [
           {
            "colorbar": {
             "outlinewidth": 1,
             "tickcolor": "rgb(36,36,36)",
             "ticks": "outside"
            },
            "colorscale": [
             [
              0,
              "#440154"
             ],
             [
              0.1111111111111111,
              "#482878"
             ],
             [
              0.2222222222222222,
              "#3e4989"
             ],
             [
              0.3333333333333333,
              "#31688e"
             ],
             [
              0.4444444444444444,
              "#26828e"
             ],
             [
              0.5555555555555556,
              "#1f9e89"
             ],
             [
              0.6666666666666666,
              "#35b779"
             ],
             [
              0.7777777777777778,
              "#6ece58"
             ],
             [
              0.8888888888888888,
              "#b5de2b"
             ],
             [
              1,
              "#fde725"
             ]
            ],
            "type": "contour"
           }
          ],
          "contourcarpet": [
           {
            "colorbar": {
             "outlinewidth": 1,
             "tickcolor": "rgb(36,36,36)",
             "ticks": "outside"
            },
            "type": "contourcarpet"
           }
          ],
          "heatmap": [
           {
            "colorbar": {
             "outlinewidth": 1,
             "tickcolor": "rgb(36,36,36)",
             "ticks": "outside"
            },
            "colorscale": [
             [
              0,
              "#440154"
             ],
             [
              0.1111111111111111,
              "#482878"
             ],
             [
              0.2222222222222222,
              "#3e4989"
             ],
             [
              0.3333333333333333,
              "#31688e"
             ],
             [
              0.4444444444444444,
              "#26828e"
             ],
             [
              0.5555555555555556,
              "#1f9e89"
             ],
             [
              0.6666666666666666,
              "#35b779"
             ],
             [
              0.7777777777777778,
              "#6ece58"
             ],
             [
              0.8888888888888888,
              "#b5de2b"
             ],
             [
              1,
              "#fde725"
             ]
            ],
            "type": "heatmap"
           }
          ],
          "heatmapgl": [
           {
            "colorbar": {
             "outlinewidth": 1,
             "tickcolor": "rgb(36,36,36)",
             "ticks": "outside"
            },
            "colorscale": [
             [
              0,
              "#440154"
             ],
             [
              0.1111111111111111,
              "#482878"
             ],
             [
              0.2222222222222222,
              "#3e4989"
             ],
             [
              0.3333333333333333,
              "#31688e"
             ],
             [
              0.4444444444444444,
              "#26828e"
             ],
             [
              0.5555555555555556,
              "#1f9e89"
             ],
             [
              0.6666666666666666,
              "#35b779"
             ],
             [
              0.7777777777777778,
              "#6ece58"
             ],
             [
              0.8888888888888888,
              "#b5de2b"
             ],
             [
              1,
              "#fde725"
             ]
            ],
            "type": "heatmapgl"
           }
          ],
          "histogram": [
           {
            "marker": {
             "line": {
              "color": "white",
              "width": 0.6
             }
            },
            "type": "histogram"
           }
          ],
          "histogram2d": [
           {
            "colorbar": {
             "outlinewidth": 1,
             "tickcolor": "rgb(36,36,36)",
             "ticks": "outside"
            },
            "colorscale": [
             [
              0,
              "#440154"
             ],
             [
              0.1111111111111111,
              "#482878"
             ],
             [
              0.2222222222222222,
              "#3e4989"
             ],
             [
              0.3333333333333333,
              "#31688e"
             ],
             [
              0.4444444444444444,
              "#26828e"
             ],
             [
              0.5555555555555556,
              "#1f9e89"
             ],
             [
              0.6666666666666666,
              "#35b779"
             ],
             [
              0.7777777777777778,
              "#6ece58"
             ],
             [
              0.8888888888888888,
              "#b5de2b"
             ],
             [
              1,
              "#fde725"
             ]
            ],
            "type": "histogram2d"
           }
          ],
          "histogram2dcontour": [
           {
            "colorbar": {
             "outlinewidth": 1,
             "tickcolor": "rgb(36,36,36)",
             "ticks": "outside"
            },
            "colorscale": [
             [
              0,
              "#440154"
             ],
             [
              0.1111111111111111,
              "#482878"
             ],
             [
              0.2222222222222222,
              "#3e4989"
             ],
             [
              0.3333333333333333,
              "#31688e"
             ],
             [
              0.4444444444444444,
              "#26828e"
             ],
             [
              0.5555555555555556,
              "#1f9e89"
             ],
             [
              0.6666666666666666,
              "#35b779"
             ],
             [
              0.7777777777777778,
              "#6ece58"
             ],
             [
              0.8888888888888888,
              "#b5de2b"
             ],
             [
              1,
              "#fde725"
             ]
            ],
            "type": "histogram2dcontour"
           }
          ],
          "mesh3d": [
           {
            "colorbar": {
             "outlinewidth": 1,
             "tickcolor": "rgb(36,36,36)",
             "ticks": "outside"
            },
            "type": "mesh3d"
           }
          ],
          "parcoords": [
           {
            "line": {
             "colorbar": {
              "outlinewidth": 1,
              "tickcolor": "rgb(36,36,36)",
              "ticks": "outside"
             }
            },
            "type": "parcoords"
           }
          ],
          "pie": [
           {
            "automargin": true,
            "type": "pie"
           }
          ],
          "scatter": [
           {
            "fillpattern": {
             "fillmode": "overlay",
             "size": 10,
             "solidity": 0.2
            },
            "type": "scatter"
           }
          ],
          "scatter3d": [
           {
            "line": {
             "colorbar": {
              "outlinewidth": 1,
              "tickcolor": "rgb(36,36,36)",
              "ticks": "outside"
             }
            },
            "marker": {
             "colorbar": {
              "outlinewidth": 1,
              "tickcolor": "rgb(36,36,36)",
              "ticks": "outside"
             }
            },
            "type": "scatter3d"
           }
          ],
          "scattercarpet": [
           {
            "marker": {
             "colorbar": {
              "outlinewidth": 1,
              "tickcolor": "rgb(36,36,36)",
              "ticks": "outside"
             }
            },
            "type": "scattercarpet"
           }
          ],
          "scattergeo": [
           {
            "marker": {
             "colorbar": {
              "outlinewidth": 1,
              "tickcolor": "rgb(36,36,36)",
              "ticks": "outside"
             }
            },
            "type": "scattergeo"
           }
          ],
          "scattergl": [
           {
            "marker": {
             "colorbar": {
              "outlinewidth": 1,
              "tickcolor": "rgb(36,36,36)",
              "ticks": "outside"
             }
            },
            "type": "scattergl"
           }
          ],
          "scattermapbox": [
           {
            "marker": {
             "colorbar": {
              "outlinewidth": 1,
              "tickcolor": "rgb(36,36,36)",
              "ticks": "outside"
             }
            },
            "type": "scattermapbox"
           }
          ],
          "scatterpolar": [
           {
            "marker": {
             "colorbar": {
              "outlinewidth": 1,
              "tickcolor": "rgb(36,36,36)",
              "ticks": "outside"
             }
            },
            "type": "scatterpolar"
           }
          ],
          "scatterpolargl": [
           {
            "marker": {
             "colorbar": {
              "outlinewidth": 1,
              "tickcolor": "rgb(36,36,36)",
              "ticks": "outside"
             }
            },
            "type": "scatterpolargl"
           }
          ],
          "scatterternary": [
           {
            "marker": {
             "colorbar": {
              "outlinewidth": 1,
              "tickcolor": "rgb(36,36,36)",
              "ticks": "outside"
             }
            },
            "type": "scatterternary"
           }
          ],
          "surface": [
           {
            "colorbar": {
             "outlinewidth": 1,
             "tickcolor": "rgb(36,36,36)",
             "ticks": "outside"
            },
            "colorscale": [
             [
              0,
              "#440154"
             ],
             [
              0.1111111111111111,
              "#482878"
             ],
             [
              0.2222222222222222,
              "#3e4989"
             ],
             [
              0.3333333333333333,
              "#31688e"
             ],
             [
              0.4444444444444444,
              "#26828e"
             ],
             [
              0.5555555555555556,
              "#1f9e89"
             ],
             [
              0.6666666666666666,
              "#35b779"
             ],
             [
              0.7777777777777778,
              "#6ece58"
             ],
             [
              0.8888888888888888,
              "#b5de2b"
             ],
             [
              1,
              "#fde725"
             ]
            ],
            "type": "surface"
           }
          ],
          "table": [
           {
            "cells": {
             "fill": {
              "color": "rgb(237,237,237)"
             },
             "line": {
              "color": "white"
             }
            },
            "header": {
             "fill": {
              "color": "rgb(217,217,217)"
             },
             "line": {
              "color": "white"
             }
            },
            "type": "table"
           }
          ]
         },
         "layout": {
          "annotationdefaults": {
           "arrowhead": 0,
           "arrowwidth": 1
          },
          "autotypenumbers": "strict",
          "coloraxis": {
           "colorbar": {
            "outlinewidth": 1,
            "tickcolor": "rgb(36,36,36)",
            "ticks": "outside"
           }
          },
          "colorscale": {
           "diverging": [
            [
             0,
             "rgb(103,0,31)"
            ],
            [
             0.1,
             "rgb(178,24,43)"
            ],
            [
             0.2,
             "rgb(214,96,77)"
            ],
            [
             0.3,
             "rgb(244,165,130)"
            ],
            [
             0.4,
             "rgb(253,219,199)"
            ],
            [
             0.5,
             "rgb(247,247,247)"
            ],
            [
             0.6,
             "rgb(209,229,240)"
            ],
            [
             0.7,
             "rgb(146,197,222)"
            ],
            [
             0.8,
             "rgb(67,147,195)"
            ],
            [
             0.9,
             "rgb(33,102,172)"
            ],
            [
             1,
             "rgb(5,48,97)"
            ]
           ],
           "sequential": [
            [
             0,
             "#440154"
            ],
            [
             0.1111111111111111,
             "#482878"
            ],
            [
             0.2222222222222222,
             "#3e4989"
            ],
            [
             0.3333333333333333,
             "#31688e"
            ],
            [
             0.4444444444444444,
             "#26828e"
            ],
            [
             0.5555555555555556,
             "#1f9e89"
            ],
            [
             0.6666666666666666,
             "#35b779"
            ],
            [
             0.7777777777777778,
             "#6ece58"
            ],
            [
             0.8888888888888888,
             "#b5de2b"
            ],
            [
             1,
             "#fde725"
            ]
           ],
           "sequentialminus": [
            [
             0,
             "#440154"
            ],
            [
             0.1111111111111111,
             "#482878"
            ],
            [
             0.2222222222222222,
             "#3e4989"
            ],
            [
             0.3333333333333333,
             "#31688e"
            ],
            [
             0.4444444444444444,
             "#26828e"
            ],
            [
             0.5555555555555556,
             "#1f9e89"
            ],
            [
             0.6666666666666666,
             "#35b779"
            ],
            [
             0.7777777777777778,
             "#6ece58"
            ],
            [
             0.8888888888888888,
             "#b5de2b"
            ],
            [
             1,
             "#fde725"
            ]
           ]
          },
          "colorway": [
           "#1F77B4",
           "#FF7F0E",
           "#2CA02C",
           "#D62728",
           "#9467BD",
           "#8C564B",
           "#E377C2",
           "#7F7F7F",
           "#BCBD22",
           "#17BECF"
          ],
          "font": {
           "color": "rgb(36,36,36)"
          },
          "geo": {
           "bgcolor": "white",
           "lakecolor": "white",
           "landcolor": "white",
           "showlakes": true,
           "showland": true,
           "subunitcolor": "white"
          },
          "hoverlabel": {
           "align": "left"
          },
          "hovermode": "closest",
          "mapbox": {
           "style": "light"
          },
          "paper_bgcolor": "white",
          "plot_bgcolor": "white",
          "polar": {
           "angularaxis": {
            "gridcolor": "rgb(232,232,232)",
            "linecolor": "rgb(36,36,36)",
            "showgrid": false,
            "showline": true,
            "ticks": "outside"
           },
           "bgcolor": "white",
           "radialaxis": {
            "gridcolor": "rgb(232,232,232)",
            "linecolor": "rgb(36,36,36)",
            "showgrid": false,
            "showline": true,
            "ticks": "outside"
           }
          },
          "scene": {
           "xaxis": {
            "backgroundcolor": "white",
            "gridcolor": "rgb(232,232,232)",
            "gridwidth": 2,
            "linecolor": "rgb(36,36,36)",
            "showbackground": true,
            "showgrid": false,
            "showline": true,
            "ticks": "outside",
            "zeroline": false,
            "zerolinecolor": "rgb(36,36,36)"
           },
           "yaxis": {
            "backgroundcolor": "white",
            "gridcolor": "rgb(232,232,232)",
            "gridwidth": 2,
            "linecolor": "rgb(36,36,36)",
            "showbackground": true,
            "showgrid": false,
            "showline": true,
            "ticks": "outside",
            "zeroline": false,
            "zerolinecolor": "rgb(36,36,36)"
           },
           "zaxis": {
            "backgroundcolor": "white",
            "gridcolor": "rgb(232,232,232)",
            "gridwidth": 2,
            "linecolor": "rgb(36,36,36)",
            "showbackground": true,
            "showgrid": false,
            "showline": true,
            "ticks": "outside",
            "zeroline": false,
            "zerolinecolor": "rgb(36,36,36)"
           }
          },
          "shapedefaults": {
           "fillcolor": "black",
           "line": {
            "width": 0
           },
           "opacity": 0.3
          },
          "ternary": {
           "aaxis": {
            "gridcolor": "rgb(232,232,232)",
            "linecolor": "rgb(36,36,36)",
            "showgrid": false,
            "showline": true,
            "ticks": "outside"
           },
           "baxis": {
            "gridcolor": "rgb(232,232,232)",
            "linecolor": "rgb(36,36,36)",
            "showgrid": false,
            "showline": true,
            "ticks": "outside"
           },
           "bgcolor": "white",
           "caxis": {
            "gridcolor": "rgb(232,232,232)",
            "linecolor": "rgb(36,36,36)",
            "showgrid": false,
            "showline": true,
            "ticks": "outside"
           }
          },
          "title": {
           "x": 0.05
          },
          "xaxis": {
           "automargin": true,
           "gridcolor": "rgb(232,232,232)",
           "linecolor": "rgb(36,36,36)",
           "showgrid": false,
           "showline": true,
           "ticks": "outside",
           "title": {
            "standoff": 15
           },
           "zeroline": false,
           "zerolinecolor": "rgb(36,36,36)"
          },
          "yaxis": {
           "automargin": true,
           "gridcolor": "rgb(232,232,232)",
           "linecolor": "rgb(36,36,36)",
           "showgrid": false,
           "showline": true,
           "ticks": "outside",
           "title": {
            "standoff": 15
           },
           "zeroline": false,
           "zerolinecolor": "rgb(36,36,36)"
          }
         }
        },
        "title": {
         "font": {
          "color": "Black",
          "size": 22
         },
         "text": "<b>Topics over Time</b>",
         "x": 0.4,
         "xanchor": "center",
         "y": 0.95,
         "yanchor": "top"
        },
        "width": 1250,
        "xaxis": {
         "showgrid": true
        },
        "yaxis": {
         "showgrid": true,
         "title": {
          "text": "Frequency"
         }
        }
       }
      }
     },
     "metadata": {},
     "output_type": "display_data"
    }
   ],
   "source": [
    "model.visualize_topics_over_time(topics_over_time, topics=[0, 1, 3, 4, 5, 6, 7, 8, 9])\n",
    "#can innclude topics changing topics_over_time TO topics_over_time, topics=[x, y, z, etc.]"
   ]
  },
  {
   "cell_type": "code",
   "execution_count": 18,
   "metadata": {},
   "outputs": [
    {
     "data": {
      "application/vnd.plotly.v1+json": {
       "config": {
        "plotlyServerURL": "https://plot.ly"
       },
       "data": [
        {
         "hoverinfo": "text",
         "hovertext": [
          "<b>Topic 10</b><br>Words: virtual, life, the, of, interaction",
          "<b>Topic 10</b><br>Words: synthetic, communication, worlds, acts, nonverbal",
          "<b>Topic 10</b><br>Words: virtual, learning, 3d, the, vr",
          "<b>Topic 10</b><br>Words: virtual, learning, in, the, language",
          "<b>Topic 10</b><br>Words: virtual, 3d, method, the, of",
          "<b>Topic 10</b><br>Words: vr, ar, the, learning, of",
          "<b>Topic 10</b><br>Words: vr, reality, the, and, virtual",
          "<b>Topic 10</b><br>Words: vr, virtual, the, learning, immersive",
          "<b>Topic 10</b><br>Words: vr, virtual, reality, the, and"
         ],
         "marker": {
          "color": "#E69F00"
         },
         "mode": "lines",
         "name": "10_vr_virtual_the_and",
         "type": "scatter",
         "x": [
          2012,
          2013,
          2015,
          2016,
          2018,
          2020,
          2021,
          2022,
          2023
         ],
         "y": [
          2,
          1,
          3,
          3,
          3,
          4,
          5,
          4,
          8
         ]
        },
        {
         "hoverinfo": "text",
         "hovertext": [
          "<b>Topic 11</b><br>Words: and, online, the, tutors, of",
          "<b>Topic 11</b><br>Words: online, training, the, and, of",
          "<b>Topic 11</b><br>Words: online, and, for, of, oer",
          "<b>Topic 11</b><br>Words: online, to, project, face, cmc",
          "<b>Topic 11</b><br>Words: cl, online, tblt, for, lloret",
          "<b>Topic 11</b><br>Words: the, and, in, online, language",
          "<b>Topic 11</b><br>Words: vision, online, professional, themselves, language",
          "<b>Topic 11</b><br>Words: we, in, pandemic, language, to",
          "<b>Topic 11</b><br>Words: online, classrooms, virtual, and, teachers",
          "<b>Topic 11</b><br>Words: fitness, caull, for, pe, efp"
         ],
         "marker": {
          "color": "#56B4E9"
         },
         "mode": "lines",
         "name": "11_online_and_the_for",
         "type": "scatter",
         "x": [
          2012,
          2013,
          2014,
          2016,
          2017,
          2018,
          2020,
          2021,
          2022,
          2023
         ],
         "y": [
          9,
          5,
          3,
          3,
          2,
          3,
          1,
          1,
          4,
          1
         ]
        },
        {
         "hoverinfo": "text",
         "hovertext": [
          "<b>Topic 12</b><br>Words: test, listening, quot, assessment, to",
          "<b>Topic 12</b><br>Words: help, performance, assessment, listening, options",
          "<b>Topic 12</b><br>Words: listening, comprehension, of, noticing, options",
          "<b>Topic 12</b><br>Words: prototypes, help, design, options, listening",
          "<b>Topic 12</b><br>Words: preview, test, listening, item, choice",
          "<b>Topic 12</b><br>Words: listening, the, test, placement, item",
          "<b>Topic 12</b><br>Words: listening, metacognitive, test, the, takers",
          "<b>Topic 12</b><br>Words: mediations, test, da, unproctored, to",
          "<b>Topic 12</b><br>Words: listening, hearing, options, item, test",
          "<b>Topic 12</b><br>Words: listening, test, da, dynamic, assessment",
          "<b>Topic 12</b><br>Words: test, listening, takers, across, dif"
         ],
         "marker": {
          "color": "#009E73"
         },
         "mode": "lines",
         "name": "12_listening_test_the_of",
         "type": "scatter",
         "x": [
          2012,
          2013,
          2014,
          2015,
          2016,
          2017,
          2018,
          2019,
          2020,
          2021,
          2022
         ],
         "y": [
          3,
          3,
          3,
          1,
          1,
          4,
          3,
          2,
          2,
          4,
          3
         ]
        },
        {
         "hoverinfo": "text",
         "hovertext": [
          "<b>Topic 13</b><br>Words: storytelling, digital, case, shift, the",
          "<b>Topic 13</b><br>Words: storytelling, digital, malaysian, instructors, the",
          "<b>Topic 13</b><br>Words: narratives, 3d, dgbll, environment, story",
          "<b>Topic 13</b><br>Words: storytelling, speaking, digital, and, the",
          "<b>Topic 13</b><br>Words: fan, practices, media, online, found",
          "<b>Topic 13</b><br>Words: digital, storytelling, fan, fanfiction, and",
          "<b>Topic 13</b><br>Words: graphic, digital, readings, creative, writing",
          "<b>Topic 13</b><br>Words: digital, storytelling, and, the, of",
          "<b>Topic 13</b><br>Words: dst, digital, stories, the, storytelling",
          "<b>Topic 13</b><br>Words: digital, hyperlinks, narrative, game, quartile"
         ],
         "marker": {
          "color": "#F0E442"
         },
         "mode": "lines",
         "name": "13_digital_storytelling_the_and",
         "type": "scatter",
         "x": [
          2013,
          2014,
          2015,
          2016,
          2017,
          2019,
          2020,
          2021,
          2022,
          2023
         ],
         "y": [
          1,
          1,
          1,
          4,
          1,
          6,
          1,
          6,
          2,
          2
         ]
        },
        {
         "hoverinfo": "text",
         "hovertext": [
          "<b>Topic 14</b><br>Words: language, in, of, and, learning",
          "<b>Topic 14</b><br>Words: l2, discussions, informal, nonanonymous, in",
          "<b>Topic 14</b><br>Words: networking, sites, social, ning, oers",
          "<b>Topic 14</b><br>Words: and, snsll, to, in, sites",
          "<b>Topic 14</b><br>Words: webquests, processes, and, language, llsnss",
          "<b>Topic 14</b><br>Words: oile, sockett, participation, kusyk, habits",
          "<b>Topic 14</b><br>Words: online, participation, sp, language, of",
          "<b>Topic 14</b><br>Words: language, ideologies, disseminated, blogosphere, learning",
          "<b>Topic 14</b><br>Words: online, vcops, and, communities, to",
          "<b>Topic 14</b><br>Words: social, platform, media, engagement, of"
         ],
         "marker": {
          "color": "#D55E00"
         },
         "mode": "lines",
         "name": "14_and_in_language_social",
         "type": "scatter",
         "x": [
          2012,
          2013,
          2014,
          2015,
          2016,
          2017,
          2018,
          2019,
          2020,
          2022
         ],
         "y": [
          4,
          3,
          1,
          3,
          2,
          1,
          3,
          1,
          3,
          4
         ]
        },
        {
         "hoverinfo": "text",
         "hovertext": [
          "<b>Topic 15</b><br>Words: video, videoconferencing, interaction, how, in",
          "<b>Topic 15</b><br>Words: multimodal, dvc, webcam, gaze, contact",
          "<b>Topic 15</b><br>Words: presence, multimodal, the, social, online",
          "<b>Topic 15</b><br>Words: webcams, webcam, trainee, multimodal, the",
          "<b>Topic 15</b><br>Words: multimodal, online, and, in, of",
          "<b>Topic 15</b><br>Words: their, multimodal, multiliteracies, video, for",
          "<b>Topic 15</b><br>Words: videoconferencing, instagram, presence, social, audioconferencing",
          "<b>Topic 15</b><br>Words: quot, screen, semiotic, responders, initiators",
          "<b>Topic 15</b><br>Words: actions, online, giving, level, higher",
          "<b>Topic 15</b><br>Words: video, of, in, presence, and",
          "<b>Topic 15</b><br>Words: eye, movements, environment, learners, nedbox"
         ],
         "marker": {
          "color": "#0072B2"
         },
         "mode": "lines",
         "name": "15_multimodal_of_the_and",
         "type": "scatter",
         "x": [
          2012,
          2013,
          2015,
          2016,
          2017,
          2018,
          2019,
          2020,
          2021,
          2022,
          2023
         ],
         "y": [
          2,
          2,
          3,
          4,
          3,
          1,
          2,
          1,
          1,
          4,
          1
         ]
        },
        {
         "hoverinfo": "text",
         "hovertext": [
          "<b>Topic 16</b><br>Words: captions, english, multimedia, proficiency, comprehension",
          "<b>Topic 16</b><br>Words: captions, reliance, caption, captioning, comprehension",
          "<b>Topic 16</b><br>Words: captions, captioning, comprehension, keyword, listening",
          "<b>Topic 16</b><br>Words: captions, caption, words, excluded, filtering",
          "<b>Topic 16</b><br>Words: captions, comprehension, captioning, episodes, listening",
          "<b>Topic 16</b><br>Words: captioning, captions, keyword, videos, learners",
          "<b>Topic 16</b><br>Words: captions, comprehension, videos, captioned, caption",
          "<b>Topic 16</b><br>Words: caption, captions, listening, full, video",
          "<b>Topic 16</b><br>Words: captions, comprehension, vlogs, vlog, pictorial",
          "<b>Topic 16</b><br>Words: captions, caption, full, keyword, proficient",
          "<b>Topic 16</b><br>Words: captions, comprehension, viewing, nonverbal, full"
         ],
         "marker": {
          "color": "#CC79A7"
         },
         "mode": "lines",
         "name": "16_captions_comprehension_captioning_cap...",
         "type": "scatter",
         "x": [
          2012,
          2013,
          2014,
          2015,
          2017,
          2018,
          2019,
          2020,
          2021,
          2022,
          2023
         ],
         "y": [
          1,
          1,
          6,
          1,
          2,
          2,
          3,
          2,
          1,
          3,
          1
         ]
        },
        {
         "hoverinfo": "text",
         "hovertext": [
          "<b>Topic 17</b><br>Words: vocabulary, lectures, ocw, comprehension, knowledge",
          "<b>Topic 17</b><br>Words: vocabulary, ocw, si, lectures, acquisition",
          "<b>Topic 17</b><br>Words: multimedia, vocabulary, display, information, simultaneous",
          "<b>Topic 17</b><br>Words: vocabulary, of, the, l2, ata",
          "<b>Topic 17</b><br>Words: intervention, vocabulary, ells, ddl, academic",
          "<b>Topic 17</b><br>Words: vocabulary, tmvd, glosses, of, recall",
          "<b>Topic 17</b><br>Words: vocabulary, glossing, academic, intervention, learning",
          "<b>Topic 17</b><br>Words: pictures, meaning, drawings, illustrations, retention",
          "<b>Topic 17</b><br>Words: vocabulary, quizlet, dfs, estimates, academic",
          "<b>Topic 17</b><br>Words: vocabulary, ells, interventions, intervention, initial"
         ],
         "marker": {
          "color": "#E69F00"
         },
         "mode": "lines",
         "name": "17_vocabulary_of_the_and",
         "type": "scatter",
         "x": [
          2012,
          2013,
          2014,
          2016,
          2017,
          2018,
          2019,
          2021,
          2022,
          2023
         ],
         "y": [
          2,
          2,
          1,
          5,
          2,
          2,
          3,
          1,
          3,
          1
         ]
        },
        {
         "hoverinfo": "text",
         "hovertext": [
          "<b>Topic 18</b><br>Words: washback, assessments, portfolio, flipped, negative",
          "<b>Topic 18</b><br>Words: flip, structured, lessons, flipped, semi",
          "<b>Topic 18</b><br>Words: flipped, learning, the, srs, and",
          "<b>Topic 18</b><br>Words: flipped, in, class, learning, the",
          "<b>Topic 18</b><br>Words: flipped, telegram, the, parametric, class",
          "<b>Topic 18</b><br>Words: flipped, classroom, in, the, writing",
          "<b>Topic 18</b><br>Words: flipped, the, learner, reversal, and",
          "<b>Topic 18</b><br>Words: flipped, the, classroom, model, and"
         ],
         "marker": {
          "color": "#56B4E9"
         },
         "mode": "lines",
         "name": "18_flipped_the_classroom_in",
         "type": "scatter",
         "x": [
          2012,
          2015,
          2017,
          2018,
          2019,
          2020,
          2021,
          2022
         ],
         "y": [
          1,
          1,
          3,
          3,
          1,
          4,
          3,
          5
         ]
        },
        {
         "hoverinfo": "text",
         "hovertext": [
          "<b>Topic 19</b><br>Words: reading, screen, texts, students, as",
          "<b>Topic 19</b><br>Words: reading, students, the, efl, strategy",
          "<b>Topic 19</b><br>Words: reading, strategy, comprehension, readers, online",
          "<b>Topic 19</b><br>Words: reading, proficient, comprehension, students, annotations",
          "<b>Topic 19</b><br>Words: reading, books, multisensory, extensive, the",
          "<b>Topic 19</b><br>Words: reading, annotations, progress, rt, their",
          "<b>Topic 19</b><br>Words: digital, reading, textbook, textbooks, aloud",
          "<b>Topic 19</b><br>Words: reading, srs, utilization, efl, classroom",
          "<b>Topic 19</b><br>Words: reading, comprehension, exposure, size, online",
          "<b>Topic 19</b><br>Words: reading, mobile, efl, students, comprehension"
         ],
         "marker": {
          "color": "#009E73"
         },
         "mode": "lines",
         "name": "19_reading_students_comprehension_the",
         "type": "scatter",
         "x": [
          2012,
          2013,
          2014,
          2015,
          2016,
          2017,
          2018,
          2019,
          2020,
          2022
         ],
         "y": [
          1,
          4,
          2,
          3,
          4,
          1,
          1,
          1,
          1,
          2
         ]
        }
       ],
       "layout": {
        "height": 450,
        "hoverlabel": {
         "bgcolor": "white",
         "font": {
          "family": "Rockwell",
          "size": 16
         }
        },
        "legend": {
         "title": {
          "text": "<b>Global Topic Representation"
         }
        },
        "template": {
         "data": {
          "bar": [
           {
            "error_x": {
             "color": "rgb(36,36,36)"
            },
            "error_y": {
             "color": "rgb(36,36,36)"
            },
            "marker": {
             "line": {
              "color": "white",
              "width": 0.5
             },
             "pattern": {
              "fillmode": "overlay",
              "size": 10,
              "solidity": 0.2
             }
            },
            "type": "bar"
           }
          ],
          "barpolar": [
           {
            "marker": {
             "line": {
              "color": "white",
              "width": 0.5
             },
             "pattern": {
              "fillmode": "overlay",
              "size": 10,
              "solidity": 0.2
             }
            },
            "type": "barpolar"
           }
          ],
          "carpet": [
           {
            "aaxis": {
             "endlinecolor": "rgb(36,36,36)",
             "gridcolor": "white",
             "linecolor": "white",
             "minorgridcolor": "white",
             "startlinecolor": "rgb(36,36,36)"
            },
            "baxis": {
             "endlinecolor": "rgb(36,36,36)",
             "gridcolor": "white",
             "linecolor": "white",
             "minorgridcolor": "white",
             "startlinecolor": "rgb(36,36,36)"
            },
            "type": "carpet"
           }
          ],
          "choropleth": [
           {
            "colorbar": {
             "outlinewidth": 1,
             "tickcolor": "rgb(36,36,36)",
             "ticks": "outside"
            },
            "type": "choropleth"
           }
          ],
          "contour": [
           {
            "colorbar": {
             "outlinewidth": 1,
             "tickcolor": "rgb(36,36,36)",
             "ticks": "outside"
            },
            "colorscale": [
             [
              0,
              "#440154"
             ],
             [
              0.1111111111111111,
              "#482878"
             ],
             [
              0.2222222222222222,
              "#3e4989"
             ],
             [
              0.3333333333333333,
              "#31688e"
             ],
             [
              0.4444444444444444,
              "#26828e"
             ],
             [
              0.5555555555555556,
              "#1f9e89"
             ],
             [
              0.6666666666666666,
              "#35b779"
             ],
             [
              0.7777777777777778,
              "#6ece58"
             ],
             [
              0.8888888888888888,
              "#b5de2b"
             ],
             [
              1,
              "#fde725"
             ]
            ],
            "type": "contour"
           }
          ],
          "contourcarpet": [
           {
            "colorbar": {
             "outlinewidth": 1,
             "tickcolor": "rgb(36,36,36)",
             "ticks": "outside"
            },
            "type": "contourcarpet"
           }
          ],
          "heatmap": [
           {
            "colorbar": {
             "outlinewidth": 1,
             "tickcolor": "rgb(36,36,36)",
             "ticks": "outside"
            },
            "colorscale": [
             [
              0,
              "#440154"
             ],
             [
              0.1111111111111111,
              "#482878"
             ],
             [
              0.2222222222222222,
              "#3e4989"
             ],
             [
              0.3333333333333333,
              "#31688e"
             ],
             [
              0.4444444444444444,
              "#26828e"
             ],
             [
              0.5555555555555556,
              "#1f9e89"
             ],
             [
              0.6666666666666666,
              "#35b779"
             ],
             [
              0.7777777777777778,
              "#6ece58"
             ],
             [
              0.8888888888888888,
              "#b5de2b"
             ],
             [
              1,
              "#fde725"
             ]
            ],
            "type": "heatmap"
           }
          ],
          "heatmapgl": [
           {
            "colorbar": {
             "outlinewidth": 1,
             "tickcolor": "rgb(36,36,36)",
             "ticks": "outside"
            },
            "colorscale": [
             [
              0,
              "#440154"
             ],
             [
              0.1111111111111111,
              "#482878"
             ],
             [
              0.2222222222222222,
              "#3e4989"
             ],
             [
              0.3333333333333333,
              "#31688e"
             ],
             [
              0.4444444444444444,
              "#26828e"
             ],
             [
              0.5555555555555556,
              "#1f9e89"
             ],
             [
              0.6666666666666666,
              "#35b779"
             ],
             [
              0.7777777777777778,
              "#6ece58"
             ],
             [
              0.8888888888888888,
              "#b5de2b"
             ],
             [
              1,
              "#fde725"
             ]
            ],
            "type": "heatmapgl"
           }
          ],
          "histogram": [
           {
            "marker": {
             "line": {
              "color": "white",
              "width": 0.6
             }
            },
            "type": "histogram"
           }
          ],
          "histogram2d": [
           {
            "colorbar": {
             "outlinewidth": 1,
             "tickcolor": "rgb(36,36,36)",
             "ticks": "outside"
            },
            "colorscale": [
             [
              0,
              "#440154"
             ],
             [
              0.1111111111111111,
              "#482878"
             ],
             [
              0.2222222222222222,
              "#3e4989"
             ],
             [
              0.3333333333333333,
              "#31688e"
             ],
             [
              0.4444444444444444,
              "#26828e"
             ],
             [
              0.5555555555555556,
              "#1f9e89"
             ],
             [
              0.6666666666666666,
              "#35b779"
             ],
             [
              0.7777777777777778,
              "#6ece58"
             ],
             [
              0.8888888888888888,
              "#b5de2b"
             ],
             [
              1,
              "#fde725"
             ]
            ],
            "type": "histogram2d"
           }
          ],
          "histogram2dcontour": [
           {
            "colorbar": {
             "outlinewidth": 1,
             "tickcolor": "rgb(36,36,36)",
             "ticks": "outside"
            },
            "colorscale": [
             [
              0,
              "#440154"
             ],
             [
              0.1111111111111111,
              "#482878"
             ],
             [
              0.2222222222222222,
              "#3e4989"
             ],
             [
              0.3333333333333333,
              "#31688e"
             ],
             [
              0.4444444444444444,
              "#26828e"
             ],
             [
              0.5555555555555556,
              "#1f9e89"
             ],
             [
              0.6666666666666666,
              "#35b779"
             ],
             [
              0.7777777777777778,
              "#6ece58"
             ],
             [
              0.8888888888888888,
              "#b5de2b"
             ],
             [
              1,
              "#fde725"
             ]
            ],
            "type": "histogram2dcontour"
           }
          ],
          "mesh3d": [
           {
            "colorbar": {
             "outlinewidth": 1,
             "tickcolor": "rgb(36,36,36)",
             "ticks": "outside"
            },
            "type": "mesh3d"
           }
          ],
          "parcoords": [
           {
            "line": {
             "colorbar": {
              "outlinewidth": 1,
              "tickcolor": "rgb(36,36,36)",
              "ticks": "outside"
             }
            },
            "type": "parcoords"
           }
          ],
          "pie": [
           {
            "automargin": true,
            "type": "pie"
           }
          ],
          "scatter": [
           {
            "fillpattern": {
             "fillmode": "overlay",
             "size": 10,
             "solidity": 0.2
            },
            "type": "scatter"
           }
          ],
          "scatter3d": [
           {
            "line": {
             "colorbar": {
              "outlinewidth": 1,
              "tickcolor": "rgb(36,36,36)",
              "ticks": "outside"
             }
            },
            "marker": {
             "colorbar": {
              "outlinewidth": 1,
              "tickcolor": "rgb(36,36,36)",
              "ticks": "outside"
             }
            },
            "type": "scatter3d"
           }
          ],
          "scattercarpet": [
           {
            "marker": {
             "colorbar": {
              "outlinewidth": 1,
              "tickcolor": "rgb(36,36,36)",
              "ticks": "outside"
             }
            },
            "type": "scattercarpet"
           }
          ],
          "scattergeo": [
           {
            "marker": {
             "colorbar": {
              "outlinewidth": 1,
              "tickcolor": "rgb(36,36,36)",
              "ticks": "outside"
             }
            },
            "type": "scattergeo"
           }
          ],
          "scattergl": [
           {
            "marker": {
             "colorbar": {
              "outlinewidth": 1,
              "tickcolor": "rgb(36,36,36)",
              "ticks": "outside"
             }
            },
            "type": "scattergl"
           }
          ],
          "scattermapbox": [
           {
            "marker": {
             "colorbar": {
              "outlinewidth": 1,
              "tickcolor": "rgb(36,36,36)",
              "ticks": "outside"
             }
            },
            "type": "scattermapbox"
           }
          ],
          "scatterpolar": [
           {
            "marker": {
             "colorbar": {
              "outlinewidth": 1,
              "tickcolor": "rgb(36,36,36)",
              "ticks": "outside"
             }
            },
            "type": "scatterpolar"
           }
          ],
          "scatterpolargl": [
           {
            "marker": {
             "colorbar": {
              "outlinewidth": 1,
              "tickcolor": "rgb(36,36,36)",
              "ticks": "outside"
             }
            },
            "type": "scatterpolargl"
           }
          ],
          "scatterternary": [
           {
            "marker": {
             "colorbar": {
              "outlinewidth": 1,
              "tickcolor": "rgb(36,36,36)",
              "ticks": "outside"
             }
            },
            "type": "scatterternary"
           }
          ],
          "surface": [
           {
            "colorbar": {
             "outlinewidth": 1,
             "tickcolor": "rgb(36,36,36)",
             "ticks": "outside"
            },
            "colorscale": [
             [
              0,
              "#440154"
             ],
             [
              0.1111111111111111,
              "#482878"
             ],
             [
              0.2222222222222222,
              "#3e4989"
             ],
             [
              0.3333333333333333,
              "#31688e"
             ],
             [
              0.4444444444444444,
              "#26828e"
             ],
             [
              0.5555555555555556,
              "#1f9e89"
             ],
             [
              0.6666666666666666,
              "#35b779"
             ],
             [
              0.7777777777777778,
              "#6ece58"
             ],
             [
              0.8888888888888888,
              "#b5de2b"
             ],
             [
              1,
              "#fde725"
             ]
            ],
            "type": "surface"
           }
          ],
          "table": [
           {
            "cells": {
             "fill": {
              "color": "rgb(237,237,237)"
             },
             "line": {
              "color": "white"
             }
            },
            "header": {
             "fill": {
              "color": "rgb(217,217,217)"
             },
             "line": {
              "color": "white"
             }
            },
            "type": "table"
           }
          ]
         },
         "layout": {
          "annotationdefaults": {
           "arrowhead": 0,
           "arrowwidth": 1
          },
          "autotypenumbers": "strict",
          "coloraxis": {
           "colorbar": {
            "outlinewidth": 1,
            "tickcolor": "rgb(36,36,36)",
            "ticks": "outside"
           }
          },
          "colorscale": {
           "diverging": [
            [
             0,
             "rgb(103,0,31)"
            ],
            [
             0.1,
             "rgb(178,24,43)"
            ],
            [
             0.2,
             "rgb(214,96,77)"
            ],
            [
             0.3,
             "rgb(244,165,130)"
            ],
            [
             0.4,
             "rgb(253,219,199)"
            ],
            [
             0.5,
             "rgb(247,247,247)"
            ],
            [
             0.6,
             "rgb(209,229,240)"
            ],
            [
             0.7,
             "rgb(146,197,222)"
            ],
            [
             0.8,
             "rgb(67,147,195)"
            ],
            [
             0.9,
             "rgb(33,102,172)"
            ],
            [
             1,
             "rgb(5,48,97)"
            ]
           ],
           "sequential": [
            [
             0,
             "#440154"
            ],
            [
             0.1111111111111111,
             "#482878"
            ],
            [
             0.2222222222222222,
             "#3e4989"
            ],
            [
             0.3333333333333333,
             "#31688e"
            ],
            [
             0.4444444444444444,
             "#26828e"
            ],
            [
             0.5555555555555556,
             "#1f9e89"
            ],
            [
             0.6666666666666666,
             "#35b779"
            ],
            [
             0.7777777777777778,
             "#6ece58"
            ],
            [
             0.8888888888888888,
             "#b5de2b"
            ],
            [
             1,
             "#fde725"
            ]
           ],
           "sequentialminus": [
            [
             0,
             "#440154"
            ],
            [
             0.1111111111111111,
             "#482878"
            ],
            [
             0.2222222222222222,
             "#3e4989"
            ],
            [
             0.3333333333333333,
             "#31688e"
            ],
            [
             0.4444444444444444,
             "#26828e"
            ],
            [
             0.5555555555555556,
             "#1f9e89"
            ],
            [
             0.6666666666666666,
             "#35b779"
            ],
            [
             0.7777777777777778,
             "#6ece58"
            ],
            [
             0.8888888888888888,
             "#b5de2b"
            ],
            [
             1,
             "#fde725"
            ]
           ]
          },
          "colorway": [
           "#1F77B4",
           "#FF7F0E",
           "#2CA02C",
           "#D62728",
           "#9467BD",
           "#8C564B",
           "#E377C2",
           "#7F7F7F",
           "#BCBD22",
           "#17BECF"
          ],
          "font": {
           "color": "rgb(36,36,36)"
          },
          "geo": {
           "bgcolor": "white",
           "lakecolor": "white",
           "landcolor": "white",
           "showlakes": true,
           "showland": true,
           "subunitcolor": "white"
          },
          "hoverlabel": {
           "align": "left"
          },
          "hovermode": "closest",
          "mapbox": {
           "style": "light"
          },
          "paper_bgcolor": "white",
          "plot_bgcolor": "white",
          "polar": {
           "angularaxis": {
            "gridcolor": "rgb(232,232,232)",
            "linecolor": "rgb(36,36,36)",
            "showgrid": false,
            "showline": true,
            "ticks": "outside"
           },
           "bgcolor": "white",
           "radialaxis": {
            "gridcolor": "rgb(232,232,232)",
            "linecolor": "rgb(36,36,36)",
            "showgrid": false,
            "showline": true,
            "ticks": "outside"
           }
          },
          "scene": {
           "xaxis": {
            "backgroundcolor": "white",
            "gridcolor": "rgb(232,232,232)",
            "gridwidth": 2,
            "linecolor": "rgb(36,36,36)",
            "showbackground": true,
            "showgrid": false,
            "showline": true,
            "ticks": "outside",
            "zeroline": false,
            "zerolinecolor": "rgb(36,36,36)"
           },
           "yaxis": {
            "backgroundcolor": "white",
            "gridcolor": "rgb(232,232,232)",
            "gridwidth": 2,
            "linecolor": "rgb(36,36,36)",
            "showbackground": true,
            "showgrid": false,
            "showline": true,
            "ticks": "outside",
            "zeroline": false,
            "zerolinecolor": "rgb(36,36,36)"
           },
           "zaxis": {
            "backgroundcolor": "white",
            "gridcolor": "rgb(232,232,232)",
            "gridwidth": 2,
            "linecolor": "rgb(36,36,36)",
            "showbackground": true,
            "showgrid": false,
            "showline": true,
            "ticks": "outside",
            "zeroline": false,
            "zerolinecolor": "rgb(36,36,36)"
           }
          },
          "shapedefaults": {
           "fillcolor": "black",
           "line": {
            "width": 0
           },
           "opacity": 0.3
          },
          "ternary": {
           "aaxis": {
            "gridcolor": "rgb(232,232,232)",
            "linecolor": "rgb(36,36,36)",
            "showgrid": false,
            "showline": true,
            "ticks": "outside"
           },
           "baxis": {
            "gridcolor": "rgb(232,232,232)",
            "linecolor": "rgb(36,36,36)",
            "showgrid": false,
            "showline": true,
            "ticks": "outside"
           },
           "bgcolor": "white",
           "caxis": {
            "gridcolor": "rgb(232,232,232)",
            "linecolor": "rgb(36,36,36)",
            "showgrid": false,
            "showline": true,
            "ticks": "outside"
           }
          },
          "title": {
           "x": 0.05
          },
          "xaxis": {
           "automargin": true,
           "gridcolor": "rgb(232,232,232)",
           "linecolor": "rgb(36,36,36)",
           "showgrid": false,
           "showline": true,
           "ticks": "outside",
           "title": {
            "standoff": 15
           },
           "zeroline": false,
           "zerolinecolor": "rgb(36,36,36)"
          },
          "yaxis": {
           "automargin": true,
           "gridcolor": "rgb(232,232,232)",
           "linecolor": "rgb(36,36,36)",
           "showgrid": false,
           "showline": true,
           "ticks": "outside",
           "title": {
            "standoff": 15
           },
           "zeroline": false,
           "zerolinecolor": "rgb(36,36,36)"
          }
         }
        },
        "title": {
         "font": {
          "color": "Black",
          "size": 22
         },
         "text": "<b>Topics over Time</b>",
         "x": 0.4,
         "xanchor": "center",
         "y": 0.95,
         "yanchor": "top"
        },
        "width": 1250,
        "xaxis": {
         "showgrid": true
        },
        "yaxis": {
         "showgrid": true,
         "title": {
          "text": "Frequency"
         }
        }
       }
      }
     },
     "metadata": {},
     "output_type": "display_data"
    }
   ],
   "source": [
    "model.visualize_topics_over_time(topics_over_time, topics=[10, 11, 12, 13, 14, 15, 16, 17, 18, 19])\n"
   ]
  },
  {
   "cell_type": "code",
   "execution_count": 20,
   "metadata": {},
   "outputs": [
    {
     "data": {
      "application/vnd.plotly.v1+json": {
       "config": {
        "plotlyServerURL": "https://plot.ly"
       },
       "data": [
        {
         "hoverinfo": "text",
         "hovertext": [
          "<b>Topic 20</b><br>Words: authenticity, claims, social, and, multilingual",
          "<b>Topic 20</b><br>Words: microblogging, tweets, vignettes, constructions, students",
          "<b>Topic 20</b><br>Words: his, hip, serbian, hop, identity",
          "<b>Topic 20</b><br>Words: identity, online, of, the, and",
          "<b>Topic 20</b><br>Words: multilingual, sla, amp, multilingualism, social",
          "<b>Topic 20</b><br>Words: multilingual, drew, as, teachers, we",
          "<b>Topic 20</b><br>Words: fsl, my, digital, ol, as",
          "<b>Topic 20</b><br>Words: relational, identities, connection, choices, semiotic",
          "<b>Topic 20</b><br>Words: identity, digital, and, broadly, turns",
          "<b>Topic 20</b><br>Words: cdl, semiotic, ve, how, and"
         ],
         "marker": {
          "color": "#E69F00"
         },
         "mode": "lines",
         "name": "20_and_of_identity_in",
         "type": "scatter",
         "x": [
          2013,
          2014,
          2015,
          2016,
          2017,
          2018,
          2019,
          2020,
          2021,
          2023
         ],
         "y": [
          3,
          1,
          2,
          4,
          2,
          1,
          1,
          1,
          1,
          3
         ]
        },
        {
         "hoverinfo": "text",
         "hovertext": [
          "<b>Topic 21</b><br>Words: replication, studies, call, replicated, sla",
          "<b>Topic 21</b><br>Words: calico, journal, research, editor, call",
          "<b>Topic 21</b><br>Words: are, practices, call, linguistics, applied",
          "<b>Topic 21</b><br>Words: quot, call, llt, journals, the",
          "<b>Topic 21</b><br>Words: mctl, el, lctl, lctls, call",
          "<b>Topic 21</b><br>Words: call, transdisciplinarity, transdisciplinary, field, interdisciplinarity",
          "<b>Topic 21</b><br>Words: call, quot, research, products, articles",
          "<b>Topic 21</b><br>Words: call, quot, topics, learning, technologies",
          "<b>Topic 21</b><br>Words: studies, most, the, were, call"
         ],
         "marker": {
          "color": "#56B4E9"
         },
         "mode": "lines",
         "name": "21_call_quot_studies_the",
         "type": "scatter",
         "x": [
          2012,
          2013,
          2015,
          2016,
          2018,
          2019,
          2020,
          2021,
          2022
         ],
         "y": [
          1,
          2,
          1,
          4,
          1,
          1,
          2,
          1,
          4
         ]
        },
        {
         "hoverinfo": "text",
         "hovertext": [
          "<b>Topic 22</b><br>Words: translation, blackboard, attitudes, skills, course",
          "<b>Topic 22</b><br>Words: prefer, quot, paraphrasing, paraphrases, writing",
          "<b>Topic 22</b><br>Words: translation, specialized, cooperative, seti, china",
          "<b>Topic 22</b><br>Words: translation, quot, strategies, students, mt",
          "<b>Topic 22</b><br>Words: indices, texts, human, generated, automatically",
          "<b>Topic 22</b><br>Words: texts, gt, step, english, sw",
          "<b>Topic 22</b><br>Words: mt, translation, writing, student, students",
          "<b>Topic 22</b><br>Words: lexical, mt, error, errors, translation",
          "<b>Topic 22</b><br>Words: mt, translation, machine, students, texts",
          "<b>Topic 22</b><br>Words: mt, machine, translation, fl, students"
         ],
         "marker": {
          "color": "#009E73"
         },
         "mode": "lines",
         "name": "22_mt_translation_students_machine",
         "type": "scatter",
         "x": [
          2012,
          2015,
          2016,
          2017,
          2018,
          2019,
          2020,
          2021,
          2022,
          2023
         ],
         "y": [
          1,
          1,
          1,
          1,
          1,
          1,
          1,
          2,
          5,
          2
         ]
        },
        {
         "hoverinfo": "text",
         "hovertext": [
          "<b>Topic 23</b><br>Words: robots, rall, robot, interfaces, days",
          "<b>Topic 23</b><br>Words: telepresence, robots, authentic, fl, communicative",
          "<b>Topic 23</b><br>Words: dialogue, we, systems, quot, based",
          "<b>Topic 23</b><br>Words: rall, echo, robot, chatbots, of",
          "<b>Topic 23</b><br>Words: authoring, system, robot, design, refinements",
          "<b>Topic 23</b><br>Words: robot, chatbot, ellie, rall, conversation",
          "<b>Topic 23</b><br>Words: sociomaterialism, chatbots, intelligence, artificial, place"
         ],
         "marker": {
          "color": "#F0E442"
         },
         "mode": "lines",
         "name": "23_robot_rall_the_and",
         "type": "scatter",
         "x": [
          2012,
          2018,
          2019,
          2020,
          2021,
          2022,
          2023
         ],
         "y": [
          1,
          1,
          2,
          3,
          1,
          6,
          1
         ]
        },
        {
         "hoverinfo": "text",
         "hovertext": [
          "<b>Topic 24</b><br>Words: fla, anxiety, acmc, affordances, horwitz",
          "<b>Topic 24</b><br>Words: hybrid, redesigned, anxiety, courses, span1010",
          "<b>Topic 24</b><br>Words: ei, emotional, fla, anxiety, group",
          "<b>Topic 24</b><br>Words: anonymity, vw, fla, anxiety, participants",
          "<b>Topic 24</b><br>Words: idle, quantity, diversity, outcomes, anxiety",
          "<b>Topic 24</b><br>Words: anxiety, fla, vr, self, beliefs",
          "<b>Topic 24</b><br>Words: anxiety, fla, vr, flsa, speaking",
          "<b>Topic 24</b><br>Words: flipped, flca, flra, anxiety, foreign"
         ],
         "marker": {
          "color": "#D55E00"
         },
         "mode": "lines",
         "name": "24_anxiety_fla_the_and",
         "type": "scatter",
         "x": [
          2014,
          2016,
          2017,
          2018,
          2019,
          2021,
          2022,
          2023
         ],
         "y": [
          1,
          1,
          2,
          1,
          1,
          2,
          3,
          1
         ]
        }
       ],
       "layout": {
        "height": 450,
        "hoverlabel": {
         "bgcolor": "white",
         "font": {
          "family": "Rockwell",
          "size": 16
         }
        },
        "legend": {
         "title": {
          "text": "<b>Global Topic Representation"
         }
        },
        "template": {
         "data": {
          "bar": [
           {
            "error_x": {
             "color": "rgb(36,36,36)"
            },
            "error_y": {
             "color": "rgb(36,36,36)"
            },
            "marker": {
             "line": {
              "color": "white",
              "width": 0.5
             },
             "pattern": {
              "fillmode": "overlay",
              "size": 10,
              "solidity": 0.2
             }
            },
            "type": "bar"
           }
          ],
          "barpolar": [
           {
            "marker": {
             "line": {
              "color": "white",
              "width": 0.5
             },
             "pattern": {
              "fillmode": "overlay",
              "size": 10,
              "solidity": 0.2
             }
            },
            "type": "barpolar"
           }
          ],
          "carpet": [
           {
            "aaxis": {
             "endlinecolor": "rgb(36,36,36)",
             "gridcolor": "white",
             "linecolor": "white",
             "minorgridcolor": "white",
             "startlinecolor": "rgb(36,36,36)"
            },
            "baxis": {
             "endlinecolor": "rgb(36,36,36)",
             "gridcolor": "white",
             "linecolor": "white",
             "minorgridcolor": "white",
             "startlinecolor": "rgb(36,36,36)"
            },
            "type": "carpet"
           }
          ],
          "choropleth": [
           {
            "colorbar": {
             "outlinewidth": 1,
             "tickcolor": "rgb(36,36,36)",
             "ticks": "outside"
            },
            "type": "choropleth"
           }
          ],
          "contour": [
           {
            "colorbar": {
             "outlinewidth": 1,
             "tickcolor": "rgb(36,36,36)",
             "ticks": "outside"
            },
            "colorscale": [
             [
              0,
              "#440154"
             ],
             [
              0.1111111111111111,
              "#482878"
             ],
             [
              0.2222222222222222,
              "#3e4989"
             ],
             [
              0.3333333333333333,
              "#31688e"
             ],
             [
              0.4444444444444444,
              "#26828e"
             ],
             [
              0.5555555555555556,
              "#1f9e89"
             ],
             [
              0.6666666666666666,
              "#35b779"
             ],
             [
              0.7777777777777778,
              "#6ece58"
             ],
             [
              0.8888888888888888,
              "#b5de2b"
             ],
             [
              1,
              "#fde725"
             ]
            ],
            "type": "contour"
           }
          ],
          "contourcarpet": [
           {
            "colorbar": {
             "outlinewidth": 1,
             "tickcolor": "rgb(36,36,36)",
             "ticks": "outside"
            },
            "type": "contourcarpet"
           }
          ],
          "heatmap": [
           {
            "colorbar": {
             "outlinewidth": 1,
             "tickcolor": "rgb(36,36,36)",
             "ticks": "outside"
            },
            "colorscale": [
             [
              0,
              "#440154"
             ],
             [
              0.1111111111111111,
              "#482878"
             ],
             [
              0.2222222222222222,
              "#3e4989"
             ],
             [
              0.3333333333333333,
              "#31688e"
             ],
             [
              0.4444444444444444,
              "#26828e"
             ],
             [
              0.5555555555555556,
              "#1f9e89"
             ],
             [
              0.6666666666666666,
              "#35b779"
             ],
             [
              0.7777777777777778,
              "#6ece58"
             ],
             [
              0.8888888888888888,
              "#b5de2b"
             ],
             [
              1,
              "#fde725"
             ]
            ],
            "type": "heatmap"
           }
          ],
          "heatmapgl": [
           {
            "colorbar": {
             "outlinewidth": 1,
             "tickcolor": "rgb(36,36,36)",
             "ticks": "outside"
            },
            "colorscale": [
             [
              0,
              "#440154"
             ],
             [
              0.1111111111111111,
              "#482878"
             ],
             [
              0.2222222222222222,
              "#3e4989"
             ],
             [
              0.3333333333333333,
              "#31688e"
             ],
             [
              0.4444444444444444,
              "#26828e"
             ],
             [
              0.5555555555555556,
              "#1f9e89"
             ],
             [
              0.6666666666666666,
              "#35b779"
             ],
             [
              0.7777777777777778,
              "#6ece58"
             ],
             [
              0.8888888888888888,
              "#b5de2b"
             ],
             [
              1,
              "#fde725"
             ]
            ],
            "type": "heatmapgl"
           }
          ],
          "histogram": [
           {
            "marker": {
             "line": {
              "color": "white",
              "width": 0.6
             }
            },
            "type": "histogram"
           }
          ],
          "histogram2d": [
           {
            "colorbar": {
             "outlinewidth": 1,
             "tickcolor": "rgb(36,36,36)",
             "ticks": "outside"
            },
            "colorscale": [
             [
              0,
              "#440154"
             ],
             [
              0.1111111111111111,
              "#482878"
             ],
             [
              0.2222222222222222,
              "#3e4989"
             ],
             [
              0.3333333333333333,
              "#31688e"
             ],
             [
              0.4444444444444444,
              "#26828e"
             ],
             [
              0.5555555555555556,
              "#1f9e89"
             ],
             [
              0.6666666666666666,
              "#35b779"
             ],
             [
              0.7777777777777778,
              "#6ece58"
             ],
             [
              0.8888888888888888,
              "#b5de2b"
             ],
             [
              1,
              "#fde725"
             ]
            ],
            "type": "histogram2d"
           }
          ],
          "histogram2dcontour": [
           {
            "colorbar": {
             "outlinewidth": 1,
             "tickcolor": "rgb(36,36,36)",
             "ticks": "outside"
            },
            "colorscale": [
             [
              0,
              "#440154"
             ],
             [
              0.1111111111111111,
              "#482878"
             ],
             [
              0.2222222222222222,
              "#3e4989"
             ],
             [
              0.3333333333333333,
              "#31688e"
             ],
             [
              0.4444444444444444,
              "#26828e"
             ],
             [
              0.5555555555555556,
              "#1f9e89"
             ],
             [
              0.6666666666666666,
              "#35b779"
             ],
             [
              0.7777777777777778,
              "#6ece58"
             ],
             [
              0.8888888888888888,
              "#b5de2b"
             ],
             [
              1,
              "#fde725"
             ]
            ],
            "type": "histogram2dcontour"
           }
          ],
          "mesh3d": [
           {
            "colorbar": {
             "outlinewidth": 1,
             "tickcolor": "rgb(36,36,36)",
             "ticks": "outside"
            },
            "type": "mesh3d"
           }
          ],
          "parcoords": [
           {
            "line": {
             "colorbar": {
              "outlinewidth": 1,
              "tickcolor": "rgb(36,36,36)",
              "ticks": "outside"
             }
            },
            "type": "parcoords"
           }
          ],
          "pie": [
           {
            "automargin": true,
            "type": "pie"
           }
          ],
          "scatter": [
           {
            "fillpattern": {
             "fillmode": "overlay",
             "size": 10,
             "solidity": 0.2
            },
            "type": "scatter"
           }
          ],
          "scatter3d": [
           {
            "line": {
             "colorbar": {
              "outlinewidth": 1,
              "tickcolor": "rgb(36,36,36)",
              "ticks": "outside"
             }
            },
            "marker": {
             "colorbar": {
              "outlinewidth": 1,
              "tickcolor": "rgb(36,36,36)",
              "ticks": "outside"
             }
            },
            "type": "scatter3d"
           }
          ],
          "scattercarpet": [
           {
            "marker": {
             "colorbar": {
              "outlinewidth": 1,
              "tickcolor": "rgb(36,36,36)",
              "ticks": "outside"
             }
            },
            "type": "scattercarpet"
           }
          ],
          "scattergeo": [
           {
            "marker": {
             "colorbar": {
              "outlinewidth": 1,
              "tickcolor": "rgb(36,36,36)",
              "ticks": "outside"
             }
            },
            "type": "scattergeo"
           }
          ],
          "scattergl": [
           {
            "marker": {
             "colorbar": {
              "outlinewidth": 1,
              "tickcolor": "rgb(36,36,36)",
              "ticks": "outside"
             }
            },
            "type": "scattergl"
           }
          ],
          "scattermapbox": [
           {
            "marker": {
             "colorbar": {
              "outlinewidth": 1,
              "tickcolor": "rgb(36,36,36)",
              "ticks": "outside"
             }
            },
            "type": "scattermapbox"
           }
          ],
          "scatterpolar": [
           {
            "marker": {
             "colorbar": {
              "outlinewidth": 1,
              "tickcolor": "rgb(36,36,36)",
              "ticks": "outside"
             }
            },
            "type": "scatterpolar"
           }
          ],
          "scatterpolargl": [
           {
            "marker": {
             "colorbar": {
              "outlinewidth": 1,
              "tickcolor": "rgb(36,36,36)",
              "ticks": "outside"
             }
            },
            "type": "scatterpolargl"
           }
          ],
          "scatterternary": [
           {
            "marker": {
             "colorbar": {
              "outlinewidth": 1,
              "tickcolor": "rgb(36,36,36)",
              "ticks": "outside"
             }
            },
            "type": "scatterternary"
           }
          ],
          "surface": [
           {
            "colorbar": {
             "outlinewidth": 1,
             "tickcolor": "rgb(36,36,36)",
             "ticks": "outside"
            },
            "colorscale": [
             [
              0,
              "#440154"
             ],
             [
              0.1111111111111111,
              "#482878"
             ],
             [
              0.2222222222222222,
              "#3e4989"
             ],
             [
              0.3333333333333333,
              "#31688e"
             ],
             [
              0.4444444444444444,
              "#26828e"
             ],
             [
              0.5555555555555556,
              "#1f9e89"
             ],
             [
              0.6666666666666666,
              "#35b779"
             ],
             [
              0.7777777777777778,
              "#6ece58"
             ],
             [
              0.8888888888888888,
              "#b5de2b"
             ],
             [
              1,
              "#fde725"
             ]
            ],
            "type": "surface"
           }
          ],
          "table": [
           {
            "cells": {
             "fill": {
              "color": "rgb(237,237,237)"
             },
             "line": {
              "color": "white"
             }
            },
            "header": {
             "fill": {
              "color": "rgb(217,217,217)"
             },
             "line": {
              "color": "white"
             }
            },
            "type": "table"
           }
          ]
         },
         "layout": {
          "annotationdefaults": {
           "arrowhead": 0,
           "arrowwidth": 1
          },
          "autotypenumbers": "strict",
          "coloraxis": {
           "colorbar": {
            "outlinewidth": 1,
            "tickcolor": "rgb(36,36,36)",
            "ticks": "outside"
           }
          },
          "colorscale": {
           "diverging": [
            [
             0,
             "rgb(103,0,31)"
            ],
            [
             0.1,
             "rgb(178,24,43)"
            ],
            [
             0.2,
             "rgb(214,96,77)"
            ],
            [
             0.3,
             "rgb(244,165,130)"
            ],
            [
             0.4,
             "rgb(253,219,199)"
            ],
            [
             0.5,
             "rgb(247,247,247)"
            ],
            [
             0.6,
             "rgb(209,229,240)"
            ],
            [
             0.7,
             "rgb(146,197,222)"
            ],
            [
             0.8,
             "rgb(67,147,195)"
            ],
            [
             0.9,
             "rgb(33,102,172)"
            ],
            [
             1,
             "rgb(5,48,97)"
            ]
           ],
           "sequential": [
            [
             0,
             "#440154"
            ],
            [
             0.1111111111111111,
             "#482878"
            ],
            [
             0.2222222222222222,
             "#3e4989"
            ],
            [
             0.3333333333333333,
             "#31688e"
            ],
            [
             0.4444444444444444,
             "#26828e"
            ],
            [
             0.5555555555555556,
             "#1f9e89"
            ],
            [
             0.6666666666666666,
             "#35b779"
            ],
            [
             0.7777777777777778,
             "#6ece58"
            ],
            [
             0.8888888888888888,
             "#b5de2b"
            ],
            [
             1,
             "#fde725"
            ]
           ],
           "sequentialminus": [
            [
             0,
             "#440154"
            ],
            [
             0.1111111111111111,
             "#482878"
            ],
            [
             0.2222222222222222,
             "#3e4989"
            ],
            [
             0.3333333333333333,
             "#31688e"
            ],
            [
             0.4444444444444444,
             "#26828e"
            ],
            [
             0.5555555555555556,
             "#1f9e89"
            ],
            [
             0.6666666666666666,
             "#35b779"
            ],
            [
             0.7777777777777778,
             "#6ece58"
            ],
            [
             0.8888888888888888,
             "#b5de2b"
            ],
            [
             1,
             "#fde725"
            ]
           ]
          },
          "colorway": [
           "#1F77B4",
           "#FF7F0E",
           "#2CA02C",
           "#D62728",
           "#9467BD",
           "#8C564B",
           "#E377C2",
           "#7F7F7F",
           "#BCBD22",
           "#17BECF"
          ],
          "font": {
           "color": "rgb(36,36,36)"
          },
          "geo": {
           "bgcolor": "white",
           "lakecolor": "white",
           "landcolor": "white",
           "showlakes": true,
           "showland": true,
           "subunitcolor": "white"
          },
          "hoverlabel": {
           "align": "left"
          },
          "hovermode": "closest",
          "mapbox": {
           "style": "light"
          },
          "paper_bgcolor": "white",
          "plot_bgcolor": "white",
          "polar": {
           "angularaxis": {
            "gridcolor": "rgb(232,232,232)",
            "linecolor": "rgb(36,36,36)",
            "showgrid": false,
            "showline": true,
            "ticks": "outside"
           },
           "bgcolor": "white",
           "radialaxis": {
            "gridcolor": "rgb(232,232,232)",
            "linecolor": "rgb(36,36,36)",
            "showgrid": false,
            "showline": true,
            "ticks": "outside"
           }
          },
          "scene": {
           "xaxis": {
            "backgroundcolor": "white",
            "gridcolor": "rgb(232,232,232)",
            "gridwidth": 2,
            "linecolor": "rgb(36,36,36)",
            "showbackground": true,
            "showgrid": false,
            "showline": true,
            "ticks": "outside",
            "zeroline": false,
            "zerolinecolor": "rgb(36,36,36)"
           },
           "yaxis": {
            "backgroundcolor": "white",
            "gridcolor": "rgb(232,232,232)",
            "gridwidth": 2,
            "linecolor": "rgb(36,36,36)",
            "showbackground": true,
            "showgrid": false,
            "showline": true,
            "ticks": "outside",
            "zeroline": false,
            "zerolinecolor": "rgb(36,36,36)"
           },
           "zaxis": {
            "backgroundcolor": "white",
            "gridcolor": "rgb(232,232,232)",
            "gridwidth": 2,
            "linecolor": "rgb(36,36,36)",
            "showbackground": true,
            "showgrid": false,
            "showline": true,
            "ticks": "outside",
            "zeroline": false,
            "zerolinecolor": "rgb(36,36,36)"
           }
          },
          "shapedefaults": {
           "fillcolor": "black",
           "line": {
            "width": 0
           },
           "opacity": 0.3
          },
          "ternary": {
           "aaxis": {
            "gridcolor": "rgb(232,232,232)",
            "linecolor": "rgb(36,36,36)",
            "showgrid": false,
            "showline": true,
            "ticks": "outside"
           },
           "baxis": {
            "gridcolor": "rgb(232,232,232)",
            "linecolor": "rgb(36,36,36)",
            "showgrid": false,
            "showline": true,
            "ticks": "outside"
           },
           "bgcolor": "white",
           "caxis": {
            "gridcolor": "rgb(232,232,232)",
            "linecolor": "rgb(36,36,36)",
            "showgrid": false,
            "showline": true,
            "ticks": "outside"
           }
          },
          "title": {
           "x": 0.05
          },
          "xaxis": {
           "automargin": true,
           "gridcolor": "rgb(232,232,232)",
           "linecolor": "rgb(36,36,36)",
           "showgrid": false,
           "showline": true,
           "ticks": "outside",
           "title": {
            "standoff": 15
           },
           "zeroline": false,
           "zerolinecolor": "rgb(36,36,36)"
          },
          "yaxis": {
           "automargin": true,
           "gridcolor": "rgb(232,232,232)",
           "linecolor": "rgb(36,36,36)",
           "showgrid": false,
           "showline": true,
           "ticks": "outside",
           "title": {
            "standoff": 15
           },
           "zeroline": false,
           "zerolinecolor": "rgb(36,36,36)"
          }
         }
        },
        "title": {
         "font": {
          "color": "Black",
          "size": 22
         },
         "text": "<b>Topics over Time</b>",
         "x": 0.4,
         "xanchor": "center",
         "y": 0.95,
         "yanchor": "top"
        },
        "width": 1250,
        "xaxis": {
         "showgrid": true
        },
        "yaxis": {
         "showgrid": true,
         "title": {
          "text": "Frequency"
         }
        }
       }
      }
     },
     "metadata": {},
     "output_type": "display_data"
    }
   ],
   "source": [
    "model.visualize_topics_over_time(topics_over_time, topics=[20, 21, 22, 23, 24, 25])\n"
   ]
  },
  {
   "cell_type": "code",
   "execution_count": 21,
   "metadata": {},
   "outputs": [
    {
     "data": {
      "application/vnd.plotly.v1+json": {
       "config": {
        "plotlyServerURL": "https://plot.ly"
       },
       "data": [
        {
         "hoverinfo": "text",
         "hovertext": [
          "<b>Topic 0</b><br>Words: technology, of, teachers, the, and",
          "<b>Topic 0</b><br>Words: technology, teachers, of, and, use",
          "<b>Topic 0</b><br>Words: teachers, ict, technology, of, and",
          "<b>Topic 0</b><br>Words: technology, teachers, and, of, the",
          "<b>Topic 0</b><br>Words: teachers, tpack, technology, the, of",
          "<b>Topic 0</b><br>Words: teachers, call, technology, beliefs, of",
          "<b>Topic 0</b><br>Words: the, of, technology, technological, and",
          "<b>Topic 0</b><br>Words: technology, teachers, use, their, and",
          "<b>Topic 0</b><br>Words: technology, teachers, of, the, language",
          "<b>Topic 0</b><br>Words: technology, teachers, ict, the, of",
          "<b>Topic 0</b><br>Words: teachers, technology, tpack, of, the"
         ],
         "marker": {
          "color": "#E69F00"
         },
         "mode": "lines",
         "name": "0_technology_teachers_of_the",
         "type": "scatter",
         "x": [
          2012,
          2013,
          2014,
          2015,
          2016,
          2017,
          2018,
          2019,
          2020,
          2021,
          2022
         ],
         "y": [
          5,
          11,
          8,
          9,
          12,
          7,
          7,
          3,
          7,
          4,
          13
         ]
        },
        {
         "hoverinfo": "text",
         "hovertext": [
          "<b>Topic 1</b><br>Words: events, narratives, temporal, tense, written",
          "<b>Topic 1</b><br>Words: feedback, writing, clinic, the, grammar",
          "<b>Topic 1</b><br>Words: writing, feedback, the, in, awe",
          "<b>Topic 1</b><br>Words: writing, feedback, the, students, to",
          "<b>Topic 1</b><br>Words: writing, feedback, the, of, awe",
          "<b>Topic 1</b><br>Words: writing, the, and, of, feedback",
          "<b>Topic 1</b><br>Words: writing, feedback, the, students, in",
          "<b>Topic 1</b><br>Words: writing, feedback, the, academic, and",
          "<b>Topic 1</b><br>Words: writing, feedback, the, were, and",
          "<b>Topic 1</b><br>Words: writing, cf, the, feedback, comments",
          "<b>Topic 1</b><br>Words: writing, feedback, awe, the, and",
          "<b>Topic 1</b><br>Words: writing, feedback, the, olpr, dmc"
         ],
         "marker": {
          "color": "#56B4E9"
         },
         "mode": "lines",
         "name": "1_writing_feedback_the_and",
         "type": "scatter",
         "x": [
          2012,
          2013,
          2014,
          2015,
          2016,
          2017,
          2018,
          2019,
          2020,
          2021,
          2022,
          2023
         ],
         "y": [
          1,
          3,
          6,
          5,
          11,
          7,
          6,
          4,
          4,
          8,
          11,
          4
         ]
        },
        {
         "hoverinfo": "text",
         "hovertext": [
          "<b>Topic 2</b><br>Words: task, planning, oral, the, cmc",
          "<b>Topic 2</b><br>Words: and, in, the, scmc, of",
          "<b>Topic 2</b><br>Words: in, oral, the, mandarin, of",
          "<b>Topic 2</b><br>Words: task, the, and, in, f2f",
          "<b>Topic 2</b><br>Words: scmc, based, csi, the, in",
          "<b>Topic 2</b><br>Words: task, and, learners, face, in",
          "<b>Topic 2</b><br>Words: task, interactional, in, to, and",
          "<b>Topic 2</b><br>Words: vc, in, of, and, the",
          "<b>Topic 2</b><br>Words: the, and, of, in, learners",
          "<b>Topic 2</b><br>Words: in, spanish, and, of, communication",
          "<b>Topic 2</b><br>Words: recasts, the, of, in, whatsapp",
          "<b>Topic 2</b><br>Words: learners, da, the, to, interactions"
         ],
         "marker": {
          "color": "#009E73"
         },
         "mode": "lines",
         "name": "2_task_the_in_and",
         "type": "scatter",
         "x": [
          2012,
          2013,
          2014,
          2015,
          2016,
          2017,
          2018,
          2019,
          2020,
          2021,
          2022,
          2023
         ],
         "y": [
          4,
          5,
          7,
          5,
          4,
          12,
          7,
          3,
          9,
          4,
          6,
          3
         ]
        },
        {
         "hoverinfo": "text",
         "hovertext": [
          "<b>Topic 3</b><br>Words: mobile, learning, mall, the, of",
          "<b>Topic 3</b><br>Words: mobile, mall, learning, the, of",
          "<b>Topic 3</b><br>Words: mall, mobile, the, of, application",
          "<b>Topic 3</b><br>Words: mobile, mall, the, studies, of",
          "<b>Topic 3</b><br>Words: mobile, learning, devices, use, the",
          "<b>Topic 3</b><br>Words: mobile, learning, and, smartphone, devices",
          "<b>Topic 3</b><br>Words: mobile, learning, and, the, of",
          "<b>Topic 3</b><br>Words: mobile, learning, the, of, to",
          "<b>Topic 3</b><br>Words: mobile, learning, mall, l2, the",
          "<b>Topic 3</b><br>Words: mobile, mall, learning, melr, of",
          "<b>Topic 3</b><br>Words: mobile, learning, the, and, app",
          "<b>Topic 3</b><br>Words: mobile, mall, the, duolingo, of"
         ],
         "marker": {
          "color": "#F0E442"
         },
         "mode": "lines",
         "name": "3_mobile_learning_mall_the",
         "type": "scatter",
         "x": [
          2012,
          2013,
          2014,
          2015,
          2016,
          2017,
          2018,
          2019,
          2020,
          2021,
          2022,
          2023
         ],
         "y": [
          4,
          11,
          4,
          4,
          3,
          5,
          7,
          7,
          3,
          4,
          14,
          3
         ]
        },
        {
         "hoverinfo": "text",
         "hovertext": [
          "<b>Topic 4</b><br>Words: intercultural, and, the, project, of",
          "<b>Topic 4</b><br>Words: intercultural, culture, the, american, project",
          "<b>Topic 4</b><br>Words: intercultural, the, and, of, chinese",
          "<b>Topic 4</b><br>Words: telecollaboration, intercultural, and, the, of",
          "<b>Topic 4</b><br>Words: telecollaboration, project, the, intercultural, and",
          "<b>Topic 4</b><br>Words: intercultural, telecollaboration, and, the, of",
          "<b>Topic 4</b><br>Words: intercultural, telecollaboration, telecollaborative, icc, and",
          "<b>Topic 4</b><br>Words: intercultural, telecollaboration, and, the, in",
          "<b>Topic 4</b><br>Words: telecollaboration, and, intercultural, their, cultural",
          "<b>Topic 4</b><br>Words: intercultural, cultural, students, the, of",
          "<b>Topic 4</b><br>Words: the, of, telecollaboration, telecollaborative, and",
          "<b>Topic 4</b><br>Words: intercultural, telecollaboration, cultural, and, students"
         ],
         "marker": {
          "color": "#D55E00"
         },
         "mode": "lines",
         "name": "4_intercultural_telecollaboration_and_th...",
         "type": "scatter",
         "x": [
          2012,
          2013,
          2014,
          2015,
          2016,
          2017,
          2018,
          2019,
          2020,
          2021,
          2022,
          2023
         ],
         "y": [
          5,
          2,
          6,
          5,
          7,
          5,
          6,
          7,
          5,
          4,
          5,
          3
         ]
        },
        {
         "hoverinfo": "text",
         "hovertext": [
          "<b>Topic 5</b><br>Words: stance, corpus, the, authorial, examples",
          "<b>Topic 5</b><br>Words: corpus, linking, of, ddl, to",
          "<b>Topic 5</b><br>Words: corpus, the, corpora, ddl, to",
          "<b>Topic 5</b><br>Words: corpus, the, of, to, and",
          "<b>Topic 5</b><br>Words: corpus, ddl, the, collocation, of",
          "<b>Topic 5</b><br>Words: corpus, corpora, use, of, the",
          "<b>Topic 5</b><br>Words: errors, corpus, ddl, phrases, software",
          "<b>Topic 5</b><br>Words: corpus, ddl, query, of, the",
          "<b>Topic 5</b><br>Words: tool, collocation, with, questions, further",
          "<b>Topic 5</b><br>Words: corpus, collocation, corpora, of, the",
          "<b>Topic 5</b><br>Words: corpus, of, and, pedagogy, the",
          "<b>Topic 5</b><br>Words: corpus, search, corpora, acop, the"
         ],
         "marker": {
          "color": "#0072B2"
         },
         "mode": "lines",
         "name": "5_corpus_the_of_ddl",
         "type": "scatter",
         "x": [
          2012,
          2013,
          2014,
          2015,
          2016,
          2017,
          2018,
          2019,
          2020,
          2021,
          2022,
          2023
         ],
         "y": [
          2,
          4,
          9,
          6,
          9,
          8,
          2,
          3,
          1,
          6,
          3,
          3
         ]
        },
        {
         "hoverinfo": "text",
         "hovertext": [
          "<b>Topic 6</b><br>Words: asr, eor, pronunciation, articulatory, the",
          "<b>Topic 6</b><br>Words: indices, mispronunciations, speech, human, speaking",
          "<b>Topic 6</b><br>Words: pronunciation, tongue, production, acoustic, speech",
          "<b>Topic 6</b><br>Words: pronunciation, asr, recognition, the, of",
          "<b>Topic 6</b><br>Words: pronunciation, training, the, and, to",
          "<b>Topic 6</b><br>Words: wrs, pronunciation, the, cf, of",
          "<b>Topic 6</b><br>Words: perception, training, perceptual, pronunciation, to",
          "<b>Topic 6</b><br>Words: pronunciation, capt, the, to, software",
          "<b>Topic 6</b><br>Words: pronunciation, training, the, asr, to",
          "<b>Topic 6</b><br>Words: transcription, allophonic, midterm, ci, learners",
          "<b>Topic 6</b><br>Words: pronunciation, asr, the, and, of",
          "<b>Topic 6</b><br>Words: pronunciation, asr, the, speech, and"
         ],
         "marker": {
          "color": "#CC79A7"
         },
         "mode": "lines",
         "name": "6_pronunciation_the_asr_of",
         "type": "scatter",
         "x": [
          2012,
          2013,
          2014,
          2015,
          2016,
          2017,
          2018,
          2019,
          2020,
          2021,
          2022,
          2023
         ],
         "y": [
          3,
          2,
          4,
          6,
          7,
          4,
          1,
          4,
          5,
          2,
          6,
          6
         ]
        },
        {
         "hoverinfo": "text",
         "hovertext": [
          "<b>Topic 7</b><br>Words: game, games, and, of, playing",
          "<b>Topic 7</b><br>Words: game, gaming, culture, games, playing",
          "<b>Topic 7</b><br>Words: game, games, gaming, and, in",
          "<b>Topic 7</b><br>Words: games, game, learning, words, gameplay",
          "<b>Topic 7</b><br>Words: game, games, that, activities, in",
          "<b>Topic 7</b><br>Words: game, gaming, games, language, the",
          "<b>Topic 7</b><br>Words: game, spaceteam, school, and, as",
          "<b>Topic 7</b><br>Words: vocabulary, game, l2, games, mevla",
          "<b>Topic 7</b><br>Words: game, gaming, games, dgbll, and",
          "<b>Topic 7</b><br>Words: game, flow, learning, lesl, gamification",
          "<b>Topic 7</b><br>Words: game, games, gamification, gamifying, the",
          "<b>Topic 7</b><br>Words: phrasal, game, verbs, negotiations, gaming"
         ],
         "marker": {
          "color": "#E69F00"
         },
         "mode": "lines",
         "name": "7_game_games_gaming_and",
         "type": "scatter",
         "x": [
          2012,
          2013,
          2014,
          2015,
          2016,
          2017,
          2018,
          2019,
          2020,
          2021,
          2022,
          2023
         ],
         "y": [
          7,
          1,
          5,
          2,
          4,
          6,
          2,
          4,
          5,
          4,
          3,
          2
         ]
        },
        {
         "hoverinfo": "text",
         "hovertext": [
          "<b>Topic 8</b><br>Words: blended, to, the, online, face",
          "<b>Topic 8</b><br>Words: bl, blended, courses, dilemma, stakeholders",
          "<b>Topic 8</b><br>Words: blended, mooc, summary, online, the",
          "<b>Topic 8</b><br>Words: methodology, f2f, hybridized, instruction, online",
          "<b>Topic 8</b><br>Words: open, tell, learner, model, next",
          "<b>Topic 8</b><br>Words: of, data, learning, to, the",
          "<b>Topic 8</b><br>Words: online, course, learning, to, the",
          "<b>Topic 8</b><br>Words: f2f, learning, roles, blended, online",
          "<b>Topic 8</b><br>Words: blended, learning, the, students, and",
          "<b>Topic 8</b><br>Words: course, blended, lmoocs, online, of",
          "<b>Topic 8</b><br>Words: lmoocs, the, learning, blended, of",
          "<b>Topic 8</b><br>Words: lmoocs, and, course, the, blended"
         ],
         "marker": {
          "color": "#56B4E9"
         },
         "mode": "lines",
         "name": "8_blended_online_the_learning",
         "type": "scatter",
         "x": [
          2012,
          2013,
          2014,
          2015,
          2016,
          2017,
          2018,
          2019,
          2020,
          2021,
          2022,
          2023
         ],
         "y": [
          6,
          1,
          3,
          2,
          1,
          2,
          8,
          1,
          3,
          8,
          5,
          3
         ]
        },
        {
         "hoverinfo": "text",
         "hovertext": [
          "<b>Topic 9</b><br>Words: collaborative, writing, wiki, web, and",
          "<b>Topic 9</b><br>Words: wiki, writing, collaborative, wikis, students",
          "<b>Topic 9</b><br>Words: collaborative, writing, wiki, the, wikis",
          "<b>Topic 9</b><br>Words: writing, advice, wikipedia, collaborative, the",
          "<b>Topic 9</b><br>Words: writing, collaborative, twp, wiki, in",
          "<b>Topic 9</b><br>Words: writing, wiki, collaborative, of, to",
          "<b>Topic 9</b><br>Words: writing, collaborative, wiki, individual, and",
          "<b>Topic 9</b><br>Words: collaborative, wiki, writing, self, circles",
          "<b>Topic 9</b><br>Words: writing, cw, web, group, collaborative",
          "<b>Topic 9</b><br>Words: writing, collaborative, wiki, regulation, students"
         ],
         "marker": {
          "color": "#009E73"
         },
         "mode": "lines",
         "name": "9_writing_collaborative_wiki_the",
         "type": "scatter",
         "x": [
          2012,
          2013,
          2014,
          2015,
          2016,
          2017,
          2018,
          2019,
          2021,
          2022
         ],
         "y": [
          3,
          5,
          4,
          3,
          4,
          4,
          2,
          3,
          2,
          4
         ]
        },
        {
         "hoverinfo": "text",
         "hovertext": [
          "<b>Topic 10</b><br>Words: virtual, life, the, of, interaction",
          "<b>Topic 10</b><br>Words: synthetic, communication, worlds, acts, nonverbal",
          "<b>Topic 10</b><br>Words: virtual, learning, 3d, the, vr",
          "<b>Topic 10</b><br>Words: virtual, learning, in, the, language",
          "<b>Topic 10</b><br>Words: virtual, 3d, method, the, of",
          "<b>Topic 10</b><br>Words: vr, ar, the, learning, of",
          "<b>Topic 10</b><br>Words: vr, reality, the, and, virtual",
          "<b>Topic 10</b><br>Words: vr, virtual, the, learning, immersive",
          "<b>Topic 10</b><br>Words: vr, virtual, reality, the, and"
         ],
         "marker": {
          "color": "#F0E442"
         },
         "mode": "lines",
         "name": "10_vr_virtual_the_and",
         "type": "scatter",
         "x": [
          2012,
          2013,
          2015,
          2016,
          2018,
          2020,
          2021,
          2022,
          2023
         ],
         "y": [
          2,
          1,
          3,
          3,
          3,
          4,
          5,
          4,
          8
         ]
        },
        {
         "hoverinfo": "text",
         "hovertext": [
          "<b>Topic 11</b><br>Words: and, online, the, tutors, of",
          "<b>Topic 11</b><br>Words: online, training, the, and, of",
          "<b>Topic 11</b><br>Words: online, and, for, of, oer",
          "<b>Topic 11</b><br>Words: online, to, project, face, cmc",
          "<b>Topic 11</b><br>Words: cl, online, tblt, for, lloret",
          "<b>Topic 11</b><br>Words: the, and, in, online, language",
          "<b>Topic 11</b><br>Words: vision, online, professional, themselves, language",
          "<b>Topic 11</b><br>Words: we, in, pandemic, language, to",
          "<b>Topic 11</b><br>Words: online, classrooms, virtual, and, teachers",
          "<b>Topic 11</b><br>Words: fitness, caull, for, pe, efp"
         ],
         "marker": {
          "color": "#D55E00"
         },
         "mode": "lines",
         "name": "11_online_and_the_for",
         "type": "scatter",
         "x": [
          2012,
          2013,
          2014,
          2016,
          2017,
          2018,
          2020,
          2021,
          2022,
          2023
         ],
         "y": [
          9,
          5,
          3,
          3,
          2,
          3,
          1,
          1,
          4,
          1
         ]
        },
        {
         "hoverinfo": "text",
         "hovertext": [
          "<b>Topic 12</b><br>Words: test, listening, quot, assessment, to",
          "<b>Topic 12</b><br>Words: help, performance, assessment, listening, options",
          "<b>Topic 12</b><br>Words: listening, comprehension, of, noticing, options",
          "<b>Topic 12</b><br>Words: prototypes, help, design, options, listening",
          "<b>Topic 12</b><br>Words: preview, test, listening, item, choice",
          "<b>Topic 12</b><br>Words: listening, the, test, placement, item",
          "<b>Topic 12</b><br>Words: listening, metacognitive, test, the, takers",
          "<b>Topic 12</b><br>Words: mediations, test, da, unproctored, to",
          "<b>Topic 12</b><br>Words: listening, hearing, options, item, test",
          "<b>Topic 12</b><br>Words: listening, test, da, dynamic, assessment",
          "<b>Topic 12</b><br>Words: test, listening, takers, across, dif"
         ],
         "marker": {
          "color": "#0072B2"
         },
         "mode": "lines",
         "name": "12_listening_test_the_of",
         "type": "scatter",
         "x": [
          2012,
          2013,
          2014,
          2015,
          2016,
          2017,
          2018,
          2019,
          2020,
          2021,
          2022
         ],
         "y": [
          3,
          3,
          3,
          1,
          1,
          4,
          3,
          2,
          2,
          4,
          3
         ]
        },
        {
         "hoverinfo": "text",
         "hovertext": [
          "<b>Topic 13</b><br>Words: storytelling, digital, case, shift, the",
          "<b>Topic 13</b><br>Words: storytelling, digital, malaysian, instructors, the",
          "<b>Topic 13</b><br>Words: narratives, 3d, dgbll, environment, story",
          "<b>Topic 13</b><br>Words: storytelling, speaking, digital, and, the",
          "<b>Topic 13</b><br>Words: fan, practices, media, online, found",
          "<b>Topic 13</b><br>Words: digital, storytelling, fan, fanfiction, and",
          "<b>Topic 13</b><br>Words: graphic, digital, readings, creative, writing",
          "<b>Topic 13</b><br>Words: digital, storytelling, and, the, of",
          "<b>Topic 13</b><br>Words: dst, digital, stories, the, storytelling",
          "<b>Topic 13</b><br>Words: digital, hyperlinks, narrative, game, quartile"
         ],
         "marker": {
          "color": "#CC79A7"
         },
         "mode": "lines",
         "name": "13_digital_storytelling_the_and",
         "type": "scatter",
         "x": [
          2013,
          2014,
          2015,
          2016,
          2017,
          2019,
          2020,
          2021,
          2022,
          2023
         ],
         "y": [
          1,
          1,
          1,
          4,
          1,
          6,
          1,
          6,
          2,
          2
         ]
        },
        {
         "hoverinfo": "text",
         "hovertext": [
          "<b>Topic 14</b><br>Words: language, in, of, and, learning",
          "<b>Topic 14</b><br>Words: l2, discussions, informal, nonanonymous, in",
          "<b>Topic 14</b><br>Words: networking, sites, social, ning, oers",
          "<b>Topic 14</b><br>Words: and, snsll, to, in, sites",
          "<b>Topic 14</b><br>Words: webquests, processes, and, language, llsnss",
          "<b>Topic 14</b><br>Words: oile, sockett, participation, kusyk, habits",
          "<b>Topic 14</b><br>Words: online, participation, sp, language, of",
          "<b>Topic 14</b><br>Words: language, ideologies, disseminated, blogosphere, learning",
          "<b>Topic 14</b><br>Words: online, vcops, and, communities, to",
          "<b>Topic 14</b><br>Words: social, platform, media, engagement, of"
         ],
         "marker": {
          "color": "#E69F00"
         },
         "mode": "lines",
         "name": "14_and_in_language_social",
         "type": "scatter",
         "x": [
          2012,
          2013,
          2014,
          2015,
          2016,
          2017,
          2018,
          2019,
          2020,
          2022
         ],
         "y": [
          4,
          3,
          1,
          3,
          2,
          1,
          3,
          1,
          3,
          4
         ]
        },
        {
         "hoverinfo": "text",
         "hovertext": [
          "<b>Topic 15</b><br>Words: video, videoconferencing, interaction, how, in",
          "<b>Topic 15</b><br>Words: multimodal, dvc, webcam, gaze, contact",
          "<b>Topic 15</b><br>Words: presence, multimodal, the, social, online",
          "<b>Topic 15</b><br>Words: webcams, webcam, trainee, multimodal, the",
          "<b>Topic 15</b><br>Words: multimodal, online, and, in, of",
          "<b>Topic 15</b><br>Words: their, multimodal, multiliteracies, video, for",
          "<b>Topic 15</b><br>Words: videoconferencing, instagram, presence, social, audioconferencing",
          "<b>Topic 15</b><br>Words: quot, screen, semiotic, responders, initiators",
          "<b>Topic 15</b><br>Words: actions, online, giving, level, higher",
          "<b>Topic 15</b><br>Words: video, of, in, presence, and",
          "<b>Topic 15</b><br>Words: eye, movements, environment, learners, nedbox"
         ],
         "marker": {
          "color": "#56B4E9"
         },
         "mode": "lines",
         "name": "15_multimodal_of_the_and",
         "type": "scatter",
         "x": [
          2012,
          2013,
          2015,
          2016,
          2017,
          2018,
          2019,
          2020,
          2021,
          2022,
          2023
         ],
         "y": [
          2,
          2,
          3,
          4,
          3,
          1,
          2,
          1,
          1,
          4,
          1
         ]
        },
        {
         "hoverinfo": "text",
         "hovertext": [
          "<b>Topic 16</b><br>Words: captions, english, multimedia, proficiency, comprehension",
          "<b>Topic 16</b><br>Words: captions, reliance, caption, captioning, comprehension",
          "<b>Topic 16</b><br>Words: captions, captioning, comprehension, keyword, listening",
          "<b>Topic 16</b><br>Words: captions, caption, words, excluded, filtering",
          "<b>Topic 16</b><br>Words: captions, comprehension, captioning, episodes, listening",
          "<b>Topic 16</b><br>Words: captioning, captions, keyword, videos, learners",
          "<b>Topic 16</b><br>Words: captions, comprehension, videos, captioned, caption",
          "<b>Topic 16</b><br>Words: caption, captions, listening, full, video",
          "<b>Topic 16</b><br>Words: captions, comprehension, vlogs, vlog, pictorial",
          "<b>Topic 16</b><br>Words: captions, caption, full, keyword, proficient",
          "<b>Topic 16</b><br>Words: captions, comprehension, viewing, nonverbal, full"
         ],
         "marker": {
          "color": "#009E73"
         },
         "mode": "lines",
         "name": "16_captions_comprehension_captioning_cap...",
         "type": "scatter",
         "x": [
          2012,
          2013,
          2014,
          2015,
          2017,
          2018,
          2019,
          2020,
          2021,
          2022,
          2023
         ],
         "y": [
          1,
          1,
          6,
          1,
          2,
          2,
          3,
          2,
          1,
          3,
          1
         ]
        },
        {
         "hoverinfo": "text",
         "hovertext": [
          "<b>Topic 17</b><br>Words: vocabulary, lectures, ocw, comprehension, knowledge",
          "<b>Topic 17</b><br>Words: vocabulary, ocw, si, lectures, acquisition",
          "<b>Topic 17</b><br>Words: multimedia, vocabulary, display, information, simultaneous",
          "<b>Topic 17</b><br>Words: vocabulary, of, the, l2, ata",
          "<b>Topic 17</b><br>Words: intervention, vocabulary, ells, ddl, academic",
          "<b>Topic 17</b><br>Words: vocabulary, tmvd, glosses, of, recall",
          "<b>Topic 17</b><br>Words: vocabulary, glossing, academic, intervention, learning",
          "<b>Topic 17</b><br>Words: pictures, meaning, drawings, illustrations, retention",
          "<b>Topic 17</b><br>Words: vocabulary, quizlet, dfs, estimates, academic",
          "<b>Topic 17</b><br>Words: vocabulary, ells, interventions, intervention, initial"
         ],
         "marker": {
          "color": "#F0E442"
         },
         "mode": "lines",
         "name": "17_vocabulary_of_the_and",
         "type": "scatter",
         "x": [
          2012,
          2013,
          2014,
          2016,
          2017,
          2018,
          2019,
          2021,
          2022,
          2023
         ],
         "y": [
          2,
          2,
          1,
          5,
          2,
          2,
          3,
          1,
          3,
          1
         ]
        },
        {
         "hoverinfo": "text",
         "hovertext": [
          "<b>Topic 18</b><br>Words: washback, assessments, portfolio, flipped, negative",
          "<b>Topic 18</b><br>Words: flip, structured, lessons, flipped, semi",
          "<b>Topic 18</b><br>Words: flipped, learning, the, srs, and",
          "<b>Topic 18</b><br>Words: flipped, in, class, learning, the",
          "<b>Topic 18</b><br>Words: flipped, telegram, the, parametric, class",
          "<b>Topic 18</b><br>Words: flipped, classroom, in, the, writing",
          "<b>Topic 18</b><br>Words: flipped, the, learner, reversal, and",
          "<b>Topic 18</b><br>Words: flipped, the, classroom, model, and"
         ],
         "marker": {
          "color": "#D55E00"
         },
         "mode": "lines",
         "name": "18_flipped_the_classroom_in",
         "type": "scatter",
         "x": [
          2012,
          2015,
          2017,
          2018,
          2019,
          2020,
          2021,
          2022
         ],
         "y": [
          1,
          1,
          3,
          3,
          1,
          4,
          3,
          5
         ]
        },
        {
         "hoverinfo": "text",
         "hovertext": [
          "<b>Topic 19</b><br>Words: reading, screen, texts, students, as",
          "<b>Topic 19</b><br>Words: reading, students, the, efl, strategy",
          "<b>Topic 19</b><br>Words: reading, strategy, comprehension, readers, online",
          "<b>Topic 19</b><br>Words: reading, proficient, comprehension, students, annotations",
          "<b>Topic 19</b><br>Words: reading, books, multisensory, extensive, the",
          "<b>Topic 19</b><br>Words: reading, annotations, progress, rt, their",
          "<b>Topic 19</b><br>Words: digital, reading, textbook, textbooks, aloud",
          "<b>Topic 19</b><br>Words: reading, srs, utilization, efl, classroom",
          "<b>Topic 19</b><br>Words: reading, comprehension, exposure, size, online",
          "<b>Topic 19</b><br>Words: reading, mobile, efl, students, comprehension"
         ],
         "marker": {
          "color": "#0072B2"
         },
         "mode": "lines",
         "name": "19_reading_students_comprehension_the",
         "type": "scatter",
         "x": [
          2012,
          2013,
          2014,
          2015,
          2016,
          2017,
          2018,
          2019,
          2020,
          2022
         ],
         "y": [
          1,
          4,
          2,
          3,
          4,
          1,
          1,
          1,
          1,
          2
         ]
        },
        {
         "hoverinfo": "text",
         "hovertext": [
          "<b>Topic 20</b><br>Words: authenticity, claims, social, and, multilingual",
          "<b>Topic 20</b><br>Words: microblogging, tweets, vignettes, constructions, students",
          "<b>Topic 20</b><br>Words: his, hip, serbian, hop, identity",
          "<b>Topic 20</b><br>Words: identity, online, of, the, and",
          "<b>Topic 20</b><br>Words: multilingual, sla, amp, multilingualism, social",
          "<b>Topic 20</b><br>Words: multilingual, drew, as, teachers, we",
          "<b>Topic 20</b><br>Words: fsl, my, digital, ol, as",
          "<b>Topic 20</b><br>Words: relational, identities, connection, choices, semiotic",
          "<b>Topic 20</b><br>Words: identity, digital, and, broadly, turns",
          "<b>Topic 20</b><br>Words: cdl, semiotic, ve, how, and"
         ],
         "marker": {
          "color": "#CC79A7"
         },
         "mode": "lines",
         "name": "20_and_of_identity_in",
         "type": "scatter",
         "x": [
          2013,
          2014,
          2015,
          2016,
          2017,
          2018,
          2019,
          2020,
          2021,
          2023
         ],
         "y": [
          3,
          1,
          2,
          4,
          2,
          1,
          1,
          1,
          1,
          3
         ]
        },
        {
         "hoverinfo": "text",
         "hovertext": [
          "<b>Topic 21</b><br>Words: replication, studies, call, replicated, sla",
          "<b>Topic 21</b><br>Words: calico, journal, research, editor, call",
          "<b>Topic 21</b><br>Words: are, practices, call, linguistics, applied",
          "<b>Topic 21</b><br>Words: quot, call, llt, journals, the",
          "<b>Topic 21</b><br>Words: mctl, el, lctl, lctls, call",
          "<b>Topic 21</b><br>Words: call, transdisciplinarity, transdisciplinary, field, interdisciplinarity",
          "<b>Topic 21</b><br>Words: call, quot, research, products, articles",
          "<b>Topic 21</b><br>Words: call, quot, topics, learning, technologies",
          "<b>Topic 21</b><br>Words: studies, most, the, were, call"
         ],
         "marker": {
          "color": "#E69F00"
         },
         "mode": "lines",
         "name": "21_call_quot_studies_the",
         "type": "scatter",
         "x": [
          2012,
          2013,
          2015,
          2016,
          2018,
          2019,
          2020,
          2021,
          2022
         ],
         "y": [
          1,
          2,
          1,
          4,
          1,
          1,
          2,
          1,
          4
         ]
        },
        {
         "hoverinfo": "text",
         "hovertext": [
          "<b>Topic 22</b><br>Words: translation, blackboard, attitudes, skills, course",
          "<b>Topic 22</b><br>Words: prefer, quot, paraphrasing, paraphrases, writing",
          "<b>Topic 22</b><br>Words: translation, specialized, cooperative, seti, china",
          "<b>Topic 22</b><br>Words: translation, quot, strategies, students, mt",
          "<b>Topic 22</b><br>Words: indices, texts, human, generated, automatically",
          "<b>Topic 22</b><br>Words: texts, gt, step, english, sw",
          "<b>Topic 22</b><br>Words: mt, translation, writing, student, students",
          "<b>Topic 22</b><br>Words: lexical, mt, error, errors, translation",
          "<b>Topic 22</b><br>Words: mt, translation, machine, students, texts",
          "<b>Topic 22</b><br>Words: mt, machine, translation, fl, students"
         ],
         "marker": {
          "color": "#56B4E9"
         },
         "mode": "lines",
         "name": "22_mt_translation_students_machine",
         "type": "scatter",
         "x": [
          2012,
          2015,
          2016,
          2017,
          2018,
          2019,
          2020,
          2021,
          2022,
          2023
         ],
         "y": [
          1,
          1,
          1,
          1,
          1,
          1,
          1,
          2,
          5,
          2
         ]
        },
        {
         "hoverinfo": "text",
         "hovertext": [
          "<b>Topic 23</b><br>Words: robots, rall, robot, interfaces, days",
          "<b>Topic 23</b><br>Words: telepresence, robots, authentic, fl, communicative",
          "<b>Topic 23</b><br>Words: dialogue, we, systems, quot, based",
          "<b>Topic 23</b><br>Words: rall, echo, robot, chatbots, of",
          "<b>Topic 23</b><br>Words: authoring, system, robot, design, refinements",
          "<b>Topic 23</b><br>Words: robot, chatbot, ellie, rall, conversation",
          "<b>Topic 23</b><br>Words: sociomaterialism, chatbots, intelligence, artificial, place"
         ],
         "marker": {
          "color": "#009E73"
         },
         "mode": "lines",
         "name": "23_robot_rall_the_and",
         "type": "scatter",
         "x": [
          2012,
          2018,
          2019,
          2020,
          2021,
          2022,
          2023
         ],
         "y": [
          1,
          1,
          2,
          3,
          1,
          6,
          1
         ]
        },
        {
         "hoverinfo": "text",
         "hovertext": [
          "<b>Topic 24</b><br>Words: fla, anxiety, acmc, affordances, horwitz",
          "<b>Topic 24</b><br>Words: hybrid, redesigned, anxiety, courses, span1010",
          "<b>Topic 24</b><br>Words: ei, emotional, fla, anxiety, group",
          "<b>Topic 24</b><br>Words: anonymity, vw, fla, anxiety, participants",
          "<b>Topic 24</b><br>Words: idle, quantity, diversity, outcomes, anxiety",
          "<b>Topic 24</b><br>Words: anxiety, fla, vr, self, beliefs",
          "<b>Topic 24</b><br>Words: anxiety, fla, vr, flsa, speaking",
          "<b>Topic 24</b><br>Words: flipped, flca, flra, anxiety, foreign"
         ],
         "marker": {
          "color": "#F0E442"
         },
         "mode": "lines",
         "name": "24_anxiety_fla_the_and",
         "type": "scatter",
         "x": [
          2014,
          2016,
          2017,
          2018,
          2019,
          2021,
          2022,
          2023
         ],
         "y": [
          1,
          1,
          2,
          1,
          1,
          2,
          3,
          1
         ]
        }
       ],
       "layout": {
        "height": 450,
        "hoverlabel": {
         "bgcolor": "white",
         "font": {
          "family": "Rockwell",
          "size": 16
         }
        },
        "legend": {
         "title": {
          "text": "<b>Global Topic Representation"
         }
        },
        "template": {
         "data": {
          "bar": [
           {
            "error_x": {
             "color": "rgb(36,36,36)"
            },
            "error_y": {
             "color": "rgb(36,36,36)"
            },
            "marker": {
             "line": {
              "color": "white",
              "width": 0.5
             },
             "pattern": {
              "fillmode": "overlay",
              "size": 10,
              "solidity": 0.2
             }
            },
            "type": "bar"
           }
          ],
          "barpolar": [
           {
            "marker": {
             "line": {
              "color": "white",
              "width": 0.5
             },
             "pattern": {
              "fillmode": "overlay",
              "size": 10,
              "solidity": 0.2
             }
            },
            "type": "barpolar"
           }
          ],
          "carpet": [
           {
            "aaxis": {
             "endlinecolor": "rgb(36,36,36)",
             "gridcolor": "white",
             "linecolor": "white",
             "minorgridcolor": "white",
             "startlinecolor": "rgb(36,36,36)"
            },
            "baxis": {
             "endlinecolor": "rgb(36,36,36)",
             "gridcolor": "white",
             "linecolor": "white",
             "minorgridcolor": "white",
             "startlinecolor": "rgb(36,36,36)"
            },
            "type": "carpet"
           }
          ],
          "choropleth": [
           {
            "colorbar": {
             "outlinewidth": 1,
             "tickcolor": "rgb(36,36,36)",
             "ticks": "outside"
            },
            "type": "choropleth"
           }
          ],
          "contour": [
           {
            "colorbar": {
             "outlinewidth": 1,
             "tickcolor": "rgb(36,36,36)",
             "ticks": "outside"
            },
            "colorscale": [
             [
              0,
              "#440154"
             ],
             [
              0.1111111111111111,
              "#482878"
             ],
             [
              0.2222222222222222,
              "#3e4989"
             ],
             [
              0.3333333333333333,
              "#31688e"
             ],
             [
              0.4444444444444444,
              "#26828e"
             ],
             [
              0.5555555555555556,
              "#1f9e89"
             ],
             [
              0.6666666666666666,
              "#35b779"
             ],
             [
              0.7777777777777778,
              "#6ece58"
             ],
             [
              0.8888888888888888,
              "#b5de2b"
             ],
             [
              1,
              "#fde725"
             ]
            ],
            "type": "contour"
           }
          ],
          "contourcarpet": [
           {
            "colorbar": {
             "outlinewidth": 1,
             "tickcolor": "rgb(36,36,36)",
             "ticks": "outside"
            },
            "type": "contourcarpet"
           }
          ],
          "heatmap": [
           {
            "colorbar": {
             "outlinewidth": 1,
             "tickcolor": "rgb(36,36,36)",
             "ticks": "outside"
            },
            "colorscale": [
             [
              0,
              "#440154"
             ],
             [
              0.1111111111111111,
              "#482878"
             ],
             [
              0.2222222222222222,
              "#3e4989"
             ],
             [
              0.3333333333333333,
              "#31688e"
             ],
             [
              0.4444444444444444,
              "#26828e"
             ],
             [
              0.5555555555555556,
              "#1f9e89"
             ],
             [
              0.6666666666666666,
              "#35b779"
             ],
             [
              0.7777777777777778,
              "#6ece58"
             ],
             [
              0.8888888888888888,
              "#b5de2b"
             ],
             [
              1,
              "#fde725"
             ]
            ],
            "type": "heatmap"
           }
          ],
          "heatmapgl": [
           {
            "colorbar": {
             "outlinewidth": 1,
             "tickcolor": "rgb(36,36,36)",
             "ticks": "outside"
            },
            "colorscale": [
             [
              0,
              "#440154"
             ],
             [
              0.1111111111111111,
              "#482878"
             ],
             [
              0.2222222222222222,
              "#3e4989"
             ],
             [
              0.3333333333333333,
              "#31688e"
             ],
             [
              0.4444444444444444,
              "#26828e"
             ],
             [
              0.5555555555555556,
              "#1f9e89"
             ],
             [
              0.6666666666666666,
              "#35b779"
             ],
             [
              0.7777777777777778,
              "#6ece58"
             ],
             [
              0.8888888888888888,
              "#b5de2b"
             ],
             [
              1,
              "#fde725"
             ]
            ],
            "type": "heatmapgl"
           }
          ],
          "histogram": [
           {
            "marker": {
             "line": {
              "color": "white",
              "width": 0.6
             }
            },
            "type": "histogram"
           }
          ],
          "histogram2d": [
           {
            "colorbar": {
             "outlinewidth": 1,
             "tickcolor": "rgb(36,36,36)",
             "ticks": "outside"
            },
            "colorscale": [
             [
              0,
              "#440154"
             ],
             [
              0.1111111111111111,
              "#482878"
             ],
             [
              0.2222222222222222,
              "#3e4989"
             ],
             [
              0.3333333333333333,
              "#31688e"
             ],
             [
              0.4444444444444444,
              "#26828e"
             ],
             [
              0.5555555555555556,
              "#1f9e89"
             ],
             [
              0.6666666666666666,
              "#35b779"
             ],
             [
              0.7777777777777778,
              "#6ece58"
             ],
             [
              0.8888888888888888,
              "#b5de2b"
             ],
             [
              1,
              "#fde725"
             ]
            ],
            "type": "histogram2d"
           }
          ],
          "histogram2dcontour": [
           {
            "colorbar": {
             "outlinewidth": 1,
             "tickcolor": "rgb(36,36,36)",
             "ticks": "outside"
            },
            "colorscale": [
             [
              0,
              "#440154"
             ],
             [
              0.1111111111111111,
              "#482878"
             ],
             [
              0.2222222222222222,
              "#3e4989"
             ],
             [
              0.3333333333333333,
              "#31688e"
             ],
             [
              0.4444444444444444,
              "#26828e"
             ],
             [
              0.5555555555555556,
              "#1f9e89"
             ],
             [
              0.6666666666666666,
              "#35b779"
             ],
             [
              0.7777777777777778,
              "#6ece58"
             ],
             [
              0.8888888888888888,
              "#b5de2b"
             ],
             [
              1,
              "#fde725"
             ]
            ],
            "type": "histogram2dcontour"
           }
          ],
          "mesh3d": [
           {
            "colorbar": {
             "outlinewidth": 1,
             "tickcolor": "rgb(36,36,36)",
             "ticks": "outside"
            },
            "type": "mesh3d"
           }
          ],
          "parcoords": [
           {
            "line": {
             "colorbar": {
              "outlinewidth": 1,
              "tickcolor": "rgb(36,36,36)",
              "ticks": "outside"
             }
            },
            "type": "parcoords"
           }
          ],
          "pie": [
           {
            "automargin": true,
            "type": "pie"
           }
          ],
          "scatter": [
           {
            "fillpattern": {
             "fillmode": "overlay",
             "size": 10,
             "solidity": 0.2
            },
            "type": "scatter"
           }
          ],
          "scatter3d": [
           {
            "line": {
             "colorbar": {
              "outlinewidth": 1,
              "tickcolor": "rgb(36,36,36)",
              "ticks": "outside"
             }
            },
            "marker": {
             "colorbar": {
              "outlinewidth": 1,
              "tickcolor": "rgb(36,36,36)",
              "ticks": "outside"
             }
            },
            "type": "scatter3d"
           }
          ],
          "scattercarpet": [
           {
            "marker": {
             "colorbar": {
              "outlinewidth": 1,
              "tickcolor": "rgb(36,36,36)",
              "ticks": "outside"
             }
            },
            "type": "scattercarpet"
           }
          ],
          "scattergeo": [
           {
            "marker": {
             "colorbar": {
              "outlinewidth": 1,
              "tickcolor": "rgb(36,36,36)",
              "ticks": "outside"
             }
            },
            "type": "scattergeo"
           }
          ],
          "scattergl": [
           {
            "marker": {
             "colorbar": {
              "outlinewidth": 1,
              "tickcolor": "rgb(36,36,36)",
              "ticks": "outside"
             }
            },
            "type": "scattergl"
           }
          ],
          "scattermapbox": [
           {
            "marker": {
             "colorbar": {
              "outlinewidth": 1,
              "tickcolor": "rgb(36,36,36)",
              "ticks": "outside"
             }
            },
            "type": "scattermapbox"
           }
          ],
          "scatterpolar": [
           {
            "marker": {
             "colorbar": {
              "outlinewidth": 1,
              "tickcolor": "rgb(36,36,36)",
              "ticks": "outside"
             }
            },
            "type": "scatterpolar"
           }
          ],
          "scatterpolargl": [
           {
            "marker": {
             "colorbar": {
              "outlinewidth": 1,
              "tickcolor": "rgb(36,36,36)",
              "ticks": "outside"
             }
            },
            "type": "scatterpolargl"
           }
          ],
          "scatterternary": [
           {
            "marker": {
             "colorbar": {
              "outlinewidth": 1,
              "tickcolor": "rgb(36,36,36)",
              "ticks": "outside"
             }
            },
            "type": "scatterternary"
           }
          ],
          "surface": [
           {
            "colorbar": {
             "outlinewidth": 1,
             "tickcolor": "rgb(36,36,36)",
             "ticks": "outside"
            },
            "colorscale": [
             [
              0,
              "#440154"
             ],
             [
              0.1111111111111111,
              "#482878"
             ],
             [
              0.2222222222222222,
              "#3e4989"
             ],
             [
              0.3333333333333333,
              "#31688e"
             ],
             [
              0.4444444444444444,
              "#26828e"
             ],
             [
              0.5555555555555556,
              "#1f9e89"
             ],
             [
              0.6666666666666666,
              "#35b779"
             ],
             [
              0.7777777777777778,
              "#6ece58"
             ],
             [
              0.8888888888888888,
              "#b5de2b"
             ],
             [
              1,
              "#fde725"
             ]
            ],
            "type": "surface"
           }
          ],
          "table": [
           {
            "cells": {
             "fill": {
              "color": "rgb(237,237,237)"
             },
             "line": {
              "color": "white"
             }
            },
            "header": {
             "fill": {
              "color": "rgb(217,217,217)"
             },
             "line": {
              "color": "white"
             }
            },
            "type": "table"
           }
          ]
         },
         "layout": {
          "annotationdefaults": {
           "arrowhead": 0,
           "arrowwidth": 1
          },
          "autotypenumbers": "strict",
          "coloraxis": {
           "colorbar": {
            "outlinewidth": 1,
            "tickcolor": "rgb(36,36,36)",
            "ticks": "outside"
           }
          },
          "colorscale": {
           "diverging": [
            [
             0,
             "rgb(103,0,31)"
            ],
            [
             0.1,
             "rgb(178,24,43)"
            ],
            [
             0.2,
             "rgb(214,96,77)"
            ],
            [
             0.3,
             "rgb(244,165,130)"
            ],
            [
             0.4,
             "rgb(253,219,199)"
            ],
            [
             0.5,
             "rgb(247,247,247)"
            ],
            [
             0.6,
             "rgb(209,229,240)"
            ],
            [
             0.7,
             "rgb(146,197,222)"
            ],
            [
             0.8,
             "rgb(67,147,195)"
            ],
            [
             0.9,
             "rgb(33,102,172)"
            ],
            [
             1,
             "rgb(5,48,97)"
            ]
           ],
           "sequential": [
            [
             0,
             "#440154"
            ],
            [
             0.1111111111111111,
             "#482878"
            ],
            [
             0.2222222222222222,
             "#3e4989"
            ],
            [
             0.3333333333333333,
             "#31688e"
            ],
            [
             0.4444444444444444,
             "#26828e"
            ],
            [
             0.5555555555555556,
             "#1f9e89"
            ],
            [
             0.6666666666666666,
             "#35b779"
            ],
            [
             0.7777777777777778,
             "#6ece58"
            ],
            [
             0.8888888888888888,
             "#b5de2b"
            ],
            [
             1,
             "#fde725"
            ]
           ],
           "sequentialminus": [
            [
             0,
             "#440154"
            ],
            [
             0.1111111111111111,
             "#482878"
            ],
            [
             0.2222222222222222,
             "#3e4989"
            ],
            [
             0.3333333333333333,
             "#31688e"
            ],
            [
             0.4444444444444444,
             "#26828e"
            ],
            [
             0.5555555555555556,
             "#1f9e89"
            ],
            [
             0.6666666666666666,
             "#35b779"
            ],
            [
             0.7777777777777778,
             "#6ece58"
            ],
            [
             0.8888888888888888,
             "#b5de2b"
            ],
            [
             1,
             "#fde725"
            ]
           ]
          },
          "colorway": [
           "#1F77B4",
           "#FF7F0E",
           "#2CA02C",
           "#D62728",
           "#9467BD",
           "#8C564B",
           "#E377C2",
           "#7F7F7F",
           "#BCBD22",
           "#17BECF"
          ],
          "font": {
           "color": "rgb(36,36,36)"
          },
          "geo": {
           "bgcolor": "white",
           "lakecolor": "white",
           "landcolor": "white",
           "showlakes": true,
           "showland": true,
           "subunitcolor": "white"
          },
          "hoverlabel": {
           "align": "left"
          },
          "hovermode": "closest",
          "mapbox": {
           "style": "light"
          },
          "paper_bgcolor": "white",
          "plot_bgcolor": "white",
          "polar": {
           "angularaxis": {
            "gridcolor": "rgb(232,232,232)",
            "linecolor": "rgb(36,36,36)",
            "showgrid": false,
            "showline": true,
            "ticks": "outside"
           },
           "bgcolor": "white",
           "radialaxis": {
            "gridcolor": "rgb(232,232,232)",
            "linecolor": "rgb(36,36,36)",
            "showgrid": false,
            "showline": true,
            "ticks": "outside"
           }
          },
          "scene": {
           "xaxis": {
            "backgroundcolor": "white",
            "gridcolor": "rgb(232,232,232)",
            "gridwidth": 2,
            "linecolor": "rgb(36,36,36)",
            "showbackground": true,
            "showgrid": false,
            "showline": true,
            "ticks": "outside",
            "zeroline": false,
            "zerolinecolor": "rgb(36,36,36)"
           },
           "yaxis": {
            "backgroundcolor": "white",
            "gridcolor": "rgb(232,232,232)",
            "gridwidth": 2,
            "linecolor": "rgb(36,36,36)",
            "showbackground": true,
            "showgrid": false,
            "showline": true,
            "ticks": "outside",
            "zeroline": false,
            "zerolinecolor": "rgb(36,36,36)"
           },
           "zaxis": {
            "backgroundcolor": "white",
            "gridcolor": "rgb(232,232,232)",
            "gridwidth": 2,
            "linecolor": "rgb(36,36,36)",
            "showbackground": true,
            "showgrid": false,
            "showline": true,
            "ticks": "outside",
            "zeroline": false,
            "zerolinecolor": "rgb(36,36,36)"
           }
          },
          "shapedefaults": {
           "fillcolor": "black",
           "line": {
            "width": 0
           },
           "opacity": 0.3
          },
          "ternary": {
           "aaxis": {
            "gridcolor": "rgb(232,232,232)",
            "linecolor": "rgb(36,36,36)",
            "showgrid": false,
            "showline": true,
            "ticks": "outside"
           },
           "baxis": {
            "gridcolor": "rgb(232,232,232)",
            "linecolor": "rgb(36,36,36)",
            "showgrid": false,
            "showline": true,
            "ticks": "outside"
           },
           "bgcolor": "white",
           "caxis": {
            "gridcolor": "rgb(232,232,232)",
            "linecolor": "rgb(36,36,36)",
            "showgrid": false,
            "showline": true,
            "ticks": "outside"
           }
          },
          "title": {
           "x": 0.05
          },
          "xaxis": {
           "automargin": true,
           "gridcolor": "rgb(232,232,232)",
           "linecolor": "rgb(36,36,36)",
           "showgrid": false,
           "showline": true,
           "ticks": "outside",
           "title": {
            "standoff": 15
           },
           "zeroline": false,
           "zerolinecolor": "rgb(36,36,36)"
          },
          "yaxis": {
           "automargin": true,
           "gridcolor": "rgb(232,232,232)",
           "linecolor": "rgb(36,36,36)",
           "showgrid": false,
           "showline": true,
           "ticks": "outside",
           "title": {
            "standoff": 15
           },
           "zeroline": false,
           "zerolinecolor": "rgb(36,36,36)"
          }
         }
        },
        "title": {
         "font": {
          "color": "Black",
          "size": 22
         },
         "text": "<b>Topics over Time</b>",
         "x": 0.4,
         "xanchor": "center",
         "y": 0.95,
         "yanchor": "top"
        },
        "width": 1250,
        "xaxis": {
         "showgrid": true
        },
        "yaxis": {
         "showgrid": true,
         "title": {
          "text": "Frequency"
         }
        }
       }
      }
     },
     "metadata": {},
     "output_type": "display_data"
    }
   ],
   "source": [
    "model.visualize_topics_over_time(topics_over_time)"
   ]
  },
  {
   "cell_type": "code",
   "execution_count": null,
   "metadata": {},
   "outputs": [],
   "source": [
    "#Extract topics-document assignments\n",
    "document_topics = []\n",
    "for i, topic in enumerate(topics):\n",
    "    document_id = df.loc[i, 'id']\n",
    "    document_title = df.loc[i, 'title']\n",
    "    document_topics.append({'id': document_id, 'title': document_title, 'topic': topic})\n",
    "    #Export to JSON\n",
    "with open('scibert_document_topics.json', 'w') as f:\n",
    "    json.dump(document_topics, f)"
   ]
  }
 ],
 "metadata": {
  "kernelspec": {
   "display_name": "Python 3",
   "language": "python",
   "name": "python3"
  },
  "language_info": {
   "codemirror_mode": {
    "name": "ipython",
    "version": 3
   },
   "file_extension": ".py",
   "mimetype": "text/x-python",
   "name": "python",
   "nbconvert_exporter": "python",
   "pygments_lexer": "ipython3",
   "version": "3.11.0"
  },
  "orig_nbformat": 4
 },
 "nbformat": 4,
 "nbformat_minor": 2
}
